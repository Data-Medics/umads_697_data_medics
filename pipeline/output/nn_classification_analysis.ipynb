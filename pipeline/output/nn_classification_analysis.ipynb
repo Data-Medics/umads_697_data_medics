{
 "cells": [
  {
   "cell_type": "code",
   "execution_count": 1,
   "id": "0e658a97",
   "metadata": {
    "execution": {
     "iopub.execute_input": "2022-08-13T22:21:38.247037Z",
     "iopub.status.busy": "2022-08-13T22:21:38.246626Z",
     "iopub.status.idle": "2022-08-13T22:21:38.257246Z",
     "shell.execute_reply": "2022-08-13T22:21:38.256380Z"
    },
    "papermill": {
     "duration": 0.024266,
     "end_time": "2022-08-13T22:21:38.259700",
     "exception": false,
     "start_time": "2022-08-13T22:21:38.235434",
     "status": "completed"
    },
    "tags": [
     "parameters"
    ]
   },
   "outputs": [],
   "source": [
    "# declare a list tasks whose products you want to use as inputs\n",
    "upstream = None\n"
   ]
  },
  {
   "cell_type": "code",
   "execution_count": 2,
   "id": "512cb827",
   "metadata": {
    "execution": {
     "iopub.execute_input": "2022-08-13T22:21:38.273803Z",
     "iopub.status.busy": "2022-08-13T22:21:38.273531Z",
     "iopub.status.idle": "2022-08-13T22:21:38.276983Z",
     "shell.execute_reply": "2022-08-13T22:21:38.276154Z"
    },
    "papermill": {
     "duration": 0.012257,
     "end_time": "2022-08-13T22:21:38.278999",
     "exception": false,
     "start_time": "2022-08-13T22:21:38.266742",
     "status": "completed"
    },
    "tags": [
     "injected-parameters"
    ]
   },
   "outputs": [],
   "source": [
    "# Parameters\n",
    "epochs = 10\n",
    "product = {\n",
    "    \"nb\": \"/Users/mboussarov/_umsi/Capstone/umads_697_data_medics/pipeline/output/nn_classification_analysis.ipynb\"\n",
    "}\n"
   ]
  },
  {
   "cell_type": "markdown",
   "id": "350a8f75",
   "metadata": {
    "papermill": {
     "duration": 0.00561,
     "end_time": "2022-08-13T22:21:38.290002",
     "exception": false,
     "start_time": "2022-08-13T22:21:38.284392",
     "status": "completed"
    },
    "tags": []
   },
   "source": [
    "## Classification Comparison Using Neural Networks"
   ]
  },
  {
   "cell_type": "code",
   "execution_count": 3,
   "id": "f7c7104d",
   "metadata": {
    "execution": {
     "iopub.execute_input": "2022-08-13T22:21:38.302213Z",
     "iopub.status.busy": "2022-08-13T22:21:38.301928Z",
     "iopub.status.idle": "2022-08-13T22:21:40.051601Z",
     "shell.execute_reply": "2022-08-13T22:21:40.050482Z"
    },
    "papermill": {
     "duration": 1.758859,
     "end_time": "2022-08-13T22:21:40.054399",
     "exception": false,
     "start_time": "2022-08-13T22:21:38.295540",
     "status": "completed"
    },
    "tags": []
   },
   "outputs": [],
   "source": [
    "import os\n",
    "import pandas as pd\n",
    "import sys\n",
    "import spacy\n",
    "from spacy.language import Language\n",
    "import time\n",
    "import torch\n",
    "from torchtext.data.utils import get_tokenizer\n",
    "from torchtext.vocab import build_vocab_from_iterator\n",
    "from torch.utils.data import DataLoader\n",
    "from torch import nn\n",
    "from torch.nn.utils.rnn import pad_sequence, pack_padded_sequence, pad_packed_sequence\n",
    "from torch.nn import functional as F\n",
    "from torch.optim import Adam\n",
    "from sklearn.metrics import accuracy_score, f1_score"
   ]
  },
  {
   "cell_type": "code",
   "execution_count": 4,
   "id": "9b1c3d0a",
   "metadata": {
    "execution": {
     "iopub.execute_input": "2022-08-13T22:21:40.069712Z",
     "iopub.status.busy": "2022-08-13T22:21:40.069295Z",
     "iopub.status.idle": "2022-08-13T22:21:40.073255Z",
     "shell.execute_reply": "2022-08-13T22:21:40.072529Z"
    },
    "papermill": {
     "duration": 0.013859,
     "end_time": "2022-08-13T22:21:40.075545",
     "exception": false,
     "start_time": "2022-08-13T22:21:40.061686",
     "status": "completed"
    },
    "tags": []
   },
   "outputs": [],
   "source": [
    "upstream = []\n",
    "nrows = None\n",
    "epochs = 10"
   ]
  },
  {
   "cell_type": "code",
   "execution_count": 5,
   "id": "a896962a",
   "metadata": {
    "execution": {
     "iopub.execute_input": "2022-08-13T22:21:40.089914Z",
     "iopub.status.busy": "2022-08-13T22:21:40.089619Z",
     "iopub.status.idle": "2022-08-13T22:21:40.097294Z",
     "shell.execute_reply": "2022-08-13T22:21:40.096601Z"
    },
    "papermill": {
     "duration": 0.017075,
     "end_time": "2022-08-13T22:21:40.099133",
     "exception": false,
     "start_time": "2022-08-13T22:21:40.082058",
     "status": "completed"
    },
    "tags": []
   },
   "outputs": [],
   "source": [
    "sys.path.insert(0, \"..\")\n",
    "\n",
    "# project imports\n",
    "import locations as loc\n",
    "\n",
    "from nn_models import TweetClassificationLSTM, TweetClassificationEmbedder\n",
    "\n",
    "# run model on gpu if possible\n",
    "device = torch.device(\"cuda\" if torch.cuda.is_available() else \"cpu\")\n",
    "\n",
    "# location of saved lemmatized texts\n",
    "lemma_sents_file_location = os.path.join(loc.outputs, \"train_lemma_sents.csv\")\n",
    "dev_lemma_sents_file_location = os.path.join(loc.outputs, \"dev_lemma_sents.csv\")\n",
    "test_lemma_sents_file_location = os.path.join(loc.outputs, \"test_lemma_sents.csv\")\n",
    "\n",
    "# if true, lemmatize the raw tweets\n",
    "# if false, load the saved, processed tweets (assumes the lemmatized tweets already exist)\n",
    "train_exists = os.path.exists(lemma_sents_file_location)\n",
    "dev_exists = os.path.exists(dev_lemma_sents_file_location)\n",
    "test_exists = os.path.exists(test_lemma_sents_file_location)\n",
    "\n",
    "lemmatize_texts = any(not i for i in [train_exists, dev_exists, test_exists])"
   ]
  },
  {
   "cell_type": "code",
   "execution_count": 6,
   "id": "7bb2753e",
   "metadata": {
    "execution": {
     "iopub.execute_input": "2022-08-13T22:21:40.111763Z",
     "iopub.status.busy": "2022-08-13T22:21:40.111364Z",
     "iopub.status.idle": "2022-08-13T22:21:40.657024Z",
     "shell.execute_reply": "2022-08-13T22:21:40.656222Z"
    },
    "papermill": {
     "duration": 0.554313,
     "end_time": "2022-08-13T22:21:40.658969",
     "exception": false,
     "start_time": "2022-08-13T22:21:40.104656",
     "status": "completed"
    },
    "tags": []
   },
   "outputs": [],
   "source": [
    "# load a spacy language model\n",
    "nlp = spacy.load(\"en_core_web_sm\")\n",
    "stopwords = nlp.Defaults.stop_words"
   ]
  },
  {
   "cell_type": "code",
   "execution_count": 7,
   "id": "0d435cc3",
   "metadata": {
    "execution": {
     "iopub.execute_input": "2022-08-13T22:21:40.670592Z",
     "iopub.status.busy": "2022-08-13T22:21:40.670349Z",
     "iopub.status.idle": "2022-08-13T22:21:40.678431Z",
     "shell.execute_reply": "2022-08-13T22:21:40.677898Z"
    },
    "papermill": {
     "duration": 0.01664,
     "end_time": "2022-08-13T22:21:40.680640",
     "exception": false,
     "start_time": "2022-08-13T22:21:40.664000",
     "status": "completed"
    },
    "tags": []
   },
   "outputs": [
    {
     "data": {
      "text/plain": [
       "[('tok2vec', <spacy.pipeline.tok2vec.Tok2Vec at 0x7fbdae69d9a0>),\n",
       " ('tagger', <spacy.pipeline.tagger.Tagger at 0x7fbdae8e30a0>),\n",
       " ('parser', <spacy.pipeline.dep_parser.DependencyParser at 0x7fbdae58aac0>),\n",
       " ('attribute_ruler',\n",
       "  <spacy.pipeline.attributeruler.AttributeRuler at 0x7fbdae8d1900>),\n",
       " ('lemmatizer',\n",
       "  <spacy.lang.en.lemmatizer.EnglishLemmatizer at 0x7fbdae5af3c0>),\n",
       " ('ner', <spacy.pipeline.ner.EntityRecognizer at 0x7fbdae58aa50>)]"
      ]
     },
     "execution_count": 7,
     "metadata": {},
     "output_type": "execute_result"
    }
   ],
   "source": [
    "# here are the transformations the spacy nlp object will perform on every doc\n",
    "nlp.pipeline"
   ]
  },
  {
   "cell_type": "code",
   "execution_count": 8,
   "id": "eabfaa8c",
   "metadata": {
    "execution": {
     "iopub.execute_input": "2022-08-13T22:21:40.692148Z",
     "iopub.status.busy": "2022-08-13T22:21:40.691903Z",
     "iopub.status.idle": "2022-08-13T22:21:40.883514Z",
     "shell.execute_reply": "2022-08-13T22:21:40.882720Z"
    },
    "papermill": {
     "duration": 0.199938,
     "end_time": "2022-08-13T22:21:40.885736",
     "exception": false,
     "start_time": "2022-08-13T22:21:40.685798",
     "status": "completed"
    },
    "tags": []
   },
   "outputs": [],
   "source": [
    "# load the data, sample the DF if interested\n",
    "# mostly just to get the pipeline working, training/test should be done on the full data set\n",
    "data_path = os.path.join(loc.data, \"all_combined\", \"all_train.tsv\")\n",
    "dev_data_path = os.path.join(loc.data, \"all_combined\", \"all_dev.tsv\")\n",
    "test_data_path = os.path.join(loc.data, \"all_combined\", \"all_test.tsv\")\n",
    "\n",
    "if isinstance(nrows, int):\n",
    "    df = pd.read_csv(data_path, sep=\"\\t\", nrows=nrows)\n",
    "    dev_df = pd.read_csv(dev_data_path, sep=\"\\t\", nrows=nrows)\n",
    "    test_df = pd.read_csv(test_data_path, sep=\"\\t\", nrows=nrows)\n",
    "else:\n",
    "    df = pd.read_csv(data_path, sep=\"\\t\")\n",
    "    dev_df = pd.read_csv(dev_data_path, sep=\"\\t\")\n",
    "    test_df = pd.read_csv(test_data_path, sep=\"\\t\")"
   ]
  },
  {
   "cell_type": "code",
   "execution_count": 9,
   "id": "c87c87b6",
   "metadata": {
    "execution": {
     "iopub.execute_input": "2022-08-13T22:21:40.898749Z",
     "iopub.status.busy": "2022-08-13T22:21:40.898435Z",
     "iopub.status.idle": "2022-08-13T22:21:40.905080Z",
     "shell.execute_reply": "2022-08-13T22:21:40.904381Z"
    },
    "papermill": {
     "duration": 0.015194,
     "end_time": "2022-08-13T22:21:40.906922",
     "exception": false,
     "start_time": "2022-08-13T22:21:40.891728",
     "status": "completed"
    },
    "tags": []
   },
   "outputs": [],
   "source": [
    "label_encoder_dict = {i: idx for idx, i in enumerate(df[\"class_label\"].unique())}"
   ]
  },
  {
   "cell_type": "code",
   "execution_count": 10,
   "id": "2c328540",
   "metadata": {
    "execution": {
     "iopub.execute_input": "2022-08-13T22:21:40.919277Z",
     "iopub.status.busy": "2022-08-13T22:21:40.918930Z",
     "iopub.status.idle": "2022-08-13T22:21:40.927115Z",
     "shell.execute_reply": "2022-08-13T22:21:40.926366Z"
    },
    "papermill": {
     "duration": 0.016514,
     "end_time": "2022-08-13T22:21:40.929026",
     "exception": false,
     "start_time": "2022-08-13T22:21:40.912512",
     "status": "completed"
    },
    "tags": []
   },
   "outputs": [
    {
     "name": "stdout",
     "output_type": "stream",
     "text": [
      "'lemmatize_texts' is set to False - loading saved texts\n"
     ]
    }
   ],
   "source": [
    "# apply the lemmatizer to al lthe tweets\n",
    "# and save the outputs to csv files\n",
    "if lemmatize_texts:\n",
    "    # apply the spacy pipeline to the tweets\n",
    "    docs = df[\"tweet_text\"].apply(lambda x: nlp(x))\n",
    "    labels = df[\"class_label\"].apply(lambda a: label_encoder_dict[a])\n",
    "    pd.DataFrame({\"labels\": labels, \"tweet_text\": docs}).to_csv(lemma_sents_file_location, index=False)\n",
    "\n",
    "    # apply the spacy pipeline to the tweets\n",
    "    dev_docs = dev_df[\"tweet_text\"].apply(lambda x: nlp(x))\n",
    "    dev_labels = dev_df[\"class_label\"].apply(lambda a: label_encoder_dict[a])\n",
    "    pd.DataFrame({\"labels\": dev_labels, \"tweet_text\": dev_docs}).to_csv(dev_lemma_sents_file_location, index=False)\n",
    "\n",
    "    # apply the spacy pipeline to the tweets\n",
    "    test_docs = test_df[\"tweet_text\"].apply(lambda x: nlp(x))\n",
    "    test_labels = test_df[\"class_label\"].apply(lambda a: label_encoder_dict[a])\n",
    "    pd.DataFrame({\"labels\": test_labels, \"tweet_text\": test_docs}).to_csv(test_lemma_sents_file_location, index=False)\n",
    "\n",
    "else:\n",
    "    print(\"'lemmatize_texts' is set to False - loading saved texts\")"
   ]
  },
  {
   "cell_type": "code",
   "execution_count": 11,
   "id": "059f2a1a",
   "metadata": {
    "execution": {
     "iopub.execute_input": "2022-08-13T22:21:40.941764Z",
     "iopub.status.busy": "2022-08-13T22:21:40.941423Z",
     "iopub.status.idle": "2022-08-13T22:21:41.111507Z",
     "shell.execute_reply": "2022-08-13T22:21:41.110855Z"
    },
    "papermill": {
     "duration": 0.178578,
     "end_time": "2022-08-13T22:21:41.113536",
     "exception": false,
     "start_time": "2022-08-13T22:21:40.934958",
     "status": "completed"
    },
    "tags": []
   },
   "outputs": [],
   "source": [
    "# read the lemmatized sentence\n",
    "t = pd.read_csv(lemma_sents_file_location)\n",
    "lemma_docs = list(zip(t.labels.to_list(), t.tweet_text.to_list()))\n",
    "\n",
    "t = pd.read_csv(dev_lemma_sents_file_location)\n",
    "dev_lemma_docs = list(zip(t.labels.to_list(), t.tweet_text.to_list()))\n",
    "\n",
    "t = pd.read_csv(test_lemma_sents_file_location)\n",
    "test_lemma_docs = list(zip(t.labels.to_list(), t.tweet_text.to_list()))"
   ]
  },
  {
   "cell_type": "markdown",
   "id": "916442e0",
   "metadata": {
    "papermill": {
     "duration": 0.005664,
     "end_time": "2022-08-13T22:21:41.125196",
     "exception": false,
     "start_time": "2022-08-13T22:21:41.119532",
     "status": "completed"
    },
    "tags": []
   },
   "source": [
    "#### Prepare Data and Build Helper Functions"
   ]
  },
  {
   "cell_type": "code",
   "execution_count": 12,
   "id": "35e8accb",
   "metadata": {
    "execution": {
     "iopub.execute_input": "2022-08-13T22:21:41.139124Z",
     "iopub.status.busy": "2022-08-13T22:21:41.138837Z",
     "iopub.status.idle": "2022-08-13T22:21:41.142870Z",
     "shell.execute_reply": "2022-08-13T22:21:41.141989Z"
    },
    "papermill": {
     "duration": 0.01348,
     "end_time": "2022-08-13T22:21:41.144960",
     "exception": false,
     "start_time": "2022-08-13T22:21:41.131480",
     "status": "completed"
    },
    "tags": []
   },
   "outputs": [],
   "source": [
    "# pytorch helper functions\n",
    "# used with `build_vocab_from_iterator` to build the word to token mapping\n",
    "\n",
    "def yield_tokens(doc_strings):\n",
    "    # discard the label because it does not need to be tokenized\n",
    "    for _, text in doc_strings:\n",
    "        # yield the tokenized text\n",
    "        yield tokenizer(text)"
   ]
  },
  {
   "cell_type": "code",
   "execution_count": 13,
   "id": "2b7e2772",
   "metadata": {
    "execution": {
     "iopub.execute_input": "2022-08-13T22:21:41.156850Z",
     "iopub.status.busy": "2022-08-13T22:21:41.156591Z",
     "iopub.status.idle": "2022-08-13T22:21:41.160229Z",
     "shell.execute_reply": "2022-08-13T22:21:41.159441Z"
    },
    "papermill": {
     "duration": 0.012032,
     "end_time": "2022-08-13T22:21:41.162140",
     "exception": false,
     "start_time": "2022-08-13T22:21:41.150108",
     "status": "completed"
    },
    "tags": []
   },
   "outputs": [],
   "source": [
    "# use the torchtext tokenizer\n",
    "# a little redundent because we have spacy, but this allows for the entire pipeline to run\n",
    "# in torch if we want\n",
    "\n",
    "tokenizer = get_tokenizer('basic_english')"
   ]
  },
  {
   "cell_type": "code",
   "execution_count": 14,
   "id": "42dc0447",
   "metadata": {
    "execution": {
     "iopub.execute_input": "2022-08-13T22:21:41.173480Z",
     "iopub.status.busy": "2022-08-13T22:21:41.173250Z",
     "iopub.status.idle": "2022-08-13T22:21:42.337277Z",
     "shell.execute_reply": "2022-08-13T22:21:42.336361Z"
    },
    "papermill": {
     "duration": 1.172363,
     "end_time": "2022-08-13T22:21:42.339878",
     "exception": false,
     "start_time": "2022-08-13T22:21:41.167515",
     "status": "completed"
    },
    "tags": []
   },
   "outputs": [],
   "source": [
    "# build the torch encodings\n",
    "# add a special character for out of bag words\n",
    "vocab = build_vocab_from_iterator(yield_tokens(lemma_docs), specials=[\"<unk>\"])\n",
    "vocab.set_default_index(vocab[\"<unk>\"])"
   ]
  },
  {
   "cell_type": "code",
   "execution_count": 15,
   "id": "9628a679",
   "metadata": {
    "execution": {
     "iopub.execute_input": "2022-08-13T22:21:42.356619Z",
     "iopub.status.busy": "2022-08-13T22:21:42.356054Z",
     "iopub.status.idle": "2022-08-13T22:21:42.360032Z",
     "shell.execute_reply": "2022-08-13T22:21:42.359394Z"
    },
    "papermill": {
     "duration": 0.013975,
     "end_time": "2022-08-13T22:21:42.362019",
     "exception": false,
     "start_time": "2022-08-13T22:21:42.348044",
     "status": "completed"
    },
    "tags": []
   },
   "outputs": [],
   "source": [
    "# convenience functions to transform data\n",
    "text_transform = lambda x: vocab(tokenizer(x))\n",
    "label_transform = lambda x: int(x)"
   ]
  },
  {
   "cell_type": "code",
   "execution_count": 16,
   "id": "32972dfe",
   "metadata": {
    "execution": {
     "iopub.execute_input": "2022-08-13T22:21:42.375533Z",
     "iopub.status.busy": "2022-08-13T22:21:42.375252Z",
     "iopub.status.idle": "2022-08-13T22:21:42.381727Z",
     "shell.execute_reply": "2022-08-13T22:21:42.381088Z"
    },
    "papermill": {
     "duration": 0.015599,
     "end_time": "2022-08-13T22:21:42.383729",
     "exception": false,
     "start_time": "2022-08-13T22:21:42.368130",
     "status": "completed"
    },
    "tags": []
   },
   "outputs": [],
   "source": [
    "def collate_batch_embedder(batch):\n",
    "    label_list, text_list, offsets = [], [], [0]\n",
    "    for (_label, _text) in batch:\n",
    "        label_list.append(label_transform(_label))\n",
    "        processed_text = torch.tensor(text_transform(_text), dtype=torch.int64)\n",
    "        text_list.append(processed_text)\n",
    "        offsets.append(processed_text.size(0))\n",
    "    label_list = torch.tensor(label_list, dtype=torch.int64)\n",
    "    offsets = torch.tensor(offsets[:-1]).cumsum(dim=0)\n",
    "    text_list = torch.cat(text_list)\n",
    "    return label_list.to(device), text_list.to(device), offsets.to(device)\n",
    "\n",
    "# function will run on the batches of data BEFORE they are passed to the model\n",
    "def collate_batch_lstm(batch):\n",
    "    label_list, text_list = [], []\n",
    "    for (_label, _text) in batch:\n",
    "        label_list.append(label_transform(_label))\n",
    "        # t_text = text_transform(_text)[:max_words]\n",
    "        processed_text = torch.tensor(text_transform(_text)[:max_words])\n",
    "        text_list.append(processed_text)\n",
    "    return torch.tensor(label_list), pad_sequence(text_list, padding_value=3.0).T"
   ]
  },
  {
   "cell_type": "code",
   "execution_count": 17,
   "id": "991cff38",
   "metadata": {
    "execution": {
     "iopub.execute_input": "2022-08-13T22:21:42.396739Z",
     "iopub.status.busy": "2022-08-13T22:21:42.396458Z",
     "iopub.status.idle": "2022-08-13T22:21:42.399855Z",
     "shell.execute_reply": "2022-08-13T22:21:42.399208Z"
    },
    "papermill": {
     "duration": 0.012244,
     "end_time": "2022-08-13T22:21:42.401927",
     "exception": false,
     "start_time": "2022-08-13T22:21:42.389683",
     "status": "completed"
    },
    "tags": []
   },
   "outputs": [],
   "source": [
    "# number of output layers\n",
    "# should be 10 because there are 10 classes\n",
    "output_dim = len(label_encoder_dict)"
   ]
  },
  {
   "cell_type": "markdown",
   "id": "5b7f367f",
   "metadata": {
    "papermill": {
     "duration": 0.005952,
     "end_time": "2022-08-13T22:21:42.413987",
     "exception": false,
     "start_time": "2022-08-13T22:21:42.408035",
     "status": "completed"
    },
    "tags": []
   },
   "source": [
    "### Embedding Bag Model"
   ]
  },
  {
   "cell_type": "code",
   "execution_count": 18,
   "id": "aa5c5829",
   "metadata": {
    "execution": {
     "iopub.execute_input": "2022-08-13T22:21:42.425466Z",
     "iopub.status.busy": "2022-08-13T22:21:42.425225Z",
     "iopub.status.idle": "2022-08-13T22:21:42.479538Z",
     "shell.execute_reply": "2022-08-13T22:21:42.478256Z"
    },
    "papermill": {
     "duration": 0.062343,
     "end_time": "2022-08-13T22:21:42.481686",
     "exception": false,
     "start_time": "2022-08-13T22:21:42.419343",
     "status": "completed"
    },
    "tags": []
   },
   "outputs": [],
   "source": [
    "# model run variables\n",
    "vocab_size = len(vocab)\n",
    "emsize = 64\n",
    "batch_log_freq = 25\n",
    "\n",
    "\n",
    "# instantiate model\n",
    "tweet_embedding_classifier = TweetClassificationEmbedder(vocab_size, emsize, output_dim).to(device)"
   ]
  },
  {
   "cell_type": "code",
   "execution_count": 19,
   "id": "a0dd6103",
   "metadata": {
    "execution": {
     "iopub.execute_input": "2022-08-13T22:21:42.495091Z",
     "iopub.status.busy": "2022-08-13T22:21:42.494805Z",
     "iopub.status.idle": "2022-08-13T22:21:42.502248Z",
     "shell.execute_reply": "2022-08-13T22:21:42.501614Z"
    },
    "papermill": {
     "duration": 0.016203,
     "end_time": "2022-08-13T22:21:42.504150",
     "exception": false,
     "start_time": "2022-08-13T22:21:42.487947",
     "status": "completed"
    },
    "tags": []
   },
   "outputs": [],
   "source": [
    "# define the training loop\n",
    "def train(dataloader):\n",
    "    tweet_embedding_classifier.train()\n",
    "    total_acc, total_count = 0, 0\n",
    "\n",
    "    for idx, (label, text, offsets) in enumerate(dataloader):\n",
    "        # zero out the gradient for a new run\n",
    "        optimizer.zero_grad()\n",
    "        # create a prediction\n",
    "        predicted_label = tweet_embedding_classifier(text, offsets)\n",
    "        # calculate loss and run backprop\n",
    "        loss = criterion(predicted_label, label)\n",
    "        loss.backward()\n",
    "        torch.nn.utils.clip_grad_norm_(tweet_embedding_classifier.parameters(), 0.1)\n",
    "        # update weights\n",
    "        optimizer.step()\n",
    "        total_acc += (predicted_label.argmax(1) == label).sum().item()\n",
    "        total_count += label.size(0)\n",
    "        if idx % batch_log_freq == 0 and idx > 0:\n",
    "            accuracy = total_acc / total_count\n",
    "            print(f\"Epoch: {epoch} Batch: {idx} of {total_batches_per_epoch}.  Accuracy: {accuracy:.2f}\\n\")\n",
    "            total_acc, total_count = 0, 0\n",
    "\n",
    "\n",
    "def evaluate(dataloader):\n",
    "    tweet_embedding_classifier.eval()\n",
    "    total_acc, total_count = 0, 0\n",
    "\n",
    "    with torch.no_grad():\n",
    "        for idx, (label, text, offsets) in enumerate(dataloader):\n",
    "            predicted_label = tweet_embedding_classifier(text, offsets)\n",
    "            loss = criterion(predicted_label, label)\n",
    "            total_acc += (predicted_label.argmax(1) == label).sum().item()\n",
    "            total_count += label.size(0)\n",
    "    return total_acc / total_count"
   ]
  },
  {
   "cell_type": "code",
   "execution_count": 20,
   "id": "0fb1cfe0",
   "metadata": {
    "execution": {
     "iopub.execute_input": "2022-08-13T22:21:42.517358Z",
     "iopub.status.busy": "2022-08-13T22:21:42.517087Z",
     "iopub.status.idle": "2022-08-13T22:21:42.522553Z",
     "shell.execute_reply": "2022-08-13T22:21:42.521947Z"
    },
    "papermill": {
     "duration": 0.014394,
     "end_time": "2022-08-13T22:21:42.524503",
     "exception": false,
     "start_time": "2022-08-13T22:21:42.510109",
     "status": "completed"
    },
    "tags": []
   },
   "outputs": [],
   "source": [
    "# Hyperparameters\n",
    "# set from pipeline.yaml\n",
    "# EPOCHS = 15\n",
    "LR = 5  # learning rate\n",
    "BATCH_SIZE = 64  # batch size for training\n",
    "\n",
    "criterion = torch.nn.CrossEntropyLoss()\n",
    "optimizer = torch.optim.SGD(tweet_embedding_classifier.parameters(), lr=LR)\n",
    "scheduler = torch.optim.lr_scheduler.StepLR(optimizer, 1.0, gamma=0.1)\n",
    "total_accu = None\n",
    "\n",
    "train_loader = DataLoader(lemma_docs, batch_size=BATCH_SIZE,\n",
    "                              shuffle=True, collate_fn=collate_batch_embedder)\n",
    "val_loader = DataLoader(dev_lemma_docs, batch_size=BATCH_SIZE,\n",
    "                              shuffle=True, collate_fn=collate_batch_embedder)\n",
    "test_loader = DataLoader(test_lemma_docs, batch_size=BATCH_SIZE,\n",
    "                             shuffle=True, collate_fn=collate_batch_embedder)\n",
    "\n",
    "total_batches_per_epoch = len(train_loader)"
   ]
  },
  {
   "cell_type": "code",
   "execution_count": 21,
   "id": "5c0f71af",
   "metadata": {
    "execution": {
     "iopub.execute_input": "2022-08-13T22:21:42.536077Z",
     "iopub.status.busy": "2022-08-13T22:21:42.535843Z",
     "iopub.status.idle": "2022-08-13T22:22:14.928630Z",
     "shell.execute_reply": "2022-08-13T22:22:14.928114Z"
    },
    "papermill": {
     "duration": 32.400562,
     "end_time": "2022-08-13T22:22:14.930430",
     "exception": false,
     "start_time": "2022-08-13T22:21:42.529868",
     "status": "completed"
    },
    "tags": []
   },
   "outputs": [
    {
     "name": "stdout",
     "output_type": "stream",
     "text": [
      "Epoch: 1 Batch: 25 of 837.  Accuracy: 0.27\n",
      "\n",
      "Epoch: 1 Batch: 50 of 837.  Accuracy: 0.31\n",
      "\n",
      "Epoch: 1 Batch: 75 of 837.  Accuracy: 0.36\n",
      "\n"
     ]
    },
    {
     "name": "stdout",
     "output_type": "stream",
     "text": [
      "Epoch: 1 Batch: 100 of 837.  Accuracy: 0.43\n",
      "\n",
      "Epoch: 1 Batch: 125 of 837.  Accuracy: 0.47\n",
      "\n",
      "Epoch: 1 Batch: 150 of 837.  Accuracy: 0.49\n",
      "\n"
     ]
    },
    {
     "name": "stdout",
     "output_type": "stream",
     "text": [
      "Epoch: 1 Batch: 175 of 837.  Accuracy: 0.50\n",
      "\n",
      "Epoch: 1 Batch: 200 of 837.  Accuracy: 0.50\n",
      "\n",
      "Epoch: 1 Batch: 225 of 837.  Accuracy: 0.54\n",
      "\n"
     ]
    },
    {
     "name": "stdout",
     "output_type": "stream",
     "text": [
      "Epoch: 1 Batch: 250 of 837.  Accuracy: 0.57\n",
      "\n",
      "Epoch: 1 Batch: 275 of 837.  Accuracy: 0.55\n",
      "\n",
      "Epoch: 1 Batch: 300 of 837.  Accuracy: 0.60\n",
      "\n"
     ]
    },
    {
     "name": "stdout",
     "output_type": "stream",
     "text": [
      "Epoch: 1 Batch: 325 of 837.  Accuracy: 0.59\n",
      "\n",
      "Epoch: 1 Batch: 350 of 837.  Accuracy: 0.62\n",
      "\n",
      "Epoch: 1 Batch: 375 of 837.  Accuracy: 0.62\n",
      "\n"
     ]
    },
    {
     "name": "stdout",
     "output_type": "stream",
     "text": [
      "Epoch: 1 Batch: 400 of 837.  Accuracy: 0.62\n",
      "\n",
      "Epoch: 1 Batch: 425 of 837.  Accuracy: 0.63\n",
      "\n",
      "Epoch: 1 Batch: 450 of 837.  Accuracy: 0.64\n",
      "\n"
     ]
    },
    {
     "name": "stdout",
     "output_type": "stream",
     "text": [
      "Epoch: 1 Batch: 475 of 837.  Accuracy: 0.65\n",
      "\n",
      "Epoch: 1 Batch: 500 of 837.  Accuracy: 0.65\n",
      "\n",
      "Epoch: 1 Batch: 525 of 837.  Accuracy: 0.61\n",
      "\n"
     ]
    },
    {
     "name": "stdout",
     "output_type": "stream",
     "text": [
      "Epoch: 1 Batch: 550 of 837.  Accuracy: 0.64\n",
      "\n",
      "Epoch: 1 Batch: 575 of 837.  Accuracy: 0.66\n",
      "\n",
      "Epoch: 1 Batch: 600 of 837.  Accuracy: 0.67\n",
      "\n"
     ]
    },
    {
     "name": "stdout",
     "output_type": "stream",
     "text": [
      "Epoch: 1 Batch: 625 of 837.  Accuracy: 0.67\n",
      "\n",
      "Epoch: 1 Batch: 650 of 837.  Accuracy: 0.66\n",
      "\n",
      "Epoch: 1 Batch: 675 of 837.  Accuracy: 0.66\n",
      "\n"
     ]
    },
    {
     "name": "stdout",
     "output_type": "stream",
     "text": [
      "Epoch: 1 Batch: 700 of 837.  Accuracy: 0.67\n",
      "\n",
      "Epoch: 1 Batch: 725 of 837.  Accuracy: 0.68\n",
      "\n",
      "Epoch: 1 Batch: 750 of 837.  Accuracy: 0.66\n",
      "\n"
     ]
    },
    {
     "name": "stdout",
     "output_type": "stream",
     "text": [
      "Epoch: 1 Batch: 775 of 837.  Accuracy: 0.65\n",
      "\n",
      "Epoch: 1 Batch: 800 of 837.  Accuracy: 0.69\n",
      "\n",
      "Epoch: 1 Batch: 825 of 837.  Accuracy: 0.68\n",
      "\n"
     ]
    },
    {
     "name": "stdout",
     "output_type": "stream",
     "text": [
      "#########################\n",
      "\n",
      "VALIDATION SET: Epoch: 1 Accuracy: 0.68\n",
      "\n",
      "#########################\n",
      "Epoch: 2 Batch: 25 of 837.  Accuracy: 0.70\n",
      "\n",
      "Epoch: 2 Batch: 50 of 837.  Accuracy: 0.68\n",
      "\n"
     ]
    },
    {
     "name": "stdout",
     "output_type": "stream",
     "text": [
      "Epoch: 2 Batch: 75 of 837.  Accuracy: 0.69\n",
      "\n",
      "Epoch: 2 Batch: 100 of 837.  Accuracy: 0.70\n",
      "\n",
      "Epoch: 2 Batch: 125 of 837.  Accuracy: 0.68\n",
      "\n"
     ]
    },
    {
     "name": "stdout",
     "output_type": "stream",
     "text": [
      "Epoch: 2 Batch: 150 of 837.  Accuracy: 0.69\n",
      "\n",
      "Epoch: 2 Batch: 175 of 837.  Accuracy: 0.71\n",
      "\n",
      "Epoch: 2 Batch: 200 of 837.  Accuracy: 0.71\n",
      "\n"
     ]
    },
    {
     "name": "stdout",
     "output_type": "stream",
     "text": [
      "Epoch: 2 Batch: 225 of 837.  Accuracy: 0.67\n",
      "\n",
      "Epoch: 2 Batch: 250 of 837.  Accuracy: 0.68\n",
      "\n",
      "Epoch: 2 Batch: 275 of 837.  Accuracy: 0.68\n",
      "\n"
     ]
    },
    {
     "name": "stdout",
     "output_type": "stream",
     "text": [
      "Epoch: 2 Batch: 300 of 837.  Accuracy: 0.71\n",
      "\n",
      "Epoch: 2 Batch: 325 of 837.  Accuracy: 0.70\n",
      "\n",
      "Epoch: 2 Batch: 350 of 837.  Accuracy: 0.71\n",
      "\n"
     ]
    },
    {
     "name": "stdout",
     "output_type": "stream",
     "text": [
      "Epoch: 2 Batch: 375 of 837.  Accuracy: 0.71\n",
      "\n",
      "Epoch: 2 Batch: 400 of 837.  Accuracy: 0.71\n",
      "\n",
      "Epoch: 2 Batch: 425 of 837.  Accuracy: 0.70\n",
      "\n"
     ]
    },
    {
     "name": "stdout",
     "output_type": "stream",
     "text": [
      "Epoch: 2 Batch: 450 of 837.  Accuracy: 0.71\n",
      "\n",
      "Epoch: 2 Batch: 475 of 837.  Accuracy: 0.71\n",
      "\n",
      "Epoch: 2 Batch: 500 of 837.  Accuracy: 0.71\n",
      "\n"
     ]
    },
    {
     "name": "stdout",
     "output_type": "stream",
     "text": [
      "Epoch: 2 Batch: 525 of 837.  Accuracy: 0.71\n",
      "\n",
      "Epoch: 2 Batch: 550 of 837.  Accuracy: 0.72\n",
      "\n",
      "Epoch: 2 Batch: 575 of 837.  Accuracy: 0.71\n",
      "\n"
     ]
    },
    {
     "name": "stdout",
     "output_type": "stream",
     "text": [
      "Epoch: 2 Batch: 600 of 837.  Accuracy: 0.71\n",
      "\n",
      "Epoch: 2 Batch: 625 of 837.  Accuracy: 0.71\n",
      "\n",
      "Epoch: 2 Batch: 650 of 837.  Accuracy: 0.70\n",
      "\n"
     ]
    },
    {
     "name": "stdout",
     "output_type": "stream",
     "text": [
      "Epoch: 2 Batch: 675 of 837.  Accuracy: 0.72\n",
      "\n",
      "Epoch: 2 Batch: 700 of 837.  Accuracy: 0.71\n",
      "\n",
      "Epoch: 2 Batch: 725 of 837.  Accuracy: 0.72\n",
      "\n"
     ]
    },
    {
     "name": "stdout",
     "output_type": "stream",
     "text": [
      "Epoch: 2 Batch: 750 of 837.  Accuracy: 0.71\n",
      "\n",
      "Epoch: 2 Batch: 775 of 837.  Accuracy: 0.72\n",
      "\n",
      "Epoch: 2 Batch: 800 of 837.  Accuracy: 0.72\n",
      "\n"
     ]
    },
    {
     "name": "stdout",
     "output_type": "stream",
     "text": [
      "Epoch: 2 Batch: 825 of 837.  Accuracy: 0.70\n",
      "\n"
     ]
    },
    {
     "name": "stdout",
     "output_type": "stream",
     "text": [
      "#########################\n",
      "\n",
      "VALIDATION SET: Epoch: 2 Accuracy: 0.70\n",
      "\n",
      "#########################\n",
      "Epoch: 3 Batch: 25 of 837.  Accuracy: 0.73\n",
      "\n",
      "Epoch: 3 Batch: 50 of 837.  Accuracy: 0.74\n",
      "\n"
     ]
    },
    {
     "name": "stdout",
     "output_type": "stream",
     "text": [
      "Epoch: 3 Batch: 75 of 837.  Accuracy: 0.74\n",
      "\n",
      "Epoch: 3 Batch: 100 of 837.  Accuracy: 0.73\n",
      "\n",
      "Epoch: 3 Batch: 125 of 837.  Accuracy: 0.73\n",
      "\n"
     ]
    },
    {
     "name": "stdout",
     "output_type": "stream",
     "text": [
      "Epoch: 3 Batch: 150 of 837.  Accuracy: 0.75\n",
      "\n",
      "Epoch: 3 Batch: 175 of 837.  Accuracy: 0.72\n",
      "\n",
      "Epoch: 3 Batch: 200 of 837.  Accuracy: 0.74\n",
      "\n"
     ]
    },
    {
     "name": "stdout",
     "output_type": "stream",
     "text": [
      "Epoch: 3 Batch: 225 of 837.  Accuracy: 0.72\n",
      "\n",
      "Epoch: 3 Batch: 250 of 837.  Accuracy: 0.74\n",
      "\n",
      "Epoch: 3 Batch: 275 of 837.  Accuracy: 0.73\n",
      "\n"
     ]
    },
    {
     "name": "stdout",
     "output_type": "stream",
     "text": [
      "Epoch: 3 Batch: 300 of 837.  Accuracy: 0.73\n",
      "\n",
      "Epoch: 3 Batch: 325 of 837.  Accuracy: 0.74\n",
      "\n",
      "Epoch: 3 Batch: 350 of 837.  Accuracy: 0.72\n",
      "\n"
     ]
    },
    {
     "name": "stdout",
     "output_type": "stream",
     "text": [
      "Epoch: 3 Batch: 375 of 837.  Accuracy: 0.74\n",
      "\n",
      "Epoch: 3 Batch: 400 of 837.  Accuracy: 0.72\n",
      "\n",
      "Epoch: 3 Batch: 425 of 837.  Accuracy: 0.73\n",
      "\n"
     ]
    },
    {
     "name": "stdout",
     "output_type": "stream",
     "text": [
      "Epoch: 3 Batch: 450 of 837.  Accuracy: 0.74\n",
      "\n",
      "Epoch: 3 Batch: 475 of 837.  Accuracy: 0.74\n",
      "\n",
      "Epoch: 3 Batch: 500 of 837.  Accuracy: 0.73\n",
      "\n"
     ]
    },
    {
     "name": "stdout",
     "output_type": "stream",
     "text": [
      "Epoch: 3 Batch: 525 of 837.  Accuracy: 0.73\n",
      "\n",
      "Epoch: 3 Batch: 550 of 837.  Accuracy: 0.74\n",
      "\n",
      "Epoch: 3 Batch: 575 of 837.  Accuracy: 0.74\n",
      "\n"
     ]
    },
    {
     "name": "stdout",
     "output_type": "stream",
     "text": [
      "Epoch: 3 Batch: 600 of 837.  Accuracy: 0.74\n",
      "\n",
      "Epoch: 3 Batch: 625 of 837.  Accuracy: 0.74\n",
      "\n",
      "Epoch: 3 Batch: 650 of 837.  Accuracy: 0.73\n",
      "\n"
     ]
    },
    {
     "name": "stdout",
     "output_type": "stream",
     "text": [
      "Epoch: 3 Batch: 675 of 837.  Accuracy: 0.73\n",
      "\n",
      "Epoch: 3 Batch: 700 of 837.  Accuracy: 0.73\n",
      "\n",
      "Epoch: 3 Batch: 725 of 837.  Accuracy: 0.74\n",
      "\n"
     ]
    },
    {
     "name": "stdout",
     "output_type": "stream",
     "text": [
      "Epoch: 3 Batch: 750 of 837.  Accuracy: 0.74\n",
      "\n",
      "Epoch: 3 Batch: 775 of 837.  Accuracy: 0.74\n",
      "\n",
      "Epoch: 3 Batch: 800 of 837.  Accuracy: 0.74\n",
      "\n"
     ]
    },
    {
     "name": "stdout",
     "output_type": "stream",
     "text": [
      "Epoch: 3 Batch: 825 of 837.  Accuracy: 0.72\n",
      "\n"
     ]
    },
    {
     "name": "stdout",
     "output_type": "stream",
     "text": [
      "#########################\n",
      "\n",
      "VALIDATION SET: Epoch: 3 Accuracy: 0.72\n",
      "\n",
      "#########################\n",
      "Epoch: 4 Batch: 25 of 837.  Accuracy: 0.75\n",
      "\n",
      "Epoch: 4 Batch: 50 of 837.  Accuracy: 0.76\n",
      "\n"
     ]
    },
    {
     "name": "stdout",
     "output_type": "stream",
     "text": [
      "Epoch: 4 Batch: 75 of 837.  Accuracy: 0.77\n",
      "\n",
      "Epoch: 4 Batch: 100 of 837.  Accuracy: 0.74\n",
      "\n",
      "Epoch: 4 Batch: 125 of 837.  Accuracy: 0.75\n",
      "\n"
     ]
    },
    {
     "name": "stdout",
     "output_type": "stream",
     "text": [
      "Epoch: 4 Batch: 150 of 837.  Accuracy: 0.75\n",
      "\n",
      "Epoch: 4 Batch: 175 of 837.  Accuracy: 0.75\n",
      "\n",
      "Epoch: 4 Batch: 200 of 837.  Accuracy: 0.77\n",
      "\n"
     ]
    },
    {
     "name": "stdout",
     "output_type": "stream",
     "text": [
      "Epoch: 4 Batch: 225 of 837.  Accuracy: 0.75\n",
      "\n",
      "Epoch: 4 Batch: 250 of 837.  Accuracy: 0.73\n",
      "\n",
      "Epoch: 4 Batch: 275 of 837.  Accuracy: 0.77\n",
      "\n"
     ]
    },
    {
     "name": "stdout",
     "output_type": "stream",
     "text": [
      "Epoch: 4 Batch: 300 of 837.  Accuracy: 0.75\n",
      "\n",
      "Epoch: 4 Batch: 325 of 837.  Accuracy: 0.76\n",
      "\n",
      "Epoch: 4 Batch: 350 of 837.  Accuracy: 0.74\n",
      "\n"
     ]
    },
    {
     "name": "stdout",
     "output_type": "stream",
     "text": [
      "Epoch: 4 Batch: 375 of 837.  Accuracy: 0.74\n",
      "\n",
      "Epoch: 4 Batch: 400 of 837.  Accuracy: 0.75\n",
      "\n",
      "Epoch: 4 Batch: 425 of 837.  Accuracy: 0.77\n",
      "\n"
     ]
    },
    {
     "name": "stdout",
     "output_type": "stream",
     "text": [
      "Epoch: 4 Batch: 450 of 837.  Accuracy: 0.75\n",
      "\n",
      "Epoch: 4 Batch: 475 of 837.  Accuracy: 0.76\n",
      "\n",
      "Epoch: 4 Batch: 500 of 837.  Accuracy: 0.73\n",
      "\n"
     ]
    },
    {
     "name": "stdout",
     "output_type": "stream",
     "text": [
      "Epoch: 4 Batch: 525 of 837.  Accuracy: 0.77\n",
      "\n",
      "Epoch: 4 Batch: 550 of 837.  Accuracy: 0.74\n",
      "\n",
      "Epoch: 4 Batch: 575 of 837.  Accuracy: 0.76\n",
      "\n"
     ]
    },
    {
     "name": "stdout",
     "output_type": "stream",
     "text": [
      "Epoch: 4 Batch: 600 of 837.  Accuracy: 0.75\n",
      "\n",
      "Epoch: 4 Batch: 625 of 837.  Accuracy: 0.74\n",
      "\n",
      "Epoch: 4 Batch: 650 of 837.  Accuracy: 0.75\n",
      "\n"
     ]
    },
    {
     "name": "stdout",
     "output_type": "stream",
     "text": [
      "Epoch: 4 Batch: 675 of 837.  Accuracy: 0.74\n",
      "\n",
      "Epoch: 4 Batch: 700 of 837.  Accuracy: 0.76\n",
      "\n",
      "Epoch: 4 Batch: 725 of 837.  Accuracy: 0.76\n",
      "\n"
     ]
    },
    {
     "name": "stdout",
     "output_type": "stream",
     "text": [
      "Epoch: 4 Batch: 750 of 837.  Accuracy: 0.74\n",
      "\n",
      "Epoch: 4 Batch: 775 of 837.  Accuracy: 0.74\n",
      "\n",
      "Epoch: 4 Batch: 800 of 837.  Accuracy: 0.77\n",
      "\n"
     ]
    },
    {
     "name": "stdout",
     "output_type": "stream",
     "text": [
      "Epoch: 4 Batch: 825 of 837.  Accuracy: 0.75\n",
      "\n"
     ]
    },
    {
     "name": "stdout",
     "output_type": "stream",
     "text": [
      "#########################\n",
      "\n",
      "VALIDATION SET: Epoch: 4 Accuracy: 0.72\n",
      "\n",
      "#########################\n",
      "Epoch: 5 Batch: 25 of 837.  Accuracy: 0.77\n",
      "\n",
      "Epoch: 5 Batch: 50 of 837.  Accuracy: 0.75\n",
      "\n"
     ]
    },
    {
     "name": "stdout",
     "output_type": "stream",
     "text": [
      "Epoch: 5 Batch: 75 of 837.  Accuracy: 0.78\n",
      "\n",
      "Epoch: 5 Batch: 100 of 837.  Accuracy: 0.76\n",
      "\n",
      "Epoch: 5 Batch: 125 of 837.  Accuracy: 0.77\n",
      "\n"
     ]
    },
    {
     "name": "stdout",
     "output_type": "stream",
     "text": [
      "Epoch: 5 Batch: 150 of 837.  Accuracy: 0.77\n",
      "\n",
      "Epoch: 5 Batch: 175 of 837.  Accuracy: 0.76\n",
      "\n",
      "Epoch: 5 Batch: 200 of 837.  Accuracy: 0.77\n",
      "\n"
     ]
    },
    {
     "name": "stdout",
     "output_type": "stream",
     "text": [
      "Epoch: 5 Batch: 225 of 837.  Accuracy: 0.77\n",
      "\n",
      "Epoch: 5 Batch: 250 of 837.  Accuracy: 0.78\n",
      "\n",
      "Epoch: 5 Batch: 275 of 837.  Accuracy: 0.77\n",
      "\n"
     ]
    },
    {
     "name": "stdout",
     "output_type": "stream",
     "text": [
      "Epoch: 5 Batch: 300 of 837.  Accuracy: 0.77\n",
      "\n",
      "Epoch: 5 Batch: 325 of 837.  Accuracy: 0.76\n",
      "\n",
      "Epoch: 5 Batch: 350 of 837.  Accuracy: 0.75\n",
      "\n"
     ]
    },
    {
     "name": "stdout",
     "output_type": "stream",
     "text": [
      "Epoch: 5 Batch: 375 of 837.  Accuracy: 0.76\n",
      "\n",
      "Epoch: 5 Batch: 400 of 837.  Accuracy: 0.78\n",
      "\n",
      "Epoch: 5 Batch: 425 of 837.  Accuracy: 0.78\n",
      "\n"
     ]
    },
    {
     "name": "stdout",
     "output_type": "stream",
     "text": [
      "Epoch: 5 Batch: 450 of 837.  Accuracy: 0.77\n",
      "\n",
      "Epoch: 5 Batch: 475 of 837.  Accuracy: 0.75\n",
      "\n",
      "Epoch: 5 Batch: 500 of 837.  Accuracy: 0.76\n",
      "\n"
     ]
    },
    {
     "name": "stdout",
     "output_type": "stream",
     "text": [
      "Epoch: 5 Batch: 525 of 837.  Accuracy: 0.77\n",
      "\n",
      "Epoch: 5 Batch: 550 of 837.  Accuracy: 0.78\n",
      "\n",
      "Epoch: 5 Batch: 575 of 837.  Accuracy: 0.76\n",
      "\n"
     ]
    },
    {
     "name": "stdout",
     "output_type": "stream",
     "text": [
      "Epoch: 5 Batch: 600 of 837.  Accuracy: 0.77\n",
      "\n",
      "Epoch: 5 Batch: 625 of 837.  Accuracy: 0.76\n",
      "\n",
      "Epoch: 5 Batch: 650 of 837.  Accuracy: 0.76\n",
      "\n"
     ]
    },
    {
     "name": "stdout",
     "output_type": "stream",
     "text": [
      "Epoch: 5 Batch: 675 of 837.  Accuracy: 0.76\n",
      "\n",
      "Epoch: 5 Batch: 700 of 837.  Accuracy: 0.75\n",
      "\n",
      "Epoch: 5 Batch: 725 of 837.  Accuracy: 0.77\n",
      "\n"
     ]
    },
    {
     "name": "stdout",
     "output_type": "stream",
     "text": [
      "Epoch: 5 Batch: 750 of 837.  Accuracy: 0.77\n",
      "\n",
      "Epoch: 5 Batch: 775 of 837.  Accuracy: 0.74\n",
      "\n",
      "Epoch: 5 Batch: 800 of 837.  Accuracy: 0.77\n",
      "\n"
     ]
    },
    {
     "name": "stdout",
     "output_type": "stream",
     "text": [
      "Epoch: 5 Batch: 825 of 837.  Accuracy: 0.77\n",
      "\n"
     ]
    },
    {
     "name": "stdout",
     "output_type": "stream",
     "text": [
      "#########################\n",
      "\n",
      "VALIDATION SET: Epoch: 5 Accuracy: 0.72\n",
      "\n",
      "#########################\n",
      "Epoch: 6 Batch: 25 of 837.  Accuracy: 0.80\n",
      "\n",
      "Epoch: 6 Batch: 50 of 837.  Accuracy: 0.79\n",
      "\n"
     ]
    },
    {
     "name": "stdout",
     "output_type": "stream",
     "text": [
      "Epoch: 6 Batch: 75 of 837.  Accuracy: 0.79\n",
      "\n",
      "Epoch: 6 Batch: 100 of 837.  Accuracy: 0.79\n",
      "\n",
      "Epoch: 6 Batch: 125 of 837.  Accuracy: 0.78\n",
      "\n"
     ]
    },
    {
     "name": "stdout",
     "output_type": "stream",
     "text": [
      "Epoch: 6 Batch: 150 of 837.  Accuracy: 0.79\n",
      "\n",
      "Epoch: 6 Batch: 175 of 837.  Accuracy: 0.79\n",
      "\n",
      "Epoch: 6 Batch: 200 of 837.  Accuracy: 0.77\n",
      "\n"
     ]
    },
    {
     "name": "stdout",
     "output_type": "stream",
     "text": [
      "Epoch: 6 Batch: 225 of 837.  Accuracy: 0.77\n",
      "\n",
      "Epoch: 6 Batch: 250 of 837.  Accuracy: 0.79\n",
      "\n",
      "Epoch: 6 Batch: 275 of 837.  Accuracy: 0.79\n",
      "\n"
     ]
    },
    {
     "name": "stdout",
     "output_type": "stream",
     "text": [
      "Epoch: 6 Batch: 300 of 837.  Accuracy: 0.77\n",
      "\n",
      "Epoch: 6 Batch: 325 of 837.  Accuracy: 0.77\n",
      "\n",
      "Epoch: 6 Batch: 350 of 837.  Accuracy: 0.77\n",
      "\n"
     ]
    },
    {
     "name": "stdout",
     "output_type": "stream",
     "text": [
      "Epoch: 6 Batch: 375 of 837.  Accuracy: 0.77\n",
      "\n",
      "Epoch: 6 Batch: 400 of 837.  Accuracy: 0.78\n",
      "\n",
      "Epoch: 6 Batch: 425 of 837.  Accuracy: 0.75\n",
      "\n"
     ]
    },
    {
     "name": "stdout",
     "output_type": "stream",
     "text": [
      "Epoch: 6 Batch: 450 of 837.  Accuracy: 0.79\n",
      "\n",
      "Epoch: 6 Batch: 475 of 837.  Accuracy: 0.76\n",
      "\n",
      "Epoch: 6 Batch: 500 of 837.  Accuracy: 0.76\n",
      "\n"
     ]
    },
    {
     "name": "stdout",
     "output_type": "stream",
     "text": [
      "Epoch: 6 Batch: 525 of 837.  Accuracy: 0.78\n",
      "\n",
      "Epoch: 6 Batch: 550 of 837.  Accuracy: 0.76\n",
      "\n",
      "Epoch: 6 Batch: 575 of 837.  Accuracy: 0.77\n",
      "\n"
     ]
    },
    {
     "name": "stdout",
     "output_type": "stream",
     "text": [
      "Epoch: 6 Batch: 600 of 837.  Accuracy: 0.78\n",
      "\n",
      "Epoch: 6 Batch: 625 of 837.  Accuracy: 0.77\n",
      "\n",
      "Epoch: 6 Batch: 650 of 837.  Accuracy: 0.76\n",
      "\n"
     ]
    },
    {
     "name": "stdout",
     "output_type": "stream",
     "text": [
      "Epoch: 6 Batch: 675 of 837.  Accuracy: 0.78\n",
      "\n",
      "Epoch: 6 Batch: 700 of 837.  Accuracy: 0.77\n",
      "\n",
      "Epoch: 6 Batch: 725 of 837.  Accuracy: 0.76\n",
      "\n"
     ]
    },
    {
     "name": "stdout",
     "output_type": "stream",
     "text": [
      "Epoch: 6 Batch: 750 of 837.  Accuracy: 0.78\n",
      "\n",
      "Epoch: 6 Batch: 775 of 837.  Accuracy: 0.78\n",
      "\n",
      "Epoch: 6 Batch: 800 of 837.  Accuracy: 0.79\n",
      "\n"
     ]
    },
    {
     "name": "stdout",
     "output_type": "stream",
     "text": [
      "Epoch: 6 Batch: 825 of 837.  Accuracy: 0.79\n",
      "\n"
     ]
    },
    {
     "name": "stdout",
     "output_type": "stream",
     "text": [
      "#########################\n",
      "\n",
      "VALIDATION SET: Epoch: 6 Accuracy: 0.72\n",
      "\n",
      "#########################\n",
      "Epoch: 7 Batch: 25 of 837.  Accuracy: 0.78\n",
      "\n",
      "Epoch: 7 Batch: 50 of 837.  Accuracy: 0.81\n",
      "\n"
     ]
    },
    {
     "name": "stdout",
     "output_type": "stream",
     "text": [
      "Epoch: 7 Batch: 75 of 837.  Accuracy: 0.81\n",
      "\n",
      "Epoch: 7 Batch: 100 of 837.  Accuracy: 0.79\n",
      "\n",
      "Epoch: 7 Batch: 125 of 837.  Accuracy: 0.79\n",
      "\n"
     ]
    },
    {
     "name": "stdout",
     "output_type": "stream",
     "text": [
      "Epoch: 7 Batch: 150 of 837.  Accuracy: 0.78\n",
      "\n",
      "Epoch: 7 Batch: 175 of 837.  Accuracy: 0.80\n",
      "\n",
      "Epoch: 7 Batch: 200 of 837.  Accuracy: 0.80\n",
      "\n"
     ]
    },
    {
     "name": "stdout",
     "output_type": "stream",
     "text": [
      "Epoch: 7 Batch: 225 of 837.  Accuracy: 0.79\n",
      "\n",
      "Epoch: 7 Batch: 250 of 837.  Accuracy: 0.79\n",
      "\n",
      "Epoch: 7 Batch: 275 of 837.  Accuracy: 0.78\n",
      "\n"
     ]
    },
    {
     "name": "stdout",
     "output_type": "stream",
     "text": [
      "Epoch: 7 Batch: 300 of 837.  Accuracy: 0.77\n",
      "\n",
      "Epoch: 7 Batch: 325 of 837.  Accuracy: 0.79\n",
      "\n",
      "Epoch: 7 Batch: 350 of 837.  Accuracy: 0.80\n",
      "\n"
     ]
    },
    {
     "name": "stdout",
     "output_type": "stream",
     "text": [
      "Epoch: 7 Batch: 375 of 837.  Accuracy: 0.81\n",
      "\n",
      "Epoch: 7 Batch: 400 of 837.  Accuracy: 0.80\n",
      "\n",
      "Epoch: 7 Batch: 425 of 837.  Accuracy: 0.79\n",
      "\n"
     ]
    },
    {
     "name": "stdout",
     "output_type": "stream",
     "text": [
      "Epoch: 7 Batch: 450 of 837.  Accuracy: 0.79\n",
      "\n",
      "Epoch: 7 Batch: 475 of 837.  Accuracy: 0.79\n",
      "\n",
      "Epoch: 7 Batch: 500 of 837.  Accuracy: 0.80\n",
      "\n"
     ]
    },
    {
     "name": "stdout",
     "output_type": "stream",
     "text": [
      "Epoch: 7 Batch: 525 of 837.  Accuracy: 0.78\n",
      "\n",
      "Epoch: 7 Batch: 550 of 837.  Accuracy: 0.79\n",
      "\n",
      "Epoch: 7 Batch: 575 of 837.  Accuracy: 0.77\n",
      "\n"
     ]
    },
    {
     "name": "stdout",
     "output_type": "stream",
     "text": [
      "Epoch: 7 Batch: 600 of 837.  Accuracy: 0.78\n",
      "\n",
      "Epoch: 7 Batch: 625 of 837.  Accuracy: 0.79\n",
      "\n",
      "Epoch: 7 Batch: 650 of 837.  Accuracy: 0.77\n",
      "\n"
     ]
    },
    {
     "name": "stdout",
     "output_type": "stream",
     "text": [
      "Epoch: 7 Batch: 675 of 837.  Accuracy: 0.80\n",
      "\n",
      "Epoch: 7 Batch: 700 of 837.  Accuracy: 0.77\n",
      "\n",
      "Epoch: 7 Batch: 725 of 837.  Accuracy: 0.79\n",
      "\n"
     ]
    },
    {
     "name": "stdout",
     "output_type": "stream",
     "text": [
      "Epoch: 7 Batch: 750 of 837.  Accuracy: 0.79\n",
      "\n",
      "Epoch: 7 Batch: 775 of 837.  Accuracy: 0.78\n",
      "\n",
      "Epoch: 7 Batch: 800 of 837.  Accuracy: 0.80\n",
      "\n"
     ]
    },
    {
     "name": "stdout",
     "output_type": "stream",
     "text": [
      "Epoch: 7 Batch: 825 of 837.  Accuracy: 0.80\n",
      "\n"
     ]
    },
    {
     "name": "stdout",
     "output_type": "stream",
     "text": [
      "#########################\n",
      "\n",
      "VALIDATION SET: Epoch: 7 Accuracy: 0.72\n",
      "\n",
      "#########################\n",
      "Epoch: 8 Batch: 25 of 837.  Accuracy: 0.81\n",
      "\n",
      "Epoch: 8 Batch: 50 of 837.  Accuracy: 0.81\n",
      "\n"
     ]
    },
    {
     "name": "stdout",
     "output_type": "stream",
     "text": [
      "Epoch: 8 Batch: 75 of 837.  Accuracy: 0.81\n",
      "\n",
      "Epoch: 8 Batch: 100 of 837.  Accuracy: 0.81\n",
      "\n",
      "Epoch: 8 Batch: 125 of 837.  Accuracy: 0.81\n",
      "\n"
     ]
    },
    {
     "name": "stdout",
     "output_type": "stream",
     "text": [
      "Epoch: 8 Batch: 150 of 837.  Accuracy: 0.83\n",
      "\n",
      "Epoch: 8 Batch: 175 of 837.  Accuracy: 0.81\n",
      "\n",
      "Epoch: 8 Batch: 200 of 837.  Accuracy: 0.80\n",
      "\n"
     ]
    },
    {
     "name": "stdout",
     "output_type": "stream",
     "text": [
      "Epoch: 8 Batch: 225 of 837.  Accuracy: 0.82\n",
      "\n",
      "Epoch: 8 Batch: 250 of 837.  Accuracy: 0.81\n",
      "\n",
      "Epoch: 8 Batch: 275 of 837.  Accuracy: 0.81\n",
      "\n"
     ]
    },
    {
     "name": "stdout",
     "output_type": "stream",
     "text": [
      "Epoch: 8 Batch: 300 of 837.  Accuracy: 0.79\n",
      "\n",
      "Epoch: 8 Batch: 325 of 837.  Accuracy: 0.82\n",
      "\n",
      "Epoch: 8 Batch: 350 of 837.  Accuracy: 0.83\n",
      "\n"
     ]
    },
    {
     "name": "stdout",
     "output_type": "stream",
     "text": [
      "Epoch: 8 Batch: 375 of 837.  Accuracy: 0.82\n",
      "\n",
      "Epoch: 8 Batch: 400 of 837.  Accuracy: 0.81\n",
      "\n",
      "Epoch: 8 Batch: 425 of 837.  Accuracy: 0.80\n",
      "\n"
     ]
    },
    {
     "name": "stdout",
     "output_type": "stream",
     "text": [
      "Epoch: 8 Batch: 450 of 837.  Accuracy: 0.80\n",
      "\n",
      "Epoch: 8 Batch: 475 of 837.  Accuracy: 0.82\n",
      "\n",
      "Epoch: 8 Batch: 500 of 837.  Accuracy: 0.82\n",
      "\n"
     ]
    },
    {
     "name": "stdout",
     "output_type": "stream",
     "text": [
      "Epoch: 8 Batch: 525 of 837.  Accuracy: 0.81\n",
      "\n",
      "Epoch: 8 Batch: 550 of 837.  Accuracy: 0.81\n",
      "\n",
      "Epoch: 8 Batch: 575 of 837.  Accuracy: 0.82\n",
      "\n"
     ]
    },
    {
     "name": "stdout",
     "output_type": "stream",
     "text": [
      "Epoch: 8 Batch: 600 of 837.  Accuracy: 0.82\n",
      "\n",
      "Epoch: 8 Batch: 625 of 837.  Accuracy: 0.81\n",
      "\n",
      "Epoch: 8 Batch: 650 of 837.  Accuracy: 0.80\n",
      "\n"
     ]
    },
    {
     "name": "stdout",
     "output_type": "stream",
     "text": [
      "Epoch: 8 Batch: 675 of 837.  Accuracy: 0.82\n",
      "\n",
      "Epoch: 8 Batch: 700 of 837.  Accuracy: 0.81\n",
      "\n",
      "Epoch: 8 Batch: 725 of 837.  Accuracy: 0.80\n",
      "\n"
     ]
    },
    {
     "name": "stdout",
     "output_type": "stream",
     "text": [
      "Epoch: 8 Batch: 750 of 837.  Accuracy: 0.82\n",
      "\n",
      "Epoch: 8 Batch: 775 of 837.  Accuracy: 0.80\n",
      "\n"
     ]
    },
    {
     "name": "stdout",
     "output_type": "stream",
     "text": [
      "Epoch: 8 Batch: 800 of 837.  Accuracy: 0.80\n",
      "\n",
      "Epoch: 8 Batch: 825 of 837.  Accuracy: 0.82\n",
      "\n"
     ]
    },
    {
     "name": "stdout",
     "output_type": "stream",
     "text": [
      "#########################\n",
      "\n",
      "VALIDATION SET: Epoch: 8 Accuracy: 0.73\n",
      "\n",
      "#########################\n",
      "Epoch: 9 Batch: 25 of 837.  Accuracy: 0.81\n",
      "\n",
      "Epoch: 9 Batch: 50 of 837.  Accuracy: 0.80\n",
      "\n"
     ]
    },
    {
     "name": "stdout",
     "output_type": "stream",
     "text": [
      "Epoch: 9 Batch: 75 of 837.  Accuracy: 0.83\n",
      "\n",
      "Epoch: 9 Batch: 100 of 837.  Accuracy: 0.82\n",
      "\n",
      "Epoch: 9 Batch: 125 of 837.  Accuracy: 0.82\n",
      "\n"
     ]
    },
    {
     "name": "stdout",
     "output_type": "stream",
     "text": [
      "Epoch: 9 Batch: 150 of 837.  Accuracy: 0.82\n",
      "\n",
      "Epoch: 9 Batch: 175 of 837.  Accuracy: 0.80\n",
      "\n",
      "Epoch: 9 Batch: 200 of 837.  Accuracy: 0.81\n",
      "\n"
     ]
    },
    {
     "name": "stdout",
     "output_type": "stream",
     "text": [
      "Epoch: 9 Batch: 225 of 837.  Accuracy: 0.82\n",
      "\n",
      "Epoch: 9 Batch: 250 of 837.  Accuracy: 0.81\n",
      "\n",
      "Epoch: 9 Batch: 275 of 837.  Accuracy: 0.82\n",
      "\n"
     ]
    },
    {
     "name": "stdout",
     "output_type": "stream",
     "text": [
      "Epoch: 9 Batch: 300 of 837.  Accuracy: 0.82\n",
      "\n",
      "Epoch: 9 Batch: 325 of 837.  Accuracy: 0.83\n",
      "\n",
      "Epoch: 9 Batch: 350 of 837.  Accuracy: 0.80\n",
      "\n"
     ]
    },
    {
     "name": "stdout",
     "output_type": "stream",
     "text": [
      "Epoch: 9 Batch: 375 of 837.  Accuracy: 0.80\n",
      "\n",
      "Epoch: 9 Batch: 400 of 837.  Accuracy: 0.81\n",
      "\n",
      "Epoch: 9 Batch: 425 of 837.  Accuracy: 0.81\n",
      "\n"
     ]
    },
    {
     "name": "stdout",
     "output_type": "stream",
     "text": [
      "Epoch: 9 Batch: 450 of 837.  Accuracy: 0.83\n",
      "\n",
      "Epoch: 9 Batch: 475 of 837.  Accuracy: 0.83\n",
      "\n",
      "Epoch: 9 Batch: 500 of 837.  Accuracy: 0.81\n",
      "\n"
     ]
    },
    {
     "name": "stdout",
     "output_type": "stream",
     "text": [
      "Epoch: 9 Batch: 525 of 837.  Accuracy: 0.82\n",
      "\n",
      "Epoch: 9 Batch: 550 of 837.  Accuracy: 0.81\n",
      "\n",
      "Epoch: 9 Batch: 575 of 837.  Accuracy: 0.80\n",
      "\n"
     ]
    },
    {
     "name": "stdout",
     "output_type": "stream",
     "text": [
      "Epoch: 9 Batch: 600 of 837.  Accuracy: 0.82\n",
      "\n",
      "Epoch: 9 Batch: 625 of 837.  Accuracy: 0.82\n",
      "\n",
      "Epoch: 9 Batch: 650 of 837.  Accuracy: 0.83\n",
      "\n"
     ]
    },
    {
     "name": "stdout",
     "output_type": "stream",
     "text": [
      "Epoch: 9 Batch: 675 of 837.  Accuracy: 0.80\n",
      "\n",
      "Epoch: 9 Batch: 700 of 837.  Accuracy: 0.79\n",
      "\n",
      "Epoch: 9 Batch: 725 of 837.  Accuracy: 0.81\n",
      "\n"
     ]
    },
    {
     "name": "stdout",
     "output_type": "stream",
     "text": [
      "Epoch: 9 Batch: 750 of 837.  Accuracy: 0.82\n",
      "\n",
      "Epoch: 9 Batch: 775 of 837.  Accuracy: 0.82\n",
      "\n",
      "Epoch: 9 Batch: 800 of 837.  Accuracy: 0.82\n",
      "\n"
     ]
    },
    {
     "name": "stdout",
     "output_type": "stream",
     "text": [
      "Epoch: 9 Batch: 825 of 837.  Accuracy: 0.82\n",
      "\n"
     ]
    },
    {
     "name": "stdout",
     "output_type": "stream",
     "text": [
      "#########################\n",
      "\n",
      "VALIDATION SET: Epoch: 9 Accuracy: 0.73\n",
      "\n",
      "#########################\n",
      "Epoch: 10 Batch: 25 of 837.  Accuracy: 0.81\n",
      "\n",
      "Epoch: 10 Batch: 50 of 837.  Accuracy: 0.81\n",
      "\n"
     ]
    },
    {
     "name": "stdout",
     "output_type": "stream",
     "text": [
      "Epoch: 10 Batch: 75 of 837.  Accuracy: 0.81\n",
      "\n",
      "Epoch: 10 Batch: 100 of 837.  Accuracy: 0.81\n",
      "\n",
      "Epoch: 10 Batch: 125 of 837.  Accuracy: 0.81\n",
      "\n"
     ]
    },
    {
     "name": "stdout",
     "output_type": "stream",
     "text": [
      "Epoch: 10 Batch: 150 of 837.  Accuracy: 0.81\n",
      "\n",
      "Epoch: 10 Batch: 175 of 837.  Accuracy: 0.82\n",
      "\n",
      "Epoch: 10 Batch: 200 of 837.  Accuracy: 0.81\n",
      "\n"
     ]
    },
    {
     "name": "stdout",
     "output_type": "stream",
     "text": [
      "Epoch: 10 Batch: 225 of 837.  Accuracy: 0.81\n",
      "\n",
      "Epoch: 10 Batch: 250 of 837.  Accuracy: 0.83\n",
      "\n",
      "Epoch: 10 Batch: 275 of 837.  Accuracy: 0.82\n",
      "\n"
     ]
    },
    {
     "name": "stdout",
     "output_type": "stream",
     "text": [
      "Epoch: 10 Batch: 300 of 837.  Accuracy: 0.81\n",
      "\n",
      "Epoch: 10 Batch: 325 of 837.  Accuracy: 0.81\n",
      "\n",
      "Epoch: 10 Batch: 350 of 837.  Accuracy: 0.81\n",
      "\n"
     ]
    },
    {
     "name": "stdout",
     "output_type": "stream",
     "text": [
      "Epoch: 10 Batch: 375 of 837.  Accuracy: 0.82\n",
      "\n",
      "Epoch: 10 Batch: 400 of 837.  Accuracy: 0.81\n",
      "\n",
      "Epoch: 10 Batch: 425 of 837.  Accuracy: 0.80\n",
      "\n"
     ]
    },
    {
     "name": "stdout",
     "output_type": "stream",
     "text": [
      "Epoch: 10 Batch: 450 of 837.  Accuracy: 0.83\n",
      "\n",
      "Epoch: 10 Batch: 475 of 837.  Accuracy: 0.80\n",
      "\n",
      "Epoch: 10 Batch: 500 of 837.  Accuracy: 0.82\n",
      "\n"
     ]
    },
    {
     "name": "stdout",
     "output_type": "stream",
     "text": [
      "Epoch: 10 Batch: 525 of 837.  Accuracy: 0.81\n",
      "\n",
      "Epoch: 10 Batch: 550 of 837.  Accuracy: 0.82\n",
      "\n",
      "Epoch: 10 Batch: 575 of 837.  Accuracy: 0.81\n",
      "\n"
     ]
    },
    {
     "name": "stdout",
     "output_type": "stream",
     "text": [
      "Epoch: 10 Batch: 600 of 837.  Accuracy: 0.82\n",
      "\n",
      "Epoch: 10 Batch: 625 of 837.  Accuracy: 0.81\n",
      "\n",
      "Epoch: 10 Batch: 650 of 837.  Accuracy: 0.83\n",
      "\n"
     ]
    },
    {
     "name": "stdout",
     "output_type": "stream",
     "text": [
      "Epoch: 10 Batch: 675 of 837.  Accuracy: 0.83\n",
      "\n",
      "Epoch: 10 Batch: 700 of 837.  Accuracy: 0.82\n",
      "\n",
      "Epoch: 10 Batch: 725 of 837.  Accuracy: 0.83\n",
      "\n"
     ]
    },
    {
     "name": "stdout",
     "output_type": "stream",
     "text": [
      "Epoch: 10 Batch: 750 of 837.  Accuracy: 0.83\n",
      "\n",
      "Epoch: 10 Batch: 775 of 837.  Accuracy: 0.81\n",
      "\n",
      "Epoch: 10 Batch: 800 of 837.  Accuracy: 0.82\n",
      "\n"
     ]
    },
    {
     "name": "stdout",
     "output_type": "stream",
     "text": [
      "Epoch: 10 Batch: 825 of 837.  Accuracy: 0.83\n",
      "\n"
     ]
    },
    {
     "name": "stdout",
     "output_type": "stream",
     "text": [
      "#########################\n",
      "\n",
      "VALIDATION SET: Epoch: 10 Accuracy: 0.73\n",
      "\n",
      "#########################\n"
     ]
    }
   ],
   "source": [
    "# model training loop\n",
    "for epoch in range(1, epochs + 1):\n",
    "    epoch_start_time = time.time()\n",
    "    train(train_loader)\n",
    "    accu_val = evaluate(val_loader)\n",
    "    if total_accu is not None and total_accu > accu_val:\n",
    "        scheduler.step()\n",
    "    else:\n",
    "        total_accu = accu_val\n",
    "    print('#' * 25)\n",
    "\n",
    "    print(f\"\\nVALIDATION SET: Epoch: {epoch} Accuracy: {accu_val:.2f}\\n\")\n",
    "\n",
    "    print('#' * 25)"
   ]
  },
  {
   "cell_type": "code",
   "execution_count": 22,
   "id": "974e0917",
   "metadata": {
    "execution": {
     "iopub.execute_input": "2022-08-13T22:22:14.952092Z",
     "iopub.status.busy": "2022-08-13T22:22:14.951796Z",
     "iopub.status.idle": "2022-08-13T22:22:15.419942Z",
     "shell.execute_reply": "2022-08-13T22:22:15.419275Z"
    },
    "papermill": {
     "duration": 0.48124,
     "end_time": "2022-08-13T22:22:15.422002",
     "exception": false,
     "start_time": "2022-08-13T22:22:14.940762",
     "status": "completed"
    },
    "tags": []
   },
   "outputs": [],
   "source": [
    "# create predictions on the test set\n",
    "full_preds = []\n",
    "with torch.no_grad():\n",
    "    for idx, (label, text, offsets) in enumerate(test_loader):\n",
    "        predicted_label = tweet_embedding_classifier(text, offsets)\n",
    "        preds = predicted_label.argmax(1)\n",
    "        full_preds.extend(preds)\n",
    "y_pred = [a.item() for a in full_preds]"
   ]
  },
  {
   "cell_type": "code",
   "execution_count": 23,
   "id": "a5cd3e38",
   "metadata": {
    "execution": {
     "iopub.execute_input": "2022-08-13T22:22:15.445275Z",
     "iopub.status.busy": "2022-08-13T22:22:15.444990Z",
     "iopub.status.idle": "2022-08-13T22:22:15.458178Z",
     "shell.execute_reply": "2022-08-13T22:22:15.457525Z"
    },
    "papermill": {
     "duration": 0.027317,
     "end_time": "2022-08-13T22:22:15.460200",
     "exception": false,
     "start_time": "2022-08-13T22:22:15.432883",
     "status": "completed"
    },
    "tags": []
   },
   "outputs": [
    {
     "data": {
      "text/plain": [
       "0.15977307210238142"
      ]
     },
     "execution_count": 23,
     "metadata": {},
     "output_type": "execute_result"
    }
   ],
   "source": [
    "# metrics on test set\n",
    "y_true = [a[0] for a in test_lemma_docs]\n",
    "accuracy_score(y_true, y_pred)"
   ]
  },
  {
   "cell_type": "code",
   "execution_count": 24,
   "id": "a1c9e781",
   "metadata": {
    "execution": {
     "iopub.execute_input": "2022-08-13T22:22:15.484566Z",
     "iopub.status.busy": "2022-08-13T22:22:15.484326Z",
     "iopub.status.idle": "2022-08-13T22:22:15.504551Z",
     "shell.execute_reply": "2022-08-13T22:22:15.503941Z"
    },
    "papermill": {
     "duration": 0.033869,
     "end_time": "2022-08-13T22:22:15.506450",
     "exception": false,
     "start_time": "2022-08-13T22:22:15.472581",
     "status": "completed"
    },
    "tags": []
   },
   "outputs": [
    {
     "data": {
      "text/plain": [
       "0.10009860585237265"
      ]
     },
     "execution_count": 24,
     "metadata": {},
     "output_type": "execute_result"
    }
   ],
   "source": [
    "# more metrics on test set\n",
    "f1_score(y_true, y_pred, average='macro')"
   ]
  },
  {
   "cell_type": "markdown",
   "id": "8422ff2a",
   "metadata": {
    "papermill": {
     "duration": 0.010437,
     "end_time": "2022-08-13T22:22:15.528336",
     "exception": false,
     "start_time": "2022-08-13T22:22:15.517899",
     "status": "completed"
    },
    "tags": []
   },
   "source": [
    "### LSTM"
   ]
  },
  {
   "cell_type": "code",
   "execution_count": 25,
   "id": "d16daca1",
   "metadata": {
    "execution": {
     "iopub.execute_input": "2022-08-13T22:22:15.549668Z",
     "iopub.status.busy": "2022-08-13T22:22:15.549425Z",
     "iopub.status.idle": "2022-08-13T22:22:15.553427Z",
     "shell.execute_reply": "2022-08-13T22:22:15.552767Z"
    },
    "papermill": {
     "duration": 0.01718,
     "end_time": "2022-08-13T22:22:15.555813",
     "exception": false,
     "start_time": "2022-08-13T22:22:15.538633",
     "status": "completed"
    },
    "tags": []
   },
   "outputs": [],
   "source": [
    "max_words = 50\n",
    "train_batch_size = 512\n",
    "val_batch_size = 1024\n",
    "test_batch_size = 1024\n",
    "\n",
    "# instantiate the data loaders\n",
    "train_loader = DataLoader(lemma_docs, batch_size=train_batch_size, collate_fn=collate_batch_lstm, shuffle=True)\n",
    "val_loader = DataLoader(dev_lemma_docs, batch_size=val_batch_size, collate_fn=collate_batch_lstm)\n",
    "test_loader = DataLoader(test_lemma_docs, batch_size=test_batch_size, collate_fn=collate_batch_lstm)"
   ]
  },
  {
   "cell_type": "code",
   "execution_count": 26,
   "id": "2280a445",
   "metadata": {
    "execution": {
     "iopub.execute_input": "2022-08-13T22:22:15.578054Z",
     "iopub.status.busy": "2022-08-13T22:22:15.577806Z",
     "iopub.status.idle": "2022-08-13T22:22:15.580921Z",
     "shell.execute_reply": "2022-08-13T22:22:15.580439Z"
    },
    "papermill": {
     "duration": 0.016806,
     "end_time": "2022-08-13T22:22:15.582707",
     "exception": false,
     "start_time": "2022-08-13T22:22:15.565901",
     "status": "completed"
    },
    "tags": []
   },
   "outputs": [],
   "source": [
    "# neural net architecture settings\n",
    "embedded_len = 64\n",
    "hidden_dim = 128\n",
    "n_layers=1"
   ]
  },
  {
   "cell_type": "code",
   "execution_count": 27,
   "id": "63af14f6",
   "metadata": {
    "execution": {
     "iopub.execute_input": "2022-08-13T22:22:15.604478Z",
     "iopub.status.busy": "2022-08-13T22:22:15.604248Z",
     "iopub.status.idle": "2022-08-13T22:22:15.637475Z",
     "shell.execute_reply": "2022-08-13T22:22:15.636946Z"
    },
    "papermill": {
     "duration": 0.046317,
     "end_time": "2022-08-13T22:22:15.639255",
     "exception": false,
     "start_time": "2022-08-13T22:22:15.592938",
     "status": "completed"
    },
    "tags": []
   },
   "outputs": [
    {
     "data": {
      "text/plain": [
       "TweetClassificationLSTM(\n",
       "  (embedding_layer): Embedding(77853, 64)\n",
       "  (lstm): LSTM(64, 128, batch_first=True)\n",
       "  (fc_1): Linear(in_features=128, out_features=128, bias=True)\n",
       "  (fc_2): Linear(in_features=128, out_features=10, bias=True)\n",
       ")"
      ]
     },
     "execution_count": 27,
     "metadata": {},
     "output_type": "execute_result"
    }
   ],
   "source": [
    "# instantiate the the LSTM\n",
    "tweet_lstm_classifier = TweetClassificationLSTM(vocab_size=vocab_size, \n",
    "                                                embedded_len=embedded_len, \n",
    "                                                hidden_dim=hidden_dim, \n",
    "                                                n_layers=n_layers, \n",
    "                                                output_len=output_dim)\n",
    "\n",
    "# view the model architecture\n",
    "tweet_lstm_classifier"
   ]
  },
  {
   "cell_type": "code",
   "execution_count": 28,
   "id": "e27a3134",
   "metadata": {
    "execution": {
     "iopub.execute_input": "2022-08-13T22:22:15.662130Z",
     "iopub.status.busy": "2022-08-13T22:22:15.661872Z",
     "iopub.status.idle": "2022-08-13T22:22:15.996591Z",
     "shell.execute_reply": "2022-08-13T22:22:15.995837Z"
    },
    "papermill": {
     "duration": 0.348712,
     "end_time": "2022-08-13T22:22:15.998721",
     "exception": false,
     "start_time": "2022-08-13T22:22:15.650009",
     "status": "completed"
    },
    "tags": []
   },
   "outputs": [],
   "source": [
    "# check that all the model dimensions fit correctly\n",
    "# and the output is of the desired shape\n",
    "output_tensor = tweet_lstm_classifier(torch.randint(0, len(vocab), (1024, max_words)), n_layers, hidden_dim)\n",
    "\n",
    "assert output_tensor.shape[0] == test_batch_size\n",
    "assert output_tensor.shape[1] == output_dim"
   ]
  },
  {
   "cell_type": "code",
   "execution_count": 29,
   "id": "2c907376",
   "metadata": {
    "execution": {
     "iopub.execute_input": "2022-08-13T22:22:16.024384Z",
     "iopub.status.busy": "2022-08-13T22:22:16.024133Z",
     "iopub.status.idle": "2022-08-13T22:22:16.028526Z",
     "shell.execute_reply": "2022-08-13T22:22:16.027967Z"
    },
    "papermill": {
     "duration": 0.01897,
     "end_time": "2022-08-13T22:22:16.030312",
     "exception": false,
     "start_time": "2022-08-13T22:22:16.011342",
     "status": "completed"
    },
    "tags": []
   },
   "outputs": [],
   "source": [
    "# settings for model training run\n",
    "# set from pipeline.yaml\n",
    "# epochs = 25\n",
    "learning_rate = 1e-3\n",
    "\n",
    "criterion = nn.CrossEntropyLoss()\n",
    "# tweet_classifier = TweetClassificationLSTM()\n",
    "optimizer = Adam(tweet_lstm_classifier.parameters(), lr=learning_rate)\n",
    "# optimizer = torch.optim.SGD(tweet_classifier.parameters(), lr=LR)\n",
    "scheduler = torch.optim.lr_scheduler.StepLR(optimizer, 1.0, gamma=0.1)\n",
    "\n",
    "total_accu = None\n",
    "full_acc_score = 0\n",
    "acc_score_counter = []\n",
    "total_batches_per_epoch = len(train_loader)\n",
    "batch_log_freq = 25"
   ]
  },
  {
   "cell_type": "code",
   "execution_count": 30,
   "id": "6170c094",
   "metadata": {
    "execution": {
     "iopub.execute_input": "2022-08-13T22:22:16.053807Z",
     "iopub.status.busy": "2022-08-13T22:22:16.053550Z",
     "iopub.status.idle": "2022-08-13T22:31:41.986360Z",
     "shell.execute_reply": "2022-08-13T22:31:41.985125Z"
    },
    "papermill": {
     "duration": 565.947701,
     "end_time": "2022-08-13T22:31:41.989217",
     "exception": false,
     "start_time": "2022-08-13T22:22:16.041516",
     "status": "completed"
    },
    "tags": []
   },
   "outputs": [
    {
     "name": "stdout",
     "output_type": "stream",
     "text": [
      "Epoch: 1 Batch: 25 of 105.  Accuracy: 0.26\n",
      "\n"
     ]
    },
    {
     "name": "stdout",
     "output_type": "stream",
     "text": [
      "Epoch: 1 Batch: 50 of 105.  Accuracy: 0.28\n",
      "\n"
     ]
    },
    {
     "name": "stdout",
     "output_type": "stream",
     "text": [
      "Epoch: 1 Batch: 75 of 105.  Accuracy: 0.28\n",
      "\n"
     ]
    },
    {
     "name": "stdout",
     "output_type": "stream",
     "text": [
      "Epoch: 1 Batch: 100 of 105.  Accuracy: 0.28\n",
      "\n"
     ]
    },
    {
     "name": "stdout",
     "output_type": "stream",
     "text": [
      "\n",
      "VALIDATION SET: Epoch: 1 Accuracy: 0.28\n",
      "\n"
     ]
    },
    {
     "name": "stdout",
     "output_type": "stream",
     "text": [
      "Epoch: 2 Batch: 25 of 105.  Accuracy: 0.28\n",
      "\n"
     ]
    },
    {
     "name": "stdout",
     "output_type": "stream",
     "text": [
      "Epoch: 2 Batch: 50 of 105.  Accuracy: 0.30\n",
      "\n"
     ]
    },
    {
     "name": "stdout",
     "output_type": "stream",
     "text": [
      "Epoch: 2 Batch: 75 of 105.  Accuracy: 0.33\n",
      "\n"
     ]
    },
    {
     "name": "stdout",
     "output_type": "stream",
     "text": [
      "Epoch: 2 Batch: 100 of 105.  Accuracy: 0.35\n",
      "\n"
     ]
    },
    {
     "name": "stdout",
     "output_type": "stream",
     "text": [
      "\n",
      "VALIDATION SET: Epoch: 2 Accuracy: 0.35\n",
      "\n"
     ]
    },
    {
     "name": "stdout",
     "output_type": "stream",
     "text": [
      "Epoch: 3 Batch: 25 of 105.  Accuracy: 0.36\n",
      "\n"
     ]
    },
    {
     "name": "stdout",
     "output_type": "stream",
     "text": [
      "Epoch: 3 Batch: 50 of 105.  Accuracy: 0.39\n",
      "\n"
     ]
    },
    {
     "name": "stdout",
     "output_type": "stream",
     "text": [
      "Epoch: 3 Batch: 75 of 105.  Accuracy: 0.42\n",
      "\n"
     ]
    },
    {
     "name": "stdout",
     "output_type": "stream",
     "text": [
      "Epoch: 3 Batch: 100 of 105.  Accuracy: 0.43\n",
      "\n"
     ]
    },
    {
     "name": "stdout",
     "output_type": "stream",
     "text": [
      "\n",
      "VALIDATION SET: Epoch: 3 Accuracy: 0.44\n",
      "\n"
     ]
    },
    {
     "name": "stdout",
     "output_type": "stream",
     "text": [
      "Epoch: 4 Batch: 25 of 105.  Accuracy: 0.46\n",
      "\n"
     ]
    },
    {
     "name": "stdout",
     "output_type": "stream",
     "text": [
      "Epoch: 4 Batch: 50 of 105.  Accuracy: 0.48\n",
      "\n"
     ]
    },
    {
     "name": "stdout",
     "output_type": "stream",
     "text": [
      "Epoch: 4 Batch: 75 of 105.  Accuracy: 0.51\n",
      "\n"
     ]
    },
    {
     "name": "stdout",
     "output_type": "stream",
     "text": [
      "Epoch: 4 Batch: 100 of 105.  Accuracy: 0.54\n",
      "\n"
     ]
    },
    {
     "name": "stdout",
     "output_type": "stream",
     "text": [
      "\n",
      "VALIDATION SET: Epoch: 4 Accuracy: 0.54\n",
      "\n"
     ]
    },
    {
     "name": "stdout",
     "output_type": "stream",
     "text": [
      "Epoch: 5 Batch: 25 of 105.  Accuracy: 0.57\n",
      "\n"
     ]
    },
    {
     "name": "stdout",
     "output_type": "stream",
     "text": [
      "Epoch: 5 Batch: 50 of 105.  Accuracy: 0.59\n",
      "\n"
     ]
    },
    {
     "name": "stdout",
     "output_type": "stream",
     "text": [
      "Epoch: 5 Batch: 75 of 105.  Accuracy: 0.57\n",
      "\n"
     ]
    },
    {
     "name": "stdout",
     "output_type": "stream",
     "text": [
      "Epoch: 5 Batch: 100 of 105.  Accuracy: 0.60\n",
      "\n"
     ]
    },
    {
     "name": "stdout",
     "output_type": "stream",
     "text": [
      "\n",
      "VALIDATION SET: Epoch: 5 Accuracy: 0.57\n",
      "\n"
     ]
    },
    {
     "name": "stdout",
     "output_type": "stream",
     "text": [
      "Epoch: 6 Batch: 25 of 105.  Accuracy: 0.62\n",
      "\n"
     ]
    },
    {
     "name": "stdout",
     "output_type": "stream",
     "text": [
      "Epoch: 6 Batch: 50 of 105.  Accuracy: 0.63\n",
      "\n"
     ]
    },
    {
     "name": "stdout",
     "output_type": "stream",
     "text": [
      "Epoch: 6 Batch: 75 of 105.  Accuracy: 0.64\n",
      "\n"
     ]
    },
    {
     "name": "stdout",
     "output_type": "stream",
     "text": [
      "Epoch: 6 Batch: 100 of 105.  Accuracy: 0.64\n",
      "\n"
     ]
    },
    {
     "name": "stdout",
     "output_type": "stream",
     "text": [
      "\n",
      "VALIDATION SET: Epoch: 6 Accuracy: 0.61\n",
      "\n"
     ]
    },
    {
     "name": "stdout",
     "output_type": "stream",
     "text": [
      "Epoch: 7 Batch: 25 of 105.  Accuracy: 0.66\n",
      "\n"
     ]
    },
    {
     "name": "stdout",
     "output_type": "stream",
     "text": [
      "Epoch: 7 Batch: 50 of 105.  Accuracy: 0.68\n",
      "\n"
     ]
    },
    {
     "name": "stdout",
     "output_type": "stream",
     "text": [
      "Epoch: 7 Batch: 75 of 105.  Accuracy: 0.68\n",
      "\n"
     ]
    },
    {
     "name": "stdout",
     "output_type": "stream",
     "text": [
      "Epoch: 7 Batch: 100 of 105.  Accuracy: 0.68\n",
      "\n"
     ]
    },
    {
     "name": "stdout",
     "output_type": "stream",
     "text": [
      "\n",
      "VALIDATION SET: Epoch: 7 Accuracy: 0.64\n",
      "\n"
     ]
    },
    {
     "name": "stdout",
     "output_type": "stream",
     "text": [
      "Epoch: 8 Batch: 25 of 105.  Accuracy: 0.70\n",
      "\n"
     ]
    },
    {
     "name": "stdout",
     "output_type": "stream",
     "text": [
      "Epoch: 8 Batch: 50 of 105.  Accuracy: 0.71\n",
      "\n"
     ]
    },
    {
     "name": "stdout",
     "output_type": "stream",
     "text": [
      "Epoch: 8 Batch: 75 of 105.  Accuracy: 0.71\n",
      "\n"
     ]
    },
    {
     "name": "stdout",
     "output_type": "stream",
     "text": [
      "Epoch: 8 Batch: 100 of 105.  Accuracy: 0.71\n",
      "\n"
     ]
    },
    {
     "name": "stdout",
     "output_type": "stream",
     "text": [
      "\n",
      "VALIDATION SET: Epoch: 8 Accuracy: 0.66\n",
      "\n"
     ]
    },
    {
     "name": "stdout",
     "output_type": "stream",
     "text": [
      "Epoch: 9 Batch: 25 of 105.  Accuracy: 0.74\n",
      "\n"
     ]
    },
    {
     "name": "stdout",
     "output_type": "stream",
     "text": [
      "Epoch: 9 Batch: 50 of 105.  Accuracy: 0.74\n",
      "\n"
     ]
    },
    {
     "name": "stdout",
     "output_type": "stream",
     "text": [
      "Epoch: 9 Batch: 75 of 105.  Accuracy: 0.73\n",
      "\n"
     ]
    },
    {
     "name": "stdout",
     "output_type": "stream",
     "text": [
      "Epoch: 9 Batch: 100 of 105.  Accuracy: 0.74\n",
      "\n"
     ]
    },
    {
     "name": "stdout",
     "output_type": "stream",
     "text": [
      "\n",
      "VALIDATION SET: Epoch: 9 Accuracy: 0.67\n",
      "\n"
     ]
    },
    {
     "name": "stdout",
     "output_type": "stream",
     "text": [
      "Epoch: 10 Batch: 25 of 105.  Accuracy: 0.76\n",
      "\n"
     ]
    },
    {
     "name": "stdout",
     "output_type": "stream",
     "text": [
      "Epoch: 10 Batch: 50 of 105.  Accuracy: 0.76\n",
      "\n"
     ]
    },
    {
     "name": "stdout",
     "output_type": "stream",
     "text": [
      "Epoch: 10 Batch: 75 of 105.  Accuracy: 0.76\n",
      "\n"
     ]
    },
    {
     "name": "stdout",
     "output_type": "stream",
     "text": [
      "Epoch: 10 Batch: 100 of 105.  Accuracy: 0.76\n",
      "\n"
     ]
    },
    {
     "name": "stdout",
     "output_type": "stream",
     "text": [
      "\n",
      "VALIDATION SET: Epoch: 10 Accuracy: 0.68\n",
      "\n",
      "No validation accuracy improvement in last 3 epochs, terminating training loop\n"
     ]
    }
   ],
   "source": [
    "# training loop - RUN AND EVALUATE THE MODEL\n",
    "\n",
    "for epoch in range(1, epochs + 1):\n",
    "    tweet_lstm_classifier.train()\n",
    "    total_acc, total_count = 0, 0\n",
    "    for idx, (label, text) in enumerate(train_loader):\n",
    "        #         zero out the gradient for a new run\n",
    "        optimizer.zero_grad()\n",
    "        # create a prediction\n",
    "        predicted_label = tweet_lstm_classifier(text, n_layers, hidden_dim)\n",
    "        # calculate loss and run backprop\n",
    "        # print(label)\n",
    "        loss = criterion(predicted_label, label)\n",
    "        loss.backward()\n",
    "        torch.nn.utils.clip_grad_norm_(tweet_lstm_classifier.parameters(), 0.1)\n",
    "        # update weights\n",
    "        optimizer.step()\n",
    "        total_acc += (predicted_label.argmax(1) == label).sum().item()\n",
    "        total_count += label.size(0)\n",
    "        if idx % batch_log_freq == 0 and idx > 0:\n",
    "            accuracy = total_acc / total_count\n",
    "            print(f\"Epoch: {epoch} Batch: {idx} of {total_batches_per_epoch}.  Accuracy: {accuracy:.2f}\\n\")\n",
    "            total_acc, total_count = 0, 0\n",
    "            \n",
    "    tweet_lstm_classifier.eval()\n",
    "    total_acc, total_count = 0, 0\n",
    "\n",
    "    with torch.no_grad():\n",
    "        for idx, (label, text) in enumerate(val_loader):\n",
    "            predicted_label = tweet_lstm_classifier(text, n_layers, hidden_dim)\n",
    "            loss = criterion(predicted_label, label)\n",
    "            total_acc += (predicted_label.argmax(1) == label).sum().item()\n",
    "            total_count += label.size(0)\n",
    "    acc_score = total_acc / total_count\n",
    "    \n",
    "    if total_accu is not None and total_accu > acc_score:\n",
    "        scheduler.step()\n",
    "    else:\n",
    "        total_accu = acc_score\n",
    "    \n",
    "    print(f\"\\nVALIDATION SET: Epoch: {epoch} Accuracy: {acc_score:.2f}\\n\")\n",
    "    acc_improvement = acc_score - full_acc_score\n",
    "    full_acc_score = acc_score\n",
    "    if acc_improvement < 0.02:\n",
    "        acc_score_counter.append(1)\n",
    "    else:\n",
    "        acc_score_counter.append(0)\n",
    "    if len(acc_score_counter) > 5 and sum(acc_score_counter[-3:]) > 2:\n",
    "        print(\"No validation accuracy improvement in last 3 epochs, terminating training loop\")"
   ]
  },
  {
   "cell_type": "code",
   "execution_count": 31,
   "id": "88780a39",
   "metadata": {
    "execution": {
     "iopub.execute_input": "2022-08-13T22:31:42.035507Z",
     "iopub.status.busy": "2022-08-13T22:31:42.035019Z",
     "iopub.status.idle": "2022-08-13T22:31:47.099063Z",
     "shell.execute_reply": "2022-08-13T22:31:47.097900Z"
    },
    "papermill": {
     "duration": 5.09038,
     "end_time": "2022-08-13T22:31:47.102032",
     "exception": false,
     "start_time": "2022-08-13T22:31:42.011652",
     "status": "completed"
    },
    "tags": []
   },
   "outputs": [],
   "source": [
    "# create predictions on the test set\n",
    "full_preds = []\n",
    "with torch.no_grad():\n",
    "    for idx, (label, text) in enumerate(test_loader):\n",
    "        predicted_label = tweet_lstm_classifier(text, n_layers, hidden_dim)\n",
    "        preds = predicted_label.argmax(1)\n",
    "        full_preds.extend(preds)\n",
    "y_pred = [a.item() for a in full_preds]"
   ]
  },
  {
   "cell_type": "code",
   "execution_count": 32,
   "id": "12f7e5fc",
   "metadata": {
    "execution": {
     "iopub.execute_input": "2022-08-13T22:31:47.149378Z",
     "iopub.status.busy": "2022-08-13T22:31:47.148644Z",
     "iopub.status.idle": "2022-08-13T22:31:47.166646Z",
     "shell.execute_reply": "2022-08-13T22:31:47.165702Z"
    },
    "papermill": {
     "duration": 0.045188,
     "end_time": "2022-08-13T22:31:47.169759",
     "exception": false,
     "start_time": "2022-08-13T22:31:47.124571",
     "status": "completed"
    },
    "tags": []
   },
   "outputs": [
    {
     "data": {
      "text/plain": [
       "0.6941750775117093"
      ]
     },
     "execution_count": 32,
     "metadata": {},
     "output_type": "execute_result"
    }
   ],
   "source": [
    "# metrics on test set\n",
    "y_true = [a[0] for a in test_lemma_docs]\n",
    "accuracy_score(y_true, y_pred)"
   ]
  },
  {
   "cell_type": "code",
   "execution_count": 33,
   "id": "49888379",
   "metadata": {
    "execution": {
     "iopub.execute_input": "2022-08-13T22:31:47.216783Z",
     "iopub.status.busy": "2022-08-13T22:31:47.216361Z",
     "iopub.status.idle": "2022-08-13T22:31:47.248089Z",
     "shell.execute_reply": "2022-08-13T22:31:47.247192Z"
    },
    "papermill": {
     "duration": 0.058871,
     "end_time": "2022-08-13T22:31:47.251107",
     "exception": false,
     "start_time": "2022-08-13T22:31:47.192236",
     "status": "completed"
    },
    "tags": []
   },
   "outputs": [
    {
     "data": {
      "text/plain": [
       "0.6476137532005054"
      ]
     },
     "execution_count": 33,
     "metadata": {},
     "output_type": "execute_result"
    }
   ],
   "source": [
    "# more metrics on test set\n",
    "f1_score(y_true, y_pred, average='macro')"
   ]
  },
  {
   "cell_type": "markdown",
   "id": "b72d2af4",
   "metadata": {
    "papermill": {
     "duration": 0.022461,
     "end_time": "2022-08-13T22:31:47.296993",
     "exception": false,
     "start_time": "2022-08-13T22:31:47.274532",
     "status": "completed"
    },
    "tags": []
   },
   "source": [
    "Notes and resources:\n",
    "* https://pytorch.org/tutorials/beginner/text_sentiment_ngrams_tutorial.html\n",
    "* https://coderzcolumn.com/tutorials/artificial-intelligence/pytorch-lstm-for-text-classification-tasks\n",
    "* https://github.com/pytorch/text/blob/master/examples/legacy_tutorial/migration_tutorial.ipynb"
   ]
  },
  {
   "cell_type": "code",
   "execution_count": null,
   "id": "789ec168",
   "metadata": {
    "papermill": {
     "duration": 0.022566,
     "end_time": "2022-08-13T22:31:47.342039",
     "exception": false,
     "start_time": "2022-08-13T22:31:47.319473",
     "status": "completed"
    },
    "tags": []
   },
   "outputs": [],
   "source": []
  }
 ],
 "metadata": {
  "jupytext": {
   "cell_metadata_filter": "tags,-all",
   "main_language": "python",
   "notebook_metadata_filter": "-all",
   "text_representation": {
    "extension": ".py",
    "format_name": "light"
   }
  },
  "kernelspec": {
   "display_name": "Python 3 (ipykernel)",
   "language": "python",
   "name": "python3"
  },
  "language_info": {
   "codemirror_mode": {
    "name": "ipython",
    "version": 3
   },
   "file_extension": ".py",
   "mimetype": "text/x-python",
   "name": "python",
   "nbconvert_exporter": "python",
   "pygments_lexer": "ipython3",
   "version": "3.9.12"
  },
  "papermill": {
   "duration": 611.115013,
   "end_time": "2022-08-13T22:31:48.196688",
   "exception": null,
   "input_path": "/var/folders/lw/k7hqg3bn7s326rs6jxn046b40000gp/T/tmp2p_i6wo4.ipynb",
   "output_path": "/Users/mboussarov/_umsi/Capstone/umads_697_data_medics/pipeline/output/nn_classification_analysis.ipynb",
   "parameters": {
    "epochs": 10,
    "product": {
     "nb": "/Users/mboussarov/_umsi/Capstone/umads_697_data_medics/pipeline/output/nn_classification_analysis.ipynb"
    }
   },
   "start_time": "2022-08-13T22:21:37.081675"
  }
 },
 "nbformat": 4,
 "nbformat_minor": 5
}