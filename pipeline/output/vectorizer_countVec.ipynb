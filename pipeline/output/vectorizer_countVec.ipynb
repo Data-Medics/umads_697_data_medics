{
 "cells": [
  {
   "cell_type": "code",
   "execution_count": 1,
   "id": "deed8658",
   "metadata": {
    "execution": {
     "iopub.execute_input": "2022-08-04T03:57:20.399959Z",
     "iopub.status.busy": "2022-08-04T03:57:20.399959Z",
     "iopub.status.idle": "2022-08-04T03:57:26.940133Z",
     "shell.execute_reply": "2022-08-04T03:57:26.939976Z"
    },
    "lines_to_next_cell": 2,
    "papermill": {
     "duration": 6.548108,
     "end_time": "2022-08-04T03:57:26.940133",
     "exception": false,
     "start_time": "2022-08-04T03:57:20.392025",
     "status": "completed"
    },
    "tags": [],
    "pycharm": {
     "name": "#%%\n"
    }
   },
   "outputs": [
    {
     "name": "stderr",
     "output_type": "stream",
     "text": [
      "[nltk_data] Downloading package punkt to\n",
      "[nltk_data]     C:\\Users\\gillrobe\\AppData\\Roaming\\nltk_data...\n",
      "[nltk_data]   Package punkt is already up-to-date!\n"
     ]
    }
   ],
   "source": [
    "from tools_rjg import *\n",
    "import numpy as np\n",
    "import pandas as pd\n",
    "import re, nltk, spacy, gensim\n",
    "from nltk.corpus import stopwords\n",
    "nltk.download('punkt')\n",
    "from sklearn.feature_extraction.text import CountVectorizer, TfidfVectorizer\n",
    "import pickle\n",
    "import os"
   ]
  },
  {
   "cell_type": "code",
   "execution_count": 2,
   "id": "97cce86d",
   "metadata": {
    "execution": {
     "iopub.execute_input": "2022-08-04T03:57:26.951219Z",
     "iopub.status.busy": "2022-08-04T03:57:26.951219Z",
     "iopub.status.idle": "2022-08-04T03:57:26.972586Z",
     "shell.execute_reply": "2022-08-04T03:57:26.971527Z"
    },
    "papermill": {
     "duration": 0.0265,
     "end_time": "2022-08-04T03:57:26.973984",
     "exception": false,
     "start_time": "2022-08-04T03:57:26.947484",
     "status": "completed"
    },
    "tags": [
     "parameters"
    ],
    "pycharm": {
     "name": "#%%\n"
    }
   },
   "outputs": [],
   "source": [
    "upstream = []\n",
    "random_seed = 42"
   ]
  },
  {
   "cell_type": "code",
   "execution_count": 3,
   "id": "901d53bf",
   "metadata": {
    "execution": {
     "iopub.execute_input": "2022-08-04T03:57:26.985241Z",
     "iopub.status.busy": "2022-08-04T03:57:26.983046Z",
     "iopub.status.idle": "2022-08-04T03:57:27.005443Z",
     "shell.execute_reply": "2022-08-04T03:57:27.005443Z"
    },
    "papermill": {
     "duration": 0.02934,
     "end_time": "2022-08-04T03:57:27.007260",
     "exception": false,
     "start_time": "2022-08-04T03:57:26.977920",
     "status": "completed"
    },
    "tags": [
     "injected-parameters"
    ],
    "pycharm": {
     "name": "#%%\n"
    }
   },
   "outputs": [],
   "source": [
    "# Parameters\n",
    "random_seed = 42\n",
    "product = {\n",
    "    \"nb\": \"C:\\\\Users\\\\gillrobe\\\\DataScience\\\\umads_697_data_medics\\\\pipeline\\\\output\\\\vectorizer_countVec.ipynb\",\n",
    "    \"vectorizer\": \"C:\\\\Users\\\\gillrobe\\\\DataScience\\\\umads_697_data_medics\\\\pipeline\\\\output\\\\vectorizer_countVec.pkl\",\n",
    "}\n"
   ]
  },
  {
   "cell_type": "code",
   "execution_count": 4,
   "id": "2f4a6623",
   "metadata": {
    "execution": {
     "iopub.execute_input": "2022-08-04T03:57:27.015065Z",
     "iopub.status.busy": "2022-08-04T03:57:27.015065Z",
     "iopub.status.idle": "2022-08-04T03:57:27.320361Z",
     "shell.execute_reply": "2022-08-04T03:57:27.320343Z"
    },
    "papermill": {
     "duration": 0.307966,
     "end_time": "2022-08-04T03:57:27.320361",
     "exception": false,
     "start_time": "2022-08-04T03:57:27.012395",
     "status": "completed"
    },
    "tags": [],
    "pycharm": {
     "name": "#%%\n"
    }
   },
   "outputs": [],
   "source": [
    "df_all = generate_disaster_type_dataframe(disaster_types = ('earthquake', 'fire', 'flood', 'hurricane')\n",
    "                                          , dev_train_test= ('dev', 'train', 'test'))"
   ]
  },
  {
   "cell_type": "code",
   "execution_count": null,
   "id": "957fe594",
   "metadata": {
    "lines_to_next_cell": 2,
    "papermill": {
     "duration": 0.004361,
     "end_time": "2022-08-04T03:57:27.330522",
     "exception": false,
     "start_time": "2022-08-04T03:57:27.326161",
     "status": "completed"
    },
    "tags": [],
    "pycharm": {
     "name": "#%%\n"
    }
   },
   "outputs": [],
   "source": []
  },
  {
   "cell_type": "code",
   "execution_count": 5,
   "id": "30438d5b",
   "metadata": {
    "execution": {
     "iopub.execute_input": "2022-08-04T03:57:27.339082Z",
     "iopub.status.busy": "2022-08-04T03:57:27.339082Z",
     "iopub.status.idle": "2022-08-04T04:00:00.026404Z",
     "shell.execute_reply": "2022-08-04T04:00:00.025029Z"
    },
    "lines_to_next_cell": 2,
    "papermill": {
     "duration": 152.733689,
     "end_time": "2022-08-04T04:00:00.067935",
     "exception": false,
     "start_time": "2022-08-04T03:57:27.334246",
     "status": "completed"
    },
    "tags": [],
    "pycharm": {
     "name": "#%%\n"
    }
   },
   "outputs": [],
   "source": [
    "df_all['tweet_text_cleaned'] = df_all['tweet_text'].apply(lambda x: tweet_preprocessing(x))\n",
    "df_all['lemmatized'] = df_all['tweet_text_cleaned'].apply(lambda x: lemmatize_tweet_text(x, allowed_postags=('NOUN', 'ADJ', 'VERB', 'ADV')))"
   ]
  },
  {
   "cell_type": "code",
   "execution_count": 6,
   "id": "acdfed94",
   "metadata": {
    "execution": {
     "iopub.execute_input": "2022-08-04T04:00:00.120503Z",
     "iopub.status.busy": "2022-08-04T04:00:00.120503Z",
     "iopub.status.idle": "2022-08-04T04:00:00.187359Z",
     "shell.execute_reply": "2022-08-04T04:00:00.186860Z"
    },
    "papermill": {
     "duration": 0.077306,
     "end_time": "2022-08-04T04:00:00.187359",
     "exception": false,
     "start_time": "2022-08-04T04:00:00.110053",
     "status": "completed"
    },
    "tags": [],
    "pycharm": {
     "name": "#%%\n"
    }
   },
   "outputs": [
    {
     "name": "stderr",
     "output_type": "stream",
     "text": [
      "[nltk_data] Downloading package stopwords to\n",
      "[nltk_data]     C:\\Users\\gillrobe\\AppData\\Roaming\\nltk_data...\n",
      "[nltk_data]   Package stopwords is already up-to-date!\n"
     ]
    }
   ],
   "source": [
    "nltk.download('stopwords')\n",
    "stop_words = set(stopwords.words('english'))\n",
    "stop_words |= {\"attach\", \"ahead\", \"rt\",'www','tinyurl','com', 'https', 'http',\n",
    "               '&amp','amp', 'rt', 'bit', 'ly', 'bitly', 'trump', 'byte', 'bytes',\n",
    "               'donald','emoji','earthquake','fire','flood','hurricane','wildfire','people','eqnz','water',\n",
    "               'mexico','forest','greecefire','harvey','bahama','keralaflood','lanka','florence','dorian','irma',\n",
    "               'ecuador'}"
   ]
  },
  {
   "cell_type": "code",
   "execution_count": 7,
   "id": "c2fe7ef7",
   "metadata": {
    "execution": {
     "iopub.execute_input": "2022-08-04T04:00:00.201173Z",
     "iopub.status.busy": "2022-08-04T04:00:00.200674Z",
     "iopub.status.idle": "2022-08-04T04:00:00.223870Z",
     "shell.execute_reply": "2022-08-04T04:00:00.222683Z"
    },
    "papermill": {
     "duration": 0.032995,
     "end_time": "2022-08-04T04:00:00.224369",
     "exception": false,
     "start_time": "2022-08-04T04:00:00.191374",
     "status": "completed"
    },
    "tags": [],
    "pycharm": {
     "name": "#%%\n"
    }
   },
   "outputs": [],
   "source": [
    "# Build Disaster Type LDA Model\n",
    "disaster_types = ['earthquake','fire', 'flood', 'hurricane']"
   ]
  },
  {
   "cell_type": "code",
   "execution_count": 8,
   "id": "e58c0db7",
   "metadata": {
    "execution": {
     "iopub.execute_input": "2022-08-04T04:00:00.237656Z",
     "iopub.status.busy": "2022-08-04T04:00:00.237154Z",
     "iopub.status.idle": "2022-08-04T04:00:00.258078Z",
     "shell.execute_reply": "2022-08-04T04:00:00.257743Z"
    },
    "papermill": {
     "duration": 0.028655,
     "end_time": "2022-08-04T04:00:00.259939",
     "exception": false,
     "start_time": "2022-08-04T04:00:00.231284",
     "status": "completed"
    },
    "tags": [],
    "pycharm": {
     "name": "#%%\n"
    }
   },
   "outputs": [],
   "source": [
    "vectorizer_params = {'analyzer' : 'word',\n",
    "                     'min_df' : 10,\n",
    "                     'stop_words' : stop_words,\n",
    "                     'lowercase' : False,\n",
    "                     'ngram_range' : (1,2)}"
   ]
  },
  {
   "cell_type": "code",
   "execution_count": 9,
   "id": "ad5c38f3",
   "metadata": {
    "execution": {
     "iopub.execute_input": "2022-08-04T04:00:00.272357Z",
     "iopub.status.busy": "2022-08-04T04:00:00.272357Z",
     "iopub.status.idle": "2022-08-04T04:00:01.532096Z",
     "shell.execute_reply": "2022-08-04T04:00:01.531537Z"
    },
    "papermill": {
     "duration": 1.266154,
     "end_time": "2022-08-04T04:00:01.532096",
     "exception": false,
     "start_time": "2022-08-04T04:00:00.265942",
     "status": "completed"
    },
    "tags": [],
    "pycharm": {
     "name": "#%%\n"
    }
   },
   "outputs": [],
   "source": [
    "vectorizer = CountVectorizer(**vectorizer_params).fit(list(df_all['lemmatized']))"
   ]
  },
  {
   "cell_type": "code",
   "execution_count": 10,
   "id": "5543d67f",
   "metadata": {
    "execution": {
     "iopub.execute_input": "2022-08-04T04:00:01.543624Z",
     "iopub.status.busy": "2022-08-04T04:00:01.543624Z",
     "iopub.status.idle": "2022-08-04T04:00:01.667324Z",
     "shell.execute_reply": "2022-08-04T04:00:01.667324Z"
    },
    "lines_to_next_cell": 0,
    "papermill": {
     "duration": 0.128388,
     "end_time": "2022-08-04T04:00:01.667324",
     "exception": false,
     "start_time": "2022-08-04T04:00:01.538936",
     "status": "completed"
    },
    "tags": [],
    "pycharm": {
     "name": "#%%\n"
    }
   },
   "outputs": [],
   "source": [
    "with open(str(product['vectorizer']), \"wb\") as f:\n",
    "    pickle.dump(vectorizer, f)"
   ]
  },
  {
   "cell_type": "code",
   "execution_count": null,
   "id": "a05fb3de",
   "metadata": {
    "papermill": {
     "duration": 0.003459,
     "end_time": "2022-08-04T04:00:01.677580",
     "exception": false,
     "start_time": "2022-08-04T04:00:01.674121",
     "status": "completed"
    },
    "tags": [],
    "pycharm": {
     "name": "#%%\n"
    }
   },
   "outputs": [],
   "source": [
    "\n"
   ]
  }
 ],
 "metadata": {
  "jupytext": {
   "cell_metadata_filter": "tags,-all",
   "main_language": "python",
   "notebook_metadata_filter": "-all",
   "text_representation": {
    "extension": ".py",
    "format_name": "light"
   }
  },
  "kernelspec": {
   "display_name": "Python 3 (ipykernel)",
   "language": "python",
   "name": "python3"
  },
  "language_info": {
   "codemirror_mode": {
    "name": "ipython",
    "version": 3
   },
   "file_extension": ".py",
   "mimetype": "text/x-python",
   "name": "python",
   "nbconvert_exporter": "python",
   "pygments_lexer": "ipython3",
   "version": "3.9.13"
  },
  "papermill": {
   "duration": 165.7214,
   "end_time": "2022-08-04T04:00:02.919380",
   "exception": null,
   "input_path": "C:\\Users\\gillrobe\\AppData\\Local\\Temp\\tmpch4k46w2.ipynb",
   "output_path": "C:\\Users\\gillrobe\\DataScience\\umads_697_data_medics\\pipeline\\output\\vectorizer_countVec.ipynb",
   "parameters": {
    "product": {
     "nb": "C:\\Users\\gillrobe\\DataScience\\umads_697_data_medics\\pipeline\\output\\vectorizer_countVec.ipynb",
     "vectorizer": "C:\\Users\\gillrobe\\DataScience\\umads_697_data_medics\\pipeline\\output\\vectorizer_countVec.pkl"
    },
    "random_seed": 42
   },
   "start_time": "2022-08-04T03:57:17.197980"
  }
 },
 "nbformat": 4,
 "nbformat_minor": 5
}