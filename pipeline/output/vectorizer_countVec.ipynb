{
 "cells": [
  {
   "cell_type": "code",
   "execution_count": 1,
   "id": "3aeef0ee",
   "metadata": {
    "execution": {
     "iopub.execute_input": "2022-08-04T04:53:26.683005Z",
     "iopub.status.busy": "2022-08-04T04:53:26.682005Z",
     "iopub.status.idle": "2022-08-04T04:53:33.327760Z",
     "shell.execute_reply": "2022-08-04T04:53:33.327213Z"
    },
    "lines_to_next_cell": 2,
    "papermill": {
     "duration": 6.651543,
     "end_time": "2022-08-04T04:53:33.328792",
     "exception": false,
     "start_time": "2022-08-04T04:53:26.677249",
     "status": "completed"
    },
    "tags": []
   },
   "outputs": [
    {
     "name": "stderr",
     "output_type": "stream",
     "text": [
      "[nltk_data] Downloading package punkt to\n",
      "[nltk_data]     C:\\Users\\gillrobe\\AppData\\Roaming\\nltk_data...\n",
      "[nltk_data]   Package punkt is already up-to-date!\n"
     ]
    }
   ],
   "source": [
    "from tools_rjg import *\n",
    "import numpy as np\n",
    "import pandas as pd\n",
    "import re, nltk, spacy, gensim\n",
    "from nltk.corpus import stopwords\n",
    "nltk.download('punkt')\n",
    "from sklearn.feature_extraction.text import CountVectorizer, TfidfVectorizer\n",
    "import pickle\n",
    "import os"
   ]
  },
  {
   "cell_type": "code",
   "execution_count": 2,
   "id": "35b79d9b",
   "metadata": {
    "execution": {
     "iopub.execute_input": "2022-08-04T04:53:33.339740Z",
     "iopub.status.busy": "2022-08-04T04:53:33.338903Z",
     "iopub.status.idle": "2022-08-04T04:53:33.343112Z",
     "shell.execute_reply": "2022-08-04T04:53:33.342665Z"
    },
    "papermill": {
     "duration": 0.016092,
     "end_time": "2022-08-04T04:53:33.344884",
     "exception": false,
     "start_time": "2022-08-04T04:53:33.328792",
     "status": "completed"
    },
    "tags": [
     "parameters"
    ]
   },
   "outputs": [],
   "source": [
    "upstream = []\n",
    "random_seed = 42"
   ]
  },
  {
   "cell_type": "code",
   "execution_count": 3,
   "id": "81e3187f",
   "metadata": {
    "execution": {
     "iopub.execute_input": "2022-08-04T04:53:33.351733Z",
     "iopub.status.busy": "2022-08-04T04:53:33.351733Z",
     "iopub.status.idle": "2022-08-04T04:53:33.361105Z",
     "shell.execute_reply": "2022-08-04T04:53:33.360107Z"
    },
    "papermill": {
     "duration": 0.013503,
     "end_time": "2022-08-04T04:53:33.361637",
     "exception": false,
     "start_time": "2022-08-04T04:53:33.348134",
     "status": "completed"
    },
    "tags": [
     "injected-parameters"
    ]
   },
   "outputs": [],
   "source": [
    "# Parameters\n",
    "random_seed = 42\n",
    "product = {\n",
    "    \"nb\": \"C:\\\\Users\\\\gillrobe\\\\DataScience\\\\umads_697_data_medics\\\\pipeline\\\\output\\\\vectorizer_countVec.ipynb\",\n",
    "    \"vectorizer\": \"C:\\\\Users\\\\gillrobe\\\\DataScience\\\\umads_697_data_medics\\\\pipeline\\\\output\\\\vectorizer_countVec.pkl\",\n",
    "}\n"
   ]
  },
  {
   "cell_type": "code",
   "execution_count": 4,
   "id": "e2ea8ead",
   "metadata": {
    "execution": {
     "iopub.execute_input": "2022-08-04T04:53:33.370976Z",
     "iopub.status.busy": "2022-08-04T04:53:33.370976Z",
     "iopub.status.idle": "2022-08-04T04:53:33.644033Z",
     "shell.execute_reply": "2022-08-04T04:53:33.643396Z"
    },
    "papermill": {
     "duration": 0.282396,
     "end_time": "2022-08-04T04:53:33.644033",
     "exception": false,
     "start_time": "2022-08-04T04:53:33.361637",
     "status": "completed"
    },
    "tags": []
   },
   "outputs": [],
   "source": [
    "df_all = generate_disaster_type_dataframe(disaster_types = ('earthquake', 'fire', 'flood', 'hurricane')\n",
    "                                          , dev_train_test= ('dev', 'train', 'test'))"
   ]
  },
  {
   "cell_type": "code",
   "execution_count": null,
   "id": "2a1a4438",
   "metadata": {
    "lines_to_next_cell": 2,
    "papermill": {
     "duration": 0.003932,
     "end_time": "2022-08-04T04:53:33.654160",
     "exception": false,
     "start_time": "2022-08-04T04:53:33.650228",
     "status": "completed"
    },
    "tags": []
   },
   "outputs": [],
   "source": []
  },
  {
   "cell_type": "code",
   "execution_count": 5,
   "id": "6439cfca",
   "metadata": {
    "execution": {
     "iopub.execute_input": "2022-08-04T04:53:33.666192Z",
     "iopub.status.busy": "2022-08-04T04:53:33.666192Z",
     "iopub.status.idle": "2022-08-04T04:56:22.745645Z",
     "shell.execute_reply": "2022-08-04T04:56:22.744971Z"
    },
    "lines_to_next_cell": 2,
    "papermill": {
     "duration": 169.099179,
     "end_time": "2022-08-04T04:56:22.753838",
     "exception": false,
     "start_time": "2022-08-04T04:53:33.654659",
     "status": "completed"
    },
    "tags": []
   },
   "outputs": [],
   "source": [
    "df_all['tweet_text_cleaned'] = df_all['tweet_text'].apply(lambda x: tweet_preprocessing(x))\n",
    "df_all['lemmatized'] = df_all['tweet_text_cleaned'].apply(lambda x: lemmatize_tweet_text(x, allowed_postags=('NOUN', 'ADJ', 'VERB', 'ADV')))"
   ]
  },
  {
   "cell_type": "code",
   "execution_count": 6,
   "id": "656565ca",
   "metadata": {
    "execution": {
     "iopub.execute_input": "2022-08-04T04:56:22.772589Z",
     "iopub.status.busy": "2022-08-04T04:56:22.772589Z",
     "iopub.status.idle": "2022-08-04T04:56:22.796194Z",
     "shell.execute_reply": "2022-08-04T04:56:22.796194Z"
    },
    "papermill": {
     "duration": 0.031041,
     "end_time": "2022-08-04T04:56:22.796194",
     "exception": false,
     "start_time": "2022-08-04T04:56:22.765153",
     "status": "completed"
    },
    "pycharm": {
     "name": "#%%\n"
    },
    "tags": []
   },
   "outputs": [
    {
     "name": "stderr",
     "output_type": "stream",
     "text": [
      "[nltk_data] Downloading package stopwords to\n",
      "[nltk_data]     C:\\Users\\gillrobe\\AppData\\Roaming\\nltk_data...\n",
      "[nltk_data]   Package stopwords is already up-to-date!\n"
     ]
    }
   ],
   "source": [
    "nltk.download('stopwords')\n",
    "stop_words = set(stopwords.words('english'))\n",
    "stop_words |= {\"attach\", \"ahead\", \"rt\",'www','tinyurl','com', 'https', 'http',\n",
    "               '&amp','amp', 'rt', 'bit', 'ly', 'bitly', 'trump', 'byte', 'bytes',\n",
    "               'donald','emoji','earthquake','fire','flood','hurricane','wildfire','people','eqnz','water',\n",
    "               'mexico','forest','greecefire','harvey','bahama','keralaflood','lanka','florence','dorian','irma',\n",
    "               'ecuador','italian','terremoto','azad','mirpur','kaikoura','indian','islamabad','northern','woolsey',\n",
    "               'greece','southern','malibu','ymmfire','chico','chengannur','lakh','donate lakh','onam','floridian','maria',\n",
    "               'mozambique','zimbabwe','nebraska','matthew','haiti','crore','greek'}"
   ]
  },
  {
   "cell_type": "code",
   "execution_count": 7,
   "id": "8430ee46",
   "metadata": {
    "execution": {
     "iopub.execute_input": "2022-08-04T04:56:22.804704Z",
     "iopub.status.busy": "2022-08-04T04:56:22.804704Z",
     "iopub.status.idle": "2022-08-04T04:56:22.821676Z",
     "shell.execute_reply": "2022-08-04T04:56:22.820441Z"
    },
    "papermill": {
     "duration": 0.020188,
     "end_time": "2022-08-04T04:56:22.821676",
     "exception": false,
     "start_time": "2022-08-04T04:56:22.801488",
     "status": "completed"
    },
    "tags": []
   },
   "outputs": [],
   "source": [
    "# Build Disaster Type LDA Model\n",
    "disaster_types = ['earthquake','fire', 'flood', 'hurricane']"
   ]
  },
  {
   "cell_type": "code",
   "execution_count": 8,
   "id": "9a76d3d3",
   "metadata": {
    "execution": {
     "iopub.execute_input": "2022-08-04T04:56:22.833704Z",
     "iopub.status.busy": "2022-08-04T04:56:22.832323Z",
     "iopub.status.idle": "2022-08-04T04:56:22.862092Z",
     "shell.execute_reply": "2022-08-04T04:56:22.862092Z"
    },
    "papermill": {
     "duration": 0.034271,
     "end_time": "2022-08-04T04:56:22.862092",
     "exception": false,
     "start_time": "2022-08-04T04:56:22.827821",
     "status": "completed"
    },
    "tags": []
   },
   "outputs": [],
   "source": [
    "vectorizer_params = {'analyzer' : 'word',\n",
    "                     'min_df' : 10,\n",
    "                     'stop_words' : stop_words,\n",
    "                     'lowercase' : False,\n",
    "                     'ngram_range' : (1,2)}"
   ]
  },
  {
   "cell_type": "code",
   "execution_count": 9,
   "id": "0eb3a0dd",
   "metadata": {
    "execution": {
     "iopub.execute_input": "2022-08-04T04:56:22.874796Z",
     "iopub.status.busy": "2022-08-04T04:56:22.872655Z",
     "iopub.status.idle": "2022-08-04T04:56:24.251041Z",
     "shell.execute_reply": "2022-08-04T04:56:24.251041Z"
    },
    "papermill": {
     "duration": 1.38245,
     "end_time": "2022-08-04T04:56:24.251041",
     "exception": false,
     "start_time": "2022-08-04T04:56:22.868591",
     "status": "completed"
    },
    "tags": []
   },
   "outputs": [
    {
     "name": "stderr",
     "output_type": "stream",
     "text": [
      "C:\\Users\\gillrobe\\AppData\\Local\\pypoetry\\Cache\\virtualenvs\\data-medics-capstone-E3RTzdp6-py3.9\\lib\\site-packages\\sklearn\\feature_extraction\\text.py:404: UserWarning: Your stop_words may be inconsistent with your preprocessing. Tokenizing the stop words generated tokens ['donate'] not in stop_words.\n",
      "  warnings.warn(\n"
     ]
    }
   ],
   "source": [
    "vectorizer = CountVectorizer(**vectorizer_params).fit(list(df_all['lemmatized']))"
   ]
  },
  {
   "cell_type": "code",
   "execution_count": 10,
   "id": "51b694a5",
   "metadata": {
    "execution": {
     "iopub.execute_input": "2022-08-04T04:56:24.265607Z",
     "iopub.status.busy": "2022-08-04T04:56:24.265607Z",
     "iopub.status.idle": "2022-08-04T04:56:24.368393Z",
     "shell.execute_reply": "2022-08-04T04:56:24.367431Z"
    },
    "lines_to_next_cell": 0,
    "papermill": {
     "duration": 0.118141,
     "end_time": "2022-08-04T04:56:24.369182",
     "exception": false,
     "start_time": "2022-08-04T04:56:24.251041",
     "status": "completed"
    },
    "tags": []
   },
   "outputs": [],
   "source": [
    "with open(str(product['vectorizer']), \"wb\") as f:\n",
    "    pickle.dump(vectorizer, f)"
   ]
  },
  {
   "cell_type": "code",
   "execution_count": null,
   "id": "5fcf2889",
   "metadata": {
    "papermill": {
     "duration": 0.006989,
     "end_time": "2022-08-04T04:56:24.376171",
     "exception": false,
     "start_time": "2022-08-04T04:56:24.369182",
     "status": "completed"
    },
    "tags": []
   },
   "outputs": [],
   "source": [
    "\n"
   ]
  }
 ],
 "metadata": {
  "jupytext": {
   "cell_metadata_filter": "tags,-all",
   "main_language": "python",
   "notebook_metadata_filter": "-all"
  },
  "kernelspec": {
   "display_name": "Python 3 (ipykernel)",
   "language": "python",
   "name": "python3"
  },
  "language_info": {
   "codemirror_mode": {
    "name": "ipython",
    "version": 3
   },
   "file_extension": ".py",
   "mimetype": "text/x-python",
   "name": "python",
   "nbconvert_exporter": "python",
   "pygments_lexer": "ipython3",
   "version": "3.9.12"
  },
  "papermill": {
   "duration": 182.841921,
   "end_time": "2022-08-04T04:56:25.390798",
   "exception": null,
   "input_path": "C:\\Users\\gillrobe\\AppData\\Local\\Temp\\tmpwh3goqhn.ipynb",
   "output_path": "C:\\Users\\gillrobe\\DataScience\\umads_697_data_medics\\pipeline\\output\\vectorizer_countVec.ipynb",
   "parameters": {
    "product": {
     "nb": "C:\\Users\\gillrobe\\DataScience\\umads_697_data_medics\\pipeline\\output\\vectorizer_countVec.ipynb",
     "vectorizer": "C:\\Users\\gillrobe\\DataScience\\umads_697_data_medics\\pipeline\\output\\vectorizer_countVec.pkl"
    },
    "random_seed": 42
   },
   "start_time": "2022-08-04T04:53:22.548877"
  }
 },
 "nbformat": 4,
 "nbformat_minor": 5
}
