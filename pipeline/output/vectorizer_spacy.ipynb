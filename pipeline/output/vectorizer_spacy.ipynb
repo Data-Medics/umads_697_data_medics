{
 "cells": [
  {
   "cell_type": "markdown",
   "id": "f95464f6",
   "metadata": {
    "papermill": {
     "duration": 0.007105,
     "end_time": "2022-07-31T02:55:10.750075",
     "exception": false,
     "start_time": "2022-07-31T02:55:10.742970",
     "status": "completed"
    },
    "tags": []
   },
   "source": [
    "# Building tweet vectorizer using spacy tokenizer"
   ]
  },
  {
   "cell_type": "code",
   "execution_count": 1,
   "id": "7d047bc8",
   "metadata": {
    "execution": {
     "iopub.execute_input": "2022-07-31T02:55:10.760604Z",
     "iopub.status.busy": "2022-07-31T02:55:10.760223Z",
     "iopub.status.idle": "2022-07-31T02:55:13.596645Z",
     "shell.execute_reply": "2022-07-31T02:55:13.595581Z"
    },
    "papermill": {
     "duration": 2.845123,
     "end_time": "2022-07-31T02:55:13.599784",
     "exception": false,
     "start_time": "2022-07-31T02:55:10.754661",
     "status": "completed"
    },
    "tags": []
   },
   "outputs": [],
   "source": [
    "import pandas as pd\n",
    "\n",
    "from sklearn.feature_extraction.text import TfidfVectorizer\n",
    "from sklearn.linear_model import LogisticRegression\n",
    "from sklearn.metrics import f1_score\n",
    "import spacy\n",
    "import pickle\n",
    "\n",
    "from nltk.stem.porter import PorterStemmer\n",
    "\n",
    "import tools"
   ]
  },
  {
   "cell_type": "code",
   "execution_count": 2,
   "id": "7d5dc6dc",
   "metadata": {
    "execution": {
     "iopub.execute_input": "2022-07-31T02:55:13.609856Z",
     "iopub.status.busy": "2022-07-31T02:55:13.609485Z",
     "iopub.status.idle": "2022-07-31T02:55:13.612898Z",
     "shell.execute_reply": "2022-07-31T02:55:13.612190Z"
    },
    "papermill": {
     "duration": 0.010525,
     "end_time": "2022-07-31T02:55:13.615265",
     "exception": false,
     "start_time": "2022-07-31T02:55:13.604740",
     "status": "completed"
    },
    "tags": [
     "parameters"
    ]
   },
   "outputs": [],
   "source": [
    "upstream = []\n",
    "random_seed = None"
   ]
  },
  {
   "cell_type": "code",
   "execution_count": 3,
   "id": "1c0ef631",
   "metadata": {
    "execution": {
     "iopub.execute_input": "2022-07-31T02:55:13.624470Z",
     "iopub.status.busy": "2022-07-31T02:55:13.624137Z",
     "iopub.status.idle": "2022-07-31T02:55:13.628721Z",
     "shell.execute_reply": "2022-07-31T02:55:13.627779Z"
    },
    "papermill": {
     "duration": 0.012433,
     "end_time": "2022-07-31T02:55:13.631396",
     "exception": false,
     "start_time": "2022-07-31T02:55:13.618963",
     "status": "completed"
    },
    "tags": [
     "injected-parameters"
    ]
   },
   "outputs": [],
   "source": [
    "# Parameters\n",
    "random_seed = 42\n",
    "product = {\n",
    "    \"nb\": \"/Users/mboussarov/_umsi/Capstone/umads_697_data_medics/pipeline/output/vectorizer_spacy.ipynb\",\n",
    "    \"vectorizer\": \"/Users/mboussarov/_umsi/Capstone/umads_697_data_medics/pipeline/output/vectorizer_spacy.pkl\",\n",
    "    \"vocab\": \"/Users/mboussarov/_umsi/Capstone/umads_697_data_medics/pipeline/output/vocab_spacy.pkl\",\n",
    "    \"stopwords\": \"/Users/mboussarov/_umsi/Capstone/umads_697_data_medics/pipeline/output/stopwords_spacy.csv\",\n",
    "}\n"
   ]
  },
  {
   "cell_type": "markdown",
   "id": "b5e8763e",
   "metadata": {
    "papermill": {
     "duration": 0.003659,
     "end_time": "2022-07-31T02:55:13.639773",
     "exception": false,
     "start_time": "2022-07-31T02:55:13.636114",
     "status": "completed"
    },
    "tags": []
   },
   "source": [
    "## Read the train and test data"
   ]
  },
  {
   "cell_type": "code",
   "execution_count": 4,
   "id": "83fea256",
   "metadata": {
    "execution": {
     "iopub.execute_input": "2022-07-31T02:55:13.652175Z",
     "iopub.status.busy": "2022-07-31T02:55:13.651445Z",
     "iopub.status.idle": "2022-07-31T02:55:13.891890Z",
     "shell.execute_reply": "2022-07-31T02:55:13.891234Z"
    },
    "lines_to_next_cell": 0,
    "papermill": {
     "duration": 0.250688,
     "end_time": "2022-07-31T02:55:13.894099",
     "exception": false,
     "start_time": "2022-07-31T02:55:13.643411",
     "status": "completed"
    },
    "tags": []
   },
   "outputs": [
    {
     "data": {
      "text/html": [
       "<div>\n",
       "<style scoped>\n",
       "    .dataframe tbody tr th:only-of-type {\n",
       "        vertical-align: middle;\n",
       "    }\n",
       "\n",
       "    .dataframe tbody tr th {\n",
       "        vertical-align: top;\n",
       "    }\n",
       "\n",
       "    .dataframe thead th {\n",
       "        text-align: right;\n",
       "    }\n",
       "</style>\n",
       "<table border=\"1\" class=\"dataframe\">\n",
       "  <thead>\n",
       "    <tr style=\"text-align: right;\">\n",
       "      <th></th>\n",
       "      <th>tweet_id</th>\n",
       "      <th>tweet_text</th>\n",
       "      <th>class_label</th>\n",
       "    </tr>\n",
       "  </thead>\n",
       "  <tbody>\n",
       "    <tr>\n",
       "      <th>43668</th>\n",
       "      <td>768924405397352448</td>\n",
       "      <td>RT @TheNatWorld: Asylum seekers donate daily a...</td>\n",
       "      <td>rescue_volunteering_or_donation_effort</td>\n",
       "    </tr>\n",
       "    <tr>\n",
       "      <th>4943</th>\n",
       "      <td>1037707590447366144</td>\n",
       "      <td>Thank you so much @airvistara for helping us i...</td>\n",
       "      <td>sympathy_and_support</td>\n",
       "    </tr>\n",
       "    <tr>\n",
       "      <th>11781</th>\n",
       "      <td>1040604820925767683</td>\n",
       "      <td>The winds today are here from #Florence they a...</td>\n",
       "      <td>caution_and_advice</td>\n",
       "    </tr>\n",
       "    <tr>\n",
       "      <th>46455</th>\n",
       "      <td>729799049688190976</td>\n",
       "      <td>RT @FVine: Calgary Construction Association #C...</td>\n",
       "      <td>rescue_volunteering_or_donation_effort</td>\n",
       "    </tr>\n",
       "    <tr>\n",
       "      <th>19533</th>\n",
       "      <td>911711780505866241</td>\n",
       "      <td>The death toll in Puerto Rico continues to cli...</td>\n",
       "      <td>injured_or_dead_people</td>\n",
       "    </tr>\n",
       "  </tbody>\n",
       "</table>\n",
       "</div>"
      ],
      "text/plain": [
       "                  tweet_id                                         tweet_text  \\\n",
       "43668   768924405397352448  RT @TheNatWorld: Asylum seekers donate daily a...   \n",
       "4943   1037707590447366144  Thank you so much @airvistara for helping us i...   \n",
       "11781  1040604820925767683  The winds today are here from #Florence they a...   \n",
       "46455   729799049688190976  RT @FVine: Calgary Construction Association #C...   \n",
       "19533   911711780505866241  The death toll in Puerto Rico continues to cli...   \n",
       "\n",
       "                                  class_label  \n",
       "43668  rescue_volunteering_or_donation_effort  \n",
       "4943                     sympathy_and_support  \n",
       "11781                      caution_and_advice  \n",
       "46455  rescue_volunteering_or_donation_effort  \n",
       "19533                  injured_or_dead_people  "
      ]
     },
     "execution_count": 4,
     "metadata": {},
     "output_type": "execute_result"
    }
   ],
   "source": [
    "df_train = pd.read_csv('../data/HumAID_data_v1.0/all_combined/all_train.tsv', sep='\\t')\n",
    "df_test = pd.read_csv('../data/HumAID_data_v1.0/all_combined/all_test.tsv', sep='\\t')\n",
    "\n",
    "df_train.dropna(inplace=True)\n",
    "df_test.dropna(inplace=True)\n",
    "\n",
    "df_train.sample(5)"
   ]
  },
  {
   "cell_type": "markdown",
   "id": "8665097f",
   "metadata": {
    "papermill": {
     "duration": 0.004205,
     "end_time": "2022-07-31T02:55:13.902410",
     "exception": false,
     "start_time": "2022-07-31T02:55:13.898205",
     "status": "completed"
    },
    "tags": []
   },
   "source": [
    "## Identify the most used locations in the training set and remove from the vocabulary - this may reduce the F1 score, but will also remove any data leakage"
   ]
  },
  {
   "cell_type": "code",
   "execution_count": 5,
   "id": "13d68456",
   "metadata": {
    "execution": {
     "iopub.execute_input": "2022-07-31T02:55:13.910818Z",
     "iopub.status.busy": "2022-07-31T02:55:13.910516Z",
     "iopub.status.idle": "2022-07-31T02:55:15.832988Z",
     "shell.execute_reply": "2022-07-31T02:55:15.832336Z"
    },
    "papermill": {
     "duration": 1.929123,
     "end_time": "2022-07-31T02:55:15.835105",
     "exception": false,
     "start_time": "2022-07-31T02:55:13.905982",
     "status": "completed"
    },
    "tags": []
   },
   "outputs": [],
   "source": [
    "#!python -m spacy download xx_ent_wiki_sm\n",
    "# Fast and more accurate for LOC\n",
    "nlp = spacy.load('xx_ent_wiki_sm')"
   ]
  },
  {
   "cell_type": "code",
   "execution_count": 6,
   "id": "cbb003de",
   "metadata": {
    "execution": {
     "iopub.execute_input": "2022-07-31T02:55:15.845044Z",
     "iopub.status.busy": "2022-07-31T02:55:15.844454Z",
     "iopub.status.idle": "2022-07-31T02:58:40.570504Z",
     "shell.execute_reply": "2022-07-31T02:58:40.569834Z"
    },
    "papermill": {
     "duration": 204.736943,
     "end_time": "2022-07-31T02:58:40.576270",
     "exception": false,
     "start_time": "2022-07-31T02:55:15.839327",
     "status": "completed"
    },
    "tags": []
   },
   "outputs": [
    {
     "name": "stdout",
     "output_type": "stream",
     "text": [
      "CPU times: user 3min 18s, sys: 1.89 s, total: 3min 20s\n",
      "Wall time: 3min 24s\n"
     ]
    }
   ],
   "source": [
    "%%time\n",
    "df_locs_train, locations_set_train = tools.get_locations(nlp, df_train)"
   ]
  },
  {
   "cell_type": "code",
   "execution_count": 7,
   "id": "389b389d",
   "metadata": {
    "execution": {
     "iopub.execute_input": "2022-07-31T02:58:40.585964Z",
     "iopub.status.busy": "2022-07-31T02:58:40.585644Z",
     "iopub.status.idle": "2022-07-31T02:59:27.951590Z",
     "shell.execute_reply": "2022-07-31T02:59:27.950680Z"
    },
    "papermill": {
     "duration": 47.377927,
     "end_time": "2022-07-31T02:59:27.958419",
     "exception": false,
     "start_time": "2022-07-31T02:58:40.580492",
     "status": "completed"
    },
    "tags": []
   },
   "outputs": [
    {
     "name": "stdout",
     "output_type": "stream",
     "text": [
      "CPU times: user 47 s, sys: 289 ms, total: 47.3 s\n",
      "Wall time: 47.4 s\n"
     ]
    }
   ],
   "source": [
    "%%time\n",
    "df_locs_test, locations_set_test = tools.get_locations(nlp, df_test)"
   ]
  },
  {
   "cell_type": "code",
   "execution_count": 8,
   "id": "614a673e",
   "metadata": {
    "execution": {
     "iopub.execute_input": "2022-07-31T02:59:27.970801Z",
     "iopub.status.busy": "2022-07-31T02:59:27.970026Z",
     "iopub.status.idle": "2022-07-31T02:59:27.975108Z",
     "shell.execute_reply": "2022-07-31T02:59:27.974329Z"
    },
    "papermill": {
     "duration": 0.013884,
     "end_time": "2022-07-31T02:59:27.977691",
     "exception": false,
     "start_time": "2022-07-31T02:59:27.963807",
     "status": "completed"
    },
    "tags": []
   },
   "outputs": [
    {
     "name": "stdout",
     "output_type": "stream",
     "text": [
      "Train:  ['abaco', 'abaco islands', 'alberta', 'america', 'athens', 'atlantic', 'attica', 'azad kashmir', 'bahamas', 'bangladesh', 'beira', 'butte county', 'california', 'californias', 'california’s', 'camp fire', 'canada', 'carolinas', 'centre', 'chimanimani', 'china', 'congress', 'cuba', 'cyclone idai', 'delhi', 'dominica', 'east coast', 'ecuador', 'ellicott city', 'florence', 'florida', 'florida keys', 'fort mcmurray', 'georgia', 'greece', 'haiti', 'houston', 'hurricane florence', 'hurricane maria', 'india', 'iowa', 'irma', 'irmas', 'israel', 'italy', 'jacksonville', 'japan', 'kaikoura', 'kashmir', 'kerala', 'keralafloods2018', 'kochi', 'louisiana', 'malawi', 'malibu', 'manicaland', 'mar-a-lago', 'maryland', 'mexico', 'mexico city', 'mexicos', 'miami', 'mirpur', 'mozambique', 'naples', 'nebraska', 'nepal', 'new york', 'new zealand', 'north carolina', 'northern california', 'pakistan', 'paradise', 'port arthur', 'puerto ricans', 'puerto rico', 'puerto ricos', 'red cross', 'san juan', 'south carolina', 'south florida', 'south island', 'southern california', 'sri lanka', 'st', 'state', 'texans', 'texas', 'theres', 'trump', 'u.s.', 'uk', 'united states', 'us', 'usa', 'virginia', 'wilmington', 'zimbabwe']\n",
      "\n",
      "Test:  ['#bahamas', 'abaco', 'abaco islands', 'africa', 'alberta', 'america', 'athens', 'atlantic', 'attica', 'azad kashmir', 'bahamas', 'bangladesh', 'beira', 'california', 'californias', 'california’s', 'camp fire', 'canada', 'carolina', 'carolinas', 'centre', 'charleston', 'chengannur', 'chimanimani', 'congress', 'cuba', 'cyclone idai', 'dominica', 'east coast', 'ecuador', 'ellicott city', 'finland', 'florence', 'florida', 'fort mcmurray', 'georgia', 'greece', 'haiti', 'houston', 'hurricane florence', 'hurricane maria', 'india', 'iowa', 'irma', 'irmas', 'israel', 'italy', 'jacksonville', 'japan', 'kaikoura', 'kashmir', 'kerala', 'keralafloods2018', 'louisiana', 'malawi', 'manicaland', 'mar-a-lago', 'marsh harbour', 'maryland', 'mexico', 'mexico city', 'miami', 'mirpur', 'mozambique', 'nebraska', 'nepal', 'new zealand', 'north carolina', 'northern california', 'pakistan', 'palm beach county', 'paradise', 'port arthur', 'puerto ricans', 'puerto rico', 'puerto ricos', 'red cross', 'rt', 'san juan', 'south carolina', 'south florida', 'south island', 'southern california', 'sri lanka', 'st', 'texans', 'texas', 'theres', 'trump', 'u.s.', 'uk', 'united states', 'us', 'usa', 'virginia', 'wellington', 'wilmington', 'zimbabwe']\n"
     ]
    }
   ],
   "source": [
    "# Visually inspect if the train and test locations are about the same - they look very close, remove from the vocabulary\n",
    "print('Train: ', sorted(locations_set_train))\n",
    "print()\n",
    "print('Test: ', sorted(locations_set_test))"
   ]
  },
  {
   "cell_type": "code",
   "execution_count": 9,
   "id": "73f91a48",
   "metadata": {
    "execution": {
     "iopub.execute_input": "2022-07-31T02:59:27.989703Z",
     "iopub.status.busy": "2022-07-31T02:59:27.989358Z",
     "iopub.status.idle": "2022-07-31T02:59:28.001471Z",
     "shell.execute_reply": "2022-07-31T02:59:28.000438Z"
    },
    "papermill": {
     "duration": 0.020945,
     "end_time": "2022-07-31T02:59:28.003949",
     "exception": false,
     "start_time": "2022-07-31T02:59:27.983004",
     "status": "completed"
    },
    "tags": []
   },
   "outputs": [
    {
     "data": {
      "text/html": [
       "<div>\n",
       "<style scoped>\n",
       "    .dataframe tbody tr th:only-of-type {\n",
       "        vertical-align: middle;\n",
       "    }\n",
       "\n",
       "    .dataframe tbody tr th {\n",
       "        vertical-align: top;\n",
       "    }\n",
       "\n",
       "    .dataframe thead th {\n",
       "        text-align: right;\n",
       "    }\n",
       "</style>\n",
       "<table border=\"1\" class=\"dataframe\">\n",
       "  <thead>\n",
       "    <tr style=\"text-align: right;\">\n",
       "      <th></th>\n",
       "      <th>stopword</th>\n",
       "    </tr>\n",
       "  </thead>\n",
       "  <tbody>\n",
       "    <tr>\n",
       "      <th>14</th>\n",
       "      <td>nepal</td>\n",
       "    </tr>\n",
       "    <tr>\n",
       "      <th>62</th>\n",
       "      <td>miami</td>\n",
       "    </tr>\n",
       "    <tr>\n",
       "      <th>92</th>\n",
       "      <td>jacksonville</td>\n",
       "    </tr>\n",
       "    <tr>\n",
       "      <th>52</th>\n",
       "      <td>new zealand</td>\n",
       "    </tr>\n",
       "    <tr>\n",
       "      <th>71</th>\n",
       "      <td>ahead</td>\n",
       "    </tr>\n",
       "  </tbody>\n",
       "</table>\n",
       "</div>"
      ],
      "text/plain": [
       "        stopword\n",
       "14         nepal\n",
       "62         miami\n",
       "92  jacksonville\n",
       "52   new zealand\n",
       "71         ahead"
      ]
     },
     "execution_count": 9,
     "metadata": {},
     "output_type": "execute_result"
    }
   ],
   "source": [
    "## Dump the stopwords\n",
    "stopwords = locations_set_train | {\"attach\", \"ahead\", \"rt\"}\n",
    "df_stopwords = pd.DataFrame(data=stopwords, columns=['stopword'])\n",
    "df_stopwords.to_csv(product['stopwords'], index=False)\n",
    "df_stopwords.sample(5)"
   ]
  },
  {
   "cell_type": "markdown",
   "id": "168e6a7f",
   "metadata": {
    "papermill": {
     "duration": 0.005447,
     "end_time": "2022-07-31T02:59:28.014890",
     "exception": false,
     "start_time": "2022-07-31T02:59:28.009443",
     "status": "completed"
    },
    "tags": []
   },
   "source": [
    "## Build the tokenizer"
   ]
  },
  {
   "cell_type": "code",
   "execution_count": 10,
   "id": "2a79ba6c",
   "metadata": {
    "execution": {
     "iopub.execute_input": "2022-07-31T02:59:28.027468Z",
     "iopub.status.busy": "2022-07-31T02:59:28.026699Z",
     "iopub.status.idle": "2022-07-31T02:59:29.023390Z",
     "shell.execute_reply": "2022-07-31T02:59:29.022518Z"
    },
    "papermill": {
     "duration": 1.005775,
     "end_time": "2022-07-31T02:59:29.025971",
     "exception": false,
     "start_time": "2022-07-31T02:59:28.020196",
     "status": "completed"
    },
    "tags": []
   },
   "outputs": [
    {
     "data": {
      "text/plain": [
       "['@hotshotwake',\n",
       " 'good',\n",
       " 'morning',\n",
       " 'stewart',\n",
       " 'cross',\n",
       " 'yukon',\n",
       " 'big',\n",
       " 'fire',\n",
       " 'day',\n",
       " 'yukon',\n",
       " 'wildfire',\n",
       " 'https://t.co/csoymomwjo']"
      ]
     },
     "execution_count": 10,
     "metadata": {},
     "output_type": "execute_result"
    }
   ],
   "source": [
    "# Follow https://machinelearningknowledge.ai/complete-guide-to-spacy-tokenizer-with-examples/\n",
    "\n",
    "# Run the first time\n",
    "#!python -m spacy download en_core_web_sm\n",
    "\n",
    "nlp = spacy.load(\"en_core_web_sm\")\n",
    "stemmer = PorterStemmer()\n",
    "\n",
    "# Add more stop words if needed - https://machinelearningknowledge.ai/tutorial-for-stopwords-in-spacy/\n",
    "nlp.Defaults.stop_words |= set(df_stopwords['stopword'])\n",
    "\n",
    "tokenizer = tools.Tokenizer(nlp, stopwords)\n",
    "\n",
    "tokenizer.tokenize(\n",
    "    'RT @HotshotWake: Good morning from Stewart Crossing Yukon up in Canada. Big fire day ahead. #canada #yukon #wildfire https://t.co/cSoymOMwJO')"
   ]
  },
  {
   "cell_type": "code",
   "execution_count": 11,
   "id": "1782ce23",
   "metadata": {
    "execution": {
     "iopub.execute_input": "2022-07-31T02:59:29.039471Z",
     "iopub.status.busy": "2022-07-31T02:59:29.039116Z",
     "iopub.status.idle": "2022-07-31T02:59:29.043860Z",
     "shell.execute_reply": "2022-07-31T02:59:29.043034Z"
    },
    "papermill": {
     "duration": 0.014194,
     "end_time": "2022-07-31T02:59:29.046539",
     "exception": false,
     "start_time": "2022-07-31T02:59:29.032345",
     "status": "completed"
    },
    "tags": []
   },
   "outputs": [],
   "source": [
    "vectorizer = TfidfVectorizer(\n",
    "    tokenizer=tokenizer.tokenize,\n",
    "    strip_accents='unicode',\n",
    "    min_df=10,\n",
    "    ngram_range=(1, 2),\n",
    "    max_features=10000,\n",
    "    use_idf=True\n",
    ")"
   ]
  },
  {
   "cell_type": "markdown",
   "id": "9a29e0f7",
   "metadata": {
    "papermill": {
     "duration": 0.005847,
     "end_time": "2022-07-31T02:59:29.058043",
     "exception": false,
     "start_time": "2022-07-31T02:59:29.052196",
     "status": "completed"
    },
    "tags": []
   },
   "source": [
    "## Test/validate with logistic regression"
   ]
  },
  {
   "cell_type": "code",
   "execution_count": 12,
   "id": "ccb9ccce",
   "metadata": {
    "execution": {
     "iopub.execute_input": "2022-07-31T02:59:29.070711Z",
     "iopub.status.busy": "2022-07-31T02:59:29.070352Z",
     "iopub.status.idle": "2022-07-31T03:09:38.629051Z",
     "shell.execute_reply": "2022-07-31T03:09:38.627957Z"
    },
    "papermill": {
     "duration": 609.573478,
     "end_time": "2022-07-31T03:09:38.637024",
     "exception": false,
     "start_time": "2022-07-31T02:59:29.063546",
     "status": "completed"
    },
    "tags": []
   },
   "outputs": [
    {
     "name": "stdout",
     "output_type": "stream",
     "text": [
      "CPU times: user 10min 4s, sys: 3.97 s, total: 10min 8s\n",
      "Wall time: 10min 9s\n"
     ]
    },
    {
     "data": {
      "text/plain": [
       "(53516, 10000)"
      ]
     },
     "execution_count": 12,
     "metadata": {},
     "output_type": "execute_result"
    }
   ],
   "source": [
    "%%time\n",
    "X_train = vectorizer.fit_transform(df_train['tweet_text'])\n",
    "y_train = list(df_train['class_label'])\n",
    "\n",
    "X_test = vectorizer.transform(df_test['tweet_text'])\n",
    "y_test = list(df_test['class_label'])\n",
    "\n",
    "X_train.shape"
   ]
  },
  {
   "cell_type": "code",
   "execution_count": 13,
   "id": "ead8ab62",
   "metadata": {
    "execution": {
     "iopub.execute_input": "2022-07-31T03:09:38.655539Z",
     "iopub.status.busy": "2022-07-31T03:09:38.655112Z",
     "iopub.status.idle": "2022-07-31T03:09:59.311454Z",
     "shell.execute_reply": "2022-07-31T03:09:59.309138Z"
    },
    "papermill": {
     "duration": 20.67368,
     "end_time": "2022-07-31T03:09:59.319661",
     "exception": false,
     "start_time": "2022-07-31T03:09:38.645981",
     "status": "completed"
    },
    "tags": []
   },
   "outputs": [
    {
     "data": {
      "text/html": [
       "<style>#sk-container-id-1 {color: black;background-color: white;}#sk-container-id-1 pre{padding: 0;}#sk-container-id-1 div.sk-toggleable {background-color: white;}#sk-container-id-1 label.sk-toggleable__label {cursor: pointer;display: block;width: 100%;margin-bottom: 0;padding: 0.3em;box-sizing: border-box;text-align: center;}#sk-container-id-1 label.sk-toggleable__label-arrow:before {content: \"▸\";float: left;margin-right: 0.25em;color: #696969;}#sk-container-id-1 label.sk-toggleable__label-arrow:hover:before {color: black;}#sk-container-id-1 div.sk-estimator:hover label.sk-toggleable__label-arrow:before {color: black;}#sk-container-id-1 div.sk-toggleable__content {max-height: 0;max-width: 0;overflow: hidden;text-align: left;background-color: #f0f8ff;}#sk-container-id-1 div.sk-toggleable__content pre {margin: 0.2em;color: black;border-radius: 0.25em;background-color: #f0f8ff;}#sk-container-id-1 input.sk-toggleable__control:checked~div.sk-toggleable__content {max-height: 200px;max-width: 100%;overflow: auto;}#sk-container-id-1 input.sk-toggleable__control:checked~label.sk-toggleable__label-arrow:before {content: \"▾\";}#sk-container-id-1 div.sk-estimator input.sk-toggleable__control:checked~label.sk-toggleable__label {background-color: #d4ebff;}#sk-container-id-1 div.sk-label input.sk-toggleable__control:checked~label.sk-toggleable__label {background-color: #d4ebff;}#sk-container-id-1 input.sk-hidden--visually {border: 0;clip: rect(1px 1px 1px 1px);clip: rect(1px, 1px, 1px, 1px);height: 1px;margin: -1px;overflow: hidden;padding: 0;position: absolute;width: 1px;}#sk-container-id-1 div.sk-estimator {font-family: monospace;background-color: #f0f8ff;border: 1px dotted black;border-radius: 0.25em;box-sizing: border-box;margin-bottom: 0.5em;}#sk-container-id-1 div.sk-estimator:hover {background-color: #d4ebff;}#sk-container-id-1 div.sk-parallel-item::after {content: \"\";width: 100%;border-bottom: 1px solid gray;flex-grow: 1;}#sk-container-id-1 div.sk-label:hover label.sk-toggleable__label {background-color: #d4ebff;}#sk-container-id-1 div.sk-serial::before {content: \"\";position: absolute;border-left: 1px solid gray;box-sizing: border-box;top: 0;bottom: 0;left: 50%;z-index: 0;}#sk-container-id-1 div.sk-serial {display: flex;flex-direction: column;align-items: center;background-color: white;padding-right: 0.2em;padding-left: 0.2em;position: relative;}#sk-container-id-1 div.sk-item {position: relative;z-index: 1;}#sk-container-id-1 div.sk-parallel {display: flex;align-items: stretch;justify-content: center;background-color: white;position: relative;}#sk-container-id-1 div.sk-item::before, #sk-container-id-1 div.sk-parallel-item::before {content: \"\";position: absolute;border-left: 1px solid gray;box-sizing: border-box;top: 0;bottom: 0;left: 50%;z-index: -1;}#sk-container-id-1 div.sk-parallel-item {display: flex;flex-direction: column;z-index: 1;position: relative;background-color: white;}#sk-container-id-1 div.sk-parallel-item:first-child::after {align-self: flex-end;width: 50%;}#sk-container-id-1 div.sk-parallel-item:last-child::after {align-self: flex-start;width: 50%;}#sk-container-id-1 div.sk-parallel-item:only-child::after {width: 0;}#sk-container-id-1 div.sk-dashed-wrapped {border: 1px dashed gray;margin: 0 0.4em 0.5em 0.4em;box-sizing: border-box;padding-bottom: 0.4em;background-color: white;}#sk-container-id-1 div.sk-label label {font-family: monospace;font-weight: bold;display: inline-block;line-height: 1.2em;}#sk-container-id-1 div.sk-label-container {text-align: center;}#sk-container-id-1 div.sk-container {/* jupyter's `normalize.less` sets `[hidden] { display: none; }` but bootstrap.min.css set `[hidden] { display: none !important; }` so we also need the `!important` here to be able to override the default hidden behavior on the sphinx rendered scikit-learn.org. See: https://github.com/scikit-learn/scikit-learn/issues/21755 */display: inline-block !important;position: relative;}#sk-container-id-1 div.sk-text-repr-fallback {display: none;}</style><div id=\"sk-container-id-1\" class=\"sk-top-container\"><div class=\"sk-text-repr-fallback\"><pre>LogisticRegression(max_iter=1000, random_state=42)</pre><b>In a Jupyter environment, please rerun this cell to show the HTML representation or trust the notebook. <br />On GitHub, the HTML representation is unable to render, please try loading this page with nbviewer.org.</b></div><div class=\"sk-container\" hidden><div class=\"sk-item\"><div class=\"sk-estimator sk-toggleable\"><input class=\"sk-toggleable__control sk-hidden--visually\" id=\"sk-estimator-id-1\" type=\"checkbox\" checked><label for=\"sk-estimator-id-1\" class=\"sk-toggleable__label sk-toggleable__label-arrow\">LogisticRegression</label><div class=\"sk-toggleable__content\"><pre>LogisticRegression(max_iter=1000, random_state=42)</pre></div></div></div></div></div>"
      ],
      "text/plain": [
       "LogisticRegression(max_iter=1000, random_state=42)"
      ]
     },
     "execution_count": 13,
     "metadata": {},
     "output_type": "execute_result"
    }
   ],
   "source": [
    "# Prepate the logistic regression classifier\n",
    "clf = LogisticRegression(solver='lbfgs', multi_class='auto', random_state=random_seed, max_iter=1000)\n",
    "clf.fit(X_train, y_train)"
   ]
  },
  {
   "cell_type": "code",
   "execution_count": 14,
   "id": "574eec7b",
   "metadata": {
    "execution": {
     "iopub.execute_input": "2022-07-31T03:09:59.371338Z",
     "iopub.status.busy": "2022-07-31T03:09:59.370497Z",
     "iopub.status.idle": "2022-07-31T03:09:59.697356Z",
     "shell.execute_reply": "2022-07-31T03:09:59.695729Z"
    },
    "papermill": {
     "duration": 0.354841,
     "end_time": "2022-07-31T03:09:59.702190",
     "exception": false,
     "start_time": "2022-07-31T03:09:59.347349",
     "status": "completed"
    },
    "tags": []
   },
   "outputs": [
    {
     "name": "stdout",
     "output_type": "stream",
     "text": [
      "0.7019700010544871\n",
      "CPU times: user 295 ms, sys: 52.2 ms, total: 347 ms\n",
      "Wall time: 317 ms\n"
     ]
    }
   ],
   "source": [
    "%%time\n",
    "# Predict on test, must be about the same\n",
    "lr_test_preds = clf.predict(X_test)\n",
    "\n",
    "# Score on the test data\n",
    "lr_f1 = f1_score(y_test, lr_test_preds, average='macro')\n",
    "print(lr_f1)"
   ]
  },
  {
   "cell_type": "markdown",
   "id": "b9ffac1f",
   "metadata": {
    "papermill": {
     "duration": 0.015122,
     "end_time": "2022-07-31T03:09:59.732498",
     "exception": false,
     "start_time": "2022-07-31T03:09:59.717376",
     "status": "completed"
    },
    "tags": []
   },
   "source": [
    "## Dump the vectorizer and also the vocabulary"
   ]
  },
  {
   "cell_type": "code",
   "execution_count": 15,
   "id": "2b379dfe",
   "metadata": {
    "execution": {
     "iopub.execute_input": "2022-07-31T03:09:59.764272Z",
     "iopub.status.busy": "2022-07-31T03:09:59.763307Z",
     "iopub.status.idle": "2022-07-31T03:10:01.179996Z",
     "shell.execute_reply": "2022-07-31T03:10:01.178377Z"
    },
    "lines_to_next_cell": 0,
    "papermill": {
     "duration": 1.440229,
     "end_time": "2022-07-31T03:10:01.187156",
     "exception": false,
     "start_time": "2022-07-31T03:09:59.746927",
     "status": "completed"
    },
    "tags": []
   },
   "outputs": [],
   "source": [
    "with open(str(product['vectorizer']), 'wb') as f:\n",
    "    pickle.dump(vectorizer, f)\n",
    "\n",
    "with open(str(product['vocab']), 'wb') as f:\n",
    "    pickle.dump(vectorizer.vocabulary_, f)"
   ]
  },
  {
   "cell_type": "code",
   "execution_count": null,
   "id": "fca4613a",
   "metadata": {
    "lines_to_next_cell": 2,
    "papermill": {
     "duration": 0.014441,
     "end_time": "2022-07-31T03:10:01.214795",
     "exception": false,
     "start_time": "2022-07-31T03:10:01.200354",
     "status": "completed"
    },
    "tags": []
   },
   "outputs": [],
   "source": []
  }
 ],
 "metadata": {
  "jupytext": {
   "cell_metadata_filter": "tags,-all",
   "main_language": "python",
   "notebook_metadata_filter": "-all",
   "text_representation": {
    "extension": ".py",
    "format_name": "light"
   }
  },
  "kernelspec": {
   "display_name": "Python 3 (ipykernel)",
   "language": "python",
   "name": "python3"
  },
  "language_info": {
   "codemirror_mode": {
    "name": "ipython",
    "version": 3
   },
   "file_extension": ".py",
   "mimetype": "text/x-python",
   "name": "python",
   "nbconvert_exporter": "python",
   "pygments_lexer": "ipython3",
   "version": "3.9.12"
  },
  "papermill": {
   "duration": 892.875978,
   "end_time": "2022-07-31T03:10:02.491010",
   "exception": null,
   "input_path": "/var/folders/lw/k7hqg3bn7s326rs6jxn046b40000gp/T/tmp3cfvlh7n.ipynb",
   "output_path": "/Users/mboussarov/_umsi/Capstone/umads_697_data_medics/pipeline/output/vectorizer_spacy.ipynb",
   "parameters": {
    "product": {
     "nb": "/Users/mboussarov/_umsi/Capstone/umads_697_data_medics/pipeline/output/vectorizer_spacy.ipynb",
     "stopwords": "/Users/mboussarov/_umsi/Capstone/umads_697_data_medics/pipeline/output/stopwords_spacy.csv",
     "vectorizer": "/Users/mboussarov/_umsi/Capstone/umads_697_data_medics/pipeline/output/vectorizer_spacy.pkl",
     "vocab": "/Users/mboussarov/_umsi/Capstone/umads_697_data_medics/pipeline/output/vocab_spacy.pkl"
    },
    "random_seed": 42
   },
   "start_time": "2022-07-31T02:55:09.615032"
  }
 },
 "nbformat": 4,
 "nbformat_minor": 5
}