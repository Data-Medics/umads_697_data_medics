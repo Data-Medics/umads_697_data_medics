{
 "cells": [
  {
   "cell_type": "markdown",
   "id": "4a4c63de",
   "metadata": {
    "papermill": {
     "duration": 0.006316,
     "end_time": "2022-08-07T08:53:11.346103",
     "exception": false,
     "start_time": "2022-08-07T08:53:11.339787",
     "status": "completed"
    },
    "tags": []
   },
   "source": [
    "# Retreve tweets from the past one week by query"
   ]
  },
  {
   "cell_type": "code",
   "execution_count": 1,
   "id": "b9e6ad9f",
   "metadata": {
    "execution": {
     "iopub.execute_input": "2022-08-07T08:53:11.355958Z",
     "iopub.status.busy": "2022-08-07T08:53:11.355437Z",
     "iopub.status.idle": "2022-08-07T08:53:13.236150Z",
     "shell.execute_reply": "2022-08-07T08:53:13.235457Z"
    },
    "papermill": {
     "duration": 1.887663,
     "end_time": "2022-08-07T08:53:13.238374",
     "exception": false,
     "start_time": "2022-08-07T08:53:11.350711",
     "status": "completed"
    },
    "tags": []
   },
   "outputs": [],
   "source": [
    "import pandas as pd\n",
    "import yaml\n",
    "\n",
    "from tools import retrieve_tweets"
   ]
  },
  {
   "cell_type": "code",
   "execution_count": 2,
   "id": "e9aab319",
   "metadata": {
    "execution": {
     "iopub.execute_input": "2022-08-07T08:53:13.243856Z",
     "iopub.status.busy": "2022-08-07T08:53:13.243512Z",
     "iopub.status.idle": "2022-08-07T08:53:13.247445Z",
     "shell.execute_reply": "2022-08-07T08:53:13.246804Z"
    },
    "papermill": {
     "duration": 0.008713,
     "end_time": "2022-08-07T08:53:13.249360",
     "exception": false,
     "start_time": "2022-08-07T08:53:13.240647",
     "status": "completed"
    },
    "tags": [
     "parameters"
    ]
   },
   "outputs": [],
   "source": [
    "upstream = []\n",
    "product = None\n",
    "disaster_type = None\n",
    "query = None\n",
    "language = None\n",
    "limit = None\n",
    "skip_interval_hours=None\n",
    "credentials_file = None"
   ]
  },
  {
   "cell_type": "code",
   "execution_count": 3,
   "id": "b9372f9f",
   "metadata": {
    "execution": {
     "iopub.execute_input": "2022-08-07T08:53:13.255586Z",
     "iopub.status.busy": "2022-08-07T08:53:13.255150Z",
     "iopub.status.idle": "2022-08-07T08:53:13.259223Z",
     "shell.execute_reply": "2022-08-07T08:53:13.258515Z"
    },
    "papermill": {
     "duration": 0.009893,
     "end_time": "2022-08-07T08:53:13.261271",
     "exception": false,
     "start_time": "2022-08-07T08:53:13.251378",
     "status": "completed"
    },
    "tags": [
     "injected-parameters"
    ]
   },
   "outputs": [],
   "source": [
    "# Parameters\n",
    "disaster_type = \"Flood\"\n",
    "query = \"flood (relief OR water OR donate OR (death toll) OR rescue OR destroy)\"\n",
    "language = \"en\"\n",
    "limit = 2000\n",
    "skip_interval_hours = 2\n",
    "credentials_file = \"credentials.yaml\"\n",
    "product = {\n",
    "    \"nb\": \"/Users/mboussarov/_umsi/Capstone/umads_697_data_medics/pipeline/output/recent_tweets_flood.ipynb\",\n",
    "    \"file\": \"/Users/mboussarov/_umsi/Capstone/umads_697_data_medics/pipeline/output/recent_tweets_flood.csv\",\n",
    "}\n"
   ]
  },
  {
   "cell_type": "markdown",
   "id": "842b0ee3",
   "metadata": {
    "papermill": {
     "duration": 0.002142,
     "end_time": "2022-08-07T08:53:13.265639",
     "exception": false,
     "start_time": "2022-08-07T08:53:13.263497",
     "status": "completed"
    },
    "tags": []
   },
   "source": [
    "## Load Twitter credentials"
   ]
  },
  {
   "cell_type": "code",
   "execution_count": 4,
   "id": "98883aa6",
   "metadata": {
    "execution": {
     "iopub.execute_input": "2022-08-07T08:53:13.271501Z",
     "iopub.status.busy": "2022-08-07T08:53:13.271194Z",
     "iopub.status.idle": "2022-08-07T08:53:13.275876Z",
     "shell.execute_reply": "2022-08-07T08:53:13.275122Z"
    },
    "papermill": {
     "duration": 0.010458,
     "end_time": "2022-08-07T08:53:13.278095",
     "exception": false,
     "start_time": "2022-08-07T08:53:13.267637",
     "status": "completed"
    },
    "tags": []
   },
   "outputs": [],
   "source": [
    "with open(credentials_file, 'r') as stream:\n",
    "    credentials = yaml.safe_load(stream)\n",
    "\n",
    "bearer_token = credentials['twitter_bearer_token']"
   ]
  },
  {
   "cell_type": "markdown",
   "id": "75923bdf",
   "metadata": {
    "papermill": {
     "duration": 0.004514,
     "end_time": "2022-08-07T08:53:13.285253",
     "exception": false,
     "start_time": "2022-08-07T08:53:13.280739",
     "status": "completed"
    },
    "tags": []
   },
   "source": [
    "## Sample data from Twitter"
   ]
  },
  {
   "cell_type": "code",
   "execution_count": 5,
   "id": "06b1b2a7",
   "metadata": {
    "execution": {
     "iopub.execute_input": "2022-08-07T08:53:13.291011Z",
     "iopub.status.busy": "2022-08-07T08:53:13.290704Z",
     "iopub.status.idle": "2022-08-07T09:50:06.921949Z",
     "shell.execute_reply": "2022-08-07T09:50:06.921050Z"
    },
    "papermill": {
     "duration": 3413.655175,
     "end_time": "2022-08-07T09:50:06.942606",
     "exception": false,
     "start_time": "2022-08-07T08:53:13.287431",
     "status": "completed"
    },
    "tags": []
   },
   "outputs": [
    {
     "name": "stderr",
     "output_type": "stream",
     "text": [
      "\r",
      "  0%|                                                                                                                                                                            | 0/72 [00:00<?, ?it/s]"
     ]
    },
    {
     "name": "stderr",
     "output_type": "stream",
     "text": [
      "\r",
      "  1%|██▎                                                                                                                                                                 | 1/72 [00:12<15:04, 12.74s/it]"
     ]
    },
    {
     "name": "stderr",
     "output_type": "stream",
     "text": [
      "\r",
      "  3%|████▌                                                                                                                                                               | 2/72 [00:26<15:35, 13.36s/it]"
     ]
    },
    {
     "name": "stderr",
     "output_type": "stream",
     "text": [
      "\r",
      "  4%|██████▊                                                                                                                                                             | 3/72 [00:39<15:23, 13.39s/it]"
     ]
    },
    {
     "name": "stderr",
     "output_type": "stream",
     "text": [
      "\r",
      "  6%|█████████                                                                                                                                                           | 4/72 [00:54<15:28, 13.65s/it]"
     ]
    },
    {
     "name": "stderr",
     "output_type": "stream",
     "text": [
      "\r",
      "  7%|███████████▍                                                                                                                                                        | 5/72 [01:08<15:36, 13.97s/it]"
     ]
    },
    {
     "name": "stderr",
     "output_type": "stream",
     "text": [
      "\r",
      "  8%|█████████████▋                                                                                                                                                      | 6/72 [01:21<15:02, 13.67s/it]"
     ]
    },
    {
     "name": "stderr",
     "output_type": "stream",
     "text": [
      "Rate limit exceeded. Sleeping for 603 seconds.\n"
     ]
    },
    {
     "name": "stderr",
     "output_type": "stream",
     "text": [
      "\r",
      " 10%|███████████████▋                                                                                                                                                 | 7/72 [11:39<3:48:41, 211.10s/it]"
     ]
    },
    {
     "name": "stderr",
     "output_type": "stream",
     "text": [
      "\r",
      " 11%|█████████████████▉                                                                                                                                               | 8/72 [11:52<2:37:53, 148.03s/it]"
     ]
    },
    {
     "name": "stderr",
     "output_type": "stream",
     "text": [
      "\r",
      " 12%|████████████████████▏                                                                                                                                            | 9/72 [12:04<1:50:52, 105.60s/it]"
     ]
    },
    {
     "name": "stderr",
     "output_type": "stream",
     "text": [
      "\r",
      " 14%|██████████████████████▎                                                                                                                                          | 10/72 [12:18<1:19:48, 77.23s/it]"
     ]
    },
    {
     "name": "stderr",
     "output_type": "stream",
     "text": [
      "\r",
      " 15%|████████████████████████▉                                                                                                                                          | 11/72 [12:32<58:56, 57.98s/it]"
     ]
    },
    {
     "name": "stderr",
     "output_type": "stream",
     "text": [
      "\r",
      " 17%|███████████████████████████▏                                                                                                                                       | 12/72 [12:45<44:19, 44.33s/it]"
     ]
    },
    {
     "name": "stderr",
     "output_type": "stream",
     "text": [
      "\r",
      " 18%|█████████████████████████████▍                                                                                                                                     | 13/72 [12:58<34:10, 34.76s/it]"
     ]
    },
    {
     "name": "stderr",
     "output_type": "stream",
     "text": [
      "\r",
      " 19%|███████████████████████████████▋                                                                                                                                   | 14/72 [13:11<27:17, 28.24s/it]"
     ]
    },
    {
     "name": "stderr",
     "output_type": "stream",
     "text": [
      "\r",
      " 21%|█████████████████████████████████▉                                                                                                                                 | 15/72 [13:24<22:23, 23.57s/it]"
     ]
    },
    {
     "name": "stderr",
     "output_type": "stream",
     "text": [
      "\r",
      " 22%|████████████████████████████████████▏                                                                                                                              | 16/72 [13:37<19:04, 20.43s/it]"
     ]
    },
    {
     "name": "stderr",
     "output_type": "stream",
     "text": [
      "\r",
      " 24%|██████████████████████████████████████▍                                                                                                                            | 17/72 [13:51<16:54, 18.45s/it]"
     ]
    },
    {
     "name": "stderr",
     "output_type": "stream",
     "text": [
      "\r",
      " 25%|████████████████████████████████████████▊                                                                                                                          | 18/72 [14:04<15:11, 16.88s/it]"
     ]
    },
    {
     "name": "stderr",
     "output_type": "stream",
     "text": [
      "\r",
      " 26%|███████████████████████████████████████████                                                                                                                        | 19/72 [14:18<14:01, 15.87s/it]"
     ]
    },
    {
     "name": "stderr",
     "output_type": "stream",
     "text": [
      "\r",
      " 28%|█████████████████████████████████████████████▎                                                                                                                     | 20/72 [14:31<13:14, 15.28s/it]"
     ]
    },
    {
     "name": "stderr",
     "output_type": "stream",
     "text": [
      "\r",
      " 29%|███████████████████████████████████████████████▌                                                                                                                   | 21/72 [14:45<12:29, 14.69s/it]"
     ]
    },
    {
     "name": "stderr",
     "output_type": "stream",
     "text": [
      "\r",
      " 31%|█████████████████████████████████████████████████▊                                                                                                                 | 22/72 [14:58<11:58, 14.37s/it]"
     ]
    },
    {
     "name": "stderr",
     "output_type": "stream",
     "text": [
      "\r",
      " 32%|████████████████████████████████████████████████████                                                                                                               | 23/72 [15:11<11:23, 13.95s/it]"
     ]
    },
    {
     "name": "stderr",
     "output_type": "stream",
     "text": [
      "\r",
      " 33%|██████████████████████████████████████████████████████▎                                                                                                            | 24/72 [15:26<11:14, 14.06s/it]"
     ]
    },
    {
     "name": "stderr",
     "output_type": "stream",
     "text": [
      "\r",
      " 35%|████████████████████████████████████████████████████████▌                                                                                                          | 25/72 [15:39<10:52, 13.88s/it]"
     ]
    },
    {
     "name": "stderr",
     "output_type": "stream",
     "text": [
      "\r",
      " 36%|██████████████████████████████████████████████████████████▊                                                                                                        | 26/72 [15:52<10:27, 13.64s/it]"
     ]
    },
    {
     "name": "stderr",
     "output_type": "stream",
     "text": [
      "\r",
      " 38%|█████████████████████████████████████████████████████████████▏                                                                                                     | 27/72 [16:05<10:05, 13.46s/it]"
     ]
    },
    {
     "name": "stderr",
     "output_type": "stream",
     "text": [
      "Rate limit exceeded. Sleeping for 615 seconds.\n"
     ]
    },
    {
     "name": "stderr",
     "output_type": "stream",
     "text": [
      "\r",
      " 39%|██████████████████████████████████████████████████████████████▏                                                                                                 | 28/72 [26:34<2:25:20, 198.19s/it]"
     ]
    },
    {
     "name": "stderr",
     "output_type": "stream",
     "text": [
      "\r",
      " 40%|████████████████████████████████████████████████████████████████▍                                                                                               | 29/72 [26:48<1:42:23, 142.87s/it]"
     ]
    },
    {
     "name": "stderr",
     "output_type": "stream",
     "text": [
      "\r",
      " 42%|██████████████████████████████████████████████████████████████████▋                                                                                             | 30/72 [27:02<1:12:57, 104.24s/it]"
     ]
    },
    {
     "name": "stderr",
     "output_type": "stream",
     "text": [
      "\r",
      " 43%|██████████████████████████████████████████████████████████████████████▏                                                                                            | 31/72 [27:15<52:32, 76.90s/it]"
     ]
    },
    {
     "name": "stderr",
     "output_type": "stream",
     "text": [
      "\r",
      " 44%|████████████████████████████████████████████████████████████████████████▍                                                                                          | 32/72 [27:29<38:33, 57.85s/it]"
     ]
    },
    {
     "name": "stderr",
     "output_type": "stream",
     "text": [
      "\r",
      " 46%|██████████████████████████████████████████████████████████████████████████▋                                                                                        | 33/72 [27:42<28:55, 44.49s/it]"
     ]
    },
    {
     "name": "stderr",
     "output_type": "stream",
     "text": [
      "\r",
      " 47%|████████████████████████████████████████████████████████████████████████████▉                                                                                      | 34/72 [27:56<22:22, 35.32s/it]"
     ]
    },
    {
     "name": "stderr",
     "output_type": "stream",
     "text": [
      "\r",
      " 49%|███████████████████████████████████████████████████████████████████████████████▏                                                                                   | 35/72 [28:10<17:48, 28.87s/it]"
     ]
    },
    {
     "name": "stderr",
     "output_type": "stream",
     "text": [
      "\r",
      " 50%|█████████████████████████████████████████████████████████████████████████████████▌                                                                                 | 36/72 [28:24<14:34, 24.30s/it]"
     ]
    },
    {
     "name": "stderr",
     "output_type": "stream",
     "text": [
      "\r",
      " 51%|███████████████████████████████████████████████████████████████████████████████████▊                                                                               | 37/72 [28:37<12:16, 21.03s/it]"
     ]
    },
    {
     "name": "stderr",
     "output_type": "stream",
     "text": [
      "\r",
      " 53%|██████████████████████████████████████████████████████████████████████████████████████                                                                             | 38/72 [28:50<10:35, 18.69s/it]"
     ]
    },
    {
     "name": "stderr",
     "output_type": "stream",
     "text": [
      "\r",
      " 54%|████████████████████████████████████████████████████████████████████████████████████████▎                                                                          | 39/72 [29:04<09:26, 17.18s/it]"
     ]
    },
    {
     "name": "stderr",
     "output_type": "stream",
     "text": [
      "\r",
      " 56%|██████████████████████████████████████████████████████████████████████████████████████████▌                                                                        | 40/72 [29:17<08:30, 15.94s/it]"
     ]
    },
    {
     "name": "stderr",
     "output_type": "stream",
     "text": [
      "\r",
      " 57%|████████████████████████████████████████████████████████████████████████████████████████████▊                                                                      | 41/72 [29:31<07:55, 15.35s/it]"
     ]
    },
    {
     "name": "stderr",
     "output_type": "stream",
     "text": [
      "\r",
      " 58%|███████████████████████████████████████████████████████████████████████████████████████████████                                                                    | 42/72 [29:44<07:20, 14.70s/it]"
     ]
    },
    {
     "name": "stderr",
     "output_type": "stream",
     "text": [
      "\r",
      " 60%|█████████████████████████████████████████████████████████████████████████████████████████████████▎                                                                 | 43/72 [29:57<06:54, 14.31s/it]"
     ]
    },
    {
     "name": "stderr",
     "output_type": "stream",
     "text": [
      "\r",
      " 61%|███████████████████████████████████████████████████████████████████████████████████████████████████▌                                                               | 44/72 [30:12<06:39, 14.25s/it]"
     ]
    },
    {
     "name": "stderr",
     "output_type": "stream",
     "text": [
      "\r",
      " 62%|█████████████████████████████████████████████████████████████████████████████████████████████████████▉                                                             | 45/72 [30:27<06:30, 14.47s/it]"
     ]
    },
    {
     "name": "stderr",
     "output_type": "stream",
     "text": [
      "\r",
      " 64%|████████████████████████████████████████████████████████████████████████████████████████████████████████▏                                                          | 46/72 [30:41<06:12, 14.33s/it]"
     ]
    },
    {
     "name": "stderr",
     "output_type": "stream",
     "text": [
      "\r",
      " 65%|██████████████████████████████████████████████████████████████████████████████████████████████████████████▍                                                        | 47/72 [30:54<05:50, 14.04s/it]"
     ]
    },
    {
     "name": "stderr",
     "output_type": "stream",
     "text": [
      "\r",
      " 67%|████████████████████████████████████████████████████████████████████████████████████████████████████████████▋                                                      | 48/72 [31:08<05:36, 14.04s/it]"
     ]
    },
    {
     "name": "stderr",
     "output_type": "stream",
     "text": [
      "\r",
      " 68%|██████████████████████████████████████████████████████████████████████████████████████████████████████████████▉                                                    | 49/72 [31:22<05:21, 13.96s/it]"
     ]
    },
    {
     "name": "stderr",
     "output_type": "stream",
     "text": [
      "Rate limit exceeded. Sleeping for 608 seconds.\n"
     ]
    },
    {
     "name": "stderr",
     "output_type": "stream",
     "text": [
      "\r",
      " 69%|███████████████████████████████████████████████████████████████████████████████████████████████████████████████                                                 | 50/72 [41:45<1:12:05, 196.61s/it]"
     ]
    },
    {
     "name": "stderr",
     "output_type": "stream",
     "text": [
      "\r",
      " 71%|██████████████████████████████████████████████████████████████████████████████████████████████████████████████████▊                                               | 51/72 [41:59<49:38, 141.83s/it]"
     ]
    },
    {
     "name": "stderr",
     "output_type": "stream",
     "text": [
      "\r",
      " 72%|█████████████████████████████████████████████████████████████████████████████████████████████████████████████████████                                             | 52/72 [42:12<34:26, 103.33s/it]"
     ]
    },
    {
     "name": "stderr",
     "output_type": "stream",
     "text": [
      "\r",
      " 74%|███████████████████████████████████████████████████████████████████████████████████████████████████████████████████████▉                                           | 53/72 [42:26<24:13, 76.53s/it]"
     ]
    },
    {
     "name": "stderr",
     "output_type": "stream",
     "text": [
      "\r",
      " 75%|██████████████████████████████████████████████████████████████████████████████████████████████████████████████████████████▎                                        | 54/72 [42:40<17:20, 57.79s/it]"
     ]
    },
    {
     "name": "stderr",
     "output_type": "stream",
     "text": [
      "\r",
      " 76%|████████████████████████████████████████████████████████████████████████████████████████████████████████████████████████████▌                                      | 55/72 [42:54<12:38, 44.60s/it]"
     ]
    },
    {
     "name": "stderr",
     "output_type": "stream",
     "text": [
      "\r",
      " 78%|██████████████████████████████████████████████████████████████████████████████████████████████████████████████████████████████▊                                    | 56/72 [43:07<09:23, 35.19s/it]"
     ]
    },
    {
     "name": "stderr",
     "output_type": "stream",
     "text": [
      "\r",
      " 79%|█████████████████████████████████████████████████████████████████████████████████████████████████████████████████████████████████                                  | 57/72 [43:21<07:11, 28.78s/it]"
     ]
    },
    {
     "name": "stderr",
     "output_type": "stream",
     "text": [
      "\r",
      " 81%|███████████████████████████████████████████████████████████████████████████████████████████████████████████████████████████████████▎                               | 58/72 [43:34<05:38, 24.19s/it]"
     ]
    },
    {
     "name": "stderr",
     "output_type": "stream",
     "text": [
      "\r",
      " 82%|█████████████████████████████████████████████████████████████████████████████████████████████████████████████████████████████████████▌                             | 59/72 [43:48<04:33, 21.04s/it]"
     ]
    },
    {
     "name": "stderr",
     "output_type": "stream",
     "text": [
      "\r",
      " 83%|███████████████████████████████████████████████████████████████████████████████████████████████████████████████████████████████████████▊                           | 60/72 [44:02<03:46, 18.87s/it]"
     ]
    },
    {
     "name": "stderr",
     "output_type": "stream",
     "text": [
      "\r",
      " 85%|██████████████████████████████████████████████████████████████████████████████████████████████████████████████████████████████████████████                         | 61/72 [44:15<03:09, 17.23s/it]"
     ]
    },
    {
     "name": "stderr",
     "output_type": "stream",
     "text": [
      "\r",
      " 86%|████████████████████████████████████████████████████████████████████████████████████████████████████████████████████████████████████████████▎                      | 62/72 [44:29<02:43, 16.30s/it]"
     ]
    },
    {
     "name": "stderr",
     "output_type": "stream",
     "text": [
      "\r",
      " 88%|██████████████████████████████████████████████████████████████████████████████████████████████████████████████████████████████████████████████▋                    | 63/72 [44:43<02:18, 15.34s/it]"
     ]
    },
    {
     "name": "stderr",
     "output_type": "stream",
     "text": [
      "\r",
      " 89%|████████████████████████████████████████████████████████████████████████████████████████████████████████████████████████████████████████████████▉                  | 64/72 [44:55<01:56, 14.59s/it]"
     ]
    },
    {
     "name": "stderr",
     "output_type": "stream",
     "text": [
      "\r",
      " 90%|███████████████████████████████████████████████████████████████████████████████████████████████████████████████████████████████████████████████████▏               | 65/72 [45:09<01:40, 14.41s/it]"
     ]
    },
    {
     "name": "stderr",
     "output_type": "stream",
     "text": [
      "\r",
      " 92%|█████████████████████████████████████████████████████████████████████████████████████████████████████████████████████████████████████████████████████▍             | 66/72 [45:23<01:25, 14.21s/it]"
     ]
    },
    {
     "name": "stderr",
     "output_type": "stream",
     "text": [
      "\r",
      " 93%|███████████████████████████████████████████████████████████████████████████████████████████████████████████████████████████████████████████████████████▋           | 67/72 [45:37<01:10, 14.06s/it]"
     ]
    },
    {
     "name": "stderr",
     "output_type": "stream",
     "text": [
      "\r",
      " 94%|█████████████████████████████████████████████████████████████████████████████████████████████████████████████████████████████████████████████████████████▉         | 68/72 [45:51<00:55, 13.99s/it]"
     ]
    },
    {
     "name": "stderr",
     "output_type": "stream",
     "text": [
      "\r",
      " 96%|████████████████████████████████████████████████████████████████████████████████████████████████████████████████████████████████████████████████████████████▏      | 69/72 [46:04<00:41, 13.88s/it]"
     ]
    },
    {
     "name": "stderr",
     "output_type": "stream",
     "text": [
      "\r",
      " 97%|██████████████████████████████████████████████████████████████████████████████████████████████████████████████████████████████████████████████████████████████▍    | 70/72 [46:18<00:27, 13.77s/it]"
     ]
    },
    {
     "name": "stderr",
     "output_type": "stream",
     "text": [
      "Rate limit exceeded. Sleeping for 608 seconds.\n"
     ]
    },
    {
     "name": "stderr",
     "output_type": "stream",
     "text": [
      "\r",
      " 99%|███████████████████████████████████████████████████████████████████████████████████████████████████████████████████████████████████████████████████████████████▊  | 71/72 [56:40<03:16, 196.16s/it]"
     ]
    },
    {
     "name": "stderr",
     "output_type": "stream",
     "text": [
      "\r",
      "100%|██████████████████████████████████████████████████████████████████████████████████████████████████████████████████████████████████████████████████████████████████| 72/72 [56:53<00:00, 141.37s/it]"
     ]
    },
    {
     "name": "stderr",
     "output_type": "stream",
     "text": [
      "\r",
      "100%|███████████████████████████████████████████████████████████████████████████████████████████████████████████████████████████████████████████████████████████████████| 72/72 [56:53<00:00, 47.41s/it]"
     ]
    },
    {
     "name": "stdout",
     "output_type": "stream",
     "text": [
      "CPU times: user 27.9 s, sys: 1.85 s, total: 29.7 s\n",
      "Wall time: 56min 53s\n"
     ]
    },
    {
     "name": "stderr",
     "output_type": "stream",
     "text": [
      "\n"
     ]
    },
    {
     "data": {
      "text/html": [
       "<div>\n",
       "<style scoped>\n",
       "    .dataframe tbody tr th:only-of-type {\n",
       "        vertical-align: middle;\n",
       "    }\n",
       "\n",
       "    .dataframe tbody tr th {\n",
       "        vertical-align: top;\n",
       "    }\n",
       "\n",
       "    .dataframe thead th {\n",
       "        text-align: right;\n",
       "    }\n",
       "</style>\n",
       "<table border=\"1\" class=\"dataframe\">\n",
       "  <thead>\n",
       "    <tr style=\"text-align: right;\">\n",
       "      <th></th>\n",
       "      <th>author_id</th>\n",
       "      <th>tweet_text</th>\n",
       "      <th>created_at</th>\n",
       "      <th>hashtags</th>\n",
       "      <th>users</th>\n",
       "    </tr>\n",
       "  </thead>\n",
       "  <tbody>\n",
       "    <tr>\n",
       "      <th>474</th>\n",
       "      <td>46326923</td>\n",
       "      <td>RT @Booker4KY: This is what standing together ...</td>\n",
       "      <td>2022-08-06 05:22:01+00:00</td>\n",
       "      <td>[]</td>\n",
       "      <td>[Booker4KY]</td>\n",
       "    </tr>\n",
       "    <tr>\n",
       "      <th>1174</th>\n",
       "      <td>1235531653000450048</td>\n",
       "      <td>RT @FauziaKasuri: \"BAYCHAARA\" money launderer ...</td>\n",
       "      <td>2022-08-01 04:25:57+00:00</td>\n",
       "      <td>[]</td>\n",
       "      <td>[FauziaKasuri, ImranKhanPTI]</td>\n",
       "    </tr>\n",
       "    <tr>\n",
       "      <th>1670</th>\n",
       "      <td>1522574798856986624</td>\n",
       "      <td>RT @OfficialDGISPR: The wreckage of unfortunat...</td>\n",
       "      <td>2022-08-03 21:56:36+00:00</td>\n",
       "      <td>[]</td>\n",
       "      <td>[OfficialDGISPR]</td>\n",
       "    </tr>\n",
       "    <tr>\n",
       "      <th>597</th>\n",
       "      <td>1310282248973946882</td>\n",
       "      <td>@vousmenevoyez 🤦🏿I didn’t blame the ccp for th...</td>\n",
       "      <td>2022-08-06 17:47:04+00:00</td>\n",
       "      <td>[]</td>\n",
       "      <td>[vousmenevoyez]</td>\n",
       "    </tr>\n",
       "    <tr>\n",
       "      <th>1050</th>\n",
       "      <td>1453483338329559045</td>\n",
       "      <td>FLASH FLOOD  Mag: NA\\nFrom: WFO PBZ\\nLocation:...</td>\n",
       "      <td>2022-08-06 02:48:33+00:00</td>\n",
       "      <td>[PAwx]</td>\n",
       "      <td>[]</td>\n",
       "    </tr>\n",
       "    <tr>\n",
       "      <th>178</th>\n",
       "      <td>39764564</td>\n",
       "      <td>One of our challenges here is water- believe i...</td>\n",
       "      <td>2022-08-04 22:18:55+00:00</td>\n",
       "      <td>[farm24]</td>\n",
       "      <td>[]</td>\n",
       "    </tr>\n",
       "    <tr>\n",
       "      <th>618</th>\n",
       "      <td>755049400976699393</td>\n",
       "      <td>RT @president_pmln: Live🔴\\n\\nPrime Minister Sh...</td>\n",
       "      <td>2022-08-01 07:52:08+00:00</td>\n",
       "      <td>[]</td>\n",
       "      <td>[president_pmln]</td>\n",
       "    </tr>\n",
       "    <tr>\n",
       "      <th>1889</th>\n",
       "      <td>1180102732520275968</td>\n",
       "      <td>RT @1___M__A___1: “I have also asked the Khybe...</td>\n",
       "      <td>2022-08-04 13:32:04+00:00</td>\n",
       "      <td>[]</td>\n",
       "      <td>[1___M__A___1]</td>\n",
       "    </tr>\n",
       "    <tr>\n",
       "      <th>606</th>\n",
       "      <td>1880891796</td>\n",
       "      <td>@AIYEPEKU1 @rickybazeup @Chude__ Flood and Wat...</td>\n",
       "      <td>2022-08-05 10:51:29+00:00</td>\n",
       "      <td>[]</td>\n",
       "      <td>[AIYEPEKU1, rickybazeup, Chude__]</td>\n",
       "    </tr>\n",
       "    <tr>\n",
       "      <th>146</th>\n",
       "      <td>1541986535792328704</td>\n",
       "      <td>RT @OfficialDGISPR: The wreckage of unfortunat...</td>\n",
       "      <td>2022-08-05 15:10:49+00:00</td>\n",
       "      <td>[]</td>\n",
       "      <td>[OfficialDGISPR]</td>\n",
       "    </tr>\n",
       "  </tbody>\n",
       "</table>\n",
       "</div>"
      ],
      "text/plain": [
       "                author_id                                         tweet_text  \\\n",
       "474              46326923  RT @Booker4KY: This is what standing together ...   \n",
       "1174  1235531653000450048  RT @FauziaKasuri: \"BAYCHAARA\" money launderer ...   \n",
       "1670  1522574798856986624  RT @OfficialDGISPR: The wreckage of unfortunat...   \n",
       "597   1310282248973946882  @vousmenevoyez 🤦🏿I didn’t blame the ccp for th...   \n",
       "1050  1453483338329559045  FLASH FLOOD  Mag: NA\\nFrom: WFO PBZ\\nLocation:...   \n",
       "178              39764564  One of our challenges here is water- believe i...   \n",
       "618    755049400976699393  RT @president_pmln: Live🔴\\n\\nPrime Minister Sh...   \n",
       "1889  1180102732520275968  RT @1___M__A___1: “I have also asked the Khybe...   \n",
       "606            1880891796  @AIYEPEKU1 @rickybazeup @Chude__ Flood and Wat...   \n",
       "146   1541986535792328704  RT @OfficialDGISPR: The wreckage of unfortunat...   \n",
       "\n",
       "                    created_at  hashtags                              users  \n",
       "474  2022-08-06 05:22:01+00:00        []                        [Booker4KY]  \n",
       "1174 2022-08-01 04:25:57+00:00        []       [FauziaKasuri, ImranKhanPTI]  \n",
       "1670 2022-08-03 21:56:36+00:00        []                   [OfficialDGISPR]  \n",
       "597  2022-08-06 17:47:04+00:00        []                    [vousmenevoyez]  \n",
       "1050 2022-08-06 02:48:33+00:00    [PAwx]                                 []  \n",
       "178  2022-08-04 22:18:55+00:00  [farm24]                                 []  \n",
       "618  2022-08-01 07:52:08+00:00        []                   [president_pmln]  \n",
       "1889 2022-08-04 13:32:04+00:00        []                     [1___M__A___1]  \n",
       "606  2022-08-05 10:51:29+00:00        []  [AIYEPEKU1, rickybazeup, Chude__]  \n",
       "146  2022-08-05 15:10:49+00:00        []                   [OfficialDGISPR]  "
      ]
     },
     "execution_count": 5,
     "metadata": {},
     "output_type": "execute_result"
    }
   ],
   "source": [
    "%%time\n",
    "df = retrieve_tweets(bearer_token, skip_interval_hours, query, language, limit)\n",
    "df.sample(10)"
   ]
  },
  {
   "cell_type": "code",
   "execution_count": 6,
   "id": "1d772d41",
   "metadata": {
    "execution": {
     "iopub.execute_input": "2022-08-07T09:50:06.982440Z",
     "iopub.status.busy": "2022-08-07T09:50:06.981655Z",
     "iopub.status.idle": "2022-08-07T09:50:08.672025Z",
     "shell.execute_reply": "2022-08-07T09:50:08.671251Z"
    },
    "papermill": {
     "duration": 1.714331,
     "end_time": "2022-08-07T09:50:08.674134",
     "exception": false,
     "start_time": "2022-08-07T09:50:06.959803",
     "status": "completed"
    },
    "tags": []
   },
   "outputs": [],
   "source": [
    "df.to_csv(product['file'], index=False)"
   ]
  },
  {
   "cell_type": "code",
   "execution_count": null,
   "id": "809a5e67",
   "metadata": {
    "papermill": {
     "duration": 0.005322,
     "end_time": "2022-08-07T09:50:08.685780",
     "exception": false,
     "start_time": "2022-08-07T09:50:08.680458",
     "status": "completed"
    },
    "tags": []
   },
   "outputs": [],
   "source": []
  }
 ],
 "metadata": {
  "jupytext": {
   "cell_metadata_filter": "tags,-all",
   "main_language": "python",
   "notebook_metadata_filter": "-all",
   "text_representation": {
    "extension": ".py",
    "format_name": "light"
   }
  },
  "kernelspec": {
   "display_name": "Python 3 (ipykernel)",
   "language": "python",
   "name": "python3"
  },
  "language_info": {
   "codemirror_mode": {
    "name": "ipython",
    "version": 3
   },
   "file_extension": ".py",
   "mimetype": "text/x-python",
   "name": "python",
   "nbconvert_exporter": "python",
   "pygments_lexer": "ipython3",
   "version": "3.9.12"
  },
  "papermill": {
   "duration": 3421.377396,
   "end_time": "2022-08-07T09:50:11.325618",
   "exception": null,
   "input_path": "/var/folders/lw/k7hqg3bn7s326rs6jxn046b40000gp/T/tmpxko_ey3m.ipynb",
   "output_path": "/Users/mboussarov/_umsi/Capstone/umads_697_data_medics/pipeline/output/recent_tweets_flood.ipynb",
   "parameters": {
    "credentials_file": "credentials.yaml",
    "disaster_type": "Flood",
    "language": "en",
    "limit": 2000,
    "product": {
     "file": "/Users/mboussarov/_umsi/Capstone/umads_697_data_medics/pipeline/output/recent_tweets_flood.csv",
     "nb": "/Users/mboussarov/_umsi/Capstone/umads_697_data_medics/pipeline/output/recent_tweets_flood.ipynb"
    },
    "query": "flood (relief OR water OR donate OR (death toll) OR rescue OR destroy)",
    "skip_interval_hours": 2
   },
   "start_time": "2022-08-07T08:53:09.948222"
  }
 },
 "nbformat": 4,
 "nbformat_minor": 5
}