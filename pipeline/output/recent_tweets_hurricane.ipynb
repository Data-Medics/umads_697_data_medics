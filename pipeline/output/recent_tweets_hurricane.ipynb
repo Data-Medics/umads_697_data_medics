{
 "cells": [
  {
   "cell_type": "markdown",
   "id": "aa76d473",
   "metadata": {
    "papermill": {
     "duration": 0.004203,
     "end_time": "2022-08-07T09:50:12.937461",
     "exception": false,
     "start_time": "2022-08-07T09:50:12.933258",
     "status": "completed"
    },
    "tags": []
   },
   "source": [
    "# Retreve tweets from the past one week by query"
   ]
  },
  {
   "cell_type": "code",
   "execution_count": 1,
   "id": "84cf5340",
   "metadata": {
    "execution": {
     "iopub.execute_input": "2022-08-07T09:50:12.945000Z",
     "iopub.status.busy": "2022-08-07T09:50:12.944354Z",
     "iopub.status.idle": "2022-08-07T09:50:14.982299Z",
     "shell.execute_reply": "2022-08-07T09:50:14.981484Z"
    },
    "papermill": {
     "duration": 2.043969,
     "end_time": "2022-08-07T09:50:14.984501",
     "exception": false,
     "start_time": "2022-08-07T09:50:12.940532",
     "status": "completed"
    },
    "tags": []
   },
   "outputs": [],
   "source": [
    "import pandas as pd\n",
    "import yaml\n",
    "\n",
    "from tools import retrieve_tweets"
   ]
  },
  {
   "cell_type": "code",
   "execution_count": 2,
   "id": "0d1dadc9",
   "metadata": {
    "execution": {
     "iopub.execute_input": "2022-08-07T09:50:14.990545Z",
     "iopub.status.busy": "2022-08-07T09:50:14.990175Z",
     "iopub.status.idle": "2022-08-07T09:50:14.994349Z",
     "shell.execute_reply": "2022-08-07T09:50:14.993666Z"
    },
    "papermill": {
     "duration": 0.009499,
     "end_time": "2022-08-07T09:50:14.996379",
     "exception": false,
     "start_time": "2022-08-07T09:50:14.986880",
     "status": "completed"
    },
    "tags": [
     "parameters"
    ]
   },
   "outputs": [],
   "source": [
    "upstream = []\n",
    "product = None\n",
    "disaster_type = None\n",
    "query = None\n",
    "language = None\n",
    "limit = None\n",
    "skip_interval_hours=None\n",
    "credentials_file = None"
   ]
  },
  {
   "cell_type": "code",
   "execution_count": 3,
   "id": "45251f14",
   "metadata": {
    "execution": {
     "iopub.execute_input": "2022-08-07T09:50:15.002303Z",
     "iopub.status.busy": "2022-08-07T09:50:15.002004Z",
     "iopub.status.idle": "2022-08-07T09:50:15.006148Z",
     "shell.execute_reply": "2022-08-07T09:50:15.005571Z"
    },
    "papermill": {
     "duration": 0.009565,
     "end_time": "2022-08-07T09:50:15.008096",
     "exception": false,
     "start_time": "2022-08-07T09:50:14.998531",
     "status": "completed"
    },
    "tags": [
     "injected-parameters"
    ]
   },
   "outputs": [],
   "source": [
    "# Parameters\n",
    "disaster_type = \"Hurricane\"\n",
    "query = \"hurricane (donate OR storm OR cyclone OR damage OR evacuation OR destroy)\"\n",
    "language = \"en\"\n",
    "limit = 2000\n",
    "skip_interval_hours = 2\n",
    "credentials_file = \"credentials.yaml\"\n",
    "product = {\n",
    "    \"nb\": \"/Users/mboussarov/_umsi/Capstone/umads_697_data_medics/pipeline/output/recent_tweets_hurricane.ipynb\",\n",
    "    \"file\": \"/Users/mboussarov/_umsi/Capstone/umads_697_data_medics/pipeline/output/recent_tweets_hurricane.csv\",\n",
    "}\n"
   ]
  },
  {
   "cell_type": "markdown",
   "id": "3df85dc5",
   "metadata": {
    "papermill": {
     "duration": 0.002749,
     "end_time": "2022-08-07T09:50:15.012973",
     "exception": false,
     "start_time": "2022-08-07T09:50:15.010224",
     "status": "completed"
    },
    "tags": []
   },
   "source": [
    "## Load Twitter credentials"
   ]
  },
  {
   "cell_type": "code",
   "execution_count": 4,
   "id": "1c6c065e",
   "metadata": {
    "execution": {
     "iopub.execute_input": "2022-08-07T09:50:15.020980Z",
     "iopub.status.busy": "2022-08-07T09:50:15.020682Z",
     "iopub.status.idle": "2022-08-07T09:50:15.025722Z",
     "shell.execute_reply": "2022-08-07T09:50:15.024934Z"
    },
    "papermill": {
     "duration": 0.010934,
     "end_time": "2022-08-07T09:50:15.027850",
     "exception": false,
     "start_time": "2022-08-07T09:50:15.016916",
     "status": "completed"
    },
    "tags": []
   },
   "outputs": [],
   "source": [
    "with open(credentials_file, 'r') as stream:\n",
    "    credentials = yaml.safe_load(stream)\n",
    "\n",
    "bearer_token = credentials['twitter_bearer_token']"
   ]
  },
  {
   "cell_type": "markdown",
   "id": "e7f83288",
   "metadata": {
    "papermill": {
     "duration": 0.002184,
     "end_time": "2022-08-07T09:50:15.032251",
     "exception": false,
     "start_time": "2022-08-07T09:50:15.030067",
     "status": "completed"
    },
    "tags": []
   },
   "source": [
    "## Sample data from Twitter"
   ]
  },
  {
   "cell_type": "code",
   "execution_count": 5,
   "id": "807a5944",
   "metadata": {
    "execution": {
     "iopub.execute_input": "2022-08-07T09:50:15.037688Z",
     "iopub.status.busy": "2022-08-07T09:50:15.037416Z",
     "iopub.status.idle": "2022-08-07T10:22:23.504081Z",
     "shell.execute_reply": "2022-08-07T10:22:23.503367Z"
    },
    "papermill": {
     "duration": 1928.473994,
     "end_time": "2022-08-07T10:22:23.508242",
     "exception": false,
     "start_time": "2022-08-07T09:50:15.034248",
     "status": "completed"
    },
    "tags": []
   },
   "outputs": [
    {
     "name": "stderr",
     "output_type": "stream",
     "text": [
      "\r",
      "  0%|                                                                                                                                                                            | 0/72 [00:00<?, ?it/s]"
     ]
    },
    {
     "name": "stderr",
     "output_type": "stream",
     "text": [
      "\r",
      "  1%|██▎                                                                                                                                                                 | 1/72 [00:13<16:31, 13.97s/it]"
     ]
    },
    {
     "name": "stderr",
     "output_type": "stream",
     "text": [
      "\r",
      "  3%|████▌                                                                                                                                                               | 2/72 [00:26<15:07, 12.97s/it]"
     ]
    },
    {
     "name": "stderr",
     "output_type": "stream",
     "text": [
      "\r",
      "  4%|██████▊                                                                                                                                                             | 3/72 [00:39<14:52, 12.94s/it]"
     ]
    },
    {
     "name": "stderr",
     "output_type": "stream",
     "text": [
      "\r",
      "  6%|█████████                                                                                                                                                           | 4/72 [00:52<14:40, 12.95s/it]"
     ]
    },
    {
     "name": "stderr",
     "output_type": "stream",
     "text": [
      "\r",
      "  7%|███████████▍                                                                                                                                                        | 5/72 [01:04<14:15, 12.77s/it]"
     ]
    },
    {
     "name": "stderr",
     "output_type": "stream",
     "text": [
      "\r",
      "  8%|█████████████▋                                                                                                                                                      | 6/72 [01:17<13:55, 12.67s/it]"
     ]
    },
    {
     "name": "stderr",
     "output_type": "stream",
     "text": [
      "\r",
      " 10%|███████████████▉                                                                                                                                                    | 7/72 [01:30<13:57, 12.88s/it]"
     ]
    },
    {
     "name": "stderr",
     "output_type": "stream",
     "text": [
      "\r",
      " 11%|██████████████████▏                                                                                                                                                 | 8/72 [01:42<13:36, 12.76s/it]"
     ]
    },
    {
     "name": "stderr",
     "output_type": "stream",
     "text": [
      "\r",
      " 12%|████████████████████▌                                                                                                                                               | 9/72 [01:54<13:02, 12.42s/it]"
     ]
    },
    {
     "name": "stderr",
     "output_type": "stream",
     "text": [
      "\r",
      " 14%|██████████████████████▋                                                                                                                                            | 10/72 [02:07<13:06, 12.69s/it]"
     ]
    },
    {
     "name": "stderr",
     "output_type": "stream",
     "text": [
      "\r",
      " 15%|████████████████████████▉                                                                                                                                          | 11/72 [02:20<12:54, 12.70s/it]"
     ]
    },
    {
     "name": "stderr",
     "output_type": "stream",
     "text": [
      "\r",
      " 17%|███████████████████████████▏                                                                                                                                       | 12/72 [02:32<12:34, 12.58s/it]"
     ]
    },
    {
     "name": "stderr",
     "output_type": "stream",
     "text": [
      "\r",
      " 18%|█████████████████████████████▍                                                                                                                                     | 13/72 [02:46<12:39, 12.87s/it]"
     ]
    },
    {
     "name": "stderr",
     "output_type": "stream",
     "text": [
      "\r",
      " 19%|███████████████████████████████▋                                                                                                                                   | 14/72 [02:59<12:29, 12.92s/it]"
     ]
    },
    {
     "name": "stderr",
     "output_type": "stream",
     "text": [
      "\r",
      " 21%|█████████████████████████████████▉                                                                                                                                 | 15/72 [03:12<12:21, 13.01s/it]"
     ]
    },
    {
     "name": "stderr",
     "output_type": "stream",
     "text": [
      "\r",
      " 22%|████████████████████████████████████▏                                                                                                                              | 16/72 [03:25<12:06, 12.98s/it]"
     ]
    },
    {
     "name": "stderr",
     "output_type": "stream",
     "text": [
      "\r",
      " 24%|██████████████████████████████████████▍                                                                                                                            | 17/72 [03:38<11:56, 13.03s/it]"
     ]
    },
    {
     "name": "stderr",
     "output_type": "stream",
     "text": [
      "\r",
      " 25%|████████████████████████████████████████▊                                                                                                                          | 18/72 [03:51<11:35, 12.88s/it]"
     ]
    },
    {
     "name": "stderr",
     "output_type": "stream",
     "text": [
      "\r",
      " 26%|███████████████████████████████████████████                                                                                                                        | 19/72 [04:04<11:33, 13.08s/it]"
     ]
    },
    {
     "name": "stderr",
     "output_type": "stream",
     "text": [
      "\r",
      " 28%|█████████████████████████████████████████████▎                                                                                                                     | 20/72 [04:16<11:06, 12.82s/it]"
     ]
    },
    {
     "name": "stderr",
     "output_type": "stream",
     "text": [
      "Rate limit exceeded. Sleeping for 616 seconds.\n"
     ]
    },
    {
     "name": "stderr",
     "output_type": "stream",
     "text": [
      "\r",
      " 29%|██████████████████████████████████████████████▋                                                                                                                 | 21/72 [14:46<2:48:14, 197.93s/it]"
     ]
    },
    {
     "name": "stderr",
     "output_type": "stream",
     "text": [
      "\r",
      " 31%|████████████████████████████████████████████████▉                                                                                                               | 22/72 [14:58<1:58:26, 142.14s/it]"
     ]
    },
    {
     "name": "stderr",
     "output_type": "stream",
     "text": [
      "\r",
      " 32%|███████████████████████████████████████████████████                                                                                                             | 23/72 [15:10<1:24:13, 103.13s/it]"
     ]
    },
    {
     "name": "stderr",
     "output_type": "stream",
     "text": [
      "\r",
      " 33%|█████████████████████████████████████████████████████▋                                                                                                           | 24/72 [15:23<1:00:54, 76.13s/it]"
     ]
    },
    {
     "name": "stderr",
     "output_type": "stream",
     "text": [
      "\r",
      " 35%|████████████████████████████████████████████████████████▌                                                                                                          | 25/72 [15:37<44:52, 57.30s/it]"
     ]
    },
    {
     "name": "stderr",
     "output_type": "stream",
     "text": [
      "\r",
      " 36%|██████████████████████████████████████████████████████████▊                                                                                                        | 26/72 [15:49<33:40, 43.92s/it]"
     ]
    },
    {
     "name": "stderr",
     "output_type": "stream",
     "text": [
      "\r",
      " 38%|█████████████████████████████████████████████████████████████▏                                                                                                     | 27/72 [16:03<26:02, 34.71s/it]"
     ]
    },
    {
     "name": "stderr",
     "output_type": "stream",
     "text": [
      "\r",
      " 39%|███████████████████████████████████████████████████████████████▍                                                                                                   | 28/72 [16:15<20:30, 27.96s/it]"
     ]
    },
    {
     "name": "stderr",
     "output_type": "stream",
     "text": [
      "\r",
      " 40%|█████████████████████████████████████████████████████████████████▋                                                                                                 | 29/72 [16:28<16:46, 23.40s/it]"
     ]
    },
    {
     "name": "stderr",
     "output_type": "stream",
     "text": [
      "\r",
      " 42%|███████████████████████████████████████████████████████████████████▉                                                                                               | 30/72 [16:39<13:57, 19.93s/it]"
     ]
    },
    {
     "name": "stderr",
     "output_type": "stream",
     "text": [
      "\r",
      " 43%|██████████████████████████████████████████████████████████████████████▏                                                                                            | 31/72 [16:51<11:49, 17.31s/it]"
     ]
    },
    {
     "name": "stderr",
     "output_type": "stream",
     "text": [
      "\r",
      " 44%|████████████████████████████████████████████████████████████████████████▍                                                                                          | 32/72 [17:01<10:09, 15.25s/it]"
     ]
    },
    {
     "name": "stderr",
     "output_type": "stream",
     "text": [
      "\r",
      " 46%|██████████████████████████████████████████████████████████████████████████▋                                                                                        | 33/72 [17:12<09:03, 13.94s/it]"
     ]
    },
    {
     "name": "stderr",
     "output_type": "stream",
     "text": [
      "\r",
      " 47%|████████████████████████████████████████████████████████████████████████████▉                                                                                      | 34/72 [17:22<08:08, 12.85s/it]"
     ]
    },
    {
     "name": "stderr",
     "output_type": "stream",
     "text": [
      "\r",
      " 49%|███████████████████████████████████████████████████████████████████████████████▏                                                                                   | 35/72 [17:32<07:25, 12.04s/it]"
     ]
    },
    {
     "name": "stderr",
     "output_type": "stream",
     "text": [
      "\r",
      " 50%|█████████████████████████████████████████████████████████████████████████████████▌                                                                                 | 36/72 [17:43<06:57, 11.59s/it]"
     ]
    },
    {
     "name": "stderr",
     "output_type": "stream",
     "text": [
      "\r",
      " 51%|███████████████████████████████████████████████████████████████████████████████████▊                                                                               | 37/72 [17:52<06:24, 10.98s/it]"
     ]
    },
    {
     "name": "stderr",
     "output_type": "stream",
     "text": [
      "\r",
      " 53%|██████████████████████████████████████████████████████████████████████████████████████                                                                             | 38/72 [18:02<06:00, 10.61s/it]"
     ]
    },
    {
     "name": "stderr",
     "output_type": "stream",
     "text": [
      "\r",
      " 54%|████████████████████████████████████████████████████████████████████████████████████████▎                                                                          | 39/72 [18:12<05:39, 10.30s/it]"
     ]
    },
    {
     "name": "stderr",
     "output_type": "stream",
     "text": [
      "\r",
      " 56%|██████████████████████████████████████████████████████████████████████████████████████████▌                                                                        | 40/72 [18:21<05:21, 10.03s/it]"
     ]
    },
    {
     "name": "stderr",
     "output_type": "stream",
     "text": [
      "\r",
      " 57%|████████████████████████████████████████████████████████████████████████████████████████████▊                                                                      | 41/72 [18:30<04:59,  9.67s/it]"
     ]
    },
    {
     "name": "stderr",
     "output_type": "stream",
     "text": [
      "\r",
      " 58%|███████████████████████████████████████████████████████████████████████████████████████████████                                                                    | 42/72 [18:39<04:39,  9.33s/it]"
     ]
    },
    {
     "name": "stderr",
     "output_type": "stream",
     "text": [
      "\r",
      " 60%|█████████████████████████████████████████████████████████████████████████████████████████████████▎                                                                 | 43/72 [18:47<04:23,  9.08s/it]"
     ]
    },
    {
     "name": "stderr",
     "output_type": "stream",
     "text": [
      "\r",
      " 61%|███████████████████████████████████████████████████████████████████████████████████████████████████▌                                                               | 44/72 [18:55<04:05,  8.76s/it]"
     ]
    },
    {
     "name": "stderr",
     "output_type": "stream",
     "text": [
      "\r",
      " 62%|█████████████████████████████████████████████████████████████████████████████████████████████████████▉                                                             | 45/72 [19:03<03:45,  8.36s/it]"
     ]
    },
    {
     "name": "stderr",
     "output_type": "stream",
     "text": [
      "Rate limit exceeded. Sleeping for 630 seconds.\n"
     ]
    },
    {
     "name": "stderr",
     "output_type": "stream",
     "text": [
      "\r",
      " 64%|██████████████████████████████████████████████████████████████████████████████████████████████████████▏                                                         | 46/72 [29:41<1:25:35, 197.51s/it]"
     ]
    },
    {
     "name": "stderr",
     "output_type": "stream",
     "text": [
      "\r",
      " 65%|█████████████████████████████████████████████████████████████████████████████████████████████████████████▊                                                        | 47/72 [29:49<58:37, 140.68s/it]"
     ]
    },
    {
     "name": "stderr",
     "output_type": "stream",
     "text": [
      "\r",
      " 67%|████████████████████████████████████████████████████████████████████████████████████████████████████████████                                                      | 48/72 [29:57<40:21, 100.89s/it]"
     ]
    },
    {
     "name": "stderr",
     "output_type": "stream",
     "text": [
      "\r",
      " 68%|██████████████████████████████████████████████████████████████████████████████████████████████████████████████▉                                                    | 49/72 [30:05<27:57, 72.94s/it]"
     ]
    },
    {
     "name": "stderr",
     "output_type": "stream",
     "text": [
      "\r",
      " 69%|█████████████████████████████████████████████████████████████████████████████████████████████████████████████████▏                                                 | 50/72 [30:13<19:37, 53.52s/it]"
     ]
    },
    {
     "name": "stderr",
     "output_type": "stream",
     "text": [
      "\r",
      " 71%|███████████████████████████████████████████████████████████████████████████████████████████████████████████████████▍                                               | 51/72 [30:20<13:50, 39.55s/it]"
     ]
    },
    {
     "name": "stderr",
     "output_type": "stream",
     "text": [
      "\r",
      " 72%|█████████████████████████████████████████████████████████████████████████████████████████████████████████████████████▋                                             | 52/72 [30:28<09:57, 29.87s/it]"
     ]
    },
    {
     "name": "stderr",
     "output_type": "stream",
     "text": [
      "\r",
      " 74%|███████████████████████████████████████████████████████████████████████████████████████████████████████████████████████▉                                           | 53/72 [30:34<07:15, 22.93s/it]"
     ]
    },
    {
     "name": "stderr",
     "output_type": "stream",
     "text": [
      "\r",
      " 75%|██████████████████████████████████████████████████████████████████████████████████████████████████████████████████████████▎                                        | 54/72 [30:40<05:20, 17.79s/it]"
     ]
    },
    {
     "name": "stderr",
     "output_type": "stream",
     "text": [
      "\r",
      " 76%|████████████████████████████████████████████████████████████████████████████████████████████████████████████████████████████▌                                      | 55/72 [30:47<04:05, 14.43s/it]"
     ]
    },
    {
     "name": "stderr",
     "output_type": "stream",
     "text": [
      "\r",
      " 78%|██████████████████████████████████████████████████████████████████████████████████████████████████████████████████████████████▊                                    | 56/72 [30:52<03:06, 11.68s/it]"
     ]
    },
    {
     "name": "stderr",
     "output_type": "stream",
     "text": [
      "\r",
      " 79%|█████████████████████████████████████████████████████████████████████████████████████████████████████████████████████████████████                                  | 57/72 [30:58<02:27,  9.86s/it]"
     ]
    },
    {
     "name": "stderr",
     "output_type": "stream",
     "text": [
      "\r",
      " 81%|███████████████████████████████████████████████████████████████████████████████████████████████████████████████████████████████████▎                               | 58/72 [31:03<01:59,  8.57s/it]"
     ]
    },
    {
     "name": "stderr",
     "output_type": "stream",
     "text": [
      "\r",
      " 82%|█████████████████████████████████████████████████████████████████████████████████████████████████████████████████████████████████████▌                             | 59/72 [31:09<01:38,  7.61s/it]"
     ]
    },
    {
     "name": "stderr",
     "output_type": "stream",
     "text": [
      "\r",
      " 83%|███████████████████████████████████████████████████████████████████████████████████████████████████████████████████████████████████████▊                           | 60/72 [31:14<01:22,  6.90s/it]"
     ]
    },
    {
     "name": "stderr",
     "output_type": "stream",
     "text": [
      "\r",
      " 85%|██████████████████████████████████████████████████████████████████████████████████████████████████████████████████████████████████████████                         | 61/72 [31:19<01:11,  6.46s/it]"
     ]
    },
    {
     "name": "stderr",
     "output_type": "stream",
     "text": [
      "\r",
      " 86%|████████████████████████████████████████████████████████████████████████████████████████████████████████████████████████████████████████████▎                      | 62/72 [31:24<00:58,  5.90s/it]"
     ]
    },
    {
     "name": "stderr",
     "output_type": "stream",
     "text": [
      "\r",
      " 88%|██████████████████████████████████████████████████████████████████████████████████████████████████████████████████████████████████████████████▋                    | 63/72 [31:35<01:07,  7.45s/it]"
     ]
    },
    {
     "name": "stderr",
     "output_type": "stream",
     "text": [
      "\r",
      " 89%|████████████████████████████████████████████████████████████████████████████████████████████████████████████████████████████████████████████████▉                  | 64/72 [31:40<00:53,  6.63s/it]"
     ]
    },
    {
     "name": "stderr",
     "output_type": "stream",
     "text": [
      "\r",
      " 90%|███████████████████████████████████████████████████████████████████████████████████████████████████████████████████████████████████████████████████▏               | 65/72 [31:44<00:41,  5.98s/it]"
     ]
    },
    {
     "name": "stderr",
     "output_type": "stream",
     "text": [
      "\r",
      " 92%|█████████████████████████████████████████████████████████████████████████████████████████████████████████████████████████████████████████████████████▍             | 66/72 [31:49<00:33,  5.55s/it]"
     ]
    },
    {
     "name": "stderr",
     "output_type": "stream",
     "text": [
      "\r",
      " 93%|███████████████████████████████████████████████████████████████████████████████████████████████████████████████████████████████████████████████████████▋           | 67/72 [31:52<00:24,  4.91s/it]"
     ]
    },
    {
     "name": "stderr",
     "output_type": "stream",
     "text": [
      "\r",
      " 94%|█████████████████████████████████████████████████████████████████████████████████████████████████████████████████████████████████████████████████████████▉         | 68/72 [31:56<00:17,  4.48s/it]"
     ]
    },
    {
     "name": "stderr",
     "output_type": "stream",
     "text": [
      "\r",
      " 96%|████████████████████████████████████████████████████████████████████████████████████████████████████████████████████████████████████████████████████████████▏      | 69/72 [31:59<00:12,  4.14s/it]"
     ]
    },
    {
     "name": "stderr",
     "output_type": "stream",
     "text": [
      "\r",
      " 97%|██████████████████████████████████████████████████████████████████████████████████████████████████████████████████████████████████████████████████████████████▍    | 70/72 [32:02<00:07,  3.85s/it]"
     ]
    },
    {
     "name": "stderr",
     "output_type": "stream",
     "text": [
      "\r",
      " 99%|████████████████████████████████████████████████████████████████████████████████████████████████████████████████████████████████████████████████████████████████▋  | 71/72 [32:05<00:03,  3.55s/it]"
     ]
    },
    {
     "name": "stderr",
     "output_type": "stream",
     "text": [
      "\r",
      "100%|███████████████████████████████████████████████████████████████████████████████████████████████████████████████████████████████████████████████████████████████████| 72/72 [32:08<00:00,  3.38s/it]"
     ]
    },
    {
     "name": "stderr",
     "output_type": "stream",
     "text": [
      "\r",
      "100%|███████████████████████████████████████████████████████████████████████████████████████████████████████████████████████████████████████████████████████████████████| 72/72 [32:08<00:00, 26.78s/it]"
     ]
    },
    {
     "name": "stdout",
     "output_type": "stream",
     "text": [
      "CPU times: user 20.7 s, sys: 1.36 s, total: 22 s\n",
      "Wall time: 32min 8s\n"
     ]
    },
    {
     "name": "stderr",
     "output_type": "stream",
     "text": [
      "\n"
     ]
    },
    {
     "data": {
      "text/html": [
       "<div>\n",
       "<style scoped>\n",
       "    .dataframe tbody tr th:only-of-type {\n",
       "        vertical-align: middle;\n",
       "    }\n",
       "\n",
       "    .dataframe tbody tr th {\n",
       "        vertical-align: top;\n",
       "    }\n",
       "\n",
       "    .dataframe thead th {\n",
       "        text-align: right;\n",
       "    }\n",
       "</style>\n",
       "<table border=\"1\" class=\"dataframe\">\n",
       "  <thead>\n",
       "    <tr style=\"text-align: right;\">\n",
       "      <th></th>\n",
       "      <th>author_id</th>\n",
       "      <th>tweet_text</th>\n",
       "      <th>created_at</th>\n",
       "      <th>hashtags</th>\n",
       "      <th>users</th>\n",
       "    </tr>\n",
       "  </thead>\n",
       "  <tbody>\n",
       "    <tr>\n",
       "      <th>919</th>\n",
       "      <td>2800466323</td>\n",
       "      <td>RT @tan123: Great stuff from @ChrisMartzWX on ...</td>\n",
       "      <td>2022-07-31 22:05:03+00:00</td>\n",
       "      <td>[]</td>\n",
       "      <td>[tan123, ChrisMartzWX]</td>\n",
       "    </tr>\n",
       "    <tr>\n",
       "      <th>409</th>\n",
       "      <td>1421453702</td>\n",
       "      <td>RT @katcampbellwx: Good news from the tropics!...</td>\n",
       "      <td>2022-08-02 07:34:01+00:00</td>\n",
       "      <td>[]</td>\n",
       "      <td>[katcampbellwx]</td>\n",
       "    </tr>\n",
       "    <tr>\n",
       "      <th>574</th>\n",
       "      <td>3178523496</td>\n",
       "      <td>Think through — and walk through — evacuation ...</td>\n",
       "      <td>2022-08-04 17:30:47+00:00</td>\n",
       "      <td>[]</td>\n",
       "      <td>[]</td>\n",
       "    </tr>\n",
       "    <tr>\n",
       "      <th>996</th>\n",
       "      <td>968889131479846912</td>\n",
       "      <td>Get #Travelers hurricane survival guide for ti...</td>\n",
       "      <td>2022-08-03 17:17:04+00:00</td>\n",
       "      <td>[Travelers, ThinkSafe]</td>\n",
       "      <td>[]</td>\n",
       "    </tr>\n",
       "    <tr>\n",
       "      <th>186</th>\n",
       "      <td>2347515790</td>\n",
       "      <td>RT @FLSERT: 🌀 Hurricane categories are a usefu...</td>\n",
       "      <td>2022-08-05 21:41:00+00:00</td>\n",
       "      <td>[]</td>\n",
       "      <td>[FLSERT]</td>\n",
       "    </tr>\n",
       "    <tr>\n",
       "      <th>339</th>\n",
       "      <td>1388416812434423809</td>\n",
       "      <td>RT @BureauXD: 2022 Peak Hurricane and Tropical...</td>\n",
       "      <td>2022-08-01 18:58:45+00:00</td>\n",
       "      <td>[stbarts, stbarth]</td>\n",
       "      <td>[BureauXD]</td>\n",
       "    </tr>\n",
       "    <tr>\n",
       "      <th>1781</th>\n",
       "      <td>25393191</td>\n",
       "      <td>RT @HalRidleyJr: The 2020 hurricane season by ...</td>\n",
       "      <td>2022-08-01 15:47:04+00:00</td>\n",
       "      <td>[]</td>\n",
       "      <td>[HalRidleyJr]</td>\n",
       "    </tr>\n",
       "    <tr>\n",
       "      <th>1124</th>\n",
       "      <td>2202013219</td>\n",
       "      <td>RT @AnthonyFarnell: Where did the Atlantic hur...</td>\n",
       "      <td>2022-08-03 16:09:58+00:00</td>\n",
       "      <td>[]</td>\n",
       "      <td>[AnthonyFarnell]</td>\n",
       "    </tr>\n",
       "    <tr>\n",
       "      <th>1876</th>\n",
       "      <td>1148898608</td>\n",
       "      <td>RT @W7VOA: Utilities across the US face a shor...</td>\n",
       "      <td>2022-08-01 12:39:04+00:00</td>\n",
       "      <td>[]</td>\n",
       "      <td>[W7VOA]</td>\n",
       "    </tr>\n",
       "    <tr>\n",
       "      <th>1706</th>\n",
       "      <td>1729758474</td>\n",
       "      <td>RT @W7VOA: Utilities across the US face a shor...</td>\n",
       "      <td>2022-08-01 11:58:00+00:00</td>\n",
       "      <td>[]</td>\n",
       "      <td>[W7VOA]</td>\n",
       "    </tr>\n",
       "  </tbody>\n",
       "</table>\n",
       "</div>"
      ],
      "text/plain": [
       "                author_id                                         tweet_text  \\\n",
       "919            2800466323  RT @tan123: Great stuff from @ChrisMartzWX on ...   \n",
       "409            1421453702  RT @katcampbellwx: Good news from the tropics!...   \n",
       "574            3178523496  Think through — and walk through — evacuation ...   \n",
       "996    968889131479846912  Get #Travelers hurricane survival guide for ti...   \n",
       "186            2347515790  RT @FLSERT: 🌀 Hurricane categories are a usefu...   \n",
       "339   1388416812434423809  RT @BureauXD: 2022 Peak Hurricane and Tropical...   \n",
       "1781             25393191  RT @HalRidleyJr: The 2020 hurricane season by ...   \n",
       "1124           2202013219  RT @AnthonyFarnell: Where did the Atlantic hur...   \n",
       "1876           1148898608  RT @W7VOA: Utilities across the US face a shor...   \n",
       "1706           1729758474  RT @W7VOA: Utilities across the US face a shor...   \n",
       "\n",
       "                    created_at                hashtags                   users  \n",
       "919  2022-07-31 22:05:03+00:00                      []  [tan123, ChrisMartzWX]  \n",
       "409  2022-08-02 07:34:01+00:00                      []         [katcampbellwx]  \n",
       "574  2022-08-04 17:30:47+00:00                      []                      []  \n",
       "996  2022-08-03 17:17:04+00:00  [Travelers, ThinkSafe]                      []  \n",
       "186  2022-08-05 21:41:00+00:00                      []                [FLSERT]  \n",
       "339  2022-08-01 18:58:45+00:00      [stbarts, stbarth]              [BureauXD]  \n",
       "1781 2022-08-01 15:47:04+00:00                      []           [HalRidleyJr]  \n",
       "1124 2022-08-03 16:09:58+00:00                      []        [AnthonyFarnell]  \n",
       "1876 2022-08-01 12:39:04+00:00                      []                 [W7VOA]  \n",
       "1706 2022-08-01 11:58:00+00:00                      []                 [W7VOA]  "
      ]
     },
     "execution_count": 5,
     "metadata": {},
     "output_type": "execute_result"
    }
   ],
   "source": [
    "%%time\n",
    "df = retrieve_tweets(bearer_token, skip_interval_hours, query, language, limit)\n",
    "df.sample(10)"
   ]
  },
  {
   "cell_type": "code",
   "execution_count": 6,
   "id": "6a884dbf",
   "metadata": {
    "execution": {
     "iopub.execute_input": "2022-08-07T10:22:23.521995Z",
     "iopub.status.busy": "2022-08-07T10:22:23.521681Z",
     "iopub.status.idle": "2022-08-07T10:22:24.694119Z",
     "shell.execute_reply": "2022-08-07T10:22:24.693403Z"
    },
    "papermill": {
     "duration": 1.181671,
     "end_time": "2022-08-07T10:22:24.696352",
     "exception": false,
     "start_time": "2022-08-07T10:22:23.514681",
     "status": "completed"
    },
    "tags": []
   },
   "outputs": [],
   "source": [
    "df.to_csv(product['file'], index=False)"
   ]
  },
  {
   "cell_type": "code",
   "execution_count": null,
   "id": "f76067b4",
   "metadata": {
    "papermill": {
     "duration": 0.006418,
     "end_time": "2022-08-07T10:22:24.709019",
     "exception": false,
     "start_time": "2022-08-07T10:22:24.702601",
     "status": "completed"
    },
    "tags": []
   },
   "outputs": [],
   "source": []
  }
 ],
 "metadata": {
  "jupytext": {
   "cell_metadata_filter": "tags,-all",
   "main_language": "python",
   "notebook_metadata_filter": "-all",
   "text_representation": {
    "extension": ".py",
    "format_name": "light"
   }
  },
  "kernelspec": {
   "display_name": "Python 3 (ipykernel)",
   "language": "python",
   "name": "python3"
  },
  "language_info": {
   "codemirror_mode": {
    "name": "ipython",
    "version": 3
   },
   "file_extension": ".py",
   "mimetype": "text/x-python",
   "name": "python",
   "nbconvert_exporter": "python",
   "pygments_lexer": "ipython3",
   "version": "3.9.12"
  },
  "papermill": {
   "duration": 1935.952753,
   "end_time": "2022-08-07T10:22:27.338994",
   "exception": null,
   "input_path": "/var/folders/lw/k7hqg3bn7s326rs6jxn046b40000gp/T/tmp8m8764mn.ipynb",
   "output_path": "/Users/mboussarov/_umsi/Capstone/umads_697_data_medics/pipeline/output/recent_tweets_hurricane.ipynb",
   "parameters": {
    "credentials_file": "credentials.yaml",
    "disaster_type": "Hurricane",
    "language": "en",
    "limit": 2000,
    "product": {
     "file": "/Users/mboussarov/_umsi/Capstone/umads_697_data_medics/pipeline/output/recent_tweets_hurricane.csv",
     "nb": "/Users/mboussarov/_umsi/Capstone/umads_697_data_medics/pipeline/output/recent_tweets_hurricane.ipynb"
    },
    "query": "hurricane (donate OR storm OR cyclone OR damage OR evacuation OR destroy)",
    "skip_interval_hours": 2
   },
   "start_time": "2022-08-07T09:50:11.386241"
  }
 },
 "nbformat": 4,
 "nbformat_minor": 5
}