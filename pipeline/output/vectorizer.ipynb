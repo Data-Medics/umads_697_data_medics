{
 "cells": [
  {
   "cell_type": "markdown",
   "id": "707d0b18",
   "metadata": {
    "papermill": {
     "duration": 0.005746,
     "end_time": "2022-07-31T01:51:35.787400",
     "exception": false,
     "start_time": "2022-07-31T01:51:35.781654",
     "status": "completed"
    },
    "tags": []
   },
   "source": [
    "# Building tweet vectorizer using a standard TweetTokenizer"
   ]
  },
  {
   "cell_type": "code",
   "execution_count": 1,
   "id": "cbe31e55",
   "metadata": {
    "execution": {
     "iopub.execute_input": "2022-07-31T01:51:35.798863Z",
     "iopub.status.busy": "2022-07-31T01:51:35.798424Z",
     "iopub.status.idle": "2022-07-31T01:51:37.024111Z",
     "shell.execute_reply": "2022-07-31T01:51:37.023413Z"
    },
    "papermill": {
     "duration": 1.233184,
     "end_time": "2022-07-31T01:51:37.026310",
     "exception": false,
     "start_time": "2022-07-31T01:51:35.793126",
     "status": "completed"
    },
    "tags": []
   },
   "outputs": [],
   "source": [
    "import pandas as pd\n",
    "from sklearn.metrics import f1_score\n",
    "import pickle\n",
    "\n",
    "from sklearn.feature_extraction.text import TfidfVectorizer\n",
    "from nltk.tokenize import TweetTokenizer\n",
    "from sklearn.linear_model import LogisticRegression"
   ]
  },
  {
   "cell_type": "code",
   "execution_count": 2,
   "id": "17d6753e",
   "metadata": {
    "execution": {
     "iopub.execute_input": "2022-07-31T01:51:37.032725Z",
     "iopub.status.busy": "2022-07-31T01:51:37.032416Z",
     "iopub.status.idle": "2022-07-31T01:51:37.035516Z",
     "shell.execute_reply": "2022-07-31T01:51:37.034844Z"
    },
    "papermill": {
     "duration": 0.008075,
     "end_time": "2022-07-31T01:51:37.037276",
     "exception": false,
     "start_time": "2022-07-31T01:51:37.029201",
     "status": "completed"
    },
    "tags": [
     "parameters"
    ]
   },
   "outputs": [],
   "source": [
    "upstream = []\n",
    "random_seed = 42"
   ]
  },
  {
   "cell_type": "code",
   "execution_count": 3,
   "id": "1daeedb3",
   "metadata": {
    "execution": {
     "iopub.execute_input": "2022-07-31T01:51:37.043441Z",
     "iopub.status.busy": "2022-07-31T01:51:37.043170Z",
     "iopub.status.idle": "2022-07-31T01:51:37.046766Z",
     "shell.execute_reply": "2022-07-31T01:51:37.046115Z"
    },
    "papermill": {
     "duration": 0.008798,
     "end_time": "2022-07-31T01:51:37.048714",
     "exception": false,
     "start_time": "2022-07-31T01:51:37.039916",
     "status": "completed"
    },
    "tags": [
     "injected-parameters"
    ]
   },
   "outputs": [],
   "source": [
    "# Parameters\n",
    "random_seed = 42\n",
    "product = {\n",
    "    \"nb\": \"/Users/mboussarov/_umsi/Capstone/umads_697_data_medics/pipeline/output/vectorizer.ipynb\",\n",
    "    \"vectorizer\": \"/Users/mboussarov/_umsi/Capstone/umads_697_data_medics/pipeline/output/vectorizer.pkl\",\n",
    "    \"vocab\": \"/Users/mboussarov/_umsi/Capstone/umads_697_data_medics/pipeline/output/vocab.pkl\",\n",
    "}\n"
   ]
  },
  {
   "cell_type": "markdown",
   "id": "56e614d4",
   "metadata": {
    "papermill": {
     "duration": 0.002743,
     "end_time": "2022-07-31T01:51:37.054071",
     "exception": false,
     "start_time": "2022-07-31T01:51:37.051328",
     "status": "completed"
    },
    "tags": []
   },
   "source": [
    "## Read the train and test data"
   ]
  },
  {
   "cell_type": "code",
   "execution_count": 4,
   "id": "fc059b09",
   "metadata": {
    "execution": {
     "iopub.execute_input": "2022-07-31T01:51:37.060609Z",
     "iopub.status.busy": "2022-07-31T01:51:37.060311Z",
     "iopub.status.idle": "2022-07-31T01:51:37.284464Z",
     "shell.execute_reply": "2022-07-31T01:51:37.283827Z"
    },
    "lines_to_next_cell": 0,
    "papermill": {
     "duration": 0.22981,
     "end_time": "2022-07-31T01:51:37.286424",
     "exception": false,
     "start_time": "2022-07-31T01:51:37.056614",
     "status": "completed"
    },
    "tags": []
   },
   "outputs": [
    {
     "data": {
      "text/html": [
       "<div>\n",
       "<style scoped>\n",
       "    .dataframe tbody tr th:only-of-type {\n",
       "        vertical-align: middle;\n",
       "    }\n",
       "\n",
       "    .dataframe tbody tr th {\n",
       "        vertical-align: top;\n",
       "    }\n",
       "\n",
       "    .dataframe thead th {\n",
       "        text-align: right;\n",
       "    }\n",
       "</style>\n",
       "<table border=\"1\" class=\"dataframe\">\n",
       "  <thead>\n",
       "    <tr style=\"text-align: right;\">\n",
       "      <th></th>\n",
       "      <th>tweet_id</th>\n",
       "      <th>tweet_text</th>\n",
       "      <th>class_label</th>\n",
       "    </tr>\n",
       "  </thead>\n",
       "  <tbody>\n",
       "    <tr>\n",
       "      <th>25080</th>\n",
       "      <td>907966734241591298</td>\n",
       "      <td>Currently getting hit by whats left of #Irma i...</td>\n",
       "      <td>other_relevant_information</td>\n",
       "    </tr>\n",
       "    <tr>\n",
       "      <th>22524</th>\n",
       "      <td>914919978595487746</td>\n",
       "      <td>US military members delivered supplies to #Vie...</td>\n",
       "      <td>rescue_volunteering_or_donation_effort</td>\n",
       "    </tr>\n",
       "    <tr>\n",
       "      <th>37583</th>\n",
       "      <td>1168292887295078400</td>\n",
       "      <td>@JonahNRO This is a bit petty. Dorian is the s...</td>\n",
       "      <td>infrastructure_and_utility_damage</td>\n",
       "    </tr>\n",
       "    <tr>\n",
       "      <th>940</th>\n",
       "      <td>1031165669604315136</td>\n",
       "      <td>Items required at SMV school trivandrum, the c...</td>\n",
       "      <td>requests_or_urgent_needs</td>\n",
       "    </tr>\n",
       "    <tr>\n",
       "      <th>32951</th>\n",
       "      <td>1111856063274500097</td>\n",
       "      <td>The UK stands shoulder to shoulder with #Malaw...</td>\n",
       "      <td>rescue_volunteering_or_donation_effort</td>\n",
       "    </tr>\n",
       "  </tbody>\n",
       "</table>\n",
       "</div>"
      ],
      "text/plain": [
       "                  tweet_id                                         tweet_text  \\\n",
       "25080   907966734241591298  Currently getting hit by whats left of #Irma i...   \n",
       "22524   914919978595487746  US military members delivered supplies to #Vie...   \n",
       "37583  1168292887295078400  @JonahNRO This is a bit petty. Dorian is the s...   \n",
       "940    1031165669604315136  Items required at SMV school trivandrum, the c...   \n",
       "32951  1111856063274500097  The UK stands shoulder to shoulder with #Malaw...   \n",
       "\n",
       "                                  class_label  \n",
       "25080              other_relevant_information  \n",
       "22524  rescue_volunteering_or_donation_effort  \n",
       "37583       infrastructure_and_utility_damage  \n",
       "940                  requests_or_urgent_needs  \n",
       "32951  rescue_volunteering_or_donation_effort  "
      ]
     },
     "execution_count": 4,
     "metadata": {},
     "output_type": "execute_result"
    }
   ],
   "source": [
    "df_train = pd.read_csv('../data/HumAID_data_v1.0/all_combined/all_train.tsv', sep='\\t')\n",
    "df_test = pd.read_csv('../data/HumAID_data_v1.0/all_combined/all_test.tsv', sep='\\t')\n",
    "\n",
    "df_train.dropna(inplace=True)\n",
    "df_test.dropna(inplace=True)\n",
    "\n",
    "df_train.sample(5)"
   ]
  },
  {
   "cell_type": "markdown",
   "id": "15b9cc1c",
   "metadata": {
    "papermill": {
     "duration": 0.003484,
     "end_time": "2022-07-31T01:51:37.293114",
     "exception": false,
     "start_time": "2022-07-31T01:51:37.289630",
     "status": "completed"
    },
    "tags": []
   },
   "source": [
    "## Build and train the vectorizer"
   ]
  },
  {
   "cell_type": "code",
   "execution_count": 5,
   "id": "0198652a",
   "metadata": {
    "execution": {
     "iopub.execute_input": "2022-07-31T01:51:37.300549Z",
     "iopub.status.busy": "2022-07-31T01:51:37.300263Z",
     "iopub.status.idle": "2022-07-31T01:51:37.304428Z",
     "shell.execute_reply": "2022-07-31T01:51:37.303752Z"
    },
    "papermill": {
     "duration": 0.010174,
     "end_time": "2022-07-31T01:51:37.306525",
     "exception": false,
     "start_time": "2022-07-31T01:51:37.296351",
     "status": "completed"
    },
    "tags": []
   },
   "outputs": [],
   "source": [
    "tokenizer = TweetTokenizer(preserve_case=False, reduce_len=True, strip_handles=True)\n",
    "\n",
    "vectorizer = TfidfVectorizer(\n",
    "        tokenizer=tokenizer.tokenize, #tokenize_text,\n",
    "        strip_accents='unicode',\n",
    "        ngram_range=(1, 2),\n",
    "        max_df=0.90,\n",
    "        min_df=1,\n",
    "        max_features=10000,\n",
    "        use_idf=True\n",
    "    )"
   ]
  },
  {
   "cell_type": "code",
   "execution_count": 6,
   "id": "0bc4ec2c",
   "metadata": {
    "execution": {
     "iopub.execute_input": "2022-07-31T01:51:37.313857Z",
     "iopub.status.busy": "2022-07-31T01:51:37.313551Z",
     "iopub.status.idle": "2022-07-31T01:51:37.316787Z",
     "shell.execute_reply": "2022-07-31T01:51:37.316023Z"
    },
    "papermill": {
     "duration": 0.009287,
     "end_time": "2022-07-31T01:51:37.318739",
     "exception": false,
     "start_time": "2022-07-31T01:51:37.309452",
     "status": "completed"
    },
    "tags": []
   },
   "outputs": [],
   "source": [
    "# from sklearn.decomposition import TruncatedSVD\n",
    "\n",
    "# svd = TruncatedSVD(n_components=500, n_iter=30, random_state=42)"
   ]
  },
  {
   "cell_type": "code",
   "execution_count": 7,
   "id": "d9bc9b08",
   "metadata": {
    "execution": {
     "iopub.execute_input": "2022-07-31T01:51:37.326614Z",
     "iopub.status.busy": "2022-07-31T01:51:37.326279Z",
     "iopub.status.idle": "2022-07-31T01:51:51.639443Z",
     "shell.execute_reply": "2022-07-31T01:51:51.638564Z"
    },
    "papermill": {
     "duration": 14.319678,
     "end_time": "2022-07-31T01:51:51.641362",
     "exception": false,
     "start_time": "2022-07-31T01:51:37.321684",
     "status": "completed"
    },
    "tags": []
   },
   "outputs": [
    {
     "name": "stdout",
     "output_type": "stream",
     "text": [
      "Categories:  ['sympathy_and_support', 'injured_or_dead_people', 'requests_or_urgent_needs', 'not_humanitarian', 'caution_and_advice', 'rescue_volunteering_or_donation_effort', 'other_relevant_information', 'displaced_people_and_evacuations', 'infrastructure_and_utility_damage', 'missing_or_found_people']\n",
      "Vectorizer rows and columns:  (53516, 10000)\n",
      "\n",
      "CPU times: user 14.2 s, sys: 134 ms, total: 14.3 s\n",
      "Wall time: 14.3 s\n"
     ]
    }
   ],
   "source": [
    "%%time\n",
    "X_train = vectorizer.fit_transform(df_train['tweet_text'])\n",
    "#X_train_reduced = svd.fit_transform(X_train)\n",
    "y_train = list(df_train['class_label'])\n",
    "\n",
    "X_test = vectorizer.transform(df_test['tweet_text'])\n",
    "#X_test_reduced = svd.transform(X_test)\n",
    "y_test = list(df_test['class_label'])\n",
    "\n",
    "print('Categories: ', list(set(y_train)))\n",
    "print('Vectorizer rows and columns: ', X_train.shape)\n",
    "print()"
   ]
  },
  {
   "cell_type": "markdown",
   "id": "dd3fbf65",
   "metadata": {
    "papermill": {
     "duration": 0.003094,
     "end_time": "2022-07-31T01:51:51.647746",
     "exception": false,
     "start_time": "2022-07-31T01:51:51.644652",
     "status": "completed"
    },
    "tags": []
   },
   "source": [
    "## Test/validate with logistic regression"
   ]
  },
  {
   "cell_type": "code",
   "execution_count": 8,
   "id": "c5654fbb",
   "metadata": {
    "execution": {
     "iopub.execute_input": "2022-07-31T01:51:51.656536Z",
     "iopub.status.busy": "2022-07-31T01:51:51.656225Z",
     "iopub.status.idle": "2022-07-31T01:53:03.176235Z",
     "shell.execute_reply": "2022-07-31T01:53:03.161174Z"
    },
    "papermill": {
     "duration": 71.589221,
     "end_time": "2022-07-31T01:53:03.240425",
     "exception": false,
     "start_time": "2022-07-31T01:51:51.651204",
     "status": "completed"
    },
    "tags": []
   },
   "outputs": [
    {
     "name": "stdout",
     "output_type": "stream",
     "text": [
      "CPU times: user 2min 46s, sys: 2min 3s, total: 4min 49s\n",
      "Wall time: 1min 11s\n"
     ]
    },
    {
     "data": {
      "text/html": [
       "<style>#sk-container-id-1 {color: black;background-color: white;}#sk-container-id-1 pre{padding: 0;}#sk-container-id-1 div.sk-toggleable {background-color: white;}#sk-container-id-1 label.sk-toggleable__label {cursor: pointer;display: block;width: 100%;margin-bottom: 0;padding: 0.3em;box-sizing: border-box;text-align: center;}#sk-container-id-1 label.sk-toggleable__label-arrow:before {content: \"▸\";float: left;margin-right: 0.25em;color: #696969;}#sk-container-id-1 label.sk-toggleable__label-arrow:hover:before {color: black;}#sk-container-id-1 div.sk-estimator:hover label.sk-toggleable__label-arrow:before {color: black;}#sk-container-id-1 div.sk-toggleable__content {max-height: 0;max-width: 0;overflow: hidden;text-align: left;background-color: #f0f8ff;}#sk-container-id-1 div.sk-toggleable__content pre {margin: 0.2em;color: black;border-radius: 0.25em;background-color: #f0f8ff;}#sk-container-id-1 input.sk-toggleable__control:checked~div.sk-toggleable__content {max-height: 200px;max-width: 100%;overflow: auto;}#sk-container-id-1 input.sk-toggleable__control:checked~label.sk-toggleable__label-arrow:before {content: \"▾\";}#sk-container-id-1 div.sk-estimator input.sk-toggleable__control:checked~label.sk-toggleable__label {background-color: #d4ebff;}#sk-container-id-1 div.sk-label input.sk-toggleable__control:checked~label.sk-toggleable__label {background-color: #d4ebff;}#sk-container-id-1 input.sk-hidden--visually {border: 0;clip: rect(1px 1px 1px 1px);clip: rect(1px, 1px, 1px, 1px);height: 1px;margin: -1px;overflow: hidden;padding: 0;position: absolute;width: 1px;}#sk-container-id-1 div.sk-estimator {font-family: monospace;background-color: #f0f8ff;border: 1px dotted black;border-radius: 0.25em;box-sizing: border-box;margin-bottom: 0.5em;}#sk-container-id-1 div.sk-estimator:hover {background-color: #d4ebff;}#sk-container-id-1 div.sk-parallel-item::after {content: \"\";width: 100%;border-bottom: 1px solid gray;flex-grow: 1;}#sk-container-id-1 div.sk-label:hover label.sk-toggleable__label {background-color: #d4ebff;}#sk-container-id-1 div.sk-serial::before {content: \"\";position: absolute;border-left: 1px solid gray;box-sizing: border-box;top: 0;bottom: 0;left: 50%;z-index: 0;}#sk-container-id-1 div.sk-serial {display: flex;flex-direction: column;align-items: center;background-color: white;padding-right: 0.2em;padding-left: 0.2em;position: relative;}#sk-container-id-1 div.sk-item {position: relative;z-index: 1;}#sk-container-id-1 div.sk-parallel {display: flex;align-items: stretch;justify-content: center;background-color: white;position: relative;}#sk-container-id-1 div.sk-item::before, #sk-container-id-1 div.sk-parallel-item::before {content: \"\";position: absolute;border-left: 1px solid gray;box-sizing: border-box;top: 0;bottom: 0;left: 50%;z-index: -1;}#sk-container-id-1 div.sk-parallel-item {display: flex;flex-direction: column;z-index: 1;position: relative;background-color: white;}#sk-container-id-1 div.sk-parallel-item:first-child::after {align-self: flex-end;width: 50%;}#sk-container-id-1 div.sk-parallel-item:last-child::after {align-self: flex-start;width: 50%;}#sk-container-id-1 div.sk-parallel-item:only-child::after {width: 0;}#sk-container-id-1 div.sk-dashed-wrapped {border: 1px dashed gray;margin: 0 0.4em 0.5em 0.4em;box-sizing: border-box;padding-bottom: 0.4em;background-color: white;}#sk-container-id-1 div.sk-label label {font-family: monospace;font-weight: bold;display: inline-block;line-height: 1.2em;}#sk-container-id-1 div.sk-label-container {text-align: center;}#sk-container-id-1 div.sk-container {/* jupyter's `normalize.less` sets `[hidden] { display: none; }` but bootstrap.min.css set `[hidden] { display: none !important; }` so we also need the `!important` here to be able to override the default hidden behavior on the sphinx rendered scikit-learn.org. See: https://github.com/scikit-learn/scikit-learn/issues/21755 */display: inline-block !important;position: relative;}#sk-container-id-1 div.sk-text-repr-fallback {display: none;}</style><div id=\"sk-container-id-1\" class=\"sk-top-container\"><div class=\"sk-text-repr-fallback\"><pre>LogisticRegression(max_iter=1000, random_state=42)</pre><b>In a Jupyter environment, please rerun this cell to show the HTML representation or trust the notebook. <br />On GitHub, the HTML representation is unable to render, please try loading this page with nbviewer.org.</b></div><div class=\"sk-container\" hidden><div class=\"sk-item\"><div class=\"sk-estimator sk-toggleable\"><input class=\"sk-toggleable__control sk-hidden--visually\" id=\"sk-estimator-id-1\" type=\"checkbox\" checked><label for=\"sk-estimator-id-1\" class=\"sk-toggleable__label sk-toggleable__label-arrow\">LogisticRegression</label><div class=\"sk-toggleable__content\"><pre>LogisticRegression(max_iter=1000, random_state=42)</pre></div></div></div></div></div>"
      ],
      "text/plain": [
       "LogisticRegression(max_iter=1000, random_state=42)"
      ]
     },
     "execution_count": 8,
     "metadata": {},
     "output_type": "execute_result"
    }
   ],
   "source": [
    "%%time\n",
    "# Prepate the logistic regression classifier\n",
    "clf = LogisticRegression(solver='lbfgs', multi_class='auto', random_state=random_seed, max_iter=1000)\n",
    "clf.fit(X_train, y_train)"
   ]
  },
  {
   "cell_type": "code",
   "execution_count": 9,
   "id": "e0cf8b76",
   "metadata": {
    "execution": {
     "iopub.execute_input": "2022-07-31T01:53:03.345086Z",
     "iopub.status.busy": "2022-07-31T01:53:03.343817Z",
     "iopub.status.idle": "2022-07-31T01:53:04.579832Z",
     "shell.execute_reply": "2022-07-31T01:53:04.565542Z"
    },
    "papermill": {
     "duration": 1.331057,
     "end_time": "2022-07-31T01:53:04.610784",
     "exception": false,
     "start_time": "2022-07-31T01:53:03.279727",
     "status": "completed"
    },
    "tags": []
   },
   "outputs": [
    {
     "name": "stdout",
     "output_type": "stream",
     "text": [
      "F1 score on the test data:  0.7137300362376781\n",
      "CPU times: user 431 ms, sys: 21.3 ms, total: 453 ms\n",
      "Wall time: 1.19 s\n"
     ]
    }
   ],
   "source": [
    "%%time\n",
    "# Predict on test\n",
    "lr_test_preds = clf.predict(X_test)\n",
    "# Score on the test data\n",
    "lr_f1 = f1_score(y_test, lr_test_preds, average='macro')\n",
    "print('F1 score on the test data: ', lr_f1)"
   ]
  },
  {
   "cell_type": "markdown",
   "id": "a4131db7",
   "metadata": {
    "papermill": {
     "duration": 0.049989,
     "end_time": "2022-07-31T01:53:04.698717",
     "exception": false,
     "start_time": "2022-07-31T01:53:04.648728",
     "status": "completed"
    },
    "tags": []
   },
   "source": [
    "## Persist the vectorizer to be used downstream"
   ]
  },
  {
   "cell_type": "code",
   "execution_count": 10,
   "id": "b31d8a71",
   "metadata": {
    "execution": {
     "iopub.execute_input": "2022-07-31T01:53:04.812364Z",
     "iopub.status.busy": "2022-07-31T01:53:04.810714Z",
     "iopub.status.idle": "2022-07-31T01:53:06.853395Z",
     "shell.execute_reply": "2022-07-31T01:53:06.850381Z"
    },
    "papermill": {
     "duration": 2.136512,
     "end_time": "2022-07-31T01:53:06.884057",
     "exception": false,
     "start_time": "2022-07-31T01:53:04.747545",
     "status": "completed"
    },
    "tags": []
   },
   "outputs": [],
   "source": [
    "with open(str(product['vectorizer']), 'wb') as f:\n",
    "    pickle.dump(vectorizer, f)\n",
    "\n",
    "with open(str(product['vocab']), 'wb') as f:\n",
    "    pickle.dump(vectorizer.vocabulary_, f)"
   ]
  }
 ],
 "metadata": {
  "jupytext": {
   "cell_metadata_filter": "tags,-all",
   "main_language": "python",
   "notebook_metadata_filter": "-all",
   "text_representation": {
    "extension": ".py",
    "format_name": "light"
   }
  },
  "kernelspec": {
   "display_name": "Python 3 (ipykernel)",
   "language": "python",
   "name": "python3"
  },
  "language_info": {
   "codemirror_mode": {
    "name": "ipython",
    "version": 3
   },
   "file_extension": ".py",
   "mimetype": "text/x-python",
   "name": "python",
   "nbconvert_exporter": "python",
   "pygments_lexer": "ipython3",
   "version": "3.9.12"
  },
  "papermill": {
   "duration": 95.513701,
   "end_time": "2022-07-31T01:53:10.138522",
   "exception": null,
   "input_path": "/var/folders/lw/k7hqg3bn7s326rs6jxn046b40000gp/T/tmpfk43obfi.ipynb",
   "output_path": "/Users/mboussarov/_umsi/Capstone/umads_697_data_medics/pipeline/output/vectorizer.ipynb",
   "parameters": {
    "product": {
     "nb": "/Users/mboussarov/_umsi/Capstone/umads_697_data_medics/pipeline/output/vectorizer.ipynb",
     "vectorizer": "/Users/mboussarov/_umsi/Capstone/umads_697_data_medics/pipeline/output/vectorizer.pkl",
     "vocab": "/Users/mboussarov/_umsi/Capstone/umads_697_data_medics/pipeline/output/vocab.pkl"
    },
    "random_seed": 42
   },
   "start_time": "2022-07-31T01:51:34.624821"
  }
 },
 "nbformat": 4,
 "nbformat_minor": 5
}