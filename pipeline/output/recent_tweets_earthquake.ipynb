{
 "cells": [
  {
   "cell_type": "markdown",
   "id": "7381becf",
   "metadata": {
    "papermill": {
     "duration": 0.006009,
     "end_time": "2022-08-07T08:06:29.114574",
     "exception": false,
     "start_time": "2022-08-07T08:06:29.108565",
     "status": "completed"
    },
    "tags": []
   },
   "source": [
    "# Retreve tweets from the past one week by query"
   ]
  },
  {
   "cell_type": "code",
   "execution_count": 1,
   "id": "4b6441c0",
   "metadata": {
    "execution": {
     "iopub.execute_input": "2022-08-07T08:06:29.123282Z",
     "iopub.status.busy": "2022-08-07T08:06:29.122872Z",
     "iopub.status.idle": "2022-08-07T08:06:31.163531Z",
     "shell.execute_reply": "2022-08-07T08:06:31.162716Z"
    },
    "papermill": {
     "duration": 2.047092,
     "end_time": "2022-08-07T08:06:31.165822",
     "exception": false,
     "start_time": "2022-08-07T08:06:29.118730",
     "status": "completed"
    },
    "tags": []
   },
   "outputs": [],
   "source": [
    "import pandas as pd\n",
    "import yaml\n",
    "\n",
    "from tools import retrieve_tweets"
   ]
  },
  {
   "cell_type": "code",
   "execution_count": 2,
   "id": "6b895338",
   "metadata": {
    "execution": {
     "iopub.execute_input": "2022-08-07T08:06:31.171426Z",
     "iopub.status.busy": "2022-08-07T08:06:31.171077Z",
     "iopub.status.idle": "2022-08-07T08:06:31.175141Z",
     "shell.execute_reply": "2022-08-07T08:06:31.174456Z"
    },
    "papermill": {
     "duration": 0.008954,
     "end_time": "2022-08-07T08:06:31.177097",
     "exception": false,
     "start_time": "2022-08-07T08:06:31.168143",
     "status": "completed"
    },
    "tags": [
     "parameters"
    ]
   },
   "outputs": [],
   "source": [
    "upstream = []\n",
    "product = None\n",
    "disaster_type = None\n",
    "query = None\n",
    "language = None\n",
    "limit = None\n",
    "skip_interval_hours=None\n",
    "credentials_file = None"
   ]
  },
  {
   "cell_type": "code",
   "execution_count": 3,
   "id": "75aefa18",
   "metadata": {
    "execution": {
     "iopub.execute_input": "2022-08-07T08:06:31.182246Z",
     "iopub.status.busy": "2022-08-07T08:06:31.181967Z",
     "iopub.status.idle": "2022-08-07T08:06:31.185952Z",
     "shell.execute_reply": "2022-08-07T08:06:31.185290Z"
    },
    "papermill": {
     "duration": 0.008955,
     "end_time": "2022-08-07T08:06:31.188011",
     "exception": false,
     "start_time": "2022-08-07T08:06:31.179056",
     "status": "completed"
    },
    "tags": [
     "injected-parameters"
    ]
   },
   "outputs": [],
   "source": [
    "# Parameters\n",
    "disaster_type = \"Earthquake\"\n",
    "query = \"earthquake (pray OR victim OR donate OR rescue OR damage OR magnitude)\"\n",
    "language = \"en\"\n",
    "limit = 2000\n",
    "skip_interval_hours = 2\n",
    "credentials_file = \"credentials.yaml\"\n",
    "product = {\n",
    "    \"nb\": \"/Users/mboussarov/_umsi/Capstone/umads_697_data_medics/pipeline/output/recent_tweets_earthquake.ipynb\",\n",
    "    \"file\": \"/Users/mboussarov/_umsi/Capstone/umads_697_data_medics/pipeline/output/recent_tweets_earthquake.csv\",\n",
    "}\n"
   ]
  },
  {
   "cell_type": "markdown",
   "id": "4b60e6a0",
   "metadata": {
    "papermill": {
     "duration": 0.002546,
     "end_time": "2022-08-07T08:06:31.192723",
     "exception": false,
     "start_time": "2022-08-07T08:06:31.190177",
     "status": "completed"
    },
    "tags": []
   },
   "source": [
    "## Load Twitter credentials"
   ]
  },
  {
   "cell_type": "code",
   "execution_count": 4,
   "id": "3d0a3da9",
   "metadata": {
    "execution": {
     "iopub.execute_input": "2022-08-07T08:06:31.198561Z",
     "iopub.status.busy": "2022-08-07T08:06:31.198153Z",
     "iopub.status.idle": "2022-08-07T08:06:31.202751Z",
     "shell.execute_reply": "2022-08-07T08:06:31.202053Z"
    },
    "papermill": {
     "duration": 0.010015,
     "end_time": "2022-08-07T08:06:31.205171",
     "exception": false,
     "start_time": "2022-08-07T08:06:31.195156",
     "status": "completed"
    },
    "tags": []
   },
   "outputs": [],
   "source": [
    "with open(credentials_file, 'r') as stream:\n",
    "    credentials = yaml.safe_load(stream)\n",
    "\n",
    "bearer_token = credentials['twitter_bearer_token']"
   ]
  },
  {
   "cell_type": "markdown",
   "id": "72e23a4a",
   "metadata": {
    "papermill": {
     "duration": 0.003583,
     "end_time": "2022-08-07T08:06:31.211270",
     "exception": false,
     "start_time": "2022-08-07T08:06:31.207687",
     "status": "completed"
    },
    "tags": []
   },
   "source": [
    "## Sample data from Twitter"
   ]
  },
  {
   "cell_type": "code",
   "execution_count": 5,
   "id": "b0b3f2a5",
   "metadata": {
    "execution": {
     "iopub.execute_input": "2022-08-07T08:06:31.216884Z",
     "iopub.status.busy": "2022-08-07T08:06:31.216542Z",
     "iopub.status.idle": "2022-08-07T08:53:05.599823Z",
     "shell.execute_reply": "2022-08-07T08:53:05.598456Z"
    },
    "papermill": {
     "duration": 2794.388454,
     "end_time": "2022-08-07T08:53:05.601885",
     "exception": false,
     "start_time": "2022-08-07T08:06:31.213431",
     "status": "completed"
    },
    "tags": []
   },
   "outputs": [
    {
     "name": "stderr",
     "output_type": "stream",
     "text": [
      "\r",
      "  0%|                                                                                                                                                                            | 0/72 [00:00<?, ?it/s]"
     ]
    },
    {
     "name": "stderr",
     "output_type": "stream",
     "text": [
      "\r",
      "  1%|██▎                                                                                                                                                                 | 1/72 [00:14<17:25, 14.73s/it]"
     ]
    },
    {
     "name": "stderr",
     "output_type": "stream",
     "text": [
      "\r",
      "  3%|████▌                                                                                                                                                               | 2/72 [00:27<16:06, 13.81s/it]"
     ]
    },
    {
     "name": "stderr",
     "output_type": "stream",
     "text": [
      "\r",
      "  4%|██████▊                                                                                                                                                             | 3/72 [00:39<14:38, 12.74s/it]"
     ]
    },
    {
     "name": "stderr",
     "output_type": "stream",
     "text": [
      "\r",
      "  6%|█████████                                                                                                                                                           | 4/72 [00:52<14:34, 12.87s/it]"
     ]
    },
    {
     "name": "stderr",
     "output_type": "stream",
     "text": [
      "\r",
      "  7%|███████████▍                                                                                                                                                        | 5/72 [01:03<13:39, 12.23s/it]"
     ]
    },
    {
     "name": "stderr",
     "output_type": "stream",
     "text": [
      "\r",
      "  8%|█████████████▋                                                                                                                                                      | 6/72 [01:15<13:12, 12.00s/it]"
     ]
    },
    {
     "name": "stderr",
     "output_type": "stream",
     "text": [
      "\r",
      " 10%|███████████████▉                                                                                                                                                    | 7/72 [01:27<13:12, 12.19s/it]"
     ]
    },
    {
     "name": "stderr",
     "output_type": "stream",
     "text": [
      "\r",
      " 11%|██████████████████▏                                                                                                                                                 | 8/72 [01:39<12:49, 12.02s/it]"
     ]
    },
    {
     "name": "stderr",
     "output_type": "stream",
     "text": [
      "\r",
      " 12%|████████████████████▌                                                                                                                                               | 9/72 [01:55<13:50, 13.18s/it]"
     ]
    },
    {
     "name": "stderr",
     "output_type": "stream",
     "text": [
      "\r",
      " 14%|██████████████████████▋                                                                                                                                            | 10/72 [02:08<13:46, 13.32s/it]"
     ]
    },
    {
     "name": "stderr",
     "output_type": "stream",
     "text": [
      "\r",
      " 15%|████████████████████████▉                                                                                                                                          | 11/72 [02:20<13:04, 12.85s/it]"
     ]
    },
    {
     "name": "stderr",
     "output_type": "stream",
     "text": [
      "\r",
      " 17%|███████████████████████████▏                                                                                                                                       | 12/72 [02:32<12:31, 12.52s/it]"
     ]
    },
    {
     "name": "stderr",
     "output_type": "stream",
     "text": [
      "\r",
      " 18%|█████████████████████████████▍                                                                                                                                     | 13/72 [02:45<12:27, 12.67s/it]"
     ]
    },
    {
     "name": "stderr",
     "output_type": "stream",
     "text": [
      "Rate limit exceeded. Sleeping for 612 seconds.\n"
     ]
    },
    {
     "name": "stderr",
     "output_type": "stream",
     "text": [
      "\r",
      " 19%|███████████████████████████████                                                                                                                                 | 14/72 [13:10<3:11:04, 197.67s/it]"
     ]
    },
    {
     "name": "stderr",
     "output_type": "stream",
     "text": [
      "\r",
      " 21%|█████████████████████████████████▎                                                                                                                              | 15/72 [13:23<2:14:52, 141.98s/it]"
     ]
    },
    {
     "name": "stderr",
     "output_type": "stream",
     "text": [
      "\r",
      " 22%|███████████████████████████████████▌                                                                                                                            | 16/72 [13:34<1:35:48, 102.66s/it]"
     ]
    },
    {
     "name": "stderr",
     "output_type": "stream",
     "text": [
      "\r",
      " 24%|██████████████████████████████████████                                                                                                                           | 17/72 [13:46<1:09:05, 75.37s/it]"
     ]
    },
    {
     "name": "stderr",
     "output_type": "stream",
     "text": [
      "\r",
      " 25%|████████████████████████████████████████▊                                                                                                                          | 18/72 [13:58<50:44, 56.38s/it]"
     ]
    },
    {
     "name": "stderr",
     "output_type": "stream",
     "text": [
      "\r",
      " 26%|███████████████████████████████████████████                                                                                                                        | 19/72 [14:10<38:00, 43.03s/it]"
     ]
    },
    {
     "name": "stderr",
     "output_type": "stream",
     "text": [
      "\r",
      " 28%|█████████████████████████████████████████████▎                                                                                                                     | 20/72 [14:22<29:08, 33.62s/it]"
     ]
    },
    {
     "name": "stderr",
     "output_type": "stream",
     "text": [
      "\r",
      " 29%|███████████████████████████████████████████████▌                                                                                                                   | 21/72 [14:34<23:09, 27.25s/it]"
     ]
    },
    {
     "name": "stderr",
     "output_type": "stream",
     "text": [
      "\r",
      " 31%|█████████████████████████████████████████████████▊                                                                                                                 | 22/72 [14:46<18:52, 22.65s/it]"
     ]
    },
    {
     "name": "stderr",
     "output_type": "stream",
     "text": [
      "\r",
      " 32%|████████████████████████████████████████████████████                                                                                                               | 23/72 [14:59<16:01, 19.63s/it]"
     ]
    },
    {
     "name": "stderr",
     "output_type": "stream",
     "text": [
      "\r",
      " 33%|██████████████████████████████████████████████████████▎                                                                                                            | 24/72 [15:11<13:53, 17.37s/it]"
     ]
    },
    {
     "name": "stderr",
     "output_type": "stream",
     "text": [
      "\r",
      " 35%|████████████████████████████████████████████████████████▌                                                                                                          | 25/72 [15:24<12:38, 16.13s/it]"
     ]
    },
    {
     "name": "stderr",
     "output_type": "stream",
     "text": [
      "\r",
      " 36%|██████████████████████████████████████████████████████████▊                                                                                                        | 26/72 [15:36<11:30, 15.00s/it]"
     ]
    },
    {
     "name": "stderr",
     "output_type": "stream",
     "text": [
      "\r",
      " 38%|█████████████████████████████████████████████████████████████▏                                                                                                     | 27/72 [15:48<10:34, 14.09s/it]"
     ]
    },
    {
     "name": "stderr",
     "output_type": "stream",
     "text": [
      "\r",
      " 39%|███████████████████████████████████████████████████████████████▍                                                                                                   | 28/72 [16:00<09:50, 13.43s/it]"
     ]
    },
    {
     "name": "stderr",
     "output_type": "stream",
     "text": [
      "\r",
      " 40%|█████████████████████████████████████████████████████████████████▋                                                                                                 | 29/72 [16:12<09:21, 13.05s/it]"
     ]
    },
    {
     "name": "stderr",
     "output_type": "stream",
     "text": [
      "\r",
      " 42%|███████████████████████████████████████████████████████████████████▉                                                                                               | 30/72 [16:25<08:57, 12.80s/it]"
     ]
    },
    {
     "name": "stderr",
     "output_type": "stream",
     "text": [
      "\r",
      " 43%|██████████████████████████████████████████████████████████████████████▏                                                                                            | 31/72 [16:37<08:34, 12.54s/it]"
     ]
    },
    {
     "name": "stderr",
     "output_type": "stream",
     "text": [
      "\r",
      " 44%|████████████████████████████████████████████████████████████████████████▍                                                                                          | 32/72 [16:49<08:21, 12.53s/it]"
     ]
    },
    {
     "name": "stderr",
     "output_type": "stream",
     "text": [
      "\r",
      " 46%|██████████████████████████████████████████████████████████████████████████▋                                                                                        | 33/72 [17:02<08:09, 12.56s/it]"
     ]
    },
    {
     "name": "stderr",
     "output_type": "stream",
     "text": [
      "\r",
      " 47%|████████████████████████████████████████████████████████████████████████████▉                                                                                      | 34/72 [17:14<07:58, 12.60s/it]"
     ]
    },
    {
     "name": "stderr",
     "output_type": "stream",
     "text": [
      "\r",
      " 49%|███████████████████████████████████████████████████████████████████████████████▏                                                                                   | 35/72 [17:26<07:37, 12.36s/it]"
     ]
    },
    {
     "name": "stderr",
     "output_type": "stream",
     "text": [
      "Rate limit exceeded. Sleeping for 637 seconds.\n"
     ]
    },
    {
     "name": "stderr",
     "output_type": "stream",
     "text": [
      "\r",
      " 50%|████████████████████████████████████████████████████████████████████████████████                                                                                | 36/72 [28:17<2:02:21, 203.93s/it]"
     ]
    },
    {
     "name": "stderr",
     "output_type": "stream",
     "text": [
      "\r",
      " 51%|██████████████████████████████████████████████████████████████████████████████████▏                                                                             | 37/72 [28:29<1:25:22, 146.37s/it]"
     ]
    },
    {
     "name": "stderr",
     "output_type": "stream",
     "text": [
      "\r",
      " 53%|████████████████████████████████████████████████████████████████████████████████████▍                                                                           | 38/72 [28:42<1:00:14, 106.30s/it]"
     ]
    },
    {
     "name": "stderr",
     "output_type": "stream",
     "text": [
      "\r",
      " 54%|████████████████████████████████████████████████████████████████████████████████████████▎                                                                          | 39/72 [28:55<43:06, 78.37s/it]"
     ]
    },
    {
     "name": "stderr",
     "output_type": "stream",
     "text": [
      "\r",
      " 56%|██████████████████████████████████████████████████████████████████████████████████████████▌                                                                        | 40/72 [29:07<31:12, 58.50s/it]"
     ]
    },
    {
     "name": "stderr",
     "output_type": "stream",
     "text": [
      "\r",
      " 57%|████████████████████████████████████████████████████████████████████████████████████████████▊                                                                      | 41/72 [29:21<23:17, 45.08s/it]"
     ]
    },
    {
     "name": "stderr",
     "output_type": "stream",
     "text": [
      "\r",
      " 58%|███████████████████████████████████████████████████████████████████████████████████████████████                                                                    | 42/72 [29:35<17:50, 35.69s/it]"
     ]
    },
    {
     "name": "stderr",
     "output_type": "stream",
     "text": [
      "\r",
      " 60%|█████████████████████████████████████████████████████████████████████████████████████████████████▎                                                                 | 43/72 [29:47<13:51, 28.66s/it]"
     ]
    },
    {
     "name": "stderr",
     "output_type": "stream",
     "text": [
      "\r",
      " 61%|███████████████████████████████████████████████████████████████████████████████████████████████████▌                                                               | 44/72 [29:59<10:58, 23.53s/it]"
     ]
    },
    {
     "name": "stderr",
     "output_type": "stream",
     "text": [
      "\r",
      " 62%|█████████████████████████████████████████████████████████████████████████████████████████████████████▉                                                             | 45/72 [30:12<09:11, 20.43s/it]"
     ]
    },
    {
     "name": "stderr",
     "output_type": "stream",
     "text": [
      "\r",
      " 64%|████████████████████████████████████████████████████████████████████████████████████████████████████████▏                                                          | 46/72 [30:24<07:47, 17.98s/it]"
     ]
    },
    {
     "name": "stderr",
     "output_type": "stream",
     "text": [
      "\r",
      " 65%|██████████████████████████████████████████████████████████████████████████████████████████████████████████▍                                                        | 47/72 [30:37<06:49, 16.39s/it]"
     ]
    },
    {
     "name": "stderr",
     "output_type": "stream",
     "text": [
      "\r",
      " 67%|████████████████████████████████████████████████████████████████████████████████████████████████████████████▋                                                      | 48/72 [30:50<06:07, 15.30s/it]"
     ]
    },
    {
     "name": "stderr",
     "output_type": "stream",
     "text": [
      "\r",
      " 68%|██████████████████████████████████████████████████████████████████████████████████████████████████████████████▉                                                    | 49/72 [31:03<05:36, 14.62s/it]"
     ]
    },
    {
     "name": "stderr",
     "output_type": "stream",
     "text": [
      "\r",
      " 69%|█████████████████████████████████████████████████████████████████████████████████████████████████████████████████▏                                                 | 50/72 [31:16<05:10, 14.10s/it]"
     ]
    },
    {
     "name": "stderr",
     "output_type": "stream",
     "text": [
      "\r",
      " 71%|███████████████████████████████████████████████████████████████████████████████████████████████████████████████████▍                                               | 51/72 [31:28<04:45, 13.60s/it]"
     ]
    },
    {
     "name": "stderr",
     "output_type": "stream",
     "text": [
      "\r",
      " 72%|█████████████████████████████████████████████████████████████████████████████████████████████████████████████████████▋                                             | 52/72 [31:41<04:25, 13.29s/it]"
     ]
    },
    {
     "name": "stderr",
     "output_type": "stream",
     "text": [
      "\r",
      " 74%|███████████████████████████████████████████████████████████████████████████████████████████████████████████████████████▉                                           | 53/72 [31:53<04:08, 13.08s/it]"
     ]
    },
    {
     "name": "stderr",
     "output_type": "stream",
     "text": [
      "\r",
      " 75%|██████████████████████████████████████████████████████████████████████████████████████████████████████████████████████████▎                                        | 54/72 [32:06<03:53, 12.97s/it]"
     ]
    },
    {
     "name": "stderr",
     "output_type": "stream",
     "text": [
      "\r",
      " 76%|████████████████████████████████████████████████████████████████████████████████████████████████████████████████████████████▌                                      | 55/72 [32:19<03:41, 13.00s/it]"
     ]
    },
    {
     "name": "stderr",
     "output_type": "stream",
     "text": [
      "\r",
      " 78%|██████████████████████████████████████████████████████████████████████████████████████████████████████████████████████████████▊                                    | 56/72 [32:32<03:29, 13.06s/it]"
     ]
    },
    {
     "name": "stderr",
     "output_type": "stream",
     "text": [
      "Rate limit exceeded. Sleeping for 625 seconds.\n"
     ]
    },
    {
     "name": "stderr",
     "output_type": "stream",
     "text": [
      "\r",
      " 79%|████████████████████████████████████████████████████████████████████████████████████████████████████████████████████████████████▎                                 | 57/72 [43:13<50:19, 201.33s/it]"
     ]
    },
    {
     "name": "stderr",
     "output_type": "stream",
     "text": [
      "\r",
      " 81%|██████████████████████████████████████████████████████████████████████████████████████████████████████████████████████████████████▌                               | 58/72 [43:28<33:55, 145.37s/it]"
     ]
    },
    {
     "name": "stderr",
     "output_type": "stream",
     "text": [
      "\r",
      " 82%|████████████████████████████████████████████████████████████████████████████████████████████████████████████████████████████████████▊                             | 59/72 [43:42<22:57, 105.96s/it]"
     ]
    },
    {
     "name": "stderr",
     "output_type": "stream",
     "text": [
      "\r",
      " 83%|███████████████████████████████████████████████████████████████████████████████████████████████████████████████████████████████████████▊                           | 60/72 [43:55<15:37, 78.13s/it]"
     ]
    },
    {
     "name": "stderr",
     "output_type": "stream",
     "text": [
      "\r",
      " 85%|██████████████████████████████████████████████████████████████████████████████████████████████████████████████████████████████████████████                         | 61/72 [44:09<10:47, 58.89s/it]"
     ]
    },
    {
     "name": "stderr",
     "output_type": "stream",
     "text": [
      "\r",
      " 86%|████████████████████████████████████████████████████████████████████████████████████████████████████████████████████████████████████████████▎                      | 62/72 [44:21<07:29, 44.95s/it]"
     ]
    },
    {
     "name": "stderr",
     "output_type": "stream",
     "text": [
      "\r",
      " 88%|██████████████████████████████████████████████████████████████████████████████████████████████████████████████████████████████████████████████▋                    | 63/72 [44:35<05:19, 35.54s/it]"
     ]
    },
    {
     "name": "stderr",
     "output_type": "stream",
     "text": [
      "\r",
      " 89%|████████████████████████████████████████████████████████████████████████████████████████████████████████████████████████████████████████████████▉                  | 64/72 [44:48<03:51, 28.94s/it]"
     ]
    },
    {
     "name": "stderr",
     "output_type": "stream",
     "text": [
      "\r",
      " 90%|███████████████████████████████████████████████████████████████████████████████████████████████████████████████████████████████████████████████████▏               | 65/72 [45:01<02:49, 24.20s/it]"
     ]
    },
    {
     "name": "stderr",
     "output_type": "stream",
     "text": [
      "\r",
      " 92%|█████████████████████████████████████████████████████████████████████████████████████████████████████████████████████████████████████████████████████▍             | 66/72 [45:14<02:04, 20.81s/it]"
     ]
    },
    {
     "name": "stderr",
     "output_type": "stream",
     "text": [
      "\r",
      " 93%|███████████████████████████████████████████████████████████████████████████████████████████████████████████████████████████████████████████████████████▋           | 67/72 [45:28<01:32, 18.59s/it]"
     ]
    },
    {
     "name": "stderr",
     "output_type": "stream",
     "text": [
      "\r",
      " 94%|█████████████████████████████████████████████████████████████████████████████████████████████████████████████████████████████████████████████████████████▉         | 68/72 [45:41<01:07, 16.92s/it]"
     ]
    },
    {
     "name": "stderr",
     "output_type": "stream",
     "text": [
      "\r",
      " 96%|████████████████████████████████████████████████████████████████████████████████████████████████████████████████████████████████████████████████████████████▏      | 69/72 [45:54<00:47, 15.74s/it]"
     ]
    },
    {
     "name": "stderr",
     "output_type": "stream",
     "text": [
      "\r",
      " 97%|██████████████████████████████████████████████████████████████████████████████████████████████████████████████████████████████████████████████████████████████▍    | 70/72 [46:08<00:30, 15.34s/it]"
     ]
    },
    {
     "name": "stderr",
     "output_type": "stream",
     "text": [
      "\r",
      " 99%|████████████████████████████████████████████████████████████████████████████████████████████████████████████████████████████████████████████████████████████████▋  | 71/72 [46:20<00:14, 14.42s/it]"
     ]
    },
    {
     "name": "stderr",
     "output_type": "stream",
     "text": [
      "\r",
      "100%|███████████████████████████████████████████████████████████████████████████████████████████████████████████████████████████████████████████████████████████████████| 72/72 [46:34<00:00, 14.10s/it]"
     ]
    },
    {
     "name": "stderr",
     "output_type": "stream",
     "text": [
      "\r",
      "100%|███████████████████████████████████████████████████████████████████████████████████████████████████████████████████████████████████████████████████████████████████| 72/72 [46:34<00:00, 38.81s/it]"
     ]
    },
    {
     "name": "stdout",
     "output_type": "stream",
     "text": [
      "CPU times: user 27.9 s, sys: 2.03 s, total: 29.9 s\n",
      "Wall time: 46min 34s\n"
     ]
    },
    {
     "name": "stderr",
     "output_type": "stream",
     "text": [
      "\n"
     ]
    },
    {
     "data": {
      "text/html": [
       "<div>\n",
       "<style scoped>\n",
       "    .dataframe tbody tr th:only-of-type {\n",
       "        vertical-align: middle;\n",
       "    }\n",
       "\n",
       "    .dataframe tbody tr th {\n",
       "        vertical-align: top;\n",
       "    }\n",
       "\n",
       "    .dataframe thead th {\n",
       "        text-align: right;\n",
       "    }\n",
       "</style>\n",
       "<table border=\"1\" class=\"dataframe\">\n",
       "  <thead>\n",
       "    <tr style=\"text-align: right;\">\n",
       "      <th></th>\n",
       "      <th>author_id</th>\n",
       "      <th>tweet_text</th>\n",
       "      <th>created_at</th>\n",
       "      <th>hashtags</th>\n",
       "      <th>users</th>\n",
       "    </tr>\n",
       "  </thead>\n",
       "  <tbody>\n",
       "    <tr>\n",
       "      <th>1136</th>\n",
       "      <td>1414943191221026816</td>\n",
       "      <td>Auntie experiences ‘Earthquake’ every day in B...</td>\n",
       "      <td>2022-08-04 09:32:06+00:00</td>\n",
       "      <td>[]</td>\n",
       "      <td>[]</td>\n",
       "    </tr>\n",
       "    <tr>\n",
       "      <th>3</th>\n",
       "      <td>2170342764</td>\n",
       "      <td>RT @phivolcs_dost: #EarthquakePH #EarthquakeIl...</td>\n",
       "      <td>2022-08-03 12:58:50+00:00</td>\n",
       "      <td>[EarthquakePH, EarthquakeIlocosSur]</td>\n",
       "      <td>[phivolcs_dost]</td>\n",
       "    </tr>\n",
       "    <tr>\n",
       "      <th>551</th>\n",
       "      <td>1482135646340796416</td>\n",
       "      <td>Magnitude 5.1 earthquake from Sunda Strait sha...</td>\n",
       "      <td>2022-08-05 12:48:18+00:00</td>\n",
       "      <td>[]</td>\n",
       "      <td>[]</td>\n",
       "    </tr>\n",
       "    <tr>\n",
       "      <th>1728</th>\n",
       "      <td>187518091</td>\n",
       "      <td>10:02 Last UK Earthquake Mon, 01 Aug 2022 00:2...</td>\n",
       "      <td>2022-08-03 09:02:03+00:00</td>\n",
       "      <td>[]</td>\n",
       "      <td>[]</td>\n",
       "    </tr>\n",
       "    <tr>\n",
       "      <th>1071</th>\n",
       "      <td>1112896007774371840</td>\n",
       "      <td>1.91 magnitude earthquake occurred at 7520 Tar...</td>\n",
       "      <td>2022-08-01 18:21:48+00:00</td>\n",
       "      <td>[earthb0t, earthquake, 7520TareAccessRd, Ridge...</td>\n",
       "      <td>[]</td>\n",
       "    </tr>\n",
       "    <tr>\n",
       "      <th>162</th>\n",
       "      <td>750327515835731968</td>\n",
       "      <td>RT @IRIS_EPO: The Richter Magnitude Scale is e...</td>\n",
       "      <td>2022-08-06 18:21:21+00:00</td>\n",
       "      <td>[]</td>\n",
       "      <td>[IRIS_EPO]</td>\n",
       "    </tr>\n",
       "    <tr>\n",
       "      <th>1595</th>\n",
       "      <td>1516245625788338177</td>\n",
       "      <td>RT @inquirerdotnet: A magnitude 5.6 earthquake...</td>\n",
       "      <td>2022-08-03 03:32:03+00:00</td>\n",
       "      <td>[]</td>\n",
       "      <td>[inquirerdotnet]</td>\n",
       "    </tr>\n",
       "    <tr>\n",
       "      <th>1955</th>\n",
       "      <td>1375439197302005764</td>\n",
       "      <td>RT @ABC7: DID YOU FEEL IT? Preliminary-magnitu...</td>\n",
       "      <td>2022-08-04 02:11:02+00:00</td>\n",
       "      <td>[earthquake]</td>\n",
       "      <td>[ABC7]</td>\n",
       "    </tr>\n",
       "    <tr>\n",
       "      <th>1234</th>\n",
       "      <td>1373484358661734400</td>\n",
       "      <td>RT @15bnNdrf: Distt Level Mock Exercise on Ear...</td>\n",
       "      <td>2022-08-01 05:17:36+00:00</td>\n",
       "      <td>[]</td>\n",
       "      <td>[15bnNdrf]</td>\n",
       "    </tr>\n",
       "    <tr>\n",
       "      <th>1109</th>\n",
       "      <td>1291969748599574528</td>\n",
       "      <td>#Earthquake of magnitude 2.89 at #Puerto_Rico_...</td>\n",
       "      <td>2022-08-05 15:53:35+00:00</td>\n",
       "      <td>[Earthquake, Puerto_Rico_region]</td>\n",
       "      <td>[]</td>\n",
       "    </tr>\n",
       "  </tbody>\n",
       "</table>\n",
       "</div>"
      ],
      "text/plain": [
       "                author_id                                         tweet_text  \\\n",
       "1136  1414943191221026816  Auntie experiences ‘Earthquake’ every day in B...   \n",
       "3              2170342764  RT @phivolcs_dost: #EarthquakePH #EarthquakeIl...   \n",
       "551   1482135646340796416  Magnitude 5.1 earthquake from Sunda Strait sha...   \n",
       "1728            187518091  10:02 Last UK Earthquake Mon, 01 Aug 2022 00:2...   \n",
       "1071  1112896007774371840  1.91 magnitude earthquake occurred at 7520 Tar...   \n",
       "162    750327515835731968  RT @IRIS_EPO: The Richter Magnitude Scale is e...   \n",
       "1595  1516245625788338177  RT @inquirerdotnet: A magnitude 5.6 earthquake...   \n",
       "1955  1375439197302005764  RT @ABC7: DID YOU FEEL IT? Preliminary-magnitu...   \n",
       "1234  1373484358661734400  RT @15bnNdrf: Distt Level Mock Exercise on Ear...   \n",
       "1109  1291969748599574528  #Earthquake of magnitude 2.89 at #Puerto_Rico_...   \n",
       "\n",
       "                    created_at  \\\n",
       "1136 2022-08-04 09:32:06+00:00   \n",
       "3    2022-08-03 12:58:50+00:00   \n",
       "551  2022-08-05 12:48:18+00:00   \n",
       "1728 2022-08-03 09:02:03+00:00   \n",
       "1071 2022-08-01 18:21:48+00:00   \n",
       "162  2022-08-06 18:21:21+00:00   \n",
       "1595 2022-08-03 03:32:03+00:00   \n",
       "1955 2022-08-04 02:11:02+00:00   \n",
       "1234 2022-08-01 05:17:36+00:00   \n",
       "1109 2022-08-05 15:53:35+00:00   \n",
       "\n",
       "                                               hashtags             users  \n",
       "1136                                                 []                []  \n",
       "3                   [EarthquakePH, EarthquakeIlocosSur]   [phivolcs_dost]  \n",
       "551                                                  []                []  \n",
       "1728                                                 []                []  \n",
       "1071  [earthb0t, earthquake, 7520TareAccessRd, Ridge...                []  \n",
       "162                                                  []        [IRIS_EPO]  \n",
       "1595                                                 []  [inquirerdotnet]  \n",
       "1955                                       [earthquake]            [ABC7]  \n",
       "1234                                                 []        [15bnNdrf]  \n",
       "1109                   [Earthquake, Puerto_Rico_region]                []  "
      ]
     },
     "execution_count": 5,
     "metadata": {},
     "output_type": "execute_result"
    }
   ],
   "source": [
    "%%time\n",
    "df = retrieve_tweets(bearer_token, skip_interval_hours, query, language, limit)\n",
    "df.sample(10)"
   ]
  },
  {
   "cell_type": "code",
   "execution_count": 6,
   "id": "b44c55a9",
   "metadata": {
    "execution": {
     "iopub.execute_input": "2022-08-07T08:53:05.615557Z",
     "iopub.status.busy": "2022-08-07T08:53:05.615264Z",
     "iopub.status.idle": "2022-08-07T08:53:07.263971Z",
     "shell.execute_reply": "2022-08-07T08:53:07.263046Z"
    },
    "papermill": {
     "duration": 1.658985,
     "end_time": "2022-08-07T08:53:07.267280",
     "exception": false,
     "start_time": "2022-08-07T08:53:05.608295",
     "status": "completed"
    },
    "tags": []
   },
   "outputs": [],
   "source": [
    "df.to_csv(product['file'], index=False)"
   ]
  },
  {
   "cell_type": "code",
   "execution_count": null,
   "id": "11cbe00a",
   "metadata": {
    "papermill": {
     "duration": 0.005692,
     "end_time": "2022-08-07T08:53:07.296165",
     "exception": false,
     "start_time": "2022-08-07T08:53:07.290473",
     "status": "completed"
    },
    "tags": []
   },
   "outputs": [],
   "source": []
  }
 ],
 "metadata": {
  "jupytext": {
   "cell_metadata_filter": "tags,-all",
   "main_language": "python",
   "notebook_metadata_filter": "-all",
   "text_representation": {
    "extension": ".py",
    "format_name": "light"
   }
  },
  "kernelspec": {
   "display_name": "Python 3 (ipykernel)",
   "language": "python",
   "name": "python3"
  },
  "language_info": {
   "codemirror_mode": {
    "name": "ipython",
    "version": 3
   },
   "file_extension": ".py",
   "mimetype": "text/x-python",
   "name": "python",
   "nbconvert_exporter": "python",
   "pygments_lexer": "ipython3",
   "version": "3.9.12"
  },
  "papermill": {
   "duration": 2802.538009,
   "end_time": "2022-08-07T08:53:09.923758",
   "exception": null,
   "input_path": "/var/folders/lw/k7hqg3bn7s326rs6jxn046b40000gp/T/tmpqsu9i7_0.ipynb",
   "output_path": "/Users/mboussarov/_umsi/Capstone/umads_697_data_medics/pipeline/output/recent_tweets_earthquake.ipynb",
   "parameters": {
    "credentials_file": "credentials.yaml",
    "disaster_type": "Earthquake",
    "language": "en",
    "limit": 2000,
    "product": {
     "file": "/Users/mboussarov/_umsi/Capstone/umads_697_data_medics/pipeline/output/recent_tweets_earthquake.csv",
     "nb": "/Users/mboussarov/_umsi/Capstone/umads_697_data_medics/pipeline/output/recent_tweets_earthquake.ipynb"
    },
    "query": "earthquake (pray OR victim OR donate OR rescue OR damage OR magnitude)",
    "skip_interval_hours": 2
   },
   "start_time": "2022-08-07T08:06:27.385749"
  }
 },
 "nbformat": 4,
 "nbformat_minor": 5
}