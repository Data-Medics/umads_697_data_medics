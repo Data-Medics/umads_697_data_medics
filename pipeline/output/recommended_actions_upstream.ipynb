{
 "cells": [
  {
   "cell_type": "code",
   "execution_count": 1,
   "id": "642a7851",
   "metadata": {
    "execution": {
     "iopub.execute_input": "2022-08-04T19:38:46.416662Z",
     "iopub.status.busy": "2022-08-04T19:38:46.416154Z",
     "iopub.status.idle": "2022-08-04T19:38:46.683447Z",
     "shell.execute_reply": "2022-08-04T19:38:46.682662Z"
    },
    "papermill": {
     "duration": 0.275398,
     "end_time": "2022-08-04T19:38:46.686572",
     "exception": false,
     "start_time": "2022-08-04T19:38:46.411174",
     "status": "completed"
    },
    "tags": []
   },
   "outputs": [],
   "source": [
    "import pandas as pd\n",
    "import tweepy\n",
    "import yaml"
   ]
  },
  {
   "cell_type": "code",
   "execution_count": 2,
   "id": "1c361b3e",
   "metadata": {
    "execution": {
     "iopub.execute_input": "2022-08-04T19:38:46.694194Z",
     "iopub.status.busy": "2022-08-04T19:38:46.693462Z",
     "iopub.status.idle": "2022-08-04T19:38:46.698382Z",
     "shell.execute_reply": "2022-08-04T19:38:46.698082Z"
    },
    "papermill": {
     "duration": 0.009559,
     "end_time": "2022-08-04T19:38:46.699382",
     "exception": false,
     "start_time": "2022-08-04T19:38:46.689823",
     "status": "completed"
    },
    "tags": []
   },
   "outputs": [],
   "source": [
    "from tools_zupan import get_hashtags, query_tweets"
   ]
  },
  {
   "cell_type": "code",
   "execution_count": 3,
   "id": "8447e636",
   "metadata": {
    "execution": {
     "iopub.execute_input": "2022-08-04T19:38:46.701449Z",
     "iopub.status.busy": "2022-08-04T19:38:46.701329Z",
     "iopub.status.idle": "2022-08-04T19:38:46.703576Z",
     "shell.execute_reply": "2022-08-04T19:38:46.703178Z"
    },
    "papermill": {
     "duration": 0.004467,
     "end_time": "2022-08-04T19:38:46.704637",
     "exception": false,
     "start_time": "2022-08-04T19:38:46.700170",
     "status": "completed"
    },
    "tags": [
     "parameters"
    ]
   },
   "outputs": [],
   "source": [
    "upstream = []\n",
    "disaster_types = None\n",
    "action_types = None\n",
    "# query=None\n",
    "language=None\n",
    "limit=None\n",
    "credentials_file=None\n",
    "\n",
    "# query = '(wildfire OR flood OR earthquake donate evacuate volunteer)'\n",
    "# disaster_types = [\"wildfire\", \"flood\", \"earthquake\"]\n",
    "# action_types = [\"volunteer\", \"donate\", \"evacuate\"]\n",
    "# language = 'en'\n",
    "# limit = 1000\n",
    "# credentials_file = \"credentials.yaml\""
   ]
  },
  {
   "cell_type": "code",
   "execution_count": 4,
   "id": "81a006ab",
   "metadata": {
    "execution": {
     "iopub.execute_input": "2022-08-04T19:38:46.706951Z",
     "iopub.status.busy": "2022-08-04T19:38:46.706814Z",
     "iopub.status.idle": "2022-08-04T19:38:46.709086Z",
     "shell.execute_reply": "2022-08-04T19:38:46.708784Z"
    },
    "papermill": {
     "duration": 0.004389,
     "end_time": "2022-08-04T19:38:46.710023",
     "exception": false,
     "start_time": "2022-08-04T19:38:46.705634",
     "status": "completed"
    },
    "tags": [
     "injected-parameters"
    ]
   },
   "outputs": [],
   "source": [
    "# Parameters\n",
    "disaster_types = [\"wildfire\", \"flood\", \"earthquake\"]\n",
    "action_types = [\"volunteer\", \"donate\", \"evacuate\"]\n",
    "language = \"en\"\n",
    "limit = 500\n",
    "credentials_file = \"credentials.yaml\"\n",
    "product = {\"nb\": \"/Users/tylerzupan/Documents/umads/umads_697_data_medics/pipeline/output/recommended_actions_upstream.ipynb\", \"file\": \"/Users/tylerzupan/Documents/umads/umads_697_data_medics/pipeline/output/twitter_actions.csv\"}\n"
   ]
  },
  {
   "cell_type": "code",
   "execution_count": 5,
   "id": "6e658547",
   "metadata": {
    "execution": {
     "iopub.execute_input": "2022-08-04T19:38:46.712086Z",
     "iopub.status.busy": "2022-08-04T19:38:46.711977Z",
     "iopub.status.idle": "2022-08-04T19:38:46.713913Z",
     "shell.execute_reply": "2022-08-04T19:38:46.713672Z"
    },
    "papermill": {
     "duration": 0.004039,
     "end_time": "2022-08-04T19:38:46.714857",
     "exception": false,
     "start_time": "2022-08-04T19:38:46.710818",
     "status": "completed"
    },
    "tags": []
   },
   "outputs": [],
   "source": [
    "queries = []\n",
    "for d in disaster_types:\n",
    "    for a in action_types:\n",
    "        queries.append(d + \" \"+ a)\n",
    "        \n",
    "query = \"(\" + \" OR \".join(queries) + \")\" "
   ]
  },
  {
   "cell_type": "code",
   "execution_count": 6,
   "id": "4c29d99c",
   "metadata": {
    "execution": {
     "iopub.execute_input": "2022-08-04T19:38:46.716881Z",
     "iopub.status.busy": "2022-08-04T19:38:46.716778Z",
     "iopub.status.idle": "2022-08-04T19:38:47.627104Z",
     "shell.execute_reply": "2022-08-04T19:38:47.626621Z"
    },
    "papermill": {
     "duration": 0.912839,
     "end_time": "2022-08-04T19:38:47.628492",
     "exception": false,
     "start_time": "2022-08-04T19:38:46.715653",
     "status": "completed"
    },
    "tags": []
   },
   "outputs": [],
   "source": [
    "with open(credentials_file, 'r') as stream:\n",
    "    credentials = yaml.safe_load(stream)\n",
    "\n",
    "bearer_token = credentials['twitter_bearer_token']\n",
    "\n",
    "df = query_tweets(bearer_token=bearer_token, query=query + ' lang:' + language, limit=limit)\n",
    "\n",
    "# hash the tweet text to count unique tweets\n",
    "df[\"tweet_hash\"] = df[\"tweet_text\"].apply(lambda a: hash(a) % 100000000)\n",
    "\n",
    "# counts by tweet\n",
    "df[\"tweet_count\"] = df.groupby(\"tweet_hash\").transform(\"count\")[\"tweet_text\"]\n",
    "\n",
    "df_slim = df.groupby(\"tweet_hash\").first()\n",
    "\n",
    "df_slim.to_csv(product['file'], index=False)\n",
    "# df_slim.to_csv(\"output/twitter_actions.csv\", index=False)\n",
    "\n"
   ]
  }
 ],
 "metadata": {
  "jupytext": {
   "cell_metadata_filter": "tags,-all",
   "main_language": "python",
   "notebook_metadata_filter": "-all",
   "text_representation": {
    "extension": ".py",
    "format_name": "light"
   }
  },
  "kernelspec": {
   "display_name": "Python 3 (ipykernel)",
   "language": "python",
   "name": "python3"
  },
  "language_info": {
   "codemirror_mode": {
    "name": "ipython",
    "version": 3
   },
   "file_extension": ".py",
   "mimetype": "text/x-python",
   "name": "python",
   "nbconvert_exporter": "python",
   "pygments_lexer": "ipython3",
   "version": "3.8.12"
  },
  "papermill": {
   "duration": 2.041816,
   "end_time": "2022-08-04T19:38:47.745563",
   "exception": null,
   "input_path": "/var/folders/90/jr1d6lf51v38yb_trwymv06h0000gn/T/tmp_lu8kuoc.ipynb",
   "output_path": "/Users/tylerzupan/Documents/umads/umads_697_data_medics/pipeline/output/recommended_actions_upstream.ipynb",
   "parameters": {
    "action_types": [
     "volunteer",
     "donate",
     "evacuate"
    ],
    "credentials_file": "credentials.yaml",
    "disaster_types": [
     "wildfire",
     "flood",
     "earthquake"
    ],
    "language": "en",
    "limit": 500,
    "product": {
     "file": "/Users/tylerzupan/Documents/umads/umads_697_data_medics/pipeline/output/twitter_actions.csv",
     "nb": "/Users/tylerzupan/Documents/umads/umads_697_data_medics/pipeline/output/recommended_actions_upstream.ipynb"
    }
   },
   "start_time": "2022-08-04T19:38:45.703747"
  }
 },
 "nbformat": 4,
 "nbformat_minor": 5
}