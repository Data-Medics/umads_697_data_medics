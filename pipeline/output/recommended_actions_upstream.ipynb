{
 "cells": [
  {
   "cell_type": "code",
   "execution_count": 1,
   "id": "c15e0219",
   "metadata": {
    "execution": {
     "iopub.execute_input": "2022-08-13T21:40:13.407830Z",
     "iopub.status.busy": "2022-08-13T21:40:13.407267Z",
     "iopub.status.idle": "2022-08-13T21:40:14.020835Z",
     "shell.execute_reply": "2022-08-13T21:40:14.019913Z"
    },
    "papermill": {
     "duration": 0.621812,
     "end_time": "2022-08-13T21:40:14.023374",
     "exception": false,
     "start_time": "2022-08-13T21:40:13.401562",
     "status": "completed"
    },
    "tags": []
   },
   "outputs": [],
   "source": [
    "import yaml\n",
    "import datetime\n",
    "import pandas as pd"
   ]
  },
  {
   "cell_type": "code",
   "execution_count": 2,
   "id": "1e11904b",
   "metadata": {
    "execution": {
     "iopub.execute_input": "2022-08-13T21:40:14.029284Z",
     "iopub.status.busy": "2022-08-13T21:40:14.028943Z",
     "iopub.status.idle": "2022-08-13T21:40:14.211491Z",
     "shell.execute_reply": "2022-08-13T21:40:14.210798Z"
    },
    "papermill": {
     "duration": 0.187764,
     "end_time": "2022-08-13T21:40:14.213699",
     "exception": false,
     "start_time": "2022-08-13T21:40:14.025935",
     "status": "completed"
    },
    "tags": []
   },
   "outputs": [],
   "source": [
    "from tools_zupan import get_hashtags, query_tweets"
   ]
  },
  {
   "cell_type": "code",
   "execution_count": 3,
   "id": "5a5e86d9",
   "metadata": {
    "execution": {
     "iopub.execute_input": "2022-08-13T21:40:14.219301Z",
     "iopub.status.busy": "2022-08-13T21:40:14.219021Z",
     "iopub.status.idle": "2022-08-13T21:40:14.223846Z",
     "shell.execute_reply": "2022-08-13T21:40:14.223218Z"
    },
    "papermill": {
     "duration": 0.009808,
     "end_time": "2022-08-13T21:40:14.225842",
     "exception": false,
     "start_time": "2022-08-13T21:40:14.216034",
     "status": "completed"
    },
    "tags": [
     "parameters"
    ]
   },
   "outputs": [],
   "source": [
    "upstream = []\n",
    "disaster_types = None\n",
    "action_types = None\n",
    "# query=None\n",
    "language=None\n",
    "limit=None\n",
    "credentials_file=None\n",
    "\n",
    "query = '(wildfire OR flood OR earthquake donate evacuate volunteer)'\n",
    "disaster_types = [\"wildfire\", \"flood\", \"earthquake\"]\n",
    "action_types = [\"volunteer\", \"donate\", \"evacuate\"]\n",
    "language = 'en'\n",
    "limit = 500\n",
    "credentials_file = \"credentials.yaml\""
   ]
  },
  {
   "cell_type": "code",
   "execution_count": 4,
   "id": "cbde53de",
   "metadata": {
    "execution": {
     "iopub.execute_input": "2022-08-13T21:40:14.231595Z",
     "iopub.status.busy": "2022-08-13T21:40:14.231318Z",
     "iopub.status.idle": "2022-08-13T21:40:14.235709Z",
     "shell.execute_reply": "2022-08-13T21:40:14.235032Z"
    },
    "papermill": {
     "duration": 0.009767,
     "end_time": "2022-08-13T21:40:14.237693",
     "exception": false,
     "start_time": "2022-08-13T21:40:14.227926",
     "status": "completed"
    },
    "tags": [
     "injected-parameters"
    ]
   },
   "outputs": [],
   "source": [
    "# Parameters\n",
    "disaster_types = [\"wildfire\", \"flood\", \"earthquake\"]\n",
    "action_types = [\"volunteer\", \"donate\", \"evacuate\"]\n",
    "language = \"en\"\n",
    "limit = 500\n",
    "credentials_file = \"credentials.yaml\"\n",
    "product = {\n",
    "    \"nb\": \"/Users/mboussarov/_umsi/Capstone/umads_697_data_medics/pipeline/output/recommended_actions_upstream.ipynb\",\n",
    "    \"file\": \"/Users/mboussarov/_umsi/Capstone/umads_697_data_medics/pipeline/output/twitter_actions.csv\",\n",
    "}\n"
   ]
  },
  {
   "cell_type": "code",
   "execution_count": 5,
   "id": "f7fe5884",
   "metadata": {
    "execution": {
     "iopub.execute_input": "2022-08-13T21:40:14.243014Z",
     "iopub.status.busy": "2022-08-13T21:40:14.242746Z",
     "iopub.status.idle": "2022-08-13T21:40:14.246291Z",
     "shell.execute_reply": "2022-08-13T21:40:14.245674Z"
    },
    "papermill": {
     "duration": 0.0084,
     "end_time": "2022-08-13T21:40:14.248213",
     "exception": false,
     "start_time": "2022-08-13T21:40:14.239813",
     "status": "completed"
    },
    "tags": []
   },
   "outputs": [],
   "source": [
    "queries = []\n",
    "for d in disaster_types:\n",
    "    for a in action_types:\n",
    "        queries.append(d + \" \"+ a)\n",
    "        \n",
    "query = \"(\" + \" OR \".join(queries) + \")\" "
   ]
  },
  {
   "cell_type": "code",
   "execution_count": 6,
   "id": "3abd9356",
   "metadata": {
    "execution": {
     "iopub.execute_input": "2022-08-13T21:40:14.253463Z",
     "iopub.status.busy": "2022-08-13T21:40:14.253194Z",
     "iopub.status.idle": "2022-08-13T21:40:41.341191Z",
     "shell.execute_reply": "2022-08-13T21:40:41.340362Z"
    },
    "lines_to_next_cell": 2,
    "papermill": {
     "duration": 27.093154,
     "end_time": "2022-08-13T21:40:41.343429",
     "exception": false,
     "start_time": "2022-08-13T21:40:14.250275",
     "status": "completed"
    },
    "tags": []
   },
   "outputs": [],
   "source": [
    "with open(credentials_file, 'r') as stream:\n",
    "    credentials = yaml.safe_load(stream)\n",
    "\n",
    "bearer_token = credentials['twitter_bearer_token']\n",
    "\n",
    "# df = query_tweets(bearer_token=bearer_token, query=query + ' lang:' + language, limit=limit)\n",
    "\n",
    "skip_interval_hours = 6\n",
    "periods_one_week = 24\n",
    "period_end = datetime.datetime.now()\n",
    "period_delta = datetime.timedelta(hours=skip_interval_hours)\n",
    "\n",
    "full_df = None\n",
    "\n",
    "for _ in range(periods_one_week):\n",
    "    df = query_tweets(bearer_token=bearer_token, query=query + ' lang:' + language, \n",
    "                      limit=limit,  end_time=period_end)\n",
    "    if full_df is None:\n",
    "        full_df = df\n",
    "    else:\n",
    "        full_df = pd.concat([full_df, df])\n",
    "    period_end -= period_delta"
   ]
  },
  {
   "cell_type": "code",
   "execution_count": 7,
   "id": "f91f6151",
   "metadata": {
    "execution": {
     "iopub.execute_input": "2022-08-13T21:40:41.349435Z",
     "iopub.status.busy": "2022-08-13T21:40:41.349155Z",
     "iopub.status.idle": "2022-08-13T21:40:41.352469Z",
     "shell.execute_reply": "2022-08-13T21:40:41.351830Z"
    },
    "papermill": {
     "duration": 0.008395,
     "end_time": "2022-08-13T21:40:41.354310",
     "exception": false,
     "start_time": "2022-08-13T21:40:41.345915",
     "status": "completed"
    },
    "tags": []
   },
   "outputs": [],
   "source": [
    "# skip_interval_hours = 6\n",
    "# periods_one_week = 24\n",
    "# period_end = datetime.datetime.now()\n",
    "# period_delta = datetime.timedelta(hours=skip_interval_hours)\n",
    "\n",
    "# full_df = None\n",
    "\n",
    "# for _ in range(periods_one_week):\n",
    "#     print(period_end)\n",
    "#     period_end -= period_delta"
   ]
  },
  {
   "cell_type": "code",
   "execution_count": 8,
   "id": "743ab8b3",
   "metadata": {
    "execution": {
     "iopub.execute_input": "2022-08-13T21:40:41.359831Z",
     "iopub.status.busy": "2022-08-13T21:40:41.359560Z",
     "iopub.status.idle": "2022-08-13T21:40:41.400821Z",
     "shell.execute_reply": "2022-08-13T21:40:41.400183Z"
    },
    "lines_to_next_cell": 0,
    "papermill": {
     "duration": 0.046266,
     "end_time": "2022-08-13T21:40:41.402790",
     "exception": false,
     "start_time": "2022-08-13T21:40:41.356524",
     "status": "completed"
    },
    "tags": []
   },
   "outputs": [
    {
     "name": "stdout",
     "output_type": "stream",
     "text": [
      "(711, 6)\n"
     ]
    }
   ],
   "source": [
    "# hash the tweet text to count unique tweets\n",
    "full_df[\"tweet_hash\"] = full_df[\"tweet_text\"].apply(lambda a: hash(a) % 100000000)\n",
    "\n",
    "# counts by tweet\n",
    "full_df[\"tweet_count\"] = full_df.groupby(\"tweet_hash\").transform(\"count\")[\"tweet_text\"]\n",
    "\n",
    "df_slim = full_df.groupby(\"tweet_hash\").first()\n",
    "\n",
    "# df_slim.to_csv(product['file'], index=False)\n",
    "print(df_slim.shape)\n",
    "df_slim.to_csv(\"output/twitter_actions.csv\", index=False)"
   ]
  },
  {
   "cell_type": "code",
   "execution_count": null,
   "id": "8ed7d035",
   "metadata": {
    "lines_to_next_cell": 2,
    "papermill": {
     "duration": 0.002248,
     "end_time": "2022-08-13T21:40:41.407348",
     "exception": false,
     "start_time": "2022-08-13T21:40:41.405100",
     "status": "completed"
    },
    "tags": []
   },
   "outputs": [],
   "source": []
  }
 ],
 "metadata": {
  "jupytext": {
   "cell_metadata_filter": "tags,-all",
   "main_language": "python",
   "notebook_metadata_filter": "-all",
   "text_representation": {
    "extension": ".py",
    "format_name": "light"
   }
  },
  "kernelspec": {
   "display_name": "Python 3 (ipykernel)",
   "language": "python",
   "name": "python3"
  },
  "language_info": {
   "codemirror_mode": {
    "name": "ipython",
    "version": 3
   },
   "file_extension": ".py",
   "mimetype": "text/x-python",
   "name": "python",
   "nbconvert_exporter": "python",
   "pygments_lexer": "ipython3",
   "version": "3.9.12"
  },
  "papermill": {
   "duration": 30.086626,
   "end_time": "2022-08-13T21:40:41.628721",
   "exception": null,
   "input_path": "/var/folders/lw/k7hqg3bn7s326rs6jxn046b40000gp/T/tmpybpm3ety.ipynb",
   "output_path": "/Users/mboussarov/_umsi/Capstone/umads_697_data_medics/pipeline/output/recommended_actions_upstream.ipynb",
   "parameters": {
    "action_types": [
     "volunteer",
     "donate",
     "evacuate"
    ],
    "credentials_file": "credentials.yaml",
    "disaster_types": [
     "wildfire",
     "flood",
     "earthquake"
    ],
    "language": "en",
    "limit": 500,
    "product": {
     "file": "/Users/mboussarov/_umsi/Capstone/umads_697_data_medics/pipeline/output/twitter_actions.csv",
     "nb": "/Users/mboussarov/_umsi/Capstone/umads_697_data_medics/pipeline/output/recommended_actions_upstream.ipynb"
    }
   },
   "start_time": "2022-08-13T21:40:11.542095"
  }
 },
 "nbformat": 4,
 "nbformat_minor": 5
}