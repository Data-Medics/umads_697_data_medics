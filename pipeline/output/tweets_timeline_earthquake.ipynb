{
 "cells": [
  {
   "cell_type": "markdown",
   "id": "21f488b2",
   "metadata": {
    "papermill": {
     "duration": 0.013556,
     "end_time": "2022-08-19T20:48:01.216471",
     "exception": false,
     "start_time": "2022-08-19T20:48:01.202915",
     "status": "completed"
    },
    "tags": []
   },
   "source": [
    "# Doing an exploration on recent disaster tweets for a disaster category"
   ]
  },
  {
   "cell_type": "code",
   "execution_count": 1,
   "id": "843bccee",
   "metadata": {
    "execution": {
     "iopub.execute_input": "2022-08-19T20:48:01.238396Z",
     "iopub.status.busy": "2022-08-19T20:48:01.237822Z",
     "iopub.status.idle": "2022-08-19T20:48:05.295848Z",
     "shell.execute_reply": "2022-08-19T20:48:05.294829Z"
    },
    "papermill": {
     "duration": 4.071628,
     "end_time": "2022-08-19T20:48:05.298751",
     "exception": false,
     "start_time": "2022-08-19T20:48:01.227123",
     "status": "completed"
    },
    "tags": []
   },
   "outputs": [],
   "source": [
    "import pandas as pd\n",
    "import pickle\n",
    "\n",
    "import spacy\n",
    "from spacy import displacy\n",
    "import matplotlib.pyplot as plt\n",
    "import seaborn as sns\n",
    "import altair as alt\n",
    "import networkx as nx \n",
    "import nx_altair as nxa\n",
    "from collections import Counter\n",
    "import warnings\n",
    "\n",
    "from tools import extract_assign_location, disaster_title, topNlocations, top_locations, \\\n",
    "                    sampleNtweets, top_locations_tweets, show_top_locations, get_top_locations_flatten, \\\n",
    "                    get_location_graph_data, build_network, get_layout, plot_disaster_mentions, is_intersect, \\\n",
    "                    show_tweets_locations, top_location_pairs\n",
    "\n",
    "warnings.filterwarnings('ignore')\n",
    "pd.set_option('display.max_colwidth', 280)"
   ]
  },
  {
   "cell_type": "markdown",
   "id": "7cfeea50",
   "metadata": {
    "papermill": {
     "duration": 0.009622,
     "end_time": "2022-08-19T20:48:05.318416",
     "exception": false,
     "start_time": "2022-08-19T20:48:05.308794",
     "status": "completed"
    },
    "tags": []
   },
   "source": [
    "## Define any upstream dependencies"
   ]
  },
  {
   "cell_type": "code",
   "execution_count": 2,
   "id": "63c09560",
   "metadata": {
    "execution": {
     "iopub.execute_input": "2022-08-19T20:48:05.341657Z",
     "iopub.status.busy": "2022-08-19T20:48:05.341136Z",
     "iopub.status.idle": "2022-08-19T20:48:05.345564Z",
     "shell.execute_reply": "2022-08-19T20:48:05.344837Z"
    },
    "lines_to_end_of_cell_marker": 2,
    "papermill": {
     "duration": 0.019439,
     "end_time": "2022-08-19T20:48:05.348022",
     "exception": false,
     "start_time": "2022-08-19T20:48:05.328583",
     "status": "completed"
    },
    "tags": [
     "parameters"
    ]
   },
   "outputs": [],
   "source": [
    "upstream = [\n",
    "    'vectorizer',\n",
    "    'category_classification_models',\n",
    "    'recent_tweets_wildfire',\n",
    "    'recent_tweets_earthquake',\n",
    "    'recent_tweets_flood',\n",
    "    'recent_tweets_hurricane'\n",
    "]\n",
    "random_seed = None\n",
    "disaster_kind = None"
   ]
  },
  {
   "cell_type": "code",
   "execution_count": 3,
   "id": "3da52dea",
   "metadata": {
    "execution": {
     "iopub.execute_input": "2022-08-19T20:48:05.369603Z",
     "iopub.status.busy": "2022-08-19T20:48:05.369224Z",
     "iopub.status.idle": "2022-08-19T20:48:05.375932Z",
     "shell.execute_reply": "2022-08-19T20:48:05.375086Z"
    },
    "papermill": {
     "duration": 0.020165,
     "end_time": "2022-08-19T20:48:05.378229",
     "exception": false,
     "start_time": "2022-08-19T20:48:05.358064",
     "status": "completed"
    },
    "tags": [
     "injected-parameters"
    ]
   },
   "outputs": [],
   "source": [
    "# Parameters\n",
    "random_seed = 42\n",
    "disaster_kind = \"recent_tweets_earthquake\"\n",
    "upstream = {\n",
    "    \"vectorizer\": {\n",
    "        \"nb\": \"/Users/mboussarov/_umsi/Capstone/umads_697_data_medics/pipeline/output/vectorizer.ipynb\",\n",
    "        \"vectorizer\": \"/Users/mboussarov/_umsi/Capstone/umads_697_data_medics/pipeline/output/vectorizer.pkl\",\n",
    "        \"vocab\": \"/Users/mboussarov/_umsi/Capstone/umads_697_data_medics/pipeline/output/vocab.pkl\",\n",
    "    },\n",
    "    \"category_classification_models\": {\n",
    "        \"nb\": \"/Users/mboussarov/_umsi/Capstone/umads_697_data_medics/pipeline/output/category_classification_models.ipynb\",\n",
    "        \"model_lr\": \"/Users/mboussarov/_umsi/Capstone/umads_697_data_medics/pipeline/output/model_lr.pkl\",\n",
    "        \"model_rf\": \"/Users/mboussarov/_umsi/Capstone/umads_697_data_medics/pipeline/output/model_rf.pkl\",\n",
    "        \"model_nb\": \"/Users/mboussarov/_umsi/Capstone/umads_697_data_medics/pipeline/output/model_nb.csv\",\n",
    "        \"model_votingc\": \"/Users/mboussarov/_umsi/Capstone/umads_697_data_medics/pipeline/output/model_votingc.csv\",\n",
    "    },\n",
    "    \"recent_tweets_earthquake\": {\n",
    "        \"nb\": \"/Users/mboussarov/_umsi/Capstone/umads_697_data_medics/pipeline/output/recent_tweets_earthquake.ipynb\",\n",
    "        \"file\": \"/Users/mboussarov/_umsi/Capstone/umads_697_data_medics/pipeline/output/recent_tweets_earthquake.csv\",\n",
    "    },\n",
    "    \"recent_tweets_wildfire\": {\n",
    "        \"nb\": \"/Users/mboussarov/_umsi/Capstone/umads_697_data_medics/pipeline/output/recent_tweets_wildfire.ipynb\",\n",
    "        \"file\": \"/Users/mboussarov/_umsi/Capstone/umads_697_data_medics/pipeline/output/recent_tweets_wildfire.csv\",\n",
    "    },\n",
    "    \"recent_tweets_hurricane\": {\n",
    "        \"nb\": \"/Users/mboussarov/_umsi/Capstone/umads_697_data_medics/pipeline/output/recent_tweets_hurricane.ipynb\",\n",
    "        \"file\": \"/Users/mboussarov/_umsi/Capstone/umads_697_data_medics/pipeline/output/recent_tweets_hurricane.csv\",\n",
    "    },\n",
    "    \"recent_tweets_flood\": {\n",
    "        \"nb\": \"/Users/mboussarov/_umsi/Capstone/umads_697_data_medics/pipeline/output/recent_tweets_flood.ipynb\",\n",
    "        \"file\": \"/Users/mboussarov/_umsi/Capstone/umads_697_data_medics/pipeline/output/recent_tweets_flood.csv\",\n",
    "    },\n",
    "}\n",
    "product = {\n",
    "    \"nb\": \"/Users/mboussarov/_umsi/Capstone/umads_697_data_medics/pipeline/output/tweets_timeline_earthquake.ipynb\"\n",
    "}\n"
   ]
  },
  {
   "cell_type": "code",
   "execution_count": 4,
   "id": "e230a202",
   "metadata": {
    "execution": {
     "iopub.execute_input": "2022-08-19T20:48:05.399413Z",
     "iopub.status.busy": "2022-08-19T20:48:05.398924Z",
     "iopub.status.idle": "2022-08-19T20:48:05.404214Z",
     "shell.execute_reply": "2022-08-19T20:48:05.403560Z"
    },
    "papermill": {
     "duration": 0.019177,
     "end_time": "2022-08-19T20:48:05.407065",
     "exception": false,
     "start_time": "2022-08-19T20:48:05.387888",
     "status": "completed"
    },
    "tags": []
   },
   "outputs": [
    {
     "name": "stdout",
     "output_type": "stream",
     "text": [
      "Disaster kind:  Earthquake\n"
     ]
    }
   ],
   "source": [
    "print('Disaster kind: ', disaster_title(disaster_kind))"
   ]
  },
  {
   "cell_type": "markdown",
   "id": "1d872686",
   "metadata": {
    "papermill": {
     "duration": 0.009602,
     "end_time": "2022-08-19T20:48:05.426468",
     "exception": false,
     "start_time": "2022-08-19T20:48:05.416866",
     "status": "completed"
    },
    "tags": []
   },
   "source": [
    "## Load the sample of recent tweets"
   ]
  },
  {
   "cell_type": "code",
   "execution_count": 5,
   "id": "018f9446",
   "metadata": {
    "execution": {
     "iopub.execute_input": "2022-08-19T20:48:05.447077Z",
     "iopub.status.busy": "2022-08-19T20:48:05.446764Z",
     "iopub.status.idle": "2022-08-19T20:48:05.843463Z",
     "shell.execute_reply": "2022-08-19T20:48:05.842537Z"
    },
    "papermill": {
     "duration": 0.410253,
     "end_time": "2022-08-19T20:48:05.846229",
     "exception": false,
     "start_time": "2022-08-19T20:48:05.435976",
     "status": "completed"
    },
    "tags": []
   },
   "outputs": [
    {
     "data": {
      "text/html": [
       "<div>\n",
       "<style scoped>\n",
       "    .dataframe tbody tr th:only-of-type {\n",
       "        vertical-align: middle;\n",
       "    }\n",
       "\n",
       "    .dataframe tbody tr th {\n",
       "        vertical-align: top;\n",
       "    }\n",
       "\n",
       "    .dataframe thead th {\n",
       "        text-align: right;\n",
       "    }\n",
       "</style>\n",
       "<table border=\"1\" class=\"dataframe\">\n",
       "  <thead>\n",
       "    <tr style=\"text-align: right;\">\n",
       "      <th></th>\n",
       "      <th>author_id</th>\n",
       "      <th>tweet_text</th>\n",
       "      <th>created_at</th>\n",
       "      <th>hashtags</th>\n",
       "      <th>users</th>\n",
       "    </tr>\n",
       "  </thead>\n",
       "  <tbody>\n",
       "    <tr>\n",
       "      <th>74127</th>\n",
       "      <td>1112896007774371840</td>\n",
       "      <td>1.90 magnitude earthquake occurred at Hawaii, HI, United States on 2022-08-03 20:55:23 UTC\\nMap: https://t.co/tP77kWgart\\n#earthb0t #earthquake  #Hawaii #HI #UnitedStates #noaa #greatshakeout #LetsBeSafe #OpenData #data https://t.co/PuT9AQcBzo</td>\n",
       "      <td>2022-08-03 21:11:29+00:00</td>\n",
       "      <td>['earthb0t', 'earthquake', 'Hawaii', 'HI', 'UnitedStates', 'noaa', 'greatshakeout', 'LetsBeSafe', 'OpenData', 'data']</td>\n",
       "      <td>[]</td>\n",
       "    </tr>\n",
       "    <tr>\n",
       "      <th>115626</th>\n",
       "      <td>1112896007774371840</td>\n",
       "      <td>0.80 magnitude earthquake occurred at Matanuska-Susitna, AK, United States on 2022-08-01 08:56:01 UTC\\nMap: https://t.co/XQOkub80pu\\n#earthb0t #earthquake  #MatanuskaSusitna #AK #UnitedStates #noaa #greatshakeout #LetsBeSafe #OpenData #data https://t.co/iqlKUsquQ9</td>\n",
       "      <td>2022-08-01 09:07:20+00:00</td>\n",
       "      <td>['earthb0t', 'earthquake', 'MatanuskaSusitna', 'AK', 'UnitedStates', 'noaa', 'greatshakeout', 'LetsBeSafe', 'OpenData', 'data']</td>\n",
       "      <td>[]</td>\n",
       "    </tr>\n",
       "    <tr>\n",
       "      <th>36368</th>\n",
       "      <td>2157244796</td>\n",
       "      <td>RT @QuakesToday: 5.0 magnitude #earthquake. South Sandwich Islands region https://t.co/9vs6Odaevu</td>\n",
       "      <td>2022-08-05 07:01:40+00:00</td>\n",
       "      <td>['earthquake']</td>\n",
       "      <td>['QuakesToday']</td>\n",
       "    </tr>\n",
       "    <tr>\n",
       "      <th>4459</th>\n",
       "      <td>2780260122</td>\n",
       "      <td>RT @civildefensePH: The @NDRRMC_OpCen held an emergency full council meeting yesterday to discuss early recovery operations for the victims…</td>\n",
       "      <td>2022-08-06 12:41:13+00:00</td>\n",
       "      <td>[]</td>\n",
       "      <td>['civildefensePH', 'NDRRMC_OpCen']</td>\n",
       "    </tr>\n",
       "    <tr>\n",
       "      <th>9094</th>\n",
       "      <td>1299383353263579136</td>\n",
       "      <td>i feel the earthquake in the room and so i pray, fall into me and then—!</td>\n",
       "      <td>2022-08-05 18:18:35+00:00</td>\n",
       "      <td>[]</td>\n",
       "      <td>[]</td>\n",
       "    </tr>\n",
       "  </tbody>\n",
       "</table>\n",
       "</div>"
      ],
      "text/plain": [
       "                  author_id  \\\n",
       "74127   1112896007774371840   \n",
       "115626  1112896007774371840   \n",
       "36368            2157244796   \n",
       "4459             2780260122   \n",
       "9094    1299383353263579136   \n",
       "\n",
       "                                                                                                                                                                                                                                                                      tweet_text  \\\n",
       "74127                        1.90 magnitude earthquake occurred at Hawaii, HI, United States on 2022-08-03 20:55:23 UTC\\nMap: https://t.co/tP77kWgart\\n#earthb0t #earthquake  #Hawaii #HI #UnitedStates #noaa #greatshakeout #LetsBeSafe #OpenData #data https://t.co/PuT9AQcBzo   \n",
       "115626  0.80 magnitude earthquake occurred at Matanuska-Susitna, AK, United States on 2022-08-01 08:56:01 UTC\\nMap: https://t.co/XQOkub80pu\\n#earthb0t #earthquake  #MatanuskaSusitna #AK #UnitedStates #noaa #greatshakeout #LetsBeSafe #OpenData #data https://t.co/iqlKUsquQ9   \n",
       "36368                                                                                                                                                                          RT @QuakesToday: 5.0 magnitude #earthquake. South Sandwich Islands region https://t.co/9vs6Odaevu   \n",
       "4459                                                                                                                                RT @civildefensePH: The @NDRRMC_OpCen held an emergency full council meeting yesterday to discuss early recovery operations for the victims…   \n",
       "9094                                                                                                                                                                                                    i feel the earthquake in the room and so i pray, fall into me and then—!   \n",
       "\n",
       "                       created_at  \\\n",
       "74127   2022-08-03 21:11:29+00:00   \n",
       "115626  2022-08-01 09:07:20+00:00   \n",
       "36368   2022-08-05 07:01:40+00:00   \n",
       "4459    2022-08-06 12:41:13+00:00   \n",
       "9094    2022-08-05 18:18:35+00:00   \n",
       "\n",
       "                                                                                                                               hashtags  \\\n",
       "74127             ['earthb0t', 'earthquake', 'Hawaii', 'HI', 'UnitedStates', 'noaa', 'greatshakeout', 'LetsBeSafe', 'OpenData', 'data']   \n",
       "115626  ['earthb0t', 'earthquake', 'MatanuskaSusitna', 'AK', 'UnitedStates', 'noaa', 'greatshakeout', 'LetsBeSafe', 'OpenData', 'data']   \n",
       "36368                                                                                                                    ['earthquake']   \n",
       "4459                                                                                                                                 []   \n",
       "9094                                                                                                                                 []   \n",
       "\n",
       "                                     users  \n",
       "74127                                   []  \n",
       "115626                                  []  \n",
       "36368                      ['QuakesToday']  \n",
       "4459    ['civildefensePH', 'NDRRMC_OpCen']  \n",
       "9094                                    []  "
      ]
     },
     "execution_count": 5,
     "metadata": {},
     "output_type": "execute_result"
    }
   ],
   "source": [
    "df_tweets = pd.read_csv(upstream[disaster_kind]['file'])\n",
    "df_tweets.sample(5)"
   ]
  },
  {
   "cell_type": "markdown",
   "id": "e1f4e856",
   "metadata": {
    "papermill": {
     "duration": 0.010648,
     "end_time": "2022-08-19T20:48:05.867560",
     "exception": false,
     "start_time": "2022-08-19T20:48:05.856912",
     "status": "completed"
    },
    "tags": []
   },
   "source": [
    "## Extract the locations from the tweet sample"
   ]
  },
  {
   "cell_type": "code",
   "execution_count": 6,
   "id": "8717afc9",
   "metadata": {
    "execution": {
     "iopub.execute_input": "2022-08-19T20:48:05.890568Z",
     "iopub.status.busy": "2022-08-19T20:48:05.890241Z",
     "iopub.status.idle": "2022-08-19T20:56:22.534289Z",
     "shell.execute_reply": "2022-08-19T20:56:22.533321Z"
    },
    "papermill": {
     "duration": 496.845681,
     "end_time": "2022-08-19T20:56:22.724208",
     "exception": false,
     "start_time": "2022-08-19T20:48:05.878527",
     "status": "completed"
    },
    "tags": []
   },
   "outputs": [
    {
     "name": "stderr",
     "output_type": "stream",
     "text": [
      "\r",
      "0it [00:00, ?it/s]"
     ]
    },
    {
     "name": "stderr",
     "output_type": "stream",
     "text": [
      "\r",
      "12it [00:00, 116.59it/s]"
     ]
    },
    {
     "name": "stderr",
     "output_type": "stream",
     "text": [
      "\r",
      "43it [00:00, 227.13it/s]"
     ]
    },
    {
     "name": "stderr",
     "output_type": "stream",
     "text": [
      "\r",
      "73it [00:00, 257.22it/s]"
     ]
    },
    {
     "name": "stderr",
     "output_type": "stream",
     "text": [
      "\r",
      "105it [00:00, 277.76it/s]"
     ]
    },
    {
     "name": "stderr",
     "output_type": "stream",
     "text": [
      "\r",
      "139it [00:00, 299.75it/s]"
     ]
    },
    {
     "name": "stderr",
     "output_type": "stream",
     "text": [
      "\r",
      "171it [00:00, 305.35it/s]"
     ]
    },
    {
     "name": "stderr",
     "output_type": "stream",
     "text": [
      "\r",
      "202it [00:00, 300.17it/s]"
     ]
    },
    {
     "name": "stderr",
     "output_type": "stream",
     "text": [
      "\r",
      "237it [00:00, 314.71it/s]"
     ]
    },
    {
     "name": "stderr",
     "output_type": "stream",
     "text": [
      "\r",
      "274it [00:00, 330.50it/s]"
     ]
    },
    {
     "name": "stderr",
     "output_type": "stream",
     "text": [
      "\r",
      "308it [00:01, 329.35it/s]"
     ]
    },
    {
     "name": "stderr",
     "output_type": "stream",
     "text": [
      "\r",
      "341it [00:01, 325.64it/s]"
     ]
    },
    {
     "name": "stderr",
     "output_type": "stream",
     "text": [
      "\r",
      "374it [00:01, 326.85it/s]"
     ]
    },
    {
     "name": "stderr",
     "output_type": "stream",
     "text": [
      "\r",
      "407it [00:01, 325.86it/s]"
     ]
    },
    {
     "name": "stderr",
     "output_type": "stream",
     "text": [
      "\r",
      "440it [00:01, 321.43it/s]"
     ]
    },
    {
     "name": "stderr",
     "output_type": "stream",
     "text": [
      "\r",
      "473it [00:01, 323.36it/s]"
     ]
    },
    {
     "name": "stderr",
     "output_type": "stream",
     "text": [
      "\r",
      "506it [00:01, 324.93it/s]"
     ]
    },
    {
     "name": "stderr",
     "output_type": "stream",
     "text": [
      "\r",
      "541it [00:01, 331.08it/s]"
     ]
    },
    {
     "name": "stderr",
     "output_type": "stream",
     "text": [
      "\r",
      "575it [00:01, 320.52it/s]"
     ]
    },
    {
     "name": "stderr",
     "output_type": "stream",
     "text": [
      "\r",
      "608it [00:02, 256.58it/s]"
     ]
    },
    {
     "name": "stderr",
     "output_type": "stream",
     "text": [
      "\r",
      "641it [00:02, 274.19it/s]"
     ]
    },
    {
     "name": "stderr",
     "output_type": "stream",
     "text": [
      "\r",
      "676it [00:02, 293.33it/s]"
     ]
    },
    {
     "name": "stderr",
     "output_type": "stream",
     "text": [
      "\r",
      "710it [00:02, 304.62it/s]"
     ]
    },
    {
     "name": "stderr",
     "output_type": "stream",
     "text": [
      "\r",
      "744it [00:02, 312.88it/s]"
     ]
    },
    {
     "name": "stderr",
     "output_type": "stream",
     "text": [
      "\r",
      "779it [00:02, 323.03it/s]"
     ]
    },
    {
     "name": "stderr",
     "output_type": "stream",
     "text": [
      "\r",
      "815it [00:02, 330.36it/s]"
     ]
    },
    {
     "name": "stderr",
     "output_type": "stream",
     "text": [
      "\r",
      "849it [00:02, 321.53it/s]"
     ]
    },
    {
     "name": "stderr",
     "output_type": "stream",
     "text": [
      "\r",
      "882it [00:02, 320.73it/s]"
     ]
    },
    {
     "name": "stderr",
     "output_type": "stream",
     "text": [
      "\r",
      "915it [00:02, 308.37it/s]"
     ]
    },
    {
     "name": "stderr",
     "output_type": "stream",
     "text": [
      "\r",
      "949it [00:03, 314.89it/s]"
     ]
    },
    {
     "name": "stderr",
     "output_type": "stream",
     "text": [
      "\r",
      "981it [00:03, 312.92it/s]"
     ]
    },
    {
     "name": "stderr",
     "output_type": "stream",
     "text": [
      "\r",
      "1013it [00:03, 312.21it/s]"
     ]
    },
    {
     "name": "stderr",
     "output_type": "stream",
     "text": [
      "\r",
      "1046it [00:03, 314.28it/s]"
     ]
    },
    {
     "name": "stderr",
     "output_type": "stream",
     "text": [
      "\r",
      "1082it [00:03, 324.35it/s]"
     ]
    },
    {
     "name": "stderr",
     "output_type": "stream",
     "text": [
      "\r",
      "1115it [00:03, 323.67it/s]"
     ]
    },
    {
     "name": "stderr",
     "output_type": "stream",
     "text": [
      "\r",
      "1148it [00:03, 324.31it/s]"
     ]
    },
    {
     "name": "stderr",
     "output_type": "stream",
     "text": [
      "\r",
      "1181it [00:03, 323.09it/s]"
     ]
    },
    {
     "name": "stderr",
     "output_type": "stream",
     "text": [
      "\r",
      "1215it [00:03, 327.96it/s]"
     ]
    },
    {
     "name": "stderr",
     "output_type": "stream",
     "text": [
      "\r",
      "1251it [00:04, 336.55it/s]"
     ]
    },
    {
     "name": "stderr",
     "output_type": "stream",
     "text": [
      "\r",
      "1285it [00:04, 333.16it/s]"
     ]
    },
    {
     "name": "stderr",
     "output_type": "stream",
     "text": [
      "\r",
      "1319it [00:04, 327.84it/s]"
     ]
    },
    {
     "name": "stderr",
     "output_type": "stream",
     "text": [
      "\r",
      "1353it [00:04, 330.18it/s]"
     ]
    },
    {
     "name": "stderr",
     "output_type": "stream",
     "text": [
      "\r",
      "1391it [00:04, 344.74it/s]"
     ]
    },
    {
     "name": "stderr",
     "output_type": "stream",
     "text": [
      "\r",
      "1426it [00:04, 343.70it/s]"
     ]
    },
    {
     "name": "stderr",
     "output_type": "stream",
     "text": [
      "\r",
      "1461it [00:04, 336.05it/s]"
     ]
    },
    {
     "name": "stderr",
     "output_type": "stream",
     "text": [
      "\r",
      "1495it [00:04, 333.84it/s]"
     ]
    },
    {
     "name": "stderr",
     "output_type": "stream",
     "text": [
      "\r",
      "1529it [00:04, 327.18it/s]"
     ]
    },
    {
     "name": "stderr",
     "output_type": "stream",
     "text": [
      "\r",
      "1563it [00:04, 328.52it/s]"
     ]
    },
    {
     "name": "stderr",
     "output_type": "stream",
     "text": [
      "\r",
      "1596it [00:05, 325.98it/s]"
     ]
    },
    {
     "name": "stderr",
     "output_type": "stream",
     "text": [
      "\r",
      "1629it [00:05, 325.63it/s]"
     ]
    },
    {
     "name": "stderr",
     "output_type": "stream",
     "text": [
      "\r",
      "1663it [00:05, 328.49it/s]"
     ]
    },
    {
     "name": "stderr",
     "output_type": "stream",
     "text": [
      "\r",
      "1696it [00:05, 325.08it/s]"
     ]
    },
    {
     "name": "stderr",
     "output_type": "stream",
     "text": [
      "\r",
      "1729it [00:05, 323.11it/s]"
     ]
    },
    {
     "name": "stderr",
     "output_type": "stream",
     "text": [
      "\r",
      "1763it [00:05, 327.42it/s]"
     ]
    },
    {
     "name": "stderr",
     "output_type": "stream",
     "text": [
      "\r",
      "1800it [00:05, 339.25it/s]"
     ]
    },
    {
     "name": "stderr",
     "output_type": "stream",
     "text": [
      "\r",
      "1834it [00:05, 333.77it/s]"
     ]
    },
    {
     "name": "stderr",
     "output_type": "stream",
     "text": [
      "\r",
      "1868it [00:05, 335.41it/s]"
     ]
    },
    {
     "name": "stderr",
     "output_type": "stream",
     "text": [
      "\r",
      "1902it [00:05, 333.44it/s]"
     ]
    },
    {
     "name": "stderr",
     "output_type": "stream",
     "text": [
      "\r",
      "1936it [00:06, 330.09it/s]"
     ]
    },
    {
     "name": "stderr",
     "output_type": "stream",
     "text": [
      "\r",
      "1970it [00:06, 331.56it/s]"
     ]
    },
    {
     "name": "stderr",
     "output_type": "stream",
     "text": [
      "\r",
      "2004it [00:06, 328.16it/s]"
     ]
    },
    {
     "name": "stderr",
     "output_type": "stream",
     "text": [
      "\r",
      "2041it [00:06, 338.43it/s]"
     ]
    },
    {
     "name": "stderr",
     "output_type": "stream",
     "text": [
      "\r",
      "2075it [00:06, 338.85it/s]"
     ]
    },
    {
     "name": "stderr",
     "output_type": "stream",
     "text": [
      "\r",
      "2109it [00:06, 334.56it/s]"
     ]
    },
    {
     "name": "stderr",
     "output_type": "stream",
     "text": [
      "\r",
      "2150it [00:06, 356.39it/s]"
     ]
    },
    {
     "name": "stderr",
     "output_type": "stream",
     "text": [
      "\r",
      "2186it [00:06, 356.98it/s]"
     ]
    },
    {
     "name": "stderr",
     "output_type": "stream",
     "text": [
      "\r",
      "2222it [00:06, 351.69it/s]"
     ]
    },
    {
     "name": "stderr",
     "output_type": "stream",
     "text": [
      "\r",
      "2258it [00:07, 350.24it/s]"
     ]
    },
    {
     "name": "stderr",
     "output_type": "stream",
     "text": [
      "\r",
      "2295it [00:07, 352.27it/s]"
     ]
    },
    {
     "name": "stderr",
     "output_type": "stream",
     "text": [
      "\r",
      "2331it [00:07, 349.05it/s]"
     ]
    },
    {
     "name": "stderr",
     "output_type": "stream",
     "text": [
      "\r",
      "2366it [00:07, 347.00it/s]"
     ]
    },
    {
     "name": "stderr",
     "output_type": "stream",
     "text": [
      "\r",
      "2402it [00:07, 349.88it/s]"
     ]
    },
    {
     "name": "stderr",
     "output_type": "stream",
     "text": [
      "\r",
      "2440it [00:07, 354.27it/s]"
     ]
    },
    {
     "name": "stderr",
     "output_type": "stream",
     "text": [
      "\r",
      "2476it [00:07, 347.96it/s]"
     ]
    },
    {
     "name": "stderr",
     "output_type": "stream",
     "text": [
      "\r",
      "2511it [00:07, 345.80it/s]"
     ]
    },
    {
     "name": "stderr",
     "output_type": "stream",
     "text": [
      "\r",
      "2546it [00:07, 344.94it/s]"
     ]
    },
    {
     "name": "stderr",
     "output_type": "stream",
     "text": [
      "\r",
      "2582it [00:07, 349.01it/s]"
     ]
    },
    {
     "name": "stderr",
     "output_type": "stream",
     "text": [
      "\r",
      "2617it [00:08, 347.81it/s]"
     ]
    },
    {
     "name": "stderr",
     "output_type": "stream",
     "text": [
      "\r",
      "2654it [00:08, 353.29it/s]"
     ]
    },
    {
     "name": "stderr",
     "output_type": "stream",
     "text": [
      "\r",
      "2690it [00:08, 351.17it/s]"
     ]
    },
    {
     "name": "stderr",
     "output_type": "stream",
     "text": [
      "\r",
      "2727it [00:08, 353.05it/s]"
     ]
    },
    {
     "name": "stderr",
     "output_type": "stream",
     "text": [
      "\r",
      "2763it [00:08, 343.42it/s]"
     ]
    },
    {
     "name": "stderr",
     "output_type": "stream",
     "text": [
      "\r",
      "2798it [00:08, 338.20it/s]"
     ]
    },
    {
     "name": "stderr",
     "output_type": "stream",
     "text": [
      "\r",
      "2832it [00:08, 332.95it/s]"
     ]
    },
    {
     "name": "stderr",
     "output_type": "stream",
     "text": [
      "\r",
      "2868it [00:08, 337.42it/s]"
     ]
    },
    {
     "name": "stderr",
     "output_type": "stream",
     "text": [
      "\r",
      "2902it [00:08, 331.79it/s]"
     ]
    },
    {
     "name": "stderr",
     "output_type": "stream",
     "text": [
      "\r",
      "2936it [00:08, 333.16it/s]"
     ]
    },
    {
     "name": "stderr",
     "output_type": "stream",
     "text": [
      "\r",
      "2973it [00:09, 341.64it/s]"
     ]
    },
    {
     "name": "stderr",
     "output_type": "stream",
     "text": [
      "\r",
      "3008it [00:09, 339.13it/s]"
     ]
    },
    {
     "name": "stderr",
     "output_type": "stream",
     "text": [
      "\r",
      "3045it [00:09, 345.69it/s]"
     ]
    },
    {
     "name": "stderr",
     "output_type": "stream",
     "text": [
      "\r",
      "3080it [00:09, 343.00it/s]"
     ]
    },
    {
     "name": "stderr",
     "output_type": "stream",
     "text": [
      "\r",
      "3115it [00:09, 341.94it/s]"
     ]
    },
    {
     "name": "stderr",
     "output_type": "stream",
     "text": [
      "\r",
      "3152it [00:09, 350.05it/s]"
     ]
    },
    {
     "name": "stderr",
     "output_type": "stream",
     "text": [
      "\r",
      "3188it [00:09, 344.06it/s]"
     ]
    },
    {
     "name": "stderr",
     "output_type": "stream",
     "text": [
      "\r",
      "3223it [00:09, 341.25it/s]"
     ]
    },
    {
     "name": "stderr",
     "output_type": "stream",
     "text": [
      "\r",
      "3261it [00:09, 351.90it/s]"
     ]
    },
    {
     "name": "stderr",
     "output_type": "stream",
     "text": [
      "\r",
      "3300it [00:10, 360.47it/s]"
     ]
    },
    {
     "name": "stderr",
     "output_type": "stream",
     "text": [
      "\r",
      "3337it [00:10, 355.65it/s]"
     ]
    },
    {
     "name": "stderr",
     "output_type": "stream",
     "text": [
      "\r",
      "3373it [00:10, 350.21it/s]"
     ]
    },
    {
     "name": "stderr",
     "output_type": "stream",
     "text": [
      "\r",
      "3409it [00:10, 342.11it/s]"
     ]
    },
    {
     "name": "stderr",
     "output_type": "stream",
     "text": [
      "\r",
      "3445it [00:10, 345.45it/s]"
     ]
    },
    {
     "name": "stderr",
     "output_type": "stream",
     "text": [
      "\r",
      "3481it [00:10, 347.01it/s]"
     ]
    },
    {
     "name": "stderr",
     "output_type": "stream",
     "text": [
      "\r",
      "3516it [00:10, 342.34it/s]"
     ]
    },
    {
     "name": "stderr",
     "output_type": "stream",
     "text": [
      "\r",
      "3551it [00:10, 337.70it/s]"
     ]
    },
    {
     "name": "stderr",
     "output_type": "stream",
     "text": [
      "\r",
      "3587it [00:10, 343.45it/s]"
     ]
    },
    {
     "name": "stderr",
     "output_type": "stream",
     "text": [
      "\r",
      "3622it [00:10, 339.05it/s]"
     ]
    },
    {
     "name": "stderr",
     "output_type": "stream",
     "text": [
      "\r",
      "3657it [00:11, 340.31it/s]"
     ]
    },
    {
     "name": "stderr",
     "output_type": "stream",
     "text": [
      "\r",
      "3695it [00:11, 351.56it/s]"
     ]
    },
    {
     "name": "stderr",
     "output_type": "stream",
     "text": [
      "\r",
      "3731it [00:11, 346.63it/s]"
     ]
    },
    {
     "name": "stderr",
     "output_type": "stream",
     "text": [
      "\r",
      "3766it [00:11, 344.58it/s]"
     ]
    },
    {
     "name": "stderr",
     "output_type": "stream",
     "text": [
      "\r",
      "3801it [00:11, 344.30it/s]"
     ]
    },
    {
     "name": "stderr",
     "output_type": "stream",
     "text": [
      "\r",
      "3836it [00:11, 343.75it/s]"
     ]
    },
    {
     "name": "stderr",
     "output_type": "stream",
     "text": [
      "\r",
      "3872it [00:11, 346.77it/s]"
     ]
    },
    {
     "name": "stderr",
     "output_type": "stream",
     "text": [
      "\r",
      "3907it [00:11, 343.78it/s]"
     ]
    },
    {
     "name": "stderr",
     "output_type": "stream",
     "text": [
      "\r",
      "3942it [00:11, 329.22it/s]"
     ]
    },
    {
     "name": "stderr",
     "output_type": "stream",
     "text": [
      "\r",
      "3976it [00:12, 331.33it/s]"
     ]
    },
    {
     "name": "stderr",
     "output_type": "stream",
     "text": [
      "\r",
      "4012it [00:12, 337.86it/s]"
     ]
    },
    {
     "name": "stderr",
     "output_type": "stream",
     "text": [
      "\r",
      "4054it [00:12, 359.34it/s]"
     ]
    },
    {
     "name": "stderr",
     "output_type": "stream",
     "text": [
      "\r",
      "4091it [00:12, 355.68it/s]"
     ]
    },
    {
     "name": "stderr",
     "output_type": "stream",
     "text": [
      "\r",
      "4127it [00:12, 344.90it/s]"
     ]
    },
    {
     "name": "stderr",
     "output_type": "stream",
     "text": [
      "\r",
      "4163it [00:12, 348.27it/s]"
     ]
    },
    {
     "name": "stderr",
     "output_type": "stream",
     "text": [
      "\r",
      "4199it [00:12, 349.57it/s]"
     ]
    },
    {
     "name": "stderr",
     "output_type": "stream",
     "text": [
      "\r",
      "4235it [00:12, 344.03it/s]"
     ]
    },
    {
     "name": "stderr",
     "output_type": "stream",
     "text": [
      "\r",
      "4270it [00:12, 343.10it/s]"
     ]
    },
    {
     "name": "stderr",
     "output_type": "stream",
     "text": [
      "\r",
      "4307it [00:12, 349.10it/s]"
     ]
    },
    {
     "name": "stderr",
     "output_type": "stream",
     "text": [
      "\r",
      "4344it [00:13, 353.25it/s]"
     ]
    },
    {
     "name": "stderr",
     "output_type": "stream",
     "text": [
      "\r",
      "4380it [00:13, 348.98it/s]"
     ]
    },
    {
     "name": "stderr",
     "output_type": "stream",
     "text": [
      "\r",
      "4415it [00:13, 346.62it/s]"
     ]
    },
    {
     "name": "stderr",
     "output_type": "stream",
     "text": [
      "\r",
      "4450it [00:13, 345.96it/s]"
     ]
    },
    {
     "name": "stderr",
     "output_type": "stream",
     "text": [
      "\r",
      "4486it [00:13, 349.89it/s]"
     ]
    },
    {
     "name": "stderr",
     "output_type": "stream",
     "text": [
      "\r",
      "4522it [00:13, 349.82it/s]"
     ]
    },
    {
     "name": "stderr",
     "output_type": "stream",
     "text": [
      "\r",
      "4558it [00:13, 352.12it/s]"
     ]
    },
    {
     "name": "stderr",
     "output_type": "stream",
     "text": [
      "\r",
      "4594it [00:13, 354.26it/s]"
     ]
    },
    {
     "name": "stderr",
     "output_type": "stream",
     "text": [
      "\r",
      "4630it [00:13, 355.66it/s]"
     ]
    },
    {
     "name": "stderr",
     "output_type": "stream",
     "text": [
      "\r",
      "4666it [00:13, 347.80it/s]"
     ]
    },
    {
     "name": "stderr",
     "output_type": "stream",
     "text": [
      "\r",
      "4701it [00:14, 342.28it/s]"
     ]
    },
    {
     "name": "stderr",
     "output_type": "stream",
     "text": [
      "\r",
      "4736it [00:14, 341.35it/s]"
     ]
    },
    {
     "name": "stderr",
     "output_type": "stream",
     "text": [
      "\r",
      "4772it [00:14, 345.17it/s]"
     ]
    },
    {
     "name": "stderr",
     "output_type": "stream",
     "text": [
      "\r",
      "4807it [00:14, 345.94it/s]"
     ]
    },
    {
     "name": "stderr",
     "output_type": "stream",
     "text": [
      "\r",
      "4843it [00:14, 349.72it/s]"
     ]
    },
    {
     "name": "stderr",
     "output_type": "stream",
     "text": [
      "\r",
      "4880it [00:14, 355.65it/s]"
     ]
    },
    {
     "name": "stderr",
     "output_type": "stream",
     "text": [
      "\r",
      "4916it [00:14, 352.51it/s]"
     ]
    },
    {
     "name": "stderr",
     "output_type": "stream",
     "text": [
      "\r",
      "4952it [00:14, 354.51it/s]"
     ]
    },
    {
     "name": "stderr",
     "output_type": "stream",
     "text": [
      "\r",
      "4988it [00:14, 354.95it/s]"
     ]
    },
    {
     "name": "stderr",
     "output_type": "stream",
     "text": [
      "\r",
      "5025it [00:14, 358.29it/s]"
     ]
    },
    {
     "name": "stderr",
     "output_type": "stream",
     "text": [
      "\r",
      "5062it [00:15, 360.51it/s]"
     ]
    },
    {
     "name": "stderr",
     "output_type": "stream",
     "text": [
      "\r",
      "5099it [00:15, 357.04it/s]"
     ]
    },
    {
     "name": "stderr",
     "output_type": "stream",
     "text": [
      "\r",
      "5135it [00:15, 354.55it/s]"
     ]
    },
    {
     "name": "stderr",
     "output_type": "stream",
     "text": [
      "\r",
      "5176it [00:15, 370.83it/s]"
     ]
    },
    {
     "name": "stderr",
     "output_type": "stream",
     "text": [
      "\r",
      "5214it [00:15, 369.90it/s]"
     ]
    },
    {
     "name": "stderr",
     "output_type": "stream",
     "text": [
      "\r",
      "5252it [00:15, 357.79it/s]"
     ]
    },
    {
     "name": "stderr",
     "output_type": "stream",
     "text": [
      "\r",
      "5289it [00:15, 359.61it/s]"
     ]
    },
    {
     "name": "stderr",
     "output_type": "stream",
     "text": [
      "\r",
      "5326it [00:15, 347.87it/s]"
     ]
    },
    {
     "name": "stderr",
     "output_type": "stream",
     "text": [
      "\r",
      "5363it [00:15, 353.69it/s]"
     ]
    },
    {
     "name": "stderr",
     "output_type": "stream",
     "text": [
      "\r",
      "5399it [00:16, 350.94it/s]"
     ]
    },
    {
     "name": "stderr",
     "output_type": "stream",
     "text": [
      "\r",
      "5435it [00:16, 351.16it/s]"
     ]
    },
    {
     "name": "stderr",
     "output_type": "stream",
     "text": [
      "\r",
      "5472it [00:16, 353.90it/s]"
     ]
    },
    {
     "name": "stderr",
     "output_type": "stream",
     "text": [
      "\r",
      "5508it [00:16, 350.15it/s]"
     ]
    },
    {
     "name": "stderr",
     "output_type": "stream",
     "text": [
      "\r",
      "5544it [00:16, 350.70it/s]"
     ]
    },
    {
     "name": "stderr",
     "output_type": "stream",
     "text": [
      "\r",
      "5582it [00:16, 357.39it/s]"
     ]
    },
    {
     "name": "stderr",
     "output_type": "stream",
     "text": [
      "\r",
      "5618it [00:16, 356.75it/s]"
     ]
    },
    {
     "name": "stderr",
     "output_type": "stream",
     "text": [
      "\r",
      "5655it [00:16, 358.55it/s]"
     ]
    },
    {
     "name": "stderr",
     "output_type": "stream",
     "text": [
      "\r",
      "5691it [00:16, 354.97it/s]"
     ]
    },
    {
     "name": "stderr",
     "output_type": "stream",
     "text": [
      "\r",
      "5727it [00:16, 350.66it/s]"
     ]
    },
    {
     "name": "stderr",
     "output_type": "stream",
     "text": [
      "\r",
      "5763it [00:17, 350.68it/s]"
     ]
    },
    {
     "name": "stderr",
     "output_type": "stream",
     "text": [
      "\r",
      "5799it [00:17, 350.60it/s]"
     ]
    },
    {
     "name": "stderr",
     "output_type": "stream",
     "text": [
      "\r",
      "5835it [00:17, 341.22it/s]"
     ]
    },
    {
     "name": "stderr",
     "output_type": "stream",
     "text": [
      "\r",
      "5871it [00:17, 345.01it/s]"
     ]
    },
    {
     "name": "stderr",
     "output_type": "stream",
     "text": [
      "\r",
      "5910it [00:17, 356.65it/s]"
     ]
    },
    {
     "name": "stderr",
     "output_type": "stream",
     "text": [
      "\r",
      "5946it [00:17, 354.48it/s]"
     ]
    },
    {
     "name": "stderr",
     "output_type": "stream",
     "text": [
      "\r",
      "5982it [00:17, 354.65it/s]"
     ]
    },
    {
     "name": "stderr",
     "output_type": "stream",
     "text": [
      "\r",
      "6019it [00:17, 356.61it/s]"
     ]
    },
    {
     "name": "stderr",
     "output_type": "stream",
     "text": [
      "\r",
      "6055it [00:17, 356.16it/s]"
     ]
    },
    {
     "name": "stderr",
     "output_type": "stream",
     "text": [
      "\r",
      "6091it [00:17, 356.82it/s]"
     ]
    },
    {
     "name": "stderr",
     "output_type": "stream",
     "text": [
      "\r",
      "6127it [00:18, 354.14it/s]"
     ]
    },
    {
     "name": "stderr",
     "output_type": "stream",
     "text": [
      "\r",
      "6165it [00:18, 359.31it/s]"
     ]
    },
    {
     "name": "stderr",
     "output_type": "stream",
     "text": [
      "\r",
      "6202it [00:18, 359.97it/s]"
     ]
    },
    {
     "name": "stderr",
     "output_type": "stream",
     "text": [
      "\r",
      "6239it [00:18, 358.49it/s]"
     ]
    },
    {
     "name": "stderr",
     "output_type": "stream",
     "text": [
      "\r",
      "6275it [00:18, 356.70it/s]"
     ]
    },
    {
     "name": "stderr",
     "output_type": "stream",
     "text": [
      "\r",
      "6312it [00:18, 359.08it/s]"
     ]
    },
    {
     "name": "stderr",
     "output_type": "stream",
     "text": [
      "\r",
      "6349it [00:18, 359.83it/s]"
     ]
    },
    {
     "name": "stderr",
     "output_type": "stream",
     "text": [
      "\r",
      "6385it [00:18, 357.12it/s]"
     ]
    },
    {
     "name": "stderr",
     "output_type": "stream",
     "text": [
      "\r",
      "6422it [00:18, 359.63it/s]"
     ]
    },
    {
     "name": "stderr",
     "output_type": "stream",
     "text": [
      "\r",
      "6461it [00:19, 368.13it/s]"
     ]
    },
    {
     "name": "stderr",
     "output_type": "stream",
     "text": [
      "\r",
      "6499it [00:19, 371.02it/s]"
     ]
    },
    {
     "name": "stderr",
     "output_type": "stream",
     "text": [
      "\r",
      "6537it [00:19, 362.93it/s]"
     ]
    },
    {
     "name": "stderr",
     "output_type": "stream",
     "text": [
      "\r",
      "6574it [00:19, 359.21it/s]"
     ]
    },
    {
     "name": "stderr",
     "output_type": "stream",
     "text": [
      "\r",
      "6610it [00:19, 346.81it/s]"
     ]
    },
    {
     "name": "stderr",
     "output_type": "stream",
     "text": [
      "\r",
      "6647it [00:19, 353.13it/s]"
     ]
    },
    {
     "name": "stderr",
     "output_type": "stream",
     "text": [
      "\r",
      "6683it [00:19, 353.39it/s]"
     ]
    },
    {
     "name": "stderr",
     "output_type": "stream",
     "text": [
      "\r",
      "6720it [00:19, 353.63it/s]"
     ]
    },
    {
     "name": "stderr",
     "output_type": "stream",
     "text": [
      "\r",
      "6758it [00:19, 359.68it/s]"
     ]
    },
    {
     "name": "stderr",
     "output_type": "stream",
     "text": [
      "\r",
      "6795it [00:19, 359.21it/s]"
     ]
    },
    {
     "name": "stderr",
     "output_type": "stream",
     "text": [
      "\r",
      "6832it [00:20, 361.83it/s]"
     ]
    },
    {
     "name": "stderr",
     "output_type": "stream",
     "text": [
      "\r",
      "6869it [00:20, 360.29it/s]"
     ]
    },
    {
     "name": "stderr",
     "output_type": "stream",
     "text": [
      "\r",
      "6909it [00:20, 370.42it/s]"
     ]
    },
    {
     "name": "stderr",
     "output_type": "stream",
     "text": [
      "\r",
      "6947it [00:20, 369.69it/s]"
     ]
    },
    {
     "name": "stderr",
     "output_type": "stream",
     "text": [
      "\r",
      "6984it [00:20, 368.17it/s]"
     ]
    },
    {
     "name": "stderr",
     "output_type": "stream",
     "text": [
      "\r",
      "7021it [00:20, 363.31it/s]"
     ]
    },
    {
     "name": "stderr",
     "output_type": "stream",
     "text": [
      "\r",
      "7066it [00:20, 387.68it/s]"
     ]
    },
    {
     "name": "stderr",
     "output_type": "stream",
     "text": [
      "\r",
      "7105it [00:20, 385.61it/s]"
     ]
    },
    {
     "name": "stderr",
     "output_type": "stream",
     "text": [
      "\r",
      "7144it [00:20, 371.48it/s]"
     ]
    },
    {
     "name": "stderr",
     "output_type": "stream",
     "text": [
      "\r",
      "7182it [00:20, 366.72it/s]"
     ]
    },
    {
     "name": "stderr",
     "output_type": "stream",
     "text": [
      "\r",
      "7219it [00:21, 364.35it/s]"
     ]
    },
    {
     "name": "stderr",
     "output_type": "stream",
     "text": [
      "\r",
      "7256it [00:21, 365.21it/s]"
     ]
    },
    {
     "name": "stderr",
     "output_type": "stream",
     "text": [
      "\r",
      "7293it [00:21, 365.37it/s]"
     ]
    },
    {
     "name": "stderr",
     "output_type": "stream",
     "text": [
      "\r",
      "7330it [00:21, 363.61it/s]"
     ]
    },
    {
     "name": "stderr",
     "output_type": "stream",
     "text": [
      "\r",
      "7368it [00:21, 368.13it/s]"
     ]
    },
    {
     "name": "stderr",
     "output_type": "stream",
     "text": [
      "\r",
      "7405it [00:21, 362.44it/s]"
     ]
    },
    {
     "name": "stderr",
     "output_type": "stream",
     "text": [
      "\r",
      "7442it [00:21, 363.90it/s]"
     ]
    },
    {
     "name": "stderr",
     "output_type": "stream",
     "text": [
      "\r",
      "7482it [00:21, 372.80it/s]"
     ]
    },
    {
     "name": "stderr",
     "output_type": "stream",
     "text": [
      "\r",
      "7520it [00:21, 365.22it/s]"
     ]
    },
    {
     "name": "stderr",
     "output_type": "stream",
     "text": [
      "\r",
      "7557it [00:22, 366.11it/s]"
     ]
    },
    {
     "name": "stderr",
     "output_type": "stream",
     "text": [
      "\r",
      "7594it [00:22, 366.79it/s]"
     ]
    },
    {
     "name": "stderr",
     "output_type": "stream",
     "text": [
      "\r",
      "7631it [00:22, 365.02it/s]"
     ]
    },
    {
     "name": "stderr",
     "output_type": "stream",
     "text": [
      "\r",
      "7668it [00:22, 362.00it/s]"
     ]
    },
    {
     "name": "stderr",
     "output_type": "stream",
     "text": [
      "\r",
      "7705it [00:22, 363.63it/s]"
     ]
    },
    {
     "name": "stderr",
     "output_type": "stream",
     "text": [
      "\r",
      "7742it [00:22, 353.57it/s]"
     ]
    },
    {
     "name": "stderr",
     "output_type": "stream",
     "text": [
      "\r",
      "7782it [00:22, 366.06it/s]"
     ]
    },
    {
     "name": "stderr",
     "output_type": "stream",
     "text": [
      "\r",
      "7821it [00:22, 371.70it/s]"
     ]
    },
    {
     "name": "stderr",
     "output_type": "stream",
     "text": [
      "\r",
      "7859it [00:22, 371.80it/s]"
     ]
    },
    {
     "name": "stderr",
     "output_type": "stream",
     "text": [
      "\r",
      "7899it [00:22, 376.09it/s]"
     ]
    },
    {
     "name": "stderr",
     "output_type": "stream",
     "text": [
      "\r",
      "7937it [00:23, 361.11it/s]"
     ]
    },
    {
     "name": "stderr",
     "output_type": "stream",
     "text": [
      "\r",
      "7975it [00:23, 364.34it/s]"
     ]
    },
    {
     "name": "stderr",
     "output_type": "stream",
     "text": [
      "\r",
      "8013it [00:23, 367.50it/s]"
     ]
    },
    {
     "name": "stderr",
     "output_type": "stream",
     "text": [
      "\r",
      "8050it [00:23, 363.95it/s]"
     ]
    },
    {
     "name": "stderr",
     "output_type": "stream",
     "text": [
      "\r",
      "8088it [00:23, 368.06it/s]"
     ]
    },
    {
     "name": "stderr",
     "output_type": "stream",
     "text": [
      "\r",
      "8126it [00:23, 371.48it/s]"
     ]
    },
    {
     "name": "stderr",
     "output_type": "stream",
     "text": [
      "\r",
      "8164it [00:23, 371.76it/s]"
     ]
    },
    {
     "name": "stderr",
     "output_type": "stream",
     "text": [
      "\r",
      "8202it [00:23, 369.65it/s]"
     ]
    },
    {
     "name": "stderr",
     "output_type": "stream",
     "text": [
      "\r",
      "8239it [00:23, 362.81it/s]"
     ]
    },
    {
     "name": "stderr",
     "output_type": "stream",
     "text": [
      "\r",
      "8279it [00:23, 372.59it/s]"
     ]
    },
    {
     "name": "stderr",
     "output_type": "stream",
     "text": [
      "\r",
      "8317it [00:24, 369.76it/s]"
     ]
    },
    {
     "name": "stderr",
     "output_type": "stream",
     "text": [
      "\r",
      "8355it [00:24, 372.39it/s]"
     ]
    },
    {
     "name": "stderr",
     "output_type": "stream",
     "text": [
      "\r",
      "8393it [00:24, 372.43it/s]"
     ]
    },
    {
     "name": "stderr",
     "output_type": "stream",
     "text": [
      "\r",
      "8432it [00:24, 374.86it/s]"
     ]
    },
    {
     "name": "stderr",
     "output_type": "stream",
     "text": [
      "\r",
      "8470it [00:24, 365.21it/s]"
     ]
    },
    {
     "name": "stderr",
     "output_type": "stream",
     "text": [
      "\r",
      "8507it [00:24, 357.18it/s]"
     ]
    },
    {
     "name": "stderr",
     "output_type": "stream",
     "text": [
      "\r",
      "8543it [00:24, 356.71it/s]"
     ]
    },
    {
     "name": "stderr",
     "output_type": "stream",
     "text": [
      "\r",
      "8579it [00:24, 354.49it/s]"
     ]
    },
    {
     "name": "stderr",
     "output_type": "stream",
     "text": [
      "\r",
      "8615it [00:24, 353.25it/s]"
     ]
    },
    {
     "name": "stderr",
     "output_type": "stream",
     "text": [
      "\r",
      "8652it [00:25, 357.41it/s]"
     ]
    },
    {
     "name": "stderr",
     "output_type": "stream",
     "text": [
      "\r",
      "8692it [00:25, 367.71it/s]"
     ]
    },
    {
     "name": "stderr",
     "output_type": "stream",
     "text": [
      "\r",
      "8729it [00:25, 363.02it/s]"
     ]
    },
    {
     "name": "stderr",
     "output_type": "stream",
     "text": [
      "\r",
      "8766it [00:25, 362.80it/s]"
     ]
    },
    {
     "name": "stderr",
     "output_type": "stream",
     "text": [
      "\r",
      "8804it [00:25, 365.93it/s]"
     ]
    },
    {
     "name": "stderr",
     "output_type": "stream",
     "text": [
      "\r",
      "8844it [00:25, 375.89it/s]"
     ]
    },
    {
     "name": "stderr",
     "output_type": "stream",
     "text": [
      "\r",
      "8882it [00:25, 367.86it/s]"
     ]
    },
    {
     "name": "stderr",
     "output_type": "stream",
     "text": [
      "\r",
      "8919it [00:25, 365.16it/s]"
     ]
    },
    {
     "name": "stderr",
     "output_type": "stream",
     "text": [
      "\r",
      "8956it [00:25, 366.51it/s]"
     ]
    },
    {
     "name": "stderr",
     "output_type": "stream",
     "text": [
      "\r",
      "8999it [00:25, 384.43it/s]"
     ]
    },
    {
     "name": "stderr",
     "output_type": "stream",
     "text": [
      "\r",
      "9038it [00:26, 376.48it/s]"
     ]
    },
    {
     "name": "stderr",
     "output_type": "stream",
     "text": [
      "\r",
      "9076it [00:26, 367.90it/s]"
     ]
    },
    {
     "name": "stderr",
     "output_type": "stream",
     "text": [
      "\r",
      "9113it [00:26, 362.61it/s]"
     ]
    },
    {
     "name": "stderr",
     "output_type": "stream",
     "text": [
      "\r",
      "9151it [00:26, 366.38it/s]"
     ]
    },
    {
     "name": "stderr",
     "output_type": "stream",
     "text": [
      "\r",
      "9189it [00:26, 368.48it/s]"
     ]
    },
    {
     "name": "stderr",
     "output_type": "stream",
     "text": [
      "\r",
      "9226it [00:26, 367.12it/s]"
     ]
    },
    {
     "name": "stderr",
     "output_type": "stream",
     "text": [
      "\r",
      "9263it [00:26, 363.13it/s]"
     ]
    },
    {
     "name": "stderr",
     "output_type": "stream",
     "text": [
      "\r",
      "9301it [00:26, 364.80it/s]"
     ]
    },
    {
     "name": "stderr",
     "output_type": "stream",
     "text": [
      "\r",
      "9338it [00:26, 358.41it/s]"
     ]
    },
    {
     "name": "stderr",
     "output_type": "stream",
     "text": [
      "\r",
      "9374it [00:26, 358.44it/s]"
     ]
    },
    {
     "name": "stderr",
     "output_type": "stream",
     "text": [
      "\r",
      "9415it [00:27, 371.93it/s]"
     ]
    },
    {
     "name": "stderr",
     "output_type": "stream",
     "text": [
      "\r",
      "9453it [00:27, 371.32it/s]"
     ]
    },
    {
     "name": "stderr",
     "output_type": "stream",
     "text": [
      "\r",
      "9491it [00:27, 369.62it/s]"
     ]
    },
    {
     "name": "stderr",
     "output_type": "stream",
     "text": [
      "\r",
      "9528it [00:27, 363.83it/s]"
     ]
    },
    {
     "name": "stderr",
     "output_type": "stream",
     "text": [
      "\r",
      "9566it [00:27, 368.52it/s]"
     ]
    },
    {
     "name": "stderr",
     "output_type": "stream",
     "text": [
      "\r",
      "9603it [00:27, 365.65it/s]"
     ]
    },
    {
     "name": "stderr",
     "output_type": "stream",
     "text": [
      "\r",
      "9640it [00:27, 355.74it/s]"
     ]
    },
    {
     "name": "stderr",
     "output_type": "stream",
     "text": [
      "\r",
      "9677it [00:27, 358.01it/s]"
     ]
    },
    {
     "name": "stderr",
     "output_type": "stream",
     "text": [
      "\r",
      "9717it [00:27, 369.94it/s]"
     ]
    },
    {
     "name": "stderr",
     "output_type": "stream",
     "text": [
      "\r",
      "9755it [00:28, 370.43it/s]"
     ]
    },
    {
     "name": "stderr",
     "output_type": "stream",
     "text": [
      "\r",
      "9793it [00:28, 369.05it/s]"
     ]
    },
    {
     "name": "stderr",
     "output_type": "stream",
     "text": [
      "\r",
      "9830it [00:28, 367.62it/s]"
     ]
    },
    {
     "name": "stderr",
     "output_type": "stream",
     "text": [
      "\r",
      "9867it [00:28, 362.25it/s]"
     ]
    },
    {
     "name": "stderr",
     "output_type": "stream",
     "text": [
      "\r",
      "9904it [00:28, 362.08it/s]"
     ]
    },
    {
     "name": "stderr",
     "output_type": "stream",
     "text": [
      "\r",
      "9942it [00:28, 365.95it/s]"
     ]
    },
    {
     "name": "stderr",
     "output_type": "stream",
     "text": [
      "\r",
      "9979it [00:28, 366.13it/s]"
     ]
    },
    {
     "name": "stderr",
     "output_type": "stream",
     "text": [
      "\r",
      "10020it [00:28, 378.63it/s]"
     ]
    },
    {
     "name": "stderr",
     "output_type": "stream",
     "text": [
      "\r",
      "10060it [00:28, 381.27it/s]"
     ]
    },
    {
     "name": "stderr",
     "output_type": "stream",
     "text": [
      "\r",
      "10099it [00:28, 367.24it/s]"
     ]
    },
    {
     "name": "stderr",
     "output_type": "stream",
     "text": [
      "\r",
      "10136it [00:29, 366.40it/s]"
     ]
    },
    {
     "name": "stderr",
     "output_type": "stream",
     "text": [
      "\r",
      "10174it [00:29, 369.65it/s]"
     ]
    },
    {
     "name": "stderr",
     "output_type": "stream",
     "text": [
      "\r",
      "10213it [00:29, 374.38it/s]"
     ]
    },
    {
     "name": "stderr",
     "output_type": "stream",
     "text": [
      "\r",
      "10251it [00:29, 372.20it/s]"
     ]
    },
    {
     "name": "stderr",
     "output_type": "stream",
     "text": [
      "\r",
      "10290it [00:29, 376.63it/s]"
     ]
    },
    {
     "name": "stderr",
     "output_type": "stream",
     "text": [
      "\r",
      "10328it [00:29, 372.91it/s]"
     ]
    },
    {
     "name": "stderr",
     "output_type": "stream",
     "text": [
      "\r",
      "10366it [00:29, 366.30it/s]"
     ]
    },
    {
     "name": "stderr",
     "output_type": "stream",
     "text": [
      "\r",
      "10403it [00:29, 364.28it/s]"
     ]
    },
    {
     "name": "stderr",
     "output_type": "stream",
     "text": [
      "\r",
      "10440it [00:29, 340.13it/s]"
     ]
    },
    {
     "name": "stderr",
     "output_type": "stream",
     "text": [
      "\r",
      "10475it [00:30, 340.97it/s]"
     ]
    },
    {
     "name": "stderr",
     "output_type": "stream",
     "text": [
      "\r",
      "10510it [00:30, 343.45it/s]"
     ]
    },
    {
     "name": "stderr",
     "output_type": "stream",
     "text": [
      "\r",
      "10547it [00:30, 349.09it/s]"
     ]
    },
    {
     "name": "stderr",
     "output_type": "stream",
     "text": [
      "\r",
      "10585it [00:30, 356.35it/s]"
     ]
    },
    {
     "name": "stderr",
     "output_type": "stream",
     "text": [
      "\r",
      "10621it [00:30, 357.00it/s]"
     ]
    },
    {
     "name": "stderr",
     "output_type": "stream",
     "text": [
      "\r",
      "10659it [00:30, 362.34it/s]"
     ]
    },
    {
     "name": "stderr",
     "output_type": "stream",
     "text": [
      "\r",
      "10696it [00:30, 360.56it/s]"
     ]
    },
    {
     "name": "stderr",
     "output_type": "stream",
     "text": [
      "\r",
      "10734it [00:30, 364.89it/s]"
     ]
    },
    {
     "name": "stderr",
     "output_type": "stream",
     "text": [
      "\r",
      "10773it [00:30, 371.44it/s]"
     ]
    },
    {
     "name": "stderr",
     "output_type": "stream",
     "text": [
      "\r",
      "10811it [00:30, 357.29it/s]"
     ]
    },
    {
     "name": "stderr",
     "output_type": "stream",
     "text": [
      "\r",
      "10848it [00:31, 359.66it/s]"
     ]
    },
    {
     "name": "stderr",
     "output_type": "stream",
     "text": [
      "\r",
      "10888it [00:31, 371.19it/s]"
     ]
    },
    {
     "name": "stderr",
     "output_type": "stream",
     "text": [
      "\r",
      "10929it [00:31, 379.81it/s]"
     ]
    },
    {
     "name": "stderr",
     "output_type": "stream",
     "text": [
      "\r",
      "10968it [00:31, 367.15it/s]"
     ]
    },
    {
     "name": "stderr",
     "output_type": "stream",
     "text": [
      "\r",
      "11005it [00:31, 364.93it/s]"
     ]
    },
    {
     "name": "stderr",
     "output_type": "stream",
     "text": [
      "\r",
      "11042it [00:31, 360.92it/s]"
     ]
    },
    {
     "name": "stderr",
     "output_type": "stream",
     "text": [
      "\r",
      "11079it [00:31, 362.90it/s]"
     ]
    },
    {
     "name": "stderr",
     "output_type": "stream",
     "text": [
      "\r",
      "11116it [00:31, 364.14it/s]"
     ]
    },
    {
     "name": "stderr",
     "output_type": "stream",
     "text": [
      "\r",
      "11153it [00:31, 364.50it/s]"
     ]
    },
    {
     "name": "stderr",
     "output_type": "stream",
     "text": [
      "\r",
      "11190it [00:31, 364.87it/s]"
     ]
    },
    {
     "name": "stderr",
     "output_type": "stream",
     "text": [
      "\r",
      "11227it [00:32, 363.05it/s]"
     ]
    },
    {
     "name": "stderr",
     "output_type": "stream",
     "text": [
      "\r",
      "11264it [00:32, 364.96it/s]"
     ]
    },
    {
     "name": "stderr",
     "output_type": "stream",
     "text": [
      "\r",
      "11304it [00:32, 373.31it/s]"
     ]
    },
    {
     "name": "stderr",
     "output_type": "stream",
     "text": [
      "\r",
      "11342it [00:32, 374.80it/s]"
     ]
    },
    {
     "name": "stderr",
     "output_type": "stream",
     "text": [
      "\r",
      "11380it [00:32, 370.54it/s]"
     ]
    },
    {
     "name": "stderr",
     "output_type": "stream",
     "text": [
      "\r",
      "11418it [00:32, 369.17it/s]"
     ]
    },
    {
     "name": "stderr",
     "output_type": "stream",
     "text": [
      "\r",
      "11455it [00:32, 366.57it/s]"
     ]
    },
    {
     "name": "stderr",
     "output_type": "stream",
     "text": [
      "\r",
      "11493it [00:32, 367.62it/s]"
     ]
    },
    {
     "name": "stderr",
     "output_type": "stream",
     "text": [
      "\r",
      "11530it [00:32, 362.78it/s]"
     ]
    },
    {
     "name": "stderr",
     "output_type": "stream",
     "text": [
      "\r",
      "11567it [00:33, 350.41it/s]"
     ]
    },
    {
     "name": "stderr",
     "output_type": "stream",
     "text": [
      "\r",
      "11607it [00:33, 362.59it/s]"
     ]
    },
    {
     "name": "stderr",
     "output_type": "stream",
     "text": [
      "\r",
      "11646it [00:33, 368.43it/s]"
     ]
    },
    {
     "name": "stderr",
     "output_type": "stream",
     "text": [
      "\r",
      "11685it [00:33, 372.90it/s]"
     ]
    },
    {
     "name": "stderr",
     "output_type": "stream",
     "text": [
      "\r",
      "11723it [00:33, 371.39it/s]"
     ]
    },
    {
     "name": "stderr",
     "output_type": "stream",
     "text": [
      "\r",
      "11761it [00:33, 365.12it/s]"
     ]
    },
    {
     "name": "stderr",
     "output_type": "stream",
     "text": [
      "\r",
      "11800it [00:33, 369.94it/s]"
     ]
    },
    {
     "name": "stderr",
     "output_type": "stream",
     "text": [
      "\r",
      "11839it [00:33, 371.57it/s]"
     ]
    },
    {
     "name": "stderr",
     "output_type": "stream",
     "text": [
      "\r",
      "11877it [00:33, 370.55it/s]"
     ]
    },
    {
     "name": "stderr",
     "output_type": "stream",
     "text": [
      "\r",
      "11919it [00:33, 384.22it/s]"
     ]
    },
    {
     "name": "stderr",
     "output_type": "stream",
     "text": [
      "\r",
      "11958it [00:34, 377.63it/s]"
     ]
    },
    {
     "name": "stderr",
     "output_type": "stream",
     "text": [
      "\r",
      "11997it [00:34, 378.99it/s]"
     ]
    },
    {
     "name": "stderr",
     "output_type": "stream",
     "text": [
      "\r",
      "12035it [00:34, 377.61it/s]"
     ]
    },
    {
     "name": "stderr",
     "output_type": "stream",
     "text": [
      "\r",
      "12073it [00:34, 370.70it/s]"
     ]
    },
    {
     "name": "stderr",
     "output_type": "stream",
     "text": [
      "\r",
      "12111it [00:34, 370.36it/s]"
     ]
    },
    {
     "name": "stderr",
     "output_type": "stream",
     "text": [
      "\r",
      "12150it [00:34, 373.47it/s]"
     ]
    },
    {
     "name": "stderr",
     "output_type": "stream",
     "text": [
      "\r",
      "12188it [00:34, 374.74it/s]"
     ]
    },
    {
     "name": "stderr",
     "output_type": "stream",
     "text": [
      "\r",
      "12226it [00:34, 367.19it/s]"
     ]
    },
    {
     "name": "stderr",
     "output_type": "stream",
     "text": [
      "\r",
      "12263it [00:34, 360.87it/s]"
     ]
    },
    {
     "name": "stderr",
     "output_type": "stream",
     "text": [
      "\r",
      "12300it [00:34, 346.97it/s]"
     ]
    },
    {
     "name": "stderr",
     "output_type": "stream",
     "text": [
      "\r",
      "12338it [00:35, 356.00it/s]"
     ]
    },
    {
     "name": "stderr",
     "output_type": "stream",
     "text": [
      "\r",
      "12374it [00:35, 355.30it/s]"
     ]
    },
    {
     "name": "stderr",
     "output_type": "stream",
     "text": [
      "\r",
      "12411it [00:35, 357.56it/s]"
     ]
    },
    {
     "name": "stderr",
     "output_type": "stream",
     "text": [
      "\r",
      "12450it [00:35, 365.44it/s]"
     ]
    },
    {
     "name": "stderr",
     "output_type": "stream",
     "text": [
      "\r",
      "12487it [00:35, 364.66it/s]"
     ]
    },
    {
     "name": "stderr",
     "output_type": "stream",
     "text": [
      "\r",
      "12524it [00:35, 360.47it/s]"
     ]
    },
    {
     "name": "stderr",
     "output_type": "stream",
     "text": [
      "\r",
      "12561it [00:35, 356.13it/s]"
     ]
    },
    {
     "name": "stderr",
     "output_type": "stream",
     "text": [
      "\r",
      "12599it [00:35, 362.05it/s]"
     ]
    },
    {
     "name": "stderr",
     "output_type": "stream",
     "text": [
      "\r",
      "12636it [00:35, 361.98it/s]"
     ]
    },
    {
     "name": "stderr",
     "output_type": "stream",
     "text": [
      "\r",
      "12673it [00:36, 360.49it/s]"
     ]
    },
    {
     "name": "stderr",
     "output_type": "stream",
     "text": [
      "\r",
      "12710it [00:36, 358.52it/s]"
     ]
    },
    {
     "name": "stderr",
     "output_type": "stream",
     "text": [
      "\r",
      "12754it [00:36, 380.14it/s]"
     ]
    },
    {
     "name": "stderr",
     "output_type": "stream",
     "text": [
      "\r",
      "12793it [00:36, 380.75it/s]"
     ]
    },
    {
     "name": "stderr",
     "output_type": "stream",
     "text": [
      "\r",
      "12832it [00:36, 370.63it/s]"
     ]
    },
    {
     "name": "stderr",
     "output_type": "stream",
     "text": [
      "\r",
      "12870it [00:36, 364.91it/s]"
     ]
    },
    {
     "name": "stderr",
     "output_type": "stream",
     "text": [
      "\r",
      "12907it [00:36, 363.21it/s]"
     ]
    },
    {
     "name": "stderr",
     "output_type": "stream",
     "text": [
      "\r",
      "12944it [00:36, 363.49it/s]"
     ]
    },
    {
     "name": "stderr",
     "output_type": "stream",
     "text": [
      "\r",
      "12982it [00:36, 365.95it/s]"
     ]
    },
    {
     "name": "stderr",
     "output_type": "stream",
     "text": [
      "\r",
      "13019it [00:36, 361.62it/s]"
     ]
    },
    {
     "name": "stderr",
     "output_type": "stream",
     "text": [
      "\r",
      "13057it [00:37, 365.52it/s]"
     ]
    },
    {
     "name": "stderr",
     "output_type": "stream",
     "text": [
      "\r",
      "13094it [00:37, 362.91it/s]"
     ]
    },
    {
     "name": "stderr",
     "output_type": "stream",
     "text": [
      "\r",
      "13131it [00:37, 361.99it/s]"
     ]
    },
    {
     "name": "stderr",
     "output_type": "stream",
     "text": [
      "\r",
      "13172it [00:37, 375.64it/s]"
     ]
    },
    {
     "name": "stderr",
     "output_type": "stream",
     "text": [
      "\r",
      "13210it [00:37, 371.09it/s]"
     ]
    },
    {
     "name": "stderr",
     "output_type": "stream",
     "text": [
      "\r",
      "13248it [00:37, 372.96it/s]"
     ]
    },
    {
     "name": "stderr",
     "output_type": "stream",
     "text": [
      "\r",
      "13286it [00:37, 371.53it/s]"
     ]
    },
    {
     "name": "stderr",
     "output_type": "stream",
     "text": [
      "\r",
      "13324it [00:37, 367.83it/s]"
     ]
    },
    {
     "name": "stderr",
     "output_type": "stream",
     "text": [
      "\r",
      "13361it [00:37, 361.61it/s]"
     ]
    },
    {
     "name": "stderr",
     "output_type": "stream",
     "text": [
      "\r",
      "13398it [00:37, 360.14it/s]"
     ]
    },
    {
     "name": "stderr",
     "output_type": "stream",
     "text": [
      "\r",
      "13435it [00:38, 355.71it/s]"
     ]
    },
    {
     "name": "stderr",
     "output_type": "stream",
     "text": [
      "\r",
      "13475it [00:38, 367.05it/s]"
     ]
    },
    {
     "name": "stderr",
     "output_type": "stream",
     "text": [
      "\r",
      "13513it [00:38, 366.99it/s]"
     ]
    },
    {
     "name": "stderr",
     "output_type": "stream",
     "text": [
      "\r",
      "13551it [00:38, 369.29it/s]"
     ]
    },
    {
     "name": "stderr",
     "output_type": "stream",
     "text": [
      "\r",
      "13590it [00:38, 371.96it/s]"
     ]
    },
    {
     "name": "stderr",
     "output_type": "stream",
     "text": [
      "\r",
      "13628it [00:38, 363.93it/s]"
     ]
    },
    {
     "name": "stderr",
     "output_type": "stream",
     "text": [
      "\r",
      "13667it [00:38, 371.35it/s]"
     ]
    },
    {
     "name": "stderr",
     "output_type": "stream",
     "text": [
      "\r",
      "13706it [00:38, 375.76it/s]"
     ]
    },
    {
     "name": "stderr",
     "output_type": "stream",
     "text": [
      "\r",
      "13744it [00:38, 370.69it/s]"
     ]
    },
    {
     "name": "stderr",
     "output_type": "stream",
     "text": [
      "\r",
      "13786it [00:39, 384.25it/s]"
     ]
    },
    {
     "name": "stderr",
     "output_type": "stream",
     "text": [
      "\r",
      "13825it [00:39, 384.18it/s]"
     ]
    },
    {
     "name": "stderr",
     "output_type": "stream",
     "text": [
      "\r",
      "13864it [00:39, 383.98it/s]"
     ]
    },
    {
     "name": "stderr",
     "output_type": "stream",
     "text": [
      "\r",
      "13903it [00:39, 375.05it/s]"
     ]
    },
    {
     "name": "stderr",
     "output_type": "stream",
     "text": [
      "\r",
      "13941it [00:39, 370.10it/s]"
     ]
    },
    {
     "name": "stderr",
     "output_type": "stream",
     "text": [
      "\r",
      "13979it [00:39, 367.39it/s]"
     ]
    },
    {
     "name": "stderr",
     "output_type": "stream",
     "text": [
      "\r",
      "14016it [00:39, 365.25it/s]"
     ]
    },
    {
     "name": "stderr",
     "output_type": "stream",
     "text": [
      "\r",
      "14053it [00:39, 362.35it/s]"
     ]
    },
    {
     "name": "stderr",
     "output_type": "stream",
     "text": [
      "\r",
      "14090it [00:39, 356.49it/s]"
     ]
    },
    {
     "name": "stderr",
     "output_type": "stream",
     "text": [
      "\r",
      "14126it [00:39, 352.90it/s]"
     ]
    },
    {
     "name": "stderr",
     "output_type": "stream",
     "text": [
      "\r",
      "14162it [00:40, 341.64it/s]"
     ]
    },
    {
     "name": "stderr",
     "output_type": "stream",
     "text": [
      "\r",
      "14199it [00:40, 346.79it/s]"
     ]
    },
    {
     "name": "stderr",
     "output_type": "stream",
     "text": [
      "\r",
      "14236it [00:40, 351.79it/s]"
     ]
    },
    {
     "name": "stderr",
     "output_type": "stream",
     "text": [
      "\r",
      "14272it [00:40, 352.04it/s]"
     ]
    },
    {
     "name": "stderr",
     "output_type": "stream",
     "text": [
      "\r",
      "14309it [00:40, 355.88it/s]"
     ]
    },
    {
     "name": "stderr",
     "output_type": "stream",
     "text": [
      "\r",
      "14345it [00:40, 355.30it/s]"
     ]
    },
    {
     "name": "stderr",
     "output_type": "stream",
     "text": [
      "\r",
      "14383it [00:40, 362.08it/s]"
     ]
    },
    {
     "name": "stderr",
     "output_type": "stream",
     "text": [
      "\r",
      "14420it [00:40, 359.42it/s]"
     ]
    },
    {
     "name": "stderr",
     "output_type": "stream",
     "text": [
      "\r",
      "14458it [00:40, 364.33it/s]"
     ]
    },
    {
     "name": "stderr",
     "output_type": "stream",
     "text": [
      "\r",
      "14496it [00:40, 367.07it/s]"
     ]
    },
    {
     "name": "stderr",
     "output_type": "stream",
     "text": [
      "\r",
      "14533it [00:41, 362.62it/s]"
     ]
    },
    {
     "name": "stderr",
     "output_type": "stream",
     "text": [
      "\r",
      "14570it [00:41, 362.12it/s]"
     ]
    },
    {
     "name": "stderr",
     "output_type": "stream",
     "text": [
      "\r",
      "14612it [00:41, 377.15it/s]"
     ]
    },
    {
     "name": "stderr",
     "output_type": "stream",
     "text": [
      "\r",
      "14652it [00:41, 378.77it/s]"
     ]
    },
    {
     "name": "stderr",
     "output_type": "stream",
     "text": [
      "\r",
      "14690it [00:41, 372.49it/s]"
     ]
    },
    {
     "name": "stderr",
     "output_type": "stream",
     "text": [
      "\r",
      "14728it [00:41, 370.14it/s]"
     ]
    },
    {
     "name": "stderr",
     "output_type": "stream",
     "text": [
      "\r",
      "14766it [00:41, 359.68it/s]"
     ]
    },
    {
     "name": "stderr",
     "output_type": "stream",
     "text": [
      "\r",
      "14804it [00:41, 363.49it/s]"
     ]
    },
    {
     "name": "stderr",
     "output_type": "stream",
     "text": [
      "\r",
      "14841it [00:41, 362.38it/s]"
     ]
    },
    {
     "name": "stderr",
     "output_type": "stream",
     "text": [
      "\r",
      "14878it [00:42, 361.95it/s]"
     ]
    },
    {
     "name": "stderr",
     "output_type": "stream",
     "text": [
      "\r",
      "14916it [00:42, 365.11it/s]"
     ]
    },
    {
     "name": "stderr",
     "output_type": "stream",
     "text": [
      "\r",
      "14953it [00:42, 360.18it/s]"
     ]
    },
    {
     "name": "stderr",
     "output_type": "stream",
     "text": [
      "\r",
      "14990it [00:42, 361.23it/s]"
     ]
    },
    {
     "name": "stderr",
     "output_type": "stream",
     "text": [
      "\r",
      "15029it [00:42, 368.93it/s]"
     ]
    },
    {
     "name": "stderr",
     "output_type": "stream",
     "text": [
      "\r",
      "15066it [00:42, 367.80it/s]"
     ]
    },
    {
     "name": "stderr",
     "output_type": "stream",
     "text": [
      "\r",
      "15103it [00:42, 366.99it/s]"
     ]
    },
    {
     "name": "stderr",
     "output_type": "stream",
     "text": [
      "\r",
      "15141it [00:42, 368.74it/s]"
     ]
    },
    {
     "name": "stderr",
     "output_type": "stream",
     "text": [
      "\r",
      "15178it [00:42, 365.53it/s]"
     ]
    },
    {
     "name": "stderr",
     "output_type": "stream",
     "text": [
      "\r",
      "15215it [00:42, 366.35it/s]"
     ]
    },
    {
     "name": "stderr",
     "output_type": "stream",
     "text": [
      "\r",
      "15253it [00:43, 368.98it/s]"
     ]
    },
    {
     "name": "stderr",
     "output_type": "stream",
     "text": [
      "\r",
      "15290it [00:43, 351.80it/s]"
     ]
    },
    {
     "name": "stderr",
     "output_type": "stream",
     "text": [
      "\r",
      "15329it [00:43, 361.38it/s]"
     ]
    },
    {
     "name": "stderr",
     "output_type": "stream",
     "text": [
      "\r",
      "15368it [00:43, 369.65it/s]"
     ]
    },
    {
     "name": "stderr",
     "output_type": "stream",
     "text": [
      "\r",
      "15406it [00:43, 372.11it/s]"
     ]
    },
    {
     "name": "stderr",
     "output_type": "stream",
     "text": [
      "\r",
      "15445it [00:43, 376.77it/s]"
     ]
    },
    {
     "name": "stderr",
     "output_type": "stream",
     "text": [
      "\r",
      "15483it [00:43, 369.38it/s]"
     ]
    },
    {
     "name": "stderr",
     "output_type": "stream",
     "text": [
      "\r",
      "15521it [00:43, 370.60it/s]"
     ]
    },
    {
     "name": "stderr",
     "output_type": "stream",
     "text": [
      "\r",
      "15559it [00:43, 373.12it/s]"
     ]
    },
    {
     "name": "stderr",
     "output_type": "stream",
     "text": [
      "\r",
      "15597it [00:43, 370.29it/s]"
     ]
    },
    {
     "name": "stderr",
     "output_type": "stream",
     "text": [
      "\r",
      "15640it [00:44, 387.69it/s]"
     ]
    },
    {
     "name": "stderr",
     "output_type": "stream",
     "text": [
      "\r",
      "15679it [00:44, 384.25it/s]"
     ]
    },
    {
     "name": "stderr",
     "output_type": "stream",
     "text": [
      "\r",
      "15721it [00:44, 392.34it/s]"
     ]
    },
    {
     "name": "stderr",
     "output_type": "stream",
     "text": [
      "\r",
      "15761it [00:44, 384.63it/s]"
     ]
    },
    {
     "name": "stderr",
     "output_type": "stream",
     "text": [
      "\r",
      "15800it [00:44, 382.51it/s]"
     ]
    },
    {
     "name": "stderr",
     "output_type": "stream",
     "text": [
      "\r",
      "15839it [00:44, 383.75it/s]"
     ]
    },
    {
     "name": "stderr",
     "output_type": "stream",
     "text": [
      "\r",
      "15878it [00:44, 376.32it/s]"
     ]
    },
    {
     "name": "stderr",
     "output_type": "stream",
     "text": [
      "\r",
      "15916it [00:44, 371.35it/s]"
     ]
    },
    {
     "name": "stderr",
     "output_type": "stream",
     "text": [
      "\r",
      "15954it [00:44, 363.17it/s]"
     ]
    },
    {
     "name": "stderr",
     "output_type": "stream",
     "text": [
      "\r",
      "15991it [00:45, 362.40it/s]"
     ]
    },
    {
     "name": "stderr",
     "output_type": "stream",
     "text": [
      "\r",
      "16028it [00:45, 357.43it/s]"
     ]
    },
    {
     "name": "stderr",
     "output_type": "stream",
     "text": [
      "\r",
      "16064it [00:45, 345.18it/s]"
     ]
    },
    {
     "name": "stderr",
     "output_type": "stream",
     "text": [
      "\r",
      "16101it [00:45, 350.75it/s]"
     ]
    },
    {
     "name": "stderr",
     "output_type": "stream",
     "text": [
      "\r",
      "16137it [00:45, 350.17it/s]"
     ]
    },
    {
     "name": "stderr",
     "output_type": "stream",
     "text": [
      "\r",
      "16174it [00:45, 353.43it/s]"
     ]
    },
    {
     "name": "stderr",
     "output_type": "stream",
     "text": [
      "\r",
      "16212it [00:45, 360.59it/s]"
     ]
    },
    {
     "name": "stderr",
     "output_type": "stream",
     "text": [
      "\r",
      "16249it [00:45, 361.73it/s]"
     ]
    },
    {
     "name": "stderr",
     "output_type": "stream",
     "text": [
      "\r",
      "16287it [00:45, 365.57it/s]"
     ]
    },
    {
     "name": "stderr",
     "output_type": "stream",
     "text": [
      "\r",
      "16324it [00:45, 362.95it/s]"
     ]
    },
    {
     "name": "stderr",
     "output_type": "stream",
     "text": [
      "\r",
      "16362it [00:46, 366.85it/s]"
     ]
    },
    {
     "name": "stderr",
     "output_type": "stream",
     "text": [
      "\r",
      "16402it [00:46, 375.11it/s]"
     ]
    },
    {
     "name": "stderr",
     "output_type": "stream",
     "text": [
      "\r",
      "16440it [00:46, 362.21it/s]"
     ]
    },
    {
     "name": "stderr",
     "output_type": "stream",
     "text": [
      "\r",
      "16477it [00:46, 363.36it/s]"
     ]
    },
    {
     "name": "stderr",
     "output_type": "stream",
     "text": [
      "\r",
      "16518it [00:46, 376.42it/s]"
     ]
    },
    {
     "name": "stderr",
     "output_type": "stream",
     "text": [
      "\r",
      "16558it [00:46, 382.52it/s]"
     ]
    },
    {
     "name": "stderr",
     "output_type": "stream",
     "text": [
      "\r",
      "16597it [00:46, 371.62it/s]"
     ]
    },
    {
     "name": "stderr",
     "output_type": "stream",
     "text": [
      "\r",
      "16635it [00:46, 369.32it/s]"
     ]
    },
    {
     "name": "stderr",
     "output_type": "stream",
     "text": [
      "\r",
      "16673it [00:46, 361.19it/s]"
     ]
    },
    {
     "name": "stderr",
     "output_type": "stream",
     "text": [
      "\r",
      "16711it [00:47, 365.01it/s]"
     ]
    },
    {
     "name": "stderr",
     "output_type": "stream",
     "text": [
      "\r",
      "16748it [00:47, 366.18it/s]"
     ]
    },
    {
     "name": "stderr",
     "output_type": "stream",
     "text": [
      "\r",
      "16785it [00:47, 366.26it/s]"
     ]
    },
    {
     "name": "stderr",
     "output_type": "stream",
     "text": [
      "\r",
      "16823it [00:47, 366.90it/s]"
     ]
    },
    {
     "name": "stderr",
     "output_type": "stream",
     "text": [
      "\r",
      "16860it [00:47, 361.31it/s]"
     ]
    },
    {
     "name": "stderr",
     "output_type": "stream",
     "text": [
      "\r",
      "16897it [00:47, 363.31it/s]"
     ]
    },
    {
     "name": "stderr",
     "output_type": "stream",
     "text": [
      "\r",
      "16937it [00:47, 370.96it/s]"
     ]
    },
    {
     "name": "stderr",
     "output_type": "stream",
     "text": [
      "\r",
      "16975it [00:47, 367.51it/s]"
     ]
    },
    {
     "name": "stderr",
     "output_type": "stream",
     "text": [
      "\r",
      "17012it [00:47, 365.38it/s]"
     ]
    },
    {
     "name": "stderr",
     "output_type": "stream",
     "text": [
      "\r",
      "17049it [00:47, 364.10it/s]"
     ]
    },
    {
     "name": "stderr",
     "output_type": "stream",
     "text": [
      "\r",
      "17086it [00:48, 357.90it/s]"
     ]
    },
    {
     "name": "stderr",
     "output_type": "stream",
     "text": [
      "\r",
      "17124it [00:48, 362.41it/s]"
     ]
    },
    {
     "name": "stderr",
     "output_type": "stream",
     "text": [
      "\r",
      "17161it [00:48, 364.13it/s]"
     ]
    },
    {
     "name": "stderr",
     "output_type": "stream",
     "text": [
      "\r",
      "17198it [00:48, 351.27it/s]"
     ]
    },
    {
     "name": "stderr",
     "output_type": "stream",
     "text": [
      "\r",
      "17236it [00:48, 358.24it/s]"
     ]
    },
    {
     "name": "stderr",
     "output_type": "stream",
     "text": [
      "\r",
      "17275it [00:48, 365.64it/s]"
     ]
    },
    {
     "name": "stderr",
     "output_type": "stream",
     "text": [
      "\r",
      "17314it [00:48, 370.19it/s]"
     ]
    },
    {
     "name": "stderr",
     "output_type": "stream",
     "text": [
      "\r",
      "17353it [00:48, 371.00it/s]"
     ]
    },
    {
     "name": "stderr",
     "output_type": "stream",
     "text": [
      "\r",
      "17391it [00:48, 363.60it/s]"
     ]
    },
    {
     "name": "stderr",
     "output_type": "stream",
     "text": [
      "\r",
      "17429it [00:48, 364.86it/s]"
     ]
    },
    {
     "name": "stderr",
     "output_type": "stream",
     "text": [
      "\r",
      "17467it [00:49, 369.06it/s]"
     ]
    },
    {
     "name": "stderr",
     "output_type": "stream",
     "text": [
      "\r",
      "17504it [00:49, 368.54it/s]"
     ]
    },
    {
     "name": "stderr",
     "output_type": "stream",
     "text": [
      "\r",
      "17547it [00:49, 386.49it/s]"
     ]
    },
    {
     "name": "stderr",
     "output_type": "stream",
     "text": [
      "\r",
      "17586it [00:49, 383.89it/s]"
     ]
    },
    {
     "name": "stderr",
     "output_type": "stream",
     "text": [
      "\r",
      "17628it [00:49, 390.25it/s]"
     ]
    },
    {
     "name": "stderr",
     "output_type": "stream",
     "text": [
      "\r",
      "17668it [00:49, 383.85it/s]"
     ]
    },
    {
     "name": "stderr",
     "output_type": "stream",
     "text": [
      "\r",
      "17707it [00:49, 381.33it/s]"
     ]
    },
    {
     "name": "stderr",
     "output_type": "stream",
     "text": [
      "\r",
      "17746it [00:49, 379.52it/s]"
     ]
    },
    {
     "name": "stderr",
     "output_type": "stream",
     "text": [
      "\r",
      "17784it [00:49, 371.24it/s]"
     ]
    },
    {
     "name": "stderr",
     "output_type": "stream",
     "text": [
      "\r",
      "17822it [00:50, 371.94it/s]"
     ]
    },
    {
     "name": "stderr",
     "output_type": "stream",
     "text": [
      "\r",
      "17860it [00:50, 369.29it/s]"
     ]
    },
    {
     "name": "stderr",
     "output_type": "stream",
     "text": [
      "\r",
      "17898it [00:50, 370.07it/s]"
     ]
    },
    {
     "name": "stderr",
     "output_type": "stream",
     "text": [
      "\r",
      "17936it [00:50, 368.61it/s]"
     ]
    },
    {
     "name": "stderr",
     "output_type": "stream",
     "text": [
      "\r",
      "17973it [00:50, 362.83it/s]"
     ]
    },
    {
     "name": "stderr",
     "output_type": "stream",
     "text": [
      "\r",
      "18010it [00:50, 362.91it/s]"
     ]
    },
    {
     "name": "stderr",
     "output_type": "stream",
     "text": [
      "\r",
      "18047it [00:50, 360.59it/s]"
     ]
    },
    {
     "name": "stderr",
     "output_type": "stream",
     "text": [
      "\r",
      "18084it [00:50, 362.28it/s]"
     ]
    },
    {
     "name": "stderr",
     "output_type": "stream",
     "text": [
      "\r",
      "18122it [00:50, 364.64it/s]"
     ]
    },
    {
     "name": "stderr",
     "output_type": "stream",
     "text": [
      "\r",
      "18160it [00:50, 367.50it/s]"
     ]
    },
    {
     "name": "stderr",
     "output_type": "stream",
     "text": [
      "\r",
      "18197it [00:51, 365.69it/s]"
     ]
    },
    {
     "name": "stderr",
     "output_type": "stream",
     "text": [
      "\r",
      "18234it [00:51, 364.33it/s]"
     ]
    },
    {
     "name": "stderr",
     "output_type": "stream",
     "text": [
      "\r",
      "18272it [00:51, 368.30it/s]"
     ]
    },
    {
     "name": "stderr",
     "output_type": "stream",
     "text": [
      "\r",
      "18313it [00:51, 378.49it/s]"
     ]
    },
    {
     "name": "stderr",
     "output_type": "stream",
     "text": [
      "\r",
      "18351it [00:51, 371.01it/s]"
     ]
    },
    {
     "name": "stderr",
     "output_type": "stream",
     "text": [
      "\r",
      "18389it [00:51, 364.00it/s]"
     ]
    },
    {
     "name": "stderr",
     "output_type": "stream",
     "text": [
      "\r",
      "18429it [00:51, 373.04it/s]"
     ]
    },
    {
     "name": "stderr",
     "output_type": "stream",
     "text": [
      "\r",
      "18469it [00:51, 380.68it/s]"
     ]
    },
    {
     "name": "stderr",
     "output_type": "stream",
     "text": [
      "\r",
      "18508it [00:51, 374.88it/s]"
     ]
    },
    {
     "name": "stderr",
     "output_type": "stream",
     "text": [
      "\r",
      "18546it [00:51, 365.54it/s]"
     ]
    },
    {
     "name": "stderr",
     "output_type": "stream",
     "text": [
      "\r",
      "18583it [00:52, 358.95it/s]"
     ]
    },
    {
     "name": "stderr",
     "output_type": "stream",
     "text": [
      "\r",
      "18620it [00:52, 358.44it/s]"
     ]
    },
    {
     "name": "stderr",
     "output_type": "stream",
     "text": [
      "\r",
      "18656it [00:52, 357.70it/s]"
     ]
    },
    {
     "name": "stderr",
     "output_type": "stream",
     "text": [
      "\r",
      "18692it [00:52, 357.24it/s]"
     ]
    },
    {
     "name": "stderr",
     "output_type": "stream",
     "text": [
      "\r",
      "18728it [00:52, 351.24it/s]"
     ]
    },
    {
     "name": "stderr",
     "output_type": "stream",
     "text": [
      "\r",
      "18764it [00:52, 351.48it/s]"
     ]
    },
    {
     "name": "stderr",
     "output_type": "stream",
     "text": [
      "\r",
      "18800it [00:52, 348.44it/s]"
     ]
    },
    {
     "name": "stderr",
     "output_type": "stream",
     "text": [
      "\r",
      "18837it [00:52, 353.24it/s]"
     ]
    },
    {
     "name": "stderr",
     "output_type": "stream",
     "text": [
      "\r",
      "18877it [00:52, 366.47it/s]"
     ]
    },
    {
     "name": "stderr",
     "output_type": "stream",
     "text": [
      "\r",
      "18914it [00:53, 358.77it/s]"
     ]
    },
    {
     "name": "stderr",
     "output_type": "stream",
     "text": [
      "\r",
      "18950it [00:53, 358.82it/s]"
     ]
    },
    {
     "name": "stderr",
     "output_type": "stream",
     "text": [
      "\r",
      "18986it [00:53, 344.39it/s]"
     ]
    },
    {
     "name": "stderr",
     "output_type": "stream",
     "text": [
      "\r",
      "19021it [00:53, 345.42it/s]"
     ]
    },
    {
     "name": "stderr",
     "output_type": "stream",
     "text": [
      "\r",
      "19057it [00:53, 344.30it/s]"
     ]
    },
    {
     "name": "stderr",
     "output_type": "stream",
     "text": [
      "\r",
      "19093it [00:53, 348.45it/s]"
     ]
    },
    {
     "name": "stderr",
     "output_type": "stream",
     "text": [
      "\r",
      "19128it [00:53, 338.81it/s]"
     ]
    },
    {
     "name": "stderr",
     "output_type": "stream",
     "text": [
      "\r",
      "19166it [00:53, 350.63it/s]"
     ]
    },
    {
     "name": "stderr",
     "output_type": "stream",
     "text": [
      "\r",
      "19204it [00:53, 358.13it/s]"
     ]
    },
    {
     "name": "stderr",
     "output_type": "stream",
     "text": [
      "\r",
      "19240it [00:53, 358.60it/s]"
     ]
    },
    {
     "name": "stderr",
     "output_type": "stream",
     "text": [
      "\r",
      "19278it [00:54, 363.31it/s]"
     ]
    },
    {
     "name": "stderr",
     "output_type": "stream",
     "text": [
      "\r",
      "19315it [00:54, 352.98it/s]"
     ]
    },
    {
     "name": "stderr",
     "output_type": "stream",
     "text": [
      "\r",
      "19353it [00:54, 358.71it/s]"
     ]
    },
    {
     "name": "stderr",
     "output_type": "stream",
     "text": [
      "\r",
      "19390it [00:54, 361.98it/s]"
     ]
    },
    {
     "name": "stderr",
     "output_type": "stream",
     "text": [
      "\r",
      "19427it [00:54, 358.49it/s]"
     ]
    },
    {
     "name": "stderr",
     "output_type": "stream",
     "text": [
      "\r",
      "19469it [00:54, 374.74it/s]"
     ]
    },
    {
     "name": "stderr",
     "output_type": "stream",
     "text": [
      "\r",
      "19507it [00:54, 371.77it/s]"
     ]
    },
    {
     "name": "stderr",
     "output_type": "stream",
     "text": [
      "\r",
      "19547it [00:54, 377.36it/s]"
     ]
    },
    {
     "name": "stderr",
     "output_type": "stream",
     "text": [
      "\r",
      "19585it [00:54, 370.63it/s]"
     ]
    },
    {
     "name": "stderr",
     "output_type": "stream",
     "text": [
      "\r",
      "19623it [00:55, 369.08it/s]"
     ]
    },
    {
     "name": "stderr",
     "output_type": "stream",
     "text": [
      "\r",
      "19660it [00:55, 366.48it/s]"
     ]
    },
    {
     "name": "stderr",
     "output_type": "stream",
     "text": [
      "\r",
      "19697it [00:55, 362.67it/s]"
     ]
    },
    {
     "name": "stderr",
     "output_type": "stream",
     "text": [
      "\r",
      "19735it [00:55, 364.45it/s]"
     ]
    },
    {
     "name": "stderr",
     "output_type": "stream",
     "text": [
      "\r",
      "19772it [00:55, 361.00it/s]"
     ]
    },
    {
     "name": "stderr",
     "output_type": "stream",
     "text": [
      "\r",
      "19809it [00:55, 356.54it/s]"
     ]
    },
    {
     "name": "stderr",
     "output_type": "stream",
     "text": [
      "\r",
      "19847it [00:55, 360.91it/s]"
     ]
    },
    {
     "name": "stderr",
     "output_type": "stream",
     "text": [
      "\r",
      "19885it [00:55, 365.32it/s]"
     ]
    },
    {
     "name": "stderr",
     "output_type": "stream",
     "text": [
      "\r",
      "19922it [00:55, 363.91it/s]"
     ]
    },
    {
     "name": "stderr",
     "output_type": "stream",
     "text": [
      "\r",
      "19959it [00:55, 362.57it/s]"
     ]
    },
    {
     "name": "stderr",
     "output_type": "stream",
     "text": [
      "\r",
      "19996it [00:56, 359.22it/s]"
     ]
    },
    {
     "name": "stderr",
     "output_type": "stream",
     "text": [
      "\r",
      "20032it [00:56, 351.84it/s]"
     ]
    },
    {
     "name": "stderr",
     "output_type": "stream",
     "text": [
      "\r",
      "20068it [00:56, 353.35it/s]"
     ]
    },
    {
     "name": "stderr",
     "output_type": "stream",
     "text": [
      "\r",
      "20104it [00:56, 354.26it/s]"
     ]
    },
    {
     "name": "stderr",
     "output_type": "stream",
     "text": [
      "\r",
      "20140it [00:56, 354.64it/s]"
     ]
    },
    {
     "name": "stderr",
     "output_type": "stream",
     "text": [
      "\r",
      "20176it [00:56, 354.10it/s]"
     ]
    },
    {
     "name": "stderr",
     "output_type": "stream",
     "text": [
      "\r",
      "20216it [00:56, 365.62it/s]"
     ]
    },
    {
     "name": "stderr",
     "output_type": "stream",
     "text": [
      "\r",
      "20253it [00:56, 357.28it/s]"
     ]
    },
    {
     "name": "stderr",
     "output_type": "stream",
     "text": [
      "\r",
      "20289it [00:56, 350.06it/s]"
     ]
    },
    {
     "name": "stderr",
     "output_type": "stream",
     "text": [
      "\r",
      "20325it [00:56, 348.63it/s]"
     ]
    },
    {
     "name": "stderr",
     "output_type": "stream",
     "text": [
      "\r",
      "20365it [00:57, 363.47it/s]"
     ]
    },
    {
     "name": "stderr",
     "output_type": "stream",
     "text": [
      "\r",
      "20402it [00:57, 355.85it/s]"
     ]
    },
    {
     "name": "stderr",
     "output_type": "stream",
     "text": [
      "\r",
      "20438it [00:57, 343.38it/s]"
     ]
    },
    {
     "name": "stderr",
     "output_type": "stream",
     "text": [
      "\r",
      "20473it [00:57, 340.92it/s]"
     ]
    },
    {
     "name": "stderr",
     "output_type": "stream",
     "text": [
      "\r",
      "20508it [00:57, 340.46it/s]"
     ]
    },
    {
     "name": "stderr",
     "output_type": "stream",
     "text": [
      "\r",
      "20545it [00:57, 347.10it/s]"
     ]
    },
    {
     "name": "stderr",
     "output_type": "stream",
     "text": [
      "\r",
      "20580it [00:57, 346.44it/s]"
     ]
    },
    {
     "name": "stderr",
     "output_type": "stream",
     "text": [
      "\r",
      "20615it [00:57, 347.27it/s]"
     ]
    },
    {
     "name": "stderr",
     "output_type": "stream",
     "text": [
      "\r",
      "20651it [00:57, 349.28it/s]"
     ]
    },
    {
     "name": "stderr",
     "output_type": "stream",
     "text": [
      "\r",
      "20686it [00:58, 348.91it/s]"
     ]
    },
    {
     "name": "stderr",
     "output_type": "stream",
     "text": [
      "\r",
      "20721it [00:58, 348.34it/s]"
     ]
    },
    {
     "name": "stderr",
     "output_type": "stream",
     "text": [
      "\r",
      "20760it [00:58, 359.88it/s]"
     ]
    },
    {
     "name": "stderr",
     "output_type": "stream",
     "text": [
      "\r",
      "20797it [00:58, 358.78it/s]"
     ]
    },
    {
     "name": "stderr",
     "output_type": "stream",
     "text": [
      "\r",
      "20833it [00:58, 354.90it/s]"
     ]
    },
    {
     "name": "stderr",
     "output_type": "stream",
     "text": [
      "\r",
      "20869it [00:58, 347.50it/s]"
     ]
    },
    {
     "name": "stderr",
     "output_type": "stream",
     "text": [
      "\r",
      "20905it [00:58, 349.87it/s]"
     ]
    },
    {
     "name": "stderr",
     "output_type": "stream",
     "text": [
      "\r",
      "20941it [00:58, 352.12it/s]"
     ]
    },
    {
     "name": "stderr",
     "output_type": "stream",
     "text": [
      "\r",
      "20977it [00:58, 351.35it/s]"
     ]
    },
    {
     "name": "stderr",
     "output_type": "stream",
     "text": [
      "\r",
      "21013it [00:58, 341.34it/s]"
     ]
    },
    {
     "name": "stderr",
     "output_type": "stream",
     "text": [
      "\r",
      "21049it [00:59, 345.87it/s]"
     ]
    },
    {
     "name": "stderr",
     "output_type": "stream",
     "text": [
      "\r",
      "21087it [00:59, 354.32it/s]"
     ]
    },
    {
     "name": "stderr",
     "output_type": "stream",
     "text": [
      "\r",
      "21124it [00:59, 355.62it/s]"
     ]
    },
    {
     "name": "stderr",
     "output_type": "stream",
     "text": [
      "\r",
      "21160it [00:59, 353.95it/s]"
     ]
    },
    {
     "name": "stderr",
     "output_type": "stream",
     "text": [
      "\r",
      "21197it [00:59, 358.37it/s]"
     ]
    },
    {
     "name": "stderr",
     "output_type": "stream",
     "text": [
      "\r",
      "21233it [00:59, 353.54it/s]"
     ]
    },
    {
     "name": "stderr",
     "output_type": "stream",
     "text": [
      "\r",
      "21272it [00:59, 362.56it/s]"
     ]
    },
    {
     "name": "stderr",
     "output_type": "stream",
     "text": [
      "\r",
      "21309it [00:59, 363.52it/s]"
     ]
    },
    {
     "name": "stderr",
     "output_type": "stream",
     "text": [
      "\r",
      "21347it [00:59, 366.34it/s]"
     ]
    },
    {
     "name": "stderr",
     "output_type": "stream",
     "text": [
      "\r",
      "21388it [00:59, 376.48it/s]"
     ]
    },
    {
     "name": "stderr",
     "output_type": "stream",
     "text": [
      "\r",
      "21426it [01:00, 363.99it/s]"
     ]
    },
    {
     "name": "stderr",
     "output_type": "stream",
     "text": [
      "\r",
      "21463it [01:00, 365.69it/s]"
     ]
    },
    {
     "name": "stderr",
     "output_type": "stream",
     "text": [
      "\r",
      "21500it [01:00, 366.64it/s]"
     ]
    },
    {
     "name": "stderr",
     "output_type": "stream",
     "text": [
      "\r",
      "21537it [01:00, 366.86it/s]"
     ]
    },
    {
     "name": "stderr",
     "output_type": "stream",
     "text": [
      "\r",
      "21574it [01:00, 362.00it/s]"
     ]
    },
    {
     "name": "stderr",
     "output_type": "stream",
     "text": [
      "\r",
      "21611it [01:00, 355.12it/s]"
     ]
    },
    {
     "name": "stderr",
     "output_type": "stream",
     "text": [
      "\r",
      "21648it [01:00, 357.77it/s]"
     ]
    },
    {
     "name": "stderr",
     "output_type": "stream",
     "text": [
      "\r",
      "21684it [01:00, 356.58it/s]"
     ]
    },
    {
     "name": "stderr",
     "output_type": "stream",
     "text": [
      "\r",
      "21721it [01:00, 359.18it/s]"
     ]
    },
    {
     "name": "stderr",
     "output_type": "stream",
     "text": [
      "\r",
      "21757it [01:00, 359.06it/s]"
     ]
    },
    {
     "name": "stderr",
     "output_type": "stream",
     "text": [
      "\r",
      "21794it [01:01, 361.49it/s]"
     ]
    },
    {
     "name": "stderr",
     "output_type": "stream",
     "text": [
      "\r",
      "21831it [01:01, 360.36it/s]"
     ]
    },
    {
     "name": "stderr",
     "output_type": "stream",
     "text": [
      "\r",
      "21868it [01:01, 362.33it/s]"
     ]
    },
    {
     "name": "stderr",
     "output_type": "stream",
     "text": [
      "\r",
      "21905it [01:01, 355.61it/s]"
     ]
    },
    {
     "name": "stderr",
     "output_type": "stream",
     "text": [
      "\r",
      "21941it [01:01, 349.32it/s]"
     ]
    },
    {
     "name": "stderr",
     "output_type": "stream",
     "text": [
      "\r",
      "21977it [01:01, 350.86it/s]"
     ]
    },
    {
     "name": "stderr",
     "output_type": "stream",
     "text": [
      "\r",
      "22014it [01:01, 356.08it/s]"
     ]
    },
    {
     "name": "stderr",
     "output_type": "stream",
     "text": [
      "\r",
      "22050it [01:01, 352.26it/s]"
     ]
    },
    {
     "name": "stderr",
     "output_type": "stream",
     "text": [
      "\r",
      "22088it [01:01, 357.89it/s]"
     ]
    },
    {
     "name": "stderr",
     "output_type": "stream",
     "text": [
      "\r",
      "22126it [01:02, 363.91it/s]"
     ]
    },
    {
     "name": "stderr",
     "output_type": "stream",
     "text": [
      "\r",
      "22163it [01:02, 359.11it/s]"
     ]
    },
    {
     "name": "stderr",
     "output_type": "stream",
     "text": [
      "\r",
      "22199it [01:02, 355.93it/s]"
     ]
    },
    {
     "name": "stderr",
     "output_type": "stream",
     "text": [
      "\r",
      "22235it [01:02, 355.18it/s]"
     ]
    },
    {
     "name": "stderr",
     "output_type": "stream",
     "text": [
      "\r",
      "22277it [01:02, 372.91it/s]"
     ]
    },
    {
     "name": "stderr",
     "output_type": "stream",
     "text": [
      "\r",
      "22315it [01:02, 368.86it/s]"
     ]
    },
    {
     "name": "stderr",
     "output_type": "stream",
     "text": [
      "\r",
      "22352it [01:02, 359.32it/s]"
     ]
    },
    {
     "name": "stderr",
     "output_type": "stream",
     "text": [
      "\r",
      "22388it [01:02, 355.77it/s]"
     ]
    },
    {
     "name": "stderr",
     "output_type": "stream",
     "text": [
      "\r",
      "22424it [01:02, 353.75it/s]"
     ]
    },
    {
     "name": "stderr",
     "output_type": "stream",
     "text": [
      "\r",
      "22460it [01:02, 354.79it/s]"
     ]
    },
    {
     "name": "stderr",
     "output_type": "stream",
     "text": [
      "\r",
      "22496it [01:03, 354.71it/s]"
     ]
    },
    {
     "name": "stderr",
     "output_type": "stream",
     "text": [
      "\r",
      "22532it [01:03, 349.60it/s]"
     ]
    },
    {
     "name": "stderr",
     "output_type": "stream",
     "text": [
      "\r",
      "22568it [01:03, 352.31it/s]"
     ]
    },
    {
     "name": "stderr",
     "output_type": "stream",
     "text": [
      "\r",
      "22604it [01:03, 347.44it/s]"
     ]
    },
    {
     "name": "stderr",
     "output_type": "stream",
     "text": [
      "\r",
      "22639it [01:03, 348.15it/s]"
     ]
    },
    {
     "name": "stderr",
     "output_type": "stream",
     "text": [
      "\r",
      "22679it [01:03, 361.03it/s]"
     ]
    },
    {
     "name": "stderr",
     "output_type": "stream",
     "text": [
      "\r",
      "22716it [01:03, 356.57it/s]"
     ]
    },
    {
     "name": "stderr",
     "output_type": "stream",
     "text": [
      "\r",
      "22752it [01:03, 355.04it/s]"
     ]
    },
    {
     "name": "stderr",
     "output_type": "stream",
     "text": [
      "\r",
      "22788it [01:03, 355.60it/s]"
     ]
    },
    {
     "name": "stderr",
     "output_type": "stream",
     "text": [
      "\r",
      "22824it [01:03, 351.16it/s]"
     ]
    },
    {
     "name": "stderr",
     "output_type": "stream",
     "text": [
      "\r",
      "22860it [01:04, 351.59it/s]"
     ]
    },
    {
     "name": "stderr",
     "output_type": "stream",
     "text": [
      "\r",
      "22896it [01:04, 348.86it/s]"
     ]
    },
    {
     "name": "stderr",
     "output_type": "stream",
     "text": [
      "\r",
      "22931it [01:04, 342.30it/s]"
     ]
    },
    {
     "name": "stderr",
     "output_type": "stream",
     "text": [
      "\r",
      "22967it [01:04, 347.24it/s]"
     ]
    },
    {
     "name": "stderr",
     "output_type": "stream",
     "text": [
      "\r",
      "23006it [01:04, 356.57it/s]"
     ]
    },
    {
     "name": "stderr",
     "output_type": "stream",
     "text": [
      "\r",
      "23043it [01:04, 358.50it/s]"
     ]
    },
    {
     "name": "stderr",
     "output_type": "stream",
     "text": [
      "\r",
      "23080it [01:04, 359.89it/s]"
     ]
    },
    {
     "name": "stderr",
     "output_type": "stream",
     "text": [
      "\r",
      "23117it [01:04, 358.91it/s]"
     ]
    },
    {
     "name": "stderr",
     "output_type": "stream",
     "text": [
      "\r",
      "23153it [01:04, 354.74it/s]"
     ]
    },
    {
     "name": "stderr",
     "output_type": "stream",
     "text": [
      "\r",
      "23191it [01:05, 360.76it/s]"
     ]
    },
    {
     "name": "stderr",
     "output_type": "stream",
     "text": [
      "\r",
      "23228it [01:05, 361.09it/s]"
     ]
    },
    {
     "name": "stderr",
     "output_type": "stream",
     "text": [
      "\r",
      "23266it [01:05, 364.80it/s]"
     ]
    },
    {
     "name": "stderr",
     "output_type": "stream",
     "text": [
      "\r",
      "23307it [01:05, 375.52it/s]"
     ]
    },
    {
     "name": "stderr",
     "output_type": "stream",
     "text": [
      "\r",
      "23346it [01:05, 377.61it/s]"
     ]
    },
    {
     "name": "stderr",
     "output_type": "stream",
     "text": [
      "\r",
      "23384it [01:05, 374.98it/s]"
     ]
    },
    {
     "name": "stderr",
     "output_type": "stream",
     "text": [
      "\r",
      "23422it [01:05, 373.68it/s]"
     ]
    },
    {
     "name": "stderr",
     "output_type": "stream",
     "text": [
      "\r",
      "23460it [01:05, 374.56it/s]"
     ]
    },
    {
     "name": "stderr",
     "output_type": "stream",
     "text": [
      "\r",
      "23498it [01:05, 369.00it/s]"
     ]
    },
    {
     "name": "stderr",
     "output_type": "stream",
     "text": [
      "\r",
      "23535it [01:05, 361.87it/s]"
     ]
    },
    {
     "name": "stderr",
     "output_type": "stream",
     "text": [
      "\r",
      "23572it [01:06, 357.96it/s]"
     ]
    },
    {
     "name": "stderr",
     "output_type": "stream",
     "text": [
      "\r",
      "23609it [01:06, 358.04it/s]"
     ]
    },
    {
     "name": "stderr",
     "output_type": "stream",
     "text": [
      "\r",
      "23645it [01:06, 358.21it/s]"
     ]
    },
    {
     "name": "stderr",
     "output_type": "stream",
     "text": [
      "\r",
      "23683it [01:06, 363.01it/s]"
     ]
    },
    {
     "name": "stderr",
     "output_type": "stream",
     "text": [
      "\r",
      "23720it [01:06, 355.85it/s]"
     ]
    },
    {
     "name": "stderr",
     "output_type": "stream",
     "text": [
      "\r",
      "23757it [01:06, 359.23it/s]"
     ]
    },
    {
     "name": "stderr",
     "output_type": "stream",
     "text": [
      "\r",
      "23795it [01:06, 363.55it/s]"
     ]
    },
    {
     "name": "stderr",
     "output_type": "stream",
     "text": [
      "\r",
      "23832it [01:06, 361.75it/s]"
     ]
    },
    {
     "name": "stderr",
     "output_type": "stream",
     "text": [
      "\r",
      "23869it [01:06, 360.11it/s]"
     ]
    },
    {
     "name": "stderr",
     "output_type": "stream",
     "text": [
      "\r",
      "23906it [01:06, 360.96it/s]"
     ]
    },
    {
     "name": "stderr",
     "output_type": "stream",
     "text": [
      "\r",
      "23943it [01:07, 353.87it/s]"
     ]
    },
    {
     "name": "stderr",
     "output_type": "stream",
     "text": [
      "\r",
      "23979it [01:07, 351.54it/s]"
     ]
    },
    {
     "name": "stderr",
     "output_type": "stream",
     "text": [
      "\r",
      "24015it [01:07, 346.09it/s]"
     ]
    },
    {
     "name": "stderr",
     "output_type": "stream",
     "text": [
      "\r",
      "24053it [01:07, 355.55it/s]"
     ]
    },
    {
     "name": "stderr",
     "output_type": "stream",
     "text": [
      "\r",
      "24089it [01:07, 351.33it/s]"
     ]
    },
    {
     "name": "stderr",
     "output_type": "stream",
     "text": [
      "\r",
      "24125it [01:07, 344.65it/s]"
     ]
    },
    {
     "name": "stderr",
     "output_type": "stream",
     "text": [
      "\r",
      "24160it [01:07, 338.65it/s]"
     ]
    },
    {
     "name": "stderr",
     "output_type": "stream",
     "text": [
      "\r",
      "24203it [01:07, 362.36it/s]"
     ]
    },
    {
     "name": "stderr",
     "output_type": "stream",
     "text": [
      "\r",
      "24240it [01:07, 360.54it/s]"
     ]
    },
    {
     "name": "stderr",
     "output_type": "stream",
     "text": [
      "\r",
      "24277it [01:08, 351.41it/s]"
     ]
    },
    {
     "name": "stderr",
     "output_type": "stream",
     "text": [
      "\r",
      "24313it [01:08, 346.70it/s]"
     ]
    },
    {
     "name": "stderr",
     "output_type": "stream",
     "text": [
      "\r",
      "24348it [01:08, 343.21it/s]"
     ]
    },
    {
     "name": "stderr",
     "output_type": "stream",
     "text": [
      "\r",
      "24384it [01:08, 346.76it/s]"
     ]
    },
    {
     "name": "stderr",
     "output_type": "stream",
     "text": [
      "\r",
      "24419it [01:08, 347.45it/s]"
     ]
    },
    {
     "name": "stderr",
     "output_type": "stream",
     "text": [
      "\r",
      "24455it [01:08, 349.68it/s]"
     ]
    },
    {
     "name": "stderr",
     "output_type": "stream",
     "text": [
      "\r",
      "24492it [01:08, 355.27it/s]"
     ]
    },
    {
     "name": "stderr",
     "output_type": "stream",
     "text": [
      "\r",
      "24528it [01:08, 351.68it/s]"
     ]
    },
    {
     "name": "stderr",
     "output_type": "stream",
     "text": [
      "\r",
      "24564it [01:08, 346.21it/s]"
     ]
    },
    {
     "name": "stderr",
     "output_type": "stream",
     "text": [
      "\r",
      "24601it [01:08, 350.85it/s]"
     ]
    },
    {
     "name": "stderr",
     "output_type": "stream",
     "text": [
      "\r",
      "24637it [01:09, 349.52it/s]"
     ]
    },
    {
     "name": "stderr",
     "output_type": "stream",
     "text": [
      "\r",
      "24673it [01:09, 350.40it/s]"
     ]
    },
    {
     "name": "stderr",
     "output_type": "stream",
     "text": [
      "\r",
      "24709it [01:09, 346.80it/s]"
     ]
    },
    {
     "name": "stderr",
     "output_type": "stream",
     "text": [
      "\r",
      "24744it [01:09, 340.89it/s]"
     ]
    },
    {
     "name": "stderr",
     "output_type": "stream",
     "text": [
      "\r",
      "24779it [01:09, 342.35it/s]"
     ]
    },
    {
     "name": "stderr",
     "output_type": "stream",
     "text": [
      "\r",
      "24814it [01:09, 337.81it/s]"
     ]
    },
    {
     "name": "stderr",
     "output_type": "stream",
     "text": [
      "\r",
      "24848it [01:09, 332.37it/s]"
     ]
    },
    {
     "name": "stderr",
     "output_type": "stream",
     "text": [
      "\r",
      "24882it [01:09, 327.04it/s]"
     ]
    },
    {
     "name": "stderr",
     "output_type": "stream",
     "text": [
      "\r",
      "24919it [01:09, 338.29it/s]"
     ]
    },
    {
     "name": "stderr",
     "output_type": "stream",
     "text": [
      "\r",
      "24954it [01:10, 337.89it/s]"
     ]
    },
    {
     "name": "stderr",
     "output_type": "stream",
     "text": [
      "\r",
      "24989it [01:10, 339.02it/s]"
     ]
    },
    {
     "name": "stderr",
     "output_type": "stream",
     "text": [
      "\r",
      "25025it [01:10, 344.91it/s]"
     ]
    },
    {
     "name": "stderr",
     "output_type": "stream",
     "text": [
      "\r",
      "25060it [01:10, 337.98it/s]"
     ]
    },
    {
     "name": "stderr",
     "output_type": "stream",
     "text": [
      "\r",
      "25094it [01:10, 338.18it/s]"
     ]
    },
    {
     "name": "stderr",
     "output_type": "stream",
     "text": [
      "\r",
      "25128it [01:10, 338.61it/s]"
     ]
    },
    {
     "name": "stderr",
     "output_type": "stream",
     "text": [
      "\r",
      "25162it [01:10, 335.88it/s]"
     ]
    },
    {
     "name": "stderr",
     "output_type": "stream",
     "text": [
      "\r",
      "25196it [01:10, 333.76it/s]"
     ]
    },
    {
     "name": "stderr",
     "output_type": "stream",
     "text": [
      "\r",
      "25234it [01:10, 346.46it/s]"
     ]
    },
    {
     "name": "stderr",
     "output_type": "stream",
     "text": [
      "\r",
      "25269it [01:10, 343.43it/s]"
     ]
    },
    {
     "name": "stderr",
     "output_type": "stream",
     "text": [
      "\r",
      "25304it [01:11, 330.54it/s]"
     ]
    },
    {
     "name": "stderr",
     "output_type": "stream",
     "text": [
      "\r",
      "25338it [01:11, 332.13it/s]"
     ]
    },
    {
     "name": "stderr",
     "output_type": "stream",
     "text": [
      "\r",
      "25373it [01:11, 334.59it/s]"
     ]
    },
    {
     "name": "stderr",
     "output_type": "stream",
     "text": [
      "\r",
      "25408it [01:11, 335.17it/s]"
     ]
    },
    {
     "name": "stderr",
     "output_type": "stream",
     "text": [
      "\r",
      "25442it [01:11, 331.46it/s]"
     ]
    },
    {
     "name": "stderr",
     "output_type": "stream",
     "text": [
      "\r",
      "25476it [01:11, 332.01it/s]"
     ]
    },
    {
     "name": "stderr",
     "output_type": "stream",
     "text": [
      "\r",
      "25510it [01:11, 331.01it/s]"
     ]
    },
    {
     "name": "stderr",
     "output_type": "stream",
     "text": [
      "\r",
      "25544it [01:11, 329.63it/s]"
     ]
    },
    {
     "name": "stderr",
     "output_type": "stream",
     "text": [
      "\r",
      "25577it [01:11, 325.30it/s]"
     ]
    },
    {
     "name": "stderr",
     "output_type": "stream",
     "text": [
      "\r",
      "25610it [01:11, 325.95it/s]"
     ]
    },
    {
     "name": "stderr",
     "output_type": "stream",
     "text": [
      "\r",
      "25643it [01:12, 324.84it/s]"
     ]
    },
    {
     "name": "stderr",
     "output_type": "stream",
     "text": [
      "\r",
      "25677it [01:12, 328.41it/s]"
     ]
    },
    {
     "name": "stderr",
     "output_type": "stream",
     "text": [
      "\r",
      "25711it [01:12, 330.98it/s]"
     ]
    },
    {
     "name": "stderr",
     "output_type": "stream",
     "text": [
      "\r",
      "25745it [01:12, 329.51it/s]"
     ]
    },
    {
     "name": "stderr",
     "output_type": "stream",
     "text": [
      "\r",
      "25778it [01:12, 324.18it/s]"
     ]
    },
    {
     "name": "stderr",
     "output_type": "stream",
     "text": [
      "\r",
      "25812it [01:12, 327.21it/s]"
     ]
    },
    {
     "name": "stderr",
     "output_type": "stream",
     "text": [
      "\r",
      "25845it [01:12, 327.28it/s]"
     ]
    },
    {
     "name": "stderr",
     "output_type": "stream",
     "text": [
      "\r",
      "25878it [01:12, 326.12it/s]"
     ]
    },
    {
     "name": "stderr",
     "output_type": "stream",
     "text": [
      "\r",
      "25912it [01:12, 329.92it/s]"
     ]
    },
    {
     "name": "stderr",
     "output_type": "stream",
     "text": [
      "\r",
      "25946it [01:13, 325.31it/s]"
     ]
    },
    {
     "name": "stderr",
     "output_type": "stream",
     "text": [
      "\r",
      "25979it [01:13, 326.59it/s]"
     ]
    },
    {
     "name": "stderr",
     "output_type": "stream",
     "text": [
      "\r",
      "26012it [01:13, 320.79it/s]"
     ]
    },
    {
     "name": "stderr",
     "output_type": "stream",
     "text": [
      "\r",
      "26045it [01:13, 321.76it/s]"
     ]
    },
    {
     "name": "stderr",
     "output_type": "stream",
     "text": [
      "\r",
      "26082it [01:13, 334.91it/s]"
     ]
    },
    {
     "name": "stderr",
     "output_type": "stream",
     "text": [
      "\r",
      "26119it [01:13, 345.21it/s]"
     ]
    },
    {
     "name": "stderr",
     "output_type": "stream",
     "text": [
      "\r",
      "26154it [01:13, 340.28it/s]"
     ]
    },
    {
     "name": "stderr",
     "output_type": "stream",
     "text": [
      "\r",
      "26189it [01:13, 336.24it/s]"
     ]
    },
    {
     "name": "stderr",
     "output_type": "stream",
     "text": [
      "\r",
      "26223it [01:13, 333.90it/s]"
     ]
    },
    {
     "name": "stderr",
     "output_type": "stream",
     "text": [
      "\r",
      "26257it [01:13, 324.05it/s]"
     ]
    },
    {
     "name": "stderr",
     "output_type": "stream",
     "text": [
      "\r",
      "26292it [01:14, 329.30it/s]"
     ]
    },
    {
     "name": "stderr",
     "output_type": "stream",
     "text": [
      "\r",
      "26325it [01:14, 326.77it/s]"
     ]
    },
    {
     "name": "stderr",
     "output_type": "stream",
     "text": [
      "\r",
      "26358it [01:14, 327.38it/s]"
     ]
    },
    {
     "name": "stderr",
     "output_type": "stream",
     "text": [
      "\r",
      "26392it [01:14, 330.60it/s]"
     ]
    },
    {
     "name": "stderr",
     "output_type": "stream",
     "text": [
      "\r",
      "26426it [01:14, 328.27it/s]"
     ]
    },
    {
     "name": "stderr",
     "output_type": "stream",
     "text": [
      "\r",
      "26459it [01:14, 325.75it/s]"
     ]
    },
    {
     "name": "stderr",
     "output_type": "stream",
     "text": [
      "\r",
      "26494it [01:14, 331.30it/s]"
     ]
    },
    {
     "name": "stderr",
     "output_type": "stream",
     "text": [
      "\r",
      "26531it [01:14, 340.37it/s]"
     ]
    },
    {
     "name": "stderr",
     "output_type": "stream",
     "text": [
      "\r",
      "26566it [01:14, 336.64it/s]"
     ]
    },
    {
     "name": "stderr",
     "output_type": "stream",
     "text": [
      "\r",
      "26600it [01:14, 335.11it/s]"
     ]
    },
    {
     "name": "stderr",
     "output_type": "stream",
     "text": [
      "\r",
      "26634it [01:15, 335.33it/s]"
     ]
    },
    {
     "name": "stderr",
     "output_type": "stream",
     "text": [
      "\r",
      "26668it [01:15, 329.57it/s]"
     ]
    },
    {
     "name": "stderr",
     "output_type": "stream",
     "text": [
      "\r",
      "26702it [01:15, 329.66it/s]"
     ]
    },
    {
     "name": "stderr",
     "output_type": "stream",
     "text": [
      "\r",
      "26736it [01:15, 332.07it/s]"
     ]
    },
    {
     "name": "stderr",
     "output_type": "stream",
     "text": [
      "\r",
      "26770it [01:15, 319.45it/s]"
     ]
    },
    {
     "name": "stderr",
     "output_type": "stream",
     "text": [
      "\r",
      "26806it [01:15, 328.54it/s]"
     ]
    },
    {
     "name": "stderr",
     "output_type": "stream",
     "text": [
      "\r",
      "26841it [01:15, 333.05it/s]"
     ]
    },
    {
     "name": "stderr",
     "output_type": "stream",
     "text": [
      "\r",
      "26877it [01:15, 339.27it/s]"
     ]
    },
    {
     "name": "stderr",
     "output_type": "stream",
     "text": [
      "\r",
      "26912it [01:15, 339.40it/s]"
     ]
    },
    {
     "name": "stderr",
     "output_type": "stream",
     "text": [
      "\r",
      "26946it [01:16, 336.95it/s]"
     ]
    },
    {
     "name": "stderr",
     "output_type": "stream",
     "text": [
      "\r",
      "26980it [01:16, 331.98it/s]"
     ]
    },
    {
     "name": "stderr",
     "output_type": "stream",
     "text": [
      "\r",
      "27014it [01:16, 333.59it/s]"
     ]
    },
    {
     "name": "stderr",
     "output_type": "stream",
     "text": [
      "\r",
      "27049it [01:16, 335.11it/s]"
     ]
    },
    {
     "name": "stderr",
     "output_type": "stream",
     "text": [
      "\r",
      "27083it [01:16, 333.65it/s]"
     ]
    },
    {
     "name": "stderr",
     "output_type": "stream",
     "text": [
      "\r",
      "27123it [01:16, 352.42it/s]"
     ]
    },
    {
     "name": "stderr",
     "output_type": "stream",
     "text": [
      "\r",
      "27159it [01:16, 350.57it/s]"
     ]
    },
    {
     "name": "stderr",
     "output_type": "stream",
     "text": [
      "\r",
      "27197it [01:16, 357.92it/s]"
     ]
    },
    {
     "name": "stderr",
     "output_type": "stream",
     "text": [
      "\r",
      "27233it [01:16, 352.00it/s]"
     ]
    },
    {
     "name": "stderr",
     "output_type": "stream",
     "text": [
      "\r",
      "27269it [01:16, 350.31it/s]"
     ]
    },
    {
     "name": "stderr",
     "output_type": "stream",
     "text": [
      "\r",
      "27305it [01:17, 347.44it/s]"
     ]
    },
    {
     "name": "stderr",
     "output_type": "stream",
     "text": [
      "\r",
      "27340it [01:17, 344.10it/s]"
     ]
    },
    {
     "name": "stderr",
     "output_type": "stream",
     "text": [
      "\r",
      "27375it [01:17, 341.51it/s]"
     ]
    },
    {
     "name": "stderr",
     "output_type": "stream",
     "text": [
      "\r",
      "27410it [01:17, 337.59it/s]"
     ]
    },
    {
     "name": "stderr",
     "output_type": "stream",
     "text": [
      "\r",
      "27444it [01:17, 335.88it/s]"
     ]
    },
    {
     "name": "stderr",
     "output_type": "stream",
     "text": [
      "\r",
      "27478it [01:17, 334.13it/s]"
     ]
    },
    {
     "name": "stderr",
     "output_type": "stream",
     "text": [
      "\r",
      "27513it [01:17, 337.77it/s]"
     ]
    },
    {
     "name": "stderr",
     "output_type": "stream",
     "text": [
      "\r",
      "27547it [01:17, 336.40it/s]"
     ]
    },
    {
     "name": "stderr",
     "output_type": "stream",
     "text": [
      "\r",
      "27582it [01:17, 338.96it/s]"
     ]
    },
    {
     "name": "stderr",
     "output_type": "stream",
     "text": [
      "\r",
      "27618it [01:17, 342.61it/s]"
     ]
    },
    {
     "name": "stderr",
     "output_type": "stream",
     "text": [
      "\r",
      "27653it [01:18, 336.04it/s]"
     ]
    },
    {
     "name": "stderr",
     "output_type": "stream",
     "text": [
      "\r",
      "27687it [01:18, 335.79it/s]"
     ]
    },
    {
     "name": "stderr",
     "output_type": "stream",
     "text": [
      "\r",
      "27723it [01:18, 342.72it/s]"
     ]
    },
    {
     "name": "stderr",
     "output_type": "stream",
     "text": [
      "\r",
      "27758it [01:18, 339.10it/s]"
     ]
    },
    {
     "name": "stderr",
     "output_type": "stream",
     "text": [
      "\r",
      "27792it [01:18, 336.69it/s]"
     ]
    },
    {
     "name": "stderr",
     "output_type": "stream",
     "text": [
      "\r",
      "27826it [01:18, 332.00it/s]"
     ]
    },
    {
     "name": "stderr",
     "output_type": "stream",
     "text": [
      "\r",
      "27862it [01:18, 338.23it/s]"
     ]
    },
    {
     "name": "stderr",
     "output_type": "stream",
     "text": [
      "\r",
      "27896it [01:18, 330.18it/s]"
     ]
    },
    {
     "name": "stderr",
     "output_type": "stream",
     "text": [
      "\r",
      "27930it [01:18, 327.23it/s]"
     ]
    },
    {
     "name": "stderr",
     "output_type": "stream",
     "text": [
      "\r",
      "27963it [01:19, 327.81it/s]"
     ]
    },
    {
     "name": "stderr",
     "output_type": "stream",
     "text": [
      "\r",
      "27997it [01:19, 330.70it/s]"
     ]
    },
    {
     "name": "stderr",
     "output_type": "stream",
     "text": [
      "\r",
      "28036it [01:19, 347.97it/s]"
     ]
    },
    {
     "name": "stderr",
     "output_type": "stream",
     "text": [
      "\r",
      "28072it [01:19, 349.16it/s]"
     ]
    },
    {
     "name": "stderr",
     "output_type": "stream",
     "text": [
      "\r",
      "28107it [01:19, 340.37it/s]"
     ]
    },
    {
     "name": "stderr",
     "output_type": "stream",
     "text": [
      "\r",
      "28142it [01:19, 337.53it/s]"
     ]
    },
    {
     "name": "stderr",
     "output_type": "stream",
     "text": [
      "\r",
      "28176it [01:19, 335.21it/s]"
     ]
    },
    {
     "name": "stderr",
     "output_type": "stream",
     "text": [
      "\r",
      "28210it [01:19, 333.10it/s]"
     ]
    },
    {
     "name": "stderr",
     "output_type": "stream",
     "text": [
      "\r",
      "28244it [01:19, 333.97it/s]"
     ]
    },
    {
     "name": "stderr",
     "output_type": "stream",
     "text": [
      "\r",
      "28278it [01:19, 328.90it/s]"
     ]
    },
    {
     "name": "stderr",
     "output_type": "stream",
     "text": [
      "\r",
      "28311it [01:20, 326.26it/s]"
     ]
    },
    {
     "name": "stderr",
     "output_type": "stream",
     "text": [
      "\r",
      "28346it [01:20, 332.98it/s]"
     ]
    },
    {
     "name": "stderr",
     "output_type": "stream",
     "text": [
      "\r",
      "28380it [01:20, 328.60it/s]"
     ]
    },
    {
     "name": "stderr",
     "output_type": "stream",
     "text": [
      "\r",
      "28413it [01:20, 327.31it/s]"
     ]
    },
    {
     "name": "stderr",
     "output_type": "stream",
     "text": [
      "\r",
      "28451it [01:20, 340.12it/s]"
     ]
    },
    {
     "name": "stderr",
     "output_type": "stream",
     "text": [
      "\r",
      "28486it [01:20, 337.13it/s]"
     ]
    },
    {
     "name": "stderr",
     "output_type": "stream",
     "text": [
      "\r",
      "28520it [01:20, 337.69it/s]"
     ]
    },
    {
     "name": "stderr",
     "output_type": "stream",
     "text": [
      "\r",
      "28554it [01:20, 336.15it/s]"
     ]
    },
    {
     "name": "stderr",
     "output_type": "stream",
     "text": [
      "\r",
      "28588it [01:20, 334.90it/s]"
     ]
    },
    {
     "name": "stderr",
     "output_type": "stream",
     "text": [
      "\r",
      "28623it [01:20, 336.77it/s]"
     ]
    },
    {
     "name": "stderr",
     "output_type": "stream",
     "text": [
      "\r",
      "28657it [01:21, 332.68it/s]"
     ]
    },
    {
     "name": "stderr",
     "output_type": "stream",
     "text": [
      "\r",
      "28691it [01:21, 323.83it/s]"
     ]
    },
    {
     "name": "stderr",
     "output_type": "stream",
     "text": [
      "\r",
      "28724it [01:21, 324.34it/s]"
     ]
    },
    {
     "name": "stderr",
     "output_type": "stream",
     "text": [
      "\r",
      "28761it [01:21, 337.34it/s]"
     ]
    },
    {
     "name": "stderr",
     "output_type": "stream",
     "text": [
      "\r",
      "28796it [01:21, 340.38it/s]"
     ]
    },
    {
     "name": "stderr",
     "output_type": "stream",
     "text": [
      "\r",
      "28831it [01:21, 341.02it/s]"
     ]
    },
    {
     "name": "stderr",
     "output_type": "stream",
     "text": [
      "\r",
      "28869it [01:21, 350.48it/s]"
     ]
    },
    {
     "name": "stderr",
     "output_type": "stream",
     "text": [
      "\r",
      "28905it [01:21, 284.37it/s]"
     ]
    },
    {
     "name": "stderr",
     "output_type": "stream",
     "text": [
      "\r",
      "28941it [01:21, 303.52it/s]"
     ]
    },
    {
     "name": "stderr",
     "output_type": "stream",
     "text": [
      "\r",
      "28978it [01:22, 317.48it/s]"
     ]
    },
    {
     "name": "stderr",
     "output_type": "stream",
     "text": [
      "\r",
      "29013it [01:22, 323.85it/s]"
     ]
    },
    {
     "name": "stderr",
     "output_type": "stream",
     "text": [
      "\r",
      "29054it [01:22, 346.94it/s]"
     ]
    },
    {
     "name": "stderr",
     "output_type": "stream",
     "text": [
      "\r",
      "29090it [01:22, 349.69it/s]"
     ]
    },
    {
     "name": "stderr",
     "output_type": "stream",
     "text": [
      "\r",
      "29128it [01:22, 355.25it/s]"
     ]
    },
    {
     "name": "stderr",
     "output_type": "stream",
     "text": [
      "\r",
      "29165it [01:22, 356.92it/s]"
     ]
    },
    {
     "name": "stderr",
     "output_type": "stream",
     "text": [
      "\r",
      "29202it [01:22, 354.39it/s]"
     ]
    },
    {
     "name": "stderr",
     "output_type": "stream",
     "text": [
      "\r",
      "29238it [01:22, 354.23it/s]"
     ]
    },
    {
     "name": "stderr",
     "output_type": "stream",
     "text": [
      "\r",
      "29274it [01:22, 354.81it/s]"
     ]
    },
    {
     "name": "stderr",
     "output_type": "stream",
     "text": [
      "\r",
      "29310it [01:23, 347.45it/s]"
     ]
    },
    {
     "name": "stderr",
     "output_type": "stream",
     "text": [
      "\r",
      "29345it [01:23, 346.98it/s]"
     ]
    },
    {
     "name": "stderr",
     "output_type": "stream",
     "text": [
      "\r",
      "29381it [01:23, 348.18it/s]"
     ]
    },
    {
     "name": "stderr",
     "output_type": "stream",
     "text": [
      "\r",
      "29416it [01:23, 348.20it/s]"
     ]
    },
    {
     "name": "stderr",
     "output_type": "stream",
     "text": [
      "\r",
      "29453it [01:23, 352.08it/s]"
     ]
    },
    {
     "name": "stderr",
     "output_type": "stream",
     "text": [
      "\r",
      "29489it [01:23, 346.92it/s]"
     ]
    },
    {
     "name": "stderr",
     "output_type": "stream",
     "text": [
      "\r",
      "29525it [01:23, 348.71it/s]"
     ]
    },
    {
     "name": "stderr",
     "output_type": "stream",
     "text": [
      "\r",
      "29561it [01:23, 350.14it/s]"
     ]
    },
    {
     "name": "stderr",
     "output_type": "stream",
     "text": [
      "\r",
      "29597it [01:23, 347.41it/s]"
     ]
    },
    {
     "name": "stderr",
     "output_type": "stream",
     "text": [
      "\r",
      "29632it [01:23, 345.07it/s]"
     ]
    },
    {
     "name": "stderr",
     "output_type": "stream",
     "text": [
      "\r",
      "29667it [01:24, 343.97it/s]"
     ]
    },
    {
     "name": "stderr",
     "output_type": "stream",
     "text": [
      "\r",
      "29703it [01:24, 346.61it/s]"
     ]
    },
    {
     "name": "stderr",
     "output_type": "stream",
     "text": [
      "\r",
      "29738it [01:24, 346.47it/s]"
     ]
    },
    {
     "name": "stderr",
     "output_type": "stream",
     "text": [
      "\r",
      "29773it [01:24, 344.11it/s]"
     ]
    },
    {
     "name": "stderr",
     "output_type": "stream",
     "text": [
      "\r",
      "29809it [01:24, 347.59it/s]"
     ]
    },
    {
     "name": "stderr",
     "output_type": "stream",
     "text": [
      "\r",
      "29844it [01:24, 341.66it/s]"
     ]
    },
    {
     "name": "stderr",
     "output_type": "stream",
     "text": [
      "\r",
      "29882it [01:24, 350.01it/s]"
     ]
    },
    {
     "name": "stderr",
     "output_type": "stream",
     "text": [
      "\r",
      "29918it [01:24, 349.15it/s]"
     ]
    },
    {
     "name": "stderr",
     "output_type": "stream",
     "text": [
      "\r",
      "29954it [01:24, 350.24it/s]"
     ]
    },
    {
     "name": "stderr",
     "output_type": "stream",
     "text": [
      "\r",
      "29990it [01:24, 339.36it/s]"
     ]
    },
    {
     "name": "stderr",
     "output_type": "stream",
     "text": [
      "\r",
      "30026it [01:25, 343.01it/s]"
     ]
    },
    {
     "name": "stderr",
     "output_type": "stream",
     "text": [
      "\r",
      "30061it [01:25, 334.65it/s]"
     ]
    },
    {
     "name": "stderr",
     "output_type": "stream",
     "text": [
      "\r",
      "30097it [01:25, 341.29it/s]"
     ]
    },
    {
     "name": "stderr",
     "output_type": "stream",
     "text": [
      "\r",
      "30132it [01:25, 342.66it/s]"
     ]
    },
    {
     "name": "stderr",
     "output_type": "stream",
     "text": [
      "\r",
      "30167it [01:25, 341.54it/s]"
     ]
    },
    {
     "name": "stderr",
     "output_type": "stream",
     "text": [
      "\r",
      "30202it [01:25, 341.11it/s]"
     ]
    },
    {
     "name": "stderr",
     "output_type": "stream",
     "text": [
      "\r",
      "30237it [01:25, 340.48it/s]"
     ]
    },
    {
     "name": "stderr",
     "output_type": "stream",
     "text": [
      "\r",
      "30272it [01:25, 341.03it/s]"
     ]
    },
    {
     "name": "stderr",
     "output_type": "stream",
     "text": [
      "\r",
      "30307it [01:25, 342.95it/s]"
     ]
    },
    {
     "name": "stderr",
     "output_type": "stream",
     "text": [
      "\r",
      "30346it [01:26, 353.41it/s]"
     ]
    },
    {
     "name": "stderr",
     "output_type": "stream",
     "text": [
      "\r",
      "30382it [01:26, 352.05it/s]"
     ]
    },
    {
     "name": "stderr",
     "output_type": "stream",
     "text": [
      "\r",
      "30418it [01:26, 352.43it/s]"
     ]
    },
    {
     "name": "stderr",
     "output_type": "stream",
     "text": [
      "\r",
      "30454it [01:26, 352.96it/s]"
     ]
    },
    {
     "name": "stderr",
     "output_type": "stream",
     "text": [
      "\r",
      "30490it [01:26, 352.19it/s]"
     ]
    },
    {
     "name": "stderr",
     "output_type": "stream",
     "text": [
      "\r",
      "30526it [01:26, 350.45it/s]"
     ]
    },
    {
     "name": "stderr",
     "output_type": "stream",
     "text": [
      "\r",
      "30562it [01:26, 352.83it/s]"
     ]
    },
    {
     "name": "stderr",
     "output_type": "stream",
     "text": [
      "\r",
      "30598it [01:26, 344.76it/s]"
     ]
    },
    {
     "name": "stderr",
     "output_type": "stream",
     "text": [
      "\r",
      "30637it [01:26, 355.80it/s]"
     ]
    },
    {
     "name": "stderr",
     "output_type": "stream",
     "text": [
      "\r",
      "30674it [01:26, 358.14it/s]"
     ]
    },
    {
     "name": "stderr",
     "output_type": "stream",
     "text": [
      "\r",
      "30711it [01:27, 357.22it/s]"
     ]
    },
    {
     "name": "stderr",
     "output_type": "stream",
     "text": [
      "\r",
      "30750it [01:27, 365.33it/s]"
     ]
    },
    {
     "name": "stderr",
     "output_type": "stream",
     "text": [
      "\r",
      "30787it [01:27, 353.46it/s]"
     ]
    },
    {
     "name": "stderr",
     "output_type": "stream",
     "text": [
      "\r",
      "30825it [01:27, 358.09it/s]"
     ]
    },
    {
     "name": "stderr",
     "output_type": "stream",
     "text": [
      "\r",
      "30862it [01:27, 360.49it/s]"
     ]
    },
    {
     "name": "stderr",
     "output_type": "stream",
     "text": [
      "\r",
      "30899it [01:27, 357.79it/s]"
     ]
    },
    {
     "name": "stderr",
     "output_type": "stream",
     "text": [
      "\r",
      "30940it [01:27, 371.90it/s]"
     ]
    },
    {
     "name": "stderr",
     "output_type": "stream",
     "text": [
      "\r",
      "30978it [01:27, 372.05it/s]"
     ]
    },
    {
     "name": "stderr",
     "output_type": "stream",
     "text": [
      "\r",
      "31019it [01:27, 382.11it/s]"
     ]
    },
    {
     "name": "stderr",
     "output_type": "stream",
     "text": [
      "\r",
      "31058it [01:27, 374.90it/s]"
     ]
    },
    {
     "name": "stderr",
     "output_type": "stream",
     "text": [
      "\r",
      "31096it [01:28, 371.21it/s]"
     ]
    },
    {
     "name": "stderr",
     "output_type": "stream",
     "text": [
      "\r",
      "31134it [01:28, 365.47it/s]"
     ]
    },
    {
     "name": "stderr",
     "output_type": "stream",
     "text": [
      "\r",
      "31171it [01:28, 358.92it/s]"
     ]
    },
    {
     "name": "stderr",
     "output_type": "stream",
     "text": [
      "\r",
      "31208it [01:28, 360.00it/s]"
     ]
    },
    {
     "name": "stderr",
     "output_type": "stream",
     "text": [
      "\r",
      "31245it [01:28, 357.49it/s]"
     ]
    },
    {
     "name": "stderr",
     "output_type": "stream",
     "text": [
      "\r",
      "31281it [01:28, 350.10it/s]"
     ]
    },
    {
     "name": "stderr",
     "output_type": "stream",
     "text": [
      "\r",
      "31318it [01:28, 353.93it/s]"
     ]
    },
    {
     "name": "stderr",
     "output_type": "stream",
     "text": [
      "\r",
      "31355it [01:28, 358.37it/s]"
     ]
    },
    {
     "name": "stderr",
     "output_type": "stream",
     "text": [
      "\r",
      "31392it [01:28, 361.62it/s]"
     ]
    },
    {
     "name": "stderr",
     "output_type": "stream",
     "text": [
      "\r",
      "31429it [01:29, 363.07it/s]"
     ]
    },
    {
     "name": "stderr",
     "output_type": "stream",
     "text": [
      "\r",
      "31466it [01:29, 361.75it/s]"
     ]
    },
    {
     "name": "stderr",
     "output_type": "stream",
     "text": [
      "\r",
      "31503it [01:29, 353.12it/s]"
     ]
    },
    {
     "name": "stderr",
     "output_type": "stream",
     "text": [
      "\r",
      "31540it [01:29, 357.48it/s]"
     ]
    },
    {
     "name": "stderr",
     "output_type": "stream",
     "text": [
      "\r",
      "31576it [01:29, 356.64it/s]"
     ]
    },
    {
     "name": "stderr",
     "output_type": "stream",
     "text": [
      "\r",
      "31612it [01:29, 356.81it/s]"
     ]
    },
    {
     "name": "stderr",
     "output_type": "stream",
     "text": [
      "\r",
      "31648it [01:29, 353.77it/s]"
     ]
    },
    {
     "name": "stderr",
     "output_type": "stream",
     "text": [
      "\r",
      "31685it [01:29, 355.58it/s]"
     ]
    },
    {
     "name": "stderr",
     "output_type": "stream",
     "text": [
      "\r",
      "31721it [01:29, 353.08it/s]"
     ]
    },
    {
     "name": "stderr",
     "output_type": "stream",
     "text": [
      "\r",
      "31758it [01:29, 357.94it/s]"
     ]
    },
    {
     "name": "stderr",
     "output_type": "stream",
     "text": [
      "\r",
      "31794it [01:30, 351.90it/s]"
     ]
    },
    {
     "name": "stderr",
     "output_type": "stream",
     "text": [
      "\r",
      "31830it [01:30, 344.81it/s]"
     ]
    },
    {
     "name": "stderr",
     "output_type": "stream",
     "text": [
      "\r",
      "31865it [01:30, 345.70it/s]"
     ]
    },
    {
     "name": "stderr",
     "output_type": "stream",
     "text": [
      "\r",
      "31901it [01:30, 346.89it/s]"
     ]
    },
    {
     "name": "stderr",
     "output_type": "stream",
     "text": [
      "\r",
      "31936it [01:30, 345.58it/s]"
     ]
    },
    {
     "name": "stderr",
     "output_type": "stream",
     "text": [
      "\r",
      "31971it [01:30, 343.16it/s]"
     ]
    },
    {
     "name": "stderr",
     "output_type": "stream",
     "text": [
      "\r",
      "32006it [01:30, 338.20it/s]"
     ]
    },
    {
     "name": "stderr",
     "output_type": "stream",
     "text": [
      "\r",
      "32043it [01:30, 346.14it/s]"
     ]
    },
    {
     "name": "stderr",
     "output_type": "stream",
     "text": [
      "\r",
      "32079it [01:30, 349.80it/s]"
     ]
    },
    {
     "name": "stderr",
     "output_type": "stream",
     "text": [
      "\r",
      "32115it [01:30, 351.78it/s]"
     ]
    },
    {
     "name": "stderr",
     "output_type": "stream",
     "text": [
      "\r",
      "32151it [01:31, 353.70it/s]"
     ]
    },
    {
     "name": "stderr",
     "output_type": "stream",
     "text": [
      "\r",
      "32187it [01:31, 354.57it/s]"
     ]
    },
    {
     "name": "stderr",
     "output_type": "stream",
     "text": [
      "\r",
      "32223it [01:31, 350.85it/s]"
     ]
    },
    {
     "name": "stderr",
     "output_type": "stream",
     "text": [
      "\r",
      "32263it [01:31, 363.99it/s]"
     ]
    },
    {
     "name": "stderr",
     "output_type": "stream",
     "text": [
      "\r",
      "32300it [01:31, 359.49it/s]"
     ]
    },
    {
     "name": "stderr",
     "output_type": "stream",
     "text": [
      "\r",
      "32336it [01:31, 357.76it/s]"
     ]
    },
    {
     "name": "stderr",
     "output_type": "stream",
     "text": [
      "\r",
      "32373it [01:31, 357.96it/s]"
     ]
    },
    {
     "name": "stderr",
     "output_type": "stream",
     "text": [
      "\r",
      "32409it [01:31, 352.67it/s]"
     ]
    },
    {
     "name": "stderr",
     "output_type": "stream",
     "text": [
      "\r",
      "32446it [01:31, 357.31it/s]"
     ]
    },
    {
     "name": "stderr",
     "output_type": "stream",
     "text": [
      "\r",
      "32483it [01:32, 359.24it/s]"
     ]
    },
    {
     "name": "stderr",
     "output_type": "stream",
     "text": [
      "\r",
      "32519it [01:32, 343.67it/s]"
     ]
    },
    {
     "name": "stderr",
     "output_type": "stream",
     "text": [
      "\r",
      "32556it [01:32, 351.03it/s]"
     ]
    },
    {
     "name": "stderr",
     "output_type": "stream",
     "text": [
      "\r",
      "32594it [01:32, 357.66it/s]"
     ]
    },
    {
     "name": "stderr",
     "output_type": "stream",
     "text": [
      "\r",
      "32631it [01:32, 359.52it/s]"
     ]
    },
    {
     "name": "stderr",
     "output_type": "stream",
     "text": [
      "\r",
      "32668it [01:32, 362.01it/s]"
     ]
    },
    {
     "name": "stderr",
     "output_type": "stream",
     "text": [
      "\r",
      "32705it [01:32, 355.08it/s]"
     ]
    },
    {
     "name": "stderr",
     "output_type": "stream",
     "text": [
      "\r",
      "32741it [01:32, 353.38it/s]"
     ]
    },
    {
     "name": "stderr",
     "output_type": "stream",
     "text": [
      "\r",
      "32780it [01:32, 361.37it/s]"
     ]
    },
    {
     "name": "stderr",
     "output_type": "stream",
     "text": [
      "\r",
      "32817it [01:32, 361.91it/s]"
     ]
    },
    {
     "name": "stderr",
     "output_type": "stream",
     "text": [
      "\r",
      "32857it [01:33, 370.99it/s]"
     ]
    },
    {
     "name": "stderr",
     "output_type": "stream",
     "text": [
      "\r",
      "32895it [01:33, 373.22it/s]"
     ]
    },
    {
     "name": "stderr",
     "output_type": "stream",
     "text": [
      "\r",
      "32933it [01:33, 372.38it/s]"
     ]
    },
    {
     "name": "stderr",
     "output_type": "stream",
     "text": [
      "\r",
      "32971it [01:33, 370.72it/s]"
     ]
    },
    {
     "name": "stderr",
     "output_type": "stream",
     "text": [
      "\r",
      "33009it [01:33, 371.90it/s]"
     ]
    },
    {
     "name": "stderr",
     "output_type": "stream",
     "text": [
      "\r",
      "33047it [01:33, 369.40it/s]"
     ]
    },
    {
     "name": "stderr",
     "output_type": "stream",
     "text": [
      "\r",
      "33084it [01:33, 366.97it/s]"
     ]
    },
    {
     "name": "stderr",
     "output_type": "stream",
     "text": [
      "\r",
      "33121it [01:33, 363.32it/s]"
     ]
    },
    {
     "name": "stderr",
     "output_type": "stream",
     "text": [
      "\r",
      "33158it [01:33, 364.05it/s]"
     ]
    },
    {
     "name": "stderr",
     "output_type": "stream",
     "text": [
      "\r",
      "33195it [01:33, 359.15it/s]"
     ]
    },
    {
     "name": "stderr",
     "output_type": "stream",
     "text": [
      "\r",
      "33232it [01:34, 360.60it/s]"
     ]
    },
    {
     "name": "stderr",
     "output_type": "stream",
     "text": [
      "\r",
      "33269it [01:34, 362.25it/s]"
     ]
    },
    {
     "name": "stderr",
     "output_type": "stream",
     "text": [
      "\r",
      "33306it [01:34, 359.34it/s]"
     ]
    },
    {
     "name": "stderr",
     "output_type": "stream",
     "text": [
      "\r",
      "33345it [01:34, 365.81it/s]"
     ]
    },
    {
     "name": "stderr",
     "output_type": "stream",
     "text": [
      "\r",
      "33382it [01:34, 362.19it/s]"
     ]
    },
    {
     "name": "stderr",
     "output_type": "stream",
     "text": [
      "\r",
      "33419it [01:34, 358.98it/s]"
     ]
    },
    {
     "name": "stderr",
     "output_type": "stream",
     "text": [
      "\r",
      "33456it [01:34, 360.54it/s]"
     ]
    },
    {
     "name": "stderr",
     "output_type": "stream",
     "text": [
      "\r",
      "33493it [01:34, 358.64it/s]"
     ]
    },
    {
     "name": "stderr",
     "output_type": "stream",
     "text": [
      "\r",
      "33529it [01:34, 357.73it/s]"
     ]
    },
    {
     "name": "stderr",
     "output_type": "stream",
     "text": [
      "\r",
      "33565it [01:35, 356.19it/s]"
     ]
    },
    {
     "name": "stderr",
     "output_type": "stream",
     "text": [
      "\r",
      "33601it [01:35, 355.23it/s]"
     ]
    },
    {
     "name": "stderr",
     "output_type": "stream",
     "text": [
      "\r",
      "33637it [01:35, 350.90it/s]"
     ]
    },
    {
     "name": "stderr",
     "output_type": "stream",
     "text": [
      "\r",
      "33673it [01:35, 348.68it/s]"
     ]
    },
    {
     "name": "stderr",
     "output_type": "stream",
     "text": [
      "\r",
      "33710it [01:35, 352.95it/s]"
     ]
    },
    {
     "name": "stderr",
     "output_type": "stream",
     "text": [
      "\r",
      "33747it [01:35, 355.43it/s]"
     ]
    },
    {
     "name": "stderr",
     "output_type": "stream",
     "text": [
      "\r",
      "33783it [01:35, 354.80it/s]"
     ]
    },
    {
     "name": "stderr",
     "output_type": "stream",
     "text": [
      "\r",
      "33819it [01:35, 353.92it/s]"
     ]
    },
    {
     "name": "stderr",
     "output_type": "stream",
     "text": [
      "\r",
      "33855it [01:35, 355.10it/s]"
     ]
    },
    {
     "name": "stderr",
     "output_type": "stream",
     "text": [
      "\r",
      "33891it [01:35, 354.75it/s]"
     ]
    },
    {
     "name": "stderr",
     "output_type": "stream",
     "text": [
      "\r",
      "33927it [01:36, 351.74it/s]"
     ]
    },
    {
     "name": "stderr",
     "output_type": "stream",
     "text": [
      "\r",
      "33964it [01:36, 354.65it/s]"
     ]
    },
    {
     "name": "stderr",
     "output_type": "stream",
     "text": [
      "\r",
      "34000it [01:36, 336.80it/s]"
     ]
    },
    {
     "name": "stderr",
     "output_type": "stream",
     "text": [
      "\r",
      "34036it [01:36, 342.84it/s]"
     ]
    },
    {
     "name": "stderr",
     "output_type": "stream",
     "text": [
      "\r",
      "34071it [01:36, 343.30it/s]"
     ]
    },
    {
     "name": "stderr",
     "output_type": "stream",
     "text": [
      "\r",
      "34106it [01:36, 339.80it/s]"
     ]
    },
    {
     "name": "stderr",
     "output_type": "stream",
     "text": [
      "\r",
      "34141it [01:36, 341.59it/s]"
     ]
    },
    {
     "name": "stderr",
     "output_type": "stream",
     "text": [
      "\r",
      "34180it [01:36, 355.60it/s]"
     ]
    },
    {
     "name": "stderr",
     "output_type": "stream",
     "text": [
      "\r",
      "34216it [01:36, 355.77it/s]"
     ]
    },
    {
     "name": "stderr",
     "output_type": "stream",
     "text": [
      "\r",
      "34252it [01:36, 354.54it/s]"
     ]
    },
    {
     "name": "stderr",
     "output_type": "stream",
     "text": [
      "\r",
      "34288it [01:37, 354.75it/s]"
     ]
    },
    {
     "name": "stderr",
     "output_type": "stream",
     "text": [
      "\r",
      "34324it [01:37, 352.47it/s]"
     ]
    },
    {
     "name": "stderr",
     "output_type": "stream",
     "text": [
      "\r",
      "34360it [01:37, 348.50it/s]"
     ]
    },
    {
     "name": "stderr",
     "output_type": "stream",
     "text": [
      "\r",
      "34397it [01:37, 351.34it/s]"
     ]
    },
    {
     "name": "stderr",
     "output_type": "stream",
     "text": [
      "\r",
      "34433it [01:37, 346.73it/s]"
     ]
    },
    {
     "name": "stderr",
     "output_type": "stream",
     "text": [
      "\r",
      "34472it [01:37, 357.02it/s]"
     ]
    },
    {
     "name": "stderr",
     "output_type": "stream",
     "text": [
      "\r",
      "34509it [01:37, 359.67it/s]"
     ]
    },
    {
     "name": "stderr",
     "output_type": "stream",
     "text": [
      "\r",
      "34546it [01:37, 361.11it/s]"
     ]
    },
    {
     "name": "stderr",
     "output_type": "stream",
     "text": [
      "\r",
      "34583it [01:37, 363.55it/s]"
     ]
    },
    {
     "name": "stderr",
     "output_type": "stream",
     "text": [
      "\r",
      "34620it [01:38, 349.77it/s]"
     ]
    },
    {
     "name": "stderr",
     "output_type": "stream",
     "text": [
      "\r",
      "34656it [01:38, 350.54it/s]"
     ]
    },
    {
     "name": "stderr",
     "output_type": "stream",
     "text": [
      "\r",
      "34692it [01:38, 352.46it/s]"
     ]
    },
    {
     "name": "stderr",
     "output_type": "stream",
     "text": [
      "\r",
      "34728it [01:38, 351.20it/s]"
     ]
    },
    {
     "name": "stderr",
     "output_type": "stream",
     "text": [
      "\r",
      "34770it [01:38, 369.27it/s]"
     ]
    },
    {
     "name": "stderr",
     "output_type": "stream",
     "text": [
      "\r",
      "34807it [01:38, 365.20it/s]"
     ]
    },
    {
     "name": "stderr",
     "output_type": "stream",
     "text": [
      "\r",
      "34846it [01:38, 370.39it/s]"
     ]
    },
    {
     "name": "stderr",
     "output_type": "stream",
     "text": [
      "\r",
      "34884it [01:38, 367.42it/s]"
     ]
    },
    {
     "name": "stderr",
     "output_type": "stream",
     "text": [
      "\r",
      "34921it [01:38, 360.23it/s]"
     ]
    },
    {
     "name": "stderr",
     "output_type": "stream",
     "text": [
      "\r",
      "34958it [01:38, 360.08it/s]"
     ]
    },
    {
     "name": "stderr",
     "output_type": "stream",
     "text": [
      "\r",
      "34995it [01:39, 351.82it/s]"
     ]
    },
    {
     "name": "stderr",
     "output_type": "stream",
     "text": [
      "\r",
      "35031it [01:39, 352.09it/s]"
     ]
    },
    {
     "name": "stderr",
     "output_type": "stream",
     "text": [
      "\r",
      "35067it [01:39, 350.83it/s]"
     ]
    },
    {
     "name": "stderr",
     "output_type": "stream",
     "text": [
      "\r",
      "35103it [01:39, 351.41it/s]"
     ]
    },
    {
     "name": "stderr",
     "output_type": "stream",
     "text": [
      "\r",
      "35140it [01:39, 354.78it/s]"
     ]
    },
    {
     "name": "stderr",
     "output_type": "stream",
     "text": [
      "\r",
      "35177it [01:39, 357.59it/s]"
     ]
    },
    {
     "name": "stderr",
     "output_type": "stream",
     "text": [
      "\r",
      "35213it [01:39, 350.72it/s]"
     ]
    },
    {
     "name": "stderr",
     "output_type": "stream",
     "text": [
      "\r",
      "35251it [01:39, 358.03it/s]"
     ]
    },
    {
     "name": "stderr",
     "output_type": "stream",
     "text": [
      "\r",
      "35287it [01:39, 353.50it/s]"
     ]
    },
    {
     "name": "stderr",
     "output_type": "stream",
     "text": [
      "\r",
      "35323it [01:39, 350.78it/s]"
     ]
    },
    {
     "name": "stderr",
     "output_type": "stream",
     "text": [
      "\r",
      "35359it [01:40, 351.57it/s]"
     ]
    },
    {
     "name": "stderr",
     "output_type": "stream",
     "text": [
      "\r",
      "35395it [01:40, 353.28it/s]"
     ]
    },
    {
     "name": "stderr",
     "output_type": "stream",
     "text": [
      "\r",
      "35431it [01:40, 350.94it/s]"
     ]
    },
    {
     "name": "stderr",
     "output_type": "stream",
     "text": [
      "\r",
      "35467it [01:40, 347.61it/s]"
     ]
    },
    {
     "name": "stderr",
     "output_type": "stream",
     "text": [
      "\r",
      "35502it [01:40, 348.07it/s]"
     ]
    },
    {
     "name": "stderr",
     "output_type": "stream",
     "text": [
      "\r",
      "35537it [01:40, 346.11it/s]"
     ]
    },
    {
     "name": "stderr",
     "output_type": "stream",
     "text": [
      "\r",
      "35572it [01:40, 343.09it/s]"
     ]
    },
    {
     "name": "stderr",
     "output_type": "stream",
     "text": [
      "\r",
      "35610it [01:40, 352.52it/s]"
     ]
    },
    {
     "name": "stderr",
     "output_type": "stream",
     "text": [
      "\r",
      "35646it [01:40, 353.39it/s]"
     ]
    },
    {
     "name": "stderr",
     "output_type": "stream",
     "text": [
      "\r",
      "35682it [01:41, 350.65it/s]"
     ]
    },
    {
     "name": "stderr",
     "output_type": "stream",
     "text": [
      "\r",
      "35718it [01:41, 351.90it/s]"
     ]
    },
    {
     "name": "stderr",
     "output_type": "stream",
     "text": [
      "\r",
      "35754it [01:41, 351.42it/s]"
     ]
    },
    {
     "name": "stderr",
     "output_type": "stream",
     "text": [
      "\r",
      "35790it [01:41, 353.39it/s]"
     ]
    },
    {
     "name": "stderr",
     "output_type": "stream",
     "text": [
      "\r",
      "35826it [01:41, 353.56it/s]"
     ]
    },
    {
     "name": "stderr",
     "output_type": "stream",
     "text": [
      "\r",
      "35862it [01:41, 354.65it/s]"
     ]
    },
    {
     "name": "stderr",
     "output_type": "stream",
     "text": [
      "\r",
      "35898it [01:41, 340.25it/s]"
     ]
    },
    {
     "name": "stderr",
     "output_type": "stream",
     "text": [
      "\r",
      "35933it [01:41, 342.22it/s]"
     ]
    },
    {
     "name": "stderr",
     "output_type": "stream",
     "text": [
      "\r",
      "35968it [01:41, 334.35it/s]"
     ]
    },
    {
     "name": "stderr",
     "output_type": "stream",
     "text": [
      "\r",
      "36002it [01:41, 334.41it/s]"
     ]
    },
    {
     "name": "stderr",
     "output_type": "stream",
     "text": [
      "\r",
      "36037it [01:42, 337.73it/s]"
     ]
    },
    {
     "name": "stderr",
     "output_type": "stream",
     "text": [
      "\r",
      "36077it [01:42, 353.65it/s]"
     ]
    },
    {
     "name": "stderr",
     "output_type": "stream",
     "text": [
      "\r",
      "36113it [01:42, 353.94it/s]"
     ]
    },
    {
     "name": "stderr",
     "output_type": "stream",
     "text": [
      "\r",
      "36149it [01:42, 353.26it/s]"
     ]
    },
    {
     "name": "stderr",
     "output_type": "stream",
     "text": [
      "\r",
      "36186it [01:42, 356.51it/s]"
     ]
    },
    {
     "name": "stderr",
     "output_type": "stream",
     "text": [
      "\r",
      "36222it [01:42, 350.50it/s]"
     ]
    },
    {
     "name": "stderr",
     "output_type": "stream",
     "text": [
      "\r",
      "36258it [01:42, 353.17it/s]"
     ]
    },
    {
     "name": "stderr",
     "output_type": "stream",
     "text": [
      "\r",
      "36295it [01:42, 356.92it/s]"
     ]
    },
    {
     "name": "stderr",
     "output_type": "stream",
     "text": [
      "\r",
      "36331it [01:42, 343.24it/s]"
     ]
    },
    {
     "name": "stderr",
     "output_type": "stream",
     "text": [
      "\r",
      "36368it [01:42, 348.52it/s]"
     ]
    },
    {
     "name": "stderr",
     "output_type": "stream",
     "text": [
      "\r",
      "36405it [01:43, 354.18it/s]"
     ]
    },
    {
     "name": "stderr",
     "output_type": "stream",
     "text": [
      "\r",
      "36442it [01:43, 358.54it/s]"
     ]
    },
    {
     "name": "stderr",
     "output_type": "stream",
     "text": [
      "\r",
      "36479it [01:43, 361.72it/s]"
     ]
    },
    {
     "name": "stderr",
     "output_type": "stream",
     "text": [
      "\r",
      "36516it [01:43, 357.36it/s]"
     ]
    },
    {
     "name": "stderr",
     "output_type": "stream",
     "text": [
      "\r",
      "36552it [01:43, 354.69it/s]"
     ]
    },
    {
     "name": "stderr",
     "output_type": "stream",
     "text": [
      "\r",
      "36591it [01:43, 362.49it/s]"
     ]
    },
    {
     "name": "stderr",
     "output_type": "stream",
     "text": [
      "\r",
      "36628it [01:43, 363.73it/s]"
     ]
    },
    {
     "name": "stderr",
     "output_type": "stream",
     "text": [
      "\r",
      "36668it [01:43, 372.05it/s]"
     ]
    },
    {
     "name": "stderr",
     "output_type": "stream",
     "text": [
      "\r",
      "36706it [01:43, 374.21it/s]"
     ]
    },
    {
     "name": "stderr",
     "output_type": "stream",
     "text": [
      "\r",
      "36745it [01:44, 376.15it/s]"
     ]
    },
    {
     "name": "stderr",
     "output_type": "stream",
     "text": [
      "\r",
      "36783it [01:44, 369.68it/s]"
     ]
    },
    {
     "name": "stderr",
     "output_type": "stream",
     "text": [
      "\r",
      "36821it [01:44, 370.28it/s]"
     ]
    },
    {
     "name": "stderr",
     "output_type": "stream",
     "text": [
      "\r",
      "36859it [01:44, 369.58it/s]"
     ]
    },
    {
     "name": "stderr",
     "output_type": "stream",
     "text": [
      "\r",
      "36897it [01:44, 369.45it/s]"
     ]
    },
    {
     "name": "stderr",
     "output_type": "stream",
     "text": [
      "\r",
      "36934it [01:44, 361.87it/s]"
     ]
    },
    {
     "name": "stderr",
     "output_type": "stream",
     "text": [
      "\r",
      "36971it [01:44, 361.63it/s]"
     ]
    },
    {
     "name": "stderr",
     "output_type": "stream",
     "text": [
      "\r",
      "37008it [01:44, 363.08it/s]"
     ]
    },
    {
     "name": "stderr",
     "output_type": "stream",
     "text": [
      "\r",
      "37045it [01:44, 362.95it/s]"
     ]
    },
    {
     "name": "stderr",
     "output_type": "stream",
     "text": [
      "\r",
      "37083it [01:44, 366.18it/s]"
     ]
    },
    {
     "name": "stderr",
     "output_type": "stream",
     "text": [
      "\r",
      "37120it [01:45, 358.74it/s]"
     ]
    },
    {
     "name": "stderr",
     "output_type": "stream",
     "text": [
      "\r",
      "37157it [01:45, 360.07it/s]"
     ]
    },
    {
     "name": "stderr",
     "output_type": "stream",
     "text": [
      "\r",
      "37194it [01:45, 360.12it/s]"
     ]
    },
    {
     "name": "stderr",
     "output_type": "stream",
     "text": [
      "\r",
      "37231it [01:45, 362.44it/s]"
     ]
    },
    {
     "name": "stderr",
     "output_type": "stream",
     "text": [
      "\r",
      "37268it [01:45, 358.01it/s]"
     ]
    },
    {
     "name": "stderr",
     "output_type": "stream",
     "text": [
      "\r",
      "37305it [01:45, 360.91it/s]"
     ]
    },
    {
     "name": "stderr",
     "output_type": "stream",
     "text": [
      "\r",
      "37342it [01:45, 356.95it/s]"
     ]
    },
    {
     "name": "stderr",
     "output_type": "stream",
     "text": [
      "\r",
      "37378it [01:45, 353.87it/s]"
     ]
    },
    {
     "name": "stderr",
     "output_type": "stream",
     "text": [
      "\r",
      "37414it [01:45, 353.76it/s]"
     ]
    },
    {
     "name": "stderr",
     "output_type": "stream",
     "text": [
      "\r",
      "37450it [01:45, 353.71it/s]"
     ]
    },
    {
     "name": "stderr",
     "output_type": "stream",
     "text": [
      "\r",
      "37486it [01:46, 354.15it/s]"
     ]
    },
    {
     "name": "stderr",
     "output_type": "stream",
     "text": [
      "\r",
      "37523it [01:46, 358.35it/s]"
     ]
    },
    {
     "name": "stderr",
     "output_type": "stream",
     "text": [
      "\r",
      "37560it [01:46, 359.95it/s]"
     ]
    },
    {
     "name": "stderr",
     "output_type": "stream",
     "text": [
      "\r",
      "37597it [01:46, 353.85it/s]"
     ]
    },
    {
     "name": "stderr",
     "output_type": "stream",
     "text": [
      "\r",
      "37633it [01:46, 353.86it/s]"
     ]
    },
    {
     "name": "stderr",
     "output_type": "stream",
     "text": [
      "\r",
      "37670it [01:46, 356.57it/s]"
     ]
    },
    {
     "name": "stderr",
     "output_type": "stream",
     "text": [
      "\r",
      "37706it [01:46, 357.27it/s]"
     ]
    },
    {
     "name": "stderr",
     "output_type": "stream",
     "text": [
      "\r",
      "37742it [01:46, 351.66it/s]"
     ]
    },
    {
     "name": "stderr",
     "output_type": "stream",
     "text": [
      "\r",
      "37779it [01:46, 355.84it/s]"
     ]
    },
    {
     "name": "stderr",
     "output_type": "stream",
     "text": [
      "\r",
      "37815it [01:47, 344.00it/s]"
     ]
    },
    {
     "name": "stderr",
     "output_type": "stream",
     "text": [
      "\r",
      "37850it [01:47, 342.47it/s]"
     ]
    },
    {
     "name": "stderr",
     "output_type": "stream",
     "text": [
      "\r",
      "37885it [01:47, 337.65it/s]"
     ]
    },
    {
     "name": "stderr",
     "output_type": "stream",
     "text": [
      "\r",
      "37921it [01:47, 342.01it/s]"
     ]
    },
    {
     "name": "stderr",
     "output_type": "stream",
     "text": [
      "\r",
      "37959it [01:47, 351.15it/s]"
     ]
    },
    {
     "name": "stderr",
     "output_type": "stream",
     "text": [
      "\r",
      "37995it [01:47, 350.82it/s]"
     ]
    },
    {
     "name": "stderr",
     "output_type": "stream",
     "text": [
      "\r",
      "38031it [01:47, 345.28it/s]"
     ]
    },
    {
     "name": "stderr",
     "output_type": "stream",
     "text": [
      "\r",
      "38066it [01:47, 345.34it/s]"
     ]
    },
    {
     "name": "stderr",
     "output_type": "stream",
     "text": [
      "\r",
      "38102it [01:47, 346.75it/s]"
     ]
    },
    {
     "name": "stderr",
     "output_type": "stream",
     "text": [
      "\r",
      "38137it [01:47, 345.18it/s]"
     ]
    },
    {
     "name": "stderr",
     "output_type": "stream",
     "text": [
      "\r",
      "38172it [01:48, 338.33it/s]"
     ]
    },
    {
     "name": "stderr",
     "output_type": "stream",
     "text": [
      "\r",
      "38207it [01:48, 341.08it/s]"
     ]
    },
    {
     "name": "stderr",
     "output_type": "stream",
     "text": [
      "\r",
      "38246it [01:48, 351.06it/s]"
     ]
    },
    {
     "name": "stderr",
     "output_type": "stream",
     "text": [
      "\r",
      "38282it [01:48, 352.67it/s]"
     ]
    },
    {
     "name": "stderr",
     "output_type": "stream",
     "text": [
      "\r",
      "38319it [01:48, 356.13it/s]"
     ]
    },
    {
     "name": "stderr",
     "output_type": "stream",
     "text": [
      "\r",
      "38357it [01:48, 362.23it/s]"
     ]
    },
    {
     "name": "stderr",
     "output_type": "stream",
     "text": [
      "\r",
      "38394it [01:48, 353.92it/s]"
     ]
    },
    {
     "name": "stderr",
     "output_type": "stream",
     "text": [
      "\r",
      "38431it [01:48, 357.54it/s]"
     ]
    },
    {
     "name": "stderr",
     "output_type": "stream",
     "text": [
      "\r",
      "38468it [01:48, 359.19it/s]"
     ]
    },
    {
     "name": "stderr",
     "output_type": "stream",
     "text": [
      "\r",
      "38506it [01:48, 364.97it/s]"
     ]
    },
    {
     "name": "stderr",
     "output_type": "stream",
     "text": [
      "\r",
      "38548it [01:49, 379.45it/s]"
     ]
    },
    {
     "name": "stderr",
     "output_type": "stream",
     "text": [
      "\r",
      "38586it [01:49, 373.77it/s]"
     ]
    },
    {
     "name": "stderr",
     "output_type": "stream",
     "text": [
      "\r",
      "38624it [01:49, 372.19it/s]"
     ]
    },
    {
     "name": "stderr",
     "output_type": "stream",
     "text": [
      "\r",
      "38662it [01:49, 372.32it/s]"
     ]
    },
    {
     "name": "stderr",
     "output_type": "stream",
     "text": [
      "\r",
      "38700it [01:49, 367.37it/s]"
     ]
    },
    {
     "name": "stderr",
     "output_type": "stream",
     "text": [
      "\r",
      "38738it [01:49, 368.79it/s]"
     ]
    },
    {
     "name": "stderr",
     "output_type": "stream",
     "text": [
      "\r",
      "38775it [01:49, 360.56it/s]"
     ]
    },
    {
     "name": "stderr",
     "output_type": "stream",
     "text": [
      "\r",
      "38812it [01:49, 361.44it/s]"
     ]
    },
    {
     "name": "stderr",
     "output_type": "stream",
     "text": [
      "\r",
      "38849it [01:49, 356.78it/s]"
     ]
    },
    {
     "name": "stderr",
     "output_type": "stream",
     "text": [
      "\r",
      "38885it [01:50, 353.76it/s]"
     ]
    },
    {
     "name": "stderr",
     "output_type": "stream",
     "text": [
      "\r",
      "38921it [01:50, 354.01it/s]"
     ]
    },
    {
     "name": "stderr",
     "output_type": "stream",
     "text": [
      "\r",
      "38957it [01:50, 349.21it/s]"
     ]
    },
    {
     "name": "stderr",
     "output_type": "stream",
     "text": [
      "\r",
      "38993it [01:50, 351.88it/s]"
     ]
    },
    {
     "name": "stderr",
     "output_type": "stream",
     "text": [
      "\r",
      "39031it [01:50, 358.11it/s]"
     ]
    },
    {
     "name": "stderr",
     "output_type": "stream",
     "text": [
      "\r",
      "39067it [01:50, 353.71it/s]"
     ]
    },
    {
     "name": "stderr",
     "output_type": "stream",
     "text": [
      "\r",
      "39103it [01:50, 351.15it/s]"
     ]
    },
    {
     "name": "stderr",
     "output_type": "stream",
     "text": [
      "\r",
      "39139it [01:50, 349.95it/s]"
     ]
    },
    {
     "name": "stderr",
     "output_type": "stream",
     "text": [
      "\r",
      "39175it [01:50, 352.29it/s]"
     ]
    },
    {
     "name": "stderr",
     "output_type": "stream",
     "text": [
      "\r",
      "39211it [01:50, 348.09it/s]"
     ]
    },
    {
     "name": "stderr",
     "output_type": "stream",
     "text": [
      "\r",
      "39246it [01:51, 344.91it/s]"
     ]
    },
    {
     "name": "stderr",
     "output_type": "stream",
     "text": [
      "\r",
      "39281it [01:51, 341.34it/s]"
     ]
    },
    {
     "name": "stderr",
     "output_type": "stream",
     "text": [
      "\r",
      "39316it [01:51, 339.83it/s]"
     ]
    },
    {
     "name": "stderr",
     "output_type": "stream",
     "text": [
      "\r",
      "39353it [01:51, 345.40it/s]"
     ]
    },
    {
     "name": "stderr",
     "output_type": "stream",
     "text": [
      "\r",
      "39388it [01:51, 346.70it/s]"
     ]
    },
    {
     "name": "stderr",
     "output_type": "stream",
     "text": [
      "\r",
      "39423it [01:51, 346.80it/s]"
     ]
    },
    {
     "name": "stderr",
     "output_type": "stream",
     "text": [
      "\r",
      "39458it [01:51, 342.10it/s]"
     ]
    },
    {
     "name": "stderr",
     "output_type": "stream",
     "text": [
      "\r",
      "39494it [01:51, 345.47it/s]"
     ]
    },
    {
     "name": "stderr",
     "output_type": "stream",
     "text": [
      "\r",
      "39530it [01:51, 348.11it/s]"
     ]
    },
    {
     "name": "stderr",
     "output_type": "stream",
     "text": [
      "\r",
      "39566it [01:51, 348.95it/s]"
     ]
    },
    {
     "name": "stderr",
     "output_type": "stream",
     "text": [
      "\r",
      "39601it [01:52, 342.49it/s]"
     ]
    },
    {
     "name": "stderr",
     "output_type": "stream",
     "text": [
      "\r",
      "39636it [01:52, 343.81it/s]"
     ]
    },
    {
     "name": "stderr",
     "output_type": "stream",
     "text": [
      "\r",
      "39671it [01:52, 330.33it/s]"
     ]
    },
    {
     "name": "stderr",
     "output_type": "stream",
     "text": [
      "\r",
      "39706it [01:52, 335.91it/s]"
     ]
    },
    {
     "name": "stderr",
     "output_type": "stream",
     "text": [
      "\r",
      "39740it [01:52, 332.51it/s]"
     ]
    },
    {
     "name": "stderr",
     "output_type": "stream",
     "text": [
      "\r",
      "39775it [01:52, 336.94it/s]"
     ]
    },
    {
     "name": "stderr",
     "output_type": "stream",
     "text": [
      "\r",
      "39810it [01:52, 339.15it/s]"
     ]
    },
    {
     "name": "stderr",
     "output_type": "stream",
     "text": [
      "\r",
      "39846it [01:52, 342.83it/s]"
     ]
    },
    {
     "name": "stderr",
     "output_type": "stream",
     "text": [
      "\r",
      "39881it [01:52, 343.75it/s]"
     ]
    },
    {
     "name": "stderr",
     "output_type": "stream",
     "text": [
      "\r",
      "39917it [01:53, 345.04it/s]"
     ]
    },
    {
     "name": "stderr",
     "output_type": "stream",
     "text": [
      "\r",
      "39954it [01:53, 352.29it/s]"
     ]
    },
    {
     "name": "stderr",
     "output_type": "stream",
     "text": [
      "\r",
      "39990it [01:53, 340.42it/s]"
     ]
    },
    {
     "name": "stderr",
     "output_type": "stream",
     "text": [
      "\r",
      "40025it [01:53, 334.09it/s]"
     ]
    },
    {
     "name": "stderr",
     "output_type": "stream",
     "text": [
      "\r",
      "40060it [01:53, 336.21it/s]"
     ]
    },
    {
     "name": "stderr",
     "output_type": "stream",
     "text": [
      "\r",
      "40094it [01:53, 326.02it/s]"
     ]
    },
    {
     "name": "stderr",
     "output_type": "stream",
     "text": [
      "\r",
      "40130it [01:53, 335.37it/s]"
     ]
    },
    {
     "name": "stderr",
     "output_type": "stream",
     "text": [
      "\r",
      "40165it [01:53, 338.46it/s]"
     ]
    },
    {
     "name": "stderr",
     "output_type": "stream",
     "text": [
      "\r",
      "40200it [01:53, 341.04it/s]"
     ]
    },
    {
     "name": "stderr",
     "output_type": "stream",
     "text": [
      "\r",
      "40235it [01:53, 341.81it/s]"
     ]
    },
    {
     "name": "stderr",
     "output_type": "stream",
     "text": [
      "\r",
      "40270it [01:54, 338.16it/s]"
     ]
    },
    {
     "name": "stderr",
     "output_type": "stream",
     "text": [
      "\r",
      "40304it [01:54, 334.11it/s]"
     ]
    },
    {
     "name": "stderr",
     "output_type": "stream",
     "text": [
      "\r",
      "40340it [01:54, 339.50it/s]"
     ]
    },
    {
     "name": "stderr",
     "output_type": "stream",
     "text": [
      "\r",
      "40375it [01:54, 341.86it/s]"
     ]
    },
    {
     "name": "stderr",
     "output_type": "stream",
     "text": [
      "\r",
      "40410it [01:54, 341.85it/s]"
     ]
    },
    {
     "name": "stderr",
     "output_type": "stream",
     "text": [
      "\r",
      "40448it [01:54, 352.61it/s]"
     ]
    },
    {
     "name": "stderr",
     "output_type": "stream",
     "text": [
      "\r",
      "40484it [01:54, 347.36it/s]"
     ]
    },
    {
     "name": "stderr",
     "output_type": "stream",
     "text": [
      "\r",
      "40521it [01:54, 353.13it/s]"
     ]
    },
    {
     "name": "stderr",
     "output_type": "stream",
     "text": [
      "\r",
      "40557it [01:54, 349.35it/s]"
     ]
    },
    {
     "name": "stderr",
     "output_type": "stream",
     "text": [
      "\r",
      "40592it [01:54, 349.27it/s]"
     ]
    },
    {
     "name": "stderr",
     "output_type": "stream",
     "text": [
      "\r",
      "40627it [01:55, 346.61it/s]"
     ]
    },
    {
     "name": "stderr",
     "output_type": "stream",
     "text": [
      "\r",
      "40662it [01:55, 339.93it/s]"
     ]
    },
    {
     "name": "stderr",
     "output_type": "stream",
     "text": [
      "\r",
      "40697it [01:55, 342.40it/s]"
     ]
    },
    {
     "name": "stderr",
     "output_type": "stream",
     "text": [
      "\r",
      "40732it [01:55, 336.48it/s]"
     ]
    },
    {
     "name": "stderr",
     "output_type": "stream",
     "text": [
      "\r",
      "40766it [01:55, 336.80it/s]"
     ]
    },
    {
     "name": "stderr",
     "output_type": "stream",
     "text": [
      "\r",
      "40802it [01:55, 338.67it/s]"
     ]
    },
    {
     "name": "stderr",
     "output_type": "stream",
     "text": [
      "\r",
      "40837it [01:55, 338.66it/s]"
     ]
    },
    {
     "name": "stderr",
     "output_type": "stream",
     "text": [
      "\r",
      "40871it [01:55, 333.68it/s]"
     ]
    },
    {
     "name": "stderr",
     "output_type": "stream",
     "text": [
      "\r",
      "40907it [01:55, 339.19it/s]"
     ]
    },
    {
     "name": "stderr",
     "output_type": "stream",
     "text": [
      "\r",
      "40942it [01:56, 342.09it/s]"
     ]
    },
    {
     "name": "stderr",
     "output_type": "stream",
     "text": [
      "\r",
      "40977it [01:56, 340.53it/s]"
     ]
    },
    {
     "name": "stderr",
     "output_type": "stream",
     "text": [
      "\r",
      "41012it [01:56, 336.56it/s]"
     ]
    },
    {
     "name": "stderr",
     "output_type": "stream",
     "text": [
      "\r",
      "41046it [01:56, 334.89it/s]"
     ]
    },
    {
     "name": "stderr",
     "output_type": "stream",
     "text": [
      "\r",
      "41081it [01:56, 337.35it/s]"
     ]
    },
    {
     "name": "stderr",
     "output_type": "stream",
     "text": [
      "\r",
      "41115it [01:56, 337.35it/s]"
     ]
    },
    {
     "name": "stderr",
     "output_type": "stream",
     "text": [
      "\r",
      "41149it [01:56, 334.16it/s]"
     ]
    },
    {
     "name": "stderr",
     "output_type": "stream",
     "text": [
      "\r",
      "41183it [01:56, 335.66it/s]"
     ]
    },
    {
     "name": "stderr",
     "output_type": "stream",
     "text": [
      "\r",
      "41217it [01:56, 331.73it/s]"
     ]
    },
    {
     "name": "stderr",
     "output_type": "stream",
     "text": [
      "\r",
      "41253it [01:56, 339.00it/s]"
     ]
    },
    {
     "name": "stderr",
     "output_type": "stream",
     "text": [
      "\r",
      "41287it [01:57, 336.80it/s]"
     ]
    },
    {
     "name": "stderr",
     "output_type": "stream",
     "text": [
      "\r",
      "41322it [01:57, 339.13it/s]"
     ]
    },
    {
     "name": "stderr",
     "output_type": "stream",
     "text": [
      "\r",
      "41356it [01:57, 333.42it/s]"
     ]
    },
    {
     "name": "stderr",
     "output_type": "stream",
     "text": [
      "\r",
      "41390it [01:57, 334.75it/s]"
     ]
    },
    {
     "name": "stderr",
     "output_type": "stream",
     "text": [
      "\r",
      "41425it [01:57, 337.98it/s]"
     ]
    },
    {
     "name": "stderr",
     "output_type": "stream",
     "text": [
      "\r",
      "41459it [01:57, 333.73it/s]"
     ]
    },
    {
     "name": "stderr",
     "output_type": "stream",
     "text": [
      "\r",
      "41493it [01:57, 330.30it/s]"
     ]
    },
    {
     "name": "stderr",
     "output_type": "stream",
     "text": [
      "\r",
      "41528it [01:57, 334.24it/s]"
     ]
    },
    {
     "name": "stderr",
     "output_type": "stream",
     "text": [
      "\r",
      "41562it [01:57, 325.48it/s]"
     ]
    },
    {
     "name": "stderr",
     "output_type": "stream",
     "text": [
      "\r",
      "41595it [01:57, 324.66it/s]"
     ]
    },
    {
     "name": "stderr",
     "output_type": "stream",
     "text": [
      "\r",
      "41629it [01:58, 328.10it/s]"
     ]
    },
    {
     "name": "stderr",
     "output_type": "stream",
     "text": [
      "\r",
      "41662it [01:58, 323.97it/s]"
     ]
    },
    {
     "name": "stderr",
     "output_type": "stream",
     "text": [
      "\r",
      "41699it [01:58, 337.20it/s]"
     ]
    },
    {
     "name": "stderr",
     "output_type": "stream",
     "text": [
      "\r",
      "41733it [01:58, 333.70it/s]"
     ]
    },
    {
     "name": "stderr",
     "output_type": "stream",
     "text": [
      "\r",
      "41769it [01:58, 341.30it/s]"
     ]
    },
    {
     "name": "stderr",
     "output_type": "stream",
     "text": [
      "\r",
      "41804it [01:58, 342.56it/s]"
     ]
    },
    {
     "name": "stderr",
     "output_type": "stream",
     "text": [
      "\r",
      "41839it [01:58, 337.41it/s]"
     ]
    },
    {
     "name": "stderr",
     "output_type": "stream",
     "text": [
      "\r",
      "41876it [01:58, 346.31it/s]"
     ]
    },
    {
     "name": "stderr",
     "output_type": "stream",
     "text": [
      "\r",
      "41911it [01:58, 342.19it/s]"
     ]
    },
    {
     "name": "stderr",
     "output_type": "stream",
     "text": [
      "\r",
      "41946it [01:59, 335.92it/s]"
     ]
    },
    {
     "name": "stderr",
     "output_type": "stream",
     "text": [
      "\r",
      "41980it [01:59, 333.54it/s]"
     ]
    },
    {
     "name": "stderr",
     "output_type": "stream",
     "text": [
      "\r",
      "42014it [01:59, 334.91it/s]"
     ]
    },
    {
     "name": "stderr",
     "output_type": "stream",
     "text": [
      "\r",
      "42049it [01:59, 337.70it/s]"
     ]
    },
    {
     "name": "stderr",
     "output_type": "stream",
     "text": [
      "\r",
      "42084it [01:59, 338.57it/s]"
     ]
    },
    {
     "name": "stderr",
     "output_type": "stream",
     "text": [
      "\r",
      "42119it [01:59, 339.92it/s]"
     ]
    },
    {
     "name": "stderr",
     "output_type": "stream",
     "text": [
      "\r",
      "42155it [01:59, 343.62it/s]"
     ]
    },
    {
     "name": "stderr",
     "output_type": "stream",
     "text": [
      "\r",
      "42190it [01:59, 333.49it/s]"
     ]
    },
    {
     "name": "stderr",
     "output_type": "stream",
     "text": [
      "\r",
      "42226it [01:59, 339.64it/s]"
     ]
    },
    {
     "name": "stderr",
     "output_type": "stream",
     "text": [
      "\r",
      "42261it [01:59, 342.04it/s]"
     ]
    },
    {
     "name": "stderr",
     "output_type": "stream",
     "text": [
      "\r",
      "42296it [02:00, 340.33it/s]"
     ]
    },
    {
     "name": "stderr",
     "output_type": "stream",
     "text": [
      "\r",
      "42334it [02:00, 351.67it/s]"
     ]
    },
    {
     "name": "stderr",
     "output_type": "stream",
     "text": [
      "\r",
      "42370it [02:00, 340.54it/s]"
     ]
    },
    {
     "name": "stderr",
     "output_type": "stream",
     "text": [
      "\r",
      "42407it [02:00, 348.92it/s]"
     ]
    },
    {
     "name": "stderr",
     "output_type": "stream",
     "text": [
      "\r",
      "42443it [02:00, 346.34it/s]"
     ]
    },
    {
     "name": "stderr",
     "output_type": "stream",
     "text": [
      "\r",
      "42478it [02:00, 345.36it/s]"
     ]
    },
    {
     "name": "stderr",
     "output_type": "stream",
     "text": [
      "\r",
      "42513it [02:00, 343.95it/s]"
     ]
    },
    {
     "name": "stderr",
     "output_type": "stream",
     "text": [
      "\r",
      "42548it [02:00, 341.56it/s]"
     ]
    },
    {
     "name": "stderr",
     "output_type": "stream",
     "text": [
      "\r",
      "42583it [02:00, 338.20it/s]"
     ]
    },
    {
     "name": "stderr",
     "output_type": "stream",
     "text": [
      "\r",
      "42617it [02:00, 337.92it/s]"
     ]
    },
    {
     "name": "stderr",
     "output_type": "stream",
     "text": [
      "\r",
      "42651it [02:01, 337.69it/s]"
     ]
    },
    {
     "name": "stderr",
     "output_type": "stream",
     "text": [
      "\r",
      "42685it [02:01, 335.67it/s]"
     ]
    },
    {
     "name": "stderr",
     "output_type": "stream",
     "text": [
      "\r",
      "42721it [02:01, 341.34it/s]"
     ]
    },
    {
     "name": "stderr",
     "output_type": "stream",
     "text": [
      "\r",
      "42756it [02:01, 338.89it/s]"
     ]
    },
    {
     "name": "stderr",
     "output_type": "stream",
     "text": [
      "\r",
      "42791it [02:01, 340.71it/s]"
     ]
    },
    {
     "name": "stderr",
     "output_type": "stream",
     "text": [
      "\r",
      "42827it [02:01, 345.50it/s]"
     ]
    },
    {
     "name": "stderr",
     "output_type": "stream",
     "text": [
      "\r",
      "42862it [02:01, 341.79it/s]"
     ]
    },
    {
     "name": "stderr",
     "output_type": "stream",
     "text": [
      "\r",
      "42897it [02:01, 341.43it/s]"
     ]
    },
    {
     "name": "stderr",
     "output_type": "stream",
     "text": [
      "\r",
      "42933it [02:01, 342.20it/s]"
     ]
    },
    {
     "name": "stderr",
     "output_type": "stream",
     "text": [
      "\r",
      "42968it [02:02, 344.38it/s]"
     ]
    },
    {
     "name": "stderr",
     "output_type": "stream",
     "text": [
      "\r",
      "43003it [02:02, 343.70it/s]"
     ]
    },
    {
     "name": "stderr",
     "output_type": "stream",
     "text": [
      "\r",
      "43038it [02:02, 340.51it/s]"
     ]
    },
    {
     "name": "stderr",
     "output_type": "stream",
     "text": [
      "\r",
      "43073it [02:02, 343.19it/s]"
     ]
    },
    {
     "name": "stderr",
     "output_type": "stream",
     "text": [
      "\r",
      "43108it [02:02, 341.37it/s]"
     ]
    },
    {
     "name": "stderr",
     "output_type": "stream",
     "text": [
      "\r",
      "43144it [02:02, 345.72it/s]"
     ]
    },
    {
     "name": "stderr",
     "output_type": "stream",
     "text": [
      "\r",
      "43179it [02:02, 344.62it/s]"
     ]
    },
    {
     "name": "stderr",
     "output_type": "stream",
     "text": [
      "\r",
      "43214it [02:02, 344.25it/s]"
     ]
    },
    {
     "name": "stderr",
     "output_type": "stream",
     "text": [
      "\r",
      "43249it [02:02, 337.30it/s]"
     ]
    },
    {
     "name": "stderr",
     "output_type": "stream",
     "text": [
      "\r",
      "43284it [02:02, 339.87it/s]"
     ]
    },
    {
     "name": "stderr",
     "output_type": "stream",
     "text": [
      "\r",
      "43320it [02:03, 343.88it/s]"
     ]
    },
    {
     "name": "stderr",
     "output_type": "stream",
     "text": [
      "\r",
      "43355it [02:03, 345.14it/s]"
     ]
    },
    {
     "name": "stderr",
     "output_type": "stream",
     "text": [
      "\r",
      "43390it [02:03, 338.07it/s]"
     ]
    },
    {
     "name": "stderr",
     "output_type": "stream",
     "text": [
      "\r",
      "43426it [02:03, 342.33it/s]"
     ]
    },
    {
     "name": "stderr",
     "output_type": "stream",
     "text": [
      "\r",
      "43461it [02:03, 330.89it/s]"
     ]
    },
    {
     "name": "stderr",
     "output_type": "stream",
     "text": [
      "\r",
      "43495it [02:03, 332.23it/s]"
     ]
    },
    {
     "name": "stderr",
     "output_type": "stream",
     "text": [
      "\r",
      "43529it [02:03, 334.03it/s]"
     ]
    },
    {
     "name": "stderr",
     "output_type": "stream",
     "text": [
      "\r",
      "43563it [02:03, 332.47it/s]"
     ]
    },
    {
     "name": "stderr",
     "output_type": "stream",
     "text": [
      "\r",
      "43601it [02:03, 344.59it/s]"
     ]
    },
    {
     "name": "stderr",
     "output_type": "stream",
     "text": [
      "\r",
      "43638it [02:03, 350.02it/s]"
     ]
    },
    {
     "name": "stderr",
     "output_type": "stream",
     "text": [
      "\r",
      "43676it [02:04, 358.70it/s]"
     ]
    },
    {
     "name": "stderr",
     "output_type": "stream",
     "text": [
      "\r",
      "43715it [02:04, 364.74it/s]"
     ]
    },
    {
     "name": "stderr",
     "output_type": "stream",
     "text": [
      "\r",
      "43756it [02:04, 376.36it/s]"
     ]
    },
    {
     "name": "stderr",
     "output_type": "stream",
     "text": [
      "\r",
      "43794it [02:04, 369.69it/s]"
     ]
    },
    {
     "name": "stderr",
     "output_type": "stream",
     "text": [
      "\r",
      "43832it [02:04, 363.89it/s]"
     ]
    },
    {
     "name": "stderr",
     "output_type": "stream",
     "text": [
      "\r",
      "43870it [02:04, 365.75it/s]"
     ]
    },
    {
     "name": "stderr",
     "output_type": "stream",
     "text": [
      "\r",
      "43907it [02:04, 359.32it/s]"
     ]
    },
    {
     "name": "stderr",
     "output_type": "stream",
     "text": [
      "\r",
      "43944it [02:04, 360.25it/s]"
     ]
    },
    {
     "name": "stderr",
     "output_type": "stream",
     "text": [
      "\r",
      "43981it [02:04, 354.14it/s]"
     ]
    },
    {
     "name": "stderr",
     "output_type": "stream",
     "text": [
      "\r",
      "44018it [02:05, 356.97it/s]"
     ]
    },
    {
     "name": "stderr",
     "output_type": "stream",
     "text": [
      "\r",
      "44054it [02:05, 351.83it/s]"
     ]
    },
    {
     "name": "stderr",
     "output_type": "stream",
     "text": [
      "\r",
      "44090it [02:05, 350.85it/s]"
     ]
    },
    {
     "name": "stderr",
     "output_type": "stream",
     "text": [
      "\r",
      "44128it [02:05, 359.11it/s]"
     ]
    },
    {
     "name": "stderr",
     "output_type": "stream",
     "text": [
      "\r",
      "44166it [02:05, 363.82it/s]"
     ]
    },
    {
     "name": "stderr",
     "output_type": "stream",
     "text": [
      "\r",
      "44207it [02:05, 375.09it/s]"
     ]
    },
    {
     "name": "stderr",
     "output_type": "stream",
     "text": [
      "\r",
      "44246it [02:05, 376.07it/s]"
     ]
    },
    {
     "name": "stderr",
     "output_type": "stream",
     "text": [
      "\r",
      "44284it [02:05, 375.11it/s]"
     ]
    },
    {
     "name": "stderr",
     "output_type": "stream",
     "text": [
      "\r",
      "44322it [02:05, 372.38it/s]"
     ]
    },
    {
     "name": "stderr",
     "output_type": "stream",
     "text": [
      "\r",
      "44360it [02:05, 369.54it/s]"
     ]
    },
    {
     "name": "stderr",
     "output_type": "stream",
     "text": [
      "\r",
      "44397it [02:06, 369.25it/s]"
     ]
    },
    {
     "name": "stderr",
     "output_type": "stream",
     "text": [
      "\r",
      "44435it [02:06, 370.60it/s]"
     ]
    },
    {
     "name": "stderr",
     "output_type": "stream",
     "text": [
      "\r",
      "44473it [02:06, 363.34it/s]"
     ]
    },
    {
     "name": "stderr",
     "output_type": "stream",
     "text": [
      "\r",
      "44510it [02:06, 361.25it/s]"
     ]
    },
    {
     "name": "stderr",
     "output_type": "stream",
     "text": [
      "\r",
      "44547it [02:06, 357.13it/s]"
     ]
    },
    {
     "name": "stderr",
     "output_type": "stream",
     "text": [
      "\r",
      "44584it [02:06, 360.01it/s]"
     ]
    },
    {
     "name": "stderr",
     "output_type": "stream",
     "text": [
      "\r",
      "44621it [02:06, 361.63it/s]"
     ]
    },
    {
     "name": "stderr",
     "output_type": "stream",
     "text": [
      "\r",
      "44658it [02:06, 357.38it/s]"
     ]
    },
    {
     "name": "stderr",
     "output_type": "stream",
     "text": [
      "\r",
      "44696it [02:06, 361.45it/s]"
     ]
    },
    {
     "name": "stderr",
     "output_type": "stream",
     "text": [
      "\r",
      "44733it [02:06, 360.45it/s]"
     ]
    },
    {
     "name": "stderr",
     "output_type": "stream",
     "text": [
      "\r",
      "44770it [02:07, 358.38it/s]"
     ]
    },
    {
     "name": "stderr",
     "output_type": "stream",
     "text": [
      "\r",
      "44807it [02:07, 361.41it/s]"
     ]
    },
    {
     "name": "stderr",
     "output_type": "stream",
     "text": [
      "\r",
      "44844it [02:07, 362.67it/s]"
     ]
    },
    {
     "name": "stderr",
     "output_type": "stream",
     "text": [
      "\r",
      "44881it [02:07, 359.75it/s]"
     ]
    },
    {
     "name": "stderr",
     "output_type": "stream",
     "text": [
      "\r",
      "44917it [02:07, 351.92it/s]"
     ]
    },
    {
     "name": "stderr",
     "output_type": "stream",
     "text": [
      "\r",
      "44953it [02:07, 353.59it/s]"
     ]
    },
    {
     "name": "stderr",
     "output_type": "stream",
     "text": [
      "\r",
      "44989it [02:07, 349.52it/s]"
     ]
    },
    {
     "name": "stderr",
     "output_type": "stream",
     "text": [
      "\r",
      "45025it [02:07, 351.35it/s]"
     ]
    },
    {
     "name": "stderr",
     "output_type": "stream",
     "text": [
      "\r",
      "45062it [02:07, 356.66it/s]"
     ]
    },
    {
     "name": "stderr",
     "output_type": "stream",
     "text": [
      "\r",
      "45098it [02:07, 357.41it/s]"
     ]
    },
    {
     "name": "stderr",
     "output_type": "stream",
     "text": [
      "\r",
      "45134it [02:08, 355.83it/s]"
     ]
    },
    {
     "name": "stderr",
     "output_type": "stream",
     "text": [
      "\r",
      "45171it [02:08, 357.40it/s]"
     ]
    },
    {
     "name": "stderr",
     "output_type": "stream",
     "text": [
      "\r",
      "45208it [02:08, 360.78it/s]"
     ]
    },
    {
     "name": "stderr",
     "output_type": "stream",
     "text": [
      "\r",
      "45245it [02:08, 362.06it/s]"
     ]
    },
    {
     "name": "stderr",
     "output_type": "stream",
     "text": [
      "\r",
      "45282it [02:08, 356.00it/s]"
     ]
    },
    {
     "name": "stderr",
     "output_type": "stream",
     "text": [
      "\r",
      "45321it [02:08, 364.06it/s]"
     ]
    },
    {
     "name": "stderr",
     "output_type": "stream",
     "text": [
      "\r",
      "45358it [02:08, 347.00it/s]"
     ]
    },
    {
     "name": "stderr",
     "output_type": "stream",
     "text": [
      "\r",
      "45394it [02:08, 349.00it/s]"
     ]
    },
    {
     "name": "stderr",
     "output_type": "stream",
     "text": [
      "\r",
      "45430it [02:08, 346.00it/s]"
     ]
    },
    {
     "name": "stderr",
     "output_type": "stream",
     "text": [
      "\r",
      "45468it [02:09, 354.20it/s]"
     ]
    },
    {
     "name": "stderr",
     "output_type": "stream",
     "text": [
      "\r",
      "45506it [02:09, 360.01it/s]"
     ]
    },
    {
     "name": "stderr",
     "output_type": "stream",
     "text": [
      "\r",
      "45545it [02:09, 366.85it/s]"
     ]
    },
    {
     "name": "stderr",
     "output_type": "stream",
     "text": [
      "\r",
      "45584it [02:09, 372.58it/s]"
     ]
    },
    {
     "name": "stderr",
     "output_type": "stream",
     "text": [
      "\r",
      "45622it [02:09, 374.16it/s]"
     ]
    },
    {
     "name": "stderr",
     "output_type": "stream",
     "text": [
      "\r",
      "45663it [02:09, 382.63it/s]"
     ]
    },
    {
     "name": "stderr",
     "output_type": "stream",
     "text": [
      "\r",
      "45702it [02:09, 378.62it/s]"
     ]
    },
    {
     "name": "stderr",
     "output_type": "stream",
     "text": [
      "\r",
      "45740it [02:09, 371.93it/s]"
     ]
    },
    {
     "name": "stderr",
     "output_type": "stream",
     "text": [
      "\r",
      "45778it [02:09, 372.95it/s]"
     ]
    },
    {
     "name": "stderr",
     "output_type": "stream",
     "text": [
      "\r",
      "45816it [02:09, 372.48it/s]"
     ]
    },
    {
     "name": "stderr",
     "output_type": "stream",
     "text": [
      "\r",
      "45854it [02:10, 372.16it/s]"
     ]
    },
    {
     "name": "stderr",
     "output_type": "stream",
     "text": [
      "\r",
      "45892it [02:10, 373.86it/s]"
     ]
    },
    {
     "name": "stderr",
     "output_type": "stream",
     "text": [
      "\r",
      "45930it [02:10, 365.40it/s]"
     ]
    },
    {
     "name": "stderr",
     "output_type": "stream",
     "text": [
      "\r",
      "45967it [02:10, 366.39it/s]"
     ]
    },
    {
     "name": "stderr",
     "output_type": "stream",
     "text": [
      "\r",
      "46004it [02:10, 362.79it/s]"
     ]
    },
    {
     "name": "stderr",
     "output_type": "stream",
     "text": [
      "\r",
      "46043it [02:10, 369.41it/s]"
     ]
    },
    {
     "name": "stderr",
     "output_type": "stream",
     "text": [
      "\r",
      "46080it [02:10, 369.23it/s]"
     ]
    },
    {
     "name": "stderr",
     "output_type": "stream",
     "text": [
      "\r",
      "46119it [02:10, 375.08it/s]"
     ]
    },
    {
     "name": "stderr",
     "output_type": "stream",
     "text": [
      "\r",
      "46160it [02:10, 383.22it/s]"
     ]
    },
    {
     "name": "stderr",
     "output_type": "stream",
     "text": [
      "\r",
      "46199it [02:10, 384.92it/s]"
     ]
    },
    {
     "name": "stderr",
     "output_type": "stream",
     "text": [
      "\r",
      "46238it [02:11, 380.89it/s]"
     ]
    },
    {
     "name": "stderr",
     "output_type": "stream",
     "text": [
      "\r",
      "46277it [02:11, 377.46it/s]"
     ]
    },
    {
     "name": "stderr",
     "output_type": "stream",
     "text": [
      "\r",
      "46315it [02:11, 375.28it/s]"
     ]
    },
    {
     "name": "stderr",
     "output_type": "stream",
     "text": [
      "\r",
      "46353it [02:11, 375.67it/s]"
     ]
    },
    {
     "name": "stderr",
     "output_type": "stream",
     "text": [
      "\r",
      "46391it [02:11, 371.49it/s]"
     ]
    },
    {
     "name": "stderr",
     "output_type": "stream",
     "text": [
      "\r",
      "46429it [02:11, 365.66it/s]"
     ]
    },
    {
     "name": "stderr",
     "output_type": "stream",
     "text": [
      "\r",
      "46466it [02:11, 366.75it/s]"
     ]
    },
    {
     "name": "stderr",
     "output_type": "stream",
     "text": [
      "\r",
      "46504it [02:11, 369.95it/s]"
     ]
    },
    {
     "name": "stderr",
     "output_type": "stream",
     "text": [
      "\r",
      "46542it [02:11, 370.37it/s]"
     ]
    },
    {
     "name": "stderr",
     "output_type": "stream",
     "text": [
      "\r",
      "46580it [02:12, 364.48it/s]"
     ]
    },
    {
     "name": "stderr",
     "output_type": "stream",
     "text": [
      "\r",
      "46618it [02:12, 368.64it/s]"
     ]
    },
    {
     "name": "stderr",
     "output_type": "stream",
     "text": [
      "\r",
      "46655it [02:12, 367.87it/s]"
     ]
    },
    {
     "name": "stderr",
     "output_type": "stream",
     "text": [
      "\r",
      "46692it [02:12, 367.10it/s]"
     ]
    },
    {
     "name": "stderr",
     "output_type": "stream",
     "text": [
      "\r",
      "46730it [02:12, 370.27it/s]"
     ]
    },
    {
     "name": "stderr",
     "output_type": "stream",
     "text": [
      "\r",
      "46768it [02:12, 370.06it/s]"
     ]
    },
    {
     "name": "stderr",
     "output_type": "stream",
     "text": [
      "\r",
      "46806it [02:12, 369.84it/s]"
     ]
    },
    {
     "name": "stderr",
     "output_type": "stream",
     "text": [
      "\r",
      "46843it [02:12, 365.90it/s]"
     ]
    },
    {
     "name": "stderr",
     "output_type": "stream",
     "text": [
      "\r",
      "46880it [02:12, 364.66it/s]"
     ]
    },
    {
     "name": "stderr",
     "output_type": "stream",
     "text": [
      "\r",
      "46917it [02:12, 357.38it/s]"
     ]
    },
    {
     "name": "stderr",
     "output_type": "stream",
     "text": [
      "\r",
      "46956it [02:13, 365.40it/s]"
     ]
    },
    {
     "name": "stderr",
     "output_type": "stream",
     "text": [
      "\r",
      "46993it [02:13, 365.80it/s]"
     ]
    },
    {
     "name": "stderr",
     "output_type": "stream",
     "text": [
      "\r",
      "47031it [02:13, 366.46it/s]"
     ]
    },
    {
     "name": "stderr",
     "output_type": "stream",
     "text": [
      "\r",
      "47068it [02:13, 364.08it/s]"
     ]
    },
    {
     "name": "stderr",
     "output_type": "stream",
     "text": [
      "\r",
      "47106it [02:13, 367.26it/s]"
     ]
    },
    {
     "name": "stderr",
     "output_type": "stream",
     "text": [
      "\r",
      "47144it [02:13, 370.90it/s]"
     ]
    },
    {
     "name": "stderr",
     "output_type": "stream",
     "text": [
      "\r",
      "47182it [02:13, 367.66it/s]"
     ]
    },
    {
     "name": "stderr",
     "output_type": "stream",
     "text": [
      "\r",
      "47219it [02:13, 363.58it/s]"
     ]
    },
    {
     "name": "stderr",
     "output_type": "stream",
     "text": [
      "\r",
      "47256it [02:13, 359.52it/s]"
     ]
    },
    {
     "name": "stderr",
     "output_type": "stream",
     "text": [
      "\r",
      "47292it [02:13, 354.85it/s]"
     ]
    },
    {
     "name": "stderr",
     "output_type": "stream",
     "text": [
      "\r",
      "47328it [02:14, 355.33it/s]"
     ]
    },
    {
     "name": "stderr",
     "output_type": "stream",
     "text": [
      "\r",
      "47364it [02:14, 354.10it/s]"
     ]
    },
    {
     "name": "stderr",
     "output_type": "stream",
     "text": [
      "\r",
      "47403it [02:14, 364.31it/s]"
     ]
    },
    {
     "name": "stderr",
     "output_type": "stream",
     "text": [
      "\r",
      "47440it [02:14, 365.50it/s]"
     ]
    },
    {
     "name": "stderr",
     "output_type": "stream",
     "text": [
      "\r",
      "47480it [02:14, 374.17it/s]"
     ]
    },
    {
     "name": "stderr",
     "output_type": "stream",
     "text": [
      "\r",
      "47520it [02:14, 380.73it/s]"
     ]
    },
    {
     "name": "stderr",
     "output_type": "stream",
     "text": [
      "\r",
      "47561it [02:14, 388.66it/s]"
     ]
    },
    {
     "name": "stderr",
     "output_type": "stream",
     "text": [
      "\r",
      "47600it [02:14, 379.70it/s]"
     ]
    },
    {
     "name": "stderr",
     "output_type": "stream",
     "text": [
      "\r",
      "47639it [02:14, 371.50it/s]"
     ]
    },
    {
     "name": "stderr",
     "output_type": "stream",
     "text": [
      "\r",
      "47677it [02:15, 373.59it/s]"
     ]
    },
    {
     "name": "stderr",
     "output_type": "stream",
     "text": [
      "\r",
      "47715it [02:15, 371.82it/s]"
     ]
    },
    {
     "name": "stderr",
     "output_type": "stream",
     "text": [
      "\r",
      "47753it [02:15, 371.74it/s]"
     ]
    },
    {
     "name": "stderr",
     "output_type": "stream",
     "text": [
      "\r",
      "47791it [02:15, 367.81it/s]"
     ]
    },
    {
     "name": "stderr",
     "output_type": "stream",
     "text": [
      "\r",
      "47828it [02:15, 365.00it/s]"
     ]
    },
    {
     "name": "stderr",
     "output_type": "stream",
     "text": [
      "\r",
      "47865it [02:15, 366.42it/s]"
     ]
    },
    {
     "name": "stderr",
     "output_type": "stream",
     "text": [
      "\r",
      "47904it [02:15, 371.42it/s]"
     ]
    },
    {
     "name": "stderr",
     "output_type": "stream",
     "text": [
      "\r",
      "47942it [02:15, 360.86it/s]"
     ]
    },
    {
     "name": "stderr",
     "output_type": "stream",
     "text": [
      "\r",
      "47979it [02:15, 359.31it/s]"
     ]
    },
    {
     "name": "stderr",
     "output_type": "stream",
     "text": [
      "\r",
      "48015it [02:15, 358.85it/s]"
     ]
    },
    {
     "name": "stderr",
     "output_type": "stream",
     "text": [
      "\r",
      "48053it [02:16, 363.08it/s]"
     ]
    },
    {
     "name": "stderr",
     "output_type": "stream",
     "text": [
      "\r",
      "48094it [02:16, 374.52it/s]"
     ]
    },
    {
     "name": "stderr",
     "output_type": "stream",
     "text": [
      "\r",
      "48132it [02:16, 372.10it/s]"
     ]
    },
    {
     "name": "stderr",
     "output_type": "stream",
     "text": [
      "\r",
      "48171it [02:16, 374.87it/s]"
     ]
    },
    {
     "name": "stderr",
     "output_type": "stream",
     "text": [
      "\r",
      "48209it [02:16, 375.37it/s]"
     ]
    },
    {
     "name": "stderr",
     "output_type": "stream",
     "text": [
      "\r",
      "48247it [02:16, 370.12it/s]"
     ]
    },
    {
     "name": "stderr",
     "output_type": "stream",
     "text": [
      "\r",
      "48285it [02:16, 369.02it/s]"
     ]
    },
    {
     "name": "stderr",
     "output_type": "stream",
     "text": [
      "\r",
      "48323it [02:16, 369.66it/s]"
     ]
    },
    {
     "name": "stderr",
     "output_type": "stream",
     "text": [
      "\r",
      "48360it [02:16, 368.27it/s]"
     ]
    },
    {
     "name": "stderr",
     "output_type": "stream",
     "text": [
      "\r",
      "48399it [02:16, 373.52it/s]"
     ]
    },
    {
     "name": "stderr",
     "output_type": "stream",
     "text": [
      "\r",
      "48437it [02:17, 365.31it/s]"
     ]
    },
    {
     "name": "stderr",
     "output_type": "stream",
     "text": [
      "\r",
      "48477it [02:17, 373.34it/s]"
     ]
    },
    {
     "name": "stderr",
     "output_type": "stream",
     "text": [
      "\r",
      "48515it [02:17, 369.40it/s]"
     ]
    },
    {
     "name": "stderr",
     "output_type": "stream",
     "text": [
      "\r",
      "48553it [02:17, 369.62it/s]"
     ]
    },
    {
     "name": "stderr",
     "output_type": "stream",
     "text": [
      "\r",
      "48591it [02:17, 369.88it/s]"
     ]
    },
    {
     "name": "stderr",
     "output_type": "stream",
     "text": [
      "\r",
      "48629it [02:17, 372.65it/s]"
     ]
    },
    {
     "name": "stderr",
     "output_type": "stream",
     "text": [
      "\r",
      "48667it [02:17, 368.53it/s]"
     ]
    },
    {
     "name": "stderr",
     "output_type": "stream",
     "text": [
      "\r",
      "48704it [02:17, 360.83it/s]"
     ]
    },
    {
     "name": "stderr",
     "output_type": "stream",
     "text": [
      "\r",
      "48743it [02:17, 368.05it/s]"
     ]
    },
    {
     "name": "stderr",
     "output_type": "stream",
     "text": [
      "\r",
      "48780it [02:18, 363.74it/s]"
     ]
    },
    {
     "name": "stderr",
     "output_type": "stream",
     "text": [
      "\r",
      "48821it [02:18, 375.61it/s]"
     ]
    },
    {
     "name": "stderr",
     "output_type": "stream",
     "text": [
      "\r",
      "48859it [02:18, 375.13it/s]"
     ]
    },
    {
     "name": "stderr",
     "output_type": "stream",
     "text": [
      "\r",
      "48897it [02:18, 375.66it/s]"
     ]
    },
    {
     "name": "stderr",
     "output_type": "stream",
     "text": [
      "\r",
      "48935it [02:18, 369.67it/s]"
     ]
    },
    {
     "name": "stderr",
     "output_type": "stream",
     "text": [
      "\r",
      "48973it [02:18, 369.34it/s]"
     ]
    },
    {
     "name": "stderr",
     "output_type": "stream",
     "text": [
      "\r",
      "49012it [02:18, 374.30it/s]"
     ]
    },
    {
     "name": "stderr",
     "output_type": "stream",
     "text": [
      "\r",
      "49050it [02:18, 373.30it/s]"
     ]
    },
    {
     "name": "stderr",
     "output_type": "stream",
     "text": [
      "\r",
      "49088it [02:18, 371.60it/s]"
     ]
    },
    {
     "name": "stderr",
     "output_type": "stream",
     "text": [
      "\r",
      "49126it [02:18, 365.62it/s]"
     ]
    },
    {
     "name": "stderr",
     "output_type": "stream",
     "text": [
      "\r",
      "49163it [02:19, 365.76it/s]"
     ]
    },
    {
     "name": "stderr",
     "output_type": "stream",
     "text": [
      "\r",
      "49200it [02:19, 365.31it/s]"
     ]
    },
    {
     "name": "stderr",
     "output_type": "stream",
     "text": [
      "\r",
      "49237it [02:19, 365.80it/s]"
     ]
    },
    {
     "name": "stderr",
     "output_type": "stream",
     "text": [
      "\r",
      "49277it [02:19, 373.48it/s]"
     ]
    },
    {
     "name": "stderr",
     "output_type": "stream",
     "text": [
      "\r",
      "49316it [02:19, 375.82it/s]"
     ]
    },
    {
     "name": "stderr",
     "output_type": "stream",
     "text": [
      "\r",
      "49357it [02:19, 385.40it/s]"
     ]
    },
    {
     "name": "stderr",
     "output_type": "stream",
     "text": [
      "\r",
      "49397it [02:19, 387.64it/s]"
     ]
    },
    {
     "name": "stderr",
     "output_type": "stream",
     "text": [
      "\r",
      "49441it [02:19, 399.71it/s]"
     ]
    },
    {
     "name": "stderr",
     "output_type": "stream",
     "text": [
      "\r",
      "49481it [02:19, 387.57it/s]"
     ]
    },
    {
     "name": "stderr",
     "output_type": "stream",
     "text": [
      "\r",
      "49520it [02:19, 378.54it/s]"
     ]
    },
    {
     "name": "stderr",
     "output_type": "stream",
     "text": [
      "\r",
      "49558it [02:20, 377.59it/s]"
     ]
    },
    {
     "name": "stderr",
     "output_type": "stream",
     "text": [
      "\r",
      "49596it [02:20, 378.02it/s]"
     ]
    },
    {
     "name": "stderr",
     "output_type": "stream",
     "text": [
      "\r",
      "49635it [02:20, 378.51it/s]"
     ]
    },
    {
     "name": "stderr",
     "output_type": "stream",
     "text": [
      "\r",
      "49673it [02:20, 378.82it/s]"
     ]
    },
    {
     "name": "stderr",
     "output_type": "stream",
     "text": [
      "\r",
      "49711it [02:20, 378.50it/s]"
     ]
    },
    {
     "name": "stderr",
     "output_type": "stream",
     "text": [
      "\r",
      "49751it [02:20, 381.58it/s]"
     ]
    },
    {
     "name": "stderr",
     "output_type": "stream",
     "text": [
      "\r",
      "49790it [02:20, 377.45it/s]"
     ]
    },
    {
     "name": "stderr",
     "output_type": "stream",
     "text": [
      "\r",
      "49828it [02:20, 374.65it/s]"
     ]
    },
    {
     "name": "stderr",
     "output_type": "stream",
     "text": [
      "\r",
      "49866it [02:20, 373.79it/s]"
     ]
    },
    {
     "name": "stderr",
     "output_type": "stream",
     "text": [
      "\r",
      "49904it [02:20, 371.55it/s]"
     ]
    },
    {
     "name": "stderr",
     "output_type": "stream",
     "text": [
      "\r",
      "49942it [02:21, 371.23it/s]"
     ]
    },
    {
     "name": "stderr",
     "output_type": "stream",
     "text": [
      "\r",
      "49981it [02:21, 375.01it/s]"
     ]
    },
    {
     "name": "stderr",
     "output_type": "stream",
     "text": [
      "\r",
      "50020it [02:21, 375.98it/s]"
     ]
    },
    {
     "name": "stderr",
     "output_type": "stream",
     "text": [
      "\r",
      "50059it [02:21, 377.99it/s]"
     ]
    },
    {
     "name": "stderr",
     "output_type": "stream",
     "text": [
      "\r",
      "50099it [02:21, 382.91it/s]"
     ]
    },
    {
     "name": "stderr",
     "output_type": "stream",
     "text": [
      "\r",
      "50138it [02:21, 374.99it/s]"
     ]
    },
    {
     "name": "stderr",
     "output_type": "stream",
     "text": [
      "\r",
      "50177it [02:21, 378.88it/s]"
     ]
    },
    {
     "name": "stderr",
     "output_type": "stream",
     "text": [
      "\r",
      "50216it [02:21, 379.74it/s]"
     ]
    },
    {
     "name": "stderr",
     "output_type": "stream",
     "text": [
      "\r",
      "50255it [02:21, 379.66it/s]"
     ]
    },
    {
     "name": "stderr",
     "output_type": "stream",
     "text": [
      "\r",
      "50295it [02:22, 383.41it/s]"
     ]
    },
    {
     "name": "stderr",
     "output_type": "stream",
     "text": [
      "\r",
      "50334it [02:22, 377.96it/s]"
     ]
    },
    {
     "name": "stderr",
     "output_type": "stream",
     "text": [
      "\r",
      "50374it [02:22, 382.60it/s]"
     ]
    },
    {
     "name": "stderr",
     "output_type": "stream",
     "text": [
      "\r",
      "50413it [02:22, 383.14it/s]"
     ]
    },
    {
     "name": "stderr",
     "output_type": "stream",
     "text": [
      "\r",
      "50452it [02:22, 376.17it/s]"
     ]
    },
    {
     "name": "stderr",
     "output_type": "stream",
     "text": [
      "\r",
      "50492it [02:22, 381.33it/s]"
     ]
    },
    {
     "name": "stderr",
     "output_type": "stream",
     "text": [
      "\r",
      "50531it [02:22, 382.20it/s]"
     ]
    },
    {
     "name": "stderr",
     "output_type": "stream",
     "text": [
      "\r",
      "50570it [02:22, 382.40it/s]"
     ]
    },
    {
     "name": "stderr",
     "output_type": "stream",
     "text": [
      "\r",
      "50609it [02:22, 373.91it/s]"
     ]
    },
    {
     "name": "stderr",
     "output_type": "stream",
     "text": [
      "\r",
      "50647it [02:22, 375.17it/s]"
     ]
    },
    {
     "name": "stderr",
     "output_type": "stream",
     "text": [
      "\r",
      "50685it [02:23, 373.54it/s]"
     ]
    },
    {
     "name": "stderr",
     "output_type": "stream",
     "text": [
      "\r",
      "50726it [02:23, 381.52it/s]"
     ]
    },
    {
     "name": "stderr",
     "output_type": "stream",
     "text": [
      "\r",
      "50765it [02:23, 379.65it/s]"
     ]
    },
    {
     "name": "stderr",
     "output_type": "stream",
     "text": [
      "\r",
      "50803it [02:23, 376.51it/s]"
     ]
    },
    {
     "name": "stderr",
     "output_type": "stream",
     "text": [
      "\r",
      "50841it [02:23, 376.13it/s]"
     ]
    },
    {
     "name": "stderr",
     "output_type": "stream",
     "text": [
      "\r",
      "50880it [02:23, 377.67it/s]"
     ]
    },
    {
     "name": "stderr",
     "output_type": "stream",
     "text": [
      "\r",
      "50919it [02:23, 380.72it/s]"
     ]
    },
    {
     "name": "stderr",
     "output_type": "stream",
     "text": [
      "\r",
      "50958it [02:23, 371.05it/s]"
     ]
    },
    {
     "name": "stderr",
     "output_type": "stream",
     "text": [
      "\r",
      "50997it [02:23, 375.39it/s]"
     ]
    },
    {
     "name": "stderr",
     "output_type": "stream",
     "text": [
      "\r",
      "51035it [02:23, 357.88it/s]"
     ]
    },
    {
     "name": "stderr",
     "output_type": "stream",
     "text": [
      "\r",
      "51074it [02:24, 366.68it/s]"
     ]
    },
    {
     "name": "stderr",
     "output_type": "stream",
     "text": [
      "\r",
      "51111it [02:24, 362.87it/s]"
     ]
    },
    {
     "name": "stderr",
     "output_type": "stream",
     "text": [
      "\r",
      "51152it [02:24, 374.42it/s]"
     ]
    },
    {
     "name": "stderr",
     "output_type": "stream",
     "text": [
      "\r",
      "51190it [02:24, 373.74it/s]"
     ]
    },
    {
     "name": "stderr",
     "output_type": "stream",
     "text": [
      "\r",
      "51231it [02:24, 382.52it/s]"
     ]
    },
    {
     "name": "stderr",
     "output_type": "stream",
     "text": [
      "\r",
      "51271it [02:24, 386.78it/s]"
     ]
    },
    {
     "name": "stderr",
     "output_type": "stream",
     "text": [
      "\r",
      "51313it [02:24, 396.06it/s]"
     ]
    },
    {
     "name": "stderr",
     "output_type": "stream",
     "text": [
      "\r",
      "51353it [02:24, 388.64it/s]"
     ]
    },
    {
     "name": "stderr",
     "output_type": "stream",
     "text": [
      "\r",
      "51392it [02:24, 381.04it/s]"
     ]
    },
    {
     "name": "stderr",
     "output_type": "stream",
     "text": [
      "\r",
      "51431it [02:25, 382.87it/s]"
     ]
    },
    {
     "name": "stderr",
     "output_type": "stream",
     "text": [
      "\r",
      "51470it [02:25, 379.34it/s]"
     ]
    },
    {
     "name": "stderr",
     "output_type": "stream",
     "text": [
      "\r",
      "51509it [02:25, 381.85it/s]"
     ]
    },
    {
     "name": "stderr",
     "output_type": "stream",
     "text": [
      "\r",
      "51548it [02:25, 377.55it/s]"
     ]
    },
    {
     "name": "stderr",
     "output_type": "stream",
     "text": [
      "\r",
      "51586it [02:25, 374.99it/s]"
     ]
    },
    {
     "name": "stderr",
     "output_type": "stream",
     "text": [
      "\r",
      "51624it [02:25, 375.34it/s]"
     ]
    },
    {
     "name": "stderr",
     "output_type": "stream",
     "text": [
      "\r",
      "51662it [02:25, 376.49it/s]"
     ]
    },
    {
     "name": "stderr",
     "output_type": "stream",
     "text": [
      "\r",
      "51700it [02:25, 368.90it/s]"
     ]
    },
    {
     "name": "stderr",
     "output_type": "stream",
     "text": [
      "\r",
      "51738it [02:25, 370.65it/s]"
     ]
    },
    {
     "name": "stderr",
     "output_type": "stream",
     "text": [
      "\r",
      "51777it [02:25, 374.93it/s]"
     ]
    },
    {
     "name": "stderr",
     "output_type": "stream",
     "text": [
      "\r",
      "51815it [02:26, 372.05it/s]"
     ]
    },
    {
     "name": "stderr",
     "output_type": "stream",
     "text": [
      "\r",
      "51856it [02:26, 381.01it/s]"
     ]
    },
    {
     "name": "stderr",
     "output_type": "stream",
     "text": [
      "\r",
      "51895it [02:26, 376.61it/s]"
     ]
    },
    {
     "name": "stderr",
     "output_type": "stream",
     "text": [
      "\r",
      "51935it [02:26, 381.75it/s]"
     ]
    },
    {
     "name": "stderr",
     "output_type": "stream",
     "text": [
      "\r",
      "51974it [02:26, 383.20it/s]"
     ]
    },
    {
     "name": "stderr",
     "output_type": "stream",
     "text": [
      "\r",
      "52013it [02:26, 380.16it/s]"
     ]
    },
    {
     "name": "stderr",
     "output_type": "stream",
     "text": [
      "\r",
      "52052it [02:26, 380.50it/s]"
     ]
    },
    {
     "name": "stderr",
     "output_type": "stream",
     "text": [
      "\r",
      "52091it [02:26, 376.80it/s]"
     ]
    },
    {
     "name": "stderr",
     "output_type": "stream",
     "text": [
      "\r",
      "52129it [02:26, 375.74it/s]"
     ]
    },
    {
     "name": "stderr",
     "output_type": "stream",
     "text": [
      "\r",
      "52169it [02:26, 382.03it/s]"
     ]
    },
    {
     "name": "stderr",
     "output_type": "stream",
     "text": [
      "\r",
      "52208it [02:27, 380.66it/s]"
     ]
    },
    {
     "name": "stderr",
     "output_type": "stream",
     "text": [
      "\r",
      "52248it [02:27, 385.56it/s]"
     ]
    },
    {
     "name": "stderr",
     "output_type": "stream",
     "text": [
      "\r",
      "52287it [02:27, 384.09it/s]"
     ]
    },
    {
     "name": "stderr",
     "output_type": "stream",
     "text": [
      "\r",
      "52326it [02:27, 379.88it/s]"
     ]
    },
    {
     "name": "stderr",
     "output_type": "stream",
     "text": [
      "\r",
      "52365it [02:27, 376.82it/s]"
     ]
    },
    {
     "name": "stderr",
     "output_type": "stream",
     "text": [
      "\r",
      "52405it [02:27, 378.55it/s]"
     ]
    },
    {
     "name": "stderr",
     "output_type": "stream",
     "text": [
      "\r",
      "52443it [02:27, 378.26it/s]"
     ]
    },
    {
     "name": "stderr",
     "output_type": "stream",
     "text": [
      "\r",
      "52481it [02:27, 374.29it/s]"
     ]
    },
    {
     "name": "stderr",
     "output_type": "stream",
     "text": [
      "\r",
      "52520it [02:27, 378.49it/s]"
     ]
    },
    {
     "name": "stderr",
     "output_type": "stream",
     "text": [
      "\r",
      "52558it [02:28, 374.48it/s]"
     ]
    },
    {
     "name": "stderr",
     "output_type": "stream",
     "text": [
      "\r",
      "52598it [02:28, 381.78it/s]"
     ]
    },
    {
     "name": "stderr",
     "output_type": "stream",
     "text": [
      "\r",
      "52637it [02:28, 380.18it/s]"
     ]
    },
    {
     "name": "stderr",
     "output_type": "stream",
     "text": [
      "\r",
      "52676it [02:28, 380.55it/s]"
     ]
    },
    {
     "name": "stderr",
     "output_type": "stream",
     "text": [
      "\r",
      "52715it [02:28, 377.76it/s]"
     ]
    },
    {
     "name": "stderr",
     "output_type": "stream",
     "text": [
      "\r",
      "52753it [02:28, 376.95it/s]"
     ]
    },
    {
     "name": "stderr",
     "output_type": "stream",
     "text": [
      "\r",
      "52792it [02:28, 379.04it/s]"
     ]
    },
    {
     "name": "stderr",
     "output_type": "stream",
     "text": [
      "\r",
      "52830it [02:28, 371.55it/s]"
     ]
    },
    {
     "name": "stderr",
     "output_type": "stream",
     "text": [
      "\r",
      "52868it [02:28, 363.34it/s]"
     ]
    },
    {
     "name": "stderr",
     "output_type": "stream",
     "text": [
      "\r",
      "52905it [02:28, 356.23it/s]"
     ]
    },
    {
     "name": "stderr",
     "output_type": "stream",
     "text": [
      "\r",
      "52943it [02:29, 362.30it/s]"
     ]
    },
    {
     "name": "stderr",
     "output_type": "stream",
     "text": [
      "\r",
      "52980it [02:29, 360.46it/s]"
     ]
    },
    {
     "name": "stderr",
     "output_type": "stream",
     "text": [
      "\r",
      "53018it [02:29, 364.30it/s]"
     ]
    },
    {
     "name": "stderr",
     "output_type": "stream",
     "text": [
      "\r",
      "53057it [02:29, 370.40it/s]"
     ]
    },
    {
     "name": "stderr",
     "output_type": "stream",
     "text": [
      "\r",
      "53096it [02:29, 375.29it/s]"
     ]
    },
    {
     "name": "stderr",
     "output_type": "stream",
     "text": [
      "\r",
      "53137it [02:29, 383.46it/s]"
     ]
    },
    {
     "name": "stderr",
     "output_type": "stream",
     "text": [
      "\r",
      "53177it [02:29, 388.06it/s]"
     ]
    },
    {
     "name": "stderr",
     "output_type": "stream",
     "text": [
      "\r",
      "53220it [02:29, 397.22it/s]"
     ]
    },
    {
     "name": "stderr",
     "output_type": "stream",
     "text": [
      "\r",
      "53260it [02:29, 387.67it/s]"
     ]
    },
    {
     "name": "stderr",
     "output_type": "stream",
     "text": [
      "\r",
      "53299it [02:29, 380.50it/s]"
     ]
    },
    {
     "name": "stderr",
     "output_type": "stream",
     "text": [
      "\r",
      "53338it [02:30, 380.39it/s]"
     ]
    },
    {
     "name": "stderr",
     "output_type": "stream",
     "text": [
      "\r",
      "53377it [02:30, 381.87it/s]"
     ]
    },
    {
     "name": "stderr",
     "output_type": "stream",
     "text": [
      "\r",
      "53416it [02:30, 379.80it/s]"
     ]
    },
    {
     "name": "stderr",
     "output_type": "stream",
     "text": [
      "\r",
      "53454it [02:30, 370.85it/s]"
     ]
    },
    {
     "name": "stderr",
     "output_type": "stream",
     "text": [
      "\r",
      "53492it [02:30, 367.08it/s]"
     ]
    },
    {
     "name": "stderr",
     "output_type": "stream",
     "text": [
      "\r",
      "53531it [02:30, 373.40it/s]"
     ]
    },
    {
     "name": "stderr",
     "output_type": "stream",
     "text": [
      "\r",
      "53569it [02:30, 374.79it/s]"
     ]
    },
    {
     "name": "stderr",
     "output_type": "stream",
     "text": [
      "\r",
      "53608it [02:30, 376.64it/s]"
     ]
    },
    {
     "name": "stderr",
     "output_type": "stream",
     "text": [
      "\r",
      "53646it [02:30, 371.46it/s]"
     ]
    },
    {
     "name": "stderr",
     "output_type": "stream",
     "text": [
      "\r",
      "53684it [02:31, 370.17it/s]"
     ]
    },
    {
     "name": "stderr",
     "output_type": "stream",
     "text": [
      "\r",
      "53723it [02:31, 374.49it/s]"
     ]
    },
    {
     "name": "stderr",
     "output_type": "stream",
     "text": [
      "\r",
      "53764it [02:31, 382.73it/s]"
     ]
    },
    {
     "name": "stderr",
     "output_type": "stream",
     "text": [
      "\r",
      "53803it [02:31, 380.28it/s]"
     ]
    },
    {
     "name": "stderr",
     "output_type": "stream",
     "text": [
      "\r",
      "53844it [02:31, 387.37it/s]"
     ]
    },
    {
     "name": "stderr",
     "output_type": "stream",
     "text": [
      "\r",
      "53883it [02:31, 383.21it/s]"
     ]
    },
    {
     "name": "stderr",
     "output_type": "stream",
     "text": [
      "\r",
      "53922it [02:31, 379.56it/s]"
     ]
    },
    {
     "name": "stderr",
     "output_type": "stream",
     "text": [
      "\r",
      "53960it [02:31, 372.53it/s]"
     ]
    },
    {
     "name": "stderr",
     "output_type": "stream",
     "text": [
      "\r",
      "53998it [02:31, 371.85it/s]"
     ]
    },
    {
     "name": "stderr",
     "output_type": "stream",
     "text": [
      "\r",
      "54036it [02:31, 373.98it/s]"
     ]
    },
    {
     "name": "stderr",
     "output_type": "stream",
     "text": [
      "\r",
      "54075it [02:32, 377.44it/s]"
     ]
    },
    {
     "name": "stderr",
     "output_type": "stream",
     "text": [
      "\r",
      "54114it [02:32, 379.69it/s]"
     ]
    },
    {
     "name": "stderr",
     "output_type": "stream",
     "text": [
      "\r",
      "54152it [02:32, 377.18it/s]"
     ]
    },
    {
     "name": "stderr",
     "output_type": "stream",
     "text": [
      "\r",
      "54190it [02:32, 372.44it/s]"
     ]
    },
    {
     "name": "stderr",
     "output_type": "stream",
     "text": [
      "\r",
      "54228it [02:32, 365.15it/s]"
     ]
    },
    {
     "name": "stderr",
     "output_type": "stream",
     "text": [
      "\r",
      "54265it [02:32, 365.81it/s]"
     ]
    },
    {
     "name": "stderr",
     "output_type": "stream",
     "text": [
      "\r",
      "54303it [02:32, 367.18it/s]"
     ]
    },
    {
     "name": "stderr",
     "output_type": "stream",
     "text": [
      "\r",
      "54341it [02:32, 367.57it/s]"
     ]
    },
    {
     "name": "stderr",
     "output_type": "stream",
     "text": [
      "\r",
      "54379it [02:32, 369.09it/s]"
     ]
    },
    {
     "name": "stderr",
     "output_type": "stream",
     "text": [
      "\r",
      "54416it [02:32, 367.27it/s]"
     ]
    },
    {
     "name": "stderr",
     "output_type": "stream",
     "text": [
      "\r",
      "54453it [02:33, 365.70it/s]"
     ]
    },
    {
     "name": "stderr",
     "output_type": "stream",
     "text": [
      "\r",
      "54493it [02:33, 373.12it/s]"
     ]
    },
    {
     "name": "stderr",
     "output_type": "stream",
     "text": [
      "\r",
      "54533it [02:33, 380.47it/s]"
     ]
    },
    {
     "name": "stderr",
     "output_type": "stream",
     "text": [
      "\r",
      "54572it [02:33, 373.75it/s]"
     ]
    },
    {
     "name": "stderr",
     "output_type": "stream",
     "text": [
      "\r",
      "54610it [02:33, 373.62it/s]"
     ]
    },
    {
     "name": "stderr",
     "output_type": "stream",
     "text": [
      "\r",
      "54648it [02:33, 374.40it/s]"
     ]
    },
    {
     "name": "stderr",
     "output_type": "stream",
     "text": [
      "\r",
      "54686it [02:33, 375.64it/s]"
     ]
    },
    {
     "name": "stderr",
     "output_type": "stream",
     "text": [
      "\r",
      "54724it [02:33, 375.05it/s]"
     ]
    },
    {
     "name": "stderr",
     "output_type": "stream",
     "text": [
      "\r",
      "54762it [02:33, 372.79it/s]"
     ]
    },
    {
     "name": "stderr",
     "output_type": "stream",
     "text": [
      "\r",
      "54800it [02:34, 362.44it/s]"
     ]
    },
    {
     "name": "stderr",
     "output_type": "stream",
     "text": [
      "\r",
      "54839it [02:34, 367.93it/s]"
     ]
    },
    {
     "name": "stderr",
     "output_type": "stream",
     "text": [
      "\r",
      "54876it [02:34, 364.30it/s]"
     ]
    },
    {
     "name": "stderr",
     "output_type": "stream",
     "text": [
      "\r",
      "54917it [02:34, 375.29it/s]"
     ]
    },
    {
     "name": "stderr",
     "output_type": "stream",
     "text": [
      "\r",
      "54955it [02:34, 375.67it/s]"
     ]
    },
    {
     "name": "stderr",
     "output_type": "stream",
     "text": [
      "\r",
      "54997it [02:34, 386.35it/s]"
     ]
    },
    {
     "name": "stderr",
     "output_type": "stream",
     "text": [
      "\r",
      "55038it [02:34, 391.80it/s]"
     ]
    },
    {
     "name": "stderr",
     "output_type": "stream",
     "text": [
      "\r",
      "55083it [02:34, 405.51it/s]"
     ]
    },
    {
     "name": "stderr",
     "output_type": "stream",
     "text": [
      "\r",
      "55124it [02:34, 393.00it/s]"
     ]
    },
    {
     "name": "stderr",
     "output_type": "stream",
     "text": [
      "\r",
      "55164it [02:34, 379.96it/s]"
     ]
    },
    {
     "name": "stderr",
     "output_type": "stream",
     "text": [
      "\r",
      "55203it [02:35, 379.02it/s]"
     ]
    },
    {
     "name": "stderr",
     "output_type": "stream",
     "text": [
      "\r",
      "55242it [02:35, 380.98it/s]"
     ]
    },
    {
     "name": "stderr",
     "output_type": "stream",
     "text": [
      "\r",
      "55281it [02:35, 382.19it/s]"
     ]
    },
    {
     "name": "stderr",
     "output_type": "stream",
     "text": [
      "\r",
      "55320it [02:35, 379.21it/s]"
     ]
    },
    {
     "name": "stderr",
     "output_type": "stream",
     "text": [
      "\r",
      "55358it [02:35, 376.26it/s]"
     ]
    },
    {
     "name": "stderr",
     "output_type": "stream",
     "text": [
      "\r",
      "55398it [02:35, 381.88it/s]"
     ]
    },
    {
     "name": "stderr",
     "output_type": "stream",
     "text": [
      "\r",
      "55437it [02:35, 382.25it/s]"
     ]
    },
    {
     "name": "stderr",
     "output_type": "stream",
     "text": [
      "\r",
      "55476it [02:35, 380.00it/s]"
     ]
    },
    {
     "name": "stderr",
     "output_type": "stream",
     "text": [
      "\r",
      "55515it [02:35, 376.12it/s]"
     ]
    },
    {
     "name": "stderr",
     "output_type": "stream",
     "text": [
      "\r",
      "55553it [02:35, 375.41it/s]"
     ]
    },
    {
     "name": "stderr",
     "output_type": "stream",
     "text": [
      "\r",
      "55592it [02:36, 377.97it/s]"
     ]
    },
    {
     "name": "stderr",
     "output_type": "stream",
     "text": [
      "\r",
      "55632it [02:36, 382.08it/s]"
     ]
    },
    {
     "name": "stderr",
     "output_type": "stream",
     "text": [
      "\r",
      "55671it [02:36, 381.69it/s]"
     ]
    },
    {
     "name": "stderr",
     "output_type": "stream",
     "text": [
      "\r",
      "55712it [02:36, 387.50it/s]"
     ]
    },
    {
     "name": "stderr",
     "output_type": "stream",
     "text": [
      "\r",
      "55752it [02:36, 387.83it/s]"
     ]
    },
    {
     "name": "stderr",
     "output_type": "stream",
     "text": [
      "\r",
      "55791it [02:36, 382.43it/s]"
     ]
    },
    {
     "name": "stderr",
     "output_type": "stream",
     "text": [
      "\r",
      "55830it [02:36, 378.65it/s]"
     ]
    },
    {
     "name": "stderr",
     "output_type": "stream",
     "text": [
      "\r",
      "55869it [02:36, 380.98it/s]"
     ]
    },
    {
     "name": "stderr",
     "output_type": "stream",
     "text": [
      "\r",
      "55908it [02:36, 374.06it/s]"
     ]
    },
    {
     "name": "stderr",
     "output_type": "stream",
     "text": [
      "\r",
      "55946it [02:37, 368.45it/s]"
     ]
    },
    {
     "name": "stderr",
     "output_type": "stream",
     "text": [
      "\r",
      "55984it [02:37, 369.54it/s]"
     ]
    },
    {
     "name": "stderr",
     "output_type": "stream",
     "text": [
      "\r",
      "56021it [02:37, 365.05it/s]"
     ]
    },
    {
     "name": "stderr",
     "output_type": "stream",
     "text": [
      "\r",
      "56058it [02:37, 366.00it/s]"
     ]
    },
    {
     "name": "stderr",
     "output_type": "stream",
     "text": [
      "\r",
      "56097it [02:37, 371.90it/s]"
     ]
    },
    {
     "name": "stderr",
     "output_type": "stream",
     "text": [
      "\r",
      "56135it [02:37, 372.83it/s]"
     ]
    },
    {
     "name": "stderr",
     "output_type": "stream",
     "text": [
      "\r",
      "56174it [02:37, 375.86it/s]"
     ]
    },
    {
     "name": "stderr",
     "output_type": "stream",
     "text": [
      "\r",
      "56213it [02:37, 376.88it/s]"
     ]
    },
    {
     "name": "stderr",
     "output_type": "stream",
     "text": [
      "\r",
      "56251it [02:37, 377.40it/s]"
     ]
    },
    {
     "name": "stderr",
     "output_type": "stream",
     "text": [
      "\r",
      "56289it [02:37, 370.53it/s]"
     ]
    },
    {
     "name": "stderr",
     "output_type": "stream",
     "text": [
      "\r",
      "56330it [02:38, 381.82it/s]"
     ]
    },
    {
     "name": "stderr",
     "output_type": "stream",
     "text": [
      "\r",
      "56369it [02:38, 381.92it/s]"
     ]
    },
    {
     "name": "stderr",
     "output_type": "stream",
     "text": [
      "\r",
      "56408it [02:38, 377.29it/s]"
     ]
    },
    {
     "name": "stderr",
     "output_type": "stream",
     "text": [
      "\r",
      "56446it [02:38, 377.14it/s]"
     ]
    },
    {
     "name": "stderr",
     "output_type": "stream",
     "text": [
      "\r",
      "56485it [02:38, 377.21it/s]"
     ]
    },
    {
     "name": "stderr",
     "output_type": "stream",
     "text": [
      "\r",
      "56524it [02:38, 376.06it/s]"
     ]
    },
    {
     "name": "stderr",
     "output_type": "stream",
     "text": [
      "\r",
      "56562it [02:38, 367.60it/s]"
     ]
    },
    {
     "name": "stderr",
     "output_type": "stream",
     "text": [
      "\r",
      "56602it [02:38, 374.27it/s]"
     ]
    },
    {
     "name": "stderr",
     "output_type": "stream",
     "text": [
      "\r",
      "56640it [02:38, 353.83it/s]"
     ]
    },
    {
     "name": "stderr",
     "output_type": "stream",
     "text": [
      "\r",
      "56679it [02:38, 361.99it/s]"
     ]
    },
    {
     "name": "stderr",
     "output_type": "stream",
     "text": [
      "\r",
      "56716it [02:39, 361.61it/s]"
     ]
    },
    {
     "name": "stderr",
     "output_type": "stream",
     "text": [
      "\r",
      "56757it [02:39, 372.95it/s]"
     ]
    },
    {
     "name": "stderr",
     "output_type": "stream",
     "text": [
      "\r",
      "56795it [02:39, 371.58it/s]"
     ]
    },
    {
     "name": "stderr",
     "output_type": "stream",
     "text": [
      "\r",
      "56836it [02:39, 380.26it/s]"
     ]
    },
    {
     "name": "stderr",
     "output_type": "stream",
     "text": [
      "\r",
      "56876it [02:39, 385.57it/s]"
     ]
    },
    {
     "name": "stderr",
     "output_type": "stream",
     "text": [
      "\r",
      "56919it [02:39, 397.13it/s]"
     ]
    },
    {
     "name": "stderr",
     "output_type": "stream",
     "text": [
      "\r",
      "56959it [02:39, 389.86it/s]"
     ]
    },
    {
     "name": "stderr",
     "output_type": "stream",
     "text": [
      "\r",
      "56999it [02:39, 382.73it/s]"
     ]
    },
    {
     "name": "stderr",
     "output_type": "stream",
     "text": [
      "\r",
      "57038it [02:39, 384.00it/s]"
     ]
    },
    {
     "name": "stderr",
     "output_type": "stream",
     "text": [
      "\r",
      "57077it [02:40, 380.29it/s]"
     ]
    },
    {
     "name": "stderr",
     "output_type": "stream",
     "text": [
      "\r",
      "57116it [02:40, 380.24it/s]"
     ]
    },
    {
     "name": "stderr",
     "output_type": "stream",
     "text": [
      "\r",
      "57155it [02:40, 379.09it/s]"
     ]
    },
    {
     "name": "stderr",
     "output_type": "stream",
     "text": [
      "\r",
      "57194it [02:40, 378.31it/s]"
     ]
    },
    {
     "name": "stderr",
     "output_type": "stream",
     "text": [
      "\r",
      "57232it [02:40, 378.06it/s]"
     ]
    },
    {
     "name": "stderr",
     "output_type": "stream",
     "text": [
      "\r",
      "57270it [02:40, 376.98it/s]"
     ]
    },
    {
     "name": "stderr",
     "output_type": "stream",
     "text": [
      "\r",
      "57308it [02:40, 376.95it/s]"
     ]
    },
    {
     "name": "stderr",
     "output_type": "stream",
     "text": [
      "\r",
      "57346it [02:40, 376.58it/s]"
     ]
    },
    {
     "name": "stderr",
     "output_type": "stream",
     "text": [
      "\r",
      "57385it [02:40, 377.93it/s]"
     ]
    },
    {
     "name": "stderr",
     "output_type": "stream",
     "text": [
      "\r",
      "57423it [02:40, 371.74it/s]"
     ]
    },
    {
     "name": "stderr",
     "output_type": "stream",
     "text": [
      "\r",
      "57463it [02:41, 378.21it/s]"
     ]
    },
    {
     "name": "stderr",
     "output_type": "stream",
     "text": [
      "\r",
      "57501it [02:41, 374.05it/s]"
     ]
    },
    {
     "name": "stderr",
     "output_type": "stream",
     "text": [
      "\r",
      "57541it [02:41, 380.42it/s]"
     ]
    },
    {
     "name": "stderr",
     "output_type": "stream",
     "text": [
      "\r",
      "57580it [02:41, 378.16it/s]"
     ]
    },
    {
     "name": "stderr",
     "output_type": "stream",
     "text": [
      "\r",
      "57618it [02:41, 378.07it/s]"
     ]
    },
    {
     "name": "stderr",
     "output_type": "stream",
     "text": [
      "\r",
      "57656it [02:41, 375.25it/s]"
     ]
    },
    {
     "name": "stderr",
     "output_type": "stream",
     "text": [
      "\r",
      "57695it [02:41, 378.96it/s]"
     ]
    },
    {
     "name": "stderr",
     "output_type": "stream",
     "text": [
      "\r",
      "57734it [02:41, 380.09it/s]"
     ]
    },
    {
     "name": "stderr",
     "output_type": "stream",
     "text": [
      "\r",
      "57773it [02:41, 373.83it/s]"
     ]
    },
    {
     "name": "stderr",
     "output_type": "stream",
     "text": [
      "\r",
      "57812it [02:41, 377.99it/s]"
     ]
    },
    {
     "name": "stderr",
     "output_type": "stream",
     "text": [
      "\r",
      "57850it [02:42, 364.07it/s]"
     ]
    },
    {
     "name": "stderr",
     "output_type": "stream",
     "text": [
      "\r",
      "57887it [02:42, 363.19it/s]"
     ]
    },
    {
     "name": "stderr",
     "output_type": "stream",
     "text": [
      "\r",
      "57924it [02:42, 364.01it/s]"
     ]
    },
    {
     "name": "stderr",
     "output_type": "stream",
     "text": [
      "\r",
      "57962it [02:42, 366.70it/s]"
     ]
    },
    {
     "name": "stderr",
     "output_type": "stream",
     "text": [
      "\r",
      "58003it [02:42, 377.02it/s]"
     ]
    },
    {
     "name": "stderr",
     "output_type": "stream",
     "text": [
      "\r",
      "58041it [02:42, 373.23it/s]"
     ]
    },
    {
     "name": "stderr",
     "output_type": "stream",
     "text": [
      "\r",
      "58079it [02:42, 368.19it/s]"
     ]
    },
    {
     "name": "stderr",
     "output_type": "stream",
     "text": [
      "\r",
      "58116it [02:42, 366.17it/s]"
     ]
    },
    {
     "name": "stderr",
     "output_type": "stream",
     "text": [
      "\r",
      "58153it [02:42, 359.96it/s]"
     ]
    },
    {
     "name": "stderr",
     "output_type": "stream",
     "text": [
      "\r",
      "58193it [02:43, 370.64it/s]"
     ]
    },
    {
     "name": "stderr",
     "output_type": "stream",
     "text": [
      "\r",
      "58231it [02:43, 372.85it/s]"
     ]
    },
    {
     "name": "stderr",
     "output_type": "stream",
     "text": [
      "\r",
      "58269it [02:43, 371.24it/s]"
     ]
    },
    {
     "name": "stderr",
     "output_type": "stream",
     "text": [
      "\r",
      "58307it [02:43, 370.63it/s]"
     ]
    },
    {
     "name": "stderr",
     "output_type": "stream",
     "text": [
      "\r",
      "58345it [02:43, 369.52it/s]"
     ]
    },
    {
     "name": "stderr",
     "output_type": "stream",
     "text": [
      "\r",
      "58384it [02:43, 373.21it/s]"
     ]
    },
    {
     "name": "stderr",
     "output_type": "stream",
     "text": [
      "\r",
      "58422it [02:43, 369.32it/s]"
     ]
    },
    {
     "name": "stderr",
     "output_type": "stream",
     "text": [
      "\r",
      "58459it [02:43, 366.18it/s]"
     ]
    },
    {
     "name": "stderr",
     "output_type": "stream",
     "text": [
      "\r",
      "58496it [02:43, 351.95it/s]"
     ]
    },
    {
     "name": "stderr",
     "output_type": "stream",
     "text": [
      "\r",
      "58533it [02:43, 356.66it/s]"
     ]
    },
    {
     "name": "stderr",
     "output_type": "stream",
     "text": [
      "\r",
      "58569it [02:44, 354.42it/s]"
     ]
    },
    {
     "name": "stderr",
     "output_type": "stream",
     "text": [
      "\r",
      "58606it [02:44, 358.56it/s]"
     ]
    },
    {
     "name": "stderr",
     "output_type": "stream",
     "text": [
      "\r",
      "58645it [02:44, 365.88it/s]"
     ]
    },
    {
     "name": "stderr",
     "output_type": "stream",
     "text": [
      "\r",
      "58682it [02:44, 366.29it/s]"
     ]
    },
    {
     "name": "stderr",
     "output_type": "stream",
     "text": [
      "\r",
      "58722it [02:44, 375.49it/s]"
     ]
    },
    {
     "name": "stderr",
     "output_type": "stream",
     "text": [
      "\r",
      "58761it [02:44, 379.53it/s]"
     ]
    },
    {
     "name": "stderr",
     "output_type": "stream",
     "text": [
      "\r",
      "58803it [02:44, 389.21it/s]"
     ]
    },
    {
     "name": "stderr",
     "output_type": "stream",
     "text": [
      "\r",
      "58842it [02:44, 380.95it/s]"
     ]
    },
    {
     "name": "stderr",
     "output_type": "stream",
     "text": [
      "\r",
      "58881it [02:44, 372.20it/s]"
     ]
    },
    {
     "name": "stderr",
     "output_type": "stream",
     "text": [
      "\r",
      "58919it [02:44, 373.61it/s]"
     ]
    },
    {
     "name": "stderr",
     "output_type": "stream",
     "text": [
      "\r",
      "58957it [02:45, 368.71it/s]"
     ]
    },
    {
     "name": "stderr",
     "output_type": "stream",
     "text": [
      "\r",
      "58995it [02:45, 369.62it/s]"
     ]
    },
    {
     "name": "stderr",
     "output_type": "stream",
     "text": [
      "\r",
      "59032it [02:45, 368.49it/s]"
     ]
    },
    {
     "name": "stderr",
     "output_type": "stream",
     "text": [
      "\r",
      "59069it [02:45, 365.84it/s]"
     ]
    },
    {
     "name": "stderr",
     "output_type": "stream",
     "text": [
      "\r",
      "59107it [02:45, 368.78it/s]"
     ]
    },
    {
     "name": "stderr",
     "output_type": "stream",
     "text": [
      "\r",
      "59145it [02:45, 366.82it/s]"
     ]
    },
    {
     "name": "stderr",
     "output_type": "stream",
     "text": [
      "\r",
      "59182it [02:45, 366.46it/s]"
     ]
    },
    {
     "name": "stderr",
     "output_type": "stream",
     "text": [
      "\r",
      "59219it [02:45, 367.38it/s]"
     ]
    },
    {
     "name": "stderr",
     "output_type": "stream",
     "text": [
      "\r",
      "59257it [02:45, 368.93it/s]"
     ]
    },
    {
     "name": "stderr",
     "output_type": "stream",
     "text": [
      "\r",
      "59294it [02:45, 362.59it/s]"
     ]
    },
    {
     "name": "stderr",
     "output_type": "stream",
     "text": [
      "\r",
      "59333it [02:46, 369.55it/s]"
     ]
    },
    {
     "name": "stderr",
     "output_type": "stream",
     "text": [
      "\r",
      "59370it [02:46, 362.14it/s]"
     ]
    },
    {
     "name": "stderr",
     "output_type": "stream",
     "text": [
      "\r",
      "59409it [02:46, 368.35it/s]"
     ]
    },
    {
     "name": "stderr",
     "output_type": "stream",
     "text": [
      "\r",
      "59449it [02:46, 375.95it/s]"
     ]
    },
    {
     "name": "stderr",
     "output_type": "stream",
     "text": [
      "\r",
      "59487it [02:46, 367.76it/s]"
     ]
    },
    {
     "name": "stderr",
     "output_type": "stream",
     "text": [
      "\r",
      "59525it [02:46, 370.31it/s]"
     ]
    },
    {
     "name": "stderr",
     "output_type": "stream",
     "text": [
      "\r",
      "59564it [02:46, 373.98it/s]"
     ]
    },
    {
     "name": "stderr",
     "output_type": "stream",
     "text": [
      "\r",
      "59602it [02:46, 369.06it/s]"
     ]
    },
    {
     "name": "stderr",
     "output_type": "stream",
     "text": [
      "\r",
      "59639it [02:46, 361.19it/s]"
     ]
    },
    {
     "name": "stderr",
     "output_type": "stream",
     "text": [
      "\r",
      "59678it [02:47, 367.40it/s]"
     ]
    },
    {
     "name": "stderr",
     "output_type": "stream",
     "text": [
      "\r",
      "59715it [02:47, 366.13it/s]"
     ]
    },
    {
     "name": "stderr",
     "output_type": "stream",
     "text": [
      "\r",
      "59752it [02:47, 362.70it/s]"
     ]
    },
    {
     "name": "stderr",
     "output_type": "stream",
     "text": [
      "\r",
      "59789it [02:47, 361.54it/s]"
     ]
    },
    {
     "name": "stderr",
     "output_type": "stream",
     "text": [
      "\r",
      "59827it [02:47, 366.41it/s]"
     ]
    },
    {
     "name": "stderr",
     "output_type": "stream",
     "text": [
      "\r",
      "59866it [02:47, 372.24it/s]"
     ]
    },
    {
     "name": "stderr",
     "output_type": "stream",
     "text": [
      "\r",
      "59906it [02:47, 377.14it/s]"
     ]
    },
    {
     "name": "stderr",
     "output_type": "stream",
     "text": [
      "\r",
      "59944it [02:47, 370.66it/s]"
     ]
    },
    {
     "name": "stderr",
     "output_type": "stream",
     "text": [
      "\r",
      "59982it [02:47, 360.27it/s]"
     ]
    },
    {
     "name": "stderr",
     "output_type": "stream",
     "text": [
      "\r",
      "60019it [02:47, 354.74it/s]"
     ]
    },
    {
     "name": "stderr",
     "output_type": "stream",
     "text": [
      "\r",
      "60058it [02:48, 361.88it/s]"
     ]
    },
    {
     "name": "stderr",
     "output_type": "stream",
     "text": [
      "\r",
      "60095it [02:48, 288.89it/s]"
     ]
    },
    {
     "name": "stderr",
     "output_type": "stream",
     "text": [
      "\r",
      "60131it [02:48, 304.16it/s]"
     ]
    },
    {
     "name": "stderr",
     "output_type": "stream",
     "text": [
      "\r",
      "60168it [02:48, 319.74it/s]"
     ]
    },
    {
     "name": "stderr",
     "output_type": "stream",
     "text": [
      "\r",
      "60205it [02:48, 332.48it/s]"
     ]
    },
    {
     "name": "stderr",
     "output_type": "stream",
     "text": [
      "\r",
      "60242it [02:48, 342.66it/s]"
     ]
    },
    {
     "name": "stderr",
     "output_type": "stream",
     "text": [
      "\r",
      "60278it [02:48, 346.23it/s]"
     ]
    },
    {
     "name": "stderr",
     "output_type": "stream",
     "text": [
      "\r",
      "60314it [02:48, 348.57it/s]"
     ]
    },
    {
     "name": "stderr",
     "output_type": "stream",
     "text": [
      "\r",
      "60350it [02:48, 341.03it/s]"
     ]
    },
    {
     "name": "stderr",
     "output_type": "stream",
     "text": [
      "\r",
      "60385it [02:49, 343.47it/s]"
     ]
    },
    {
     "name": "stderr",
     "output_type": "stream",
     "text": [
      "\r",
      "60420it [02:49, 342.08it/s]"
     ]
    },
    {
     "name": "stderr",
     "output_type": "stream",
     "text": [
      "\r",
      "60455it [02:49, 343.58it/s]"
     ]
    },
    {
     "name": "stderr",
     "output_type": "stream",
     "text": [
      "\r",
      "60493it [02:49, 353.29it/s]"
     ]
    },
    {
     "name": "stderr",
     "output_type": "stream",
     "text": [
      "\r",
      "60529it [02:49, 352.77it/s]"
     ]
    },
    {
     "name": "stderr",
     "output_type": "stream",
     "text": [
      "\r",
      "60568it [02:49, 361.04it/s]"
     ]
    },
    {
     "name": "stderr",
     "output_type": "stream",
     "text": [
      "\r",
      "60607it [02:49, 366.65it/s]"
     ]
    },
    {
     "name": "stderr",
     "output_type": "stream",
     "text": [
      "\r",
      "60647it [02:49, 373.35it/s]"
     ]
    },
    {
     "name": "stderr",
     "output_type": "stream",
     "text": [
      "\r",
      "60685it [02:49, 365.88it/s]"
     ]
    },
    {
     "name": "stderr",
     "output_type": "stream",
     "text": [
      "\r",
      "60722it [02:50, 363.19it/s]"
     ]
    },
    {
     "name": "stderr",
     "output_type": "stream",
     "text": [
      "\r",
      "60759it [02:50, 363.25it/s]"
     ]
    },
    {
     "name": "stderr",
     "output_type": "stream",
     "text": [
      "\r",
      "60796it [02:50, 358.49it/s]"
     ]
    },
    {
     "name": "stderr",
     "output_type": "stream",
     "text": [
      "\r",
      "60833it [02:50, 360.87it/s]"
     ]
    },
    {
     "name": "stderr",
     "output_type": "stream",
     "text": [
      "\r",
      "60870it [02:50, 356.44it/s]"
     ]
    },
    {
     "name": "stderr",
     "output_type": "stream",
     "text": [
      "\r",
      "60906it [02:50, 352.54it/s]"
     ]
    },
    {
     "name": "stderr",
     "output_type": "stream",
     "text": [
      "\r",
      "60942it [02:50, 354.48it/s]"
     ]
    },
    {
     "name": "stderr",
     "output_type": "stream",
     "text": [
      "\r",
      "60979it [02:50, 355.88it/s]"
     ]
    },
    {
     "name": "stderr",
     "output_type": "stream",
     "text": [
      "\r",
      "61015it [02:50, 352.70it/s]"
     ]
    },
    {
     "name": "stderr",
     "output_type": "stream",
     "text": [
      "\r",
      "61051it [02:50, 350.94it/s]"
     ]
    },
    {
     "name": "stderr",
     "output_type": "stream",
     "text": [
      "\r",
      "61087it [02:51, 349.19it/s]"
     ]
    },
    {
     "name": "stderr",
     "output_type": "stream",
     "text": [
      "\r",
      "61123it [02:51, 350.80it/s]"
     ]
    },
    {
     "name": "stderr",
     "output_type": "stream",
     "text": [
      "\r",
      "61159it [02:51, 351.50it/s]"
     ]
    },
    {
     "name": "stderr",
     "output_type": "stream",
     "text": [
      "\r",
      "61196it [02:51, 356.25it/s]"
     ]
    },
    {
     "name": "stderr",
     "output_type": "stream",
     "text": [
      "\r",
      "61232it [02:51, 354.98it/s]"
     ]
    },
    {
     "name": "stderr",
     "output_type": "stream",
     "text": [
      "\r",
      "61271it [02:51, 363.42it/s]"
     ]
    },
    {
     "name": "stderr",
     "output_type": "stream",
     "text": [
      "\r",
      "61310it [02:51, 368.51it/s]"
     ]
    },
    {
     "name": "stderr",
     "output_type": "stream",
     "text": [
      "\r",
      "61347it [02:51, 361.56it/s]"
     ]
    },
    {
     "name": "stderr",
     "output_type": "stream",
     "text": [
      "\r",
      "61384it [02:51, 358.69it/s]"
     ]
    },
    {
     "name": "stderr",
     "output_type": "stream",
     "text": [
      "\r",
      "61422it [02:51, 363.14it/s]"
     ]
    },
    {
     "name": "stderr",
     "output_type": "stream",
     "text": [
      "\r",
      "61459it [02:52, 358.07it/s]"
     ]
    },
    {
     "name": "stderr",
     "output_type": "stream",
     "text": [
      "\r",
      "61495it [02:52, 350.14it/s]"
     ]
    },
    {
     "name": "stderr",
     "output_type": "stream",
     "text": [
      "\r",
      "61532it [02:52, 354.11it/s]"
     ]
    },
    {
     "name": "stderr",
     "output_type": "stream",
     "text": [
      "\r",
      "61568it [02:52, 349.77it/s]"
     ]
    },
    {
     "name": "stderr",
     "output_type": "stream",
     "text": [
      "\r",
      "61604it [02:52, 350.18it/s]"
     ]
    },
    {
     "name": "stderr",
     "output_type": "stream",
     "text": [
      "\r",
      "61640it [02:52, 350.88it/s]"
     ]
    },
    {
     "name": "stderr",
     "output_type": "stream",
     "text": [
      "\r",
      "61679it [02:52, 360.24it/s]"
     ]
    },
    {
     "name": "stderr",
     "output_type": "stream",
     "text": [
      "\r",
      "61716it [02:52, 361.19it/s]"
     ]
    },
    {
     "name": "stderr",
     "output_type": "stream",
     "text": [
      "\r",
      "61756it [02:52, 370.97it/s]"
     ]
    },
    {
     "name": "stderr",
     "output_type": "stream",
     "text": [
      "\r",
      "61794it [02:53, 366.46it/s]"
     ]
    },
    {
     "name": "stderr",
     "output_type": "stream",
     "text": [
      "\r",
      "61831it [02:53, 356.02it/s]"
     ]
    },
    {
     "name": "stderr",
     "output_type": "stream",
     "text": [
      "\r",
      "61867it [02:53, 353.55it/s]"
     ]
    },
    {
     "name": "stderr",
     "output_type": "stream",
     "text": [
      "\r",
      "61903it [02:53, 347.30it/s]"
     ]
    },
    {
     "name": "stderr",
     "output_type": "stream",
     "text": [
      "\r",
      "61938it [02:53, 335.44it/s]"
     ]
    },
    {
     "name": "stderr",
     "output_type": "stream",
     "text": [
      "\r",
      "61973it [02:53, 337.88it/s]"
     ]
    },
    {
     "name": "stderr",
     "output_type": "stream",
     "text": [
      "\r",
      "62009it [02:53, 343.11it/s]"
     ]
    },
    {
     "name": "stderr",
     "output_type": "stream",
     "text": [
      "\r",
      "62044it [02:53, 344.16it/s]"
     ]
    },
    {
     "name": "stderr",
     "output_type": "stream",
     "text": [
      "\r",
      "62079it [02:53, 344.95it/s]"
     ]
    },
    {
     "name": "stderr",
     "output_type": "stream",
     "text": [
      "\r",
      "62115it [02:53, 347.11it/s]"
     ]
    },
    {
     "name": "stderr",
     "output_type": "stream",
     "text": [
      "\r",
      "62153it [02:54, 354.19it/s]"
     ]
    },
    {
     "name": "stderr",
     "output_type": "stream",
     "text": [
      "\r",
      "62189it [02:54, 344.71it/s]"
     ]
    },
    {
     "name": "stderr",
     "output_type": "stream",
     "text": [
      "\r",
      "62226it [02:54, 350.41it/s]"
     ]
    },
    {
     "name": "stderr",
     "output_type": "stream",
     "text": [
      "\r",
      "62262it [02:54, 333.96it/s]"
     ]
    },
    {
     "name": "stderr",
     "output_type": "stream",
     "text": [
      "\r",
      "62298it [02:54, 338.79it/s]"
     ]
    },
    {
     "name": "stderr",
     "output_type": "stream",
     "text": [
      "\r",
      "62333it [02:54, 339.94it/s]"
     ]
    },
    {
     "name": "stderr",
     "output_type": "stream",
     "text": [
      "\r",
      "62371it [02:54, 350.90it/s]"
     ]
    },
    {
     "name": "stderr",
     "output_type": "stream",
     "text": [
      "\r",
      "62408it [02:54, 353.63it/s]"
     ]
    },
    {
     "name": "stderr",
     "output_type": "stream",
     "text": [
      "\r",
      "62445it [02:54, 357.00it/s]"
     ]
    },
    {
     "name": "stderr",
     "output_type": "stream",
     "text": [
      "\r",
      "62484it [02:55, 366.22it/s]"
     ]
    },
    {
     "name": "stderr",
     "output_type": "stream",
     "text": [
      "\r",
      "62522it [02:55, 368.24it/s]"
     ]
    },
    {
     "name": "stderr",
     "output_type": "stream",
     "text": [
      "\r",
      "62563it [02:55, 377.46it/s]"
     ]
    },
    {
     "name": "stderr",
     "output_type": "stream",
     "text": [
      "\r",
      "62601it [02:55, 371.30it/s]"
     ]
    },
    {
     "name": "stderr",
     "output_type": "stream",
     "text": [
      "\r",
      "62639it [02:55, 362.14it/s]"
     ]
    },
    {
     "name": "stderr",
     "output_type": "stream",
     "text": [
      "\r",
      "62676it [02:55, 360.06it/s]"
     ]
    },
    {
     "name": "stderr",
     "output_type": "stream",
     "text": [
      "\r",
      "62713it [02:55, 360.56it/s]"
     ]
    },
    {
     "name": "stderr",
     "output_type": "stream",
     "text": [
      "\r",
      "62750it [02:55, 361.80it/s]"
     ]
    },
    {
     "name": "stderr",
     "output_type": "stream",
     "text": [
      "\r",
      "62787it [02:55, 361.58it/s]"
     ]
    },
    {
     "name": "stderr",
     "output_type": "stream",
     "text": [
      "\r",
      "62824it [02:55, 358.26it/s]"
     ]
    },
    {
     "name": "stderr",
     "output_type": "stream",
     "text": [
      "\r",
      "62860it [02:56, 356.22it/s]"
     ]
    },
    {
     "name": "stderr",
     "output_type": "stream",
     "text": [
      "\r",
      "62897it [02:56, 358.02it/s]"
     ]
    },
    {
     "name": "stderr",
     "output_type": "stream",
     "text": [
      "\r",
      "62933it [02:56, 351.55it/s]"
     ]
    },
    {
     "name": "stderr",
     "output_type": "stream",
     "text": [
      "\r",
      "62969it [02:56, 352.40it/s]"
     ]
    },
    {
     "name": "stderr",
     "output_type": "stream",
     "text": [
      "\r",
      "63006it [02:56, 356.35it/s]"
     ]
    },
    {
     "name": "stderr",
     "output_type": "stream",
     "text": [
      "\r",
      "63042it [02:56, 349.09it/s]"
     ]
    },
    {
     "name": "stderr",
     "output_type": "stream",
     "text": [
      "\r",
      "63081it [02:56, 359.07it/s]"
     ]
    },
    {
     "name": "stderr",
     "output_type": "stream",
     "text": [
      "\r",
      "63119it [02:56, 361.43it/s]"
     ]
    },
    {
     "name": "stderr",
     "output_type": "stream",
     "text": [
      "\r",
      "63156it [02:56, 363.61it/s]"
     ]
    },
    {
     "name": "stderr",
     "output_type": "stream",
     "text": [
      "\r",
      "63196it [02:56, 371.72it/s]"
     ]
    },
    {
     "name": "stderr",
     "output_type": "stream",
     "text": [
      "\r",
      "63234it [02:57, 366.98it/s]"
     ]
    },
    {
     "name": "stderr",
     "output_type": "stream",
     "text": [
      "\r",
      "63271it [02:57, 365.21it/s]"
     ]
    },
    {
     "name": "stderr",
     "output_type": "stream",
     "text": [
      "\r",
      "63308it [02:57, 360.66it/s]"
     ]
    },
    {
     "name": "stderr",
     "output_type": "stream",
     "text": [
      "\r",
      "63345it [02:57, 359.50it/s]"
     ]
    },
    {
     "name": "stderr",
     "output_type": "stream",
     "text": [
      "\r",
      "63381it [02:57, 358.10it/s]"
     ]
    },
    {
     "name": "stderr",
     "output_type": "stream",
     "text": [
      "\r",
      "63417it [02:57, 357.17it/s]"
     ]
    },
    {
     "name": "stderr",
     "output_type": "stream",
     "text": [
      "\r",
      "63454it [02:57, 359.78it/s]"
     ]
    },
    {
     "name": "stderr",
     "output_type": "stream",
     "text": [
      "\r",
      "63490it [02:57, 350.70it/s]"
     ]
    },
    {
     "name": "stderr",
     "output_type": "stream",
     "text": [
      "\r",
      "63526it [02:57, 348.09it/s]"
     ]
    },
    {
     "name": "stderr",
     "output_type": "stream",
     "text": [
      "\r",
      "63562it [02:58, 350.26it/s]"
     ]
    },
    {
     "name": "stderr",
     "output_type": "stream",
     "text": [
      "\r",
      "63599it [02:58, 354.73it/s]"
     ]
    },
    {
     "name": "stderr",
     "output_type": "stream",
     "text": [
      "\r",
      "63641it [02:58, 371.30it/s]"
     ]
    },
    {
     "name": "stderr",
     "output_type": "stream",
     "text": [
      "\r",
      "63679it [02:58, 368.93it/s]"
     ]
    },
    {
     "name": "stderr",
     "output_type": "stream",
     "text": [
      "\r",
      "63716it [02:58, 362.73it/s]"
     ]
    },
    {
     "name": "stderr",
     "output_type": "stream",
     "text": [
      "\r",
      "63753it [02:58, 357.59it/s]"
     ]
    },
    {
     "name": "stderr",
     "output_type": "stream",
     "text": [
      "\r",
      "63789it [02:58, 353.54it/s]"
     ]
    },
    {
     "name": "stderr",
     "output_type": "stream",
     "text": [
      "\r",
      "63825it [02:58, 342.87it/s]"
     ]
    },
    {
     "name": "stderr",
     "output_type": "stream",
     "text": [
      "\r",
      "63860it [02:58, 342.94it/s]"
     ]
    },
    {
     "name": "stderr",
     "output_type": "stream",
     "text": [
      "\r",
      "63895it [02:58, 341.88it/s]"
     ]
    },
    {
     "name": "stderr",
     "output_type": "stream",
     "text": [
      "\r",
      "63930it [02:59, 338.04it/s]"
     ]
    },
    {
     "name": "stderr",
     "output_type": "stream",
     "text": [
      "\r",
      "63964it [02:59, 334.35it/s]"
     ]
    },
    {
     "name": "stderr",
     "output_type": "stream",
     "text": [
      "\r",
      "64002it [02:59, 345.62it/s]"
     ]
    },
    {
     "name": "stderr",
     "output_type": "stream",
     "text": [
      "\r",
      "64038it [02:59, 349.37it/s]"
     ]
    },
    {
     "name": "stderr",
     "output_type": "stream",
     "text": [
      "\r",
      "64074it [02:59, 352.01it/s]"
     ]
    },
    {
     "name": "stderr",
     "output_type": "stream",
     "text": [
      "\r",
      "64110it [02:59, 337.41it/s]"
     ]
    },
    {
     "name": "stderr",
     "output_type": "stream",
     "text": [
      "\r",
      "64147it [02:59, 344.44it/s]"
     ]
    },
    {
     "name": "stderr",
     "output_type": "stream",
     "text": [
      "\r",
      "64182it [02:59, 343.27it/s]"
     ]
    },
    {
     "name": "stderr",
     "output_type": "stream",
     "text": [
      "\r",
      "64218it [02:59, 347.89it/s]"
     ]
    },
    {
     "name": "stderr",
     "output_type": "stream",
     "text": [
      "\r",
      "64255it [02:59, 349.44it/s]"
     ]
    },
    {
     "name": "stderr",
     "output_type": "stream",
     "text": [
      "\r",
      "64294it [03:00, 360.81it/s]"
     ]
    },
    {
     "name": "stderr",
     "output_type": "stream",
     "text": [
      "\r",
      "64332it [03:00, 364.95it/s]"
     ]
    },
    {
     "name": "stderr",
     "output_type": "stream",
     "text": [
      "\r",
      "64370it [03:00, 368.85it/s]"
     ]
    },
    {
     "name": "stderr",
     "output_type": "stream",
     "text": [
      "\r",
      "64408it [03:00, 368.66it/s]"
     ]
    },
    {
     "name": "stderr",
     "output_type": "stream",
     "text": [
      "\r",
      "64445it [03:00, 360.31it/s]"
     ]
    },
    {
     "name": "stderr",
     "output_type": "stream",
     "text": [
      "\r",
      "64482it [03:00, 355.99it/s]"
     ]
    },
    {
     "name": "stderr",
     "output_type": "stream",
     "text": [
      "\r",
      "64519it [03:00, 358.49it/s]"
     ]
    },
    {
     "name": "stderr",
     "output_type": "stream",
     "text": [
      "\r",
      "64555it [03:00, 357.19it/s]"
     ]
    },
    {
     "name": "stderr",
     "output_type": "stream",
     "text": [
      "\r",
      "64591it [03:00, 356.45it/s]"
     ]
    },
    {
     "name": "stderr",
     "output_type": "stream",
     "text": [
      "\r",
      "64628it [03:01, 358.11it/s]"
     ]
    },
    {
     "name": "stderr",
     "output_type": "stream",
     "text": [
      "\r",
      "64665it [03:01, 358.16it/s]"
     ]
    },
    {
     "name": "stderr",
     "output_type": "stream",
     "text": [
      "\r",
      "64702it [03:01, 360.18it/s]"
     ]
    },
    {
     "name": "stderr",
     "output_type": "stream",
     "text": [
      "\r",
      "64739it [03:01, 358.63it/s]"
     ]
    },
    {
     "name": "stderr",
     "output_type": "stream",
     "text": [
      "\r",
      "64775it [03:01, 353.27it/s]"
     ]
    },
    {
     "name": "stderr",
     "output_type": "stream",
     "text": [
      "\r",
      "64813it [03:01, 358.28it/s]"
     ]
    },
    {
     "name": "stderr",
     "output_type": "stream",
     "text": [
      "\r",
      "64849it [03:01, 357.58it/s]"
     ]
    },
    {
     "name": "stderr",
     "output_type": "stream",
     "text": [
      "\r",
      "64885it [03:01, 351.79it/s]"
     ]
    },
    {
     "name": "stderr",
     "output_type": "stream",
     "text": [
      "\r",
      "64922it [03:01, 355.17it/s]"
     ]
    },
    {
     "name": "stderr",
     "output_type": "stream",
     "text": [
      "\r",
      "64959it [03:01, 358.07it/s]"
     ]
    },
    {
     "name": "stderr",
     "output_type": "stream",
     "text": [
      "\r",
      "64996it [03:02, 358.54it/s]"
     ]
    },
    {
     "name": "stderr",
     "output_type": "stream",
     "text": [
      "\r",
      "65034it [03:02, 362.57it/s]"
     ]
    },
    {
     "name": "stderr",
     "output_type": "stream",
     "text": [
      "\r",
      "65071it [03:02, 360.00it/s]"
     ]
    },
    {
     "name": "stderr",
     "output_type": "stream",
     "text": [
      "\r",
      "65108it [03:02, 359.54it/s]"
     ]
    },
    {
     "name": "stderr",
     "output_type": "stream",
     "text": [
      "\r",
      "65144it [03:02, 354.49it/s]"
     ]
    },
    {
     "name": "stderr",
     "output_type": "stream",
     "text": [
      "\r",
      "65181it [03:02, 357.87it/s]"
     ]
    },
    {
     "name": "stderr",
     "output_type": "stream",
     "text": [
      "\r",
      "65217it [03:02, 357.16it/s]"
     ]
    },
    {
     "name": "stderr",
     "output_type": "stream",
     "text": [
      "\r",
      "65253it [03:02, 354.96it/s]"
     ]
    },
    {
     "name": "stderr",
     "output_type": "stream",
     "text": [
      "\r",
      "65290it [03:02, 357.18it/s]"
     ]
    },
    {
     "name": "stderr",
     "output_type": "stream",
     "text": [
      "\r",
      "65326it [03:02, 349.73it/s]"
     ]
    },
    {
     "name": "stderr",
     "output_type": "stream",
     "text": [
      "\r",
      "65362it [03:03, 349.13it/s]"
     ]
    },
    {
     "name": "stderr",
     "output_type": "stream",
     "text": [
      "\r",
      "65399it [03:03, 353.36it/s]"
     ]
    },
    {
     "name": "stderr",
     "output_type": "stream",
     "text": [
      "\r",
      "65436it [03:03, 357.01it/s]"
     ]
    },
    {
     "name": "stderr",
     "output_type": "stream",
     "text": [
      "\r",
      "65476it [03:03, 369.26it/s]"
     ]
    },
    {
     "name": "stderr",
     "output_type": "stream",
     "text": [
      "\r",
      "65514it [03:03, 367.77it/s]"
     ]
    },
    {
     "name": "stderr",
     "output_type": "stream",
     "text": [
      "\r",
      "65551it [03:03, 359.56it/s]"
     ]
    },
    {
     "name": "stderr",
     "output_type": "stream",
     "text": [
      "\r",
      "65588it [03:03, 355.07it/s]"
     ]
    },
    {
     "name": "stderr",
     "output_type": "stream",
     "text": [
      "\r",
      "65624it [03:03, 350.64it/s]"
     ]
    },
    {
     "name": "stderr",
     "output_type": "stream",
     "text": [
      "\r",
      "65660it [03:03, 341.06it/s]"
     ]
    },
    {
     "name": "stderr",
     "output_type": "stream",
     "text": [
      "\r",
      "65695it [03:04, 338.62it/s]"
     ]
    },
    {
     "name": "stderr",
     "output_type": "stream",
     "text": [
      "\r",
      "65732it [03:04, 345.16it/s]"
     ]
    },
    {
     "name": "stderr",
     "output_type": "stream",
     "text": [
      "\r",
      "65767it [03:04, 346.14it/s]"
     ]
    },
    {
     "name": "stderr",
     "output_type": "stream",
     "text": [
      "\r",
      "65802it [03:04, 344.55it/s]"
     ]
    },
    {
     "name": "stderr",
     "output_type": "stream",
     "text": [
      "\r",
      "65840it [03:04, 354.74it/s]"
     ]
    },
    {
     "name": "stderr",
     "output_type": "stream",
     "text": [
      "\r",
      "65876it [03:04, 351.61it/s]"
     ]
    },
    {
     "name": "stderr",
     "output_type": "stream",
     "text": [
      "\r",
      "65912it [03:04, 344.78it/s]"
     ]
    },
    {
     "name": "stderr",
     "output_type": "stream",
     "text": [
      "\r",
      "65948it [03:04, 349.04it/s]"
     ]
    },
    {
     "name": "stderr",
     "output_type": "stream",
     "text": [
      "\r",
      "65984it [03:04, 349.21it/s]"
     ]
    },
    {
     "name": "stderr",
     "output_type": "stream",
     "text": [
      "\r",
      "66019it [03:04, 344.21it/s]"
     ]
    },
    {
     "name": "stderr",
     "output_type": "stream",
     "text": [
      "\r",
      "66054it [03:05, 338.76it/s]"
     ]
    },
    {
     "name": "stderr",
     "output_type": "stream",
     "text": [
      "\r",
      "66092it [03:05, 349.82it/s]"
     ]
    },
    {
     "name": "stderr",
     "output_type": "stream",
     "text": [
      "\r",
      "66128it [03:05, 351.41it/s]"
     ]
    },
    {
     "name": "stderr",
     "output_type": "stream",
     "text": [
      "\r",
      "66167it [03:05, 362.00it/s]"
     ]
    },
    {
     "name": "stderr",
     "output_type": "stream",
     "text": [
      "\r",
      "66204it [03:05, 361.87it/s]"
     ]
    },
    {
     "name": "stderr",
     "output_type": "stream",
     "text": [
      "\r",
      "66242it [03:05, 365.30it/s]"
     ]
    },
    {
     "name": "stderr",
     "output_type": "stream",
     "text": [
      "\r",
      "66279it [03:05, 364.94it/s]"
     ]
    },
    {
     "name": "stderr",
     "output_type": "stream",
     "text": [
      "\r",
      "66316it [03:05, 365.18it/s]"
     ]
    },
    {
     "name": "stderr",
     "output_type": "stream",
     "text": [
      "\r",
      "66353it [03:05, 363.94it/s]"
     ]
    },
    {
     "name": "stderr",
     "output_type": "stream",
     "text": [
      "\r",
      "66390it [03:05, 357.80it/s]"
     ]
    },
    {
     "name": "stderr",
     "output_type": "stream",
     "text": [
      "\r",
      "66427it [03:06, 359.70it/s]"
     ]
    },
    {
     "name": "stderr",
     "output_type": "stream",
     "text": [
      "\r",
      "66463it [03:06, 353.93it/s]"
     ]
    },
    {
     "name": "stderr",
     "output_type": "stream",
     "text": [
      "\r",
      "66499it [03:06, 355.44it/s]"
     ]
    },
    {
     "name": "stderr",
     "output_type": "stream",
     "text": [
      "\r",
      "66535it [03:06, 350.99it/s]"
     ]
    },
    {
     "name": "stderr",
     "output_type": "stream",
     "text": [
      "\r",
      "66571it [03:06, 353.42it/s]"
     ]
    },
    {
     "name": "stderr",
     "output_type": "stream",
     "text": [
      "\r",
      "66607it [03:06, 353.06it/s]"
     ]
    },
    {
     "name": "stderr",
     "output_type": "stream",
     "text": [
      "\r",
      "66644it [03:06, 356.72it/s]"
     ]
    },
    {
     "name": "stderr",
     "output_type": "stream",
     "text": [
      "\r",
      "66680it [03:06, 351.56it/s]"
     ]
    },
    {
     "name": "stderr",
     "output_type": "stream",
     "text": [
      "\r",
      "66717it [03:06, 353.90it/s]"
     ]
    },
    {
     "name": "stderr",
     "output_type": "stream",
     "text": [
      "\r",
      "66753it [03:07, 351.90it/s]"
     ]
    },
    {
     "name": "stderr",
     "output_type": "stream",
     "text": [
      "\r",
      "66791it [03:07, 357.96it/s]"
     ]
    },
    {
     "name": "stderr",
     "output_type": "stream",
     "text": [
      "\r",
      "66827it [03:07, 355.90it/s]"
     ]
    },
    {
     "name": "stderr",
     "output_type": "stream",
     "text": [
      "\r",
      "66866it [03:07, 364.10it/s]"
     ]
    },
    {
     "name": "stderr",
     "output_type": "stream",
     "text": [
      "\r",
      "66904it [03:07, 368.39it/s]"
     ]
    },
    {
     "name": "stderr",
     "output_type": "stream",
     "text": [
      "\r",
      "66941it [03:07, 362.90it/s]"
     ]
    },
    {
     "name": "stderr",
     "output_type": "stream",
     "text": [
      "\r",
      "66978it [03:07, 362.92it/s]"
     ]
    },
    {
     "name": "stderr",
     "output_type": "stream",
     "text": [
      "\r",
      "67015it [03:07, 361.64it/s]"
     ]
    },
    {
     "name": "stderr",
     "output_type": "stream",
     "text": [
      "\r",
      "67052it [03:07, 357.45it/s]"
     ]
    },
    {
     "name": "stderr",
     "output_type": "stream",
     "text": [
      "\r",
      "67088it [03:07, 354.35it/s]"
     ]
    },
    {
     "name": "stderr",
     "output_type": "stream",
     "text": [
      "\r",
      "67124it [03:08, 349.66it/s]"
     ]
    },
    {
     "name": "stderr",
     "output_type": "stream",
     "text": [
      "\r",
      "67159it [03:08, 349.40it/s]"
     ]
    },
    {
     "name": "stderr",
     "output_type": "stream",
     "text": [
      "\r",
      "67194it [03:08, 347.47it/s]"
     ]
    },
    {
     "name": "stderr",
     "output_type": "stream",
     "text": [
      "\r",
      "67229it [03:08, 348.01it/s]"
     ]
    },
    {
     "name": "stderr",
     "output_type": "stream",
     "text": [
      "\r",
      "67264it [03:08, 348.13it/s]"
     ]
    },
    {
     "name": "stderr",
     "output_type": "stream",
     "text": [
      "\r",
      "67301it [03:08, 352.69it/s]"
     ]
    },
    {
     "name": "stderr",
     "output_type": "stream",
     "text": [
      "\r",
      "67342it [03:08, 368.36it/s]"
     ]
    },
    {
     "name": "stderr",
     "output_type": "stream",
     "text": [
      "\r",
      "67379it [03:08, 367.06it/s]"
     ]
    },
    {
     "name": "stderr",
     "output_type": "stream",
     "text": [
      "\r",
      "67416it [03:08, 360.29it/s]"
     ]
    },
    {
     "name": "stderr",
     "output_type": "stream",
     "text": [
      "\r",
      "67453it [03:08, 355.28it/s]"
     ]
    },
    {
     "name": "stderr",
     "output_type": "stream",
     "text": [
      "\r",
      "67489it [03:09, 348.83it/s]"
     ]
    },
    {
     "name": "stderr",
     "output_type": "stream",
     "text": [
      "\r",
      "67524it [03:09, 343.57it/s]"
     ]
    },
    {
     "name": "stderr",
     "output_type": "stream",
     "text": [
      "\r",
      "67559it [03:09, 341.85it/s]"
     ]
    },
    {
     "name": "stderr",
     "output_type": "stream",
     "text": [
      "\r",
      "67595it [03:09, 344.53it/s]"
     ]
    },
    {
     "name": "stderr",
     "output_type": "stream",
     "text": [
      "\r",
      "67630it [03:09, 342.85it/s]"
     ]
    },
    {
     "name": "stderr",
     "output_type": "stream",
     "text": [
      "\r",
      "67665it [03:09, 338.72it/s]"
     ]
    },
    {
     "name": "stderr",
     "output_type": "stream",
     "text": [
      "\r",
      "67705it [03:09, 354.91it/s]"
     ]
    },
    {
     "name": "stderr",
     "output_type": "stream",
     "text": [
      "\r",
      "67741it [03:09, 350.43it/s]"
     ]
    },
    {
     "name": "stderr",
     "output_type": "stream",
     "text": [
      "\r",
      "67777it [03:09, 343.35it/s]"
     ]
    },
    {
     "name": "stderr",
     "output_type": "stream",
     "text": [
      "\r",
      "67815it [03:10, 352.13it/s]"
     ]
    },
    {
     "name": "stderr",
     "output_type": "stream",
     "text": [
      "\r",
      "67851it [03:10, 350.41it/s]"
     ]
    },
    {
     "name": "stderr",
     "output_type": "stream",
     "text": [
      "\r",
      "67887it [03:10, 350.60it/s]"
     ]
    },
    {
     "name": "stderr",
     "output_type": "stream",
     "text": [
      "\r",
      "67924it [03:10, 353.60it/s]"
     ]
    },
    {
     "name": "stderr",
     "output_type": "stream",
     "text": [
      "\r",
      "67963it [03:10, 362.25it/s]"
     ]
    },
    {
     "name": "stderr",
     "output_type": "stream",
     "text": [
      "\r",
      "68000it [03:10, 360.04it/s]"
     ]
    },
    {
     "name": "stderr",
     "output_type": "stream",
     "text": [
      "\r",
      "68037it [03:10, 361.67it/s]"
     ]
    },
    {
     "name": "stderr",
     "output_type": "stream",
     "text": [
      "\r",
      "68076it [03:10, 366.41it/s]"
     ]
    },
    {
     "name": "stderr",
     "output_type": "stream",
     "text": [
      "\r",
      "68115it [03:10, 372.28it/s]"
     ]
    },
    {
     "name": "stderr",
     "output_type": "stream",
     "text": [
      "\r",
      "68153it [03:10, 370.39it/s]"
     ]
    },
    {
     "name": "stderr",
     "output_type": "stream",
     "text": [
      "\r",
      "68191it [03:11, 368.89it/s]"
     ]
    },
    {
     "name": "stderr",
     "output_type": "stream",
     "text": [
      "\r",
      "68228it [03:11, 366.10it/s]"
     ]
    },
    {
     "name": "stderr",
     "output_type": "stream",
     "text": [
      "\r",
      "68265it [03:11, 363.50it/s]"
     ]
    },
    {
     "name": "stderr",
     "output_type": "stream",
     "text": [
      "\r",
      "68302it [03:11, 360.29it/s]"
     ]
    },
    {
     "name": "stderr",
     "output_type": "stream",
     "text": [
      "\r",
      "68339it [03:11, 355.29it/s]"
     ]
    },
    {
     "name": "stderr",
     "output_type": "stream",
     "text": [
      "\r",
      "68376it [03:11, 359.03it/s]"
     ]
    },
    {
     "name": "stderr",
     "output_type": "stream",
     "text": [
      "\r",
      "68412it [03:11, 357.05it/s]"
     ]
    },
    {
     "name": "stderr",
     "output_type": "stream",
     "text": [
      "\r",
      "68450it [03:11, 363.10it/s]"
     ]
    },
    {
     "name": "stderr",
     "output_type": "stream",
     "text": [
      "\r",
      "68487it [03:11, 358.83it/s]"
     ]
    },
    {
     "name": "stderr",
     "output_type": "stream",
     "text": [
      "\r",
      "68523it [03:11, 355.16it/s]"
     ]
    },
    {
     "name": "stderr",
     "output_type": "stream",
     "text": [
      "\r",
      "68559it [03:12, 350.77it/s]"
     ]
    },
    {
     "name": "stderr",
     "output_type": "stream",
     "text": [
      "\r",
      "68596it [03:12, 352.99it/s]"
     ]
    },
    {
     "name": "stderr",
     "output_type": "stream",
     "text": [
      "\r",
      "68632it [03:12, 348.52it/s]"
     ]
    },
    {
     "name": "stderr",
     "output_type": "stream",
     "text": [
      "\r",
      "68669it [03:12, 354.30it/s]"
     ]
    },
    {
     "name": "stderr",
     "output_type": "stream",
     "text": [
      "\r",
      "68705it [03:12, 353.89it/s]"
     ]
    },
    {
     "name": "stderr",
     "output_type": "stream",
     "text": [
      "\r",
      "68743it [03:12, 359.98it/s]"
     ]
    },
    {
     "name": "stderr",
     "output_type": "stream",
     "text": [
      "\r",
      "68781it [03:12, 363.23it/s]"
     ]
    },
    {
     "name": "stderr",
     "output_type": "stream",
     "text": [
      "\r",
      "68818it [03:12, 361.91it/s]"
     ]
    },
    {
     "name": "stderr",
     "output_type": "stream",
     "text": [
      "\r",
      "68855it [03:12, 362.92it/s]"
     ]
    },
    {
     "name": "stderr",
     "output_type": "stream",
     "text": [
      "\r",
      "68892it [03:13, 362.93it/s]"
     ]
    },
    {
     "name": "stderr",
     "output_type": "stream",
     "text": [
      "\r",
      "68929it [03:13, 357.90it/s]"
     ]
    },
    {
     "name": "stderr",
     "output_type": "stream",
     "text": [
      "\r",
      "68965it [03:13, 355.08it/s]"
     ]
    },
    {
     "name": "stderr",
     "output_type": "stream",
     "text": [
      "\r",
      "69001it [03:13, 354.26it/s]"
     ]
    },
    {
     "name": "stderr",
     "output_type": "stream",
     "text": [
      "\r",
      "69038it [03:13, 355.66it/s]"
     ]
    },
    {
     "name": "stderr",
     "output_type": "stream",
     "text": [
      "\r",
      "69074it [03:13, 344.58it/s]"
     ]
    },
    {
     "name": "stderr",
     "output_type": "stream",
     "text": [
      "\r",
      "69109it [03:13, 344.46it/s]"
     ]
    },
    {
     "name": "stderr",
     "output_type": "stream",
     "text": [
      "\r",
      "69146it [03:13, 349.52it/s]"
     ]
    },
    {
     "name": "stderr",
     "output_type": "stream",
     "text": [
      "\r",
      "69183it [03:13, 354.47it/s]"
     ]
    },
    {
     "name": "stderr",
     "output_type": "stream",
     "text": [
      "\r",
      "69224it [03:13, 370.45it/s]"
     ]
    },
    {
     "name": "stderr",
     "output_type": "stream",
     "text": [
      "\r",
      "69262it [03:14, 366.11it/s]"
     ]
    },
    {
     "name": "stderr",
     "output_type": "stream",
     "text": [
      "\r",
      "69299it [03:14, 359.98it/s]"
     ]
    },
    {
     "name": "stderr",
     "output_type": "stream",
     "text": [
      "\r",
      "69336it [03:14, 354.97it/s]"
     ]
    },
    {
     "name": "stderr",
     "output_type": "stream",
     "text": [
      "\r",
      "69372it [03:14, 352.51it/s]"
     ]
    },
    {
     "name": "stderr",
     "output_type": "stream",
     "text": [
      "\r",
      "69408it [03:14, 339.42it/s]"
     ]
    },
    {
     "name": "stderr",
     "output_type": "stream",
     "text": [
      "\r",
      "69444it [03:14, 343.61it/s]"
     ]
    },
    {
     "name": "stderr",
     "output_type": "stream",
     "text": [
      "\r",
      "69480it [03:14, 347.81it/s]"
     ]
    },
    {
     "name": "stderr",
     "output_type": "stream",
     "text": [
      "\r",
      "69515it [03:14, 343.12it/s]"
     ]
    },
    {
     "name": "stderr",
     "output_type": "stream",
     "text": [
      "\r",
      "69552it [03:14, 350.51it/s]"
     ]
    },
    {
     "name": "stderr",
     "output_type": "stream",
     "text": [
      "\r",
      "69590it [03:14, 357.92it/s]"
     ]
    },
    {
     "name": "stderr",
     "output_type": "stream",
     "text": [
      "\r",
      "69626it [03:15, 352.59it/s]"
     ]
    },
    {
     "name": "stderr",
     "output_type": "stream",
     "text": [
      "\r",
      "69662it [03:15, 349.80it/s]"
     ]
    },
    {
     "name": "stderr",
     "output_type": "stream",
     "text": [
      "\r",
      "69700it [03:15, 357.42it/s]"
     ]
    },
    {
     "name": "stderr",
     "output_type": "stream",
     "text": [
      "\r",
      "69736it [03:15, 348.20it/s]"
     ]
    },
    {
     "name": "stderr",
     "output_type": "stream",
     "text": [
      "\r",
      "69772it [03:15, 349.92it/s]"
     ]
    },
    {
     "name": "stderr",
     "output_type": "stream",
     "text": [
      "\r",
      "69808it [03:15, 352.36it/s]"
     ]
    },
    {
     "name": "stderr",
     "output_type": "stream",
     "text": [
      "\r",
      "69848it [03:15, 364.24it/s]"
     ]
    },
    {
     "name": "stderr",
     "output_type": "stream",
     "text": [
      "\r",
      "69885it [03:15, 363.25it/s]"
     ]
    },
    {
     "name": "stderr",
     "output_type": "stream",
     "text": [
      "\r",
      "69922it [03:15, 361.68it/s]"
     ]
    },
    {
     "name": "stderr",
     "output_type": "stream",
     "text": [
      "\r",
      "69959it [03:16, 360.79it/s]"
     ]
    },
    {
     "name": "stderr",
     "output_type": "stream",
     "text": [
      "\r",
      "69996it [03:16, 360.38it/s]"
     ]
    },
    {
     "name": "stderr",
     "output_type": "stream",
     "text": [
      "\r",
      "70033it [03:16, 362.21it/s]"
     ]
    },
    {
     "name": "stderr",
     "output_type": "stream",
     "text": [
      "\r",
      "70071it [03:16, 364.91it/s]"
     ]
    },
    {
     "name": "stderr",
     "output_type": "stream",
     "text": [
      "\r",
      "70108it [03:16, 363.69it/s]"
     ]
    },
    {
     "name": "stderr",
     "output_type": "stream",
     "text": [
      "\r",
      "70147it [03:16, 368.05it/s]"
     ]
    },
    {
     "name": "stderr",
     "output_type": "stream",
     "text": [
      "\r",
      "70184it [03:16, 361.72it/s]"
     ]
    },
    {
     "name": "stderr",
     "output_type": "stream",
     "text": [
      "\r",
      "70221it [03:16, 363.61it/s]"
     ]
    },
    {
     "name": "stderr",
     "output_type": "stream",
     "text": [
      "\r",
      "70258it [03:16, 360.75it/s]"
     ]
    },
    {
     "name": "stderr",
     "output_type": "stream",
     "text": [
      "\r",
      "70295it [03:16, 363.43it/s]"
     ]
    },
    {
     "name": "stderr",
     "output_type": "stream",
     "text": [
      "\r",
      "70332it [03:17, 360.73it/s]"
     ]
    },
    {
     "name": "stderr",
     "output_type": "stream",
     "text": [
      "\r",
      "70370it [03:17, 365.67it/s]"
     ]
    },
    {
     "name": "stderr",
     "output_type": "stream",
     "text": [
      "\r",
      "70408it [03:17, 368.52it/s]"
     ]
    },
    {
     "name": "stderr",
     "output_type": "stream",
     "text": [
      "\r",
      "70445it [03:17, 359.75it/s]"
     ]
    },
    {
     "name": "stderr",
     "output_type": "stream",
     "text": [
      "\r",
      "70483it [03:17, 363.92it/s]"
     ]
    },
    {
     "name": "stderr",
     "output_type": "stream",
     "text": [
      "\r",
      "70521it [03:17, 367.17it/s]"
     ]
    },
    {
     "name": "stderr",
     "output_type": "stream",
     "text": [
      "\r",
      "70558it [03:17, 367.40it/s]"
     ]
    },
    {
     "name": "stderr",
     "output_type": "stream",
     "text": [
      "\r",
      "70598it [03:17, 375.94it/s]"
     ]
    },
    {
     "name": "stderr",
     "output_type": "stream",
     "text": [
      "\r",
      "70636it [03:17, 376.44it/s]"
     ]
    },
    {
     "name": "stderr",
     "output_type": "stream",
     "text": [
      "\r",
      "70674it [03:17, 373.77it/s]"
     ]
    },
    {
     "name": "stderr",
     "output_type": "stream",
     "text": [
      "\r",
      "70712it [03:18, 371.77it/s]"
     ]
    },
    {
     "name": "stderr",
     "output_type": "stream",
     "text": [
      "\r",
      "70750it [03:18, 369.28it/s]"
     ]
    },
    {
     "name": "stderr",
     "output_type": "stream",
     "text": [
      "\r",
      "70788it [03:18, 370.43it/s]"
     ]
    },
    {
     "name": "stderr",
     "output_type": "stream",
     "text": [
      "\r",
      "70826it [03:18, 365.62it/s]"
     ]
    },
    {
     "name": "stderr",
     "output_type": "stream",
     "text": [
      "\r",
      "70863it [03:18, 362.87it/s]"
     ]
    },
    {
     "name": "stderr",
     "output_type": "stream",
     "text": [
      "\r",
      "70900it [03:18, 356.12it/s]"
     ]
    },
    {
     "name": "stderr",
     "output_type": "stream",
     "text": [
      "\r",
      "70937it [03:18, 358.02it/s]"
     ]
    },
    {
     "name": "stderr",
     "output_type": "stream",
     "text": [
      "\r",
      "70975it [03:18, 363.36it/s]"
     ]
    },
    {
     "name": "stderr",
     "output_type": "stream",
     "text": [
      "\r",
      "71013it [03:18, 366.05it/s]"
     ]
    },
    {
     "name": "stderr",
     "output_type": "stream",
     "text": [
      "\r",
      "71055it [03:19, 380.34it/s]"
     ]
    },
    {
     "name": "stderr",
     "output_type": "stream",
     "text": [
      "\r",
      "71094it [03:19, 370.47it/s]"
     ]
    },
    {
     "name": "stderr",
     "output_type": "stream",
     "text": [
      "\r",
      "71132it [03:19, 365.59it/s]"
     ]
    },
    {
     "name": "stderr",
     "output_type": "stream",
     "text": [
      "\r",
      "71169it [03:19, 362.73it/s]"
     ]
    },
    {
     "name": "stderr",
     "output_type": "stream",
     "text": [
      "\r",
      "71206it [03:19, 360.43it/s]"
     ]
    },
    {
     "name": "stderr",
     "output_type": "stream",
     "text": [
      "\r",
      "71243it [03:19, 345.92it/s]"
     ]
    },
    {
     "name": "stderr",
     "output_type": "stream",
     "text": [
      "\r",
      "71279it [03:19, 349.34it/s]"
     ]
    },
    {
     "name": "stderr",
     "output_type": "stream",
     "text": [
      "\r",
      "71315it [03:19, 348.20it/s]"
     ]
    },
    {
     "name": "stderr",
     "output_type": "stream",
     "text": [
      "\r",
      "71350it [03:19, 338.81it/s]"
     ]
    },
    {
     "name": "stderr",
     "output_type": "stream",
     "text": [
      "\r",
      "71387it [03:19, 345.24it/s]"
     ]
    },
    {
     "name": "stderr",
     "output_type": "stream",
     "text": [
      "\r",
      "71423it [03:20, 348.82it/s]"
     ]
    },
    {
     "name": "stderr",
     "output_type": "stream",
     "text": [
      "\r",
      "71458it [03:20, 341.89it/s]"
     ]
    },
    {
     "name": "stderr",
     "output_type": "stream",
     "text": [
      "\r",
      "71493it [03:20, 340.13it/s]"
     ]
    },
    {
     "name": "stderr",
     "output_type": "stream",
     "text": [
      "\r",
      "71532it [03:20, 352.21it/s]"
     ]
    },
    {
     "name": "stderr",
     "output_type": "stream",
     "text": [
      "\r",
      "71568it [03:20, 347.83it/s]"
     ]
    },
    {
     "name": "stderr",
     "output_type": "stream",
     "text": [
      "\r",
      "71606it [03:20, 357.10it/s]"
     ]
    },
    {
     "name": "stderr",
     "output_type": "stream",
     "text": [
      "\r",
      "71643it [03:20, 358.99it/s]"
     ]
    },
    {
     "name": "stderr",
     "output_type": "stream",
     "text": [
      "\r",
      "71683it [03:20, 370.07it/s]"
     ]
    },
    {
     "name": "stderr",
     "output_type": "stream",
     "text": [
      "\r",
      "71721it [03:20, 367.14it/s]"
     ]
    },
    {
     "name": "stderr",
     "output_type": "stream",
     "text": [
      "\r",
      "71758it [03:21, 358.08it/s]"
     ]
    },
    {
     "name": "stderr",
     "output_type": "stream",
     "text": [
      "\r",
      "71797it [03:21, 365.17it/s]"
     ]
    },
    {
     "name": "stderr",
     "output_type": "stream",
     "text": [
      "\r",
      "71835it [03:21, 364.98it/s]"
     ]
    },
    {
     "name": "stderr",
     "output_type": "stream",
     "text": [
      "\r",
      "71872it [03:21, 357.46it/s]"
     ]
    },
    {
     "name": "stderr",
     "output_type": "stream",
     "text": [
      "\r",
      "71908it [03:21, 355.16it/s]"
     ]
    },
    {
     "name": "stderr",
     "output_type": "stream",
     "text": [
      "\r",
      "71944it [03:21, 355.36it/s]"
     ]
    },
    {
     "name": "stderr",
     "output_type": "stream",
     "text": [
      "\r",
      "71980it [03:21, 356.28it/s]"
     ]
    },
    {
     "name": "stderr",
     "output_type": "stream",
     "text": [
      "\r",
      "72017it [03:21, 358.73it/s]"
     ]
    },
    {
     "name": "stderr",
     "output_type": "stream",
     "text": [
      "\r",
      "72054it [03:21, 360.33it/s]"
     ]
    },
    {
     "name": "stderr",
     "output_type": "stream",
     "text": [
      "\r",
      "72091it [03:21, 362.21it/s]"
     ]
    },
    {
     "name": "stderr",
     "output_type": "stream",
     "text": [
      "\r",
      "72128it [03:22, 363.96it/s]"
     ]
    },
    {
     "name": "stderr",
     "output_type": "stream",
     "text": [
      "\r",
      "72165it [03:22, 364.67it/s]"
     ]
    },
    {
     "name": "stderr",
     "output_type": "stream",
     "text": [
      "\r",
      "72202it [03:22, 364.29it/s]"
     ]
    },
    {
     "name": "stderr",
     "output_type": "stream",
     "text": [
      "\r",
      "72239it [03:22, 364.50it/s]"
     ]
    },
    {
     "name": "stderr",
     "output_type": "stream",
     "text": [
      "\r",
      "72276it [03:22, 363.65it/s]"
     ]
    },
    {
     "name": "stderr",
     "output_type": "stream",
     "text": [
      "\r",
      "72313it [03:22, 361.09it/s]"
     ]
    },
    {
     "name": "stderr",
     "output_type": "stream",
     "text": [
      "\r",
      "72352it [03:22, 369.60it/s]"
     ]
    },
    {
     "name": "stderr",
     "output_type": "stream",
     "text": [
      "\r",
      "72389it [03:22, 369.14it/s]"
     ]
    },
    {
     "name": "stderr",
     "output_type": "stream",
     "text": [
      "\r",
      "72428it [03:22, 374.20it/s]"
     ]
    },
    {
     "name": "stderr",
     "output_type": "stream",
     "text": [
      "\r",
      "72466it [03:22, 372.21it/s]"
     ]
    },
    {
     "name": "stderr",
     "output_type": "stream",
     "text": [
      "\r",
      "72504it [03:23, 369.08it/s]"
     ]
    },
    {
     "name": "stderr",
     "output_type": "stream",
     "text": [
      "\r",
      "72542it [03:23, 370.67it/s]"
     ]
    },
    {
     "name": "stderr",
     "output_type": "stream",
     "text": [
      "\r",
      "72580it [03:23, 371.44it/s]"
     ]
    },
    {
     "name": "stderr",
     "output_type": "stream",
     "text": [
      "\r",
      "72618it [03:23, 364.95it/s]"
     ]
    },
    {
     "name": "stderr",
     "output_type": "stream",
     "text": [
      "\r",
      "72655it [03:23, 358.97it/s]"
     ]
    },
    {
     "name": "stderr",
     "output_type": "stream",
     "text": [
      "\r",
      "72693it [03:23, 363.63it/s]"
     ]
    },
    {
     "name": "stderr",
     "output_type": "stream",
     "text": [
      "\r",
      "72730it [03:23, 361.88it/s]"
     ]
    },
    {
     "name": "stderr",
     "output_type": "stream",
     "text": [
      "\r",
      "72767it [03:23, 361.18it/s]"
     ]
    },
    {
     "name": "stderr",
     "output_type": "stream",
     "text": [
      "\r",
      "72804it [03:23, 359.79it/s]"
     ]
    },
    {
     "name": "stderr",
     "output_type": "stream",
     "text": [
      "\r",
      "72841it [03:23, 362.26it/s]"
     ]
    },
    {
     "name": "stderr",
     "output_type": "stream",
     "text": [
      "\r",
      "72878it [03:24, 360.01it/s]"
     ]
    },
    {
     "name": "stderr",
     "output_type": "stream",
     "text": [
      "\r",
      "72919it [03:24, 374.62it/s]"
     ]
    },
    {
     "name": "stderr",
     "output_type": "stream",
     "text": [
      "\r",
      "72957it [03:24, 369.28it/s]"
     ]
    },
    {
     "name": "stderr",
     "output_type": "stream",
     "text": [
      "\r",
      "72994it [03:24, 364.38it/s]"
     ]
    },
    {
     "name": "stderr",
     "output_type": "stream",
     "text": [
      "\r",
      "73031it [03:24, 359.58it/s]"
     ]
    },
    {
     "name": "stderr",
     "output_type": "stream",
     "text": [
      "\r",
      "73067it [03:24, 359.22it/s]"
     ]
    },
    {
     "name": "stderr",
     "output_type": "stream",
     "text": [
      "\r",
      "73103it [03:24, 346.29it/s]"
     ]
    },
    {
     "name": "stderr",
     "output_type": "stream",
     "text": [
      "\r",
      "73139it [03:24, 349.74it/s]"
     ]
    },
    {
     "name": "stderr",
     "output_type": "stream",
     "text": [
      "\r",
      "73176it [03:24, 355.35it/s]"
     ]
    },
    {
     "name": "stderr",
     "output_type": "stream",
     "text": [
      "\r",
      "73212it [03:25, 343.95it/s]"
     ]
    },
    {
     "name": "stderr",
     "output_type": "stream",
     "text": [
      "\r",
      "73251it [03:25, 355.71it/s]"
     ]
    },
    {
     "name": "stderr",
     "output_type": "stream",
     "text": [
      "\r",
      "73287it [03:25, 355.71it/s]"
     ]
    },
    {
     "name": "stderr",
     "output_type": "stream",
     "text": [
      "\r",
      "73323it [03:25, 354.87it/s]"
     ]
    },
    {
     "name": "stderr",
     "output_type": "stream",
     "text": [
      "\r",
      "73362it [03:25, 363.05it/s]"
     ]
    },
    {
     "name": "stderr",
     "output_type": "stream",
     "text": [
      "\r",
      "73399it [03:25, 364.17it/s]"
     ]
    },
    {
     "name": "stderr",
     "output_type": "stream",
     "text": [
      "\r",
      "73436it [03:25, 360.66it/s]"
     ]
    },
    {
     "name": "stderr",
     "output_type": "stream",
     "text": [
      "\r",
      "73473it [03:25, 361.46it/s]"
     ]
    },
    {
     "name": "stderr",
     "output_type": "stream",
     "text": [
      "\r",
      "73513it [03:25, 372.69it/s]"
     ]
    },
    {
     "name": "stderr",
     "output_type": "stream",
     "text": [
      "\r",
      "73551it [03:25, 371.50it/s]"
     ]
    },
    {
     "name": "stderr",
     "output_type": "stream",
     "text": [
      "\r",
      "73589it [03:26, 367.47it/s]"
     ]
    },
    {
     "name": "stderr",
     "output_type": "stream",
     "text": [
      "\r",
      "73626it [03:26, 363.81it/s]"
     ]
    },
    {
     "name": "stderr",
     "output_type": "stream",
     "text": [
      "\r",
      "73664it [03:26, 368.12it/s]"
     ]
    },
    {
     "name": "stderr",
     "output_type": "stream",
     "text": [
      "\r",
      "73701it [03:26, 363.15it/s]"
     ]
    },
    {
     "name": "stderr",
     "output_type": "stream",
     "text": [
      "\r",
      "73738it [03:26, 362.29it/s]"
     ]
    },
    {
     "name": "stderr",
     "output_type": "stream",
     "text": [
      "\r",
      "73775it [03:26, 353.06it/s]"
     ]
    },
    {
     "name": "stderr",
     "output_type": "stream",
     "text": [
      "\r",
      "73813it [03:26, 359.10it/s]"
     ]
    },
    {
     "name": "stderr",
     "output_type": "stream",
     "text": [
      "\r",
      "73853it [03:26, 368.33it/s]"
     ]
    },
    {
     "name": "stderr",
     "output_type": "stream",
     "text": [
      "\r",
      "73892it [03:26, 372.69it/s]"
     ]
    },
    {
     "name": "stderr",
     "output_type": "stream",
     "text": [
      "\r",
      "73930it [03:26, 370.25it/s]"
     ]
    },
    {
     "name": "stderr",
     "output_type": "stream",
     "text": [
      "\r",
      "73968it [03:27, 371.09it/s]"
     ]
    },
    {
     "name": "stderr",
     "output_type": "stream",
     "text": [
      "\r",
      "74006it [03:27, 360.55it/s]"
     ]
    },
    {
     "name": "stderr",
     "output_type": "stream",
     "text": [
      "\r",
      "74043it [03:27, 357.48it/s]"
     ]
    },
    {
     "name": "stderr",
     "output_type": "stream",
     "text": [
      "\r",
      "74081it [03:27, 362.39it/s]"
     ]
    },
    {
     "name": "stderr",
     "output_type": "stream",
     "text": [
      "\r",
      "74119it [03:27, 365.71it/s]"
     ]
    },
    {
     "name": "stderr",
     "output_type": "stream",
     "text": [
      "\r",
      "74156it [03:27, 362.65it/s]"
     ]
    },
    {
     "name": "stderr",
     "output_type": "stream",
     "text": [
      "\r",
      "74194it [03:27, 367.35it/s]"
     ]
    },
    {
     "name": "stderr",
     "output_type": "stream",
     "text": [
      "\r",
      "74232it [03:27, 369.83it/s]"
     ]
    },
    {
     "name": "stderr",
     "output_type": "stream",
     "text": [
      "\r",
      "74271it [03:27, 373.42it/s]"
     ]
    },
    {
     "name": "stderr",
     "output_type": "stream",
     "text": [
      "\r",
      "74311it [03:28, 380.52it/s]"
     ]
    },
    {
     "name": "stderr",
     "output_type": "stream",
     "text": [
      "\r",
      "74350it [03:28, 341.75it/s]"
     ]
    },
    {
     "name": "stderr",
     "output_type": "stream",
     "text": [
      "\r",
      "74385it [03:28, 325.32it/s]"
     ]
    },
    {
     "name": "stderr",
     "output_type": "stream",
     "text": [
      "\r",
      "74420it [03:28, 331.56it/s]"
     ]
    },
    {
     "name": "stderr",
     "output_type": "stream",
     "text": [
      "\r",
      "74456it [03:28, 337.78it/s]"
     ]
    },
    {
     "name": "stderr",
     "output_type": "stream",
     "text": [
      "\r",
      "74492it [03:28, 343.87it/s]"
     ]
    },
    {
     "name": "stderr",
     "output_type": "stream",
     "text": [
      "\r",
      "74527it [03:28, 343.96it/s]"
     ]
    },
    {
     "name": "stderr",
     "output_type": "stream",
     "text": [
      "\r",
      "74564it [03:28, 349.38it/s]"
     ]
    },
    {
     "name": "stderr",
     "output_type": "stream",
     "text": [
      "\r",
      "74600it [03:28, 347.04it/s]"
     ]
    },
    {
     "name": "stderr",
     "output_type": "stream",
     "text": [
      "\r",
      "74635it [03:29, 342.93it/s]"
     ]
    },
    {
     "name": "stderr",
     "output_type": "stream",
     "text": [
      "\r",
      "74671it [03:29, 345.95it/s]"
     ]
    },
    {
     "name": "stderr",
     "output_type": "stream",
     "text": [
      "\r",
      "74706it [03:29, 319.57it/s]"
     ]
    },
    {
     "name": "stderr",
     "output_type": "stream",
     "text": [
      "\r",
      "74739it [03:29, 301.72it/s]"
     ]
    },
    {
     "name": "stderr",
     "output_type": "stream",
     "text": [
      "\r",
      "74774it [03:29, 314.72it/s]"
     ]
    },
    {
     "name": "stderr",
     "output_type": "stream",
     "text": [
      "\r",
      "74808it [03:29, 319.96it/s]"
     ]
    },
    {
     "name": "stderr",
     "output_type": "stream",
     "text": [
      "\r",
      "74842it [03:29, 323.62it/s]"
     ]
    },
    {
     "name": "stderr",
     "output_type": "stream",
     "text": [
      "\r",
      "74877it [03:29, 330.16it/s]"
     ]
    },
    {
     "name": "stderr",
     "output_type": "stream",
     "text": [
      "\r",
      "74911it [03:29, 326.36it/s]"
     ]
    },
    {
     "name": "stderr",
     "output_type": "stream",
     "text": [
      "\r",
      "74944it [03:30, 304.04it/s]"
     ]
    },
    {
     "name": "stderr",
     "output_type": "stream",
     "text": [
      "\r",
      "74978it [03:30, 312.47it/s]"
     ]
    },
    {
     "name": "stderr",
     "output_type": "stream",
     "text": [
      "\r",
      "75011it [03:30, 315.43it/s]"
     ]
    },
    {
     "name": "stderr",
     "output_type": "stream",
     "text": [
      "\r",
      "75043it [03:30, 313.81it/s]"
     ]
    },
    {
     "name": "stderr",
     "output_type": "stream",
     "text": [
      "\r",
      "75077it [03:30, 318.33it/s]"
     ]
    },
    {
     "name": "stderr",
     "output_type": "stream",
     "text": [
      "\r",
      "75109it [03:30, 312.69it/s]"
     ]
    },
    {
     "name": "stderr",
     "output_type": "stream",
     "text": [
      "\r",
      "75141it [03:30, 312.03it/s]"
     ]
    },
    {
     "name": "stderr",
     "output_type": "stream",
     "text": [
      "\r",
      "75173it [03:30, 308.14it/s]"
     ]
    },
    {
     "name": "stderr",
     "output_type": "stream",
     "text": [
      "\r",
      "75208it [03:30, 319.29it/s]"
     ]
    },
    {
     "name": "stderr",
     "output_type": "stream",
     "text": [
      "\r",
      "75241it [03:30, 320.50it/s]"
     ]
    },
    {
     "name": "stderr",
     "output_type": "stream",
     "text": [
      "\r",
      "75274it [03:31, 316.90it/s]"
     ]
    },
    {
     "name": "stderr",
     "output_type": "stream",
     "text": [
      "\r",
      "75306it [03:31, 311.84it/s]"
     ]
    },
    {
     "name": "stderr",
     "output_type": "stream",
     "text": [
      "\r",
      "75338it [03:31, 311.65it/s]"
     ]
    },
    {
     "name": "stderr",
     "output_type": "stream",
     "text": [
      "\r",
      "75373it [03:31, 321.95it/s]"
     ]
    },
    {
     "name": "stderr",
     "output_type": "stream",
     "text": [
      "\r",
      "75407it [03:31, 325.88it/s]"
     ]
    },
    {
     "name": "stderr",
     "output_type": "stream",
     "text": [
      "\r",
      "75440it [03:31, 325.75it/s]"
     ]
    },
    {
     "name": "stderr",
     "output_type": "stream",
     "text": [
      "\r",
      "75473it [03:31, 326.62it/s]"
     ]
    },
    {
     "name": "stderr",
     "output_type": "stream",
     "text": [
      "\r",
      "75506it [03:31, 314.29it/s]"
     ]
    },
    {
     "name": "stderr",
     "output_type": "stream",
     "text": [
      "\r",
      "75541it [03:31, 322.73it/s]"
     ]
    },
    {
     "name": "stderr",
     "output_type": "stream",
     "text": [
      "\r",
      "75574it [03:31, 321.64it/s]"
     ]
    },
    {
     "name": "stderr",
     "output_type": "stream",
     "text": [
      "\r",
      "75607it [03:32, 317.87it/s]"
     ]
    },
    {
     "name": "stderr",
     "output_type": "stream",
     "text": [
      "\r",
      "75640it [03:32, 318.99it/s]"
     ]
    },
    {
     "name": "stderr",
     "output_type": "stream",
     "text": [
      "\r",
      "75672it [03:32, 316.98it/s]"
     ]
    },
    {
     "name": "stderr",
     "output_type": "stream",
     "text": [
      "\r",
      "75709it [03:32, 331.79it/s]"
     ]
    },
    {
     "name": "stderr",
     "output_type": "stream",
     "text": [
      "\r",
      "75745it [03:32, 338.67it/s]"
     ]
    },
    {
     "name": "stderr",
     "output_type": "stream",
     "text": [
      "\r",
      "75780it [03:32, 338.91it/s]"
     ]
    },
    {
     "name": "stderr",
     "output_type": "stream",
     "text": [
      "\r",
      "75814it [03:32, 337.90it/s]"
     ]
    },
    {
     "name": "stderr",
     "output_type": "stream",
     "text": [
      "\r",
      "75848it [03:32, 335.11it/s]"
     ]
    },
    {
     "name": "stderr",
     "output_type": "stream",
     "text": [
      "\r",
      "75882it [03:32, 326.25it/s]"
     ]
    },
    {
     "name": "stderr",
     "output_type": "stream",
     "text": [
      "\r",
      "75915it [03:33, 322.90it/s]"
     ]
    },
    {
     "name": "stderr",
     "output_type": "stream",
     "text": [
      "\r",
      "75948it [03:33, 317.63it/s]"
     ]
    },
    {
     "name": "stderr",
     "output_type": "stream",
     "text": [
      "\r",
      "75980it [03:33, 311.42it/s]"
     ]
    },
    {
     "name": "stderr",
     "output_type": "stream",
     "text": [
      "\r",
      "76012it [03:33, 309.63it/s]"
     ]
    },
    {
     "name": "stderr",
     "output_type": "stream",
     "text": [
      "\r",
      "76043it [03:33, 307.21it/s]"
     ]
    },
    {
     "name": "stderr",
     "output_type": "stream",
     "text": [
      "\r",
      "76075it [03:33, 310.53it/s]"
     ]
    },
    {
     "name": "stderr",
     "output_type": "stream",
     "text": [
      "\r",
      "76109it [03:33, 316.86it/s]"
     ]
    },
    {
     "name": "stderr",
     "output_type": "stream",
     "text": [
      "\r",
      "76144it [03:33, 326.33it/s]"
     ]
    },
    {
     "name": "stderr",
     "output_type": "stream",
     "text": [
      "\r",
      "76181it [03:33, 338.11it/s]"
     ]
    },
    {
     "name": "stderr",
     "output_type": "stream",
     "text": [
      "\r",
      "76215it [03:33, 332.79it/s]"
     ]
    },
    {
     "name": "stderr",
     "output_type": "stream",
     "text": [
      "\r",
      "76249it [03:34, 327.17it/s]"
     ]
    },
    {
     "name": "stderr",
     "output_type": "stream",
     "text": [
      "\r",
      "76283it [03:34, 330.09it/s]"
     ]
    },
    {
     "name": "stderr",
     "output_type": "stream",
     "text": [
      "\r",
      "76317it [03:34, 332.71it/s]"
     ]
    },
    {
     "name": "stderr",
     "output_type": "stream",
     "text": [
      "\r",
      "76351it [03:34, 332.57it/s]"
     ]
    },
    {
     "name": "stderr",
     "output_type": "stream",
     "text": [
      "\r",
      "76385it [03:34, 312.37it/s]"
     ]
    },
    {
     "name": "stderr",
     "output_type": "stream",
     "text": [
      "\r",
      "76419it [03:34, 319.18it/s]"
     ]
    },
    {
     "name": "stderr",
     "output_type": "stream",
     "text": [
      "\r",
      "76453it [03:34, 322.77it/s]"
     ]
    },
    {
     "name": "stderr",
     "output_type": "stream",
     "text": [
      "\r",
      "76486it [03:34, 318.48it/s]"
     ]
    },
    {
     "name": "stderr",
     "output_type": "stream",
     "text": [
      "\r",
      "76518it [03:34, 311.68it/s]"
     ]
    },
    {
     "name": "stderr",
     "output_type": "stream",
     "text": [
      "\r",
      "76550it [03:34, 313.48it/s]"
     ]
    },
    {
     "name": "stderr",
     "output_type": "stream",
     "text": [
      "\r",
      "76583it [03:35, 317.71it/s]"
     ]
    },
    {
     "name": "stderr",
     "output_type": "stream",
     "text": [
      "\r",
      "76621it [03:35, 334.42it/s]"
     ]
    },
    {
     "name": "stderr",
     "output_type": "stream",
     "text": [
      "\r",
      "76655it [03:35, 333.54it/s]"
     ]
    },
    {
     "name": "stderr",
     "output_type": "stream",
     "text": [
      "\r",
      "76689it [03:35, 327.71it/s]"
     ]
    },
    {
     "name": "stderr",
     "output_type": "stream",
     "text": [
      "\r",
      "76722it [03:35, 322.75it/s]"
     ]
    },
    {
     "name": "stderr",
     "output_type": "stream",
     "text": [
      "\r",
      "76755it [03:35, 318.87it/s]"
     ]
    },
    {
     "name": "stderr",
     "output_type": "stream",
     "text": [
      "\r",
      "76787it [03:35, 316.92it/s]"
     ]
    },
    {
     "name": "stderr",
     "output_type": "stream",
     "text": [
      "\r",
      "76819it [03:35, 306.78it/s]"
     ]
    },
    {
     "name": "stderr",
     "output_type": "stream",
     "text": [
      "\r",
      "76852it [03:35, 313.29it/s]"
     ]
    },
    {
     "name": "stderr",
     "output_type": "stream",
     "text": [
      "\r",
      "76884it [03:36, 310.49it/s]"
     ]
    },
    {
     "name": "stderr",
     "output_type": "stream",
     "text": [
      "\r",
      "76916it [03:36, 307.15it/s]"
     ]
    },
    {
     "name": "stderr",
     "output_type": "stream",
     "text": [
      "\r",
      "76947it [03:36, 305.40it/s]"
     ]
    },
    {
     "name": "stderr",
     "output_type": "stream",
     "text": [
      "\r",
      "76981it [03:36, 313.91it/s]"
     ]
    },
    {
     "name": "stderr",
     "output_type": "stream",
     "text": [
      "\r",
      "77013it [03:36, 312.60it/s]"
     ]
    },
    {
     "name": "stderr",
     "output_type": "stream",
     "text": [
      "\r",
      "77045it [03:36, 308.47it/s]"
     ]
    },
    {
     "name": "stderr",
     "output_type": "stream",
     "text": [
      "\r",
      "77079it [03:36, 316.91it/s]"
     ]
    },
    {
     "name": "stderr",
     "output_type": "stream",
     "text": [
      "\r",
      "77111it [03:36, 314.03it/s]"
     ]
    },
    {
     "name": "stderr",
     "output_type": "stream",
     "text": [
      "\r",
      "77143it [03:36, 307.03it/s]"
     ]
    },
    {
     "name": "stderr",
     "output_type": "stream",
     "text": [
      "\r",
      "77176it [03:36, 312.58it/s]"
     ]
    },
    {
     "name": "stderr",
     "output_type": "stream",
     "text": [
      "\r",
      "77208it [03:37, 313.16it/s]"
     ]
    },
    {
     "name": "stderr",
     "output_type": "stream",
     "text": [
      "\r",
      "77243it [03:37, 321.40it/s]"
     ]
    },
    {
     "name": "stderr",
     "output_type": "stream",
     "text": [
      "\r",
      "77276it [03:37, 319.64it/s]"
     ]
    },
    {
     "name": "stderr",
     "output_type": "stream",
     "text": [
      "\r",
      "77308it [03:37, 313.82it/s]"
     ]
    },
    {
     "name": "stderr",
     "output_type": "stream",
     "text": [
      "\r",
      "77340it [03:37, 311.36it/s]"
     ]
    },
    {
     "name": "stderr",
     "output_type": "stream",
     "text": [
      "\r",
      "77373it [03:37, 314.52it/s]"
     ]
    },
    {
     "name": "stderr",
     "output_type": "stream",
     "text": [
      "\r",
      "77405it [03:37, 315.14it/s]"
     ]
    },
    {
     "name": "stderr",
     "output_type": "stream",
     "text": [
      "\r",
      "77437it [03:37, 312.57it/s]"
     ]
    },
    {
     "name": "stderr",
     "output_type": "stream",
     "text": [
      "\r",
      "77469it [03:37, 310.95it/s]"
     ]
    },
    {
     "name": "stderr",
     "output_type": "stream",
     "text": [
      "\r",
      "77501it [03:38, 305.43it/s]"
     ]
    },
    {
     "name": "stderr",
     "output_type": "stream",
     "text": [
      "\r",
      "77532it [03:38, 306.43it/s]"
     ]
    },
    {
     "name": "stderr",
     "output_type": "stream",
     "text": [
      "\r",
      "77565it [03:38, 313.28it/s]"
     ]
    },
    {
     "name": "stderr",
     "output_type": "stream",
     "text": [
      "\r",
      "77599it [03:38, 320.57it/s]"
     ]
    },
    {
     "name": "stderr",
     "output_type": "stream",
     "text": [
      "\r",
      "77634it [03:38, 328.91it/s]"
     ]
    },
    {
     "name": "stderr",
     "output_type": "stream",
     "text": [
      "\r",
      "77667it [03:38, 293.22it/s]"
     ]
    },
    {
     "name": "stderr",
     "output_type": "stream",
     "text": [
      "\r",
      "77698it [03:38, 289.71it/s]"
     ]
    },
    {
     "name": "stderr",
     "output_type": "stream",
     "text": [
      "\r",
      "77728it [03:38, 288.32it/s]"
     ]
    },
    {
     "name": "stderr",
     "output_type": "stream",
     "text": [
      "\r",
      "77758it [03:38, 279.73it/s]"
     ]
    },
    {
     "name": "stderr",
     "output_type": "stream",
     "text": [
      "\r",
      "77787it [03:39, 279.39it/s]"
     ]
    },
    {
     "name": "stderr",
     "output_type": "stream",
     "text": [
      "\r",
      "77816it [03:39, 278.31it/s]"
     ]
    },
    {
     "name": "stderr",
     "output_type": "stream",
     "text": [
      "\r",
      "77847it [03:39, 286.35it/s]"
     ]
    },
    {
     "name": "stderr",
     "output_type": "stream",
     "text": [
      "\r",
      "77878it [03:39, 291.34it/s]"
     ]
    },
    {
     "name": "stderr",
     "output_type": "stream",
     "text": [
      "\r",
      "77908it [03:39, 290.12it/s]"
     ]
    },
    {
     "name": "stderr",
     "output_type": "stream",
     "text": [
      "\r",
      "77943it [03:39, 306.75it/s]"
     ]
    },
    {
     "name": "stderr",
     "output_type": "stream",
     "text": [
      "\r",
      "77974it [03:39, 304.47it/s]"
     ]
    },
    {
     "name": "stderr",
     "output_type": "stream",
     "text": [
      "\r",
      "78006it [03:39, 307.81it/s]"
     ]
    },
    {
     "name": "stderr",
     "output_type": "stream",
     "text": [
      "\r",
      "78041it [03:39, 318.18it/s]"
     ]
    },
    {
     "name": "stderr",
     "output_type": "stream",
     "text": [
      "\r",
      "78073it [03:39, 311.70it/s]"
     ]
    },
    {
     "name": "stderr",
     "output_type": "stream",
     "text": [
      "\r",
      "78105it [03:40, 309.97it/s]"
     ]
    },
    {
     "name": "stderr",
     "output_type": "stream",
     "text": [
      "\r",
      "78137it [03:40, 309.25it/s]"
     ]
    },
    {
     "name": "stderr",
     "output_type": "stream",
     "text": [
      "\r",
      "78170it [03:40, 314.61it/s]"
     ]
    },
    {
     "name": "stderr",
     "output_type": "stream",
     "text": [
      "\r",
      "78202it [03:40, 315.31it/s]"
     ]
    },
    {
     "name": "stderr",
     "output_type": "stream",
     "text": [
      "\r",
      "78234it [03:40, 315.42it/s]"
     ]
    },
    {
     "name": "stderr",
     "output_type": "stream",
     "text": [
      "\r",
      "78268it [03:40, 320.32it/s]"
     ]
    },
    {
     "name": "stderr",
     "output_type": "stream",
     "text": [
      "\r",
      "78301it [03:40, 317.28it/s]"
     ]
    },
    {
     "name": "stderr",
     "output_type": "stream",
     "text": [
      "\r",
      "78333it [03:40, 310.70it/s]"
     ]
    },
    {
     "name": "stderr",
     "output_type": "stream",
     "text": [
      "\r",
      "78365it [03:40, 310.61it/s]"
     ]
    },
    {
     "name": "stderr",
     "output_type": "stream",
     "text": [
      "\r",
      "78397it [03:40, 308.46it/s]"
     ]
    },
    {
     "name": "stderr",
     "output_type": "stream",
     "text": [
      "\r",
      "78428it [03:41, 301.21it/s]"
     ]
    },
    {
     "name": "stderr",
     "output_type": "stream",
     "text": [
      "\r",
      "78464it [03:41, 315.84it/s]"
     ]
    },
    {
     "name": "stderr",
     "output_type": "stream",
     "text": [
      "\r",
      "78498it [03:41, 318.20it/s]"
     ]
    },
    {
     "name": "stderr",
     "output_type": "stream",
     "text": [
      "\r",
      "78530it [03:41, 316.39it/s]"
     ]
    },
    {
     "name": "stderr",
     "output_type": "stream",
     "text": [
      "\r",
      "78562it [03:41, 305.79it/s]"
     ]
    },
    {
     "name": "stderr",
     "output_type": "stream",
     "text": [
      "\r",
      "78593it [03:41, 299.03it/s]"
     ]
    },
    {
     "name": "stderr",
     "output_type": "stream",
     "text": [
      "\r",
      "78623it [03:41, 292.16it/s]"
     ]
    },
    {
     "name": "stderr",
     "output_type": "stream",
     "text": [
      "\r",
      "78653it [03:41, 280.22it/s]"
     ]
    },
    {
     "name": "stderr",
     "output_type": "stream",
     "text": [
      "\r",
      "78682it [03:41, 280.88it/s]"
     ]
    },
    {
     "name": "stderr",
     "output_type": "stream",
     "text": [
      "\r",
      "78713it [03:42, 287.46it/s]"
     ]
    },
    {
     "name": "stderr",
     "output_type": "stream",
     "text": [
      "\r",
      "78743it [03:42, 290.79it/s]"
     ]
    },
    {
     "name": "stderr",
     "output_type": "stream",
     "text": [
      "\r",
      "78773it [03:42, 265.72it/s]"
     ]
    },
    {
     "name": "stderr",
     "output_type": "stream",
     "text": [
      "\r",
      "78805it [03:42, 279.65it/s]"
     ]
    },
    {
     "name": "stderr",
     "output_type": "stream",
     "text": [
      "\r",
      "78834it [03:42, 279.70it/s]"
     ]
    },
    {
     "name": "stderr",
     "output_type": "stream",
     "text": [
      "\r",
      "78867it [03:42, 291.11it/s]"
     ]
    },
    {
     "name": "stderr",
     "output_type": "stream",
     "text": [
      "\r",
      "78898it [03:42, 294.19it/s]"
     ]
    },
    {
     "name": "stderr",
     "output_type": "stream",
     "text": [
      "\r",
      "78930it [03:42, 300.18it/s]"
     ]
    },
    {
     "name": "stderr",
     "output_type": "stream",
     "text": [
      "\r",
      "78961it [03:42, 280.49it/s]"
     ]
    },
    {
     "name": "stderr",
     "output_type": "stream",
     "text": [
      "\r",
      "78990it [03:43, 280.79it/s]"
     ]
    },
    {
     "name": "stderr",
     "output_type": "stream",
     "text": [
      "\r",
      "79022it [03:43, 289.73it/s]"
     ]
    },
    {
     "name": "stderr",
     "output_type": "stream",
     "text": [
      "\r",
      "79054it [03:43, 296.99it/s]"
     ]
    },
    {
     "name": "stderr",
     "output_type": "stream",
     "text": [
      "\r",
      "79086it [03:43, 302.16it/s]"
     ]
    },
    {
     "name": "stderr",
     "output_type": "stream",
     "text": [
      "\r",
      "79117it [03:43, 287.98it/s]"
     ]
    },
    {
     "name": "stderr",
     "output_type": "stream",
     "text": [
      "\r",
      "79147it [03:43, 285.55it/s]"
     ]
    },
    {
     "name": "stderr",
     "output_type": "stream",
     "text": [
      "\r",
      "79179it [03:43, 294.87it/s]"
     ]
    },
    {
     "name": "stderr",
     "output_type": "stream",
     "text": [
      "\r",
      "79213it [03:43, 303.03it/s]"
     ]
    },
    {
     "name": "stderr",
     "output_type": "stream",
     "text": [
      "\r",
      "79244it [03:43, 302.06it/s]"
     ]
    },
    {
     "name": "stderr",
     "output_type": "stream",
     "text": [
      "\r",
      "79275it [03:43, 300.00it/s]"
     ]
    },
    {
     "name": "stderr",
     "output_type": "stream",
     "text": [
      "\r",
      "79306it [03:44, 300.53it/s]"
     ]
    },
    {
     "name": "stderr",
     "output_type": "stream",
     "text": [
      "\r",
      "79337it [03:44, 292.93it/s]"
     ]
    },
    {
     "name": "stderr",
     "output_type": "stream",
     "text": [
      "\r",
      "79369it [03:44, 298.66it/s]"
     ]
    },
    {
     "name": "stderr",
     "output_type": "stream",
     "text": [
      "\r",
      "79400it [03:44, 300.34it/s]"
     ]
    },
    {
     "name": "stderr",
     "output_type": "stream",
     "text": [
      "\r",
      "79432it [03:44, 305.97it/s]"
     ]
    },
    {
     "name": "stderr",
     "output_type": "stream",
     "text": [
      "\r",
      "79466it [03:44, 313.85it/s]"
     ]
    },
    {
     "name": "stderr",
     "output_type": "stream",
     "text": [
      "\r",
      "79499it [03:44, 318.27it/s]"
     ]
    },
    {
     "name": "stderr",
     "output_type": "stream",
     "text": [
      "\r",
      "79533it [03:44, 323.22it/s]"
     ]
    },
    {
     "name": "stderr",
     "output_type": "stream",
     "text": [
      "\r",
      "79566it [03:44, 322.15it/s]"
     ]
    },
    {
     "name": "stderr",
     "output_type": "stream",
     "text": [
      "\r",
      "79599it [03:45, 277.47it/s]"
     ]
    },
    {
     "name": "stderr",
     "output_type": "stream",
     "text": [
      "\r",
      "79630it [03:45, 283.36it/s]"
     ]
    },
    {
     "name": "stderr",
     "output_type": "stream",
     "text": [
      "\r",
      "79660it [03:45, 276.32it/s]"
     ]
    },
    {
     "name": "stderr",
     "output_type": "stream",
     "text": [
      "\r",
      "79689it [03:45, 273.94it/s]"
     ]
    },
    {
     "name": "stderr",
     "output_type": "stream",
     "text": [
      "\r",
      "79717it [03:45, 275.37it/s]"
     ]
    },
    {
     "name": "stderr",
     "output_type": "stream",
     "text": [
      "\r",
      "79745it [03:45, 273.35it/s]"
     ]
    },
    {
     "name": "stderr",
     "output_type": "stream",
     "text": [
      "\r",
      "79776it [03:45, 282.26it/s]"
     ]
    },
    {
     "name": "stderr",
     "output_type": "stream",
     "text": [
      "\r",
      "79805it [03:45, 274.34it/s]"
     ]
    },
    {
     "name": "stderr",
     "output_type": "stream",
     "text": [
      "\r",
      "79833it [03:45, 260.49it/s]"
     ]
    },
    {
     "name": "stderr",
     "output_type": "stream",
     "text": [
      "\r",
      "79860it [03:46, 254.20it/s]"
     ]
    },
    {
     "name": "stderr",
     "output_type": "stream",
     "text": [
      "\r",
      "79886it [03:46, 237.78it/s]"
     ]
    },
    {
     "name": "stderr",
     "output_type": "stream",
     "text": [
      "\r",
      "79915it [03:46, 250.38it/s]"
     ]
    },
    {
     "name": "stderr",
     "output_type": "stream",
     "text": [
      "\r",
      "79941it [03:46, 250.16it/s]"
     ]
    },
    {
     "name": "stderr",
     "output_type": "stream",
     "text": [
      "\r",
      "79968it [03:46, 254.69it/s]"
     ]
    },
    {
     "name": "stderr",
     "output_type": "stream",
     "text": [
      "\r",
      "79998it [03:46, 264.46it/s]"
     ]
    },
    {
     "name": "stderr",
     "output_type": "stream",
     "text": [
      "\r",
      "80027it [03:46, 269.81it/s]"
     ]
    },
    {
     "name": "stderr",
     "output_type": "stream",
     "text": [
      "\r",
      "80059it [03:46, 284.25it/s]"
     ]
    },
    {
     "name": "stderr",
     "output_type": "stream",
     "text": [
      "\r",
      "80090it [03:46, 289.37it/s]"
     ]
    },
    {
     "name": "stderr",
     "output_type": "stream",
     "text": [
      "\r",
      "80120it [03:46, 291.40it/s]"
     ]
    },
    {
     "name": "stderr",
     "output_type": "stream",
     "text": [
      "\r",
      "80151it [03:47, 295.63it/s]"
     ]
    },
    {
     "name": "stderr",
     "output_type": "stream",
     "text": [
      "\r",
      "80184it [03:47, 304.72it/s]"
     ]
    },
    {
     "name": "stderr",
     "output_type": "stream",
     "text": [
      "\r",
      "80215it [03:47, 304.62it/s]"
     ]
    },
    {
     "name": "stderr",
     "output_type": "stream",
     "text": [
      "\r",
      "80246it [03:47, 305.86it/s]"
     ]
    },
    {
     "name": "stderr",
     "output_type": "stream",
     "text": [
      "\r",
      "80277it [03:47, 301.49it/s]"
     ]
    },
    {
     "name": "stderr",
     "output_type": "stream",
     "text": [
      "\r",
      "80310it [03:47, 307.71it/s]"
     ]
    },
    {
     "name": "stderr",
     "output_type": "stream",
     "text": [
      "\r",
      "80342it [03:47, 311.24it/s]"
     ]
    },
    {
     "name": "stderr",
     "output_type": "stream",
     "text": [
      "\r",
      "80378it [03:47, 325.13it/s]"
     ]
    },
    {
     "name": "stderr",
     "output_type": "stream",
     "text": [
      "\r",
      "80411it [03:47, 323.76it/s]"
     ]
    },
    {
     "name": "stderr",
     "output_type": "stream",
     "text": [
      "\r",
      "80444it [03:48, 318.45it/s]"
     ]
    },
    {
     "name": "stderr",
     "output_type": "stream",
     "text": [
      "\r",
      "80476it [03:48, 312.64it/s]"
     ]
    },
    {
     "name": "stderr",
     "output_type": "stream",
     "text": [
      "\r",
      "80508it [03:48, 310.88it/s]"
     ]
    },
    {
     "name": "stderr",
     "output_type": "stream",
     "text": [
      "\r",
      "80540it [03:48, 310.44it/s]"
     ]
    },
    {
     "name": "stderr",
     "output_type": "stream",
     "text": [
      "\r",
      "80572it [03:48, 298.61it/s]"
     ]
    },
    {
     "name": "stderr",
     "output_type": "stream",
     "text": [
      "\r",
      "80603it [03:48, 299.64it/s]"
     ]
    },
    {
     "name": "stderr",
     "output_type": "stream",
     "text": [
      "\r",
      "80634it [03:48, 302.28it/s]"
     ]
    },
    {
     "name": "stderr",
     "output_type": "stream",
     "text": [
      "\r",
      "80665it [03:48, 302.97it/s]"
     ]
    },
    {
     "name": "stderr",
     "output_type": "stream",
     "text": [
      "\r",
      "80696it [03:48, 296.63it/s]"
     ]
    },
    {
     "name": "stderr",
     "output_type": "stream",
     "text": [
      "\r",
      "80728it [03:48, 302.81it/s]"
     ]
    },
    {
     "name": "stderr",
     "output_type": "stream",
     "text": [
      "\r",
      "80759it [03:49, 303.93it/s]"
     ]
    },
    {
     "name": "stderr",
     "output_type": "stream",
     "text": [
      "\r",
      "80791it [03:49, 306.52it/s]"
     ]
    },
    {
     "name": "stderr",
     "output_type": "stream",
     "text": [
      "\r",
      "80822it [03:49, 304.49it/s]"
     ]
    },
    {
     "name": "stderr",
     "output_type": "stream",
     "text": [
      "\r",
      "80856it [03:49, 312.57it/s]"
     ]
    },
    {
     "name": "stderr",
     "output_type": "stream",
     "text": [
      "\r",
      "80888it [03:49, 303.08it/s]"
     ]
    },
    {
     "name": "stderr",
     "output_type": "stream",
     "text": [
      "\r",
      "80920it [03:49, 304.77it/s]"
     ]
    },
    {
     "name": "stderr",
     "output_type": "stream",
     "text": [
      "\r",
      "80953it [03:49, 309.84it/s]"
     ]
    },
    {
     "name": "stderr",
     "output_type": "stream",
     "text": [
      "\r",
      "80987it [03:49, 316.60it/s]"
     ]
    },
    {
     "name": "stderr",
     "output_type": "stream",
     "text": [
      "\r",
      "81020it [03:49, 320.04it/s]"
     ]
    },
    {
     "name": "stderr",
     "output_type": "stream",
     "text": [
      "\r",
      "81053it [03:49, 314.31it/s]"
     ]
    },
    {
     "name": "stderr",
     "output_type": "stream",
     "text": [
      "\r",
      "81085it [03:50, 312.45it/s]"
     ]
    },
    {
     "name": "stderr",
     "output_type": "stream",
     "text": [
      "\r",
      "81117it [03:50, 311.50it/s]"
     ]
    },
    {
     "name": "stderr",
     "output_type": "stream",
     "text": [
      "\r",
      "81150it [03:50, 316.58it/s]"
     ]
    },
    {
     "name": "stderr",
     "output_type": "stream",
     "text": [
      "\r",
      "81182it [03:50, 311.53it/s]"
     ]
    },
    {
     "name": "stderr",
     "output_type": "stream",
     "text": [
      "\r",
      "81214it [03:50, 310.99it/s]"
     ]
    },
    {
     "name": "stderr",
     "output_type": "stream",
     "text": [
      "\r",
      "81246it [03:50, 304.92it/s]"
     ]
    },
    {
     "name": "stderr",
     "output_type": "stream",
     "text": [
      "\r",
      "81279it [03:50, 310.70it/s]"
     ]
    },
    {
     "name": "stderr",
     "output_type": "stream",
     "text": [
      "\r",
      "81311it [03:50, 312.94it/s]"
     ]
    },
    {
     "name": "stderr",
     "output_type": "stream",
     "text": [
      "\r",
      "81345it [03:50, 320.40it/s]"
     ]
    },
    {
     "name": "stderr",
     "output_type": "stream",
     "text": [
      "\r",
      "81378it [03:51, 320.96it/s]"
     ]
    },
    {
     "name": "stderr",
     "output_type": "stream",
     "text": [
      "\r",
      "81411it [03:51, 322.97it/s]"
     ]
    },
    {
     "name": "stderr",
     "output_type": "stream",
     "text": [
      "\r",
      "81445it [03:51, 325.53it/s]"
     ]
    },
    {
     "name": "stderr",
     "output_type": "stream",
     "text": [
      "\r",
      "81478it [03:51, 320.82it/s]"
     ]
    },
    {
     "name": "stderr",
     "output_type": "stream",
     "text": [
      "\r",
      "81511it [03:51, 316.90it/s]"
     ]
    },
    {
     "name": "stderr",
     "output_type": "stream",
     "text": [
      "\r",
      "81544it [03:51, 319.32it/s]"
     ]
    },
    {
     "name": "stderr",
     "output_type": "stream",
     "text": [
      "\r",
      "81576it [03:51, 312.37it/s]"
     ]
    },
    {
     "name": "stderr",
     "output_type": "stream",
     "text": [
      "\r",
      "81608it [03:51, 310.47it/s]"
     ]
    },
    {
     "name": "stderr",
     "output_type": "stream",
     "text": [
      "\r",
      "81640it [03:51, 307.13it/s]"
     ]
    },
    {
     "name": "stderr",
     "output_type": "stream",
     "text": [
      "\r",
      "81675it [03:51, 318.67it/s]"
     ]
    },
    {
     "name": "stderr",
     "output_type": "stream",
     "text": [
      "\r",
      "81710it [03:52, 327.27it/s]"
     ]
    },
    {
     "name": "stderr",
     "output_type": "stream",
     "text": [
      "\r",
      "81743it [03:52, 322.65it/s]"
     ]
    },
    {
     "name": "stderr",
     "output_type": "stream",
     "text": [
      "\r",
      "81777it [03:52, 327.49it/s]"
     ]
    },
    {
     "name": "stderr",
     "output_type": "stream",
     "text": [
      "\r",
      "81810it [03:52, 326.27it/s]"
     ]
    },
    {
     "name": "stderr",
     "output_type": "stream",
     "text": [
      "\r",
      "81843it [03:52, 319.52it/s]"
     ]
    },
    {
     "name": "stderr",
     "output_type": "stream",
     "text": [
      "\r",
      "81877it [03:52, 324.57it/s]"
     ]
    },
    {
     "name": "stderr",
     "output_type": "stream",
     "text": [
      "\r",
      "81910it [03:52, 322.55it/s]"
     ]
    },
    {
     "name": "stderr",
     "output_type": "stream",
     "text": [
      "\r",
      "81943it [03:52, 319.64it/s]"
     ]
    },
    {
     "name": "stderr",
     "output_type": "stream",
     "text": [
      "\r",
      "81977it [03:52, 323.77it/s]"
     ]
    },
    {
     "name": "stderr",
     "output_type": "stream",
     "text": [
      "\r",
      "82010it [03:52, 322.91it/s]"
     ]
    },
    {
     "name": "stderr",
     "output_type": "stream",
     "text": [
      "\r",
      "82043it [03:53, 316.33it/s]"
     ]
    },
    {
     "name": "stderr",
     "output_type": "stream",
     "text": [
      "\r",
      "82077it [03:53, 323.03it/s]"
     ]
    },
    {
     "name": "stderr",
     "output_type": "stream",
     "text": [
      "\r",
      "82110it [03:53, 319.76it/s]"
     ]
    },
    {
     "name": "stderr",
     "output_type": "stream",
     "text": [
      "\r",
      "82143it [03:53, 316.27it/s]"
     ]
    },
    {
     "name": "stderr",
     "output_type": "stream",
     "text": [
      "\r",
      "82175it [03:53, 314.06it/s]"
     ]
    },
    {
     "name": "stderr",
     "output_type": "stream",
     "text": [
      "\r",
      "82208it [03:53, 317.82it/s]"
     ]
    },
    {
     "name": "stderr",
     "output_type": "stream",
     "text": [
      "\r",
      "82242it [03:53, 322.82it/s]"
     ]
    },
    {
     "name": "stderr",
     "output_type": "stream",
     "text": [
      "\r",
      "82278it [03:53, 333.33it/s]"
     ]
    },
    {
     "name": "stderr",
     "output_type": "stream",
     "text": [
      "\r",
      "82312it [03:53, 332.97it/s]"
     ]
    },
    {
     "name": "stderr",
     "output_type": "stream",
     "text": [
      "\r",
      "82346it [03:54, 328.04it/s]"
     ]
    },
    {
     "name": "stderr",
     "output_type": "stream",
     "text": [
      "\r",
      "82379it [03:54, 323.98it/s]"
     ]
    },
    {
     "name": "stderr",
     "output_type": "stream",
     "text": [
      "\r",
      "82412it [03:54, 319.98it/s]"
     ]
    },
    {
     "name": "stderr",
     "output_type": "stream",
     "text": [
      "\r",
      "82445it [03:54, 319.75it/s]"
     ]
    },
    {
     "name": "stderr",
     "output_type": "stream",
     "text": [
      "\r",
      "82477it [03:54, 305.93it/s]"
     ]
    },
    {
     "name": "stderr",
     "output_type": "stream",
     "text": [
      "\r",
      "82509it [03:54, 308.81it/s]"
     ]
    },
    {
     "name": "stderr",
     "output_type": "stream",
     "text": [
      "\r",
      "82542it [03:54, 312.43it/s]"
     ]
    },
    {
     "name": "stderr",
     "output_type": "stream",
     "text": [
      "\r",
      "82574it [03:54, 314.25it/s]"
     ]
    },
    {
     "name": "stderr",
     "output_type": "stream",
     "text": [
      "\r",
      "82606it [03:54, 313.66it/s]"
     ]
    },
    {
     "name": "stderr",
     "output_type": "stream",
     "text": [
      "\r",
      "82641it [03:54, 323.89it/s]"
     ]
    },
    {
     "name": "stderr",
     "output_type": "stream",
     "text": [
      "\r",
      "82674it [03:55, 320.55it/s]"
     ]
    },
    {
     "name": "stderr",
     "output_type": "stream",
     "text": [
      "\r",
      "82707it [03:55, 319.02it/s]"
     ]
    },
    {
     "name": "stderr",
     "output_type": "stream",
     "text": [
      "\r",
      "82741it [03:55, 322.95it/s]"
     ]
    },
    {
     "name": "stderr",
     "output_type": "stream",
     "text": [
      "\r",
      "82774it [03:55, 321.41it/s]"
     ]
    },
    {
     "name": "stderr",
     "output_type": "stream",
     "text": [
      "\r",
      "82807it [03:55, 317.40it/s]"
     ]
    },
    {
     "name": "stderr",
     "output_type": "stream",
     "text": [
      "\r",
      "82840it [03:55, 320.17it/s]"
     ]
    },
    {
     "name": "stderr",
     "output_type": "stream",
     "text": [
      "\r",
      "82874it [03:55, 324.04it/s]"
     ]
    },
    {
     "name": "stderr",
     "output_type": "stream",
     "text": [
      "\r",
      "82911it [03:55, 335.50it/s]"
     ]
    },
    {
     "name": "stderr",
     "output_type": "stream",
     "text": [
      "\r",
      "82945it [03:55, 334.88it/s]"
     ]
    },
    {
     "name": "stderr",
     "output_type": "stream",
     "text": [
      "\r",
      "82979it [03:55, 336.16it/s]"
     ]
    },
    {
     "name": "stderr",
     "output_type": "stream",
     "text": [
      "\r",
      "83013it [03:56, 331.24it/s]"
     ]
    },
    {
     "name": "stderr",
     "output_type": "stream",
     "text": [
      "\r",
      "83048it [03:56, 334.35it/s]"
     ]
    },
    {
     "name": "stderr",
     "output_type": "stream",
     "text": [
      "\r",
      "83082it [03:56, 332.44it/s]"
     ]
    },
    {
     "name": "stderr",
     "output_type": "stream",
     "text": [
      "\r",
      "83116it [03:56, 331.34it/s]"
     ]
    },
    {
     "name": "stderr",
     "output_type": "stream",
     "text": [
      "\r",
      "83150it [03:56, 325.57it/s]"
     ]
    },
    {
     "name": "stderr",
     "output_type": "stream",
     "text": [
      "\r",
      "83185it [03:56, 330.31it/s]"
     ]
    },
    {
     "name": "stderr",
     "output_type": "stream",
     "text": [
      "\r",
      "83220it [03:56, 334.30it/s]"
     ]
    },
    {
     "name": "stderr",
     "output_type": "stream",
     "text": [
      "\r",
      "83256it [03:56, 339.90it/s]"
     ]
    },
    {
     "name": "stderr",
     "output_type": "stream",
     "text": [
      "\r",
      "83292it [03:56, 345.15it/s]"
     ]
    },
    {
     "name": "stderr",
     "output_type": "stream",
     "text": [
      "\r",
      "83327it [03:57, 345.36it/s]"
     ]
    },
    {
     "name": "stderr",
     "output_type": "stream",
     "text": [
      "\r",
      "83362it [03:57, 338.86it/s]"
     ]
    },
    {
     "name": "stderr",
     "output_type": "stream",
     "text": [
      "\r",
      "83397it [03:57, 339.72it/s]"
     ]
    },
    {
     "name": "stderr",
     "output_type": "stream",
     "text": [
      "\r",
      "83431it [03:57, 339.21it/s]"
     ]
    },
    {
     "name": "stderr",
     "output_type": "stream",
     "text": [
      "\r",
      "83465it [03:57, 336.93it/s]"
     ]
    },
    {
     "name": "stderr",
     "output_type": "stream",
     "text": [
      "\r",
      "83499it [03:57, 333.16it/s]"
     ]
    },
    {
     "name": "stderr",
     "output_type": "stream",
     "text": [
      "\r",
      "83533it [03:57, 328.04it/s]"
     ]
    },
    {
     "name": "stderr",
     "output_type": "stream",
     "text": [
      "\r",
      "83568it [03:57, 334.01it/s]"
     ]
    },
    {
     "name": "stderr",
     "output_type": "stream",
     "text": [
      "\r",
      "83608it [03:57, 352.80it/s]"
     ]
    },
    {
     "name": "stderr",
     "output_type": "stream",
     "text": [
      "\r",
      "83644it [03:57, 344.80it/s]"
     ]
    },
    {
     "name": "stderr",
     "output_type": "stream",
     "text": [
      "\r",
      "83679it [03:58, 343.44it/s]"
     ]
    },
    {
     "name": "stderr",
     "output_type": "stream",
     "text": [
      "\r",
      "83714it [03:58, 342.82it/s]"
     ]
    },
    {
     "name": "stderr",
     "output_type": "stream",
     "text": [
      "\r",
      "83749it [03:58, 336.12it/s]"
     ]
    },
    {
     "name": "stderr",
     "output_type": "stream",
     "text": [
      "\r",
      "83785it [03:58, 341.49it/s]"
     ]
    },
    {
     "name": "stderr",
     "output_type": "stream",
     "text": [
      "\r",
      "83820it [03:58, 337.75it/s]"
     ]
    },
    {
     "name": "stderr",
     "output_type": "stream",
     "text": [
      "\r",
      "83855it [03:58, 340.27it/s]"
     ]
    },
    {
     "name": "stderr",
     "output_type": "stream",
     "text": [
      "\r",
      "83890it [03:58, 342.41it/s]"
     ]
    },
    {
     "name": "stderr",
     "output_type": "stream",
     "text": [
      "\r",
      "83925it [03:58, 328.82it/s]"
     ]
    },
    {
     "name": "stderr",
     "output_type": "stream",
     "text": [
      "\r",
      "83960it [03:58, 332.72it/s]"
     ]
    },
    {
     "name": "stderr",
     "output_type": "stream",
     "text": [
      "\r",
      "83994it [03:59, 333.60it/s]"
     ]
    },
    {
     "name": "stderr",
     "output_type": "stream",
     "text": [
      "\r",
      "84030it [03:59, 338.81it/s]"
     ]
    },
    {
     "name": "stderr",
     "output_type": "stream",
     "text": [
      "\r",
      "84064it [03:59, 338.33it/s]"
     ]
    },
    {
     "name": "stderr",
     "output_type": "stream",
     "text": [
      "\r",
      "84101it [03:59, 347.33it/s]"
     ]
    },
    {
     "name": "stderr",
     "output_type": "stream",
     "text": [
      "\r",
      "84138it [03:59, 351.97it/s]"
     ]
    },
    {
     "name": "stderr",
     "output_type": "stream",
     "text": [
      "\r",
      "84174it [03:59, 352.89it/s]"
     ]
    },
    {
     "name": "stderr",
     "output_type": "stream",
     "text": [
      "\r",
      "84210it [03:59, 348.17it/s]"
     ]
    },
    {
     "name": "stderr",
     "output_type": "stream",
     "text": [
      "\r",
      "84245it [03:59, 340.29it/s]"
     ]
    },
    {
     "name": "stderr",
     "output_type": "stream",
     "text": [
      "\r",
      "84280it [03:59, 343.04it/s]"
     ]
    },
    {
     "name": "stderr",
     "output_type": "stream",
     "text": [
      "\r",
      "84315it [03:59, 342.11it/s]"
     ]
    },
    {
     "name": "stderr",
     "output_type": "stream",
     "text": [
      "\r",
      "84350it [04:00, 325.78it/s]"
     ]
    },
    {
     "name": "stderr",
     "output_type": "stream",
     "text": [
      "\r",
      "84384it [04:00, 329.74it/s]"
     ]
    },
    {
     "name": "stderr",
     "output_type": "stream",
     "text": [
      "\r",
      "84419it [04:00, 332.76it/s]"
     ]
    },
    {
     "name": "stderr",
     "output_type": "stream",
     "text": [
      "\r",
      "84453it [04:00, 328.33it/s]"
     ]
    },
    {
     "name": "stderr",
     "output_type": "stream",
     "text": [
      "\r",
      "84489it [04:00, 337.14it/s]"
     ]
    },
    {
     "name": "stderr",
     "output_type": "stream",
     "text": [
      "\r",
      "84526it [04:00, 344.86it/s]"
     ]
    },
    {
     "name": "stderr",
     "output_type": "stream",
     "text": [
      "\r",
      "84561it [04:00, 339.73it/s]"
     ]
    },
    {
     "name": "stderr",
     "output_type": "stream",
     "text": [
      "\r",
      "84596it [04:00, 339.53it/s]"
     ]
    },
    {
     "name": "stderr",
     "output_type": "stream",
     "text": [
      "\r",
      "84633it [04:00, 345.74it/s]"
     ]
    },
    {
     "name": "stderr",
     "output_type": "stream",
     "text": [
      "\r",
      "84668it [04:00, 343.34it/s]"
     ]
    },
    {
     "name": "stderr",
     "output_type": "stream",
     "text": [
      "\r",
      "84703it [04:01, 331.01it/s]"
     ]
    },
    {
     "name": "stderr",
     "output_type": "stream",
     "text": [
      "\r",
      "84738it [04:01, 335.51it/s]"
     ]
    },
    {
     "name": "stderr",
     "output_type": "stream",
     "text": [
      "\r",
      "84776it [04:01, 347.06it/s]"
     ]
    },
    {
     "name": "stderr",
     "output_type": "stream",
     "text": [
      "\r",
      "84812it [04:01, 350.17it/s]"
     ]
    },
    {
     "name": "stderr",
     "output_type": "stream",
     "text": [
      "\r",
      "84848it [04:01, 344.33it/s]"
     ]
    },
    {
     "name": "stderr",
     "output_type": "stream",
     "text": [
      "\r",
      "84883it [04:01, 341.66it/s]"
     ]
    },
    {
     "name": "stderr",
     "output_type": "stream",
     "text": [
      "\r",
      "84920it [04:01, 348.82it/s]"
     ]
    },
    {
     "name": "stderr",
     "output_type": "stream",
     "text": [
      "\r",
      "84955it [04:01, 343.99it/s]"
     ]
    },
    {
     "name": "stderr",
     "output_type": "stream",
     "text": [
      "\r",
      "84990it [04:01, 345.43it/s]"
     ]
    },
    {
     "name": "stderr",
     "output_type": "stream",
     "text": [
      "\r",
      "85025it [04:02, 338.53it/s]"
     ]
    },
    {
     "name": "stderr",
     "output_type": "stream",
     "text": [
      "\r",
      "85062it [04:02, 345.08it/s]"
     ]
    },
    {
     "name": "stderr",
     "output_type": "stream",
     "text": [
      "\r",
      "85099it [04:02, 349.89it/s]"
     ]
    },
    {
     "name": "stderr",
     "output_type": "stream",
     "text": [
      "\r",
      "85136it [04:02, 351.78it/s]"
     ]
    },
    {
     "name": "stderr",
     "output_type": "stream",
     "text": [
      "\r",
      "85173it [04:02, 354.99it/s]"
     ]
    },
    {
     "name": "stderr",
     "output_type": "stream",
     "text": [
      "\r",
      "85210it [04:02, 357.04it/s]"
     ]
    },
    {
     "name": "stderr",
     "output_type": "stream",
     "text": [
      "\r",
      "85246it [04:02, 349.50it/s]"
     ]
    },
    {
     "name": "stderr",
     "output_type": "stream",
     "text": [
      "\r",
      "85281it [04:02, 343.49it/s]"
     ]
    },
    {
     "name": "stderr",
     "output_type": "stream",
     "text": [
      "\r",
      "85318it [04:02, 348.83it/s]"
     ]
    },
    {
     "name": "stderr",
     "output_type": "stream",
     "text": [
      "\r",
      "85353it [04:02, 343.27it/s]"
     ]
    },
    {
     "name": "stderr",
     "output_type": "stream",
     "text": [
      "\r",
      "85388it [04:03, 339.48it/s]"
     ]
    },
    {
     "name": "stderr",
     "output_type": "stream",
     "text": [
      "\r",
      "85422it [04:03, 337.07it/s]"
     ]
    },
    {
     "name": "stderr",
     "output_type": "stream",
     "text": [
      "\r",
      "85461it [04:03, 352.05it/s]"
     ]
    },
    {
     "name": "stderr",
     "output_type": "stream",
     "text": [
      "\r",
      "85498it [04:03, 355.50it/s]"
     ]
    },
    {
     "name": "stderr",
     "output_type": "stream",
     "text": [
      "\r",
      "85534it [04:03, 352.72it/s]"
     ]
    },
    {
     "name": "stderr",
     "output_type": "stream",
     "text": [
      "\r",
      "85571it [04:03, 356.94it/s]"
     ]
    },
    {
     "name": "stderr",
     "output_type": "stream",
     "text": [
      "\r",
      "85607it [04:03, 356.27it/s]"
     ]
    },
    {
     "name": "stderr",
     "output_type": "stream",
     "text": [
      "\r",
      "85643it [04:03, 349.66it/s]"
     ]
    },
    {
     "name": "stderr",
     "output_type": "stream",
     "text": [
      "\r",
      "85680it [04:03, 353.00it/s]"
     ]
    },
    {
     "name": "stderr",
     "output_type": "stream",
     "text": [
      "\r",
      "85716it [04:03, 349.01it/s]"
     ]
    },
    {
     "name": "stderr",
     "output_type": "stream",
     "text": [
      "\r",
      "85753it [04:04, 353.81it/s]"
     ]
    },
    {
     "name": "stderr",
     "output_type": "stream",
     "text": [
      "\r",
      "85789it [04:04, 346.99it/s]"
     ]
    },
    {
     "name": "stderr",
     "output_type": "stream",
     "text": [
      "\r",
      "85824it [04:04, 347.35it/s]"
     ]
    },
    {
     "name": "stderr",
     "output_type": "stream",
     "text": [
      "\r",
      "85860it [04:04, 349.65it/s]"
     ]
    },
    {
     "name": "stderr",
     "output_type": "stream",
     "text": [
      "\r",
      "85895it [04:04, 341.96it/s]"
     ]
    },
    {
     "name": "stderr",
     "output_type": "stream",
     "text": [
      "\r",
      "85932it [04:04, 349.16it/s]"
     ]
    },
    {
     "name": "stderr",
     "output_type": "stream",
     "text": [
      "\r",
      "85967it [04:04, 343.97it/s]"
     ]
    },
    {
     "name": "stderr",
     "output_type": "stream",
     "text": [
      "\r",
      "86002it [04:04, 340.02it/s]"
     ]
    },
    {
     "name": "stderr",
     "output_type": "stream",
     "text": [
      "\r",
      "86042it [04:04, 356.58it/s]"
     ]
    },
    {
     "name": "stderr",
     "output_type": "stream",
     "text": [
      "\r",
      "86078it [04:05, 349.82it/s]"
     ]
    },
    {
     "name": "stderr",
     "output_type": "stream",
     "text": [
      "\r",
      "86114it [04:05, 344.45it/s]"
     ]
    },
    {
     "name": "stderr",
     "output_type": "stream",
     "text": [
      "\r",
      "86149it [04:05, 342.19it/s]"
     ]
    },
    {
     "name": "stderr",
     "output_type": "stream",
     "text": [
      "\r",
      "86184it [04:05, 335.38it/s]"
     ]
    },
    {
     "name": "stderr",
     "output_type": "stream",
     "text": [
      "\r",
      "86218it [04:05, 328.32it/s]"
     ]
    },
    {
     "name": "stderr",
     "output_type": "stream",
     "text": [
      "\r",
      "86251it [04:05, 328.03it/s]"
     ]
    },
    {
     "name": "stderr",
     "output_type": "stream",
     "text": [
      "\r",
      "86287it [04:05, 335.25it/s]"
     ]
    },
    {
     "name": "stderr",
     "output_type": "stream",
     "text": [
      "\r",
      "86322it [04:05, 338.09it/s]"
     ]
    },
    {
     "name": "stderr",
     "output_type": "stream",
     "text": [
      "\r",
      "86356it [04:05, 337.38it/s]"
     ]
    },
    {
     "name": "stderr",
     "output_type": "stream",
     "text": [
      "\r",
      "86395it [04:05, 352.01it/s]"
     ]
    },
    {
     "name": "stderr",
     "output_type": "stream",
     "text": [
      "\r",
      "86431it [04:06, 349.66it/s]"
     ]
    },
    {
     "name": "stderr",
     "output_type": "stream",
     "text": [
      "\r",
      "86466it [04:06, 344.58it/s]"
     ]
    },
    {
     "name": "stderr",
     "output_type": "stream",
     "text": [
      "\r",
      "86503it [04:06, 350.94it/s]"
     ]
    },
    {
     "name": "stderr",
     "output_type": "stream",
     "text": [
      "\r",
      "86539it [04:06, 350.79it/s]"
     ]
    },
    {
     "name": "stderr",
     "output_type": "stream",
     "text": [
      "\r",
      "86575it [04:06, 348.74it/s]"
     ]
    },
    {
     "name": "stderr",
     "output_type": "stream",
     "text": [
      "\r",
      "86612it [04:06, 352.90it/s]"
     ]
    },
    {
     "name": "stderr",
     "output_type": "stream",
     "text": [
      "\r",
      "86652it [04:06, 363.90it/s]"
     ]
    },
    {
     "name": "stderr",
     "output_type": "stream",
     "text": [
      "\r",
      "86690it [04:06, 365.75it/s]"
     ]
    },
    {
     "name": "stderr",
     "output_type": "stream",
     "text": [
      "\r",
      "86727it [04:06, 360.67it/s]"
     ]
    },
    {
     "name": "stderr",
     "output_type": "stream",
     "text": [
      "\r",
      "86764it [04:07, 359.95it/s]"
     ]
    },
    {
     "name": "stderr",
     "output_type": "stream",
     "text": [
      "\r",
      "86801it [04:07, 360.64it/s]"
     ]
    },
    {
     "name": "stderr",
     "output_type": "stream",
     "text": [
      "\r",
      "86838it [04:07, 357.51it/s]"
     ]
    },
    {
     "name": "stderr",
     "output_type": "stream",
     "text": [
      "\r",
      "86874it [04:07, 351.77it/s]"
     ]
    },
    {
     "name": "stderr",
     "output_type": "stream",
     "text": [
      "\r",
      "86910it [04:07, 351.06it/s]"
     ]
    },
    {
     "name": "stderr",
     "output_type": "stream",
     "text": [
      "\r",
      "86946it [04:07, 349.29it/s]"
     ]
    },
    {
     "name": "stderr",
     "output_type": "stream",
     "text": [
      "\r",
      "86984it [04:07, 357.16it/s]"
     ]
    },
    {
     "name": "stderr",
     "output_type": "stream",
     "text": [
      "\r",
      "87022it [04:07, 362.80it/s]"
     ]
    },
    {
     "name": "stderr",
     "output_type": "stream",
     "text": [
      "\r",
      "87061it [04:07, 368.68it/s]"
     ]
    },
    {
     "name": "stderr",
     "output_type": "stream",
     "text": [
      "\r",
      "87099it [04:07, 371.20it/s]"
     ]
    },
    {
     "name": "stderr",
     "output_type": "stream",
     "text": [
      "\r",
      "87137it [04:08, 362.59it/s]"
     ]
    },
    {
     "name": "stderr",
     "output_type": "stream",
     "text": [
      "\r",
      "87174it [04:08, 357.44it/s]"
     ]
    },
    {
     "name": "stderr",
     "output_type": "stream",
     "text": [
      "\r",
      "87210it [04:08, 350.65it/s]"
     ]
    },
    {
     "name": "stderr",
     "output_type": "stream",
     "text": [
      "\r",
      "87246it [04:08, 350.03it/s]"
     ]
    },
    {
     "name": "stderr",
     "output_type": "stream",
     "text": [
      "\r",
      "87282it [04:08, 347.05it/s]"
     ]
    },
    {
     "name": "stderr",
     "output_type": "stream",
     "text": [
      "\r",
      "87320it [04:08, 354.80it/s]"
     ]
    },
    {
     "name": "stderr",
     "output_type": "stream",
     "text": [
      "\r",
      "87361it [04:08, 367.72it/s]"
     ]
    },
    {
     "name": "stderr",
     "output_type": "stream",
     "text": [
      "\r",
      "87398it [04:08, 363.96it/s]"
     ]
    },
    {
     "name": "stderr",
     "output_type": "stream",
     "text": [
      "\r",
      "87437it [04:08, 371.41it/s]"
     ]
    },
    {
     "name": "stderr",
     "output_type": "stream",
     "text": [
      "\r",
      "87475it [04:08, 368.01it/s]"
     ]
    },
    {
     "name": "stderr",
     "output_type": "stream",
     "text": [
      "\r",
      "87512it [04:09, 358.86it/s]"
     ]
    },
    {
     "name": "stderr",
     "output_type": "stream",
     "text": [
      "\r",
      "87549it [04:09, 360.36it/s]"
     ]
    },
    {
     "name": "stderr",
     "output_type": "stream",
     "text": [
      "\r",
      "87586it [04:09, 354.73it/s]"
     ]
    },
    {
     "name": "stderr",
     "output_type": "stream",
     "text": [
      "\r",
      "87624it [04:09, 360.94it/s]"
     ]
    },
    {
     "name": "stderr",
     "output_type": "stream",
     "text": [
      "\r",
      "87661it [04:09, 355.29it/s]"
     ]
    },
    {
     "name": "stderr",
     "output_type": "stream",
     "text": [
      "\r",
      "87697it [04:09, 351.56it/s]"
     ]
    },
    {
     "name": "stderr",
     "output_type": "stream",
     "text": [
      "\r",
      "87734it [04:09, 355.73it/s]"
     ]
    },
    {
     "name": "stderr",
     "output_type": "stream",
     "text": [
      "\r",
      "87770it [04:09, 353.75it/s]"
     ]
    },
    {
     "name": "stderr",
     "output_type": "stream",
     "text": [
      "\r",
      "87809it [04:09, 361.36it/s]"
     ]
    },
    {
     "name": "stderr",
     "output_type": "stream",
     "text": [
      "\r",
      "87846it [04:10, 354.40it/s]"
     ]
    },
    {
     "name": "stderr",
     "output_type": "stream",
     "text": [
      "\r",
      "87882it [04:10, 353.42it/s]"
     ]
    },
    {
     "name": "stderr",
     "output_type": "stream",
     "text": [
      "\r",
      "87918it [04:10, 353.40it/s]"
     ]
    },
    {
     "name": "stderr",
     "output_type": "stream",
     "text": [
      "\r",
      "87954it [04:10, 352.85it/s]"
     ]
    },
    {
     "name": "stderr",
     "output_type": "stream",
     "text": [
      "\r",
      "87990it [04:10, 351.82it/s]"
     ]
    },
    {
     "name": "stderr",
     "output_type": "stream",
     "text": [
      "\r",
      "88026it [04:10, 348.42it/s]"
     ]
    },
    {
     "name": "stderr",
     "output_type": "stream",
     "text": [
      "\r",
      "88061it [04:10, 347.00it/s]"
     ]
    },
    {
     "name": "stderr",
     "output_type": "stream",
     "text": [
      "\r",
      "88096it [04:10, 338.57it/s]"
     ]
    },
    {
     "name": "stderr",
     "output_type": "stream",
     "text": [
      "\r",
      "88131it [04:10, 340.42it/s]"
     ]
    },
    {
     "name": "stderr",
     "output_type": "stream",
     "text": [
      "\r",
      "88167it [04:10, 344.86it/s]"
     ]
    },
    {
     "name": "stderr",
     "output_type": "stream",
     "text": [
      "\r",
      "88202it [04:11, 340.21it/s]"
     ]
    },
    {
     "name": "stderr",
     "output_type": "stream",
     "text": [
      "\r",
      "88237it [04:11, 342.09it/s]"
     ]
    },
    {
     "name": "stderr",
     "output_type": "stream",
     "text": [
      "\r",
      "88277it [04:11, 354.86it/s]"
     ]
    },
    {
     "name": "stderr",
     "output_type": "stream",
     "text": [
      "\r",
      "88313it [04:11, 349.90it/s]"
     ]
    },
    {
     "name": "stderr",
     "output_type": "stream",
     "text": [
      "\r",
      "88349it [04:11, 344.08it/s]"
     ]
    },
    {
     "name": "stderr",
     "output_type": "stream",
     "text": [
      "\r",
      "88387it [04:11, 350.29it/s]"
     ]
    },
    {
     "name": "stderr",
     "output_type": "stream",
     "text": [
      "\r",
      "88423it [04:11, 349.17it/s]"
     ]
    },
    {
     "name": "stderr",
     "output_type": "stream",
     "text": [
      "\r",
      "88459it [04:11, 351.14it/s]"
     ]
    },
    {
     "name": "stderr",
     "output_type": "stream",
     "text": [
      "\r",
      "88495it [04:11, 353.02it/s]"
     ]
    },
    {
     "name": "stderr",
     "output_type": "stream",
     "text": [
      "\r",
      "88535it [04:12, 364.20it/s]"
     ]
    },
    {
     "name": "stderr",
     "output_type": "stream",
     "text": [
      "\r",
      "88572it [04:12, 358.24it/s]"
     ]
    },
    {
     "name": "stderr",
     "output_type": "stream",
     "text": [
      "\r",
      "88609it [04:12, 358.51it/s]"
     ]
    },
    {
     "name": "stderr",
     "output_type": "stream",
     "text": [
      "\r",
      "88645it [04:12, 355.82it/s]"
     ]
    },
    {
     "name": "stderr",
     "output_type": "stream",
     "text": [
      "\r",
      "88682it [04:12, 358.56it/s]"
     ]
    },
    {
     "name": "stderr",
     "output_type": "stream",
     "text": [
      "\r",
      "88718it [04:12, 351.39it/s]"
     ]
    },
    {
     "name": "stderr",
     "output_type": "stream",
     "text": [
      "\r",
      "88754it [04:12, 350.57it/s]"
     ]
    },
    {
     "name": "stderr",
     "output_type": "stream",
     "text": [
      "\r",
      "88790it [04:12, 348.56it/s]"
     ]
    },
    {
     "name": "stderr",
     "output_type": "stream",
     "text": [
      "\r",
      "88826it [04:12, 349.86it/s]"
     ]
    },
    {
     "name": "stderr",
     "output_type": "stream",
     "text": [
      "\r",
      "88864it [04:12, 357.96it/s]"
     ]
    },
    {
     "name": "stderr",
     "output_type": "stream",
     "text": [
      "\r",
      "88901it [04:13, 360.15it/s]"
     ]
    },
    {
     "name": "stderr",
     "output_type": "stream",
     "text": [
      "\r",
      "88939it [04:13, 365.37it/s]"
     ]
    },
    {
     "name": "stderr",
     "output_type": "stream",
     "text": [
      "\r",
      "88976it [04:13, 364.67it/s]"
     ]
    },
    {
     "name": "stderr",
     "output_type": "stream",
     "text": [
      "\r",
      "89013it [04:13, 358.96it/s]"
     ]
    },
    {
     "name": "stderr",
     "output_type": "stream",
     "text": [
      "\r",
      "89049it [04:13, 357.17it/s]"
     ]
    },
    {
     "name": "stderr",
     "output_type": "stream",
     "text": [
      "\r",
      "89085it [04:13, 353.04it/s]"
     ]
    },
    {
     "name": "stderr",
     "output_type": "stream",
     "text": [
      "\r",
      "89121it [04:13, 347.75it/s]"
     ]
    },
    {
     "name": "stderr",
     "output_type": "stream",
     "text": [
      "\r",
      "89157it [04:13, 348.88it/s]"
     ]
    },
    {
     "name": "stderr",
     "output_type": "stream",
     "text": [
      "\r",
      "89195it [04:13, 356.80it/s]"
     ]
    },
    {
     "name": "stderr",
     "output_type": "stream",
     "text": [
      "\r",
      "89237it [04:13, 373.56it/s]"
     ]
    },
    {
     "name": "stderr",
     "output_type": "stream",
     "text": [
      "\r",
      "89275it [04:14, 363.92it/s]"
     ]
    },
    {
     "name": "stderr",
     "output_type": "stream",
     "text": [
      "\r",
      "89314it [04:14, 369.77it/s]"
     ]
    },
    {
     "name": "stderr",
     "output_type": "stream",
     "text": [
      "\r",
      "89352it [04:14, 365.92it/s]"
     ]
    },
    {
     "name": "stderr",
     "output_type": "stream",
     "text": [
      "\r",
      "89389it [04:14, 359.21it/s]"
     ]
    },
    {
     "name": "stderr",
     "output_type": "stream",
     "text": [
      "\r",
      "89426it [04:14, 362.14it/s]"
     ]
    },
    {
     "name": "stderr",
     "output_type": "stream",
     "text": [
      "\r",
      "89463it [04:14, 357.20it/s]"
     ]
    },
    {
     "name": "stderr",
     "output_type": "stream",
     "text": [
      "\r",
      "89501it [04:14, 361.97it/s]"
     ]
    },
    {
     "name": "stderr",
     "output_type": "stream",
     "text": [
      "\r",
      "89538it [04:14, 355.61it/s]"
     ]
    },
    {
     "name": "stderr",
     "output_type": "stream",
     "text": [
      "\r",
      "89574it [04:14, 354.13it/s]"
     ]
    },
    {
     "name": "stderr",
     "output_type": "stream",
     "text": [
      "\r",
      "89611it [04:15, 356.56it/s]"
     ]
    },
    {
     "name": "stderr",
     "output_type": "stream",
     "text": [
      "\r",
      "89647it [04:15, 350.52it/s]"
     ]
    },
    {
     "name": "stderr",
     "output_type": "stream",
     "text": [
      "\r",
      "89686it [04:15, 359.76it/s]"
     ]
    },
    {
     "name": "stderr",
     "output_type": "stream",
     "text": [
      "\r",
      "89723it [04:15, 355.87it/s]"
     ]
    },
    {
     "name": "stderr",
     "output_type": "stream",
     "text": [
      "\r",
      "89759it [04:15, 355.84it/s]"
     ]
    },
    {
     "name": "stderr",
     "output_type": "stream",
     "text": [
      "\r",
      "89795it [04:15, 356.64it/s]"
     ]
    },
    {
     "name": "stderr",
     "output_type": "stream",
     "text": [
      "\r",
      "89831it [04:15, 356.71it/s]"
     ]
    },
    {
     "name": "stderr",
     "output_type": "stream",
     "text": [
      "\r",
      "89867it [04:15, 356.30it/s]"
     ]
    },
    {
     "name": "stderr",
     "output_type": "stream",
     "text": [
      "\r",
      "89903it [04:15, 355.57it/s]"
     ]
    },
    {
     "name": "stderr",
     "output_type": "stream",
     "text": [
      "\r",
      "89939it [04:15, 355.73it/s]"
     ]
    },
    {
     "name": "stderr",
     "output_type": "stream",
     "text": [
      "\r",
      "89975it [04:16, 353.19it/s]"
     ]
    },
    {
     "name": "stderr",
     "output_type": "stream",
     "text": [
      "\r",
      "90011it [04:16, 352.93it/s]"
     ]
    },
    {
     "name": "stderr",
     "output_type": "stream",
     "text": [
      "\r",
      "90047it [04:16, 352.59it/s]"
     ]
    },
    {
     "name": "stderr",
     "output_type": "stream",
     "text": [
      "\r",
      "90083it [04:16, 345.24it/s]"
     ]
    },
    {
     "name": "stderr",
     "output_type": "stream",
     "text": [
      "\r",
      "90122it [04:16, 356.65it/s]"
     ]
    },
    {
     "name": "stderr",
     "output_type": "stream",
     "text": [
      "\r",
      "90158it [04:16, 352.12it/s]"
     ]
    },
    {
     "name": "stderr",
     "output_type": "stream",
     "text": [
      "\r",
      "90194it [04:16, 344.30it/s]"
     ]
    },
    {
     "name": "stderr",
     "output_type": "stream",
     "text": [
      "\r",
      "90231it [04:16, 348.15it/s]"
     ]
    },
    {
     "name": "stderr",
     "output_type": "stream",
     "text": [
      "\r",
      "90267it [04:16, 349.35it/s]"
     ]
    },
    {
     "name": "stderr",
     "output_type": "stream",
     "text": [
      "\r",
      "90302it [04:16, 347.88it/s]"
     ]
    },
    {
     "name": "stderr",
     "output_type": "stream",
     "text": [
      "\r",
      "90338it [04:17, 350.36it/s]"
     ]
    },
    {
     "name": "stderr",
     "output_type": "stream",
     "text": [
      "\r",
      "90378it [04:17, 364.28it/s]"
     ]
    },
    {
     "name": "stderr",
     "output_type": "stream",
     "text": [
      "\r",
      "90415it [04:17, 362.71it/s]"
     ]
    },
    {
     "name": "stderr",
     "output_type": "stream",
     "text": [
      "\r",
      "90452it [04:17, 357.14it/s]"
     ]
    },
    {
     "name": "stderr",
     "output_type": "stream",
     "text": [
      "\r",
      "90488it [04:17, 356.39it/s]"
     ]
    },
    {
     "name": "stderr",
     "output_type": "stream",
     "text": [
      "\r",
      "90525it [04:17, 358.94it/s]"
     ]
    },
    {
     "name": "stderr",
     "output_type": "stream",
     "text": [
      "\r",
      "90561it [04:17, 358.28it/s]"
     ]
    },
    {
     "name": "stderr",
     "output_type": "stream",
     "text": [
      "\r",
      "90597it [04:17, 355.47it/s]"
     ]
    },
    {
     "name": "stderr",
     "output_type": "stream",
     "text": [
      "\r",
      "90633it [04:17, 351.63it/s]"
     ]
    },
    {
     "name": "stderr",
     "output_type": "stream",
     "text": [
      "\r",
      "90670it [04:18, 355.55it/s]"
     ]
    },
    {
     "name": "stderr",
     "output_type": "stream",
     "text": [
      "\r",
      "90706it [04:18, 356.14it/s]"
     ]
    },
    {
     "name": "stderr",
     "output_type": "stream",
     "text": [
      "\r",
      "90744it [04:18, 361.15it/s]"
     ]
    },
    {
     "name": "stderr",
     "output_type": "stream",
     "text": [
      "\r",
      "90783it [04:18, 365.60it/s]"
     ]
    },
    {
     "name": "stderr",
     "output_type": "stream",
     "text": [
      "\r",
      "90822it [04:18, 370.20it/s]"
     ]
    },
    {
     "name": "stderr",
     "output_type": "stream",
     "text": [
      "\r",
      "90860it [04:18, 364.12it/s]"
     ]
    },
    {
     "name": "stderr",
     "output_type": "stream",
     "text": [
      "\r",
      "90897it [04:18, 357.46it/s]"
     ]
    },
    {
     "name": "stderr",
     "output_type": "stream",
     "text": [
      "\r",
      "90934it [04:18, 357.51it/s]"
     ]
    },
    {
     "name": "stderr",
     "output_type": "stream",
     "text": [
      "\r",
      "90970it [04:18, 352.81it/s]"
     ]
    },
    {
     "name": "stderr",
     "output_type": "stream",
     "text": [
      "\r",
      "91006it [04:18, 350.20it/s]"
     ]
    },
    {
     "name": "stderr",
     "output_type": "stream",
     "text": [
      "\r",
      "91042it [04:19, 348.36it/s]"
     ]
    },
    {
     "name": "stderr",
     "output_type": "stream",
     "text": [
      "\r",
      "91085it [04:19, 369.14it/s]"
     ]
    },
    {
     "name": "stderr",
     "output_type": "stream",
     "text": [
      "\r",
      "91122it [04:19, 362.26it/s]"
     ]
    },
    {
     "name": "stderr",
     "output_type": "stream",
     "text": [
      "\r",
      "91159it [04:19, 364.48it/s]"
     ]
    },
    {
     "name": "stderr",
     "output_type": "stream",
     "text": [
      "\r",
      "91196it [04:19, 362.74it/s]"
     ]
    },
    {
     "name": "stderr",
     "output_type": "stream",
     "text": [
      "\r",
      "91233it [04:19, 358.22it/s]"
     ]
    },
    {
     "name": "stderr",
     "output_type": "stream",
     "text": [
      "\r",
      "91271it [04:19, 362.19it/s]"
     ]
    },
    {
     "name": "stderr",
     "output_type": "stream",
     "text": [
      "\r",
      "91308it [04:19, 359.28it/s]"
     ]
    },
    {
     "name": "stderr",
     "output_type": "stream",
     "text": [
      "\r",
      "91345it [04:19, 359.52it/s]"
     ]
    },
    {
     "name": "stderr",
     "output_type": "stream",
     "text": [
      "\r",
      "91382it [04:19, 361.79it/s]"
     ]
    },
    {
     "name": "stderr",
     "output_type": "stream",
     "text": [
      "\r",
      "91419it [04:20, 353.48it/s]"
     ]
    },
    {
     "name": "stderr",
     "output_type": "stream",
     "text": [
      "\r",
      "91457it [04:20, 358.86it/s]"
     ]
    },
    {
     "name": "stderr",
     "output_type": "stream",
     "text": [
      "\r",
      "91493it [04:20, 358.35it/s]"
     ]
    },
    {
     "name": "stderr",
     "output_type": "stream",
     "text": [
      "\r",
      "91531it [04:20, 362.53it/s]"
     ]
    },
    {
     "name": "stderr",
     "output_type": "stream",
     "text": [
      "\r",
      "91568it [04:20, 357.65it/s]"
     ]
    },
    {
     "name": "stderr",
     "output_type": "stream",
     "text": [
      "\r",
      "91604it [04:20, 351.89it/s]"
     ]
    },
    {
     "name": "stderr",
     "output_type": "stream",
     "text": [
      "\r",
      "91641it [04:20, 356.87it/s]"
     ]
    },
    {
     "name": "stderr",
     "output_type": "stream",
     "text": [
      "\r",
      "91677it [04:20, 356.23it/s]"
     ]
    },
    {
     "name": "stderr",
     "output_type": "stream",
     "text": [
      "\r",
      "91714it [04:20, 358.44it/s]"
     ]
    },
    {
     "name": "stderr",
     "output_type": "stream",
     "text": [
      "\r",
      "91752it [04:21, 361.45it/s]"
     ]
    },
    {
     "name": "stderr",
     "output_type": "stream",
     "text": [
      "\r",
      "91789it [04:21, 359.24it/s]"
     ]
    },
    {
     "name": "stderr",
     "output_type": "stream",
     "text": [
      "\r",
      "91826it [04:21, 360.50it/s]"
     ]
    },
    {
     "name": "stderr",
     "output_type": "stream",
     "text": [
      "\r",
      "91863it [04:21, 357.90it/s]"
     ]
    },
    {
     "name": "stderr",
     "output_type": "stream",
     "text": [
      "\r",
      "91900it [04:21, 358.02it/s]"
     ]
    },
    {
     "name": "stderr",
     "output_type": "stream",
     "text": [
      "\r",
      "91936it [04:21, 342.88it/s]"
     ]
    },
    {
     "name": "stderr",
     "output_type": "stream",
     "text": [
      "\r",
      "91972it [04:21, 347.20it/s]"
     ]
    },
    {
     "name": "stderr",
     "output_type": "stream",
     "text": [
      "\r",
      "92008it [04:21, 349.37it/s]"
     ]
    },
    {
     "name": "stderr",
     "output_type": "stream",
     "text": [
      "\r",
      "92046it [04:21, 358.09it/s]"
     ]
    },
    {
     "name": "stderr",
     "output_type": "stream",
     "text": [
      "\r",
      "92082it [04:21, 357.85it/s]"
     ]
    },
    {
     "name": "stderr",
     "output_type": "stream",
     "text": [
      "\r",
      "92118it [04:22, 354.05it/s]"
     ]
    },
    {
     "name": "stderr",
     "output_type": "stream",
     "text": [
      "\r",
      "92154it [04:22, 354.98it/s]"
     ]
    },
    {
     "name": "stderr",
     "output_type": "stream",
     "text": [
      "\r",
      "92193it [04:22, 365.05it/s]"
     ]
    },
    {
     "name": "stderr",
     "output_type": "stream",
     "text": [
      "\r",
      "92230it [04:22, 365.69it/s]"
     ]
    },
    {
     "name": "stderr",
     "output_type": "stream",
     "text": [
      "\r",
      "92267it [04:22, 362.82it/s]"
     ]
    },
    {
     "name": "stderr",
     "output_type": "stream",
     "text": [
      "\r",
      "92304it [04:22, 362.25it/s]"
     ]
    },
    {
     "name": "stderr",
     "output_type": "stream",
     "text": [
      "\r",
      "92341it [04:22, 364.33it/s]"
     ]
    },
    {
     "name": "stderr",
     "output_type": "stream",
     "text": [
      "\r",
      "92378it [04:22, 360.75it/s]"
     ]
    },
    {
     "name": "stderr",
     "output_type": "stream",
     "text": [
      "\r",
      "92415it [04:22, 356.26it/s]"
     ]
    },
    {
     "name": "stderr",
     "output_type": "stream",
     "text": [
      "\r",
      "92451it [04:22, 350.40it/s]"
     ]
    },
    {
     "name": "stderr",
     "output_type": "stream",
     "text": [
      "\r",
      "92488it [04:23, 353.12it/s]"
     ]
    },
    {
     "name": "stderr",
     "output_type": "stream",
     "text": [
      "\r",
      "92525it [04:23, 357.90it/s]"
     ]
    },
    {
     "name": "stderr",
     "output_type": "stream",
     "text": [
      "\r",
      "92564it [04:23, 365.17it/s]"
     ]
    },
    {
     "name": "stderr",
     "output_type": "stream",
     "text": [
      "\r",
      "92603it [04:23, 370.27it/s]"
     ]
    },
    {
     "name": "stderr",
     "output_type": "stream",
     "text": [
      "\r",
      "92641it [04:23, 369.89it/s]"
     ]
    },
    {
     "name": "stderr",
     "output_type": "stream",
     "text": [
      "\r",
      "92679it [04:23, 364.03it/s]"
     ]
    },
    {
     "name": "stderr",
     "output_type": "stream",
     "text": [
      "\r",
      "92716it [04:23, 358.35it/s]"
     ]
    },
    {
     "name": "stderr",
     "output_type": "stream",
     "text": [
      "\r",
      "92753it [04:23, 361.53it/s]"
     ]
    },
    {
     "name": "stderr",
     "output_type": "stream",
     "text": [
      "\r",
      "92790it [04:23, 354.96it/s]"
     ]
    },
    {
     "name": "stderr",
     "output_type": "stream",
     "text": [
      "\r",
      "92826it [04:24, 349.85it/s]"
     ]
    },
    {
     "name": "stderr",
     "output_type": "stream",
     "text": [
      "\r",
      "92862it [04:24, 351.82it/s]"
     ]
    },
    {
     "name": "stderr",
     "output_type": "stream",
     "text": [
      "\r",
      "92904it [04:24, 371.60it/s]"
     ]
    },
    {
     "name": "stderr",
     "output_type": "stream",
     "text": [
      "\r",
      "92942it [04:24, 362.47it/s]"
     ]
    },
    {
     "name": "stderr",
     "output_type": "stream",
     "text": [
      "\r",
      "92980it [04:24, 366.05it/s]"
     ]
    },
    {
     "name": "stderr",
     "output_type": "stream",
     "text": [
      "\r",
      "93017it [04:24, 361.46it/s]"
     ]
    },
    {
     "name": "stderr",
     "output_type": "stream",
     "text": [
      "\r",
      "93054it [04:24, 359.76it/s]"
     ]
    },
    {
     "name": "stderr",
     "output_type": "stream",
     "text": [
      "\r",
      "93091it [04:24, 361.93it/s]"
     ]
    },
    {
     "name": "stderr",
     "output_type": "stream",
     "text": [
      "\r",
      "93128it [04:24, 359.24it/s]"
     ]
    },
    {
     "name": "stderr",
     "output_type": "stream",
     "text": [
      "\r",
      "93165it [04:24, 360.76it/s]"
     ]
    },
    {
     "name": "stderr",
     "output_type": "stream",
     "text": [
      "\r",
      "93202it [04:25, 360.71it/s]"
     ]
    },
    {
     "name": "stderr",
     "output_type": "stream",
     "text": [
      "\r",
      "93239it [04:25, 356.22it/s]"
     ]
    },
    {
     "name": "stderr",
     "output_type": "stream",
     "text": [
      "\r",
      "93277it [04:25, 362.35it/s]"
     ]
    },
    {
     "name": "stderr",
     "output_type": "stream",
     "text": [
      "\r",
      "93314it [04:25, 358.44it/s]"
     ]
    },
    {
     "name": "stderr",
     "output_type": "stream",
     "text": [
      "\r",
      "93351it [04:25, 359.27it/s]"
     ]
    },
    {
     "name": "stderr",
     "output_type": "stream",
     "text": [
      "\r",
      "93387it [04:25, 354.84it/s]"
     ]
    },
    {
     "name": "stderr",
     "output_type": "stream",
     "text": [
      "\r",
      "93423it [04:25, 348.60it/s]"
     ]
    },
    {
     "name": "stderr",
     "output_type": "stream",
     "text": [
      "\r",
      "93460it [04:25, 353.47it/s]"
     ]
    },
    {
     "name": "stderr",
     "output_type": "stream",
     "text": [
      "\r",
      "93496it [04:25, 352.76it/s]"
     ]
    },
    {
     "name": "stderr",
     "output_type": "stream",
     "text": [
      "\r",
      "93533it [04:25, 355.22it/s]"
     ]
    },
    {
     "name": "stderr",
     "output_type": "stream",
     "text": [
      "\r",
      "93570it [04:26, 356.54it/s]"
     ]
    },
    {
     "name": "stderr",
     "output_type": "stream",
     "text": [
      "\r",
      "93606it [04:26, 357.14it/s]"
     ]
    },
    {
     "name": "stderr",
     "output_type": "stream",
     "text": [
      "\r",
      "93643it [04:26, 358.41it/s]"
     ]
    },
    {
     "name": "stderr",
     "output_type": "stream",
     "text": [
      "\r",
      "93679it [04:26, 358.52it/s]"
     ]
    },
    {
     "name": "stderr",
     "output_type": "stream",
     "text": [
      "\r",
      "93717it [04:26, 364.25it/s]"
     ]
    },
    {
     "name": "stderr",
     "output_type": "stream",
     "text": [
      "\r",
      "93754it [04:26, 349.67it/s]"
     ]
    },
    {
     "name": "stderr",
     "output_type": "stream",
     "text": [
      "\r",
      "93791it [04:26, 353.69it/s]"
     ]
    },
    {
     "name": "stderr",
     "output_type": "stream",
     "text": [
      "\r",
      "93829it [04:26, 360.99it/s]"
     ]
    },
    {
     "name": "stderr",
     "output_type": "stream",
     "text": [
      "\r",
      "93866it [04:26, 363.58it/s]"
     ]
    },
    {
     "name": "stderr",
     "output_type": "stream",
     "text": [
      "\r",
      "93903it [04:27, 359.70it/s]"
     ]
    },
    {
     "name": "stderr",
     "output_type": "stream",
     "text": [
      "\r",
      "93940it [04:27, 350.65it/s]"
     ]
    },
    {
     "name": "stderr",
     "output_type": "stream",
     "text": [
      "\r",
      "93976it [04:27, 350.81it/s]"
     ]
    },
    {
     "name": "stderr",
     "output_type": "stream",
     "text": [
      "\r",
      "94013it [04:27, 356.21it/s]"
     ]
    },
    {
     "name": "stderr",
     "output_type": "stream",
     "text": [
      "\r",
      "94052it [04:27, 365.56it/s]"
     ]
    },
    {
     "name": "stderr",
     "output_type": "stream",
     "text": [
      "\r",
      "94089it [04:27, 361.68it/s]"
     ]
    },
    {
     "name": "stderr",
     "output_type": "stream",
     "text": [
      "\r",
      "94126it [04:27, 361.44it/s]"
     ]
    },
    {
     "name": "stderr",
     "output_type": "stream",
     "text": [
      "\r",
      "94163it [04:27, 359.78it/s]"
     ]
    },
    {
     "name": "stderr",
     "output_type": "stream",
     "text": [
      "\r",
      "94201it [04:27, 362.10it/s]"
     ]
    },
    {
     "name": "stderr",
     "output_type": "stream",
     "text": [
      "\r",
      "94238it [04:27, 360.75it/s]"
     ]
    },
    {
     "name": "stderr",
     "output_type": "stream",
     "text": [
      "\r",
      "94275it [04:28, 354.49it/s]"
     ]
    },
    {
     "name": "stderr",
     "output_type": "stream",
     "text": [
      "\r",
      "94311it [04:28, 351.28it/s]"
     ]
    },
    {
     "name": "stderr",
     "output_type": "stream",
     "text": [
      "\r",
      "94348it [04:28, 353.50it/s]"
     ]
    },
    {
     "name": "stderr",
     "output_type": "stream",
     "text": [
      "\r",
      "94388it [04:28, 363.37it/s]"
     ]
    },
    {
     "name": "stderr",
     "output_type": "stream",
     "text": [
      "\r",
      "94426it [04:28, 366.23it/s]"
     ]
    },
    {
     "name": "stderr",
     "output_type": "stream",
     "text": [
      "\r",
      "94463it [04:28, 365.03it/s]"
     ]
    },
    {
     "name": "stderr",
     "output_type": "stream",
     "text": [
      "\r",
      "94501it [04:28, 367.66it/s]"
     ]
    },
    {
     "name": "stderr",
     "output_type": "stream",
     "text": [
      "\r",
      "94538it [04:28, 286.20it/s]"
     ]
    },
    {
     "name": "stderr",
     "output_type": "stream",
     "text": [
      "\r",
      "94573it [04:28, 301.81it/s]"
     ]
    },
    {
     "name": "stderr",
     "output_type": "stream",
     "text": [
      "\r",
      "94608it [04:29, 313.15it/s]"
     ]
    },
    {
     "name": "stderr",
     "output_type": "stream",
     "text": [
      "\r",
      "94643it [04:29, 322.64it/s]"
     ]
    },
    {
     "name": "stderr",
     "output_type": "stream",
     "text": [
      "\r",
      "94678it [04:29, 329.60it/s]"
     ]
    },
    {
     "name": "stderr",
     "output_type": "stream",
     "text": [
      "\r",
      "94717it [04:29, 345.73it/s]"
     ]
    },
    {
     "name": "stderr",
     "output_type": "stream",
     "text": [
      "\r",
      "94757it [04:29, 359.58it/s]"
     ]
    },
    {
     "name": "stderr",
     "output_type": "stream",
     "text": [
      "\r",
      "94794it [04:29, 349.13it/s]"
     ]
    },
    {
     "name": "stderr",
     "output_type": "stream",
     "text": [
      "\r",
      "94833it [04:29, 360.34it/s]"
     ]
    },
    {
     "name": "stderr",
     "output_type": "stream",
     "text": [
      "\r",
      "94870it [04:29, 361.80it/s]"
     ]
    },
    {
     "name": "stderr",
     "output_type": "stream",
     "text": [
      "\r",
      "94907it [04:29, 358.21it/s]"
     ]
    },
    {
     "name": "stderr",
     "output_type": "stream",
     "text": [
      "\r",
      "94945it [04:29, 361.11it/s]"
     ]
    },
    {
     "name": "stderr",
     "output_type": "stream",
     "text": [
      "\r",
      "94982it [04:30, 355.30it/s]"
     ]
    },
    {
     "name": "stderr",
     "output_type": "stream",
     "text": [
      "\r",
      "95021it [04:30, 362.63it/s]"
     ]
    },
    {
     "name": "stderr",
     "output_type": "stream",
     "text": [
      "\r",
      "95058it [04:30, 352.96it/s]"
     ]
    },
    {
     "name": "stderr",
     "output_type": "stream",
     "text": [
      "\r",
      "95094it [04:30, 352.18it/s]"
     ]
    },
    {
     "name": "stderr",
     "output_type": "stream",
     "text": [
      "\r",
      "95131it [04:30, 354.44it/s]"
     ]
    },
    {
     "name": "stderr",
     "output_type": "stream",
     "text": [
      "\r",
      "95167it [04:30, 349.97it/s]"
     ]
    },
    {
     "name": "stderr",
     "output_type": "stream",
     "text": [
      "\r",
      "95206it [04:30, 358.43it/s]"
     ]
    },
    {
     "name": "stderr",
     "output_type": "stream",
     "text": [
      "\r",
      "95242it [04:30, 358.79it/s]"
     ]
    },
    {
     "name": "stderr",
     "output_type": "stream",
     "text": [
      "\r",
      "95278it [04:30, 357.22it/s]"
     ]
    },
    {
     "name": "stderr",
     "output_type": "stream",
     "text": [
      "\r",
      "95314it [04:31, 357.04it/s]"
     ]
    },
    {
     "name": "stderr",
     "output_type": "stream",
     "text": [
      "\r",
      "95350it [04:31, 341.24it/s]"
     ]
    },
    {
     "name": "stderr",
     "output_type": "stream",
     "text": [
      "\r",
      "95387it [04:31, 347.07it/s]"
     ]
    },
    {
     "name": "stderr",
     "output_type": "stream",
     "text": [
      "\r",
      "95424it [04:31, 351.75it/s]"
     ]
    },
    {
     "name": "stderr",
     "output_type": "stream",
     "text": [
      "\r",
      "95461it [04:31, 355.58it/s]"
     ]
    },
    {
     "name": "stderr",
     "output_type": "stream",
     "text": [
      "\r",
      "95497it [04:31, 353.38it/s]"
     ]
    },
    {
     "name": "stderr",
     "output_type": "stream",
     "text": [
      "\r",
      "95533it [04:31, 352.64it/s]"
     ]
    },
    {
     "name": "stderr",
     "output_type": "stream",
     "text": [
      "\r",
      "95569it [04:31, 350.45it/s]"
     ]
    },
    {
     "name": "stderr",
     "output_type": "stream",
     "text": [
      "\r",
      "95605it [04:31, 350.96it/s]"
     ]
    },
    {
     "name": "stderr",
     "output_type": "stream",
     "text": [
      "\r",
      "95643it [04:31, 356.49it/s]"
     ]
    },
    {
     "name": "stderr",
     "output_type": "stream",
     "text": [
      "\r",
      "95681it [04:32, 362.96it/s]"
     ]
    },
    {
     "name": "stderr",
     "output_type": "stream",
     "text": [
      "\r",
      "95719it [04:32, 365.79it/s]"
     ]
    },
    {
     "name": "stderr",
     "output_type": "stream",
     "text": [
      "\r",
      "95756it [04:32, 362.47it/s]"
     ]
    },
    {
     "name": "stderr",
     "output_type": "stream",
     "text": [
      "\r",
      "95793it [04:32, 361.20it/s]"
     ]
    },
    {
     "name": "stderr",
     "output_type": "stream",
     "text": [
      "\r",
      "95830it [04:32, 357.79it/s]"
     ]
    },
    {
     "name": "stderr",
     "output_type": "stream",
     "text": [
      "\r",
      "95866it [04:32, 350.45it/s]"
     ]
    },
    {
     "name": "stderr",
     "output_type": "stream",
     "text": [
      "\r",
      "95903it [04:32, 353.32it/s]"
     ]
    },
    {
     "name": "stderr",
     "output_type": "stream",
     "text": [
      "\r",
      "95939it [04:32, 354.10it/s]"
     ]
    },
    {
     "name": "stderr",
     "output_type": "stream",
     "text": [
      "\r",
      "95975it [04:32, 354.05it/s]"
     ]
    },
    {
     "name": "stderr",
     "output_type": "stream",
     "text": [
      "\r",
      "96013it [04:33, 360.64it/s]"
     ]
    },
    {
     "name": "stderr",
     "output_type": "stream",
     "text": [
      "\r",
      "96050it [04:33, 358.94it/s]"
     ]
    },
    {
     "name": "stderr",
     "output_type": "stream",
     "text": [
      "\r",
      "96086it [04:33, 352.25it/s]"
     ]
    },
    {
     "name": "stderr",
     "output_type": "stream",
     "text": [
      "\r",
      "96122it [04:33, 347.40it/s]"
     ]
    },
    {
     "name": "stderr",
     "output_type": "stream",
     "text": [
      "\r",
      "96159it [04:33, 351.99it/s]"
     ]
    },
    {
     "name": "stderr",
     "output_type": "stream",
     "text": [
      "\r",
      "96197it [04:33, 357.76it/s]"
     ]
    },
    {
     "name": "stderr",
     "output_type": "stream",
     "text": [
      "\r",
      "96236it [04:33, 363.49it/s]"
     ]
    },
    {
     "name": "stderr",
     "output_type": "stream",
     "text": [
      "\r",
      "96274it [04:33, 366.65it/s]"
     ]
    },
    {
     "name": "stderr",
     "output_type": "stream",
     "text": [
      "\r",
      "96313it [04:33, 367.93it/s]"
     ]
    },
    {
     "name": "stderr",
     "output_type": "stream",
     "text": [
      "\r",
      "96350it [04:33, 364.03it/s]"
     ]
    },
    {
     "name": "stderr",
     "output_type": "stream",
     "text": [
      "\r",
      "96387it [04:34, 359.32it/s]"
     ]
    },
    {
     "name": "stderr",
     "output_type": "stream",
     "text": [
      "\r",
      "96426it [04:34, 364.75it/s]"
     ]
    },
    {
     "name": "stderr",
     "output_type": "stream",
     "text": [
      "\r",
      "96463it [04:34, 357.35it/s]"
     ]
    },
    {
     "name": "stderr",
     "output_type": "stream",
     "text": [
      "\r",
      "96499it [04:34, 350.35it/s]"
     ]
    },
    {
     "name": "stderr",
     "output_type": "stream",
     "text": [
      "\r",
      "96535it [04:34, 347.67it/s]"
     ]
    },
    {
     "name": "stderr",
     "output_type": "stream",
     "text": [
      "\r",
      "96577it [04:34, 367.23it/s]"
     ]
    },
    {
     "name": "stderr",
     "output_type": "stream",
     "text": [
      "\r",
      "96614it [04:34, 367.02it/s]"
     ]
    },
    {
     "name": "stderr",
     "output_type": "stream",
     "text": [
      "\r",
      "96651it [04:34, 365.34it/s]"
     ]
    },
    {
     "name": "stderr",
     "output_type": "stream",
     "text": [
      "\r",
      "96689it [04:34, 366.98it/s]"
     ]
    },
    {
     "name": "stderr",
     "output_type": "stream",
     "text": [
      "\r",
      "96726it [04:34, 361.19it/s]"
     ]
    },
    {
     "name": "stderr",
     "output_type": "stream",
     "text": [
      "\r",
      "96763it [04:35, 363.38it/s]"
     ]
    },
    {
     "name": "stderr",
     "output_type": "stream",
     "text": [
      "\r",
      "96800it [04:35, 357.16it/s]"
     ]
    },
    {
     "name": "stderr",
     "output_type": "stream",
     "text": [
      "\r",
      "96838it [04:35, 363.15it/s]"
     ]
    },
    {
     "name": "stderr",
     "output_type": "stream",
     "text": [
      "\r",
      "96875it [04:35, 363.19it/s]"
     ]
    },
    {
     "name": "stderr",
     "output_type": "stream",
     "text": [
      "\r",
      "96912it [04:35, 356.22it/s]"
     ]
    },
    {
     "name": "stderr",
     "output_type": "stream",
     "text": [
      "\r",
      "96948it [04:35, 356.82it/s]"
     ]
    },
    {
     "name": "stderr",
     "output_type": "stream",
     "text": [
      "\r",
      "96986it [04:35, 360.98it/s]"
     ]
    },
    {
     "name": "stderr",
     "output_type": "stream",
     "text": [
      "\r",
      "97023it [04:35, 362.26it/s]"
     ]
    },
    {
     "name": "stderr",
     "output_type": "stream",
     "text": [
      "\r",
      "97060it [04:35, 363.31it/s]"
     ]
    },
    {
     "name": "stderr",
     "output_type": "stream",
     "text": [
      "\r",
      "97097it [04:36, 359.47it/s]"
     ]
    },
    {
     "name": "stderr",
     "output_type": "stream",
     "text": [
      "\r",
      "97133it [04:36, 356.45it/s]"
     ]
    },
    {
     "name": "stderr",
     "output_type": "stream",
     "text": [
      "\r",
      "97169it [04:36, 354.09it/s]"
     ]
    },
    {
     "name": "stderr",
     "output_type": "stream",
     "text": [
      "\r",
      "97205it [04:36, 353.55it/s]"
     ]
    },
    {
     "name": "stderr",
     "output_type": "stream",
     "text": [
      "\r",
      "97242it [04:36, 356.37it/s]"
     ]
    },
    {
     "name": "stderr",
     "output_type": "stream",
     "text": [
      "\r",
      "97278it [04:36, 356.87it/s]"
     ]
    },
    {
     "name": "stderr",
     "output_type": "stream",
     "text": [
      "\r",
      "97314it [04:36, 350.64it/s]"
     ]
    },
    {
     "name": "stderr",
     "output_type": "stream",
     "text": [
      "\r",
      "97350it [04:36, 349.41it/s]"
     ]
    },
    {
     "name": "stderr",
     "output_type": "stream",
     "text": [
      "\r",
      "97387it [04:36, 354.99it/s]"
     ]
    },
    {
     "name": "stderr",
     "output_type": "stream",
     "text": [
      "\r",
      "97423it [04:36, 339.60it/s]"
     ]
    },
    {
     "name": "stderr",
     "output_type": "stream",
     "text": [
      "\r",
      "97458it [04:37, 342.13it/s]"
     ]
    },
    {
     "name": "stderr",
     "output_type": "stream",
     "text": [
      "\r",
      "97495it [04:37, 348.85it/s]"
     ]
    },
    {
     "name": "stderr",
     "output_type": "stream",
     "text": [
      "\r",
      "97531it [04:37, 351.47it/s]"
     ]
    },
    {
     "name": "stderr",
     "output_type": "stream",
     "text": [
      "\r",
      "97568it [04:37, 354.73it/s]"
     ]
    },
    {
     "name": "stderr",
     "output_type": "stream",
     "text": [
      "\r",
      "97604it [04:37, 349.83it/s]"
     ]
    },
    {
     "name": "stderr",
     "output_type": "stream",
     "text": [
      "\r",
      "97640it [04:37, 349.27it/s]"
     ]
    },
    {
     "name": "stderr",
     "output_type": "stream",
     "text": [
      "\r",
      "97675it [04:37, 347.89it/s]"
     ]
    },
    {
     "name": "stderr",
     "output_type": "stream",
     "text": [
      "\r",
      "97710it [04:37, 346.85it/s]"
     ]
    },
    {
     "name": "stderr",
     "output_type": "stream",
     "text": [
      "\r",
      "97745it [04:37, 346.04it/s]"
     ]
    },
    {
     "name": "stderr",
     "output_type": "stream",
     "text": [
      "\r",
      "97780it [04:37, 345.45it/s]"
     ]
    },
    {
     "name": "stderr",
     "output_type": "stream",
     "text": [
      "\r",
      "97815it [04:38, 343.12it/s]"
     ]
    },
    {
     "name": "stderr",
     "output_type": "stream",
     "text": [
      "\r",
      "97851it [04:38, 347.70it/s]"
     ]
    },
    {
     "name": "stderr",
     "output_type": "stream",
     "text": [
      "\r",
      "97886it [04:38, 345.30it/s]"
     ]
    },
    {
     "name": "stderr",
     "output_type": "stream",
     "text": [
      "\r",
      "97921it [04:38, 335.53it/s]"
     ]
    },
    {
     "name": "stderr",
     "output_type": "stream",
     "text": [
      "\r",
      "97955it [04:38, 335.45it/s]"
     ]
    },
    {
     "name": "stderr",
     "output_type": "stream",
     "text": [
      "\r",
      "97989it [04:38, 334.67it/s]"
     ]
    },
    {
     "name": "stderr",
     "output_type": "stream",
     "text": [
      "\r",
      "98023it [04:38, 334.47it/s]"
     ]
    },
    {
     "name": "stderr",
     "output_type": "stream",
     "text": [
      "\r",
      "98057it [04:38, 335.82it/s]"
     ]
    },
    {
     "name": "stderr",
     "output_type": "stream",
     "text": [
      "\r",
      "98094it [04:38, 343.81it/s]"
     ]
    },
    {
     "name": "stderr",
     "output_type": "stream",
     "text": [
      "\r",
      "98130it [04:39, 347.46it/s]"
     ]
    },
    {
     "name": "stderr",
     "output_type": "stream",
     "text": [
      "\r",
      "98166it [04:39, 347.77it/s]"
     ]
    },
    {
     "name": "stderr",
     "output_type": "stream",
     "text": [
      "\r",
      "98201it [04:39, 343.14it/s]"
     ]
    },
    {
     "name": "stderr",
     "output_type": "stream",
     "text": [
      "\r",
      "98236it [04:39, 343.68it/s]"
     ]
    },
    {
     "name": "stderr",
     "output_type": "stream",
     "text": [
      "\r",
      "98271it [04:39, 339.17it/s]"
     ]
    },
    {
     "name": "stderr",
     "output_type": "stream",
     "text": [
      "\r",
      "98305it [04:39, 335.25it/s]"
     ]
    },
    {
     "name": "stderr",
     "output_type": "stream",
     "text": [
      "\r",
      "98339it [04:39, 328.95it/s]"
     ]
    },
    {
     "name": "stderr",
     "output_type": "stream",
     "text": [
      "\r",
      "98372it [04:39, 327.65it/s]"
     ]
    },
    {
     "name": "stderr",
     "output_type": "stream",
     "text": [
      "\r",
      "98407it [04:39, 333.11it/s]"
     ]
    },
    {
     "name": "stderr",
     "output_type": "stream",
     "text": [
      "\r",
      "98447it [04:39, 352.60it/s]"
     ]
    },
    {
     "name": "stderr",
     "output_type": "stream",
     "text": [
      "\r",
      "98483it [04:40, 342.59it/s]"
     ]
    },
    {
     "name": "stderr",
     "output_type": "stream",
     "text": [
      "\r",
      "98518it [04:40, 342.07it/s]"
     ]
    },
    {
     "name": "stderr",
     "output_type": "stream",
     "text": [
      "\r",
      "98553it [04:40, 342.85it/s]"
     ]
    },
    {
     "name": "stderr",
     "output_type": "stream",
     "text": [
      "\r",
      "98588it [04:40, 336.41it/s]"
     ]
    },
    {
     "name": "stderr",
     "output_type": "stream",
     "text": [
      "\r",
      "98624it [04:40, 341.56it/s]"
     ]
    },
    {
     "name": "stderr",
     "output_type": "stream",
     "text": [
      "\r",
      "98659it [04:40, 336.04it/s]"
     ]
    },
    {
     "name": "stderr",
     "output_type": "stream",
     "text": [
      "\r",
      "98695it [04:40, 341.52it/s]"
     ]
    },
    {
     "name": "stderr",
     "output_type": "stream",
     "text": [
      "\r",
      "98730it [04:40, 340.20it/s]"
     ]
    },
    {
     "name": "stderr",
     "output_type": "stream",
     "text": [
      "\r",
      "98765it [04:40, 332.55it/s]"
     ]
    },
    {
     "name": "stderr",
     "output_type": "stream",
     "text": [
      "\r",
      "98799it [04:40, 334.36it/s]"
     ]
    },
    {
     "name": "stderr",
     "output_type": "stream",
     "text": [
      "\r",
      "98834it [04:41, 335.50it/s]"
     ]
    },
    {
     "name": "stderr",
     "output_type": "stream",
     "text": [
      "\r",
      "98868it [04:41, 335.43it/s]"
     ]
    },
    {
     "name": "stderr",
     "output_type": "stream",
     "text": [
      "\r",
      "98904it [04:41, 339.58it/s]"
     ]
    },
    {
     "name": "stderr",
     "output_type": "stream",
     "text": [
      "\r",
      "98938it [04:41, 338.54it/s]"
     ]
    },
    {
     "name": "stderr",
     "output_type": "stream",
     "text": [
      "\r",
      "98972it [04:41, 337.73it/s]"
     ]
    },
    {
     "name": "stderr",
     "output_type": "stream",
     "text": [
      "\r",
      "99006it [04:41, 337.39it/s]"
     ]
    },
    {
     "name": "stderr",
     "output_type": "stream",
     "text": [
      "\r",
      "99040it [04:41, 334.16it/s]"
     ]
    },
    {
     "name": "stderr",
     "output_type": "stream",
     "text": [
      "\r",
      "99075it [04:41, 336.05it/s]"
     ]
    },
    {
     "name": "stderr",
     "output_type": "stream",
     "text": [
      "\r",
      "99110it [04:41, 340.15it/s]"
     ]
    },
    {
     "name": "stderr",
     "output_type": "stream",
     "text": [
      "\r",
      "99145it [04:42, 339.26it/s]"
     ]
    },
    {
     "name": "stderr",
     "output_type": "stream",
     "text": [
      "\r",
      "99179it [04:42, 334.80it/s]"
     ]
    },
    {
     "name": "stderr",
     "output_type": "stream",
     "text": [
      "\r",
      "99214it [04:42, 337.35it/s]"
     ]
    },
    {
     "name": "stderr",
     "output_type": "stream",
     "text": [
      "\r",
      "99250it [04:42, 342.35it/s]"
     ]
    },
    {
     "name": "stderr",
     "output_type": "stream",
     "text": [
      "\r",
      "99285it [04:42, 331.89it/s]"
     ]
    },
    {
     "name": "stderr",
     "output_type": "stream",
     "text": [
      "\r",
      "99319it [04:42, 331.19it/s]"
     ]
    },
    {
     "name": "stderr",
     "output_type": "stream",
     "text": [
      "\r",
      "99356it [04:42, 340.09it/s]"
     ]
    },
    {
     "name": "stderr",
     "output_type": "stream",
     "text": [
      "\r",
      "99392it [04:42, 343.31it/s]"
     ]
    },
    {
     "name": "stderr",
     "output_type": "stream",
     "text": [
      "\r",
      "99428it [04:42, 345.24it/s]"
     ]
    },
    {
     "name": "stderr",
     "output_type": "stream",
     "text": [
      "\r",
      "99463it [04:42, 342.46it/s]"
     ]
    },
    {
     "name": "stderr",
     "output_type": "stream",
     "text": [
      "\r",
      "99499it [04:43, 345.12it/s]"
     ]
    },
    {
     "name": "stderr",
     "output_type": "stream",
     "text": [
      "\r",
      "99534it [04:43, 342.81it/s]"
     ]
    },
    {
     "name": "stderr",
     "output_type": "stream",
     "text": [
      "\r",
      "99569it [04:43, 339.04it/s]"
     ]
    },
    {
     "name": "stderr",
     "output_type": "stream",
     "text": [
      "\r",
      "99604it [04:43, 340.66it/s]"
     ]
    },
    {
     "name": "stderr",
     "output_type": "stream",
     "text": [
      "\r",
      "99639it [04:43, 342.10it/s]"
     ]
    },
    {
     "name": "stderr",
     "output_type": "stream",
     "text": [
      "\r",
      "99674it [04:43, 342.67it/s]"
     ]
    },
    {
     "name": "stderr",
     "output_type": "stream",
     "text": [
      "\r",
      "99710it [04:43, 343.83it/s]"
     ]
    },
    {
     "name": "stderr",
     "output_type": "stream",
     "text": [
      "\r",
      "99745it [04:43, 343.53it/s]"
     ]
    },
    {
     "name": "stderr",
     "output_type": "stream",
     "text": [
      "\r",
      "99780it [04:43, 339.94it/s]"
     ]
    },
    {
     "name": "stderr",
     "output_type": "stream",
     "text": [
      "\r",
      "99815it [04:43, 339.90it/s]"
     ]
    },
    {
     "name": "stderr",
     "output_type": "stream",
     "text": [
      "\r",
      "99850it [04:44, 341.87it/s]"
     ]
    },
    {
     "name": "stderr",
     "output_type": "stream",
     "text": [
      "\r",
      "99885it [04:44, 336.06it/s]"
     ]
    },
    {
     "name": "stderr",
     "output_type": "stream",
     "text": [
      "\r",
      "99920it [04:44, 337.52it/s]"
     ]
    },
    {
     "name": "stderr",
     "output_type": "stream",
     "text": [
      "\r",
      "99957it [04:44, 343.42it/s]"
     ]
    },
    {
     "name": "stderr",
     "output_type": "stream",
     "text": [
      "\r",
      "99993it [04:44, 346.06it/s]"
     ]
    },
    {
     "name": "stderr",
     "output_type": "stream",
     "text": [
      "\r",
      "100028it [04:44, 338.55it/s]"
     ]
    },
    {
     "name": "stderr",
     "output_type": "stream",
     "text": [
      "\r",
      "100062it [04:44, 337.85it/s]"
     ]
    },
    {
     "name": "stderr",
     "output_type": "stream",
     "text": [
      "\r",
      "100096it [04:44, 334.75it/s]"
     ]
    },
    {
     "name": "stderr",
     "output_type": "stream",
     "text": [
      "\r",
      "100131it [04:44, 334.63it/s]"
     ]
    },
    {
     "name": "stderr",
     "output_type": "stream",
     "text": [
      "\r",
      "100165it [04:45, 330.00it/s]"
     ]
    },
    {
     "name": "stderr",
     "output_type": "stream",
     "text": [
      "\r",
      "100199it [04:45, 326.36it/s]"
     ]
    },
    {
     "name": "stderr",
     "output_type": "stream",
     "text": [
      "\r",
      "100233it [04:45, 330.20it/s]"
     ]
    },
    {
     "name": "stderr",
     "output_type": "stream",
     "text": [
      "\r",
      "100276it [04:45, 357.21it/s]"
     ]
    },
    {
     "name": "stderr",
     "output_type": "stream",
     "text": [
      "\r",
      "100312it [04:45, 350.02it/s]"
     ]
    },
    {
     "name": "stderr",
     "output_type": "stream",
     "text": [
      "\r",
      "100349it [04:45, 353.92it/s]"
     ]
    },
    {
     "name": "stderr",
     "output_type": "stream",
     "text": [
      "\r",
      "100385it [04:45, 352.61it/s]"
     ]
    },
    {
     "name": "stderr",
     "output_type": "stream",
     "text": [
      "\r",
      "100421it [04:45, 345.16it/s]"
     ]
    },
    {
     "name": "stderr",
     "output_type": "stream",
     "text": [
      "\r",
      "100456it [04:45, 345.57it/s]"
     ]
    },
    {
     "name": "stderr",
     "output_type": "stream",
     "text": [
      "\r",
      "100491it [04:45, 341.06it/s]"
     ]
    },
    {
     "name": "stderr",
     "output_type": "stream",
     "text": [
      "\r",
      "100527it [04:46, 344.03it/s]"
     ]
    },
    {
     "name": "stderr",
     "output_type": "stream",
     "text": [
      "\r",
      "100562it [04:46, 343.38it/s]"
     ]
    },
    {
     "name": "stderr",
     "output_type": "stream",
     "text": [
      "\r",
      "100597it [04:46, 339.49it/s]"
     ]
    },
    {
     "name": "stderr",
     "output_type": "stream",
     "text": [
      "\r",
      "100632it [04:46, 342.36it/s]"
     ]
    },
    {
     "name": "stderr",
     "output_type": "stream",
     "text": [
      "\r",
      "100668it [04:46, 346.35it/s]"
     ]
    },
    {
     "name": "stderr",
     "output_type": "stream",
     "text": [
      "\r",
      "100703it [04:46, 343.62it/s]"
     ]
    },
    {
     "name": "stderr",
     "output_type": "stream",
     "text": [
      "\r",
      "100740it [04:46, 349.26it/s]"
     ]
    },
    {
     "name": "stderr",
     "output_type": "stream",
     "text": [
      "\r",
      "100775it [04:46, 346.22it/s]"
     ]
    },
    {
     "name": "stderr",
     "output_type": "stream",
     "text": [
      "\r",
      "100811it [04:46, 348.49it/s]"
     ]
    },
    {
     "name": "stderr",
     "output_type": "stream",
     "text": [
      "\r",
      "100847it [04:46, 348.50it/s]"
     ]
    },
    {
     "name": "stderr",
     "output_type": "stream",
     "text": [
      "\r",
      "100882it [04:47, 346.26it/s]"
     ]
    },
    {
     "name": "stderr",
     "output_type": "stream",
     "text": [
      "\r",
      "100917it [04:47, 347.26it/s]"
     ]
    },
    {
     "name": "stderr",
     "output_type": "stream",
     "text": [
      "\r",
      "100953it [04:47, 350.10it/s]"
     ]
    },
    {
     "name": "stderr",
     "output_type": "stream",
     "text": [
      "\r",
      "100989it [04:47, 344.04it/s]"
     ]
    },
    {
     "name": "stderr",
     "output_type": "stream",
     "text": [
      "\r",
      "101024it [04:47, 341.66it/s]"
     ]
    },
    {
     "name": "stderr",
     "output_type": "stream",
     "text": [
      "\r",
      "101059it [04:47, 340.41it/s]"
     ]
    },
    {
     "name": "stderr",
     "output_type": "stream",
     "text": [
      "\r",
      "101095it [04:47, 342.95it/s]"
     ]
    },
    {
     "name": "stderr",
     "output_type": "stream",
     "text": [
      "\r",
      "101130it [04:47, 336.56it/s]"
     ]
    },
    {
     "name": "stderr",
     "output_type": "stream",
     "text": [
      "\r",
      "101167it [04:47, 346.09it/s]"
     ]
    },
    {
     "name": "stderr",
     "output_type": "stream",
     "text": [
      "\r",
      "101203it [04:48, 349.88it/s]"
     ]
    },
    {
     "name": "stderr",
     "output_type": "stream",
     "text": [
      "\r",
      "101240it [04:48, 353.59it/s]"
     ]
    },
    {
     "name": "stderr",
     "output_type": "stream",
     "text": [
      "\r",
      "101276it [04:48, 348.54it/s]"
     ]
    },
    {
     "name": "stderr",
     "output_type": "stream",
     "text": [
      "\r",
      "101311it [04:48, 346.38it/s]"
     ]
    },
    {
     "name": "stderr",
     "output_type": "stream",
     "text": [
      "\r",
      "101347it [04:48, 347.23it/s]"
     ]
    },
    {
     "name": "stderr",
     "output_type": "stream",
     "text": [
      "\r",
      "101383it [04:48, 349.02it/s]"
     ]
    },
    {
     "name": "stderr",
     "output_type": "stream",
     "text": [
      "\r",
      "101418it [04:48, 345.62it/s]"
     ]
    },
    {
     "name": "stderr",
     "output_type": "stream",
     "text": [
      "\r",
      "101453it [04:48, 345.46it/s]"
     ]
    },
    {
     "name": "stderr",
     "output_type": "stream",
     "text": [
      "\r",
      "101488it [04:48, 344.69it/s]"
     ]
    },
    {
     "name": "stderr",
     "output_type": "stream",
     "text": [
      "\r",
      "101524it [04:48, 347.98it/s]"
     ]
    },
    {
     "name": "stderr",
     "output_type": "stream",
     "text": [
      "\r",
      "101561it [04:49, 352.85it/s]"
     ]
    },
    {
     "name": "stderr",
     "output_type": "stream",
     "text": [
      "\r",
      "101597it [04:49, 346.04it/s]"
     ]
    },
    {
     "name": "stderr",
     "output_type": "stream",
     "text": [
      "\r",
      "101632it [04:49, 346.82it/s]"
     ]
    },
    {
     "name": "stderr",
     "output_type": "stream",
     "text": [
      "\r",
      "101668it [04:49, 350.61it/s]"
     ]
    },
    {
     "name": "stderr",
     "output_type": "stream",
     "text": [
      "\r",
      "101704it [04:49, 347.82it/s]"
     ]
    },
    {
     "name": "stderr",
     "output_type": "stream",
     "text": [
      "\r",
      "101740it [04:49, 351.30it/s]"
     ]
    },
    {
     "name": "stderr",
     "output_type": "stream",
     "text": [
      "\r",
      "101777it [04:49, 355.59it/s]"
     ]
    },
    {
     "name": "stderr",
     "output_type": "stream",
     "text": [
      "\r",
      "101814it [04:49, 358.34it/s]"
     ]
    },
    {
     "name": "stderr",
     "output_type": "stream",
     "text": [
      "\r",
      "101850it [04:49, 352.21it/s]"
     ]
    },
    {
     "name": "stderr",
     "output_type": "stream",
     "text": [
      "\r",
      "101886it [04:49, 344.51it/s]"
     ]
    },
    {
     "name": "stderr",
     "output_type": "stream",
     "text": [
      "\r",
      "101921it [04:50, 336.54it/s]"
     ]
    },
    {
     "name": "stderr",
     "output_type": "stream",
     "text": [
      "\r",
      "101955it [04:50, 336.55it/s]"
     ]
    },
    {
     "name": "stderr",
     "output_type": "stream",
     "text": [
      "\r",
      "101992it [04:50, 343.80it/s]"
     ]
    },
    {
     "name": "stderr",
     "output_type": "stream",
     "text": [
      "\r",
      "102027it [04:50, 339.40it/s]"
     ]
    },
    {
     "name": "stderr",
     "output_type": "stream",
     "text": [
      "\r",
      "102061it [04:50, 338.04it/s]"
     ]
    },
    {
     "name": "stderr",
     "output_type": "stream",
     "text": [
      "\r",
      "102101it [04:50, 353.81it/s]"
     ]
    },
    {
     "name": "stderr",
     "output_type": "stream",
     "text": [
      "\r",
      "102138it [04:50, 358.11it/s]"
     ]
    },
    {
     "name": "stderr",
     "output_type": "stream",
     "text": [
      "\r",
      "102174it [04:50, 355.67it/s]"
     ]
    },
    {
     "name": "stderr",
     "output_type": "stream",
     "text": [
      "\r",
      "102212it [04:50, 361.08it/s]"
     ]
    },
    {
     "name": "stderr",
     "output_type": "stream",
     "text": [
      "\r",
      "102249it [04:51, 360.93it/s]"
     ]
    },
    {
     "name": "stderr",
     "output_type": "stream",
     "text": [
      "\r",
      "102286it [04:51, 351.90it/s]"
     ]
    },
    {
     "name": "stderr",
     "output_type": "stream",
     "text": [
      "\r",
      "102322it [04:51, 354.20it/s]"
     ]
    },
    {
     "name": "stderr",
     "output_type": "stream",
     "text": [
      "\r",
      "102358it [04:51, 352.34it/s]"
     ]
    },
    {
     "name": "stderr",
     "output_type": "stream",
     "text": [
      "\r",
      "102396it [04:51, 359.29it/s]"
     ]
    },
    {
     "name": "stderr",
     "output_type": "stream",
     "text": [
      "\r",
      "102432it [04:51, 353.56it/s]"
     ]
    },
    {
     "name": "stderr",
     "output_type": "stream",
     "text": [
      "\r",
      "102468it [04:51, 351.89it/s]"
     ]
    },
    {
     "name": "stderr",
     "output_type": "stream",
     "text": [
      "\r",
      "102506it [04:51, 357.52it/s]"
     ]
    },
    {
     "name": "stderr",
     "output_type": "stream",
     "text": [
      "\r",
      "102542it [04:51, 357.31it/s]"
     ]
    },
    {
     "name": "stderr",
     "output_type": "stream",
     "text": [
      "\r",
      "102580it [04:51, 361.78it/s]"
     ]
    },
    {
     "name": "stderr",
     "output_type": "stream",
     "text": [
      "\r",
      "102617it [04:52, 359.84it/s]"
     ]
    },
    {
     "name": "stderr",
     "output_type": "stream",
     "text": [
      "\r",
      "102653it [04:52, 356.88it/s]"
     ]
    },
    {
     "name": "stderr",
     "output_type": "stream",
     "text": [
      "\r",
      "102689it [04:52, 353.90it/s]"
     ]
    },
    {
     "name": "stderr",
     "output_type": "stream",
     "text": [
      "\r",
      "102726it [04:52, 356.73it/s]"
     ]
    },
    {
     "name": "stderr",
     "output_type": "stream",
     "text": [
      "\r",
      "102762it [04:52, 354.27it/s]"
     ]
    },
    {
     "name": "stderr",
     "output_type": "stream",
     "text": [
      "\r",
      "102800it [04:52, 359.88it/s]"
     ]
    },
    {
     "name": "stderr",
     "output_type": "stream",
     "text": [
      "\r",
      "102836it [04:52, 354.03it/s]"
     ]
    },
    {
     "name": "stderr",
     "output_type": "stream",
     "text": [
      "\r",
      "102872it [04:52, 352.79it/s]"
     ]
    },
    {
     "name": "stderr",
     "output_type": "stream",
     "text": [
      "\r",
      "102910it [04:52, 359.97it/s]"
     ]
    },
    {
     "name": "stderr",
     "output_type": "stream",
     "text": [
      "\r",
      "102947it [04:52, 350.97it/s]"
     ]
    },
    {
     "name": "stderr",
     "output_type": "stream",
     "text": [
      "\r",
      "102984it [04:53, 355.42it/s]"
     ]
    },
    {
     "name": "stderr",
     "output_type": "stream",
     "text": [
      "\r",
      "103021it [04:53, 358.12it/s]"
     ]
    },
    {
     "name": "stderr",
     "output_type": "stream",
     "text": [
      "\r",
      "103059it [04:53, 363.56it/s]"
     ]
    },
    {
     "name": "stderr",
     "output_type": "stream",
     "text": [
      "\r",
      "103096it [04:53, 364.88it/s]"
     ]
    },
    {
     "name": "stderr",
     "output_type": "stream",
     "text": [
      "\r",
      "103133it [04:53, 362.12it/s]"
     ]
    },
    {
     "name": "stderr",
     "output_type": "stream",
     "text": [
      "\r",
      "103170it [04:53, 359.50it/s]"
     ]
    },
    {
     "name": "stderr",
     "output_type": "stream",
     "text": [
      "\r",
      "103207it [04:53, 359.43it/s]"
     ]
    },
    {
     "name": "stderr",
     "output_type": "stream",
     "text": [
      "\r",
      "103243it [04:53, 357.05it/s]"
     ]
    },
    {
     "name": "stderr",
     "output_type": "stream",
     "text": [
      "\r",
      "103280it [04:53, 358.89it/s]"
     ]
    },
    {
     "name": "stderr",
     "output_type": "stream",
     "text": [
      "\r",
      "103318it [04:53, 362.73it/s]"
     ]
    },
    {
     "name": "stderr",
     "output_type": "stream",
     "text": [
      "\r",
      "103357it [04:54, 369.23it/s]"
     ]
    },
    {
     "name": "stderr",
     "output_type": "stream",
     "text": [
      "\r",
      "103395it [04:54, 371.14it/s]"
     ]
    },
    {
     "name": "stderr",
     "output_type": "stream",
     "text": [
      "\r",
      "103433it [04:54, 369.14it/s]"
     ]
    },
    {
     "name": "stderr",
     "output_type": "stream",
     "text": [
      "\r",
      "103470it [04:54, 366.51it/s]"
     ]
    },
    {
     "name": "stderr",
     "output_type": "stream",
     "text": [
      "\r",
      "103509it [04:54, 369.77it/s]"
     ]
    },
    {
     "name": "stderr",
     "output_type": "stream",
     "text": [
      "\r",
      "103546it [04:54, 367.04it/s]"
     ]
    },
    {
     "name": "stderr",
     "output_type": "stream",
     "text": [
      "\r",
      "103585it [04:54, 371.35it/s]"
     ]
    },
    {
     "name": "stderr",
     "output_type": "stream",
     "text": [
      "\r",
      "103626it [04:54, 379.93it/s]"
     ]
    },
    {
     "name": "stderr",
     "output_type": "stream",
     "text": [
      "\r",
      "103664it [04:54, 376.31it/s]"
     ]
    },
    {
     "name": "stderr",
     "output_type": "stream",
     "text": [
      "\r",
      "103702it [04:55, 372.39it/s]"
     ]
    },
    {
     "name": "stderr",
     "output_type": "stream",
     "text": [
      "\r",
      "103740it [04:55, 366.04it/s]"
     ]
    },
    {
     "name": "stderr",
     "output_type": "stream",
     "text": [
      "\r",
      "103778it [04:55, 368.03it/s]"
     ]
    },
    {
     "name": "stderr",
     "output_type": "stream",
     "text": [
      "\r",
      "103816it [04:55, 369.76it/s]"
     ]
    },
    {
     "name": "stderr",
     "output_type": "stream",
     "text": [
      "\r",
      "103853it [04:55, 369.81it/s]"
     ]
    },
    {
     "name": "stderr",
     "output_type": "stream",
     "text": [
      "\r",
      "103890it [04:55, 365.67it/s]"
     ]
    },
    {
     "name": "stderr",
     "output_type": "stream",
     "text": [
      "\r",
      "103927it [04:55, 365.96it/s]"
     ]
    },
    {
     "name": "stderr",
     "output_type": "stream",
     "text": [
      "\r",
      "103965it [04:55, 369.38it/s]"
     ]
    },
    {
     "name": "stderr",
     "output_type": "stream",
     "text": [
      "\r",
      "104002it [04:55, 367.16it/s]"
     ]
    },
    {
     "name": "stderr",
     "output_type": "stream",
     "text": [
      "\r",
      "104042it [04:55, 374.04it/s]"
     ]
    },
    {
     "name": "stderr",
     "output_type": "stream",
     "text": [
      "\r",
      "104081it [04:56, 377.20it/s]"
     ]
    },
    {
     "name": "stderr",
     "output_type": "stream",
     "text": [
      "\r",
      "104119it [04:56, 369.91it/s]"
     ]
    },
    {
     "name": "stderr",
     "output_type": "stream",
     "text": [
      "\r",
      "104157it [04:56, 371.20it/s]"
     ]
    },
    {
     "name": "stderr",
     "output_type": "stream",
     "text": [
      "\r",
      "104195it [04:56, 370.64it/s]"
     ]
    },
    {
     "name": "stderr",
     "output_type": "stream",
     "text": [
      "\r",
      "104235it [04:56, 377.97it/s]"
     ]
    },
    {
     "name": "stderr",
     "output_type": "stream",
     "text": [
      "\r",
      "104273it [04:56, 370.16it/s]"
     ]
    },
    {
     "name": "stderr",
     "output_type": "stream",
     "text": [
      "\r",
      "104311it [04:56, 369.77it/s]"
     ]
    },
    {
     "name": "stderr",
     "output_type": "stream",
     "text": [
      "\r",
      "104350it [04:56, 373.23it/s]"
     ]
    },
    {
     "name": "stderr",
     "output_type": "stream",
     "text": [
      "\r",
      "104388it [04:56, 370.68it/s]"
     ]
    },
    {
     "name": "stderr",
     "output_type": "stream",
     "text": [
      "\r",
      "104427it [04:56, 373.88it/s]"
     ]
    },
    {
     "name": "stderr",
     "output_type": "stream",
     "text": [
      "\r",
      "104465it [04:57, 370.71it/s]"
     ]
    },
    {
     "name": "stderr",
     "output_type": "stream",
     "text": [
      "\r",
      "104503it [04:57, 371.23it/s]"
     ]
    },
    {
     "name": "stderr",
     "output_type": "stream",
     "text": [
      "\r",
      "104541it [04:57, 370.68it/s]"
     ]
    },
    {
     "name": "stderr",
     "output_type": "stream",
     "text": [
      "\r",
      "104579it [04:57, 370.91it/s]"
     ]
    },
    {
     "name": "stderr",
     "output_type": "stream",
     "text": [
      "\r",
      "104617it [04:57, 371.59it/s]"
     ]
    },
    {
     "name": "stderr",
     "output_type": "stream",
     "text": [
      "\r",
      "104655it [04:57, 370.63it/s]"
     ]
    },
    {
     "name": "stderr",
     "output_type": "stream",
     "text": [
      "\r",
      "104693it [04:57, 368.52it/s]"
     ]
    },
    {
     "name": "stderr",
     "output_type": "stream",
     "text": [
      "\r",
      "104731it [04:57, 368.44it/s]"
     ]
    },
    {
     "name": "stderr",
     "output_type": "stream",
     "text": [
      "\r",
      "104770it [04:57, 370.96it/s]"
     ]
    },
    {
     "name": "stderr",
     "output_type": "stream",
     "text": [
      "\r",
      "104808it [04:58, 360.73it/s]"
     ]
    },
    {
     "name": "stderr",
     "output_type": "stream",
     "text": [
      "\r",
      "104847it [04:58, 366.74it/s]"
     ]
    },
    {
     "name": "stderr",
     "output_type": "stream",
     "text": [
      "\r",
      "104886it [04:58, 371.68it/s]"
     ]
    },
    {
     "name": "stderr",
     "output_type": "stream",
     "text": [
      "\r",
      "104925it [04:58, 374.91it/s]"
     ]
    },
    {
     "name": "stderr",
     "output_type": "stream",
     "text": [
      "\r",
      "104963it [04:58, 373.18it/s]"
     ]
    },
    {
     "name": "stderr",
     "output_type": "stream",
     "text": [
      "\r",
      "105001it [04:58, 371.33it/s]"
     ]
    },
    {
     "name": "stderr",
     "output_type": "stream",
     "text": [
      "\r",
      "105039it [04:58, 367.20it/s]"
     ]
    },
    {
     "name": "stderr",
     "output_type": "stream",
     "text": [
      "\r",
      "105076it [04:58, 364.36it/s]"
     ]
    },
    {
     "name": "stderr",
     "output_type": "stream",
     "text": [
      "\r",
      "105114it [04:58, 367.33it/s]"
     ]
    },
    {
     "name": "stderr",
     "output_type": "stream",
     "text": [
      "\r",
      "105152it [04:58, 370.92it/s]"
     ]
    },
    {
     "name": "stderr",
     "output_type": "stream",
     "text": [
      "\r",
      "105191it [04:59, 373.14it/s]"
     ]
    },
    {
     "name": "stderr",
     "output_type": "stream",
     "text": [
      "\r",
      "105230it [04:59, 375.54it/s]"
     ]
    },
    {
     "name": "stderr",
     "output_type": "stream",
     "text": [
      "\r",
      "105268it [04:59, 368.74it/s]"
     ]
    },
    {
     "name": "stderr",
     "output_type": "stream",
     "text": [
      "\r",
      "105305it [04:59, 366.76it/s]"
     ]
    },
    {
     "name": "stderr",
     "output_type": "stream",
     "text": [
      "\r",
      "105342it [04:59, 361.65it/s]"
     ]
    },
    {
     "name": "stderr",
     "output_type": "stream",
     "text": [
      "\r",
      "105379it [04:59, 361.31it/s]"
     ]
    },
    {
     "name": "stderr",
     "output_type": "stream",
     "text": [
      "\r",
      "105417it [04:59, 366.17it/s]"
     ]
    },
    {
     "name": "stderr",
     "output_type": "stream",
     "text": [
      "\r",
      "105457it [04:59, 374.02it/s]"
     ]
    },
    {
     "name": "stderr",
     "output_type": "stream",
     "text": [
      "\r",
      "105495it [04:59, 374.15it/s]"
     ]
    },
    {
     "name": "stderr",
     "output_type": "stream",
     "text": [
      "\r",
      "105533it [04:59, 373.16it/s]"
     ]
    },
    {
     "name": "stderr",
     "output_type": "stream",
     "text": [
      "\r",
      "105571it [05:00, 369.42it/s]"
     ]
    },
    {
     "name": "stderr",
     "output_type": "stream",
     "text": [
      "\r",
      "105608it [05:00, 360.72it/s]"
     ]
    },
    {
     "name": "stderr",
     "output_type": "stream",
     "text": [
      "\r",
      "105647it [05:00, 368.99it/s]"
     ]
    },
    {
     "name": "stderr",
     "output_type": "stream",
     "text": [
      "\r",
      "105686it [05:00, 372.71it/s]"
     ]
    },
    {
     "name": "stderr",
     "output_type": "stream",
     "text": [
      "\r",
      "105725it [05:00, 376.25it/s]"
     ]
    },
    {
     "name": "stderr",
     "output_type": "stream",
     "text": [
      "\r",
      "105764it [05:00, 379.50it/s]"
     ]
    },
    {
     "name": "stderr",
     "output_type": "stream",
     "text": [
      "\r",
      "105803it [05:00, 381.00it/s]"
     ]
    },
    {
     "name": "stderr",
     "output_type": "stream",
     "text": [
      "\r",
      "105842it [05:00, 383.62it/s]"
     ]
    },
    {
     "name": "stderr",
     "output_type": "stream",
     "text": [
      "\r",
      "105882it [05:00, 386.39it/s]"
     ]
    },
    {
     "name": "stderr",
     "output_type": "stream",
     "text": [
      "\r",
      "105922it [05:00, 387.32it/s]"
     ]
    },
    {
     "name": "stderr",
     "output_type": "stream",
     "text": [
      "\r",
      "105961it [05:01, 380.67it/s]"
     ]
    },
    {
     "name": "stderr",
     "output_type": "stream",
     "text": [
      "\r",
      "106000it [05:01, 368.79it/s]"
     ]
    },
    {
     "name": "stderr",
     "output_type": "stream",
     "text": [
      "\r",
      "106040it [05:01, 376.48it/s]"
     ]
    },
    {
     "name": "stderr",
     "output_type": "stream",
     "text": [
      "\r",
      "106079it [05:01, 379.28it/s]"
     ]
    },
    {
     "name": "stderr",
     "output_type": "stream",
     "text": [
      "\r",
      "106118it [05:01, 376.87it/s]"
     ]
    },
    {
     "name": "stderr",
     "output_type": "stream",
     "text": [
      "\r",
      "106156it [05:01, 367.34it/s]"
     ]
    },
    {
     "name": "stderr",
     "output_type": "stream",
     "text": [
      "\r",
      "106194it [05:01, 368.63it/s]"
     ]
    },
    {
     "name": "stderr",
     "output_type": "stream",
     "text": [
      "\r",
      "106234it [05:01, 375.48it/s]"
     ]
    },
    {
     "name": "stderr",
     "output_type": "stream",
     "text": [
      "\r",
      "106272it [05:01, 373.72it/s]"
     ]
    },
    {
     "name": "stderr",
     "output_type": "stream",
     "text": [
      "\r",
      "106311it [05:02, 376.15it/s]"
     ]
    },
    {
     "name": "stderr",
     "output_type": "stream",
     "text": [
      "\r",
      "106350it [05:02, 378.63it/s]"
     ]
    },
    {
     "name": "stderr",
     "output_type": "stream",
     "text": [
      "\r",
      "106389it [05:02, 378.81it/s]"
     ]
    },
    {
     "name": "stderr",
     "output_type": "stream",
     "text": [
      "\r",
      "106427it [05:02, 376.78it/s]"
     ]
    },
    {
     "name": "stderr",
     "output_type": "stream",
     "text": [
      "\r",
      "106468it [05:02, 383.96it/s]"
     ]
    },
    {
     "name": "stderr",
     "output_type": "stream",
     "text": [
      "\r",
      "106507it [05:02, 378.73it/s]"
     ]
    },
    {
     "name": "stderr",
     "output_type": "stream",
     "text": [
      "\r",
      "106545it [05:02, 371.18it/s]"
     ]
    },
    {
     "name": "stderr",
     "output_type": "stream",
     "text": [
      "\r",
      "106587it [05:02, 382.13it/s]"
     ]
    },
    {
     "name": "stderr",
     "output_type": "stream",
     "text": [
      "\r",
      "106626it [05:02, 371.33it/s]"
     ]
    },
    {
     "name": "stderr",
     "output_type": "stream",
     "text": [
      "\r",
      "106664it [05:02, 370.89it/s]"
     ]
    },
    {
     "name": "stderr",
     "output_type": "stream",
     "text": [
      "\r",
      "106705it [05:03, 381.63it/s]"
     ]
    },
    {
     "name": "stderr",
     "output_type": "stream",
     "text": [
      "\r",
      "106744it [05:03, 383.28it/s]"
     ]
    },
    {
     "name": "stderr",
     "output_type": "stream",
     "text": [
      "\r",
      "106783it [05:03, 383.20it/s]"
     ]
    },
    {
     "name": "stderr",
     "output_type": "stream",
     "text": [
      "\r",
      "106822it [05:03, 380.10it/s]"
     ]
    },
    {
     "name": "stderr",
     "output_type": "stream",
     "text": [
      "\r",
      "106861it [05:03, 376.68it/s]"
     ]
    },
    {
     "name": "stderr",
     "output_type": "stream",
     "text": [
      "\r",
      "106899it [05:03, 364.31it/s]"
     ]
    },
    {
     "name": "stderr",
     "output_type": "stream",
     "text": [
      "\r",
      "106936it [05:03, 353.92it/s]"
     ]
    },
    {
     "name": "stderr",
     "output_type": "stream",
     "text": [
      "\r",
      "106976it [05:03, 364.65it/s]"
     ]
    },
    {
     "name": "stderr",
     "output_type": "stream",
     "text": [
      "\r",
      "107015it [05:03, 367.42it/s]"
     ]
    },
    {
     "name": "stderr",
     "output_type": "stream",
     "text": [
      "\r",
      "107056it [05:04, 377.52it/s]"
     ]
    },
    {
     "name": "stderr",
     "output_type": "stream",
     "text": [
      "\r",
      "107094it [05:04, 359.54it/s]"
     ]
    },
    {
     "name": "stderr",
     "output_type": "stream",
     "text": [
      "\r",
      "107131it [05:04, 359.99it/s]"
     ]
    },
    {
     "name": "stderr",
     "output_type": "stream",
     "text": [
      "\r",
      "107170it [05:04, 367.16it/s]"
     ]
    },
    {
     "name": "stderr",
     "output_type": "stream",
     "text": [
      "\r",
      "107209it [05:04, 371.73it/s]"
     ]
    },
    {
     "name": "stderr",
     "output_type": "stream",
     "text": [
      "\r",
      "107249it [05:04, 379.17it/s]"
     ]
    },
    {
     "name": "stderr",
     "output_type": "stream",
     "text": [
      "\r",
      "107290it [05:04, 385.69it/s]"
     ]
    },
    {
     "name": "stderr",
     "output_type": "stream",
     "text": [
      "\r",
      "107330it [05:04, 385.86it/s]"
     ]
    },
    {
     "name": "stderr",
     "output_type": "stream",
     "text": [
      "\r",
      "107369it [05:04, 379.61it/s]"
     ]
    },
    {
     "name": "stderr",
     "output_type": "stream",
     "text": [
      "\r",
      "107408it [05:04, 380.40it/s]"
     ]
    },
    {
     "name": "stderr",
     "output_type": "stream",
     "text": [
      "\r",
      "107447it [05:05, 381.62it/s]"
     ]
    },
    {
     "name": "stderr",
     "output_type": "stream",
     "text": [
      "\r",
      "107486it [05:05, 378.83it/s]"
     ]
    },
    {
     "name": "stderr",
     "output_type": "stream",
     "text": [
      "\r",
      "107525it [05:05, 380.84it/s]"
     ]
    },
    {
     "name": "stderr",
     "output_type": "stream",
     "text": [
      "\r",
      "107564it [05:05, 381.94it/s]"
     ]
    },
    {
     "name": "stderr",
     "output_type": "stream",
     "text": [
      "\r",
      "107605it [05:05, 388.77it/s]"
     ]
    },
    {
     "name": "stderr",
     "output_type": "stream",
     "text": [
      "\r",
      "107644it [05:05, 387.97it/s]"
     ]
    },
    {
     "name": "stderr",
     "output_type": "stream",
     "text": [
      "\r",
      "107683it [05:05, 368.05it/s]"
     ]
    },
    {
     "name": "stderr",
     "output_type": "stream",
     "text": [
      "\r",
      "107722it [05:05, 373.46it/s]"
     ]
    },
    {
     "name": "stderr",
     "output_type": "stream",
     "text": [
      "\r",
      "107762it [05:05, 378.96it/s]"
     ]
    },
    {
     "name": "stderr",
     "output_type": "stream",
     "text": [
      "\r",
      "107801it [05:06, 376.37it/s]"
     ]
    },
    {
     "name": "stderr",
     "output_type": "stream",
     "text": [
      "\r",
      "107840it [05:06, 377.78it/s]"
     ]
    },
    {
     "name": "stderr",
     "output_type": "stream",
     "text": [
      "\r",
      "107878it [05:06, 370.05it/s]"
     ]
    },
    {
     "name": "stderr",
     "output_type": "stream",
     "text": [
      "\r",
      "107916it [05:06, 366.37it/s]"
     ]
    },
    {
     "name": "stderr",
     "output_type": "stream",
     "text": [
      "\r",
      "107954it [05:06, 368.04it/s]"
     ]
    },
    {
     "name": "stderr",
     "output_type": "stream",
     "text": [
      "\r",
      "107991it [05:06, 367.85it/s]"
     ]
    },
    {
     "name": "stderr",
     "output_type": "stream",
     "text": [
      "\r",
      "108030it [05:06, 373.76it/s]"
     ]
    },
    {
     "name": "stderr",
     "output_type": "stream",
     "text": [
      "\r",
      "108068it [05:06, 373.24it/s]"
     ]
    },
    {
     "name": "stderr",
     "output_type": "stream",
     "text": [
      "\r",
      "108106it [05:06, 374.65it/s]"
     ]
    },
    {
     "name": "stderr",
     "output_type": "stream",
     "text": [
      "\r",
      "108144it [05:06, 370.19it/s]"
     ]
    },
    {
     "name": "stderr",
     "output_type": "stream",
     "text": [
      "\r",
      "108183it [05:07, 375.68it/s]"
     ]
    },
    {
     "name": "stderr",
     "output_type": "stream",
     "text": [
      "\r",
      "108221it [05:07, 376.71it/s]"
     ]
    },
    {
     "name": "stderr",
     "output_type": "stream",
     "text": [
      "\r",
      "108259it [05:07, 375.78it/s]"
     ]
    },
    {
     "name": "stderr",
     "output_type": "stream",
     "text": [
      "\r",
      "108297it [05:07, 376.56it/s]"
     ]
    },
    {
     "name": "stderr",
     "output_type": "stream",
     "text": [
      "\r",
      "108335it [05:07, 375.69it/s]"
     ]
    },
    {
     "name": "stderr",
     "output_type": "stream",
     "text": [
      "\r",
      "108375it [05:07, 380.58it/s]"
     ]
    },
    {
     "name": "stderr",
     "output_type": "stream",
     "text": [
      "\r",
      "108414it [05:07, 367.74it/s]"
     ]
    },
    {
     "name": "stderr",
     "output_type": "stream",
     "text": [
      "\r",
      "108451it [05:07, 367.03it/s]"
     ]
    },
    {
     "name": "stderr",
     "output_type": "stream",
     "text": [
      "\r",
      "108493it [05:07, 380.16it/s]"
     ]
    },
    {
     "name": "stderr",
     "output_type": "stream",
     "text": [
      "\r",
      "108533it [05:07, 385.85it/s]"
     ]
    },
    {
     "name": "stderr",
     "output_type": "stream",
     "text": [
      "\r",
      "108572it [05:08, 384.40it/s]"
     ]
    },
    {
     "name": "stderr",
     "output_type": "stream",
     "text": [
      "\r",
      "108611it [05:08, 381.13it/s]"
     ]
    },
    {
     "name": "stderr",
     "output_type": "stream",
     "text": [
      "\r",
      "108650it [05:08, 378.63it/s]"
     ]
    },
    {
     "name": "stderr",
     "output_type": "stream",
     "text": [
      "\r",
      "108688it [05:08, 375.06it/s]"
     ]
    },
    {
     "name": "stderr",
     "output_type": "stream",
     "text": [
      "\r",
      "108728it [05:08, 378.73it/s]"
     ]
    },
    {
     "name": "stderr",
     "output_type": "stream",
     "text": [
      "\r",
      "108767it [05:08, 379.38it/s]"
     ]
    },
    {
     "name": "stderr",
     "output_type": "stream",
     "text": [
      "\r",
      "108805it [05:08, 376.26it/s]"
     ]
    },
    {
     "name": "stderr",
     "output_type": "stream",
     "text": [
      "\r",
      "108846it [05:08, 384.77it/s]"
     ]
    },
    {
     "name": "stderr",
     "output_type": "stream",
     "text": [
      "\r",
      "108885it [05:08, 383.69it/s]"
     ]
    },
    {
     "name": "stderr",
     "output_type": "stream",
     "text": [
      "\r",
      "108924it [05:08, 380.21it/s]"
     ]
    },
    {
     "name": "stderr",
     "output_type": "stream",
     "text": [
      "\r",
      "108964it [05:09, 384.33it/s]"
     ]
    },
    {
     "name": "stderr",
     "output_type": "stream",
     "text": [
      "\r",
      "109003it [05:09, 379.93it/s]"
     ]
    },
    {
     "name": "stderr",
     "output_type": "stream",
     "text": [
      "\r",
      "109044it [05:09, 384.92it/s]"
     ]
    },
    {
     "name": "stderr",
     "output_type": "stream",
     "text": [
      "\r",
      "109084it [05:09, 386.69it/s]"
     ]
    },
    {
     "name": "stderr",
     "output_type": "stream",
     "text": [
      "\r",
      "109123it [05:09, 386.93it/s]"
     ]
    },
    {
     "name": "stderr",
     "output_type": "stream",
     "text": [
      "\r",
      "109162it [05:09, 379.83it/s]"
     ]
    },
    {
     "name": "stderr",
     "output_type": "stream",
     "text": [
      "\r",
      "109201it [05:09, 375.24it/s]"
     ]
    },
    {
     "name": "stderr",
     "output_type": "stream",
     "text": [
      "\r",
      "109240it [05:09, 377.48it/s]"
     ]
    },
    {
     "name": "stderr",
     "output_type": "stream",
     "text": [
      "\r",
      "109279it [05:09, 378.77it/s]"
     ]
    },
    {
     "name": "stderr",
     "output_type": "stream",
     "text": [
      "\r",
      "109317it [05:10, 373.89it/s]"
     ]
    },
    {
     "name": "stderr",
     "output_type": "stream",
     "text": [
      "\r",
      "109355it [05:10, 375.31it/s]"
     ]
    },
    {
     "name": "stderr",
     "output_type": "stream",
     "text": [
      "\r",
      "109394it [05:10, 377.09it/s]"
     ]
    },
    {
     "name": "stderr",
     "output_type": "stream",
     "text": [
      "\r",
      "109434it [05:10, 382.56it/s]"
     ]
    },
    {
     "name": "stderr",
     "output_type": "stream",
     "text": [
      "\r",
      "109473it [05:10, 383.64it/s]"
     ]
    },
    {
     "name": "stderr",
     "output_type": "stream",
     "text": [
      "\r",
      "109514it [05:10, 388.42it/s]"
     ]
    },
    {
     "name": "stderr",
     "output_type": "stream",
     "text": [
      "\r",
      "109553it [05:10, 386.89it/s]"
     ]
    },
    {
     "name": "stderr",
     "output_type": "stream",
     "text": [
      "\r",
      "109592it [05:10, 381.16it/s]"
     ]
    },
    {
     "name": "stderr",
     "output_type": "stream",
     "text": [
      "\r",
      "109631it [05:10, 381.93it/s]"
     ]
    },
    {
     "name": "stderr",
     "output_type": "stream",
     "text": [
      "\r",
      "109670it [05:10, 379.29it/s]"
     ]
    },
    {
     "name": "stderr",
     "output_type": "stream",
     "text": [
      "\r",
      "109709it [05:11, 380.70it/s]"
     ]
    },
    {
     "name": "stderr",
     "output_type": "stream",
     "text": [
      "\r",
      "109748it [05:11, 370.85it/s]"
     ]
    },
    {
     "name": "stderr",
     "output_type": "stream",
     "text": [
      "\r",
      "109786it [05:11, 371.70it/s]"
     ]
    },
    {
     "name": "stderr",
     "output_type": "stream",
     "text": [
      "\r",
      "109824it [05:11, 366.49it/s]"
     ]
    },
    {
     "name": "stderr",
     "output_type": "stream",
     "text": [
      "\r",
      "109861it [05:11, 362.62it/s]"
     ]
    },
    {
     "name": "stderr",
     "output_type": "stream",
     "text": [
      "\r",
      "109898it [05:11, 358.24it/s]"
     ]
    },
    {
     "name": "stderr",
     "output_type": "stream",
     "text": [
      "\r",
      "109938it [05:11, 369.48it/s]"
     ]
    },
    {
     "name": "stderr",
     "output_type": "stream",
     "text": [
      "\r",
      "109977it [05:11, 373.67it/s]"
     ]
    },
    {
     "name": "stderr",
     "output_type": "stream",
     "text": [
      "\r",
      "110016it [05:11, 376.81it/s]"
     ]
    },
    {
     "name": "stderr",
     "output_type": "stream",
     "text": [
      "\r",
      "110055it [05:11, 378.26it/s]"
     ]
    },
    {
     "name": "stderr",
     "output_type": "stream",
     "text": [
      "\r",
      "110094it [05:12, 379.46it/s]"
     ]
    },
    {
     "name": "stderr",
     "output_type": "stream",
     "text": [
      "\r",
      "110133it [05:12, 379.40it/s]"
     ]
    },
    {
     "name": "stderr",
     "output_type": "stream",
     "text": [
      "\r",
      "110171it [05:12, 363.62it/s]"
     ]
    },
    {
     "name": "stderr",
     "output_type": "stream",
     "text": [
      "\r",
      "110208it [05:12, 364.20it/s]"
     ]
    },
    {
     "name": "stderr",
     "output_type": "stream",
     "text": [
      "\r",
      "110245it [05:12, 358.81it/s]"
     ]
    },
    {
     "name": "stderr",
     "output_type": "stream",
     "text": [
      "\r",
      "110281it [05:12, 358.77it/s]"
     ]
    },
    {
     "name": "stderr",
     "output_type": "stream",
     "text": [
      "\r",
      "110319it [05:12, 362.33it/s]"
     ]
    },
    {
     "name": "stderr",
     "output_type": "stream",
     "text": [
      "\r",
      "110359it [05:12, 371.03it/s]"
     ]
    },
    {
     "name": "stderr",
     "output_type": "stream",
     "text": [
      "\r",
      "110398it [05:12, 373.20it/s]"
     ]
    },
    {
     "name": "stderr",
     "output_type": "stream",
     "text": [
      "\r",
      "110436it [05:13, 372.69it/s]"
     ]
    },
    {
     "name": "stderr",
     "output_type": "stream",
     "text": [
      "\r",
      "110474it [05:13, 366.96it/s]"
     ]
    },
    {
     "name": "stderr",
     "output_type": "stream",
     "text": [
      "\r",
      "110512it [05:13, 368.42it/s]"
     ]
    },
    {
     "name": "stderr",
     "output_type": "stream",
     "text": [
      "\r",
      "110550it [05:13, 369.25it/s]"
     ]
    },
    {
     "name": "stderr",
     "output_type": "stream",
     "text": [
      "\r",
      "110588it [05:13, 370.22it/s]"
     ]
    },
    {
     "name": "stderr",
     "output_type": "stream",
     "text": [
      "\r",
      "110626it [05:13, 373.00it/s]"
     ]
    },
    {
     "name": "stderr",
     "output_type": "stream",
     "text": [
      "\r",
      "110666it [05:13, 379.31it/s]"
     ]
    },
    {
     "name": "stderr",
     "output_type": "stream",
     "text": [
      "\r",
      "110704it [05:13, 377.82it/s]"
     ]
    },
    {
     "name": "stderr",
     "output_type": "stream",
     "text": [
      "\r",
      "110742it [05:13, 372.35it/s]"
     ]
    },
    {
     "name": "stderr",
     "output_type": "stream",
     "text": [
      "\r",
      "110780it [05:13, 371.07it/s]"
     ]
    },
    {
     "name": "stderr",
     "output_type": "stream",
     "text": [
      "\r",
      "110818it [05:14, 370.05it/s]"
     ]
    },
    {
     "name": "stderr",
     "output_type": "stream",
     "text": [
      "\r",
      "110856it [05:14, 366.45it/s]"
     ]
    },
    {
     "name": "stderr",
     "output_type": "stream",
     "text": [
      "\r",
      "110895it [05:14, 371.76it/s]"
     ]
    },
    {
     "name": "stderr",
     "output_type": "stream",
     "text": [
      "\r",
      "110935it [05:14, 377.66it/s]"
     ]
    },
    {
     "name": "stderr",
     "output_type": "stream",
     "text": [
      "\r",
      "110974it [05:14, 379.01it/s]"
     ]
    },
    {
     "name": "stderr",
     "output_type": "stream",
     "text": [
      "\r",
      "111012it [05:14, 372.72it/s]"
     ]
    },
    {
     "name": "stderr",
     "output_type": "stream",
     "text": [
      "\r",
      "111050it [05:14, 368.45it/s]"
     ]
    },
    {
     "name": "stderr",
     "output_type": "stream",
     "text": [
      "\r",
      "111087it [05:14, 368.18it/s]"
     ]
    },
    {
     "name": "stderr",
     "output_type": "stream",
     "text": [
      "\r",
      "111124it [05:14, 367.71it/s]"
     ]
    },
    {
     "name": "stderr",
     "output_type": "stream",
     "text": [
      "\r",
      "111161it [05:14, 367.96it/s]"
     ]
    },
    {
     "name": "stderr",
     "output_type": "stream",
     "text": [
      "\r",
      "111199it [05:15, 370.63it/s]"
     ]
    },
    {
     "name": "stderr",
     "output_type": "stream",
     "text": [
      "\r",
      "111237it [05:15, 372.83it/s]"
     ]
    },
    {
     "name": "stderr",
     "output_type": "stream",
     "text": [
      "\r",
      "111276it [05:15, 377.62it/s]"
     ]
    },
    {
     "name": "stderr",
     "output_type": "stream",
     "text": [
      "\r",
      "111314it [05:15, 378.21it/s]"
     ]
    },
    {
     "name": "stderr",
     "output_type": "stream",
     "text": [
      "\r",
      "111353it [05:15, 380.08it/s]"
     ]
    },
    {
     "name": "stderr",
     "output_type": "stream",
     "text": [
      "\r",
      "111392it [05:15, 382.32it/s]"
     ]
    },
    {
     "name": "stderr",
     "output_type": "stream",
     "text": [
      "\r",
      "111431it [05:15, 373.44it/s]"
     ]
    },
    {
     "name": "stderr",
     "output_type": "stream",
     "text": [
      "\r",
      "111469it [05:15, 369.46it/s]"
     ]
    },
    {
     "name": "stderr",
     "output_type": "stream",
     "text": [
      "\r",
      "111506it [05:15, 365.03it/s]"
     ]
    },
    {
     "name": "stderr",
     "output_type": "stream",
     "text": [
      "\r",
      "111543it [05:16, 360.20it/s]"
     ]
    },
    {
     "name": "stderr",
     "output_type": "stream",
     "text": [
      "\r",
      "111581it [05:16, 365.60it/s]"
     ]
    },
    {
     "name": "stderr",
     "output_type": "stream",
     "text": [
      "\r",
      "111618it [05:16, 359.02it/s]"
     ]
    },
    {
     "name": "stderr",
     "output_type": "stream",
     "text": [
      "\r",
      "111654it [05:16, 358.24it/s]"
     ]
    },
    {
     "name": "stderr",
     "output_type": "stream",
     "text": [
      "\r",
      "111690it [05:16, 358.58it/s]"
     ]
    },
    {
     "name": "stderr",
     "output_type": "stream",
     "text": [
      "\r",
      "111726it [05:16, 356.98it/s]"
     ]
    },
    {
     "name": "stderr",
     "output_type": "stream",
     "text": [
      "\r",
      "111765it [05:16, 364.47it/s]"
     ]
    },
    {
     "name": "stderr",
     "output_type": "stream",
     "text": [
      "\r",
      "111803it [05:16, 367.99it/s]"
     ]
    },
    {
     "name": "stderr",
     "output_type": "stream",
     "text": [
      "\r",
      "111842it [05:16, 374.31it/s]"
     ]
    },
    {
     "name": "stderr",
     "output_type": "stream",
     "text": [
      "\r",
      "111880it [05:16, 367.61it/s]"
     ]
    },
    {
     "name": "stderr",
     "output_type": "stream",
     "text": [
      "\r",
      "111917it [05:17, 366.80it/s]"
     ]
    },
    {
     "name": "stderr",
     "output_type": "stream",
     "text": [
      "\r",
      "111954it [05:17, 357.20it/s]"
     ]
    },
    {
     "name": "stderr",
     "output_type": "stream",
     "text": [
      "\r",
      "111991it [05:17, 358.78it/s]"
     ]
    },
    {
     "name": "stderr",
     "output_type": "stream",
     "text": [
      "\r",
      "112027it [05:17, 356.10it/s]"
     ]
    },
    {
     "name": "stderr",
     "output_type": "stream",
     "text": [
      "\r",
      "112066it [05:17, 363.00it/s]"
     ]
    },
    {
     "name": "stderr",
     "output_type": "stream",
     "text": [
      "\r",
      "112103it [05:17, 354.27it/s]"
     ]
    },
    {
     "name": "stderr",
     "output_type": "stream",
     "text": [
      "\r",
      "112139it [05:17, 355.47it/s]"
     ]
    },
    {
     "name": "stderr",
     "output_type": "stream",
     "text": [
      "\r",
      "112179it [05:17, 366.67it/s]"
     ]
    },
    {
     "name": "stderr",
     "output_type": "stream",
     "text": [
      "\r",
      "112218it [05:17, 371.76it/s]"
     ]
    },
    {
     "name": "stderr",
     "output_type": "stream",
     "text": [
      "\r",
      "112256it [05:17, 373.23it/s]"
     ]
    },
    {
     "name": "stderr",
     "output_type": "stream",
     "text": [
      "\r",
      "112294it [05:18, 370.41it/s]"
     ]
    },
    {
     "name": "stderr",
     "output_type": "stream",
     "text": [
      "\r",
      "112332it [05:18, 369.70it/s]"
     ]
    },
    {
     "name": "stderr",
     "output_type": "stream",
     "text": [
      "\r",
      "112370it [05:18, 371.98it/s]"
     ]
    },
    {
     "name": "stderr",
     "output_type": "stream",
     "text": [
      "\r",
      "112408it [05:18, 365.61it/s]"
     ]
    },
    {
     "name": "stderr",
     "output_type": "stream",
     "text": [
      "\r",
      "112446it [05:18, 367.27it/s]"
     ]
    },
    {
     "name": "stderr",
     "output_type": "stream",
     "text": [
      "\r",
      "112485it [05:18, 371.68it/s]"
     ]
    },
    {
     "name": "stderr",
     "output_type": "stream",
     "text": [
      "\r",
      "112524it [05:18, 371.54it/s]"
     ]
    },
    {
     "name": "stderr",
     "output_type": "stream",
     "text": [
      "\r",
      "112562it [05:18, 372.96it/s]"
     ]
    },
    {
     "name": "stderr",
     "output_type": "stream",
     "text": [
      "\r",
      "112600it [05:18, 369.14it/s]"
     ]
    },
    {
     "name": "stderr",
     "output_type": "stream",
     "text": [
      "\r",
      "112638it [05:18, 370.72it/s]"
     ]
    },
    {
     "name": "stderr",
     "output_type": "stream",
     "text": [
      "\r",
      "112676it [05:19, 373.43it/s]"
     ]
    },
    {
     "name": "stderr",
     "output_type": "stream",
     "text": [
      "\r",
      "112714it [05:19, 371.67it/s]"
     ]
    },
    {
     "name": "stderr",
     "output_type": "stream",
     "text": [
      "\r",
      "112752it [05:19, 371.33it/s]"
     ]
    },
    {
     "name": "stderr",
     "output_type": "stream",
     "text": [
      "\r",
      "112791it [05:19, 376.64it/s]"
     ]
    },
    {
     "name": "stderr",
     "output_type": "stream",
     "text": [
      "\r",
      "112829it [05:19, 377.47it/s]"
     ]
    },
    {
     "name": "stderr",
     "output_type": "stream",
     "text": [
      "\r",
      "112867it [05:19, 373.13it/s]"
     ]
    },
    {
     "name": "stderr",
     "output_type": "stream",
     "text": [
      "\r",
      "112905it [05:19, 370.44it/s]"
     ]
    },
    {
     "name": "stderr",
     "output_type": "stream",
     "text": [
      "\r",
      "112943it [05:19, 370.75it/s]"
     ]
    },
    {
     "name": "stderr",
     "output_type": "stream",
     "text": [
      "\r",
      "112982it [05:19, 375.76it/s]"
     ]
    },
    {
     "name": "stderr",
     "output_type": "stream",
     "text": [
      "\r",
      "113020it [05:20, 372.45it/s]"
     ]
    },
    {
     "name": "stderr",
     "output_type": "stream",
     "text": [
      "\r",
      "113058it [05:20, 373.65it/s]"
     ]
    },
    {
     "name": "stderr",
     "output_type": "stream",
     "text": [
      "\r",
      "113096it [05:20, 369.06it/s]"
     ]
    },
    {
     "name": "stderr",
     "output_type": "stream",
     "text": [
      "\r",
      "113134it [05:20, 370.33it/s]"
     ]
    },
    {
     "name": "stderr",
     "output_type": "stream",
     "text": [
      "\r",
      "113172it [05:20, 371.09it/s]"
     ]
    },
    {
     "name": "stderr",
     "output_type": "stream",
     "text": [
      "\r",
      "113211it [05:20, 374.37it/s]"
     ]
    },
    {
     "name": "stderr",
     "output_type": "stream",
     "text": [
      "\r",
      "113250it [05:20, 374.93it/s]"
     ]
    },
    {
     "name": "stderr",
     "output_type": "stream",
     "text": [
      "\r",
      "113288it [05:20, 367.41it/s]"
     ]
    },
    {
     "name": "stderr",
     "output_type": "stream",
     "text": [
      "\r",
      "113326it [05:20, 369.08it/s]"
     ]
    },
    {
     "name": "stderr",
     "output_type": "stream",
     "text": [
      "\r",
      "113363it [05:20, 366.30it/s]"
     ]
    },
    {
     "name": "stderr",
     "output_type": "stream",
     "text": [
      "\r",
      "113401it [05:21, 368.09it/s]"
     ]
    },
    {
     "name": "stderr",
     "output_type": "stream",
     "text": [
      "\r",
      "113438it [05:21, 364.08it/s]"
     ]
    },
    {
     "name": "stderr",
     "output_type": "stream",
     "text": [
      "\r",
      "113475it [05:21, 364.62it/s]"
     ]
    },
    {
     "name": "stderr",
     "output_type": "stream",
     "text": [
      "\r",
      "113512it [05:21, 361.73it/s]"
     ]
    },
    {
     "name": "stderr",
     "output_type": "stream",
     "text": [
      "\r",
      "113549it [05:21, 360.26it/s]"
     ]
    },
    {
     "name": "stderr",
     "output_type": "stream",
     "text": [
      "\r",
      "113586it [05:21, 360.95it/s]"
     ]
    },
    {
     "name": "stderr",
     "output_type": "stream",
     "text": [
      "\r",
      "113625it [05:21, 367.20it/s]"
     ]
    },
    {
     "name": "stderr",
     "output_type": "stream",
     "text": [
      "\r",
      "113664it [05:21, 372.16it/s]"
     ]
    },
    {
     "name": "stderr",
     "output_type": "stream",
     "text": [
      "\r",
      "113702it [05:21, 372.11it/s]"
     ]
    },
    {
     "name": "stderr",
     "output_type": "stream",
     "text": [
      "\r",
      "113740it [05:21, 366.56it/s]"
     ]
    },
    {
     "name": "stderr",
     "output_type": "stream",
     "text": [
      "\r",
      "113777it [05:22, 363.95it/s]"
     ]
    },
    {
     "name": "stderr",
     "output_type": "stream",
     "text": [
      "\r",
      "113814it [05:22, 359.91it/s]"
     ]
    },
    {
     "name": "stderr",
     "output_type": "stream",
     "text": [
      "\r",
      "113852it [05:22, 364.46it/s]"
     ]
    },
    {
     "name": "stderr",
     "output_type": "stream",
     "text": [
      "\r",
      "113889it [05:22, 350.96it/s]"
     ]
    },
    {
     "name": "stderr",
     "output_type": "stream",
     "text": [
      "\r",
      "113925it [05:22, 347.83it/s]"
     ]
    },
    {
     "name": "stderr",
     "output_type": "stream",
     "text": [
      "\r",
      "113962it [05:22, 352.56it/s]"
     ]
    },
    {
     "name": "stderr",
     "output_type": "stream",
     "text": [
      "\r",
      "113998it [05:22, 353.70it/s]"
     ]
    },
    {
     "name": "stderr",
     "output_type": "stream",
     "text": [
      "\r",
      "114037it [05:22, 363.39it/s]"
     ]
    },
    {
     "name": "stderr",
     "output_type": "stream",
     "text": [
      "\r",
      "114076it [05:22, 369.64it/s]"
     ]
    },
    {
     "name": "stderr",
     "output_type": "stream",
     "text": [
      "\r",
      "114114it [05:23, 368.13it/s]"
     ]
    },
    {
     "name": "stderr",
     "output_type": "stream",
     "text": [
      "\r",
      "114151it [05:23, 366.80it/s]"
     ]
    },
    {
     "name": "stderr",
     "output_type": "stream",
     "text": [
      "\r",
      "114189it [05:23, 368.56it/s]"
     ]
    },
    {
     "name": "stderr",
     "output_type": "stream",
     "text": [
      "\r",
      "114226it [05:23, 365.19it/s]"
     ]
    },
    {
     "name": "stderr",
     "output_type": "stream",
     "text": [
      "\r",
      "114263it [05:23, 364.64it/s]"
     ]
    },
    {
     "name": "stderr",
     "output_type": "stream",
     "text": [
      "\r",
      "114301it [05:23, 368.40it/s]"
     ]
    },
    {
     "name": "stderr",
     "output_type": "stream",
     "text": [
      "\r",
      "114340it [05:23, 372.22it/s]"
     ]
    },
    {
     "name": "stderr",
     "output_type": "stream",
     "text": [
      "\r",
      "114379it [05:23, 374.84it/s]"
     ]
    },
    {
     "name": "stderr",
     "output_type": "stream",
     "text": [
      "\r",
      "114418it [05:23, 376.94it/s]"
     ]
    },
    {
     "name": "stderr",
     "output_type": "stream",
     "text": [
      "\r",
      "114456it [05:23, 374.39it/s]"
     ]
    },
    {
     "name": "stderr",
     "output_type": "stream",
     "text": [
      "\r",
      "114494it [05:24, 373.30it/s]"
     ]
    },
    {
     "name": "stderr",
     "output_type": "stream",
     "text": [
      "\r",
      "114532it [05:24, 372.07it/s]"
     ]
    },
    {
     "name": "stderr",
     "output_type": "stream",
     "text": [
      "\r",
      "114571it [05:24, 375.20it/s]"
     ]
    },
    {
     "name": "stderr",
     "output_type": "stream",
     "text": [
      "\r",
      "114609it [05:24, 374.52it/s]"
     ]
    },
    {
     "name": "stderr",
     "output_type": "stream",
     "text": [
      "\r",
      "114649it [05:24, 380.31it/s]"
     ]
    },
    {
     "name": "stderr",
     "output_type": "stream",
     "text": [
      "\r",
      "114688it [05:24, 378.06it/s]"
     ]
    },
    {
     "name": "stderr",
     "output_type": "stream",
     "text": [
      "\r",
      "114726it [05:24, 373.62it/s]"
     ]
    },
    {
     "name": "stderr",
     "output_type": "stream",
     "text": [
      "\r",
      "114764it [05:24, 367.91it/s]"
     ]
    },
    {
     "name": "stderr",
     "output_type": "stream",
     "text": [
      "\r",
      "114802it [05:24, 368.89it/s]"
     ]
    },
    {
     "name": "stderr",
     "output_type": "stream",
     "text": [
      "\r",
      "114840it [05:24, 370.40it/s]"
     ]
    },
    {
     "name": "stderr",
     "output_type": "stream",
     "text": [
      "\r",
      "114878it [05:25, 370.55it/s]"
     ]
    },
    {
     "name": "stderr",
     "output_type": "stream",
     "text": [
      "\r",
      "114916it [05:25, 366.61it/s]"
     ]
    },
    {
     "name": "stderr",
     "output_type": "stream",
     "text": [
      "\r",
      "114954it [05:25, 370.42it/s]"
     ]
    },
    {
     "name": "stderr",
     "output_type": "stream",
     "text": [
      "\r",
      "114992it [05:25, 371.51it/s]"
     ]
    },
    {
     "name": "stderr",
     "output_type": "stream",
     "text": [
      "\r",
      "115031it [05:25, 373.61it/s]"
     ]
    },
    {
     "name": "stderr",
     "output_type": "stream",
     "text": [
      "\r",
      "115070it [05:25, 377.92it/s]"
     ]
    },
    {
     "name": "stderr",
     "output_type": "stream",
     "text": [
      "\r",
      "115108it [05:25, 369.15it/s]"
     ]
    },
    {
     "name": "stderr",
     "output_type": "stream",
     "text": [
      "\r",
      "115145it [05:25, 365.16it/s]"
     ]
    },
    {
     "name": "stderr",
     "output_type": "stream",
     "text": [
      "\r",
      "115182it [05:25, 364.78it/s]"
     ]
    },
    {
     "name": "stderr",
     "output_type": "stream",
     "text": [
      "\r",
      "115219it [05:26, 361.76it/s]"
     ]
    },
    {
     "name": "stderr",
     "output_type": "stream",
     "text": [
      "\r",
      "115256it [05:26, 363.73it/s]"
     ]
    },
    {
     "name": "stderr",
     "output_type": "stream",
     "text": [
      "\r",
      "115293it [05:26, 362.07it/s]"
     ]
    },
    {
     "name": "stderr",
     "output_type": "stream",
     "text": [
      "\r",
      "115330it [05:26, 363.89it/s]"
     ]
    },
    {
     "name": "stderr",
     "output_type": "stream",
     "text": [
      "\r",
      "115367it [05:26, 363.42it/s]"
     ]
    },
    {
     "name": "stderr",
     "output_type": "stream",
     "text": [
      "\r",
      "115404it [05:26, 362.95it/s]"
     ]
    },
    {
     "name": "stderr",
     "output_type": "stream",
     "text": [
      "\r",
      "115442it [05:26, 366.21it/s]"
     ]
    },
    {
     "name": "stderr",
     "output_type": "stream",
     "text": [
      "\r",
      "115481it [05:26, 371.57it/s]"
     ]
    },
    {
     "name": "stderr",
     "output_type": "stream",
     "text": [
      "\r",
      "115521it [05:26, 378.45it/s]"
     ]
    },
    {
     "name": "stderr",
     "output_type": "stream",
     "text": [
      "\r",
      "115559it [05:26, 372.24it/s]"
     ]
    },
    {
     "name": "stderr",
     "output_type": "stream",
     "text": [
      "\r",
      "115597it [05:27, 372.04it/s]"
     ]
    },
    {
     "name": "stderr",
     "output_type": "stream",
     "text": [
      "\r",
      "115635it [05:27, 368.85it/s]"
     ]
    },
    {
     "name": "stderr",
     "output_type": "stream",
     "text": [
      "\r",
      "115672it [05:27, 366.08it/s]"
     ]
    },
    {
     "name": "stderr",
     "output_type": "stream",
     "text": [
      "\r",
      "115710it [05:27, 368.55it/s]"
     ]
    },
    {
     "name": "stderr",
     "output_type": "stream",
     "text": [
      "\r",
      "115747it [05:27, 354.54it/s]"
     ]
    },
    {
     "name": "stderr",
     "output_type": "stream",
     "text": [
      "\r",
      "115783it [05:27, 353.61it/s]"
     ]
    },
    {
     "name": "stderr",
     "output_type": "stream",
     "text": [
      "\r",
      "115822it [05:27, 362.14it/s]"
     ]
    },
    {
     "name": "stderr",
     "output_type": "stream",
     "text": [
      "\r",
      "115859it [05:27, 364.22it/s]"
     ]
    },
    {
     "name": "stderr",
     "output_type": "stream",
     "text": [
      "\r",
      "115896it [05:27, 362.85it/s]"
     ]
    },
    {
     "name": "stderr",
     "output_type": "stream",
     "text": [
      "\r",
      "115934it [05:27, 365.23it/s]"
     ]
    },
    {
     "name": "stderr",
     "output_type": "stream",
     "text": [
      "\r",
      "115972it [05:28, 369.56it/s]"
     ]
    },
    {
     "name": "stderr",
     "output_type": "stream",
     "text": [
      "\r",
      "116009it [05:28, 363.97it/s]"
     ]
    },
    {
     "name": "stderr",
     "output_type": "stream",
     "text": [
      "\r",
      "116046it [05:28, 358.47it/s]"
     ]
    },
    {
     "name": "stderr",
     "output_type": "stream",
     "text": [
      "\r",
      "116083it [05:28, 361.66it/s]"
     ]
    },
    {
     "name": "stderr",
     "output_type": "stream",
     "text": [
      "\r",
      "116121it [05:28, 365.35it/s]"
     ]
    },
    {
     "name": "stderr",
     "output_type": "stream",
     "text": [
      "\r",
      "116160it [05:28, 371.23it/s]"
     ]
    },
    {
     "name": "stderr",
     "output_type": "stream",
     "text": [
      "\r",
      "116199it [05:28, 374.96it/s]"
     ]
    },
    {
     "name": "stderr",
     "output_type": "stream",
     "text": [
      "\r",
      "116237it [05:28, 374.49it/s]"
     ]
    },
    {
     "name": "stderr",
     "output_type": "stream",
     "text": [
      "\r",
      "116275it [05:28, 367.37it/s]"
     ]
    },
    {
     "name": "stderr",
     "output_type": "stream",
     "text": [
      "\r",
      "116313it [05:28, 367.93it/s]"
     ]
    },
    {
     "name": "stderr",
     "output_type": "stream",
     "text": [
      "\r",
      "116351it [05:29, 368.74it/s]"
     ]
    },
    {
     "name": "stderr",
     "output_type": "stream",
     "text": [
      "\r",
      "116388it [05:29, 368.86it/s]"
     ]
    },
    {
     "name": "stderr",
     "output_type": "stream",
     "text": [
      "\r",
      "116426it [05:29, 370.34it/s]"
     ]
    },
    {
     "name": "stderr",
     "output_type": "stream",
     "text": [
      "\r",
      "116466it [05:29, 376.74it/s]"
     ]
    },
    {
     "name": "stderr",
     "output_type": "stream",
     "text": [
      "\r",
      "116504it [05:29, 369.66it/s]"
     ]
    },
    {
     "name": "stderr",
     "output_type": "stream",
     "text": [
      "\r",
      "116541it [05:29, 366.39it/s]"
     ]
    },
    {
     "name": "stderr",
     "output_type": "stream",
     "text": [
      "\r",
      "116578it [05:29, 364.02it/s]"
     ]
    },
    {
     "name": "stderr",
     "output_type": "stream",
     "text": [
      "\r",
      "116615it [05:29, 360.57it/s]"
     ]
    },
    {
     "name": "stderr",
     "output_type": "stream",
     "text": [
      "\r",
      "116654it [05:29, 367.71it/s]"
     ]
    },
    {
     "name": "stderr",
     "output_type": "stream",
     "text": [
      "\r",
      "116691it [05:30, 364.07it/s]"
     ]
    },
    {
     "name": "stderr",
     "output_type": "stream",
     "text": [
      "\r",
      "116729it [05:30, 366.90it/s]"
     ]
    },
    {
     "name": "stderr",
     "output_type": "stream",
     "text": [
      "\r",
      "116766it [05:30, 356.47it/s]"
     ]
    },
    {
     "name": "stderr",
     "output_type": "stream",
     "text": [
      "\r",
      "116804it [05:30, 361.32it/s]"
     ]
    },
    {
     "name": "stderr",
     "output_type": "stream",
     "text": [
      "\r",
      "116842it [05:30, 364.87it/s]"
     ]
    },
    {
     "name": "stderr",
     "output_type": "stream",
     "text": [
      "\r",
      "116880it [05:30, 368.14it/s]"
     ]
    },
    {
     "name": "stderr",
     "output_type": "stream",
     "text": [
      "\r",
      "116919it [05:30, 371.14it/s]"
     ]
    },
    {
     "name": "stderr",
     "output_type": "stream",
     "text": [
      "\r",
      "116957it [05:30, 366.49it/s]"
     ]
    },
    {
     "name": "stderr",
     "output_type": "stream",
     "text": [
      "\r",
      "116994it [05:30, 364.77it/s]"
     ]
    },
    {
     "name": "stderr",
     "output_type": "stream",
     "text": [
      "\r",
      "117031it [05:30, 361.12it/s]"
     ]
    },
    {
     "name": "stderr",
     "output_type": "stream",
     "text": [
      "\r",
      "117068it [05:31, 361.75it/s]"
     ]
    },
    {
     "name": "stderr",
     "output_type": "stream",
     "text": [
      "\r",
      "117105it [05:31, 363.49it/s]"
     ]
    },
    {
     "name": "stderr",
     "output_type": "stream",
     "text": [
      "\r",
      "117142it [05:31, 364.77it/s]"
     ]
    },
    {
     "name": "stderr",
     "output_type": "stream",
     "text": [
      "\r",
      "117179it [05:31, 359.74it/s]"
     ]
    },
    {
     "name": "stderr",
     "output_type": "stream",
     "text": [
      "\r",
      "117215it [05:31, 358.80it/s]"
     ]
    },
    {
     "name": "stderr",
     "output_type": "stream",
     "text": [
      "\r",
      "117252it [05:31, 360.48it/s]"
     ]
    },
    {
     "name": "stderr",
     "output_type": "stream",
     "text": [
      "\r",
      "117289it [05:31, 362.58it/s]"
     ]
    },
    {
     "name": "stderr",
     "output_type": "stream",
     "text": [
      "\r",
      "117326it [05:31, 360.71it/s]"
     ]
    },
    {
     "name": "stderr",
     "output_type": "stream",
     "text": [
      "\r",
      "117365it [05:31, 366.81it/s]"
     ]
    },
    {
     "name": "stderr",
     "output_type": "stream",
     "text": [
      "\r",
      "117402it [05:31, 358.80it/s]"
     ]
    },
    {
     "name": "stderr",
     "output_type": "stream",
     "text": [
      "\r",
      "117439it [05:32, 360.97it/s]"
     ]
    },
    {
     "name": "stderr",
     "output_type": "stream",
     "text": [
      "\r",
      "117476it [05:32, 357.26it/s]"
     ]
    },
    {
     "name": "stderr",
     "output_type": "stream",
     "text": [
      "\r",
      "117514it [05:32, 360.91it/s]"
     ]
    },
    {
     "name": "stderr",
     "output_type": "stream",
     "text": [
      "\r",
      "117551it [05:32, 355.65it/s]"
     ]
    },
    {
     "name": "stderr",
     "output_type": "stream",
     "text": [
      "\r",
      "117587it [05:32, 347.47it/s]"
     ]
    },
    {
     "name": "stderr",
     "output_type": "stream",
     "text": [
      "\r",
      "117623it [05:32, 350.91it/s]"
     ]
    },
    {
     "name": "stderr",
     "output_type": "stream",
     "text": [
      "\r",
      "117661it [05:32, 356.96it/s]"
     ]
    },
    {
     "name": "stderr",
     "output_type": "stream",
     "text": [
      "\r",
      "117699it [05:32, 362.84it/s]"
     ]
    },
    {
     "name": "stderr",
     "output_type": "stream",
     "text": [
      "\r",
      "117737it [05:32, 366.31it/s]"
     ]
    },
    {
     "name": "stderr",
     "output_type": "stream",
     "text": [
      "\r",
      "117776it [05:33, 371.57it/s]"
     ]
    },
    {
     "name": "stderr",
     "output_type": "stream",
     "text": [
      "\r",
      "117814it [05:33, 371.04it/s]"
     ]
    },
    {
     "name": "stderr",
     "output_type": "stream",
     "text": [
      "\r",
      "117852it [05:33, 370.93it/s]"
     ]
    },
    {
     "name": "stderr",
     "output_type": "stream",
     "text": [
      "\r",
      "117890it [05:33, 362.25it/s]"
     ]
    },
    {
     "name": "stderr",
     "output_type": "stream",
     "text": [
      "\r",
      "117927it [05:33, 359.71it/s]"
     ]
    },
    {
     "name": "stderr",
     "output_type": "stream",
     "text": [
      "\r",
      "117964it [05:33, 361.23it/s]"
     ]
    },
    {
     "name": "stderr",
     "output_type": "stream",
     "text": [
      "\r",
      "118002it [05:33, 363.48it/s]"
     ]
    },
    {
     "name": "stderr",
     "output_type": "stream",
     "text": [
      "\r",
      "118039it [05:33, 364.06it/s]"
     ]
    },
    {
     "name": "stderr",
     "output_type": "stream",
     "text": [
      "\r",
      "118078it [05:33, 370.23it/s]"
     ]
    },
    {
     "name": "stderr",
     "output_type": "stream",
     "text": [
      "\r",
      "118116it [05:33, 371.96it/s]"
     ]
    },
    {
     "name": "stderr",
     "output_type": "stream",
     "text": [
      "\r",
      "118154it [05:34, 366.32it/s]"
     ]
    },
    {
     "name": "stderr",
     "output_type": "stream",
     "text": [
      "\r",
      "118191it [05:34, 366.26it/s]"
     ]
    },
    {
     "name": "stderr",
     "output_type": "stream",
     "text": [
      "\r",
      "118229it [05:34, 367.78it/s]"
     ]
    },
    {
     "name": "stderr",
     "output_type": "stream",
     "text": [
      "\r",
      "118267it [05:34, 369.54it/s]"
     ]
    },
    {
     "name": "stderr",
     "output_type": "stream",
     "text": [
      "\r",
      "118305it [05:34, 370.21it/s]"
     ]
    },
    {
     "name": "stderr",
     "output_type": "stream",
     "text": [
      "\r",
      "118345it [05:34, 375.53it/s]"
     ]
    },
    {
     "name": "stderr",
     "output_type": "stream",
     "text": [
      "\r",
      "118384it [05:34, 375.92it/s]"
     ]
    },
    {
     "name": "stderr",
     "output_type": "stream",
     "text": [
      "\r",
      "118422it [05:34, 370.35it/s]"
     ]
    },
    {
     "name": "stderr",
     "output_type": "stream",
     "text": [
      "\r",
      "118460it [05:34, 367.61it/s]"
     ]
    },
    {
     "name": "stderr",
     "output_type": "stream",
     "text": [
      "\r",
      "118497it [05:34, 367.70it/s]"
     ]
    },
    {
     "name": "stderr",
     "output_type": "stream",
     "text": [
      "\r",
      "118535it [05:35, 371.00it/s]"
     ]
    },
    {
     "name": "stderr",
     "output_type": "stream",
     "text": [
      "\r",
      "118573it [05:35, 365.70it/s]"
     ]
    },
    {
     "name": "stderr",
     "output_type": "stream",
     "text": [
      "\r",
      "118610it [05:35, 365.91it/s]"
     ]
    },
    {
     "name": "stderr",
     "output_type": "stream",
     "text": [
      "\r",
      "118648it [05:35, 369.70it/s]"
     ]
    },
    {
     "name": "stderr",
     "output_type": "stream",
     "text": [
      "\r",
      "118687it [05:35, 373.77it/s]"
     ]
    },
    {
     "name": "stderr",
     "output_type": "stream",
     "text": [
      "\r",
      "118726it [05:35, 376.20it/s]"
     ]
    },
    {
     "name": "stderr",
     "output_type": "stream",
     "text": [
      "\r",
      "118764it [05:35, 371.75it/s]"
     ]
    },
    {
     "name": "stderr",
     "output_type": "stream",
     "text": [
      "\r",
      "118803it [05:35, 375.62it/s]"
     ]
    },
    {
     "name": "stderr",
     "output_type": "stream",
     "text": [
      "\r",
      "118841it [05:35, 367.81it/s]"
     ]
    },
    {
     "name": "stderr",
     "output_type": "stream",
     "text": [
      "\r",
      "118878it [05:36, 362.95it/s]"
     ]
    },
    {
     "name": "stderr",
     "output_type": "stream",
     "text": [
      "\r",
      "118915it [05:36, 356.79it/s]"
     ]
    },
    {
     "name": "stderr",
     "output_type": "stream",
     "text": [
      "\r",
      "118951it [05:36, 354.20it/s]"
     ]
    },
    {
     "name": "stderr",
     "output_type": "stream",
     "text": [
      "\r",
      "118989it [05:36, 360.34it/s]"
     ]
    },
    {
     "name": "stderr",
     "output_type": "stream",
     "text": [
      "\r",
      "119026it [05:36, 358.14it/s]"
     ]
    },
    {
     "name": "stderr",
     "output_type": "stream",
     "text": [
      "\r",
      "119062it [05:36, 352.14it/s]"
     ]
    },
    {
     "name": "stderr",
     "output_type": "stream",
     "text": [
      "\r",
      "119098it [05:36, 351.65it/s]"
     ]
    },
    {
     "name": "stderr",
     "output_type": "stream",
     "text": [
      "\r",
      "119134it [05:36, 351.72it/s]"
     ]
    },
    {
     "name": "stderr",
     "output_type": "stream",
     "text": [
      "\r",
      "119170it [05:36, 353.94it/s]"
     ]
    },
    {
     "name": "stderr",
     "output_type": "stream",
     "text": [
      "\r",
      "119208it [05:36, 359.98it/s]"
     ]
    },
    {
     "name": "stderr",
     "output_type": "stream",
     "text": [
      "\r",
      "119245it [05:37, 361.18it/s]"
     ]
    },
    {
     "name": "stderr",
     "output_type": "stream",
     "text": [
      "\r",
      "119282it [05:37, 356.02it/s]"
     ]
    },
    {
     "name": "stderr",
     "output_type": "stream",
     "text": [
      "\r",
      "119318it [05:37, 351.86it/s]"
     ]
    },
    {
     "name": "stderr",
     "output_type": "stream",
     "text": [
      "\r",
      "119354it [05:37, 350.47it/s]"
     ]
    },
    {
     "name": "stderr",
     "output_type": "stream",
     "text": [
      "\r",
      "119391it [05:37, 353.16it/s]"
     ]
    },
    {
     "name": "stderr",
     "output_type": "stream",
     "text": [
      "\r",
      "119427it [05:37, 352.92it/s]"
     ]
    },
    {
     "name": "stderr",
     "output_type": "stream",
     "text": [
      "\r",
      "119463it [05:37, 338.99it/s]"
     ]
    },
    {
     "name": "stderr",
     "output_type": "stream",
     "text": [
      "\r",
      "119498it [05:37, 341.39it/s]"
     ]
    },
    {
     "name": "stderr",
     "output_type": "stream",
     "text": [
      "\r",
      "119536it [05:37, 352.14it/s]"
     ]
    },
    {
     "name": "stderr",
     "output_type": "stream",
     "text": [
      "\r",
      "119572it [05:37, 352.97it/s]"
     ]
    },
    {
     "name": "stderr",
     "output_type": "stream",
     "text": [
      "\r",
      "119610it [05:38, 359.67it/s]"
     ]
    },
    {
     "name": "stderr",
     "output_type": "stream",
     "text": [
      "\r",
      "119647it [05:38, 358.03it/s]"
     ]
    },
    {
     "name": "stderr",
     "output_type": "stream",
     "text": [
      "\r",
      "119683it [05:38, 357.87it/s]"
     ]
    },
    {
     "name": "stderr",
     "output_type": "stream",
     "text": [
      "\r",
      "119722it [05:38, 364.72it/s]"
     ]
    },
    {
     "name": "stderr",
     "output_type": "stream",
     "text": [
      "\r",
      "119759it [05:38, 359.38it/s]"
     ]
    },
    {
     "name": "stderr",
     "output_type": "stream",
     "text": [
      "\r",
      "119795it [05:38, 357.51it/s]"
     ]
    },
    {
     "name": "stderr",
     "output_type": "stream",
     "text": [
      "\r",
      "119832it [05:38, 359.52it/s]"
     ]
    },
    {
     "name": "stderr",
     "output_type": "stream",
     "text": [
      "\r",
      "119868it [05:38, 355.95it/s]"
     ]
    },
    {
     "name": "stderr",
     "output_type": "stream",
     "text": [
      "\r",
      "119905it [05:38, 357.26it/s]"
     ]
    },
    {
     "name": "stderr",
     "output_type": "stream",
     "text": [
      "\r",
      "119942it [05:39, 358.53it/s]"
     ]
    },
    {
     "name": "stderr",
     "output_type": "stream",
     "text": [
      "\r",
      "119984it [05:39, 375.85it/s]"
     ]
    },
    {
     "name": "stderr",
     "output_type": "stream",
     "text": [
      "\r",
      "120022it [05:39, 372.53it/s]"
     ]
    },
    {
     "name": "stderr",
     "output_type": "stream",
     "text": [
      "\r",
      "120060it [05:39, 366.35it/s]"
     ]
    },
    {
     "name": "stderr",
     "output_type": "stream",
     "text": [
      "\r",
      "120097it [05:39, 360.71it/s]"
     ]
    },
    {
     "name": "stderr",
     "output_type": "stream",
     "text": [
      "\r",
      "120134it [05:39, 361.04it/s]"
     ]
    },
    {
     "name": "stderr",
     "output_type": "stream",
     "text": [
      "\r",
      "120172it [05:39, 364.09it/s]"
     ]
    },
    {
     "name": "stderr",
     "output_type": "stream",
     "text": [
      "\r",
      "120209it [05:39, 363.08it/s]"
     ]
    },
    {
     "name": "stderr",
     "output_type": "stream",
     "text": [
      "\r",
      "120247it [05:39, 366.60it/s]"
     ]
    },
    {
     "name": "stderr",
     "output_type": "stream",
     "text": [
      "\r",
      "120284it [05:39, 366.72it/s]"
     ]
    },
    {
     "name": "stderr",
     "output_type": "stream",
     "text": [
      "\r",
      "120321it [05:40, 358.90it/s]"
     ]
    },
    {
     "name": "stderr",
     "output_type": "stream",
     "text": [
      "\r",
      "120357it [05:40, 354.17it/s]"
     ]
    },
    {
     "name": "stderr",
     "output_type": "stream",
     "text": [
      "\r",
      "120393it [05:40, 354.86it/s]"
     ]
    },
    {
     "name": "stderr",
     "output_type": "stream",
     "text": [
      "\r",
      "120430it [05:40, 358.25it/s]"
     ]
    },
    {
     "name": "stderr",
     "output_type": "stream",
     "text": [
      "\r",
      "120466it [05:40, 357.90it/s]"
     ]
    },
    {
     "name": "stderr",
     "output_type": "stream",
     "text": [
      "\r",
      "120503it [05:40, 355.49it/s]"
     ]
    },
    {
     "name": "stderr",
     "output_type": "stream",
     "text": [
      "\r",
      "120541it [05:40, 360.85it/s]"
     ]
    },
    {
     "name": "stderr",
     "output_type": "stream",
     "text": [
      "\r",
      "120579it [05:40, 365.73it/s]"
     ]
    },
    {
     "name": "stderr",
     "output_type": "stream",
     "text": [
      "\r",
      "120616it [05:40, 362.82it/s]"
     ]
    },
    {
     "name": "stderr",
     "output_type": "stream",
     "text": [
      "\r",
      "120654it [05:40, 366.06it/s]"
     ]
    },
    {
     "name": "stderr",
     "output_type": "stream",
     "text": [
      "\r",
      "120692it [05:41, 368.20it/s]"
     ]
    },
    {
     "name": "stderr",
     "output_type": "stream",
     "text": [
      "\r",
      "120729it [05:41, 364.09it/s]"
     ]
    },
    {
     "name": "stderr",
     "output_type": "stream",
     "text": [
      "\r",
      "120766it [05:41, 354.06it/s]"
     ]
    },
    {
     "name": "stderr",
     "output_type": "stream",
     "text": [
      "\r",
      "120802it [05:41, 352.85it/s]"
     ]
    },
    {
     "name": "stderr",
     "output_type": "stream",
     "text": [
      "\r",
      "120838it [05:41, 353.54it/s]"
     ]
    },
    {
     "name": "stderr",
     "output_type": "stream",
     "text": [
      "\r",
      "120874it [05:41, 352.54it/s]"
     ]
    },
    {
     "name": "stderr",
     "output_type": "stream",
     "text": [
      "\r",
      "120910it [05:41, 350.28it/s]"
     ]
    },
    {
     "name": "stderr",
     "output_type": "stream",
     "text": [
      "\r",
      "120946it [05:41, 351.11it/s]"
     ]
    },
    {
     "name": "stderr",
     "output_type": "stream",
     "text": [
      "\r",
      "120982it [05:41, 349.93it/s]"
     ]
    },
    {
     "name": "stderr",
     "output_type": "stream",
     "text": [
      "\r",
      "121018it [05:42, 351.01it/s]"
     ]
    },
    {
     "name": "stderr",
     "output_type": "stream",
     "text": [
      "\r",
      "121054it [05:42, 351.84it/s]"
     ]
    },
    {
     "name": "stderr",
     "output_type": "stream",
     "text": [
      "\r",
      "121092it [05:42, 359.11it/s]"
     ]
    },
    {
     "name": "stderr",
     "output_type": "stream",
     "text": [
      "\r",
      "121130it [05:42, 363.51it/s]"
     ]
    },
    {
     "name": "stderr",
     "output_type": "stream",
     "text": [
      "\r",
      "121167it [05:42, 359.51it/s]"
     ]
    },
    {
     "name": "stderr",
     "output_type": "stream",
     "text": [
      "\r",
      "121203it [05:42, 358.67it/s]"
     ]
    },
    {
     "name": "stderr",
     "output_type": "stream",
     "text": [
      "\r",
      "121239it [05:42, 354.92it/s]"
     ]
    },
    {
     "name": "stderr",
     "output_type": "stream",
     "text": [
      "\r",
      "121275it [05:42, 350.45it/s]"
     ]
    },
    {
     "name": "stderr",
     "output_type": "stream",
     "text": [
      "\r",
      "121311it [05:42, 350.55it/s]"
     ]
    },
    {
     "name": "stderr",
     "output_type": "stream",
     "text": [
      "\r",
      "121347it [05:42, 337.90it/s]"
     ]
    },
    {
     "name": "stderr",
     "output_type": "stream",
     "text": [
      "\r",
      "121382it [05:43, 339.52it/s]"
     ]
    },
    {
     "name": "stderr",
     "output_type": "stream",
     "text": [
      "\r",
      "121419it [05:43, 347.75it/s]"
     ]
    },
    {
     "name": "stderr",
     "output_type": "stream",
     "text": [
      "\r",
      "121455it [05:43, 350.51it/s]"
     ]
    },
    {
     "name": "stderr",
     "output_type": "stream",
     "text": [
      "\r",
      "121491it [05:43, 352.15it/s]"
     ]
    },
    {
     "name": "stderr",
     "output_type": "stream",
     "text": [
      "\r",
      "121529it [05:43, 358.22it/s]"
     ]
    },
    {
     "name": "stderr",
     "output_type": "stream",
     "text": [
      "\r",
      "121566it [05:43, 359.44it/s]"
     ]
    },
    {
     "name": "stderr",
     "output_type": "stream",
     "text": [
      "\r",
      "121602it [05:43, 358.21it/s]"
     ]
    },
    {
     "name": "stderr",
     "output_type": "stream",
     "text": [
      "\r",
      "121638it [05:43, 357.46it/s]"
     ]
    },
    {
     "name": "stderr",
     "output_type": "stream",
     "text": [
      "\r",
      "121675it [05:43, 360.62it/s]"
     ]
    },
    {
     "name": "stderr",
     "output_type": "stream",
     "text": [
      "\r",
      "121712it [05:43, 359.01it/s]"
     ]
    },
    {
     "name": "stderr",
     "output_type": "stream",
     "text": [
      "\r",
      "121748it [05:44, 356.39it/s]"
     ]
    },
    {
     "name": "stderr",
     "output_type": "stream",
     "text": [
      "\r",
      "121784it [05:44, 354.98it/s]"
     ]
    },
    {
     "name": "stderr",
     "output_type": "stream",
     "text": [
      "\r",
      "121821it [05:44, 355.90it/s]"
     ]
    },
    {
     "name": "stderr",
     "output_type": "stream",
     "text": [
      "\r",
      "121859it [05:44, 362.47it/s]"
     ]
    },
    {
     "name": "stderr",
     "output_type": "stream",
     "text": [
      "\r",
      "121901it [05:44, 378.86it/s]"
     ]
    },
    {
     "name": "stderr",
     "output_type": "stream",
     "text": [
      "\r",
      "121939it [05:44, 376.38it/s]"
     ]
    },
    {
     "name": "stderr",
     "output_type": "stream",
     "text": [
      "\r",
      "121977it [05:44, 369.43it/s]"
     ]
    },
    {
     "name": "stderr",
     "output_type": "stream",
     "text": [
      "\r",
      "122014it [05:44, 364.99it/s]"
     ]
    },
    {
     "name": "stderr",
     "output_type": "stream",
     "text": [
      "\r",
      "122051it [05:44, 362.77it/s]"
     ]
    },
    {
     "name": "stderr",
     "output_type": "stream",
     "text": [
      "\r",
      "122089it [05:44, 366.94it/s]"
     ]
    },
    {
     "name": "stderr",
     "output_type": "stream",
     "text": [
      "\r",
      "122126it [05:45, 366.45it/s]"
     ]
    },
    {
     "name": "stderr",
     "output_type": "stream",
     "text": [
      "\r",
      "122163it [05:45, 359.23it/s]"
     ]
    },
    {
     "name": "stderr",
     "output_type": "stream",
     "text": [
      "\r",
      "122199it [05:45, 359.30it/s]"
     ]
    },
    {
     "name": "stderr",
     "output_type": "stream",
     "text": [
      "\r",
      "122235it [05:45, 352.53it/s]"
     ]
    },
    {
     "name": "stderr",
     "output_type": "stream",
     "text": [
      "\r",
      "122272it [05:45, 355.59it/s]"
     ]
    },
    {
     "name": "stderr",
     "output_type": "stream",
     "text": [
      "\r",
      "122308it [05:45, 356.80it/s]"
     ]
    },
    {
     "name": "stderr",
     "output_type": "stream",
     "text": [
      "\r",
      "122344it [05:45, 354.45it/s]"
     ]
    },
    {
     "name": "stderr",
     "output_type": "stream",
     "text": [
      "\r",
      "122381it [05:45, 357.05it/s]"
     ]
    },
    {
     "name": "stderr",
     "output_type": "stream",
     "text": [
      "\r",
      "122418it [05:45, 360.05it/s]"
     ]
    },
    {
     "name": "stderr",
     "output_type": "stream",
     "text": [
      "\r",
      "122456it [05:46, 363.70it/s]"
     ]
    },
    {
     "name": "stderr",
     "output_type": "stream",
     "text": [
      "\r",
      "122493it [05:46, 364.28it/s]"
     ]
    },
    {
     "name": "stderr",
     "output_type": "stream",
     "text": [
      "\r",
      "122530it [05:46, 364.51it/s]"
     ]
    },
    {
     "name": "stderr",
     "output_type": "stream",
     "text": [
      "\r",
      "122567it [05:46, 365.02it/s]"
     ]
    },
    {
     "name": "stderr",
     "output_type": "stream",
     "text": [
      "\r",
      "122604it [05:46, 358.91it/s]"
     ]
    },
    {
     "name": "stderr",
     "output_type": "stream",
     "text": [
      "\r",
      "122640it [05:46, 359.13it/s]"
     ]
    },
    {
     "name": "stderr",
     "output_type": "stream",
     "text": [
      "\r",
      "122676it [05:46, 356.74it/s]"
     ]
    },
    {
     "name": "stderr",
     "output_type": "stream",
     "text": [
      "\r",
      "122712it [05:46, 352.74it/s]"
     ]
    },
    {
     "name": "stderr",
     "output_type": "stream",
     "text": [
      "\r",
      "122750it [05:46, 358.89it/s]"
     ]
    },
    {
     "name": "stderr",
     "output_type": "stream",
     "text": [
      "\r",
      "122786it [05:46, 358.96it/s]"
     ]
    },
    {
     "name": "stderr",
     "output_type": "stream",
     "text": [
      "\r",
      "122822it [05:47, 355.00it/s]"
     ]
    },
    {
     "name": "stderr",
     "output_type": "stream",
     "text": [
      "\r",
      "122858it [05:47, 353.12it/s]"
     ]
    },
    {
     "name": "stderr",
     "output_type": "stream",
     "text": [
      "\r",
      "122894it [05:47, 348.83it/s]"
     ]
    },
    {
     "name": "stderr",
     "output_type": "stream",
     "text": [
      "\r",
      "122931it [05:47, 353.72it/s]"
     ]
    },
    {
     "name": "stderr",
     "output_type": "stream",
     "text": [
      "\r",
      "122969it [05:47, 361.38it/s]"
     ]
    },
    {
     "name": "stderr",
     "output_type": "stream",
     "text": [
      "\r",
      "123007it [05:47, 365.81it/s]"
     ]
    },
    {
     "name": "stderr",
     "output_type": "stream",
     "text": [
      "\r",
      "123044it [05:47, 357.61it/s]"
     ]
    },
    {
     "name": "stderr",
     "output_type": "stream",
     "text": [
      "\r",
      "123080it [05:47, 357.13it/s]"
     ]
    },
    {
     "name": "stderr",
     "output_type": "stream",
     "text": [
      "\r",
      "123116it [05:47, 354.94it/s]"
     ]
    },
    {
     "name": "stderr",
     "output_type": "stream",
     "text": [
      "\r",
      "123152it [05:47, 353.11it/s]"
     ]
    },
    {
     "name": "stderr",
     "output_type": "stream",
     "text": [
      "\r",
      "123188it [05:48, 351.96it/s]"
     ]
    },
    {
     "name": "stderr",
     "output_type": "stream",
     "text": [
      "\r",
      "123224it [05:48, 331.83it/s]"
     ]
    },
    {
     "name": "stderr",
     "output_type": "stream",
     "text": [
      "\r",
      "123258it [05:48, 325.05it/s]"
     ]
    },
    {
     "name": "stderr",
     "output_type": "stream",
     "text": [
      "\r",
      "123291it [05:48, 317.77it/s]"
     ]
    },
    {
     "name": "stderr",
     "output_type": "stream",
     "text": [
      "\r",
      "123326it [05:48, 325.31it/s]"
     ]
    },
    {
     "name": "stderr",
     "output_type": "stream",
     "text": [
      "\r",
      "123361it [05:48, 330.94it/s]"
     ]
    },
    {
     "name": "stderr",
     "output_type": "stream",
     "text": [
      "\r",
      "123395it [05:48, 332.94it/s]"
     ]
    },
    {
     "name": "stderr",
     "output_type": "stream",
     "text": [
      "\r",
      "123429it [05:48, 330.62it/s]"
     ]
    },
    {
     "name": "stderr",
     "output_type": "stream",
     "text": [
      "\r",
      "123463it [05:48, 327.69it/s]"
     ]
    },
    {
     "name": "stderr",
     "output_type": "stream",
     "text": [
      "\r",
      "123498it [05:49, 332.86it/s]"
     ]
    },
    {
     "name": "stderr",
     "output_type": "stream",
     "text": [
      "\r",
      "123532it [05:49, 332.24it/s]"
     ]
    },
    {
     "name": "stderr",
     "output_type": "stream",
     "text": [
      "\r",
      "123566it [05:49, 326.46it/s]"
     ]
    },
    {
     "name": "stderr",
     "output_type": "stream",
     "text": [
      "\r",
      "123600it [05:49, 329.07it/s]"
     ]
    },
    {
     "name": "stderr",
     "output_type": "stream",
     "text": [
      "\r",
      "123633it [05:49, 325.01it/s]"
     ]
    },
    {
     "name": "stderr",
     "output_type": "stream",
     "text": [
      "\r",
      "123667it [05:49, 327.95it/s]"
     ]
    },
    {
     "name": "stderr",
     "output_type": "stream",
     "text": [
      "\r",
      "123700it [05:49, 327.23it/s]"
     ]
    },
    {
     "name": "stderr",
     "output_type": "stream",
     "text": [
      "\r",
      "123737it [05:49, 337.63it/s]"
     ]
    },
    {
     "name": "stderr",
     "output_type": "stream",
     "text": [
      "\r",
      "123773it [05:49, 341.69it/s]"
     ]
    },
    {
     "name": "stderr",
     "output_type": "stream",
     "text": [
      "\r",
      "123808it [05:49, 340.88it/s]"
     ]
    },
    {
     "name": "stderr",
     "output_type": "stream",
     "text": [
      "\r",
      "123843it [05:50, 330.06it/s]"
     ]
    },
    {
     "name": "stderr",
     "output_type": "stream",
     "text": [
      "\r",
      "123877it [05:50, 329.33it/s]"
     ]
    },
    {
     "name": "stderr",
     "output_type": "stream",
     "text": [
      "\r",
      "123910it [05:50, 322.61it/s]"
     ]
    },
    {
     "name": "stderr",
     "output_type": "stream",
     "text": [
      "\r",
      "123943it [05:50, 318.31it/s]"
     ]
    },
    {
     "name": "stderr",
     "output_type": "stream",
     "text": [
      "\r",
      "123975it [05:50, 314.82it/s]"
     ]
    },
    {
     "name": "stderr",
     "output_type": "stream",
     "text": [
      "\r",
      "124007it [05:50, 314.85it/s]"
     ]
    },
    {
     "name": "stderr",
     "output_type": "stream",
     "text": [
      "\r",
      "124039it [05:50, 309.75it/s]"
     ]
    },
    {
     "name": "stderr",
     "output_type": "stream",
     "text": [
      "\r",
      "124071it [05:50, 312.17it/s]"
     ]
    },
    {
     "name": "stderr",
     "output_type": "stream",
     "text": [
      "\r",
      "124103it [05:50, 314.15it/s]"
     ]
    },
    {
     "name": "stderr",
     "output_type": "stream",
     "text": [
      "\r",
      "124135it [05:51, 311.83it/s]"
     ]
    },
    {
     "name": "stderr",
     "output_type": "stream",
     "text": [
      "\r",
      "124168it [05:51, 316.15it/s]"
     ]
    },
    {
     "name": "stderr",
     "output_type": "stream",
     "text": [
      "\r",
      "124200it [05:51, 315.79it/s]"
     ]
    },
    {
     "name": "stderr",
     "output_type": "stream",
     "text": [
      "\r",
      "124232it [05:51, 314.33it/s]"
     ]
    },
    {
     "name": "stderr",
     "output_type": "stream",
     "text": [
      "\r",
      "124265it [05:51, 317.81it/s]"
     ]
    },
    {
     "name": "stderr",
     "output_type": "stream",
     "text": [
      "\r",
      "124297it [05:51, 317.91it/s]"
     ]
    },
    {
     "name": "stderr",
     "output_type": "stream",
     "text": [
      "\r",
      "124330it [05:51, 319.71it/s]"
     ]
    },
    {
     "name": "stderr",
     "output_type": "stream",
     "text": [
      "\r",
      "124364it [05:51, 322.49it/s]"
     ]
    },
    {
     "name": "stderr",
     "output_type": "stream",
     "text": [
      "\r",
      "124397it [05:51, 324.34it/s]"
     ]
    },
    {
     "name": "stderr",
     "output_type": "stream",
     "text": [
      "\r",
      "124430it [05:51, 319.84it/s]"
     ]
    },
    {
     "name": "stderr",
     "output_type": "stream",
     "text": [
      "\r",
      "124463it [05:52, 314.96it/s]"
     ]
    },
    {
     "name": "stderr",
     "output_type": "stream",
     "text": [
      "\r",
      "124495it [05:52, 314.04it/s]"
     ]
    },
    {
     "name": "stderr",
     "output_type": "stream",
     "text": [
      "\r",
      "124527it [05:52, 310.56it/s]"
     ]
    },
    {
     "name": "stderr",
     "output_type": "stream",
     "text": [
      "\r",
      "124559it [05:52, 306.67it/s]"
     ]
    },
    {
     "name": "stderr",
     "output_type": "stream",
     "text": [
      "\r",
      "124592it [05:52, 311.50it/s]"
     ]
    },
    {
     "name": "stderr",
     "output_type": "stream",
     "text": [
      "\r",
      "124624it [05:52, 310.64it/s]"
     ]
    },
    {
     "name": "stderr",
     "output_type": "stream",
     "text": [
      "\r",
      "124656it [05:52, 312.93it/s]"
     ]
    },
    {
     "name": "stderr",
     "output_type": "stream",
     "text": [
      "\r",
      "124688it [05:52, 308.87it/s]"
     ]
    },
    {
     "name": "stderr",
     "output_type": "stream",
     "text": [
      "\r",
      "124719it [05:52, 305.57it/s]"
     ]
    },
    {
     "name": "stderr",
     "output_type": "stream",
     "text": [
      "\r",
      "124750it [05:52, 302.47it/s]"
     ]
    },
    {
     "name": "stderr",
     "output_type": "stream",
     "text": [
      "\r",
      "124782it [05:53, 306.54it/s]"
     ]
    },
    {
     "name": "stderr",
     "output_type": "stream",
     "text": [
      "\r",
      "124815it [05:53, 311.95it/s]"
     ]
    },
    {
     "name": "stderr",
     "output_type": "stream",
     "text": [
      "\r",
      "124847it [05:53, 312.89it/s]"
     ]
    },
    {
     "name": "stderr",
     "output_type": "stream",
     "text": [
      "\r",
      "124879it [05:53, 309.76it/s]"
     ]
    },
    {
     "name": "stderr",
     "output_type": "stream",
     "text": [
      "\r",
      "124911it [05:53, 311.91it/s]"
     ]
    },
    {
     "name": "stderr",
     "output_type": "stream",
     "text": [
      "\r",
      "124943it [05:53, 311.39it/s]"
     ]
    },
    {
     "name": "stderr",
     "output_type": "stream",
     "text": [
      "\r",
      "124975it [05:53, 308.89it/s]"
     ]
    },
    {
     "name": "stderr",
     "output_type": "stream",
     "text": [
      "\r",
      "125007it [05:53, 310.96it/s]"
     ]
    },
    {
     "name": "stderr",
     "output_type": "stream",
     "text": [
      "\r",
      "125039it [05:53, 310.03it/s]"
     ]
    },
    {
     "name": "stderr",
     "output_type": "stream",
     "text": [
      "\r",
      "125071it [05:54, 295.25it/s]"
     ]
    },
    {
     "name": "stderr",
     "output_type": "stream",
     "text": [
      "\r",
      "125104it [05:54, 303.40it/s]"
     ]
    },
    {
     "name": "stderr",
     "output_type": "stream",
     "text": [
      "\r",
      "125137it [05:54, 307.91it/s]"
     ]
    },
    {
     "name": "stderr",
     "output_type": "stream",
     "text": [
      "\r",
      "125170it [05:54, 314.22it/s]"
     ]
    },
    {
     "name": "stderr",
     "output_type": "stream",
     "text": [
      "\r",
      "125202it [05:54, 313.65it/s]"
     ]
    },
    {
     "name": "stderr",
     "output_type": "stream",
     "text": [
      "\r",
      "125235it [05:54, 316.26it/s]"
     ]
    },
    {
     "name": "stderr",
     "output_type": "stream",
     "text": [
      "\r",
      "125268it [05:54, 319.92it/s]"
     ]
    },
    {
     "name": "stderr",
     "output_type": "stream",
     "text": [
      "\r",
      "125301it [05:54, 316.91it/s]"
     ]
    },
    {
     "name": "stderr",
     "output_type": "stream",
     "text": [
      "\r",
      "125334it [05:54, 319.10it/s]"
     ]
    },
    {
     "name": "stderr",
     "output_type": "stream",
     "text": [
      "\r",
      "125367it [05:54, 319.79it/s]"
     ]
    },
    {
     "name": "stderr",
     "output_type": "stream",
     "text": [
      "\r",
      "125399it [05:55, 318.30it/s]"
     ]
    },
    {
     "name": "stderr",
     "output_type": "stream",
     "text": [
      "\r",
      "125431it [05:55, 316.33it/s]"
     ]
    },
    {
     "name": "stderr",
     "output_type": "stream",
     "text": [
      "\r",
      "125463it [05:55, 314.21it/s]"
     ]
    },
    {
     "name": "stderr",
     "output_type": "stream",
     "text": [
      "\r",
      "125495it [05:55, 314.52it/s]"
     ]
    },
    {
     "name": "stderr",
     "output_type": "stream",
     "text": [
      "\r",
      "125527it [05:55, 315.12it/s]"
     ]
    },
    {
     "name": "stderr",
     "output_type": "stream",
     "text": [
      "\r",
      "125559it [05:55, 312.52it/s]"
     ]
    },
    {
     "name": "stderr",
     "output_type": "stream",
     "text": [
      "\r",
      "125596it [05:55, 328.38it/s]"
     ]
    },
    {
     "name": "stderr",
     "output_type": "stream",
     "text": [
      "\r",
      "125631it [05:55, 333.06it/s]"
     ]
    },
    {
     "name": "stderr",
     "output_type": "stream",
     "text": [
      "\r",
      "125665it [05:55, 333.42it/s]"
     ]
    },
    {
     "name": "stderr",
     "output_type": "stream",
     "text": [
      "\r",
      "125699it [05:55, 328.19it/s]"
     ]
    },
    {
     "name": "stderr",
     "output_type": "stream",
     "text": [
      "\r",
      "125732it [05:56, 326.58it/s]"
     ]
    },
    {
     "name": "stderr",
     "output_type": "stream",
     "text": [
      "\r",
      "125765it [05:56, 326.45it/s]"
     ]
    },
    {
     "name": "stderr",
     "output_type": "stream",
     "text": [
      "\r",
      "125798it [05:56, 323.62it/s]"
     ]
    },
    {
     "name": "stderr",
     "output_type": "stream",
     "text": [
      "\r",
      "125831it [05:56, 320.80it/s]"
     ]
    },
    {
     "name": "stderr",
     "output_type": "stream",
     "text": [
      "\r",
      "125864it [05:56, 322.70it/s]"
     ]
    },
    {
     "name": "stderr",
     "output_type": "stream",
     "text": [
      "\r",
      "125897it [05:56, 317.97it/s]"
     ]
    },
    {
     "name": "stderr",
     "output_type": "stream",
     "text": [
      "\r",
      "125929it [05:56, 313.51it/s]"
     ]
    },
    {
     "name": "stderr",
     "output_type": "stream",
     "text": [
      "\r",
      "125961it [05:56, 305.50it/s]"
     ]
    },
    {
     "name": "stderr",
     "output_type": "stream",
     "text": [
      "\r",
      "125994it [05:56, 312.36it/s]"
     ]
    },
    {
     "name": "stderr",
     "output_type": "stream",
     "text": [
      "\r",
      "126026it [05:57, 309.08it/s]"
     ]
    },
    {
     "name": "stderr",
     "output_type": "stream",
     "text": [
      "\r",
      "126059it [05:57, 311.68it/s]"
     ]
    },
    {
     "name": "stderr",
     "output_type": "stream",
     "text": [
      "\r",
      "126091it [05:57, 313.60it/s]"
     ]
    },
    {
     "name": "stderr",
     "output_type": "stream",
     "text": [
      "\r",
      "126125it [05:57, 319.77it/s]"
     ]
    },
    {
     "name": "stderr",
     "output_type": "stream",
     "text": [
      "\r",
      "126158it [05:57, 319.42it/s]"
     ]
    },
    {
     "name": "stderr",
     "output_type": "stream",
     "text": [
      "\r",
      "126191it [05:57, 320.60it/s]"
     ]
    },
    {
     "name": "stderr",
     "output_type": "stream",
     "text": [
      "\r",
      "126225it [05:57, 324.36it/s]"
     ]
    },
    {
     "name": "stderr",
     "output_type": "stream",
     "text": [
      "\r",
      "126258it [05:57, 321.57it/s]"
     ]
    },
    {
     "name": "stderr",
     "output_type": "stream",
     "text": [
      "\r",
      "126291it [05:57, 315.97it/s]"
     ]
    },
    {
     "name": "stderr",
     "output_type": "stream",
     "text": [
      "\r",
      "126323it [05:57, 310.70it/s]"
     ]
    },
    {
     "name": "stderr",
     "output_type": "stream",
     "text": [
      "\r",
      "126355it [05:58, 308.84it/s]"
     ]
    },
    {
     "name": "stderr",
     "output_type": "stream",
     "text": [
      "\r",
      "126387it [05:58, 310.50it/s]"
     ]
    },
    {
     "name": "stderr",
     "output_type": "stream",
     "text": [
      "\r",
      "126419it [05:58, 312.28it/s]"
     ]
    },
    {
     "name": "stderr",
     "output_type": "stream",
     "text": [
      "\r",
      "126451it [05:58, 309.31it/s]"
     ]
    },
    {
     "name": "stderr",
     "output_type": "stream",
     "text": [
      "\r",
      "126484it [05:58, 313.12it/s]"
     ]
    },
    {
     "name": "stderr",
     "output_type": "stream",
     "text": [
      "\r",
      "126516it [05:58, 309.22it/s]"
     ]
    },
    {
     "name": "stderr",
     "output_type": "stream",
     "text": [
      "\r",
      "126547it [05:58, 309.00it/s]"
     ]
    },
    {
     "name": "stderr",
     "output_type": "stream",
     "text": [
      "\r",
      "126578it [05:58, 307.20it/s]"
     ]
    },
    {
     "name": "stderr",
     "output_type": "stream",
     "text": [
      "\r",
      "126610it [05:58, 310.37it/s]"
     ]
    },
    {
     "name": "stderr",
     "output_type": "stream",
     "text": [
      "\r",
      "126644it [05:58, 317.75it/s]"
     ]
    },
    {
     "name": "stderr",
     "output_type": "stream",
     "text": [
      "\r",
      "126678it [05:59, 321.94it/s]"
     ]
    },
    {
     "name": "stderr",
     "output_type": "stream",
     "text": [
      "\r",
      "126712it [05:59, 323.19it/s]"
     ]
    },
    {
     "name": "stderr",
     "output_type": "stream",
     "text": [
      "\r",
      "126745it [05:59, 313.15it/s]"
     ]
    },
    {
     "name": "stderr",
     "output_type": "stream",
     "text": [
      "\r",
      "126777it [05:59, 313.25it/s]"
     ]
    },
    {
     "name": "stderr",
     "output_type": "stream",
     "text": [
      "\r",
      "126809it [05:59, 311.90it/s]"
     ]
    },
    {
     "name": "stderr",
     "output_type": "stream",
     "text": [
      "\r",
      "126841it [05:59, 313.58it/s]"
     ]
    },
    {
     "name": "stderr",
     "output_type": "stream",
     "text": [
      "\r",
      "126873it [05:59, 314.04it/s]"
     ]
    },
    {
     "name": "stderr",
     "output_type": "stream",
     "text": [
      "\r",
      "126905it [05:59, 301.57it/s]"
     ]
    },
    {
     "name": "stderr",
     "output_type": "stream",
     "text": [
      "\r",
      "126936it [05:59, 301.98it/s]"
     ]
    },
    {
     "name": "stderr",
     "output_type": "stream",
     "text": [
      "\r",
      "126969it [06:00, 308.20it/s]"
     ]
    },
    {
     "name": "stderr",
     "output_type": "stream",
     "text": [
      "\r",
      "127001it [06:00, 311.08it/s]"
     ]
    },
    {
     "name": "stderr",
     "output_type": "stream",
     "text": [
      "\r",
      "127033it [06:00, 307.30it/s]"
     ]
    },
    {
     "name": "stderr",
     "output_type": "stream",
     "text": [
      "\r",
      "127066it [06:00, 311.63it/s]"
     ]
    },
    {
     "name": "stderr",
     "output_type": "stream",
     "text": [
      "\r",
      "127098it [06:00, 313.65it/s]"
     ]
    },
    {
     "name": "stderr",
     "output_type": "stream",
     "text": [
      "\r",
      "127131it [06:00, 318.16it/s]"
     ]
    },
    {
     "name": "stderr",
     "output_type": "stream",
     "text": [
      "\r",
      "127163it [06:00, 316.04it/s]"
     ]
    },
    {
     "name": "stderr",
     "output_type": "stream",
     "text": [
      "\r",
      "127195it [06:00, 317.20it/s]"
     ]
    },
    {
     "name": "stderr",
     "output_type": "stream",
     "text": [
      "\r",
      "127228it [06:00, 317.80it/s]"
     ]
    },
    {
     "name": "stderr",
     "output_type": "stream",
     "text": [
      "\r",
      "127260it [06:00, 313.78it/s]"
     ]
    },
    {
     "name": "stderr",
     "output_type": "stream",
     "text": [
      "\r",
      "127293it [06:01, 317.02it/s]"
     ]
    },
    {
     "name": "stderr",
     "output_type": "stream",
     "text": [
      "\r",
      "127325it [06:01, 313.90it/s]"
     ]
    },
    {
     "name": "stderr",
     "output_type": "stream",
     "text": [
      "\r",
      "127358it [06:01, 316.11it/s]"
     ]
    },
    {
     "name": "stderr",
     "output_type": "stream",
     "text": [
      "\r",
      "127391it [06:01, 317.69it/s]"
     ]
    },
    {
     "name": "stderr",
     "output_type": "stream",
     "text": [
      "\r",
      "127427it [06:01, 328.11it/s]"
     ]
    },
    {
     "name": "stderr",
     "output_type": "stream",
     "text": [
      "\r",
      "127464it [06:01, 337.90it/s]"
     ]
    },
    {
     "name": "stderr",
     "output_type": "stream",
     "text": [
      "\r",
      "127499it [06:01, 339.35it/s]"
     ]
    },
    {
     "name": "stderr",
     "output_type": "stream",
     "text": [
      "\r",
      "127533it [06:01, 322.19it/s]"
     ]
    },
    {
     "name": "stderr",
     "output_type": "stream",
     "text": [
      "\r",
      "127567it [06:01, 325.86it/s]"
     ]
    },
    {
     "name": "stderr",
     "output_type": "stream",
     "text": [
      "\r",
      "127600it [06:01, 326.36it/s]"
     ]
    },
    {
     "name": "stderr",
     "output_type": "stream",
     "text": [
      "\r",
      "127633it [06:02, 322.91it/s]"
     ]
    },
    {
     "name": "stderr",
     "output_type": "stream",
     "text": [
      "\r",
      "127666it [06:02, 322.17it/s]"
     ]
    },
    {
     "name": "stderr",
     "output_type": "stream",
     "text": [
      "\r",
      "127699it [06:02, 319.08it/s]"
     ]
    },
    {
     "name": "stderr",
     "output_type": "stream",
     "text": [
      "\r",
      "127731it [06:02, 319.03it/s]"
     ]
    },
    {
     "name": "stderr",
     "output_type": "stream",
     "text": [
      "\r",
      "127763it [06:02, 315.77it/s]"
     ]
    },
    {
     "name": "stderr",
     "output_type": "stream",
     "text": [
      "\r",
      "127795it [06:02, 315.22it/s]"
     ]
    },
    {
     "name": "stderr",
     "output_type": "stream",
     "text": [
      "\r",
      "127828it [06:02, 317.99it/s]"
     ]
    },
    {
     "name": "stderr",
     "output_type": "stream",
     "text": [
      "\r",
      "127862it [06:02, 323.69it/s]"
     ]
    },
    {
     "name": "stderr",
     "output_type": "stream",
     "text": [
      "\r",
      "127895it [06:02, 322.14it/s]"
     ]
    },
    {
     "name": "stderr",
     "output_type": "stream",
     "text": [
      "\r",
      "127929it [06:03, 326.94it/s]"
     ]
    },
    {
     "name": "stderr",
     "output_type": "stream",
     "text": [
      "\r",
      "127962it [06:03, 325.97it/s]"
     ]
    },
    {
     "name": "stderr",
     "output_type": "stream",
     "text": [
      "\r",
      "127997it [06:03, 329.08it/s]"
     ]
    },
    {
     "name": "stderr",
     "output_type": "stream",
     "text": [
      "\r",
      "128030it [06:03, 325.77it/s]"
     ]
    },
    {
     "name": "stderr",
     "output_type": "stream",
     "text": [
      "\r",
      "128063it [06:03, 324.86it/s]"
     ]
    },
    {
     "name": "stderr",
     "output_type": "stream",
     "text": [
      "\r",
      "128096it [06:03, 323.51it/s]"
     ]
    },
    {
     "name": "stderr",
     "output_type": "stream",
     "text": [
      "\r",
      "128129it [06:03, 322.96it/s]"
     ]
    },
    {
     "name": "stderr",
     "output_type": "stream",
     "text": [
      "\r",
      "128162it [06:03, 323.04it/s]"
     ]
    },
    {
     "name": "stderr",
     "output_type": "stream",
     "text": [
      "\r",
      "128196it [06:03, 326.81it/s]"
     ]
    },
    {
     "name": "stderr",
     "output_type": "stream",
     "text": [
      "\r",
      "128229it [06:03, 325.76it/s]"
     ]
    },
    {
     "name": "stderr",
     "output_type": "stream",
     "text": [
      "\r",
      "128262it [06:04, 324.79it/s]"
     ]
    },
    {
     "name": "stderr",
     "output_type": "stream",
     "text": [
      "\r",
      "128295it [06:04, 321.59it/s]"
     ]
    },
    {
     "name": "stderr",
     "output_type": "stream",
     "text": [
      "\r",
      "128328it [06:04, 320.12it/s]"
     ]
    },
    {
     "name": "stderr",
     "output_type": "stream",
     "text": [
      "\r",
      "128362it [06:04, 324.46it/s]"
     ]
    },
    {
     "name": "stderr",
     "output_type": "stream",
     "text": [
      "\r",
      "128397it [06:04, 329.62it/s]"
     ]
    },
    {
     "name": "stderr",
     "output_type": "stream",
     "text": [
      "\r",
      "128432it [06:04, 332.00it/s]"
     ]
    },
    {
     "name": "stderr",
     "output_type": "stream",
     "text": [
      "\r",
      "128466it [06:04, 326.30it/s]"
     ]
    },
    {
     "name": "stderr",
     "output_type": "stream",
     "text": [
      "\r",
      "128499it [06:04, 324.22it/s]"
     ]
    },
    {
     "name": "stderr",
     "output_type": "stream",
     "text": [
      "\r",
      "128534it [06:04, 329.17it/s]"
     ]
    },
    {
     "name": "stderr",
     "output_type": "stream",
     "text": [
      "\r",
      "128567it [06:04, 324.70it/s]"
     ]
    },
    {
     "name": "stderr",
     "output_type": "stream",
     "text": [
      "\r",
      "128602it [06:05, 329.20it/s]"
     ]
    },
    {
     "name": "stderr",
     "output_type": "stream",
     "text": [
      "\r",
      "128635it [06:05, 328.27it/s]"
     ]
    },
    {
     "name": "stderr",
     "output_type": "stream",
     "text": [
      "\r",
      "128668it [06:05, 315.91it/s]"
     ]
    },
    {
     "name": "stderr",
     "output_type": "stream",
     "text": [
      "\r",
      "128701it [06:05, 318.06it/s]"
     ]
    },
    {
     "name": "stderr",
     "output_type": "stream",
     "text": [
      "\r",
      "128736it [06:05, 324.98it/s]"
     ]
    },
    {
     "name": "stderr",
     "output_type": "stream",
     "text": [
      "\r",
      "128771it [06:05, 328.99it/s]"
     ]
    },
    {
     "name": "stderr",
     "output_type": "stream",
     "text": [
      "\r",
      "128806it [06:05, 332.60it/s]"
     ]
    },
    {
     "name": "stderr",
     "output_type": "stream",
     "text": [
      "\r",
      "128840it [06:05, 334.67it/s]"
     ]
    },
    {
     "name": "stderr",
     "output_type": "stream",
     "text": [
      "\r",
      "128875it [06:05, 338.42it/s]"
     ]
    },
    {
     "name": "stderr",
     "output_type": "stream",
     "text": [
      "\r",
      "128909it [06:05, 338.25it/s]"
     ]
    },
    {
     "name": "stderr",
     "output_type": "stream",
     "text": [
      "\r",
      "128945it [06:06, 341.15it/s]"
     ]
    },
    {
     "name": "stderr",
     "output_type": "stream",
     "text": [
      "\r",
      "128980it [06:06, 341.65it/s]"
     ]
    },
    {
     "name": "stderr",
     "output_type": "stream",
     "text": [
      "\r",
      "129015it [06:06, 337.89it/s]"
     ]
    },
    {
     "name": "stderr",
     "output_type": "stream",
     "text": [
      "\r",
      "129049it [06:06, 335.20it/s]"
     ]
    },
    {
     "name": "stderr",
     "output_type": "stream",
     "text": [
      "\r",
      "129084it [06:06, 337.92it/s]"
     ]
    },
    {
     "name": "stderr",
     "output_type": "stream",
     "text": [
      "\r",
      "129118it [06:06, 337.18it/s]"
     ]
    },
    {
     "name": "stderr",
     "output_type": "stream",
     "text": [
      "\r",
      "129154it [06:06, 340.90it/s]"
     ]
    },
    {
     "name": "stderr",
     "output_type": "stream",
     "text": [
      "\r",
      "129194it [06:06, 356.07it/s]"
     ]
    },
    {
     "name": "stderr",
     "output_type": "stream",
     "text": [
      "\r",
      "129233it [06:06, 365.71it/s]"
     ]
    },
    {
     "name": "stderr",
     "output_type": "stream",
     "text": [
      "\r",
      "129270it [06:07, 364.44it/s]"
     ]
    },
    {
     "name": "stderr",
     "output_type": "stream",
     "text": [
      "\r",
      "129307it [06:07, 357.60it/s]"
     ]
    },
    {
     "name": "stderr",
     "output_type": "stream",
     "text": [
      "\r",
      "129344it [06:07, 359.40it/s]"
     ]
    },
    {
     "name": "stderr",
     "output_type": "stream",
     "text": [
      "\r",
      "129380it [06:07, 357.24it/s]"
     ]
    },
    {
     "name": "stderr",
     "output_type": "stream",
     "text": [
      "\r",
      "129416it [06:07, 353.95it/s]"
     ]
    },
    {
     "name": "stderr",
     "output_type": "stream",
     "text": [
      "\r",
      "129452it [06:07, 351.85it/s]"
     ]
    },
    {
     "name": "stderr",
     "output_type": "stream",
     "text": [
      "\r",
      "129488it [06:07, 350.22it/s]"
     ]
    },
    {
     "name": "stderr",
     "output_type": "stream",
     "text": [
      "\r",
      "129524it [06:07, 346.10it/s]"
     ]
    },
    {
     "name": "stderr",
     "output_type": "stream",
     "text": [
      "\r",
      "129559it [06:07, 343.32it/s]"
     ]
    },
    {
     "name": "stderr",
     "output_type": "stream",
     "text": [
      "\r",
      "129596it [06:07, 347.91it/s]"
     ]
    },
    {
     "name": "stderr",
     "output_type": "stream",
     "text": [
      "\r",
      "129633it [06:08, 352.02it/s]"
     ]
    },
    {
     "name": "stderr",
     "output_type": "stream",
     "text": [
      "\r",
      "129669it [06:08, 353.73it/s]"
     ]
    },
    {
     "name": "stderr",
     "output_type": "stream",
     "text": [
      "\r",
      "129705it [06:08, 351.51it/s]"
     ]
    },
    {
     "name": "stderr",
     "output_type": "stream",
     "text": [
      "\r",
      "129742it [06:08, 356.19it/s]"
     ]
    },
    {
     "name": "stderr",
     "output_type": "stream",
     "text": [
      "\r",
      "129778it [06:08, 350.81it/s]"
     ]
    },
    {
     "name": "stderr",
     "output_type": "stream",
     "text": [
      "\r",
      "129814it [06:08, 350.63it/s]"
     ]
    },
    {
     "name": "stderr",
     "output_type": "stream",
     "text": [
      "\r",
      "129850it [06:08, 347.74it/s]"
     ]
    },
    {
     "name": "stderr",
     "output_type": "stream",
     "text": [
      "\r",
      "129885it [06:08, 345.32it/s]"
     ]
    },
    {
     "name": "stderr",
     "output_type": "stream",
     "text": [
      "\r",
      "129920it [06:08, 344.97it/s]"
     ]
    },
    {
     "name": "stderr",
     "output_type": "stream",
     "text": [
      "\r",
      "129956it [06:08, 349.28it/s]"
     ]
    },
    {
     "name": "stderr",
     "output_type": "stream",
     "text": [
      "\r",
      "129992it [06:09, 350.68it/s]"
     ]
    },
    {
     "name": "stderr",
     "output_type": "stream",
     "text": [
      "\r",
      "130031it [06:09, 360.15it/s]"
     ]
    },
    {
     "name": "stderr",
     "output_type": "stream",
     "text": [
      "\r",
      "130068it [06:09, 355.53it/s]"
     ]
    },
    {
     "name": "stderr",
     "output_type": "stream",
     "text": [
      "\r",
      "130104it [06:09, 353.45it/s]"
     ]
    },
    {
     "name": "stderr",
     "output_type": "stream",
     "text": [
      "\r",
      "130140it [06:09, 350.09it/s]"
     ]
    },
    {
     "name": "stderr",
     "output_type": "stream",
     "text": [
      "\r",
      "130176it [06:09, 352.60it/s]"
     ]
    },
    {
     "name": "stderr",
     "output_type": "stream",
     "text": [
      "\r",
      "130212it [06:09, 353.46it/s]"
     ]
    },
    {
     "name": "stderr",
     "output_type": "stream",
     "text": [
      "\r",
      "130250it [06:09, 356.58it/s]"
     ]
    },
    {
     "name": "stderr",
     "output_type": "stream",
     "text": [
      "\r",
      "130287it [06:09, 358.92it/s]"
     ]
    },
    {
     "name": "stderr",
     "output_type": "stream",
     "text": [
      "\r",
      "130323it [06:10, 357.24it/s]"
     ]
    },
    {
     "name": "stderr",
     "output_type": "stream",
     "text": [
      "\r",
      "130360it [06:10, 360.79it/s]"
     ]
    },
    {
     "name": "stderr",
     "output_type": "stream",
     "text": [
      "\r",
      "130397it [06:10, 353.92it/s]"
     ]
    },
    {
     "name": "stderr",
     "output_type": "stream",
     "text": [
      "\r",
      "130433it [06:10, 351.83it/s]"
     ]
    },
    {
     "name": "stderr",
     "output_type": "stream",
     "text": [
      "\r",
      "130470it [06:10, 354.37it/s]"
     ]
    },
    {
     "name": "stderr",
     "output_type": "stream",
     "text": [
      "\r",
      "130506it [06:10, 341.00it/s]"
     ]
    },
    {
     "name": "stderr",
     "output_type": "stream",
     "text": [
      "\r",
      "130542it [06:10, 343.34it/s]"
     ]
    },
    {
     "name": "stderr",
     "output_type": "stream",
     "text": [
      "\r",
      "130579it [06:10, 348.78it/s]"
     ]
    },
    {
     "name": "stderr",
     "output_type": "stream",
     "text": [
      "\r",
      "130616it [06:10, 350.73it/s]"
     ]
    },
    {
     "name": "stderr",
     "output_type": "stream",
     "text": [
      "\r",
      "130652it [06:10, 353.08it/s]"
     ]
    },
    {
     "name": "stderr",
     "output_type": "stream",
     "text": [
      "\r",
      "130689it [06:11, 356.22it/s]"
     ]
    },
    {
     "name": "stderr",
     "output_type": "stream",
     "text": [
      "\r",
      "130725it [06:11, 357.19it/s]"
     ]
    },
    {
     "name": "stderr",
     "output_type": "stream",
     "text": [
      "\r",
      "130761it [06:11, 356.63it/s]"
     ]
    },
    {
     "name": "stderr",
     "output_type": "stream",
     "text": [
      "\r",
      "130799it [06:11, 363.46it/s]"
     ]
    },
    {
     "name": "stderr",
     "output_type": "stream",
     "text": [
      "\r",
      "130836it [06:11, 362.38it/s]"
     ]
    },
    {
     "name": "stderr",
     "output_type": "stream",
     "text": [
      "\r",
      "130873it [06:11, 355.18it/s]"
     ]
    },
    {
     "name": "stderr",
     "output_type": "stream",
     "text": [
      "\r",
      "130909it [06:11, 356.23it/s]"
     ]
    },
    {
     "name": "stderr",
     "output_type": "stream",
     "text": [
      "\r",
      "130945it [06:11, 355.92it/s]"
     ]
    },
    {
     "name": "stderr",
     "output_type": "stream",
     "text": [
      "\r",
      "130982it [06:11, 358.27it/s]"
     ]
    },
    {
     "name": "stderr",
     "output_type": "stream",
     "text": [
      "\r",
      "131022it [06:11, 369.55it/s]"
     ]
    },
    {
     "name": "stderr",
     "output_type": "stream",
     "text": [
      "\r",
      "131064it [06:12, 380.77it/s]"
     ]
    },
    {
     "name": "stderr",
     "output_type": "stream",
     "text": [
      "\r",
      "131103it [06:12, 381.81it/s]"
     ]
    },
    {
     "name": "stderr",
     "output_type": "stream",
     "text": [
      "\r",
      "131142it [06:12, 373.61it/s]"
     ]
    },
    {
     "name": "stderr",
     "output_type": "stream",
     "text": [
      "\r",
      "131180it [06:12, 370.83it/s]"
     ]
    },
    {
     "name": "stderr",
     "output_type": "stream",
     "text": [
      "\r",
      "131218it [06:12, 371.29it/s]"
     ]
    },
    {
     "name": "stderr",
     "output_type": "stream",
     "text": [
      "\r",
      "131256it [06:12, 369.50it/s]"
     ]
    },
    {
     "name": "stderr",
     "output_type": "stream",
     "text": [
      "\r",
      "131293it [06:12, 365.17it/s]"
     ]
    },
    {
     "name": "stderr",
     "output_type": "stream",
     "text": [
      "\r",
      "131330it [06:12, 360.49it/s]"
     ]
    },
    {
     "name": "stderr",
     "output_type": "stream",
     "text": [
      "\r",
      "131367it [06:12, 360.48it/s]"
     ]
    },
    {
     "name": "stderr",
     "output_type": "stream",
     "text": [
      "\r",
      "131404it [06:13, 358.40it/s]"
     ]
    },
    {
     "name": "stderr",
     "output_type": "stream",
     "text": [
      "\r",
      "131442it [06:13, 364.17it/s]"
     ]
    },
    {
     "name": "stderr",
     "output_type": "stream",
     "text": [
      "\r",
      "131480it [06:13, 368.12it/s]"
     ]
    },
    {
     "name": "stderr",
     "output_type": "stream",
     "text": [
      "\r",
      "131518it [06:13, 370.87it/s]"
     ]
    },
    {
     "name": "stderr",
     "output_type": "stream",
     "text": [
      "\r",
      "131556it [06:13, 372.38it/s]"
     ]
    },
    {
     "name": "stderr",
     "output_type": "stream",
     "text": [
      "\r",
      "131595it [06:13, 377.03it/s]"
     ]
    },
    {
     "name": "stderr",
     "output_type": "stream",
     "text": [
      "\r",
      "131633it [06:13, 375.22it/s]"
     ]
    },
    {
     "name": "stderr",
     "output_type": "stream",
     "text": [
      "\r",
      "131671it [06:13, 376.09it/s]"
     ]
    },
    {
     "name": "stderr",
     "output_type": "stream",
     "text": [
      "\r",
      "131709it [06:13, 370.60it/s]"
     ]
    },
    {
     "name": "stderr",
     "output_type": "stream",
     "text": [
      "\r",
      "131747it [06:13, 372.20it/s]"
     ]
    },
    {
     "name": "stderr",
     "output_type": "stream",
     "text": [
      "\r",
      "131785it [06:14, 373.59it/s]"
     ]
    },
    {
     "name": "stderr",
     "output_type": "stream",
     "text": [
      "\r",
      "131824it [06:14, 377.12it/s]"
     ]
    },
    {
     "name": "stderr",
     "output_type": "stream",
     "text": [
      "\r",
      "131862it [06:14, 369.34it/s]"
     ]
    },
    {
     "name": "stderr",
     "output_type": "stream",
     "text": [
      "\r",
      "131899it [06:14, 364.28it/s]"
     ]
    },
    {
     "name": "stderr",
     "output_type": "stream",
     "text": [
      "\r",
      "131936it [06:14, 361.32it/s]"
     ]
    },
    {
     "name": "stderr",
     "output_type": "stream",
     "text": [
      "\r",
      "131975it [06:14, 369.19it/s]"
     ]
    },
    {
     "name": "stderr",
     "output_type": "stream",
     "text": [
      "\r",
      "132014it [06:14, 372.91it/s]"
     ]
    },
    {
     "name": "stderr",
     "output_type": "stream",
     "text": [
      "\r",
      "132052it [06:14, 370.21it/s]"
     ]
    },
    {
     "name": "stderr",
     "output_type": "stream",
     "text": [
      "\r",
      "132090it [06:14, 367.22it/s]"
     ]
    },
    {
     "name": "stderr",
     "output_type": "stream",
     "text": [
      "\r",
      "132130it [06:14, 374.27it/s]"
     ]
    },
    {
     "name": "stderr",
     "output_type": "stream",
     "text": [
      "\r",
      "132169it [06:15, 376.41it/s]"
     ]
    },
    {
     "name": "stderr",
     "output_type": "stream",
     "text": [
      "\r",
      "132207it [06:15, 371.75it/s]"
     ]
    },
    {
     "name": "stderr",
     "output_type": "stream",
     "text": [
      "\r",
      "132245it [06:15, 277.33it/s]"
     ]
    },
    {
     "name": "stderr",
     "output_type": "stream",
     "text": [
      "\r",
      "132280it [06:15, 294.30it/s]"
     ]
    },
    {
     "name": "stderr",
     "output_type": "stream",
     "text": [
      "\r",
      "132316it [06:15, 310.70it/s]"
     ]
    },
    {
     "name": "stderr",
     "output_type": "stream",
     "text": [
      "\r",
      "132353it [06:15, 325.25it/s]"
     ]
    },
    {
     "name": "stderr",
     "output_type": "stream",
     "text": [
      "\r",
      "132388it [06:15, 322.00it/s]"
     ]
    },
    {
     "name": "stderr",
     "output_type": "stream",
     "text": [
      "\r",
      "132424it [06:15, 331.66it/s]"
     ]
    },
    {
     "name": "stderr",
     "output_type": "stream",
     "text": [
      "\r",
      "132462it [06:16, 344.95it/s]"
     ]
    },
    {
     "name": "stderr",
     "output_type": "stream",
     "text": [
      "\r",
      "132500it [06:16, 354.41it/s]"
     ]
    },
    {
     "name": "stderr",
     "output_type": "stream",
     "text": [
      "\r",
      "132537it [06:16, 358.71it/s]"
     ]
    },
    {
     "name": "stderr",
     "output_type": "stream",
     "text": [
      "\r",
      "132575it [06:16, 361.62it/s]"
     ]
    },
    {
     "name": "stderr",
     "output_type": "stream",
     "text": [
      "\r",
      "132612it [06:16, 363.20it/s]"
     ]
    },
    {
     "name": "stderr",
     "output_type": "stream",
     "text": [
      "\r",
      "132650it [06:16, 365.76it/s]"
     ]
    },
    {
     "name": "stderr",
     "output_type": "stream",
     "text": [
      "\r",
      "132688it [06:16, 369.06it/s]"
     ]
    },
    {
     "name": "stderr",
     "output_type": "stream",
     "text": [
      "\r",
      "132726it [06:16, 368.94it/s]"
     ]
    },
    {
     "name": "stderr",
     "output_type": "stream",
     "text": [
      "\r",
      "132763it [06:16, 369.18it/s]"
     ]
    },
    {
     "name": "stderr",
     "output_type": "stream",
     "text": [
      "\r",
      "132800it [06:16, 368.66it/s]"
     ]
    },
    {
     "name": "stderr",
     "output_type": "stream",
     "text": [
      "\r",
      "132838it [06:17, 370.43it/s]"
     ]
    },
    {
     "name": "stderr",
     "output_type": "stream",
     "text": [
      "\r",
      "132876it [06:17, 371.85it/s]"
     ]
    },
    {
     "name": "stderr",
     "output_type": "stream",
     "text": [
      "\r",
      "132917it [06:17, 382.28it/s]"
     ]
    },
    {
     "name": "stderr",
     "output_type": "stream",
     "text": [
      "\r",
      "132958it [06:17, 388.83it/s]"
     ]
    },
    {
     "name": "stderr",
     "output_type": "stream",
     "text": [
      "\r",
      "132997it [06:17, 388.76it/s]"
     ]
    },
    {
     "name": "stderr",
     "output_type": "stream",
     "text": [
      "\r",
      "133036it [06:17, 382.73it/s]"
     ]
    },
    {
     "name": "stderr",
     "output_type": "stream",
     "text": [
      "\r",
      "133075it [06:17, 381.20it/s]"
     ]
    },
    {
     "name": "stderr",
     "output_type": "stream",
     "text": [
      "\r",
      "133114it [06:17, 379.11it/s]"
     ]
    },
    {
     "name": "stderr",
     "output_type": "stream",
     "text": [
      "\r",
      "133152it [06:17, 378.16it/s]"
     ]
    },
    {
     "name": "stderr",
     "output_type": "stream",
     "text": [
      "\r",
      "133190it [06:17, 378.15it/s]"
     ]
    },
    {
     "name": "stderr",
     "output_type": "stream",
     "text": [
      "\r",
      "133228it [06:18, 367.24it/s]"
     ]
    },
    {
     "name": "stderr",
     "output_type": "stream",
     "text": [
      "\r",
      "133265it [06:18, 367.04it/s]"
     ]
    },
    {
     "name": "stderr",
     "output_type": "stream",
     "text": [
      "\r",
      "133302it [06:18, 365.79it/s]"
     ]
    },
    {
     "name": "stderr",
     "output_type": "stream",
     "text": [
      "\r",
      "133342it [06:18, 375.14it/s]"
     ]
    },
    {
     "name": "stderr",
     "output_type": "stream",
     "text": [
      "\r",
      "133380it [06:18, 374.23it/s]"
     ]
    },
    {
     "name": "stderr",
     "output_type": "stream",
     "text": [
      "\r",
      "133419it [06:18, 376.52it/s]"
     ]
    },
    {
     "name": "stderr",
     "output_type": "stream",
     "text": [
      "\r",
      "133458it [06:18, 378.66it/s]"
     ]
    },
    {
     "name": "stderr",
     "output_type": "stream",
     "text": [
      "\r",
      "133496it [06:18, 376.64it/s]"
     ]
    },
    {
     "name": "stderr",
     "output_type": "stream",
     "text": [
      "\r",
      "133534it [06:18, 375.20it/s]"
     ]
    },
    {
     "name": "stderr",
     "output_type": "stream",
     "text": [
      "\r",
      "133572it [06:18, 374.69it/s]"
     ]
    },
    {
     "name": "stderr",
     "output_type": "stream",
     "text": [
      "\r",
      "133611it [06:19, 378.66it/s]"
     ]
    },
    {
     "name": "stderr",
     "output_type": "stream",
     "text": [
      "\r",
      "133649it [06:19, 376.11it/s]"
     ]
    },
    {
     "name": "stderr",
     "output_type": "stream",
     "text": [
      "\r",
      "133687it [06:19, 376.42it/s]"
     ]
    },
    {
     "name": "stderr",
     "output_type": "stream",
     "text": [
      "\r",
      "133725it [06:19, 374.97it/s]"
     ]
    },
    {
     "name": "stderr",
     "output_type": "stream",
     "text": [
      "\r",
      "133763it [06:19, 371.53it/s]"
     ]
    },
    {
     "name": "stderr",
     "output_type": "stream",
     "text": [
      "\r",
      "133802it [06:19, 375.83it/s]"
     ]
    },
    {
     "name": "stderr",
     "output_type": "stream",
     "text": [
      "\r",
      "133840it [06:19, 375.26it/s]"
     ]
    },
    {
     "name": "stderr",
     "output_type": "stream",
     "text": [
      "\r",
      "133880it [06:19, 378.53it/s]"
     ]
    },
    {
     "name": "stderr",
     "output_type": "stream",
     "text": [
      "\r",
      "133919it [06:19, 379.79it/s]"
     ]
    },
    {
     "name": "stderr",
     "output_type": "stream",
     "text": [
      "\r",
      "133957it [06:19, 377.01it/s]"
     ]
    },
    {
     "name": "stderr",
     "output_type": "stream",
     "text": [
      "\r",
      "133998it [06:20, 386.63it/s]"
     ]
    },
    {
     "name": "stderr",
     "output_type": "stream",
     "text": [
      "\r",
      "134038it [06:20, 386.71it/s]"
     ]
    },
    {
     "name": "stderr",
     "output_type": "stream",
     "text": [
      "\r",
      "134077it [06:20, 375.85it/s]"
     ]
    },
    {
     "name": "stderr",
     "output_type": "stream",
     "text": [
      "\r",
      "134116it [06:20, 379.17it/s]"
     ]
    },
    {
     "name": "stderr",
     "output_type": "stream",
     "text": [
      "\r",
      "134154it [06:20, 375.05it/s]"
     ]
    },
    {
     "name": "stderr",
     "output_type": "stream",
     "text": [
      "\r",
      "134192it [06:20, 375.23it/s]"
     ]
    },
    {
     "name": "stderr",
     "output_type": "stream",
     "text": [
      "\r",
      "134230it [06:20, 376.48it/s]"
     ]
    },
    {
     "name": "stderr",
     "output_type": "stream",
     "text": [
      "\r",
      "134268it [06:20, 356.96it/s]"
     ]
    },
    {
     "name": "stderr",
     "output_type": "stream",
     "text": [
      "\r",
      "134305it [06:20, 360.54it/s]"
     ]
    },
    {
     "name": "stderr",
     "output_type": "stream",
     "text": [
      "\r",
      "134344it [06:21, 368.24it/s]"
     ]
    },
    {
     "name": "stderr",
     "output_type": "stream",
     "text": [
      "\r",
      "134382it [06:21, 369.21it/s]"
     ]
    },
    {
     "name": "stderr",
     "output_type": "stream",
     "text": [
      "\r",
      "134421it [06:21, 374.32it/s]"
     ]
    },
    {
     "name": "stderr",
     "output_type": "stream",
     "text": [
      "\r",
      "134459it [06:21, 375.28it/s]"
     ]
    },
    {
     "name": "stderr",
     "output_type": "stream",
     "text": [
      "\r",
      "134498it [06:21, 377.63it/s]"
     ]
    },
    {
     "name": "stderr",
     "output_type": "stream",
     "text": [
      "\r",
      "134537it [06:21, 380.67it/s]"
     ]
    },
    {
     "name": "stderr",
     "output_type": "stream",
     "text": [
      "\r",
      "134577it [06:21, 382.91it/s]"
     ]
    },
    {
     "name": "stderr",
     "output_type": "stream",
     "text": [
      "\r",
      "134616it [06:21, 380.41it/s]"
     ]
    },
    {
     "name": "stderr",
     "output_type": "stream",
     "text": [
      "\r",
      "134655it [06:21, 375.34it/s]"
     ]
    },
    {
     "name": "stderr",
     "output_type": "stream",
     "text": [
      "\r",
      "134695it [06:21, 379.66it/s]"
     ]
    },
    {
     "name": "stderr",
     "output_type": "stream",
     "text": [
      "\r",
      "134735it [06:22, 383.94it/s]"
     ]
    },
    {
     "name": "stderr",
     "output_type": "stream",
     "text": [
      "\r",
      "134778it [06:22, 394.99it/s]"
     ]
    },
    {
     "name": "stderr",
     "output_type": "stream",
     "text": [
      "\r",
      "134820it [06:22, 400.05it/s]"
     ]
    },
    {
     "name": "stderr",
     "output_type": "stream",
     "text": [
      "\r",
      "134861it [06:22, 399.55it/s]"
     ]
    },
    {
     "name": "stderr",
     "output_type": "stream",
     "text": [
      "\r",
      "134901it [06:22, 395.30it/s]"
     ]
    },
    {
     "name": "stderr",
     "output_type": "stream",
     "text": [
      "\r",
      "134941it [06:22, 395.21it/s]"
     ]
    },
    {
     "name": "stderr",
     "output_type": "stream",
     "text": [
      "\r",
      "134981it [06:22, 388.90it/s]"
     ]
    },
    {
     "name": "stderr",
     "output_type": "stream",
     "text": [
      "\r",
      "135020it [06:22, 386.93it/s]"
     ]
    },
    {
     "name": "stderr",
     "output_type": "stream",
     "text": [
      "\r",
      "135059it [06:22, 385.29it/s]"
     ]
    },
    {
     "name": "stderr",
     "output_type": "stream",
     "text": [
      "\r",
      "135098it [06:22, 381.42it/s]"
     ]
    },
    {
     "name": "stderr",
     "output_type": "stream",
     "text": [
      "\r",
      "135137it [06:23, 379.62it/s]"
     ]
    },
    {
     "name": "stderr",
     "output_type": "stream",
     "text": [
      "\r",
      "135176it [06:23, 379.88it/s]"
     ]
    },
    {
     "name": "stderr",
     "output_type": "stream",
     "text": [
      "\r",
      "135214it [06:23, 379.80it/s]"
     ]
    },
    {
     "name": "stderr",
     "output_type": "stream",
     "text": [
      "\r",
      "135254it [06:23, 383.14it/s]"
     ]
    },
    {
     "name": "stderr",
     "output_type": "stream",
     "text": [
      "\r",
      "135294it [06:23, 387.53it/s]"
     ]
    },
    {
     "name": "stderr",
     "output_type": "stream",
     "text": [
      "\r",
      "135334it [06:23, 389.09it/s]"
     ]
    },
    {
     "name": "stderr",
     "output_type": "stream",
     "text": [
      "\r",
      "135373it [06:23, 386.67it/s]"
     ]
    },
    {
     "name": "stderr",
     "output_type": "stream",
     "text": [
      "\r",
      "135412it [06:23, 384.15it/s]"
     ]
    },
    {
     "name": "stderr",
     "output_type": "stream",
     "text": [
      "\r",
      "135451it [06:23, 383.60it/s]"
     ]
    },
    {
     "name": "stderr",
     "output_type": "stream",
     "text": [
      "\r",
      "135490it [06:23, 383.82it/s]"
     ]
    },
    {
     "name": "stderr",
     "output_type": "stream",
     "text": [
      "\r",
      "135530it [06:24, 382.88it/s]"
     ]
    },
    {
     "name": "stderr",
     "output_type": "stream",
     "text": [
      "\r",
      "135570it [06:24, 387.34it/s]"
     ]
    },
    {
     "name": "stderr",
     "output_type": "stream",
     "text": [
      "\r",
      "135609it [06:24, 386.91it/s]"
     ]
    },
    {
     "name": "stderr",
     "output_type": "stream",
     "text": [
      "\r",
      "135648it [06:24, 384.50it/s]"
     ]
    },
    {
     "name": "stderr",
     "output_type": "stream",
     "text": [
      "\r",
      "135687it [06:24, 381.08it/s]"
     ]
    },
    {
     "name": "stderr",
     "output_type": "stream",
     "text": [
      "\r",
      "135728it [06:24, 387.49it/s]"
     ]
    },
    {
     "name": "stderr",
     "output_type": "stream",
     "text": [
      "\r",
      "135769it [06:24, 393.55it/s]"
     ]
    },
    {
     "name": "stderr",
     "output_type": "stream",
     "text": [
      "\r",
      "135809it [06:24, 390.85it/s]"
     ]
    },
    {
     "name": "stderr",
     "output_type": "stream",
     "text": [
      "\r",
      "135849it [06:24, 390.13it/s]"
     ]
    },
    {
     "name": "stderr",
     "output_type": "stream",
     "text": [
      "\r",
      "135892it [06:25, 399.31it/s]"
     ]
    },
    {
     "name": "stderr",
     "output_type": "stream",
     "text": [
      "\r",
      "135933it [06:25, 398.95it/s]"
     ]
    },
    {
     "name": "stderr",
     "output_type": "stream",
     "text": [
      "\r",
      "135973it [06:25, 390.86it/s]"
     ]
    },
    {
     "name": "stderr",
     "output_type": "stream",
     "text": [
      "\r",
      "136013it [06:25, 385.52it/s]"
     ]
    },
    {
     "name": "stderr",
     "output_type": "stream",
     "text": [
      "\r",
      "136052it [06:25, 383.32it/s]"
     ]
    },
    {
     "name": "stderr",
     "output_type": "stream",
     "text": [
      "\r",
      "136091it [06:25, 382.29it/s]"
     ]
    },
    {
     "name": "stderr",
     "output_type": "stream",
     "text": [
      "\r",
      "136130it [06:25, 362.31it/s]"
     ]
    },
    {
     "name": "stderr",
     "output_type": "stream",
     "text": [
      "\r",
      "136167it [06:25, 363.44it/s]"
     ]
    },
    {
     "name": "stderr",
     "output_type": "stream",
     "text": [
      "\r",
      "136207it [06:25, 372.27it/s]"
     ]
    },
    {
     "name": "stderr",
     "output_type": "stream",
     "text": [
      "\r",
      "136245it [06:25, 374.16it/s]"
     ]
    },
    {
     "name": "stderr",
     "output_type": "stream",
     "text": [
      "\r",
      "136284it [06:26, 377.47it/s]"
     ]
    },
    {
     "name": "stderr",
     "output_type": "stream",
     "text": [
      "\r",
      "136324it [06:26, 383.96it/s]"
     ]
    },
    {
     "name": "stderr",
     "output_type": "stream",
     "text": [
      "\r",
      "136363it [06:26, 381.39it/s]"
     ]
    },
    {
     "name": "stderr",
     "output_type": "stream",
     "text": [
      "\r",
      "136403it [06:26, 384.12it/s]"
     ]
    },
    {
     "name": "stderr",
     "output_type": "stream",
     "text": [
      "\r",
      "136442it [06:26, 382.82it/s]"
     ]
    },
    {
     "name": "stderr",
     "output_type": "stream",
     "text": [
      "\r",
      "136481it [06:26, 381.03it/s]"
     ]
    },
    {
     "name": "stderr",
     "output_type": "stream",
     "text": [
      "\r",
      "136520it [06:26, 374.89it/s]"
     ]
    },
    {
     "name": "stderr",
     "output_type": "stream",
     "text": [
      "\r",
      "136558it [06:26, 374.75it/s]"
     ]
    },
    {
     "name": "stderr",
     "output_type": "stream",
     "text": [
      "\r",
      "136597it [06:26, 377.40it/s]"
     ]
    },
    {
     "name": "stderr",
     "output_type": "stream",
     "text": [
      "\r",
      "136639it [06:26, 388.90it/s]"
     ]
    },
    {
     "name": "stderr",
     "output_type": "stream",
     "text": [
      "\r",
      "136682it [06:27, 398.65it/s]"
     ]
    },
    {
     "name": "stderr",
     "output_type": "stream",
     "text": [
      "\r",
      "136723it [06:27, 401.90it/s]"
     ]
    },
    {
     "name": "stderr",
     "output_type": "stream",
     "text": [
      "\r",
      "136764it [06:27, 391.05it/s]"
     ]
    },
    {
     "name": "stderr",
     "output_type": "stream",
     "text": [
      "\r",
      "136804it [06:27, 391.24it/s]"
     ]
    },
    {
     "name": "stderr",
     "output_type": "stream",
     "text": [
      "\r",
      "136844it [06:27, 391.42it/s]"
     ]
    },
    {
     "name": "stderr",
     "output_type": "stream",
     "text": [
      "\r",
      "136884it [06:27, 389.36it/s]"
     ]
    },
    {
     "name": "stderr",
     "output_type": "stream",
     "text": [
      "\r",
      "136923it [06:27, 384.70it/s]"
     ]
    },
    {
     "name": "stderr",
     "output_type": "stream",
     "text": [
      "\r",
      "136962it [06:27, 378.37it/s]"
     ]
    },
    {
     "name": "stderr",
     "output_type": "stream",
     "text": [
      "\r",
      "137001it [06:27, 380.67it/s]"
     ]
    },
    {
     "name": "stderr",
     "output_type": "stream",
     "text": [
      "\r",
      "137040it [06:28, 381.17it/s]"
     ]
    },
    {
     "name": "stderr",
     "output_type": "stream",
     "text": [
      "\r",
      "137080it [06:28, 386.20it/s]"
     ]
    },
    {
     "name": "stderr",
     "output_type": "stream",
     "text": [
      "\r",
      "137120it [06:28, 388.72it/s]"
     ]
    },
    {
     "name": "stderr",
     "output_type": "stream",
     "text": [
      "\r",
      "137159it [06:28, 386.93it/s]"
     ]
    },
    {
     "name": "stderr",
     "output_type": "stream",
     "text": [
      "\r",
      "137198it [06:28, 382.58it/s]"
     ]
    },
    {
     "name": "stderr",
     "output_type": "stream",
     "text": [
      "\r",
      "137237it [06:28, 383.85it/s]"
     ]
    },
    {
     "name": "stderr",
     "output_type": "stream",
     "text": [
      "\r",
      "137276it [06:28, 383.21it/s]"
     ]
    },
    {
     "name": "stderr",
     "output_type": "stream",
     "text": [
      "\r",
      "137315it [06:28, 382.87it/s]"
     ]
    },
    {
     "name": "stderr",
     "output_type": "stream",
     "text": [
      "\r",
      "137354it [06:28, 383.70it/s]"
     ]
    },
    {
     "name": "stderr",
     "output_type": "stream",
     "text": [
      "\r",
      "137393it [06:28, 383.99it/s]"
     ]
    },
    {
     "name": "stderr",
     "output_type": "stream",
     "text": [
      "\r",
      "137434it [06:29, 388.44it/s]"
     ]
    },
    {
     "name": "stderr",
     "output_type": "stream",
     "text": [
      "\r",
      "137473it [06:29, 380.91it/s]"
     ]
    },
    {
     "name": "stderr",
     "output_type": "stream",
     "text": [
      "\r",
      "137512it [06:29, 374.10it/s]"
     ]
    },
    {
     "name": "stderr",
     "output_type": "stream",
     "text": [
      "\r",
      "137550it [06:29, 371.40it/s]"
     ]
    },
    {
     "name": "stderr",
     "output_type": "stream",
     "text": [
      "\r",
      "137589it [06:29, 376.39it/s]"
     ]
    },
    {
     "name": "stderr",
     "output_type": "stream",
     "text": [
      "\r",
      "137629it [06:29, 381.37it/s]"
     ]
    },
    {
     "name": "stderr",
     "output_type": "stream",
     "text": [
      "\r",
      "137668it [06:29, 379.92it/s]"
     ]
    },
    {
     "name": "stderr",
     "output_type": "stream",
     "text": [
      "\r",
      "137707it [06:29, 380.52it/s]"
     ]
    },
    {
     "name": "stderr",
     "output_type": "stream",
     "text": [
      "\r",
      "137749it [06:29, 390.93it/s]"
     ]
    },
    {
     "name": "stderr",
     "output_type": "stream",
     "text": [
      "\r",
      "137789it [06:29, 391.54it/s]"
     ]
    },
    {
     "name": "stderr",
     "output_type": "stream",
     "text": [
      "\r",
      "137829it [06:30, 391.93it/s]"
     ]
    },
    {
     "name": "stderr",
     "output_type": "stream",
     "text": [
      "\r",
      "137869it [06:30, 382.28it/s]"
     ]
    },
    {
     "name": "stderr",
     "output_type": "stream",
     "text": [
      "\r",
      "137908it [06:30, 372.85it/s]"
     ]
    },
    {
     "name": "stderr",
     "output_type": "stream",
     "text": [
      "\r",
      "137946it [06:30, 365.80it/s]"
     ]
    },
    {
     "name": "stderr",
     "output_type": "stream",
     "text": [
      "\r",
      "137983it [06:30, 366.96it/s]"
     ]
    },
    {
     "name": "stderr",
     "output_type": "stream",
     "text": [
      "\r",
      "138021it [06:30, 369.39it/s]"
     ]
    },
    {
     "name": "stderr",
     "output_type": "stream",
     "text": [
      "\r",
      "138058it [06:30, 366.40it/s]"
     ]
    },
    {
     "name": "stderr",
     "output_type": "stream",
     "text": [
      "\r",
      "138095it [06:30, 359.62it/s]"
     ]
    },
    {
     "name": "stderr",
     "output_type": "stream",
     "text": [
      "\r",
      "138131it [06:30, 359.37it/s]"
     ]
    },
    {
     "name": "stderr",
     "output_type": "stream",
     "text": [
      "\r",
      "138167it [06:31, 357.71it/s]"
     ]
    },
    {
     "name": "stderr",
     "output_type": "stream",
     "text": [
      "\r",
      "138204it [06:31, 360.47it/s]"
     ]
    },
    {
     "name": "stderr",
     "output_type": "stream",
     "text": [
      "\r",
      "138242it [06:31, 364.46it/s]"
     ]
    },
    {
     "name": "stderr",
     "output_type": "stream",
     "text": [
      "\r",
      "138279it [06:31, 362.03it/s]"
     ]
    },
    {
     "name": "stderr",
     "output_type": "stream",
     "text": [
      "\r",
      "138316it [06:31, 361.80it/s]"
     ]
    },
    {
     "name": "stderr",
     "output_type": "stream",
     "text": [
      "\r",
      "138353it [06:31, 359.77it/s]"
     ]
    },
    {
     "name": "stderr",
     "output_type": "stream",
     "text": [
      "\r",
      "138390it [06:31, 360.81it/s]"
     ]
    },
    {
     "name": "stderr",
     "output_type": "stream",
     "text": [
      "\r",
      "138427it [06:31, 360.30it/s]"
     ]
    },
    {
     "name": "stderr",
     "output_type": "stream",
     "text": [
      "\r",
      "138467it [06:31, 370.77it/s]"
     ]
    },
    {
     "name": "stderr",
     "output_type": "stream",
     "text": [
      "\r",
      "138508it [06:31, 379.20it/s]"
     ]
    },
    {
     "name": "stderr",
     "output_type": "stream",
     "text": [
      "\r",
      "138547it [06:32, 382.05it/s]"
     ]
    },
    {
     "name": "stderr",
     "output_type": "stream",
     "text": [
      "\r",
      "138586it [06:32, 371.07it/s]"
     ]
    },
    {
     "name": "stderr",
     "output_type": "stream",
     "text": [
      "\r",
      "138624it [06:32, 371.55it/s]"
     ]
    },
    {
     "name": "stderr",
     "output_type": "stream",
     "text": [
      "\r",
      "138662it [06:32, 357.35it/s]"
     ]
    },
    {
     "name": "stderr",
     "output_type": "stream",
     "text": [
      "\r",
      "138698it [06:32, 355.17it/s]"
     ]
    },
    {
     "name": "stderr",
     "output_type": "stream",
     "text": [
      "\r",
      "138734it [06:32, 352.01it/s]"
     ]
    },
    {
     "name": "stderr",
     "output_type": "stream",
     "text": [
      "\r",
      "138770it [06:32, 348.79it/s]"
     ]
    },
    {
     "name": "stderr",
     "output_type": "stream",
     "text": [
      "\r",
      "138805it [06:32, 344.46it/s]"
     ]
    },
    {
     "name": "stderr",
     "output_type": "stream",
     "text": [
      "\r",
      "138840it [06:32, 342.91it/s]"
     ]
    },
    {
     "name": "stderr",
     "output_type": "stream",
     "text": [
      "\r",
      "138877it [06:33, 349.38it/s]"
     ]
    },
    {
     "name": "stderr",
     "output_type": "stream",
     "text": [
      "\r",
      "138915it [06:33, 355.79it/s]"
     ]
    },
    {
     "name": "stderr",
     "output_type": "stream",
     "text": [
      "\r",
      "138952it [06:33, 359.09it/s]"
     ]
    },
    {
     "name": "stderr",
     "output_type": "stream",
     "text": [
      "\r",
      "138990it [06:33, 361.85it/s]"
     ]
    },
    {
     "name": "stderr",
     "output_type": "stream",
     "text": [
      "\r",
      "139028it [06:33, 365.77it/s]"
     ]
    },
    {
     "name": "stderr",
     "output_type": "stream",
     "text": [
      "\r",
      "139065it [06:33, 364.22it/s]"
     ]
    },
    {
     "name": "stderr",
     "output_type": "stream",
     "text": [
      "\r",
      "139102it [06:33, 365.60it/s]"
     ]
    },
    {
     "name": "stderr",
     "output_type": "stream",
     "text": [
      "\r",
      "139139it [06:33, 364.58it/s]"
     ]
    },
    {
     "name": "stderr",
     "output_type": "stream",
     "text": [
      "\r",
      "139177it [06:33, 366.50it/s]"
     ]
    },
    {
     "name": "stderr",
     "output_type": "stream",
     "text": [
      "\r",
      "139214it [06:33, 366.80it/s]"
     ]
    },
    {
     "name": "stderr",
     "output_type": "stream",
     "text": [
      "\r",
      "139252it [06:34, 368.67it/s]"
     ]
    },
    {
     "name": "stderr",
     "output_type": "stream",
     "text": [
      "\r",
      "139290it [06:34, 369.53it/s]"
     ]
    },
    {
     "name": "stderr",
     "output_type": "stream",
     "text": [
      "\r",
      "139327it [06:34, 364.10it/s]"
     ]
    },
    {
     "name": "stderr",
     "output_type": "stream",
     "text": [
      "\r",
      "139364it [06:34, 360.49it/s]"
     ]
    },
    {
     "name": "stderr",
     "output_type": "stream",
     "text": [
      "\r",
      "139401it [06:34, 362.28it/s]"
     ]
    },
    {
     "name": "stderr",
     "output_type": "stream",
     "text": [
      "\r",
      "139440it [06:34, 369.13it/s]"
     ]
    },
    {
     "name": "stderr",
     "output_type": "stream",
     "text": [
      "\r",
      "139477it [06:34, 366.97it/s]"
     ]
    },
    {
     "name": "stderr",
     "output_type": "stream",
     "text": [
      "\r",
      "139515it [06:34, 368.90it/s]"
     ]
    },
    {
     "name": "stderr",
     "output_type": "stream",
     "text": [
      "\r",
      "139554it [06:34, 373.60it/s]"
     ]
    },
    {
     "name": "stderr",
     "output_type": "stream",
     "text": [
      "\r",
      "139593it [06:34, 377.37it/s]"
     ]
    },
    {
     "name": "stderr",
     "output_type": "stream",
     "text": [
      "\r",
      "139632it [06:35, 380.62it/s]"
     ]
    },
    {
     "name": "stderr",
     "output_type": "stream",
     "text": [
      "\r",
      "139671it [06:35, 369.89it/s]"
     ]
    },
    {
     "name": "stderr",
     "output_type": "stream",
     "text": [
      "\r",
      "139709it [06:35, 366.86it/s]"
     ]
    },
    {
     "name": "stderr",
     "output_type": "stream",
     "text": [
      "\r",
      "139746it [06:35, 365.72it/s]"
     ]
    },
    {
     "name": "stderr",
     "output_type": "stream",
     "text": [
      "\r",
      "139783it [06:35, 365.40it/s]"
     ]
    },
    {
     "name": "stderr",
     "output_type": "stream",
     "text": [
      "\r",
      "139820it [06:35, 363.72it/s]"
     ]
    },
    {
     "name": "stderr",
     "output_type": "stream",
     "text": [
      "\r",
      "139857it [06:35, 360.77it/s]"
     ]
    },
    {
     "name": "stderr",
     "output_type": "stream",
     "text": [
      "\r",
      "139895it [06:35, 363.67it/s]"
     ]
    },
    {
     "name": "stderr",
     "output_type": "stream",
     "text": [
      "\r",
      "139932it [06:35, 361.29it/s]"
     ]
    },
    {
     "name": "stderr",
     "output_type": "stream",
     "text": [
      "\r",
      "139969it [06:35, 357.81it/s]"
     ]
    },
    {
     "name": "stderr",
     "output_type": "stream",
     "text": [
      "\r",
      "140005it [06:36, 357.64it/s]"
     ]
    },
    {
     "name": "stderr",
     "output_type": "stream",
     "text": [
      "\r",
      "140043it [06:36, 361.96it/s]"
     ]
    },
    {
     "name": "stderr",
     "output_type": "stream",
     "text": [
      "\r",
      "140080it [06:36, 358.70it/s]"
     ]
    },
    {
     "name": "stderr",
     "output_type": "stream",
     "text": [
      "\r",
      "140118it [06:36, 363.39it/s]"
     ]
    },
    {
     "name": "stderr",
     "output_type": "stream",
     "text": [
      "\r",
      "140155it [06:36, 360.43it/s]"
     ]
    },
    {
     "name": "stderr",
     "output_type": "stream",
     "text": [
      "\r",
      "140192it [06:36, 359.83it/s]"
     ]
    },
    {
     "name": "stderr",
     "output_type": "stream",
     "text": [
      "\r",
      "140228it [06:36, 359.80it/s]"
     ]
    },
    {
     "name": "stderr",
     "output_type": "stream",
     "text": [
      "\r",
      "140264it [06:36, 359.27it/s]"
     ]
    },
    {
     "name": "stderr",
     "output_type": "stream",
     "text": [
      "\r",
      "140300it [06:36, 359.05it/s]"
     ]
    },
    {
     "name": "stderr",
     "output_type": "stream",
     "text": [
      "\r",
      "140340it [06:37, 368.76it/s]"
     ]
    },
    {
     "name": "stderr",
     "output_type": "stream",
     "text": [
      "\r",
      "140382it [06:37, 380.93it/s]"
     ]
    },
    {
     "name": "stderr",
     "output_type": "stream",
     "text": [
      "\r",
      "140422it [06:37, 383.91it/s]"
     ]
    },
    {
     "name": "stderr",
     "output_type": "stream",
     "text": [
      "\r",
      "140461it [06:37, 376.77it/s]"
     ]
    },
    {
     "name": "stderr",
     "output_type": "stream",
     "text": [
      "\r",
      "140499it [06:37, 372.62it/s]"
     ]
    },
    {
     "name": "stderr",
     "output_type": "stream",
     "text": [
      "\r",
      "140537it [06:37, 371.69it/s]"
     ]
    },
    {
     "name": "stderr",
     "output_type": "stream",
     "text": [
      "\r",
      "140575it [06:37, 371.90it/s]"
     ]
    },
    {
     "name": "stderr",
     "output_type": "stream",
     "text": [
      "\r",
      "140613it [06:37, 368.84it/s]"
     ]
    },
    {
     "name": "stderr",
     "output_type": "stream",
     "text": [
      "\r",
      "140650it [06:37, 362.76it/s]"
     ]
    },
    {
     "name": "stderr",
     "output_type": "stream",
     "text": [
      "\r",
      "140687it [06:37, 357.32it/s]"
     ]
    },
    {
     "name": "stderr",
     "output_type": "stream",
     "text": [
      "\r",
      "140723it [06:38, 349.69it/s]"
     ]
    },
    {
     "name": "stderr",
     "output_type": "stream",
     "text": [
      "\r",
      "140760it [06:38, 353.37it/s]"
     ]
    },
    {
     "name": "stderr",
     "output_type": "stream",
     "text": [
      "\r",
      "140797it [06:38, 357.83it/s]"
     ]
    },
    {
     "name": "stderr",
     "output_type": "stream",
     "text": [
      "\r",
      "140834it [06:38, 358.73it/s]"
     ]
    },
    {
     "name": "stderr",
     "output_type": "stream",
     "text": [
      "\r",
      "140871it [06:38, 360.41it/s]"
     ]
    },
    {
     "name": "stderr",
     "output_type": "stream",
     "text": [
      "\r",
      "140909it [06:38, 364.29it/s]"
     ]
    },
    {
     "name": "stderr",
     "output_type": "stream",
     "text": [
      "\r",
      "140946it [06:38, 364.51it/s]"
     ]
    },
    {
     "name": "stderr",
     "output_type": "stream",
     "text": [
      "\r",
      "140983it [06:38, 364.54it/s]"
     ]
    },
    {
     "name": "stderr",
     "output_type": "stream",
     "text": [
      "\r",
      "141020it [06:38, 362.25it/s]"
     ]
    },
    {
     "name": "stderr",
     "output_type": "stream",
     "text": [
      "\r",
      "141057it [06:38, 362.17it/s]"
     ]
    },
    {
     "name": "stderr",
     "output_type": "stream",
     "text": [
      "\r",
      "141094it [06:39, 364.13it/s]"
     ]
    },
    {
     "name": "stderr",
     "output_type": "stream",
     "text": [
      "\r",
      "141131it [06:39, 365.84it/s]"
     ]
    },
    {
     "name": "stderr",
     "output_type": "stream",
     "text": [
      "\r",
      "141169it [06:39, 368.45it/s]"
     ]
    },
    {
     "name": "stderr",
     "output_type": "stream",
     "text": [
      "\r",
      "141206it [06:39, 360.83it/s]"
     ]
    },
    {
     "name": "stderr",
     "output_type": "stream",
     "text": [
      "\r",
      "141243it [06:39, 359.90it/s]"
     ]
    },
    {
     "name": "stderr",
     "output_type": "stream",
     "text": [
      "\r",
      "141281it [06:39, 363.25it/s]"
     ]
    },
    {
     "name": "stderr",
     "output_type": "stream",
     "text": [
      "\r",
      "141319it [06:39, 365.60it/s]"
     ]
    },
    {
     "name": "stderr",
     "output_type": "stream",
     "text": [
      "\r",
      "141356it [06:39, 363.57it/s]"
     ]
    },
    {
     "name": "stderr",
     "output_type": "stream",
     "text": [
      "\r",
      "141394it [06:39, 364.96it/s]"
     ]
    },
    {
     "name": "stderr",
     "output_type": "stream",
     "text": [
      "\r",
      "141433it [06:39, 371.44it/s]"
     ]
    },
    {
     "name": "stderr",
     "output_type": "stream",
     "text": [
      "\r",
      "141472it [06:40, 374.88it/s]"
     ]
    },
    {
     "name": "stderr",
     "output_type": "stream",
     "text": [
      "\r",
      "141510it [06:40, 374.74it/s]"
     ]
    },
    {
     "name": "stderr",
     "output_type": "stream",
     "text": [
      "\r",
      "141548it [06:40, 366.89it/s]"
     ]
    },
    {
     "name": "stderr",
     "output_type": "stream",
     "text": [
      "\r",
      "141585it [06:40, 362.40it/s]"
     ]
    },
    {
     "name": "stderr",
     "output_type": "stream",
     "text": [
      "\r",
      "141622it [06:40, 361.70it/s]"
     ]
    },
    {
     "name": "stderr",
     "output_type": "stream",
     "text": [
      "\r",
      "141659it [06:40, 362.61it/s]"
     ]
    },
    {
     "name": "stderr",
     "output_type": "stream",
     "text": [
      "\r",
      "141696it [06:40, 364.17it/s]"
     ]
    },
    {
     "name": "stderr",
     "output_type": "stream",
     "text": [
      "\r",
      "141733it [06:40, 362.75it/s]"
     ]
    },
    {
     "name": "stderr",
     "output_type": "stream",
     "text": [
      "\r",
      "141771it [06:40, 367.66it/s]"
     ]
    },
    {
     "name": "stderr",
     "output_type": "stream",
     "text": [
      "\r",
      "141808it [06:41, 366.05it/s]"
     ]
    },
    {
     "name": "stderr",
     "output_type": "stream",
     "text": [
      "\r",
      "141846it [06:41, 366.73it/s]"
     ]
    },
    {
     "name": "stderr",
     "output_type": "stream",
     "text": [
      "\r",
      "141883it [06:41, 367.50it/s]"
     ]
    },
    {
     "name": "stderr",
     "output_type": "stream",
     "text": [
      "\r",
      "141920it [06:41, 354.49it/s]"
     ]
    },
    {
     "name": "stderr",
     "output_type": "stream",
     "text": [
      "\r",
      "141956it [06:41, 353.55it/s]"
     ]
    },
    {
     "name": "stderr",
     "output_type": "stream",
     "text": [
      "\r",
      "141994it [06:41, 358.45it/s]"
     ]
    },
    {
     "name": "stderr",
     "output_type": "stream",
     "text": [
      "\r",
      "142030it [06:41, 358.56it/s]"
     ]
    },
    {
     "name": "stderr",
     "output_type": "stream",
     "text": [
      "\r",
      "142067it [06:41, 358.00it/s]"
     ]
    },
    {
     "name": "stderr",
     "output_type": "stream",
     "text": [
      "\r",
      "142103it [06:41, 357.09it/s]"
     ]
    },
    {
     "name": "stderr",
     "output_type": "stream",
     "text": [
      "\r",
      "142140it [06:41, 358.98it/s]"
     ]
    },
    {
     "name": "stderr",
     "output_type": "stream",
     "text": [
      "\r",
      "142179it [06:42, 366.12it/s]"
     ]
    },
    {
     "name": "stderr",
     "output_type": "stream",
     "text": [
      "\r",
      "142221it [06:42, 380.40it/s]"
     ]
    },
    {
     "name": "stderr",
     "output_type": "stream",
     "text": [
      "\r",
      "142260it [06:42, 380.55it/s]"
     ]
    },
    {
     "name": "stderr",
     "output_type": "stream",
     "text": [
      "\r",
      "142299it [06:42, 373.28it/s]"
     ]
    },
    {
     "name": "stderr",
     "output_type": "stream",
     "text": [
      "\r",
      "142337it [06:42, 372.81it/s]"
     ]
    },
    {
     "name": "stderr",
     "output_type": "stream",
     "text": [
      "\r",
      "142375it [06:42, 373.05it/s]"
     ]
    },
    {
     "name": "stderr",
     "output_type": "stream",
     "text": [
      "\r",
      "142413it [06:42, 371.93it/s]"
     ]
    },
    {
     "name": "stderr",
     "output_type": "stream",
     "text": [
      "\r",
      "142451it [06:42, 370.44it/s]"
     ]
    },
    {
     "name": "stderr",
     "output_type": "stream",
     "text": [
      "\r",
      "142489it [06:42, 361.93it/s]"
     ]
    },
    {
     "name": "stderr",
     "output_type": "stream",
     "text": [
      "\r",
      "142526it [06:42, 360.30it/s]"
     ]
    },
    {
     "name": "stderr",
     "output_type": "stream",
     "text": [
      "\r",
      "142563it [06:43, 352.62it/s]"
     ]
    },
    {
     "name": "stderr",
     "output_type": "stream",
     "text": [
      "\r",
      "142600it [06:43, 356.75it/s]"
     ]
    },
    {
     "name": "stderr",
     "output_type": "stream",
     "text": [
      "\r",
      "142636it [06:43, 354.84it/s]"
     ]
    },
    {
     "name": "stderr",
     "output_type": "stream",
     "text": [
      "\r",
      "142673it [06:43, 358.65it/s]"
     ]
    },
    {
     "name": "stderr",
     "output_type": "stream",
     "text": [
      "\r",
      "142711it [06:43, 362.33it/s]"
     ]
    },
    {
     "name": "stderr",
     "output_type": "stream",
     "text": [
      "\r",
      "142748it [06:43, 361.35it/s]"
     ]
    },
    {
     "name": "stderr",
     "output_type": "stream",
     "text": [
      "\r",
      "142785it [06:43, 361.01it/s]"
     ]
    },
    {
     "name": "stderr",
     "output_type": "stream",
     "text": [
      "\r",
      "142822it [06:43, 360.64it/s]"
     ]
    },
    {
     "name": "stderr",
     "output_type": "stream",
     "text": [
      "\r",
      "142859it [06:43, 360.96it/s]"
     ]
    },
    {
     "name": "stderr",
     "output_type": "stream",
     "text": [
      "\r",
      "142897it [06:44, 364.38it/s]"
     ]
    },
    {
     "name": "stderr",
     "output_type": "stream",
     "text": [
      "\r",
      "142934it [06:44, 360.89it/s]"
     ]
    },
    {
     "name": "stderr",
     "output_type": "stream",
     "text": [
      "\r",
      "142972it [06:44, 366.20it/s]"
     ]
    },
    {
     "name": "stderr",
     "output_type": "stream",
     "text": [
      "\r",
      "143009it [06:44, 364.88it/s]"
     ]
    },
    {
     "name": "stderr",
     "output_type": "stream",
     "text": [
      "\r",
      "143046it [06:44, 361.27it/s]"
     ]
    },
    {
     "name": "stderr",
     "output_type": "stream",
     "text": [
      "\r",
      "143083it [06:44, 361.81it/s]"
     ]
    },
    {
     "name": "stderr",
     "output_type": "stream",
     "text": [
      "\r",
      "143120it [06:44, 362.31it/s]"
     ]
    },
    {
     "name": "stderr",
     "output_type": "stream",
     "text": [
      "\r",
      "143159it [06:44, 368.80it/s]"
     ]
    },
    {
     "name": "stderr",
     "output_type": "stream",
     "text": [
      "\r",
      "143196it [06:44, 367.04it/s]"
     ]
    },
    {
     "name": "stderr",
     "output_type": "stream",
     "text": [
      "\r",
      "143234it [06:44, 368.28it/s]"
     ]
    },
    {
     "name": "stderr",
     "output_type": "stream",
     "text": [
      "\r",
      "143273it [06:45, 370.70it/s]"
     ]
    },
    {
     "name": "stderr",
     "output_type": "stream",
     "text": [
      "\r",
      "143312it [06:45, 375.57it/s]"
     ]
    },
    {
     "name": "stderr",
     "output_type": "stream",
     "text": [
      "\r",
      "143352it [06:45, 381.16it/s]"
     ]
    },
    {
     "name": "stderr",
     "output_type": "stream",
     "text": [
      "\r",
      "143391it [06:45, 372.49it/s]"
     ]
    },
    {
     "name": "stderr",
     "output_type": "stream",
     "text": [
      "\r",
      "143429it [06:45, 367.85it/s]"
     ]
    },
    {
     "name": "stderr",
     "output_type": "stream",
     "text": [
      "\r",
      "143466it [06:45, 366.35it/s]"
     ]
    },
    {
     "name": "stderr",
     "output_type": "stream",
     "text": [
      "\r",
      "143503it [06:45, 363.96it/s]"
     ]
    },
    {
     "name": "stderr",
     "output_type": "stream",
     "text": [
      "\r",
      "143541it [06:45, 366.99it/s]"
     ]
    },
    {
     "name": "stderr",
     "output_type": "stream",
     "text": [
      "\r",
      "143578it [06:45, 365.69it/s]"
     ]
    },
    {
     "name": "stderr",
     "output_type": "stream",
     "text": [
      "\r",
      "143617it [06:45, 369.77it/s]"
     ]
    },
    {
     "name": "stderr",
     "output_type": "stream",
     "text": [
      "\r",
      "143654it [06:46, 367.85it/s]"
     ]
    },
    {
     "name": "stderr",
     "output_type": "stream",
     "text": [
      "\r",
      "143692it [06:46, 368.01it/s]"
     ]
    },
    {
     "name": "stderr",
     "output_type": "stream",
     "text": [
      "\r",
      "143729it [06:46, 366.65it/s]"
     ]
    },
    {
     "name": "stderr",
     "output_type": "stream",
     "text": [
      "\r",
      "143766it [06:46, 356.61it/s]"
     ]
    },
    {
     "name": "stderr",
     "output_type": "stream",
     "text": [
      "\r",
      "143802it [06:46, 354.51it/s]"
     ]
    },
    {
     "name": "stderr",
     "output_type": "stream",
     "text": [
      "\r",
      "143840it [06:46, 360.33it/s]"
     ]
    },
    {
     "name": "stderr",
     "output_type": "stream",
     "text": [
      "\r",
      "143877it [06:46, 361.16it/s]"
     ]
    },
    {
     "name": "stderr",
     "output_type": "stream",
     "text": [
      "\r",
      "143915it [06:46, 364.71it/s]"
     ]
    },
    {
     "name": "stderr",
     "output_type": "stream",
     "text": [
      "\r",
      "143952it [06:46, 360.51it/s]"
     ]
    },
    {
     "name": "stderr",
     "output_type": "stream",
     "text": [
      "\r",
      "143989it [06:47, 359.44it/s]"
     ]
    },
    {
     "name": "stderr",
     "output_type": "stream",
     "text": [
      "\r",
      "144000it [06:47, 353.77it/s]"
     ]
    },
    {
     "name": "stderr",
     "output_type": "stream",
     "text": [
      "\n"
     ]
    },
    {
     "name": "stdout",
     "output_type": "stream",
     "text": [
      "CPU times: user 8min 12s, sys: 5.35 s, total: 8min 18s\n",
      "Wall time: 8min 16s\n"
     ]
    },
    {
     "data": {
      "text/html": [
       "<div>\n",
       "<style scoped>\n",
       "    .dataframe tbody tr th:only-of-type {\n",
       "        vertical-align: middle;\n",
       "    }\n",
       "\n",
       "    .dataframe tbody tr th {\n",
       "        vertical-align: top;\n",
       "    }\n",
       "\n",
       "    .dataframe thead th {\n",
       "        text-align: right;\n",
       "    }\n",
       "</style>\n",
       "<table border=\"1\" class=\"dataframe\">\n",
       "  <thead>\n",
       "    <tr style=\"text-align: right;\">\n",
       "      <th></th>\n",
       "      <th>author_id</th>\n",
       "      <th>tweet_text</th>\n",
       "      <th>created_at</th>\n",
       "      <th>hashtags</th>\n",
       "      <th>users</th>\n",
       "      <th>location</th>\n",
       "    </tr>\n",
       "  </thead>\n",
       "  <tbody>\n",
       "    <tr>\n",
       "      <th>129200</th>\n",
       "      <td>1439672084842516481</td>\n",
       "      <td>There was a 2.63 magnitude earthquake 5 km WNW of Jagual, Puerto Rico</td>\n",
       "      <td>2022-08-01 00:51:18+00:00</td>\n",
       "      <td>[]</td>\n",
       "      <td>[]</td>\n",
       "      <td>[WNW, Jagual, Puerto Rico]</td>\n",
       "    </tr>\n",
       "    <tr>\n",
       "      <th>40544</th>\n",
       "      <td>2409116011</td>\n",
       "      <td>RT @grum10: #Earthquake: Southwest Of Sumatra, Indonesia at 04 August 2022 05:39 pm (UTC), Magnitude: 5.1 https://t.co/G0oN3BluGR</td>\n",
       "      <td>2022-08-04 23:07:35+00:00</td>\n",
       "      <td>['Earthquake']</td>\n",
       "      <td>['grum10']</td>\n",
       "      <td>[Indonesia]</td>\n",
       "    </tr>\n",
       "    <tr>\n",
       "      <th>27683</th>\n",
       "      <td>1554831633592725510</td>\n",
       "      <td>RT @OfficialDGISPR: CJCSC &amp;amp; Services Chiefs express deepest condolences over tragic loss of precious lives &amp;amp; damage to infrastructure due t…</td>\n",
       "      <td>2022-08-04 16:13:32+00:00</td>\n",
       "      <td>[]</td>\n",
       "      <td>['OfficialDGISPR']</td>\n",
       "      <td>[]</td>\n",
       "    </tr>\n",
       "    <tr>\n",
       "      <th>45186</th>\n",
       "      <td>1501841604185038848</td>\n",
       "      <td>RT @USCUPDiliman: Call for Donations\\n\\nLast week, Abra was hit by a 7.3 magnitude earthquake, and since then, the region has experienced con…</td>\n",
       "      <td>2022-08-04 09:48:40+00:00</td>\n",
       "      <td>[]</td>\n",
       "      <td>['USCUPDiliman']</td>\n",
       "      <td>[]</td>\n",
       "    </tr>\n",
       "    <tr>\n",
       "      <th>37002</th>\n",
       "      <td>2170342764</td>\n",
       "      <td>RT @phivolcs_dost: #EarthquakePH #EarthquakeQuezon\\nEarthquake Information No.1\\nDate and Time: 05 August 2022 - 03:19 AM\\nMagnitude = 1.4\\nDep…</td>\n",
       "      <td>2022-08-04 19:28:17+00:00</td>\n",
       "      <td>['EarthquakePH', 'EarthquakeQuezon']</td>\n",
       "      <td>['phivolcs_dost']</td>\n",
       "      <td>[]</td>\n",
       "    </tr>\n",
       "  </tbody>\n",
       "</table>\n",
       "</div>"
      ],
      "text/plain": [
       "                  author_id  \\\n",
       "129200  1439672084842516481   \n",
       "40544            2409116011   \n",
       "27683   1554831633592725510   \n",
       "45186   1501841604185038848   \n",
       "37002            2170342764   \n",
       "\n",
       "                                                                                                                                                  tweet_text  \\\n",
       "129200                                                                                 There was a 2.63 magnitude earthquake 5 km WNW of Jagual, Puerto Rico   \n",
       "40544                      RT @grum10: #Earthquake: Southwest Of Sumatra, Indonesia at 04 August 2022 05:39 pm (UTC), Magnitude: 5.1 https://t.co/G0oN3BluGR   \n",
       "27683   RT @OfficialDGISPR: CJCSC &amp; Services Chiefs express deepest condolences over tragic loss of precious lives &amp; damage to infrastructure due t…   \n",
       "45186         RT @USCUPDiliman: Call for Donations\\n\\nLast week, Abra was hit by a 7.3 magnitude earthquake, and since then, the region has experienced con…   \n",
       "37002       RT @phivolcs_dost: #EarthquakePH #EarthquakeQuezon\\nEarthquake Information No.1\\nDate and Time: 05 August 2022 - 03:19 AM\\nMagnitude = 1.4\\nDep…   \n",
       "\n",
       "                       created_at                              hashtags  \\\n",
       "129200  2022-08-01 00:51:18+00:00                                    []   \n",
       "40544   2022-08-04 23:07:35+00:00                        ['Earthquake']   \n",
       "27683   2022-08-04 16:13:32+00:00                                    []   \n",
       "45186   2022-08-04 09:48:40+00:00                                    []   \n",
       "37002   2022-08-04 19:28:17+00:00  ['EarthquakePH', 'EarthquakeQuezon']   \n",
       "\n",
       "                     users                    location  \n",
       "129200                  []  [WNW, Jagual, Puerto Rico]  \n",
       "40544           ['grum10']                 [Indonesia]  \n",
       "27683   ['OfficialDGISPR']                          []  \n",
       "45186     ['USCUPDiliman']                          []  \n",
       "37002    ['phivolcs_dost']                          []  "
      ]
     },
     "execution_count": 6,
     "metadata": {},
     "output_type": "execute_result"
    }
   ],
   "source": [
    "%%time\n",
    "df_tweets, df_locs_most_common = extract_assign_location(df_tweets, number_most_common=10)\n",
    "\n",
    "df_tweets.sample(5)"
   ]
  },
  {
   "cell_type": "code",
   "execution_count": 7,
   "id": "d46fac4f",
   "metadata": {
    "execution": {
     "iopub.execute_input": "2022-08-19T20:56:23.092264Z",
     "iopub.status.busy": "2022-08-19T20:56:23.091891Z",
     "iopub.status.idle": "2022-08-19T20:56:23.099774Z",
     "shell.execute_reply": "2022-08-19T20:56:23.098905Z"
    },
    "papermill": {
     "duration": 0.1899,
     "end_time": "2022-08-19T20:56:23.101612",
     "exception": false,
     "start_time": "2022-08-19T20:56:22.911712",
     "status": "completed"
    },
    "tags": []
   },
   "outputs": [
    {
     "data": {
      "text/html": [
       "<div>\n",
       "<style scoped>\n",
       "    .dataframe tbody tr th:only-of-type {\n",
       "        vertical-align: middle;\n",
       "    }\n",
       "\n",
       "    .dataframe tbody tr th {\n",
       "        vertical-align: top;\n",
       "    }\n",
       "\n",
       "    .dataframe thead th {\n",
       "        text-align: right;\n",
       "    }\n",
       "</style>\n",
       "<table border=\"1\" class=\"dataframe\">\n",
       "  <thead>\n",
       "    <tr style=\"text-align: right;\">\n",
       "      <th></th>\n",
       "      <th>location</th>\n",
       "      <th>count</th>\n",
       "    </tr>\n",
       "  </thead>\n",
       "  <tbody>\n",
       "    <tr>\n",
       "      <th>0</th>\n",
       "      <td>United States</td>\n",
       "      <td>26630</td>\n",
       "    </tr>\n",
       "    <tr>\n",
       "      <th>1</th>\n",
       "      <td>Japan</td>\n",
       "      <td>5661</td>\n",
       "    </tr>\n",
       "    <tr>\n",
       "      <th>2</th>\n",
       "      <td>HI</td>\n",
       "      <td>5116</td>\n",
       "    </tr>\n",
       "    <tr>\n",
       "      <th>3</th>\n",
       "      <td>Hawaii</td>\n",
       "      <td>4186</td>\n",
       "    </tr>\n",
       "    <tr>\n",
       "      <th>4</th>\n",
       "      <td>Alaska</td>\n",
       "      <td>2463</td>\n",
       "    </tr>\n",
       "    <tr>\n",
       "      <th>5</th>\n",
       "      <td>Izu Islands</td>\n",
       "      <td>2387</td>\n",
       "    </tr>\n",
       "    <tr>\n",
       "      <th>6</th>\n",
       "      <td>CA</td>\n",
       "      <td>2201</td>\n",
       "    </tr>\n",
       "    <tr>\n",
       "      <th>7</th>\n",
       "      <td>Nepal</td>\n",
       "      <td>1817</td>\n",
       "    </tr>\n",
       "    <tr>\n",
       "      <th>8</th>\n",
       "      <td>Honaunau-Napoopoo</td>\n",
       "      <td>1779</td>\n",
       "    </tr>\n",
       "    <tr>\n",
       "      <th>9</th>\n",
       "      <td>Indonesia</td>\n",
       "      <td>1750</td>\n",
       "    </tr>\n",
       "  </tbody>\n",
       "</table>\n",
       "</div>"
      ],
      "text/plain": [
       "            location  count\n",
       "0      United States  26630\n",
       "1              Japan   5661\n",
       "2                 HI   5116\n",
       "3             Hawaii   4186\n",
       "4             Alaska   2463\n",
       "5        Izu Islands   2387\n",
       "6                 CA   2201\n",
       "7              Nepal   1817\n",
       "8  Honaunau-Napoopoo   1779\n",
       "9          Indonesia   1750"
      ]
     },
     "execution_count": 7,
     "metadata": {},
     "output_type": "execute_result"
    }
   ],
   "source": [
    "df_locs_most_common"
   ]
  },
  {
   "cell_type": "markdown",
   "id": "8d369dc9",
   "metadata": {
    "papermill": {
     "duration": 0.172372,
     "end_time": "2022-08-19T20:56:23.451126",
     "exception": false,
     "start_time": "2022-08-19T20:56:23.278754",
     "status": "completed"
    },
    "tags": []
   },
   "source": [
    "## Predict the class labels"
   ]
  },
  {
   "cell_type": "code",
   "execution_count": 8,
   "id": "dbf267b1",
   "metadata": {
    "execution": {
     "iopub.execute_input": "2022-08-19T20:56:23.796145Z",
     "iopub.status.busy": "2022-08-19T20:56:23.795534Z",
     "iopub.status.idle": "2022-08-19T20:56:24.475230Z",
     "shell.execute_reply": "2022-08-19T20:56:24.474216Z"
    },
    "papermill": {
     "duration": 0.860965,
     "end_time": "2022-08-19T20:56:24.478181",
     "exception": false,
     "start_time": "2022-08-19T20:56:23.617216",
     "status": "completed"
    },
    "tags": []
   },
   "outputs": [],
   "source": [
    "# Get the vectorizer\n",
    "with open(upstream[\"vectorizer\"][\"vectorizer\"], 'rb') as f:\n",
    "    vectorizer = pickle.load(f)"
   ]
  },
  {
   "cell_type": "code",
   "execution_count": 9,
   "id": "38407ca7",
   "metadata": {
    "execution": {
     "iopub.execute_input": "2022-08-19T20:56:24.959748Z",
     "iopub.status.busy": "2022-08-19T20:56:24.959358Z",
     "iopub.status.idle": "2022-08-19T20:56:24.970108Z",
     "shell.execute_reply": "2022-08-19T20:56:24.969274Z"
    },
    "papermill": {
     "duration": 0.207725,
     "end_time": "2022-08-19T20:56:24.972445",
     "exception": false,
     "start_time": "2022-08-19T20:56:24.764720",
     "status": "completed"
    },
    "tags": []
   },
   "outputs": [],
   "source": [
    "# Get the classification model\n",
    "with open(upstream[\"category_classification_models\"][\"model_lr\"], 'rb') as f:\n",
    "    classifier = pickle.load(f)"
   ]
  },
  {
   "cell_type": "code",
   "execution_count": 10,
   "id": "23f39683",
   "metadata": {
    "execution": {
     "iopub.execute_input": "2022-08-19T20:56:25.349375Z",
     "iopub.status.busy": "2022-08-19T20:56:25.349070Z",
     "iopub.status.idle": "2022-08-19T20:56:56.763546Z",
     "shell.execute_reply": "2022-08-19T20:56:56.762811Z"
    },
    "papermill": {
     "duration": 31.833303,
     "end_time": "2022-08-19T20:56:56.987811",
     "exception": false,
     "start_time": "2022-08-19T20:56:25.154508",
     "status": "completed"
    },
    "tags": []
   },
   "outputs": [
    {
     "name": "stdout",
     "output_type": "stream",
     "text": [
      "CPU times: user 31.3 s, sys: 104 ms, total: 31.4 s\n",
      "Wall time: 31.4 s\n"
     ]
    },
    {
     "data": {
      "text/html": [
       "<div>\n",
       "<style scoped>\n",
       "    .dataframe tbody tr th:only-of-type {\n",
       "        vertical-align: middle;\n",
       "    }\n",
       "\n",
       "    .dataframe tbody tr th {\n",
       "        vertical-align: top;\n",
       "    }\n",
       "\n",
       "    .dataframe thead th {\n",
       "        text-align: right;\n",
       "    }\n",
       "</style>\n",
       "<table border=\"1\" class=\"dataframe\">\n",
       "  <thead>\n",
       "    <tr style=\"text-align: right;\">\n",
       "      <th></th>\n",
       "      <th>author_id</th>\n",
       "      <th>tweet_text</th>\n",
       "      <th>created_at</th>\n",
       "      <th>hashtags</th>\n",
       "      <th>users</th>\n",
       "      <th>location</th>\n",
       "      <th>class_label</th>\n",
       "    </tr>\n",
       "  </thead>\n",
       "  <tbody>\n",
       "    <tr>\n",
       "      <th>116396</th>\n",
       "      <td>1112896007774371840</td>\n",
       "      <td>1.51 magnitude earthquake occurred at San Benito, CA, United States on 2022-08-01 22:01:35 UTC\\nMap: https://t.co/VdV3ia8P6X\\n#earthb0t #earthquake  #SanBenito #CA #UnitedStates #noaa #greatshakeout #LetsBeSafe #OpenData #data https://t.co/dHgcyjw8Rc</td>\n",
       "      <td>2022-08-01 22:06:49+00:00</td>\n",
       "      <td>['earthb0t', 'earthquake', 'SanBenito', 'CA', 'UnitedStates', 'noaa', 'greatshakeout', 'LetsBeSafe', 'OpenData', 'data']</td>\n",
       "      <td>[]</td>\n",
       "      <td>[San Benito, United States]</td>\n",
       "      <td>other_relevant_information</td>\n",
       "    </tr>\n",
       "    <tr>\n",
       "      <th>85944</th>\n",
       "      <td>802064401</td>\n",
       "      <td>#EarthquakePH #EarthquakeAbra\\nEarthquake Information No.1\\nDate and Time: 02 August 2022 - 08:25 PM\\nMagnitude = 2.7\\nDepth = 010 km\\nLocation = 17.47°N, 120.71°E - 005 km N 05° E of Manabo (Abra)\\n\\nhttps://t.co/mYXScpwgC9 https://t.co/zcuCkUPf17</td>\n",
       "      <td>2022-08-02 12:37:30+00:00</td>\n",
       "      <td>['EarthquakePH', 'EarthquakeAbra']</td>\n",
       "      <td>[]</td>\n",
       "      <td>[Manabo]</td>\n",
       "      <td>other_relevant_information</td>\n",
       "    </tr>\n",
       "    <tr>\n",
       "      <th>24981</th>\n",
       "      <td>1495126344434212864</td>\n",
       "      <td>RT @komonews: Did you feel the earthquake? \\n\\nhttps://t.co/3dgGJWZyIl</td>\n",
       "      <td>2022-08-05 05:20:50+00:00</td>\n",
       "      <td>[]</td>\n",
       "      <td>['komonews']</td>\n",
       "      <td>[]</td>\n",
       "      <td>not_humanitarian</td>\n",
       "    </tr>\n",
       "    <tr>\n",
       "      <th>136244</th>\n",
       "      <td>3278279106</td>\n",
       "      <td>RT @phivolcs_dost: #EarthquakePH #EarthquakeAbra\\n#iFelt_AbraEarthquake\\nEarthquake Information No.1\\nDate and Time: 31 July 2022 - 09:45 PM\\nM…</td>\n",
       "      <td>2022-08-01 06:20:20+00:00</td>\n",
       "      <td>['EarthquakePH', 'EarthquakeAbra', 'iFelt_AbraEarthquake']</td>\n",
       "      <td>['phivolcs_dost']</td>\n",
       "      <td>[]</td>\n",
       "      <td>other_relevant_information</td>\n",
       "    </tr>\n",
       "    <tr>\n",
       "      <th>131832</th>\n",
       "      <td>2170378830</td>\n",
       "      <td>RT @gisliberg: A 5.08 magnitude earthquake has occurred near Iceland Region at 31.7.2022, 17:48! https://t.co/8hHsrb099I</td>\n",
       "      <td>2022-07-31 17:56:20+00:00</td>\n",
       "      <td>[]</td>\n",
       "      <td>['gisliberg']</td>\n",
       "      <td>[Iceland Region]</td>\n",
       "      <td>other_relevant_information</td>\n",
       "    </tr>\n",
       "  </tbody>\n",
       "</table>\n",
       "</div>"
      ],
      "text/plain": [
       "                  author_id  \\\n",
       "116396  1112896007774371840   \n",
       "85944             802064401   \n",
       "24981   1495126344434212864   \n",
       "136244           3278279106   \n",
       "131832           2170378830   \n",
       "\n",
       "                                                                                                                                                                                                                                                        tweet_text  \\\n",
       "116396  1.51 magnitude earthquake occurred at San Benito, CA, United States on 2022-08-01 22:01:35 UTC\\nMap: https://t.co/VdV3ia8P6X\\n#earthb0t #earthquake  #SanBenito #CA #UnitedStates #noaa #greatshakeout #LetsBeSafe #OpenData #data https://t.co/dHgcyjw8Rc   \n",
       "85944     #EarthquakePH #EarthquakeAbra\\nEarthquake Information No.1\\nDate and Time: 02 August 2022 - 08:25 PM\\nMagnitude = 2.7\\nDepth = 010 km\\nLocation = 17.47°N, 120.71°E - 005 km N 05° E of Manabo (Abra)\\n\\nhttps://t.co/mYXScpwgC9 https://t.co/zcuCkUPf17   \n",
       "24981                                                                                                                                                                                       RT @komonews: Did you feel the earthquake? \\n\\nhttps://t.co/3dgGJWZyIl   \n",
       "136244                                                                                                            RT @phivolcs_dost: #EarthquakePH #EarthquakeAbra\\n#iFelt_AbraEarthquake\\nEarthquake Information No.1\\nDate and Time: 31 July 2022 - 09:45 PM\\nM…   \n",
       "131832                                                                                                                                    RT @gisliberg: A 5.08 magnitude earthquake has occurred near Iceland Region at 31.7.2022, 17:48! https://t.co/8hHsrb099I   \n",
       "\n",
       "                       created_at  \\\n",
       "116396  2022-08-01 22:06:49+00:00   \n",
       "85944   2022-08-02 12:37:30+00:00   \n",
       "24981   2022-08-05 05:20:50+00:00   \n",
       "136244  2022-08-01 06:20:20+00:00   \n",
       "131832  2022-07-31 17:56:20+00:00   \n",
       "\n",
       "                                                                                                                        hashtags  \\\n",
       "116396  ['earthb0t', 'earthquake', 'SanBenito', 'CA', 'UnitedStates', 'noaa', 'greatshakeout', 'LetsBeSafe', 'OpenData', 'data']   \n",
       "85944                                                                                         ['EarthquakePH', 'EarthquakeAbra']   \n",
       "24981                                                                                                                         []   \n",
       "136244                                                                ['EarthquakePH', 'EarthquakeAbra', 'iFelt_AbraEarthquake']   \n",
       "131832                                                                                                                        []   \n",
       "\n",
       "                    users                     location  \\\n",
       "116396                 []  [San Benito, United States]   \n",
       "85944                  []                     [Manabo]   \n",
       "24981        ['komonews']                           []   \n",
       "136244  ['phivolcs_dost']                           []   \n",
       "131832      ['gisliberg']             [Iceland Region]   \n",
       "\n",
       "                       class_label  \n",
       "116396  other_relevant_information  \n",
       "85944   other_relevant_information  \n",
       "24981             not_humanitarian  \n",
       "136244  other_relevant_information  \n",
       "131832  other_relevant_information  "
      ]
     },
     "execution_count": 10,
     "metadata": {},
     "output_type": "execute_result"
    }
   ],
   "source": [
    "%%time\n",
    "# Predict the class labels\n",
    "class_label = classifier.predict(vectorizer.transform(df_tweets['tweet_text']))\n",
    "df_tweets['class_label'] = class_label\n",
    "\n",
    "df_tweets.sample(5)"
   ]
  },
  {
   "cell_type": "markdown",
   "id": "3bf0dafe",
   "metadata": {
    "papermill": {
     "duration": 0.22342,
     "end_time": "2022-08-19T20:56:57.433818",
     "exception": false,
     "start_time": "2022-08-19T20:56:57.210398",
     "status": "completed"
    },
    "tags": []
   },
   "source": [
    "## Plot the intensity for each catagory, and for a particular location"
   ]
  },
  {
   "cell_type": "markdown",
   "id": "a6d8f8aa",
   "metadata": {
    "papermill": {
     "duration": 0.22064,
     "end_time": "2022-08-19T20:56:57.877462",
     "exception": false,
     "start_time": "2022-08-19T20:56:57.656822",
     "status": "completed"
    },
    "tags": []
   },
   "source": [
    "### Prepare the time series grouped by disaster class label "
   ]
  },
  {
   "cell_type": "code",
   "execution_count": 11,
   "id": "2c07fddd",
   "metadata": {
    "execution": {
     "iopub.execute_input": "2022-08-19T20:56:58.329915Z",
     "iopub.status.busy": "2022-08-19T20:56:58.329558Z",
     "iopub.status.idle": "2022-08-19T20:56:58.452383Z",
     "shell.execute_reply": "2022-08-19T20:56:58.451647Z"
    },
    "papermill": {
     "duration": 0.349395,
     "end_time": "2022-08-19T20:56:58.454461",
     "exception": false,
     "start_time": "2022-08-19T20:56:58.105066",
     "status": "completed"
    },
    "tags": []
   },
   "outputs": [
    {
     "data": {
      "text/html": [
       "<div>\n",
       "<style scoped>\n",
       "    .dataframe tbody tr th:only-of-type {\n",
       "        vertical-align: middle;\n",
       "    }\n",
       "\n",
       "    .dataframe tbody tr th {\n",
       "        vertical-align: top;\n",
       "    }\n",
       "\n",
       "    .dataframe thead th {\n",
       "        text-align: right;\n",
       "    }\n",
       "</style>\n",
       "<table border=\"1\" class=\"dataframe\">\n",
       "  <thead>\n",
       "    <tr style=\"text-align: right;\">\n",
       "      <th></th>\n",
       "      <th>created_at</th>\n",
       "      <th>class_label</th>\n",
       "      <th>count</th>\n",
       "    </tr>\n",
       "  </thead>\n",
       "  <tbody>\n",
       "    <tr>\n",
       "      <th>0</th>\n",
       "      <td>2022-07-31 08:00:00+00:00</td>\n",
       "      <td>caution_and_advice</td>\n",
       "      <td>232</td>\n",
       "    </tr>\n",
       "    <tr>\n",
       "      <th>1</th>\n",
       "      <td>2022-07-31 08:00:00+00:00</td>\n",
       "      <td>infrastructure_and_utility_damage</td>\n",
       "      <td>153</td>\n",
       "    </tr>\n",
       "    <tr>\n",
       "      <th>2</th>\n",
       "      <td>2022-07-31 08:00:00+00:00</td>\n",
       "      <td>injured_or_dead_people</td>\n",
       "      <td>30</td>\n",
       "    </tr>\n",
       "    <tr>\n",
       "      <th>3</th>\n",
       "      <td>2022-07-31 08:00:00+00:00</td>\n",
       "      <td>not_humanitarian</td>\n",
       "      <td>13</td>\n",
       "    </tr>\n",
       "    <tr>\n",
       "      <th>4</th>\n",
       "      <td>2022-07-31 08:00:00+00:00</td>\n",
       "      <td>other_relevant_information</td>\n",
       "      <td>1923</td>\n",
       "    </tr>\n",
       "  </tbody>\n",
       "</table>\n",
       "</div>"
      ],
      "text/plain": [
       "                 created_at                        class_label  count\n",
       "0 2022-07-31 08:00:00+00:00                 caution_and_advice    232\n",
       "1 2022-07-31 08:00:00+00:00  infrastructure_and_utility_damage    153\n",
       "2 2022-07-31 08:00:00+00:00             injured_or_dead_people     30\n",
       "3 2022-07-31 08:00:00+00:00                   not_humanitarian     13\n",
       "4 2022-07-31 08:00:00+00:00         other_relevant_information   1923"
      ]
     },
     "execution_count": 11,
     "metadata": {},
     "output_type": "execute_result"
    }
   ],
   "source": [
    "df_tweets['created_at'] = pd.to_datetime(df_tweets['created_at'], errors='coerce')\n",
    "df_plot = df_tweets.copy()\n",
    "\n",
    "df_plot['created_at'] = df_plot['created_at'].dt.floor('8H') # Round to 8 hours\n",
    "df_plot['count'] = 1\n",
    "df_group_plot = df_plot[['created_at', 'class_label', 'count']].groupby(['created_at', 'class_label']).count().reset_index()\n",
    "df_group_plot['created_at'] = pd.to_datetime(df_group_plot['created_at'])\n",
    "df_group_plot.head()"
   ]
  },
  {
   "cell_type": "markdown",
   "id": "120de6c6",
   "metadata": {
    "papermill": {
     "duration": 0.2226,
     "end_time": "2022-08-19T20:56:58.991555",
     "exception": false,
     "start_time": "2022-08-19T20:56:58.768955",
     "status": "completed"
    },
    "tags": []
   },
   "source": [
    "### Prepare the time series grouped by location label "
   ]
  },
  {
   "cell_type": "code",
   "execution_count": 12,
   "id": "cb1f1118",
   "metadata": {
    "execution": {
     "iopub.execute_input": "2022-08-19T20:56:59.438409Z",
     "iopub.status.busy": "2022-08-19T20:56:59.438057Z",
     "iopub.status.idle": "2022-08-19T20:56:59.825649Z",
     "shell.execute_reply": "2022-08-19T20:56:59.824938Z"
    },
    "papermill": {
     "duration": 0.610086,
     "end_time": "2022-08-19T20:56:59.827948",
     "exception": false,
     "start_time": "2022-08-19T20:56:59.217862",
     "status": "completed"
    },
    "tags": []
   },
   "outputs": [
    {
     "data": {
      "text/html": [
       "<div>\n",
       "<style scoped>\n",
       "    .dataframe tbody tr th:only-of-type {\n",
       "        vertical-align: middle;\n",
       "    }\n",
       "\n",
       "    .dataframe tbody tr th {\n",
       "        vertical-align: top;\n",
       "    }\n",
       "\n",
       "    .dataframe thead th {\n",
       "        text-align: right;\n",
       "    }\n",
       "</style>\n",
       "<table border=\"1\" class=\"dataframe\">\n",
       "  <thead>\n",
       "    <tr style=\"text-align: right;\">\n",
       "      <th></th>\n",
       "      <th>created_at</th>\n",
       "      <th>location</th>\n",
       "      <th>count</th>\n",
       "    </tr>\n",
       "  </thead>\n",
       "  <tbody>\n",
       "    <tr>\n",
       "      <th>7</th>\n",
       "      <td>2022-07-31 08:00:00+00:00</td>\n",
       "      <td>Alaska</td>\n",
       "      <td>2</td>\n",
       "    </tr>\n",
       "    <tr>\n",
       "      <th>29</th>\n",
       "      <td>2022-07-31 08:00:00+00:00</td>\n",
       "      <td>CA</td>\n",
       "      <td>21</td>\n",
       "    </tr>\n",
       "    <tr>\n",
       "      <th>70</th>\n",
       "      <td>2022-07-31 08:00:00+00:00</td>\n",
       "      <td>HI</td>\n",
       "      <td>25</td>\n",
       "    </tr>\n",
       "    <tr>\n",
       "      <th>71</th>\n",
       "      <td>2022-07-31 08:00:00+00:00</td>\n",
       "      <td>Hawaii</td>\n",
       "      <td>17</td>\n",
       "    </tr>\n",
       "    <tr>\n",
       "      <th>77</th>\n",
       "      <td>2022-07-31 08:00:00+00:00</td>\n",
       "      <td>Indonesia</td>\n",
       "      <td>2</td>\n",
       "    </tr>\n",
       "  </tbody>\n",
       "</table>\n",
       "</div>"
      ],
      "text/plain": [
       "                  created_at   location  count\n",
       "7  2022-07-31 08:00:00+00:00     Alaska      2\n",
       "29 2022-07-31 08:00:00+00:00         CA     21\n",
       "70 2022-07-31 08:00:00+00:00         HI     25\n",
       "71 2022-07-31 08:00:00+00:00     Hawaii     17\n",
       "77 2022-07-31 08:00:00+00:00  Indonesia      2"
      ]
     },
     "execution_count": 12,
     "metadata": {},
     "output_type": "execute_result"
    }
   ],
   "source": [
    "df_explode = df_tweets.copy()\n",
    "\n",
    "most_common10 = df_locs_most_common.head(10)['location'].tolist()\n",
    "\n",
    "df_explode = df_explode.explode('location').reset_index(drop=True)\n",
    "df_explode.dropna(inplace=True)\n",
    "df_explode['created_at'] = df_explode['created_at'].dt.floor('8H') # Round to 8 hours\n",
    "df_explode['count'] = 1\n",
    "df_group_explode = df_explode[['created_at', 'location', 'count']].groupby(\n",
    "    ['created_at', 'location']\n",
    ").count().reset_index()\n",
    "df_group_explode = df_group_explode[df_group_explode['location'].isin(most_common10)]\n",
    "df_group_explode.head()"
   ]
  },
  {
   "cell_type": "markdown",
   "id": "9f8eb220",
   "metadata": {
    "papermill": {
     "duration": 0.225628,
     "end_time": "2022-08-19T20:57:00.280762",
     "exception": false,
     "start_time": "2022-08-19T20:57:00.055134",
     "status": "completed"
    },
    "tags": []
   },
   "source": [
    "### Find the top 10 locations in the tweets sample"
   ]
  },
  {
   "cell_type": "code",
   "execution_count": 13,
   "id": "86a641a2",
   "metadata": {
    "execution": {
     "iopub.execute_input": "2022-08-19T20:57:00.720432Z",
     "iopub.status.busy": "2022-08-19T20:57:00.719862Z",
     "iopub.status.idle": "2022-08-19T20:57:00.725349Z",
     "shell.execute_reply": "2022-08-19T20:57:00.724509Z"
    },
    "papermill": {
     "duration": 0.226187,
     "end_time": "2022-08-19T20:57:00.727639",
     "exception": false,
     "start_time": "2022-08-19T20:57:00.501452",
     "status": "completed"
    },
    "tags": []
   },
   "outputs": [
    {
     "data": {
      "text/plain": [
       "['Alaska',\n",
       " 'CA',\n",
       " 'HI',\n",
       " 'Hawaii',\n",
       " 'Indonesia',\n",
       " 'Izu Islands',\n",
       " 'Japan',\n",
       " 'Nepal',\n",
       " 'United States',\n",
       " 'Honaunau-Napoopoo']"
      ]
     },
     "execution_count": 13,
     "metadata": {},
     "output_type": "execute_result"
    }
   ],
   "source": [
    "top10_locs = list(df_group_explode['location'].unique())\n",
    "top10_locs"
   ]
  },
  {
   "cell_type": "code",
   "execution_count": 14,
   "id": "4dd7096e",
   "metadata": {
    "execution": {
     "iopub.execute_input": "2022-08-19T20:57:01.175502Z",
     "iopub.status.busy": "2022-08-19T20:57:01.174617Z",
     "iopub.status.idle": "2022-08-19T20:57:01.280021Z",
     "shell.execute_reply": "2022-08-19T20:57:01.279301Z"
    },
    "papermill": {
     "duration": 0.333216,
     "end_time": "2022-08-19T20:57:01.282226",
     "exception": false,
     "start_time": "2022-08-19T20:57:00.949010",
     "status": "completed"
    },
    "tags": []
   },
   "outputs": [
    {
     "data": {
      "text/html": [
       "\n",
       "<div id=\"altair-viz-79ddb8efb47e4a44bdbb59f184e441d0\"></div>\n",
       "<script type=\"text/javascript\">\n",
       "  var VEGA_DEBUG = (typeof VEGA_DEBUG == \"undefined\") ? {} : VEGA_DEBUG;\n",
       "  (function(spec, embedOpt){\n",
       "    let outputDiv = document.currentScript.previousElementSibling;\n",
       "    if (outputDiv.id !== \"altair-viz-79ddb8efb47e4a44bdbb59f184e441d0\") {\n",
       "      outputDiv = document.getElementById(\"altair-viz-79ddb8efb47e4a44bdbb59f184e441d0\");\n",
       "    }\n",
       "    const paths = {\n",
       "      \"vega\": \"https://cdn.jsdelivr.net/npm//vega@5?noext\",\n",
       "      \"vega-lib\": \"https://cdn.jsdelivr.net/npm//vega-lib?noext\",\n",
       "      \"vega-lite\": \"https://cdn.jsdelivr.net/npm//vega-lite@4.17.0?noext\",\n",
       "      \"vega-embed\": \"https://cdn.jsdelivr.net/npm//vega-embed@6?noext\",\n",
       "    };\n",
       "\n",
       "    function maybeLoadScript(lib, version) {\n",
       "      var key = `${lib.replace(\"-\", \"\")}_version`;\n",
       "      return (VEGA_DEBUG[key] == version) ?\n",
       "        Promise.resolve(paths[lib]) :\n",
       "        new Promise(function(resolve, reject) {\n",
       "          var s = document.createElement('script');\n",
       "          document.getElementsByTagName(\"head\")[0].appendChild(s);\n",
       "          s.async = true;\n",
       "          s.onload = () => {\n",
       "            VEGA_DEBUG[key] = version;\n",
       "            return resolve(paths[lib]);\n",
       "          };\n",
       "          s.onerror = () => reject(`Error loading script: ${paths[lib]}`);\n",
       "          s.src = paths[lib];\n",
       "        });\n",
       "    }\n",
       "\n",
       "    function showError(err) {\n",
       "      outputDiv.innerHTML = `<div class=\"error\" style=\"color:red;\">${err}</div>`;\n",
       "      throw err;\n",
       "    }\n",
       "\n",
       "    function displayChart(vegaEmbed) {\n",
       "      vegaEmbed(outputDiv, spec, embedOpt)\n",
       "        .catch(err => showError(`Javascript Error: ${err.message}<br>This usually means there's a typo in your chart specification. See the javascript console for the full traceback.`));\n",
       "    }\n",
       "\n",
       "    if(typeof define === \"function\" && define.amd) {\n",
       "      requirejs.config({paths});\n",
       "      require([\"vega-embed\"], displayChart, err => showError(`Error loading script: ${err.message}`));\n",
       "    } else {\n",
       "      maybeLoadScript(\"vega\", \"5\")\n",
       "        .then(() => maybeLoadScript(\"vega-lite\", \"4.17.0\"))\n",
       "        .then(() => maybeLoadScript(\"vega-embed\", \"6\"))\n",
       "        .catch(showError)\n",
       "        .then(() => displayChart(vegaEmbed));\n",
       "    }\n",
       "  })({\"config\": {\"view\": {\"continuousWidth\": 400, \"continuousHeight\": 300}}, \"data\": {\"name\": \"data-608abf088f9efb5dc2b48bc0bd03941d\"}, \"mark\": {\"type\": \"line\", \"size\": 2}, \"encoding\": {\"color\": {\"field\": \"location\", \"type\": \"nominal\"}, \"tooltip\": [{\"field\": \"location\", \"type\": \"nominal\"}, {\"field\": \"count\", \"type\": \"quantitative\"}], \"x\": {\"field\": \"created_at\", \"type\": \"temporal\"}, \"y\": {\"field\": \"count\", \"type\": \"quantitative\"}}, \"height\": 500, \"selection\": {\"selector001\": {\"type\": \"interval\", \"bind\": \"scales\", \"encodings\": [\"x\", \"y\"]}}, \"title\": \"Earthquake disasters in the world, interactive chart\", \"width\": 500, \"$schema\": \"https://vega.github.io/schema/vega-lite/v4.17.0.json\", \"datasets\": {\"data-608abf088f9efb5dc2b48bc0bd03941d\": [{\"created_at\": \"2022-07-31T08:00:00+00:00\", \"location\": \"Alaska\", \"count\": 2}, {\"created_at\": \"2022-07-31T08:00:00+00:00\", \"location\": \"CA\", \"count\": 21}, {\"created_at\": \"2022-07-31T08:00:00+00:00\", \"location\": \"HI\", \"count\": 25}, {\"created_at\": \"2022-07-31T08:00:00+00:00\", \"location\": \"Hawaii\", \"count\": 17}, {\"created_at\": \"2022-07-31T08:00:00+00:00\", \"location\": \"Indonesia\", \"count\": 2}, {\"created_at\": \"2022-07-31T08:00:00+00:00\", \"location\": \"Izu Islands\", \"count\": 5}, {\"created_at\": \"2022-07-31T08:00:00+00:00\", \"location\": \"Japan\", \"count\": 23}, {\"created_at\": \"2022-07-31T08:00:00+00:00\", \"location\": \"Nepal\", \"count\": 208}, {\"created_at\": \"2022-07-31T08:00:00+00:00\", \"location\": \"United States\", \"count\": 138}, {\"created_at\": \"2022-07-31T16:00:00+00:00\", \"location\": \"CA\", \"count\": 78}, {\"created_at\": \"2022-07-31T16:00:00+00:00\", \"location\": \"HI\", \"count\": 91}, {\"created_at\": \"2022-07-31T16:00:00+00:00\", \"location\": \"Hawaii\", \"count\": 66}, {\"created_at\": \"2022-07-31T16:00:00+00:00\", \"location\": \"Indonesia\", \"count\": 41}, {\"created_at\": \"2022-07-31T16:00:00+00:00\", \"location\": \"Izu Islands\", \"count\": 195}, {\"created_at\": \"2022-07-31T16:00:00+00:00\", \"location\": \"Japan\", \"count\": 220}, {\"created_at\": \"2022-07-31T16:00:00+00:00\", \"location\": \"Nepal\", \"count\": 373}, {\"created_at\": \"2022-07-31T16:00:00+00:00\", \"location\": \"United States\", \"count\": 746}, {\"created_at\": \"2022-08-01T00:00:00+00:00\", \"location\": \"Alaska\", \"count\": 471}, {\"created_at\": \"2022-08-01T00:00:00+00:00\", \"location\": \"CA\", \"count\": 68}, {\"created_at\": \"2022-08-01T00:00:00+00:00\", \"location\": \"HI\", \"count\": 66}, {\"created_at\": \"2022-08-01T00:00:00+00:00\", \"location\": \"Hawaii\", \"count\": 116}, {\"created_at\": \"2022-08-01T00:00:00+00:00\", \"location\": \"Izu Islands\", \"count\": 78}, {\"created_at\": \"2022-08-01T00:00:00+00:00\", \"location\": \"Japan\", \"count\": 131}, {\"created_at\": \"2022-08-01T00:00:00+00:00\", \"location\": \"Nepal\", \"count\": 441}, {\"created_at\": \"2022-08-01T00:00:00+00:00\", \"location\": \"United States\", \"count\": 957}, {\"created_at\": \"2022-08-01T08:00:00+00:00\", \"location\": \"Alaska\", \"count\": 295}, {\"created_at\": \"2022-08-01T08:00:00+00:00\", \"location\": \"CA\", \"count\": 52}, {\"created_at\": \"2022-08-01T08:00:00+00:00\", \"location\": \"HI\", \"count\": 142}, {\"created_at\": \"2022-08-01T08:00:00+00:00\", \"location\": \"Hawaii\", \"count\": 130}, {\"created_at\": \"2022-08-01T08:00:00+00:00\", \"location\": \"Indonesia\", \"count\": 60}, {\"created_at\": \"2022-08-01T08:00:00+00:00\", \"location\": \"Izu Islands\", \"count\": 26}, {\"created_at\": \"2022-08-01T08:00:00+00:00\", \"location\": \"Japan\", \"count\": 26}, {\"created_at\": \"2022-08-01T08:00:00+00:00\", \"location\": \"Nepal\", \"count\": 95}, {\"created_at\": \"2022-08-01T08:00:00+00:00\", \"location\": \"United States\", \"count\": 1358}, {\"created_at\": \"2022-08-01T16:00:00+00:00\", \"location\": \"Alaska\", \"count\": 142}, {\"created_at\": \"2022-08-01T16:00:00+00:00\", \"location\": \"CA\", \"count\": 141}, {\"created_at\": \"2022-08-01T16:00:00+00:00\", \"location\": \"HI\", \"count\": 218}, {\"created_at\": \"2022-08-01T16:00:00+00:00\", \"location\": \"Hawaii\", \"count\": 167}, {\"created_at\": \"2022-08-01T16:00:00+00:00\", \"location\": \"Honaunau-Napoopoo\", \"count\": 79}, {\"created_at\": \"2022-08-01T16:00:00+00:00\", \"location\": \"Indonesia\", \"count\": 78}, {\"created_at\": \"2022-08-01T16:00:00+00:00\", \"location\": \"Izu Islands\", \"count\": 13}, {\"created_at\": \"2022-08-01T16:00:00+00:00\", \"location\": \"Japan\", \"count\": 162}, {\"created_at\": \"2022-08-01T16:00:00+00:00\", \"location\": \"Nepal\", \"count\": 39}, {\"created_at\": \"2022-08-01T16:00:00+00:00\", \"location\": \"United States\", \"count\": 1418}, {\"created_at\": \"2022-08-02T00:00:00+00:00\", \"location\": \"Alaska\", \"count\": 38}, {\"created_at\": \"2022-08-02T00:00:00+00:00\", \"location\": \"CA\", \"count\": 136}, {\"created_at\": \"2022-08-02T00:00:00+00:00\", \"location\": \"HI\", \"count\": 149}, {\"created_at\": \"2022-08-02T00:00:00+00:00\", \"location\": \"Hawaii\", \"count\": 259}, {\"created_at\": \"2022-08-02T00:00:00+00:00\", \"location\": \"Honaunau-Napoopoo\", \"count\": 77}, {\"created_at\": \"2022-08-02T00:00:00+00:00\", \"location\": \"Indonesia\", \"count\": 73}, {\"created_at\": \"2022-08-02T00:00:00+00:00\", \"location\": \"Japan\", \"count\": 72}, {\"created_at\": \"2022-08-02T00:00:00+00:00\", \"location\": \"Nepal\", \"count\": 37}, {\"created_at\": \"2022-08-02T00:00:00+00:00\", \"location\": \"United States\", \"count\": 836}, {\"created_at\": \"2022-08-02T08:00:00+00:00\", \"location\": \"Alaska\", \"count\": 118}, {\"created_at\": \"2022-08-02T08:00:00+00:00\", \"location\": \"CA\", \"count\": 155}, {\"created_at\": \"2022-08-02T08:00:00+00:00\", \"location\": \"HI\", \"count\": 239}, {\"created_at\": \"2022-08-02T08:00:00+00:00\", \"location\": \"Hawaii\", \"count\": 237}, {\"created_at\": \"2022-08-02T08:00:00+00:00\", \"location\": \"Honaunau-Napoopoo\", \"count\": 26}, {\"created_at\": \"2022-08-02T08:00:00+00:00\", \"location\": \"Indonesia\", \"count\": 175}, {\"created_at\": \"2022-08-02T08:00:00+00:00\", \"location\": \"Japan\", \"count\": 39}, {\"created_at\": \"2022-08-02T08:00:00+00:00\", \"location\": \"Nepal\", \"count\": 12}, {\"created_at\": \"2022-08-02T08:00:00+00:00\", \"location\": \"United States\", \"count\": 1483}, {\"created_at\": \"2022-08-02T16:00:00+00:00\", \"location\": \"Alaska\", \"count\": 70}, {\"created_at\": \"2022-08-02T16:00:00+00:00\", \"location\": \"CA\", \"count\": 232}, {\"created_at\": \"2022-08-02T16:00:00+00:00\", \"location\": \"HI\", \"count\": 169}, {\"created_at\": \"2022-08-02T16:00:00+00:00\", \"location\": \"Hawaii\", \"count\": 128}, {\"created_at\": \"2022-08-02T16:00:00+00:00\", \"location\": \"Honaunau-Napoopoo\", \"count\": 43}, {\"created_at\": \"2022-08-02T16:00:00+00:00\", \"location\": \"Indonesia\", \"count\": 100}, {\"created_at\": \"2022-08-02T16:00:00+00:00\", \"location\": \"Japan\", \"count\": 42}, {\"created_at\": \"2022-08-02T16:00:00+00:00\", \"location\": \"United States\", \"count\": 1620}, {\"created_at\": \"2022-08-03T00:00:00+00:00\", \"location\": \"Alaska\", \"count\": 146}, {\"created_at\": \"2022-08-03T00:00:00+00:00\", \"location\": \"CA\", \"count\": 71}, {\"created_at\": \"2022-08-03T00:00:00+00:00\", \"location\": \"HI\", \"count\": 1523}, {\"created_at\": \"2022-08-03T00:00:00+00:00\", \"location\": \"Hawaii\", \"count\": 1095}, {\"created_at\": \"2022-08-03T00:00:00+00:00\", \"location\": \"Honaunau-Napoopoo\", \"count\": 724}, {\"created_at\": \"2022-08-03T00:00:00+00:00\", \"location\": \"Indonesia\", \"count\": 203}, {\"created_at\": \"2022-08-03T00:00:00+00:00\", \"location\": \"Izu Islands\", \"count\": 32}, {\"created_at\": \"2022-08-03T00:00:00+00:00\", \"location\": \"Japan\", \"count\": 147}, {\"created_at\": \"2022-08-03T00:00:00+00:00\", \"location\": \"Nepal\", \"count\": 14}, {\"created_at\": \"2022-08-03T00:00:00+00:00\", \"location\": \"United States\", \"count\": 2845}, {\"created_at\": \"2022-08-03T08:00:00+00:00\", \"location\": \"Alaska\", \"count\": 60}, {\"created_at\": \"2022-08-03T08:00:00+00:00\", \"location\": \"CA\", \"count\": 76}, {\"created_at\": \"2022-08-03T08:00:00+00:00\", \"location\": \"HI\", \"count\": 598}, {\"created_at\": \"2022-08-03T08:00:00+00:00\", \"location\": \"Hawaii\", \"count\": 345}, {\"created_at\": \"2022-08-03T08:00:00+00:00\", \"location\": \"Honaunau-Napoopoo\", \"count\": 500}, {\"created_at\": \"2022-08-03T08:00:00+00:00\", \"location\": \"Indonesia\", \"count\": 165}, {\"created_at\": \"2022-08-03T08:00:00+00:00\", \"location\": \"Japan\", \"count\": 45}, {\"created_at\": \"2022-08-03T08:00:00+00:00\", \"location\": \"United States\", \"count\": 1533}, {\"created_at\": \"2022-08-03T16:00:00+00:00\", \"location\": \"Alaska\", \"count\": 105}, {\"created_at\": \"2022-08-03T16:00:00+00:00\", \"location\": \"CA\", \"count\": 210}, {\"created_at\": \"2022-08-03T16:00:00+00:00\", \"location\": \"HI\", \"count\": 594}, {\"created_at\": \"2022-08-03T16:00:00+00:00\", \"location\": \"Hawaii\", \"count\": 415}, {\"created_at\": \"2022-08-03T16:00:00+00:00\", \"location\": \"Honaunau-Napoopoo\", \"count\": 90}, {\"created_at\": \"2022-08-03T16:00:00+00:00\", \"location\": \"Indonesia\", \"count\": 45}, {\"created_at\": \"2022-08-03T16:00:00+00:00\", \"location\": \"Japan\", \"count\": 58}, {\"created_at\": \"2022-08-03T16:00:00+00:00\", \"location\": \"United States\", \"count\": 1888}, {\"created_at\": \"2022-08-04T00:00:00+00:00\", \"location\": \"Alaska\", \"count\": 113}, {\"created_at\": \"2022-08-04T00:00:00+00:00\", \"location\": \"CA\", \"count\": 175}, {\"created_at\": \"2022-08-04T00:00:00+00:00\", \"location\": \"HI\", \"count\": 232}, {\"created_at\": \"2022-08-04T00:00:00+00:00\", \"location\": \"Hawaii\", \"count\": 183}, {\"created_at\": \"2022-08-04T00:00:00+00:00\", \"location\": \"Honaunau-Napoopoo\", \"count\": 240}, {\"created_at\": \"2022-08-04T00:00:00+00:00\", \"location\": \"Izu Islands\", \"count\": 631}, {\"created_at\": \"2022-08-04T00:00:00+00:00\", \"location\": \"Japan\", \"count\": 2047}, {\"created_at\": \"2022-08-04T00:00:00+00:00\", \"location\": \"United States\", \"count\": 1831}, {\"created_at\": \"2022-08-04T08:00:00+00:00\", \"location\": \"Alaska\", \"count\": 56}, {\"created_at\": \"2022-08-04T08:00:00+00:00\", \"location\": \"CA\", \"count\": 219}, {\"created_at\": \"2022-08-04T08:00:00+00:00\", \"location\": \"HI\", \"count\": 89}, {\"created_at\": \"2022-08-04T08:00:00+00:00\", \"location\": \"Hawaii\", \"count\": 106}, {\"created_at\": \"2022-08-04T08:00:00+00:00\", \"location\": \"Izu Islands\", \"count\": 329}, {\"created_at\": \"2022-08-04T08:00:00+00:00\", \"location\": \"Japan\", \"count\": 813}, {\"created_at\": \"2022-08-04T08:00:00+00:00\", \"location\": \"United States\", \"count\": 1655}, {\"created_at\": \"2022-08-04T16:00:00+00:00\", \"location\": \"Alaska\", \"count\": 99}, {\"created_at\": \"2022-08-04T16:00:00+00:00\", \"location\": \"CA\", \"count\": 120}, {\"created_at\": \"2022-08-04T16:00:00+00:00\", \"location\": \"HI\", \"count\": 157}, {\"created_at\": \"2022-08-04T16:00:00+00:00\", \"location\": \"Hawaii\", \"count\": 199}, {\"created_at\": \"2022-08-04T16:00:00+00:00\", \"location\": \"Indonesia\", \"count\": 496}, {\"created_at\": \"2022-08-04T16:00:00+00:00\", \"location\": \"Izu Islands\", \"count\": 514}, {\"created_at\": \"2022-08-04T16:00:00+00:00\", \"location\": \"Japan\", \"count\": 769}, {\"created_at\": \"2022-08-04T16:00:00+00:00\", \"location\": \"United States\", \"count\": 2247}, {\"created_at\": \"2022-08-05T00:00:00+00:00\", \"location\": \"Alaska\", \"count\": 61}, {\"created_at\": \"2022-08-05T00:00:00+00:00\", \"location\": \"CA\", \"count\": 122}, {\"created_at\": \"2022-08-05T00:00:00+00:00\", \"location\": \"HI\", \"count\": 180}, {\"created_at\": \"2022-08-05T00:00:00+00:00\", \"location\": \"Hawaii\", \"count\": 220}, {\"created_at\": \"2022-08-05T00:00:00+00:00\", \"location\": \"Indonesia\", \"count\": 83}, {\"created_at\": \"2022-08-05T00:00:00+00:00\", \"location\": \"Izu Islands\", \"count\": 200}, {\"created_at\": \"2022-08-05T00:00:00+00:00\", \"location\": \"Japan\", \"count\": 342}, {\"created_at\": \"2022-08-05T00:00:00+00:00\", \"location\": \"Nepal\", \"count\": 20}, {\"created_at\": \"2022-08-05T00:00:00+00:00\", \"location\": \"United States\", \"count\": 1291}, {\"created_at\": \"2022-08-05T08:00:00+00:00\", \"location\": \"Alaska\", \"count\": 163}, {\"created_at\": \"2022-08-05T08:00:00+00:00\", \"location\": \"CA\", \"count\": 98}, {\"created_at\": \"2022-08-05T08:00:00+00:00\", \"location\": \"HI\", \"count\": 330}, {\"created_at\": \"2022-08-05T08:00:00+00:00\", \"location\": \"Hawaii\", \"count\": 191}, {\"created_at\": \"2022-08-05T08:00:00+00:00\", \"location\": \"Indonesia\", \"count\": 133}, {\"created_at\": \"2022-08-05T08:00:00+00:00\", \"location\": \"Izu Islands\", \"count\": 210}, {\"created_at\": \"2022-08-05T08:00:00+00:00\", \"location\": \"Japan\", \"count\": 211}, {\"created_at\": \"2022-08-05T08:00:00+00:00\", \"location\": \"Nepal\", \"count\": 17}, {\"created_at\": \"2022-08-05T08:00:00+00:00\", \"location\": \"United States\", \"count\": 2006}, {\"created_at\": \"2022-08-05T16:00:00+00:00\", \"location\": \"Alaska\", \"count\": 212}, {\"created_at\": \"2022-08-05T16:00:00+00:00\", \"location\": \"CA\", \"count\": 141}, {\"created_at\": \"2022-08-05T16:00:00+00:00\", \"location\": \"HI\", \"count\": 62}, {\"created_at\": \"2022-08-05T16:00:00+00:00\", \"location\": \"Hawaii\", \"count\": 62}, {\"created_at\": \"2022-08-05T16:00:00+00:00\", \"location\": \"Indonesia\", \"count\": 73}, {\"created_at\": \"2022-08-05T16:00:00+00:00\", \"location\": \"Izu Islands\", \"count\": 108}, {\"created_at\": \"2022-08-05T16:00:00+00:00\", \"location\": \"Japan\", \"count\": 156}, {\"created_at\": \"2022-08-05T16:00:00+00:00\", \"location\": \"United States\", \"count\": 1305}, {\"created_at\": \"2022-08-06T00:00:00+00:00\", \"location\": \"Alaska\", \"count\": 115}, {\"created_at\": \"2022-08-06T00:00:00+00:00\", \"location\": \"CA\", \"count\": 36}, {\"created_at\": \"2022-08-06T00:00:00+00:00\", \"location\": \"HI\", \"count\": 151}, {\"created_at\": \"2022-08-06T00:00:00+00:00\", \"location\": \"Hawaii\", \"count\": 178}, {\"created_at\": \"2022-08-06T00:00:00+00:00\", \"location\": \"Japan\", \"count\": 47}, {\"created_at\": \"2022-08-06T00:00:00+00:00\", \"location\": \"Nepal\", \"count\": 353}, {\"created_at\": \"2022-08-06T00:00:00+00:00\", \"location\": \"United States\", \"count\": 679}, {\"created_at\": \"2022-08-06T08:00:00+00:00\", \"location\": \"Alaska\", \"count\": 139}, {\"created_at\": \"2022-08-06T08:00:00+00:00\", \"location\": \"CA\", \"count\": 33}, {\"created_at\": \"2022-08-06T08:00:00+00:00\", \"location\": \"HI\", \"count\": 59}, {\"created_at\": \"2022-08-06T08:00:00+00:00\", \"location\": \"Hawaii\", \"count\": 41}, {\"created_at\": \"2022-08-06T08:00:00+00:00\", \"location\": \"Indonesia\", \"count\": 15}, {\"created_at\": \"2022-08-06T08:00:00+00:00\", \"location\": \"Izu Islands\", \"count\": 40}, {\"created_at\": \"2022-08-06T08:00:00+00:00\", \"location\": \"Japan\", \"count\": 275}, {\"created_at\": \"2022-08-06T08:00:00+00:00\", \"location\": \"Nepal\", \"count\": 184}, {\"created_at\": \"2022-08-06T08:00:00+00:00\", \"location\": \"United States\", \"count\": 549}, {\"created_at\": \"2022-08-06T16:00:00+00:00\", \"location\": \"Alaska\", \"count\": 55}, {\"created_at\": \"2022-08-06T16:00:00+00:00\", \"location\": \"CA\", \"count\": 15}, {\"created_at\": \"2022-08-06T16:00:00+00:00\", \"location\": \"HI\", \"count\": 42}, {\"created_at\": \"2022-08-06T16:00:00+00:00\", \"location\": \"Hawaii\", \"count\": 31}, {\"created_at\": \"2022-08-06T16:00:00+00:00\", \"location\": \"Indonesia\", \"count\": 8}, {\"created_at\": \"2022-08-06T16:00:00+00:00\", \"location\": \"Izu Islands\", \"count\": 6}, {\"created_at\": \"2022-08-06T16:00:00+00:00\", \"location\": \"Japan\", \"count\": 34}, {\"created_at\": \"2022-08-06T16:00:00+00:00\", \"location\": \"Nepal\", \"count\": 23}, {\"created_at\": \"2022-08-06T16:00:00+00:00\", \"location\": \"United States\", \"count\": 231}, {\"created_at\": \"2022-08-07T00:00:00+00:00\", \"location\": \"Alaska\", \"count\": 3}, {\"created_at\": \"2022-08-07T00:00:00+00:00\", \"location\": \"CA\", \"count\": 2}, {\"created_at\": \"2022-08-07T00:00:00+00:00\", \"location\": \"Japan\", \"count\": 2}, {\"created_at\": \"2022-08-07T00:00:00+00:00\", \"location\": \"Nepal\", \"count\": 1}, {\"created_at\": \"2022-08-07T00:00:00+00:00\", \"location\": \"United States\", \"count\": 14}]}}, {\"mode\": \"vega-lite\"});\n",
       "</script>"
      ],
      "text/plain": [
       "alt.Chart(...)"
      ]
     },
     "execution_count": 14,
     "metadata": {},
     "output_type": "execute_result"
    }
   ],
   "source": [
    "chart = alt.Chart(df_group_explode[df_group_explode['location'].isin(top10_locs)]).mark_line(size=2).encode(\n",
    "    x='created_at:T',\n",
    "    y='count:Q',\n",
    "    color='location:N',\n",
    "    tooltip=['location', 'count']\n",
    ")\n",
    "\n",
    "chart.properties(\n",
    "    width=500,\n",
    "    height=500\n",
    ").properties(\n",
    "    title=disaster_title(disaster_kind) + ' disasters in the world, interactive chart'\n",
    ").interactive()"
   ]
  },
  {
   "cell_type": "markdown",
   "id": "ef282ee3",
   "metadata": {
    "papermill": {
     "duration": 0.233771,
     "end_time": "2022-08-19T20:57:01.740113",
     "exception": false,
     "start_time": "2022-08-19T20:57:01.506342",
     "status": "completed"
    },
    "tags": []
   },
   "source": [
    "## Combine the most important locations per category"
   ]
  },
  {
   "cell_type": "code",
   "execution_count": 15,
   "id": "a7e318b0",
   "metadata": {
    "execution": {
     "iopub.execute_input": "2022-08-19T20:57:02.246222Z",
     "iopub.status.busy": "2022-08-19T20:57:02.245867Z",
     "iopub.status.idle": "2022-08-19T20:57:02.698191Z",
     "shell.execute_reply": "2022-08-19T20:57:02.697315Z"
    },
    "papermill": {
     "duration": 0.677103,
     "end_time": "2022-08-19T20:57:02.700789",
     "exception": false,
     "start_time": "2022-08-19T20:57:02.023686",
     "status": "completed"
    },
    "tags": []
   },
   "outputs": [
    {
     "data": {
      "text/html": [
       "<div>\n",
       "<style scoped>\n",
       "    .dataframe tbody tr th:only-of-type {\n",
       "        vertical-align: middle;\n",
       "    }\n",
       "\n",
       "    .dataframe tbody tr th {\n",
       "        vertical-align: top;\n",
       "    }\n",
       "\n",
       "    .dataframe thead th {\n",
       "        text-align: right;\n",
       "    }\n",
       "</style>\n",
       "<table border=\"1\" class=\"dataframe\">\n",
       "  <thead>\n",
       "    <tr style=\"text-align: right;\">\n",
       "      <th></th>\n",
       "      <th>created_at</th>\n",
       "      <th>class_label</th>\n",
       "      <th>locations</th>\n",
       "      <th>count</th>\n",
       "    </tr>\n",
       "  </thead>\n",
       "  <tbody>\n",
       "    <tr>\n",
       "      <th>116</th>\n",
       "      <td>2022-08-04 12:00:00+00:00</td>\n",
       "      <td>caution_and_advice</td>\n",
       "      <td>[United States]</td>\n",
       "      <td>54</td>\n",
       "    </tr>\n",
       "    <tr>\n",
       "      <th>125</th>\n",
       "      <td>2022-08-04 20:00:00+00:00</td>\n",
       "      <td>caution_and_advice</td>\n",
       "      <td>[Alaska, United States]</td>\n",
       "      <td>60</td>\n",
       "    </tr>\n",
       "    <tr>\n",
       "      <th>0</th>\n",
       "      <td>2022-07-31 10:00:00+00:00</td>\n",
       "      <td>caution_and_advice</td>\n",
       "      <td>[Nepal]</td>\n",
       "      <td>1</td>\n",
       "    </tr>\n",
       "    <tr>\n",
       "      <th>145</th>\n",
       "      <td>2022-08-05 14:00:00+00:00</td>\n",
       "      <td>other_relevant_information</td>\n",
       "      <td>[Alaska, HI, United States]</td>\n",
       "      <td>472</td>\n",
       "    </tr>\n",
       "    <tr>\n",
       "      <th>54</th>\n",
       "      <td>2022-08-02 02:00:00+00:00</td>\n",
       "      <td>infrastructure_and_utility_damage</td>\n",
       "      <td>[Indonesia]</td>\n",
       "      <td>13</td>\n",
       "    </tr>\n",
       "  </tbody>\n",
       "</table>\n",
       "</div>"
      ],
      "text/plain": [
       "                   created_at                        class_label  \\\n",
       "116 2022-08-04 12:00:00+00:00                 caution_and_advice   \n",
       "125 2022-08-04 20:00:00+00:00                 caution_and_advice   \n",
       "0   2022-07-31 10:00:00+00:00                 caution_and_advice   \n",
       "145 2022-08-05 14:00:00+00:00         other_relevant_information   \n",
       "54  2022-08-02 02:00:00+00:00  infrastructure_and_utility_damage   \n",
       "\n",
       "                       locations  count  \n",
       "116              [United States]     54  \n",
       "125      [Alaska, United States]     60  \n",
       "0                        [Nepal]      1  \n",
       "145  [Alaska, HI, United States]    472  \n",
       "54                   [Indonesia]     13  "
      ]
     },
     "execution_count": 15,
     "metadata": {},
     "output_type": "execute_result"
    }
   ],
   "source": [
    "df_top_locations = top_locations(df_tweets, top10_locs)\n",
    "df_top_locations.sample(5)"
   ]
  },
  {
   "cell_type": "markdown",
   "id": "4b892f08",
   "metadata": {
    "papermill": {
     "duration": 0.228747,
     "end_time": "2022-08-19T20:57:03.152221",
     "exception": false,
     "start_time": "2022-08-19T20:57:02.923474",
     "status": "completed"
    },
    "tags": []
   },
   "source": [
    "### Define the class labels we are interested in"
   ]
  },
  {
   "cell_type": "code",
   "execution_count": 16,
   "id": "152b8b7d",
   "metadata": {
    "execution": {
     "iopub.execute_input": "2022-08-19T20:57:03.600472Z",
     "iopub.status.busy": "2022-08-19T20:57:03.600125Z",
     "iopub.status.idle": "2022-08-19T20:57:03.603970Z",
     "shell.execute_reply": "2022-08-19T20:57:03.603311Z"
    },
    "papermill": {
     "duration": 0.230271,
     "end_time": "2022-08-19T20:57:03.606065",
     "exception": false,
     "start_time": "2022-08-19T20:57:03.375794",
     "status": "completed"
    },
    "tags": []
   },
   "outputs": [],
   "source": [
    "class_labels = [\n",
    "    'displaced_people_and_evacuations',\n",
    "    'injured_or_dead_people',\n",
    "    'rescue_volunteering_or_donation_effort',\n",
    "    'requests_or_urgent_needs',\n",
    "    'sympathy_and_support',\n",
    "    'infrastructure_and_utility_damage',\n",
    "    'caution_and_advice'\n",
    "]"
   ]
  },
  {
   "cell_type": "code",
   "execution_count": 17,
   "id": "36093f08",
   "metadata": {
    "execution": {
     "iopub.execute_input": "2022-08-19T20:57:04.058486Z",
     "iopub.status.busy": "2022-08-19T20:57:04.057996Z",
     "iopub.status.idle": "2022-08-19T20:57:04.154174Z",
     "shell.execute_reply": "2022-08-19T20:57:04.153389Z"
    },
    "papermill": {
     "duration": 0.326816,
     "end_time": "2022-08-19T20:57:04.156242",
     "exception": false,
     "start_time": "2022-08-19T20:57:03.829426",
     "status": "completed"
    },
    "tags": []
   },
   "outputs": [
    {
     "data": {
      "text/html": [
       "\n",
       "<div id=\"altair-viz-9b976415ffd94d528e605f9a4f4708ef\"></div>\n",
       "<script type=\"text/javascript\">\n",
       "  var VEGA_DEBUG = (typeof VEGA_DEBUG == \"undefined\") ? {} : VEGA_DEBUG;\n",
       "  (function(spec, embedOpt){\n",
       "    let outputDiv = document.currentScript.previousElementSibling;\n",
       "    if (outputDiv.id !== \"altair-viz-9b976415ffd94d528e605f9a4f4708ef\") {\n",
       "      outputDiv = document.getElementById(\"altair-viz-9b976415ffd94d528e605f9a4f4708ef\");\n",
       "    }\n",
       "    const paths = {\n",
       "      \"vega\": \"https://cdn.jsdelivr.net/npm//vega@5?noext\",\n",
       "      \"vega-lib\": \"https://cdn.jsdelivr.net/npm//vega-lib?noext\",\n",
       "      \"vega-lite\": \"https://cdn.jsdelivr.net/npm//vega-lite@4.17.0?noext\",\n",
       "      \"vega-embed\": \"https://cdn.jsdelivr.net/npm//vega-embed@6?noext\",\n",
       "    };\n",
       "\n",
       "    function maybeLoadScript(lib, version) {\n",
       "      var key = `${lib.replace(\"-\", \"\")}_version`;\n",
       "      return (VEGA_DEBUG[key] == version) ?\n",
       "        Promise.resolve(paths[lib]) :\n",
       "        new Promise(function(resolve, reject) {\n",
       "          var s = document.createElement('script');\n",
       "          document.getElementsByTagName(\"head\")[0].appendChild(s);\n",
       "          s.async = true;\n",
       "          s.onload = () => {\n",
       "            VEGA_DEBUG[key] = version;\n",
       "            return resolve(paths[lib]);\n",
       "          };\n",
       "          s.onerror = () => reject(`Error loading script: ${paths[lib]}`);\n",
       "          s.src = paths[lib];\n",
       "        });\n",
       "    }\n",
       "\n",
       "    function showError(err) {\n",
       "      outputDiv.innerHTML = `<div class=\"error\" style=\"color:red;\">${err}</div>`;\n",
       "      throw err;\n",
       "    }\n",
       "\n",
       "    function displayChart(vegaEmbed) {\n",
       "      vegaEmbed(outputDiv, spec, embedOpt)\n",
       "        .catch(err => showError(`Javascript Error: ${err.message}<br>This usually means there's a typo in your chart specification. See the javascript console for the full traceback.`));\n",
       "    }\n",
       "\n",
       "    if(typeof define === \"function\" && define.amd) {\n",
       "      requirejs.config({paths});\n",
       "      require([\"vega-embed\"], displayChart, err => showError(`Error loading script: ${err.message}`));\n",
       "    } else {\n",
       "      maybeLoadScript(\"vega\", \"5\")\n",
       "        .then(() => maybeLoadScript(\"vega-lite\", \"4.17.0\"))\n",
       "        .then(() => maybeLoadScript(\"vega-embed\", \"6\"))\n",
       "        .catch(showError)\n",
       "        .then(() => displayChart(vegaEmbed));\n",
       "    }\n",
       "  })({\"config\": {\"view\": {\"continuousWidth\": 400, \"continuousHeight\": 300}}, \"data\": {\"name\": \"data-0d135d6f3eeccefd5d921b861cf77d77\"}, \"mark\": {\"type\": \"line\", \"size\": 2}, \"encoding\": {\"color\": {\"field\": \"class_label\", \"type\": \"nominal\"}, \"tooltip\": [{\"field\": \"class_label\", \"type\": \"nominal\"}, {\"field\": \"locations\", \"type\": \"nominal\"}, {\"field\": \"count\", \"type\": \"quantitative\"}], \"x\": {\"field\": \"created_at\", \"type\": \"temporal\"}, \"y\": {\"field\": \"count\", \"type\": \"quantitative\"}}, \"height\": 500, \"title\": \"Earthquake disasters in the world, interactive chart\", \"width\": 500, \"$schema\": \"https://vega.github.io/schema/vega-lite/v4.17.0.json\", \"datasets\": {\"data-0d135d6f3eeccefd5d921b861cf77d77\": [{\"created_at\": \"2022-07-31T10:00:00+00:00\", \"class_label\": \"caution_and_advice\", \"locations\": [\"Nepal\"], \"count\": 1}, {\"created_at\": \"2022-07-31T12:00:00+00:00\", \"class_label\": \"caution_and_advice\", \"locations\": [\"United States\"], \"count\": 5}, {\"created_at\": \"2022-07-31T14:00:00+00:00\", \"class_label\": \"caution_and_advice\", \"locations\": [\"Japan\", \"United States\"], \"count\": 10}, {\"created_at\": \"2022-07-31T16:00:00+00:00\", \"class_label\": \"caution_and_advice\", \"locations\": [\"United States\"], \"count\": 40}, {\"created_at\": \"2022-07-31T16:00:00+00:00\", \"class_label\": \"sympathy_and_support\", \"locations\": [\"Nepal\"], \"count\": 8}, {\"created_at\": \"2022-07-31T18:00:00+00:00\", \"class_label\": \"caution_and_advice\", \"locations\": [\"Izu Islands\", \"Japan\", \"United States\"], \"count\": 61}, {\"created_at\": \"2022-07-31T18:00:00+00:00\", \"class_label\": \"infrastructure_and_utility_damage\", \"locations\": [\"Japan\"], \"count\": 9}, {\"created_at\": \"2022-07-31T22:00:00+00:00\", \"class_label\": \"caution_and_advice\", \"locations\": [\"Nepal\"], \"count\": 11}, {\"created_at\": \"2022-08-01T00:00:00+00:00\", \"class_label\": \"caution_and_advice\", \"locations\": [\"Alaska\", \"United States\"], \"count\": 65}, {\"created_at\": \"2022-08-01T02:00:00+00:00\", \"class_label\": \"caution_and_advice\", \"locations\": [\"Alaska\", \"Nepal\", \"United States\"], \"count\": 42}, {\"created_at\": \"2022-08-01T04:00:00+00:00\", \"class_label\": \"caution_and_advice\", \"locations\": [\"Alaska\", \"United States\"], \"count\": 95}, {\"created_at\": \"2022-08-01T04:00:00+00:00\", \"class_label\": \"infrastructure_and_utility_damage\", \"locations\": [\"Japan\"], \"count\": 14}, {\"created_at\": \"2022-08-01T04:00:00+00:00\", \"class_label\": \"sympathy_and_support\", \"locations\": [\"Japan\"], \"count\": 13}, {\"created_at\": \"2022-08-01T06:00:00+00:00\", \"class_label\": \"caution_and_advice\", \"locations\": [\"Alaska\", \"United States\"], \"count\": 67}, {\"created_at\": \"2022-08-01T06:00:00+00:00\", \"class_label\": \"infrastructure_and_utility_damage\", \"locations\": [\"Alaska\"], \"count\": 14}, {\"created_at\": \"2022-08-01T06:00:00+00:00\", \"class_label\": \"injured_or_dead_people\", \"locations\": [\"Nepal\"], \"count\": 14}, {\"created_at\": \"2022-08-01T06:00:00+00:00\", \"class_label\": \"sympathy_and_support\", \"locations\": [\"Japan\"], \"count\": 13}, {\"created_at\": \"2022-08-01T08:00:00+00:00\", \"class_label\": \"caution_and_advice\", \"locations\": [\"Alaska\", \"United States\"], \"count\": 41}, {\"created_at\": \"2022-08-01T10:00:00+00:00\", \"class_label\": \"caution_and_advice\", \"locations\": [\"Alaska\", \"United States\"], \"count\": 95}, {\"created_at\": \"2022-08-01T12:00:00+00:00\", \"class_label\": \"caution_and_advice\", \"locations\": [\"United States\"], \"count\": 26}, {\"created_at\": \"2022-08-01T14:00:00+00:00\", \"class_label\": \"caution_and_advice\", \"locations\": [\"United States\"], \"count\": 13}, {\"created_at\": \"2022-08-01T14:00:00+00:00\", \"class_label\": \"infrastructure_and_utility_damage\", \"locations\": [\"Indonesia\"], \"count\": 48}, {\"created_at\": \"2022-08-01T14:00:00+00:00\", \"class_label\": \"injured_or_dead_people\", \"locations\": [\"Indonesia\"], \"count\": 12}, {\"created_at\": \"2022-08-01T16:00:00+00:00\", \"class_label\": \"caution_and_advice\", \"locations\": [\"Alaska\", \"United States\"], \"count\": 51}, {\"created_at\": \"2022-08-01T16:00:00+00:00\", \"class_label\": \"infrastructure_and_utility_damage\", \"locations\": [\"Indonesia\"], \"count\": 13}, {\"created_at\": \"2022-08-01T16:00:00+00:00\", \"class_label\": \"injured_or_dead_people\", \"locations\": [\"Japan\"], \"count\": 12}, {\"created_at\": \"2022-08-01T18:00:00+00:00\", \"class_label\": \"caution_and_advice\", \"locations\": [\"Alaska\", \"United States\"], \"count\": 65}, {\"created_at\": \"2022-08-01T18:00:00+00:00\", \"class_label\": \"rescue_volunteering_or_donation_effort\", \"locations\": [\"Japan\"], \"count\": 13}, {\"created_at\": \"2022-08-01T20:00:00+00:00\", \"class_label\": \"caution_and_advice\", \"locations\": [\"Alaska\", \"Indonesia\", \"United States\"], \"count\": 91}, {\"created_at\": \"2022-08-01T20:00:00+00:00\", \"class_label\": \"injured_or_dead_people\", \"locations\": [\"Nepal\"], \"count\": 13}, {\"created_at\": \"2022-08-01T22:00:00+00:00\", \"class_label\": \"caution_and_advice\", \"locations\": [\"Indonesia\", \"Japan\", \"United States\"], \"count\": 52}, {\"created_at\": \"2022-08-01T22:00:00+00:00\", \"class_label\": \"infrastructure_and_utility_damage\", \"locations\": [\"Indonesia\"], \"count\": 13}, {\"created_at\": \"2022-08-02T00:00:00+00:00\", \"class_label\": \"infrastructure_and_utility_damage\", \"locations\": [\"Indonesia\"], \"count\": 12}, {\"created_at\": \"2022-08-02T02:00:00+00:00\", \"class_label\": \"caution_and_advice\", \"locations\": [\"United States\"], \"count\": 48}, {\"created_at\": \"2022-08-02T02:00:00+00:00\", \"class_label\": \"infrastructure_and_utility_damage\", \"locations\": [\"Indonesia\"], \"count\": 13}, {\"created_at\": \"2022-08-02T02:00:00+00:00\", \"class_label\": \"rescue_volunteering_or_donation_effort\", \"locations\": [\"Japan\"], \"count\": 36}, {\"created_at\": \"2022-08-02T04:00:00+00:00\", \"class_label\": \"caution_and_advice\", \"locations\": [\"United States\"], \"count\": 12}, {\"created_at\": \"2022-08-02T04:00:00+00:00\", \"class_label\": \"infrastructure_and_utility_damage\", \"locations\": [\"Indonesia\"], \"count\": 36}, {\"created_at\": \"2022-08-02T06:00:00+00:00\", \"class_label\": \"infrastructure_and_utility_damage\", \"locations\": [\"Indonesia\"], \"count\": 12}, {\"created_at\": \"2022-08-02T06:00:00+00:00\", \"class_label\": \"injured_or_dead_people\", \"locations\": [\"Nepal\"], \"count\": 13}, {\"created_at\": \"2022-08-02T06:00:00+00:00\", \"class_label\": \"rescue_volunteering_or_donation_effort\", \"locations\": [\"Japan\"], \"count\": 36}, {\"created_at\": \"2022-08-02T08:00:00+00:00\", \"class_label\": \"caution_and_advice\", \"locations\": [\"Alaska\"], \"count\": 37}, {\"created_at\": \"2022-08-02T08:00:00+00:00\", \"class_label\": \"injured_or_dead_people\", \"locations\": [\"Nepal\"], \"count\": 12}, {\"created_at\": \"2022-08-02T12:00:00+00:00\", \"class_label\": \"caution_and_advice\", \"locations\": [\"Indonesia\", \"United States\"], \"count\": 52}, {\"created_at\": \"2022-08-02T12:00:00+00:00\", \"class_label\": \"displaced_people_and_evacuations\", \"locations\": [\"Indonesia\"], \"count\": 13}, {\"created_at\": \"2022-08-02T12:00:00+00:00\", \"class_label\": \"infrastructure_and_utility_damage\", \"locations\": [\"Indonesia\"], \"count\": 13}, {\"created_at\": \"2022-08-02T12:00:00+00:00\", \"class_label\": \"rescue_volunteering_or_donation_effort\", \"locations\": [\"Japan\"], \"count\": 13}, {\"created_at\": \"2022-08-02T16:00:00+00:00\", \"class_label\": \"caution_and_advice\", \"locations\": [\"Alaska\", \"United States\"], \"count\": 42}, {\"created_at\": \"2022-08-02T16:00:00+00:00\", \"class_label\": \"infrastructure_and_utility_damage\", \"locations\": [\"Japan\"], \"count\": 14}, {\"created_at\": \"2022-08-02T20:00:00+00:00\", \"class_label\": \"caution_and_advice\", \"locations\": [\"United States\"], \"count\": 28}, {\"created_at\": \"2022-08-02T22:00:00+00:00\", \"class_label\": \"caution_and_advice\", \"locations\": [\"Japan\", \"United States\"], \"count\": 43}, {\"created_at\": \"2022-08-03T00:00:00+00:00\", \"class_label\": \"caution_and_advice\", \"locations\": [\"Alaska\", \"United States\"], \"count\": 71}, {\"created_at\": \"2022-08-03T00:00:00+00:00\", \"class_label\": \"injured_or_dead_people\", \"locations\": [\"Nepal\"], \"count\": 14}, {\"created_at\": \"2022-08-03T02:00:00+00:00\", \"class_label\": \"caution_and_advice\", \"locations\": [\"Honaunau-Napoopoo\", \"United States\"], \"count\": 43}, {\"created_at\": \"2022-08-03T04:00:00+00:00\", \"class_label\": \"caution_and_advice\", \"locations\": [\"Alaska\", \"Honaunau-Napoopoo\", \"United States\"], \"count\": 434}, {\"created_at\": \"2022-08-03T06:00:00+00:00\", \"class_label\": \"caution_and_advice\", \"locations\": [\"Honaunau-Napoopoo\", \"Izu Islands\", \"United States\"], \"count\": 46}, {\"created_at\": \"2022-08-03T10:00:00+00:00\", \"class_label\": \"caution_and_advice\", \"locations\": [\"Alaska\", \"Honaunau-Napoopoo\", \"United States\"], \"count\": 154}, {\"created_at\": \"2022-08-03T12:00:00+00:00\", \"class_label\": \"caution_and_advice\", \"locations\": [\"Honaunau-Napoopoo\", \"Indonesia\", \"Japan\"], \"count\": 75}, {\"created_at\": \"2022-08-03T16:00:00+00:00\", \"class_label\": \"caution_and_advice\", \"locations\": [\"Alaska\", \"United States\"], \"count\": 90}, {\"created_at\": \"2022-08-03T22:00:00+00:00\", \"class_label\": \"caution_and_advice\", \"locations\": [\"Indonesia\"], \"count\": 15}, {\"created_at\": \"2022-08-04T00:00:00+00:00\", \"class_label\": \"caution_and_advice\", \"locations\": [\"Honaunau-Napoopoo\", \"Japan\", \"United States\"], \"count\": 248}, {\"created_at\": \"2022-08-04T00:00:00+00:00\", \"class_label\": \"infrastructure_and_utility_damage\", \"locations\": [\"Japan\"], \"count\": 32}, {\"created_at\": \"2022-08-04T02:00:00+00:00\", \"class_label\": \"caution_and_advice\", \"locations\": [\"Izu Islands\", \"Japan\"], \"count\": 96}, {\"created_at\": \"2022-08-04T04:00:00+00:00\", \"class_label\": \"caution_and_advice\", \"locations\": [\"Honaunau-Napoopoo\", \"Izu Islands\", \"Japan\"], \"count\": 422}, {\"created_at\": \"2022-08-04T06:00:00+00:00\", \"class_label\": \"caution_and_advice\", \"locations\": [\"Alaska\", \"Japan\", \"United States\"], \"count\": 147}, {\"created_at\": \"2022-08-04T08:00:00+00:00\", \"class_label\": \"caution_and_advice\", \"locations\": [\"Japan\", \"United States\"], \"count\": 68}, {\"created_at\": \"2022-08-04T10:00:00+00:00\", \"class_label\": \"caution_and_advice\", \"locations\": [\"Alaska\", \"United States\"], \"count\": 54}, {\"created_at\": \"2022-08-04T12:00:00+00:00\", \"class_label\": \"caution_and_advice\", \"locations\": [\"United States\"], \"count\": 54}, {\"created_at\": \"2022-08-04T14:00:00+00:00\", \"class_label\": \"caution_and_advice\", \"locations\": [\"Alaska\", \"Izu Islands\", \"Japan\"], \"count\": 152}, {\"created_at\": \"2022-08-04T16:00:00+00:00\", \"class_label\": \"caution_and_advice\", \"locations\": [\"Izu Islands\", \"United States\"], \"count\": 38}, {\"created_at\": \"2022-08-04T18:00:00+00:00\", \"class_label\": \"caution_and_advice\", \"locations\": [\"Indonesia\", \"Izu Islands\", \"Japan\"], \"count\": 120}, {\"created_at\": \"2022-08-04T18:00:00+00:00\", \"class_label\": \"injured_or_dead_people\", \"locations\": [\"Japan\"], \"count\": 20}, {\"created_at\": \"2022-08-04T20:00:00+00:00\", \"class_label\": \"caution_and_advice\", \"locations\": [\"Alaska\", \"United States\"], \"count\": 60}, {\"created_at\": \"2022-08-04T22:00:00+00:00\", \"class_label\": \"caution_and_advice\", \"locations\": [\"Japan\", \"United States\"], \"count\": 211}, {\"created_at\": \"2022-08-05T00:00:00+00:00\", \"class_label\": \"caution_and_advice\", \"locations\": [\"United States\"], \"count\": 100}, {\"created_at\": \"2022-08-05T02:00:00+00:00\", \"class_label\": \"caution_and_advice\", \"locations\": [\"United States\"], \"count\": 21}, {\"created_at\": \"2022-08-05T06:00:00+00:00\", \"class_label\": \"caution_and_advice\", \"locations\": [\"Hawaii\", \"Japan\"], \"count\": 61}, {\"created_at\": \"2022-08-05T06:00:00+00:00\", \"class_label\": \"injured_or_dead_people\", \"locations\": [\"Indonesia\", \"Nepal\"], \"count\": 62}, {\"created_at\": \"2022-08-05T08:00:00+00:00\", \"class_label\": \"caution_and_advice\", \"locations\": [\"Izu Islands\"], \"count\": 20}, {\"created_at\": \"2022-08-05T10:00:00+00:00\", \"class_label\": \"caution_and_advice\", \"locations\": [\"Alaska\", \"Izu Islands\", \"Japan\"], \"count\": 77}, {\"created_at\": \"2022-08-05T12:00:00+00:00\", \"class_label\": \"caution_and_advice\", \"locations\": [\"Izu Islands\", \"Japan\", \"United States\"], \"count\": 151}, {\"created_at\": \"2022-08-05T12:00:00+00:00\", \"class_label\": \"infrastructure_and_utility_damage\", \"locations\": [\"Alaska\"], \"count\": 18}, {\"created_at\": \"2022-08-05T14:00:00+00:00\", \"class_label\": \"caution_and_advice\", \"locations\": [\"Hawaii\", \"United States\"], \"count\": 35}, {\"created_at\": \"2022-08-05T14:00:00+00:00\", \"class_label\": \"rescue_volunteering_or_donation_effort\", \"locations\": [\"Indonesia\"], \"count\": 34}, {\"created_at\": \"2022-08-05T16:00:00+00:00\", \"class_label\": \"caution_and_advice\", \"locations\": [\"Alaska\", \"United States\"], \"count\": 98}, {\"created_at\": \"2022-08-05T18:00:00+00:00\", \"class_label\": \"caution_and_advice\", \"locations\": [\"Alaska\"], \"count\": 46}, {\"created_at\": \"2022-08-05T20:00:00+00:00\", \"class_label\": \"caution_and_advice\", \"locations\": [\"Alaska\"], \"count\": 15}, {\"created_at\": \"2022-08-05T22:00:00+00:00\", \"class_label\": \"caution_and_advice\", \"locations\": [\"Alaska\", \"United States\"], \"count\": 123}, {\"created_at\": \"2022-08-05T22:00:00+00:00\", \"class_label\": \"injured_or_dead_people\", \"locations\": [\"Indonesia\"], \"count\": 28}, {\"created_at\": \"2022-08-06T00:00:00+00:00\", \"class_label\": \"caution_and_advice\", \"locations\": [\"Japan\", \"Nepal\", \"United States\"], \"count\": 64}, {\"created_at\": \"2022-08-06T04:00:00+00:00\", \"class_label\": \"caution_and_advice\", \"locations\": [\"Japan\"], \"count\": 11}, {\"created_at\": \"2022-08-06T08:00:00+00:00\", \"class_label\": \"caution_and_advice\", \"locations\": [\"Alaska\", \"Japan\", \"United States\"], \"count\": 61}, {\"created_at\": \"2022-08-06T10:00:00+00:00\", \"class_label\": \"caution_and_advice\", \"locations\": [\"Izu Islands\", \"United States\"], \"count\": 24}, {\"created_at\": \"2022-08-06T10:00:00+00:00\", \"class_label\": \"infrastructure_and_utility_damage\", \"locations\": [\"Nepal\"], \"count\": 29}, {\"created_at\": \"2022-08-06T12:00:00+00:00\", \"class_label\": \"caution_and_advice\", \"locations\": [\"Japan\", \"United States\"], \"count\": 73}, {\"created_at\": \"2022-08-06T14:00:00+00:00\", \"class_label\": \"caution_and_advice\", \"locations\": [\"Japan\", \"United States\"], \"count\": 28}, {\"created_at\": \"2022-08-06T16:00:00+00:00\", \"class_label\": \"caution_and_advice\", \"locations\": [\"Alaska\", \"Japan\"], \"count\": 15}, {\"created_at\": \"2022-08-06T18:00:00+00:00\", \"class_label\": \"injured_or_dead_people\", \"locations\": [\"Japan\"], \"count\": 3}, {\"created_at\": \"2022-08-06T22:00:00+00:00\", \"class_label\": \"caution_and_advice\", \"locations\": [\"Alaska\", \"Japan\", \"Nepal\"], \"count\": 6}, {\"created_at\": \"2022-08-07T00:00:00+00:00\", \"class_label\": \"caution_and_advice\", \"locations\": [\"Japan\", \"United States\"], \"count\": 2}, {\"created_at\": \"2022-08-07T00:00:00+00:00\", \"class_label\": \"injured_or_dead_people\", \"locations\": [\"Japan\"], \"count\": 1}]}}, {\"mode\": \"vega-lite\"});\n",
       "</script>"
      ],
      "text/plain": [
       "alt.Chart(...)"
      ]
     },
     "execution_count": 17,
     "metadata": {},
     "output_type": "execute_result"
    }
   ],
   "source": [
    "chart = alt.Chart(df_top_locations[df_top_locations['class_label'].isin(class_labels)]).mark_line(size=2).encode(\n",
    "    x='created_at:T',\n",
    "    y='count:Q',\n",
    "    color='class_label:N',\n",
    "    tooltip=['class_label:N', 'locations', 'count']\n",
    ")\n",
    "\n",
    "chart.properties(\n",
    "    width=500,\n",
    "    height=500\n",
    ").properties(\n",
    "    title=disaster_title(disaster_kind) + ' disasters in the world, interactive chart'\n",
    ")"
   ]
  },
  {
   "cell_type": "markdown",
   "id": "8a0e9468",
   "metadata": {
    "papermill": {
     "duration": 0.222284,
     "end_time": "2022-08-19T20:57:04.600764",
     "exception": false,
     "start_time": "2022-08-19T20:57:04.378480",
     "status": "completed"
    },
    "tags": []
   },
   "source": [
    "## Show sample tweets per most important locations above"
   ]
  },
  {
   "cell_type": "code",
   "execution_count": 18,
   "id": "e04dec0a",
   "metadata": {
    "execution": {
     "iopub.execute_input": "2022-08-19T20:57:05.048082Z",
     "iopub.status.busy": "2022-08-19T20:57:05.047748Z",
     "iopub.status.idle": "2022-08-19T20:57:06.100513Z",
     "shell.execute_reply": "2022-08-19T20:57:06.099837Z"
    },
    "papermill": {
     "duration": 1.277576,
     "end_time": "2022-08-19T20:57:06.102595",
     "exception": false,
     "start_time": "2022-08-19T20:57:04.825019",
     "status": "completed"
    },
    "tags": []
   },
   "outputs": [
    {
     "data": {
      "text/html": [
       "<div>\n",
       "<style scoped>\n",
       "    .dataframe tbody tr th:only-of-type {\n",
       "        vertical-align: middle;\n",
       "    }\n",
       "\n",
       "    .dataframe tbody tr th {\n",
       "        vertical-align: top;\n",
       "    }\n",
       "\n",
       "    .dataframe thead th {\n",
       "        text-align: right;\n",
       "    }\n",
       "</style>\n",
       "<table border=\"1\" class=\"dataframe\">\n",
       "  <thead>\n",
       "    <tr style=\"text-align: right;\">\n",
       "      <th></th>\n",
       "      <th>created_at</th>\n",
       "      <th>class_label</th>\n",
       "      <th>tweet_text</th>\n",
       "      <th>locations</th>\n",
       "      <th>count</th>\n",
       "    </tr>\n",
       "  </thead>\n",
       "  <tbody>\n",
       "    <tr>\n",
       "      <th>103</th>\n",
       "      <td>2022-08-04 00:00:00+00:00</td>\n",
       "      <td>caution_and_advice</td>\n",
       "      <td>[#Earthquake of magnitude 3.09 at 64 km N of Suárez, #Puerto_Rico. Retweet if you felt it., [🚨 EARLY WARNING] Earthquake Detected: A estimated magnitude 5.0 #地震 (#earthquake) with an estimated Shindo Intensity of 3 is occuring 福島県沖 (Off Fukushima Prefecture) with a depth of 4...</td>\n",
       "      <td>[Honaunau-Napoopoo, Japan, United States]</td>\n",
       "      <td>248</td>\n",
       "    </tr>\n",
       "    <tr>\n",
       "      <th>88</th>\n",
       "      <td>2022-08-03 04:00:00+00:00</td>\n",
       "      <td>other_relevant_information</td>\n",
       "      <td>[RT @cnnphilippines: JUST IN: A magnitude 5.8 earthquake hits waters off Manay, Davao Oriental.\\n\\nPhivolcs says aftershocks are expected.\\n\\nFu…, 1.9 magnitude #earthquake. 26 km from #Honaunau-Napoopoo, HI, #UnitedStates https://t.co/zBdUiEwQ2W, RT @QuakesToday: 1.9 magnitu...</td>\n",
       "      <td>[HI, Honaunau-Napoopoo, United States]</td>\n",
       "      <td>2830</td>\n",
       "    </tr>\n",
       "    <tr>\n",
       "      <th>53</th>\n",
       "      <td>2022-08-02 02:00:00+00:00</td>\n",
       "      <td>caution_and_advice</td>\n",
       "      <td>[#Earthquake of magnitude 3.05 at 20 km SE of Hana, #Hawaii. Retweet if you felt it., RT @earthquake247: #Earthquake of magnitude 4.1 at 289 km E of Levuka, #Fiji. Retweet if you felt it., #Earthquake of magnitude 2.95 at 20 km SE of Hana, #Hawaii. Retweet if you felt it., RT...</td>\n",
       "      <td>[United States]</td>\n",
       "      <td>48</td>\n",
       "    </tr>\n",
       "    <tr>\n",
       "      <th>14</th>\n",
       "      <td>2022-07-31 22:00:00+00:00</td>\n",
       "      <td>other_relevant_information</td>\n",
       "      <td>[Magnitude 6.0 Earthquake Reported in Nepal - teleSUR English https://t.co/T8axOosoRt, RT @phivolcs_dost: #EarthquakePH #EarthquakeAbra\\nEarthquake Information No.1\\nDate and Time: 01 August 2022 - 03:07 AM\\nMagnitude = 2.3\\nDepth…, 0.95 magnitude earthquake occurred at Seven...</td>\n",
       "      <td>[HI, Nepal, United States]</td>\n",
       "      <td>393</td>\n",
       "    </tr>\n",
       "    <tr>\n",
       "      <th>140</th>\n",
       "      <td>2022-08-05 10:00:00+00:00</td>\n",
       "      <td>other_relevant_information</td>\n",
       "      <td>[#EarthquakePH #EarthquakeZambales\\nEarthquake Information No.1\\nDate and Time: 05 August 2022 - 07:03 PM\\nMagnitude = 1.7\\nDepth = 030 km\\nLocation = 15.58°N, 120.11°E - 017 km N 72° E of Masinloc (Zambales)\\n\\nhttps://t.co/Qp0ESBP9n6 https://t.co/sBsrRsnh3w, 1.90 magnitude ...</td>\n",
       "      <td>[HI, Hawaii, United States]</td>\n",
       "      <td>1114</td>\n",
       "    </tr>\n",
       "  </tbody>\n",
       "</table>\n",
       "</div>"
      ],
      "text/plain": [
       "                   created_at                 class_label  \\\n",
       "103 2022-08-04 00:00:00+00:00          caution_and_advice   \n",
       "88  2022-08-03 04:00:00+00:00  other_relevant_information   \n",
       "53  2022-08-02 02:00:00+00:00          caution_and_advice   \n",
       "14  2022-07-31 22:00:00+00:00  other_relevant_information   \n",
       "140 2022-08-05 10:00:00+00:00  other_relevant_information   \n",
       "\n",
       "                                                                                                                                                                                                                                                                                  tweet_text  \\\n",
       "103  [#Earthquake of magnitude 3.09 at 64 km N of Suárez, #Puerto_Rico. Retweet if you felt it., [🚨 EARLY WARNING] Earthquake Detected: A estimated magnitude 5.0 #地震 (#earthquake) with an estimated Shindo Intensity of 3 is occuring 福島県沖 (Off Fukushima Prefecture) with a depth of 4...   \n",
       "88   [RT @cnnphilippines: JUST IN: A magnitude 5.8 earthquake hits waters off Manay, Davao Oriental.\\n\\nPhivolcs says aftershocks are expected.\\n\\nFu…, 1.9 magnitude #earthquake. 26 km from #Honaunau-Napoopoo, HI, #UnitedStates https://t.co/zBdUiEwQ2W, RT @QuakesToday: 1.9 magnitu...   \n",
       "53   [#Earthquake of magnitude 3.05 at 20 km SE of Hana, #Hawaii. Retweet if you felt it., RT @earthquake247: #Earthquake of magnitude 4.1 at 289 km E of Levuka, #Fiji. Retweet if you felt it., #Earthquake of magnitude 2.95 at 20 km SE of Hana, #Hawaii. Retweet if you felt it., RT...   \n",
       "14   [Magnitude 6.0 Earthquake Reported in Nepal - teleSUR English https://t.co/T8axOosoRt, RT @phivolcs_dost: #EarthquakePH #EarthquakeAbra\\nEarthquake Information No.1\\nDate and Time: 01 August 2022 - 03:07 AM\\nMagnitude = 2.3\\nDepth…, 0.95 magnitude earthquake occurred at Seven...   \n",
       "140  [#EarthquakePH #EarthquakeZambales\\nEarthquake Information No.1\\nDate and Time: 05 August 2022 - 07:03 PM\\nMagnitude = 1.7\\nDepth = 030 km\\nLocation = 15.58°N, 120.11°E - 017 km N 72° E of Masinloc (Zambales)\\n\\nhttps://t.co/Qp0ESBP9n6 https://t.co/sBsrRsnh3w, 1.90 magnitude ...   \n",
       "\n",
       "                                     locations  count  \n",
       "103  [Honaunau-Napoopoo, Japan, United States]    248  \n",
       "88      [HI, Honaunau-Napoopoo, United States]   2830  \n",
       "53                             [United States]     48  \n",
       "14                  [HI, Nepal, United States]    393  \n",
       "140                [HI, Hawaii, United States]   1114  "
      ]
     },
     "execution_count": 18,
     "metadata": {},
     "output_type": "execute_result"
    }
   ],
   "source": [
    "df_top_location_tweets = top_locations_tweets(df_tweets, top10_locs)\n",
    "df_top_location_tweets.sample(5)"
   ]
  },
  {
   "cell_type": "code",
   "execution_count": 19,
   "id": "77bec4db",
   "metadata": {
    "execution": {
     "iopub.execute_input": "2022-08-19T20:57:06.621943Z",
     "iopub.status.busy": "2022-08-19T20:57:06.621604Z",
     "iopub.status.idle": "2022-08-19T20:57:06.812637Z",
     "shell.execute_reply": "2022-08-19T20:57:06.811917Z"
    },
    "papermill": {
     "duration": 0.420432,
     "end_time": "2022-08-19T20:57:06.816138",
     "exception": false,
     "start_time": "2022-08-19T20:57:06.395706",
     "status": "completed"
    },
    "tags": []
   },
   "outputs": [
    {
     "data": {
      "text/html": [
       "\n",
       "<div id=\"altair-viz-fca76ddeacb94b0e9542b27aed25a28f\"></div>\n",
       "<script type=\"text/javascript\">\n",
       "  var VEGA_DEBUG = (typeof VEGA_DEBUG == \"undefined\") ? {} : VEGA_DEBUG;\n",
       "  (function(spec, embedOpt){\n",
       "    let outputDiv = document.currentScript.previousElementSibling;\n",
       "    if (outputDiv.id !== \"altair-viz-fca76ddeacb94b0e9542b27aed25a28f\") {\n",
       "      outputDiv = document.getElementById(\"altair-viz-fca76ddeacb94b0e9542b27aed25a28f\");\n",
       "    }\n",
       "    const paths = {\n",
       "      \"vega\": \"https://cdn.jsdelivr.net/npm//vega@5?noext\",\n",
       "      \"vega-lib\": \"https://cdn.jsdelivr.net/npm//vega-lib?noext\",\n",
       "      \"vega-lite\": \"https://cdn.jsdelivr.net/npm//vega-lite@4.17.0?noext\",\n",
       "      \"vega-embed\": \"https://cdn.jsdelivr.net/npm//vega-embed@6?noext\",\n",
       "    };\n",
       "\n",
       "    function maybeLoadScript(lib, version) {\n",
       "      var key = `${lib.replace(\"-\", \"\")}_version`;\n",
       "      return (VEGA_DEBUG[key] == version) ?\n",
       "        Promise.resolve(paths[lib]) :\n",
       "        new Promise(function(resolve, reject) {\n",
       "          var s = document.createElement('script');\n",
       "          document.getElementsByTagName(\"head\")[0].appendChild(s);\n",
       "          s.async = true;\n",
       "          s.onload = () => {\n",
       "            VEGA_DEBUG[key] = version;\n",
       "            return resolve(paths[lib]);\n",
       "          };\n",
       "          s.onerror = () => reject(`Error loading script: ${paths[lib]}`);\n",
       "          s.src = paths[lib];\n",
       "        });\n",
       "    }\n",
       "\n",
       "    function showError(err) {\n",
       "      outputDiv.innerHTML = `<div class=\"error\" style=\"color:red;\">${err}</div>`;\n",
       "      throw err;\n",
       "    }\n",
       "\n",
       "    function displayChart(vegaEmbed) {\n",
       "      vegaEmbed(outputDiv, spec, embedOpt)\n",
       "        .catch(err => showError(`Javascript Error: ${err.message}<br>This usually means there's a typo in your chart specification. See the javascript console for the full traceback.`));\n",
       "    }\n",
       "\n",
       "    if(typeof define === \"function\" && define.amd) {\n",
       "      requirejs.config({paths});\n",
       "      require([\"vega-embed\"], displayChart, err => showError(`Error loading script: ${err.message}`));\n",
       "    } else {\n",
       "      maybeLoadScript(\"vega\", \"5\")\n",
       "        .then(() => maybeLoadScript(\"vega-lite\", \"4.17.0\"))\n",
       "        .then(() => maybeLoadScript(\"vega-embed\", \"6\"))\n",
       "        .catch(showError)\n",
       "        .then(() => displayChart(vegaEmbed));\n",
       "    }\n",
       "  })({\"config\": {\"view\": {\"continuousWidth\": 400, \"continuousHeight\": 300}}, \"vconcat\": [{\"mark\": {\"type\": \"line\", \"size\": 2}, \"encoding\": {\"color\": {\"field\": \"class_label\", \"type\": \"nominal\"}, \"tooltip\": [{\"field\": \"class_label\", \"type\": \"nominal\"}, {\"field\": \"locations\", \"type\": \"nominal\"}, {\"field\": \"count\", \"type\": \"quantitative\"}, {\"field\": \"created_at\", \"type\": \"temporal\"}], \"x\": {\"field\": \"created_at\", \"type\": \"temporal\"}, \"y\": {\"field\": \"count\", \"type\": \"quantitative\"}}, \"height\": 400, \"selection\": {\"selector002\": {\"type\": \"interval\", \"empty\": \"none\"}}, \"title\": \"Earthquake disasters in the world, interactive chart\", \"width\": 500}, {\"mark\": {\"type\": \"text\", \"align\": \"left\", \"dx\": -250, \"dy\": -100}, \"encoding\": {\"text\": {\"field\": \"tweet_text\", \"type\": \"nominal\"}, \"y\": {\"axis\": null, \"field\": \"row_number\", \"type\": \"ordinal\"}}, \"height\": 200, \"title\": \"Tweets from the selected time period\", \"transform\": [{\"window\": [{\"op\": \"row_number\", \"field\": \"\", \"as\": \"row_number\"}]}, {\"filter\": {\"selection\": \"selector002\"}}, {\"window\": [{\"op\": \"rank\", \"field\": \"row_number\", \"as\": \"rank\"}]}, {\"filter\": \"(datum.rank < 20)\"}], \"width\": 500}], \"data\": {\"name\": \"data-90b1a85c99890468d4b1feace6d1eaef\"}, \"$schema\": \"https://vega.github.io/schema/vega-lite/v4.17.0.json\", \"datasets\": {\"data-90b1a85c99890468d4b1feace6d1eaef\": [{\"created_at\": \"2022-07-31T10:00:00+00:00\", \"class_label\": \"caution_and_advice\", \"tweet_text\": [\"RT @QuakesToday: 4.9 magnitude #earthquake. 2 km from Bantay, #Cordillera, Philippines https://t.co/3WH1vmjYXh\", \"RT @QuakesToday: 4.6 magnitude #earthquake. 157 km from Iquique, #Tarapac\\u00e1, Chile https://t.co/s8E3j562Ok\", \"4.6 magnitude #earthquake. 157 km from Iquique, #Tarapac\\u00e1, Chile https://t.co/s8E3j562Ok\", \".@phivolcs_dost\\u2019s update on the July 27, 2022 M7.0 Northwestern Luzon #earthquake as of July 31, 2022, 7 PM\\n\\n\\ud83d\\udcc6 July 27, 2022\\n\\ud83d\\udd57 8:43 AM\\n\\ud83d\\udca5 7.0 magnitude\\n\\ud83d\\udccf 15 km\\n\\ud83d\\udcc8 1,813 aftershocks (as of 4 PM today)\\n\\u26a0\\ufe0f VII - highest intensity\\n\\nhttps://t.co/peGIjbPvea\\n\\n#LindolPH #EarthquakePH https://t.co/3P8bDOQrLO\", \"RT @EQAlerts: Magnitude 4.8 #earthquake strikes near Triyuga, Udayapur, Province 1, Nepal - info, user reports and updates\\nhttps://t.co/4JI\\u2026\"], \"locations\": [\"Nepal\"], \"count\": 1}, {\"created_at\": \"2022-07-31T12:00:00+00:00\", \"class_label\": \"caution_and_advice\", \"tweet_text\": [\"A 5.6 Magnitude Earthquake on Richter scale is recorded in Coast of Pakistan at 17:42, 31/07/2022 \\\"UAE time\\u201d According to the NCM \\u201cNational Seismic Network\\u201d.\", \"The Midlands was rocked by another earthquake early Sunday morning the South Carolina Emergency Management Division reports. https://t.co/vmPHNWFK2z\", \"UPDATE: Phivolcs has revised the magnitude from 4.8 to 4.7\\n\\nThe tremor occured at 7:27 PM at a depth of 9 km &amp; epicenter was relocated at 3 km southeast of San Isidro, #Abra.\\n\\nThis is an aftershock of the July 27, 2022 M7.0 Northwestern Luzon #earthquake.\\n\\n#LindolPH #EarthquakePH https://t.co/n9EIReL6aI\", \"[\\ud83d\\udea8 EARLY WARNING] Earthquake Detected: A estimated magnitude 4.1 #\\u5730\\u9707 (#earthquake) with an estimated Shindo Intensity of 3 is occuring \\u548c\\u6b4c\\u5c71\\u770c\\u5317\\u90e8 (Northern Wakayama Prefecture) with a depth of 10km. #japan\", \"RT @QuakesToday: 1.6 magnitude #earthquake. 24 km from #Coalinga, CA, United States https://t.co/vUNjlYVDN2\", \"RT @QuakesToday: 1.9 magnitude #earthquake. 64 km from Sutton-Alpine, #AK, United States https://t.co/spVQhuzwWU\", \"RT @QuakesToday: 2.1 magnitude #earthquake. 74 km from Loving, NM, #UnitedStates https://t.co/lQ42kvnWy6\", \"RT @QuakesToday: 2.1 magnitude #earthquake. 74 km from Loving, NM, #UnitedStates https://t.co/gWsm4UCVMB\", \"RT @QuakesToday: 4.6 magnitude #earthquake. 157 km from Iquique, #Tarapac\\u00e1, Chile https://t.co/s8E3j562Ok\"], \"locations\": [\"United States\"], \"count\": 5}, {\"created_at\": \"2022-07-31T14:00:00+00:00\", \"class_label\": \"caution_and_advice\", \"tweet_text\": [\"\\u26a0\\ufe0f A 5.1 magnitude earthquake recorded in 12 km S of Pasni, Pakistan \\n More Info: https://t.co/oAnH9v4wvN \\n Map: https://t.co/cFPP6IZvBR\", \"Magnitude 4.0 quake jolts 18 km NW of Tayum, #Abra at 9:45 PM.\\n\\nThe tremor had a depth of 9 km &amp; was felt at Intensity 4\\ufe0f\\u20e3 in Bangued, Abra, &amp; Intensity 3\\ufe0f\\u20e3 in Bantay, #IlocosSur\\n\\n\\u26a0\\ufe0f This is an aftershock of the July 27 M7.0 Northwestern Luzon #earthquake.\\n\\n#LindolPH #EarthquakePH https://t.co/nWQEmmt2ko\", \"BREAKING UPDATE: \\nA 5.50 magnitude earthquake has occurred near Pasni, Balochistan, Pakistan at 18:42\\nDeveloping Situation - Will Keep Posted for all significant developments \\nWeather Updates PK / Karachi Doppler https://t.co/yMokz8O3Yi\", \"Terrified villagers try to find safe place at Khotang district's Mattim Birta village, the epicenter of the #earthquake measuring 6 magnitude recorded at 8:13 am today. https://t.co/mYBjqqCTWL\", \"Quake alert! A 5.5 magnitude earthquake occurred 13 km SSE of Pasni, Pakistan. Visit Us: https://t.co/LZJjQthcOZ #earthquake #quakelogic #fault #seismic #Pakistan https://t.co/ewIRvEB4Ib\", \"Magnitude 5.6 Earthquake Strikes Southwestern Pakistan Region - EMSC #Pakistan https://t.co/fMVFPoBvtw\", \"Spillways of Tarbela Dam are being opened, follow precautionary measures.  In case of emergency contact Rescue 1122 Helpline or Control Room 920006-0938 District Administration Swabi.\\n#Pakhtunkhwa360 #KP360 #earthquake https://t.co/DO9TZ4BFrL\", \"\\ud83d\\udccc Earthquake information - Revised event \\ud83d\\udccc\\n\\n#earthquake #USGS #Balochistan #Pakistan\\n\\nDate and time (UTC): 07/31/2022 01:52:16 PM\\nMagnitude: 5.1 mb\\nArea: 13 km SSW of Pasni, Pakistan\\nDepth (km): 10\\nLatitude: 25.1473\\nLongitude: 63.4376 https://t.co/WHO5RuC3JZ\", \"Magnitude 4.4 #earthquake strikes near Orcopampa, Provincia de Castilla, Arequipa, Peru - info, user reports and updates\\nhttps://t.co/pYQheGS4JY\", \"Breaking \\n\\nA 5.50 Magnitude #earthquake has reportedly occured 13 KM from Pasni , #Balouchsitan at 1842 Hours Pakistan Standard Time. \\n\\nDetails to follow\"], \"locations\": [\"Japan\", \"United States\"], \"count\": 10}, {\"created_at\": \"2022-07-31T16:00:00+00:00\", \"class_label\": \"caution_and_advice\", \"tweet_text\": [\"RT @EQAlerts: Significant #earthquake of magnitude 5.0 just reported 35 km southwest of Reykjavik, Iceland - info, user reports and updates\\u2026\", \"Significant #earthquake of magnitude 5.0 just reported 35 km southwest of Reykjavik, Iceland - info, user reports and updates\\nhttps://t.co/13h9OwrP3b\", \"\\ud83c\\uddec\\ud83c\\uddf7 An #earthquake (#\\u03c3\\u03b5\\u03b9\\u03c3\\u03bc\\u03cc\\u03c2) happened near #Lefkada, #Greece 3mins ago at 5:32PM on 31/07/2022 UTC. The earthquake had a magnitude of M3.8 and it was 2km (1.2 miles) deep in the ground. Stay safe! #sismo #quake \\n\\nSite Used: https://t.co/l1o7QQ5kz3\\nInformation from EMSC. https://t.co/PWh30U7z9y\", \"RT @QuakesToday: 1.7 magnitude #earthquake. 68 km from Tonopah, #NV, United States https://t.co/MiIqcGo5nN\", \"The USGS has issued an Earthquake Notification for a Magnitude 4.7 earthquake in the Dominican Republic region which may be felt in the Virgin Islands. If a Tsunami is detected as a result of the earthquake, separate Tsunami information will be sent by Ale https://t.co/W42cbmyv98\", \"RT @QuakesToday: 2.0 magnitude #earthquake. 29 km from #SmithValley, NV, United States https://t.co/bOEqpmAR8k\", \"RT @QuakesToday: 1.7 magnitude #earthquake. 11 km from Sterling, #AK, United States https://t.co/I3bY73d6Cg\", \"RT @WeatherWupk: BREAKING UPDATE: \\nA 5.50 magnitude earthquake has occurred near Pasni, Balochistan, Pakistan at 18:42\\nDeveloping Situation\\u2026\", \"The Midlands was rocked by another earthquake early Sunday morning the South Carolina Emergency Management Division reports.\\n\\nhttps://t.co/reo5IAVBeQ\"], \"locations\": [\"United States\"], \"count\": 40}, {\"created_at\": \"2022-07-31T16:00:00+00:00\", \"class_label\": \"sympathy_and_support\", \"tweet_text\": [\"5.6 Magnitude earthquake jolts coastal parts of Balochistan...!! \\nMay Allah protect our country! Ameen..\\n#earthquake #Balochistan #Nepal https://t.co/Sgv0JaAwaZ\", \"RT @victoryph: Let us pray for those who are affected by the earthquake. Ask God to protect and strengthen them, and to restore what they h\\u2026\", \"RT @melawanshwa: #Watch #BreakingNews :\\n\\nan #earthquake of 7.3 mg hit Northern #Philippine to day morning, Please Pray for their safety\\ud83d\\ude4f\\ud83d\\ude4f h\\u2026\", \"This is definitely not a Moulana. \\nHe is the epicenter of fitna, mischief and corruption, which are totally forbidden in Islam.  We should pray for this misguided Moulana. \\n\\n#earthquake #DGISPR #Pakistan #USA #China #Bajwa https://t.co/McyEjouEIw\", \"I pray for the safety of everyone who has been affected by the earthquake and its aftershocks\\ud83d\\ude4f Ingat po kayo palagi \\ud83e\\udd0d\"], \"locations\": [\"Nepal\"], \"count\": 8}, {\"created_at\": \"2022-07-31T18:00:00+00:00\", \"class_label\": \"caution_and_advice\", \"tweet_text\": [\"Location: Sinait\\nTime: 5:47 PM\\nMagnitude: 3\\nDepth: 7kms\\n#earthquake\\n#earthquakePh\\n#earthquakeIlocosSur https://t.co/rX0xnBW1iT\", \"\\ud83c\\uddee\\ud83c\\uddf8 An #earthquake (#jar\\u00f0skj\\u00e1lfti) happened in #Reykjanes, #Iceland 20mins ago at 5:47PM on 31/07/2022 UTC. The earthquake had a magnitude of M5.2 and it was 2km (1.2 miles) deep in the ground. Stay safe! #sismo #quake \\n\\nSite Used: https://t.co/uXuTkDmsBD\\nInformation from EMSC. https://t.co/FQpxSJeZmm\", \"Location: Narvacan\\nTime: 7:27:41 PM GMT+8\\nMagnitude: 4.6\\nDepth: 10kms\\n\\n#earthquake\\n#earthquakePh\\n#earthquakeIlocosSur https://t.co/8WoFFaDuPQ\", \"\\u26a0\\ufe0f A 5.4 magnitude earthquake recorded in Izu Islands, Japan region \\n More Info: https://t.co/aTl8eX96jL \\n Map: https://t.co/sQbPTtq8qp\", \"\\u26a0\\ufe0f A 5.3 magnitude earthquake recorded in 2 km W of Vogar, Iceland \\n More Info: https://t.co/uso8ehJafi \\n Map: https://t.co/eaUNjnOKRj\", \"Location: Abra\\nTime: 3:03 AM GMT+8\\nMagnitude: 3\\nDepth: 21kms\\n\\n#earthquake\\n#earthquakePh\\n#EarthquakeAbra https://t.co/8Qe9wBdeKH\", \"Location: Abra\\nTime: 2:48 AM\\nMagnitude: 5.2\\nDepth: 22kms\\n\\n#earthquake\\n#earthquakePh\\n#earthquakeAbra https://t.co/phdWCgEBoP\", \"[EEW]:\\n2022/08/01 03:50:11\\nMagnitude: 5.5 \\nMax. Intensity: 1 \\nEpicenter: Off the coast of Hachijojima \\nDepth: 10 \\nhttps://t.co/zP2dZwEN2B\\n #Japan #Earthquake #\\u5730\\u9707\", \"Location: Abra\\nTime: 7:27PM GMT+8\\nMagnitude: 4.7\\nDepth: 9\\n\\n#earthquake\\n#earthquakePh\\n#earthquakeAbra https://t.co/gpGlJMCUPw\", \"#Earthquake: Iceland Region at 31 July 2022 05:48 pm (UTC), Magnitude: 5 https://t.co/EjODxKSkcv\"], \"locations\": [\"Izu Islands\", \"Japan\", \"United States\"], \"count\": 61}, {\"created_at\": \"2022-07-31T18:00:00+00:00\", \"class_label\": \"infrastructure_and_utility_damage\", \"tweet_text\": [\"Tsunami could kill 149,000 in Hokkaido in worst-case quake scenario: Damage estimates released Thursday by the Hokkaido government show tsunami could kill 149,000 people in the event a major earthquake hits off Japan's northernmost\\u2026 https://t.co/fun4uLVblb\", \"RT @OfficialDGISPR: CJCSC &amp; Services Chiefs express deepest condolences over tragic loss of precious lives &amp; damage to infrastructure due t\\u2026\", \"RT @cnnphilippines: JUST IN: A magnitude 4.8 earthquake jolts Nagbukel, Ilocos Sur on Sunday night, Phivolcs reports, adding that damage ca\\u2026\", \"RT @pnagovph: President Ferdinand Marcos Jr. instructed the department to inspect schools and hospitals for any damage caused by the earthq\\u2026\"], \"locations\": [\"Japan\"], \"count\": 9}, {\"created_at\": \"2022-07-31T22:00:00+00:00\", \"class_label\": \"caution_and_advice\", \"tweet_text\": [\"\\u26a0\\ufe0f A 5.2 magnitude earthquake recorded in 17 km SSW of Aitape, Papua New Guinea \\n More Info: https://t.co/C9xgczbFWY \\n Map: https://t.co/yvy0ic8y3Q\", \"RT @EQAlerts: Moderate magnitude 4.5 #quake hits 2 km northwest of Garza Cocha, Peru in the afternoon  - info, user reports and updates\\nhtt\\u2026\", \"RT @EQAlerts: Moderate magnitude 4.3 #earthquake 16 km southeast of Vik, Iceland - info, user reports and updates\\nhttps://t.co/hsCjucyIdT\", \"RT @EQAlerts: Significant #earthquake of magnitude 5.0 just reported 35 km southwest of Reykjavik, Iceland - info, user reports and updates\\u2026\", \"RT @EQAlerts: Magnitude 4.4 #earthquake strikes near Orcopampa, Provincia de Castilla, Arequipa, Peru - info, user reports and updates\\nhttp\\u2026\", \"RT @EQAlerts: Moderate magnitude 4.2 #earthquake 44 km southwest of Santiago Pinotepa Nacional, Mexico - info, user reports and updates\\nhtt\\u2026\", \"RT @EQAlerts: Magnitude 4.8 #earthquake strikes near Triyuga, Udayapur, Province 1, Nepal - info, user reports and updates\\nhttps://t.co/4JI\\u2026\", \"RT @QuakesToday: 4.6 magnitude #earthquake. 157 km from Iquique, #Tarapac\\u00e1, Chile https://t.co/s8E3j562Ok\", \"RT @QuakesToday: 4.9 magnitude #earthquake. 2 km from Bantay, #Cordillera, Philippines https://t.co/3WH1vmjYXh\", \"RT @QuakesToday: 5.3 magnitude #earthquake. 3 km from #Vogar, Southern Peninsula, Iceland https://t.co/734reTpRrg\"], \"locations\": [\"Nepal\"], \"count\": 11}, {\"created_at\": \"2022-08-01T00:00:00+00:00\", \"class_label\": \"caution_and_advice\", \"tweet_text\": [\"RT @CNN: An 8.1-magnitude earthquake has hit Mexico's west coast as the country's east faces heavy rains from Hurricane Katia https://t.co/\\u2026\", \"RT @QuakesToday: 5.3 magnitude #earthquake. 69 km from #Akutan, AK, United States https://t.co/vr05Xnzghx\", \"\\u26a0\\ufe0f A 5.3 magnitude earthquake recorded in 68 km SSE of Akutan, Alaska \\n More Info: https://t.co/91j0B0yrVA \\n Map: https://t.co/bwvFy3su6C\", \"#Earthquake of magnitude 5.3 at 68 km SSE of Akutan, #Alaska. Retweet if you felt it.\", \"#Earthquake of magnitude 4.9 at 76 km SSE of Akutan, #Alaska. Retweet if you felt it.\", \"#Earthquake of magnitude 5.2 at 90 km SSE of Akutan, #Alaska. Retweet if you felt it.\", \"RT @EQAlerts: Significant #earthquake of magnitude 5.0 just reported 35 km southwest of Reykjavik, Iceland - info, user reports and updates\\u2026\"], \"locations\": [\"Alaska\", \"United States\"], \"count\": 65}, {\"created_at\": \"2022-08-01T02:00:00+00:00\", \"class_label\": \"caution_and_advice\", \"tweet_text\": [\"#Earthquake of magnitude 4.4 at 11 km SE of Vogar, #Iceland. Retweet if you felt it.\", \"during 3-4 days\\n\\n1. Chhattisgarh, Korea-Ambikapur : 4.6 magnitude earthquake\\n\\n2. Mizoram, South Champhai: 3.6 magnitude earthquake\\n\\n3. Nepal, Kathmandu: 5.5 magnitude earthquake\\n\\nno casualties reported\", \"RT @QuakesToday: 4.4 magnitude #earthquake. 33 km from #DutchHarbor, AK, United States https://t.co/ZWjIesshvO\", \"Moderate magnitude 4.4 #earthquake 21 miles northeast of Dutch Harbor, Alaska, United States - info, user reports and updates\\nhttps://t.co/ROLdF3ic01\", \"#Earthquake of magnitude 4.4 at 33 km NNE of Dutch Harbor, #Alaska. Retweet if you felt it.\", \"RT @earthquake247: #Earthquake of magnitude 5.3 at 96 km WNW of Rabaul, #Papua_New_Guinea. Retweet if you felt it.\", \"\\u26a0\\ufe0f A 5.3 magnitude earthquake recorded in 96 km WNW of Rabaul, Papua New Guinea \\n More Info: https://t.co/AwRTPkfICj \\n Map: https://t.co/N8fftdbWDM\", \"#Earthquake of magnitude 5.3 at 96 km WNW of Rabaul, #Papua_New_Guinea. Retweet if you felt it.\"], \"locations\": [\"Alaska\", \"Nepal\", \"United States\"], \"count\": 42}, {\"created_at\": \"2022-08-01T04:00:00+00:00\", \"class_label\": \"caution_and_advice\", \"tweet_text\": [\"RT @WeatherWupk: BREAKING UPDATE: \\nA 5.50 magnitude earthquake has occurred near Pasni, Balochistan, Pakistan at 18:42\\nDeveloping Situation\\u2026\", \"Significant magnitude 5.1 #earthquake 50 miles southeast of Nikolski, Alaska, United States - info, user reports and updates\\nhttps://t.co/TmU8ySrAhg\", \"RT @QuakesToday: 5.3 magnitude #earthquake. 69 km from #Akutan, AK, United States https://t.co/vr05Xnzghx\", \"Location: Badoc\\nTime:11:49AM GMT+8\\nMagnitude: 3.8\\nDepth: 17kms\\n#earthquake\\n#earthquakePh\\n#EarthquakeIlocosNorte https://t.co/KtOP03uvJi\", \"Location: Santa\\nTime: 5:33AM GMT+8\\nMagnitude: 3.2\\nDepth: 3kms\\n\\n#earthquake\\n#earthquakePh\\n#earthquakeIlocosSur https://t.co/eAnhkV75ub\", \"RT @EQAlerts: Significant magnitude 5.1 #earthquake 50 miles southeast of Nikolski, Alaska, United States - info, user reports and updates\\u2026\", \"#Earthquake of magnitude 2.5 at 56 km SW of Tatitlek, #Alaska. Retweet if you felt it.\", \"RT @ssgeos: WARNING: Planetary geometry from 24 July to 1  August may result in major seismic activity, potentially reaching higher 7 to 8\\u2026\", \"#Earthquake of magnitude 4.9 at 95 km SE of Nikolski, #Alaska. Retweet if you felt it.\", \"RT @EQAlerts: Moderate magnitude 4.4 #earthquake 21 miles northeast of Dutch Harbor, Alaska, United States - info, user reports and updates\\u2026\"], \"locations\": [\"Alaska\", \"United States\"], \"count\": 95}, {\"created_at\": \"2022-08-01T04:00:00+00:00\", \"class_label\": \"infrastructure_and_utility_damage\", \"tweet_text\": [\"The Department of Agriculture (DA) said the cost of damage to farm infrastructure in the Cordillera Administrative Region (CAR) caused by the strong earthquake has reached P44.2 million.\\n\\nhttps://t.co/0KRlxfcRIk\", \"Damage estimates released Thursday by the Hokkaido government show tsunami could kill 149,000 people in the event a major earthquake hits off Japan's northernmost main island. https://t.co/yx2ryKCvzO\", \"#Earthquake 20 km NE of #Karlovac (#Croatia) 7 min ago (local time 06:24:06). Colored dots represent local shaking &amp; damage reported by eyewitnesses. Share your experience:\\n\\ud83d\\udcf1https://t.co/LBaVNedgF9\\n\\ud83c\\udf10https://t.co/BWMF3R0Yv6 https://t.co/749JR2540C\", \"RT @SaltAndReality: Did You Know?\\nOn Oct 16, 2013, 1 day after the Bohol Earthquake, PNoy flew to Bohol &amp; Cebu to assess the damage &amp; exten\\u2026\"], \"locations\": [\"Japan\"], \"count\": 14}, {\"created_at\": \"2022-08-01T04:00:00+00:00\", \"class_label\": \"sympathy_and_support\", \"tweet_text\": [\"Never seen earthquake activity like what I have seen the past couple of days. Areas to pray for IMO would be: Japan, Philippines, South America and Alaska. \\ud83d\\ude4f\", \"RT @onofight: If God did the earthquake as Raissa claims, who will we pray to save the victims?\"], \"locations\": [\"Japan\"], \"count\": 13}, {\"created_at\": \"2022-08-01T06:00:00+00:00\", \"class_label\": \"caution_and_advice\", \"tweet_text\": [\"#Earthquake of magnitude 3.2 at 0 km ENE of Beluga, #Alaska. Retweet if you felt it.\", \"RT @EQAlerts: Moderate magnitude 4.4 #earthquake 21 miles northeast of Dutch Harbor, Alaska, United States - info, user reports and updates\\u2026\", \"4.6 magnitude #earthquake. 9 km from #\\u00c1lftanes, Capital Region, Iceland https://t.co/d0Zj0oi3ah\", \"#Earthquake of magnitude 4 at 82 km SE of Nikolski, #Alaska. Retweet if you felt it.\", \"RT @QuakesToday: 4.0 magnitude #earthquake. 198 km from Unalaska, #AK, United States https://t.co/MHgFQxbfzw\", \"An earthquake's exact location, place, magnitude can't be predicted - Rappler https://t.co/buEtVrGPEs #Earthquake\", \"RT @MirAmirOsama1: An 5.5 magnitude earthquake near Pasni has shaken parts of district Gwadar and Kech and it could be felt as far as Turba\\u2026\", \"RT @EQAlerts: Significant #earthquake of magnitude 5.0 just reported 35 km southwest of Reykjavik, Iceland - info, user reports and updates\\u2026\", \"#Earthquake: New Ireland Region, P.N.G. at 01 August 2022 01:43 am (UTC), Magnitude: 5.4 https://t.co/qBvQy1JWXT\", \"Magnitude 5.6 earthquake strikes southwestern Pakistan region - https://t.co/5UKskh0XkA https://t.co/GqHQY1xY81 #Earthquake\"], \"locations\": [\"Alaska\", \"United States\"], \"count\": 67}, {\"created_at\": \"2022-08-01T06:00:00+00:00\", \"class_label\": \"infrastructure_and_utility_damage\", \"tweet_text\": [\"An earthquake measuring 5.3 on the Richter scale hit Alaska, USA. No tsunami warnings were issued. There have been no reports of material or human damage caused by the earthquake. #QNA https://t.co/cn0eaRnk1d\", \"RT @gmanews: Abra earthquake infrastructure damage has reached over P700-M, NDRRMC says\\n\\nhttps://t.co/8ox4dwkXxu\", \"Earthquake damage at P414M; Ilocos infra hardest hit. \\n\\nLet us unite as a nation, refrain from politics and actually help in any manner we can. Help one earthquake victim/family at a time.\\n\\nhttps://t.co/a8abG0LD7O\", \"Abra earthquake infrastructure damage has reached over P700M, NDRRMC says https://t.co/0AlnZt8dIg via @gmanews\", \"RT @LastQuake: #Earthquake 29 km S of #K\\u00f3pavogur (#Iceland) 9 min ago (local time 06:27:39). Colored dots represent local shaking &amp; damage\\u2026\", \"Lacub MPS personnel led by PCpl Clinton Belmonte  together with LDRRMO, MSWD, DSWD, and Barangay Officials conducted Post-Earthquake Assessment to estimate the cost of damage of some residential houses affected by the earthquake at Barangays Guinguinabang and Bacag, Lacub, Abra. https://t.co/P9ttKzcwps\", \"RT @LastQuake: #Earthquake 8 km W of #Sisak (#Croatia) 3 min ago (local time 02:04:45). Colored dots represent local shaking &amp; damage repor\\u2026\", \"#Earthquake 29 km S of #K\\u00f3pavogur (#Iceland) 9 min ago (local time 06:27:39). Colored dots represent local shaking &amp; damage reported by eyewitnesses. Share your experience:\\n\\ud83d\\udcf1https://t.co/LBaVNedgF9\\n\\ud83c\\udf10https://t.co/04JmpD8lgd https://t.co/IrCsFGJEp4\", \"RT @LastQuake: #Earthquake 20 km NE of #Karlovac (#Croatia) 7 min ago (local time 06:24:06). Colored dots represent local shaking &amp; damage\\u2026\", \"The Philippine National Police will help the Department of Trade and Industry montior implementation of a price frees on basic commodities in Abra, which has declared a state of calamity due to damage caused by an earthquake last week.\\n\\nhttps://t.co/T5yk3bGKam\"], \"locations\": [\"Alaska\"], \"count\": 14}, {\"created_at\": \"2022-08-01T06:00:00+00:00\", \"class_label\": \"injured_or_dead_people\", \"tweet_text\": [\"news:Magnitude 6.0 Earthquake Reported in Nepal - teleSUR English https://t.co/z9eWB60PnB\", \"RT @activistjyot: 6.0 magnitude #earthquake jolts #nepal \\ud83d\\ude1e I recall those horrific times when I rescued n cremated dead bodies n served vic\\u2026\"], \"locations\": [\"Nepal\"], \"count\": 14}, {\"created_at\": \"2022-08-01T06:00:00+00:00\", \"class_label\": \"sympathy_and_support\", \"tweet_text\": [\"READ: House leaders file House Resolution 122 expressing the lower chamber's profound empathy, compassion, solidarity and support for the victims of the magnitude 7.0 earthquake last July 27 that hit Abra and neighboring areas. @inquirerdotnet https://t.co/7pH0o2T2rp\", \"RT @peace_and_rest: Never seen earthquake activity like what I have seen the past couple of days. Areas to pray for IMO would be: Japan, Ph\\u2026\"], \"locations\": [\"Japan\"], \"count\": 13}, {\"created_at\": \"2022-08-01T08:00:00+00:00\", \"class_label\": \"caution_and_advice\", \"tweet_text\": [\"RT @earthquake247: #Earthquake of magnitude 4.9 at 74 km SE of Hengchun, #Taiwan. Retweet if you felt it.\", \"RT @QuakesToday: 1.6 magnitude #earthquake. 49 km from Girdwood, AK, #UnitedStates https://t.co/5bpgK0rMiD\", \"RT @QuakesToday: 4.0 magnitude #earthquake. 198 km from Unalaska, #AK, United States https://t.co/MHgFQxbfzw\", \"RT @EQAlerts: Significant magnitude 5.1 #earthquake 50 miles southeast of Nikolski, Alaska, United States - info, user reports and updates\\u2026\", \"#Earthquake of magnitude 4.9 at 74 km SE of Hengchun, #Taiwan. Retweet if you felt it.\", \"1.6 magnitude #earthquake. 49 km from Girdwood, AK, #UnitedStates https://t.co/5bpgK0rMiD\", \"RT @EQAlerts: Moderate #earthquake of magnitude 4.6 just reported 76 km southeast of Hengchun, Taiwan - info, user reports and updates\\nhttp\\u2026\", \"Moderate #earthquake of magnitude 4.6 just reported 76 km southeast of Hengchun, Taiwan - info, user reports and updates\\nhttps://t.co/QBBVeVTSMu\", \"RT @QuakesToday: 4.6 magnitude #earthquake. 9 km from #\\u00c1lftanes, Capital Region, Iceland https://t.co/d0Zj0oi3ah\"], \"locations\": [\"Alaska\", \"United States\"], \"count\": 41}, {\"created_at\": \"2022-08-01T10:00:00+00:00\", \"class_label\": \"caution_and_advice\", \"tweet_text\": [\"RT @QuakesToday: 1.6 magnitude #earthquake. 42 km from #AnchorPoint, AK, United States https://t.co/dePOsTIh8w\", \"RT @QuakesToday: 4.0 magnitude #earthquake. 198 km from Unalaska, #AK, United States https://t.co/MHgFQxbfzw\", \"RT @QuakesToday: 4.6 magnitude #earthquake. 9 km from #\\u00c1lftanes, Capital Region, Iceland https://t.co/d0Zj0oi3ah\", \"RT @QuakesToday: 1.6 magnitude #earthquake. 49 km from Girdwood, AK, #UnitedStates https://t.co/5bpgK0rMiD\", \"RT @QuakesToday: 1.8 magnitude #earthquake. 7 km from Seeley, #CA, #UnitedStates https://t.co/7c9uzb55nU\", \"RT @QuakesToday: 1.9 magnitude #earthquake. 49 km from Sutton-Alpine, #AK, United States https://t.co/f0vmBTTMgK\", \"RT @EQAlerts: Moderate #earthquake of magnitude 4.6 just reported 76 km southeast of Hengchun, Taiwan - info, user reports and updates\\nhttp\\u2026\", \"RT @EQAlerts: Significant magnitude 5.1 #earthquake 50 miles southeast of Nikolski, Alaska, United States - info, user reports and updates\\u2026\", \"Phivolcs has revised the magnitude of the #aftershock from 3.7 to 3.8.\\n\\nThe tectonic quake struck at 5:23 PM at a depth of 9 km, &amp; its epicenter was relocated at 11 km  SE of #SanQuintin, #Abra.\\n\\n\\u26a0\\ufe0f This is an aftershock of the July 27, 2022 M7.0 Northwestern Luzon #earthquake. https://t.co/hmEJoocpTJ\"], \"locations\": [\"Alaska\", \"United States\"], \"count\": 95}, {\"created_at\": \"2022-08-01T12:00:00+00:00\", \"class_label\": \"caution_and_advice\", \"tweet_text\": [\"RT @QuakesToday: 1.9 magnitude #earthquake. 80 km from Sutton-Alpine, #AK, United States https://t.co/StgidhHsXJ\", \"#Earthquake of magnitude 2.95 at 8 km NNE of Waikoloa, #Hawaii. Retweet if you felt it.\", \"RT @QuakesToday: 4.0 magnitude #earthquake. 198 km from Unalaska, #AK, United States https://t.co/MHgFQxbfzw\", \"RT @QuakesToday: 4.6 magnitude #earthquake. 9 km from #\\u00c1lftanes, Capital Region, Iceland https://t.co/d0Zj0oi3ah\", \"RT @QuakesToday: 1.6 magnitude #earthquake. 49 km from Girdwood, AK, #UnitedStates https://t.co/5bpgK0rMiD\", \"An #earthquake measuring 5.3 on the Richter scale hit #Alaska, USA. No tsunami warnings were issued.\\n\\nhttps://t.co/dvPsOlN1Iq\"], \"locations\": [\"United States\"], \"count\": 26}, {\"created_at\": \"2022-08-01T14:00:00+00:00\", \"class_label\": \"caution_and_advice\", \"tweet_text\": [\"#Earthquake of magnitude 4.4 at 12 km ESE of Atico, #Peru. Retweet if you felt it.\", \"#Earthquake of magnitude 2.7 at 5 km NW of Trujillo Alto, #Puerto_Rico. Retweet if you felt it.\", \"RT @QuakesToday: 4.6 magnitude #earthquake. 9 km from #\\u00c1lftanes, Capital Region, Iceland https://t.co/d0Zj0oi3ah\", \"RT @QuakesToday: 1.9 magnitude #earthquake. 80 km from Sutton-Alpine, #AK, United States https://t.co/StgidhHsXJ\"], \"locations\": [\"United States\"], \"count\": 13}, {\"created_at\": \"2022-08-01T14:00:00+00:00\", \"class_label\": \"infrastructure_and_utility_damage\", \"tweet_text\": [\"RT @JoseRodRibeiro: 2 August 2019 12:03 UT\\nM6.9 #earthquake located south of Sunda Strait, Indonesia, did damage at buildings in West Java.\\u2026\", \"RT @inquirerdotnet: The damage to infrastructure from last week\\u2019s magnitude 7 earthquake has reached P414.2 million, the NDRRMC said on Sun\\u2026\", \"LUZON EARTHQUAKE: Updates, areas affected, damage, aftershocks https://t.co/E13PnZU8ZL\", \"The magnitude 7.0 earthquake that rocked Abra and swayed other parts of Luzon last week has affected 381,614 people and damaged P704.4 million in infrastructures.\\n\\nREAD: https://t.co/B3ALdN2MDl https://t.co/8Wt9NWfX3h\"], \"locations\": [\"Indonesia\"], \"count\": 48}, {\"created_at\": \"2022-08-01T14:00:00+00:00\", \"class_label\": \"injured_or_dead_people\", \"tweet_text\": [\"2 August 2019 12:03 UT\\nM6.9 #earthquake located south of Sunda Strait, Indonesia, did damage at buildings in West Java. #Tsunami warning and evacuation followed, later cancelled. Death toll 8 (indirect). Felt from Aceh to Lombok.\\nhttps://t.co/2RCglYuh0P\\nhttps://t.co/nefTXiBk71 https://t.co/sA44tpPljH\"], \"locations\": [\"Indonesia\"], \"count\": 12}, {\"created_at\": \"2022-08-01T16:00:00+00:00\", \"class_label\": \"caution_and_advice\", \"tweet_text\": [\"#Earthquake of magnitude 4.7 at Bonin Islands, #Japan_region. Retweet if you felt it.\", \"#Earthquake of magnitude 4.4 at 49 km S of K\\u0113ng Tung, #Myanmar. Retweet if you felt it.\", \"#Earthquake of magnitude 4.9 at 10 km WNW of General MacArthur, #Philippines. Retweet if you felt it.\", \"RT @EQAlerts: Significant magnitude 5.1 #quake hits 51 km south of Keng Tung, Myanmar (Burma) late at night  - info, user reports and updat\\u2026\", \"RT @QuakesToday: 1.7 magnitude #earthquake. 24 km from Greenfield, CA, #UnitedStates https://t.co/mjgk8ogdHU\", \"Oooh earthquake alert from android, magnitude 5.0 daw estimate\", \"#Earthquake of magnitude 4.5 at 53 km S of K\\u0113ng Tung, #Myanmar. Retweet if you felt it.\", \"RT @QuakesToday: 1.8 magnitude #earthquake. 24 km from #Greenfield, CA, United States https://t.co/YmOvFQna5G\", \"RT @QuakesToday: 1.9 magnitude #earthquake. 39 km SSW of Cantwell, Alaska https://t.co/O3gEOUDzNb\", \"#Earthquake of magnitude 2.83 at 9 km SSW of Stella, #Puerto_Rico. Retweet if you felt it.\"], \"locations\": [\"Alaska\", \"United States\"], \"count\": 51}, {\"created_at\": \"2022-08-01T16:00:00+00:00\", \"class_label\": \"infrastructure_and_utility_damage\", \"tweet_text\": [\"RT @JoseRodRibeiro: 2 August 2019 12:03 UT\\nM6.9 #earthquake located south of Sunda Strait, Indonesia, did damage at buildings in West Java.\\u2026\", \"RT @OfficialDGISPR: CJCSC &amp; Services Chiefs express deepest condolences over tragic loss of precious lives &amp; damage to infrastructure due t\\u2026\", \"\\u201cThink of coronavirus infections like earthquake sequences: It\\u2019s possible an aftershock could be less severe than the first but cumulatively could add more damage. And just because your home is still standing after one doesn\\u2019t mean you shouldn\\u2019t explore ways to make it safer.\\u201d\", \"Word\\n\\u27ab Widespread\\n\\nDefinition\\n\\u27ab  Found or distributed over a large region.\\n\\nExample\\n\\u27ab  Earthquake causes widespread damage.\\n\\n#TOEFL #IELTS #Duolingo #TOEIC #English #LearnEnglish #vocabulary\", \"RT @hermanprit: That's what unfettered corruption does. Otherwise nothing short of an earthquake on 7.5 Richeter scale can cause damage of\\u2026\", \"A total of 20,533 houses in northern Luzon were heavily damaged by the magnitude 7 earthquake that jolted the provinces of Abra, Ilocos Sur, La Union, Pangasinan, Kalinga Apayao, Benguet, Ifugao, and Mountain Province on July 27. https://t.co/LF19bOztui\"], \"locations\": [\"Indonesia\"], \"count\": 13}, {\"created_at\": \"2022-08-01T16:00:00+00:00\", \"class_label\": \"injured_or_dead_people\", \"tweet_text\": [\"@nytimes March 11, 2011 There is the possibility that atomic bomb was used undersea against Japan. \\nEast Japan large earthquake\\u00a0 \\n(Magnitude 9),\\nLarge waves \\\"Tsunami\\\" killed about 20,000 people. \\nAnd Melted down at Fukushima first Nuclear Power Station.\\n\\nhttps://t.co/SWVAeJz8kw\", \"RT @MSF_USA: A 5.9 magnitude earthquake has struck southeastern Afghanistan, killing more than 1,000 people. Our teams set up a 24-hour cli\\u2026\"], \"locations\": [\"Japan\"], \"count\": 12}, {\"created_at\": \"2022-08-01T18:00:00+00:00\", \"class_label\": \"caution_and_advice\", \"tweet_text\": [\"#Earthquake of magnitude 2.94 at 10 km NNE of Entiat, #Washington. Retweet if you felt it.\", \"RT @QuakesToday: 4.6 magnitude #earthquake. 9 km from #\\u00c1lftanes, Capital Region, Iceland https://t.co/d0Zj0oi3ah\", \"#Earthquake of magnitude 4 at 9 km NE of P\\u0101hala, #Hawaii. Retweet if you felt it.\", \"#Earthquake of magnitude 4.3 at #northwest_of_the_Kuril_Islands. Retweet if you felt it.\", \"RT @QuakesToday: 2.9 magnitude #earthquake. 11 km from #Entiat, WA, United States https://t.co/GMfoq62xOy\", \"#Earthquake of magnitude 3.7 at 10 km ENE of P\\u0101hala, #Hawaii. Retweet if you felt it.\", \"RT @QuakesToday: 4.0 magnitude #earthquake. 198 km from Unalaska, #AK, United States https://t.co/MHgFQxbfzw\", \"RT @QuakesToday: 4.9 magnitude #earthquake. 10 km from #GeneralMacArthur, Eastern Visayas, Philippines https://t.co/sI2OME4HQe\", \"Lava is moving underground in SW Iceland #Earthquake: 5.9 km S of Fagradalsfjall at 01 August 2022 12:11 pm (UTC), Magnitude: 3.7 https://t.co/UxvrVGK6OF\", \"RT @QuakesToday: 4.4 magnitude #earthquake. 83 km from #MaeSai, Chiang Rai, Thailand https://t.co/D7HEYDxaEe\"], \"locations\": [\"Alaska\", \"United States\"], \"count\": 65}, {\"created_at\": \"2022-08-01T18:00:00+00:00\", \"class_label\": \"rescue_volunteering_or_donation_effort\", \"tweet_text\": [\"RT @pnagovph: JUST IN | Japan Embassy says it is ready to extend assistance to the victims of the magnitude 7 earthquake that hit Abra and\\u2026\", \"RT @decadomo: \\u201cIf there is no struggle, there is no progress.\\u201d\\n\\nCufflinks and Bracelet by Decadomo.\\n\\nRescue Nigeria | Liz Benson | Asiwaju\\u2026\", \"RT @SB19xAtinIlocos: [DONATION UPDATE: AUGUST 01,2022]\\n\\nA'tin Ilocos will be having a donation drive as aid for the victims and casualties\\u2026\", \"RT @gray_siblings: Hi everyone, I am Bastian. I am a rescued kitty from a 7.0 magnitude earthquake here in the Philippines. Im sweet and su\\u2026\"], \"locations\": [\"Japan\"], \"count\": 13}, {\"created_at\": \"2022-08-01T20:00:00+00:00\", \"class_label\": \"caution_and_advice\", \"tweet_text\": [\"#Earthquake of magnitude 4.7 at 210 km E of Levuka, #Fiji. Retweet if you felt it.\", \"RT @EQAlerts: Significant magnitude 5.1 #earthquake 50 miles southeast of Nikolski, Alaska, United States - info, user reports and updates\\u2026\", \"#Earthquake of magnitude 2.7 at 23 km N of Sutcliffe, #Nevada. Retweet if you felt it.\", \"Another Earthquake was reported near Elgin, South Carolina. https://t.co/oW4ejqdSsF\", \"RT @QuakesToday: 4.9 magnitude #earthquake. 10 km from #GeneralMacArthur, Eastern Visayas, Philippines https://t.co/sI2OME4HQe\", \"Magnitude 4.6 #earthquake strikes near Padangsidempuan, North Sumatra, Indonesia - info, user reports and updates\\nhttps://t.co/IpLtow4TEr\", \"4.7 magnitude #earthquake. South Sandwich Islands region https://t.co/gq3pvVkiiN\", \"RT @EQAlerts: Moderate magnitude 4.4 #earthquake 21 miles northeast of Dutch Harbor, Alaska, United States - info, user reports and updates\\u2026\", \"RT @EQAlerts: Significant magnitude 5.1 #quake hits 51 km south of Keng Tung, Myanmar (Burma) late at night  - info, user reports and updat\\u2026\", \"RT @EQAlerts: Magnitude 4.6 #earthquake strikes near Padangsidempuan, North Sumatra, Indonesia - info, user reports and updates\\nhttps://t.c\\u2026\"], \"locations\": [\"Alaska\", \"Indonesia\", \"United States\"], \"count\": 91}, {\"created_at\": \"2022-08-01T20:00:00+00:00\", \"class_label\": \"injured_or_dead_people\", \"tweet_text\": [\"RT @MSF_USA: A 5.9 magnitude earthquake has struck southeastern Afghanistan, killing more than 1,000 people. Our teams set up a 24-hour cli\\u2026\", \"news:Magnitude 6.0 Earthquake Reported in Nepal - teleSUR English https://t.co/z9eWB60PnB\"], \"locations\": [\"Nepal\"], \"count\": 13}, {\"created_at\": \"2022-08-01T22:00:00+00:00\", \"class_label\": \"caution_and_advice\", \"tweet_text\": [\"A 2.2 magnitude earthquake has been recorded this morning at 07.21am with an epicentre near Leongatha.\\n\\nCurrently, there are no felt reports received by Geoscience Australia. For any SES assistance, please ring 132 500. For more info, visit: https://t.co/7v6QNSXsaQ https://t.co/UswnpOQ85J\", \"RT @QuakesToday: 5.3 magnitude #earthquake. 69 km from #Akutan, AK, United States https://t.co/vr05Xnzghx\", \"#Earthquake of magnitude 4.1 at 38 km NE of Calama, #Chile. Retweet if you felt it.\", \"#Earthquake of magnitude 4.4 at 117 km SSE of Ambon, #Indonesia. Retweet if you felt it.\", \"RT @QuakesToday: 1.9 magnitude #earthquake. 64 km from Sutton-Alpine, #AK, United States https://t.co/spVQhuzwWU\", \"RT @EQAlerts: Significant magnitude 5.1 #quake hits 51 km south of Keng Tung, Myanmar (Burma) late at night  - info, user reports and updat\\u2026\", \"RT @EQAlerts: Moderate magnitude 4.8 #earthquake 28 km northeast of Kirkjubaejarklaustur, Iceland - info, user reports and updates\\nhttps://\\u2026\", \"RT @QuakesToday: 4.4 magnitude #earthquake. 33 km from #DutchHarbor, AK, United States https://t.co/ZWjIesshvO\", \"RT @EQAlerts: Magnitude 4.6 #earthquake strikes near Padangsidempuan, North Sumatra, Indonesia - info, user reports and updates\\nhttps://t.c\\u2026\", \"Moderate magnitude 4.8 #earthquake 28 km northeast of Kirkjubaejarklaustur, Iceland - info, user reports and updates\\nhttps://t.co/ViaSeE7Oxv\"], \"locations\": [\"Indonesia\", \"Japan\", \"United States\"], \"count\": 52}, {\"created_at\": \"2022-08-01T22:00:00+00:00\", \"class_label\": \"infrastructure_and_utility_damage\", \"tweet_text\": [\"RT @LastQuake: #Earthquake 28 km S of #K\\u00f3pavogur (#Iceland) 6 min ago (local time 23:31:19). Colored dots represent local shaking &amp; damage\\u2026\", \"\\ud83c\\uddf9\\ud83c\\udded THAI NEWS REPORTS: There was a magnitude 5.1 earthquake at 11:03pm last night in Myanmar, about 82km northeast of Mae Sai District in Chiang Rai Province. Many districts in the north felt the tremor. No reports yet of damage. #Thailand https://t.co/vE5BVzrQWo\", \"#Earthquake 28 km S of #K\\u00f3pavogur (#Iceland) 6 min ago (local time 23:31:19). Colored dots represent local shaking &amp; damage reported by eyewitnesses. Share your experience:\\n\\ud83d\\udcf1https://t.co/LBaVNedgF9\\n\\ud83c\\udf10https://t.co/MsQ6Klcrpw https://t.co/UWiR4CJ3J6\", \"Unfortunately, Morioh suffered remarkable damage during the great East Japan earthquake on March 11th.\", \"A state-record 5.8 magnitude earthquake in Pawnee on Sept. 3, 2016 damaged hundreds of structures in the area. https://t.co/HCkVnO8RJz\", \"RT @JoseRodRibeiro: 2 August 2019 12:03 UT\\nM6.9 #earthquake located south of Sunda Strait, Indonesia, did damage at buildings in West Java.\\u2026\", \"RT @CalQuake: So much death &amp; destruction during the 1994 Northridge #earthquake when homes &amp; apartments collapsed.  Nearly 30 years later\\u2026\", \"An estimated P1.48 billion will be needed for the rehabilitation and reconstruction of schools damaged by the magnitude 7 earthquake that hit Abra province and nearby areas last week, the Department of Education (@DepEd_PH) said Sunday night, 31 July.\\n\\nhttps://t.co/HWMdB3U4DU\", \"ICYMI:  A total of 20,533 houses in northern Luzon were heavily damaged by the magnitude 7 earthquake that jolted the provinces of Abra, Ilocos Sur, La Union, Pangasinan, Kalinga Apayao, Benguet, Ifugao, and Mountain Province on July 27. https://t.co/LF19bOztui\", \"Abra province and a number of localities in the Cordillera and Ilocos regions devastated by the magnitude 7 earthquake would need at least P1 billion to rebuild or repair damaged infrastructure, including public schools and hospitals. https://t.co/EYTmc1jZka\"], \"locations\": [\"Indonesia\"], \"count\": 13}, {\"created_at\": \"2022-08-02T00:00:00+00:00\", \"class_label\": \"infrastructure_and_utility_damage\", \"tweet_text\": [\"RT @OfficialDGISPR: CJCSC &amp; Services Chiefs express deepest condolences over tragic loss of precious lives &amp; damage to infrastructure due t\\u2026\", \"RT @CalQuake: So much death &amp; destruction during the 1994 Northridge #earthquake when homes &amp; apartments collapsed.  Nearly 30 years later\\u2026\", \"RT @JoseRodRibeiro: 2 August 2019 12:03 UT\\nM6.9 #earthquake located south of Sunda Strait, Indonesia, did damage at buildings in West Java.\\u2026\", \"RT @LastQuake: #Earthquake 26 km S of #Reykjav\\u00edk (#Iceland) 14 min ago (local time 00:17:29). Colored dots represent local shaking &amp; damage\\u2026\", \"RT @tulsaworld: A state-record 5.8 magnitude earthquake in Pawnee on Sept. 3, 2016 damaged hundreds of structures in the area. https://t.co\\u2026\", \"#Earthquake 26 km S of #Reykjav\\u00edk (#Iceland) 14 min ago (local time 00:17:29). Colored dots represent local shaking &amp; damage reported by eyewitnesses. Share your experience:\\n\\ud83d\\udcf1https://t.co/LBaVNedgF9\\n\\ud83c\\udf10https://t.co/58Fdvw8meV https://t.co/RXSLoMeuFB\", \"\\u201dThink of coronavirus infections like earthquake sequences: It\\u2019s possible an aftershock could be less severe than the first temblor but cumulatively could add more damage.\\u201d\\n\\ud83e\\uddf5\\nMore people are catching the virus a second time, heightening risks, experts say https://t.co/HZG895Q36u\"], \"locations\": [\"Indonesia\"], \"count\": 12}, {\"created_at\": \"2022-08-02T02:00:00+00:00\", \"class_label\": \"caution_and_advice\", \"tweet_text\": [\"#Earthquake of magnitude 3.05 at 20 km SE of Hana, #Hawaii. Retweet if you felt it.\", \"RT @earthquake247: #Earthquake of magnitude 4.1 at 289 km E of Levuka, #Fiji. Retweet if you felt it.\", \"#Earthquake of magnitude 2.95 at 20 km SE of Hana, #Hawaii. Retweet if you felt it.\", \"RT @QuakesToday: 2.4 magnitude #earthquake. 5 km from Ridgely, #TN, United States https://t.co/3q9YFBej7C\", \"#Earthquake of magnitude 4.1 at 289 km E of Levuka, #Fiji. Retweet if you felt it.\", \"RT @QuakesToday: 4.9 magnitude #earthquake. 3 km from #Gar\\u00f0ab\\u00e6r, Capital Region, Iceland https://t.co/D0zL2myjKW\", \"Update 7: Strong earthquakes continuing. 8 earthquakes have been recorded over magnitude 4 and may more above M3 in past 24hrs. Earthquake total well over 5,000. Map below shows past 48 hours of earthquake activity. \\n\\nIMO earthquakes: https://t.co/ukS5P9YkoO https://t.co/vdhShbhx4U\", \"#Earthquake of magnitude 5.2 at 171 km SE of Lata, #Solomon_Islands. Retweet if you felt it.\", \"\\u26a0\\ufe0f A 5.2 magnitude earthquake recorded in 171 km SE of Lata, Solomon Islands \\n More Info: https://t.co/ft1vKT37DT \\n Map: https://t.co/WtrZyvMqCv\"], \"locations\": [\"United States\"], \"count\": 48}, {\"created_at\": \"2022-08-02T02:00:00+00:00\", \"class_label\": \"infrastructure_and_utility_damage\", \"tweet_text\": [\"The cost of damage in infrastructure due to the magnitude 7 earthquake that hit Abra has reached over P1 billion, the NDRRMC said on Tuesday.\\n\\nhttps://t.co/3e2e79DO4s\", \"RT @activistjyot: #Earthquake of 7.3 magnitude shook capital #Manila in #Philippines, reports of heavy damage to concrete buildings, fatali\\u2026\", \"Abra earthquake infra damage breached P1B mark\\u2014NDRRMC https://t.co/hocGBDRSk3 via @gmanews\", \"RT @LastQuake: #Earthquake 29 km S of #K\\u00f3pavogur (#Iceland) 6 min ago (local time 02:27:08). Colored dots represent local shaking &amp; damage\\u2026\", \"RT @JoseRodRibeiro: 2 August 2019 12:03 UT\\nM6.9 #earthquake located south of Sunda Strait, Indonesia, did damage at buildings in West Java.\\u2026\", \"On August 2, 1968, a 7.6 magnitude earthquake struck Casiguran, Aurora, causing considerable damage across Luzon. In terms of strength, it was the most severe experienced by any part of the Philippines since 1948.\\n\\n#FilipinoHistorian #History #Earthquake #Lindol #LindolPH #DRRM https://t.co/OaLiNXIrfR\", \"RT @OfficialDGISPR: CJCSC &amp; Services Chiefs express deepest condolences over tragic loss of precious lives &amp; damage to infrastructure due t\\u2026\", \"RT @IMReadyPH: The cost of damage in infrastructure due to the magnitude 7 earthquake that hit Abra has reached over P1 billion, the Nation\\u2026\", \"Our #earthquake damage. Giraffe flew across the room and scared Daisy. https://t.co/p6A29vLkX7\", \"#Earthquake 29 km S of #K\\u00f3pavogur (#Iceland) 6 min ago (local time 02:27:08). Colored dots represent local shaking &amp; damage reported by eyewitnesses. Share your experience:\\n\\ud83d\\udcf1https://t.co/LBaVNedgF9\\n\\ud83c\\udf10https://t.co/jCBm8a8VhM https://t.co/cywQ5UCNCE\"], \"locations\": [\"Indonesia\"], \"count\": 13}, {\"created_at\": \"2022-08-02T02:00:00+00:00\", \"class_label\": \"rescue_volunteering_or_donation_effort\", \"tweet_text\": [\"RT @ABSCBNNews: LOOK: Japan donates disaster relief goods to communities affected by the magnitude 7 earthquake that struck Luzon last week\\u2026\", \"RT @pnppio: Police on top of July 27 \\\"7.3 Magnitude Earthquake\\\", giving humanitarian assistance and disaster rescue and relief operations!\\u2026\", \"LOOK: Japan donates disaster relief goods to communities affected by the magnitude 7 earthquake that struck Luzon last week. \\n\\n\\\"Japan is in solidarity with you at this difficult time. Kasama nyo kami, Pilipinas!\\\" says @AmbJPNinPH. https://t.co/CKmj6wwccW\", \"The Philippine Charity Sweepstakes Office (PCSO) yesterday rushed the delivery of a patient transport vehicle (PTV) or ambulance to a local government unit in Abra, which was severely affected by the recent magnitude-7 earthquake. https://t.co/n50oFhzXaJ\", \"RT @inquirerdotnet: China will donate P10 million worth of emergency supplies to areas affected by the magnitude 7.0 earthquake that hit Lu\\u2026\", \"RT @SJzehri: Nobody: \\n\\nVOB team: \\\"#FactCheck The picture of the poor guy donating money widely circulating on the internet is NOT from Balo\\u2026\", \"RT @SB19xAtinIlocos: [DONATION UPDATE: AUGUST 01,2022]\\n\\nA'tin Ilocos will be having a donation drive as aid for the victims and casualties\\u2026\"], \"locations\": [\"Japan\"], \"count\": 36}, {\"created_at\": \"2022-08-02T04:00:00+00:00\", \"class_label\": \"caution_and_advice\", \"tweet_text\": [\"RT @EQAlerts: Significant #earthquake of magnitude 5.0 just reported 69 km southwest of Cotabato City, Philippines - info, user reports and\\u2026\", \"RT @QuakesToday: 2.4 magnitude #earthquake. 5 km from Ridgely, #TN, United States https://t.co/3q9YFBej7C\", \"\\u26a0\\ufe0f A 5 magnitude earthquake recorded in 22 km W of Gadung, Philippines \\n More Info: https://t.co/cddy9LQtPz \\n Map: https://t.co/X80cMkwmJ8\", \"Significant #earthquake of magnitude 5.0 just reported 69 km southwest of Cotabato City, Philippines - info, user reports and updates\\nhttps://t.co/4ncQMpTEZ4\", \"#Earthquake of magnitude 5 at 22 km W of Gadung, #Philippines. Retweet if you felt it.\", \"#Earthquake of magnitude 3.09 at 18 km NNE of Isabela, #Puerto_Rico. Retweet if you felt it.\", \"RT @treclements: just moaned so loud that the united nations had to declare a worldwide state of emergency and have officially mandated sou\\u2026\", \"RT @QuakesToday: 4.9 magnitude #earthquake. 3 km from #Gar\\u00f0ab\\u00e6r, Capital Region, Iceland https://t.co/D0zL2myjKW\"], \"locations\": [\"United States\"], \"count\": 12}, {\"created_at\": \"2022-08-02T04:00:00+00:00\", \"class_label\": \"infrastructure_and_utility_damage\", \"tweet_text\": [\"RT @OfficialDGISPR: CJCSC &amp; Services Chiefs express deepest condolences over tragic loss of precious lives &amp; damage to infrastructure due t\\u2026\", \"RT @JoseRodRibeiro: 2 August 2019 12:03 UT\\nM6.9 #earthquake located south of Sunda Strait, Indonesia, did damage at buildings in West Java.\\u2026\", \"Abra province and a number of localities in the Cordillera and Ilocos regions devastated by the magnitude 7 earthquake would need at least P1 billion to rebuild or repair damaged infrastructure.\\n\\nvia the Inquirer Mobile App:\\nhttps://t.co/7VcmLsWsrS\", \"Abra earthquake infra damage breached P1B mark \\u2014 NDRRMC https://t.co/4ddgR9Cln4 https://t.co/olD1RF57uO\", \"@PiaGarciaHere @pplmanuel DepEd says the challenges right now concern classrooms and repairing damage from the earthquake\", \"RT @katienzareports: Education official Michael Poa says the 7.0-magnitude earthquake that rocked the country's north last week damaged \\\"th\\u2026\", \"Education official Michael Poa says the 7.0-magnitude earthquake that rocked the country's north last week damaged \\\"thousands of schools\\\" @bworldph @onenewsph\", \"RT @gmanews: Abra earthquake infrastructure damage has reached over P700-M, NDRRMC says\\n\\nhttps://t.co/8ox4dwkXxu\", \"Yep, I'm thinking she's built for BED (BIG EARTHQUAKE DAMAGE) https://t.co/RhKvQRPuJc\", \"\\u201cWe need more than P18B, excluding the P1.4B of the damage from the Abra earthquake to get ourselves out of the quicksand of this year &amp; last year,\\u201d Duterte disclosed in her message during the 2022 National Brigada Eskwela (BE) Kick- Off at Imus Pilot Elementary School in Imus,\\\" https://t.co/9ehidARa0S\"], \"locations\": [\"Indonesia\"], \"count\": 36}, {\"created_at\": \"2022-08-02T06:00:00+00:00\", \"class_label\": \"infrastructure_and_utility_damage\", \"tweet_text\": [\"RT @OfficialDGISPR: CJCSC &amp; Services Chiefs express deepest condolences over tragic loss of precious lives &amp; damage to infrastructure due t\\u2026\", \"RT @CalQuake: So much death &amp; destruction during the 1994 Northridge #earthquake when homes &amp; apartments collapsed.  Nearly 30 years later\\u2026\", \"The damage sustained on agricultural infrastructures in the CAR and the Ilocos Region due to the strong earthquake that hit Northern Luzon last week has reached about P44.2 million, the DA said. | @DYGalvezINQ &amp; @daxINQ https://t.co/ZPYX4LlhRA\", \"The damage to infrastructure caused by the July 27 earthquake in Luzon has reached \\u20b11.2 billion as of Tuesday, the National Disaster Risk Reduction and Management Council says. https://t.co/Tfr6Ftr0PB\", \"Infrared damage of Abra earthquake penetrated mark P1B \\u2013 NDRRMC \\u2502 GMA News\\u00a0Online https://t.co/P5u6SmVNtI\", \"RT @JoseRodRibeiro: 2 August 2019 12:03 UT\\nM6.9 #earthquake located south of Sunda Strait, Indonesia, did damage at buildings in West Java.\\u2026\"], \"locations\": [\"Indonesia\"], \"count\": 12}, {\"created_at\": \"2022-08-02T06:00:00+00:00\", \"class_label\": \"injured_or_dead_people\", \"tweet_text\": [\"7.0-magnitude earthquake kills five, injures 130 in northern Philippines - CNN https://t.co/nXjLgeRBZr #Earthquake\", \"Magnitude 6.0 Earthquake Reported in Nepal - teleSUR English https://t.co/fY8apyDJrQ #Earthquake\", \"- 2014 Saturday: After a 6.1-magnitude earthquake hits Yunnan Province in China, 367 people die and more than 1,880 suffer injuries. \\u00a0Meanwhile, Dr.\"], \"locations\": [\"Nepal\"], \"count\": 13}, {\"created_at\": \"2022-08-02T06:00:00+00:00\", \"class_label\": \"rescue_volunteering_or_donation_effort\", \"tweet_text\": [\"RT @ABSCBNNews: LOOK: Japan donates disaster relief goods to communities affected by the magnitude 7 earthquake that struck Luzon last week\\u2026\", \"Aside from food and non-food assistance, residents in Abra province are in dire need of psychosocial support to recover from the trauma caused by the magnitude 7.0 earthquake last week.\\n\\nhttps://t.co/9oU5EPV6Yf\", \"RT @ExperienceCNVRG: In aid of the communities affected by the magnitude 7.3 earthquake on Wednesday, we\\u2019re providing free Wi-Fi and chargi\\u2026\", \"RT @ShareTheMealorg: Earthquake in Afghanistan \\ud83c\\udd98 WFP's aid is even more vital for families in Afghanistan. Donate life-saving food now.\", \"RT @Politiko_Ph: The Japanese government on Tuesday handed over emergency relief goods to the Philippines in response to the devastation br\\u2026\", \"Make a Donation Now! https://t.co/TNMyRvVnok\", \"RT @pnppio: Police on top of July 27 \\\"7.3 Magnitude Earthquake\\\", giving humanitarian assistance and disaster rescue and relief operations!\\u2026\", \"@TJCobain Hope to choose, will use to help my brother from the Earthquake 7.3 magnitude \\ud83d\\ude14\\ud83d\\ude4f\", \"RT @gray_siblings: Hi everyone, I am Bastian. I am a rescued kitty from a 7.0 magnitude earthquake here in the Philippines. Im sweet and su\\u2026\", \"Superhero Rescue Dog Is The Ultimate Life-Saving Machine For Victims Of Deadly Earthquake in Mexico https://t.co/KgxWXjuOoW\"], \"locations\": [\"Japan\"], \"count\": 36}, {\"created_at\": \"2022-08-02T08:00:00+00:00\", \"class_label\": \"caution_and_advice\", \"tweet_text\": [\"RT @QuakesToday: 2.1 magnitude #earthquake. 71 km ESE of Cantwell, Alaska https://t.co/D19cm74nYE\", \"#Earthquake of magnitude 2.69 at 17 km ESE of Naalehu, #Hawaii. Retweet if you felt it.\", \"Phivolcs revised the magnitude from 3.9 to 4.0.\\n\\nThe quake struck at 4:23 AM today at a depth of 5 km, and its epicenter was relocated at 6 km southeast of #Bucay, #Abra.\\n\\n\\u26a0\\ufe0f This is an #aftershock of the July 27, 2022 M7.0 Northwestern Luzon #Earthquake.\\n\\n#LindolPH #EarthquakePH https://t.co/ftFTn2akUw\", \"RT @USEmbassyPH: Reports of a\\u200b magnitude 5.6 #earthquake near #SultanKudarat, #Philippines. Please follow @phivolcs_dost for more updates.\\u2026\", \"#Earthquake of magnitude 2.71 at 17 km ESE of Naalehu, #Hawaii. Retweet if you felt it.\", \"#Earthquake of magnitude 3.16 at 17 km ESE of Naalehu, #Hawaii. Retweet if you felt it.\", \"2.1 magnitude #earthquake. 71 km ESE of Cantwell, Alaska https://t.co/D19cm74nYE\"], \"locations\": [\"Alaska\"], \"count\": 37}, {\"created_at\": \"2022-08-02T08:00:00+00:00\", \"class_label\": \"injured_or_dead_people\", \"tweet_text\": [\"news:Magnitude 6.0 Earthquake Reported in Nepal - teleSUR English https://t.co/z9eWB60PnB\"], \"locations\": [\"Nepal\"], \"count\": 12}, {\"created_at\": \"2022-08-02T12:00:00+00:00\", \"class_label\": \"caution_and_advice\", \"tweet_text\": [\"RT @QuakesToday: 4.9 magnitude #earthquake. 3 km from #Gar\\u00f0ab\\u00e6r, Capital Region, Iceland https://t.co/D0zL2myjKW\", \"RT @QuakesToday: 2.0 magnitude #earthquake. 51 km from Anchor Point, #AK, United States https://t.co/4CSxWIbnFl\", \"#Earthquake of magnitude 4.5 at 4 km S of Soreang, #Indonesia. Retweet if you felt it.\", \"Looks like there was a 2.1 #magnitude #earthquake in Blowing Rock, North Carolina early this morning. #ncwx @WCCBCharlotte https://t.co/bcHEj4Pg8n\", \"\\u26a0\\ufe0f A 5 magnitude earthquake recorded in South Sandwich Islands region \\n More Info: https://t.co/veJlCVkTM2 \\n Map: https://t.co/bL1MYpuR7J\", \"5.4-magnitude earthquake strikes off Sultan Kudarat\\n#earthquake #PHIVOLCS #Quake\\nhttps://t.co/UsS0pXYkIy\", \"Moderate #earthquake of magnitude 4.4 just reported 23 km southwest of Paseh, Indonesia - info, user reports and updates\\nhttps://t.co/SRc2iQZXvH\", \"#Earthquake of magnitude 5 at #South_Sandwich_Islands_region. Retweet if you felt it.\", \"#Earthquake of magnitude 2.49 at 20km SSE of Primo Tapia, B.C., #MX. Retweet if you felt it.\", \"RT @wxkaitlin: Looks like there was a 2.1 #magnitude #earthquake in Blowing Rock, North Carolina early this morning. #ncwx @WCCBCharlotte h\\u2026\"], \"locations\": [\"Indonesia\", \"United States\"], \"count\": 52}, {\"created_at\": \"2022-08-02T12:00:00+00:00\", \"class_label\": \"displaced_people_and_evacuations\", \"tweet_text\": [\"\\ud83c\\uddee\\ud83c\\udde9 Flash floods in #CentralSulawesi #Indonesia \\n\\n\\ud83c\\uddf5\\ud83c\\udded 7.0 magnitude earthquake hits #Abra #Philippines affecting over 400k people\\n\\n\\ud83c\\uddf2\\ud83c\\uddf2 Civilians displaced by conflict in #NW and #SE #Myanmar \\n\\n\\u2198\\ufe0fhttps://t.co/LQXO7KYr0V https://t.co/0g81q04l8s\"], \"locations\": [\"Indonesia\"], \"count\": 13}, {\"created_at\": \"2022-08-02T12:00:00+00:00\", \"class_label\": \"infrastructure_and_utility_damage\", \"tweet_text\": [\"RT @JoseRodRibeiro: 2 August 2019 12:03 UT\\nM6.9 #earthquake located south of Sunda Strait, Indonesia, did damage at buildings in West Java.\\u2026\", \"RT @PhilippineStar: Over P1 billion worth of infrastructure was damaged in the magnitude-7.0 earthquake that struck Abra and felt across ma\\u2026\", \"RT @inquirerdotnet: The damage sustained on agricultural infrastructures in the CAR and the Ilocos Region due to the strong earthquake that\\u2026\", \"RT @TheAnnaExpress: \\\"Two school buildings, one police post and 475 houses suffered damages so far when a magnitude six earthquake hit Khota\\u2026\", \"WATCH: PNA NEWSROOM UPDATES\\n\\n\\u2022 Abra earthquake infra damage breached P1-B mark: NDRRMC\\n\\u2022 PH detects over 1k Omicron BA.5 cases\\n\\u2022 Half of national admissions mild, asymptomatic\\n\\u2022 CHED backs return of mandatory ROTC\\n\\nhttps://t.co/Tx0X57g4wR\"], \"locations\": [\"Indonesia\"], \"count\": 13}, {\"created_at\": \"2022-08-02T12:00:00+00:00\", \"class_label\": \"rescue_volunteering_or_donation_effort\", \"tweet_text\": [\"@isaacstonefish When natural disasters come, PLA are always at the front of the rescue mission. A typical example was during the 2008.5.12 Sichuan earthquake, 100K soldiers were dispatched to the region....their roles in an event like this is unparalleled in the world. https://t.co/KDbdwXRNDm\", \"Aid continues to pour in from PLDT, Smart Communications, Inc. and PLDT-Smart Foundation (PSF), days after the magnitude 7 tremblor hit North Luzon. \\n\\nTogether with Tulong Kapatid, more aid will be deployed in the coming days.\\n\\n#SafeandSmart | https://t.co/LY8V39sF7B https://t.co/h4Z60vVZtb\", \"RT @inquirerdotnet: China will donate P10 million worth of emergency supplies to areas affected by the magnitude 7.0 earthquake that hit Lu\\u2026\", \"RT @IOM_Philippines: IOM, with support from @CoastGuardPH, is loading 3,000 @USAIDSavesLives shelter tarps that will go to #earthquake-affe\\u2026\", \"RT @manilabulletin: Saying her office is \\u201calways with the people,\\u201d Vice President Sara Duterte has started relief operations for areas affe\\u2026\", \"RT @rose_marie87: Yes honestly my donor and someone help, and donate tents to my whole family when earthquake hit us\\ud83d\\ude2dis solid L,pero alam p\\u2026\", \"Last August, a magnitude 7.2 earthquake struck southern #Haiti and affected more than 1.2 million people. We are so grateful for partners like @JoyceMeyer, who came alongside us to provide emergency #safewater for those impacted. https://t.co/9zeKPUWhLl\", \"Yes honestly my donor and someone help, and donate tents to my whole family when earthquake hit us\\ud83d\\ude2dis solid L,pero alam po nila na ako ay certified LQ fans pure na pure! I respect them and they respect me as LQ fans\\u2764\\ufe0f\\ud83e\\udd70\", \"RT @SB19xAtinIlocos: [DONATION UPDATE: AUGUST 01,2022]\\n\\nA'tin Ilocos will be having a donation drive as aid for the victims and casualties\\u2026\", \"@iakhan @Fawad__Ahmed those of us who have seen troops in combat, seen Engr Bns and other troops maintaining roads and safety and performing rescue ops during floods, those who flew with Avn during the 2005 earthquake and much else know what it takes to be a soldier. #salute\"], \"locations\": [\"Japan\"], \"count\": 13}, {\"created_at\": \"2022-08-02T16:00:00+00:00\", \"class_label\": \"caution_and_advice\", \"tweet_text\": [\"#Earthquake of magnitude 4.2 at 34 km NE of Baja Mar, #Honduras. Retweet if you felt it.\", \"RT @QuakesToday: 5.0 magnitude #earthquake. South Sandwich Islands region https://t.co/1riKCpasDa\", \"Honduras: Magnitude-5.3 offshore earthquake occurs in Caribbean Sea, off northern coast, Aug\\u2026\\nhttps://t.co/2pBKvT737z\", \"#Earthquake of magnitude 2.51 at 9 km E of P\\u0101hala, #Hawaii. Retweet if you felt it.\", \"RT @EQAlerts: Moderate #earthquake of magnitude 4.9 just reported 89 km northwest of La Ceiba, Honduras - info, user reports and updates\\nht\\u2026\", \"RT @QuakesToday: 2.2 magnitude #earthquake. 43 km from Girdwood, AK, #UnitedStates https://t.co/SjhzPVQdkD\", \"RT @QuakesToday: 2.0 magnitude #earthquake. 51 km from Anchor Point, #AK, United States https://t.co/4CSxWIbnFl\", \"\\ud83d\\udccc Earthquake information - New event \\ud83d\\udccc\\n\\n#earthquake #USGS\\n\\nDate and time (UTC): 08/02/2022 03:46:19 PM\\nMagnitude: 4.2 mb\\nArea: 34 km NE of Baja Mar, Honduras\\nDepth (km): 10\\nLatitude: 16.1099\\nLongitude: -87.6284 https://t.co/GQYoJT3BBd\", \"RT @QuakesToday: 4.3 magnitude #earthquake. 57 km from #Wana, Federally Administered Tribal Areas, Pakistan https://t.co/rmkRDJjFca\", \"RT @QuakesToday: 2.7 magnitude #earthquake. 13 km from #Entiat, WA, United States https://t.co/lDtu8jm4ST\"], \"locations\": [\"Alaska\", \"United States\"], \"count\": 42}, {\"created_at\": \"2022-08-02T16:00:00+00:00\", \"class_label\": \"infrastructure_and_utility_damage\", \"tweet_text\": [\"@kitten_dumpster @nirsnet All the reactors in Japan survived the absolutely massive T\\u014dhoku earthquake (the 4th most powerful earthquake in the world since modern record-keeping began in 1900) undamaged.\\nOne plant suffered damage due to poor resistance to the subsequent Tsunami, but it didn't kill anyone.\", \"RT @OfficialDGISPR: CJCSC &amp; Services Chiefs express deepest condolences over tragic loss of precious lives &amp; damage to infrastructure due t\\u2026\", \"RT @manilabulletin: The rehabilitation and reconstruction of the schools damaged by the 7.0-magnitude earthquake will cost 1.706 billion, s\\u2026\", \"The rehabilitation and reconstruction of the schools damaged by the 7.0-magnitude earthquake will cost 1.706 billion, said the Department of Education (DepEd).\\n\\nhttps://t.co/PzqMUHp3HX\", \"\\\"Think of coronavirus infections like earthquake sequences: It's possible an aftershock could be less severe than the first temblor but cumulatively could add more damage.\\\" https://t.co/CLRs3hCr9M\", \"RT @NatividadMPS: Earthquake Safety. With a better understanding of what to do during a disaster, you might be able to do less damage and s\\u2026\", \"Magnitude 5.3 earthquake felt in several parts of Honduras, no damage reported https://t.co/u4v6864a57\"], \"locations\": [\"Japan\"], \"count\": 14}, {\"created_at\": \"2022-08-02T20:00:00+00:00\", \"class_label\": \"caution_and_advice\", \"tweet_text\": [\"Green earthquake alert (Magnitude 5.5M, Depth:57.998km) in Philippines 02/08/2022 05:24 UTC, 2.3 million in 100km. https://t.co/yzTJqMNBII\", \"RT @EQAlerts: Magnitude 5.2 #earthquake strikes near Manay, Davao Oriental, Davao, Philippines - info, user reports and updates\\nhttps://t.c\\u2026\", \"RT @EQAlerts: Magnitude 4.2 #earthquake strikes near Erzurum, Turkey - info, user reports and updates\\nhttps://t.co/irV4r7BjVD\", \"RT @EQAlerts: Moderate magnitude 4.3 #earthquake 34 km southeast of Wladiwostok, Russia - info, user reports and updates\\nhttps://t.co/Ji4hB\\u2026\", \"RT @EQAlerts: Moderate #earthquake of magnitude 4.9 just reported 89 km northwest of La Ceiba, Honduras - info, user reports and updates\\nht\\u2026\", \"#Earthquake of magnitude 3.85 at 25km W of Petrolia, #CA. Retweet if you felt it.\", \"#Earthquake: North of Honduras at 02 August 2022 03:17 pm (UTC), Magnitude: 5.3 https://t.co/BHmJOjZgT5\", \"#Earthquake of magnitude 2.5 at 44 km WNW of Anchor Point, #Alaska. Retweet if you felt it.\", \"RT @QuakesToday: 2.2 magnitude #earthquake. 54 km from #Tonopah, NV, United States https://t.co/4hhJ7ziu4m\", \"#Earthquake of magnitude 5.6 at 262 km E of Levuka, #Fiji. Retweet if you felt it.\"], \"locations\": [\"United States\"], \"count\": 28}, {\"created_at\": \"2022-08-02T22:00:00+00:00\", \"class_label\": \"caution_and_advice\", \"tweet_text\": [\"Green earthquake alert (Magnitude 5.6M, Depth:521.281km) in Fiji Islands Region 02/08/2022 21:11 UTC, 3 thousand in 100km. https://t.co/VzyGnqGhU3\", \"[EEW]:\\n2022/08/03 08:47:11\\nMagnitude: 4.7 \\nMax. Intensity: 3 \\nEpicenter: Off the coast of Fukushima \\nDepth: 30 \\nhttps://t.co/lHCR19EdkQ\\n #Japan #Earthquake #\\u5730\\u9707\", \"#Earthquake of magnitude 4.3 at 80 km SW of Yonakuni, #Japan. Retweet if you felt it.\", \"[\\ud83d\\udea8 EARLY WARNING] Earthquake Detected: A estimated magnitude 4.2 #\\u5730\\u9707 (#earthquake) with an estimated Shindo Intensity of 3 is occuring \\u798f\\u5cf6\\u770c\\u6c96 (Off Fukushima Prefecture) with a depth of 40km. #japan\", \"RT @EQAlerts: Moderate tremor of magnitude 4.2 just reported 55 km south of Keng Tung, Myanmar (Burma) - info, user reports and updates\\nhtt\\u2026\", \"[JMA]:\\n08:47:00 JST 03 Aug 2022\\nMagnitude: 4.8\\nMax. Intensity: 3\\nEpicenter: Off the coast of Fukushima\\nDepth: 30 km\\nhttps://t.co/rijR5ouF5E\\n #Japan #Earthquake #\\u5730\\u9707\", \"RT @RapidQuakeAlert: [\\ud83d\\udea8 EARLY WARNING] Earthquake Detected: A estimated magnitude 4.2 #\\u5730\\u9707 (#earthquake) with an estimated Shindo Intensity\\u2026\", \"RT @QuakesToday: 1.7 magnitude #earthquake. 16 km from East Carbon City, #UT, United States https://t.co/NGIQc2YfuF\", \"RT @QuakesToday: 4.0 magnitude #earthquake. 40 km from #Siavonga, Southern, Zambia https://t.co/mxhEJZoNdc\", \"Small magnitude 3.2 #earthquake 5 km south of Katowice, Poland - info, user reports and updates\\nhttps://t.co/SisA11FxCl\"], \"locations\": [\"Japan\", \"United States\"], \"count\": 43}, {\"created_at\": \"2022-08-03T00:00:00+00:00\", \"class_label\": \"caution_and_advice\", \"tweet_text\": [\"RT @EQAlerts: Moderate #earthquake of magnitude 4.9 just reported 89 km northwest of La Ceiba, Honduras - info, user reports and updates\\nht\\u2026\", \"RT @QuakesToday: 1.6 magnitude #earthquake. 44 km from #Beatty, NV, United States https://t.co/6mSeqxdyFX\", \"RT @QuakesToday: 1.8 magnitude #earthquake. 67 km WNW of Beluga, Alaska https://t.co/wvj6VHqNYn\", \"1.8 magnitude #earthquake. 67 km WNW of Beluga, Alaska https://t.co/wvj6VHqNYn\", \"RT @QuakesToday: 4.0 magnitude #earthquake. 40 km from #Siavonga, Southern, Zambia https://t.co/mxhEJZoNdc\", \"RT @QuakesToday: 1.7 magnitude #earthquake. 16 km from East Carbon City, #UT, United States https://t.co/NGIQc2YfuF\", \"RT @EQAlerts: Moderate magnitude 4.3 #earthquake 34 km southeast of Wladiwostok, Russia - info, user reports and updates\\nhttps://t.co/Ji4hB\\u2026\", \"RT @QuakesToday: 4.9 magnitude #earthquake. 3 km from #Gar\\u00f0ab\\u00e6r, Capital Region, Iceland https://t.co/D0zL2myjKW\", \"RT @EQAlerts: Moderate tremor of magnitude 4.2 just reported 55 km south of Keng Tung, Myanmar (Burma) - info, user reports and updates\\nhtt\\u2026\", \"#Earthquake of magnitude 4.2 at 19 km SSE of Namie, #Japan. Retweet if you felt it.\"], \"locations\": [\"Alaska\", \"United States\"], \"count\": 71}, {\"created_at\": \"2022-08-03T00:00:00+00:00\", \"class_label\": \"injured_or_dead_people\", \"tweet_text\": [\"news:Magnitude 6.0 Earthquake Reported in Nepal - teleSUR English https://t.co/z9eWB60PnB\", \"Today, 8 years ago.\\n\\n2014 Ludian earthquake\\n                    \\n2014 - A 6.1 magnitude earthquake kills at least 617 people and injures more than 2,400 in Yunnan, China.\\n\\nFor more information visit: https://t.co/uwErDGLKuy\", \"#Todayinhistory Aug 3 , 2014 \\\"A 6.1 magnitude earthquake kills at least 617 people and injures more than 2,400 in Yunnan, China.\\\" #python #bot #pytwts  ref : https://t.co/QztH4LeUij\", \"RT @MSF_USA: A 5.9 magnitude earthquake has struck southeastern Afghanistan, killing more than 1,000 people. Our teams set up a 24-hour cli\\u2026\"], \"locations\": [\"Nepal\"], \"count\": 14}, {\"created_at\": \"2022-08-03T02:00:00+00:00\", \"class_label\": \"caution_and_advice\", \"tweet_text\": [\"1.9 magnitude #earthquake. 30 km from Honaunau-Napoopoo, #HI, United States https://t.co/jm94Y4Blbv\", \"RT @EQAlerts: Moderate tremor of magnitude 4.2 just reported 55 km south of Keng Tung, Myanmar (Burma) - info, user reports and updates\\nhtt\\u2026\", \"Reports of a magnitude-5.6 #earthquake near #Manay, #DavaoOriental, Philippines earlier today. Please follow @PHIVOLCS_DOST for more updates. #earthquakePH https://t.co/B0gAod659d\", \"#Earthquake of magnitude 4.3 at 274 km SSW of Labuan, #Indonesia. Retweet if you felt it.\", \"1.7 magnitude #earthquake. 24 km from Greenfield, #CA, United States https://t.co/eJFlpivSms\", \"Another Earthquake was reported near Elgin, South Carolina. https://t.co/oWKFXKTX6F\", \"#Earthquake of magnitude 2.46 at 1 km SW of Tallaboa, #Puerto_Rico. Retweet if you felt it.\"], \"locations\": [\"Honaunau-Napoopoo\", \"United States\"], \"count\": 43}, {\"created_at\": \"2022-08-03T04:00:00+00:00\", \"class_label\": \"caution_and_advice\", \"tweet_text\": [\"RT @QuakesToday: 1.9 magnitude #earthquake. 30 km from Honaunau-Napoopoo, #HI, United States https://t.co/jm94Y4Blbv\", \"1.9 magnitude #earthquake. 32 km from #Honaunau-Napoopoo, HI, United States https://t.co/M7Ax2Z4Wmt\\n1.8 magnitude #earthquake. 9 km from Truckee, #CA, United States https://t.co/iENGLgtO6N\\n2.9 magnitude #earthquake. 43 km SW of Skwentna, Alaska https://t.co/12AkxeQS9Z\\n.......... https://t.co/AyeZLq0SUZ\", \"5.6-magnitude earthquake strikes off Davao Oriental early Wednesday, Aug. 3\\n#earthquake #PHIVOLCS #Quake\\nhttps://t.co/BdK0ALzN9J\", \"RT @earthquake247: #Earthquake of magnitude 4.3 at 274 km SSW of Labuan, #Indonesia. Retweet if you felt it.\", \"#Earthquake of magnitude 2.9 at 43 km SW of Skwentna, #Alaska. Retweet if you felt it.\", \"1.9 magnitude #earthquake. 32 km from #Honaunau-Napoopoo, HI, United States https://t.co/M7Ax2Z4Wmt\\n1.8 magnitude #earthquake. 9 km from Truckee, #CA, United States https://t.co/iENGLgtO6N\\n2.9 magnitude #earthquake. 43 km SW of Skwentna, Alaska https://t.co/12AkxeQS9Z\\n......... https://t.co/eHBnn9QBWN\", \"1.9 magnitude #earthquake. 32 km from #Honaunau-Napoopoo, HI, United States https://t.co/M7Ax2Z4Wmt\\n1.8 magnitude #earthquake. 9 km from Truckee, #CA, United States https://t.co/iENGLgtO6N\\n2.9 magnitude #earthquake. 43 km SW of Skwentna, Alaska https://t.co/12AkxeQS9Z\\n....... https://t.co/7vVoIBACZQ\", \"#Earthquake of magnitude 2.9 at 11 km SSE of Maria Antonia, #Puerto_Rico. Retweet if you felt it.\", \"RT @QuakesToday: 1.8 magnitude #earthquake. 67 km WNW of Beluga, Alaska https://t.co/wvj6VHqNYn\", \"RT @QuakesToday: 1.8 magnitude #earthquake. 9 km from Truckee, #CA, United States https://t.co/NlkwsDQ1H7\"], \"locations\": [\"Alaska\", \"Honaunau-Napoopoo\", \"United States\"], \"count\": 434}, {\"created_at\": \"2022-08-03T06:00:00+00:00\", \"class_label\": \"caution_and_advice\", \"tweet_text\": [\"#Earthquake of magnitude 3.14 at 64 km ENE of Punta Cana, #Dominican_Republic. Retweet if you felt it.\", \"RT @EQAlerts: Moderate #earthquake of magnitude 4.9 just reported 89 km northwest of La Ceiba, Honduras - info, user reports and updates\\nht\\u2026\", \"RT @QuakesToday: 4.3 magnitude #earthquake. 2 km from #Gar\\u00f0ab\\u00e6r, Capital Region, Iceland https://t.co/IsFh6q3Hlk\", \"#Earthquake of magnitude 4.4 at Izu Islands, #Japan_region. Retweet if you felt it.\", \"1.7 magnitude #earthquake. 31 km from Honaunau-Napoopoo, #HI, United States https://t.co/95Egvct090\"], \"locations\": [\"Honaunau-Napoopoo\", \"Izu Islands\", \"United States\"], \"count\": 46}, {\"created_at\": \"2022-08-03T10:00:00+00:00\", \"class_label\": \"caution_and_advice\", \"tweet_text\": [\"#Earthquake of magnitude 5.4 at #Kermadec_Islands_region. Retweet if you felt it.\", \"RT @QuakesToday: 1.7 magnitude #earthquake. 46 km from #Butte, AK, United States https://t.co/tewmlDaSnF\", \"RT @EQAlerts: Moderate magnitude 4.7 #quake hits 91 km southeast of Antalya, Turkey around noon  - info, user reports and updates\\nhttps://t\\u2026\", \"RT @QuakesToday: 1.8 magnitude #earthquake. 30 km from Honaunau-Napoopoo, #HI, United States https://t.co/XYSPxwMwd3\", \"RT @QuakesToday: 4.9 magnitude #earthquake. 28 km from Pante Makasar, #OE, East Timor https://t.co/chP0yI5GrX\", \"RT @QuakesToday: 4.3 magnitude #earthquake. 2 km from #Gar\\u00f0ab\\u00e6r, Capital Region, Iceland https://t.co/IsFh6q3Hlk\", \"RT @QuakesToday: 1.8 magnitude #earthquake. 9 km from Truckee, #CA, United States https://t.co/NlkwsDQ1H7\", \"RT @QuakesToday: 1.7 magnitude #earthquake. 31 km from Honaunau-Napoopoo, #HI, United States https://t.co/95Egvct090\", \"1.8 magnitude #earthquake. 61 km NW of Petersville, Alaska https://t.co/t21HWkvwHX\", \"#Earthquake of magnitude 3.03 at 1 km NE of La Playa, #Puerto_Rico. Retweet if you felt it.\"], \"locations\": [\"Alaska\", \"Honaunau-Napoopoo\", \"United States\"], \"count\": 154}, {\"created_at\": \"2022-08-03T12:00:00+00:00\", \"class_label\": \"caution_and_advice\", \"tweet_text\": [\"RT @EQAlerts: Moderate #earthquake of magnitude 4.7 just reported 116 km southwest of Gorontalo, Indonesia - info, user reports and updates\\u2026\", \"#Earthquake of magnitude 2.5 at 88 km SE of Kingston, #Nevada. Retweet if you felt it.\", \"[EEW]:\\n2022/08/03 22:45:01\\nMagnitude: 3.7 \\nMax. Intensity: 2 \\nEpicenter: Off the west coast of Satsuma Peninsula \\nDepth: 10 \\nhttps://t.co/8shgsZDyKJ\\n #Japan #Earthquake #\\u5730\\u9707\", \"[JMA]:\\n22:31:00 JST 03 Aug 2022\\nMagnitude: 3.7\\nMax. Intensity: 1\\nEpicenter: Off the east coast of Chiba\\nDepth: 10 km\\nhttps://t.co/oFS25rHQXu\\n #Japan #Earthquake #\\u5730\\u9707\", \"[EEW]:\\n2022/08/03 22:31:46\\nMagnitude: 3.9 \\nMax. Intensity: 3 \\nEpicenter: Off the east coast of Chiba \\nDepth: 10 \\nhttps://t.co/OHPFJisaZp\\n #Japan #Earthquake #\\u5730\\u9707\", \"#Earthquake of magnitude 3.02 at 26 km WSW of Stella, #Puerto_Rico. Retweet if you felt it.\", \"RT @QuakesToday: 4.9 magnitude #earthquake. 28 km from Pante Makasar, #OE, East Timor https://t.co/chP0yI5GrX\", \"#Earthquake of magnitude 2.55 at 26 km E of Honaunau-Napoopoo, #Hawaii. Retweet if you felt it.\", \"RT @IlkhaAgency: 4.2 magnitude earthquake occurs off Turkey\\u2019s Mediterranean coast #earthquake #deprem #Turkey #Antalya\\nhttps://t.co/gVNCxJS\\u2026\", \"#Earthquake of magnitude 2.72 at 5 km SSW of P\\u0101hala, #Hawaii. Retweet if you felt it.\"], \"locations\": [\"Honaunau-Napoopoo\", \"Indonesia\", \"Japan\"], \"count\": 75}, {\"created_at\": \"2022-08-03T16:00:00+00:00\", \"class_label\": \"caution_and_advice\", \"tweet_text\": [\"Earthquake Flash Report \\u2013 8/4\\nAt around 1:59am, an earthquake with an estimated magnitude of 3.4 occurred in Northern S\\u014dya, Hokkaid\\u014d at a depth of 10km. There is no threat of a tsunami. #earthquake https://t.co/0QrxxrLY4T\", \"RT @QuakesToday: 1.9 magnitude #earthquake. 62 km NW of Petersville, Alaska https://t.co/6s1fUujbxr\", \"RT @IlkhaAgency: 4.2 magnitude earthquake occurs off Turkey\\u2019s Mediterranean coast #earthquake #deprem #Turkey #Antalya\\nhttps://t.co/gVNCxJS\\u2026\", \"RT @QuakesToday: 1.8 magnitude #earthquake. 61 km NW of Petersville, Alaska https://t.co/t21HWkvwHX\", \"#Earthquake of magnitude 2.52 at 52 km SSW of Whites City, #New_Mexico. Retweet if you felt it.\", \"RT @QuakesToday: 4.3 magnitude #earthquake. 2 km from #Gar\\u00f0ab\\u00e6r, Capital Region, Iceland https://t.co/IsFh6q3Hlk\", \"Earthquake Flash Report \\u2013 8/4\\nAt around 1:41am, an earthquake with an estimated magnitude of 3.7 occurred in Northern S\\u014dya, Hokkaid\\u014d at a depth of 10km. There is no threat of a tsunami. #earthquake https://t.co/kXOEL7XIRe\", \"RT @QuakesToday: 1.6 magnitude #earthquake. 5 km from Cobb, #CA, United States https://t.co/24uny0zFyy\", \"RT @QuakesToday: 4.9 magnitude #earthquake. 28 km from Pante Makasar, #OE, East Timor https://t.co/chP0yI5GrX\", \"RT @QuakesToday: 1.6 magnitude #earthquake. 32 km WNW of Petersville, Alaska https://t.co/HXishe21Wj\"], \"locations\": [\"Alaska\", \"United States\"], \"count\": 90}, {\"created_at\": \"2022-08-03T22:00:00+00:00\", \"class_label\": \"caution_and_advice\", \"tweet_text\": [\"Magnitude 3.3 earthquake strikes near Los Angeles-San Bernardino county line #NewsBreak https://t.co/rvM6OjcXel\", \"3.3 magnitude earthquake strikes near LA-San Bernardino county line\\n\\nhttps://t.co/LJO149KLOS\", \"RT @QuakesToday: 2.0 magnitude #earthquake. 42 km from Willow, AK, #UnitedStates https://t.co/IvAkhQvSfY\", \"2.0 magnitude #earthquake. 42 km from Willow, AK, #UnitedStates https://t.co/IvAkhQvSfY\", \"RT @EQAlerts: Magnitude 4.2 #earthquake strikes near Managua, Departamento de Managua, Nicaragua - info, user reports and updates\\nhttps://t\\u2026\", \"RT @EQAlerts: Moderate magnitude 4.7 #quake hits 91 km southeast of Antalya, Turkey around noon  - info, user reports and updates\\nhttps://t\\u2026\", \"RT @EQAlerts: Moderate #earthquake of magnitude 4.7 just reported 116 km southwest of Gorontalo, Indonesia - info, user reports and updates\\u2026\", \"RT @EQAlerts: Moderate magnitude 4.2 #earthquake 31 km west of Villamil, Ecuador - info, user reports and updates\\nhttps://t.co/b8vIxpkoDc\", \"RT @EQAlerts: Moderate tremor of magnitude 4.2 just reported 55 km south of Keng Tung, Myanmar (Burma) - info, user reports and updates\\nhtt\\u2026\", \"#Earthquake of magnitude 5.3 at 4 km SW of La Paz Centro, #Nicaragua. Retweet if you felt it.\"], \"locations\": [\"Indonesia\"], \"count\": 15}, {\"created_at\": \"2022-08-04T00:00:00+00:00\", \"class_label\": \"caution_and_advice\", \"tweet_text\": [\"#Earthquake of magnitude 3.09 at 64 km N of Su\\u00e1rez, #Puerto_Rico. Retweet if you felt it.\", \"[\\ud83d\\udea8 EARLY WARNING] Earthquake Detected: A estimated magnitude 5.0 #\\u5730\\u9707 (#earthquake) with an estimated Shindo Intensity of 3 is occuring \\u798f\\u5cf6\\u770c\\u6c96 (Off Fukushima Prefecture) with a depth of 40km. #japan\", \"RT @QuakesToday: 1.6 magnitude #earthquake. 8 km from #Ninnekah, OK, United States https://t.co/I4LovDzY5b\", \"[EEW]:\\n2022/08/04 09:48:17\\nMagnitude: 5.5 \\nMax. Intensity: 4 \\nEpicenter: Off the coast of Fukushima \\nDepth: 60 \\nhttps://t.co/AOkMpKrOv2\\n #Japan #Earthquake #\\u5730\\u9707\", \"Moderate magnitude 4.2 #earthquake 80 km south of Kuril'sk, Russia - info, user reports and updates\\nhttps://t.co/d6fhSp0t1D\", \"1.6 magnitude #earthquake. 8 km from #Ninnekah, OK, United States https://t.co/I4LovDzY5b\", \"An #earthquake with a preliminary magnitude of 5.6 struck off the coast of #Fukushima Prefecture in northeast #Japan on Thursday, the weather agency here said, although no tsunami warning has been issued.(Xinhua) https://t.co/iJe1UZGPAe\", \"RT @EQAlerts: Significant #earthquake of magnitude 5.5 just reported 78 km east of Namie, Japan - info, user reports and updates\\nhttps://t.\\u2026\", \"#Earthquake of magnitude 4.2 at 79 km S of Kuril\\u2019sk, #Russia. Retweet if you felt it.\", \"#Earthquake of magnitude 3.27 at 71 km N of Su\\u00e1rez, #Puerto_Rico. Retweet if you felt it.\"], \"locations\": [\"Honaunau-Napoopoo\", \"Japan\", \"United States\"], \"count\": 248}, {\"created_at\": \"2022-08-04T00:00:00+00:00\", \"class_label\": \"infrastructure_and_utility_damage\", \"tweet_text\": [\"@nopp1e This is due to a mix of earthquake damage and a damaged stormwater system (which CCC is currently repairing). We are aware of flooding worsening at high tide due to how close it is to the river. Hopefully, the repairs being carried out will mitigate issues once completed. ^JP\", \"@mkramer Was living near the epicenter of the Loma Prieta Quake in 1989. Despite the scary shockwaves, my area wasn't much affected (recent earthquake code construction) but there was damage and loss of life from San Franciso to Santa Cruz. https://t.co/Q3zw0QYcrv\", \"Tough to resist doing the Covid-proofing assessment in the middle of earthquake damage assessment in schools.\\n\\nThis one has a 19th century masonry building and a CHB building. Windows are huge, but still needed mechanical ventilation (fans) since the inside air is stale still. https://t.co/U9MGRxdZXC\", \"There was an earthquake in the area of Miyagi Prefecture, where I live, at around 9.48am Japan time.\\nIt had a magnitude of 5.6, intensity 4.\\nThis is a small earthquake in Japan and there is no damage, but in other countries, buildings may collapse and there may be fatalities.\", \"@theredvelution significant earthquakes happen once in a blue moon and california\\u2019s infrastructure has been so designed that there would be minimal damage, and even less chance for fatally, if a large earthquake struck. unfortunately cannot say the same for east coast blizzards \\ud83d\\ude22\", \"Trump is doing lots of damage to the RINO party.\\nhttps://t.co/aK7b0ziOjZ\"], \"locations\": [\"Japan\"], \"count\": 32}, {\"created_at\": \"2022-08-04T02:00:00+00:00\", \"class_label\": \"caution_and_advice\", \"tweet_text\": [\"#Earthquake of magnitude 5.3 at Izu Islands, #Japan_region. Retweet if you felt it.\", \"#Earthquake of magnitude 5.7 at Izu Islands, #Japan_region. Retweet if you felt it.\", \"#Earthquake of magnitude 4.9 at Izu Islands, #Japan_region. Retweet if you felt it.\", \"\\u26a0\\ufe0f A 5.4 magnitude earthquake recorded in 63 km ENE of Namie, Japan \\n More Info: https://t.co/0jHVLTb70n \\n Map: https://t.co/JOpsNG1kUr\", \"[EEW]:\\n2022/08/04 12:35:55\\nMagnitude: 6.5 \\nMax. Intensity: 1 \\nEpicenter: Off the east coast of Toroshima \\nDepth: 10 \\nhttps://t.co/YUsxupOtvd\\n #Japan #Earthquake #\\u5730\\u9707\", \"[\\ud83d\\udea8 EARLY WARNING] Earthquake Detected: A estimated magnitude 6.5 #\\u5730\\u9707 (#earthquake) with an estimated Shindo Intensity of 1 is occuring \\u9ce5\\u5cf6\\u6771\\u65b9\\u6c96 (Off the eastern coast of Torishima) with a depth of 10km. #japan\", \"RT @EQAlerts: Significant #earthquake of magnitude 5.5 just reported 78 km east of Namie, Japan - info, user reports and updates\\nhttps://t.\\u2026\"], \"locations\": [\"Izu Islands\", \"Japan\"], \"count\": 96}, {\"created_at\": \"2022-08-04T04:00:00+00:00\", \"class_label\": \"caution_and_advice\", \"tweet_text\": [\"RT @QuakesToday: 5.2 magnitude #earthquake. Off the east coast of Honshu, Japan https://t.co/zp3EGKIElh\", \"#Earthquake of magnitude 2.67 at 27 km E of Honaunau-Napoopoo, #Hawaii. Retweet if you felt it.\", \"RT @QuakesToday: 1.8 magnitude #earthquake. 5 km from Cobb, #CA, United States https://t.co/Rpt2lXDslQ\", \"RT @QuakesToday: 1.6 magnitude #earthquake. 54 km from #Hawthorne, NV, United States https://t.co/AoJb3oq6HM\", \"5.2 magnitude #earthquake. Off the east coast of Honshu, Japan https://t.co/zp3EGKIElh\", \"RT @earthquake247: #Earthquake of magnitude 5 at Izu Islands, #Japan_region. Retweet if you felt it.\", \"5.2 magnitude #earthquake. Off the east coast of Honshu, Japan https://t.co/r7xEFoHaIN\", \"RT @QuakesToday: 2.2 magnitude #earthquake. 25 km from Truckee, #CA, United States https://t.co/x0VkbKmu1P\", \"\\u26a0\\ufe0f A 5.7 magnitude earthquake recorded in Izu Islands, Japan region \\n More Info: https://t.co/t12QFKsr5y \\n Map: https://t.co/ffQiKq4tYD\", \"#Earthquake of magnitude 5 at Izu Islands, #Japan_region. Retweet if you felt it.\"], \"locations\": [\"Honaunau-Napoopoo\", \"Izu Islands\", \"Japan\"], \"count\": 422}, {\"created_at\": \"2022-08-04T06:00:00+00:00\", \"class_label\": \"caution_and_advice\", \"tweet_text\": [\"#Earthquake of magnitude 2.7 at 36 km SSW of Los Ybanez, #Texas. Retweet if you felt it.\", \"#Earthquake of magnitude 3.7 at 54 km SSW of Whites City, #New_Mexico. Retweet if you felt it.\", \"Magnitude 3.3 earthquake strikes near Los Angeles-San Bernardino county line https://t.co/Z45tS7zExX\", \"3.7 magnitude #earthquake. 78 km from Loving, NM, #UnitedStates https://t.co/AatGSERQs4\", \"#Earthquake: off the east coast of Honshu, Japan at 04 August 2022 03:51 am (UTC), Magnitude: 5 https://t.co/fOjcrQdwMQ\", \"RT @QuakesToday: 1.6 magnitude #earthquake. 57 km N of Chase, Alaska https://t.co/ROpeU0dR4P\", \"RT @QuakesToday: 3.6 magnitude #earthquake. 74 km from #Loving, NM, United States https://t.co/Fzt2tVPipO\", \"RT @earthquake247: #Earthquake of magnitude 4.9 at 146 km E of \\u2018Ohonua, #Tonga. Retweet if you felt it.\", \"[JMA]:\\n15:38:00 JST 04 Aug 2022\\nMagnitude: 3.7\\nMax. Intensity: 1\\nEpicenter: Off the coast of Fukushima\\nDepth: 50 km\\nhttps://t.co/tjxyAKXq6J\\n #Japan #Earthquake #\\u5730\\u9707\", \"An #earthquake with a preliminary magnitude of 5.6 struck off the coast of #Fukushima prefecture in #Japan, the weather agency said, although no tsunami warning has been issued. https://t.co/3f3Bt96JLS\"], \"locations\": [\"Alaska\", \"Japan\", \"United States\"], \"count\": 147}, {\"created_at\": \"2022-08-04T08:00:00+00:00\", \"class_label\": \"caution_and_advice\", \"tweet_text\": [\"RT @EQAlerts: Moderate magnitude 4.8 #earthquake 35 km southwest of Te Anau, New Zealand - info, user reports and updates\\nhttps://t.co/5QYg\\u2026\", \"RT @QuakesToday: 1.7 magnitude #earthquake. 54 km from Hawthorne, #NV, United States https://t.co/DYZGK9Ewni\", \"Moderate magnitude 4.8 #earthquake 35 km southwest of Te Anau, New Zealand - info, user reports and updates\\nhttps://t.co/5QYg2TdUIZ\", \"An #earthquake with a preliminary magnitude of 5.6 struck off the coast of Fukushima prefecture in #Japan on Thursday, the weather agency said, although no tsunami warning has been issued https://t.co/qlwA3N5gup\", \"RT @QuakesToday: 3.7 magnitude #earthquake. 78 km from Loving, NM, #UnitedStates https://t.co/AatGSERQs4\", \"#Japan: An #earthquake with a preliminary magnitude of 5.6, struck off the coast of #Fukushima Prefecture in northeast Japan, although no tsunami warning has been issued\\n\\nhttps://t.co/rDFR5Lakcy #UAE #Dubai #DXB\", \"#Japan: An #earthquake with a preliminary magnitude of 5.6, struck off the coast of #Fukushima Prefecture in northeast #Japan, although no #tsunami warning has been issued\", \"#Japan: An #earthquake with a preliminary magnitude of 5.6, struck off the coast of #Fukushima Prefecture in northeast Japan, although no tsunami warning has been issued\\n\\nhttps://t.co/DJXsutvUAY\", \"An #earthquake with a preliminary magnitude of 5.6 struck off the coast of #Fukushima prefecture in #Japan, the weather agency said, although no tsunami warning has been issued.\"], \"locations\": [\"Japan\", \"United States\"], \"count\": 68}, {\"created_at\": \"2022-08-04T10:00:00+00:00\", \"class_label\": \"caution_and_advice\", \"tweet_text\": [\"RT @QuakesToday: 1.6 magnitude #earthquake. 57 km N of Chase, Alaska https://t.co/ROpeU0dR4P\", \"RT @QuakesToday: 4.3 magnitude #earthquake. 2 km from #Gar\\u00f0ab\\u00e6r, Capital Region, Iceland https://t.co/IsFh6q3Hlk\", \"3.3 magnitude earthquake strikes near LA-San Bernardino county line https://t.co/6naHqTVgNT\", \"RT @QuakesToday: 3.7 magnitude #earthquake. 78 km from Loving, NM, #UnitedStates https://t.co/AatGSERQs4\", \"RT @QuakesToday: 1.7 magnitude #earthquake. 54 km from Hawthorne, #NV, United States https://t.co/DYZGK9Ewni\", \"RT @QuakesToday: 3.6 magnitude #earthquake. 74 km from #Loving, NM, United States https://t.co/Fzt2tVPipO\", \"Some 4,625 workers displaced by the July 27 magnitude 7 earthquake that rocked Northern Luzon are set to benefit from the emergency employment program, DOLE-Cordillera Administrative Region Director Nathaniel Lacambra reported on Thursday.\\n\\nhttps://t.co/jROfH7n1V8\"], \"locations\": [\"Alaska\", \"United States\"], \"count\": 54}, {\"created_at\": \"2022-08-04T12:00:00+00:00\", \"class_label\": \"caution_and_advice\", \"tweet_text\": [\"#Earthquake of magnitude 3.19 at 5 km SSE of Black Diamond, #Washington. Retweet if you felt it.\", \"RT @QuakesToday: 2.2 magnitude #earthquake. 25 km from Truckee, #CA, United States https://t.co/x0VkbKmu1P\", \"RT @QuakesToday: 1.7 magnitude #earthquake. 54 km from Hawthorne, #NV, United States https://t.co/DYZGK9Ewni\", \"RT @QuakesToday: 3.6 magnitude #earthquake. 74 km from #Loving, NM, United States https://t.co/Fzt2tVPipO\"], \"locations\": [\"United States\"], \"count\": 54}, {\"created_at\": \"2022-08-04T14:00:00+00:00\", \"class_label\": \"caution_and_advice\", \"tweet_text\": [\"RT @QuakesToday: 1.9 magnitude #earthquake. 48 km N of Petersville, Alaska https://t.co/QZaHtPEkyl\", \"1.9 magnitude #earthquake. 48 km N of Petersville, Alaska https://t.co/QZaHtPEkyl\", \"#Earthquake of magnitude 4.7 at Izu Islands, #Japan_region. Retweet if you felt it.\", \"\\u26a0\\ufe0f A 5 magnitude earthquake recorded in Izu Islands, Japan region \\n More Info: https://t.co/sjFadXWL3b \\n Map: https://t.co/B5ocsRSyQD\", \"An #earthquake with a preliminary magnitude of 5.6 struck off the coast of Fukushima prefecture in #Japan on Thursday, the weather agency said, although no #tsunami warning has been issued.\\nhttps://t.co/TKZgJsVFxn\", \"#Earthquake: Off East Coast Of Honshu, Japan at 04 August 2022 10:54 am (UTC), Magnitude: 4.6 https://t.co/2PtJsFbVFt\", \"RT @j1_quake: [JMA]:\\n15:38:00 JST 04 Aug 2022\\nMagnitude: 3.7\\nMax. Intensity: 1\\nEpicenter: Off the coast of Fukushima\\nDepth: 50 km\\nhttps://t\\u2026\", \"Tokyo:\\u00a0An earthquake with a preliminary magnitude of 5.6 struck off the coast of Fukushima prefecture in Japan on Thursday, the weather agency said, although no tsunami warning has been issued. According to the Japan Meteorological Agency (JMA), the temblor, which occurred at 9.4 https://t.co/YFblVHMYb4\"], \"locations\": [\"Alaska\", \"Izu Islands\", \"Japan\"], \"count\": 152}, {\"created_at\": \"2022-08-04T16:00:00+00:00\", \"class_label\": \"caution_and_advice\", \"tweet_text\": [\"#Earthquake of magnitude 5 at southwest of Sumatra, #Indonesia. Retweet if you felt it.\", \"#Earthquake of magnitude 5.1 at Izu Islands, #Japan_region. Retweet if you felt it.\", \"RT @QuakesToday: 2.3 magnitude #earthquake. 73 km from Loving, #NM, United States https://t.co/p5ood1yKOf\", \"#Earthquake of magnitude 2.47 at 7km NNE of Borrego Springs, #CA. Retweet if you felt it.\", \"RT @EQAlerts: Moderate magnitude 4.8 #earthquake 35 km southwest of Te Anau, New Zealand - info, user reports and updates\\nhttps://t.co/5QYg\\u2026\"], \"locations\": [\"Izu Islands\", \"United States\"], \"count\": 38}, {\"created_at\": \"2022-08-04T18:00:00+00:00\", \"class_label\": \"caution_and_advice\", \"tweet_text\": [\"\\u26a0\\ufe0f A 5.1 magnitude earthquake recorded in Izu Islands, Japan region \\n More Info: https://t.co/jKtvU4Dr9D \\n Map: https://t.co/2Gz3373v6m\", \"\\u26a0\\ufe0f A 5.1 magnitude earthquake recorded in Izu Islands, Japan region \\n More Info: https://t.co/gdOfJGGi3E \\n Map: https://t.co/Ck84eINCP1\", \"\\u26a0\\ufe0f A 5 magnitude earthquake recorded in southwest of Sumatra, Indonesia \\n More Info: https://t.co/vppjvhTnni \\n Map: https://t.co/SbK77Uf3hw\", \"RT @QuakesToday: 2.3 magnitude #earthquake. 73 km from Loving, #NM, United States https://t.co/p5ood1yKOf\"], \"locations\": [\"Indonesia\", \"Izu Islands\", \"Japan\"], \"count\": 120}, {\"created_at\": \"2022-08-04T18:00:00+00:00\", \"class_label\": \"injured_or_dead_people\", \"tweet_text\": [\"RT @MSF_USA: A 5.9 magnitude earthquake has struck southeastern Afghanistan, killing more than 1,000 people. Our teams set up a 24-hour cli\\u2026\", \"RT @Geology_History: August 4, 2020, a massive #explosion in the city of #Beirut, #Lebanon, kills 215 people, injures 6500 &amp;  flattens near\\u2026\", \"August 4, 2020, a massive #explosion in the city of #Beirut, #Lebanon, kills 215 people, injures 6500 &amp;  flattens nearby buildings, sending seismic waves more than 250 kilometers across the ground\\nhttps://t.co/qZ2mOp9lVT\", \"@nytimes March 11, 2011 There is the possibility that atomic bomb was used undersea against Japan. \\nEast Japan large earthquake\\u00a0 \\n(Magnitude 9),\\nLarge waves \\\"Tsunami\\\" killed about 20,000 people. \\nAnd Melted down at Fukushima first Nuclear Power Station.\"], \"locations\": [\"Japan\"], \"count\": 20}, {\"created_at\": \"2022-08-04T20:00:00+00:00\", \"class_label\": \"caution_and_advice\", \"tweet_text\": [\"RT @QuakesToday: 1.8 magnitude #earthquake. 15 km from East Carbon City, UT, #UnitedStates https://t.co/luUEX4iq5c\", \"RT @QuakesToday: 4.3 magnitude #earthquake. 11 km from Hukay, #Calabarzon, Philippines https://t.co/iRd4BZ7q4U\", \"4.3 magnitude #earthquake. 11 km from Hukay, #Calabarzon, Philippines https://t.co/iRd4BZ7q4U\", \"Magnitude 3.3 earthquake strikes near Los Angeles-San Bernardino county line https://t.co/OfQB3iDNu1\", \"RT @QuakesToday: 2.3 magnitude #earthquake. 73 km from Loving, #NM, United States https://t.co/p5ood1yKOf\", \"RT @QuakesToday: 2.1 magnitude #earthquake. 108 km S of Lowell Point, Alaska https://t.co/ZoABreJcBl\", \"#Earthquake of magnitude 2.7 at 122 km SE of McCarthy, #Alaska. Retweet if you felt it.\"], \"locations\": [\"Alaska\", \"United States\"], \"count\": 60}, {\"created_at\": \"2022-08-04T22:00:00+00:00\", \"class_label\": \"caution_and_advice\", \"tweet_text\": [\"RT @EQAlerts: Moderate magnitude 4.8 #earthquake 35 km southwest of Te Anau, New Zealand - info, user reports and updates\\nhttps://t.co/5QYg\\u2026\", \"RT @grum10: #Earthquake: Off East Coast Of Honshu, Japan at 04 August 2022 06:06 pm (UTC), Magnitude: 5.1 https://t.co/0xjJfd6mJv\", \"RT @grum10: #Earthquake: Off East Coast Of Honshu, Japan at 04 August 2022 10:54 am (UTC), Magnitude: 4.6 https://t.co/2PtJsFbVFt\", \"RT @EQAlerts: Significant #earthquake of magnitude 5.5 just reported 78 km east of Namie, Japan - info, user reports and updates\\nhttps://t.\\u2026\", \"RT @EQAlerts: Moderate magnitude 4.2 #earthquake 80 km south of Kuril'sk, Russia - info, user reports and updates\\nhttps://t.co/d6fhSp0t1D\", \"RT @EQAlerts: Moderate magnitude 4.3 #earthquake 15 km northwest of Acapulco, Mexico - info, user reports and updates\\nhttps://t.co/dt6zTjkj\\u2026\", \"#Earthquake: Off East Coast Of Honshu, Japan at 04 August 2022 06:06 pm (UTC), Magnitude: 5.1 https://t.co/0xjJfd6mJv\", \"RT @grum10: #Earthquake: Near East Coast Of Honshu, Japan at 04 August 2022 12:48 am (UTC), Magnitude: 5.4 https://t.co/YY2gvkFuIc\", \"RT @QuakesToday: 1.9 magnitude #earthquake. 24 km from #Volcano, HI, United States https://t.co/5tLpiJgkdo\", \"RT @QuakesToday: 4.3 magnitude #earthquake. 11 km from Hukay, #Calabarzon, Philippines https://t.co/iRd4BZ7q4U\"], \"locations\": [\"Japan\", \"United States\"], \"count\": 211}, {\"created_at\": \"2022-08-05T00:00:00+00:00\", \"class_label\": \"caution_and_advice\", \"tweet_text\": [\"1.8 magnitude #earthquake. 24 km from Coalinga, #CA, United States https://t.co/C9KrZYQLAd\", \"RT @QuakesToday: 1.8 magnitude #earthquake. 24 km from Coalinga, #CA, United States https://t.co/C9KrZYQLAd\", \"#Earthquake of magnitude 2.46 at 9 km NNW of Camuy, #Puerto_Rico. Retweet if you felt it.\", \"RT @QuakesToday: 1.8 magnitude #earthquake. 40 km from Bridgeport, #CA, United States https://t.co/8SMOIf0jk1\", \"#Earthquake of magnitude 4.5 at 106 km NE of Hihifo, #Tonga. Retweet if you felt it.\", \"#Earthquake of magnitude 2.46 at #Puerto_Rico_region. Retweet if you felt it.\", \"#Earthquake of magnitude 3.23 at 48 km N of San Antonio, #Puerto_Rico. Retweet if you felt it.\", \"RT @QuakesToday: 1.8 magnitude #earthquake. 10 km from Willow, AK, #UnitedStates https://t.co/cYsNF71P0s\", \"RT @QuakesToday: 2.3 magnitude #earthquake. 73 km from Loving, #NM, United States https://t.co/p5ood1yKOf\", \"#Earthquake of magnitude 2.65 at 3 km SSW of P\\u0101hala, #Hawaii. Retweet if you felt it.\"], \"locations\": [\"United States\"], \"count\": 100}, {\"created_at\": \"2022-08-05T02:00:00+00:00\", \"class_label\": \"caution_and_advice\", \"tweet_text\": [\"#Earthquake of magnitude 2.86 at 22km ENE of San Lucas, #CA. Retweet if you felt it.\", \"RT @earthquake247: #Earthquake of magnitude 4.5 at 106 km NE of Hihifo, #Tonga. Retweet if you felt it.\", \"#Earthquake of magnitude 5.1 at 42 km SSE of Kirakira, #Solomon_Islands. Retweet if you felt it.\", \"Moderate magnitude 4.7 #earthquake 20 km southeast of Onconashari, Peru - info, user reports and updates\\nhttps://t.co/bAWNIZ4kz9\", \"RT @QuakesToday: 1.8 magnitude #earthquake. 24 km from Coalinga, #CA, United States https://t.co/C9KrZYQLAd\", \"5.1 magnitude #earthquake. 42 km from #Kirakira, Makira, Solomon Islands https://t.co/X6jj9PrrPs\", \"RT @QuakesToday: 5.1 magnitude #earthquake. 42 km from #Kirakira, Makira, Solomon Islands https://t.co/X6jj9PrrPs\", \"#Earthquake of magnitude 4.2 at 41 km WSW of Ashk\\u0101sham, #Afghanistan. Retweet if you felt it.\", \"#Earthquake of magnitude 4.7 at 99 km NNW of Pangoa, #Peru. Retweet if you felt it.\", \"\\u26a0\\ufe0f A 5.1 magnitude earthquake recorded in 42 km SSE of Kirakira, Solomon Islands \\n More Info: https://t.co/BrOFOzBWap \\n Map: https://t.co/dnIbxfBA5Y\"], \"locations\": [\"United States\"], \"count\": 21}, {\"created_at\": \"2022-08-05T06:00:00+00:00\", \"class_label\": \"caution_and_advice\", \"tweet_text\": [\"RT @QuakesToday: 5.7 magnitude #earthquake. Kermadec Islands, New Zealand https://t.co/1dLyKofprl\", \"#Earthquake of magnitude 2.8 at 25 km ENE of Miches, #Dominican_Republic. Retweet if you felt it.\", \"Quake alert! A 5 magnitude earthquake occurred South Sandwich Islands region. Visit Us: https://t.co/LZJjQthcOZ #earthquake #quakelogic #quake #temblor  https://t.co/aHTFXh3yWc\", \"#Earthquake of magnitude 5 at #South_Sandwich_Islands_region. Retweet if you felt it.\", \"The @NDRRMC_OpCen held an emergency full council meeting yesterday to discuss early recovery operations for the victims of 7.0 Earthquake in Abra, the preparation for another Cabinet-level Simulation Exercise on Magnitude 7.2 Earthquake Scenario in Metro Manila, ... https://t.co/MC9vx2ajME\", \"\\u26a0\\ufe0f A 5 magnitude earthquake recorded in South Sandwich Islands region \\n More Info: https://t.co/1nDkmjr722 \\n Map: https://t.co/AnoNA9yMLx\", \"RT @QuakesToday: 5.2 magnitude #earthquake. Off the east coast of Honshu, Japan https://t.co/zp3EGKIElh\", \"#Earthquake of magnitude 4.8 at 147 km S of Yonakuni, #Japan. Retweet if you felt it.\", \"#Earthquake of magnitude 2.46 at Hawaii region, #Hawaii. Retweet if you felt it.\", \"RT @QuakesToday: 2.9 magnitude #earthquake. 219 km W of Bandon, Oregon https://t.co/pe9sH2zWmY\"], \"locations\": [\"Hawaii\", \"Japan\"], \"count\": 61}, {\"created_at\": \"2022-08-05T06:00:00+00:00\", \"class_label\": \"injured_or_dead_people\", \"tweet_text\": [\"The NDRRMC has released the latest Situation Report for the Magnitude 7 earthquake that hit Abra and other provinces in Northern Luzon last July 27. \\n\\nA total of 11 persons were confirmed dead and 410 persons were injured.\\n\\nRead more: https://t.co/Dj6iLWvwsY https://t.co/qKxRKhP9AS\", \"Magnitude 6.0 Earthquake Reported in Nepal - teleSUR English https://t.co/fY8apyDJrQ #Earthquake\", \"- 2018 Sunday: On the island of Lombok in Indonesia, a 6.9-magnitude earthquake slams the region killing at least 460 and displacing another 350,000 people.\", \"The number of deaths from the magnitude 7 earthquake that rocked Abra and other nearby Northern Luzon provinces last July 27 has climbed to 11. https://t.co/U2mR8aZodF\", \"RT @LupangHinirang_: THE 1990 LUZON EARTHQUAKE\\n\\nOn July 16, 1990, a 7.8 magnitude earthquake killed nearly 2,000 people on the northern and\\u2026\", \"6 August 1988 0:36 UT\\nMw7.3 #earthquake at the India-Myanmar border, where Indian and Eurasian plates collide, caused damage also in Bangladesh. Death toll 5. Felt as far as Kathmandu. Allegedly predicted...\\nhttps://t.co/NFNV555Kwt\\nhttps://t.co/qSQztrqYr5\\nhttps://t.co/KPZMVfirMD https://t.co/1Sxwm1rFvS\"], \"locations\": [\"Indonesia\", \"Nepal\"], \"count\": 62}, {\"created_at\": \"2022-08-05T08:00:00+00:00\", \"class_label\": \"caution_and_advice\", \"tweet_text\": [\"#Earthquake of magnitude 2.45 at 2 km ENE of Magas Arriba, #Puerto_Rico. Retweet if you felt it.\", \"#Earthquake of magnitude 4.3 at Izu Islands, #Japan_region. Retweet if you felt it.\", \"RT @QuakesToday: 5.0 magnitude #earthquake. South Sandwich Islands region https://t.co/9vs6Odaevu\", \"#Earthquake of magnitude 2.88 at 5 km SSE of Pole Ojea, #Puerto_Rico. Retweet if you felt it.\", \"#Earthquake of magnitude 2.46 at 5 km SSW of P\\u0101hala, #Hawaii. Retweet if you felt it.\", \"#Earthquake of magnitude 3.89 at 102 km NNE of Cruz Bay, #U_S__Virgin_Islands. Retweet if you felt it.\"], \"locations\": [\"Izu Islands\"], \"count\": 20}, {\"created_at\": \"2022-08-05T10:00:00+00:00\", \"class_label\": \"caution_and_advice\", \"tweet_text\": [\"#Earthquake of magnitude 5 at Izu Islands, #Japan_region. Retweet if you felt it.\", \"#Earthquake of magnitude 2.45 at 3 km ESE of Fairview, #Oklahoma. Retweet if you felt it.\", \"Small magnitude 3.1 #quake hits 31 miles southeast of Healy, Alaska, United States early morning  - info, user reports and updates\\nhttps://t.co/okBfYmCUnt\", \"#Earthquake of magnitude 3.1 at 43 km E of Denali Park, #Alaska. Retweet if you felt it.\", \"RT @QuakesToday: 5.0 magnitude #earthquake. South Sandwich Islands region https://t.co/9vs6Odaevu\", \"RT @QuakesToday: 4.8 magnitude #earthquake. 148 km from #Yonakuni, Okinawa, #Japan https://t.co/mLZ2cymbZ9\", \"#Earthquake of magnitude 4.9 at 181 km SSW of Labuan, #Indonesia. Retweet if you felt it.\", \"#Earthquake of magnitude 2.62 at 9 km S of Ponce, #Puerto_Rico. Retweet if you felt it.\"], \"locations\": [\"Alaska\", \"Izu Islands\", \"Japan\"], \"count\": 77}, {\"created_at\": \"2022-08-05T12:00:00+00:00\", \"class_label\": \"caution_and_advice\", \"tweet_text\": [\"RT @QuakesToday: 5.7 magnitude #earthquake. Kermadec Islands, New Zealand https://t.co/1dLyKofprl\", \"RT @earthquake247: #Earthquake of magnitude 5 at Izu Islands, #Japan_region. Retweet if you felt it.\", \"RT @QuakesToday: 1.8 magnitude #earthquake. 11 km from #Tuttle, OK, United States https://t.co/uEQZDcv1Vj\", \"\\u26a0\\ufe0f A 5 magnitude earthquake recorded in Izu Islands, Japan region \\n More Info: https://t.co/F4WPIFV7kz \\n Map: https://t.co/wisVeWD3G2\", \"RT @earthquake247: #Earthquake of magnitude 4.9 at 181 km SSW of Labuan, #Indonesia. Retweet if you felt it.\", \"#Earthquake of magnitude 4.4 at 282 km NNE of Lospalos, #Timor_Leste. Retweet if you felt it.\", \"#Earthquake of magnitude 4.7 at #Banda_Sea. Retweet if you felt it.\", \"1.6 magnitude #earthquake. 8 mi from Livermore, #CA, ##UnitedStates https://t.co/0sF4EBYmVT\", \"RT @QuakesToday: 4.8 magnitude #earthquake. 148 km from #Yonakuni, Okinawa, #Japan https://t.co/mLZ2cymbZ9\", \"RT @QuakesToday: 2.9 magnitude #earthquake. 219 km W of Bandon, Oregon https://t.co/pe9sH2zWmY\"], \"locations\": [\"Izu Islands\", \"Japan\", \"United States\"], \"count\": 151}, {\"created_at\": \"2022-08-05T12:00:00+00:00\", \"class_label\": \"infrastructure_and_utility_damage\", \"tweet_text\": [\"@mkramer 1964 earthquake in Alaska. Quake itself destroyed a huge portion of Anchorage, following tsunami wiped out entire villages on the coast. Duration was 4-5 minutes, quake rocked a 9.2 magnitude.\", \"On This Day: Aug 5! An F3 #tornado hits Warroad, MN in 2006, A microburst causes extensive damage in Mitchell, SD in 2000, and an earthquake destroys 50 towns in Ecuador in 1949! Get your daily dose of history!  Image via Wikipedia. https://t.co/nLpImW7er4 #OTD #Blog #wxhistory https://t.co/VsSiEDzR94\", \"RT @kgounews: Residents around Pawnee and Cushing are one step closer to winning a class-action settlement involving earthquake damage.  ht\\u2026\", \"Residents around Pawnee and Cushing are one step closer to winning a class-action settlement involving earthquake damage.  https://t.co/lkNmK97WsP\"], \"locations\": [\"Alaska\"], \"count\": 18}, {\"created_at\": \"2022-08-05T14:00:00+00:00\", \"class_label\": \"caution_and_advice\", \"tweet_text\": [\"#Earthquake of magnitude 2.89 at #Puerto_Rico_region. Retweet if you felt it.\", \"#Earthquake of magnitude 2.5 at 15 km S of Volcano, #Hawaii. Retweet if you felt it.\", \"RT @QuakesToday: 5.0 magnitude #earthquake. South Sandwich Islands region https://t.co/9vs6Odaevu\", \"#Earthquake of magnitude 2.74 at Island of Hawaii, #Hawaii. Retweet if you felt it.\", \"#Earthquake of magnitude 2.8 at 29 km WNW of Ester, #Alaska. Retweet if you felt it.\", \"\\ud83d\\udccc Earthquake information - Revised event \\ud83d\\udccc\\n\\n#earthquake #USGS\\n\\nDate and time (UTC): 08/05/2022 04:38:40 AM\\nMagnitude: 5.8 mww\\nArea: Kermadec Islands, New Zealand\\nDepth (km): 27.949\\nLatitude: -30.3909\\nLongitude: -177.5808 https://t.co/nfj73v4hRa\", \"#Earthquake of magnitude 3.03 at 2 km ENE of Magas Arriba, #Puerto_Rico. Retweet if you felt it.\", \"RT @QuakesToday: 1.7 magnitude #earthquake. 54 km from Hawthorne, #NV, United States https://t.co/DYZGK9Ewni\", \"RT @QuakesToday: 5.7 magnitude #earthquake. Kermadec Islands, New Zealand https://t.co/1dLyKofprl\", \"RT @QuakesInCA: 1.6 magnitude #earthquake. 8 mi from Livermore, #CA, ##UnitedStates https://t.co/0sF4EBYmVT\"], \"locations\": [\"Hawaii\", \"United States\"], \"count\": 35}, {\"created_at\": \"2022-08-05T14:00:00+00:00\", \"class_label\": \"rescue_volunteering_or_donation_effort\", \"tweet_text\": [\"@mkramer The Columbia shuttle, Mt Saint Helens, hurricane Andrew, 1989 SF earthquake, Mt  Pinatubo, any Colorado or Alps avalanche, the Hobart sailing race (1998 - Larry Ellison refused to rescue), Thailand soccer team cave, Berkeley Hills wildfire (1991), Mpls. bridge collapse, Titanic.\", \"RT @Islam_Is_Tru: When there's an earthquake in Indonesia or elsewhere in the world; international charities come together to rescue these\\u2026\", \"When there's an earthquake in Indonesia or elsewhere in the world; international charities come together to rescue these people but it has been happening in #Gaza #Palestine for over 70 years in the form of Is*ra*els bombs &amp; not a single charity rescues them\\ud83d\\udc94\\n\\n@decappeal @unicef https://t.co/5YKtApGUaw\", \"RT @SB19xAtinIlocos: TODAY, AUGUST 05 2022 IS THE LAST DAY OF OUR DONATION DRIVE FOR THE VICTIMS OF THE 7.3 MAGNITUDE EARTHQUAKE THAT OCCUR\\u2026\"], \"locations\": [\"Indonesia\"], \"count\": 34}, {\"created_at\": \"2022-08-05T16:00:00+00:00\", \"class_label\": \"caution_and_advice\", \"tweet_text\": [\"RT @QuakesToday: 1.8 magnitude #earthquake. 24 km from Coalinga, #CA, United States https://t.co/C9KrZYQLAd\", \"RT @ruminarist: BREAKING NEWS: The president called an emergency cabinet meeting this afternoon on the status of the 7.3 magnitude earthqua\\u2026\", \"RT @QuakesToday: 1.7 magnitude #earthquake. 85 km NW of Karluk, Alaska https://t.co/hAxTuQs9HZ\", \"1.7 magnitude #earthquake. 85 km NW of Karluk, Alaska https://t.co/hAxTuQs9HZ\", \"RT @QuakesToday: 2.8 magnitude #earthquake. 29 km from Ester, #AK, United States https://t.co/SaZWmjQghR\", \"RT @QuakesToday: 1.7 magnitude #earthquake. 18 km from East Carbon City, UT, #UnitedStates https://t.co/Y9LfXtUG54\", \"1.7 magnitude #earthquake. 18 km from East Carbon City, UT, #UnitedStates https://t.co/Y9LfXtUG54\"], \"locations\": [\"Alaska\", \"United States\"], \"count\": 98}, {\"created_at\": \"2022-08-05T18:00:00+00:00\", \"class_label\": \"caution_and_advice\", \"tweet_text\": [\"RT @EQAlerts: Magnitude 3.4 #earthquake strikes near Alaska City, Anchorage, Alaska, USA - info, user reports and updates\\nhttps://t.co/wpyD\\u2026\", \"#Earthquake of magnitude 4.6 at 109 km NNE of Baukau, #Timor_Leste. Retweet if you felt it.\", \"Magnitude 3.4 #earthquake strikes near Alaska City, Anchorage, Alaska, USA - info, user reports and updates\\nhttps://t.co/wpyDxRGege\", \"#Earthquake of magnitude 3.4 at 31 km NW of Susitna, #Alaska. Retweet if you felt it.\", \"3.4 magnitude #earthquake. 51 km from Willow, AK, #UnitedStates https://t.co/Kwjs5NZSEw\", \"RT @QuakesToday: 1.7 magnitude #earthquake. 18 km from East Carbon City, UT, #UnitedStates https://t.co/Y9LfXtUG54\", \"RT @QuakesToday: 1.7 magnitude #earthquake. 85 km NW of Karluk, Alaska https://t.co/hAxTuQs9HZ\"], \"locations\": [\"Alaska\"], \"count\": 46}, {\"created_at\": \"2022-08-05T20:00:00+00:00\", \"class_label\": \"caution_and_advice\", \"tweet_text\": [\"#Earthquake of magnitude 2.84 at 4 km SSE of P\\u0101hala, #Hawaii. Retweet if you felt it.\", \"#Earthquake of magnitude 4.6 at 248 km SSE of Katsuura, #Japan. Retweet if you felt it.\", \"RT @QuakesToday: 3.4 magnitude #earthquake. 51 km from Willow, AK, #UnitedStates https://t.co/Kwjs5NZSEw\", \"RT @EQAlerts: Magnitude 3.4 #earthquake strikes near Alaska City, Anchorage, Alaska, USA - info, user reports and updates\\nhttps://t.co/wpyD\\u2026\"], \"locations\": [\"Alaska\"], \"count\": 15}, {\"created_at\": \"2022-08-05T22:00:00+00:00\", \"class_label\": \"caution_and_advice\", \"tweet_text\": [\"RT @EQAlerts: Magnitude 3.4 #earthquake strikes near Alaska City, Anchorage, Alaska, USA - info, user reports and updates\\nhttps://t.co/wpyD\\u2026\", \"1.9 magnitude #earthquake. 46 km SW of Hughes, Alaska https://t.co/ePLryho21T\", \"RT @EQAlerts: Small magnitude 3.1 #quake hits 31 miles southeast of Healy, Alaska, United States early morning  - info, user reports and up\\u2026\", \"1.6 magnitude #earthquake. 54 km from Willow, AK, #UnitedStates https://t.co/wxf1Nyt8ge\", \"RT @QuakesToday: 1.9 magnitude #earthquake. 46 km SW of Hughes, Alaska https://t.co/ePLryho21T\", \"#Earthquake of magnitude 4.5 at 88 km SE of Tual, #Indonesia. Retweet if you felt it.\", \"RT @QuakesToday: 1.6 magnitude #earthquake. 54 km from Willow, AK, #UnitedStates https://t.co/wxf1Nyt8ge\", \"RT @EQAlerts: Moderate magnitude 4.7 #earthquake 20 km southeast of Onconashari, Peru - info, user reports and updates\\nhttps://t.co/bAWNIZ4\\u2026\", \"RT @QuakesToday: 1.7 magnitude #earthquake. 16 km from East Carbon City, #UT, United States https://t.co/aHzt2eDr6R\", \"RT @EQAlerts: Moderate magnitude 4.6 #quake hits 110 km northeast of Baucau, Timor-Leste early morning  - info, user reports and updates\\nht\\u2026\"], \"locations\": [\"Alaska\", \"United States\"], \"count\": 123}, {\"created_at\": \"2022-08-05T22:00:00+00:00\", \"class_label\": \"injured_or_dead_people\", \"tweet_text\": [\"RT @PhilstarNews: The death toll from the magnitude-7 earthquake that struck Abra and felt across parts of Luzon last week rose to 11 while\\u2026\", \"August 05, 2018 6.9 magnitude earthquake on island of Lombok, Indonesia, kills at least 460 people and displaces 350,000 #Indonesia #OnThisDate #PR https://t.co/Qje8FzC2S6\", \"RT @MSF_USA: A 5.9 magnitude earthquake has struck southeastern Afghanistan, killing more than 1,000 people. Our teams set up a 24-hour cli\\u2026\"], \"locations\": [\"Indonesia\"], \"count\": 28}, {\"created_at\": \"2022-08-06T00:00:00+00:00\", \"class_label\": \"caution_and_advice\", \"tweet_text\": [\"RT @EQAlerts: Moderate magnitude 4.4 #earthquake 35 km northwest of Kathmandu, Nepal - info, user reports and updates\\nhttps://t.co/OvyYp2ei\\u2026\", \"#Earthquake of magnitude 4.4 at 50 km W of Sardinal, #Costa_Rica. Retweet if you felt it.\", \"@dahalshivaji Earthquake Update: 5.3 Magnitude with epicenter at Belkotgadhi, Nuwakot on 5:26 AM.\", \"RT @EQAlerts: Moderate #earthquake of magnitude 4.5 just reported 43 km northwest of Turbo, Colombia - info, user reports and updates\\nhttps\\u2026\", \"Magnitude 4.5 #earthquake strikes near Chimbote, Provincia de Santa, Ancash, Peru - info, user reports and updates\\nhttps://t.co/pI8pm6SxPW\", \"Moderate #earthquake of magnitude 4.5 just reported 43 km northwest of Turbo, Colombia - info, user reports and updates\\nhttps://t.co/ggMZhUmlQ8\", \"#Earthquake of magnitude 4.4 at 33 km NW of Kirtipur, #Nepal. Retweet if you felt it.\", \"#Earthquake of magnitude 4.7 at #Carlsberg_Ridge. Retweet if you felt it.\", \"RT @EQAlerts: Magnitude 4.5 #earthquake strikes near Chimbote, Provincia de Santa, Ancash, Peru - info, user reports and updates\\nhttps://t.\\u2026\", \"#Earthquake of magnitude 4.5 at 29 km WSW of Necocl\\u00ed, #Colombia. Retweet if you felt it.\"], \"locations\": [\"Japan\", \"Nepal\", \"United States\"], \"count\": 64}, {\"created_at\": \"2022-08-06T04:00:00+00:00\", \"class_label\": \"caution_and_advice\", \"tweet_text\": [\"RT @RONBupdates: Earthquake Update: 5.3 Magnitude with epicenter at Belkotgadhi, Nuwakot on 5:26 AM.\", \"RT @QuakesToday: 4.8 magnitude #earthquake. 148 km from #Yonakuni, Okinawa, #Japan https://t.co/mLZ2cymbZ9\", \"RT @EQAlerts: Moderate magnitude 4.5 #quake hits 96 km southwest of Boca del Rio, Mexico in the evening  - info, user reports and updates\\nh\\u2026\"], \"locations\": [\"Japan\"], \"count\": 11}, {\"created_at\": \"2022-08-06T08:00:00+00:00\", \"class_label\": \"caution_and_advice\", \"tweet_text\": [\"RT @QuakesToday: 3.9 magnitude #earthquake. 121 km from #SandPoint, AK, United States https://t.co/KHNZH0bngo\", \"[EEW]:\\n2022/08/06 18:42:41\\nMagnitude: 5 \\nMax. Intensity: 1 \\nEpicenter: Off the coast of Hachijojima \\nDepth: 10 \\nhttps://t.co/DLX4YGbJbH\\n #Japan #Earthquake #\\u5730\\u9707\", \"[\\ud83d\\udea8 EARLY WARNING] Earthquake Detected: A estimated magnitude 5.0 #\\u5730\\u9707 (#earthquake) with an estimated Shindo Intensity of 1 is occuring \\u516b\\u4e08\\u5cf6\\u6771\\u65b9\\u6c96 (Hachijojima east coast) with a depth of 10km. #japan\", \"Moderate #earthquake of magnitude 4.1 just reported 55 miles northeast of Adak, Alaska, United States - info, user reports and updates\\nhttps://t.co/pQ0Y7SwAgl\", \"#Earthquake of magnitude 4.1 at 89 km NNE of Adak, #Alaska. Retweet if you felt it.\", \"RT @QuakesToday: 2.1 magnitude #earthquake. 24 km from #AnchorPoint, AK, United States https://t.co/mTNdRpXUs1\", \"2.1 magnitude #earthquake. 24 km from #AnchorPoint, AK, United States https://t.co/mTNdRpXUs1\", \"RT @RONBupdates: Earthquake Update: 5.3 Magnitude with epicenter at Belkotgadhi, Nuwakot on 5:26 AM.\"], \"locations\": [\"Alaska\", \"Japan\", \"United States\"], \"count\": 61}, {\"created_at\": \"2022-08-06T10:00:00+00:00\", \"class_label\": \"caution_and_advice\", \"tweet_text\": [\"RT @EQAlerts: Significant magnitude 5.7 #quake hits 96 km northeast of Tarapaca, Brazil in the morning  - info, user reports and updates\\nht\\u2026\", \"Significant magnitude 5.7 #quake hits 96 km northeast of Tarapaca, Brazil in the morning  - info, user reports and updates\\nhttps://t.co/KFzXGMyXaz\", \"RT @QuakesToday: 2.5 magnitude #earthquake. Off the coast of Northern California https://t.co/Rv6JPEjyN3\", \"2.5 magnitude #earthquake. Off the coast of Northern California https://t.co/Rv6JPEjyN3\", \"#Earthquake of magnitude 2.5 at 148 km WSW of Crescent City, #California. Retweet if you felt it.\", \"RT @QuakesToday: 3.9 magnitude #earthquake. 121 km from #SandPoint, AK, United States https://t.co/KHNZH0bngo\", \"RT @QuakesToday: 2.1 magnitude #earthquake. 24 km from #AnchorPoint, AK, United States https://t.co/mTNdRpXUs1\", \"#Earthquake of magnitude 2.6 at 35 km NNW of Stanley, #Idaho. Retweet if you felt it.\", \"#Earthquake of magnitude 3.1 at 65 km NE of Cruz Bay, #U_S__Virgin_Islands. Retweet if you felt it.\", \"#Earthquake of magnitude 4.8 at Izu Islands, #Japan_region. Retweet if you felt it.\"], \"locations\": [\"Izu Islands\", \"United States\"], \"count\": 24}, {\"created_at\": \"2022-08-06T10:00:00+00:00\", \"class_label\": \"infrastructure_and_utility_damage\", \"tweet_text\": [\"RT @MarketsCafe: 5.3-magnitude earthquake jolts central Nepal According to the officials, there were no reports of any damage or casualties\\u2026\", \"5.3-magnitude earthquake jolts central Nepal According to the officials, there were no reports of any damage or casualties #Global by #TheHindu https://t.co/AoQxOnrB50\", \"5.3-magnitude earthquake jolts central Nepal According to officials, there were no reports of any damage or casualties #Global by #BusinessLine https://t.co/u0SeB3ftCS\", \"There were no reports of any damage or casualties, officials said.\\n\\nhttps://t.co/3TIGH1GPLp\", \"An #earthquake measuring 5.3 on the Richter scale jolted #Kathmandu Valley and other parts of central #Nepal. However, there were no reports of any damage or casualties, officials said.\\nhttps://t.co/4BxqrpGCDJ\"], \"locations\": [\"Nepal\"], \"count\": 29}, {\"created_at\": \"2022-08-06T12:00:00+00:00\", \"class_label\": \"caution_and_advice\", \"tweet_text\": [\"[EEW]:\\n2022/08/06 21:23:47\\nMagnitude: 4.8 \\nMax. Intensity: 3 \\nEpicenter: Off the coast of Ibaraki \\nDepth: 20 \\nhttps://t.co/exhsndRKx5\\n #Japan #Earthquake #\\u5730\\u9707\", \"#Earthquake of magnitude 5 at 50 km E of \\u014carai, #Japan. Retweet if you felt it.\", \"RT @EQAlerts: Moderate magnitude 4.5 #quake hits 96 km southwest of Boca del Rio, Mexico in the evening  - info, user reports and updates\\nh\\u2026\", \"RT @EQAlerts: Magnitude 4.9 #earthquake strikes near Kashima-shi, Ibaraki, Japan - info, user reports and updates\\nhttps://t.co/qIj64gkyS2\", \"Magnitude 4.9 #earthquake strikes near Kashima-shi, Ibaraki, Japan - info, user reports and updates\\nhttps://t.co/qIj64gkyS2\", \"#earthquake warning #alert #japan 7+ magnitude\\n\\nClick to see magnitude:\\nhttps://t.co/fzlP9NgiAf\\n\\nView the quake detail below:\\nhttps://t.co/fzlP9NgiAf\\n\\n#\\u092d\\u0942\\u0915\\u0902\\u092a #tremor #temblor #sismo #gempa #terremoto #lindol #\\u03c3\\u03b5\\u03b9\\u03c3\\u03bc\\u03cc\\u03c2 #DEPREM #jar\\u00f0skj\\u00e1lfti #s\\u00e9isme #quake\", \"[\\ud83d\\udea8 EARLY WARNING] Earthquake Detected: A estimated magnitude 4.9 #\\u5730\\u9707 (#earthquake) with an estimated Shindo Intensity of 3 is occuring \\u8328\\u57ce\\u770c\\u6c96 (Offshore Ibaraki Prefecture) with a depth of 30km. #japan\", \"Magnitude 4.9 #earthquake strikes near Kashima-shi, Ibaraki, #Japan - info, user reports and updates\\nhttps://t.co/xIRBY6SVMD\", \"RT @QuakesToday: 3.9 magnitude #earthquake. 121 km from #SandPoint, AK, United States https://t.co/KHNZH0bngo\", \"RT @QuakesToday: 2.5 magnitude #earthquake. Off the coast of Northern California https://t.co/Rv6JPEjyN3\"], \"locations\": [\"Japan\", \"United States\"], \"count\": 73}, {\"created_at\": \"2022-08-06T14:00:00+00:00\", \"class_label\": \"caution_and_advice\", \"tweet_text\": [\"You can help prevent damage or injury during an earthquake by storing heavy, breakable objects at ground level or on the lowest shelf. For more earthquake safety tips, visit https://t.co/c6HBg1Nvy2. https://t.co/CxLxOatMDZ\", \"RT @EQAlerts: Significant magnitude 5.0 #quake hits 40 km south of Port Vila, Vanuatu early morning  - info, user reports and updates\\nhttps\\u2026\", \"#Earthquake of magnitude 5 at 39 km S of Port-Vila, #Vanuatu. Retweet if you felt it.\", \"#Earthquake of magnitude 4.6 at 14 km ESE of Uji, #Japan. Retweet if you felt it.\", \"RT @EQAlerts: Moderate tremor of magnitude 4.4 just reported 72 km southeast of Faizabad, Afghanistan - info, user reports and updates\\nhttp\\u2026\", \"Significant magnitude 5.0 #quake hits 40 km south of Port Vila, Vanuatu early morning  - info, user reports and updates\\nhttps://t.co/iyZ5pKe4UT\", \"RT @EQAlerts: Magnitude 4.9 #earthquake strikes near Kashima-shi, Ibaraki, Japan - info, user reports and updates\\nhttps://t.co/qIj64gkyS2\", \"RT @QuakesToday: 2.8 magnitude #earthquake. 29 km from Ester, #AK, United States https://t.co/SaZWmjQghR\", \"Moderate tremor of magnitude 4.4 just reported 72 km southeast of Faizabad, Afghanistan - info, user reports and updates\\nhttps://t.co/rdQgn78InR\", \"[EEW]:\\n2022/08/06 23:52:33\\nMagnitude: 4.4 \\nMax. Intensity: unknown \\nEpicenter: Shiga-South \\nDepth: 380 \\nhttps://t.co/PhFgLRFBWp\\n #Japan #Earthquake #\\u5730\\u9707\"], \"locations\": [\"Japan\", \"United States\"], \"count\": 28}, {\"created_at\": \"2022-08-06T16:00:00+00:00\", \"class_label\": \"caution_and_advice\", \"tweet_text\": [\"5.0 magnitude to 6.0 magnitude earthquake is now expected to hit south Napa from August 8 2022 or on August 24 2022 at 3 am\", \"RT @QuakesToday: 1.5 magnitude #earthquake. 57 km NNW of Petersville, Alaska https://t.co/L44MtjQZ3z\", \"#Earthquake of magnitude 4.7 at 68 km WSW of San Carlos, #Mexico. Retweet if you felt it.\", \"1.5 magnitude #earthquake. 57 km NNW of Petersville, Alaska https://t.co/L44MtjQZ3z\", \"RT @RONBupdates: Earthquake Update: 5.3 Magnitude with epicenter at Belkotgadhi, Nuwakot on 5:26 AM.\", \"\\u26a0\\ufe0f A 5 magnitude earthquake recorded in 39 km S of Port-Vila, Vanuatu \\n More Info: https://t.co/wf1K1uiUDx \\n Map: https://t.co/LPj3255PLN\", \"[EEW]:\\n2022/08/07 01:01:07\\nMagnitude: 3.5 \\nMax. Intensity: 1 \\nEpicenter: Off the coast of Tokachi \\nDepth: 10 \\nhttps://t.co/oQEfCaMi00\\n #Japan #Earthquake #\\u5730\\u9707\"], \"locations\": [\"Alaska\", \"Japan\"], \"count\": 15}, {\"created_at\": \"2022-08-06T18:00:00+00:00\", \"class_label\": \"injured_or_dead_people\", \"tweet_text\": [\"@abcnews March 11, 2011 There is the possibility that atomic bomb was used undersea against Japan. \\nEast Japan large earthquake\\u00a0 \\n(Magnitude 9),\\nLarge waves \\\"Tsunami\\\" killed about 20,000 people. \\nAnd Melted down at Fukushima first Nuclear Power Station.\\n\\nhttps://t.co/SWVAeJz8kw\"], \"locations\": [\"Japan\"], \"count\": 3}, {\"created_at\": \"2022-08-06T22:00:00+00:00\", \"class_label\": \"caution_and_advice\", \"tweet_text\": [\"RT @EQAlerts: Magnitude 4.5 #earthquake strikes near Chimbote, Provincia de Santa, Ancash, Peru - info, user reports and updates\\nhttps://t.\\u2026\", \"#Earthquake of magnitude 2.86 at 11 km S of Gu\\u00e1nica, #Puerto_Rico. Retweet if you felt it.\", \"RT @EQAlerts: Significant magnitude 5.0 #quake hits 40 km south of Port Vila, Vanuatu early morning  - info, user reports and updates\\nhttps\\u2026\", \"RT @EQAlerts: Moderate tremor of magnitude 4.4 just reported 72 km southeast of Faizabad, Afghanistan - info, user reports and updates\\nhttp\\u2026\", \"RT @EQAlerts: Moderate tremor of magnitude 4.3 just reported 49 km south of Ayutla de los Libres, Mexico - info, user reports and updates\\nh\\u2026\", \"RT @EQAlerts: Moderate magnitude 4.5 #quake hits 96 km southwest of Boca del Rio, Mexico in the evening  - info, user reports and updates\\nh\\u2026\", \"#Earthquake of magnitude 2.59 at 4 km SSE of P\\u0101hala, #Hawaii. Retweet if you felt it.\", \"RT @EQAlerts: Magnitude 4.9 #earthquake strikes near Kashima-shi, Ibaraki, Japan - info, user reports and updates\\nhttps://t.co/qIj64gkyS2\", \"RT @EQAlerts: Significant magnitude 5.7 #quake hits 96 km northeast of Tarapaca, Brazil in the morning  - info, user reports and updates\\nht\\u2026\", \"#Earthquake of magnitude 4.9 at 186 km NW of Nuku\\u2018alofa, #Tonga. Retweet if you felt it.\"], \"locations\": [\"Alaska\", \"Japan\", \"Nepal\"], \"count\": 6}, {\"created_at\": \"2022-08-07T00:00:00+00:00\", \"class_label\": \"caution_and_advice\", \"tweet_text\": [\"RT @QuakesToday: 3.1 magnitude #earthquake. 52 km from #Nikiski, AK, United States https://t.co/Adp7YlyoyL\", \"#Earthquake of magnitude 3.1 at 2 km WNW of Beluga, #Alaska. Retweet if you felt it.\", \"RT @QuakesToday: 1.7 magnitude #earthquake. 7 km from Willow, AK, #UnitedStates https://t.co/xhh6AzyRhv\", \"#Earthquake of magnitude 4.6 at 123 km ESE of Arica, #Chile. Retweet if you felt it.\", \"RT @earthquake247: #Earthquake of magnitude 4.9 at 186 km NW of Nuku\\u2018alofa, #Tonga. Retweet if you felt it.\", \"A 2.60 magnitude earthquake has occurred near Batlow, NSW, Australia at 7/8/2022, 10:03 am! https://t.co/H3KwASvG8v\", \"[EEW]:\\n2022/08/07 09:15:24\\nMagnitude: 4.1 \\nMax. Intensity: 3 \\nEpicenter: Near the coast of Ishigakijima \\nDepth: 20 \\nhttps://t.co/ajvkJjNbCt\\n #Japan #Earthquake #\\u5730\\u9707\"], \"locations\": [\"Japan\", \"United States\"], \"count\": 2}, {\"created_at\": \"2022-08-07T00:00:00+00:00\", \"class_label\": \"injured_or_dead_people\", \"tweet_text\": [\"@CNN @KyungLahCNN @ABC March 11, 2011 There is the possibility that atomic bomb was used undersea against Japan. \\nEast Japan large earthquake\\u00a0 \\n(Magnitude 9),\\nLarge waves \\\"Tsunami\\\" killed about 20,000 people. \\nAnd Melted down at Fukushima first Nuclear Power Station.\\n\\nhttps://t.co/SWVAeJz8kw\", \"RT @MSF_USA: A 5.9 magnitude earthquake has struck southeastern Afghanistan, killing more than 1,000 people. Our teams set up a 24-hour cli\\u2026\"], \"locations\": [\"Japan\"], \"count\": 1}]}}, {\"mode\": \"vega-lite\"});\n",
       "</script>"
      ],
      "text/plain": [
       "alt.VConcatChart(...)"
      ]
     },
     "execution_count": 19,
     "metadata": {},
     "output_type": "execute_result"
    }
   ],
   "source": [
    "show_top_locations(df_top_location_tweets, class_labels, disaster_kind)"
   ]
  },
  {
   "cell_type": "markdown",
   "id": "4619a8a2",
   "metadata": {
    "papermill": {
     "duration": 0.228815,
     "end_time": "2022-08-19T20:57:07.279149",
     "exception": false,
     "start_time": "2022-08-19T20:57:07.050334",
     "status": "completed"
    },
    "tags": []
   },
   "source": [
    "## Visualize the locations and relationship between them as a network"
   ]
  },
  {
   "cell_type": "markdown",
   "id": "e373b159",
   "metadata": {
    "papermill": {
     "duration": 0.234228,
     "end_time": "2022-08-19T20:57:07.747858",
     "exception": false,
     "start_time": "2022-08-19T20:57:07.513630",
     "status": "completed"
    },
    "tags": []
   },
   "source": [
    "### Select the top 20 locations for this disaster"
   ]
  },
  {
   "cell_type": "code",
   "execution_count": 20,
   "id": "fd59f2f8",
   "metadata": {
    "execution": {
     "iopub.execute_input": "2022-08-19T20:57:08.225976Z",
     "iopub.status.busy": "2022-08-19T20:57:08.225634Z",
     "iopub.status.idle": "2022-08-19T20:58:35.878261Z",
     "shell.execute_reply": "2022-08-19T20:58:35.877545Z"
    },
    "papermill": {
     "duration": 88.080995,
     "end_time": "2022-08-19T20:58:36.070197",
     "exception": false,
     "start_time": "2022-08-19T20:57:07.989202",
     "status": "completed"
    },
    "tags": []
   },
   "outputs": [
    {
     "data": {
      "text/plain": [
       "['United States',\n",
       " 'Japan',\n",
       " 'HI',\n",
       " 'Hawaii',\n",
       " 'Alaska',\n",
       " 'Izu Islands',\n",
       " 'CA',\n",
       " 'Nepal',\n",
       " 'Honaunau-Napoopoo',\n",
       " 'Indonesia',\n",
       " 'Abra',\n",
       " 'Ilocos Sur',\n",
       " 'New',\n",
       " 'Kudarat',\n",
       " 'Lebak',\n",
       " 'Luzon',\n",
       " 'Balochistan',\n",
       " 'Afghanistan',\n",
       " 'Honduras',\n",
       " 'Iceland']"
      ]
     },
     "execution_count": 20,
     "metadata": {},
     "output_type": "execute_result"
    }
   ],
   "source": [
    "loc20 = get_top_locations_flatten(df_tweets, 20)\n",
    "loc20"
   ]
  },
  {
   "cell_type": "markdown",
   "id": "64547935",
   "metadata": {
    "papermill": {
     "duration": 0.184357,
     "end_time": "2022-08-19T20:58:36.447148",
     "exception": false,
     "start_time": "2022-08-19T20:58:36.262791",
     "status": "completed"
    },
    "tags": []
   },
   "source": [
    "### Get the tweets for just the top 20 locations"
   ]
  },
  {
   "cell_type": "code",
   "execution_count": 21,
   "id": "2e5ec51e",
   "metadata": {
    "execution": {
     "iopub.execute_input": "2022-08-19T20:58:36.892343Z",
     "iopub.status.busy": "2022-08-19T20:58:36.892031Z",
     "iopub.status.idle": "2022-08-19T20:58:37.242678Z",
     "shell.execute_reply": "2022-08-19T20:58:37.241911Z"
    },
    "papermill": {
     "duration": 0.545719,
     "end_time": "2022-08-19T20:58:37.245449",
     "exception": false,
     "start_time": "2022-08-19T20:58:36.699730",
     "status": "completed"
    },
    "tags": []
   },
   "outputs": [
    {
     "data": {
      "text/html": [
       "<div>\n",
       "<style scoped>\n",
       "    .dataframe tbody tr th:only-of-type {\n",
       "        vertical-align: middle;\n",
       "    }\n",
       "\n",
       "    .dataframe tbody tr th {\n",
       "        vertical-align: top;\n",
       "    }\n",
       "\n",
       "    .dataframe thead th {\n",
       "        text-align: right;\n",
       "    }\n",
       "</style>\n",
       "<table border=\"1\" class=\"dataframe\">\n",
       "  <thead>\n",
       "    <tr style=\"text-align: right;\">\n",
       "      <th></th>\n",
       "      <th>class_label</th>\n",
       "      <th>location_x</th>\n",
       "      <th>location_y</th>\n",
       "      <th>count</th>\n",
       "    </tr>\n",
       "  </thead>\n",
       "  <tbody>\n",
       "    <tr>\n",
       "      <th>3</th>\n",
       "      <td>caution_and_advice</td>\n",
       "      <td>Japan</td>\n",
       "      <td>Izu Islands</td>\n",
       "      <td>128</td>\n",
       "    </tr>\n",
       "    <tr>\n",
       "      <th>9</th>\n",
       "      <td>infrastructure_and_utility_damage</td>\n",
       "      <td>Luzon</td>\n",
       "      <td>Ilocos Sur</td>\n",
       "      <td>25</td>\n",
       "    </tr>\n",
       "    <tr>\n",
       "      <th>27</th>\n",
       "      <td>other_relevant_information</td>\n",
       "      <td>United States</td>\n",
       "      <td>Honaunau-Napoopoo</td>\n",
       "      <td>1234</td>\n",
       "    </tr>\n",
       "    <tr>\n",
       "      <th>21</th>\n",
       "      <td>other_relevant_information</td>\n",
       "      <td>New</td>\n",
       "      <td>Balochistan</td>\n",
       "      <td>7</td>\n",
       "    </tr>\n",
       "    <tr>\n",
       "      <th>18</th>\n",
       "      <td>other_relevant_information</td>\n",
       "      <td>Japan</td>\n",
       "      <td>Izu Islands</td>\n",
       "      <td>1796</td>\n",
       "    </tr>\n",
       "    <tr>\n",
       "      <th>22</th>\n",
       "      <td>other_relevant_information</td>\n",
       "      <td>New</td>\n",
       "      <td>Japan</td>\n",
       "      <td>377</td>\n",
       "    </tr>\n",
       "    <tr>\n",
       "      <th>10</th>\n",
       "      <td>injured_or_dead_people</td>\n",
       "      <td>Luzon</td>\n",
       "      <td>Abra</td>\n",
       "      <td>8</td>\n",
       "    </tr>\n",
       "    <tr>\n",
       "      <th>20</th>\n",
       "      <td>other_relevant_information</td>\n",
       "      <td>Luzon</td>\n",
       "      <td>Abra</td>\n",
       "      <td>44</td>\n",
       "    </tr>\n",
       "    <tr>\n",
       "      <th>12</th>\n",
       "      <td>other_relevant_information</td>\n",
       "      <td>Honaunau-Napoopoo</td>\n",
       "      <td>HI</td>\n",
       "      <td>709</td>\n",
       "    </tr>\n",
       "    <tr>\n",
       "      <th>4</th>\n",
       "      <td>caution_and_advice</td>\n",
       "      <td>United States</td>\n",
       "      <td>Alaska</td>\n",
       "      <td>298</td>\n",
       "    </tr>\n",
       "  </tbody>\n",
       "</table>\n",
       "</div>"
      ],
      "text/plain": [
       "                          class_label         location_x         location_y  \\\n",
       "3                  caution_and_advice              Japan        Izu Islands   \n",
       "9   infrastructure_and_utility_damage              Luzon         Ilocos Sur   \n",
       "27         other_relevant_information      United States  Honaunau-Napoopoo   \n",
       "21         other_relevant_information                New        Balochistan   \n",
       "18         other_relevant_information              Japan        Izu Islands   \n",
       "22         other_relevant_information                New              Japan   \n",
       "10             injured_or_dead_people              Luzon               Abra   \n",
       "20         other_relevant_information              Luzon               Abra   \n",
       "12         other_relevant_information  Honaunau-Napoopoo                 HI   \n",
       "4                  caution_and_advice      United States             Alaska   \n",
       "\n",
       "    count  \n",
       "3     128  \n",
       "9      25  \n",
       "27   1234  \n",
       "21      7  \n",
       "18   1796  \n",
       "22    377  \n",
       "10      8  \n",
       "20     44  \n",
       "12    709  \n",
       "4     298  "
      ]
     },
     "execution_count": 21,
     "metadata": {},
     "output_type": "execute_result"
    }
   ],
   "source": [
    "df_loc_graph = get_location_graph_data(df_tweets, loc20)\n",
    "df_loc_graph.sample(10)"
   ]
  },
  {
   "cell_type": "code",
   "execution_count": 22,
   "id": "f1ee1f2a",
   "metadata": {
    "execution": {
     "iopub.execute_input": "2022-08-19T20:58:37.632164Z",
     "iopub.status.busy": "2022-08-19T20:58:37.631827Z",
     "iopub.status.idle": "2022-08-19T20:58:37.761615Z",
     "shell.execute_reply": "2022-08-19T20:58:37.761046Z"
    },
    "papermill": {
     "duration": 0.32524,
     "end_time": "2022-08-19T20:58:37.763455",
     "exception": false,
     "start_time": "2022-08-19T20:58:37.438215",
     "status": "completed"
    },
    "tags": []
   },
   "outputs": [
    {
     "data": {
      "text/html": [
       "\n",
       "<div id=\"altair-viz-703e02e12cb2430c871fb6b24019a171\"></div>\n",
       "<script type=\"text/javascript\">\n",
       "  var VEGA_DEBUG = (typeof VEGA_DEBUG == \"undefined\") ? {} : VEGA_DEBUG;\n",
       "  (function(spec, embedOpt){\n",
       "    let outputDiv = document.currentScript.previousElementSibling;\n",
       "    if (outputDiv.id !== \"altair-viz-703e02e12cb2430c871fb6b24019a171\") {\n",
       "      outputDiv = document.getElementById(\"altair-viz-703e02e12cb2430c871fb6b24019a171\");\n",
       "    }\n",
       "    const paths = {\n",
       "      \"vega\": \"https://cdn.jsdelivr.net/npm//vega@5?noext\",\n",
       "      \"vega-lib\": \"https://cdn.jsdelivr.net/npm//vega-lib?noext\",\n",
       "      \"vega-lite\": \"https://cdn.jsdelivr.net/npm//vega-lite@4.17.0?noext\",\n",
       "      \"vega-embed\": \"https://cdn.jsdelivr.net/npm//vega-embed@6?noext\",\n",
       "    };\n",
       "\n",
       "    function maybeLoadScript(lib, version) {\n",
       "      var key = `${lib.replace(\"-\", \"\")}_version`;\n",
       "      return (VEGA_DEBUG[key] == version) ?\n",
       "        Promise.resolve(paths[lib]) :\n",
       "        new Promise(function(resolve, reject) {\n",
       "          var s = document.createElement('script');\n",
       "          document.getElementsByTagName(\"head\")[0].appendChild(s);\n",
       "          s.async = true;\n",
       "          s.onload = () => {\n",
       "            VEGA_DEBUG[key] = version;\n",
       "            return resolve(paths[lib]);\n",
       "          };\n",
       "          s.onerror = () => reject(`Error loading script: ${paths[lib]}`);\n",
       "          s.src = paths[lib];\n",
       "        });\n",
       "    }\n",
       "\n",
       "    function showError(err) {\n",
       "      outputDiv.innerHTML = `<div class=\"error\" style=\"color:red;\">${err}</div>`;\n",
       "      throw err;\n",
       "    }\n",
       "\n",
       "    function displayChart(vegaEmbed) {\n",
       "      vegaEmbed(outputDiv, spec, embedOpt)\n",
       "        .catch(err => showError(`Javascript Error: ${err.message}<br>This usually means there's a typo in your chart specification. See the javascript console for the full traceback.`));\n",
       "    }\n",
       "\n",
       "    if(typeof define === \"function\" && define.amd) {\n",
       "      requirejs.config({paths});\n",
       "      require([\"vega-embed\"], displayChart, err => showError(`Error loading script: ${err.message}`));\n",
       "    } else {\n",
       "      maybeLoadScript(\"vega\", \"5\")\n",
       "        .then(() => maybeLoadScript(\"vega-lite\", \"4.17.0\"))\n",
       "        .then(() => maybeLoadScript(\"vega-embed\", \"6\"))\n",
       "        .catch(showError)\n",
       "        .then(() => displayChart(vegaEmbed));\n",
       "    }\n",
       "  })({\"config\": {\"view\": {\"continuousWidth\": 400, \"continuousHeight\": 300}}, \"layer\": [{\"data\": {\"name\": \"data-5821e37bcd40058b3de064a1ddf1e4a8\"}, \"mark\": {\"type\": \"text\", \"color\": \"black\", \"dx\": 0, \"dy\": 20}, \"encoding\": {\"text\": {\"field\": \"label\", \"type\": \"nominal\"}, \"x\": {\"axis\": {\"grid\": false, \"labels\": false, \"ticks\": false}, \"field\": \"x\", \"type\": \"quantitative\"}, \"y\": {\"axis\": {\"grid\": false, \"labels\": false, \"ticks\": false}, \"field\": \"y\", \"type\": \"quantitative\"}}, \"selection\": {\"selector003\": {\"type\": \"interval\", \"bind\": \"scales\", \"encodings\": [\"x\", \"y\"]}}}, {\"data\": {\"name\": \"data-387d65e4d04b8f38e5c97c689d6cc62c\"}, \"mark\": {\"type\": \"line\", \"color\": \"black\", \"opacity\": 1.0}, \"encoding\": {\"color\": {\"field\": \"count\", \"legend\": null, \"type\": \"quantitative\"}, \"detail\": {\"field\": \"edge\", \"type\": \"quantitative\"}, \"size\": {\"field\": \"weight\", \"legend\": null, \"type\": \"nominal\"}, \"tooltip\": [{\"field\": \"count\", \"type\": \"quantitative\"}], \"x\": {\"axis\": {\"grid\": false, \"labels\": false, \"ticks\": false, \"title\": \"\"}, \"field\": \"x\", \"type\": \"quantitative\"}, \"y\": {\"axis\": {\"grid\": false, \"labels\": false, \"ticks\": false, \"title\": \"\"}, \"field\": \"y\", \"type\": \"quantitative\"}}}, {\"data\": {\"name\": \"data-5821e37bcd40058b3de064a1ddf1e4a8\"}, \"mark\": \"circle\", \"encoding\": {\"color\": {\"field\": \"count\", \"type\": \"quantitative\"}, \"size\": {\"field\": \"count\", \"scale\": {\"range\": [30, 500]}, \"type\": \"quantitative\"}, \"tooltip\": [{\"field\": \"label\", \"type\": \"nominal\"}, {\"field\": \"count\", \"type\": \"quantitative\"}], \"x\": {\"axis\": {\"grid\": false, \"labels\": false, \"ticks\": false}, \"field\": \"x\", \"type\": \"quantitative\"}, \"y\": {\"axis\": {\"grid\": false, \"labels\": false, \"ticks\": false}, \"field\": \"y\", \"type\": \"quantitative\"}}}], \"height\": 500, \"title\": \"Caution And Advice\", \"width\": 500, \"$schema\": \"https://vega.github.io/schema/vega-lite/v4.17.0.json\", \"datasets\": {\"data-5821e37bcd40058b3de064a1ddf1e4a8\": [{\"count\": 240, \"x\": 0.957983180894078, \"label\": \"HI\", \"y\": 0.06029677550536775}, {\"count\": 418, \"x\": 0.5312101043789432, \"label\": \"Alaska\", \"y\": 0.7994894380609696}, {\"count\": 330, \"x\": -0.2079818739627012, \"label\": \"Honaunau-Napoopoo\", \"y\": 0.3727176617159473}, {\"count\": 128, \"x\": -1.0, \"label\": \"Japan\", \"y\": -4.098091561992778e-06}, {\"count\": 128, \"x\": -0.5000033977057052, \"label\": \"Izu Islands\", \"y\": -0.8660234186596875}, {\"count\": 628, \"x\": 0.2187919863953852, \"label\": \"United States\", \"y\": -0.3664763585310352}], \"data-387d65e4d04b8f38e5c97c689d6cc62c\": [{\"source\": \"HI\", \"edge\": 0, \"target\": \"Alaska\", \"x\": 0.957983180894078, \"pair\": [\"HI\", \"Alaska\"], \"count\": 60, \"y\": 0.06029677550536775}, {\"source\": \"HI\", \"edge\": 0, \"target\": \"Alaska\", \"x\": 0.5312101043789432, \"pair\": [\"HI\", \"Alaska\"], \"count\": 60, \"y\": 0.7994894380609696}, {\"source\": \"HI\", \"edge\": 1, \"target\": \"Honaunau-Napoopoo\", \"x\": 0.957983180894078, \"pair\": [\"HI\", \"Honaunau-Napoopoo\"], \"count\": 60, \"y\": 0.06029677550536775}, {\"source\": \"HI\", \"edge\": 1, \"target\": \"Honaunau-Napoopoo\", \"x\": -0.2079818739627012, \"pair\": [\"HI\", \"Honaunau-Napoopoo\"], \"count\": 60, \"y\": 0.3727176617159473}, {\"source\": \"HI\", \"edge\": 2, \"target\": \"United States\", \"x\": 0.957983180894078, \"pair\": [\"HI\", \"United States\"], \"count\": 120, \"y\": 0.06029677550536775}, {\"source\": \"HI\", \"edge\": 2, \"target\": \"United States\", \"x\": 0.2187919863953852, \"pair\": [\"HI\", \"United States\"], \"count\": 120, \"y\": -0.3664763585310352}, {\"source\": \"Alaska\", \"edge\": 3, \"target\": \"Honaunau-Napoopoo\", \"x\": 0.5312101043789432, \"pair\": [\"Alaska\", \"Honaunau-Napoopoo\"], \"count\": 60, \"y\": 0.7994894380609696}, {\"source\": \"Alaska\", \"edge\": 3, \"target\": \"Honaunau-Napoopoo\", \"x\": -0.2079818739627012, \"pair\": [\"Alaska\", \"Honaunau-Napoopoo\"], \"count\": 60, \"y\": 0.3727176617159473}, {\"source\": \"Alaska\", \"edge\": 4, \"target\": \"United States\", \"x\": 0.5312101043789432, \"pair\": [\"Alaska\", \"United States\"], \"count\": 298, \"y\": 0.7994894380609696}, {\"source\": \"Alaska\", \"edge\": 4, \"target\": \"United States\", \"x\": 0.2187919863953852, \"pair\": [\"Alaska\", \"United States\"], \"count\": 298, \"y\": -0.3664763585310352}, {\"source\": \"Honaunau-Napoopoo\", \"edge\": 5, \"target\": \"United States\", \"x\": -0.2079818739627012, \"pair\": [\"Honaunau-Napoopoo\", \"United States\"], \"count\": 210, \"y\": 0.3727176617159473}, {\"source\": \"Honaunau-Napoopoo\", \"edge\": 5, \"target\": \"United States\", \"x\": 0.2187919863953852, \"pair\": [\"Honaunau-Napoopoo\", \"United States\"], \"count\": 210, \"y\": -0.3664763585310352}, {\"source\": \"Japan\", \"edge\": 6, \"target\": \"Izu Islands\", \"x\": -1.0, \"pair\": [\"Japan\", \"Izu Islands\"], \"count\": 128, \"y\": -4.098091561992778e-06}, {\"source\": \"Japan\", \"edge\": 6, \"target\": \"Izu Islands\", \"x\": -0.5000033977057052, \"pair\": [\"Japan\", \"Izu Islands\"], \"count\": 128, \"y\": -0.8660234186596875}]}}, {\"mode\": \"vega-lite\"});\n",
       "</script>"
      ],
      "text/plain": [
       "alt.LayerChart(...)"
      ]
     },
     "execution_count": 22,
     "metadata": {},
     "output_type": "execute_result"
    }
   ],
   "source": [
    "plot_disaster_mentions(df_loc_graph, 'caution_and_advice', 'Caution And Advice')"
   ]
  },
  {
   "cell_type": "markdown",
   "id": "6508cee5",
   "metadata": {
    "papermill": {
     "duration": 0.185806,
     "end_time": "2022-08-19T20:58:38.133810",
     "exception": false,
     "start_time": "2022-08-19T20:58:37.948004",
     "status": "completed"
    },
    "tags": []
   },
   "source": [
    "### Get the most frequent location pair"
   ]
  },
  {
   "cell_type": "code",
   "execution_count": 23,
   "id": "7b04be48",
   "metadata": {
    "execution": {
     "iopub.execute_input": "2022-08-19T20:58:38.500097Z",
     "iopub.status.busy": "2022-08-19T20:58:38.499764Z",
     "iopub.status.idle": "2022-08-19T20:58:38.505824Z",
     "shell.execute_reply": "2022-08-19T20:58:38.505243Z"
    },
    "papermill": {
     "duration": 0.186171,
     "end_time": "2022-08-19T20:58:38.507740",
     "exception": false,
     "start_time": "2022-08-19T20:58:38.321569",
     "status": "completed"
    },
    "tags": []
   },
   "outputs": [
    {
     "data": {
      "text/plain": [
       "[['United States', 'Alaska']]"
      ]
     },
     "execution_count": 23,
     "metadata": {},
     "output_type": "execute_result"
    }
   ],
   "source": [
    "loc_pairs = top_location_pairs(df_loc_graph, 'caution_and_advice', top_pairs_count=1)\n",
    "loc_pairs"
   ]
  },
  {
   "cell_type": "markdown",
   "id": "cc362a05",
   "metadata": {
    "papermill": {
     "duration": 0.179253,
     "end_time": "2022-08-19T20:58:38.875250",
     "exception": false,
     "start_time": "2022-08-19T20:58:38.695997",
     "status": "completed"
    },
    "tags": []
   },
   "source": [
    "### Show a sample for this location pair"
   ]
  },
  {
   "cell_type": "code",
   "execution_count": 24,
   "id": "2ab1619d",
   "metadata": {
    "execution": {
     "iopub.execute_input": "2022-08-19T20:58:39.257211Z",
     "iopub.status.busy": "2022-08-19T20:58:39.256708Z",
     "iopub.status.idle": "2022-08-19T20:58:39.426312Z",
     "shell.execute_reply": "2022-08-19T20:58:39.425659Z"
    },
    "papermill": {
     "duration": 0.368608,
     "end_time": "2022-08-19T20:58:39.428799",
     "exception": false,
     "start_time": "2022-08-19T20:58:39.060191",
     "status": "completed"
    },
    "tags": []
   },
   "outputs": [
    {
     "data": {
      "text/html": [
       "<div>\n",
       "<style scoped>\n",
       "    .dataframe tbody tr th:only-of-type {\n",
       "        vertical-align: middle;\n",
       "    }\n",
       "\n",
       "    .dataframe tbody tr th {\n",
       "        vertical-align: top;\n",
       "    }\n",
       "\n",
       "    .dataframe thead th {\n",
       "        text-align: right;\n",
       "    }\n",
       "</style>\n",
       "<table border=\"1\" class=\"dataframe\">\n",
       "  <thead>\n",
       "    <tr style=\"text-align: right;\">\n",
       "      <th></th>\n",
       "      <th>tweet_text</th>\n",
       "      <th>location</th>\n",
       "    </tr>\n",
       "  </thead>\n",
       "  <tbody>\n",
       "    <tr>\n",
       "      <th>0</th>\n",
       "      <td>RT @EQAlerts: Moderate magnitude 4.4 #earthquake 21 miles northeast of Dutch Harbor, Alaska, United States - info, user reports and updates…</td>\n",
       "      <td>[Dutch Harbor, Alaska, United States]</td>\n",
       "    </tr>\n",
       "    <tr>\n",
       "      <th>1</th>\n",
       "      <td>RT @EQAlerts: Significant magnitude 5.1 #earthquake 50 miles southeast of Nikolski, Alaska, United States - info, user reports and updates…</td>\n",
       "      <td>[Nikolski, Alaska, United States]</td>\n",
       "    </tr>\n",
       "    <tr>\n",
       "      <th>2</th>\n",
       "      <td>RT @EQAlerts: Moderate magnitude 4.4 #earthquake 21 miles northeast of Dutch Harbor, Alaska, United States - info, user reports and updates…</td>\n",
       "      <td>[Dutch Harbor, Alaska, United States]</td>\n",
       "    </tr>\n",
       "    <tr>\n",
       "      <th>3</th>\n",
       "      <td>RT @EQAlerts: Significant magnitude 5.1 #earthquake 50 miles southeast of Nikolski, Alaska, United States - info, user reports and updates…</td>\n",
       "      <td>[Nikolski, Alaska, United States]</td>\n",
       "    </tr>\n",
       "    <tr>\n",
       "      <th>4</th>\n",
       "      <td>1.9 magnitude #earthquake. 32 km from #Honaunau-Napoopoo, HI, United States https://t.co/M7Ax2Z4Wmt\\n1.8 magnitude #earthquake. 9 km from Truckee, #CA, United States https://t.co/iENGLgtO6N\\n2.9 magnitude #earthquake. 43 km SW of Skwentna, Alaska https://t.co/12AkxeQS9Z\\n.......</td>\n",
       "      <td>[Honaunau-Napoopoo, HI, United States, Truckee, United States, Skwentna, Alaska]</td>\n",
       "    </tr>\n",
       "  </tbody>\n",
       "</table>\n",
       "</div>"
      ],
      "text/plain": [
       "                                                                                                                                                                                                                                                                                tweet_text  \\\n",
       "0                                                                                                                                             RT @EQAlerts: Moderate magnitude 4.4 #earthquake 21 miles northeast of Dutch Harbor, Alaska, United States - info, user reports and updates…   \n",
       "1                                                                                                                                              RT @EQAlerts: Significant magnitude 5.1 #earthquake 50 miles southeast of Nikolski, Alaska, United States - info, user reports and updates…   \n",
       "2                                                                                                                                             RT @EQAlerts: Moderate magnitude 4.4 #earthquake 21 miles northeast of Dutch Harbor, Alaska, United States - info, user reports and updates…   \n",
       "3                                                                                                                                              RT @EQAlerts: Significant magnitude 5.1 #earthquake 50 miles southeast of Nikolski, Alaska, United States - info, user reports and updates…   \n",
       "4  1.9 magnitude #earthquake. 32 km from #Honaunau-Napoopoo, HI, United States https://t.co/M7Ax2Z4Wmt\\n1.8 magnitude #earthquake. 9 km from Truckee, #CA, United States https://t.co/iENGLgtO6N\\n2.9 magnitude #earthquake. 43 km SW of Skwentna, Alaska https://t.co/12AkxeQS9Z\\n.......   \n",
       "\n",
       "                                                                           location  \n",
       "0                                             [Dutch Harbor, Alaska, United States]  \n",
       "1                                                 [Nikolski, Alaska, United States]  \n",
       "2                                             [Dutch Harbor, Alaska, United States]  \n",
       "3                                                 [Nikolski, Alaska, United States]  \n",
       "4  [Honaunau-Napoopoo, HI, United States, Truckee, United States, Skwentna, Alaska]  "
      ]
     },
     "execution_count": 24,
     "metadata": {},
     "output_type": "execute_result"
    }
   ],
   "source": [
    "show_tweets_locations(df_tweets, class_label='caution_and_advice' , locations=loc_pairs[0], sample=5)"
   ]
  },
  {
   "cell_type": "code",
   "execution_count": 25,
   "id": "d52b0d56",
   "metadata": {
    "execution": {
     "iopub.execute_input": "2022-08-19T20:58:39.897972Z",
     "iopub.status.busy": "2022-08-19T20:58:39.897707Z",
     "iopub.status.idle": "2022-08-19T20:58:39.902188Z",
     "shell.execute_reply": "2022-08-19T20:58:39.901671Z"
    },
    "papermill": {
     "duration": 0.274768,
     "end_time": "2022-08-19T20:58:39.903850",
     "exception": false,
     "start_time": "2022-08-19T20:58:39.629082",
     "status": "completed"
    },
    "tags": []
   },
   "outputs": [
    {
     "data": {
      "text/plain": [
       "'No records found for class displaced_people_and_evacuations'"
      ]
     },
     "execution_count": 25,
     "metadata": {},
     "output_type": "execute_result"
    }
   ],
   "source": [
    "plot_disaster_mentions(df_loc_graph, 'displaced_people_and_evacuations', 'Displaced People And Evacuations')"
   ]
  },
  {
   "cell_type": "markdown",
   "id": "c4d2d1a0",
   "metadata": {
    "papermill": {
     "duration": 0.199644,
     "end_time": "2022-08-19T20:58:40.299951",
     "exception": false,
     "start_time": "2022-08-19T20:58:40.100307",
     "status": "completed"
    },
    "tags": []
   },
   "source": [
    "### Get the most frequent location pair"
   ]
  },
  {
   "cell_type": "code",
   "execution_count": 26,
   "id": "f3e0e11b",
   "metadata": {
    "execution": {
     "iopub.execute_input": "2022-08-19T20:58:40.677280Z",
     "iopub.status.busy": "2022-08-19T20:58:40.677007Z",
     "iopub.status.idle": "2022-08-19T20:58:40.681765Z",
     "shell.execute_reply": "2022-08-19T20:58:40.681150Z"
    },
    "papermill": {
     "duration": 0.19058,
     "end_time": "2022-08-19T20:58:40.683826",
     "exception": false,
     "start_time": "2022-08-19T20:58:40.493246",
     "status": "completed"
    },
    "tags": []
   },
   "outputs": [
    {
     "data": {
      "text/plain": [
       "[[]]"
      ]
     },
     "execution_count": 26,
     "metadata": {},
     "output_type": "execute_result"
    }
   ],
   "source": [
    "loc_pairs = top_location_pairs(df_loc_graph, 'displaced_people_and_evacuations', top_pairs_count=1)\n",
    "loc_pairs"
   ]
  },
  {
   "cell_type": "markdown",
   "id": "ce02ce9c",
   "metadata": {
    "papermill": {
     "duration": 0.174498,
     "end_time": "2022-08-19T20:58:41.044698",
     "exception": false,
     "start_time": "2022-08-19T20:58:40.870200",
     "status": "completed"
    },
    "tags": []
   },
   "source": [
    "### Show a sample for this location pair"
   ]
  },
  {
   "cell_type": "code",
   "execution_count": 27,
   "id": "e6b88da8",
   "metadata": {
    "execution": {
     "iopub.execute_input": "2022-08-19T20:58:41.391872Z",
     "iopub.status.busy": "2022-08-19T20:58:41.391601Z",
     "iopub.status.idle": "2022-08-19T20:58:41.396191Z",
     "shell.execute_reply": "2022-08-19T20:58:41.395550Z"
    },
    "papermill": {
     "duration": 0.183326,
     "end_time": "2022-08-19T20:58:41.398402",
     "exception": false,
     "start_time": "2022-08-19T20:58:41.215076",
     "status": "completed"
    },
    "tags": []
   },
   "outputs": [
    {
     "data": {
      "text/plain": [
       "'No location pairs provided'"
      ]
     },
     "execution_count": 27,
     "metadata": {},
     "output_type": "execute_result"
    }
   ],
   "source": [
    "show_tweets_locations(df_tweets, class_label='displaced_people_and_evacuations' , locations=loc_pairs[0], sample=5)"
   ]
  },
  {
   "cell_type": "code",
   "execution_count": 28,
   "id": "cffb9e6b",
   "metadata": {
    "execution": {
     "iopub.execute_input": "2022-08-19T20:58:41.769594Z",
     "iopub.status.busy": "2022-08-19T20:58:41.769304Z",
     "iopub.status.idle": "2022-08-19T20:58:41.890889Z",
     "shell.execute_reply": "2022-08-19T20:58:41.890003Z"
    },
    "papermill": {
     "duration": 0.312391,
     "end_time": "2022-08-19T20:58:41.893268",
     "exception": false,
     "start_time": "2022-08-19T20:58:41.580877",
     "status": "completed"
    },
    "tags": []
   },
   "outputs": [
    {
     "data": {
      "text/html": [
       "\n",
       "<div id=\"altair-viz-670958ff9da44178ac90d2a61c811cf7\"></div>\n",
       "<script type=\"text/javascript\">\n",
       "  var VEGA_DEBUG = (typeof VEGA_DEBUG == \"undefined\") ? {} : VEGA_DEBUG;\n",
       "  (function(spec, embedOpt){\n",
       "    let outputDiv = document.currentScript.previousElementSibling;\n",
       "    if (outputDiv.id !== \"altair-viz-670958ff9da44178ac90d2a61c811cf7\") {\n",
       "      outputDiv = document.getElementById(\"altair-viz-670958ff9da44178ac90d2a61c811cf7\");\n",
       "    }\n",
       "    const paths = {\n",
       "      \"vega\": \"https://cdn.jsdelivr.net/npm//vega@5?noext\",\n",
       "      \"vega-lib\": \"https://cdn.jsdelivr.net/npm//vega-lib?noext\",\n",
       "      \"vega-lite\": \"https://cdn.jsdelivr.net/npm//vega-lite@4.17.0?noext\",\n",
       "      \"vega-embed\": \"https://cdn.jsdelivr.net/npm//vega-embed@6?noext\",\n",
       "    };\n",
       "\n",
       "    function maybeLoadScript(lib, version) {\n",
       "      var key = `${lib.replace(\"-\", \"\")}_version`;\n",
       "      return (VEGA_DEBUG[key] == version) ?\n",
       "        Promise.resolve(paths[lib]) :\n",
       "        new Promise(function(resolve, reject) {\n",
       "          var s = document.createElement('script');\n",
       "          document.getElementsByTagName(\"head\")[0].appendChild(s);\n",
       "          s.async = true;\n",
       "          s.onload = () => {\n",
       "            VEGA_DEBUG[key] = version;\n",
       "            return resolve(paths[lib]);\n",
       "          };\n",
       "          s.onerror = () => reject(`Error loading script: ${paths[lib]}`);\n",
       "          s.src = paths[lib];\n",
       "        });\n",
       "    }\n",
       "\n",
       "    function showError(err) {\n",
       "      outputDiv.innerHTML = `<div class=\"error\" style=\"color:red;\">${err}</div>`;\n",
       "      throw err;\n",
       "    }\n",
       "\n",
       "    function displayChart(vegaEmbed) {\n",
       "      vegaEmbed(outputDiv, spec, embedOpt)\n",
       "        .catch(err => showError(`Javascript Error: ${err.message}<br>This usually means there's a typo in your chart specification. See the javascript console for the full traceback.`));\n",
       "    }\n",
       "\n",
       "    if(typeof define === \"function\" && define.amd) {\n",
       "      requirejs.config({paths});\n",
       "      require([\"vega-embed\"], displayChart, err => showError(`Error loading script: ${err.message}`));\n",
       "    } else {\n",
       "      maybeLoadScript(\"vega\", \"5\")\n",
       "        .then(() => maybeLoadScript(\"vega-lite\", \"4.17.0\"))\n",
       "        .then(() => maybeLoadScript(\"vega-embed\", \"6\"))\n",
       "        .catch(showError)\n",
       "        .then(() => displayChart(vegaEmbed));\n",
       "    }\n",
       "  })({\"config\": {\"view\": {\"continuousWidth\": 400, \"continuousHeight\": 300}}, \"layer\": [{\"data\": {\"name\": \"data-682317d391d626850ed726381c2d9219\"}, \"mark\": {\"type\": \"text\", \"color\": \"black\", \"dx\": 0, \"dy\": 20}, \"encoding\": {\"text\": {\"field\": \"label\", \"type\": \"nominal\"}, \"x\": {\"axis\": {\"grid\": false, \"labels\": false, \"ticks\": false}, \"field\": \"x\", \"type\": \"quantitative\"}, \"y\": {\"axis\": {\"grid\": false, \"labels\": false, \"ticks\": false}, \"field\": \"y\", \"type\": \"quantitative\"}}, \"selection\": {\"selector004\": {\"type\": \"interval\", \"bind\": \"scales\", \"encodings\": [\"x\", \"y\"]}}}, {\"data\": {\"name\": \"data-458bd88fdf50ec657505f6edd012b29d\"}, \"mark\": {\"type\": \"line\", \"color\": \"black\", \"opacity\": 1.0}, \"encoding\": {\"color\": {\"field\": \"count\", \"legend\": null, \"type\": \"quantitative\"}, \"detail\": {\"field\": \"edge\", \"type\": \"quantitative\"}, \"size\": {\"field\": \"weight\", \"legend\": null, \"type\": \"nominal\"}, \"tooltip\": [{\"field\": \"count\", \"type\": \"quantitative\"}], \"x\": {\"axis\": {\"grid\": false, \"labels\": false, \"ticks\": false, \"title\": \"\"}, \"field\": \"x\", \"type\": \"quantitative\"}, \"y\": {\"axis\": {\"grid\": false, \"labels\": false, \"ticks\": false, \"title\": \"\"}, \"field\": \"y\", \"type\": \"quantitative\"}}}, {\"data\": {\"name\": \"data-682317d391d626850ed726381c2d9219\"}, \"mark\": \"circle\", \"encoding\": {\"color\": {\"field\": \"count\", \"type\": \"quantitative\"}, \"size\": {\"field\": \"count\", \"scale\": {\"range\": [30, 500]}, \"type\": \"quantitative\"}, \"tooltip\": [{\"field\": \"label\", \"type\": \"nominal\"}, {\"field\": \"count\", \"type\": \"quantitative\"}], \"x\": {\"axis\": {\"grid\": false, \"labels\": false, \"ticks\": false}, \"field\": \"x\", \"type\": \"quantitative\"}, \"y\": {\"axis\": {\"grid\": false, \"labels\": false, \"ticks\": false}, \"field\": \"y\", \"type\": \"quantitative\"}}}], \"height\": 500, \"title\": \"Injured Or Dead People\", \"width\": 500, \"$schema\": \"https://vega.github.io/schema/vega-lite/v4.17.0.json\", \"datasets\": {\"data-682317d391d626850ed726381c2d9219\": [{\"count\": 8, \"x\": 1.0, \"label\": \"Luzon\", \"y\": 4.3711388286737935e-08}, {\"count\": 8, \"x\": -1.0, \"label\": \"Abra\", \"y\": -4.3711388286737935e-08}], \"data-458bd88fdf50ec657505f6edd012b29d\": [{\"source\": \"Luzon\", \"edge\": 0, \"target\": \"Abra\", \"x\": 1.0, \"pair\": [\"Luzon\", \"Abra\"], \"count\": 8, \"y\": 4.3711388286737935e-08}, {\"source\": \"Luzon\", \"edge\": 0, \"target\": \"Abra\", \"x\": -1.0, \"pair\": [\"Luzon\", \"Abra\"], \"count\": 8, \"y\": -4.3711388286737935e-08}]}}, {\"mode\": \"vega-lite\"});\n",
       "</script>"
      ],
      "text/plain": [
       "alt.LayerChart(...)"
      ]
     },
     "execution_count": 28,
     "metadata": {},
     "output_type": "execute_result"
    }
   ],
   "source": [
    "plot_disaster_mentions(df_loc_graph, 'injured_or_dead_people', 'Injured Or Dead People')"
   ]
  },
  {
   "cell_type": "markdown",
   "id": "d32033c0",
   "metadata": {
    "papermill": {
     "duration": 0.173438,
     "end_time": "2022-08-19T20:58:42.311588",
     "exception": false,
     "start_time": "2022-08-19T20:58:42.138150",
     "status": "completed"
    },
    "tags": []
   },
   "source": [
    "### Get the most frequent location pair"
   ]
  },
  {
   "cell_type": "code",
   "execution_count": 29,
   "id": "091e46d6",
   "metadata": {
    "execution": {
     "iopub.execute_input": "2022-08-19T20:58:42.667351Z",
     "iopub.status.busy": "2022-08-19T20:58:42.667037Z",
     "iopub.status.idle": "2022-08-19T20:58:42.674446Z",
     "shell.execute_reply": "2022-08-19T20:58:42.673289Z"
    },
    "papermill": {
     "duration": 0.19883,
     "end_time": "2022-08-19T20:58:42.677253",
     "exception": false,
     "start_time": "2022-08-19T20:58:42.478423",
     "status": "completed"
    },
    "tags": []
   },
   "outputs": [
    {
     "data": {
      "text/plain": [
       "[['Luzon', 'Abra']]"
      ]
     },
     "execution_count": 29,
     "metadata": {},
     "output_type": "execute_result"
    }
   ],
   "source": [
    "loc_pairs = top_location_pairs(df_loc_graph, 'injured_or_dead_people', top_pairs_count=1)\n",
    "loc_pairs"
   ]
  },
  {
   "cell_type": "markdown",
   "id": "cd2e183d",
   "metadata": {
    "papermill": {
     "duration": 0.195565,
     "end_time": "2022-08-19T20:58:43.078358",
     "exception": false,
     "start_time": "2022-08-19T20:58:42.882793",
     "status": "completed"
    },
    "tags": []
   },
   "source": [
    "### Show a sample for this location pair"
   ]
  },
  {
   "cell_type": "code",
   "execution_count": 30,
   "id": "c3df9861",
   "metadata": {
    "execution": {
     "iopub.execute_input": "2022-08-19T20:58:43.457237Z",
     "iopub.status.busy": "2022-08-19T20:58:43.456973Z",
     "iopub.status.idle": "2022-08-19T20:58:43.509429Z",
     "shell.execute_reply": "2022-08-19T20:58:43.508803Z"
    },
    "papermill": {
     "duration": 0.242393,
     "end_time": "2022-08-19T20:58:43.511346",
     "exception": false,
     "start_time": "2022-08-19T20:58:43.268953",
     "status": "completed"
    },
    "tags": []
   },
   "outputs": [
    {
     "data": {
      "text/html": [
       "<div>\n",
       "<style scoped>\n",
       "    .dataframe tbody tr th:only-of-type {\n",
       "        vertical-align: middle;\n",
       "    }\n",
       "\n",
       "    .dataframe tbody tr th {\n",
       "        vertical-align: top;\n",
       "    }\n",
       "\n",
       "    .dataframe thead th {\n",
       "        text-align: right;\n",
       "    }\n",
       "</style>\n",
       "<table border=\"1\" class=\"dataframe\">\n",
       "  <thead>\n",
       "    <tr style=\"text-align: right;\">\n",
       "      <th></th>\n",
       "      <th>tweet_text</th>\n",
       "      <th>location</th>\n",
       "    </tr>\n",
       "  </thead>\n",
       "  <tbody>\n",
       "    <tr>\n",
       "      <th>0</th>\n",
       "      <td>The 7-magnitude earthquake hit the northern #Philippine provinces of Abra, Luzon, and Metropolitan Manila on July 27. The NDRRMC report says a total of 314,161 people have been affected by the earthquake, with a total of 10 people killed, and 375 others wounded. https://t.co/...</td>\n",
       "      <td>[Philippine, Abra, Luzon]</td>\n",
       "    </tr>\n",
       "    <tr>\n",
       "      <th>1</th>\n",
       "      <td>The 7-magnitude earthquake hit the northern #Philippine provinces of Abra, Luzon, and Metropolitan Manila on July 27. The NDRRMC report says a total of 314,161 people have been affected by the earthquake, with a total of 10 people killed, and 375 others wounded. https://t.co/...</td>\n",
       "      <td>[Philippine, Abra, Luzon]</td>\n",
       "    </tr>\n",
       "    <tr>\n",
       "      <th>2</th>\n",
       "      <td>The 7-magnitude earthquake hit the northern #Philippine provinces of Abra, Luzon, and Metropolitan Manila on July 27. The NDRRMC report says a total of 314,161 people have been affected by the earthquake, with a total of 10 people killed, and 375 others wounded. https://t.co/...</td>\n",
       "      <td>[Philippine, Abra, Luzon]</td>\n",
       "    </tr>\n",
       "    <tr>\n",
       "      <th>3</th>\n",
       "      <td>The 7-magnitude earthquake hit the northern #Philippine provinces of Abra, Luzon, and Metropolitan Manila on July 27. The NDRRMC report says a total of 314,161 people have been affected by the earthquake, with a total of 10 people killed, and 375 others wounded. https://t.co/...</td>\n",
       "      <td>[Philippine, Abra, Luzon]</td>\n",
       "    </tr>\n",
       "    <tr>\n",
       "      <th>4</th>\n",
       "      <td>The 7-magnitude earthquake hit the northern #Philippine provinces of Abra, Luzon, and Metropolitan Manila on July 27. The NDRRMC report says a total of 314,161 people have been affected by the earthquake, with a total of 10 people killed, and 375 others wounded. https://t.co/...</td>\n",
       "      <td>[Philippine, Abra, Luzon]</td>\n",
       "    </tr>\n",
       "  </tbody>\n",
       "</table>\n",
       "</div>"
      ],
      "text/plain": [
       "                                                                                                                                                                                                                                                                                tweet_text  \\\n",
       "0  The 7-magnitude earthquake hit the northern #Philippine provinces of Abra, Luzon, and Metropolitan Manila on July 27. The NDRRMC report says a total of 314,161 people have been affected by the earthquake, with a total of 10 people killed, and 375 others wounded. https://t.co/...   \n",
       "1  The 7-magnitude earthquake hit the northern #Philippine provinces of Abra, Luzon, and Metropolitan Manila on July 27. The NDRRMC report says a total of 314,161 people have been affected by the earthquake, with a total of 10 people killed, and 375 others wounded. https://t.co/...   \n",
       "2  The 7-magnitude earthquake hit the northern #Philippine provinces of Abra, Luzon, and Metropolitan Manila on July 27. The NDRRMC report says a total of 314,161 people have been affected by the earthquake, with a total of 10 people killed, and 375 others wounded. https://t.co/...   \n",
       "3  The 7-magnitude earthquake hit the northern #Philippine provinces of Abra, Luzon, and Metropolitan Manila on July 27. The NDRRMC report says a total of 314,161 people have been affected by the earthquake, with a total of 10 people killed, and 375 others wounded. https://t.co/...   \n",
       "4  The 7-magnitude earthquake hit the northern #Philippine provinces of Abra, Luzon, and Metropolitan Manila on July 27. The NDRRMC report says a total of 314,161 people have been affected by the earthquake, with a total of 10 people killed, and 375 others wounded. https://t.co/...   \n",
       "\n",
       "                    location  \n",
       "0  [Philippine, Abra, Luzon]  \n",
       "1  [Philippine, Abra, Luzon]  \n",
       "2  [Philippine, Abra, Luzon]  \n",
       "3  [Philippine, Abra, Luzon]  \n",
       "4  [Philippine, Abra, Luzon]  "
      ]
     },
     "execution_count": 30,
     "metadata": {},
     "output_type": "execute_result"
    }
   ],
   "source": [
    "show_tweets_locations(df_tweets, class_label='injured_or_dead_people' , locations=loc_pairs[0], sample=5)"
   ]
  },
  {
   "cell_type": "code",
   "execution_count": 31,
   "id": "e660c74e",
   "metadata": {
    "execution": {
     "iopub.execute_input": "2022-08-19T20:58:43.861302Z",
     "iopub.status.busy": "2022-08-19T20:58:43.861035Z",
     "iopub.status.idle": "2022-08-19T20:58:43.985068Z",
     "shell.execute_reply": "2022-08-19T20:58:43.983773Z"
    },
    "papermill": {
     "duration": 0.302748,
     "end_time": "2022-08-19T20:58:43.987881",
     "exception": false,
     "start_time": "2022-08-19T20:58:43.685133",
     "status": "completed"
    },
    "tags": []
   },
   "outputs": [
    {
     "data": {
      "text/html": [
       "\n",
       "<div id=\"altair-viz-4ff0e181c3c242c99e0ed1d4106161b0\"></div>\n",
       "<script type=\"text/javascript\">\n",
       "  var VEGA_DEBUG = (typeof VEGA_DEBUG == \"undefined\") ? {} : VEGA_DEBUG;\n",
       "  (function(spec, embedOpt){\n",
       "    let outputDiv = document.currentScript.previousElementSibling;\n",
       "    if (outputDiv.id !== \"altair-viz-4ff0e181c3c242c99e0ed1d4106161b0\") {\n",
       "      outputDiv = document.getElementById(\"altair-viz-4ff0e181c3c242c99e0ed1d4106161b0\");\n",
       "    }\n",
       "    const paths = {\n",
       "      \"vega\": \"https://cdn.jsdelivr.net/npm//vega@5?noext\",\n",
       "      \"vega-lib\": \"https://cdn.jsdelivr.net/npm//vega-lib?noext\",\n",
       "      \"vega-lite\": \"https://cdn.jsdelivr.net/npm//vega-lite@4.17.0?noext\",\n",
       "      \"vega-embed\": \"https://cdn.jsdelivr.net/npm//vega-embed@6?noext\",\n",
       "    };\n",
       "\n",
       "    function maybeLoadScript(lib, version) {\n",
       "      var key = `${lib.replace(\"-\", \"\")}_version`;\n",
       "      return (VEGA_DEBUG[key] == version) ?\n",
       "        Promise.resolve(paths[lib]) :\n",
       "        new Promise(function(resolve, reject) {\n",
       "          var s = document.createElement('script');\n",
       "          document.getElementsByTagName(\"head\")[0].appendChild(s);\n",
       "          s.async = true;\n",
       "          s.onload = () => {\n",
       "            VEGA_DEBUG[key] = version;\n",
       "            return resolve(paths[lib]);\n",
       "          };\n",
       "          s.onerror = () => reject(`Error loading script: ${paths[lib]}`);\n",
       "          s.src = paths[lib];\n",
       "        });\n",
       "    }\n",
       "\n",
       "    function showError(err) {\n",
       "      outputDiv.innerHTML = `<div class=\"error\" style=\"color:red;\">${err}</div>`;\n",
       "      throw err;\n",
       "    }\n",
       "\n",
       "    function displayChart(vegaEmbed) {\n",
       "      vegaEmbed(outputDiv, spec, embedOpt)\n",
       "        .catch(err => showError(`Javascript Error: ${err.message}<br>This usually means there's a typo in your chart specification. See the javascript console for the full traceback.`));\n",
       "    }\n",
       "\n",
       "    if(typeof define === \"function\" && define.amd) {\n",
       "      requirejs.config({paths});\n",
       "      require([\"vega-embed\"], displayChart, err => showError(`Error loading script: ${err.message}`));\n",
       "    } else {\n",
       "      maybeLoadScript(\"vega\", \"5\")\n",
       "        .then(() => maybeLoadScript(\"vega-lite\", \"4.17.0\"))\n",
       "        .then(() => maybeLoadScript(\"vega-embed\", \"6\"))\n",
       "        .catch(showError)\n",
       "        .then(() => displayChart(vegaEmbed));\n",
       "    }\n",
       "  })({\"config\": {\"view\": {\"continuousWidth\": 400, \"continuousHeight\": 300}}, \"layer\": [{\"data\": {\"name\": \"data-cf431b42184cc2f4d940b15ffc0b672a\"}, \"mark\": {\"type\": \"text\", \"color\": \"black\", \"dx\": 0, \"dy\": 20}, \"encoding\": {\"text\": {\"field\": \"label\", \"type\": \"nominal\"}, \"x\": {\"axis\": {\"grid\": false, \"labels\": false, \"ticks\": false}, \"field\": \"x\", \"type\": \"quantitative\"}, \"y\": {\"axis\": {\"grid\": false, \"labels\": false, \"ticks\": false}, \"field\": \"y\", \"type\": \"quantitative\"}}, \"selection\": {\"selector005\": {\"type\": \"interval\", \"bind\": \"scales\", \"encodings\": [\"x\", \"y\"]}}}, {\"data\": {\"name\": \"data-34a92745a105e990b8cba8c1438a4a11\"}, \"mark\": {\"type\": \"line\", \"color\": \"black\", \"opacity\": 1.0}, \"encoding\": {\"color\": {\"field\": \"count\", \"legend\": null, \"type\": \"quantitative\"}, \"detail\": {\"field\": \"edge\", \"type\": \"quantitative\"}, \"size\": {\"field\": \"weight\", \"legend\": null, \"type\": \"nominal\"}, \"tooltip\": [{\"field\": \"count\", \"type\": \"quantitative\"}], \"x\": {\"axis\": {\"grid\": false, \"labels\": false, \"ticks\": false, \"title\": \"\"}, \"field\": \"x\", \"type\": \"quantitative\"}, \"y\": {\"axis\": {\"grid\": false, \"labels\": false, \"ticks\": false, \"title\": \"\"}, \"field\": \"y\", \"type\": \"quantitative\"}}}, {\"data\": {\"name\": \"data-cf431b42184cc2f4d940b15ffc0b672a\"}, \"mark\": \"circle\", \"encoding\": {\"color\": {\"field\": \"count\", \"type\": \"quantitative\"}, \"size\": {\"field\": \"count\", \"scale\": {\"range\": [30, 500]}, \"type\": \"quantitative\"}, \"tooltip\": [{\"field\": \"label\", \"type\": \"nominal\"}, {\"field\": \"count\", \"type\": \"quantitative\"}], \"x\": {\"axis\": {\"grid\": false, \"labels\": false, \"ticks\": false}, \"field\": \"x\", \"type\": \"quantitative\"}, \"y\": {\"axis\": {\"grid\": false, \"labels\": false, \"ticks\": false}, \"field\": \"y\", \"type\": \"quantitative\"}}}], \"height\": 500, \"title\": \"Rescue Volunteering Or Donation Effort\", \"width\": 500, \"$schema\": \"https://vega.github.io/schema/vega-lite/v4.17.0.json\", \"datasets\": {\"data-cf431b42184cc2f4d940b15ffc0b672a\": [{\"count\": 117, \"x\": 0.999965772142622, \"label\": \"Ilocos Sur\", \"y\": 0.9936685668553749}, {\"count\": 131, \"x\": 0.3291354389511933, \"label\": \"Abra\", \"y\": 0.335438274673241}, {\"count\": 99, \"x\": -0.3354433449196156, \"label\": \"Luzon\", \"y\": -0.32910684152861625}, {\"count\": 85, \"x\": -0.9936578661741997, \"label\": \"Japan\", \"y\": -1.0}], \"data-34a92745a105e990b8cba8c1438a4a11\": [{\"source\": \"Ilocos Sur\", \"edge\": 0, \"target\": \"Abra\", \"x\": 0.999965772142622, \"pair\": [\"Ilocos Sur\", \"Abra\"], \"count\": 117, \"y\": 0.9936685668553749}, {\"source\": \"Ilocos Sur\", \"edge\": 0, \"target\": \"Abra\", \"x\": 0.3291354389511933, \"pair\": [\"Ilocos Sur\", \"Abra\"], \"count\": 117, \"y\": 0.335438274673241}, {\"source\": \"Abra\", \"edge\": 1, \"target\": \"Luzon\", \"x\": 0.3291354389511933, \"pair\": [\"Abra\", \"Luzon\"], \"count\": 14, \"y\": 0.335438274673241}, {\"source\": \"Abra\", \"edge\": 1, \"target\": \"Luzon\", \"x\": -0.3354433449196156, \"pair\": [\"Abra\", \"Luzon\"], \"count\": 14, \"y\": -0.32910684152861625}, {\"source\": \"Luzon\", \"edge\": 2, \"target\": \"Japan\", \"x\": -0.3354433449196156, \"pair\": [\"Luzon\", \"Japan\"], \"count\": 85, \"y\": -0.32910684152861625}, {\"source\": \"Luzon\", \"edge\": 2, \"target\": \"Japan\", \"x\": -0.9936578661741997, \"pair\": [\"Luzon\", \"Japan\"], \"count\": 85, \"y\": -1.0}]}}, {\"mode\": \"vega-lite\"});\n",
       "</script>"
      ],
      "text/plain": [
       "alt.LayerChart(...)"
      ]
     },
     "execution_count": 31,
     "metadata": {},
     "output_type": "execute_result"
    }
   ],
   "source": [
    "plot_disaster_mentions(df_loc_graph, 'rescue_volunteering_or_donation_effort',\n",
    "                       'Rescue Volunteering Or Donation Effort')"
   ]
  },
  {
   "cell_type": "markdown",
   "id": "c4a9a17c",
   "metadata": {
    "papermill": {
     "duration": 0.207387,
     "end_time": "2022-08-19T20:58:44.368160",
     "exception": false,
     "start_time": "2022-08-19T20:58:44.160773",
     "status": "completed"
    },
    "tags": []
   },
   "source": [
    "### Get the most frequent location pair"
   ]
  },
  {
   "cell_type": "code",
   "execution_count": 32,
   "id": "9697f31c",
   "metadata": {
    "execution": {
     "iopub.execute_input": "2022-08-19T20:58:44.808985Z",
     "iopub.status.busy": "2022-08-19T20:58:44.808721Z",
     "iopub.status.idle": "2022-08-19T20:58:44.814214Z",
     "shell.execute_reply": "2022-08-19T20:58:44.813755Z"
    },
    "papermill": {
     "duration": 0.189163,
     "end_time": "2022-08-19T20:58:44.815971",
     "exception": false,
     "start_time": "2022-08-19T20:58:44.626808",
     "status": "completed"
    },
    "tags": []
   },
   "outputs": [
    {
     "data": {
      "text/plain": [
       "[['Ilocos Sur', 'Abra']]"
      ]
     },
     "execution_count": 32,
     "metadata": {},
     "output_type": "execute_result"
    }
   ],
   "source": [
    "loc_pairs = top_location_pairs(df_loc_graph, 'rescue_volunteering_or_donation_effort', top_pairs_count=1)\n",
    "loc_pairs"
   ]
  },
  {
   "cell_type": "markdown",
   "id": "601e45dd",
   "metadata": {
    "papermill": {
     "duration": 0.176819,
     "end_time": "2022-08-19T20:58:45.170498",
     "exception": false,
     "start_time": "2022-08-19T20:58:44.993679",
     "status": "completed"
    },
    "tags": []
   },
   "source": [
    "### Show a sample for this location pair"
   ]
  },
  {
   "cell_type": "code",
   "execution_count": 33,
   "id": "925b64c4",
   "metadata": {
    "execution": {
     "iopub.execute_input": "2022-08-19T20:58:45.517187Z",
     "iopub.status.busy": "2022-08-19T20:58:45.516480Z",
     "iopub.status.idle": "2022-08-19T20:58:45.655287Z",
     "shell.execute_reply": "2022-08-19T20:58:45.654567Z"
    },
    "papermill": {
     "duration": 0.318087,
     "end_time": "2022-08-19T20:58:45.657267",
     "exception": false,
     "start_time": "2022-08-19T20:58:45.339180",
     "status": "completed"
    },
    "tags": []
   },
   "outputs": [
    {
     "data": {
      "text/html": [
       "<div>\n",
       "<style scoped>\n",
       "    .dataframe tbody tr th:only-of-type {\n",
       "        vertical-align: middle;\n",
       "    }\n",
       "\n",
       "    .dataframe tbody tr th {\n",
       "        vertical-align: top;\n",
       "    }\n",
       "\n",
       "    .dataframe thead th {\n",
       "        text-align: right;\n",
       "    }\n",
       "</style>\n",
       "<table border=\"1\" class=\"dataframe\">\n",
       "  <thead>\n",
       "    <tr style=\"text-align: right;\">\n",
       "      <th></th>\n",
       "      <th>tweet_text</th>\n",
       "      <th>location</th>\n",
       "    </tr>\n",
       "  </thead>\n",
       "  <tbody>\n",
       "    <tr>\n",
       "      <th>0</th>\n",
       "      <td>RT @manilabulletin: The Philippine Red Cross (PRC) has distributed 201,427 liters of water to 2,212 families in Abra and Ilocos Sur to aid…</td>\n",
       "      <td>[Abra, Ilocos Sur]</td>\n",
       "    </tr>\n",
       "    <tr>\n",
       "      <th>1</th>\n",
       "      <td>The Philippine Red Cross (PRC) has distributed 201,427 liters of water to 2,212 families in Abra and Ilocos Sur to aid the communities’ need for adequate water supply after a magnitude 7.0 earthquake hit Abra on July 27.\\n\\nhttps://t.co/RO8BA54LZX</td>\n",
       "      <td>[Philippine Red Cross, Abra, Ilocos Sur]</td>\n",
       "    </tr>\n",
       "    <tr>\n",
       "      <th>2</th>\n",
       "      <td>RT @manilabulletin: The Philippine Red Cross (PRC) has distributed 201,427 liters of water to 2,212 families in Abra and Ilocos Sur to aid…</td>\n",
       "      <td>[Abra, Ilocos Sur]</td>\n",
       "    </tr>\n",
       "    <tr>\n",
       "      <th>3</th>\n",
       "      <td>RT @manilabulletin: The Philippine Red Cross (PRC) has distributed 201,427 liters of water to 2,212 families in Abra and Ilocos Sur to aid…</td>\n",
       "      <td>[Abra, Ilocos Sur]</td>\n",
       "    </tr>\n",
       "    <tr>\n",
       "      <th>4</th>\n",
       "      <td>The Philippine Red Cross (PRC) has distributed 201,427 liters of water to 2,212 families in Abra and Ilocos Sur to aid the communities’ need for adequate water supply after a magnitude 7.0 earthquake hit Abra on July 27.\\nhttps://t.co/XWpxClbDKA</td>\n",
       "      <td>[Philippine Red Cross, Abra, Ilocos Sur]</td>\n",
       "    </tr>\n",
       "  </tbody>\n",
       "</table>\n",
       "</div>"
      ],
      "text/plain": [
       "                                                                                                                                                                                                                                                tweet_text  \\\n",
       "0                                                                                                              RT @manilabulletin: The Philippine Red Cross (PRC) has distributed 201,427 liters of water to 2,212 families in Abra and Ilocos Sur to aid…   \n",
       "1  The Philippine Red Cross (PRC) has distributed 201,427 liters of water to 2,212 families in Abra and Ilocos Sur to aid the communities’ need for adequate water supply after a magnitude 7.0 earthquake hit Abra on July 27.\\n\\nhttps://t.co/RO8BA54LZX   \n",
       "2                                                                                                              RT @manilabulletin: The Philippine Red Cross (PRC) has distributed 201,427 liters of water to 2,212 families in Abra and Ilocos Sur to aid…   \n",
       "3                                                                                                              RT @manilabulletin: The Philippine Red Cross (PRC) has distributed 201,427 liters of water to 2,212 families in Abra and Ilocos Sur to aid…   \n",
       "4    The Philippine Red Cross (PRC) has distributed 201,427 liters of water to 2,212 families in Abra and Ilocos Sur to aid the communities’ need for adequate water supply after a magnitude 7.0 earthquake hit Abra on July 27.\\nhttps://t.co/XWpxClbDKA   \n",
       "\n",
       "                                   location  \n",
       "0                        [Abra, Ilocos Sur]  \n",
       "1  [Philippine Red Cross, Abra, Ilocos Sur]  \n",
       "2                        [Abra, Ilocos Sur]  \n",
       "3                        [Abra, Ilocos Sur]  \n",
       "4  [Philippine Red Cross, Abra, Ilocos Sur]  "
      ]
     },
     "execution_count": 33,
     "metadata": {},
     "output_type": "execute_result"
    }
   ],
   "source": [
    "show_tweets_locations(df_tweets, class_label='rescue_volunteering_or_donation_effort',\n",
    "                      locations=loc_pairs[0], sample=5)"
   ]
  },
  {
   "cell_type": "code",
   "execution_count": 34,
   "id": "48c825ae",
   "metadata": {
    "execution": {
     "iopub.execute_input": "2022-08-19T20:58:46.106751Z",
     "iopub.status.busy": "2022-08-19T20:58:46.106447Z",
     "iopub.status.idle": "2022-08-19T20:58:46.111301Z",
     "shell.execute_reply": "2022-08-19T20:58:46.110733Z"
    },
    "papermill": {
     "duration": 0.221101,
     "end_time": "2022-08-19T20:58:46.113837",
     "exception": false,
     "start_time": "2022-08-19T20:58:45.892736",
     "status": "completed"
    },
    "tags": []
   },
   "outputs": [
    {
     "data": {
      "text/plain": [
       "'No records found for class requests_or_urgent_needs'"
      ]
     },
     "execution_count": 34,
     "metadata": {},
     "output_type": "execute_result"
    }
   ],
   "source": [
    "plot_disaster_mentions(df_loc_graph, 'requests_or_urgent_needs',\n",
    "                       'requests_or_urgent_needs')"
   ]
  },
  {
   "cell_type": "markdown",
   "id": "5ae8be5d",
   "metadata": {
    "papermill": {
     "duration": 0.202861,
     "end_time": "2022-08-19T20:58:46.561537",
     "exception": false,
     "start_time": "2022-08-19T20:58:46.358676",
     "status": "completed"
    },
    "tags": []
   },
   "source": [
    "### Get the most frequent location pair"
   ]
  },
  {
   "cell_type": "code",
   "execution_count": 35,
   "id": "89284e53",
   "metadata": {
    "execution": {
     "iopub.execute_input": "2022-08-19T20:58:47.034071Z",
     "iopub.status.busy": "2022-08-19T20:58:47.033756Z",
     "iopub.status.idle": "2022-08-19T20:58:47.039083Z",
     "shell.execute_reply": "2022-08-19T20:58:47.038369Z"
    },
    "papermill": {
     "duration": 0.242478,
     "end_time": "2022-08-19T20:58:47.041505",
     "exception": false,
     "start_time": "2022-08-19T20:58:46.799027",
     "status": "completed"
    },
    "tags": []
   },
   "outputs": [
    {
     "data": {
      "text/plain": [
       "[[]]"
      ]
     },
     "execution_count": 35,
     "metadata": {},
     "output_type": "execute_result"
    }
   ],
   "source": [
    "loc_pairs = top_location_pairs(df_loc_graph, 'requests_or_urgent_needs', top_pairs_count=1)\n",
    "loc_pairs"
   ]
  },
  {
   "cell_type": "markdown",
   "id": "ca6fe77e",
   "metadata": {
    "papermill": {
     "duration": 0.219473,
     "end_time": "2022-08-19T20:58:47.562908",
     "exception": false,
     "start_time": "2022-08-19T20:58:47.343435",
     "status": "completed"
    },
    "tags": []
   },
   "source": [
    "### Show a sample for this location pair"
   ]
  },
  {
   "cell_type": "code",
   "execution_count": 36,
   "id": "5969212b",
   "metadata": {
    "execution": {
     "iopub.execute_input": "2022-08-19T20:58:48.094594Z",
     "iopub.status.busy": "2022-08-19T20:58:48.094239Z",
     "iopub.status.idle": "2022-08-19T20:58:48.099328Z",
     "shell.execute_reply": "2022-08-19T20:58:48.098534Z"
    },
    "papermill": {
     "duration": 0.242722,
     "end_time": "2022-08-19T20:58:48.101224",
     "exception": false,
     "start_time": "2022-08-19T20:58:47.858502",
     "status": "completed"
    },
    "tags": []
   },
   "outputs": [
    {
     "data": {
      "text/plain": [
       "'No location pairs provided'"
      ]
     },
     "execution_count": 36,
     "metadata": {},
     "output_type": "execute_result"
    }
   ],
   "source": [
    "show_tweets_locations(df_tweets, class_label='requests_or_urgent_needs',\n",
    "                      locations=loc_pairs[0], sample=5)"
   ]
  },
  {
   "cell_type": "code",
   "execution_count": 37,
   "id": "c26b7e96",
   "metadata": {
    "execution": {
     "iopub.execute_input": "2022-08-19T20:58:48.598014Z",
     "iopub.status.busy": "2022-08-19T20:58:48.597614Z",
     "iopub.status.idle": "2022-08-19T20:58:48.792114Z",
     "shell.execute_reply": "2022-08-19T20:58:48.791294Z"
    },
    "papermill": {
     "duration": 0.463923,
     "end_time": "2022-08-19T20:58:48.794856",
     "exception": false,
     "start_time": "2022-08-19T20:58:48.330933",
     "status": "completed"
    },
    "tags": []
   },
   "outputs": [
    {
     "data": {
      "text/html": [
       "\n",
       "<div id=\"altair-viz-532966432941463da8cb046eb00927bc\"></div>\n",
       "<script type=\"text/javascript\">\n",
       "  var VEGA_DEBUG = (typeof VEGA_DEBUG == \"undefined\") ? {} : VEGA_DEBUG;\n",
       "  (function(spec, embedOpt){\n",
       "    let outputDiv = document.currentScript.previousElementSibling;\n",
       "    if (outputDiv.id !== \"altair-viz-532966432941463da8cb046eb00927bc\") {\n",
       "      outputDiv = document.getElementById(\"altair-viz-532966432941463da8cb046eb00927bc\");\n",
       "    }\n",
       "    const paths = {\n",
       "      \"vega\": \"https://cdn.jsdelivr.net/npm//vega@5?noext\",\n",
       "      \"vega-lib\": \"https://cdn.jsdelivr.net/npm//vega-lib?noext\",\n",
       "      \"vega-lite\": \"https://cdn.jsdelivr.net/npm//vega-lite@4.17.0?noext\",\n",
       "      \"vega-embed\": \"https://cdn.jsdelivr.net/npm//vega-embed@6?noext\",\n",
       "    };\n",
       "\n",
       "    function maybeLoadScript(lib, version) {\n",
       "      var key = `${lib.replace(\"-\", \"\")}_version`;\n",
       "      return (VEGA_DEBUG[key] == version) ?\n",
       "        Promise.resolve(paths[lib]) :\n",
       "        new Promise(function(resolve, reject) {\n",
       "          var s = document.createElement('script');\n",
       "          document.getElementsByTagName(\"head\")[0].appendChild(s);\n",
       "          s.async = true;\n",
       "          s.onload = () => {\n",
       "            VEGA_DEBUG[key] = version;\n",
       "            return resolve(paths[lib]);\n",
       "          };\n",
       "          s.onerror = () => reject(`Error loading script: ${paths[lib]}`);\n",
       "          s.src = paths[lib];\n",
       "        });\n",
       "    }\n",
       "\n",
       "    function showError(err) {\n",
       "      outputDiv.innerHTML = `<div class=\"error\" style=\"color:red;\">${err}</div>`;\n",
       "      throw err;\n",
       "    }\n",
       "\n",
       "    function displayChart(vegaEmbed) {\n",
       "      vegaEmbed(outputDiv, spec, embedOpt)\n",
       "        .catch(err => showError(`Javascript Error: ${err.message}<br>This usually means there's a typo in your chart specification. See the javascript console for the full traceback.`));\n",
       "    }\n",
       "\n",
       "    if(typeof define === \"function\" && define.amd) {\n",
       "      requirejs.config({paths});\n",
       "      require([\"vega-embed\"], displayChart, err => showError(`Error loading script: ${err.message}`));\n",
       "    } else {\n",
       "      maybeLoadScript(\"vega\", \"5\")\n",
       "        .then(() => maybeLoadScript(\"vega-lite\", \"4.17.0\"))\n",
       "        .then(() => maybeLoadScript(\"vega-embed\", \"6\"))\n",
       "        .catch(showError)\n",
       "        .then(() => displayChart(vegaEmbed));\n",
       "    }\n",
       "  })({\"config\": {\"view\": {\"continuousWidth\": 400, \"continuousHeight\": 300}}, \"layer\": [{\"data\": {\"name\": \"data-1bbdc00709693ccf33e0a28a5ac8fc1b\"}, \"mark\": {\"type\": \"text\", \"color\": \"black\", \"dx\": 0, \"dy\": 20}, \"encoding\": {\"text\": {\"field\": \"label\", \"type\": \"nominal\"}, \"x\": {\"axis\": {\"grid\": false, \"labels\": false, \"ticks\": false}, \"field\": \"x\", \"type\": \"quantitative\"}, \"y\": {\"axis\": {\"grid\": false, \"labels\": false, \"ticks\": false}, \"field\": \"y\", \"type\": \"quantitative\"}}, \"selection\": {\"selector006\": {\"type\": \"interval\", \"bind\": \"scales\", \"encodings\": [\"x\", \"y\"]}}}, {\"data\": {\"name\": \"data-92020f26714af2d1e43c563fe14979d8\"}, \"mark\": {\"type\": \"line\", \"color\": \"black\", \"opacity\": 1.0}, \"encoding\": {\"color\": {\"field\": \"count\", \"legend\": null, \"type\": \"quantitative\"}, \"detail\": {\"field\": \"edge\", \"type\": \"quantitative\"}, \"size\": {\"field\": \"weight\", \"legend\": null, \"type\": \"nominal\"}, \"tooltip\": [{\"field\": \"count\", \"type\": \"quantitative\"}], \"x\": {\"axis\": {\"grid\": false, \"labels\": false, \"ticks\": false, \"title\": \"\"}, \"field\": \"x\", \"type\": \"quantitative\"}, \"y\": {\"axis\": {\"grid\": false, \"labels\": false, \"ticks\": false, \"title\": \"\"}, \"field\": \"y\", \"type\": \"quantitative\"}}}, {\"data\": {\"name\": \"data-1bbdc00709693ccf33e0a28a5ac8fc1b\"}, \"mark\": \"circle\", \"encoding\": {\"color\": {\"field\": \"count\", \"type\": \"quantitative\"}, \"size\": {\"field\": \"count\", \"scale\": {\"range\": [30, 500]}, \"type\": \"quantitative\"}, \"tooltip\": [{\"field\": \"label\", \"type\": \"nominal\"}, {\"field\": \"count\", \"type\": \"quantitative\"}], \"x\": {\"axis\": {\"grid\": false, \"labels\": false, \"ticks\": false}, \"field\": \"x\", \"type\": \"quantitative\"}, \"y\": {\"axis\": {\"grid\": false, \"labels\": false, \"ticks\": false}, \"field\": \"y\", \"type\": \"quantitative\"}}}], \"height\": 500, \"title\": \"sympathy_and_support\", \"width\": 500, \"$schema\": \"https://vega.github.io/schema/vega-lite/v4.17.0.json\", \"datasets\": {\"data-1bbdc00709693ccf33e0a28a5ac8fc1b\": [{\"count\": 8, \"x\": 1.0, \"label\": \"Nepal\", \"y\": 4.3711388286737935e-08}, {\"count\": 8, \"x\": -1.0, \"label\": \"Balochistan\", \"y\": -4.3711388286737935e-08}], \"data-92020f26714af2d1e43c563fe14979d8\": [{\"source\": \"Nepal\", \"edge\": 0, \"target\": \"Balochistan\", \"x\": 1.0, \"pair\": [\"Nepal\", \"Balochistan\"], \"count\": 8, \"y\": 4.3711388286737935e-08}, {\"source\": \"Nepal\", \"edge\": 0, \"target\": \"Balochistan\", \"x\": -1.0, \"pair\": [\"Nepal\", \"Balochistan\"], \"count\": 8, \"y\": -4.3711388286737935e-08}]}}, {\"mode\": \"vega-lite\"});\n",
       "</script>"
      ],
      "text/plain": [
       "alt.LayerChart(...)"
      ]
     },
     "execution_count": 37,
     "metadata": {},
     "output_type": "execute_result"
    }
   ],
   "source": [
    "plot_disaster_mentions(df_loc_graph, 'sympathy_and_support',\n",
    "                       'sympathy_and_support')"
   ]
  },
  {
   "cell_type": "markdown",
   "id": "bea9b448",
   "metadata": {
    "papermill": {
     "duration": 0.246399,
     "end_time": "2022-08-19T20:58:49.294906",
     "exception": false,
     "start_time": "2022-08-19T20:58:49.048507",
     "status": "completed"
    },
    "tags": []
   },
   "source": [
    "### Get the most frequent location pair"
   ]
  },
  {
   "cell_type": "code",
   "execution_count": 38,
   "id": "756abd5c",
   "metadata": {
    "execution": {
     "iopub.execute_input": "2022-08-19T20:58:49.682947Z",
     "iopub.status.busy": "2022-08-19T20:58:49.682574Z",
     "iopub.status.idle": "2022-08-19T20:58:49.689828Z",
     "shell.execute_reply": "2022-08-19T20:58:49.689014Z"
    },
    "papermill": {
     "duration": 0.199479,
     "end_time": "2022-08-19T20:58:49.692321",
     "exception": false,
     "start_time": "2022-08-19T20:58:49.492842",
     "status": "completed"
    },
    "tags": []
   },
   "outputs": [
    {
     "data": {
      "text/plain": [
       "[['Nepal', 'Balochistan']]"
      ]
     },
     "execution_count": 38,
     "metadata": {},
     "output_type": "execute_result"
    }
   ],
   "source": [
    "loc_pairs = top_location_pairs(df_loc_graph, 'sympathy_and_support', top_pairs_count=1)\n",
    "loc_pairs"
   ]
  },
  {
   "cell_type": "markdown",
   "id": "dbe36c81",
   "metadata": {
    "papermill": {
     "duration": 0.2664,
     "end_time": "2022-08-19T20:58:50.140239",
     "exception": false,
     "start_time": "2022-08-19T20:58:49.873839",
     "status": "completed"
    },
    "tags": []
   },
   "source": [
    "### Show a sample for this location pair"
   ]
  },
  {
   "cell_type": "code",
   "execution_count": 39,
   "id": "d7e8e6f7",
   "metadata": {
    "execution": {
     "iopub.execute_input": "2022-08-19T20:58:50.529594Z",
     "iopub.status.busy": "2022-08-19T20:58:50.529283Z",
     "iopub.status.idle": "2022-08-19T20:58:50.573971Z",
     "shell.execute_reply": "2022-08-19T20:58:50.573306Z"
    },
    "papermill": {
     "duration": 0.241124,
     "end_time": "2022-08-19T20:58:50.576014",
     "exception": false,
     "start_time": "2022-08-19T20:58:50.334890",
     "status": "completed"
    },
    "tags": []
   },
   "outputs": [
    {
     "data": {
      "text/html": [
       "<div>\n",
       "<style scoped>\n",
       "    .dataframe tbody tr th:only-of-type {\n",
       "        vertical-align: middle;\n",
       "    }\n",
       "\n",
       "    .dataframe tbody tr th {\n",
       "        vertical-align: top;\n",
       "    }\n",
       "\n",
       "    .dataframe thead th {\n",
       "        text-align: right;\n",
       "    }\n",
       "</style>\n",
       "<table border=\"1\" class=\"dataframe\">\n",
       "  <thead>\n",
       "    <tr style=\"text-align: right;\">\n",
       "      <th></th>\n",
       "      <th>tweet_text</th>\n",
       "      <th>location</th>\n",
       "    </tr>\n",
       "  </thead>\n",
       "  <tbody>\n",
       "    <tr>\n",
       "      <th>0</th>\n",
       "      <td>5.6 Magnitude earthquake jolts coastal parts of Balochistan...!! \\nMay Allah protect our country! Ameen..\\n#earthquake #Balochistan #Nepal https://t.co/Sgv0JaAwaZ</td>\n",
       "      <td>[Balochistan, Nepal]</td>\n",
       "    </tr>\n",
       "    <tr>\n",
       "      <th>1</th>\n",
       "      <td>5.6 Magnitude earthquake jolts coastal parts of Balochistan...!! \\nMay Allah protect our country! Ameen..\\n#earthquake #Balochistan #Nepal https://t.co/Sgv0JaAwaZ</td>\n",
       "      <td>[Balochistan, Nepal]</td>\n",
       "    </tr>\n",
       "    <tr>\n",
       "      <th>2</th>\n",
       "      <td>5.6 Magnitude earthquake jolts coastal parts of Balochistan...!! \\nMay Allah protect our country! Ameen..\\n#earthquake #Balochistan #Nepal https://t.co/Sgv0JaAwaZ</td>\n",
       "      <td>[Balochistan, Nepal]</td>\n",
       "    </tr>\n",
       "    <tr>\n",
       "      <th>3</th>\n",
       "      <td>5.6 Magnitude earthquake jolts coastal parts of Balochistan...!! \\nMay Allah protect our country! Ameen..\\n#earthquake #Balochistan #Nepal https://t.co/Sgv0JaAwaZ</td>\n",
       "      <td>[Balochistan, Nepal]</td>\n",
       "    </tr>\n",
       "    <tr>\n",
       "      <th>4</th>\n",
       "      <td>5.6 Magnitude earthquake jolts coastal parts of Balochistan...!! \\nMay Allah protect our country! Ameen..\\n#earthquake #Balochistan #Nepal https://t.co/Sgv0JaAwaZ</td>\n",
       "      <td>[Balochistan, Nepal]</td>\n",
       "    </tr>\n",
       "  </tbody>\n",
       "</table>\n",
       "</div>"
      ],
      "text/plain": [
       "                                                                                                                                                           tweet_text  \\\n",
       "0  5.6 Magnitude earthquake jolts coastal parts of Balochistan...!! \\nMay Allah protect our country! Ameen..\\n#earthquake #Balochistan #Nepal https://t.co/Sgv0JaAwaZ   \n",
       "1  5.6 Magnitude earthquake jolts coastal parts of Balochistan...!! \\nMay Allah protect our country! Ameen..\\n#earthquake #Balochistan #Nepal https://t.co/Sgv0JaAwaZ   \n",
       "2  5.6 Magnitude earthquake jolts coastal parts of Balochistan...!! \\nMay Allah protect our country! Ameen..\\n#earthquake #Balochistan #Nepal https://t.co/Sgv0JaAwaZ   \n",
       "3  5.6 Magnitude earthquake jolts coastal parts of Balochistan...!! \\nMay Allah protect our country! Ameen..\\n#earthquake #Balochistan #Nepal https://t.co/Sgv0JaAwaZ   \n",
       "4  5.6 Magnitude earthquake jolts coastal parts of Balochistan...!! \\nMay Allah protect our country! Ameen..\\n#earthquake #Balochistan #Nepal https://t.co/Sgv0JaAwaZ   \n",
       "\n",
       "               location  \n",
       "0  [Balochistan, Nepal]  \n",
       "1  [Balochistan, Nepal]  \n",
       "2  [Balochistan, Nepal]  \n",
       "3  [Balochistan, Nepal]  \n",
       "4  [Balochistan, Nepal]  "
      ]
     },
     "execution_count": 39,
     "metadata": {},
     "output_type": "execute_result"
    }
   ],
   "source": [
    "show_tweets_locations(df_tweets, class_label='sympathy_and_support',\n",
    "                      locations=loc_pairs[0], sample=5)"
   ]
  },
  {
   "cell_type": "code",
   "execution_count": 40,
   "id": "be385345",
   "metadata": {
    "execution": {
     "iopub.execute_input": "2022-08-19T20:58:50.945015Z",
     "iopub.status.busy": "2022-08-19T20:58:50.944627Z",
     "iopub.status.idle": "2022-08-19T20:58:51.071424Z",
     "shell.execute_reply": "2022-08-19T20:58:51.070802Z"
    },
    "papermill": {
     "duration": 0.303644,
     "end_time": "2022-08-19T20:58:51.073453",
     "exception": false,
     "start_time": "2022-08-19T20:58:50.769809",
     "status": "completed"
    },
    "tags": []
   },
   "outputs": [
    {
     "data": {
      "text/html": [
       "\n",
       "<div id=\"altair-viz-1911d0ce8332454ba944dfb51a5d6d5f\"></div>\n",
       "<script type=\"text/javascript\">\n",
       "  var VEGA_DEBUG = (typeof VEGA_DEBUG == \"undefined\") ? {} : VEGA_DEBUG;\n",
       "  (function(spec, embedOpt){\n",
       "    let outputDiv = document.currentScript.previousElementSibling;\n",
       "    if (outputDiv.id !== \"altair-viz-1911d0ce8332454ba944dfb51a5d6d5f\") {\n",
       "      outputDiv = document.getElementById(\"altair-viz-1911d0ce8332454ba944dfb51a5d6d5f\");\n",
       "    }\n",
       "    const paths = {\n",
       "      \"vega\": \"https://cdn.jsdelivr.net/npm//vega@5?noext\",\n",
       "      \"vega-lib\": \"https://cdn.jsdelivr.net/npm//vega-lib?noext\",\n",
       "      \"vega-lite\": \"https://cdn.jsdelivr.net/npm//vega-lite@4.17.0?noext\",\n",
       "      \"vega-embed\": \"https://cdn.jsdelivr.net/npm//vega-embed@6?noext\",\n",
       "    };\n",
       "\n",
       "    function maybeLoadScript(lib, version) {\n",
       "      var key = `${lib.replace(\"-\", \"\")}_version`;\n",
       "      return (VEGA_DEBUG[key] == version) ?\n",
       "        Promise.resolve(paths[lib]) :\n",
       "        new Promise(function(resolve, reject) {\n",
       "          var s = document.createElement('script');\n",
       "          document.getElementsByTagName(\"head\")[0].appendChild(s);\n",
       "          s.async = true;\n",
       "          s.onload = () => {\n",
       "            VEGA_DEBUG[key] = version;\n",
       "            return resolve(paths[lib]);\n",
       "          };\n",
       "          s.onerror = () => reject(`Error loading script: ${paths[lib]}`);\n",
       "          s.src = paths[lib];\n",
       "        });\n",
       "    }\n",
       "\n",
       "    function showError(err) {\n",
       "      outputDiv.innerHTML = `<div class=\"error\" style=\"color:red;\">${err}</div>`;\n",
       "      throw err;\n",
       "    }\n",
       "\n",
       "    function displayChart(vegaEmbed) {\n",
       "      vegaEmbed(outputDiv, spec, embedOpt)\n",
       "        .catch(err => showError(`Javascript Error: ${err.message}<br>This usually means there's a typo in your chart specification. See the javascript console for the full traceback.`));\n",
       "    }\n",
       "\n",
       "    if(typeof define === \"function\" && define.amd) {\n",
       "      requirejs.config({paths});\n",
       "      require([\"vega-embed\"], displayChart, err => showError(`Error loading script: ${err.message}`));\n",
       "    } else {\n",
       "      maybeLoadScript(\"vega\", \"5\")\n",
       "        .then(() => maybeLoadScript(\"vega-lite\", \"4.17.0\"))\n",
       "        .then(() => maybeLoadScript(\"vega-embed\", \"6\"))\n",
       "        .catch(showError)\n",
       "        .then(() => displayChart(vegaEmbed));\n",
       "    }\n",
       "  })({\"config\": {\"view\": {\"continuousWidth\": 400, \"continuousHeight\": 300}}, \"layer\": [{\"data\": {\"name\": \"data-8bc4c93851323e65bfc0e62931e567e2\"}, \"mark\": {\"type\": \"text\", \"color\": \"black\", \"dx\": 0, \"dy\": 20}, \"encoding\": {\"text\": {\"field\": \"label\", \"type\": \"nominal\"}, \"x\": {\"axis\": {\"grid\": false, \"labels\": false, \"ticks\": false}, \"field\": \"x\", \"type\": \"quantitative\"}, \"y\": {\"axis\": {\"grid\": false, \"labels\": false, \"ticks\": false}, \"field\": \"y\", \"type\": \"quantitative\"}}, \"selection\": {\"selector007\": {\"type\": \"interval\", \"bind\": \"scales\", \"encodings\": [\"x\", \"y\"]}}}, {\"data\": {\"name\": \"data-56fe6b681ace869d17c5865512cfc72f\"}, \"mark\": {\"type\": \"line\", \"color\": \"black\", \"opacity\": 1.0}, \"encoding\": {\"color\": {\"field\": \"count\", \"legend\": null, \"type\": \"quantitative\"}, \"detail\": {\"field\": \"edge\", \"type\": \"quantitative\"}, \"size\": {\"field\": \"weight\", \"legend\": null, \"type\": \"nominal\"}, \"tooltip\": [{\"field\": \"count\", \"type\": \"quantitative\"}], \"x\": {\"axis\": {\"grid\": false, \"labels\": false, \"ticks\": false, \"title\": \"\"}, \"field\": \"x\", \"type\": \"quantitative\"}, \"y\": {\"axis\": {\"grid\": false, \"labels\": false, \"ticks\": false, \"title\": \"\"}, \"field\": \"y\", \"type\": \"quantitative\"}}}, {\"data\": {\"name\": \"data-8bc4c93851323e65bfc0e62931e567e2\"}, \"mark\": \"circle\", \"encoding\": {\"color\": {\"field\": \"count\", \"type\": \"quantitative\"}, \"size\": {\"field\": \"count\", \"scale\": {\"range\": [30, 500]}, \"type\": \"quantitative\"}, \"tooltip\": [{\"field\": \"label\", \"type\": \"nominal\"}, {\"field\": \"count\", \"type\": \"quantitative\"}], \"x\": {\"axis\": {\"grid\": false, \"labels\": false, \"ticks\": false}, \"field\": \"x\", \"type\": \"quantitative\"}, \"y\": {\"axis\": {\"grid\": false, \"labels\": false, \"ticks\": false}, \"field\": \"y\", \"type\": \"quantitative\"}}}], \"height\": 500, \"title\": \"infrastructure_and_utility_damage\", \"width\": 500, \"$schema\": \"https://vega.github.io/schema/vega-lite/v4.17.0.json\", \"datasets\": {\"data-8bc4c93851323e65bfc0e62931e567e2\": [{\"count\": 78, \"x\": 0.9999999999999999, \"label\": \"Ilocos Sur\", \"y\": 4.7706792907989705e-08}, {\"count\": 78, \"x\": -0.50000005039689, \"label\": \"Abra\", \"y\": 0.8660253835545058}, {\"count\": 50, \"x\": -0.49999994960310984, \"label\": \"Luzon\", \"y\": -0.8660254312612986}], \"data-56fe6b681ace869d17c5865512cfc72f\": [{\"source\": \"Ilocos Sur\", \"edge\": 0, \"target\": \"Abra\", \"x\": 0.9999999999999999, \"pair\": [\"Ilocos Sur\", \"Abra\"], \"count\": 53, \"y\": 4.7706792907989705e-08}, {\"source\": \"Ilocos Sur\", \"edge\": 0, \"target\": \"Abra\", \"x\": -0.50000005039689, \"pair\": [\"Ilocos Sur\", \"Abra\"], \"count\": 53, \"y\": 0.8660253835545058}, {\"source\": \"Ilocos Sur\", \"edge\": 1, \"target\": \"Luzon\", \"x\": 0.9999999999999999, \"pair\": [\"Ilocos Sur\", \"Luzon\"], \"count\": 25, \"y\": 4.7706792907989705e-08}, {\"source\": \"Ilocos Sur\", \"edge\": 1, \"target\": \"Luzon\", \"x\": -0.49999994960310984, \"pair\": [\"Ilocos Sur\", \"Luzon\"], \"count\": 25, \"y\": -0.8660254312612986}, {\"source\": \"Abra\", \"edge\": 2, \"target\": \"Luzon\", \"x\": -0.50000005039689, \"pair\": [\"Abra\", \"Luzon\"], \"count\": 25, \"y\": 0.8660253835545058}, {\"source\": \"Abra\", \"edge\": 2, \"target\": \"Luzon\", \"x\": -0.49999994960310984, \"pair\": [\"Abra\", \"Luzon\"], \"count\": 25, \"y\": -0.8660254312612986}]}}, {\"mode\": \"vega-lite\"});\n",
       "</script>"
      ],
      "text/plain": [
       "alt.LayerChart(...)"
      ]
     },
     "execution_count": 40,
     "metadata": {},
     "output_type": "execute_result"
    }
   ],
   "source": [
    "plot_disaster_mentions(df_loc_graph, 'infrastructure_and_utility_damage',\n",
    "                       'infrastructure_and_utility_damage')"
   ]
  },
  {
   "cell_type": "markdown",
   "id": "d7337505",
   "metadata": {
    "papermill": {
     "duration": 0.198107,
     "end_time": "2022-08-19T20:58:51.452441",
     "exception": false,
     "start_time": "2022-08-19T20:58:51.254334",
     "status": "completed"
    },
    "tags": []
   },
   "source": [
    "### Get the most frequent location pair"
   ]
  },
  {
   "cell_type": "code",
   "execution_count": 41,
   "id": "2c48376d",
   "metadata": {
    "execution": {
     "iopub.execute_input": "2022-08-19T20:58:51.834360Z",
     "iopub.status.busy": "2022-08-19T20:58:51.834047Z",
     "iopub.status.idle": "2022-08-19T20:58:51.840351Z",
     "shell.execute_reply": "2022-08-19T20:58:51.839742Z"
    },
    "papermill": {
     "duration": 0.210924,
     "end_time": "2022-08-19T20:58:51.842578",
     "exception": false,
     "start_time": "2022-08-19T20:58:51.631654",
     "status": "completed"
    },
    "tags": []
   },
   "outputs": [
    {
     "data": {
      "text/plain": [
       "[['Ilocos Sur', 'Abra']]"
      ]
     },
     "execution_count": 41,
     "metadata": {},
     "output_type": "execute_result"
    }
   ],
   "source": [
    "loc_pairs = top_location_pairs(df_loc_graph, 'infrastructure_and_utility_damage', top_pairs_count=1)\n",
    "loc_pairs"
   ]
  },
  {
   "cell_type": "markdown",
   "id": "ea15e357",
   "metadata": {
    "papermill": {
     "duration": 0.193386,
     "end_time": "2022-08-19T20:58:52.228016",
     "exception": false,
     "start_time": "2022-08-19T20:58:52.034630",
     "status": "completed"
    },
    "tags": []
   },
   "source": [
    "### Show a sample for this location pair"
   ]
  },
  {
   "cell_type": "code",
   "execution_count": 42,
   "id": "1358b3a7",
   "metadata": {
    "execution": {
     "iopub.execute_input": "2022-08-19T20:58:52.620001Z",
     "iopub.status.busy": "2022-08-19T20:58:52.619690Z",
     "iopub.status.idle": "2022-08-19T20:58:52.722775Z",
     "shell.execute_reply": "2022-08-19T20:58:52.722097Z"
    },
    "papermill": {
     "duration": 0.302701,
     "end_time": "2022-08-19T20:58:52.724649",
     "exception": false,
     "start_time": "2022-08-19T20:58:52.421948",
     "status": "completed"
    },
    "tags": []
   },
   "outputs": [
    {
     "data": {
      "text/html": [
       "<div>\n",
       "<style scoped>\n",
       "    .dataframe tbody tr th:only-of-type {\n",
       "        vertical-align: middle;\n",
       "    }\n",
       "\n",
       "    .dataframe tbody tr th {\n",
       "        vertical-align: top;\n",
       "    }\n",
       "\n",
       "    .dataframe thead th {\n",
       "        text-align: right;\n",
       "    }\n",
       "</style>\n",
       "<table border=\"1\" class=\"dataframe\">\n",
       "  <thead>\n",
       "    <tr style=\"text-align: right;\">\n",
       "      <th></th>\n",
       "      <th>tweet_text</th>\n",
       "      <th>location</th>\n",
       "    </tr>\n",
       "  </thead>\n",
       "  <tbody>\n",
       "    <tr>\n",
       "      <th>0</th>\n",
       "      <td>A total of 20,533 houses in northern Luzon were heavily damaged by the magnitude 7 earthquake that jolted the provinces of Abra, Ilocos Sur, La Union, Pangasinan, Kalinga Apayao, Benguet, Ifugao, and Mountain Province on July 27. https://t.co/LF19bOztui</td>\n",
       "      <td>[Luzon, Abra, Ilocos Sur, La Union, Pangasinan, Kalinga Apayao, Benguet, Ifugao, Mountain Province]</td>\n",
       "    </tr>\n",
       "    <tr>\n",
       "      <th>1</th>\n",
       "      <td>A total of 20,533 houses in northern Luzon were heavily damaged by the magnitude 7 earthquake that jolted the provinces of Abra, Ilocos Sur, La Union, Pangasinan, Kalinga Apayao, Benguet, Ifugao, and Mountain Province on July 27. https://t.co/LF19bOztui</td>\n",
       "      <td>[Luzon, Abra, Ilocos Sur, La Union, Pangasinan, Kalinga Apayao, Benguet, Ifugao, Mountain Province]</td>\n",
       "    </tr>\n",
       "    <tr>\n",
       "      <th>2</th>\n",
       "      <td>A team consisting of seven faculty and staff members from ICE has just concluded their post-disaster damage assessment in select heritage sites in Vigan, Ilocos Sur following the recent earthquake that occured in Abra last July 27. #ServeThePeople #DRRM #HeritageSites https:/...</td>\n",
       "      <td>[Vigan, Ilocos Sur, Abra]</td>\n",
       "    </tr>\n",
       "    <tr>\n",
       "      <th>3</th>\n",
       "      <td>ICYMI:  A total of 20,533 houses in northern Luzon were heavily damaged by the magnitude 7 earthquake that jolted the provinces of Abra, Ilocos Sur, La Union, Pangasinan, Kalinga Apayao, Benguet, Ifugao, and Mountain Province on July 27. https://t.co/LF19bOztui</td>\n",
       "      <td>[Luzon, Abra, Ilocos Sur, La Union, Pangasinan, Kalinga Apayao, Benguet, Ifugao, Mountain Province]</td>\n",
       "    </tr>\n",
       "    <tr>\n",
       "      <th>4</th>\n",
       "      <td>A 5.1 magnitude earthquake hit Villaviciosa, Abra at 2:48am. Phivolcs says damage can be expected.  \\n\\nIntensity 5 shaking was felt in parts of Abra, Vigan City, Ilocos Sur, Ilocos Norte, and Mountain Province. Lower intensities were also felt in other parts of Northern Luzo...</td>\n",
       "      <td>[Villaviciosa, Abra, Abra, Vigan City, Ilocos Sur, Ilocos Norte, Mountain Province, Northern Luzon]</td>\n",
       "    </tr>\n",
       "  </tbody>\n",
       "</table>\n",
       "</div>"
      ],
      "text/plain": [
       "                                                                                                                                                                                                                                                                                tweet_text  \\\n",
       "0                            A total of 20,533 houses in northern Luzon were heavily damaged by the magnitude 7 earthquake that jolted the provinces of Abra, Ilocos Sur, La Union, Pangasinan, Kalinga Apayao, Benguet, Ifugao, and Mountain Province on July 27. https://t.co/LF19bOztui   \n",
       "1                            A total of 20,533 houses in northern Luzon were heavily damaged by the magnitude 7 earthquake that jolted the provinces of Abra, Ilocos Sur, La Union, Pangasinan, Kalinga Apayao, Benguet, Ifugao, and Mountain Province on July 27. https://t.co/LF19bOztui   \n",
       "2  A team consisting of seven faculty and staff members from ICE has just concluded their post-disaster damage assessment in select heritage sites in Vigan, Ilocos Sur following the recent earthquake that occured in Abra last July 27. #ServeThePeople #DRRM #HeritageSites https:/...   \n",
       "3                    ICYMI:  A total of 20,533 houses in northern Luzon were heavily damaged by the magnitude 7 earthquake that jolted the provinces of Abra, Ilocos Sur, La Union, Pangasinan, Kalinga Apayao, Benguet, Ifugao, and Mountain Province on July 27. https://t.co/LF19bOztui   \n",
       "4  A 5.1 magnitude earthquake hit Villaviciosa, Abra at 2:48am. Phivolcs says damage can be expected.  \\n\\nIntensity 5 shaking was felt in parts of Abra, Vigan City, Ilocos Sur, Ilocos Norte, and Mountain Province. Lower intensities were also felt in other parts of Northern Luzo...   \n",
       "\n",
       "                                                                                              location  \n",
       "0  [Luzon, Abra, Ilocos Sur, La Union, Pangasinan, Kalinga Apayao, Benguet, Ifugao, Mountain Province]  \n",
       "1  [Luzon, Abra, Ilocos Sur, La Union, Pangasinan, Kalinga Apayao, Benguet, Ifugao, Mountain Province]  \n",
       "2                                                                            [Vigan, Ilocos Sur, Abra]  \n",
       "3  [Luzon, Abra, Ilocos Sur, La Union, Pangasinan, Kalinga Apayao, Benguet, Ifugao, Mountain Province]  \n",
       "4  [Villaviciosa, Abra, Abra, Vigan City, Ilocos Sur, Ilocos Norte, Mountain Province, Northern Luzon]  "
      ]
     },
     "execution_count": 42,
     "metadata": {},
     "output_type": "execute_result"
    }
   ],
   "source": [
    "show_tweets_locations(df_tweets, class_label='infrastructure_and_utility_damage',\n",
    "                      locations=loc_pairs[0], sample=5)"
   ]
  },
  {
   "cell_type": "code",
   "execution_count": null,
   "id": "d9898d28",
   "metadata": {
    "papermill": {
     "duration": 0.192461,
     "end_time": "2022-08-19T20:58:53.159541",
     "exception": false,
     "start_time": "2022-08-19T20:58:52.967080",
     "status": "completed"
    },
    "tags": []
   },
   "outputs": [],
   "source": []
  }
 ],
 "metadata": {
  "jupytext": {
   "cell_metadata_filter": "tags,-all",
   "main_language": "python",
   "notebook_metadata_filter": "-all",
   "text_representation": {
    "extension": ".py",
    "format_name": "light"
   }
  },
  "kernelspec": {
   "display_name": "Python 3 (ipykernel)",
   "language": "python",
   "name": "python3"
  },
  "language_info": {
   "codemirror_mode": {
    "name": "ipython",
    "version": 3
   },
   "file_extension": ".py",
   "mimetype": "text/x-python",
   "name": "python",
   "nbconvert_exporter": "python",
   "pygments_lexer": "ipython3",
   "version": "3.9.12"
  },
  "papermill": {
   "duration": 656.562253,
   "end_time": "2022-08-19T20:58:55.974931",
   "exception": null,
   "input_path": "/var/folders/lw/k7hqg3bn7s326rs6jxn046b40000gp/T/tmpk9ynkn42.ipynb",
   "output_path": "/Users/mboussarov/_umsi/Capstone/umads_697_data_medics/pipeline/output/tweets_timeline_earthquake.ipynb",
   "parameters": {
    "disaster_kind": "recent_tweets_earthquake",
    "product": {
     "nb": "/Users/mboussarov/_umsi/Capstone/umads_697_data_medics/pipeline/output/tweets_timeline_earthquake.ipynb"
    },
    "random_seed": 42,
    "upstream": {
     "category_classification_models": {
      "model_lr": "/Users/mboussarov/_umsi/Capstone/umads_697_data_medics/pipeline/output/model_lr.pkl",
      "model_nb": "/Users/mboussarov/_umsi/Capstone/umads_697_data_medics/pipeline/output/model_nb.csv",
      "model_rf": "/Users/mboussarov/_umsi/Capstone/umads_697_data_medics/pipeline/output/model_rf.pkl",
      "model_votingc": "/Users/mboussarov/_umsi/Capstone/umads_697_data_medics/pipeline/output/model_votingc.csv",
      "nb": "/Users/mboussarov/_umsi/Capstone/umads_697_data_medics/pipeline/output/category_classification_models.ipynb"
     },
     "recent_tweets_earthquake": {
      "file": "/Users/mboussarov/_umsi/Capstone/umads_697_data_medics/pipeline/output/recent_tweets_earthquake.csv",
      "nb": "/Users/mboussarov/_umsi/Capstone/umads_697_data_medics/pipeline/output/recent_tweets_earthquake.ipynb"
     },
     "recent_tweets_flood": {
      "file": "/Users/mboussarov/_umsi/Capstone/umads_697_data_medics/pipeline/output/recent_tweets_flood.csv",
      "nb": "/Users/mboussarov/_umsi/Capstone/umads_697_data_medics/pipeline/output/recent_tweets_flood.ipynb"
     },
     "recent_tweets_hurricane": {
      "file": "/Users/mboussarov/_umsi/Capstone/umads_697_data_medics/pipeline/output/recent_tweets_hurricane.csv",
      "nb": "/Users/mboussarov/_umsi/Capstone/umads_697_data_medics/pipeline/output/recent_tweets_hurricane.ipynb"
     },
     "recent_tweets_wildfire": {
      "file": "/Users/mboussarov/_umsi/Capstone/umads_697_data_medics/pipeline/output/recent_tweets_wildfire.csv",
      "nb": "/Users/mboussarov/_umsi/Capstone/umads_697_data_medics/pipeline/output/recent_tweets_wildfire.ipynb"
     },
     "vectorizer": {
      "nb": "/Users/mboussarov/_umsi/Capstone/umads_697_data_medics/pipeline/output/vectorizer.ipynb",
      "vectorizer": "/Users/mboussarov/_umsi/Capstone/umads_697_data_medics/pipeline/output/vectorizer.pkl",
      "vocab": "/Users/mboussarov/_umsi/Capstone/umads_697_data_medics/pipeline/output/vocab.pkl"
     }
    }
   },
   "start_time": "2022-08-19T20:47:59.412678"
  }
 },
 "nbformat": 4,
 "nbformat_minor": 5
}