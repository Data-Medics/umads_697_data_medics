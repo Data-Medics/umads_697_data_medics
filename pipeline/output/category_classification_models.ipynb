{
 "cells": [
  {
   "cell_type": "markdown",
   "id": "b73ae54d",
   "metadata": {
    "papermill": {
     "duration": 0.007202,
     "end_time": "2022-08-02T07:56:03.726589",
     "exception": false,
     "start_time": "2022-08-02T07:56:03.719387",
     "status": "completed"
    },
    "tags": []
   },
   "source": [
    "# Test and compare different classification models, store the trained models for using downstream"
   ]
  },
  {
   "cell_type": "code",
   "execution_count": 1,
   "id": "a1bab9cb",
   "metadata": {
    "execution": {
     "iopub.execute_input": "2022-08-02T07:56:03.736977Z",
     "iopub.status.busy": "2022-08-02T07:56:03.736637Z",
     "iopub.status.idle": "2022-08-02T07:56:06.078033Z",
     "shell.execute_reply": "2022-08-02T07:56:06.077339Z"
    },
    "papermill": {
     "duration": 2.34882,
     "end_time": "2022-08-02T07:56:06.080234",
     "exception": false,
     "start_time": "2022-08-02T07:56:03.731414",
     "status": "completed"
    },
    "tags": []
   },
   "outputs": [],
   "source": [
    "import pandas as pd\n",
    "import numpy as np\n",
    "\n",
    "# NLP Imports\n",
    "from collections import Counter\n",
    "\n",
    "from sklearn.dummy import DummyClassifier\n",
    "from sklearn.feature_extraction.text import TfidfVectorizer\n",
    "from sklearn.metrics import f1_score\n",
    "from tqdm import tqdm # Used to show a progress bar\n",
    "import spacy\n",
    "import pickle\n",
    "\n",
    "from sklearn.linear_model import LogisticRegression\n",
    "from sklearn.ensemble import GradientBoostingClassifier\n",
    "from sklearn.ensemble import RandomForestClassifier, VotingClassifier\n",
    "from sklearn.naive_bayes import MultinomialNB, GaussianNB\n",
    "\n",
    "from sklearn.model_selection import GridSearchCV"
   ]
  },
  {
   "cell_type": "code",
   "execution_count": 2,
   "id": "13762280",
   "metadata": {
    "execution": {
     "iopub.execute_input": "2022-08-02T07:56:06.090516Z",
     "iopub.status.busy": "2022-08-02T07:56:06.090152Z",
     "iopub.status.idle": "2022-08-02T07:56:06.093722Z",
     "shell.execute_reply": "2022-08-02T07:56:06.093132Z"
    },
    "papermill": {
     "duration": 0.010831,
     "end_time": "2022-08-02T07:56:06.095809",
     "exception": false,
     "start_time": "2022-08-02T07:56:06.084978",
     "status": "completed"
    },
    "tags": [
     "parameters"
    ]
   },
   "outputs": [],
   "source": [
    "upstream = ['vectorizer']\n",
    "random_seed = None"
   ]
  },
  {
   "cell_type": "code",
   "execution_count": 3,
   "id": "1d2027ea",
   "metadata": {
    "execution": {
     "iopub.execute_input": "2022-08-02T07:56:06.105580Z",
     "iopub.status.busy": "2022-08-02T07:56:06.105207Z",
     "iopub.status.idle": "2022-08-02T07:56:06.109756Z",
     "shell.execute_reply": "2022-08-02T07:56:06.109146Z"
    },
    "papermill": {
     "duration": 0.011556,
     "end_time": "2022-08-02T07:56:06.111708",
     "exception": false,
     "start_time": "2022-08-02T07:56:06.100152",
     "status": "completed"
    },
    "tags": [
     "injected-parameters"
    ]
   },
   "outputs": [],
   "source": [
    "# Parameters\n",
    "random_seed = 42\n",
    "upstream = {\n",
    "    \"vectorizer\": {\n",
    "        \"nb\": \"/Users/mboussarov/_umsi/Capstone/umads_697_data_medics/pipeline/output/vectorizer.ipynb\",\n",
    "        \"vectorizer\": \"/Users/mboussarov/_umsi/Capstone/umads_697_data_medics/pipeline/output/vectorizer.pkl\",\n",
    "        \"vocab\": \"/Users/mboussarov/_umsi/Capstone/umads_697_data_medics/pipeline/output/vocab.pkl\",\n",
    "    }\n",
    "}\n",
    "product = {\n",
    "    \"nb\": \"/Users/mboussarov/_umsi/Capstone/umads_697_data_medics/pipeline/output/category_classification_models.ipynb\",\n",
    "    \"model_lr\": \"/Users/mboussarov/_umsi/Capstone/umads_697_data_medics/pipeline/output/model_lr.pkl\",\n",
    "    \"model_rf\": \"/Users/mboussarov/_umsi/Capstone/umads_697_data_medics/pipeline/output/model_rf.pkl\",\n",
    "    \"model_nb\": \"/Users/mboussarov/_umsi/Capstone/umads_697_data_medics/pipeline/output/model_nb.csv\",\n",
    "    \"model_votingc\": \"/Users/mboussarov/_umsi/Capstone/umads_697_data_medics/pipeline/output/model_votingc.csv\",\n",
    "}\n"
   ]
  },
  {
   "cell_type": "markdown",
   "id": "5a5264ae",
   "metadata": {
    "papermill": {
     "duration": 0.003964,
     "end_time": "2022-08-02T07:56:06.120042",
     "exception": false,
     "start_time": "2022-08-02T07:56:06.116078",
     "status": "completed"
    },
    "tags": []
   },
   "source": [
    "## Read the train and test data"
   ]
  },
  {
   "cell_type": "code",
   "execution_count": 4,
   "id": "a05ba3ba",
   "metadata": {
    "execution": {
     "iopub.execute_input": "2022-08-02T07:56:06.129306Z",
     "iopub.status.busy": "2022-08-02T07:56:06.129043Z",
     "iopub.status.idle": "2022-08-02T07:56:06.354232Z",
     "shell.execute_reply": "2022-08-02T07:56:06.353566Z"
    },
    "lines_to_next_cell": 0,
    "papermill": {
     "duration": 0.232497,
     "end_time": "2022-08-02T07:56:06.356257",
     "exception": false,
     "start_time": "2022-08-02T07:56:06.123760",
     "status": "completed"
    },
    "tags": []
   },
   "outputs": [
    {
     "data": {
      "text/html": [
       "<div>\n",
       "<style scoped>\n",
       "    .dataframe tbody tr th:only-of-type {\n",
       "        vertical-align: middle;\n",
       "    }\n",
       "\n",
       "    .dataframe tbody tr th {\n",
       "        vertical-align: top;\n",
       "    }\n",
       "\n",
       "    .dataframe thead th {\n",
       "        text-align: right;\n",
       "    }\n",
       "</style>\n",
       "<table border=\"1\" class=\"dataframe\">\n",
       "  <thead>\n",
       "    <tr style=\"text-align: right;\">\n",
       "      <th></th>\n",
       "      <th>tweet_id</th>\n",
       "      <th>tweet_text</th>\n",
       "      <th>class_label</th>\n",
       "    </tr>\n",
       "  </thead>\n",
       "  <tbody>\n",
       "    <tr>\n",
       "      <th>46069</th>\n",
       "      <td>732346289652928512</td>\n",
       "      <td>Happening now: mandatory evacuation of oilfiel...</td>\n",
       "      <td>displaced_people_and_evacuations</td>\n",
       "    </tr>\n",
       "    <tr>\n",
       "      <th>33284</th>\n",
       "      <td>1167531580845281280</td>\n",
       "      <td>Whats reckless is your unsubstantiated attacks...</td>\n",
       "      <td>not_humanitarian</td>\n",
       "    </tr>\n",
       "    <tr>\n",
       "      <th>7684</th>\n",
       "      <td>870100606421147648</td>\n",
       "      <td>ἰF Please donate funds for #SriLanka ἟1἟0Worst...</td>\n",
       "      <td>rescue_volunteering_or_donation_effort</td>\n",
       "    </tr>\n",
       "    <tr>\n",
       "      <th>48186</th>\n",
       "      <td>1021738373663387648</td>\n",
       "      <td>#PrayForAthens A 13 year old girl, being burne...</td>\n",
       "      <td>injured_or_dead_people</td>\n",
       "    </tr>\n",
       "    <tr>\n",
       "      <th>27763</th>\n",
       "      <td>905602234007920642</td>\n",
       "      <td>VU Athletics Flood Relief Drive!2 trucks full,...</td>\n",
       "      <td>other_relevant_information</td>\n",
       "    </tr>\n",
       "  </tbody>\n",
       "</table>\n",
       "</div>"
      ],
      "text/plain": [
       "                  tweet_id                                         tweet_text  \\\n",
       "46069   732346289652928512  Happening now: mandatory evacuation of oilfiel...   \n",
       "33284  1167531580845281280  Whats reckless is your unsubstantiated attacks...   \n",
       "7684    870100606421147648  ἰF Please donate funds for #SriLanka ἟1἟0Worst...   \n",
       "48186  1021738373663387648  #PrayForAthens A 13 year old girl, being burne...   \n",
       "27763   905602234007920642  VU Athletics Flood Relief Drive!2 trucks full,...   \n",
       "\n",
       "                                  class_label  \n",
       "46069        displaced_people_and_evacuations  \n",
       "33284                        not_humanitarian  \n",
       "7684   rescue_volunteering_or_donation_effort  \n",
       "48186                  injured_or_dead_people  \n",
       "27763              other_relevant_information  "
      ]
     },
     "execution_count": 4,
     "metadata": {},
     "output_type": "execute_result"
    }
   ],
   "source": [
    "df_train = pd.read_csv('../data/HumAID_data_v1.0/all_combined/all_train.tsv', sep='\\t')\n",
    "df_test = pd.read_csv('../data/HumAID_data_v1.0/all_combined/all_test.tsv', sep='\\t')\n",
    "\n",
    "df_train.dropna(inplace=True)\n",
    "df_test.dropna(inplace=True)\n",
    "\n",
    "df_train.sample(5)"
   ]
  },
  {
   "cell_type": "markdown",
   "id": "e0a489a6",
   "metadata": {
    "papermill": {
     "duration": 0.004436,
     "end_time": "2022-08-02T07:56:06.365780",
     "exception": false,
     "start_time": "2022-08-02T07:56:06.361344",
     "status": "completed"
    },
    "tags": []
   },
   "source": [
    "## Read the already trained vectorizer"
   ]
  },
  {
   "cell_type": "code",
   "execution_count": 5,
   "id": "2ecbf5e7",
   "metadata": {
    "execution": {
     "iopub.execute_input": "2022-08-02T07:56:06.375585Z",
     "iopub.status.busy": "2022-08-02T07:56:06.375303Z",
     "iopub.status.idle": "2022-08-02T07:56:06.971739Z",
     "shell.execute_reply": "2022-08-02T07:56:06.970807Z"
    },
    "papermill": {
     "duration": 0.604184,
     "end_time": "2022-08-02T07:56:06.974210",
     "exception": false,
     "start_time": "2022-08-02T07:56:06.370026",
     "status": "completed"
    },
    "tags": []
   },
   "outputs": [],
   "source": [
    "with open(upstream[\"vectorizer\"][\"vectorizer\"], 'rb') as f:\n",
    "    vectorizer = pickle.load(f)"
   ]
  },
  {
   "cell_type": "code",
   "execution_count": 6,
   "id": "6073003e",
   "metadata": {
    "execution": {
     "iopub.execute_input": "2022-08-02T07:56:06.986292Z",
     "iopub.status.busy": "2022-08-02T07:56:06.986013Z",
     "iopub.status.idle": "2022-08-02T07:56:20.248806Z",
     "shell.execute_reply": "2022-08-02T07:56:20.248194Z"
    },
    "papermill": {
     "duration": 13.270546,
     "end_time": "2022-08-02T07:56:20.250650",
     "exception": false,
     "start_time": "2022-08-02T07:56:06.980104",
     "status": "completed"
    },
    "tags": []
   },
   "outputs": [
    {
     "name": "stdout",
     "output_type": "stream",
     "text": [
      "CPU times: user 13.1 s, sys: 134 ms, total: 13.2 s\n",
      "Wall time: 13.3 s\n"
     ]
    },
    {
     "data": {
      "text/plain": [
       "(53516, 10000)"
      ]
     },
     "execution_count": 6,
     "metadata": {},
     "output_type": "execute_result"
    }
   ],
   "source": [
    "%%time\n",
    "X_train = vectorizer.fit_transform(df_train['tweet_text'])\n",
    "y_train = list(df_train['class_label'])\n",
    "\n",
    "X_test = vectorizer.transform(df_test['tweet_text'])\n",
    "y_test = list(df_test['class_label'])\n",
    "\n",
    "X_train.shape"
   ]
  },
  {
   "cell_type": "markdown",
   "id": "48524024",
   "metadata": {
    "papermill": {
     "duration": 0.004013,
     "end_time": "2022-08-02T07:56:20.258894",
     "exception": false,
     "start_time": "2022-08-02T07:56:20.254881",
     "status": "completed"
    },
    "tags": []
   },
   "source": [
    "## Logistic regression test"
   ]
  },
  {
   "cell_type": "code",
   "execution_count": 7,
   "id": "bc1c9317",
   "metadata": {
    "execution": {
     "iopub.execute_input": "2022-08-02T07:56:20.267790Z",
     "iopub.status.busy": "2022-08-02T07:56:20.267560Z",
     "iopub.status.idle": "2022-08-02T07:56:42.358653Z",
     "shell.execute_reply": "2022-08-02T07:56:42.357928Z"
    },
    "papermill": {
     "duration": 22.098325,
     "end_time": "2022-08-02T07:56:42.360977",
     "exception": false,
     "start_time": "2022-08-02T07:56:20.262652",
     "status": "completed"
    },
    "tags": []
   },
   "outputs": [
    {
     "name": "stdout",
     "output_type": "stream",
     "text": [
      "CPU times: user 2min 21s, sys: 30.7 s, total: 2min 52s\n",
      "Wall time: 22.1 s\n"
     ]
    },
    {
     "data": {
      "text/html": [
       "<style>#sk-container-id-1 {color: black;background-color: white;}#sk-container-id-1 pre{padding: 0;}#sk-container-id-1 div.sk-toggleable {background-color: white;}#sk-container-id-1 label.sk-toggleable__label {cursor: pointer;display: block;width: 100%;margin-bottom: 0;padding: 0.3em;box-sizing: border-box;text-align: center;}#sk-container-id-1 label.sk-toggleable__label-arrow:before {content: \"▸\";float: left;margin-right: 0.25em;color: #696969;}#sk-container-id-1 label.sk-toggleable__label-arrow:hover:before {color: black;}#sk-container-id-1 div.sk-estimator:hover label.sk-toggleable__label-arrow:before {color: black;}#sk-container-id-1 div.sk-toggleable__content {max-height: 0;max-width: 0;overflow: hidden;text-align: left;background-color: #f0f8ff;}#sk-container-id-1 div.sk-toggleable__content pre {margin: 0.2em;color: black;border-radius: 0.25em;background-color: #f0f8ff;}#sk-container-id-1 input.sk-toggleable__control:checked~div.sk-toggleable__content {max-height: 200px;max-width: 100%;overflow: auto;}#sk-container-id-1 input.sk-toggleable__control:checked~label.sk-toggleable__label-arrow:before {content: \"▾\";}#sk-container-id-1 div.sk-estimator input.sk-toggleable__control:checked~label.sk-toggleable__label {background-color: #d4ebff;}#sk-container-id-1 div.sk-label input.sk-toggleable__control:checked~label.sk-toggleable__label {background-color: #d4ebff;}#sk-container-id-1 input.sk-hidden--visually {border: 0;clip: rect(1px 1px 1px 1px);clip: rect(1px, 1px, 1px, 1px);height: 1px;margin: -1px;overflow: hidden;padding: 0;position: absolute;width: 1px;}#sk-container-id-1 div.sk-estimator {font-family: monospace;background-color: #f0f8ff;border: 1px dotted black;border-radius: 0.25em;box-sizing: border-box;margin-bottom: 0.5em;}#sk-container-id-1 div.sk-estimator:hover {background-color: #d4ebff;}#sk-container-id-1 div.sk-parallel-item::after {content: \"\";width: 100%;border-bottom: 1px solid gray;flex-grow: 1;}#sk-container-id-1 div.sk-label:hover label.sk-toggleable__label {background-color: #d4ebff;}#sk-container-id-1 div.sk-serial::before {content: \"\";position: absolute;border-left: 1px solid gray;box-sizing: border-box;top: 0;bottom: 0;left: 50%;z-index: 0;}#sk-container-id-1 div.sk-serial {display: flex;flex-direction: column;align-items: center;background-color: white;padding-right: 0.2em;padding-left: 0.2em;position: relative;}#sk-container-id-1 div.sk-item {position: relative;z-index: 1;}#sk-container-id-1 div.sk-parallel {display: flex;align-items: stretch;justify-content: center;background-color: white;position: relative;}#sk-container-id-1 div.sk-item::before, #sk-container-id-1 div.sk-parallel-item::before {content: \"\";position: absolute;border-left: 1px solid gray;box-sizing: border-box;top: 0;bottom: 0;left: 50%;z-index: -1;}#sk-container-id-1 div.sk-parallel-item {display: flex;flex-direction: column;z-index: 1;position: relative;background-color: white;}#sk-container-id-1 div.sk-parallel-item:first-child::after {align-self: flex-end;width: 50%;}#sk-container-id-1 div.sk-parallel-item:last-child::after {align-self: flex-start;width: 50%;}#sk-container-id-1 div.sk-parallel-item:only-child::after {width: 0;}#sk-container-id-1 div.sk-dashed-wrapped {border: 1px dashed gray;margin: 0 0.4em 0.5em 0.4em;box-sizing: border-box;padding-bottom: 0.4em;background-color: white;}#sk-container-id-1 div.sk-label label {font-family: monospace;font-weight: bold;display: inline-block;line-height: 1.2em;}#sk-container-id-1 div.sk-label-container {text-align: center;}#sk-container-id-1 div.sk-container {/* jupyter's `normalize.less` sets `[hidden] { display: none; }` but bootstrap.min.css set `[hidden] { display: none !important; }` so we also need the `!important` here to be able to override the default hidden behavior on the sphinx rendered scikit-learn.org. See: https://github.com/scikit-learn/scikit-learn/issues/21755 */display: inline-block !important;position: relative;}#sk-container-id-1 div.sk-text-repr-fallback {display: none;}</style><div id=\"sk-container-id-1\" class=\"sk-top-container\"><div class=\"sk-text-repr-fallback\"><pre>GridSearchCV(estimator=LogisticRegression(),\n",
       "             param_grid={&#x27;max_iter&#x27;: [500], &#x27;multi_class&#x27;: [&#x27;auto&#x27;],\n",
       "                         &#x27;solver&#x27;: [&#x27;liblinear&#x27;]})</pre><b>In a Jupyter environment, please rerun this cell to show the HTML representation or trust the notebook. <br />On GitHub, the HTML representation is unable to render, please try loading this page with nbviewer.org.</b></div><div class=\"sk-container\" hidden><div class=\"sk-item sk-dashed-wrapped\"><div class=\"sk-label-container\"><div class=\"sk-label sk-toggleable\"><input class=\"sk-toggleable__control sk-hidden--visually\" id=\"sk-estimator-id-1\" type=\"checkbox\" ><label for=\"sk-estimator-id-1\" class=\"sk-toggleable__label sk-toggleable__label-arrow\">GridSearchCV</label><div class=\"sk-toggleable__content\"><pre>GridSearchCV(estimator=LogisticRegression(),\n",
       "             param_grid={&#x27;max_iter&#x27;: [500], &#x27;multi_class&#x27;: [&#x27;auto&#x27;],\n",
       "                         &#x27;solver&#x27;: [&#x27;liblinear&#x27;]})</pre></div></div></div><div class=\"sk-parallel\"><div class=\"sk-parallel-item\"><div class=\"sk-item\"><div class=\"sk-label-container\"><div class=\"sk-label sk-toggleable\"><input class=\"sk-toggleable__control sk-hidden--visually\" id=\"sk-estimator-id-2\" type=\"checkbox\" ><label for=\"sk-estimator-id-2\" class=\"sk-toggleable__label sk-toggleable__label-arrow\">estimator: LogisticRegression</label><div class=\"sk-toggleable__content\"><pre>LogisticRegression()</pre></div></div></div><div class=\"sk-serial\"><div class=\"sk-item\"><div class=\"sk-estimator sk-toggleable\"><input class=\"sk-toggleable__control sk-hidden--visually\" id=\"sk-estimator-id-3\" type=\"checkbox\" ><label for=\"sk-estimator-id-3\" class=\"sk-toggleable__label sk-toggleable__label-arrow\">LogisticRegression</label><div class=\"sk-toggleable__content\"><pre>LogisticRegression()</pre></div></div></div></div></div></div></div></div></div></div>"
      ],
      "text/plain": [
       "GridSearchCV(estimator=LogisticRegression(),\n",
       "             param_grid={'max_iter': [500], 'multi_class': ['auto'],\n",
       "                         'solver': ['liblinear']})"
      ]
     },
     "execution_count": 7,
     "metadata": {},
     "output_type": "execute_result"
    }
   ],
   "source": [
    "%%time\n",
    "# Prepate the logistic regression classifier\n",
    "#clf_lr = LogisticRegression(solver='lbfgs', multi_class='auto', random_state=random_seed, max_iter=1000)\n",
    "clf_lr = LogisticRegression()\n",
    "\n",
    "# parameters_lr = {'solver':['newton-cg', 'lbfgs', 'liblinear', 'sag', 'saga'],\n",
    "#                  'multi_class': ['auto'], 'max_iter': [500, 1000, 2000]}\n",
    "\n",
    "parameters_lr = {'solver':['liblinear'],\n",
    "                 'multi_class': ['auto'], 'max_iter': [500]}\n",
    "\n",
    "clf = GridSearchCV(clf_lr, parameters_lr)\n",
    "\n",
    "clf.fit(X_train, y_train)"
   ]
  },
  {
   "cell_type": "code",
   "execution_count": 8,
   "id": "ab3f6fac",
   "metadata": {
    "execution": {
     "iopub.execute_input": "2022-08-02T07:56:42.373194Z",
     "iopub.status.busy": "2022-08-02T07:56:42.372920Z",
     "iopub.status.idle": "2022-08-02T07:56:42.377743Z",
     "shell.execute_reply": "2022-08-02T07:56:42.376917Z"
    },
    "papermill": {
     "duration": 0.013136,
     "end_time": "2022-08-02T07:56:42.379947",
     "exception": false,
     "start_time": "2022-08-02T07:56:42.366811",
     "status": "completed"
    },
    "tags": []
   },
   "outputs": [
    {
     "data": {
      "text/plain": [
       "{'max_iter': 500, 'multi_class': 'auto', 'solver': 'liblinear'}"
      ]
     },
     "execution_count": 8,
     "metadata": {},
     "output_type": "execute_result"
    }
   ],
   "source": [
    "# Show the optimal parameters\n",
    "clf.best_params_"
   ]
  },
  {
   "cell_type": "code",
   "execution_count": 9,
   "id": "ca978f81",
   "metadata": {
    "execution": {
     "iopub.execute_input": "2022-08-02T07:56:42.391997Z",
     "iopub.status.busy": "2022-08-02T07:56:42.391719Z",
     "iopub.status.idle": "2022-08-02T07:56:42.500524Z",
     "shell.execute_reply": "2022-08-02T07:56:42.499833Z"
    },
    "papermill": {
     "duration": 0.117266,
     "end_time": "2022-08-02T07:56:42.502641",
     "exception": false,
     "start_time": "2022-08-02T07:56:42.385375",
     "status": "completed"
    },
    "tags": []
   },
   "outputs": [
    {
     "name": "stdout",
     "output_type": "stream",
     "text": [
      "0.7101213779285164\n",
      "CPU times: user 420 ms, sys: 80.7 ms, total: 501 ms\n",
      "Wall time: 105 ms\n"
     ]
    }
   ],
   "source": [
    "%%time\n",
    "# Predict on test\n",
    "lr_test_preds = clf.predict(X_test)\n",
    "# Score on the test data\n",
    "lr_f1 = f1_score(y_test, lr_test_preds, average='macro')\n",
    "print(lr_f1)"
   ]
  },
  {
   "cell_type": "code",
   "execution_count": 10,
   "id": "9632275a",
   "metadata": {
    "execution": {
     "iopub.execute_input": "2022-08-02T07:56:42.515782Z",
     "iopub.status.busy": "2022-08-02T07:56:42.514967Z",
     "iopub.status.idle": "2022-08-02T07:56:42.521519Z",
     "shell.execute_reply": "2022-08-02T07:56:42.520886Z"
    },
    "papermill": {
     "duration": 0.015107,
     "end_time": "2022-08-02T07:56:42.523461",
     "exception": false,
     "start_time": "2022-08-02T07:56:42.508354",
     "status": "completed"
    },
    "tags": []
   },
   "outputs": [],
   "source": [
    "# Store the model\n",
    "with open(str(product['model_lr']), 'wb') as f:\n",
    "    pickle.dump(clf, f)"
   ]
  },
  {
   "cell_type": "markdown",
   "id": "6a99a707",
   "metadata": {
    "papermill": {
     "duration": 0.005353,
     "end_time": "2022-08-02T07:56:42.534825",
     "exception": false,
     "start_time": "2022-08-02T07:56:42.529472",
     "status": "completed"
    },
    "tags": []
   },
   "source": [
    "## Random Forest test"
   ]
  },
  {
   "cell_type": "code",
   "execution_count": 11,
   "id": "102daf80",
   "metadata": {
    "execution": {
     "iopub.execute_input": "2022-08-02T07:56:42.547089Z",
     "iopub.status.busy": "2022-08-02T07:56:42.546779Z",
     "iopub.status.idle": "2022-08-02T07:56:44.819993Z",
     "shell.execute_reply": "2022-08-02T07:56:44.819427Z"
    },
    "papermill": {
     "duration": 2.281845,
     "end_time": "2022-08-02T07:56:44.822011",
     "exception": false,
     "start_time": "2022-08-02T07:56:42.540166",
     "status": "completed"
    },
    "tags": []
   },
   "outputs": [
    {
     "name": "stdout",
     "output_type": "stream",
     "text": [
      "CPU times: user 2.23 s, sys: 27 ms, total: 2.26 s\n",
      "Wall time: 2.27 s\n"
     ]
    },
    {
     "data": {
      "text/html": [
       "<style>#sk-container-id-2 {color: black;background-color: white;}#sk-container-id-2 pre{padding: 0;}#sk-container-id-2 div.sk-toggleable {background-color: white;}#sk-container-id-2 label.sk-toggleable__label {cursor: pointer;display: block;width: 100%;margin-bottom: 0;padding: 0.3em;box-sizing: border-box;text-align: center;}#sk-container-id-2 label.sk-toggleable__label-arrow:before {content: \"▸\";float: left;margin-right: 0.25em;color: #696969;}#sk-container-id-2 label.sk-toggleable__label-arrow:hover:before {color: black;}#sk-container-id-2 div.sk-estimator:hover label.sk-toggleable__label-arrow:before {color: black;}#sk-container-id-2 div.sk-toggleable__content {max-height: 0;max-width: 0;overflow: hidden;text-align: left;background-color: #f0f8ff;}#sk-container-id-2 div.sk-toggleable__content pre {margin: 0.2em;color: black;border-radius: 0.25em;background-color: #f0f8ff;}#sk-container-id-2 input.sk-toggleable__control:checked~div.sk-toggleable__content {max-height: 200px;max-width: 100%;overflow: auto;}#sk-container-id-2 input.sk-toggleable__control:checked~label.sk-toggleable__label-arrow:before {content: \"▾\";}#sk-container-id-2 div.sk-estimator input.sk-toggleable__control:checked~label.sk-toggleable__label {background-color: #d4ebff;}#sk-container-id-2 div.sk-label input.sk-toggleable__control:checked~label.sk-toggleable__label {background-color: #d4ebff;}#sk-container-id-2 input.sk-hidden--visually {border: 0;clip: rect(1px 1px 1px 1px);clip: rect(1px, 1px, 1px, 1px);height: 1px;margin: -1px;overflow: hidden;padding: 0;position: absolute;width: 1px;}#sk-container-id-2 div.sk-estimator {font-family: monospace;background-color: #f0f8ff;border: 1px dotted black;border-radius: 0.25em;box-sizing: border-box;margin-bottom: 0.5em;}#sk-container-id-2 div.sk-estimator:hover {background-color: #d4ebff;}#sk-container-id-2 div.sk-parallel-item::after {content: \"\";width: 100%;border-bottom: 1px solid gray;flex-grow: 1;}#sk-container-id-2 div.sk-label:hover label.sk-toggleable__label {background-color: #d4ebff;}#sk-container-id-2 div.sk-serial::before {content: \"\";position: absolute;border-left: 1px solid gray;box-sizing: border-box;top: 0;bottom: 0;left: 50%;z-index: 0;}#sk-container-id-2 div.sk-serial {display: flex;flex-direction: column;align-items: center;background-color: white;padding-right: 0.2em;padding-left: 0.2em;position: relative;}#sk-container-id-2 div.sk-item {position: relative;z-index: 1;}#sk-container-id-2 div.sk-parallel {display: flex;align-items: stretch;justify-content: center;background-color: white;position: relative;}#sk-container-id-2 div.sk-item::before, #sk-container-id-2 div.sk-parallel-item::before {content: \"\";position: absolute;border-left: 1px solid gray;box-sizing: border-box;top: 0;bottom: 0;left: 50%;z-index: -1;}#sk-container-id-2 div.sk-parallel-item {display: flex;flex-direction: column;z-index: 1;position: relative;background-color: white;}#sk-container-id-2 div.sk-parallel-item:first-child::after {align-self: flex-end;width: 50%;}#sk-container-id-2 div.sk-parallel-item:last-child::after {align-self: flex-start;width: 50%;}#sk-container-id-2 div.sk-parallel-item:only-child::after {width: 0;}#sk-container-id-2 div.sk-dashed-wrapped {border: 1px dashed gray;margin: 0 0.4em 0.5em 0.4em;box-sizing: border-box;padding-bottom: 0.4em;background-color: white;}#sk-container-id-2 div.sk-label label {font-family: monospace;font-weight: bold;display: inline-block;line-height: 1.2em;}#sk-container-id-2 div.sk-label-container {text-align: center;}#sk-container-id-2 div.sk-container {/* jupyter's `normalize.less` sets `[hidden] { display: none; }` but bootstrap.min.css set `[hidden] { display: none !important; }` so we also need the `!important` here to be able to override the default hidden behavior on the sphinx rendered scikit-learn.org. See: https://github.com/scikit-learn/scikit-learn/issues/21755 */display: inline-block !important;position: relative;}#sk-container-id-2 div.sk-text-repr-fallback {display: none;}</style><div id=\"sk-container-id-2\" class=\"sk-top-container\"><div class=\"sk-text-repr-fallback\"><pre>RandomForestClassifier(max_depth=10)</pre><b>In a Jupyter environment, please rerun this cell to show the HTML representation or trust the notebook. <br />On GitHub, the HTML representation is unable to render, please try loading this page with nbviewer.org.</b></div><div class=\"sk-container\" hidden><div class=\"sk-item\"><div class=\"sk-estimator sk-toggleable\"><input class=\"sk-toggleable__control sk-hidden--visually\" id=\"sk-estimator-id-4\" type=\"checkbox\" checked><label for=\"sk-estimator-id-4\" class=\"sk-toggleable__label sk-toggleable__label-arrow\">RandomForestClassifier</label><div class=\"sk-toggleable__content\"><pre>RandomForestClassifier(max_depth=10)</pre></div></div></div></div></div>"
      ],
      "text/plain": [
       "RandomForestClassifier(max_depth=10)"
      ]
     },
     "execution_count": 11,
     "metadata": {},
     "output_type": "execute_result"
    }
   ],
   "source": [
    "%%time\n",
    "clf_rf = RandomForestClassifier(n_estimators=100, max_depth=10)\n",
    "clf_rf.fit(X_train, y_train)"
   ]
  },
  {
   "cell_type": "code",
   "execution_count": 12,
   "id": "92caaede",
   "metadata": {
    "execution": {
     "iopub.execute_input": "2022-08-02T07:56:44.834491Z",
     "iopub.status.busy": "2022-08-02T07:56:44.834221Z",
     "iopub.status.idle": "2022-08-02T07:56:45.095954Z",
     "shell.execute_reply": "2022-08-02T07:56:45.095256Z"
    },
    "papermill": {
     "duration": 0.27,
     "end_time": "2022-08-02T07:56:45.097866",
     "exception": false,
     "start_time": "2022-08-02T07:56:44.827866",
     "status": "completed"
    },
    "tags": []
   },
   "outputs": [
    {
     "name": "stdout",
     "output_type": "stream",
     "text": [
      "0.20735819588359936\n",
      "CPU times: user 253 ms, sys: 4.81 ms, total: 258 ms\n",
      "Wall time: 258 ms\n"
     ]
    }
   ],
   "source": [
    "%%time\n",
    "# Predict on test\n",
    "rf_test_preds = clf_rf.predict(X_test)\n",
    "# Score on the test data\n",
    "rf_f1 = f1_score(y_test, rf_test_preds, average='macro')\n",
    "print(rf_f1)"
   ]
  },
  {
   "cell_type": "code",
   "execution_count": 13,
   "id": "669ab6ae",
   "metadata": {
    "execution": {
     "iopub.execute_input": "2022-08-02T07:56:45.110301Z",
     "iopub.status.busy": "2022-08-02T07:56:45.110024Z",
     "iopub.status.idle": "2022-08-02T07:56:45.121479Z",
     "shell.execute_reply": "2022-08-02T07:56:45.120620Z"
    },
    "papermill": {
     "duration": 0.019967,
     "end_time": "2022-08-02T07:56:45.123554",
     "exception": false,
     "start_time": "2022-08-02T07:56:45.103587",
     "status": "completed"
    },
    "tags": []
   },
   "outputs": [],
   "source": [
    "# Store the model\n",
    "with open(str(product['model_rf']), 'wb') as f:\n",
    "    pickle.dump(clf_rf, f)"
   ]
  },
  {
   "cell_type": "markdown",
   "id": "2698311b",
   "metadata": {
    "papermill": {
     "duration": 0.00526,
     "end_time": "2022-08-02T07:56:45.134384",
     "exception": false,
     "start_time": "2022-08-02T07:56:45.129124",
     "status": "completed"
    },
    "tags": []
   },
   "source": [
    "## Gradient Boosting Classifier - takes too long"
   ]
  },
  {
   "cell_type": "code",
   "execution_count": 14,
   "id": "2af292f9",
   "metadata": {
    "execution": {
     "iopub.execute_input": "2022-08-02T07:56:45.145848Z",
     "iopub.status.busy": "2022-08-02T07:56:45.145573Z",
     "iopub.status.idle": "2022-08-02T07:56:45.148720Z",
     "shell.execute_reply": "2022-08-02T07:56:45.148026Z"
    },
    "papermill": {
     "duration": 0.011077,
     "end_time": "2022-08-02T07:56:45.150428",
     "exception": false,
     "start_time": "2022-08-02T07:56:45.139351",
     "status": "completed"
    },
    "tags": []
   },
   "outputs": [],
   "source": [
    "# %%time\n",
    "# clf_gbc = GradientBoostingClassifier(n_estimators=100, learning_rate=0.1, max_depth=10, random_state=random_seed)\n",
    "# clf_gbc.fit(X_train, y_train)"
   ]
  },
  {
   "cell_type": "code",
   "execution_count": 15,
   "id": "36f326bc",
   "metadata": {
    "execution": {
     "iopub.execute_input": "2022-08-02T07:56:45.161902Z",
     "iopub.status.busy": "2022-08-02T07:56:45.161647Z",
     "iopub.status.idle": "2022-08-02T07:56:45.164545Z",
     "shell.execute_reply": "2022-08-02T07:56:45.163939Z"
    },
    "papermill": {
     "duration": 0.01098,
     "end_time": "2022-08-02T07:56:45.166432",
     "exception": false,
     "start_time": "2022-08-02T07:56:45.155452",
     "status": "completed"
    },
    "tags": []
   },
   "outputs": [],
   "source": [
    "# %%time\n",
    "# # Predict on test\n",
    "# gbc_test_preds = clf_gbc.predict(X_test)\n",
    "# # Score on the test data\n",
    "# gbc_f1 = f1_score(y_test, gbc_test_preds, average='macro')\n",
    "# print(gbc_f1)"
   ]
  },
  {
   "cell_type": "markdown",
   "id": "58a51f07",
   "metadata": {
    "papermill": {
     "duration": 0.005628,
     "end_time": "2022-08-02T07:56:45.176897",
     "exception": false,
     "start_time": "2022-08-02T07:56:45.171269",
     "status": "completed"
    },
    "tags": []
   },
   "source": [
    "## MultinomialNB test"
   ]
  },
  {
   "cell_type": "code",
   "execution_count": 16,
   "id": "d11b7da4",
   "metadata": {
    "execution": {
     "iopub.execute_input": "2022-08-02T07:56:45.188458Z",
     "iopub.status.busy": "2022-08-02T07:56:45.188200Z",
     "iopub.status.idle": "2022-08-02T07:56:45.326086Z",
     "shell.execute_reply": "2022-08-02T07:56:45.325461Z"
    },
    "papermill": {
     "duration": 0.146059,
     "end_time": "2022-08-02T07:56:45.328072",
     "exception": false,
     "start_time": "2022-08-02T07:56:45.182013",
     "status": "completed"
    },
    "tags": []
   },
   "outputs": [
    {
     "name": "stdout",
     "output_type": "stream",
     "text": [
      "CPU times: user 122 ms, sys: 9.99 ms, total: 132 ms\n",
      "Wall time: 132 ms\n"
     ]
    },
    {
     "data": {
      "text/html": [
       "<style>#sk-container-id-3 {color: black;background-color: white;}#sk-container-id-3 pre{padding: 0;}#sk-container-id-3 div.sk-toggleable {background-color: white;}#sk-container-id-3 label.sk-toggleable__label {cursor: pointer;display: block;width: 100%;margin-bottom: 0;padding: 0.3em;box-sizing: border-box;text-align: center;}#sk-container-id-3 label.sk-toggleable__label-arrow:before {content: \"▸\";float: left;margin-right: 0.25em;color: #696969;}#sk-container-id-3 label.sk-toggleable__label-arrow:hover:before {color: black;}#sk-container-id-3 div.sk-estimator:hover label.sk-toggleable__label-arrow:before {color: black;}#sk-container-id-3 div.sk-toggleable__content {max-height: 0;max-width: 0;overflow: hidden;text-align: left;background-color: #f0f8ff;}#sk-container-id-3 div.sk-toggleable__content pre {margin: 0.2em;color: black;border-radius: 0.25em;background-color: #f0f8ff;}#sk-container-id-3 input.sk-toggleable__control:checked~div.sk-toggleable__content {max-height: 200px;max-width: 100%;overflow: auto;}#sk-container-id-3 input.sk-toggleable__control:checked~label.sk-toggleable__label-arrow:before {content: \"▾\";}#sk-container-id-3 div.sk-estimator input.sk-toggleable__control:checked~label.sk-toggleable__label {background-color: #d4ebff;}#sk-container-id-3 div.sk-label input.sk-toggleable__control:checked~label.sk-toggleable__label {background-color: #d4ebff;}#sk-container-id-3 input.sk-hidden--visually {border: 0;clip: rect(1px 1px 1px 1px);clip: rect(1px, 1px, 1px, 1px);height: 1px;margin: -1px;overflow: hidden;padding: 0;position: absolute;width: 1px;}#sk-container-id-3 div.sk-estimator {font-family: monospace;background-color: #f0f8ff;border: 1px dotted black;border-radius: 0.25em;box-sizing: border-box;margin-bottom: 0.5em;}#sk-container-id-3 div.sk-estimator:hover {background-color: #d4ebff;}#sk-container-id-3 div.sk-parallel-item::after {content: \"\";width: 100%;border-bottom: 1px solid gray;flex-grow: 1;}#sk-container-id-3 div.sk-label:hover label.sk-toggleable__label {background-color: #d4ebff;}#sk-container-id-3 div.sk-serial::before {content: \"\";position: absolute;border-left: 1px solid gray;box-sizing: border-box;top: 0;bottom: 0;left: 50%;z-index: 0;}#sk-container-id-3 div.sk-serial {display: flex;flex-direction: column;align-items: center;background-color: white;padding-right: 0.2em;padding-left: 0.2em;position: relative;}#sk-container-id-3 div.sk-item {position: relative;z-index: 1;}#sk-container-id-3 div.sk-parallel {display: flex;align-items: stretch;justify-content: center;background-color: white;position: relative;}#sk-container-id-3 div.sk-item::before, #sk-container-id-3 div.sk-parallel-item::before {content: \"\";position: absolute;border-left: 1px solid gray;box-sizing: border-box;top: 0;bottom: 0;left: 50%;z-index: -1;}#sk-container-id-3 div.sk-parallel-item {display: flex;flex-direction: column;z-index: 1;position: relative;background-color: white;}#sk-container-id-3 div.sk-parallel-item:first-child::after {align-self: flex-end;width: 50%;}#sk-container-id-3 div.sk-parallel-item:last-child::after {align-self: flex-start;width: 50%;}#sk-container-id-3 div.sk-parallel-item:only-child::after {width: 0;}#sk-container-id-3 div.sk-dashed-wrapped {border: 1px dashed gray;margin: 0 0.4em 0.5em 0.4em;box-sizing: border-box;padding-bottom: 0.4em;background-color: white;}#sk-container-id-3 div.sk-label label {font-family: monospace;font-weight: bold;display: inline-block;line-height: 1.2em;}#sk-container-id-3 div.sk-label-container {text-align: center;}#sk-container-id-3 div.sk-container {/* jupyter's `normalize.less` sets `[hidden] { display: none; }` but bootstrap.min.css set `[hidden] { display: none !important; }` so we also need the `!important` here to be able to override the default hidden behavior on the sphinx rendered scikit-learn.org. See: https://github.com/scikit-learn/scikit-learn/issues/21755 */display: inline-block !important;position: relative;}#sk-container-id-3 div.sk-text-repr-fallback {display: none;}</style><div id=\"sk-container-id-3\" class=\"sk-top-container\"><div class=\"sk-text-repr-fallback\"><pre>MultinomialNB()</pre><b>In a Jupyter environment, please rerun this cell to show the HTML representation or trust the notebook. <br />On GitHub, the HTML representation is unable to render, please try loading this page with nbviewer.org.</b></div><div class=\"sk-container\" hidden><div class=\"sk-item\"><div class=\"sk-estimator sk-toggleable\"><input class=\"sk-toggleable__control sk-hidden--visually\" id=\"sk-estimator-id-5\" type=\"checkbox\" checked><label for=\"sk-estimator-id-5\" class=\"sk-toggleable__label sk-toggleable__label-arrow\">MultinomialNB</label><div class=\"sk-toggleable__content\"><pre>MultinomialNB()</pre></div></div></div></div></div>"
      ],
      "text/plain": [
       "MultinomialNB()"
      ]
     },
     "execution_count": 16,
     "metadata": {},
     "output_type": "execute_result"
    }
   ],
   "source": [
    "%%time\n",
    "clf_mnb = MultinomialNB()\n",
    "clf_mnb.fit(X_train, y_train)"
   ]
  },
  {
   "cell_type": "code",
   "execution_count": 17,
   "id": "185e0e46",
   "metadata": {
    "execution": {
     "iopub.execute_input": "2022-08-02T07:56:45.342391Z",
     "iopub.status.busy": "2022-08-02T07:56:45.342088Z",
     "iopub.status.idle": "2022-08-02T07:56:45.435515Z",
     "shell.execute_reply": "2022-08-02T07:56:45.434804Z"
    },
    "papermill": {
     "duration": 0.103132,
     "end_time": "2022-08-02T07:56:45.437698",
     "exception": false,
     "start_time": "2022-08-02T07:56:45.334566",
     "status": "completed"
    },
    "tags": []
   },
   "outputs": [
    {
     "name": "stdout",
     "output_type": "stream",
     "text": [
      "0.5686163106453006\n",
      "CPU times: user 86.5 ms, sys: 3.33 ms, total: 89.9 ms\n",
      "Wall time: 89.3 ms\n"
     ]
    }
   ],
   "source": [
    "%%time\n",
    "# Predict on test\n",
    "mnb_test_preds = clf_mnb.predict(X_test)\n",
    "# Score on the test data\n",
    "mnb_f1 = f1_score(y_test, mnb_test_preds, average='macro')\n",
    "print(mnb_f1)"
   ]
  },
  {
   "cell_type": "code",
   "execution_count": 18,
   "id": "e6e33477",
   "metadata": {
    "execution": {
     "iopub.execute_input": "2022-08-02T07:56:45.451614Z",
     "iopub.status.busy": "2022-08-02T07:56:45.450778Z",
     "iopub.status.idle": "2022-08-02T07:56:45.456963Z",
     "shell.execute_reply": "2022-08-02T07:56:45.456153Z"
    },
    "papermill": {
     "duration": 0.015519,
     "end_time": "2022-08-02T07:56:45.459023",
     "exception": false,
     "start_time": "2022-08-02T07:56:45.443504",
     "status": "completed"
    },
    "tags": []
   },
   "outputs": [],
   "source": [
    "# Store the model\n",
    "with open(str(product['model_nb']), 'wb') as f:\n",
    "    pickle.dump(clf_mnb, f)"
   ]
  },
  {
   "cell_type": "markdown",
   "id": "80b303b4",
   "metadata": {
    "papermill": {
     "duration": 0.005694,
     "end_time": "2022-08-02T07:56:45.470923",
     "exception": false,
     "start_time": "2022-08-02T07:56:45.465229",
     "status": "completed"
    },
    "tags": []
   },
   "source": [
    "## Voting Classifier test"
   ]
  },
  {
   "cell_type": "code",
   "execution_count": 19,
   "id": "0a3e0ed1",
   "metadata": {
    "execution": {
     "iopub.execute_input": "2022-08-02T07:56:45.483486Z",
     "iopub.status.busy": "2022-08-02T07:56:45.483201Z",
     "iopub.status.idle": "2022-08-02T07:58:41.121587Z",
     "shell.execute_reply": "2022-08-02T07:58:41.120956Z"
    },
    "papermill": {
     "duration": 115.654627,
     "end_time": "2022-08-02T07:58:41.131115",
     "exception": false,
     "start_time": "2022-08-02T07:56:45.476488",
     "status": "completed"
    },
    "tags": []
   },
   "outputs": [
    {
     "data": {
      "text/html": [
       "<style>#sk-container-id-4 {color: black;background-color: white;}#sk-container-id-4 pre{padding: 0;}#sk-container-id-4 div.sk-toggleable {background-color: white;}#sk-container-id-4 label.sk-toggleable__label {cursor: pointer;display: block;width: 100%;margin-bottom: 0;padding: 0.3em;box-sizing: border-box;text-align: center;}#sk-container-id-4 label.sk-toggleable__label-arrow:before {content: \"▸\";float: left;margin-right: 0.25em;color: #696969;}#sk-container-id-4 label.sk-toggleable__label-arrow:hover:before {color: black;}#sk-container-id-4 div.sk-estimator:hover label.sk-toggleable__label-arrow:before {color: black;}#sk-container-id-4 div.sk-toggleable__content {max-height: 0;max-width: 0;overflow: hidden;text-align: left;background-color: #f0f8ff;}#sk-container-id-4 div.sk-toggleable__content pre {margin: 0.2em;color: black;border-radius: 0.25em;background-color: #f0f8ff;}#sk-container-id-4 input.sk-toggleable__control:checked~div.sk-toggleable__content {max-height: 200px;max-width: 100%;overflow: auto;}#sk-container-id-4 input.sk-toggleable__control:checked~label.sk-toggleable__label-arrow:before {content: \"▾\";}#sk-container-id-4 div.sk-estimator input.sk-toggleable__control:checked~label.sk-toggleable__label {background-color: #d4ebff;}#sk-container-id-4 div.sk-label input.sk-toggleable__control:checked~label.sk-toggleable__label {background-color: #d4ebff;}#sk-container-id-4 input.sk-hidden--visually {border: 0;clip: rect(1px 1px 1px 1px);clip: rect(1px, 1px, 1px, 1px);height: 1px;margin: -1px;overflow: hidden;padding: 0;position: absolute;width: 1px;}#sk-container-id-4 div.sk-estimator {font-family: monospace;background-color: #f0f8ff;border: 1px dotted black;border-radius: 0.25em;box-sizing: border-box;margin-bottom: 0.5em;}#sk-container-id-4 div.sk-estimator:hover {background-color: #d4ebff;}#sk-container-id-4 div.sk-parallel-item::after {content: \"\";width: 100%;border-bottom: 1px solid gray;flex-grow: 1;}#sk-container-id-4 div.sk-label:hover label.sk-toggleable__label {background-color: #d4ebff;}#sk-container-id-4 div.sk-serial::before {content: \"\";position: absolute;border-left: 1px solid gray;box-sizing: border-box;top: 0;bottom: 0;left: 50%;z-index: 0;}#sk-container-id-4 div.sk-serial {display: flex;flex-direction: column;align-items: center;background-color: white;padding-right: 0.2em;padding-left: 0.2em;position: relative;}#sk-container-id-4 div.sk-item {position: relative;z-index: 1;}#sk-container-id-4 div.sk-parallel {display: flex;align-items: stretch;justify-content: center;background-color: white;position: relative;}#sk-container-id-4 div.sk-item::before, #sk-container-id-4 div.sk-parallel-item::before {content: \"\";position: absolute;border-left: 1px solid gray;box-sizing: border-box;top: 0;bottom: 0;left: 50%;z-index: -1;}#sk-container-id-4 div.sk-parallel-item {display: flex;flex-direction: column;z-index: 1;position: relative;background-color: white;}#sk-container-id-4 div.sk-parallel-item:first-child::after {align-self: flex-end;width: 50%;}#sk-container-id-4 div.sk-parallel-item:last-child::after {align-self: flex-start;width: 50%;}#sk-container-id-4 div.sk-parallel-item:only-child::after {width: 0;}#sk-container-id-4 div.sk-dashed-wrapped {border: 1px dashed gray;margin: 0 0.4em 0.5em 0.4em;box-sizing: border-box;padding-bottom: 0.4em;background-color: white;}#sk-container-id-4 div.sk-label label {font-family: monospace;font-weight: bold;display: inline-block;line-height: 1.2em;}#sk-container-id-4 div.sk-label-container {text-align: center;}#sk-container-id-4 div.sk-container {/* jupyter's `normalize.less` sets `[hidden] { display: none; }` but bootstrap.min.css set `[hidden] { display: none !important; }` so we also need the `!important` here to be able to override the default hidden behavior on the sphinx rendered scikit-learn.org. See: https://github.com/scikit-learn/scikit-learn/issues/21755 */display: inline-block !important;position: relative;}#sk-container-id-4 div.sk-text-repr-fallback {display: none;}</style><div id=\"sk-container-id-4\" class=\"sk-top-container\"><div class=\"sk-text-repr-fallback\"><pre>VotingClassifier(estimators=[(&#x27;lr&#x27;,\n",
       "                              LogisticRegression(max_iter=1000,\n",
       "                                                 multi_class=&#x27;multinomial&#x27;,\n",
       "                                                 random_state=42)),\n",
       "                             (&#x27;rf&#x27;,\n",
       "                              RandomForestClassifier(n_estimators=50,\n",
       "                                                     random_state=42)),\n",
       "                             (&#x27;mnb&#x27;, MultinomialNB())],\n",
       "                 voting=&#x27;soft&#x27;)</pre><b>In a Jupyter environment, please rerun this cell to show the HTML representation or trust the notebook. <br />On GitHub, the HTML representation is unable to render, please try loading this page with nbviewer.org.</b></div><div class=\"sk-container\" hidden><div class=\"sk-item sk-dashed-wrapped\"><div class=\"sk-label-container\"><div class=\"sk-label sk-toggleable\"><input class=\"sk-toggleable__control sk-hidden--visually\" id=\"sk-estimator-id-6\" type=\"checkbox\" ><label for=\"sk-estimator-id-6\" class=\"sk-toggleable__label sk-toggleable__label-arrow\">VotingClassifier</label><div class=\"sk-toggleable__content\"><pre>VotingClassifier(estimators=[(&#x27;lr&#x27;,\n",
       "                              LogisticRegression(max_iter=1000,\n",
       "                                                 multi_class=&#x27;multinomial&#x27;,\n",
       "                                                 random_state=42)),\n",
       "                             (&#x27;rf&#x27;,\n",
       "                              RandomForestClassifier(n_estimators=50,\n",
       "                                                     random_state=42)),\n",
       "                             (&#x27;mnb&#x27;, MultinomialNB())],\n",
       "                 voting=&#x27;soft&#x27;)</pre></div></div></div><div class=\"sk-parallel\"><div class=\"sk-parallel-item\"><div class=\"sk-item\"><div class=\"sk-label-container\"><div class=\"sk-label sk-toggleable\"><label>lr</label></div></div><div class=\"sk-serial\"><div class=\"sk-item\"><div class=\"sk-estimator sk-toggleable\"><input class=\"sk-toggleable__control sk-hidden--visually\" id=\"sk-estimator-id-7\" type=\"checkbox\" ><label for=\"sk-estimator-id-7\" class=\"sk-toggleable__label sk-toggleable__label-arrow\">LogisticRegression</label><div class=\"sk-toggleable__content\"><pre>LogisticRegression(max_iter=1000, multi_class=&#x27;multinomial&#x27;, random_state=42)</pre></div></div></div></div></div></div><div class=\"sk-parallel-item\"><div class=\"sk-item\"><div class=\"sk-label-container\"><div class=\"sk-label sk-toggleable\"><label>rf</label></div></div><div class=\"sk-serial\"><div class=\"sk-item\"><div class=\"sk-estimator sk-toggleable\"><input class=\"sk-toggleable__control sk-hidden--visually\" id=\"sk-estimator-id-8\" type=\"checkbox\" ><label for=\"sk-estimator-id-8\" class=\"sk-toggleable__label sk-toggleable__label-arrow\">RandomForestClassifier</label><div class=\"sk-toggleable__content\"><pre>RandomForestClassifier(n_estimators=50, random_state=42)</pre></div></div></div></div></div></div><div class=\"sk-parallel-item\"><div class=\"sk-item\"><div class=\"sk-label-container\"><div class=\"sk-label sk-toggleable\"><label>mnb</label></div></div><div class=\"sk-serial\"><div class=\"sk-item\"><div class=\"sk-estimator sk-toggleable\"><input class=\"sk-toggleable__control sk-hidden--visually\" id=\"sk-estimator-id-9\" type=\"checkbox\" ><label for=\"sk-estimator-id-9\" class=\"sk-toggleable__label sk-toggleable__label-arrow\">MultinomialNB</label><div class=\"sk-toggleable__content\"><pre>MultinomialNB()</pre></div></div></div></div></div></div></div></div></div></div>"
      ],
      "text/plain": [
       "VotingClassifier(estimators=[('lr',\n",
       "                              LogisticRegression(max_iter=1000,\n",
       "                                                 multi_class='multinomial',\n",
       "                                                 random_state=42)),\n",
       "                             ('rf',\n",
       "                              RandomForestClassifier(n_estimators=50,\n",
       "                                                     random_state=42)),\n",
       "                             ('mnb', MultinomialNB())],\n",
       "                 voting='soft')"
      ]
     },
     "execution_count": 19,
     "metadata": {},
     "output_type": "execute_result"
    }
   ],
   "source": [
    "clf1 = LogisticRegression(solver='lbfgs', multi_class='multinomial', random_state=42, max_iter=1000)\n",
    "clf2 = RandomForestClassifier(n_estimators=50, random_state=42)\n",
    "clf3 = MultinomialNB()\n",
    "\n",
    "eclf1 = VotingClassifier(estimators=[('lr', clf1), ('rf', clf2), ('mnb', clf3)], voting='soft')\n",
    "eclf1.fit(X_train, y_train)"
   ]
  },
  {
   "cell_type": "code",
   "execution_count": 20,
   "id": "a4a7fdb5",
   "metadata": {
    "execution": {
     "iopub.execute_input": "2022-08-02T07:58:41.145050Z",
     "iopub.status.busy": "2022-08-02T07:58:41.144751Z",
     "iopub.status.idle": "2022-08-02T07:58:41.653914Z",
     "shell.execute_reply": "2022-08-02T07:58:41.653263Z"
    },
    "papermill": {
     "duration": 0.518234,
     "end_time": "2022-08-02T07:58:41.655836",
     "exception": false,
     "start_time": "2022-08-02T07:58:41.137602",
     "status": "completed"
    },
    "tags": []
   },
   "outputs": [
    {
     "name": "stdout",
     "output_type": "stream",
     "text": [
      "0.6894118557773756\n",
      "CPU times: user 473 ms, sys: 32 ms, total: 505 ms\n",
      "Wall time: 505 ms\n"
     ]
    }
   ],
   "source": [
    "%%time\n",
    "# Predict on test\n",
    "ec_test_preds = eclf1.predict(X_test)\n",
    "# Score on the test data\n",
    "ec_f1 = f1_score(y_test, ec_test_preds, average='macro')\n",
    "print(ec_f1)"
   ]
  },
  {
   "cell_type": "code",
   "execution_count": 21,
   "id": "05f6dd12",
   "metadata": {
    "execution": {
     "iopub.execute_input": "2022-08-02T07:58:41.669742Z",
     "iopub.status.busy": "2022-08-02T07:58:41.669460Z",
     "iopub.status.idle": "2022-08-02T07:58:42.195039Z",
     "shell.execute_reply": "2022-08-02T07:58:42.194113Z"
    },
    "papermill": {
     "duration": 0.535357,
     "end_time": "2022-08-02T07:58:42.197672",
     "exception": false,
     "start_time": "2022-08-02T07:58:41.662315",
     "status": "completed"
    },
    "tags": []
   },
   "outputs": [],
   "source": [
    "# Store the model\n",
    "with open(str(product['model_votingc']), 'wb') as f:\n",
    "    pickle.dump(eclf1, f)"
   ]
  },
  {
   "cell_type": "code",
   "execution_count": null,
   "id": "c0af060e",
   "metadata": {
    "papermill": {
     "duration": 0.00744,
     "end_time": "2022-08-02T07:58:42.213354",
     "exception": false,
     "start_time": "2022-08-02T07:58:42.205914",
     "status": "completed"
    },
    "tags": []
   },
   "outputs": [],
   "source": []
  }
 ],
 "metadata": {
  "jupytext": {
   "cell_metadata_filter": "tags,-all",
   "main_language": "python",
   "notebook_metadata_filter": "-all",
   "text_representation": {
    "extension": ".py",
    "format_name": "light"
   }
  },
  "kernelspec": {
   "display_name": "Python 3 (ipykernel)",
   "language": "python",
   "name": "python3"
  },
  "language_info": {
   "codemirror_mode": {
    "name": "ipython",
    "version": 3
   },
   "file_extension": ".py",
   "mimetype": "text/x-python",
   "name": "python",
   "nbconvert_exporter": "python",
   "pygments_lexer": "ipython3",
   "version": "3.9.12"
  },
  "papermill": {
   "duration": 160.823266,
   "end_time": "2022-08-02T07:58:42.948407",
   "exception": null,
   "input_path": "/var/folders/lw/k7hqg3bn7s326rs6jxn046b40000gp/T/tmp9x2fxoft.ipynb",
   "output_path": "/Users/mboussarov/_umsi/Capstone/umads_697_data_medics/pipeline/output/category_classification_models.ipynb",
   "parameters": {
    "product": {
     "model_lr": "/Users/mboussarov/_umsi/Capstone/umads_697_data_medics/pipeline/output/model_lr.pkl",
     "model_nb": "/Users/mboussarov/_umsi/Capstone/umads_697_data_medics/pipeline/output/model_nb.csv",
     "model_rf": "/Users/mboussarov/_umsi/Capstone/umads_697_data_medics/pipeline/output/model_rf.pkl",
     "model_votingc": "/Users/mboussarov/_umsi/Capstone/umads_697_data_medics/pipeline/output/model_votingc.csv",
     "nb": "/Users/mboussarov/_umsi/Capstone/umads_697_data_medics/pipeline/output/category_classification_models.ipynb"
    },
    "random_seed": 42,
    "upstream": {
     "vectorizer": {
      "nb": "/Users/mboussarov/_umsi/Capstone/umads_697_data_medics/pipeline/output/vectorizer.ipynb",
      "vectorizer": "/Users/mboussarov/_umsi/Capstone/umads_697_data_medics/pipeline/output/vectorizer.pkl",
      "vocab": "/Users/mboussarov/_umsi/Capstone/umads_697_data_medics/pipeline/output/vocab.pkl"
     }
    }
   },
   "start_time": "2022-08-02T07:56:02.125141"
  }
 },
 "nbformat": 4,
 "nbformat_minor": 5
}