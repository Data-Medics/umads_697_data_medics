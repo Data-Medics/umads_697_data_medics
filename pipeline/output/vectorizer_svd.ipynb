{
 "cells": [
  {
   "cell_type": "markdown",
   "id": "a5246422",
   "metadata": {
    "papermill": {
     "duration": 0.006125,
     "end_time": "2022-07-31T01:22:50.359206",
     "exception": false,
     "start_time": "2022-07-31T01:22:50.353081",
     "status": "completed"
    },
    "tags": []
   },
   "source": [
    "# Building tweet vectorizer using a standard TweetTokenizer followed by a dimensionality reduction step"
   ]
  },
  {
   "cell_type": "code",
   "execution_count": 1,
   "id": "6d3c1e29",
   "metadata": {
    "execution": {
     "iopub.execute_input": "2022-07-31T01:22:50.368132Z",
     "iopub.status.busy": "2022-07-31T01:22:50.367390Z",
     "iopub.status.idle": "2022-07-31T01:22:51.560799Z",
     "shell.execute_reply": "2022-07-31T01:22:51.560226Z"
    },
    "papermill": {
     "duration": 1.200035,
     "end_time": "2022-07-31T01:22:51.562886",
     "exception": false,
     "start_time": "2022-07-31T01:22:50.362851",
     "status": "completed"
    },
    "tags": []
   },
   "outputs": [],
   "source": [
    "import pandas as pd\n",
    "from sklearn.metrics import f1_score\n",
    "import pickle\n",
    "\n",
    "from sklearn.feature_extraction.text import TfidfVectorizer\n",
    "from nltk.tokenize import TweetTokenizer\n",
    "from sklearn.decomposition import TruncatedSVD\n",
    "from sklearn.pipeline import Pipeline\n",
    "from sklearn.linear_model import LogisticRegression"
   ]
  },
  {
   "cell_type": "code",
   "execution_count": 2,
   "id": "98a3e468",
   "metadata": {
    "execution": {
     "iopub.execute_input": "2022-07-31T01:22:51.568894Z",
     "iopub.status.busy": "2022-07-31T01:22:51.568594Z",
     "iopub.status.idle": "2022-07-31T01:22:51.571418Z",
     "shell.execute_reply": "2022-07-31T01:22:51.570946Z"
    },
    "papermill": {
     "duration": 0.007651,
     "end_time": "2022-07-31T01:22:51.573100",
     "exception": false,
     "start_time": "2022-07-31T01:22:51.565449",
     "status": "completed"
    },
    "tags": [
     "parameters"
    ]
   },
   "outputs": [],
   "source": [
    "upstream = []\n",
    "random_seed = 42"
   ]
  },
  {
   "cell_type": "code",
   "execution_count": 3,
   "id": "ae3dbe85",
   "metadata": {
    "execution": {
     "iopub.execute_input": "2022-07-31T01:22:51.578615Z",
     "iopub.status.busy": "2022-07-31T01:22:51.578389Z",
     "iopub.status.idle": "2022-07-31T01:22:51.581909Z",
     "shell.execute_reply": "2022-07-31T01:22:51.581284Z"
    },
    "papermill": {
     "duration": 0.008325,
     "end_time": "2022-07-31T01:22:51.583706",
     "exception": false,
     "start_time": "2022-07-31T01:22:51.575381",
     "status": "completed"
    },
    "tags": [
     "injected-parameters"
    ]
   },
   "outputs": [],
   "source": [
    "# Parameters\n",
    "random_seed = 42\n",
    "product = {\n",
    "    \"nb\": \"/Users/mboussarov/_umsi/Capstone/umads_697_data_medics/pipeline/output/vectorizer_svd.ipynb\",\n",
    "    \"vectorizer\": \"/Users/mboussarov/_umsi/Capstone/umads_697_data_medics/pipeline/output/vectorizer_svd.pkl\",\n",
    "    \"vocab\": \"/Users/mboussarov/_umsi/Capstone/umads_697_data_medics/pipeline/output/vocab_svd.pkl\",\n",
    "}\n"
   ]
  },
  {
   "cell_type": "markdown",
   "id": "2fbc18a6",
   "metadata": {
    "papermill": {
     "duration": 0.002436,
     "end_time": "2022-07-31T01:22:51.588369",
     "exception": false,
     "start_time": "2022-07-31T01:22:51.585933",
     "status": "completed"
    },
    "tags": []
   },
   "source": [
    "## Read the train and test data"
   ]
  },
  {
   "cell_type": "code",
   "execution_count": 4,
   "id": "527d2113",
   "metadata": {
    "execution": {
     "iopub.execute_input": "2022-07-31T01:22:51.594872Z",
     "iopub.status.busy": "2022-07-31T01:22:51.594610Z",
     "iopub.status.idle": "2022-07-31T01:22:51.818193Z",
     "shell.execute_reply": "2022-07-31T01:22:51.817611Z"
    },
    "lines_to_next_cell": 0,
    "papermill": {
     "duration": 0.229974,
     "end_time": "2022-07-31T01:22:51.820502",
     "exception": false,
     "start_time": "2022-07-31T01:22:51.590528",
     "status": "completed"
    },
    "tags": []
   },
   "outputs": [
    {
     "data": {
      "text/html": [
       "<div>\n",
       "<style scoped>\n",
       "    .dataframe tbody tr th:only-of-type {\n",
       "        vertical-align: middle;\n",
       "    }\n",
       "\n",
       "    .dataframe tbody tr th {\n",
       "        vertical-align: top;\n",
       "    }\n",
       "\n",
       "    .dataframe thead th {\n",
       "        text-align: right;\n",
       "    }\n",
       "</style>\n",
       "<table border=\"1\" class=\"dataframe\">\n",
       "  <thead>\n",
       "    <tr style=\"text-align: right;\">\n",
       "      <th></th>\n",
       "      <th>tweet_id</th>\n",
       "      <th>tweet_text</th>\n",
       "      <th>class_label</th>\n",
       "    </tr>\n",
       "  </thead>\n",
       "  <tbody>\n",
       "    <tr>\n",
       "      <th>10242</th>\n",
       "      <td>1039497600565764096</td>\n",
       "      <td>#Florence potentially the strongest storm to h...</td>\n",
       "      <td>caution_and_advice</td>\n",
       "    </tr>\n",
       "    <tr>\n",
       "      <th>43549</th>\n",
       "      <td>768860989525725185</td>\n",
       "      <td>If you want to support, this is the way to don...</td>\n",
       "      <td>rescue_volunteering_or_donation_effort</td>\n",
       "    </tr>\n",
       "    <tr>\n",
       "      <th>31556</th>\n",
       "      <td>1111195521010552832</td>\n",
       "      <td>The destruction in Beira fell #CycloneIdai is ...</td>\n",
       "      <td>infrastructure_and_utility_damage</td>\n",
       "    </tr>\n",
       "    <tr>\n",
       "      <th>24319</th>\n",
       "      <td>908885698991845378</td>\n",
       "      <td>Victims of Hurricane #Irma that hit the #USVir...</td>\n",
       "      <td>other_relevant_information</td>\n",
       "    </tr>\n",
       "    <tr>\n",
       "      <th>8154</th>\n",
       "      <td>1041702423998259201</td>\n",
       "      <td>Join the The Childrens Village team! See our l...</td>\n",
       "      <td>not_humanitarian</td>\n",
       "    </tr>\n",
       "  </tbody>\n",
       "</table>\n",
       "</div>"
      ],
      "text/plain": [
       "                  tweet_id                                         tweet_text  \\\n",
       "10242  1039497600565764096  #Florence potentially the strongest storm to h...   \n",
       "43549   768860989525725185  If you want to support, this is the way to don...   \n",
       "31556  1111195521010552832  The destruction in Beira fell #CycloneIdai is ...   \n",
       "24319   908885698991845378  Victims of Hurricane #Irma that hit the #USVir...   \n",
       "8154   1041702423998259201  Join the The Childrens Village team! See our l...   \n",
       "\n",
       "                                  class_label  \n",
       "10242                      caution_and_advice  \n",
       "43549  rescue_volunteering_or_donation_effort  \n",
       "31556       infrastructure_and_utility_damage  \n",
       "24319              other_relevant_information  \n",
       "8154                         not_humanitarian  "
      ]
     },
     "execution_count": 4,
     "metadata": {},
     "output_type": "execute_result"
    }
   ],
   "source": [
    "df_train = pd.read_csv('../data/HumAID_data_v1.0/all_combined/all_train.tsv', sep='\\t')\n",
    "df_test = pd.read_csv('../data/HumAID_data_v1.0/all_combined/all_test.tsv', sep='\\t')\n",
    "\n",
    "df_train.dropna(inplace=True)\n",
    "df_test.dropna(inplace=True)\n",
    "\n",
    "df_train.sample(5)"
   ]
  },
  {
   "cell_type": "markdown",
   "id": "df7d240b",
   "metadata": {
    "papermill": {
     "duration": 0.002785,
     "end_time": "2022-07-31T01:22:51.826373",
     "exception": false,
     "start_time": "2022-07-31T01:22:51.823588",
     "status": "completed"
    },
    "tags": []
   },
   "source": [
    "## Build and train the vectorizer"
   ]
  },
  {
   "cell_type": "code",
   "execution_count": 5,
   "id": "8691d3a3",
   "metadata": {
    "execution": {
     "iopub.execute_input": "2022-07-31T01:22:51.832846Z",
     "iopub.status.busy": "2022-07-31T01:22:51.832567Z",
     "iopub.status.idle": "2022-07-31T01:22:51.837376Z",
     "shell.execute_reply": "2022-07-31T01:22:51.836814Z"
    },
    "papermill": {
     "duration": 0.010317,
     "end_time": "2022-07-31T01:22:51.839306",
     "exception": false,
     "start_time": "2022-07-31T01:22:51.828989",
     "status": "completed"
    },
    "tags": []
   },
   "outputs": [],
   "source": [
    "tokenizer = TweetTokenizer(preserve_case=False, reduce_len=True, strip_handles=True)\n",
    "\n",
    "vectorizer = TfidfVectorizer(\n",
    "        tokenizer=tokenizer.tokenize, #tokenize_text,\n",
    "        strip_accents='unicode',\n",
    "        ngram_range=(1, 2),\n",
    "        max_df=0.90,\n",
    "        min_df=1,\n",
    "        max_features=10000,\n",
    "        use_idf=True\n",
    "    )\n",
    "\n",
    "svd = TruncatedSVD(n_components=500, n_iter=30, random_state=random_seed)\n",
    "\n",
    "pipeline = Pipeline([\n",
    "    ('vectorizer', vectorizer),\n",
    "    ('svd', svd)\n",
    "])"
   ]
  },
  {
   "cell_type": "code",
   "execution_count": 6,
   "id": "7d169f22",
   "metadata": {
    "execution": {
     "iopub.execute_input": "2022-07-31T01:22:51.846255Z",
     "iopub.status.busy": "2022-07-31T01:22:51.845944Z",
     "iopub.status.idle": "2022-07-31T01:25:00.763508Z",
     "shell.execute_reply": "2022-07-31T01:25:00.746431Z"
    },
    "papermill": {
     "duration": 129.071339,
     "end_time": "2022-07-31T01:25:00.913523",
     "exception": false,
     "start_time": "2022-07-31T01:22:51.842184",
     "status": "completed"
    },
    "tags": []
   },
   "outputs": [
    {
     "name": "stdout",
     "output_type": "stream",
     "text": [
      "Categories:  ['injured_or_dead_people', 'not_humanitarian', 'caution_and_advice', 'missing_or_found_people', 'displaced_people_and_evacuations', 'rescue_volunteering_or_donation_effort', 'other_relevant_information', 'sympathy_and_support', 'requests_or_urgent_needs', 'infrastructure_and_utility_damage']\n",
      "Vectorizer rows and columns:  (53516, 500)\n",
      "\n",
      "CPU times: user 3min 35s, sys: 34.5 s, total: 4min 9s\n",
      "Wall time: 2min 8s\n"
     ]
    }
   ],
   "source": [
    "%%time\n",
    "X_train = pipeline.fit_transform(df_train['tweet_text'])\n",
    "y_train = list(df_train['class_label'])\n",
    "\n",
    "X_test = pipeline.transform(df_test['tweet_text'])\n",
    "y_test = list(df_test['class_label'])\n",
    "\n",
    "print('Categories: ', list(set(y_train)))\n",
    "print('Vectorizer rows and columns: ', X_train.shape)\n",
    "print()"
   ]
  },
  {
   "cell_type": "markdown",
   "id": "93930de9",
   "metadata": {
    "papermill": {
     "duration": 0.112813,
     "end_time": "2022-07-31T01:25:01.109443",
     "exception": false,
     "start_time": "2022-07-31T01:25:00.996630",
     "status": "completed"
    },
    "tags": []
   },
   "source": [
    "## Test/validate with logistic regression"
   ]
  },
  {
   "cell_type": "code",
   "execution_count": 7,
   "id": "dc1fad6e",
   "metadata": {
    "execution": {
     "iopub.execute_input": "2022-07-31T01:25:01.295064Z",
     "iopub.status.busy": "2022-07-31T01:25:01.280521Z",
     "iopub.status.idle": "2022-07-31T01:26:20.611856Z",
     "shell.execute_reply": "2022-07-31T01:26:20.609872Z"
    },
    "papermill": {
     "duration": 79.437564,
     "end_time": "2022-07-31T01:26:20.630439",
     "exception": false,
     "start_time": "2022-07-31T01:25:01.192875",
     "status": "completed"
    },
    "tags": []
   },
   "outputs": [
    {
     "name": "stdout",
     "output_type": "stream",
     "text": [
      "CPU times: user 3min 14s, sys: 27 s, total: 3min 41s\n",
      "Wall time: 1min 19s\n"
     ]
    },
    {
     "data": {
      "text/html": [
       "<style>#sk-container-id-1 {color: black;background-color: white;}#sk-container-id-1 pre{padding: 0;}#sk-container-id-1 div.sk-toggleable {background-color: white;}#sk-container-id-1 label.sk-toggleable__label {cursor: pointer;display: block;width: 100%;margin-bottom: 0;padding: 0.3em;box-sizing: border-box;text-align: center;}#sk-container-id-1 label.sk-toggleable__label-arrow:before {content: \"▸\";float: left;margin-right: 0.25em;color: #696969;}#sk-container-id-1 label.sk-toggleable__label-arrow:hover:before {color: black;}#sk-container-id-1 div.sk-estimator:hover label.sk-toggleable__label-arrow:before {color: black;}#sk-container-id-1 div.sk-toggleable__content {max-height: 0;max-width: 0;overflow: hidden;text-align: left;background-color: #f0f8ff;}#sk-container-id-1 div.sk-toggleable__content pre {margin: 0.2em;color: black;border-radius: 0.25em;background-color: #f0f8ff;}#sk-container-id-1 input.sk-toggleable__control:checked~div.sk-toggleable__content {max-height: 200px;max-width: 100%;overflow: auto;}#sk-container-id-1 input.sk-toggleable__control:checked~label.sk-toggleable__label-arrow:before {content: \"▾\";}#sk-container-id-1 div.sk-estimator input.sk-toggleable__control:checked~label.sk-toggleable__label {background-color: #d4ebff;}#sk-container-id-1 div.sk-label input.sk-toggleable__control:checked~label.sk-toggleable__label {background-color: #d4ebff;}#sk-container-id-1 input.sk-hidden--visually {border: 0;clip: rect(1px 1px 1px 1px);clip: rect(1px, 1px, 1px, 1px);height: 1px;margin: -1px;overflow: hidden;padding: 0;position: absolute;width: 1px;}#sk-container-id-1 div.sk-estimator {font-family: monospace;background-color: #f0f8ff;border: 1px dotted black;border-radius: 0.25em;box-sizing: border-box;margin-bottom: 0.5em;}#sk-container-id-1 div.sk-estimator:hover {background-color: #d4ebff;}#sk-container-id-1 div.sk-parallel-item::after {content: \"\";width: 100%;border-bottom: 1px solid gray;flex-grow: 1;}#sk-container-id-1 div.sk-label:hover label.sk-toggleable__label {background-color: #d4ebff;}#sk-container-id-1 div.sk-serial::before {content: \"\";position: absolute;border-left: 1px solid gray;box-sizing: border-box;top: 0;bottom: 0;left: 50%;z-index: 0;}#sk-container-id-1 div.sk-serial {display: flex;flex-direction: column;align-items: center;background-color: white;padding-right: 0.2em;padding-left: 0.2em;position: relative;}#sk-container-id-1 div.sk-item {position: relative;z-index: 1;}#sk-container-id-1 div.sk-parallel {display: flex;align-items: stretch;justify-content: center;background-color: white;position: relative;}#sk-container-id-1 div.sk-item::before, #sk-container-id-1 div.sk-parallel-item::before {content: \"\";position: absolute;border-left: 1px solid gray;box-sizing: border-box;top: 0;bottom: 0;left: 50%;z-index: -1;}#sk-container-id-1 div.sk-parallel-item {display: flex;flex-direction: column;z-index: 1;position: relative;background-color: white;}#sk-container-id-1 div.sk-parallel-item:first-child::after {align-self: flex-end;width: 50%;}#sk-container-id-1 div.sk-parallel-item:last-child::after {align-self: flex-start;width: 50%;}#sk-container-id-1 div.sk-parallel-item:only-child::after {width: 0;}#sk-container-id-1 div.sk-dashed-wrapped {border: 1px dashed gray;margin: 0 0.4em 0.5em 0.4em;box-sizing: border-box;padding-bottom: 0.4em;background-color: white;}#sk-container-id-1 div.sk-label label {font-family: monospace;font-weight: bold;display: inline-block;line-height: 1.2em;}#sk-container-id-1 div.sk-label-container {text-align: center;}#sk-container-id-1 div.sk-container {/* jupyter's `normalize.less` sets `[hidden] { display: none; }` but bootstrap.min.css set `[hidden] { display: none !important; }` so we also need the `!important` here to be able to override the default hidden behavior on the sphinx rendered scikit-learn.org. See: https://github.com/scikit-learn/scikit-learn/issues/21755 */display: inline-block !important;position: relative;}#sk-container-id-1 div.sk-text-repr-fallback {display: none;}</style><div id=\"sk-container-id-1\" class=\"sk-top-container\"><div class=\"sk-text-repr-fallback\"><pre>LogisticRegression(max_iter=1000, random_state=42)</pre><b>In a Jupyter environment, please rerun this cell to show the HTML representation or trust the notebook. <br />On GitHub, the HTML representation is unable to render, please try loading this page with nbviewer.org.</b></div><div class=\"sk-container\" hidden><div class=\"sk-item\"><div class=\"sk-estimator sk-toggleable\"><input class=\"sk-toggleable__control sk-hidden--visually\" id=\"sk-estimator-id-1\" type=\"checkbox\" checked><label for=\"sk-estimator-id-1\" class=\"sk-toggleable__label sk-toggleable__label-arrow\">LogisticRegression</label><div class=\"sk-toggleable__content\"><pre>LogisticRegression(max_iter=1000, random_state=42)</pre></div></div></div></div></div>"
      ],
      "text/plain": [
       "LogisticRegression(max_iter=1000, random_state=42)"
      ]
     },
     "execution_count": 7,
     "metadata": {},
     "output_type": "execute_result"
    }
   ],
   "source": [
    "%%time\n",
    "# Prepate the logistic regression classifier\n",
    "clf = LogisticRegression(solver='lbfgs', multi_class='auto', random_state=random_seed, max_iter=1000)\n",
    "clf.fit(X_train, y_train)"
   ]
  },
  {
   "cell_type": "code",
   "execution_count": 8,
   "id": "b200cb45",
   "metadata": {
    "execution": {
     "iopub.execute_input": "2022-07-31T01:26:20.655788Z",
     "iopub.status.busy": "2022-07-31T01:26:20.655012Z",
     "iopub.status.idle": "2022-07-31T01:26:20.918989Z",
     "shell.execute_reply": "2022-07-31T01:26:20.917512Z"
    },
    "papermill": {
     "duration": 0.281431,
     "end_time": "2022-07-31T01:26:20.923270",
     "exception": false,
     "start_time": "2022-07-31T01:26:20.641839",
     "status": "completed"
    },
    "tags": []
   },
   "outputs": [
    {
     "name": "stdout",
     "output_type": "stream",
     "text": [
      "F1 score on the test data:  0.6809571308948223\n",
      "CPU times: user 948 ms, sys: 313 ms, total: 1.26 s\n",
      "Wall time: 256 ms\n"
     ]
    }
   ],
   "source": [
    "%%time\n",
    "# Predict on test\n",
    "lr_test_preds = clf.predict(X_test)\n",
    "# Score on the test data\n",
    "lr_f1 = f1_score(y_test, lr_test_preds, average='macro')\n",
    "print('F1 score on the test data: ', lr_f1)"
   ]
  },
  {
   "cell_type": "markdown",
   "id": "91691f1e",
   "metadata": {
    "papermill": {
     "duration": 0.007289,
     "end_time": "2022-07-31T01:26:20.938401",
     "exception": false,
     "start_time": "2022-07-31T01:26:20.931112",
     "status": "completed"
    },
    "tags": []
   },
   "source": [
    "## Persist the vectorizer to be used downstream"
   ]
  },
  {
   "cell_type": "code",
   "execution_count": 9,
   "id": "9deaa201",
   "metadata": {
    "execution": {
     "iopub.execute_input": "2022-07-31T01:26:20.958744Z",
     "iopub.status.busy": "2022-07-31T01:26:20.958070Z",
     "iopub.status.idle": "2022-07-31T01:26:21.291599Z",
     "shell.execute_reply": "2022-07-31T01:26:21.290250Z"
    },
    "papermill": {
     "duration": 0.349245,
     "end_time": "2022-07-31T01:26:21.295926",
     "exception": false,
     "start_time": "2022-07-31T01:26:20.946681",
     "status": "completed"
    },
    "tags": []
   },
   "outputs": [],
   "source": [
    "with open(str(product['vectorizer']), 'wb') as f:\n",
    "    pickle.dump(vectorizer, f)\n",
    "\n",
    "with open(str(product['vocab']), 'wb') as f:\n",
    "    pickle.dump(vectorizer.vocabulary_, f)"
   ]
  }
 ],
 "metadata": {
  "jupytext": {
   "cell_metadata_filter": "tags,-all",
   "main_language": "python",
   "notebook_metadata_filter": "-all",
   "text_representation": {
    "extension": ".py",
    "format_name": "light"
   }
  },
  "kernelspec": {
   "display_name": "Python 3 (ipykernel)",
   "language": "python",
   "name": "python3"
  },
  "language_info": {
   "codemirror_mode": {
    "name": "ipython",
    "version": 3
   },
   "file_extension": ".py",
   "mimetype": "text/x-python",
   "name": "python",
   "nbconvert_exporter": "python",
   "pygments_lexer": "ipython3",
   "version": "3.9.12"
  },
  "papermill": {
   "duration": 212.970872,
   "end_time": "2022-07-31T01:26:22.153477",
   "exception": null,
   "input_path": "/var/folders/lw/k7hqg3bn7s326rs6jxn046b40000gp/T/tmpja_q33lv.ipynb",
   "output_path": "/Users/mboussarov/_umsi/Capstone/umads_697_data_medics/pipeline/output/vectorizer_svd.ipynb",
   "parameters": {
    "product": {
     "nb": "/Users/mboussarov/_umsi/Capstone/umads_697_data_medics/pipeline/output/vectorizer_svd.ipynb",
     "vectorizer": "/Users/mboussarov/_umsi/Capstone/umads_697_data_medics/pipeline/output/vectorizer_svd.pkl",
     "vocab": "/Users/mboussarov/_umsi/Capstone/umads_697_data_medics/pipeline/output/vocab_svd.pkl"
    },
    "random_seed": 42
   },
   "start_time": "2022-07-31T01:22:49.182605"
  }
 },
 "nbformat": 4,
 "nbformat_minor": 5
}