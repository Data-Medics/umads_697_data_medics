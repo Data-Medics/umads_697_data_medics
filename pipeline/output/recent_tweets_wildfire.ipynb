{
 "cells": [
  {
   "cell_type": "markdown",
   "id": "f955832d",
   "metadata": {
    "papermill": {
     "duration": 0.003002,
     "end_time": "2022-08-07T07:19:30.368384",
     "exception": false,
     "start_time": "2022-08-07T07:19:30.365382",
     "status": "completed"
    },
    "tags": []
   },
   "source": [
    "# Retreve tweets from the past one week by query"
   ]
  },
  {
   "cell_type": "code",
   "execution_count": 1,
   "id": "1e3ec075",
   "metadata": {
    "execution": {
     "iopub.execute_input": "2022-08-07T07:19:30.373794Z",
     "iopub.status.busy": "2022-08-07T07:19:30.373466Z",
     "iopub.status.idle": "2022-08-07T07:19:31.615296Z",
     "shell.execute_reply": "2022-08-07T07:19:31.614693Z"
    },
    "papermill": {
     "duration": 1.246823,
     "end_time": "2022-08-07T07:19:31.617449",
     "exception": false,
     "start_time": "2022-08-07T07:19:30.370626",
     "status": "completed"
    },
    "tags": []
   },
   "outputs": [],
   "source": [
    "import pandas as pd\n",
    "import yaml\n",
    "\n",
    "from tools import retrieve_tweets"
   ]
  },
  {
   "cell_type": "code",
   "execution_count": 2,
   "id": "f06d22c0",
   "metadata": {
    "execution": {
     "iopub.execute_input": "2022-08-07T07:19:31.622536Z",
     "iopub.status.busy": "2022-08-07T07:19:31.622236Z",
     "iopub.status.idle": "2022-08-07T07:19:31.625574Z",
     "shell.execute_reply": "2022-08-07T07:19:31.624949Z"
    },
    "papermill": {
     "duration": 0.007878,
     "end_time": "2022-08-07T07:19:31.627453",
     "exception": false,
     "start_time": "2022-08-07T07:19:31.619575",
     "status": "completed"
    },
    "tags": [
     "parameters"
    ]
   },
   "outputs": [],
   "source": [
    "upstream = []\n",
    "product = None\n",
    "disaster_type = None\n",
    "query = None\n",
    "language = None\n",
    "limit = None\n",
    "skip_interval_hours=None\n",
    "credentials_file = None"
   ]
  },
  {
   "cell_type": "code",
   "execution_count": 3,
   "id": "2afa225d",
   "metadata": {
    "execution": {
     "iopub.execute_input": "2022-08-07T07:19:31.632103Z",
     "iopub.status.busy": "2022-08-07T07:19:31.631879Z",
     "iopub.status.idle": "2022-08-07T07:19:31.635248Z",
     "shell.execute_reply": "2022-08-07T07:19:31.634762Z"
    },
    "papermill": {
     "duration": 0.008201,
     "end_time": "2022-08-07T07:19:31.637393",
     "exception": false,
     "start_time": "2022-08-07T07:19:31.629192",
     "status": "completed"
    },
    "tags": [
     "injected-parameters"
    ]
   },
   "outputs": [],
   "source": [
    "# Parameters\n",
    "disaster_type = \"Wildfire\"\n",
    "query = \"wildfire (donate OR (death toll) OR burn OR fire OR forest OR damage)\"\n",
    "language = \"en\"\n",
    "limit = 2000\n",
    "skip_interval_hours = 2\n",
    "credentials_file = \"credentials.yaml\"\n",
    "product = {\n",
    "    \"nb\": \"/Users/mboussarov/_umsi/Capstone/umads_697_data_medics/pipeline/output/recent_tweets_wildfire.ipynb\",\n",
    "    \"file\": \"/Users/mboussarov/_umsi/Capstone/umads_697_data_medics/pipeline/output/recent_tweets_wildfire.csv\",\n",
    "}\n"
   ]
  },
  {
   "cell_type": "markdown",
   "id": "301b035e",
   "metadata": {
    "papermill": {
     "duration": 0.001814,
     "end_time": "2022-08-07T07:19:31.640890",
     "exception": false,
     "start_time": "2022-08-07T07:19:31.639076",
     "status": "completed"
    },
    "tags": []
   },
   "source": [
    "## Load Twitter credentials"
   ]
  },
  {
   "cell_type": "code",
   "execution_count": 4,
   "id": "da5b6de9",
   "metadata": {
    "execution": {
     "iopub.execute_input": "2022-08-07T07:19:31.647695Z",
     "iopub.status.busy": "2022-08-07T07:19:31.647230Z",
     "iopub.status.idle": "2022-08-07T07:19:31.652136Z",
     "shell.execute_reply": "2022-08-07T07:19:31.651548Z"
    },
    "papermill": {
     "duration": 0.011214,
     "end_time": "2022-08-07T07:19:31.654100",
     "exception": false,
     "start_time": "2022-08-07T07:19:31.642886",
     "status": "completed"
    },
    "tags": []
   },
   "outputs": [],
   "source": [
    "with open(credentials_file, 'r') as stream:\n",
    "    credentials = yaml.safe_load(stream)\n",
    "\n",
    "bearer_token = credentials['twitter_bearer_token']"
   ]
  },
  {
   "cell_type": "markdown",
   "id": "012c3d10",
   "metadata": {
    "papermill": {
     "duration": 0.002008,
     "end_time": "2022-08-07T07:19:31.657988",
     "exception": false,
     "start_time": "2022-08-07T07:19:31.655980",
     "status": "completed"
    },
    "tags": []
   },
   "source": [
    "## Sample data from Twitter"
   ]
  },
  {
   "cell_type": "code",
   "execution_count": 5,
   "id": "b7528afd",
   "metadata": {
    "execution": {
     "iopub.execute_input": "2022-08-07T07:19:31.665613Z",
     "iopub.status.busy": "2022-08-07T07:19:31.665150Z",
     "iopub.status.idle": "2022-08-07T08:06:23.102386Z",
     "shell.execute_reply": "2022-08-07T08:06:23.101008Z"
    },
    "papermill": {
     "duration": 2811.444527,
     "end_time": "2022-08-07T08:06:23.104831",
     "exception": false,
     "start_time": "2022-08-07T07:19:31.660304",
     "status": "completed"
    },
    "tags": []
   },
   "outputs": [
    {
     "name": "stderr",
     "output_type": "stream",
     "text": [
      "\r",
      "  0%|                                                                                                                                                                            | 0/72 [00:00<?, ?it/s]"
     ]
    },
    {
     "name": "stderr",
     "output_type": "stream",
     "text": [
      "\r",
      "  1%|██▎                                                                                                                                                                 | 1/72 [00:14<16:53, 14.28s/it]"
     ]
    },
    {
     "name": "stderr",
     "output_type": "stream",
     "text": [
      "\r",
      "  3%|████▌                                                                                                                                                               | 2/72 [00:28<16:41, 14.30s/it]"
     ]
    },
    {
     "name": "stderr",
     "output_type": "stream",
     "text": [
      "\r",
      "  4%|██████▊                                                                                                                                                             | 3/72 [00:41<15:55, 13.85s/it]"
     ]
    },
    {
     "name": "stderr",
     "output_type": "stream",
     "text": [
      "\r",
      "  6%|█████████                                                                                                                                                           | 4/72 [00:55<15:35, 13.75s/it]"
     ]
    },
    {
     "name": "stderr",
     "output_type": "stream",
     "text": [
      "\r",
      "  7%|███████████▍                                                                                                                                                        | 5/72 [01:08<15:10, 13.59s/it]"
     ]
    },
    {
     "name": "stderr",
     "output_type": "stream",
     "text": [
      "\r",
      "  8%|█████████████▋                                                                                                                                                      | 6/72 [01:22<14:55, 13.56s/it]"
     ]
    },
    {
     "name": "stderr",
     "output_type": "stream",
     "text": [
      "\r",
      " 10%|███████████████▉                                                                                                                                                    | 7/72 [01:37<15:12, 14.04s/it]"
     ]
    },
    {
     "name": "stderr",
     "output_type": "stream",
     "text": [
      "\r",
      " 11%|██████████████████▏                                                                                                                                                 | 8/72 [01:50<14:40, 13.76s/it]"
     ]
    },
    {
     "name": "stderr",
     "output_type": "stream",
     "text": [
      "\r",
      " 12%|████████████████████▌                                                                                                                                               | 9/72 [02:04<14:23, 13.70s/it]"
     ]
    },
    {
     "name": "stderr",
     "output_type": "stream",
     "text": [
      "\r",
      " 14%|██████████████████████▋                                                                                                                                            | 10/72 [02:18<14:28, 14.00s/it]"
     ]
    },
    {
     "name": "stderr",
     "output_type": "stream",
     "text": [
      "\r",
      " 15%|████████████████████████▉                                                                                                                                          | 11/72 [02:31<13:56, 13.71s/it]"
     ]
    },
    {
     "name": "stderr",
     "output_type": "stream",
     "text": [
      "\r",
      " 17%|███████████████████████████▏                                                                                                                                       | 12/72 [02:44<13:22, 13.38s/it]"
     ]
    },
    {
     "name": "stderr",
     "output_type": "stream",
     "text": [
      "\r",
      " 18%|█████████████████████████████▍                                                                                                                                     | 13/72 [02:57<13:05, 13.31s/it]"
     ]
    },
    {
     "name": "stderr",
     "output_type": "stream",
     "text": [
      "\r",
      " 19%|███████████████████████████████▋                                                                                                                                   | 14/72 [03:10<12:40, 13.12s/it]"
     ]
    },
    {
     "name": "stderr",
     "output_type": "stream",
     "text": [
      "\r",
      " 21%|█████████████████████████████████▉                                                                                                                                 | 15/72 [04:35<33:15, 35.00s/it]"
     ]
    },
    {
     "name": "stderr",
     "output_type": "stream",
     "text": [
      "\r",
      " 22%|████████████████████████████████████▏                                                                                                                              | 16/72 [04:51<27:05, 29.03s/it]"
     ]
    },
    {
     "name": "stderr",
     "output_type": "stream",
     "text": [
      "\r",
      " 24%|██████████████████████████████████████▍                                                                                                                            | 17/72 [05:04<22:20, 24.37s/it]"
     ]
    },
    {
     "name": "stderr",
     "output_type": "stream",
     "text": [
      "\r",
      " 25%|████████████████████████████████████████▊                                                                                                                          | 18/72 [05:19<19:17, 21.43s/it]"
     ]
    },
    {
     "name": "stderr",
     "output_type": "stream",
     "text": [
      "\r",
      " 26%|███████████████████████████████████████████                                                                                                                        | 19/72 [05:35<17:25, 19.73s/it]"
     ]
    },
    {
     "name": "stderr",
     "output_type": "stream",
     "text": [
      "\r",
      " 28%|█████████████████████████████████████████████▎                                                                                                                     | 20/72 [05:48<15:30, 17.90s/it]"
     ]
    },
    {
     "name": "stderr",
     "output_type": "stream",
     "text": [
      "\r",
      " 29%|███████████████████████████████████████████████▌                                                                                                                   | 21/72 [06:03<14:27, 17.02s/it]"
     ]
    },
    {
     "name": "stderr",
     "output_type": "stream",
     "text": [
      "Rate limit exceeded. Sleeping for 533 seconds.\n"
     ]
    },
    {
     "name": "stderr",
     "output_type": "stream",
     "text": [
      "\r",
      " 31%|████████████████████████████████████████████████▉                                                                                                               | 22/72 [15:10<2:26:36, 175.93s/it]"
     ]
    },
    {
     "name": "stderr",
     "output_type": "stream",
     "text": [
      "\r",
      " 32%|███████████████████████████████████████████████████                                                                                                             | 23/72 [15:24<1:44:11, 127.58s/it]"
     ]
    },
    {
     "name": "stderr",
     "output_type": "stream",
     "text": [
      "\r",
      " 33%|█████████████████████████████████████████████████████▋                                                                                                           | 24/72 [15:41<1:15:23, 94.24s/it]"
     ]
    },
    {
     "name": "stderr",
     "output_type": "stream",
     "text": [
      "\r",
      " 35%|████████████████████████████████████████████████████████▌                                                                                                          | 25/72 [15:55<54:54, 70.10s/it]"
     ]
    },
    {
     "name": "stderr",
     "output_type": "stream",
     "text": [
      "\r",
      " 36%|██████████████████████████████████████████████████████████▊                                                                                                        | 26/72 [16:09<40:54, 53.35s/it]"
     ]
    },
    {
     "name": "stderr",
     "output_type": "stream",
     "text": [
      "\r",
      " 38%|█████████████████████████████████████████████████████████████▏                                                                                                     | 27/72 [16:22<31:01, 41.36s/it]"
     ]
    },
    {
     "name": "stderr",
     "output_type": "stream",
     "text": [
      "\r",
      " 39%|███████████████████████████████████████████████████████████████▍                                                                                                   | 28/72 [16:36<24:12, 33.01s/it]"
     ]
    },
    {
     "name": "stderr",
     "output_type": "stream",
     "text": [
      "\r",
      " 40%|█████████████████████████████████████████████████████████████████▋                                                                                                 | 29/72 [16:49<19:28, 27.16s/it]"
     ]
    },
    {
     "name": "stderr",
     "output_type": "stream",
     "text": [
      "\r",
      " 42%|███████████████████████████████████████████████████████████████████▉                                                                                               | 30/72 [17:02<15:58, 22.81s/it]"
     ]
    },
    {
     "name": "stderr",
     "output_type": "stream",
     "text": [
      "\r",
      " 43%|██████████████████████████████████████████████████████████████████████▏                                                                                            | 31/72 [17:17<14:01, 20.53s/it]"
     ]
    },
    {
     "name": "stderr",
     "output_type": "stream",
     "text": [
      "\r",
      " 44%|████████████████████████████████████████████████████████████████████████▍                                                                                          | 32/72 [17:30<12:11, 18.29s/it]"
     ]
    },
    {
     "name": "stderr",
     "output_type": "stream",
     "text": [
      "\r",
      " 46%|██████████████████████████████████████████████████████████████████████████▋                                                                                        | 33/72 [17:45<11:15, 17.32s/it]"
     ]
    },
    {
     "name": "stderr",
     "output_type": "stream",
     "text": [
      "\r",
      " 47%|████████████████████████████████████████████████████████████████████████████▉                                                                                      | 34/72 [17:59<10:18, 16.29s/it]"
     ]
    },
    {
     "name": "stderr",
     "output_type": "stream",
     "text": [
      "\r",
      " 49%|███████████████████████████████████████████████████████████████████████████████▏                                                                                   | 35/72 [18:13<09:31, 15.46s/it]"
     ]
    },
    {
     "name": "stderr",
     "output_type": "stream",
     "text": [
      "\r",
      " 50%|█████████████████████████████████████████████████████████████████████████████████▌                                                                                 | 36/72 [18:27<09:00, 15.01s/it]"
     ]
    },
    {
     "name": "stderr",
     "output_type": "stream",
     "text": [
      "\r",
      " 51%|███████████████████████████████████████████████████████████████████████████████████▊                                                                               | 37/72 [18:40<08:29, 14.56s/it]"
     ]
    },
    {
     "name": "stderr",
     "output_type": "stream",
     "text": [
      "\r",
      " 53%|██████████████████████████████████████████████████████████████████████████████████████                                                                             | 38/72 [18:54<08:07, 14.34s/it]"
     ]
    },
    {
     "name": "stderr",
     "output_type": "stream",
     "text": [
      "\r",
      " 54%|████████████████████████████████████████████████████████████████████████████████████████▎                                                                          | 39/72 [19:07<07:39, 13.92s/it]"
     ]
    },
    {
     "name": "stderr",
     "output_type": "stream",
     "text": [
      "\r",
      " 56%|██████████████████████████████████████████████████████████████████████████████████████████▌                                                                        | 40/72 [19:22<07:33, 14.17s/it]"
     ]
    },
    {
     "name": "stderr",
     "output_type": "stream",
     "text": [
      "\r",
      " 57%|████████████████████████████████████████████████████████████████████████████████████████████▊                                                                      | 41/72 [19:36<07:16, 14.09s/it]"
     ]
    },
    {
     "name": "stderr",
     "output_type": "stream",
     "text": [
      "\r",
      " 58%|███████████████████████████████████████████████████████████████████████████████████████████████                                                                    | 42/72 [19:49<06:57, 13.93s/it]"
     ]
    },
    {
     "name": "stderr",
     "output_type": "stream",
     "text": [
      "Rate limit exceeded. Sleeping for 603 seconds.\n"
     ]
    },
    {
     "name": "stderr",
     "output_type": "stream",
     "text": [
      "\r",
      " 60%|███████████████████████████████████████████████████████████████████████████████████████████████▌                                                                | 43/72 [30:06<1:34:06, 194.70s/it]"
     ]
    },
    {
     "name": "stderr",
     "output_type": "stream",
     "text": [
      "\r",
      " 61%|█████████████████████████████████████████████████████████████████████████████████████████████████▊                                                              | 44/72 [30:19<1:05:30, 140.37s/it]"
     ]
    },
    {
     "name": "stderr",
     "output_type": "stream",
     "text": [
      "\r",
      " 62%|█████████████████████████████████████████████████████████████████████████████████████████████████████▎                                                            | 45/72 [30:32<45:53, 101.98s/it]"
     ]
    },
    {
     "name": "stderr",
     "output_type": "stream",
     "text": [
      "\r",
      " 64%|████████████████████████████████████████████████████████████████████████████████████████████████████████▏                                                          | 46/72 [30:44<32:35, 75.19s/it]"
     ]
    },
    {
     "name": "stderr",
     "output_type": "stream",
     "text": [
      "\r",
      " 65%|██████████████████████████████████████████████████████████████████████████████████████████████████████████▍                                                        | 47/72 [30:57<23:29, 56.37s/it]"
     ]
    },
    {
     "name": "stderr",
     "output_type": "stream",
     "text": [
      "\r",
      " 67%|████████████████████████████████████████████████████████████████████████████████████████████████████████████▋                                                      | 48/72 [31:10<17:21, 43.40s/it]"
     ]
    },
    {
     "name": "stderr",
     "output_type": "stream",
     "text": [
      "\r",
      " 68%|██████████████████████████████████████████████████████████████████████████████████████████████████████████████▉                                                    | 49/72 [31:23<13:07, 34.22s/it]"
     ]
    },
    {
     "name": "stderr",
     "output_type": "stream",
     "text": [
      "\r",
      " 69%|█████████████████████████████████████████████████████████████████████████████████████████████████████████████████▏                                                 | 50/72 [31:37<10:19, 28.16s/it]"
     ]
    },
    {
     "name": "stderr",
     "output_type": "stream",
     "text": [
      "\r",
      " 71%|███████████████████████████████████████████████████████████████████████████████████████████████████████████████████▍                                               | 51/72 [31:51<08:21, 23.86s/it]"
     ]
    },
    {
     "name": "stderr",
     "output_type": "stream",
     "text": [
      "\r",
      " 72%|█████████████████████████████████████████████████████████████████████████████████████████████████████████████████████▋                                             | 52/72 [32:04<06:50, 20.55s/it]"
     ]
    },
    {
     "name": "stderr",
     "output_type": "stream",
     "text": [
      "\r",
      " 74%|███████████████████████████████████████████████████████████████████████████████████████████████████████████████████████▉                                           | 53/72 [32:18<05:57, 18.83s/it]"
     ]
    },
    {
     "name": "stderr",
     "output_type": "stream",
     "text": [
      "\r",
      " 75%|██████████████████████████████████████████████████████████████████████████████████████████████████████████████████████████▎                                        | 54/72 [32:32<05:12, 17.34s/it]"
     ]
    },
    {
     "name": "stderr",
     "output_type": "stream",
     "text": [
      "\r",
      " 76%|████████████████████████████████████████████████████████████████████████████████████████████████████████████████████████████▌                                      | 55/72 [32:45<04:33, 16.07s/it]"
     ]
    },
    {
     "name": "stderr",
     "output_type": "stream",
     "text": [
      "\r",
      " 78%|██████████████████████████████████████████████████████████████████████████████████████████████████████████████████████████████▊                                    | 56/72 [32:59<04:07, 15.50s/it]"
     ]
    },
    {
     "name": "stderr",
     "output_type": "stream",
     "text": [
      "\r",
      " 79%|█████████████████████████████████████████████████████████████████████████████████████████████████████████████████████████████████                                  | 57/72 [33:13<03:42, 14.81s/it]"
     ]
    },
    {
     "name": "stderr",
     "output_type": "stream",
     "text": [
      "\r",
      " 81%|███████████████████████████████████████████████████████████████████████████████████████████████████████████████████████████████████▎                               | 58/72 [33:28<03:28, 14.92s/it]"
     ]
    },
    {
     "name": "stderr",
     "output_type": "stream",
     "text": [
      "\r",
      " 82%|█████████████████████████████████████████████████████████████████████████████████████████████████████████████████████████████████████▌                             | 59/72 [33:41<03:07, 14.43s/it]"
     ]
    },
    {
     "name": "stderr",
     "output_type": "stream",
     "text": [
      "\r",
      " 83%|███████████████████████████████████████████████████████████████████████████████████████████████████████████████████████████████████████▊                           | 60/72 [33:54<02:49, 14.10s/it]"
     ]
    },
    {
     "name": "stderr",
     "output_type": "stream",
     "text": [
      "\r",
      " 85%|██████████████████████████████████████████████████████████████████████████████████████████████████████████████████████████████████████████                         | 61/72 [34:08<02:33, 13.98s/it]"
     ]
    },
    {
     "name": "stderr",
     "output_type": "stream",
     "text": [
      "\r",
      " 86%|████████████████████████████████████████████████████████████████████████████████████████████████████████████████████████████████████████████▎                      | 62/72 [34:22<02:18, 13.84s/it]"
     ]
    },
    {
     "name": "stderr",
     "output_type": "stream",
     "text": [
      "\r",
      " 88%|██████████████████████████████████████████████████████████████████████████████████████████████████████████████████████████████████████████████▋                    | 63/72 [34:35<02:03, 13.71s/it]"
     ]
    },
    {
     "name": "stderr",
     "output_type": "stream",
     "text": [
      "\r",
      " 89%|████████████████████████████████████████████████████████████████████████████████████████████████████████████████████████████████████████████████▉                  | 64/72 [34:49<01:49, 13.71s/it]"
     ]
    },
    {
     "name": "stderr",
     "output_type": "stream",
     "text": [
      "Rate limit exceeded. Sleeping for 612 seconds.\n"
     ]
    },
    {
     "name": "stderr",
     "output_type": "stream",
     "text": [
      "\r",
      " 90%|██████████████████████████████████████████████████████████████████████████████████████████████████████████████████████████████████████████████████▎               | 65/72 [45:15<23:02, 197.50s/it]"
     ]
    },
    {
     "name": "stderr",
     "output_type": "stream",
     "text": [
      "\r",
      " 92%|████████████████████████████████████████████████████████████████████████████████████████████████████████████████████████████████████████████████████▌             | 66/72 [45:28<14:13, 142.20s/it]"
     ]
    },
    {
     "name": "stderr",
     "output_type": "stream",
     "text": [
      "\r",
      " 93%|██████████████████████████████████████████████████████████████████████████████████████████████████████████████████████████████████████████████████████▊           | 67/72 [45:43<08:39, 103.96s/it]"
     ]
    },
    {
     "name": "stderr",
     "output_type": "stream",
     "text": [
      "\r",
      " 94%|█████████████████████████████████████████████████████████████████████████████████████████████████████████████████████████████████████████████████████████▉         | 68/72 [45:57<05:08, 77.00s/it]"
     ]
    },
    {
     "name": "stderr",
     "output_type": "stream",
     "text": [
      "\r",
      " 96%|████████████████████████████████████████████████████████████████████████████████████████████████████████████████████████████████████████████████████████████▏      | 69/72 [46:10<02:53, 57.80s/it]"
     ]
    },
    {
     "name": "stderr",
     "output_type": "stream",
     "text": [
      "\r",
      " 97%|██████████████████████████████████████████████████████████████████████████████████████████████████████████████████████████████████████████████████████████████▍    | 70/72 [46:24<01:29, 44.53s/it]"
     ]
    },
    {
     "name": "stderr",
     "output_type": "stream",
     "text": [
      "\r",
      " 99%|████████████████████████████████████████████████████████████████████████████████████████████████████████████████████████████████████████████████████████████████▋  | 71/72 [46:37<00:35, 35.15s/it]"
     ]
    },
    {
     "name": "stderr",
     "output_type": "stream",
     "text": [
      "\r",
      "100%|███████████████████████████████████████████████████████████████████████████████████████████████████████████████████████████████████████████████████████████████████| 72/72 [46:51<00:00, 28.77s/it]"
     ]
    },
    {
     "name": "stderr",
     "output_type": "stream",
     "text": [
      "\r",
      "100%|███████████████████████████████████████████████████████████████████████████████████████████████████████████████████████████████████████████████████████████████████| 72/72 [46:51<00:00, 39.05s/it]"
     ]
    },
    {
     "name": "stdout",
     "output_type": "stream",
     "text": [
      "CPU times: user 27.7 s, sys: 2.03 s, total: 29.8 s\n",
      "Wall time: 46min 51s\n"
     ]
    },
    {
     "name": "stderr",
     "output_type": "stream",
     "text": [
      "\n"
     ]
    },
    {
     "data": {
      "text/html": [
       "<div>\n",
       "<style scoped>\n",
       "    .dataframe tbody tr th:only-of-type {\n",
       "        vertical-align: middle;\n",
       "    }\n",
       "\n",
       "    .dataframe tbody tr th {\n",
       "        vertical-align: top;\n",
       "    }\n",
       "\n",
       "    .dataframe thead th {\n",
       "        text-align: right;\n",
       "    }\n",
       "</style>\n",
       "<table border=\"1\" class=\"dataframe\">\n",
       "  <thead>\n",
       "    <tr style=\"text-align: right;\">\n",
       "      <th></th>\n",
       "      <th>author_id</th>\n",
       "      <th>tweet_text</th>\n",
       "      <th>created_at</th>\n",
       "      <th>hashtags</th>\n",
       "      <th>users</th>\n",
       "    </tr>\n",
       "  </thead>\n",
       "  <tbody>\n",
       "    <tr>\n",
       "      <th>150</th>\n",
       "      <td>17560208</td>\n",
       "      <td>RT @OSFM: We've got some really dry conditions...</td>\n",
       "      <td>2022-08-03 13:12:58+00:00</td>\n",
       "      <td>[]</td>\n",
       "      <td>[OSFM]</td>\n",
       "    </tr>\n",
       "    <tr>\n",
       "      <th>78</th>\n",
       "      <td>14411304</td>\n",
       "      <td>RT @dakasler: As #McKinneyFire burns, Forest S...</td>\n",
       "      <td>2022-08-03 15:54:48+00:00</td>\n",
       "      <td>[McKinneyFire]</td>\n",
       "      <td>[dakasler, RyanSabalow]</td>\n",
       "    </tr>\n",
       "    <tr>\n",
       "      <th>1863</th>\n",
       "      <td>165647780</td>\n",
       "      <td>RT @cityofkamloops: Kamloops Fire Rescue is in...</td>\n",
       "      <td>2022-08-02 03:37:43+00:00</td>\n",
       "      <td>[]</td>\n",
       "      <td>[cityofkamloops]</td>\n",
       "    </tr>\n",
       "    <tr>\n",
       "      <th>1178</th>\n",
       "      <td>48566152</td>\n",
       "      <td>@mkramer Got a couple. First: Same day as the ...</td>\n",
       "      <td>2022-08-04 21:52:14+00:00</td>\n",
       "      <td>[]</td>\n",
       "      <td>[mkramer]</td>\n",
       "    </tr>\n",
       "    <tr>\n",
       "      <th>761</th>\n",
       "      <td>14325612</td>\n",
       "      <td>FIRE MODE: The #LindFire has caused the entire...</td>\n",
       "      <td>2022-08-04 21:50:28+00:00</td>\n",
       "      <td>[LindFire]</td>\n",
       "      <td>[]</td>\n",
       "    </tr>\n",
       "    <tr>\n",
       "      <th>1856</th>\n",
       "      <td>71080496</td>\n",
       "      <td>The Nohomin Creek wildfire continues to burn j...</td>\n",
       "      <td>2022-08-01 15:31:15+00:00</td>\n",
       "      <td>[BCWildfire]</td>\n",
       "      <td>[]</td>\n",
       "    </tr>\n",
       "    <tr>\n",
       "      <th>158</th>\n",
       "      <td>1450210301077491719</td>\n",
       "      <td>RT @DominicNBCMT: The Elmo 2 wildfire rages on...</td>\n",
       "      <td>2022-08-05 03:12:48+00:00</td>\n",
       "      <td>[]</td>\n",
       "      <td>[DominicNBCMT]</td>\n",
       "    </tr>\n",
       "    <tr>\n",
       "      <th>514</th>\n",
       "      <td>76574312</td>\n",
       "      <td>McKinney Fire becomes California’s largest wil...</td>\n",
       "      <td>2022-08-04 16:13:20+00:00</td>\n",
       "      <td>[]</td>\n",
       "      <td>[]</td>\n",
       "    </tr>\n",
       "    <tr>\n",
       "      <th>1107</th>\n",
       "      <td>160634903</td>\n",
       "      <td>Authorities have confirmed two bodies were fou...</td>\n",
       "      <td>2022-08-01 23:38:05+00:00</td>\n",
       "      <td>[]</td>\n",
       "      <td>[]</td>\n",
       "    </tr>\n",
       "    <tr>\n",
       "      <th>291</th>\n",
       "      <td>411672072</td>\n",
       "      <td>RT @stoweboyd: Just 5 years ago it was exceedi...</td>\n",
       "      <td>2022-08-02 06:45:25+00:00</td>\n",
       "      <td>[]</td>\n",
       "      <td>[stoweboyd]</td>\n",
       "    </tr>\n",
       "  </tbody>\n",
       "</table>\n",
       "</div>"
      ],
      "text/plain": [
       "                author_id                                         tweet_text  \\\n",
       "150              17560208  RT @OSFM: We've got some really dry conditions...   \n",
       "78               14411304  RT @dakasler: As #McKinneyFire burns, Forest S...   \n",
       "1863            165647780  RT @cityofkamloops: Kamloops Fire Rescue is in...   \n",
       "1178             48566152  @mkramer Got a couple. First: Same day as the ...   \n",
       "761              14325612  FIRE MODE: The #LindFire has caused the entire...   \n",
       "1856             71080496  The Nohomin Creek wildfire continues to burn j...   \n",
       "158   1450210301077491719  RT @DominicNBCMT: The Elmo 2 wildfire rages on...   \n",
       "514              76574312  McKinney Fire becomes California’s largest wil...   \n",
       "1107            160634903  Authorities have confirmed two bodies were fou...   \n",
       "291             411672072  RT @stoweboyd: Just 5 years ago it was exceedi...   \n",
       "\n",
       "                    created_at        hashtags                    users  \n",
       "150  2022-08-03 13:12:58+00:00              []                   [OSFM]  \n",
       "78   2022-08-03 15:54:48+00:00  [McKinneyFire]  [dakasler, RyanSabalow]  \n",
       "1863 2022-08-02 03:37:43+00:00              []         [cityofkamloops]  \n",
       "1178 2022-08-04 21:52:14+00:00              []                [mkramer]  \n",
       "761  2022-08-04 21:50:28+00:00      [LindFire]                       []  \n",
       "1856 2022-08-01 15:31:15+00:00    [BCWildfire]                       []  \n",
       "158  2022-08-05 03:12:48+00:00              []           [DominicNBCMT]  \n",
       "514  2022-08-04 16:13:20+00:00              []                       []  \n",
       "1107 2022-08-01 23:38:05+00:00              []                       []  \n",
       "291  2022-08-02 06:45:25+00:00              []              [stoweboyd]  "
      ]
     },
     "execution_count": 5,
     "metadata": {},
     "output_type": "execute_result"
    }
   ],
   "source": [
    "%%time\n",
    "df = retrieve_tweets(bearer_token, skip_interval_hours, query, language, limit)\n",
    "df.sample(10)"
   ]
  },
  {
   "cell_type": "code",
   "execution_count": 6,
   "id": "c8b3ed12",
   "metadata": {
    "execution": {
     "iopub.execute_input": "2022-08-07T08:06:23.121390Z",
     "iopub.status.busy": "2022-08-07T08:06:23.121033Z",
     "iopub.status.idle": "2022-08-07T08:06:24.703570Z",
     "shell.execute_reply": "2022-08-07T08:06:24.702464Z"
    },
    "papermill": {
     "duration": 1.594741,
     "end_time": "2022-08-07T08:06:24.707390",
     "exception": false,
     "start_time": "2022-08-07T08:06:23.112649",
     "status": "completed"
    },
    "tags": []
   },
   "outputs": [],
   "source": [
    "df.to_csv(product['file'], index=False)"
   ]
  },
  {
   "cell_type": "code",
   "execution_count": null,
   "id": "d0c4b663",
   "metadata": {
    "papermill": {
     "duration": 0.006104,
     "end_time": "2022-08-07T08:06:24.721519",
     "exception": false,
     "start_time": "2022-08-07T08:06:24.715415",
     "status": "completed"
    },
    "tags": []
   },
   "outputs": [],
   "source": []
  }
 ],
 "metadata": {
  "jupytext": {
   "cell_metadata_filter": "tags,-all",
   "main_language": "python",
   "notebook_metadata_filter": "-all",
   "text_representation": {
    "extension": ".py",
    "format_name": "light"
   }
  },
  "kernelspec": {
   "display_name": "Python 3 (ipykernel)",
   "language": "python",
   "name": "python3"
  },
  "language_info": {
   "codemirror_mode": {
    "name": "ipython",
    "version": 3
   },
   "file_extension": ".py",
   "mimetype": "text/x-python",
   "name": "python",
   "nbconvert_exporter": "python",
   "pygments_lexer": "ipython3",
   "version": "3.9.12"
  },
  "papermill": {
   "duration": 2817.937553,
   "end_time": "2022-08-07T08:06:27.354658",
   "exception": null,
   "input_path": "/var/folders/lw/k7hqg3bn7s326rs6jxn046b40000gp/T/tmptg5h7z50.ipynb",
   "output_path": "/Users/mboussarov/_umsi/Capstone/umads_697_data_medics/pipeline/output/recent_tweets_wildfire.ipynb",
   "parameters": {
    "credentials_file": "credentials.yaml",
    "disaster_type": "Wildfire",
    "language": "en",
    "limit": 2000,
    "product": {
     "file": "/Users/mboussarov/_umsi/Capstone/umads_697_data_medics/pipeline/output/recent_tweets_wildfire.csv",
     "nb": "/Users/mboussarov/_umsi/Capstone/umads_697_data_medics/pipeline/output/recent_tweets_wildfire.ipynb"
    },
    "query": "wildfire (donate OR (death toll) OR burn OR fire OR forest OR damage)",
    "skip_interval_hours": 2
   },
   "start_time": "2022-08-07T07:19:29.417105"
  }
 },
 "nbformat": 4,
 "nbformat_minor": 5
}