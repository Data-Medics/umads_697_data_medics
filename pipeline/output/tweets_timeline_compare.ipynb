{
 "cells": [
  {
   "cell_type": "markdown",
   "id": "0d5fdb8b",
   "metadata": {
    "papermill": {
     "duration": 0.097861,
     "end_time": "2022-08-19T20:36:15.116934",
     "exception": false,
     "start_time": "2022-08-19T20:36:15.019073",
     "status": "completed"
    },
    "tags": []
   },
   "source": [
    "# Doing an exploration on recent disaster tweets for all disaster types - determine if one disaster dominates in certain class/category"
   ]
  },
  {
   "cell_type": "code",
   "execution_count": 1,
   "id": "ba5f17ba",
   "metadata": {
    "execution": {
     "iopub.execute_input": "2022-08-19T20:36:15.139915Z",
     "iopub.status.busy": "2022-08-19T20:36:15.139521Z",
     "iopub.status.idle": "2022-08-19T20:36:18.700217Z",
     "shell.execute_reply": "2022-08-19T20:36:18.699247Z"
    },
    "papermill": {
     "duration": 3.575372,
     "end_time": "2022-08-19T20:36:18.703095",
     "exception": false,
     "start_time": "2022-08-19T20:36:15.127723",
     "status": "completed"
    },
    "tags": []
   },
   "outputs": [],
   "source": [
    "import pandas as pd\n",
    "import pickle\n",
    "\n",
    "import spacy\n",
    "from spacy import displacy\n",
    "import matplotlib.pyplot as plt\n",
    "import seaborn as sns\n",
    "import altair as alt\n",
    "import networkx as nx \n",
    "import nx_altair as nxa\n",
    "from collections import Counter\n",
    "import warnings\n",
    "import scipy.stats as stats\n",
    "\n",
    "from tools import extract_assign_location_per_kind, disaster_title, topNlocations, top_locations, \\\n",
    "                    sampleNtweets, top_locations_tweets, show_top_locations, get_top_locations_flatten, \\\n",
    "                    get_location_graph_data, build_network, get_layout, plot_disaster_mentions, is_intersect, \\\n",
    "                    show_tweets_locations, top_location_pairs, plot_class_boxplot, f_test, ks_test\n",
    "\n",
    "warnings.filterwarnings('ignore')\n",
    "pd.set_option('display.max_colwidth', 280)"
   ]
  },
  {
   "cell_type": "markdown",
   "id": "5c20f39e",
   "metadata": {
    "papermill": {
     "duration": 0.009143,
     "end_time": "2022-08-19T20:36:18.722140",
     "exception": false,
     "start_time": "2022-08-19T20:36:18.712997",
     "status": "completed"
    },
    "tags": []
   },
   "source": [
    "## Define any upstream dependencies"
   ]
  },
  {
   "cell_type": "code",
   "execution_count": 2,
   "id": "8e8c8118",
   "metadata": {
    "execution": {
     "iopub.execute_input": "2022-08-19T20:36:18.742104Z",
     "iopub.status.busy": "2022-08-19T20:36:18.741569Z",
     "iopub.status.idle": "2022-08-19T20:36:18.745951Z",
     "shell.execute_reply": "2022-08-19T20:36:18.745265Z"
    },
    "lines_to_end_of_cell_marker": 2,
    "papermill": {
     "duration": 0.016622,
     "end_time": "2022-08-19T20:36:18.747972",
     "exception": false,
     "start_time": "2022-08-19T20:36:18.731350",
     "status": "completed"
    },
    "tags": [
     "parameters"
    ]
   },
   "outputs": [],
   "source": [
    "upstream = [\n",
    "    'vectorizer',\n",
    "    'category_classification_models',\n",
    "    'recent_tweets_wildfire',\n",
    "    'recent_tweets_earthquake',\n",
    "    'recent_tweets_flood',\n",
    "    'recent_tweets_hurricane'\n",
    "]\n",
    "random_seed = None\n",
    "disaster_kinds = None"
   ]
  },
  {
   "cell_type": "code",
   "execution_count": 3,
   "id": "1e83fc5c",
   "metadata": {
    "execution": {
     "iopub.execute_input": "2022-08-19T20:36:18.768006Z",
     "iopub.status.busy": "2022-08-19T20:36:18.767660Z",
     "iopub.status.idle": "2022-08-19T20:36:18.774085Z",
     "shell.execute_reply": "2022-08-19T20:36:18.773401Z"
    },
    "papermill": {
     "duration": 0.01901,
     "end_time": "2022-08-19T20:36:18.776044",
     "exception": false,
     "start_time": "2022-08-19T20:36:18.757034",
     "status": "completed"
    },
    "tags": [
     "injected-parameters"
    ]
   },
   "outputs": [],
   "source": [
    "# Parameters\n",
    "random_seed = 42\n",
    "disaster_kinds = [\n",
    "    \"recent_tweets_wildfire\",\n",
    "    \"recent_tweets_hurricane\",\n",
    "    \"recent_tweets_flood\",\n",
    "    \"recent_tweets_earthquake\",\n",
    "]\n",
    "upstream = {\n",
    "    \"vectorizer\": {\n",
    "        \"nb\": \"/Users/mboussarov/_umsi/Capstone/umads_697_data_medics/pipeline/output/vectorizer.ipynb\",\n",
    "        \"vectorizer\": \"/Users/mboussarov/_umsi/Capstone/umads_697_data_medics/pipeline/output/vectorizer.pkl\",\n",
    "        \"vocab\": \"/Users/mboussarov/_umsi/Capstone/umads_697_data_medics/pipeline/output/vocab.pkl\",\n",
    "    },\n",
    "    \"category_classification_models\": {\n",
    "        \"nb\": \"/Users/mboussarov/_umsi/Capstone/umads_697_data_medics/pipeline/output/category_classification_models.ipynb\",\n",
    "        \"model_lr\": \"/Users/mboussarov/_umsi/Capstone/umads_697_data_medics/pipeline/output/model_lr.pkl\",\n",
    "        \"model_rf\": \"/Users/mboussarov/_umsi/Capstone/umads_697_data_medics/pipeline/output/model_rf.pkl\",\n",
    "        \"model_nb\": \"/Users/mboussarov/_umsi/Capstone/umads_697_data_medics/pipeline/output/model_nb.csv\",\n",
    "        \"model_votingc\": \"/Users/mboussarov/_umsi/Capstone/umads_697_data_medics/pipeline/output/model_votingc.csv\",\n",
    "    },\n",
    "    \"recent_tweets_earthquake\": {\n",
    "        \"nb\": \"/Users/mboussarov/_umsi/Capstone/umads_697_data_medics/pipeline/output/recent_tweets_earthquake.ipynb\",\n",
    "        \"file\": \"/Users/mboussarov/_umsi/Capstone/umads_697_data_medics/pipeline/output/recent_tweets_earthquake.csv\",\n",
    "    },\n",
    "    \"recent_tweets_wildfire\": {\n",
    "        \"nb\": \"/Users/mboussarov/_umsi/Capstone/umads_697_data_medics/pipeline/output/recent_tweets_wildfire.ipynb\",\n",
    "        \"file\": \"/Users/mboussarov/_umsi/Capstone/umads_697_data_medics/pipeline/output/recent_tweets_wildfire.csv\",\n",
    "    },\n",
    "    \"recent_tweets_hurricane\": {\n",
    "        \"nb\": \"/Users/mboussarov/_umsi/Capstone/umads_697_data_medics/pipeline/output/recent_tweets_hurricane.ipynb\",\n",
    "        \"file\": \"/Users/mboussarov/_umsi/Capstone/umads_697_data_medics/pipeline/output/recent_tweets_hurricane.csv\",\n",
    "    },\n",
    "    \"recent_tweets_flood\": {\n",
    "        \"nb\": \"/Users/mboussarov/_umsi/Capstone/umads_697_data_medics/pipeline/output/recent_tweets_flood.ipynb\",\n",
    "        \"file\": \"/Users/mboussarov/_umsi/Capstone/umads_697_data_medics/pipeline/output/recent_tweets_flood.csv\",\n",
    "    },\n",
    "}\n",
    "product = {\n",
    "    \"nb\": \"/Users/mboussarov/_umsi/Capstone/umads_697_data_medics/pipeline/output/tweets_timeline_compare.ipynb\"\n",
    "}\n"
   ]
  },
  {
   "cell_type": "code",
   "execution_count": 4,
   "id": "adcd6024",
   "metadata": {
    "execution": {
     "iopub.execute_input": "2022-08-19T20:36:18.795735Z",
     "iopub.status.busy": "2022-08-19T20:36:18.795448Z",
     "iopub.status.idle": "2022-08-19T20:36:18.805898Z",
     "shell.execute_reply": "2022-08-19T20:36:18.805114Z"
    },
    "papermill": {
     "duration": 0.023232,
     "end_time": "2022-08-19T20:36:18.808592",
     "exception": false,
     "start_time": "2022-08-19T20:36:18.785360",
     "status": "completed"
    },
    "tags": []
   },
   "outputs": [
    {
     "data": {
      "text/plain": [
       "['Wildfire', 'Hurricane', 'Flood', 'Earthquake']"
      ]
     },
     "execution_count": 4,
     "metadata": {},
     "output_type": "execute_result"
    }
   ],
   "source": [
    "disaster_kind_names = [disaster_title(disaster_kind) for disaster_kind in disaster_kinds]\n",
    "disaster_kind_names"
   ]
  },
  {
   "cell_type": "markdown",
   "id": "d8c1adc0",
   "metadata": {
    "papermill": {
     "duration": 0.009272,
     "end_time": "2022-08-19T20:36:18.827907",
     "exception": false,
     "start_time": "2022-08-19T20:36:18.818635",
     "status": "completed"
    },
    "tags": []
   },
   "source": [
    "## Load the sample of recent tweets for all disaster types"
   ]
  },
  {
   "cell_type": "code",
   "execution_count": 5,
   "id": "f62e1ed5",
   "metadata": {
    "execution": {
     "iopub.execute_input": "2022-08-19T20:36:18.848408Z",
     "iopub.status.busy": "2022-08-19T20:36:18.848087Z",
     "iopub.status.idle": "2022-08-19T20:36:20.327625Z",
     "shell.execute_reply": "2022-08-19T20:36:20.326960Z"
    },
    "papermill": {
     "duration": 1.492213,
     "end_time": "2022-08-19T20:36:20.329682",
     "exception": false,
     "start_time": "2022-08-19T20:36:18.837469",
     "status": "completed"
    },
    "tags": []
   },
   "outputs": [
    {
     "name": "stdout",
     "output_type": "stream",
     "text": [
      "Number of tweets:  537642\n"
     ]
    },
    {
     "data": {
      "text/html": [
       "<div>\n",
       "<style scoped>\n",
       "    .dataframe tbody tr th:only-of-type {\n",
       "        vertical-align: middle;\n",
       "    }\n",
       "\n",
       "    .dataframe tbody tr th {\n",
       "        vertical-align: top;\n",
       "    }\n",
       "\n",
       "    .dataframe thead th {\n",
       "        text-align: right;\n",
       "    }\n",
       "</style>\n",
       "<table border=\"1\" class=\"dataframe\">\n",
       "  <thead>\n",
       "    <tr style=\"text-align: right;\">\n",
       "      <th></th>\n",
       "      <th>author_id</th>\n",
       "      <th>tweet_text</th>\n",
       "      <th>created_at</th>\n",
       "      <th>hashtags</th>\n",
       "      <th>users</th>\n",
       "      <th>disaster_kind</th>\n",
       "    </tr>\n",
       "  </thead>\n",
       "  <tbody>\n",
       "    <tr>\n",
       "      <th>229482</th>\n",
       "      <td>14225963</td>\n",
       "      <td>RT @DeborahDian: Nearly everyone has to evacuate sometime in their lives, whether because of a fire, hurricane, flooding or other weather e…</td>\n",
       "      <td>2022-08-03 01:35:58+00:00</td>\n",
       "      <td>[]</td>\n",
       "      <td>['DeborahDian']</td>\n",
       "      <td>Hurricane</td>\n",
       "    </tr>\n",
       "    <tr>\n",
       "      <th>7490</th>\n",
       "      <td>1630567249</td>\n",
       "      <td>RT @JenDowlingNews: Firefighters are still on the scene of the Lind fire this morning.  It looks like they are continuing to assess the fir…</td>\n",
       "      <td>2022-08-05 15:03:00+00:00</td>\n",
       "      <td>[]</td>\n",
       "      <td>['JenDowlingNews']</td>\n",
       "      <td>Wildfire</td>\n",
       "    </tr>\n",
       "    <tr>\n",
       "      <th>1907</th>\n",
       "      <td>1501987706733137937</td>\n",
       "      <td>RT @KREM2: According to the state fire marshal's office, homes and crops, as well as railroad and critical infrastructure are being threate…</td>\n",
       "      <td>2022-08-05 14:54:51+00:00</td>\n",
       "      <td>[]</td>\n",
       "      <td>['KREM2']</td>\n",
       "      <td>Wildfire</td>\n",
       "    </tr>\n",
       "    <tr>\n",
       "      <th>459634</th>\n",
       "      <td>1112896007774371840</td>\n",
       "      <td>2.20 magnitude earthquake occurred at Hawaii, HI, United States on 2022-08-03 03:57:13 UTC\\nMap: https://t.co/muyrm6eFoC\\n#earthb0t #earthquake  #Hawaii #HI #UnitedStates #noaa #greatshakeout #LetsBeSafe #OpenData #data https://t.co/WbIirj3wkY</td>\n",
       "      <td>2022-08-03 04:12:23+00:00</td>\n",
       "      <td>['earthb0t', 'earthquake', 'Hawaii', 'HI', 'UnitedStates', 'noaa', 'greatshakeout', 'LetsBeSafe', 'OpenData', 'data']</td>\n",
       "      <td>[]</td>\n",
       "      <td>Earthquake</td>\n",
       "    </tr>\n",
       "    <tr>\n",
       "      <th>232380</th>\n",
       "      <td>904740870817120256</td>\n",
       "      <td>https://t.co/QtM4PmeaQA EVACUATION ZONE CHANGES Pinellas County Emergency Management updated evacuation zones for 2022 hurricane season based on latest surge data models from National Hurricane Center elevation data from the County. Check zones at https://t.co/GSLiOLhHpc</td>\n",
       "      <td>2022-08-01 20:19:21+00:00</td>\n",
       "      <td>[]</td>\n",
       "      <td>[]</td>\n",
       "      <td>Hurricane</td>\n",
       "    </tr>\n",
       "  </tbody>\n",
       "</table>\n",
       "</div>"
      ],
      "text/plain": [
       "                  author_id  \\\n",
       "229482             14225963   \n",
       "7490             1630567249   \n",
       "1907    1501987706733137937   \n",
       "459634  1112896007774371840   \n",
       "232380   904740870817120256   \n",
       "\n",
       "                                                                                                                                                                                                                                                                             tweet_text  \\\n",
       "229482                                                                                                                                     RT @DeborahDian: Nearly everyone has to evacuate sometime in their lives, whether because of a fire, hurricane, flooding or other weather e…   \n",
       "7490                                                                                                                                       RT @JenDowlingNews: Firefighters are still on the scene of the Lind fire this morning.  It looks like they are continuing to assess the fir…   \n",
       "1907                                                                                                                                       RT @KREM2: According to the state fire marshal's office, homes and crops, as well as railroad and critical infrastructure are being threate…   \n",
       "459634                              2.20 magnitude earthquake occurred at Hawaii, HI, United States on 2022-08-03 03:57:13 UTC\\nMap: https://t.co/muyrm6eFoC\\n#earthb0t #earthquake  #Hawaii #HI #UnitedStates #noaa #greatshakeout #LetsBeSafe #OpenData #data https://t.co/WbIirj3wkY   \n",
       "232380  https://t.co/QtM4PmeaQA EVACUATION ZONE CHANGES Pinellas County Emergency Management updated evacuation zones for 2022 hurricane season based on latest surge data models from National Hurricane Center elevation data from the County. Check zones at https://t.co/GSLiOLhHpc   \n",
       "\n",
       "                       created_at  \\\n",
       "229482  2022-08-03 01:35:58+00:00   \n",
       "7490    2022-08-05 15:03:00+00:00   \n",
       "1907    2022-08-05 14:54:51+00:00   \n",
       "459634  2022-08-03 04:12:23+00:00   \n",
       "232380  2022-08-01 20:19:21+00:00   \n",
       "\n",
       "                                                                                                                     hashtags  \\\n",
       "229482                                                                                                                     []   \n",
       "7490                                                                                                                       []   \n",
       "1907                                                                                                                       []   \n",
       "459634  ['earthb0t', 'earthquake', 'Hawaii', 'HI', 'UnitedStates', 'noaa', 'greatshakeout', 'LetsBeSafe', 'OpenData', 'data']   \n",
       "232380                                                                                                                     []   \n",
       "\n",
       "                     users disaster_kind  \n",
       "229482     ['DeborahDian']     Hurricane  \n",
       "7490    ['JenDowlingNews']      Wildfire  \n",
       "1907             ['KREM2']      Wildfire  \n",
       "459634                  []    Earthquake  \n",
       "232380                  []     Hurricane  "
      ]
     },
     "execution_count": 5,
     "metadata": {},
     "output_type": "execute_result"
    }
   ],
   "source": [
    "df_tweets = None\n",
    "\n",
    "for disaster_kind in disaster_kinds:\n",
    "    _df = pd.read_csv(upstream[disaster_kind]['file'])\n",
    "    _df['disaster_kind'] = disaster_title(disaster_kind)\n",
    "    \n",
    "    if df_tweets is None:\n",
    "        df_tweets = _df\n",
    "    else:\n",
    "        df_tweets = df_tweets.append(_df, ignore_index=True)\n",
    "\n",
    "print('Number of tweets: ', df_tweets.shape[0])\n",
    "df_tweets.sample(5)"
   ]
  },
  {
   "cell_type": "markdown",
   "id": "1b2f7427",
   "metadata": {
    "papermill": {
     "duration": 0.0097,
     "end_time": "2022-08-19T20:36:20.349477",
     "exception": false,
     "start_time": "2022-08-19T20:36:20.339777",
     "status": "completed"
    },
    "tags": []
   },
   "source": [
    "## Predict the class labels - add class_label to all the tweets "
   ]
  },
  {
   "cell_type": "code",
   "execution_count": 6,
   "id": "e7b55bd9",
   "metadata": {
    "execution": {
     "iopub.execute_input": "2022-08-19T20:36:20.372874Z",
     "iopub.status.busy": "2022-08-19T20:36:20.372554Z",
     "iopub.status.idle": "2022-08-19T20:36:21.029246Z",
     "shell.execute_reply": "2022-08-19T20:36:21.028270Z"
    },
    "papermill": {
     "duration": 0.669842,
     "end_time": "2022-08-19T20:36:21.031481",
     "exception": false,
     "start_time": "2022-08-19T20:36:20.361639",
     "status": "completed"
    },
    "tags": []
   },
   "outputs": [],
   "source": [
    "# Get the vectorizer\n",
    "with open(upstream[\"vectorizer\"][\"vectorizer\"], 'rb') as f:\n",
    "    vectorizer = pickle.load(f)"
   ]
  },
  {
   "cell_type": "code",
   "execution_count": 7,
   "id": "5163e877",
   "metadata": {
    "execution": {
     "iopub.execute_input": "2022-08-19T20:36:21.054823Z",
     "iopub.status.busy": "2022-08-19T20:36:21.054489Z",
     "iopub.status.idle": "2022-08-19T20:36:21.063354Z",
     "shell.execute_reply": "2022-08-19T20:36:21.062495Z"
    },
    "papermill": {
     "duration": 0.023878,
     "end_time": "2022-08-19T20:36:21.065735",
     "exception": false,
     "start_time": "2022-08-19T20:36:21.041857",
     "status": "completed"
    },
    "tags": []
   },
   "outputs": [],
   "source": [
    "# Get the classification model\n",
    "with open(upstream[\"category_classification_models\"][\"model_lr\"], 'rb') as f:\n",
    "    classifier = pickle.load(f)"
   ]
  },
  {
   "cell_type": "code",
   "execution_count": 8,
   "id": "bc9c4130",
   "metadata": {
    "execution": {
     "iopub.execute_input": "2022-08-19T20:36:21.087558Z",
     "iopub.status.busy": "2022-08-19T20:36:21.087205Z",
     "iopub.status.idle": "2022-08-19T20:38:30.519911Z",
     "shell.execute_reply": "2022-08-19T20:38:30.519172Z"
    },
    "papermill": {
     "duration": 129.456575,
     "end_time": "2022-08-19T20:38:30.532511",
     "exception": false,
     "start_time": "2022-08-19T20:36:21.075936",
     "status": "completed"
    },
    "tags": []
   },
   "outputs": [
    {
     "name": "stdout",
     "output_type": "stream",
     "text": [
      "CPU times: user 2min 8s, sys: 432 ms, total: 2min 9s\n",
      "Wall time: 2min 9s\n"
     ]
    },
    {
     "data": {
      "text/html": [
       "<div>\n",
       "<style scoped>\n",
       "    .dataframe tbody tr th:only-of-type {\n",
       "        vertical-align: middle;\n",
       "    }\n",
       "\n",
       "    .dataframe tbody tr th {\n",
       "        vertical-align: top;\n",
       "    }\n",
       "\n",
       "    .dataframe thead th {\n",
       "        text-align: right;\n",
       "    }\n",
       "</style>\n",
       "<table border=\"1\" class=\"dataframe\">\n",
       "  <thead>\n",
       "    <tr style=\"text-align: right;\">\n",
       "      <th></th>\n",
       "      <th>author_id</th>\n",
       "      <th>tweet_text</th>\n",
       "      <th>created_at</th>\n",
       "      <th>hashtags</th>\n",
       "      <th>users</th>\n",
       "      <th>disaster_kind</th>\n",
       "      <th>class_label</th>\n",
       "    </tr>\n",
       "  </thead>\n",
       "  <tbody>\n",
       "    <tr>\n",
       "      <th>331273</th>\n",
       "      <td>1337639908224114693</td>\n",
       "      <td>He had donated a huge amount of money towards Nagland  and Kerala flood relief in 2018.Everyone always  remember your kindness.\\n\\nSSR Worked 4 SelfActualisation https://t.co/QCHPFHnb8I</td>\n",
       "      <td>2022-08-03 14:41:19+00:00</td>\n",
       "      <td>[]</td>\n",
       "      <td>[]</td>\n",
       "      <td>Flood</td>\n",
       "      <td>rescue_volunteering_or_donation_effort</td>\n",
       "    </tr>\n",
       "    <tr>\n",
       "      <th>316564</th>\n",
       "      <td>2871336331</td>\n",
       "      <td>RT @DSSNewsUpdates: Risking their own lives, #DSS volunteers saved lives &amp;amp; livelihood from flood in Sirsa.Acres of land submerged due to he…</td>\n",
       "      <td>2022-08-04 02:17:10+00:00</td>\n",
       "      <td>['DSS']</td>\n",
       "      <td>['DSSNewsUpdates']</td>\n",
       "      <td>Flood</td>\n",
       "      <td>rescue_volunteering_or_donation_effort</td>\n",
       "    </tr>\n",
       "    <tr>\n",
       "      <th>44173</th>\n",
       "      <td>1106927792099418112</td>\n",
       "      <td>RT @ECOWARRIORSS: Get ready for a world of fire - its just beginning \\nTens of thousands of people around world have been evacuated this sum…</td>\n",
       "      <td>2022-08-05 01:50:23+00:00</td>\n",
       "      <td>[]</td>\n",
       "      <td>['ECOWARRIORSS']</td>\n",
       "      <td>Wildfire</td>\n",
       "      <td>displaced_people_and_evacuations</td>\n",
       "    </tr>\n",
       "    <tr>\n",
       "      <th>474640</th>\n",
       "      <td>1392185571359870978</td>\n",
       "      <td>RT @cnnphilippines: JUST IN: A magnitude 5.8 earthquake hits waters off Manay, Davao Oriental.\\n\\nPhivolcs says aftershocks are expected.\\n\\nFu…</td>\n",
       "      <td>2022-08-03 02:37:59+00:00</td>\n",
       "      <td>[]</td>\n",
       "      <td>['cnnphilippines']</td>\n",
       "      <td>Earthquake</td>\n",
       "      <td>other_relevant_information</td>\n",
       "    </tr>\n",
       "    <tr>\n",
       "      <th>74098</th>\n",
       "      <td>1507767572363628554</td>\n",
       "      <td>RT @BNNBreaking: JUST IN: A 26-year-old man, identified as Cory Allan Martin, was arrested in Utah, on suspicion that he started wildfire w…</td>\n",
       "      <td>2022-08-03 21:38:44+00:00</td>\n",
       "      <td>[]</td>\n",
       "      <td>['BNNBreaking']</td>\n",
       "      <td>Wildfire</td>\n",
       "      <td>other_relevant_information</td>\n",
       "    </tr>\n",
       "  </tbody>\n",
       "</table>\n",
       "</div>"
      ],
      "text/plain": [
       "                  author_id  \\\n",
       "331273  1337639908224114693   \n",
       "316564           2871336331   \n",
       "44173   1106927792099418112   \n",
       "474640  1392185571359870978   \n",
       "74098   1507767572363628554   \n",
       "\n",
       "                                                                                                                                                                                       tweet_text  \\\n",
       "331273  He had donated a huge amount of money towards Nagland  and Kerala flood relief in 2018.Everyone always  remember your kindness.\\n\\nSSR Worked 4 SelfActualisation https://t.co/QCHPFHnb8I   \n",
       "316564                                           RT @DSSNewsUpdates: Risking their own lives, #DSS volunteers saved lives &amp; livelihood from flood in Sirsa.Acres of land submerged due to he…   \n",
       "44173                                               RT @ECOWARRIORSS: Get ready for a world of fire - its just beginning \\nTens of thousands of people around world have been evacuated this sum…   \n",
       "474640                                           RT @cnnphilippines: JUST IN: A magnitude 5.8 earthquake hits waters off Manay, Davao Oriental.\\n\\nPhivolcs says aftershocks are expected.\\n\\nFu…   \n",
       "74098                                                RT @BNNBreaking: JUST IN: A 26-year-old man, identified as Cory Allan Martin, was arrested in Utah, on suspicion that he started wildfire w…   \n",
       "\n",
       "                       created_at hashtags               users disaster_kind  \\\n",
       "331273  2022-08-03 14:41:19+00:00       []                  []         Flood   \n",
       "316564  2022-08-04 02:17:10+00:00  ['DSS']  ['DSSNewsUpdates']         Flood   \n",
       "44173   2022-08-05 01:50:23+00:00       []    ['ECOWARRIORSS']      Wildfire   \n",
       "474640  2022-08-03 02:37:59+00:00       []  ['cnnphilippines']    Earthquake   \n",
       "74098   2022-08-03 21:38:44+00:00       []     ['BNNBreaking']      Wildfire   \n",
       "\n",
       "                                   class_label  \n",
       "331273  rescue_volunteering_or_donation_effort  \n",
       "316564  rescue_volunteering_or_donation_effort  \n",
       "44173         displaced_people_and_evacuations  \n",
       "474640              other_relevant_information  \n",
       "74098               other_relevant_information  "
      ]
     },
     "execution_count": 8,
     "metadata": {},
     "output_type": "execute_result"
    }
   ],
   "source": [
    "%%time\n",
    "# Predict the class labels\n",
    "class_label = classifier.predict(vectorizer.transform(df_tweets['tweet_text']))\n",
    "df_tweets['class_label'] = class_label\n",
    "\n",
    "df_tweets.sample(5)"
   ]
  },
  {
   "cell_type": "markdown",
   "id": "f811350b",
   "metadata": {
    "papermill": {
     "duration": 0.009633,
     "end_time": "2022-08-19T20:38:30.552728",
     "exception": false,
     "start_time": "2022-08-19T20:38:30.543095",
     "status": "completed"
    },
    "tags": []
   },
   "source": [
    "## Plot the intensity for each disaster kind, each class"
   ]
  },
  {
   "cell_type": "code",
   "execution_count": 9,
   "id": "c876dc6f",
   "metadata": {
    "execution": {
     "iopub.execute_input": "2022-08-19T20:38:30.576731Z",
     "iopub.status.busy": "2022-08-19T20:38:30.576409Z",
     "iopub.status.idle": "2022-08-19T20:38:30.580439Z",
     "shell.execute_reply": "2022-08-19T20:38:30.579797Z"
    },
    "papermill": {
     "duration": 0.016637,
     "end_time": "2022-08-19T20:38:30.582369",
     "exception": false,
     "start_time": "2022-08-19T20:38:30.565732",
     "status": "completed"
    },
    "tags": []
   },
   "outputs": [],
   "source": [
    "class_labels = [\n",
    "    'displaced_people_and_evacuations',\n",
    "    'injured_or_dead_people',\n",
    "    'rescue_volunteering_or_donation_effort',\n",
    "    'requests_or_urgent_needs',\n",
    "    'sympathy_and_support',\n",
    "    'infrastructure_and_utility_damage',\n",
    "    'caution_and_advice'\n",
    "]"
   ]
  },
  {
   "cell_type": "markdown",
   "id": "acdcc1f6",
   "metadata": {
    "papermill": {
     "duration": 0.009779,
     "end_time": "2022-08-19T20:38:30.601912",
     "exception": false,
     "start_time": "2022-08-19T20:38:30.592133",
     "status": "completed"
    },
    "tags": []
   },
   "source": [
    "### Aggregate the disaster types and categories in 8-hour groups"
   ]
  },
  {
   "cell_type": "code",
   "execution_count": 10,
   "id": "e186b785",
   "metadata": {
    "execution": {
     "iopub.execute_input": "2022-08-19T20:38:30.623683Z",
     "iopub.status.busy": "2022-08-19T20:38:30.623379Z",
     "iopub.status.idle": "2022-08-19T20:38:31.044811Z",
     "shell.execute_reply": "2022-08-19T20:38:31.043971Z"
    },
    "papermill": {
     "duration": 0.435006,
     "end_time": "2022-08-19T20:38:31.047268",
     "exception": false,
     "start_time": "2022-08-19T20:38:30.612262",
     "status": "completed"
    },
    "tags": []
   },
   "outputs": [
    {
     "data": {
      "text/html": [
       "<div>\n",
       "<style scoped>\n",
       "    .dataframe tbody tr th:only-of-type {\n",
       "        vertical-align: middle;\n",
       "    }\n",
       "\n",
       "    .dataframe tbody tr th {\n",
       "        vertical-align: top;\n",
       "    }\n",
       "\n",
       "    .dataframe thead th {\n",
       "        text-align: right;\n",
       "    }\n",
       "</style>\n",
       "<table border=\"1\" class=\"dataframe\">\n",
       "  <thead>\n",
       "    <tr style=\"text-align: right;\">\n",
       "      <th></th>\n",
       "      <th>created_at</th>\n",
       "      <th>class_label</th>\n",
       "      <th>disaster_kind</th>\n",
       "      <th>count</th>\n",
       "    </tr>\n",
       "  </thead>\n",
       "  <tbody>\n",
       "    <tr>\n",
       "      <th>0</th>\n",
       "      <td>2022-07-31 08:00:00+00:00</td>\n",
       "      <td>caution_and_advice</td>\n",
       "      <td>Earthquake</td>\n",
       "      <td>232</td>\n",
       "    </tr>\n",
       "    <tr>\n",
       "      <th>260</th>\n",
       "      <td>2022-08-03 00:00:00+00:00</td>\n",
       "      <td>injured_or_dead_people</td>\n",
       "      <td>Earthquake</td>\n",
       "      <td>145</td>\n",
       "    </tr>\n",
       "    <tr>\n",
       "      <th>263</th>\n",
       "      <td>2022-08-03 00:00:00+00:00</td>\n",
       "      <td>not_humanitarian</td>\n",
       "      <td>Earthquake</td>\n",
       "      <td>75</td>\n",
       "    </tr>\n",
       "    <tr>\n",
       "      <th>267</th>\n",
       "      <td>2022-08-03 00:00:00+00:00</td>\n",
       "      <td>other_relevant_information</td>\n",
       "      <td>Earthquake</td>\n",
       "      <td>7384</td>\n",
       "    </tr>\n",
       "    <tr>\n",
       "      <th>271</th>\n",
       "      <td>2022-08-03 00:00:00+00:00</td>\n",
       "      <td>requests_or_urgent_needs</td>\n",
       "      <td>Earthquake</td>\n",
       "      <td>85</td>\n",
       "    </tr>\n",
       "  </tbody>\n",
       "</table>\n",
       "</div>"
      ],
      "text/plain": [
       "                   created_at                 class_label disaster_kind  count\n",
       "0   2022-07-31 08:00:00+00:00          caution_and_advice    Earthquake    232\n",
       "260 2022-08-03 00:00:00+00:00      injured_or_dead_people    Earthquake    145\n",
       "263 2022-08-03 00:00:00+00:00            not_humanitarian    Earthquake     75\n",
       "267 2022-08-03 00:00:00+00:00  other_relevant_information    Earthquake   7384\n",
       "271 2022-08-03 00:00:00+00:00    requests_or_urgent_needs    Earthquake     85"
      ]
     },
     "execution_count": 10,
     "metadata": {},
     "output_type": "execute_result"
    }
   ],
   "source": [
    "df_tweets['created_at'] = pd.to_datetime(df_tweets['created_at'], errors='coerce')\n",
    "df_plot = df_tweets.copy()\n",
    "\n",
    "df_plot['created_at'] = df_plot['created_at'].dt.floor('8H') # Round to 8 hours\n",
    "df_plot['count'] = 1\n",
    "df_group_plot = df_plot[['created_at', 'class_label', 'disaster_kind','count']].groupby(\n",
    "    ['created_at', 'class_label', 'disaster_kind']\n",
    ").count().reset_index()\n",
    "df_group_plot['created_at'] = pd.to_datetime(df_group_plot['created_at'])\n",
    "df_group_plot.sort_values(by='disaster_kind', inplace=True)\n",
    "df_group_plot.head()"
   ]
  },
  {
   "cell_type": "markdown",
   "id": "a180d74c",
   "metadata": {
    "papermill": {
     "duration": 0.013145,
     "end_time": "2022-08-19T20:38:31.072982",
     "exception": false,
     "start_time": "2022-08-19T20:38:31.059837",
     "status": "completed"
    },
    "tags": []
   },
   "source": [
    "### Looking at all the disaters at once does not have any indication which one dominates. Visually, when no class is considered, noone dominates."
   ]
  },
  {
   "cell_type": "code",
   "execution_count": 11,
   "id": "1450d406",
   "metadata": {
    "execution": {
     "iopub.execute_input": "2022-08-19T20:38:31.098469Z",
     "iopub.status.busy": "2022-08-19T20:38:31.098108Z",
     "iopub.status.idle": "2022-08-19T20:38:31.316405Z",
     "shell.execute_reply": "2022-08-19T20:38:31.315816Z"
    },
    "papermill": {
     "duration": 0.232144,
     "end_time": "2022-08-19T20:38:31.318283",
     "exception": false,
     "start_time": "2022-08-19T20:38:31.086139",
     "status": "completed"
    },
    "tags": []
   },
   "outputs": [
    {
     "data": {
      "image/png": "[encoded data removed]",
      "text/plain": [
       "<Figure size 720x432 with 1 Axes>"
      ]
     },
     "metadata": {
      "needs_background": "light"
     },
     "output_type": "display_data"
    }
   ],
   "source": [
    "plot_class_boxplot(df_group_plot)"
   ]
  },
  {
   "cell_type": "markdown",
   "id": "4ef8face",
   "metadata": {
    "papermill": {
     "duration": 0.010091,
     "end_time": "2022-08-19T20:38:31.338904",
     "exception": false,
     "start_time": "2022-08-19T20:38:31.328813",
     "status": "completed"
    },
    "tags": []
   },
   "source": [
    "### Perform an f-test of the above, to determine if the means are different - the f-statistic is low and the pvalue is high, which confirms that no disaster kind stands up as compared to the others"
   ]
  },
  {
   "cell_type": "code",
   "execution_count": 12,
   "id": "ee266454",
   "metadata": {
    "execution": {
     "iopub.execute_input": "2022-08-19T20:38:31.360465Z",
     "iopub.status.busy": "2022-08-19T20:38:31.360156Z",
     "iopub.status.idle": "2022-08-19T20:38:31.367719Z",
     "shell.execute_reply": "2022-08-19T20:38:31.367145Z"
    },
    "papermill": {
     "duration": 0.020707,
     "end_time": "2022-08-19T20:38:31.369639",
     "exception": false,
     "start_time": "2022-08-19T20:38:31.348932",
     "status": "completed"
    },
    "tags": []
   },
   "outputs": [
    {
     "data": {
      "text/plain": [
       "F_onewayResult(statistic=0.3869087889615666, pvalue=0.7624738994702899)"
      ]
     },
     "execution_count": 12,
     "metadata": {},
     "output_type": "execute_result"
    }
   ],
   "source": [
    "f_test(df_group_plot)"
   ]
  },
  {
   "cell_type": "markdown",
   "id": "7f6d2a6a",
   "metadata": {
    "papermill": {
     "duration": 0.010287,
     "end_time": "2022-08-19T20:38:31.390508",
     "exception": false,
     "start_time": "2022-08-19T20:38:31.380221",
     "status": "completed"
    },
    "tags": []
   },
   "source": [
    "### The outcome is the same when we try a KS-test - no one disaster dominates the tweet sample"
   ]
  },
  {
   "cell_type": "code",
   "execution_count": 13,
   "id": "4111dc85",
   "metadata": {
    "execution": {
     "iopub.execute_input": "2022-08-19T20:38:31.413206Z",
     "iopub.status.busy": "2022-08-19T20:38:31.412898Z",
     "iopub.status.idle": "2022-08-19T20:38:32.303589Z",
     "shell.execute_reply": "2022-08-19T20:38:32.302760Z"
    },
    "papermill": {
     "duration": 0.904797,
     "end_time": "2022-08-19T20:38:32.306130",
     "exception": false,
     "start_time": "2022-08-19T20:38:31.401333",
     "status": "completed"
    },
    "tags": []
   },
   "outputs": [
    {
     "data": {
      "text/plain": [
       "(None, None)"
      ]
     },
     "execution_count": 13,
     "metadata": {},
     "output_type": "execute_result"
    }
   ],
   "source": [
    "ks_test(df_group_plot)"
   ]
  },
  {
   "cell_type": "markdown",
   "id": "b78bd997",
   "metadata": {
    "papermill": {
     "duration": 0.01034,
     "end_time": "2022-08-19T20:38:32.327263",
     "exception": false,
     "start_time": "2022-08-19T20:38:32.316923",
     "status": "completed"
    },
    "tags": []
   },
   "source": [
    "### Trying displaced_people_and_evacuations - visually 'Wildfires' tweets are more dominant"
   ]
  },
  {
   "cell_type": "code",
   "execution_count": 14,
   "id": "a7a33e0c",
   "metadata": {
    "execution": {
     "iopub.execute_input": "2022-08-19T20:38:32.351451Z",
     "iopub.status.busy": "2022-08-19T20:38:32.351130Z",
     "iopub.status.idle": "2022-08-19T20:38:32.557504Z",
     "shell.execute_reply": "2022-08-19T20:38:32.556689Z"
    },
    "papermill": {
     "duration": 0.221754,
     "end_time": "2022-08-19T20:38:32.560242",
     "exception": false,
     "start_time": "2022-08-19T20:38:32.338488",
     "status": "completed"
    },
    "tags": []
   },
   "outputs": [
    {
     "data": {
      "image/png": "[encoded data removed]",
      "text/plain": [
       "<Figure size 720x432 with 1 Axes>"
      ]
     },
     "metadata": {
      "needs_background": "light"
     },
     "output_type": "display_data"
    }
   ],
   "source": [
    "plot_class_boxplot(df_group_plot, 'displaced_people_and_evacuations')"
   ]
  },
  {
   "cell_type": "markdown",
   "id": "6efc0ba9",
   "metadata": {
    "papermill": {
     "duration": 0.01101,
     "end_time": "2022-08-19T20:38:32.582497",
     "exception": false,
     "start_time": "2022-08-19T20:38:32.571487",
     "status": "completed"
    },
    "tags": []
   },
   "source": [
    "### The f-statistic is relatively low - below 10, but the pvalue is also low, so there is a chance at least one tweet distribution is different, however, not that statistically significant "
   ]
  },
  {
   "cell_type": "code",
   "execution_count": 15,
   "id": "a2de4c84",
   "metadata": {
    "execution": {
     "iopub.execute_input": "2022-08-19T20:38:32.605733Z",
     "iopub.status.busy": "2022-08-19T20:38:32.605435Z",
     "iopub.status.idle": "2022-08-19T20:38:32.613405Z",
     "shell.execute_reply": "2022-08-19T20:38:32.612435Z"
    },
    "papermill": {
     "duration": 0.022082,
     "end_time": "2022-08-19T20:38:32.615384",
     "exception": false,
     "start_time": "2022-08-19T20:38:32.593302",
     "status": "completed"
    },
    "tags": []
   },
   "outputs": [
    {
     "data": {
      "text/plain": [
       "F_onewayResult(statistic=6.998888294867653, pvalue=0.00043411742534776675)"
      ]
     },
     "execution_count": 15,
     "metadata": {},
     "output_type": "execute_result"
    }
   ],
   "source": [
    "f_test(df_group_plot, class_labels=['displaced_people_and_evacuations'])"
   ]
  },
  {
   "cell_type": "code",
   "execution_count": 16,
   "id": "1f28f80a",
   "metadata": {
    "execution": {
     "iopub.execute_input": "2022-08-19T20:38:32.639287Z",
     "iopub.status.busy": "2022-08-19T20:38:32.638984Z",
     "iopub.status.idle": "2022-08-19T20:38:32.649244Z",
     "shell.execute_reply": "2022-08-19T20:38:32.648480Z"
    },
    "papermill": {
     "duration": 0.025219,
     "end_time": "2022-08-19T20:38:32.651743",
     "exception": false,
     "start_time": "2022-08-19T20:38:32.626524",
     "status": "completed"
    },
    "tags": []
   },
   "outputs": [
    {
     "data": {
      "text/plain": [
       "(None, None)"
      ]
     },
     "execution_count": 16,
     "metadata": {},
     "output_type": "execute_result"
    }
   ],
   "source": [
    "ks_test(df_group_plot, class_labels=['displaced_people_and_evacuations'])"
   ]
  },
  {
   "cell_type": "code",
   "execution_count": 17,
   "id": "dbe5d239",
   "metadata": {
    "execution": {
     "iopub.execute_input": "2022-08-19T20:38:32.675150Z",
     "iopub.status.busy": "2022-08-19T20:38:32.674871Z",
     "iopub.status.idle": "2022-08-19T20:38:32.860058Z",
     "shell.execute_reply": "2022-08-19T20:38:32.859353Z"
    },
    "papermill": {
     "duration": 0.199232,
     "end_time": "2022-08-19T20:38:32.862199",
     "exception": false,
     "start_time": "2022-08-19T20:38:32.662967",
     "status": "completed"
    },
    "tags": []
   },
   "outputs": [
    {
     "data": {
      "image/png": "[encoded data removed]",
      "text/plain": [
       "<Figure size 720x432 with 1 Axes>"
      ]
     },
     "metadata": {
      "needs_background": "light"
     },
     "output_type": "display_data"
    }
   ],
   "source": [
    "plot_class_boxplot(df_group_plot, 'injured_or_dead_people')"
   ]
  },
  {
   "cell_type": "code",
   "execution_count": 18,
   "id": "71776539",
   "metadata": {
    "execution": {
     "iopub.execute_input": "2022-08-19T20:38:32.886441Z",
     "iopub.status.busy": "2022-08-19T20:38:32.886143Z",
     "iopub.status.idle": "2022-08-19T20:38:32.893506Z",
     "shell.execute_reply": "2022-08-19T20:38:32.892755Z"
    },
    "papermill": {
     "duration": 0.021472,
     "end_time": "2022-08-19T20:38:32.895464",
     "exception": false,
     "start_time": "2022-08-19T20:38:32.873992",
     "status": "completed"
    },
    "tags": []
   },
   "outputs": [
    {
     "data": {
      "text/plain": [
       "F_onewayResult(statistic=5.201780020635175, pvalue=0.002837749650474971)"
      ]
     },
     "execution_count": 18,
     "metadata": {},
     "output_type": "execute_result"
    }
   ],
   "source": [
    "f_test(df_group_plot, class_labels=['injured_or_dead_people'])"
   ]
  },
  {
   "cell_type": "code",
   "execution_count": 19,
   "id": "175db6d6",
   "metadata": {
    "execution": {
     "iopub.execute_input": "2022-08-19T20:38:32.920451Z",
     "iopub.status.busy": "2022-08-19T20:38:32.920145Z",
     "iopub.status.idle": "2022-08-19T20:38:32.935302Z",
     "shell.execute_reply": "2022-08-19T20:38:32.934642Z"
    },
    "papermill": {
     "duration": 0.029733,
     "end_time": "2022-08-19T20:38:32.937190",
     "exception": false,
     "start_time": "2022-08-19T20:38:32.907457",
     "status": "completed"
    },
    "tags": []
   },
   "outputs": [
    {
     "data": {
      "text/plain": [
       "(None, None)"
      ]
     },
     "execution_count": 19,
     "metadata": {},
     "output_type": "execute_result"
    }
   ],
   "source": [
    "ks_test(df_group_plot, class_labels=['injured_or_dead_people'])"
   ]
  },
  {
   "cell_type": "markdown",
   "id": "2a74b0e9",
   "metadata": {
    "papermill": {
     "duration": 0.011581,
     "end_time": "2022-08-19T20:38:32.960442",
     "exception": false,
     "start_time": "2022-08-19T20:38:32.948861",
     "status": "completed"
    },
    "tags": []
   },
   "source": [
    "### For rescue_volunteering_or_donation_effort, the 'flood' disasters clearly dominate as shown visually and statistically "
   ]
  },
  {
   "cell_type": "code",
   "execution_count": 20,
   "id": "76ed1e1c",
   "metadata": {
    "execution": {
     "iopub.execute_input": "2022-08-19T20:38:32.984840Z",
     "iopub.status.busy": "2022-08-19T20:38:32.984541Z",
     "iopub.status.idle": "2022-08-19T20:38:33.176992Z",
     "shell.execute_reply": "2022-08-19T20:38:33.176310Z"
    },
    "papermill": {
     "duration": 0.20697,
     "end_time": "2022-08-19T20:38:33.178887",
     "exception": false,
     "start_time": "2022-08-19T20:38:32.971917",
     "status": "completed"
    },
    "tags": []
   },
   "outputs": [
    {
     "data": {
      "image/png": "[encoded data removed]",
      "text/plain": [
       "<Figure size 720x432 with 1 Axes>"
      ]
     },
     "metadata": {
      "needs_background": "light"
     },
     "output_type": "display_data"
    }
   ],
   "source": [
    "plot_class_boxplot(df_group_plot, 'rescue_volunteering_or_donation_effort')"
   ]
  },
  {
   "cell_type": "code",
   "execution_count": 21,
   "id": "f6acdcf2",
   "metadata": {
    "execution": {
     "iopub.execute_input": "2022-08-19T20:38:33.204862Z",
     "iopub.status.busy": "2022-08-19T20:38:33.204412Z",
     "iopub.status.idle": "2022-08-19T20:38:33.211976Z",
     "shell.execute_reply": "2022-08-19T20:38:33.211200Z"
    },
    "papermill": {
     "duration": 0.022842,
     "end_time": "2022-08-19T20:38:33.213990",
     "exception": false,
     "start_time": "2022-08-19T20:38:33.191148",
     "status": "completed"
    },
    "tags": []
   },
   "outputs": [
    {
     "data": {
      "text/plain": [
       "F_onewayResult(statistic=63.466941273877204, pvalue=1.1924304959724865e-20)"
      ]
     },
     "execution_count": 21,
     "metadata": {},
     "output_type": "execute_result"
    }
   ],
   "source": [
    "f_test(df_group_plot, class_labels=['rescue_volunteering_or_donation_effort'])"
   ]
  },
  {
   "cell_type": "code",
   "execution_count": 22,
   "id": "dfbc992f",
   "metadata": {
    "execution": {
     "iopub.execute_input": "2022-08-19T20:38:33.241366Z",
     "iopub.status.busy": "2022-08-19T20:38:33.241064Z",
     "iopub.status.idle": "2022-08-19T20:38:33.253522Z",
     "shell.execute_reply": "2022-08-19T20:38:33.252885Z"
    },
    "papermill": {
     "duration": 0.028544,
     "end_time": "2022-08-19T20:38:33.255541",
     "exception": false,
     "start_time": "2022-08-19T20:38:33.226997",
     "status": "completed"
    },
    "tags": []
   },
   "outputs": [
    {
     "data": {
      "text/plain": [
       "('Flood',\n",
       " [3.396884814555207e-08, 5.429149940086322e-08, 3.046866711808434e-09])"
      ]
     },
     "execution_count": 22,
     "metadata": {},
     "output_type": "execute_result"
    }
   ],
   "source": [
    "ks_test(df_group_plot, class_labels=['rescue_volunteering_or_donation_effort'])"
   ]
  },
  {
   "cell_type": "markdown",
   "id": "d67cdd39",
   "metadata": {
    "papermill": {
     "duration": 0.013458,
     "end_time": "2022-08-19T20:38:33.282404",
     "exception": false,
     "start_time": "2022-08-19T20:38:33.268946",
     "status": "completed"
    },
    "tags": []
   },
   "source": [
    "### No clear dominant disaster kind for requests_or_urgent_needs"
   ]
  },
  {
   "cell_type": "code",
   "execution_count": 23,
   "id": "e4594045",
   "metadata": {
    "execution": {
     "iopub.execute_input": "2022-08-19T20:38:33.311877Z",
     "iopub.status.busy": "2022-08-19T20:38:33.311570Z",
     "iopub.status.idle": "2022-08-19T20:38:33.487894Z",
     "shell.execute_reply": "2022-08-19T20:38:33.487187Z"
    },
    "papermill": {
     "duration": 0.192887,
     "end_time": "2022-08-19T20:38:33.490071",
     "exception": false,
     "start_time": "2022-08-19T20:38:33.297184",
     "status": "completed"
    },
    "tags": []
   },
   "outputs": [
    {
     "data": {
      "image/png": "[encoded data removed]",
      "text/plain": [
       "<Figure size 720x432 with 1 Axes>"
      ]
     },
     "metadata": {
      "needs_background": "light"
     },
     "output_type": "display_data"
    }
   ],
   "source": [
    "plot_class_boxplot(df_group_plot, 'requests_or_urgent_needs')"
   ]
  },
  {
   "cell_type": "code",
   "execution_count": 24,
   "id": "8cea4b22",
   "metadata": {
    "execution": {
     "iopub.execute_input": "2022-08-19T20:38:33.516663Z",
     "iopub.status.busy": "2022-08-19T20:38:33.516362Z",
     "iopub.status.idle": "2022-08-19T20:38:33.524131Z",
     "shell.execute_reply": "2022-08-19T20:38:33.523490Z"
    },
    "papermill": {
     "duration": 0.023328,
     "end_time": "2022-08-19T20:38:33.526170",
     "exception": false,
     "start_time": "2022-08-19T20:38:33.502842",
     "status": "completed"
    },
    "tags": []
   },
   "outputs": [
    {
     "data": {
      "text/plain": [
       "F_onewayResult(statistic=0.5748157084043445, pvalue=0.5688858588003824)"
      ]
     },
     "execution_count": 24,
     "metadata": {},
     "output_type": "execute_result"
    }
   ],
   "source": [
    "f_test(df_group_plot, class_labels=['requests_or_urgent_needs'])"
   ]
  },
  {
   "cell_type": "code",
   "execution_count": 25,
   "id": "1ede756c",
   "metadata": {
    "execution": {
     "iopub.execute_input": "2022-08-19T20:38:33.553785Z",
     "iopub.status.busy": "2022-08-19T20:38:33.553460Z",
     "iopub.status.idle": "2022-08-19T20:38:33.563096Z",
     "shell.execute_reply": "2022-08-19T20:38:33.562337Z"
    },
    "papermill": {
     "duration": 0.025919,
     "end_time": "2022-08-19T20:38:33.565124",
     "exception": false,
     "start_time": "2022-08-19T20:38:33.539205",
     "status": "completed"
    },
    "tags": []
   },
   "outputs": [
    {
     "data": {
      "text/plain": [
       "(None, None)"
      ]
     },
     "execution_count": 25,
     "metadata": {},
     "output_type": "execute_result"
    }
   ],
   "source": [
    "ks_test(df_group_plot, class_labels=['requests_or_urgent_needs'])"
   ]
  },
  {
   "cell_type": "code",
   "execution_count": 26,
   "id": "cd8fd819",
   "metadata": {
    "execution": {
     "iopub.execute_input": "2022-08-19T20:38:33.591888Z",
     "iopub.status.busy": "2022-08-19T20:38:33.591575Z",
     "iopub.status.idle": "2022-08-19T20:38:33.789887Z",
     "shell.execute_reply": "2022-08-19T20:38:33.789209Z"
    },
    "papermill": {
     "duration": 0.213944,
     "end_time": "2022-08-19T20:38:33.791940",
     "exception": false,
     "start_time": "2022-08-19T20:38:33.577996",
     "status": "completed"
    },
    "tags": []
   },
   "outputs": [
    {
     "data": {
      "image/png": "[encoded data removed]",
      "text/plain": [
       "<Figure size 720x432 with 1 Axes>"
      ]
     },
     "metadata": {
      "needs_background": "light"
     },
     "output_type": "display_data"
    }
   ],
   "source": [
    "plot_class_boxplot(df_group_plot, 'sympathy_and_support')"
   ]
  },
  {
   "cell_type": "code",
   "execution_count": 27,
   "id": "2b8d0e95",
   "metadata": {
    "execution": {
     "iopub.execute_input": "2022-08-19T20:38:33.820194Z",
     "iopub.status.busy": "2022-08-19T20:38:33.819869Z",
     "iopub.status.idle": "2022-08-19T20:38:33.827022Z",
     "shell.execute_reply": "2022-08-19T20:38:33.826337Z"
    },
    "papermill": {
     "duration": 0.023484,
     "end_time": "2022-08-19T20:38:33.829039",
     "exception": false,
     "start_time": "2022-08-19T20:38:33.805555",
     "status": "completed"
    },
    "tags": []
   },
   "outputs": [
    {
     "data": {
      "text/plain": [
       "F_onewayResult(statistic=10.298553326159121, pvalue=1.360213044730053e-05)"
      ]
     },
     "execution_count": 27,
     "metadata": {},
     "output_type": "execute_result"
    }
   ],
   "source": [
    "f_test(df_group_plot, class_labels=['sympathy_and_support'])"
   ]
  },
  {
   "cell_type": "code",
   "execution_count": 28,
   "id": "b2118f17",
   "metadata": {
    "execution": {
     "iopub.execute_input": "2022-08-19T20:38:33.856929Z",
     "iopub.status.busy": "2022-08-19T20:38:33.856616Z",
     "iopub.status.idle": "2022-08-19T20:38:33.868440Z",
     "shell.execute_reply": "2022-08-19T20:38:33.867840Z"
    },
    "papermill": {
     "duration": 0.028128,
     "end_time": "2022-08-19T20:38:33.870388",
     "exception": false,
     "start_time": "2022-08-19T20:38:33.842260",
     "status": "completed"
    },
    "tags": []
   },
   "outputs": [
    {
     "data": {
      "text/plain": [
       "('Flood',\n",
       " [2.7845314879217286e-05, 0.0023585609792506346, 0.0007671189660839997])"
      ]
     },
     "execution_count": 28,
     "metadata": {},
     "output_type": "execute_result"
    }
   ],
   "source": [
    "ks_test(df_group_plot, class_labels=['sympathy_and_support'])"
   ]
  },
  {
   "cell_type": "code",
   "execution_count": 29,
   "id": "a591a3a2",
   "metadata": {
    "execution": {
     "iopub.execute_input": "2022-08-19T20:38:33.900223Z",
     "iopub.status.busy": "2022-08-19T20:38:33.899923Z",
     "iopub.status.idle": "2022-08-19T20:38:34.096416Z",
     "shell.execute_reply": "2022-08-19T20:38:34.095697Z"
    },
    "papermill": {
     "duration": 0.214397,
     "end_time": "2022-08-19T20:38:34.098346",
     "exception": false,
     "start_time": "2022-08-19T20:38:33.883949",
     "status": "completed"
    },
    "tags": []
   },
   "outputs": [
    {
     "data": {
      "image/png": "[encoded data removed]",
      "text/plain": [
       "<Figure size 720x432 with 1 Axes>"
      ]
     },
     "metadata": {
      "needs_background": "light"
     },
     "output_type": "display_data"
    }
   ],
   "source": [
    "plot_class_boxplot(df_group_plot, 'infrastructure_and_utility_damage')"
   ]
  },
  {
   "cell_type": "code",
   "execution_count": 30,
   "id": "133e2dae",
   "metadata": {
    "execution": {
     "iopub.execute_input": "2022-08-19T20:38:34.126956Z",
     "iopub.status.busy": "2022-08-19T20:38:34.126644Z",
     "iopub.status.idle": "2022-08-19T20:38:34.134007Z",
     "shell.execute_reply": "2022-08-19T20:38:34.133378Z"
    },
    "papermill": {
     "duration": 0.023591,
     "end_time": "2022-08-19T20:38:34.135888",
     "exception": false,
     "start_time": "2022-08-19T20:38:34.112297",
     "status": "completed"
    },
    "tags": []
   },
   "outputs": [
    {
     "data": {
      "text/plain": [
       "F_onewayResult(statistic=6.906167024695891, pvalue=0.0003486808833049537)"
      ]
     },
     "execution_count": 30,
     "metadata": {},
     "output_type": "execute_result"
    }
   ],
   "source": [
    "f_test(df_group_plot, class_labels=['infrastructure_and_utility_damage'])"
   ]
  },
  {
   "cell_type": "code",
   "execution_count": 31,
   "id": "7f47b51c",
   "metadata": {
    "execution": {
     "iopub.execute_input": "2022-08-19T20:38:34.166485Z",
     "iopub.status.busy": "2022-08-19T20:38:34.166188Z",
     "iopub.status.idle": "2022-08-19T20:38:34.187834Z",
     "shell.execute_reply": "2022-08-19T20:38:34.186549Z"
    },
    "papermill": {
     "duration": 0.041352,
     "end_time": "2022-08-19T20:38:34.191568",
     "exception": false,
     "start_time": "2022-08-19T20:38:34.150216",
     "status": "completed"
    },
    "tags": []
   },
   "outputs": [
    {
     "data": {
      "text/plain": [
       "(None, None)"
      ]
     },
     "execution_count": 31,
     "metadata": {},
     "output_type": "execute_result"
    }
   ],
   "source": [
    "ks_test(df_group_plot, class_labels=['infrastructure_and_utility_damage'])"
   ]
  },
  {
   "cell_type": "code",
   "execution_count": 32,
   "id": "bbabf8c6",
   "metadata": {
    "execution": {
     "iopub.execute_input": "2022-08-19T20:38:34.223501Z",
     "iopub.status.busy": "2022-08-19T20:38:34.223189Z",
     "iopub.status.idle": "2022-08-19T20:38:34.428047Z",
     "shell.execute_reply": "2022-08-19T20:38:34.427352Z"
    },
    "papermill": {
     "duration": 0.223008,
     "end_time": "2022-08-19T20:38:34.430036",
     "exception": false,
     "start_time": "2022-08-19T20:38:34.207028",
     "status": "completed"
    },
    "tags": []
   },
   "outputs": [
    {
     "data": {
      "image/png": "[encoded data removed]",
      "text/plain": [
       "<Figure size 720x432 with 1 Axes>"
      ]
     },
     "metadata": {
      "needs_background": "light"
     },
     "output_type": "display_data"
    }
   ],
   "source": [
    "plot_class_boxplot(df_group_plot, 'caution_and_advice')"
   ]
  },
  {
   "cell_type": "code",
   "execution_count": 33,
   "id": "6eb1a533",
   "metadata": {
    "execution": {
     "iopub.execute_input": "2022-08-19T20:38:34.462251Z",
     "iopub.status.busy": "2022-08-19T20:38:34.461958Z",
     "iopub.status.idle": "2022-08-19T20:38:34.469578Z",
     "shell.execute_reply": "2022-08-19T20:38:34.468835Z"
    },
    "papermill": {
     "duration": 0.025846,
     "end_time": "2022-08-19T20:38:34.471654",
     "exception": false,
     "start_time": "2022-08-19T20:38:34.445808",
     "status": "completed"
    },
    "tags": []
   },
   "outputs": [
    {
     "data": {
      "text/plain": [
       "F_onewayResult(statistic=5.927316603235517, pvalue=0.0010720839336386381)"
      ]
     },
     "execution_count": 33,
     "metadata": {},
     "output_type": "execute_result"
    }
   ],
   "source": [
    "f_test(df_group_plot, class_labels=['caution_and_advice'])"
   ]
  },
  {
   "cell_type": "code",
   "execution_count": 34,
   "id": "d3d68dad",
   "metadata": {
    "execution": {
     "iopub.execute_input": "2022-08-19T20:38:34.503161Z",
     "iopub.status.busy": "2022-08-19T20:38:34.502843Z",
     "iopub.status.idle": "2022-08-19T20:38:34.516871Z",
     "shell.execute_reply": "2022-08-19T20:38:34.516167Z"
    },
    "papermill": {
     "duration": 0.032237,
     "end_time": "2022-08-19T20:38:34.518819",
     "exception": false,
     "start_time": "2022-08-19T20:38:34.486582",
     "status": "completed"
    },
    "tags": []
   },
   "outputs": [
    {
     "data": {
      "text/plain": [
       "('Hurricane',\n",
       " [0.00037629214474702027, 0.014168473566567592, 0.04740986150281502])"
      ]
     },
     "execution_count": 34,
     "metadata": {},
     "output_type": "execute_result"
    }
   ],
   "source": [
    "ks_test(df_group_plot, class_labels=['caution_and_advice'])"
   ]
  },
  {
   "cell_type": "code",
   "execution_count": 35,
   "id": "2d9515ce",
   "metadata": {
    "execution": {
     "iopub.execute_input": "2022-08-19T20:38:34.551387Z",
     "iopub.status.busy": "2022-08-19T20:38:34.551076Z",
     "iopub.status.idle": "2022-08-19T20:38:34.874259Z",
     "shell.execute_reply": "2022-08-19T20:38:34.873552Z"
    },
    "papermill": {
     "duration": 0.341828,
     "end_time": "2022-08-19T20:38:34.876428",
     "exception": false,
     "start_time": "2022-08-19T20:38:34.534600",
     "status": "completed"
    },
    "tags": []
   },
   "outputs": [
    {
     "data": {
      "image/png": "[encoded data removed]",
      "text/plain": [
       "<Figure size 720x432 with 1 Axes>"
      ]
     },
     "metadata": {
      "needs_background": "light"
     },
     "output_type": "display_data"
    }
   ],
   "source": [
    "plot_class_boxplot(df_group_plot, 'not_humanitarian')"
   ]
  },
  {
   "cell_type": "code",
   "execution_count": 36,
   "id": "7fa257c9",
   "metadata": {
    "execution": {
     "iopub.execute_input": "2022-08-19T20:38:34.909405Z",
     "iopub.status.busy": "2022-08-19T20:38:34.909085Z",
     "iopub.status.idle": "2022-08-19T20:38:34.916730Z",
     "shell.execute_reply": "2022-08-19T20:38:34.916091Z"
    },
    "papermill": {
     "duration": 0.026515,
     "end_time": "2022-08-19T20:38:34.918691",
     "exception": false,
     "start_time": "2022-08-19T20:38:34.892176",
     "status": "completed"
    },
    "tags": []
   },
   "outputs": [
    {
     "data": {
      "text/plain": [
       "F_onewayResult(statistic=5.937505122603691, pvalue=0.0010787301870656097)"
      ]
     },
     "execution_count": 36,
     "metadata": {},
     "output_type": "execute_result"
    }
   ],
   "source": [
    "f_test(df_group_plot, class_labels=['not_humanitarian'])"
   ]
  },
  {
   "cell_type": "code",
   "execution_count": 37,
   "id": "84b581ac",
   "metadata": {
    "execution": {
     "iopub.execute_input": "2022-08-19T20:38:34.952394Z",
     "iopub.status.busy": "2022-08-19T20:38:34.952075Z",
     "iopub.status.idle": "2022-08-19T20:38:34.968073Z",
     "shell.execute_reply": "2022-08-19T20:38:34.967449Z"
    },
    "papermill": {
     "duration": 0.03537,
     "end_time": "2022-08-19T20:38:34.969999",
     "exception": false,
     "start_time": "2022-08-19T20:38:34.934629",
     "status": "completed"
    },
    "tags": []
   },
   "outputs": [
    {
     "data": {
      "text/plain": [
       "(None, None)"
      ]
     },
     "execution_count": 37,
     "metadata": {},
     "output_type": "execute_result"
    }
   ],
   "source": [
    "ks_test(df_group_plot, class_labels=['not_humanitarian'])"
   ]
  },
  {
   "cell_type": "code",
   "execution_count": 38,
   "id": "8dc9f9cf",
   "metadata": {
    "execution": {
     "iopub.execute_input": "2022-08-19T20:38:35.002223Z",
     "iopub.status.busy": "2022-08-19T20:38:35.001921Z",
     "iopub.status.idle": "2022-08-19T20:38:35.189758Z",
     "shell.execute_reply": "2022-08-19T20:38:35.189015Z"
    },
    "papermill": {
     "duration": 0.206675,
     "end_time": "2022-08-19T20:38:35.191958",
     "exception": false,
     "start_time": "2022-08-19T20:38:34.985283",
     "status": "completed"
    },
    "tags": []
   },
   "outputs": [
    {
     "data": {
      "image/png": "[encoded data removed]",
      "text/plain": [
       "<Figure size 720x432 with 1 Axes>"
      ]
     },
     "metadata": {
      "needs_background": "light"
     },
     "output_type": "display_data"
    }
   ],
   "source": [
    "plot_class_boxplot(df_group_plot, 'other_relevant_information')"
   ]
  },
  {
   "cell_type": "code",
   "execution_count": 39,
   "id": "75712651",
   "metadata": {
    "execution": {
     "iopub.execute_input": "2022-08-19T20:38:35.229206Z",
     "iopub.status.busy": "2022-08-19T20:38:35.228882Z",
     "iopub.status.idle": "2022-08-19T20:38:35.236551Z",
     "shell.execute_reply": "2022-08-19T20:38:35.235858Z"
    },
    "papermill": {
     "duration": 0.028874,
     "end_time": "2022-08-19T20:38:35.238633",
     "exception": false,
     "start_time": "2022-08-19T20:38:35.209759",
     "status": "completed"
    },
    "tags": []
   },
   "outputs": [
    {
     "data": {
      "text/plain": [
       "F_onewayResult(statistic=10.007689381829522, pvalue=1.1550199801339669e-05)"
      ]
     },
     "execution_count": 39,
     "metadata": {},
     "output_type": "execute_result"
    }
   ],
   "source": [
    "f_test(df_group_plot, class_labels=['other_relevant_information'])"
   ]
  },
  {
   "cell_type": "code",
   "execution_count": 40,
   "id": "b2caf24b",
   "metadata": {
    "execution": {
     "iopub.execute_input": "2022-08-19T20:38:35.273339Z",
     "iopub.status.busy": "2022-08-19T20:38:35.273034Z",
     "iopub.status.idle": "2022-08-19T20:38:35.287973Z",
     "shell.execute_reply": "2022-08-19T20:38:35.287312Z"
    },
    "papermill": {
     "duration": 0.035492,
     "end_time": "2022-08-19T20:38:35.289959",
     "exception": false,
     "start_time": "2022-08-19T20:38:35.254467",
     "status": "completed"
    },
    "tags": []
   },
   "outputs": [
    {
     "data": {
      "text/plain": [
       "('Earthquake',\n",
       " [0.02054427331788651, 0.00021928185467383614, 3.395576891283797e-06])"
      ]
     },
     "execution_count": 40,
     "metadata": {},
     "output_type": "execute_result"
    }
   ],
   "source": [
    "ks_test(df_group_plot, class_labels=['other_relevant_information'])"
   ]
  },
  {
   "cell_type": "markdown",
   "id": "267d82b6",
   "metadata": {
    "papermill": {
     "duration": 0.016067,
     "end_time": "2022-08-19T20:38:35.322045",
     "exception": false,
     "start_time": "2022-08-19T20:38:35.305978",
     "status": "completed"
    },
    "tags": []
   },
   "source": [
    "### Identify class labels for active disasters - these are more distressed tweets"
   ]
  },
  {
   "cell_type": "code",
   "execution_count": 41,
   "id": "b278d453",
   "metadata": {
    "execution": {
     "iopub.execute_input": "2022-08-19T20:38:35.355335Z",
     "iopub.status.busy": "2022-08-19T20:38:35.355011Z",
     "iopub.status.idle": "2022-08-19T20:38:35.358781Z",
     "shell.execute_reply": "2022-08-19T20:38:35.358061Z"
    },
    "papermill": {
     "duration": 0.023389,
     "end_time": "2022-08-19T20:38:35.361186",
     "exception": false,
     "start_time": "2022-08-19T20:38:35.337797",
     "status": "completed"
    },
    "tags": []
   },
   "outputs": [],
   "source": [
    "class_labels_active = [\n",
    "    'displaced_people_and_evacuations',\n",
    "    'injured_or_dead_people',\n",
    "]"
   ]
  },
  {
   "cell_type": "markdown",
   "id": "99dcccad",
   "metadata": {
    "papermill": {
     "duration": 0.01816,
     "end_time": "2022-08-19T20:38:35.396165",
     "exception": false,
     "start_time": "2022-08-19T20:38:35.378005",
     "status": "completed"
    },
    "tags": []
   },
   "source": [
    "### The visualization and the statistic tests clearly shows the Wildfires dominate for this particular week"
   ]
  },
  {
   "cell_type": "code",
   "execution_count": 42,
   "id": "e74ab821",
   "metadata": {
    "execution": {
     "iopub.execute_input": "2022-08-19T20:38:35.432413Z",
     "iopub.status.busy": "2022-08-19T20:38:35.432095Z",
     "iopub.status.idle": "2022-08-19T20:38:35.623551Z",
     "shell.execute_reply": "2022-08-19T20:38:35.622907Z"
    },
    "papermill": {
     "duration": 0.211949,
     "end_time": "2022-08-19T20:38:35.625604",
     "exception": false,
     "start_time": "2022-08-19T20:38:35.413655",
     "status": "completed"
    },
    "tags": []
   },
   "outputs": [
    {
     "data": {
      "image/png": "[encoded data removed]",
      "text/plain": [
       "<Figure size 720x432 with 1 Axes>"
      ]
     },
     "metadata": {
      "needs_background": "light"
     },
     "output_type": "display_data"
    }
   ],
   "source": [
    "plot_class_boxplot(df_group_plot[df_group_plot['class_label'].isin(class_labels_active)], title=class_labels_active)"
   ]
  },
  {
   "cell_type": "code",
   "execution_count": 43,
   "id": "42f65f0f",
   "metadata": {
    "execution": {
     "iopub.execute_input": "2022-08-19T20:38:35.660969Z",
     "iopub.status.busy": "2022-08-19T20:38:35.660659Z",
     "iopub.status.idle": "2022-08-19T20:38:35.668340Z",
     "shell.execute_reply": "2022-08-19T20:38:35.667585Z"
    },
    "papermill": {
     "duration": 0.027905,
     "end_time": "2022-08-19T20:38:35.670389",
     "exception": false,
     "start_time": "2022-08-19T20:38:35.642484",
     "status": "completed"
    },
    "tags": []
   },
   "outputs": [
    {
     "data": {
      "text/plain": [
       "F_onewayResult(statistic=10.35071997380027, pvalue=3.960570565233521e-06)"
      ]
     },
     "execution_count": 43,
     "metadata": {},
     "output_type": "execute_result"
    }
   ],
   "source": [
    "f_test(df_group_plot, class_labels=class_labels_active)"
   ]
  },
  {
   "cell_type": "code",
   "execution_count": 44,
   "id": "1a2fdcc2",
   "metadata": {
    "execution": {
     "iopub.execute_input": "2022-08-19T20:38:35.705377Z",
     "iopub.status.busy": "2022-08-19T20:38:35.705068Z",
     "iopub.status.idle": "2022-08-19T20:38:35.716905Z",
     "shell.execute_reply": "2022-08-19T20:38:35.716293Z"
    },
    "papermill": {
     "duration": 0.031804,
     "end_time": "2022-08-19T20:38:35.718783",
     "exception": false,
     "start_time": "2022-08-19T20:38:35.686979",
     "status": "completed"
    },
    "tags": []
   },
   "outputs": [
    {
     "data": {
      "text/plain": [
       "('Wildfire',\n",
       " [0.07322472520068853, 5.2459936908087666e-05, 2.3038948480462642e-07])"
      ]
     },
     "execution_count": 44,
     "metadata": {},
     "output_type": "execute_result"
    }
   ],
   "source": [
    "ks_test(df_group_plot, class_labels=class_labels_active)"
   ]
  },
  {
   "cell_type": "markdown",
   "id": "5501e787",
   "metadata": {
    "papermill": {
     "duration": 0.016473,
     "end_time": "2022-08-19T20:38:35.751708",
     "exception": false,
     "start_time": "2022-08-19T20:38:35.735235",
     "status": "completed"
    },
    "tags": []
   },
   "source": [
    "### Identify class labels for past/calm down disasters - the danger has already passed, the community deals with the consequences of the event"
   ]
  },
  {
   "cell_type": "code",
   "execution_count": 45,
   "id": "b870a1be",
   "metadata": {
    "execution": {
     "iopub.execute_input": "2022-08-19T20:38:35.789216Z",
     "iopub.status.busy": "2022-08-19T20:38:35.788898Z",
     "iopub.status.idle": "2022-08-19T20:38:35.792544Z",
     "shell.execute_reply": "2022-08-19T20:38:35.791847Z"
    },
    "papermill": {
     "duration": 0.023662,
     "end_time": "2022-08-19T20:38:35.794757",
     "exception": false,
     "start_time": "2022-08-19T20:38:35.771095",
     "status": "completed"
    },
    "tags": []
   },
   "outputs": [],
   "source": [
    "class_labels_past = [\n",
    "    'rescue_volunteering_or_donation_effort',\n",
    "    'requests_or_urgent_needs',\n",
    "    'sympathy_and_support',\n",
    "]"
   ]
  },
  {
   "cell_type": "markdown",
   "id": "78f653c4",
   "metadata": {
    "papermill": {
     "duration": 0.016587,
     "end_time": "2022-08-19T20:38:35.828111",
     "exception": false,
     "start_time": "2022-08-19T20:38:35.811524",
     "status": "completed"
    },
    "tags": []
   },
   "source": [
    "### Visually and statistically 'flood' disasters dominate for this week"
   ]
  },
  {
   "cell_type": "code",
   "execution_count": 46,
   "id": "b339c3fb",
   "metadata": {
    "execution": {
     "iopub.execute_input": "2022-08-19T20:38:35.863002Z",
     "iopub.status.busy": "2022-08-19T20:38:35.862694Z",
     "iopub.status.idle": "2022-08-19T20:38:36.063298Z",
     "shell.execute_reply": "2022-08-19T20:38:36.062612Z"
    },
    "papermill": {
     "duration": 0.220515,
     "end_time": "2022-08-19T20:38:36.065401",
     "exception": false,
     "start_time": "2022-08-19T20:38:35.844886",
     "status": "completed"
    },
    "tags": []
   },
   "outputs": [
    {
     "data": {
      "image/png": "[encoded data removed]",
      "text/plain": [
       "<Figure size 720x432 with 1 Axes>"
      ]
     },
     "metadata": {
      "needs_background": "light"
     },
     "output_type": "display_data"
    }
   ],
   "source": [
    "plot_class_boxplot(df_group_plot[df_group_plot['class_label'].isin(class_labels_past)], title=class_labels_past)"
   ]
  },
  {
   "cell_type": "code",
   "execution_count": 47,
   "id": "aa113482",
   "metadata": {
    "execution": {
     "iopub.execute_input": "2022-08-19T20:38:36.101364Z",
     "iopub.status.busy": "2022-08-19T20:38:36.101047Z",
     "iopub.status.idle": "2022-08-19T20:38:36.109044Z",
     "shell.execute_reply": "2022-08-19T20:38:36.108269Z"
    },
    "papermill": {
     "duration": 0.028516,
     "end_time": "2022-08-19T20:38:36.111318",
     "exception": false,
     "start_time": "2022-08-19T20:38:36.082802",
     "status": "completed"
    },
    "tags": []
   },
   "outputs": [
    {
     "data": {
      "text/plain": [
       "F_onewayResult(statistic=11.950317300994135, pvalue=3.715889348149974e-07)"
      ]
     },
     "execution_count": 47,
     "metadata": {},
     "output_type": "execute_result"
    }
   ],
   "source": [
    "f_test(df_group_plot, class_labels=class_labels_past)"
   ]
  },
  {
   "cell_type": "code",
   "execution_count": 48,
   "id": "10156ef0",
   "metadata": {
    "execution": {
     "iopub.execute_input": "2022-08-19T20:38:36.149339Z",
     "iopub.status.busy": "2022-08-19T20:38:36.149043Z",
     "iopub.status.idle": "2022-08-19T20:38:36.196459Z",
     "shell.execute_reply": "2022-08-19T20:38:36.195820Z"
    },
    "papermill": {
     "duration": 0.06883,
     "end_time": "2022-08-19T20:38:36.198774",
     "exception": false,
     "start_time": "2022-08-19T20:38:36.129944",
     "status": "completed"
    },
    "tags": []
   },
   "outputs": [
    {
     "data": {
      "text/plain": [
       "('Flood', [0.007012714471607445, 0.014540857905105333, 0.006384398236281075])"
      ]
     },
     "execution_count": 48,
     "metadata": {},
     "output_type": "execute_result"
    }
   ],
   "source": [
    "ks_test(df_group_plot, class_labels=class_labels_past)"
   ]
  },
  {
   "cell_type": "markdown",
   "id": "7e05f980",
   "metadata": {
    "papermill": {
     "duration": 0.017231,
     "end_time": "2022-08-19T20:38:36.233403",
     "exception": false,
     "start_time": "2022-08-19T20:38:36.216172",
     "status": "completed"
    },
    "tags": []
   },
   "source": [
    "### Show the disasters over time as timeseries"
   ]
  },
  {
   "cell_type": "code",
   "execution_count": 49,
   "id": "9e4ee9b7",
   "metadata": {
    "execution": {
     "iopub.execute_input": "2022-08-19T20:38:36.270341Z",
     "iopub.status.busy": "2022-08-19T20:38:36.270018Z",
     "iopub.status.idle": "2022-08-19T20:38:36.513794Z",
     "shell.execute_reply": "2022-08-19T20:38:36.513013Z"
    },
    "papermill": {
     "duration": 0.265389,
     "end_time": "2022-08-19T20:38:36.516166",
     "exception": false,
     "start_time": "2022-08-19T20:38:36.250777",
     "status": "completed"
    },
    "tags": []
   },
   "outputs": [
    {
     "data": {
      "image/png": "[encoded data removed]",
      "text/plain": [
       "<Figure size 720x432 with 1 Axes>"
      ]
     },
     "metadata": {
      "needs_background": "light"
     },
     "output_type": "display_data"
    }
   ],
   "source": [
    "plt.figure(figsize = (10,6))\n",
    "sns.lineplot(x='created_at', y='count', hue=\"disaster_kind\", style=\"disaster_kind\", ci=None,\n",
    "             data=df_group_plot[df_group_plot['class_label'].isin(class_labels_active)]);"
   ]
  },
  {
   "cell_type": "code",
   "execution_count": 50,
   "id": "565fdc45",
   "metadata": {
    "execution": {
     "iopub.execute_input": "2022-08-19T20:38:36.556786Z",
     "iopub.status.busy": "2022-08-19T20:38:36.556465Z",
     "iopub.status.idle": "2022-08-19T20:38:36.812445Z",
     "shell.execute_reply": "2022-08-19T20:38:36.811780Z"
    },
    "papermill": {
     "duration": 0.279227,
     "end_time": "2022-08-19T20:38:36.815374",
     "exception": false,
     "start_time": "2022-08-19T20:38:36.536147",
     "status": "completed"
    },
    "tags": []
   },
   "outputs": [
    {
     "data": {
      "image/png": "[encoded data removed]",
      "text/plain": [
       "<Figure size 720x432 with 1 Axes>"
      ]
     },
     "metadata": {
      "needs_background": "light"
     },
     "output_type": "display_data"
    }
   ],
   "source": [
    "plt.figure(figsize = (10,6))\n",
    "sns.lineplot(x='created_at', y='count', hue=\"disaster_kind\", style=\"disaster_kind\", ci=None,\n",
    "             data=df_group_plot[df_group_plot['class_label'].isin(class_labels_past)]).set(\n",
    "    title='Tweets for classes: ' + str(class_labels_past)\n",
    ");"
   ]
  },
  {
   "cell_type": "markdown",
   "id": "da298f1b",
   "metadata": {
    "papermill": {
     "duration": 0.020864,
     "end_time": "2022-08-19T20:38:36.857117",
     "exception": false,
     "start_time": "2022-08-19T20:38:36.836253",
     "status": "completed"
    },
    "tags": []
   },
   "source": [
    "### A simple computation allows us to also compare the means and standard deviations for the disaster kinds - by inspecting these, we can see which one is higher, even we don't have a statistical proof  "
   ]
  },
  {
   "cell_type": "code",
   "execution_count": 51,
   "id": "a0911306",
   "metadata": {
    "execution": {
     "iopub.execute_input": "2022-08-19T20:38:36.901471Z",
     "iopub.status.busy": "2022-08-19T20:38:36.901135Z",
     "iopub.status.idle": "2022-08-19T20:38:36.914295Z",
     "shell.execute_reply": "2022-08-19T20:38:36.913417Z"
    },
    "papermill": {
     "duration": 0.036535,
     "end_time": "2022-08-19T20:38:36.916306",
     "exception": false,
     "start_time": "2022-08-19T20:38:36.879771",
     "status": "completed"
    },
    "tags": []
   },
   "outputs": [
    {
     "data": {
      "text/html": [
       "<div>\n",
       "<style scoped>\n",
       "    .dataframe tbody tr th:only-of-type {\n",
       "        vertical-align: middle;\n",
       "    }\n",
       "\n",
       "    .dataframe tbody tr th {\n",
       "        vertical-align: top;\n",
       "    }\n",
       "\n",
       "    .dataframe thead tr th {\n",
       "        text-align: left;\n",
       "    }\n",
       "\n",
       "    .dataframe thead tr:last-of-type th {\n",
       "        text-align: right;\n",
       "    }\n",
       "</style>\n",
       "<table border=\"1\" class=\"dataframe\">\n",
       "  <thead>\n",
       "    <tr>\n",
       "      <th></th>\n",
       "      <th colspan=\"4\" halign=\"left\">count</th>\n",
       "    </tr>\n",
       "    <tr>\n",
       "      <th></th>\n",
       "      <th>min</th>\n",
       "      <th>max</th>\n",
       "      <th>mean</th>\n",
       "      <th>std</th>\n",
       "    </tr>\n",
       "    <tr>\n",
       "      <th>disaster_kind</th>\n",
       "      <th></th>\n",
       "      <th></th>\n",
       "      <th></th>\n",
       "      <th></th>\n",
       "    </tr>\n",
       "  </thead>\n",
       "  <tbody>\n",
       "    <tr>\n",
       "      <th>Earthquake</th>\n",
       "      <td>3</td>\n",
       "      <td>305</td>\n",
       "      <td>90.555556</td>\n",
       "      <td>73.769565</td>\n",
       "    </tr>\n",
       "    <tr>\n",
       "      <th>Flood</th>\n",
       "      <td>1</td>\n",
       "      <td>1069</td>\n",
       "      <td>138.545455</td>\n",
       "      <td>234.770512</td>\n",
       "    </tr>\n",
       "    <tr>\n",
       "      <th>Hurricane</th>\n",
       "      <td>3</td>\n",
       "      <td>1112</td>\n",
       "      <td>274.444444</td>\n",
       "      <td>289.212104</td>\n",
       "    </tr>\n",
       "    <tr>\n",
       "      <th>Wildfire</th>\n",
       "      <td>1</td>\n",
       "      <td>2257</td>\n",
       "      <td>552.951220</td>\n",
       "      <td>603.700462</td>\n",
       "    </tr>\n",
       "  </tbody>\n",
       "</table>\n",
       "</div>"
      ],
      "text/plain": [
       "              count                              \n",
       "                min   max        mean         std\n",
       "disaster_kind                                    \n",
       "Earthquake        3   305   90.555556   73.769565\n",
       "Flood             1  1069  138.545455  234.770512\n",
       "Hurricane         3  1112  274.444444  289.212104\n",
       "Wildfire          1  2257  552.951220  603.700462"
      ]
     },
     "execution_count": 51,
     "metadata": {},
     "output_type": "execute_result"
    }
   ],
   "source": [
    "df_group_plot[df_group_plot['class_label'].isin(class_labels_active)].groupby('disaster_kind').agg(\n",
    "    {\n",
    "        \"count\": ['min', 'max', 'mean', 'std']\n",
    "    }\n",
    ")"
   ]
  },
  {
   "cell_type": "code",
   "execution_count": 52,
   "id": "075e6400",
   "metadata": {
    "execution": {
     "iopub.execute_input": "2022-08-19T20:38:36.960718Z",
     "iopub.status.busy": "2022-08-19T20:38:36.960375Z",
     "iopub.status.idle": "2022-08-19T20:38:36.972795Z",
     "shell.execute_reply": "2022-08-19T20:38:36.972142Z"
    },
    "papermill": {
     "duration": 0.036578,
     "end_time": "2022-08-19T20:38:36.974782",
     "exception": false,
     "start_time": "2022-08-19T20:38:36.938204",
     "status": "completed"
    },
    "tags": []
   },
   "outputs": [
    {
     "data": {
      "text/html": [
       "<div>\n",
       "<style scoped>\n",
       "    .dataframe tbody tr th:only-of-type {\n",
       "        vertical-align: middle;\n",
       "    }\n",
       "\n",
       "    .dataframe tbody tr th {\n",
       "        vertical-align: top;\n",
       "    }\n",
       "\n",
       "    .dataframe thead tr th {\n",
       "        text-align: left;\n",
       "    }\n",
       "\n",
       "    .dataframe thead tr:last-of-type th {\n",
       "        text-align: right;\n",
       "    }\n",
       "</style>\n",
       "<table border=\"1\" class=\"dataframe\">\n",
       "  <thead>\n",
       "    <tr>\n",
       "      <th></th>\n",
       "      <th colspan=\"4\" halign=\"left\">count</th>\n",
       "    </tr>\n",
       "    <tr>\n",
       "      <th></th>\n",
       "      <th>min</th>\n",
       "      <th>max</th>\n",
       "      <th>mean</th>\n",
       "      <th>std</th>\n",
       "    </tr>\n",
       "    <tr>\n",
       "      <th>disaster_kind</th>\n",
       "      <th></th>\n",
       "      <th></th>\n",
       "      <th></th>\n",
       "      <th></th>\n",
       "    </tr>\n",
       "  </thead>\n",
       "  <tbody>\n",
       "    <tr>\n",
       "      <th>Earthquake</th>\n",
       "      <td>3</td>\n",
       "      <td>946</td>\n",
       "      <td>241.325581</td>\n",
       "      <td>278.752128</td>\n",
       "    </tr>\n",
       "    <tr>\n",
       "      <th>Flood</th>\n",
       "      <td>2</td>\n",
       "      <td>6201</td>\n",
       "      <td>1354.982759</td>\n",
       "      <td>1910.837591</td>\n",
       "    </tr>\n",
       "    <tr>\n",
       "      <th>Hurricane</th>\n",
       "      <td>13</td>\n",
       "      <td>2536</td>\n",
       "      <td>246.740741</td>\n",
       "      <td>519.908394</td>\n",
       "    </tr>\n",
       "    <tr>\n",
       "      <th>Wildfire</th>\n",
       "      <td>1</td>\n",
       "      <td>1611</td>\n",
       "      <td>293.372549</td>\n",
       "      <td>436.783011</td>\n",
       "    </tr>\n",
       "  </tbody>\n",
       "</table>\n",
       "</div>"
      ],
      "text/plain": [
       "              count                                \n",
       "                min   max         mean          std\n",
       "disaster_kind                                      \n",
       "Earthquake        3   946   241.325581   278.752128\n",
       "Flood             2  6201  1354.982759  1910.837591\n",
       "Hurricane        13  2536   246.740741   519.908394\n",
       "Wildfire          1  1611   293.372549   436.783011"
      ]
     },
     "execution_count": 52,
     "metadata": {},
     "output_type": "execute_result"
    }
   ],
   "source": [
    "df_group_plot[df_group_plot['class_label'].isin(class_labels_past)].groupby('disaster_kind').agg(\n",
    "    {\n",
    "        \"count\": ['min', 'max', 'mean', 'std']\n",
    "    }\n",
    ")"
   ]
  }
 ],
 "metadata": {
  "jupytext": {
   "cell_metadata_filter": "tags,-all",
   "main_language": "python",
   "notebook_metadata_filter": "-all",
   "text_representation": {
    "extension": ".py",
    "format_name": "light"
   }
  },
  "kernelspec": {
   "display_name": "Python 3 (ipykernel)",
   "language": "python",
   "name": "python3"
  },
  "language_info": {
   "codemirror_mode": {
    "name": "ipython",
    "version": 3
   },
   "file_extension": ".py",
   "mimetype": "text/x-python",
   "name": "python",
   "nbconvert_exporter": "python",
   "pygments_lexer": "ipython3",
   "version": "3.9.12"
  },
  "papermill": {
   "duration": 143.745828,
   "end_time": "2022-08-19T20:38:37.719869",
   "exception": null,
   "input_path": "/var/folders/lw/k7hqg3bn7s326rs6jxn046b40000gp/T/tmpjd7bkgiq.ipynb",
   "output_path": "/Users/mboussarov/_umsi/Capstone/umads_697_data_medics/pipeline/output/tweets_timeline_compare.ipynb",
   "parameters": {
    "disaster_kinds": [
     "recent_tweets_wildfire",
     "recent_tweets_hurricane",
     "recent_tweets_flood",
     "recent_tweets_earthquake"
    ],
    "product": {
     "nb": "/Users/mboussarov/_umsi/Capstone/umads_697_data_medics/pipeline/output/tweets_timeline_compare.ipynb"
    },
    "random_seed": 42,
    "upstream": {
     "category_classification_models": {
      "model_lr": "/Users/mboussarov/_umsi/Capstone/umads_697_data_medics/pipeline/output/model_lr.pkl",
      "model_nb": "/Users/mboussarov/_umsi/Capstone/umads_697_data_medics/pipeline/output/model_nb.csv",
      "model_rf": "/Users/mboussarov/_umsi/Capstone/umads_697_data_medics/pipeline/output/model_rf.pkl",
      "model_votingc": "/Users/mboussarov/_umsi/Capstone/umads_697_data_medics/pipeline/output/model_votingc.csv",
      "nb": "/Users/mboussarov/_umsi/Capstone/umads_697_data_medics/pipeline/output/category_classification_models.ipynb"
     },
     "recent_tweets_earthquake": {
      "file": "/Users/mboussarov/_umsi/Capstone/umads_697_data_medics/pipeline/output/recent_tweets_earthquake.csv",
      "nb": "/Users/mboussarov/_umsi/Capstone/umads_697_data_medics/pipeline/output/recent_tweets_earthquake.ipynb"
     },
     "recent_tweets_flood": {
      "file": "/Users/mboussarov/_umsi/Capstone/umads_697_data_medics/pipeline/output/recent_tweets_flood.csv",
      "nb": "/Users/mboussarov/_umsi/Capstone/umads_697_data_medics/pipeline/output/recent_tweets_flood.ipynb"
     },
     "recent_tweets_hurricane": {
      "file": "/Users/mboussarov/_umsi/Capstone/umads_697_data_medics/pipeline/output/recent_tweets_hurricane.csv",
      "nb": "/Users/mboussarov/_umsi/Capstone/umads_697_data_medics/pipeline/output/recent_tweets_hurricane.ipynb"
     },
     "recent_tweets_wildfire": {
      "file": "/Users/mboussarov/_umsi/Capstone/umads_697_data_medics/pipeline/output/recent_tweets_wildfire.csv",
      "nb": "/Users/mboussarov/_umsi/Capstone/umads_697_data_medics/pipeline/output/recent_tweets_wildfire.ipynb"
     },
     "vectorizer": {
      "nb": "/Users/mboussarov/_umsi/Capstone/umads_697_data_medics/pipeline/output/vectorizer.ipynb",
      "vectorizer": "/Users/mboussarov/_umsi/Capstone/umads_697_data_medics/pipeline/output/vectorizer.pkl",
      "vocab": "/Users/mboussarov/_umsi/Capstone/umads_697_data_medics/pipeline/output/vocab.pkl"
     }
    }
   },
   "start_time": "2022-08-19T20:36:13.974041"
  }
 },
 "nbformat": 4,
 "nbformat_minor": 5
}