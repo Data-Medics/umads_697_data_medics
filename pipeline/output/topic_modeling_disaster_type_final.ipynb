{
 "cells": [
  {
   "cell_type": "code",
   "execution_count": 1,
   "id": "0265b720",
   "metadata": {
    "execution": {
     "iopub.execute_input": "2022-08-19T20:31:19.683812Z",
     "iopub.status.busy": "2022-08-19T20:31:19.683420Z",
     "iopub.status.idle": "2022-08-19T20:31:19.691715Z",
     "shell.execute_reply": "2022-08-19T20:31:19.690924Z"
    },
    "lines_to_next_cell": 0,
    "papermill": {
     "duration": 0.020287,
     "end_time": "2022-08-19T20:31:19.694027",
     "exception": false,
     "start_time": "2022-08-19T20:31:19.673740",
     "status": "completed"
    },
    "tags": [
     "parameters"
    ]
   },
   "outputs": [],
   "source": [
    "# + tags=[\"parameters\"]\n",
    "# declare a list tasks whose products you want to use as inputs\n",
    "upstream = ['vectorizer_countVec']\n",
    "random_seed = 42"
   ]
  },
  {
   "cell_type": "code",
   "execution_count": 2,
   "id": "739ad42a",
   "metadata": {
    "execution": {
     "iopub.execute_input": "2022-08-19T20:31:19.705478Z",
     "iopub.status.busy": "2022-08-19T20:31:19.705190Z",
     "iopub.status.idle": "2022-08-19T20:31:19.709693Z",
     "shell.execute_reply": "2022-08-19T20:31:19.709061Z"
    },
    "papermill": {
     "duration": 0.012747,
     "end_time": "2022-08-19T20:31:19.712000",
     "exception": false,
     "start_time": "2022-08-19T20:31:19.699253",
     "status": "completed"
    },
    "tags": [
     "injected-parameters"
    ]
   },
   "outputs": [],
   "source": [
    "# Parameters\n",
    "random_seed = 42\n",
    "upstream = {\n",
    "    \"vectorizer_countVec\": {\n",
    "        \"nb\": \"/Users/mboussarov/_umsi/Capstone/umads_697_data_medics/pipeline/output/vectorizer_countVec.ipynb\",\n",
    "        \"vectorizer\": \"/Users/mboussarov/_umsi/Capstone/umads_697_data_medics/pipeline/output/vectorizer_countVec.pkl\",\n",
    "    }\n",
    "}\n",
    "product = {\n",
    "    \"nb\": \"/Users/mboussarov/_umsi/Capstone/umads_697_data_medics/pipeline/output/topic_modeling_disaster_type_final.ipynb\",\n",
    "    \"lda_model_earthquake\": \"/Users/mboussarov/_umsi/Capstone/umads_697_data_medics/pipeline/output/lda_model_earthquake.pkl\",\n",
    "    \"lda_model_fire\": \"/Users/mboussarov/_umsi/Capstone/umads_697_data_medics/pipeline/output/lda_model_fire.pkl\",\n",
    "    \"lda_model_flood\": \"/Users/mboussarov/_umsi/Capstone/umads_697_data_medics/pipeline/output/lda_model_flood.pkl\",\n",
    "    \"lda_model_hurricane\": \"/Users/mboussarov/_umsi/Capstone/umads_697_data_medics/pipeline/output/lda_model_hurricane.pkl\",\n",
    "    \"lda_topics_disaster_type\": \"/Users/mboussarov/_umsi/Capstone/umads_697_data_medics/pipeline/output/lda_topics_disaster_type.csv\",\n",
    "}\n"
   ]
  },
  {
   "cell_type": "code",
   "execution_count": null,
   "id": "4412330f",
   "metadata": {
    "papermill": {
     "duration": 0.004662,
     "end_time": "2022-08-19T20:31:19.721415",
     "exception": false,
     "start_time": "2022-08-19T20:31:19.716753",
     "status": "completed"
    },
    "tags": []
   },
   "outputs": [],
   "source": []
  },
  {
   "cell_type": "code",
   "execution_count": null,
   "id": "b7d275d5",
   "metadata": {
    "papermill": {
     "duration": 0.004456,
     "end_time": "2022-08-19T20:31:19.730397",
     "exception": false,
     "start_time": "2022-08-19T20:31:19.725941",
     "status": "completed"
    },
    "tags": []
   },
   "outputs": [],
   "source": []
  },
  {
   "cell_type": "code",
   "execution_count": null,
   "id": "2a06e48b",
   "metadata": {
    "papermill": {
     "duration": 0.003974,
     "end_time": "2022-08-19T20:31:19.738477",
     "exception": false,
     "start_time": "2022-08-19T20:31:19.734503",
     "status": "completed"
    },
    "tags": []
   },
   "outputs": [],
   "source": []
  },
  {
   "cell_type": "markdown",
   "id": "d63d78ad",
   "metadata": {
    "papermill": {
     "duration": 0.004022,
     "end_time": "2022-08-19T20:31:19.746618",
     "exception": false,
     "start_time": "2022-08-19T20:31:19.742596",
     "status": "completed"
    },
    "tags": []
   },
   "source": [
    "importing all the functions defined in tools_rjg.py"
   ]
  },
  {
   "cell_type": "code",
   "execution_count": 3,
   "id": "635006d7",
   "metadata": {
    "execution": {
     "iopub.execute_input": "2022-08-19T20:31:19.757295Z",
     "iopub.status.busy": "2022-08-19T20:31:19.756843Z",
     "iopub.status.idle": "2022-08-19T20:31:39.257108Z",
     "shell.execute_reply": "2022-08-19T20:31:39.256226Z"
    },
    "papermill": {
     "duration": 19.509343,
     "end_time": "2022-08-19T20:31:39.259726",
     "exception": false,
     "start_time": "2022-08-19T20:31:19.750383",
     "status": "completed"
    },
    "tags": []
   },
   "outputs": [],
   "source": [
    "from tools_rjg import *"
   ]
  },
  {
   "cell_type": "code",
   "execution_count": 4,
   "id": "e0e2b5fe",
   "metadata": {
    "execution": {
     "iopub.execute_input": "2022-08-19T20:31:39.270780Z",
     "iopub.status.busy": "2022-08-19T20:31:39.270405Z",
     "iopub.status.idle": "2022-08-19T20:31:39.312429Z",
     "shell.execute_reply": "2022-08-19T20:31:39.311692Z"
    },
    "papermill": {
     "duration": 0.049833,
     "end_time": "2022-08-19T20:31:39.314739",
     "exception": false,
     "start_time": "2022-08-19T20:31:39.264906",
     "status": "completed"
    },
    "tags": []
   },
   "outputs": [
    {
     "name": "stderr",
     "output_type": "stream",
     "text": [
      "[nltk_data] Error loading punkt: <urlopen error [SSL:\n",
      "[nltk_data]     CERTIFICATE_VERIFY_FAILED] certificate verify failed:\n",
      "[nltk_data]     unable to get local issuer certificate (_ssl.c:1129)>\n"
     ]
    }
   ],
   "source": [
    "import pandas as pd\n",
    "import re, nltk, spacy, gensim\n",
    "nltk.download('punkt')\n",
    "import pickle"
   ]
  },
  {
   "cell_type": "code",
   "execution_count": 5,
   "id": "6dbbcfac",
   "metadata": {
    "execution": {
     "iopub.execute_input": "2022-08-19T20:31:39.326172Z",
     "iopub.status.busy": "2022-08-19T20:31:39.325855Z",
     "iopub.status.idle": "2022-08-19T20:31:39.392629Z",
     "shell.execute_reply": "2022-08-19T20:31:39.391938Z"
    },
    "papermill": {
     "duration": 0.075062,
     "end_time": "2022-08-19T20:31:39.394935",
     "exception": false,
     "start_time": "2022-08-19T20:31:39.319873",
     "status": "completed"
    },
    "tags": []
   },
   "outputs": [],
   "source": [
    "from sklearn.decomposition import LatentDirichletAllocation, TruncatedSVD"
   ]
  },
  {
   "cell_type": "code",
   "execution_count": 6,
   "id": "d0e3b6b0",
   "metadata": {
    "execution": {
     "iopub.execute_input": "2022-08-19T20:31:39.406193Z",
     "iopub.status.busy": "2022-08-19T20:31:39.405946Z",
     "iopub.status.idle": "2022-08-19T20:31:40.589963Z",
     "shell.execute_reply": "2022-08-19T20:31:40.589155Z"
    },
    "papermill": {
     "duration": 1.19193,
     "end_time": "2022-08-19T20:31:40.592108",
     "exception": false,
     "start_time": "2022-08-19T20:31:39.400178",
     "status": "completed"
    },
    "tags": []
   },
   "outputs": [],
   "source": [
    "import matplotlib.pyplot as plt\n",
    "%matplotlib inline"
   ]
  },
  {
   "cell_type": "code",
   "execution_count": null,
   "id": "e5046107",
   "metadata": {
    "papermill": {
     "duration": 0.004798,
     "end_time": "2022-08-19T20:31:40.602196",
     "exception": false,
     "start_time": "2022-08-19T20:31:40.597398",
     "status": "completed"
    },
    "tags": []
   },
   "outputs": [],
   "source": []
  },
  {
   "cell_type": "code",
   "execution_count": null,
   "id": "9b5c2c36",
   "metadata": {
    "papermill": {
     "duration": 0.005053,
     "end_time": "2022-08-19T20:31:40.611847",
     "exception": false,
     "start_time": "2022-08-19T20:31:40.606794",
     "status": "completed"
    },
    "tags": []
   },
   "outputs": [],
   "source": []
  },
  {
   "cell_type": "code",
   "execution_count": null,
   "id": "df835959",
   "metadata": {
    "papermill": {
     "duration": 0.005213,
     "end_time": "2022-08-19T20:31:40.622038",
     "exception": false,
     "start_time": "2022-08-19T20:31:40.616825",
     "status": "completed"
    },
    "tags": []
   },
   "outputs": [],
   "source": []
  },
  {
   "cell_type": "code",
   "execution_count": 7,
   "id": "5eaddc0d",
   "metadata": {
    "execution": {
     "iopub.execute_input": "2022-08-19T20:31:40.633313Z",
     "iopub.status.busy": "2022-08-19T20:31:40.632934Z",
     "iopub.status.idle": "2022-08-19T20:31:40.910700Z",
     "shell.execute_reply": "2022-08-19T20:31:40.909651Z"
    },
    "papermill": {
     "duration": 0.286429,
     "end_time": "2022-08-19T20:31:40.913269",
     "exception": false,
     "start_time": "2022-08-19T20:31:40.626840",
     "status": "completed"
    },
    "tags": []
   },
   "outputs": [],
   "source": [
    "df_all = generate_disaster_type_dataframe(disaster_types = ('earthquake', 'fire', 'flood', 'hurricane')\n",
    "                                          , dev_train_test= ('dev', 'train', 'test'))"
   ]
  },
  {
   "cell_type": "code",
   "execution_count": null,
   "id": "4da0ec7d",
   "metadata": {
    "lines_to_next_cell": 2,
    "papermill": {
     "duration": 0.004878,
     "end_time": "2022-08-19T20:31:40.923279",
     "exception": false,
     "start_time": "2022-08-19T20:31:40.918401",
     "status": "completed"
    },
    "tags": []
   },
   "outputs": [],
   "source": []
  },
  {
   "cell_type": "code",
   "execution_count": 8,
   "id": "1847db98",
   "metadata": {
    "execution": {
     "iopub.execute_input": "2022-08-19T20:31:40.932789Z",
     "iopub.status.busy": "2022-08-19T20:31:40.932531Z",
     "iopub.status.idle": "2022-08-19T20:34:41.108379Z",
     "shell.execute_reply": "2022-08-19T20:34:41.107643Z"
    },
    "papermill": {
     "duration": 180.183385,
     "end_time": "2022-08-19T20:34:41.110955",
     "exception": false,
     "start_time": "2022-08-19T20:31:40.927570",
     "status": "completed"
    },
    "tags": []
   },
   "outputs": [],
   "source": [
    "df_all['tweet_text_cleaned'] = df_all['tweet_text'].apply(lambda x: tweet_preprocessing(x))\n",
    "df_all['lemmatized'] = df_all['tweet_text_cleaned'].apply(lambda x: lemmatize_tweet_text(x, allowed_postags=('NOUN', 'ADJ', 'VERB', 'ADV')))"
   ]
  },
  {
   "cell_type": "code",
   "execution_count": 9,
   "id": "3da1b0c9",
   "metadata": {
    "execution": {
     "iopub.execute_input": "2022-08-19T20:34:41.122888Z",
     "iopub.status.busy": "2022-08-19T20:34:41.122591Z",
     "iopub.status.idle": "2022-08-19T20:34:41.158161Z",
     "shell.execute_reply": "2022-08-19T20:34:41.157299Z"
    },
    "papermill": {
     "duration": 0.043346,
     "end_time": "2022-08-19T20:34:41.160199",
     "exception": false,
     "start_time": "2022-08-19T20:34:41.116853",
     "status": "completed"
    },
    "tags": []
   },
   "outputs": [
    {
     "data": {
      "text/html": [
       "<div>\n",
       "<style scoped>\n",
       "    .dataframe tbody tr th:only-of-type {\n",
       "        vertical-align: middle;\n",
       "    }\n",
       "\n",
       "    .dataframe tbody tr th {\n",
       "        vertical-align: top;\n",
       "    }\n",
       "\n",
       "    .dataframe thead th {\n",
       "        text-align: right;\n",
       "    }\n",
       "</style>\n",
       "<table border=\"1\" class=\"dataframe\">\n",
       "  <thead>\n",
       "    <tr style=\"text-align: right;\">\n",
       "      <th></th>\n",
       "      <th>tweet_id</th>\n",
       "      <th>tweet_text</th>\n",
       "      <th>class_label</th>\n",
       "      <th>disaster_type</th>\n",
       "      <th>tweet_text_cleaned</th>\n",
       "      <th>lemmatized</th>\n",
       "    </tr>\n",
       "  </thead>\n",
       "  <tbody>\n",
       "    <tr>\n",
       "      <th>15938</th>\n",
       "      <td>909194537171636224</td>\n",
       "      <td>Carnival, Arisons Pledge $10 Million to Hurric...</td>\n",
       "      <td>rescue_volunteering_or_donation_effort</td>\n",
       "      <td>hurricane</td>\n",
       "      <td>[carnival, arisons, pledge, million, hurricane...</td>\n",
       "      <td>carnival arison pledge relief</td>\n",
       "    </tr>\n",
       "    <tr>\n",
       "      <th>1866</th>\n",
       "      <td>912107426329001986</td>\n",
       "      <td>RT @keithrhernandez: I have set up a Hurricane...</td>\n",
       "      <td>other_relevant_information</td>\n",
       "      <td>hurricane</td>\n",
       "      <td>[have, hurricane, maria, fundraiser, page, hon...</td>\n",
       "      <td>hurricane fundraiser page honor father match d...</td>\n",
       "    </tr>\n",
       "    <tr>\n",
       "      <th>1658</th>\n",
       "      <td>1112148115610460160</td>\n",
       "      <td>@DonnellySports thoughts on the Hoiberg hire? ...</td>\n",
       "      <td>not_humanitarian</td>\n",
       "      <td>flood</td>\n",
       "      <td>[thoughts, hoiberg, hire, know, hear, some, ne...</td>\n",
       "      <td>thought hire hear input</td>\n",
       "    </tr>\n",
       "    <tr>\n",
       "      <th>1821</th>\n",
       "      <td>903056992243257346</td>\n",
       "      <td>Flooding in India, Bangladesh, Nepal. Massive ...</td>\n",
       "      <td>caution_and_advice</td>\n",
       "      <td>hurricane</td>\n",
       "      <td>[flooding, india, bangladesh, nepal, massive, ...</td>\n",
       "      <td>flood nepal massive rainfall harvey icecap mel...</td>\n",
       "    </tr>\n",
       "    <tr>\n",
       "      <th>5562</th>\n",
       "      <td>901721245435252736</td>\n",
       "      <td>Deaths reported as Harvey strikes Texas coast:...</td>\n",
       "      <td>injured_or_dead_people</td>\n",
       "      <td>hurricane</td>\n",
       "      <td>[deaths, reported, harvey, strikes, texas, coa...</td>\n",
       "      <td>death report harvey strike late</td>\n",
       "    </tr>\n",
       "    <tr>\n",
       "      <th>...</th>\n",
       "      <td>...</td>\n",
       "      <td>...</td>\n",
       "      <td>...</td>\n",
       "      <td>...</td>\n",
       "      <td>...</td>\n",
       "      <td>...</td>\n",
       "    </tr>\n",
       "    <tr>\n",
       "      <th>27860</th>\n",
       "      <td>1168247170090319877</td>\n",
       "      <td>@pulte With that said if I’m chosen, I pledge ...</td>\n",
       "      <td>rescue_volunteering_or_donation_effort</td>\n",
       "      <td>hurricane</td>\n",
       "      <td>[with, that, said, chosen, pledge, donate, hur...</td>\n",
       "      <td>say choose pledge donate hurricane relief almo...</td>\n",
       "    </tr>\n",
       "    <tr>\n",
       "      <th>300</th>\n",
       "      <td>729655286554832896</td>\n",
       "      <td>RT @mayordavepelham: Thanks Fed Gov’t for matc...</td>\n",
       "      <td>rescue_volunteering_or_donation_effort</td>\n",
       "      <td>fire</td>\n",
       "      <td>[thanks, matching, donations, cross, wildfire,...</td>\n",
       "      <td>thank match donation cross wildfire relief effort</td>\n",
       "    </tr>\n",
       "    <tr>\n",
       "      <th>1849</th>\n",
       "      <td>1022857305694588929</td>\n",
       "      <td>Greece is more than grateful for Koreas help d...</td>\n",
       "      <td>sympathy_and_support</td>\n",
       "      <td>fire</td>\n",
       "      <td>[greece, more, than, grateful, koreas, help, d...</td>\n",
       "      <td>greece more grateful korea help difficult time...</td>\n",
       "    </tr>\n",
       "    <tr>\n",
       "      <th>7655</th>\n",
       "      <td>1167952719199424512</td>\n",
       "      <td>Golf: Hurricane Dorian sends golf courses brac...</td>\n",
       "      <td>infrastructure_and_utility_damage</td>\n",
       "      <td>hurricane</td>\n",
       "      <td>[golf, hurricane, dorian, sends, golf, courses...</td>\n",
       "      <td>golf hurricane send golf course brace potentia...</td>\n",
       "    </tr>\n",
       "    <tr>\n",
       "      <th>5610</th>\n",
       "      <td>1110242671635910658</td>\n",
       "      <td>As Nebraskans begin returning to their homes i...</td>\n",
       "      <td>rescue_volunteering_or_donation_effort</td>\n",
       "      <td>flood</td>\n",
       "      <td>[nebraskans, begin, returning, their, homes, a...</td>\n",
       "      <td>nebraskan begin return home aftermath widespre...</td>\n",
       "    </tr>\n",
       "  </tbody>\n",
       "</table>\n",
       "<p>100 rows × 6 columns</p>\n",
       "</div>"
      ],
      "text/plain": [
       "                  tweet_id                                         tweet_text  \\\n",
       "15938   909194537171636224  Carnival, Arisons Pledge $10 Million to Hurric...   \n",
       "1866    912107426329001986  RT @keithrhernandez: I have set up a Hurricane...   \n",
       "1658   1112148115610460160  @DonnellySports thoughts on the Hoiberg hire? ...   \n",
       "1821    903056992243257346  Flooding in India, Bangladesh, Nepal. Massive ...   \n",
       "5562    901721245435252736  Deaths reported as Harvey strikes Texas coast:...   \n",
       "...                    ...                                                ...   \n",
       "27860  1168247170090319877  @pulte With that said if I’m chosen, I pledge ...   \n",
       "300     729655286554832896  RT @mayordavepelham: Thanks Fed Gov’t for matc...   \n",
       "1849   1022857305694588929  Greece is more than grateful for Koreas help d...   \n",
       "7655   1167952719199424512  Golf: Hurricane Dorian sends golf courses brac...   \n",
       "5610   1110242671635910658  As Nebraskans begin returning to their homes i...   \n",
       "\n",
       "                                  class_label disaster_type  \\\n",
       "15938  rescue_volunteering_or_donation_effort     hurricane   \n",
       "1866               other_relevant_information     hurricane   \n",
       "1658                         not_humanitarian         flood   \n",
       "1821                       caution_and_advice     hurricane   \n",
       "5562                   injured_or_dead_people     hurricane   \n",
       "...                                       ...           ...   \n",
       "27860  rescue_volunteering_or_donation_effort     hurricane   \n",
       "300    rescue_volunteering_or_donation_effort          fire   \n",
       "1849                     sympathy_and_support          fire   \n",
       "7655        infrastructure_and_utility_damage     hurricane   \n",
       "5610   rescue_volunteering_or_donation_effort         flood   \n",
       "\n",
       "                                      tweet_text_cleaned  \\\n",
       "15938  [carnival, arisons, pledge, million, hurricane...   \n",
       "1866   [have, hurricane, maria, fundraiser, page, hon...   \n",
       "1658   [thoughts, hoiberg, hire, know, hear, some, ne...   \n",
       "1821   [flooding, india, bangladesh, nepal, massive, ...   \n",
       "5562   [deaths, reported, harvey, strikes, texas, coa...   \n",
       "...                                                  ...   \n",
       "27860  [with, that, said, chosen, pledge, donate, hur...   \n",
       "300    [thanks, matching, donations, cross, wildfire,...   \n",
       "1849   [greece, more, than, grateful, koreas, help, d...   \n",
       "7655   [golf, hurricane, dorian, sends, golf, courses...   \n",
       "5610   [nebraskans, begin, returning, their, homes, a...   \n",
       "\n",
       "                                              lemmatized  \n",
       "15938                      carnival arison pledge relief  \n",
       "1866   hurricane fundraiser page honor father match d...  \n",
       "1658                             thought hire hear input  \n",
       "1821   flood nepal massive rainfall harvey icecap mel...  \n",
       "5562                     death report harvey strike late  \n",
       "...                                                  ...  \n",
       "27860  say choose pledge donate hurricane relief almo...  \n",
       "300    thank match donation cross wildfire relief effort  \n",
       "1849   greece more grateful korea help difficult time...  \n",
       "7655   golf hurricane send golf course brace potentia...  \n",
       "5610   nebraskan begin return home aftermath widespre...  \n",
       "\n",
       "[100 rows x 6 columns]"
      ]
     },
     "execution_count": 9,
     "metadata": {},
     "output_type": "execute_result"
    }
   ],
   "source": [
    "df_all.sample(100)"
   ]
  },
  {
   "cell_type": "markdown",
   "id": "5469340a",
   "metadata": {
    "papermill": {
     "duration": 0.005249,
     "end_time": "2022-08-19T20:34:41.171255",
     "exception": false,
     "start_time": "2022-08-19T20:34:41.166006",
     "status": "completed"
    },
    "tags": []
   },
   "source": [
    "## LDA Model"
   ]
  },
  {
   "cell_type": "code",
   "execution_count": 10,
   "id": "47ca117c",
   "metadata": {
    "execution": {
     "iopub.execute_input": "2022-08-19T20:34:41.183426Z",
     "iopub.status.busy": "2022-08-19T20:34:41.183094Z",
     "iopub.status.idle": "2022-08-19T20:34:41.189667Z",
     "shell.execute_reply": "2022-08-19T20:34:41.188984Z"
    },
    "lines_to_next_cell": 2,
    "papermill": {
     "duration": 0.015159,
     "end_time": "2022-08-19T20:34:41.191584",
     "exception": false,
     "start_time": "2022-08-19T20:34:41.176425",
     "status": "completed"
    },
    "tags": []
   },
   "outputs": [],
   "source": [
    "params_earthquake = {'n_components' : 2,\n",
    "          'max_iter' : 10,\n",
    "          'learning_method' : 'online',\n",
    "          'random_state' : random_seed,\n",
    "          'batch_size' : 128,\n",
    "          'evaluate_every' : -1,\n",
    "          'n_jobs' : 1,\n",
    "          'learning_decay' : .5}\n",
    "\n",
    "params_fire = {'n_components' : 4,\n",
    "          'max_iter' : 10,\n",
    "          'learning_method' : 'online',\n",
    "          'random_state' : random_seed,\n",
    "          'batch_size' : 128,\n",
    "          'evaluate_every' : -1,\n",
    "          'n_jobs' : 1,\n",
    "          'learning_decay' : .5}\n",
    "\n",
    "params_flood = {'n_components' : 3,\n",
    "          'max_iter' : 10,\n",
    "          'learning_method' : 'online',\n",
    "          'random_state' : random_seed,\n",
    "          'batch_size' : 128,\n",
    "          'evaluate_every' : -1,\n",
    "          'n_jobs' : 1,\n",
    "          'learning_decay' : .5}\n",
    "\n",
    "params_hurricane = {'n_components' : 5,\n",
    "          'max_iter' : 10,\n",
    "          'learning_method' : 'online',\n",
    "          'random_state' : random_seed,\n",
    "          'batch_size' : 128,\n",
    "          'evaluate_every' : -1,\n",
    "          'n_jobs' : 1,\n",
    "          'learning_decay' : .5}\n",
    "\n",
    "lda_model_earthquake = LatentDirichletAllocation(**params_earthquake)\n",
    "lda_model_fire = LatentDirichletAllocation(**params_fire)\n",
    "lda_model_flood = LatentDirichletAllocation(**params_flood)\n",
    "lda_model_hurricane = LatentDirichletAllocation(**params_hurricane)\n"
   ]
  },
  {
   "cell_type": "code",
   "execution_count": 11,
   "id": "d4dc9b9d",
   "metadata": {
    "execution": {
     "iopub.execute_input": "2022-08-19T20:34:41.205071Z",
     "iopub.status.busy": "2022-08-19T20:34:41.204724Z",
     "iopub.status.idle": "2022-08-19T20:34:41.290063Z",
     "shell.execute_reply": "2022-08-19T20:34:41.289391Z"
    },
    "papermill": {
     "duration": 0.094605,
     "end_time": "2022-08-19T20:34:41.292132",
     "exception": false,
     "start_time": "2022-08-19T20:34:41.197527",
     "status": "completed"
    },
    "tags": []
   },
   "outputs": [
    {
     "name": "stderr",
     "output_type": "stream",
     "text": [
      "/Users/mboussarov/Library/Caches/pypoetry/virtualenvs/data-medics-capstone-ZGa4TAVF-py3.9/lib/python3.9/site-packages/sklearn/base.py:329: UserWarning: Trying to unpickle estimator CountVectorizer from version 1.1.1 when using version 1.1.2. This might lead to breaking code or invalid results. Use at your own risk. For more info please refer to:\n",
      "https://scikit-learn.org/stable/model_persistence.html#security-maintainability-limitations\n",
      "  warnings.warn(\n"
     ]
    }
   ],
   "source": [
    "with open(\"output/vectorizer_countVec.pkl\", \"rb\") as f:\n",
    "    vectorizer = pickle.load(f)"
   ]
  },
  {
   "cell_type": "code",
   "execution_count": 12,
   "id": "7e45a587",
   "metadata": {
    "execution": {
     "iopub.execute_input": "2022-08-19T20:34:41.304761Z",
     "iopub.status.busy": "2022-08-19T20:34:41.304459Z",
     "iopub.status.idle": "2022-08-19T20:34:42.563629Z",
     "shell.execute_reply": "2022-08-19T20:34:42.562757Z"
    },
    "papermill": {
     "duration": 1.268273,
     "end_time": "2022-08-19T20:34:42.566286",
     "exception": false,
     "start_time": "2022-08-19T20:34:41.298013",
     "status": "completed"
    },
    "tags": []
   },
   "outputs": [
    {
     "name": "stderr",
     "output_type": "stream",
     "text": [
      "/Users/mboussarov/Library/Caches/pypoetry/virtualenvs/data-medics-capstone-ZGa4TAVF-py3.9/lib/python3.9/site-packages/sklearn/feature_extraction/text.py:404: UserWarning: Your stop_words may be inconsistent with your preprocessing. Tokenizing the stop words generated tokens ['donate'] not in stop_words.\n",
      "  warnings.warn(\n"
     ]
    }
   ],
   "source": [
    "earthquake_text_vectorized = vectorizer.transform(list(df_all[df_all['disaster_type']=='earthquake']['lemmatized']))\n",
    "fire_text_vectorized = vectorizer.transform(list(df_all[df_all['disaster_type']=='fire']['lemmatized']))\n",
    "flood_text_vectorized = vectorizer.transform(list(df_all[df_all['disaster_type']=='flood']['lemmatized']))\n",
    "hurricane_text_vectorized = vectorizer.transform(list(df_all[df_all['disaster_type']=='hurricane']['lemmatized']))"
   ]
  },
  {
   "cell_type": "code",
   "execution_count": 13,
   "id": "1ddfe4ae",
   "metadata": {
    "execution": {
     "iopub.execute_input": "2022-08-19T20:34:42.578270Z",
     "iopub.status.busy": "2022-08-19T20:34:42.577995Z",
     "iopub.status.idle": "2022-08-19T20:34:51.273166Z",
     "shell.execute_reply": "2022-08-19T20:34:51.272493Z"
    },
    "papermill": {
     "duration": 8.703426,
     "end_time": "2022-08-19T20:34:51.275118",
     "exception": false,
     "start_time": "2022-08-19T20:34:42.571692",
     "status": "completed"
    },
    "tags": []
   },
   "outputs": [
    {
     "data": {
      "text/plain": [
       "array([[0.77503453, 0.22496547],\n",
       "       [0.89939596, 0.10060404],\n",
       "       [0.04631994, 0.95368006],\n",
       "       ...,\n",
       "       [0.81555754, 0.18444246],\n",
       "       [0.16263193, 0.83736807],\n",
       "       [0.91068813, 0.08931187]])"
      ]
     },
     "execution_count": 13,
     "metadata": {},
     "output_type": "execute_result"
    }
   ],
   "source": [
    "lda_model_earthquake.fit_transform(earthquake_text_vectorized)"
   ]
  },
  {
   "cell_type": "code",
   "execution_count": 14,
   "id": "c399ec0e",
   "metadata": {
    "execution": {
     "iopub.execute_input": "2022-08-19T20:34:51.287648Z",
     "iopub.status.busy": "2022-08-19T20:34:51.287366Z",
     "iopub.status.idle": "2022-08-19T20:35:02.708080Z",
     "shell.execute_reply": "2022-08-19T20:35:02.707455Z"
    },
    "papermill": {
     "duration": 11.429172,
     "end_time": "2022-08-19T20:35:02.710052",
     "exception": false,
     "start_time": "2022-08-19T20:34:51.280880",
     "status": "completed"
    },
    "tags": []
   },
   "outputs": [
    {
     "data": {
      "text/plain": [
       "array([[0.12500127, 0.62499527, 0.12500152, 0.12500194],\n",
       "       [0.02272852, 0.02290931, 0.93150542, 0.02285676],\n",
       "       [0.03603028, 0.60705595, 0.03580154, 0.32111223],\n",
       "       ...,\n",
       "       [0.40663193, 0.51443582, 0.06672117, 0.01221109],\n",
       "       [0.92447282, 0.02536235, 0.02500018, 0.02516466],\n",
       "       [0.05077452, 0.09224879, 0.58222756, 0.27474913]])"
      ]
     },
     "execution_count": 14,
     "metadata": {},
     "output_type": "execute_result"
    }
   ],
   "source": [
    "lda_model_fire.fit_transform(fire_text_vectorized)"
   ]
  },
  {
   "cell_type": "code",
   "execution_count": 15,
   "id": "d4dd66e2",
   "metadata": {
    "execution": {
     "iopub.execute_input": "2022-08-19T20:35:02.722810Z",
     "iopub.status.busy": "2022-08-19T20:35:02.722530Z",
     "iopub.status.idle": "2022-08-19T20:35:16.572839Z",
     "shell.execute_reply": "2022-08-19T20:35:16.572177Z"
    },
    "papermill": {
     "duration": 13.858974,
     "end_time": "2022-08-19T20:35:16.574921",
     "exception": false,
     "start_time": "2022-08-19T20:35:02.715947",
     "status": "completed"
    },
    "tags": []
   },
   "outputs": [
    {
     "data": {
      "text/plain": [
       "array([[0.17840612, 0.76961967, 0.05197422],\n",
       "       [0.05453876, 0.77655022, 0.16891101],\n",
       "       [0.37543094, 0.54121059, 0.08335847],\n",
       "       ...,\n",
       "       [0.70572085, 0.05447348, 0.23980567],\n",
       "       [0.08338713, 0.58432106, 0.33229182],\n",
       "       [0.52783743, 0.19424844, 0.27791413]])"
      ]
     },
     "execution_count": 15,
     "metadata": {},
     "output_type": "execute_result"
    }
   ],
   "source": [
    "lda_model_flood.fit_transform(flood_text_vectorized)"
   ]
  },
  {
   "cell_type": "code",
   "execution_count": 16,
   "id": "11280d68",
   "metadata": {
    "execution": {
     "iopub.execute_input": "2022-08-19T20:35:16.588608Z",
     "iopub.status.busy": "2022-08-19T20:35:16.588301Z",
     "iopub.status.idle": "2022-08-19T20:35:57.405216Z",
     "shell.execute_reply": "2022-08-19T20:35:57.404589Z"
    },
    "papermill": {
     "duration": 40.832048,
     "end_time": "2022-08-19T20:35:57.413236",
     "exception": false,
     "start_time": "2022-08-19T20:35:16.581188",
     "status": "completed"
    },
    "tags": []
   },
   "outputs": [
    {
     "data": {
      "text/plain": [
       "array([[0.01551876, 0.19008961, 0.68668435, 0.0923226 , 0.01538469],\n",
       "       [0.01544671, 0.01538469, 0.01538468, 0.70762439, 0.24615953],\n",
       "       [0.16918277, 0.09226605, 0.0153847 , 0.70763337, 0.01553311],\n",
       "       ...,\n",
       "       [0.86531364, 0.03356784, 0.03404396, 0.03333341, 0.03374115],\n",
       "       [0.59999481, 0.25407556, 0.01854691, 0.10905586, 0.01832686],\n",
       "       [0.02005398, 0.24511754, 0.26831516, 0.24647487, 0.22003845]])"
      ]
     },
     "execution_count": 16,
     "metadata": {},
     "output_type": "execute_result"
    }
   ],
   "source": [
    "lda_model_hurricane.fit_transform(hurricane_text_vectorized)"
   ]
  },
  {
   "cell_type": "code",
   "execution_count": 17,
   "id": "b8126de6",
   "metadata": {
    "execution": {
     "iopub.execute_input": "2022-08-19T20:35:57.426244Z",
     "iopub.status.busy": "2022-08-19T20:35:57.425960Z",
     "iopub.status.idle": "2022-08-19T20:35:57.433203Z",
     "shell.execute_reply": "2022-08-19T20:35:57.432565Z"
    },
    "papermill": {
     "duration": 0.015991,
     "end_time": "2022-08-19T20:35:57.435237",
     "exception": false,
     "start_time": "2022-08-19T20:35:57.419246",
     "status": "completed"
    },
    "tags": []
   },
   "outputs": [],
   "source": [
    "with open(product['lda_model_earthquake'], \"wb\") as f:\n",
    "    pickle.dump(lda_model_earthquake, f)\n",
    "with open(product['lda_model_fire'], \"wb\") as f:\n",
    "    pickle.dump(lda_model_fire, f)\n",
    "with open(product['lda_model_flood'], \"wb\") as f:\n",
    "    pickle.dump(lda_model_flood, f)\n",
    "with open(product['lda_model_hurricane'], \"wb\") as f:\n",
    "    pickle.dump(lda_model_hurricane, f)"
   ]
  },
  {
   "cell_type": "markdown",
   "id": "78adfd87",
   "metadata": {
    "papermill": {
     "duration": 0.005941,
     "end_time": "2022-08-19T20:35:57.447593",
     "exception": false,
     "start_time": "2022-08-19T20:35:57.441652",
     "status": "completed"
    },
    "tags": []
   },
   "source": [
    "## Performance Stats"
   ]
  },
  {
   "cell_type": "code",
   "execution_count": 18,
   "id": "633d64ec",
   "metadata": {
    "execution": {
     "iopub.execute_input": "2022-08-19T20:35:57.460807Z",
     "iopub.status.busy": "2022-08-19T20:35:57.460522Z",
     "iopub.status.idle": "2022-08-19T20:36:13.034504Z",
     "shell.execute_reply": "2022-08-19T20:36:13.033580Z"
    },
    "papermill": {
     "duration": 15.583554,
     "end_time": "2022-08-19T20:36:13.037003",
     "exception": false,
     "start_time": "2022-08-19T20:35:57.453449",
     "status": "completed"
    },
    "tags": []
   },
   "outputs": [
    {
     "name": "stdout",
     "output_type": "stream",
     "text": [
      "Log Likelihood Earthquake:  -488653.45987242664\n"
     ]
    },
    {
     "name": "stdout",
     "output_type": "stream",
     "text": [
      "Log Likelihood Fire:  -862991.27309673\n"
     ]
    },
    {
     "name": "stdout",
     "output_type": "stream",
     "text": [
      "Log Likelihood Flood:  -1017564.9037416612\n"
     ]
    },
    {
     "name": "stdout",
     "output_type": "stream",
     "text": [
      "Log Likelihood Hurricane:  -3262678.1450290033\n"
     ]
    },
    {
     "name": "stdout",
     "output_type": "stream",
     "text": [
      "Perplexity Earthquake:  1515.1718974502674\n"
     ]
    },
    {
     "name": "stdout",
     "output_type": "stream",
     "text": [
      "Perplexity Fire:  1864.339285829549\n"
     ]
    },
    {
     "name": "stdout",
     "output_type": "stream",
     "text": [
      "Perplexity Flood:  1798.312954109303\n"
     ]
    },
    {
     "name": "stdout",
     "output_type": "stream",
     "text": [
      "Perplexity Hurricane:  2185.718504207312\n"
     ]
    }
   ],
   "source": [
    "# Log Likelyhood: Higher the better\n",
    "print(\"Log Likelihood Earthquake: \", lda_model_earthquake.score(earthquake_text_vectorized))\n",
    "print(\"Log Likelihood Fire: \", lda_model_fire.score(fire_text_vectorized))\n",
    "print(\"Log Likelihood Flood: \", lda_model_flood.score(flood_text_vectorized))\n",
    "print(\"Log Likelihood Hurricane: \", lda_model_hurricane.score(hurricane_text_vectorized))\n",
    "\n",
    "# Perplexity: Lower the better. Perplexity = exp(-1. * log-likelihood per word)\n",
    "print(\"Perplexity Earthquake: \", lda_model_earthquake.perplexity(earthquake_text_vectorized))\n",
    "print(\"Perplexity Fire: \", lda_model_fire.perplexity(fire_text_vectorized))\n",
    "print(\"Perplexity Flood: \", lda_model_flood.perplexity(flood_text_vectorized))\n",
    "print(\"Perplexity Hurricane: \", lda_model_hurricane.perplexity(hurricane_text_vectorized))"
   ]
  },
  {
   "cell_type": "markdown",
   "id": "3d103ea9",
   "metadata": {
    "papermill": {
     "duration": 0.006913,
     "end_time": "2022-08-19T20:36:13.051155",
     "exception": false,
     "start_time": "2022-08-19T20:36:13.044242",
     "status": "completed"
    },
    "tags": []
   },
   "source": [
    "## Extract Topic Keywords"
   ]
  },
  {
   "cell_type": "code",
   "execution_count": 19,
   "id": "273df99a",
   "metadata": {
    "execution": {
     "iopub.execute_input": "2022-08-19T20:36:13.067232Z",
     "iopub.status.busy": "2022-08-19T20:36:13.066892Z",
     "iopub.status.idle": "2022-08-19T20:36:13.133554Z",
     "shell.execute_reply": "2022-08-19T20:36:13.132755Z"
    },
    "lines_to_next_cell": 0,
    "papermill": {
     "duration": 0.077464,
     "end_time": "2022-08-19T20:36:13.135584",
     "exception": false,
     "start_time": "2022-08-19T20:36:13.058120",
     "status": "completed"
    },
    "tags": []
   },
   "outputs": [
    {
     "name": "stderr",
     "output_type": "stream",
     "text": [
      "/Users/mboussarov/Library/Caches/pypoetry/virtualenvs/data-medics-capstone-ZGa4TAVF-py3.9/lib/python3.9/site-packages/sklearn/utils/deprecation.py:87: FutureWarning: Function get_feature_names is deprecated; get_feature_names is deprecated in 1.0 and will be removed in 1.2. Please use get_feature_names_out instead.\n",
      "  warnings.warn(msg, category=FutureWarning)\n",
      "/Users/mboussarov/Library/Caches/pypoetry/virtualenvs/data-medics-capstone-ZGa4TAVF-py3.9/lib/python3.9/site-packages/sklearn/utils/deprecation.py:87: FutureWarning: Function get_feature_names is deprecated; get_feature_names is deprecated in 1.0 and will be removed in 1.2. Please use get_feature_names_out instead.\n",
      "  warnings.warn(msg, category=FutureWarning)\n",
      "/Users/mboussarov/Library/Caches/pypoetry/virtualenvs/data-medics-capstone-ZGa4TAVF-py3.9/lib/python3.9/site-packages/sklearn/utils/deprecation.py:87: FutureWarning: Function get_feature_names is deprecated; get_feature_names is deprecated in 1.0 and will be removed in 1.2. Please use get_feature_names_out instead.\n",
      "  warnings.warn(msg, category=FutureWarning)\n",
      "/Users/mboussarov/Library/Caches/pypoetry/virtualenvs/data-medics-capstone-ZGa4TAVF-py3.9/lib/python3.9/site-packages/sklearn/utils/deprecation.py:87: FutureWarning: Function get_feature_names is deprecated; get_feature_names is deprecated in 1.0 and will be removed in 1.2. Please use get_feature_names_out instead.\n",
      "  warnings.warn(msg, category=FutureWarning)\n"
     ]
    },
    {
     "data": {
      "text/html": [
       "<div>\n",
       "<style scoped>\n",
       "    .dataframe tbody tr th:only-of-type {\n",
       "        vertical-align: middle;\n",
       "    }\n",
       "\n",
       "    .dataframe tbody tr th {\n",
       "        vertical-align: top;\n",
       "    }\n",
       "\n",
       "    .dataframe thead th {\n",
       "        text-align: right;\n",
       "    }\n",
       "</style>\n",
       "<table border=\"1\" class=\"dataframe\">\n",
       "  <thead>\n",
       "    <tr style=\"text-align: right;\">\n",
       "      <th></th>\n",
       "      <th>earthquake_Topic 0</th>\n",
       "      <th>earthquake_Topic 1</th>\n",
       "      <th>fire_Topic 0</th>\n",
       "      <th>fire_Topic 1</th>\n",
       "      <th>fire_Topic 2</th>\n",
       "      <th>fire_Topic 3</th>\n",
       "      <th>flood_Topic 0</th>\n",
       "      <th>flood_Topic 1</th>\n",
       "      <th>flood_Topic 2</th>\n",
       "      <th>hurricane_Topic 0</th>\n",
       "      <th>hurricane_Topic 1</th>\n",
       "      <th>hurricane_Topic 2</th>\n",
       "      <th>hurricane_Topic 3</th>\n",
       "      <th>hurricane_Topic 4</th>\n",
       "    </tr>\n",
       "  </thead>\n",
       "  <tbody>\n",
       "    <tr>\n",
       "      <th>Word 0</th>\n",
       "      <td>pray</td>\n",
       "      <td>help</td>\n",
       "      <td>death</td>\n",
       "      <td>relief</td>\n",
       "      <td>home</td>\n",
       "      <td>help</td>\n",
       "      <td>help</td>\n",
       "      <td>relief</td>\n",
       "      <td>flooding</td>\n",
       "      <td>storm</td>\n",
       "      <td>evacuation</td>\n",
       "      <td>damage</td>\n",
       "      <td>emergency</td>\n",
       "      <td>help</td>\n",
       "    </tr>\n",
       "    <tr>\n",
       "      <th>Word 1</th>\n",
       "      <td>prayer</td>\n",
       "      <td>donate</td>\n",
       "      <td>toll</td>\n",
       "      <td>support</td>\n",
       "      <td>lose</td>\n",
       "      <td>camp</td>\n",
       "      <td>need</td>\n",
       "      <td>donate</td>\n",
       "      <td>state</td>\n",
       "      <td>damage</td>\n",
       "      <td>say</td>\n",
       "      <td>pray</td>\n",
       "      <td>safe</td>\n",
       "      <td>relief</td>\n",
       "    </tr>\n",
       "    <tr>\n",
       "      <th>Word 2</th>\n",
       "      <td>safe</td>\n",
       "      <td>death</td>\n",
       "      <td>death toll</td>\n",
       "      <td>help</td>\n",
       "      <td>destroy</td>\n",
       "      <td>victim</td>\n",
       "      <td>relief</td>\n",
       "      <td>victim</td>\n",
       "      <td>damage</td>\n",
       "      <td>destroy</td>\n",
       "      <td>life</td>\n",
       "      <td>home</td>\n",
       "      <td>supply</td>\n",
       "      <td>need</td>\n",
       "    </tr>\n",
       "    <tr>\n",
       "      <th>Word 3</th>\n",
       "      <td>injure</td>\n",
       "      <td>victim</td>\n",
       "      <td>camp</td>\n",
       "      <td>make</td>\n",
       "      <td>burn</td>\n",
       "      <td>donate</td>\n",
       "      <td>rescue</td>\n",
       "      <td>fund</td>\n",
       "      <td>disaster</td>\n",
       "      <td>wind</td>\n",
       "      <td>destruction</td>\n",
       "      <td>cause</td>\n",
       "      <td>rescue</td>\n",
       "      <td>donate</td>\n",
       "    </tr>\n",
       "    <tr>\n",
       "      <th>Word 4</th>\n",
       "      <td>thought</td>\n",
       "      <td>rescue</td>\n",
       "      <td>dead</td>\n",
       "      <td>donation</td>\n",
       "      <td>family</td>\n",
       "      <td>blame</td>\n",
       "      <td>food</td>\n",
       "      <td>help</td>\n",
       "      <td>year</td>\n",
       "      <td>flooding</td>\n",
       "      <td>disaster</td>\n",
       "      <td>time</td>\n",
       "      <td>stay</td>\n",
       "      <td>victim</td>\n",
       "    </tr>\n",
       "  </tbody>\n",
       "</table>\n",
       "</div>"
      ],
      "text/plain": [
       "       earthquake_Topic 0 earthquake_Topic 1 fire_Topic 0 fire_Topic 1  \\\n",
       "Word 0               pray               help        death       relief   \n",
       "Word 1             prayer             donate         toll      support   \n",
       "Word 2               safe              death   death toll         help   \n",
       "Word 3             injure             victim         camp         make   \n",
       "Word 4            thought             rescue         dead     donation   \n",
       "\n",
       "       fire_Topic 2 fire_Topic 3 flood_Topic 0 flood_Topic 1 flood_Topic 2  \\\n",
       "Word 0         home         help          help        relief      flooding   \n",
       "Word 1         lose         camp          need        donate         state   \n",
       "Word 2      destroy       victim        relief        victim        damage   \n",
       "Word 3         burn       donate        rescue          fund      disaster   \n",
       "Word 4       family        blame          food          help          year   \n",
       "\n",
       "       hurricane_Topic 0 hurricane_Topic 1 hurricane_Topic 2  \\\n",
       "Word 0             storm        evacuation            damage   \n",
       "Word 1            damage               say              pray   \n",
       "Word 2           destroy              life              home   \n",
       "Word 3              wind       destruction             cause   \n",
       "Word 4          flooding          disaster              time   \n",
       "\n",
       "       hurricane_Topic 3 hurricane_Topic 4  \n",
       "Word 0         emergency              help  \n",
       "Word 1              safe            relief  \n",
       "Word 2            supply              need  \n",
       "Word 3            rescue            donate  \n",
       "Word 4              stay            victim  "
      ]
     },
     "execution_count": 19,
     "metadata": {},
     "output_type": "execute_result"
    }
   ],
   "source": [
    "topics_earthquake = pd.DataFrame(show_topics(fitted_vectorizer=vectorizer, fitted_lda_model=lda_model_earthquake, n_words=100, dname='earthquake'))\n",
    "topics_fire = pd.DataFrame(show_topics(fitted_vectorizer=vectorizer, fitted_lda_model=lda_model_fire, n_words=100, dname='fire'))\n",
    "topics_flood = pd.DataFrame(show_topics(fitted_vectorizer=vectorizer, fitted_lda_model=lda_model_flood, n_words=100, dname='flood'))\n",
    "topics_hurricane = pd.DataFrame(show_topics(fitted_vectorizer=vectorizer, fitted_lda_model=lda_model_hurricane, n_words=100, dname='hurricane'))\n",
    "\n",
    "df_topic_keywords = pd.concat([topics_earthquake,topics_fire,topics_flood,topics_hurricane],axis=0)\n",
    "    # df_topic_keywords.columns = ['Word '+str(i) for i in range(df_topic_keywords.shape[1])]\n",
    "    # df_topic_keywords.index = ['Topic '+str(i) for i in range(df_topic_keywords.shape[0])]\n",
    "df_topic_keywords = df_topic_keywords.transpose()\n",
    "df_topic_keywords.head()"
   ]
  },
  {
   "cell_type": "code",
   "execution_count": null,
   "id": "87b4bcaf",
   "metadata": {
    "lines_to_next_cell": 2,
    "papermill": {
     "duration": 0.007248,
     "end_time": "2022-08-19T20:36:13.150020",
     "exception": false,
     "start_time": "2022-08-19T20:36:13.142772",
     "status": "completed"
    },
    "tags": []
   },
   "outputs": [],
   "source": []
  },
  {
   "cell_type": "code",
   "execution_count": 20,
   "id": "4a1a6e8d",
   "metadata": {
    "execution": {
     "iopub.execute_input": "2022-08-19T20:36:13.166169Z",
     "iopub.status.busy": "2022-08-19T20:36:13.165858Z",
     "iopub.status.idle": "2022-08-19T20:36:13.171797Z",
     "shell.execute_reply": "2022-08-19T20:36:13.171198Z"
    },
    "papermill": {
     "duration": 0.016347,
     "end_time": "2022-08-19T20:36:13.173693",
     "exception": false,
     "start_time": "2022-08-19T20:36:13.157346",
     "status": "completed"
    },
    "tags": []
   },
   "outputs": [],
   "source": [
    "df_topic_keywords.to_csv(product['lda_topics_disaster_type'])"
   ]
  },
  {
   "cell_type": "code",
   "execution_count": null,
   "id": "5d7eb41d",
   "metadata": {
    "papermill": {
     "duration": 0.008477,
     "end_time": "2022-08-19T20:36:13.189558",
     "exception": false,
     "start_time": "2022-08-19T20:36:13.181081",
     "status": "completed"
    },
    "tags": []
   },
   "outputs": [],
   "source": []
  }
 ],
 "metadata": {
  "jupytext": {
   "cell_metadata_filter": "tags,-all",
   "main_language": "python",
   "notebook_metadata_filter": "-all",
   "text_representation": {
    "extension": ".py",
    "format_name": "light"
   }
  },
  "kernelspec": {
   "display_name": "Python 3 (ipykernel)",
   "language": "python",
   "name": "python3"
  },
  "language_info": {
   "codemirror_mode": {
    "name": "ipython",
    "version": 3
   },
   "file_extension": ".py",
   "mimetype": "text/x-python",
   "name": "python",
   "nbconvert_exporter": "python",
   "pygments_lexer": "ipython3",
   "version": "3.9.12"
  },
  "papermill": {
   "duration": 295.36542,
   "end_time": "2022-08-19T20:36:13.919419",
   "exception": null,
   "input_path": "/var/folders/lw/k7hqg3bn7s326rs6jxn046b40000gp/T/tmpj9an4g6s.ipynb",
   "output_path": "/Users/mboussarov/_umsi/Capstone/umads_697_data_medics/pipeline/output/topic_modeling_disaster_type_final.ipynb",
   "parameters": {
    "product": {
     "lda_model_earthquake": "/Users/mboussarov/_umsi/Capstone/umads_697_data_medics/pipeline/output/lda_model_earthquake.pkl",
     "lda_model_fire": "/Users/mboussarov/_umsi/Capstone/umads_697_data_medics/pipeline/output/lda_model_fire.pkl",
     "lda_model_flood": "/Users/mboussarov/_umsi/Capstone/umads_697_data_medics/pipeline/output/lda_model_flood.pkl",
     "lda_model_hurricane": "/Users/mboussarov/_umsi/Capstone/umads_697_data_medics/pipeline/output/lda_model_hurricane.pkl",
     "lda_topics_disaster_type": "/Users/mboussarov/_umsi/Capstone/umads_697_data_medics/pipeline/output/lda_topics_disaster_type.csv",
     "nb": "/Users/mboussarov/_umsi/Capstone/umads_697_data_medics/pipeline/output/topic_modeling_disaster_type_final.ipynb"
    },
    "random_seed": 42,
    "upstream": {
     "vectorizer_countVec": {
      "nb": "/Users/mboussarov/_umsi/Capstone/umads_697_data_medics/pipeline/output/vectorizer_countVec.ipynb",
      "vectorizer": "/Users/mboussarov/_umsi/Capstone/umads_697_data_medics/pipeline/output/vectorizer_countVec.pkl"
     }
    }
   },
   "start_time": "2022-08-19T20:31:18.553999"
  }
 },
 "nbformat": 4,
 "nbformat_minor": 5
}