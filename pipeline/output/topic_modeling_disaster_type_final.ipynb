{
 "cells": [
  {
   "cell_type": "code",
   "execution_count": 1,
   "id": "9ab2a66d",
   "metadata": {
    "execution": {
     "iopub.execute_input": "2022-08-07T03:12:05.647755Z",
     "iopub.status.busy": "2022-08-07T03:12:05.647755Z",
     "iopub.status.idle": "2022-08-07T03:12:05.680381Z",
     "shell.execute_reply": "2022-08-07T03:12:05.680284Z"
    },
    "lines_to_next_cell": 0,
    "papermill": {
     "duration": 0.032626,
     "end_time": "2022-08-07T03:12:05.680381",
     "exception": false,
     "start_time": "2022-08-07T03:12:05.647755",
     "status": "completed"
    },
    "tags": [
     "parameters"
    ]
   },
   "outputs": [],
   "source": [
    "# + tags=[\"parameters\"]\n",
    "# declare a list tasks whose products you want to use as inputs\n",
    "upstream = ['vectorizer_countVec']\n",
    "random_seed = 42"
   ]
  },
  {
   "cell_type": "code",
   "execution_count": 2,
   "id": "ed251546",
   "metadata": {
    "execution": {
     "iopub.execute_input": "2022-08-07T03:12:05.699256Z",
     "iopub.status.busy": "2022-08-07T03:12:05.699256Z",
     "iopub.status.idle": "2022-08-07T03:12:05.715658Z",
     "shell.execute_reply": "2022-08-07T03:12:05.714896Z"
    },
    "papermill": {
     "duration": 0.036311,
     "end_time": "2022-08-07T03:12:05.716692",
     "exception": false,
     "start_time": "2022-08-07T03:12:05.680381",
     "status": "completed"
    },
    "tags": [
     "injected-parameters"
    ]
   },
   "outputs": [],
   "source": [
    "# Parameters\n",
    "random_seed = 42\n",
    "upstream = {\n",
    "    \"vectorizer_countVec\": {\n",
    "        \"nb\": \"C:\\\\Users\\\\gillrobe\\\\DataScience\\\\umads_697_data_medics\\\\pipeline\\\\output\\\\vectorizer_countVec.ipynb\",\n",
    "        \"vectorizer\": \"C:\\\\Users\\\\gillrobe\\\\DataScience\\\\umads_697_data_medics\\\\pipeline\\\\output\\\\vectorizer_countVec.pkl\",\n",
    "    }\n",
    "}\n",
    "product = {\n",
    "    \"nb\": \"C:\\\\Users\\\\gillrobe\\\\DataScience\\\\umads_697_data_medics\\\\pipeline\\\\output\\\\topic_modeling_disaster_type_final.ipynb\",\n",
    "    \"lda_model_earthquake\": \"C:\\\\Users\\\\gillrobe\\\\DataScience\\\\umads_697_data_medics\\\\pipeline\\\\output\\\\lda_model_earthquake.pkl\",\n",
    "    \"lda_model_fire\": \"C:\\\\Users\\\\gillrobe\\\\DataScience\\\\umads_697_data_medics\\\\pipeline\\\\output\\\\lda_model_fire.pkl\",\n",
    "    \"lda_model_flood\": \"C:\\\\Users\\\\gillrobe\\\\DataScience\\\\umads_697_data_medics\\\\pipeline\\\\output\\\\lda_model_flood.pkl\",\n",
    "    \"lda_model_hurricane\": \"C:\\\\Users\\\\gillrobe\\\\DataScience\\\\umads_697_data_medics\\\\pipeline\\\\output\\\\lda_model_hurricane.pkl\",\n",
    "    \"lda_topics_disaster_type\": \"C:\\\\Users\\\\gillrobe\\\\DataScience\\\\umads_697_data_medics\\\\pipeline\\\\output\\\\lda_topics_disaster_type.csv\",\n",
    "}\n"
   ]
  },
  {
   "cell_type": "code",
   "execution_count": null,
   "id": "2b762db7",
   "metadata": {
    "lines_to_next_cell": 2,
    "papermill": {
     "duration": 0.0,
     "end_time": "2022-08-07T03:12:05.716692",
     "exception": false,
     "start_time": "2022-08-07T03:12:05.716692",
     "status": "completed"
    },
    "tags": []
   },
   "outputs": [],
   "source": []
  },
  {
   "cell_type": "code",
   "execution_count": null,
   "id": "36b464ad",
   "metadata": {
    "lines_to_next_cell": 2,
    "papermill": {
     "duration": 0.015835,
     "end_time": "2022-08-07T03:12:05.732527",
     "exception": false,
     "start_time": "2022-08-07T03:12:05.716692",
     "status": "completed"
    },
    "tags": []
   },
   "outputs": [],
   "source": []
  },
  {
   "cell_type": "markdown",
   "id": "90bb0032",
   "metadata": {
    "papermill": {
     "duration": 0.0,
     "end_time": "2022-08-07T03:12:05.732527",
     "exception": false,
     "start_time": "2022-08-07T03:12:05.732527",
     "status": "completed"
    },
    "tags": []
   },
   "source": [
    "importing all the functions defined in tools_rjg.py"
   ]
  },
  {
   "cell_type": "code",
   "execution_count": 3,
   "id": "3a698edf",
   "metadata": {
    "execution": {
     "iopub.execute_input": "2022-08-07T03:12:05.749841Z",
     "iopub.status.busy": "2022-08-07T03:12:05.749841Z",
     "iopub.status.idle": "2022-08-07T03:12:09.168830Z",
     "shell.execute_reply": "2022-08-07T03:12:09.168830Z"
    },
    "papermill": {
     "duration": 3.436303,
     "end_time": "2022-08-07T03:12:09.168830",
     "exception": false,
     "start_time": "2022-08-07T03:12:05.732527",
     "status": "completed"
    },
    "tags": []
   },
   "outputs": [],
   "source": [
    "from tools_rjg import *"
   ]
  },
  {
   "cell_type": "code",
   "execution_count": 4,
   "id": "2b9eee7a",
   "metadata": {
    "execution": {
     "iopub.execute_input": "2022-08-07T03:12:09.168830Z",
     "iopub.status.busy": "2022-08-07T03:12:09.168830Z",
     "iopub.status.idle": "2022-08-07T03:12:09.401093Z",
     "shell.execute_reply": "2022-08-07T03:12:09.401093Z"
    },
    "papermill": {
     "duration": 0.232263,
     "end_time": "2022-08-07T03:12:09.401093",
     "exception": false,
     "start_time": "2022-08-07T03:12:09.168830",
     "status": "completed"
    },
    "tags": []
   },
   "outputs": [
    {
     "name": "stderr",
     "output_type": "stream",
     "text": [
      "[nltk_data] Downloading package punkt to\n",
      "[nltk_data]     C:\\Users\\gillrobe\\AppData\\Roaming\\nltk_data...\n",
      "[nltk_data]   Package punkt is already up-to-date!\n"
     ]
    }
   ],
   "source": [
    "import pandas as pd\n",
    "import re, nltk, spacy, gensim\n",
    "nltk.download('punkt')\n",
    "import pickle"
   ]
  },
  {
   "cell_type": "code",
   "execution_count": 5,
   "id": "104fd7f6",
   "metadata": {
    "execution": {
     "iopub.execute_input": "2022-08-07T03:12:09.416593Z",
     "iopub.status.busy": "2022-08-07T03:12:09.416593Z",
     "iopub.status.idle": "2022-08-07T03:12:09.471967Z",
     "shell.execute_reply": "2022-08-07T03:12:09.469931Z"
    },
    "papermill": {
     "duration": 0.070874,
     "end_time": "2022-08-07T03:12:09.471967",
     "exception": false,
     "start_time": "2022-08-07T03:12:09.401093",
     "status": "completed"
    },
    "tags": []
   },
   "outputs": [],
   "source": [
    "from sklearn.decomposition import LatentDirichletAllocation, TruncatedSVD"
   ]
  },
  {
   "cell_type": "code",
   "execution_count": 6,
   "id": "f8e6a26b",
   "metadata": {
    "execution": {
     "iopub.execute_input": "2022-08-07T03:12:09.487886Z",
     "iopub.status.busy": "2022-08-07T03:12:09.487886Z",
     "iopub.status.idle": "2022-08-07T03:12:10.050019Z",
     "shell.execute_reply": "2022-08-07T03:12:10.050019Z"
    },
    "papermill": {
     "duration": 0.578052,
     "end_time": "2022-08-07T03:12:10.050019",
     "exception": false,
     "start_time": "2022-08-07T03:12:09.471967",
     "status": "completed"
    },
    "tags": []
   },
   "outputs": [],
   "source": [
    "import matplotlib.pyplot as plt\n",
    "%matplotlib inline"
   ]
  },
  {
   "cell_type": "code",
   "execution_count": null,
   "id": "f05a6845",
   "metadata": {
    "lines_to_next_cell": 2,
    "papermill": {
     "duration": 0.0,
     "end_time": "2022-08-07T03:12:10.055121",
     "exception": false,
     "start_time": "2022-08-07T03:12:10.055121",
     "status": "completed"
    },
    "tags": []
   },
   "outputs": [],
   "source": []
  },
  {
   "cell_type": "code",
   "execution_count": null,
   "id": "08b712dd",
   "metadata": {
    "lines_to_next_cell": 2,
    "papermill": {
     "duration": 0.0,
     "end_time": "2022-08-07T03:12:10.071703",
     "exception": false,
     "start_time": "2022-08-07T03:12:10.071703",
     "status": "completed"
    },
    "tags": []
   },
   "outputs": [],
   "source": []
  },
  {
   "cell_type": "code",
   "execution_count": 7,
   "id": "445aa3c2",
   "metadata": {
    "execution": {
     "iopub.execute_input": "2022-08-07T03:12:10.103348Z",
     "iopub.status.busy": "2022-08-07T03:12:10.087525Z",
     "iopub.status.idle": "2022-08-07T03:12:10.339746Z",
     "shell.execute_reply": "2022-08-07T03:12:10.339746Z"
    },
    "papermill": {
     "duration": 0.252221,
     "end_time": "2022-08-07T03:12:10.339746",
     "exception": false,
     "start_time": "2022-08-07T03:12:10.087525",
     "status": "completed"
    },
    "tags": []
   },
   "outputs": [],
   "source": [
    "df_all = generate_disaster_type_dataframe(disaster_types = ('earthquake', 'fire', 'flood', 'hurricane')\n",
    "                                          , dev_train_test= ('dev', 'train', 'test'))"
   ]
  },
  {
   "cell_type": "code",
   "execution_count": null,
   "id": "a8ff8955",
   "metadata": {
    "lines_to_next_cell": 2,
    "papermill": {
     "duration": 0.015755,
     "end_time": "2022-08-07T03:12:10.355501",
     "exception": false,
     "start_time": "2022-08-07T03:12:10.339746",
     "status": "completed"
    },
    "tags": []
   },
   "outputs": [],
   "source": []
  },
  {
   "cell_type": "code",
   "execution_count": 8,
   "id": "2e1a031e",
   "metadata": {
    "execution": {
     "iopub.execute_input": "2022-08-07T03:12:10.372223Z",
     "iopub.status.busy": "2022-08-07T03:12:10.372223Z",
     "iopub.status.idle": "2022-08-07T03:14:54.878865Z",
     "shell.execute_reply": "2022-08-07T03:14:54.878821Z"
    },
    "papermill": {
     "duration": 164.523364,
     "end_time": "2022-08-07T03:14:54.878865",
     "exception": false,
     "start_time": "2022-08-07T03:12:10.355501",
     "status": "completed"
    },
    "tags": []
   },
   "outputs": [],
   "source": [
    "df_all['tweet_text_cleaned'] = df_all['tweet_text'].apply(lambda x: tweet_preprocessing(x))\n",
    "df_all['lemmatized'] = df_all['tweet_text_cleaned'].apply(lambda x: lemmatize_tweet_text(x, allowed_postags=('NOUN', 'ADJ', 'VERB', 'ADV')))"
   ]
  },
  {
   "cell_type": "code",
   "execution_count": 9,
   "id": "a8076d13",
   "metadata": {
    "execution": {
     "iopub.execute_input": "2022-08-07T03:14:54.902565Z",
     "iopub.status.busy": "2022-08-07T03:14:54.902565Z",
     "iopub.status.idle": "2022-08-07T03:14:54.942711Z",
     "shell.execute_reply": "2022-08-07T03:14:54.941096Z"
    },
    "papermill": {
     "duration": 0.065914,
     "end_time": "2022-08-07T03:14:54.944779",
     "exception": false,
     "start_time": "2022-08-07T03:14:54.878865",
     "status": "completed"
    },
    "tags": []
   },
   "outputs": [
    {
     "data": {
      "text/html": [
       "<div>\n",
       "<style scoped>\n",
       "    .dataframe tbody tr th:only-of-type {\n",
       "        vertical-align: middle;\n",
       "    }\n",
       "\n",
       "    .dataframe tbody tr th {\n",
       "        vertical-align: top;\n",
       "    }\n",
       "\n",
       "    .dataframe thead th {\n",
       "        text-align: right;\n",
       "    }\n",
       "</style>\n",
       "<table border=\"1\" class=\"dataframe\">\n",
       "  <thead>\n",
       "    <tr style=\"text-align: right;\">\n",
       "      <th></th>\n",
       "      <th>tweet_id</th>\n",
       "      <th>tweet_text</th>\n",
       "      <th>class_label</th>\n",
       "      <th>disaster_type</th>\n",
       "      <th>tweet_text_cleaned</th>\n",
       "      <th>lemmatized</th>\n",
       "    </tr>\n",
       "  </thead>\n",
       "  <tbody>\n",
       "    <tr>\n",
       "      <th>31627</th>\n",
       "      <td>783385314555531264</td>\n",
       "      <td>#VIDEO: Category 4 Hurricane #Matthew roars ac...</td>\n",
       "      <td>injured_or_dead_people</td>\n",
       "      <td>hurricane</td>\n",
       "      <td>[video, category, hurricane, matthew, roars, a...</td>\n",
       "      <td>video category hurricane matthew roar least dead</td>\n",
       "    </tr>\n",
       "    <tr>\n",
       "      <th>6362</th>\n",
       "      <td>1111090467997999106</td>\n",
       "      <td>I am glad the state of Nebraska is doing this ...</td>\n",
       "      <td>not_humanitarian</td>\n",
       "      <td>flood</td>\n",
       "      <td>[glad, state, nebraska, doing, this, this, sho...</td>\n",
       "      <td>glad state do national federal issue need prot...</td>\n",
       "    </tr>\n",
       "    <tr>\n",
       "      <th>254</th>\n",
       "      <td>910743978030489600</td>\n",
       "      <td>@TOPLatinAmerica @RealGDT @DunLaura @topupdati...</td>\n",
       "      <td>sympathy_and_support</td>\n",
       "      <td>earthquake</td>\n",
       "      <td>[could, please, help, victims, earthquake, mex...</td>\n",
       "      <td>help victim earthquake thank sorry bother</td>\n",
       "    </tr>\n",
       "    <tr>\n",
       "      <th>1623</th>\n",
       "      <td>1023277928120037376</td>\n",
       "      <td>RT @LazarosKokkalis: There is no change runnin...</td>\n",
       "      <td>other_relevant_information</td>\n",
       "      <td>fire</td>\n",
       "      <td>[there, change, running, same, policies, recon...</td>\n",
       "      <td>change run same policy reconstitution greece w...</td>\n",
       "    </tr>\n",
       "    <tr>\n",
       "      <th>3410</th>\n",
       "      <td>721755929553866753</td>\n",
       "      <td>CLICK HERE to support ECUADOR Earthquake Emerg...</td>\n",
       "      <td>rescue_volunteering_or_donation_effort</td>\n",
       "      <td>earthquake</td>\n",
       "      <td>[click, here, support, ecuador, earthquake, em...</td>\n",
       "      <td>click here support ecuador earthquake emergenc...</td>\n",
       "    </tr>\n",
       "    <tr>\n",
       "      <th>...</th>\n",
       "      <td>...</td>\n",
       "      <td>...</td>\n",
       "      <td>...</td>\n",
       "      <td>...</td>\n",
       "      <td>...</td>\n",
       "      <td>...</td>\n",
       "    </tr>\n",
       "    <tr>\n",
       "      <th>5993</th>\n",
       "      <td>901735529196257280</td>\n",
       "      <td>RT @NBCNews: UPDATE: Hundreds of water rescues...</td>\n",
       "      <td>rescue_volunteering_or_donation_effort</td>\n",
       "      <td>hurricane</td>\n",
       "      <td>[update, hundreds, water, rescues, underway, h...</td>\n",
       "      <td>update hundred water rescue underway official</td>\n",
       "    </tr>\n",
       "    <tr>\n",
       "      <th>497</th>\n",
       "      <td>1064901044633825280</td>\n",
       "      <td>I’d like to see Jerry Brown’s bank statements....</td>\n",
       "      <td>not_humanitarian</td>\n",
       "      <td>fire</td>\n",
       "      <td>[like, jerry, brown, bank, statements, wonder,...</td>\n",
       "      <td>statement wonder much money receive fuck resid...</td>\n",
       "    </tr>\n",
       "    <tr>\n",
       "      <th>722</th>\n",
       "      <td>1031517066262728705</td>\n",
       "      <td>#KeralaFloods #KeralaFloodRelief #KeralaFloodD...</td>\n",
       "      <td>rescue_volunteering_or_donation_effort</td>\n",
       "      <td>flood</td>\n",
       "      <td>[kerala, floods, kerala, flood, relief, kerala...</td>\n",
       "      <td>flood relief flood donation officer unload ent...</td>\n",
       "    </tr>\n",
       "    <tr>\n",
       "      <th>5069</th>\n",
       "      <td>1066072682964357127</td>\n",
       "      <td>Tomorrow I’ll be brewing the home brew version...</td>\n",
       "      <td>rescue_volunteering_or_donation_effort</td>\n",
       "      <td>fire</td>\n",
       "      <td>[tomorrow, brewing, home, brew, version, resil...</td>\n",
       "      <td>tomorrow brew home brew version proud check so...</td>\n",
       "    </tr>\n",
       "    <tr>\n",
       "      <th>23735</th>\n",
       "      <td>1108668831587885056</td>\n",
       "      <td>⚠️ Play your part &amp;amp; help those in need - d...</td>\n",
       "      <td>requests_or_urgent_needs</td>\n",
       "      <td>hurricane</td>\n",
       "      <td>[play, your, part, help, those, need, donate, ...</td>\n",
       "      <td>play part help need donate cyclone relief effo...</td>\n",
       "    </tr>\n",
       "  </tbody>\n",
       "</table>\n",
       "<p>100 rows × 6 columns</p>\n",
       "</div>"
      ],
      "text/plain": [
       "                  tweet_id                                         tweet_text  \\\n",
       "31627   783385314555531264  #VIDEO: Category 4 Hurricane #Matthew roars ac...   \n",
       "6362   1111090467997999106  I am glad the state of Nebraska is doing this ...   \n",
       "254     910743978030489600  @TOPLatinAmerica @RealGDT @DunLaura @topupdati...   \n",
       "1623   1023277928120037376  RT @LazarosKokkalis: There is no change runnin...   \n",
       "3410    721755929553866753  CLICK HERE to support ECUADOR Earthquake Emerg...   \n",
       "...                    ...                                                ...   \n",
       "5993    901735529196257280  RT @NBCNews: UPDATE: Hundreds of water rescues...   \n",
       "497    1064901044633825280  I’d like to see Jerry Brown’s bank statements....   \n",
       "722    1031517066262728705  #KeralaFloods #KeralaFloodRelief #KeralaFloodD...   \n",
       "5069   1066072682964357127  Tomorrow I’ll be brewing the home brew version...   \n",
       "23735  1108668831587885056  ⚠️ Play your part &amp; help those in need - d...   \n",
       "\n",
       "                                  class_label disaster_type  \\\n",
       "31627                  injured_or_dead_people     hurricane   \n",
       "6362                         not_humanitarian         flood   \n",
       "254                      sympathy_and_support    earthquake   \n",
       "1623               other_relevant_information          fire   \n",
       "3410   rescue_volunteering_or_donation_effort    earthquake   \n",
       "...                                       ...           ...   \n",
       "5993   rescue_volunteering_or_donation_effort     hurricane   \n",
       "497                          not_humanitarian          fire   \n",
       "722    rescue_volunteering_or_donation_effort         flood   \n",
       "5069   rescue_volunteering_or_donation_effort          fire   \n",
       "23735                requests_or_urgent_needs     hurricane   \n",
       "\n",
       "                                      tweet_text_cleaned  \\\n",
       "31627  [video, category, hurricane, matthew, roars, a...   \n",
       "6362   [glad, state, nebraska, doing, this, this, sho...   \n",
       "254    [could, please, help, victims, earthquake, mex...   \n",
       "1623   [there, change, running, same, policies, recon...   \n",
       "3410   [click, here, support, ecuador, earthquake, em...   \n",
       "...                                                  ...   \n",
       "5993   [update, hundreds, water, rescues, underway, h...   \n",
       "497    [like, jerry, brown, bank, statements, wonder,...   \n",
       "722    [kerala, floods, kerala, flood, relief, kerala...   \n",
       "5069   [tomorrow, brewing, home, brew, version, resil...   \n",
       "23735  [play, your, part, help, those, need, donate, ...   \n",
       "\n",
       "                                              lemmatized  \n",
       "31627   video category hurricane matthew roar least dead  \n",
       "6362   glad state do national federal issue need prot...  \n",
       "254            help victim earthquake thank sorry bother  \n",
       "1623   change run same policy reconstitution greece w...  \n",
       "3410   click here support ecuador earthquake emergenc...  \n",
       "...                                                  ...  \n",
       "5993       update hundred water rescue underway official  \n",
       "497    statement wonder much money receive fuck resid...  \n",
       "722    flood relief flood donation officer unload ent...  \n",
       "5069   tomorrow brew home brew version proud check so...  \n",
       "23735  play part help need donate cyclone relief effo...  \n",
       "\n",
       "[100 rows x 6 columns]"
      ]
     },
     "execution_count": 9,
     "metadata": {},
     "output_type": "execute_result"
    }
   ],
   "source": [
    "df_all.sample(100)"
   ]
  },
  {
   "cell_type": "markdown",
   "id": "a84f1d00",
   "metadata": {
    "papermill": {
     "duration": 0.00823,
     "end_time": "2022-08-07T03:14:54.962978",
     "exception": false,
     "start_time": "2022-08-07T03:14:54.954748",
     "status": "completed"
    },
    "tags": []
   },
   "source": [
    "## LDA Model"
   ]
  },
  {
   "cell_type": "code",
   "execution_count": 10,
   "id": "2e9ae746",
   "metadata": {
    "execution": {
     "iopub.execute_input": "2022-08-07T03:14:54.995405Z",
     "iopub.status.busy": "2022-08-07T03:14:54.995405Z",
     "iopub.status.idle": "2022-08-07T03:14:55.011317Z",
     "shell.execute_reply": "2022-08-07T03:14:55.010308Z"
    },
    "lines_to_next_cell": 2,
    "papermill": {
     "duration": 0.034528,
     "end_time": "2022-08-07T03:14:55.013456",
     "exception": false,
     "start_time": "2022-08-07T03:14:54.978928",
     "status": "completed"
    },
    "tags": []
   },
   "outputs": [],
   "source": [
    "params_earthquake = {'n_components' : 3,\n",
    "          'max_iter' : 10,\n",
    "          'learning_method' : 'online',\n",
    "          'random_state' : random_seed,\n",
    "          'batch_size' : 128,\n",
    "          'evaluate_every' : -1,\n",
    "          'n_jobs' : 1,\n",
    "          'learning_decay' : .5}\n",
    "\n",
    "params_fire = {'n_components' : 3,\n",
    "          'max_iter' : 10,\n",
    "          'learning_method' : 'online',\n",
    "          'random_state' : random_seed,\n",
    "          'batch_size' : 128,\n",
    "          'evaluate_every' : -1,\n",
    "          'n_jobs' : 1,\n",
    "          'learning_decay' : .5}\n",
    "\n",
    "params_flood = {'n_components' : 3,\n",
    "          'max_iter' : 10,\n",
    "          'learning_method' : 'online',\n",
    "          'random_state' : random_seed,\n",
    "          'batch_size' : 128,\n",
    "          'evaluate_every' : -1,\n",
    "          'n_jobs' : 1,\n",
    "          'learning_decay' : .5}\n",
    "\n",
    "params_hurricane = {'n_components' : 3,\n",
    "          'max_iter' : 10,\n",
    "          'learning_method' : 'online',\n",
    "          'random_state' : random_seed,\n",
    "          'batch_size' : 128,\n",
    "          'evaluate_every' : -1,\n",
    "          'n_jobs' : 1,\n",
    "          'learning_decay' : .5}\n",
    "\n",
    "lda_model_earthquake = LatentDirichletAllocation(**params_earthquake)\n",
    "lda_model_fire = LatentDirichletAllocation(**params_fire)\n",
    "lda_model_flood = LatentDirichletAllocation(**params_flood)\n",
    "lda_model_hurricane = LatentDirichletAllocation(**params_hurricane)\n"
   ]
  },
  {
   "cell_type": "code",
   "execution_count": 11,
   "id": "df4ee821",
   "metadata": {
    "execution": {
     "iopub.execute_input": "2022-08-07T03:14:55.021617Z",
     "iopub.status.busy": "2022-08-07T03:14:55.021617Z",
     "iopub.status.idle": "2022-08-07T03:14:55.096570Z",
     "shell.execute_reply": "2022-08-07T03:14:55.096015Z"
    },
    "papermill": {
     "duration": 0.079344,
     "end_time": "2022-08-07T03:14:55.098796",
     "exception": false,
     "start_time": "2022-08-07T03:14:55.019452",
     "status": "completed"
    },
    "tags": []
   },
   "outputs": [],
   "source": [
    "with open(\"output\\\\vectorizer_countVec.pkl\", \"rb\") as f:\n",
    "    vectorizer = pickle.load(f)"
   ]
  },
  {
   "cell_type": "code",
   "execution_count": 12,
   "id": "a148e015",
   "metadata": {
    "execution": {
     "iopub.execute_input": "2022-08-07T03:14:55.119920Z",
     "iopub.status.busy": "2022-08-07T03:14:55.118922Z",
     "iopub.status.idle": "2022-08-07T03:14:55.982187Z",
     "shell.execute_reply": "2022-08-07T03:14:55.981783Z"
    },
    "papermill": {
     "duration": 0.875392,
     "end_time": "2022-08-07T03:14:55.984191",
     "exception": false,
     "start_time": "2022-08-07T03:14:55.108799",
     "status": "completed"
    },
    "tags": []
   },
   "outputs": [
    {
     "name": "stderr",
     "output_type": "stream",
     "text": [
      "C:\\Users\\gillrobe\\AppData\\Local\\pypoetry\\Cache\\virtualenvs\\data-medics-capstone-E3RTzdp6-py3.9\\lib\\site-packages\\sklearn\\feature_extraction\\text.py:404: UserWarning: Your stop_words may be inconsistent with your preprocessing. Tokenizing the stop words generated tokens ['donate'] not in stop_words.\n",
      "  warnings.warn(\n"
     ]
    }
   ],
   "source": [
    "earthquake_text_vectorized = vectorizer.transform(list(df_all[df_all['disaster_type']=='earthquake']['lemmatized']))\n",
    "fire_text_vectorized = vectorizer.transform(list(df_all[df_all['disaster_type']=='fire']['lemmatized']))\n",
    "flood_text_vectorized = vectorizer.transform(list(df_all[df_all['disaster_type']=='flood']['lemmatized']))\n",
    "hurricane_text_vectorized = vectorizer.transform(list(df_all[df_all['disaster_type']=='hurricane']['lemmatized']))"
   ]
  },
  {
   "cell_type": "code",
   "execution_count": 13,
   "id": "1969db16",
   "metadata": {
    "execution": {
     "iopub.execute_input": "2022-08-07T03:14:55.998628Z",
     "iopub.status.busy": "2022-08-07T03:14:55.998628Z",
     "iopub.status.idle": "2022-08-07T03:15:02.682772Z",
     "shell.execute_reply": "2022-08-07T03:15:02.681624Z"
    },
    "papermill": {
     "duration": 6.691643,
     "end_time": "2022-08-07T03:15:02.683872",
     "exception": false,
     "start_time": "2022-08-07T03:14:55.992229",
     "status": "completed"
    },
    "tags": []
   },
   "outputs": [
    {
     "data": {
      "text/plain": [
       "array([[0.29154506, 0.03225082, 0.67620412],\n",
       "       [0.86657155, 0.06671199, 0.06671647],\n",
       "       [0.0305357 , 0.64421989, 0.32524441],\n",
       "       ...,\n",
       "       [0.46176972, 0.17212281, 0.36610747],\n",
       "       [0.04169084, 0.7953818 , 0.16292737],\n",
       "       [0.55833641, 0.05615612, 0.38550746]])"
      ]
     },
     "execution_count": 13,
     "metadata": {},
     "output_type": "execute_result"
    }
   ],
   "source": [
    "lda_model_earthquake.fit_transform(earthquake_text_vectorized)"
   ]
  },
  {
   "cell_type": "code",
   "execution_count": 14,
   "id": "6f670b69",
   "metadata": {
    "execution": {
     "iopub.execute_input": "2022-08-07T03:15:02.691876Z",
     "iopub.status.busy": "2022-08-07T03:15:02.691876Z",
     "iopub.status.idle": "2022-08-07T03:15:12.319264Z",
     "shell.execute_reply": "2022-08-07T03:15:12.318381Z"
    },
    "papermill": {
     "duration": 9.633418,
     "end_time": "2022-08-07T03:15:12.321261",
     "exception": false,
     "start_time": "2022-08-07T03:15:02.687843",
     "status": "completed"
    },
    "tags": []
   },
   "outputs": [
    {
     "data": {
      "text/plain": [
       "array([[0.16667992, 0.66664368, 0.1666764 ],\n",
       "       [0.03061903, 0.03175387, 0.9376271 ],\n",
       "       [0.04917578, 0.90140837, 0.04941586],\n",
       "       ...,\n",
       "       [0.49029856, 0.32447723, 0.18522422],\n",
       "       [0.93192557, 0.03466824, 0.0334062 ],\n",
       "       [0.01261004, 0.16977242, 0.81761754]])"
      ]
     },
     "execution_count": 14,
     "metadata": {},
     "output_type": "execute_result"
    }
   ],
   "source": [
    "lda_model_fire.fit_transform(fire_text_vectorized)"
   ]
  },
  {
   "cell_type": "code",
   "execution_count": 15,
   "id": "aa9dbbc2",
   "metadata": {
    "execution": {
     "iopub.execute_input": "2022-08-07T03:15:12.333265Z",
     "iopub.status.busy": "2022-08-07T03:15:12.333265Z",
     "iopub.status.idle": "2022-08-07T03:15:24.469203Z",
     "shell.execute_reply": "2022-08-07T03:15:24.468492Z"
    },
    "papermill": {
     "duration": 12.143952,
     "end_time": "2022-08-07T03:15:24.471216",
     "exception": false,
     "start_time": "2022-08-07T03:15:12.327264",
     "status": "completed"
    },
    "tags": []
   },
   "outputs": [
    {
     "data": {
      "text/plain": [
       "array([[0.17840612, 0.76961967, 0.05197422],\n",
       "       [0.05453876, 0.77655022, 0.16891101],\n",
       "       [0.37543094, 0.54121059, 0.08335847],\n",
       "       ...,\n",
       "       [0.70572085, 0.05447348, 0.23980567],\n",
       "       [0.08338713, 0.58432106, 0.33229182],\n",
       "       [0.52783743, 0.19424844, 0.27791413]])"
      ]
     },
     "execution_count": 15,
     "metadata": {},
     "output_type": "execute_result"
    }
   ],
   "source": [
    "lda_model_flood.fit_transform(flood_text_vectorized)"
   ]
  },
  {
   "cell_type": "code",
   "execution_count": 16,
   "id": "7989483f",
   "metadata": {
    "execution": {
     "iopub.execute_input": "2022-08-07T03:15:24.498993Z",
     "iopub.status.busy": "2022-08-07T03:15:24.498068Z",
     "iopub.status.idle": "2022-08-07T03:16:01.342061Z",
     "shell.execute_reply": "2022-08-07T03:16:01.341920Z"
    },
    "papermill": {
     "duration": 36.930789,
     "end_time": "2022-08-07T03:16:01.411012",
     "exception": false,
     "start_time": "2022-08-07T03:15:24.480223",
     "status": "completed"
    },
    "tags": []
   },
   "outputs": [
    {
     "data": {
      "text/plain": [
       "array([[0.28121157, 0.03652859, 0.68225984],\n",
       "       [0.02753788, 0.14398589, 0.82847624],\n",
       "       [0.02679498, 0.946857  , 0.02634802],\n",
       "       ...,\n",
       "       [0.88331774, 0.05754459, 0.05913767],\n",
       "       [0.79952667, 0.03187349, 0.16859984],\n",
       "       [0.03463321, 0.42531918, 0.54004762]])"
      ]
     },
     "execution_count": 16,
     "metadata": {},
     "output_type": "execute_result"
    }
   ],
   "source": [
    "lda_model_hurricane.fit_transform(hurricane_text_vectorized)"
   ]
  },
  {
   "cell_type": "code",
   "execution_count": 17,
   "id": "1a641d52",
   "metadata": {
    "execution": {
     "iopub.execute_input": "2022-08-07T03:16:01.430906Z",
     "iopub.status.busy": "2022-08-07T03:16:01.430906Z",
     "iopub.status.idle": "2022-08-07T03:16:01.456091Z",
     "shell.execute_reply": "2022-08-07T03:16:01.456091Z"
    },
    "papermill": {
     "duration": 0.047184,
     "end_time": "2022-08-07T03:16:01.458196",
     "exception": false,
     "start_time": "2022-08-07T03:16:01.411012",
     "status": "completed"
    },
    "tags": []
   },
   "outputs": [],
   "source": [
    "with open(product['lda_model_earthquake'], \"wb\") as f:\n",
    "    pickle.dump(lda_model_earthquake, f)\n",
    "with open(product['lda_model_fire'], \"wb\") as f:\n",
    "    pickle.dump(lda_model_fire, f)\n",
    "with open(product['lda_model_flood'], \"wb\") as f:\n",
    "    pickle.dump(lda_model_flood, f)\n",
    "with open(product['lda_model_hurricane'], \"wb\") as f:\n",
    "    pickle.dump(lda_model_hurricane, f)"
   ]
  },
  {
   "cell_type": "markdown",
   "id": "7618ce6d",
   "metadata": {
    "papermill": {
     "duration": 0.0,
     "end_time": "2022-08-07T03:16:01.459897",
     "exception": false,
     "start_time": "2022-08-07T03:16:01.459897",
     "status": "completed"
    },
    "tags": []
   },
   "source": [
    "## Performance Stats"
   ]
  },
  {
   "cell_type": "code",
   "execution_count": 18,
   "id": "b284c613",
   "metadata": {
    "execution": {
     "iopub.execute_input": "2022-08-07T03:16:01.475951Z",
     "iopub.status.busy": "2022-08-07T03:16:01.475951Z",
     "iopub.status.idle": "2022-08-07T03:16:13.886810Z",
     "shell.execute_reply": "2022-08-07T03:16:13.885862Z"
    },
    "papermill": {
     "duration": 12.412924,
     "end_time": "2022-08-07T03:16:13.888875",
     "exception": false,
     "start_time": "2022-08-07T03:16:01.475951",
     "status": "completed"
    },
    "tags": []
   },
   "outputs": [
    {
     "name": "stdout",
     "output_type": "stream",
     "text": [
      "Log Likelihood Earthquake:  -489957.40154870134\n"
     ]
    },
    {
     "name": "stdout",
     "output_type": "stream",
     "text": [
      "Log Likelihood Fire:  -849270.4203478852\n"
     ]
    },
    {
     "name": "stdout",
     "output_type": "stream",
     "text": [
      "Log Likelihood Flood:  -1017564.9037416613\n"
     ]
    },
    {
     "name": "stdout",
     "output_type": "stream",
     "text": [
      "Log Likelihood Hurricane:  -3202283.332471243\n"
     ]
    },
    {
     "name": "stdout",
     "output_type": "stream",
     "text": [
      "Perplexity Earthquake:  1545.0721822945434\n"
     ]
    },
    {
     "name": "stdout",
     "output_type": "stream",
     "text": [
      "Perplexity Fire:  1653.9649026362408\n"
     ]
    },
    {
     "name": "stdout",
     "output_type": "stream",
     "text": [
      "Perplexity Flood:  1798.3129541093047\n"
     ]
    },
    {
     "name": "stdout",
     "output_type": "stream",
     "text": [
      "Perplexity Hurricane:  1895.7263098863632\n"
     ]
    }
   ],
   "source": [
    "# Log Likelyhood: Higher the better\n",
    "print(\"Log Likelihood Earthquake: \", lda_model_earthquake.score(earthquake_text_vectorized))\n",
    "print(\"Log Likelihood Fire: \", lda_model_fire.score(fire_text_vectorized))\n",
    "print(\"Log Likelihood Flood: \", lda_model_flood.score(flood_text_vectorized))\n",
    "print(\"Log Likelihood Hurricane: \", lda_model_hurricane.score(hurricane_text_vectorized))\n",
    "\n",
    "# Perplexity: Lower the better. Perplexity = exp(-1. * log-likelihood per word)\n",
    "print(\"Perplexity Earthquake: \", lda_model_earthquake.perplexity(earthquake_text_vectorized))\n",
    "print(\"Perplexity Fire: \", lda_model_fire.perplexity(fire_text_vectorized))\n",
    "print(\"Perplexity Flood: \", lda_model_flood.perplexity(flood_text_vectorized))\n",
    "print(\"Perplexity Hurricane: \", lda_model_hurricane.perplexity(hurricane_text_vectorized))"
   ]
  },
  {
   "cell_type": "markdown",
   "id": "386d9ab4",
   "metadata": {
    "papermill": {
     "duration": 0.007681,
     "end_time": "2022-08-07T03:16:13.902460",
     "exception": false,
     "start_time": "2022-08-07T03:16:13.894779",
     "status": "completed"
    },
    "tags": []
   },
   "source": [
    "## Extract Topic Keywords"
   ]
  },
  {
   "cell_type": "code",
   "execution_count": 19,
   "id": "1a462d7c",
   "metadata": {
    "execution": {
     "iopub.execute_input": "2022-08-07T03:16:13.916846Z",
     "iopub.status.busy": "2022-08-07T03:16:13.915839Z",
     "iopub.status.idle": "2022-08-07T03:16:13.979116Z",
     "shell.execute_reply": "2022-08-07T03:16:13.979116Z"
    },
    "lines_to_next_cell": 0,
    "papermill": {
     "duration": 0.072712,
     "end_time": "2022-08-07T03:16:13.981115",
     "exception": false,
     "start_time": "2022-08-07T03:16:13.908403",
     "status": "completed"
    },
    "tags": []
   },
   "outputs": [
    {
     "name": "stderr",
     "output_type": "stream",
     "text": [
      "C:\\Users\\gillrobe\\AppData\\Local\\pypoetry\\Cache\\virtualenvs\\data-medics-capstone-E3RTzdp6-py3.9\\lib\\site-packages\\sklearn\\utils\\deprecation.py:87: FutureWarning: Function get_feature_names is deprecated; get_feature_names is deprecated in 1.0 and will be removed in 1.2. Please use get_feature_names_out instead.\n",
      "  warnings.warn(msg, category=FutureWarning)\n",
      "C:\\Users\\gillrobe\\AppData\\Local\\pypoetry\\Cache\\virtualenvs\\data-medics-capstone-E3RTzdp6-py3.9\\lib\\site-packages\\sklearn\\utils\\deprecation.py:87: FutureWarning: Function get_feature_names is deprecated; get_feature_names is deprecated in 1.0 and will be removed in 1.2. Please use get_feature_names_out instead.\n",
      "  warnings.warn(msg, category=FutureWarning)\n",
      "C:\\Users\\gillrobe\\AppData\\Local\\pypoetry\\Cache\\virtualenvs\\data-medics-capstone-E3RTzdp6-py3.9\\lib\\site-packages\\sklearn\\utils\\deprecation.py:87: FutureWarning: Function get_feature_names is deprecated; get_feature_names is deprecated in 1.0 and will be removed in 1.2. Please use get_feature_names_out instead.\n",
      "  warnings.warn(msg, category=FutureWarning)\n",
      "C:\\Users\\gillrobe\\AppData\\Local\\pypoetry\\Cache\\virtualenvs\\data-medics-capstone-E3RTzdp6-py3.9\\lib\\site-packages\\sklearn\\utils\\deprecation.py:87: FutureWarning: Function get_feature_names is deprecated; get_feature_names is deprecated in 1.0 and will be removed in 1.2. Please use get_feature_names_out instead.\n",
      "  warnings.warn(msg, category=FutureWarning)\n"
     ]
    },
    {
     "data": {
      "text/html": [
       "<div>\n",
       "<style scoped>\n",
       "    .dataframe tbody tr th:only-of-type {\n",
       "        vertical-align: middle;\n",
       "    }\n",
       "\n",
       "    .dataframe tbody tr th {\n",
       "        vertical-align: top;\n",
       "    }\n",
       "\n",
       "    .dataframe thead th {\n",
       "        text-align: right;\n",
       "    }\n",
       "</style>\n",
       "<table border=\"1\" class=\"dataframe\">\n",
       "  <thead>\n",
       "    <tr style=\"text-align: right;\">\n",
       "      <th></th>\n",
       "      <th>earthquake_Topic 0</th>\n",
       "      <th>earthquake_Topic 1</th>\n",
       "      <th>earthquake_Topic 2</th>\n",
       "      <th>fire_Topic 0</th>\n",
       "      <th>fire_Topic 1</th>\n",
       "      <th>fire_Topic 2</th>\n",
       "      <th>flood_Topic 0</th>\n",
       "      <th>flood_Topic 1</th>\n",
       "      <th>flood_Topic 2</th>\n",
       "      <th>hurricane_Topic 0</th>\n",
       "      <th>hurricane_Topic 1</th>\n",
       "      <th>hurricane_Topic 2</th>\n",
       "    </tr>\n",
       "  </thead>\n",
       "  <tbody>\n",
       "    <tr>\n",
       "      <th>Word 0</th>\n",
       "      <td>prayer</td>\n",
       "      <td>help</td>\n",
       "      <td>pray</td>\n",
       "      <td>death</td>\n",
       "      <td>help</td>\n",
       "      <td>home</td>\n",
       "      <td>help</td>\n",
       "      <td>relief</td>\n",
       "      <td>flooding</td>\n",
       "      <td>damage</td>\n",
       "      <td>help</td>\n",
       "      <td>need</td>\n",
       "    </tr>\n",
       "    <tr>\n",
       "      <th>Word 1</th>\n",
       "      <td>safe</td>\n",
       "      <td>donate</td>\n",
       "      <td>damage</td>\n",
       "      <td>toll</td>\n",
       "      <td>victim</td>\n",
       "      <td>lose</td>\n",
       "      <td>need</td>\n",
       "      <td>donate</td>\n",
       "      <td>state</td>\n",
       "      <td>storm</td>\n",
       "      <td>relief</td>\n",
       "      <td>help</td>\n",
       "    </tr>\n",
       "    <tr>\n",
       "      <th>Word 2</th>\n",
       "      <td>injure</td>\n",
       "      <td>death</td>\n",
       "      <td>aftershock</td>\n",
       "      <td>death toll</td>\n",
       "      <td>donate</td>\n",
       "      <td>destroy</td>\n",
       "      <td>relief</td>\n",
       "      <td>victim</td>\n",
       "      <td>damage</td>\n",
       "      <td>evacuation</td>\n",
       "      <td>cyclone</td>\n",
       "      <td>food</td>\n",
       "    </tr>\n",
       "    <tr>\n",
       "      <th>Word 3</th>\n",
       "      <td>thought</td>\n",
       "      <td>victim</td>\n",
       "      <td>building</td>\n",
       "      <td>camp</td>\n",
       "      <td>camp</td>\n",
       "      <td>burn</td>\n",
       "      <td>rescue</td>\n",
       "      <td>fund</td>\n",
       "      <td>disaster</td>\n",
       "      <td>destroy</td>\n",
       "      <td>donate</td>\n",
       "      <td>pray</td>\n",
       "    </tr>\n",
       "    <tr>\n",
       "      <th>Word 4</th>\n",
       "      <td>affect</td>\n",
       "      <td>rescue</td>\n",
       "      <td>area</td>\n",
       "      <td>dead</td>\n",
       "      <td>relief</td>\n",
       "      <td>many</td>\n",
       "      <td>food</td>\n",
       "      <td>help</td>\n",
       "      <td>year</td>\n",
       "      <td>wind</td>\n",
       "      <td>affect</td>\n",
       "      <td>shelter</td>\n",
       "    </tr>\n",
       "  </tbody>\n",
       "</table>\n",
       "</div>"
      ],
      "text/plain": [
       "       earthquake_Topic 0 earthquake_Topic 1 earthquake_Topic 2 fire_Topic 0  \\\n",
       "Word 0             prayer               help               pray        death   \n",
       "Word 1               safe             donate             damage         toll   \n",
       "Word 2             injure              death         aftershock   death toll   \n",
       "Word 3            thought             victim           building         camp   \n",
       "Word 4             affect             rescue               area         dead   \n",
       "\n",
       "       fire_Topic 1 fire_Topic 2 flood_Topic 0 flood_Topic 1 flood_Topic 2  \\\n",
       "Word 0         help         home          help        relief      flooding   \n",
       "Word 1       victim         lose          need        donate         state   \n",
       "Word 2       donate      destroy        relief        victim        damage   \n",
       "Word 3         camp         burn        rescue          fund      disaster   \n",
       "Word 4       relief         many          food          help          year   \n",
       "\n",
       "       hurricane_Topic 0 hurricane_Topic 1 hurricane_Topic 2  \n",
       "Word 0            damage              help              need  \n",
       "Word 1             storm            relief              help  \n",
       "Word 2        evacuation           cyclone              food  \n",
       "Word 3           destroy            donate              pray  \n",
       "Word 4              wind            affect           shelter  "
      ]
     },
     "execution_count": 19,
     "metadata": {},
     "output_type": "execute_result"
    }
   ],
   "source": [
    "topics_earthquake = pd.DataFrame(show_topics(fitted_vectorizer=vectorizer, fitted_lda_model=lda_model_earthquake, n_words=100, dname='earthquake'))\n",
    "topics_fire = pd.DataFrame(show_topics(fitted_vectorizer=vectorizer, fitted_lda_model=lda_model_fire, n_words=100, dname='fire'))\n",
    "topics_flood = pd.DataFrame(show_topics(fitted_vectorizer=vectorizer, fitted_lda_model=lda_model_flood, n_words=100, dname='flood'))\n",
    "topics_hurricane = pd.DataFrame(show_topics(fitted_vectorizer=vectorizer, fitted_lda_model=lda_model_hurricane, n_words=100, dname='hurricane'))\n",
    "\n",
    "df_topic_keywords = pd.concat([topics_earthquake,topics_fire,topics_flood,topics_hurricane],axis=0)\n",
    "    # df_topic_keywords.columns = ['Word '+str(i) for i in range(df_topic_keywords.shape[1])]\n",
    "    # df_topic_keywords.index = ['Topic '+str(i) for i in range(df_topic_keywords.shape[0])]\n",
    "df_topic_keywords = df_topic_keywords.transpose()\n",
    "df_topic_keywords.head()"
   ]
  },
  {
   "cell_type": "code",
   "execution_count": null,
   "id": "991be03d",
   "metadata": {
    "lines_to_next_cell": 2,
    "papermill": {
     "duration": 0.007866,
     "end_time": "2022-08-07T03:16:13.994981",
     "exception": false,
     "start_time": "2022-08-07T03:16:13.987115",
     "status": "completed"
    },
    "tags": []
   },
   "outputs": [],
   "source": []
  },
  {
   "cell_type": "code",
   "execution_count": 20,
   "id": "068fde01",
   "metadata": {
    "execution": {
     "iopub.execute_input": "2022-08-07T03:16:14.014245Z",
     "iopub.status.busy": "2022-08-07T03:16:14.014245Z",
     "iopub.status.idle": "2022-08-07T03:16:14.025953Z",
     "shell.execute_reply": "2022-08-07T03:16:14.025443Z"
    },
    "papermill": {
     "duration": 0.022812,
     "end_time": "2022-08-07T03:16:14.027826",
     "exception": false,
     "start_time": "2022-08-07T03:16:14.005014",
     "status": "completed"
    },
    "tags": []
   },
   "outputs": [],
   "source": [
    "df_topic_keywords.to_csv(product['lda_topics_disaster_type'])"
   ]
  },
  {
   "cell_type": "code",
   "execution_count": null,
   "id": "0dd68ec5",
   "metadata": {
    "papermill": {
     "duration": 0.006487,
     "end_time": "2022-08-07T03:16:14.041356",
     "exception": false,
     "start_time": "2022-08-07T03:16:14.034869",
     "status": "completed"
    },
    "tags": []
   },
   "outputs": [],
   "source": []
  }
 ],
 "metadata": {
  "jupytext": {
   "cell_metadata_filter": "tags,-all",
   "main_language": "python",
   "notebook_metadata_filter": "-all",
   "text_representation": {
    "extension": ".py",
    "format_name": "light"
   }
  },
  "kernelspec": {
   "display_name": "Python 3 (ipykernel)",
   "language": "python",
   "name": "python3"
  },
  "language_info": {
   "codemirror_mode": {
    "name": "ipython",
    "version": 3
   },
   "file_extension": ".py",
   "mimetype": "text/x-python",
   "name": "python",
   "nbconvert_exporter": "python",
   "pygments_lexer": "ipython3",
   "version": "3.9.13"
  },
  "papermill": {
   "duration": 251.032168,
   "end_time": "2022-08-07T03:16:14.728247",
   "exception": null,
   "input_path": "C:\\Users\\gillrobe\\AppData\\Local\\Temp\\tmplpl3m2n3.ipynb",
   "output_path": "C:\\Users\\gillrobe\\DataScience\\umads_697_data_medics\\pipeline\\output\\topic_modeling_disaster_type_final.ipynb",
   "parameters": {
    "product": {
     "lda_model_earthquake": "C:\\Users\\gillrobe\\DataScience\\umads_697_data_medics\\pipeline\\output\\lda_model_earthquake.pkl",
     "lda_model_fire": "C:\\Users\\gillrobe\\DataScience\\umads_697_data_medics\\pipeline\\output\\lda_model_fire.pkl",
     "lda_model_flood": "C:\\Users\\gillrobe\\DataScience\\umads_697_data_medics\\pipeline\\output\\lda_model_flood.pkl",
     "lda_model_hurricane": "C:\\Users\\gillrobe\\DataScience\\umads_697_data_medics\\pipeline\\output\\lda_model_hurricane.pkl",
     "lda_topics_disaster_type": "C:\\Users\\gillrobe\\DataScience\\umads_697_data_medics\\pipeline\\output\\lda_topics_disaster_type.csv",
     "nb": "C:\\Users\\gillrobe\\DataScience\\umads_697_data_medics\\pipeline\\output\\topic_modeling_disaster_type_final.ipynb"
    },
    "random_seed": 42,
    "upstream": {
     "vectorizer_countVec": {
      "nb": "C:\\Users\\gillrobe\\DataScience\\umads_697_data_medics\\pipeline\\output\\vectorizer_countVec.ipynb",
      "vectorizer": "C:\\Users\\gillrobe\\DataScience\\umads_697_data_medics\\pipeline\\output\\vectorizer_countVec.pkl"
     }
    }
   },
   "start_time": "2022-08-07T03:12:03.696079"
  }
 },
 "nbformat": 4,
 "nbformat_minor": 5
}