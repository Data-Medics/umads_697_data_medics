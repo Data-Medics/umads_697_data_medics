{
 "cells": [
  {
   "cell_type": "code",
   "execution_count": 1,
   "id": "d6354959",
   "metadata": {
    "execution": {
     "iopub.execute_input": "2022-08-04T04:56:28.153056Z",
     "iopub.status.busy": "2022-08-04T04:56:28.153056Z",
     "iopub.status.idle": "2022-08-04T04:56:28.177273Z",
     "shell.execute_reply": "2022-08-04T04:56:28.176771Z"
    },
    "lines_to_next_cell": 2,
    "papermill": {
     "duration": 0.030807,
     "end_time": "2022-08-04T04:56:28.177273",
     "exception": false,
     "start_time": "2022-08-04T04:56:28.146466",
     "status": "completed"
    },
    "tags": [
     "parameters"
    ]
   },
   "outputs": [],
   "source": [
    "# declare a list tasks whose products you want to use as inputs\n",
    "upstream = ['vectorizer_countVec']"
   ]
  },
  {
   "cell_type": "code",
   "execution_count": 2,
   "id": "c9c28885",
   "metadata": {
    "execution": {
     "iopub.execute_input": "2022-08-04T04:56:28.192603Z",
     "iopub.status.busy": "2022-08-04T04:56:28.191509Z",
     "iopub.status.idle": "2022-08-04T04:56:28.211606Z",
     "shell.execute_reply": "2022-08-04T04:56:28.211606Z"
    },
    "papermill": {
     "duration": 0.027631,
     "end_time": "2022-08-04T04:56:28.211606",
     "exception": false,
     "start_time": "2022-08-04T04:56:28.183975",
     "status": "completed"
    },
    "tags": [
     "injected-parameters"
    ]
   },
   "outputs": [],
   "source": [
    "# Parameters\n",
    "random_seed = 42\n",
    "upstream = {\n",
    "    \"vectorizer_countVec\": {\n",
    "        \"nb\": \"C:\\\\Users\\\\gillrobe\\\\DataScience\\\\umads_697_data_medics\\\\pipeline\\\\output\\\\vectorizer_countVec.ipynb\",\n",
    "        \"vectorizer\": \"C:\\\\Users\\\\gillrobe\\\\DataScience\\\\umads_697_data_medics\\\\pipeline\\\\output\\\\vectorizer_countVec.pkl\",\n",
    "    }\n",
    "}\n",
    "product = {\n",
    "    \"nb\": \"C:\\\\Users\\\\gillrobe\\\\DataScience\\\\umads_697_data_medics\\\\pipeline\\\\output\\\\topic_modeling_disaster_type_final.ipynb\",\n",
    "    \"lda_model_earthquake\": \"C:\\\\Users\\\\gillrobe\\\\DataScience\\\\umads_697_data_medics\\\\pipeline\\\\output\\\\lda_model_earthquake.pkl\",\n",
    "    \"lda_model_fire\": \"C:\\\\Users\\\\gillrobe\\\\DataScience\\\\umads_697_data_medics\\\\pipeline\\\\output\\\\lda_model_fire.pkl\",\n",
    "    \"lda_model_flood\": \"C:\\\\Users\\\\gillrobe\\\\DataScience\\\\umads_697_data_medics\\\\pipeline\\\\output\\\\lda_model_flood.pkl\",\n",
    "    \"lda_model_hurricane\": \"C:\\\\Users\\\\gillrobe\\\\DataScience\\\\umads_697_data_medics\\\\pipeline\\\\output\\\\lda_model_hurricane.pkl\",\n",
    "    \"lda_topics_disaster_type\": \"C:\\\\Users\\\\gillrobe\\\\DataScience\\\\umads_697_data_medics\\\\pipeline\\\\output\\\\lda_topics_disaster_type.csv\",\n",
    "}\n"
   ]
  },
  {
   "cell_type": "markdown",
   "id": "02b190ac",
   "metadata": {
    "papermill": {
     "duration": 0.003684,
     "end_time": "2022-08-04T04:56:28.223285",
     "exception": false,
     "start_time": "2022-08-04T04:56:28.219601",
     "status": "completed"
    },
    "tags": []
   },
   "source": [
    "importing all the functions defined in tools_rjg.py"
   ]
  },
  {
   "cell_type": "code",
   "execution_count": 3,
   "id": "18862ddc",
   "metadata": {
    "execution": {
     "iopub.execute_input": "2022-08-04T04:56:28.232503Z",
     "iopub.status.busy": "2022-08-04T04:56:28.232503Z",
     "iopub.status.idle": "2022-08-04T04:56:33.466898Z",
     "shell.execute_reply": "2022-08-04T04:56:33.466898Z"
    },
    "papermill": {
     "duration": 5.23984,
     "end_time": "2022-08-04T04:56:33.466898",
     "exception": false,
     "start_time": "2022-08-04T04:56:28.227058",
     "status": "completed"
    },
    "tags": []
   },
   "outputs": [],
   "source": [
    "from tools_rjg import *"
   ]
  },
  {
   "cell_type": "code",
   "execution_count": 4,
   "id": "c60c1b42",
   "metadata": {
    "execution": {
     "iopub.execute_input": "2022-08-04T04:56:33.481468Z",
     "iopub.status.busy": "2022-08-04T04:56:33.481468Z",
     "iopub.status.idle": "2022-08-04T04:56:34.501479Z",
     "shell.execute_reply": "2022-08-04T04:56:34.501479Z"
    },
    "papermill": {
     "duration": 1.02723,
     "end_time": "2022-08-04T04:56:34.501479",
     "exception": false,
     "start_time": "2022-08-04T04:56:33.474249",
     "status": "completed"
    },
    "tags": []
   },
   "outputs": [
    {
     "name": "stderr",
     "output_type": "stream",
     "text": [
      "[nltk_data] Downloading package punkt to\n",
      "[nltk_data]     C:\\Users\\gillrobe\\AppData\\Roaming\\nltk_data...\n",
      "[nltk_data]   Package punkt is already up-to-date!\n"
     ]
    }
   ],
   "source": [
    "import numpy as np\n",
    "import pandas as pd\n",
    "import re, nltk, spacy, gensim\n",
    "from nltk.stem.porter import PorterStemmer\n",
    "from nltk.corpus import stopwords\n",
    "from nltk.tokenize import word_tokenize\n",
    "from sklearn.decomposition import LatentDirichletAllocation\n",
    "nltk.download('punkt')\n",
    "from gensim.corpora import Dictionary\n",
    "from tqdm import tqdm\n",
    "import os\n",
    "from gensim.models import LdaModel\n",
    "from sklearn.model_selection import train_test_split\n",
    "from sklearn.linear_model import LogisticRegression\n",
    "from sklearn.metrics import f1_score\n",
    "import scikitplot as skplt\n",
    "from sklearn.metrics import (precision_recall_curve,PrecisionRecallDisplay)\n",
    "from sklearn.metrics import confusion_matrix\n",
    "import pickle"
   ]
  },
  {
   "cell_type": "code",
   "execution_count": 5,
   "id": "8dbe8f5e",
   "metadata": {
    "execution": {
     "iopub.execute_input": "2022-08-04T04:56:34.510051Z",
     "iopub.status.busy": "2022-08-04T04:56:34.510051Z",
     "iopub.status.idle": "2022-08-04T04:56:34.525785Z",
     "shell.execute_reply": "2022-08-04T04:56:34.525785Z"
    },
    "papermill": {
     "duration": 0.015734,
     "end_time": "2022-08-04T04:56:34.525785",
     "exception": false,
     "start_time": "2022-08-04T04:56:34.510051",
     "status": "completed"
    },
    "tags": []
   },
   "outputs": [],
   "source": [
    "from sklearn.decomposition import LatentDirichletAllocation, TruncatedSVD\n",
    "from sklearn.feature_extraction.text import CountVectorizer, TfidfVectorizer\n",
    "from sklearn.model_selection import GridSearchCV\n",
    "from pprint import pprint"
   ]
  },
  {
   "cell_type": "code",
   "execution_count": 6,
   "id": "bb262d81",
   "metadata": {
    "execution": {
     "iopub.execute_input": "2022-08-04T04:56:34.547200Z",
     "iopub.status.busy": "2022-08-04T04:56:34.547200Z",
     "iopub.status.idle": "2022-08-04T04:56:34.620102Z",
     "shell.execute_reply": "2022-08-04T04:56:34.619771Z"
    },
    "papermill": {
     "duration": 0.078255,
     "end_time": "2022-08-04T04:56:34.620102",
     "exception": false,
     "start_time": "2022-08-04T04:56:34.541847",
     "status": "completed"
    },
    "tags": []
   },
   "outputs": [],
   "source": [
    "import matplotlib.pyplot as plt\n",
    "%matplotlib inline"
   ]
  },
  {
   "cell_type": "code",
   "execution_count": 7,
   "id": "b12cd4ec",
   "metadata": {
    "execution": {
     "iopub.execute_input": "2022-08-04T04:56:34.620102Z",
     "iopub.status.busy": "2022-08-04T04:56:34.620102Z",
     "iopub.status.idle": "2022-08-04T04:56:34.651922Z",
     "shell.execute_reply": "2022-08-04T04:56:34.651804Z"
    },
    "papermill": {
     "duration": 0.03182,
     "end_time": "2022-08-04T04:56:34.651922",
     "exception": false,
     "start_time": "2022-08-04T04:56:34.620102",
     "status": "completed"
    },
    "tags": []
   },
   "outputs": [],
   "source": [
    "# + tags=[\"parameters\"]\n",
    "upstream = []\n",
    "random_seed = 42"
   ]
  },
  {
   "cell_type": "code",
   "execution_count": null,
   "id": "a7e31452",
   "metadata": {
    "lines_to_next_cell": 2,
    "papermill": {
     "duration": 0.013432,
     "end_time": "2022-08-04T04:56:34.665354",
     "exception": false,
     "start_time": "2022-08-04T04:56:34.651922",
     "status": "completed"
    },
    "tags": []
   },
   "outputs": [],
   "source": []
  },
  {
   "cell_type": "code",
   "execution_count": 8,
   "id": "fd750f01",
   "metadata": {
    "execution": {
     "iopub.execute_input": "2022-08-04T04:56:34.683121Z",
     "iopub.status.busy": "2022-08-04T04:56:34.683121Z",
     "iopub.status.idle": "2022-08-04T04:56:35.000177Z",
     "shell.execute_reply": "2022-08-04T04:56:35.000177Z"
    },
    "papermill": {
     "duration": 0.334823,
     "end_time": "2022-08-04T04:56:35.000177",
     "exception": false,
     "start_time": "2022-08-04T04:56:34.665354",
     "status": "completed"
    },
    "tags": []
   },
   "outputs": [],
   "source": [
    "df_all = generate_disaster_type_dataframe(disaster_types = ('earthquake', 'fire', 'flood', 'hurricane')\n",
    "                                          , dev_train_test= ('dev', 'train', 'test'))"
   ]
  },
  {
   "cell_type": "code",
   "execution_count": null,
   "id": "681f588b",
   "metadata": {
    "lines_to_next_cell": 2,
    "papermill": {
     "duration": 0.005209,
     "end_time": "2022-08-04T04:56:35.012157",
     "exception": false,
     "start_time": "2022-08-04T04:56:35.006948",
     "status": "completed"
    },
    "tags": []
   },
   "outputs": [],
   "source": []
  },
  {
   "cell_type": "code",
   "execution_count": 9,
   "id": "4a0dd16d",
   "metadata": {
    "execution": {
     "iopub.execute_input": "2022-08-04T04:56:35.022030Z",
     "iopub.status.busy": "2022-08-04T04:56:35.022030Z",
     "iopub.status.idle": "2022-08-04T04:59:13.931277Z",
     "shell.execute_reply": "2022-08-04T04:59:13.931031Z"
    },
    "papermill": {
     "duration": 158.915839,
     "end_time": "2022-08-04T04:59:13.932888",
     "exception": false,
     "start_time": "2022-08-04T04:56:35.017049",
     "status": "completed"
    },
    "tags": []
   },
   "outputs": [],
   "source": [
    "df_all['tweet_text_cleaned'] = df_all['tweet_text'].apply(lambda x: tweet_preprocessing(x))\n",
    "df_all['lemmatized'] = df_all['tweet_text_cleaned'].apply(lambda x: lemmatize_tweet_text(x, allowed_postags=('NOUN', 'ADJ', 'VERB', 'ADV')))"
   ]
  },
  {
   "cell_type": "code",
   "execution_count": 10,
   "id": "a685ffde",
   "metadata": {
    "execution": {
     "iopub.execute_input": "2022-08-04T04:59:13.944463Z",
     "iopub.status.busy": "2022-08-04T04:59:13.944463Z",
     "iopub.status.idle": "2022-08-04T04:59:14.000657Z",
     "shell.execute_reply": "2022-08-04T04:59:14.000009Z"
    },
    "papermill": {
     "duration": 0.065096,
     "end_time": "2022-08-04T04:59:14.004037",
     "exception": false,
     "start_time": "2022-08-04T04:59:13.938941",
     "status": "completed"
    },
    "tags": []
   },
   "outputs": [
    {
     "data": {
      "text/html": [
       "<div>\n",
       "<style scoped>\n",
       "    .dataframe tbody tr th:only-of-type {\n",
       "        vertical-align: middle;\n",
       "    }\n",
       "\n",
       "    .dataframe tbody tr th {\n",
       "        vertical-align: top;\n",
       "    }\n",
       "\n",
       "    .dataframe thead th {\n",
       "        text-align: right;\n",
       "    }\n",
       "</style>\n",
       "<table border=\"1\" class=\"dataframe\">\n",
       "  <thead>\n",
       "    <tr style=\"text-align: right;\">\n",
       "      <th></th>\n",
       "      <th>tweet_id</th>\n",
       "      <th>tweet_text</th>\n",
       "      <th>class_label</th>\n",
       "      <th>disaster_type</th>\n",
       "      <th>tweet_text_cleaned</th>\n",
       "      <th>lemmatized</th>\n",
       "    </tr>\n",
       "  </thead>\n",
       "  <tbody>\n",
       "    <tr>\n",
       "      <th>434</th>\n",
       "      <td>1061497081335033862</td>\n",
       "      <td>Help my strength coach and his community as th...</td>\n",
       "      <td>rescue_volunteering_or_donation_effort</td>\n",
       "      <td>fire</td>\n",
       "      <td>[help, strength, coach, community, their, city...</td>\n",
       "      <td>help strength coach community city be complete...</td>\n",
       "    </tr>\n",
       "    <tr>\n",
       "      <th>2582</th>\n",
       "      <td>907693117750616065</td>\n",
       "      <td>Lines for food in Cuba after Irma</td>\n",
       "      <td>not_humanitarian</td>\n",
       "      <td>hurricane</td>\n",
       "      <td>[lines, food, cuba, after, irma]</td>\n",
       "      <td>line food</td>\n",
       "    </tr>\n",
       "    <tr>\n",
       "      <th>4407</th>\n",
       "      <td>769064313290194944</td>\n",
       "      <td>RT @foodiamo: RT @dreamofitaly Donate to #Ital...</td>\n",
       "      <td>rescue_volunteering_or_donation_effort</td>\n",
       "      <td>earthquake</td>\n",
       "      <td>[donate, italy, earthquake, relief, funds, the...</td>\n",
       "      <td>donate earthquake relief fund then reward virt...</td>\n",
       "    </tr>\n",
       "    <tr>\n",
       "      <th>23645</th>\n",
       "      <td>1108695839747256320</td>\n",
       "      <td>‘The situation is dire, the damage to infrastr...</td>\n",
       "      <td>infrastructure_and_utility_damage</td>\n",
       "      <td>hurricane</td>\n",
       "      <td>[situation, dire, damage, infrastructure, beyo...</td>\n",
       "      <td>situation dire damage infrastructure comprehen...</td>\n",
       "    </tr>\n",
       "    <tr>\n",
       "      <th>1461</th>\n",
       "      <td>1031046376203767809</td>\n",
       "      <td>Gulf Malayalis at flood relief collection poin...</td>\n",
       "      <td>rescue_volunteering_or_donation_effort</td>\n",
       "      <td>flood</td>\n",
       "      <td>[gulf, malayalis, flood, relief, collection, p...</td>\n",
       "      <td>relief collection point dubai hat malayali spi...</td>\n",
       "    </tr>\n",
       "    <tr>\n",
       "      <th>...</th>\n",
       "      <td>...</td>\n",
       "      <td>...</td>\n",
       "      <td>...</td>\n",
       "      <td>...</td>\n",
       "      <td>...</td>\n",
       "      <td>...</td>\n",
       "    </tr>\n",
       "    <tr>\n",
       "      <th>2931</th>\n",
       "      <td>1031438396303048704</td>\n",
       "      <td>Need help to arrange a vehicle from trivandrum...</td>\n",
       "      <td>requests_or_urgent_needs</td>\n",
       "      <td>flood</td>\n",
       "      <td>[need, help, arrange, vehicle, from, trivandru...</td>\n",
       "      <td>need help arrange vehicle item doctor wait con...</td>\n",
       "    </tr>\n",
       "    <tr>\n",
       "      <th>16768</th>\n",
       "      <td>905750943660158981</td>\n",
       "      <td>Hurricane #Irma has killed at least 10 people ...</td>\n",
       "      <td>injured_or_dead_people</td>\n",
       "      <td>hurricane</td>\n",
       "      <td>[hurricane, irma, killed, least, people, dange...</td>\n",
       "      <td>kill least people dangerous category storm con...</td>\n",
       "    </tr>\n",
       "    <tr>\n",
       "      <th>5819</th>\n",
       "      <td>1176531345373315076</td>\n",
       "      <td>May ALLAH help us ! #earthquake</td>\n",
       "      <td>sympathy_and_support</td>\n",
       "      <td>earthquake</td>\n",
       "      <td>[allah, help, earthquake]</td>\n",
       "      <td>help earthquake</td>\n",
       "    </tr>\n",
       "    <tr>\n",
       "      <th>1121</th>\n",
       "      <td>1042060377184452609</td>\n",
       "      <td>In the sky and on the ground! Our helicopter c...</td>\n",
       "      <td>infrastructure_and_utility_damage</td>\n",
       "      <td>hurricane</td>\n",
       "      <td>[ground, helicopter, crews, high, above, helpi...</td>\n",
       "      <td>ground helicopter crew high help assess damage...</td>\n",
       "    </tr>\n",
       "    <tr>\n",
       "      <th>1189</th>\n",
       "      <td>797821001442607104</td>\n",
       "      <td>tsunami waves are starting to hit the east coa...</td>\n",
       "      <td>other_relevant_information</td>\n",
       "      <td>earthquake</td>\n",
       "      <td>[tsunami, waves, starting, east, coast, zealand]</td>\n",
       "      <td>wave start</td>\n",
       "    </tr>\n",
       "  </tbody>\n",
       "</table>\n",
       "<p>100 rows × 6 columns</p>\n",
       "</div>"
      ],
      "text/plain": [
       "                  tweet_id                                         tweet_text  \\\n",
       "434    1061497081335033862  Help my strength coach and his community as th...   \n",
       "2582    907693117750616065                  Lines for food in Cuba after Irma   \n",
       "4407    769064313290194944  RT @foodiamo: RT @dreamofitaly Donate to #Ital...   \n",
       "23645  1108695839747256320  ‘The situation is dire, the damage to infrastr...   \n",
       "1461   1031046376203767809  Gulf Malayalis at flood relief collection poin...   \n",
       "...                    ...                                                ...   \n",
       "2931   1031438396303048704  Need help to arrange a vehicle from trivandrum...   \n",
       "16768   905750943660158981  Hurricane #Irma has killed at least 10 people ...   \n",
       "5819   1176531345373315076                    May ALLAH help us ! #earthquake   \n",
       "1121   1042060377184452609  In the sky and on the ground! Our helicopter c...   \n",
       "1189    797821001442607104  tsunami waves are starting to hit the east coa...   \n",
       "\n",
       "                                  class_label disaster_type  \\\n",
       "434    rescue_volunteering_or_donation_effort          fire   \n",
       "2582                         not_humanitarian     hurricane   \n",
       "4407   rescue_volunteering_or_donation_effort    earthquake   \n",
       "23645       infrastructure_and_utility_damage     hurricane   \n",
       "1461   rescue_volunteering_or_donation_effort         flood   \n",
       "...                                       ...           ...   \n",
       "2931                 requests_or_urgent_needs         flood   \n",
       "16768                  injured_or_dead_people     hurricane   \n",
       "5819                     sympathy_and_support    earthquake   \n",
       "1121        infrastructure_and_utility_damage     hurricane   \n",
       "1189               other_relevant_information    earthquake   \n",
       "\n",
       "                                      tweet_text_cleaned  \\\n",
       "434    [help, strength, coach, community, their, city...   \n",
       "2582                    [lines, food, cuba, after, irma]   \n",
       "4407   [donate, italy, earthquake, relief, funds, the...   \n",
       "23645  [situation, dire, damage, infrastructure, beyo...   \n",
       "1461   [gulf, malayalis, flood, relief, collection, p...   \n",
       "...                                                  ...   \n",
       "2931   [need, help, arrange, vehicle, from, trivandru...   \n",
       "16768  [hurricane, irma, killed, least, people, dange...   \n",
       "5819                           [allah, help, earthquake]   \n",
       "1121   [ground, helicopter, crews, high, above, helpi...   \n",
       "1189    [tsunami, waves, starting, east, coast, zealand]   \n",
       "\n",
       "                                              lemmatized  \n",
       "434    help strength coach community city be complete...  \n",
       "2582                                           line food  \n",
       "4407   donate earthquake relief fund then reward virt...  \n",
       "23645  situation dire damage infrastructure comprehen...  \n",
       "1461   relief collection point dubai hat malayali spi...  \n",
       "...                                                  ...  \n",
       "2931   need help arrange vehicle item doctor wait con...  \n",
       "16768  kill least people dangerous category storm con...  \n",
       "5819                                     help earthquake  \n",
       "1121   ground helicopter crew high help assess damage...  \n",
       "1189                                          wave start  \n",
       "\n",
       "[100 rows x 6 columns]"
      ]
     },
     "execution_count": 10,
     "metadata": {},
     "output_type": "execute_result"
    }
   ],
   "source": [
    "df_all.sample(100)"
   ]
  },
  {
   "cell_type": "markdown",
   "id": "d75c3659",
   "metadata": {
    "papermill": {
     "duration": 0.00723,
     "end_time": "2022-08-04T04:59:14.019658",
     "exception": false,
     "start_time": "2022-08-04T04:59:14.012428",
     "status": "completed"
    },
    "tags": []
   },
   "source": [
    "## LDA Model"
   ]
  },
  {
   "cell_type": "code",
   "execution_count": 11,
   "id": "7e339ed4",
   "metadata": {
    "execution": {
     "iopub.execute_input": "2022-08-04T04:59:14.036626Z",
     "iopub.status.busy": "2022-08-04T04:59:14.036008Z",
     "iopub.status.idle": "2022-08-04T04:59:14.046636Z",
     "shell.execute_reply": "2022-08-04T04:59:14.045999Z"
    },
    "lines_to_next_cell": 2,
    "papermill": {
     "duration": 0.02248,
     "end_time": "2022-08-04T04:59:14.048716",
     "exception": false,
     "start_time": "2022-08-04T04:59:14.026236",
     "status": "completed"
    },
    "tags": []
   },
   "outputs": [],
   "source": [
    "params_earthquake = {'n_components' : 3,\n",
    "          'max_iter' : 10,\n",
    "          'learning_method' : 'online',\n",
    "          'random_state' : random_seed,\n",
    "          'batch_size' : 128,\n",
    "          'evaluate_every' : -1,\n",
    "          'n_jobs' : 1,\n",
    "          'learning_decay' : .5}\n",
    "\n",
    "params_fire = {'n_components' : 3,\n",
    "          'max_iter' : 10,\n",
    "          'learning_method' : 'online',\n",
    "          'random_state' : random_seed,\n",
    "          'batch_size' : 128,\n",
    "          'evaluate_every' : -1,\n",
    "          'n_jobs' : 1,\n",
    "          'learning_decay' : .5}\n",
    "\n",
    "params_flood = {'n_components' : 3,\n",
    "          'max_iter' : 10,\n",
    "          'learning_method' : 'online',\n",
    "          'random_state' : random_seed,\n",
    "          'batch_size' : 128,\n",
    "          'evaluate_every' : -1,\n",
    "          'n_jobs' : 1,\n",
    "          'learning_decay' : .5}\n",
    "\n",
    "params_hurricane = {'n_components' : 3,\n",
    "          'max_iter' : 10,\n",
    "          'learning_method' : 'online',\n",
    "          'random_state' : random_seed,\n",
    "          'batch_size' : 128,\n",
    "          'evaluate_every' : -1,\n",
    "          'n_jobs' : 1,\n",
    "          'learning_decay' : .5}\n",
    "\n",
    "lda_model_earthquake = LatentDirichletAllocation(**params_earthquake)\n",
    "lda_model_fire = LatentDirichletAllocation(**params_fire)\n",
    "lda_model_flood = LatentDirichletAllocation(**params_flood)\n",
    "lda_model_hurricane = LatentDirichletAllocation(**params_hurricane)\n"
   ]
  },
  {
   "cell_type": "code",
   "execution_count": 12,
   "id": "f2eeace7",
   "metadata": {
    "execution": {
     "iopub.execute_input": "2022-08-04T04:59:14.066759Z",
     "iopub.status.busy": "2022-08-04T04:59:14.066112Z",
     "iopub.status.idle": "2022-08-04T04:59:14.167807Z",
     "shell.execute_reply": "2022-08-04T04:59:14.166638Z"
    },
    "papermill": {
     "duration": 0.111447,
     "end_time": "2022-08-04T04:59:14.168639",
     "exception": false,
     "start_time": "2022-08-04T04:59:14.057192",
     "status": "completed"
    },
    "tags": []
   },
   "outputs": [],
   "source": [
    "with open(\"output\\\\vectorizer_countVec.pkl\", \"rb\") as f:\n",
    "    vectorizer = pickle.load(f)"
   ]
  },
  {
   "cell_type": "code",
   "execution_count": 13,
   "id": "fb411399",
   "metadata": {
    "execution": {
     "iopub.execute_input": "2022-08-04T04:59:14.180992Z",
     "iopub.status.busy": "2022-08-04T04:59:14.180992Z",
     "iopub.status.idle": "2022-08-04T04:59:15.268199Z",
     "shell.execute_reply": "2022-08-04T04:59:15.267709Z"
    },
    "papermill": {
     "duration": 1.100469,
     "end_time": "2022-08-04T04:59:15.269108",
     "exception": false,
     "start_time": "2022-08-04T04:59:14.168639",
     "status": "completed"
    },
    "tags": []
   },
   "outputs": [
    {
     "name": "stderr",
     "output_type": "stream",
     "text": [
      "C:\\Users\\gillrobe\\AppData\\Local\\pypoetry\\Cache\\virtualenvs\\data-medics-capstone-E3RTzdp6-py3.9\\lib\\site-packages\\sklearn\\feature_extraction\\text.py:404: UserWarning: Your stop_words may be inconsistent with your preprocessing. Tokenizing the stop words generated tokens ['donate'] not in stop_words.\n",
      "  warnings.warn(\n"
     ]
    }
   ],
   "source": [
    "earthquake_text_vectorized = vectorizer.transform(list(df_all[df_all['disaster_type']=='earthquake']['lemmatized']))\n",
    "fire_text_vectorized = vectorizer.transform(list(df_all[df_all['disaster_type']=='fire']['lemmatized']))\n",
    "flood_text_vectorized = vectorizer.transform(list(df_all[df_all['disaster_type']=='flood']['lemmatized']))\n",
    "hurricane_text_vectorized = vectorizer.transform(list(df_all[df_all['disaster_type']=='hurricane']['lemmatized']))"
   ]
  },
  {
   "cell_type": "code",
   "execution_count": 14,
   "id": "d6c54222",
   "metadata": {
    "execution": {
     "iopub.execute_input": "2022-08-04T04:59:15.285073Z",
     "iopub.status.busy": "2022-08-04T04:59:15.284699Z",
     "iopub.status.idle": "2022-08-04T04:59:21.404106Z",
     "shell.execute_reply": "2022-08-04T04:59:21.403558Z"
    },
    "papermill": {
     "duration": 6.126725,
     "end_time": "2022-08-04T04:59:21.404826",
     "exception": false,
     "start_time": "2022-08-04T04:59:15.278101",
     "status": "completed"
    },
    "tags": []
   },
   "outputs": [
    {
     "data": {
      "text/plain": [
       "array([[0.29154506, 0.03225082, 0.67620412],\n",
       "       [0.86657155, 0.06671199, 0.06671647],\n",
       "       [0.0305357 , 0.64421989, 0.32524441],\n",
       "       ...,\n",
       "       [0.46176972, 0.17212281, 0.36610747],\n",
       "       [0.04169084, 0.7953818 , 0.16292737],\n",
       "       [0.55833641, 0.05615612, 0.38550746]])"
      ]
     },
     "execution_count": 14,
     "metadata": {},
     "output_type": "execute_result"
    }
   ],
   "source": [
    "lda_model_earthquake.fit_transform(earthquake_text_vectorized)"
   ]
  },
  {
   "cell_type": "code",
   "execution_count": 15,
   "id": "2b1a50e5",
   "metadata": {
    "execution": {
     "iopub.execute_input": "2022-08-04T04:59:21.421065Z",
     "iopub.status.busy": "2022-08-04T04:59:21.421065Z",
     "iopub.status.idle": "2022-08-04T04:59:30.450068Z",
     "shell.execute_reply": "2022-08-04T04:59:30.450068Z"
    },
    "papermill": {
     "duration": 9.045242,
     "end_time": "2022-08-04T04:59:30.450068",
     "exception": false,
     "start_time": "2022-08-04T04:59:21.404826",
     "status": "completed"
    },
    "tags": []
   },
   "outputs": [
    {
     "data": {
      "text/plain": [
       "array([[0.16667992, 0.66664368, 0.1666764 ],\n",
       "       [0.03061903, 0.03175387, 0.9376271 ],\n",
       "       [0.04917578, 0.90140837, 0.04941586],\n",
       "       ...,\n",
       "       [0.49029856, 0.32447723, 0.18522422],\n",
       "       [0.93192557, 0.03466824, 0.0334062 ],\n",
       "       [0.01261004, 0.16977242, 0.81761754]])"
      ]
     },
     "execution_count": 15,
     "metadata": {},
     "output_type": "execute_result"
    }
   ],
   "source": [
    "lda_model_fire.fit_transform(fire_text_vectorized)"
   ]
  },
  {
   "cell_type": "code",
   "execution_count": 16,
   "id": "c9696c9b",
   "metadata": {
    "execution": {
     "iopub.execute_input": "2022-08-04T04:59:30.463722Z",
     "iopub.status.busy": "2022-08-04T04:59:30.463722Z",
     "iopub.status.idle": "2022-08-04T04:59:40.620994Z",
     "shell.execute_reply": "2022-08-04T04:59:40.620994Z"
    },
    "papermill": {
     "duration": 10.159406,
     "end_time": "2022-08-04T04:59:40.623128",
     "exception": false,
     "start_time": "2022-08-04T04:59:30.463722",
     "status": "completed"
    },
    "tags": []
   },
   "outputs": [
    {
     "data": {
      "text/plain": [
       "array([[0.17840612, 0.76961967, 0.05197422],\n",
       "       [0.05453876, 0.77655022, 0.16891101],\n",
       "       [0.37543094, 0.54121059, 0.08335847],\n",
       "       ...,\n",
       "       [0.70572085, 0.05447348, 0.23980567],\n",
       "       [0.08338713, 0.58432106, 0.33229182],\n",
       "       [0.52783743, 0.19424844, 0.27791413]])"
      ]
     },
     "execution_count": 16,
     "metadata": {},
     "output_type": "execute_result"
    }
   ],
   "source": [
    "lda_model_flood.fit_transform(flood_text_vectorized)"
   ]
  },
  {
   "cell_type": "code",
   "execution_count": 17,
   "id": "6cf63656",
   "metadata": {
    "execution": {
     "iopub.execute_input": "2022-08-04T04:59:40.641737Z",
     "iopub.status.busy": "2022-08-04T04:59:40.641737Z",
     "iopub.status.idle": "2022-08-04T05:00:16.152184Z",
     "shell.execute_reply": "2022-08-04T05:00:16.151606Z"
    },
    "papermill": {
     "duration": 35.525779,
     "end_time": "2022-08-04T05:00:16.157237",
     "exception": false,
     "start_time": "2022-08-04T04:59:40.631458",
     "status": "completed"
    },
    "tags": []
   },
   "outputs": [
    {
     "data": {
      "text/plain": [
       "array([[0.28121157, 0.03652859, 0.68225984],\n",
       "       [0.02753788, 0.14398589, 0.82847624],\n",
       "       [0.02679498, 0.946857  , 0.02634802],\n",
       "       ...,\n",
       "       [0.88331774, 0.05754459, 0.05913767],\n",
       "       [0.79952667, 0.03187349, 0.16859984],\n",
       "       [0.03463321, 0.42531918, 0.54004762]])"
      ]
     },
     "execution_count": 17,
     "metadata": {},
     "output_type": "execute_result"
    }
   ],
   "source": [
    "lda_model_hurricane.fit_transform(hurricane_text_vectorized)"
   ]
  },
  {
   "cell_type": "code",
   "execution_count": 18,
   "id": "b401de68",
   "metadata": {
    "execution": {
     "iopub.execute_input": "2022-08-04T05:00:16.175065Z",
     "iopub.status.busy": "2022-08-04T05:00:16.174565Z",
     "iopub.status.idle": "2022-08-04T05:00:16.201886Z",
     "shell.execute_reply": "2022-08-04T05:00:16.201386Z"
    },
    "papermill": {
     "duration": 0.0401,
     "end_time": "2022-08-04T05:00:16.205100",
     "exception": false,
     "start_time": "2022-08-04T05:00:16.165000",
     "status": "completed"
    },
    "tags": []
   },
   "outputs": [],
   "source": [
    "with open(product['lda_model_earthquake'], \"wb\") as f:\n",
    "    pickle.dump(lda_model_earthquake, f)\n",
    "with open(product['lda_model_fire'], \"wb\") as f:\n",
    "    pickle.dump(lda_model_fire, f)\n",
    "with open(product['lda_model_flood'], \"wb\") as f:\n",
    "    pickle.dump(lda_model_flood, f)\n",
    "with open(product['lda_model_hurricane'], \"wb\") as f:\n",
    "    pickle.dump(lda_model_hurricane, f)"
   ]
  },
  {
   "cell_type": "markdown",
   "id": "4f9083cf",
   "metadata": {
    "papermill": {
     "duration": 5.53E-4,
     "end_time": "2022-08-04T05:00:16.212725",
     "exception": false,
     "start_time": "2022-08-04T05:00:16.212172",
     "status": "completed"
    },
    "tags": []
   },
   "source": [
    "## Performance Stats"
   ]
  },
  {
   "cell_type": "code",
   "execution_count": 19,
   "id": "01e4b19f",
   "metadata": {
    "execution": {
     "iopub.execute_input": "2022-08-04T05:00:16.235481Z",
     "iopub.status.busy": "2022-08-04T05:00:16.235409Z",
     "iopub.status.idle": "2022-08-04T05:00:27.626232Z",
     "shell.execute_reply": "2022-08-04T05:00:27.625797Z"
    },
    "papermill": {
     "duration": 11.399344,
     "end_time": "2022-08-04T05:00:27.626967",
     "exception": false,
     "start_time": "2022-08-04T05:00:16.227623",
     "status": "completed"
    },
    "tags": []
   },
   "outputs": [
    {
     "name": "stdout",
     "output_type": "stream",
     "text": [
      "Log Likelihood Earthquake:  -489957.40154870134\n"
     ]
    },
    {
     "name": "stdout",
     "output_type": "stream",
     "text": [
      "Log Likelihood Fire:  -849270.4203478852\n"
     ]
    },
    {
     "name": "stdout",
     "output_type": "stream",
     "text": [
      "Log Likelihood Flood:  -1017564.9037416613\n"
     ]
    },
    {
     "name": "stdout",
     "output_type": "stream",
     "text": [
      "Log Likelihood Hurricane:  -3202283.332471243\n"
     ]
    },
    {
     "name": "stdout",
     "output_type": "stream",
     "text": [
      "Perplexity Earthquake:  1545.0721822945434\n"
     ]
    },
    {
     "name": "stdout",
     "output_type": "stream",
     "text": [
      "Perplexity Fire:  1653.9649026362408\n"
     ]
    },
    {
     "name": "stdout",
     "output_type": "stream",
     "text": [
      "Perplexity Flood:  1798.3129541093047\n"
     ]
    },
    {
     "name": "stdout",
     "output_type": "stream",
     "text": [
      "Perplexity Hurricane:  1895.7263098863632\n"
     ]
    }
   ],
   "source": [
    "# Log Likelyhood: Higher the better\n",
    "print(\"Log Likelihood Earthquake: \", lda_model_earthquake.score(earthquake_text_vectorized))\n",
    "print(\"Log Likelihood Fire: \", lda_model_fire.score(fire_text_vectorized))\n",
    "print(\"Log Likelihood Flood: \", lda_model_flood.score(flood_text_vectorized))\n",
    "print(\"Log Likelihood Hurricane: \", lda_model_hurricane.score(hurricane_text_vectorized))\n",
    "\n",
    "# Perplexity: Lower the better. Perplexity = exp(-1. * log-likelihood per word)\n",
    "print(\"Perplexity Earthquake: \", lda_model_earthquake.perplexity(earthquake_text_vectorized))\n",
    "print(\"Perplexity Fire: \", lda_model_fire.perplexity(fire_text_vectorized))\n",
    "print(\"Perplexity Flood: \", lda_model_flood.perplexity(flood_text_vectorized))\n",
    "print(\"Perplexity Hurricane: \", lda_model_hurricane.perplexity(hurricane_text_vectorized))"
   ]
  },
  {
   "cell_type": "markdown",
   "id": "adf9ef8c",
   "metadata": {
    "papermill": {
     "duration": 0.00761,
     "end_time": "2022-08-04T05:00:27.643413",
     "exception": false,
     "start_time": "2022-08-04T05:00:27.635803",
     "status": "completed"
    },
    "tags": []
   },
   "source": [
    "## Extract Topic Keywords"
   ]
  },
  {
   "cell_type": "code",
   "execution_count": null,
   "id": "8b47e05e",
   "metadata": {
    "lines_to_next_cell": 2,
    "papermill": {
     "duration": 0.008898,
     "end_time": "2022-08-04T05:00:27.658191",
     "exception": false,
     "start_time": "2022-08-04T05:00:27.649293",
     "status": "completed"
    },
    "tags": []
   },
   "outputs": [],
   "source": []
  },
  {
   "cell_type": "code",
   "execution_count": 20,
   "id": "3c685037",
   "metadata": {
    "execution": {
     "iopub.execute_input": "2022-08-04T05:00:27.671285Z",
     "iopub.status.busy": "2022-08-04T05:00:27.671285Z",
     "iopub.status.idle": "2022-08-04T05:00:27.750939Z",
     "shell.execute_reply": "2022-08-04T05:00:27.750506Z"
    },
    "lines_to_next_cell": 0,
    "papermill": {
     "duration": 0.089727,
     "end_time": "2022-08-04T05:00:27.751881",
     "exception": false,
     "start_time": "2022-08-04T05:00:27.662154",
     "status": "completed"
    },
    "tags": []
   },
   "outputs": [
    {
     "name": "stderr",
     "output_type": "stream",
     "text": [
      "C:\\Users\\gillrobe\\AppData\\Local\\pypoetry\\Cache\\virtualenvs\\data-medics-capstone-E3RTzdp6-py3.9\\lib\\site-packages\\sklearn\\utils\\deprecation.py:87: FutureWarning: Function get_feature_names is deprecated; get_feature_names is deprecated in 1.0 and will be removed in 1.2. Please use get_feature_names_out instead.\n",
      "  warnings.warn(msg, category=FutureWarning)\n",
      "C:\\Users\\gillrobe\\AppData\\Local\\pypoetry\\Cache\\virtualenvs\\data-medics-capstone-E3RTzdp6-py3.9\\lib\\site-packages\\sklearn\\utils\\deprecation.py:87: FutureWarning: Function get_feature_names is deprecated; get_feature_names is deprecated in 1.0 and will be removed in 1.2. Please use get_feature_names_out instead.\n",
      "  warnings.warn(msg, category=FutureWarning)\n",
      "C:\\Users\\gillrobe\\AppData\\Local\\pypoetry\\Cache\\virtualenvs\\data-medics-capstone-E3RTzdp6-py3.9\\lib\\site-packages\\sklearn\\utils\\deprecation.py:87: FutureWarning: Function get_feature_names is deprecated; get_feature_names is deprecated in 1.0 and will be removed in 1.2. Please use get_feature_names_out instead.\n",
      "  warnings.warn(msg, category=FutureWarning)\n",
      "C:\\Users\\gillrobe\\AppData\\Local\\pypoetry\\Cache\\virtualenvs\\data-medics-capstone-E3RTzdp6-py3.9\\lib\\site-packages\\sklearn\\utils\\deprecation.py:87: FutureWarning: Function get_feature_names is deprecated; get_feature_names is deprecated in 1.0 and will be removed in 1.2. Please use get_feature_names_out instead.\n",
      "  warnings.warn(msg, category=FutureWarning)\n"
     ]
    },
    {
     "data": {
      "text/html": [
       "<div>\n",
       "<style scoped>\n",
       "    .dataframe tbody tr th:only-of-type {\n",
       "        vertical-align: middle;\n",
       "    }\n",
       "\n",
       "    .dataframe tbody tr th {\n",
       "        vertical-align: top;\n",
       "    }\n",
       "\n",
       "    .dataframe thead th {\n",
       "        text-align: right;\n",
       "    }\n",
       "</style>\n",
       "<table border=\"1\" class=\"dataframe\">\n",
       "  <thead>\n",
       "    <tr style=\"text-align: right;\">\n",
       "      <th></th>\n",
       "      <th>earthquake_Topic 0</th>\n",
       "      <th>earthquake_Topic 1</th>\n",
       "      <th>earthquake_Topic 2</th>\n",
       "      <th>fire_Topic 0</th>\n",
       "      <th>fire_Topic 1</th>\n",
       "      <th>fire_Topic 2</th>\n",
       "      <th>flood_Topic 0</th>\n",
       "      <th>flood_Topic 1</th>\n",
       "      <th>flood_Topic 2</th>\n",
       "      <th>hurricane_Topic 0</th>\n",
       "      <th>hurricane_Topic 1</th>\n",
       "      <th>hurricane_Topic 2</th>\n",
       "    </tr>\n",
       "  </thead>\n",
       "  <tbody>\n",
       "    <tr>\n",
       "      <th>Word 0</th>\n",
       "      <td>prayer</td>\n",
       "      <td>help</td>\n",
       "      <td>pray</td>\n",
       "      <td>death</td>\n",
       "      <td>help</td>\n",
       "      <td>home</td>\n",
       "      <td>help</td>\n",
       "      <td>relief</td>\n",
       "      <td>flooding</td>\n",
       "      <td>damage</td>\n",
       "      <td>help</td>\n",
       "      <td>need</td>\n",
       "    </tr>\n",
       "    <tr>\n",
       "      <th>Word 1</th>\n",
       "      <td>safe</td>\n",
       "      <td>donate</td>\n",
       "      <td>damage</td>\n",
       "      <td>toll</td>\n",
       "      <td>victim</td>\n",
       "      <td>lose</td>\n",
       "      <td>need</td>\n",
       "      <td>donate</td>\n",
       "      <td>state</td>\n",
       "      <td>storm</td>\n",
       "      <td>relief</td>\n",
       "      <td>help</td>\n",
       "    </tr>\n",
       "    <tr>\n",
       "      <th>Word 2</th>\n",
       "      <td>injure</td>\n",
       "      <td>death</td>\n",
       "      <td>aftershock</td>\n",
       "      <td>death toll</td>\n",
       "      <td>donate</td>\n",
       "      <td>destroy</td>\n",
       "      <td>relief</td>\n",
       "      <td>victim</td>\n",
       "      <td>damage</td>\n",
       "      <td>evacuation</td>\n",
       "      <td>cyclone</td>\n",
       "      <td>food</td>\n",
       "    </tr>\n",
       "    <tr>\n",
       "      <th>Word 3</th>\n",
       "      <td>thought</td>\n",
       "      <td>victim</td>\n",
       "      <td>building</td>\n",
       "      <td>camp</td>\n",
       "      <td>camp</td>\n",
       "      <td>burn</td>\n",
       "      <td>rescue</td>\n",
       "      <td>fund</td>\n",
       "      <td>disaster</td>\n",
       "      <td>destroy</td>\n",
       "      <td>donate</td>\n",
       "      <td>pray</td>\n",
       "    </tr>\n",
       "    <tr>\n",
       "      <th>Word 4</th>\n",
       "      <td>affect</td>\n",
       "      <td>rescue</td>\n",
       "      <td>area</td>\n",
       "      <td>dead</td>\n",
       "      <td>relief</td>\n",
       "      <td>many</td>\n",
       "      <td>food</td>\n",
       "      <td>help</td>\n",
       "      <td>year</td>\n",
       "      <td>wind</td>\n",
       "      <td>affect</td>\n",
       "      <td>shelter</td>\n",
       "    </tr>\n",
       "  </tbody>\n",
       "</table>\n",
       "</div>"
      ],
      "text/plain": [
       "       earthquake_Topic 0 earthquake_Topic 1 earthquake_Topic 2 fire_Topic 0  \\\n",
       "Word 0             prayer               help               pray        death   \n",
       "Word 1               safe             donate             damage         toll   \n",
       "Word 2             injure              death         aftershock   death toll   \n",
       "Word 3            thought             victim           building         camp   \n",
       "Word 4             affect             rescue               area         dead   \n",
       "\n",
       "       fire_Topic 1 fire_Topic 2 flood_Topic 0 flood_Topic 1 flood_Topic 2  \\\n",
       "Word 0         help         home          help        relief      flooding   \n",
       "Word 1       victim         lose          need        donate         state   \n",
       "Word 2       donate      destroy        relief        victim        damage   \n",
       "Word 3         camp         burn        rescue          fund      disaster   \n",
       "Word 4       relief         many          food          help          year   \n",
       "\n",
       "       hurricane_Topic 0 hurricane_Topic 1 hurricane_Topic 2  \n",
       "Word 0            damage              help              need  \n",
       "Word 1             storm            relief              help  \n",
       "Word 2        evacuation           cyclone              food  \n",
       "Word 3           destroy            donate              pray  \n",
       "Word 4              wind            affect           shelter  "
      ]
     },
     "execution_count": 20,
     "metadata": {},
     "output_type": "execute_result"
    }
   ],
   "source": [
    "topics_earthquake = pd.DataFrame(show_topics(fitted_vectorizer=vectorizer, fitted_lda_model=lda_model_earthquake, n_words=100, dname='earthquake'))\n",
    "topics_fire = pd.DataFrame(show_topics(fitted_vectorizer=vectorizer, fitted_lda_model=lda_model_fire, n_words=100, dname='fire'))\n",
    "topics_flood = pd.DataFrame(show_topics(fitted_vectorizer=vectorizer, fitted_lda_model=lda_model_flood, n_words=100, dname='flood'))\n",
    "topics_hurricane = pd.DataFrame(show_topics(fitted_vectorizer=vectorizer, fitted_lda_model=lda_model_hurricane, n_words=100, dname='hurricane'))\n",
    "\n",
    "df_topic_keywords = pd.concat([topics_earthquake,topics_fire,topics_flood,topics_hurricane],axis=0)\n",
    "    # df_topic_keywords.columns = ['Word '+str(i) for i in range(df_topic_keywords.shape[1])]\n",
    "    # df_topic_keywords.index = ['Topic '+str(i) for i in range(df_topic_keywords.shape[0])]\n",
    "df_topic_keywords = df_topic_keywords.transpose()\n",
    "df_topic_keywords.head()"
   ]
  },
  {
   "cell_type": "code",
   "execution_count": null,
   "id": "49e56593",
   "metadata": {
    "lines_to_next_cell": 2,
    "papermill": {
     "duration": 0.005065,
     "end_time": "2022-08-04T05:00:27.766710",
     "exception": false,
     "start_time": "2022-08-04T05:00:27.761645",
     "status": "completed"
    },
    "tags": []
   },
   "outputs": [],
   "source": []
  },
  {
   "cell_type": "code",
   "execution_count": 21,
   "id": "d76b167d",
   "metadata": {
    "execution": {
     "iopub.execute_input": "2022-08-04T05:00:27.788971Z",
     "iopub.status.busy": "2022-08-04T05:00:27.788159Z",
     "iopub.status.idle": "2022-08-04T05:00:27.826359Z",
     "shell.execute_reply": "2022-08-04T05:00:27.825877Z"
    },
    "papermill": {
     "duration": 0.050379,
     "end_time": "2022-08-04T05:00:27.827043",
     "exception": false,
     "start_time": "2022-08-04T05:00:27.776664",
     "status": "completed"
    },
    "tags": []
   },
   "outputs": [],
   "source": [
    "df_topic_keywords.to_csv(product['lda_topics_disaster_type'])"
   ]
  },
  {
   "cell_type": "code",
   "execution_count": null,
   "id": "e2192e7d",
   "metadata": {
    "papermill": {
     "duration": 0.016688,
     "end_time": "2022-08-04T05:00:27.843731",
     "exception": false,
     "start_time": "2022-08-04T05:00:27.827043",
     "status": "completed"
    },
    "tags": []
   },
   "outputs": [],
   "source": []
  }
 ],
 "metadata": {
  "jupytext": {
   "cell_metadata_filter": "tags,-all",
   "main_language": "python",
   "notebook_metadata_filter": "-all",
   "text_representation": {
    "extension": ".py",
    "format_name": "light"
   }
  },
  "kernelspec": {
   "display_name": "Python 3 (ipykernel)",
   "language": "python",
   "name": "python3"
  },
  "language_info": {
   "codemirror_mode": {
    "name": "ipython",
    "version": 3
   },
   "file_extension": ".py",
   "mimetype": "text/x-python",
   "name": "python",
   "nbconvert_exporter": "python",
   "pygments_lexer": "ipython3",
   "version": "3.9.13"
  },
  "papermill": {
   "duration": 244.339701,
   "end_time": "2022-08-04T05:00:29.827839",
   "exception": null,
   "input_path": "C:\\Users\\gillrobe\\AppData\\Local\\Temp\\tmpwmzanhfk.ipynb",
   "output_path": "C:\\Users\\gillrobe\\DataScience\\umads_697_data_medics\\pipeline\\output\\topic_modeling_disaster_type_final.ipynb",
   "parameters": {
    "product": {
     "lda_model_earthquake": "C:\\Users\\gillrobe\\DataScience\\umads_697_data_medics\\pipeline\\output\\lda_model_earthquake.pkl",
     "lda_model_fire": "C:\\Users\\gillrobe\\DataScience\\umads_697_data_medics\\pipeline\\output\\lda_model_fire.pkl",
     "lda_model_flood": "C:\\Users\\gillrobe\\DataScience\\umads_697_data_medics\\pipeline\\output\\lda_model_flood.pkl",
     "lda_model_hurricane": "C:\\Users\\gillrobe\\DataScience\\umads_697_data_medics\\pipeline\\output\\lda_model_hurricane.pkl",
     "lda_topics_disaster_type": "C:\\Users\\gillrobe\\DataScience\\umads_697_data_medics\\pipeline\\output\\lda_topics_disaster_type.csv",
     "nb": "C:\\Users\\gillrobe\\DataScience\\umads_697_data_medics\\pipeline\\output\\topic_modeling_disaster_type_final.ipynb"
    },
    "random_seed": 42,
    "upstream": {
     "vectorizer_countVec": {
      "nb": "C:\\Users\\gillrobe\\DataScience\\umads_697_data_medics\\pipeline\\output\\vectorizer_countVec.ipynb",
      "vectorizer": "C:\\Users\\gillrobe\\DataScience\\umads_697_data_medics\\pipeline\\output\\vectorizer_countVec.pkl"
     }
    }
   },
   "start_time": "2022-08-04T04:56:25.488138"
  }
 },
 "nbformat": 4,
 "nbformat_minor": 5
}