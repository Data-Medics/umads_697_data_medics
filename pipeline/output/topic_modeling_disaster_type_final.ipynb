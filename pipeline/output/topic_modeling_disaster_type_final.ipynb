{
 "cells": [
  {
   "cell_type": "code",
   "execution_count": 1,
   "id": "82312254",
   "metadata": {
    "execution": {
     "iopub.execute_input": "2022-08-13T22:31:50.239523Z",
     "iopub.status.busy": "2022-08-13T22:31:50.238800Z",
     "iopub.status.idle": "2022-08-13T22:31:50.251316Z",
     "shell.execute_reply": "2022-08-13T22:31:50.250230Z"
    },
    "lines_to_next_cell": 0,
    "papermill": {
     "duration": 0.025163,
     "end_time": "2022-08-13T22:31:50.254170",
     "exception": false,
     "start_time": "2022-08-13T22:31:50.229007",
     "status": "completed"
    },
    "tags": [
     "parameters"
    ]
   },
   "outputs": [],
   "source": [
    "# + tags=[\"parameters\"]\n",
    "# declare a list tasks whose products you want to use as inputs\n",
    "upstream = ['vectorizer_countVec']\n",
    "random_seed = 42"
   ]
  },
  {
   "cell_type": "code",
   "execution_count": 2,
   "id": "2dfd9391",
   "metadata": {
    "execution": {
     "iopub.execute_input": "2022-08-13T22:31:50.269424Z",
     "iopub.status.busy": "2022-08-13T22:31:50.268723Z",
     "iopub.status.idle": "2022-08-13T22:31:50.275348Z",
     "shell.execute_reply": "2022-08-13T22:31:50.274361Z"
    },
    "papermill": {
     "duration": 0.01693,
     "end_time": "2022-08-13T22:31:50.278040",
     "exception": false,
     "start_time": "2022-08-13T22:31:50.261110",
     "status": "completed"
    },
    "tags": [
     "injected-parameters"
    ]
   },
   "outputs": [],
   "source": [
    "# Parameters\n",
    "random_seed = 42\n",
    "upstream = {\n",
    "    \"vectorizer_countVec\": {\n",
    "        \"nb\": \"/Users/mboussarov/_umsi/Capstone/umads_697_data_medics/pipeline/output/vectorizer_countVec.ipynb\",\n",
    "        \"vectorizer\": \"/Users/mboussarov/_umsi/Capstone/umads_697_data_medics/pipeline/output/vectorizer_countVec.pkl\",\n",
    "    }\n",
    "}\n",
    "product = {\n",
    "    \"nb\": \"/Users/mboussarov/_umsi/Capstone/umads_697_data_medics/pipeline/output/topic_modeling_disaster_type_final.ipynb\",\n",
    "    \"lda_model_earthquake\": \"/Users/mboussarov/_umsi/Capstone/umads_697_data_medics/pipeline/output/lda_model_earthquake.pkl\",\n",
    "    \"lda_model_fire\": \"/Users/mboussarov/_umsi/Capstone/umads_697_data_medics/pipeline/output/lda_model_fire.pkl\",\n",
    "    \"lda_model_flood\": \"/Users/mboussarov/_umsi/Capstone/umads_697_data_medics/pipeline/output/lda_model_flood.pkl\",\n",
    "    \"lda_model_hurricane\": \"/Users/mboussarov/_umsi/Capstone/umads_697_data_medics/pipeline/output/lda_model_hurricane.pkl\",\n",
    "    \"lda_topics_disaster_type\": \"/Users/mboussarov/_umsi/Capstone/umads_697_data_medics/pipeline/output/lda_topics_disaster_type.csv\",\n",
    "}\n"
   ]
  },
  {
   "cell_type": "code",
   "execution_count": null,
   "id": "bfe3c7b8",
   "metadata": {
    "lines_to_next_cell": 2,
    "papermill": {
     "duration": 0.006233,
     "end_time": "2022-08-13T22:31:50.291842",
     "exception": false,
     "start_time": "2022-08-13T22:31:50.285609",
     "status": "completed"
    },
    "tags": []
   },
   "outputs": [],
   "source": []
  },
  {
   "cell_type": "code",
   "execution_count": null,
   "id": "bd859f7a",
   "metadata": {
    "lines_to_next_cell": 2,
    "papermill": {
     "duration": 0.006352,
     "end_time": "2022-08-13T22:31:50.304302",
     "exception": false,
     "start_time": "2022-08-13T22:31:50.297950",
     "status": "completed"
    },
    "tags": []
   },
   "outputs": [],
   "source": []
  },
  {
   "cell_type": "markdown",
   "id": "38e08677",
   "metadata": {
    "papermill": {
     "duration": 0.006092,
     "end_time": "2022-08-13T22:31:50.316645",
     "exception": false,
     "start_time": "2022-08-13T22:31:50.310553",
     "status": "completed"
    },
    "tags": []
   },
   "source": [
    "importing all the functions defined in tools_rjg.py"
   ]
  },
  {
   "cell_type": "code",
   "execution_count": 3,
   "id": "275b5085",
   "metadata": {
    "execution": {
     "iopub.execute_input": "2022-08-13T22:31:50.330783Z",
     "iopub.status.busy": "2022-08-13T22:31:50.330111Z",
     "iopub.status.idle": "2022-08-13T22:31:55.180346Z",
     "shell.execute_reply": "2022-08-13T22:31:55.179296Z"
    },
    "papermill": {
     "duration": 4.860706,
     "end_time": "2022-08-13T22:31:55.183398",
     "exception": false,
     "start_time": "2022-08-13T22:31:50.322692",
     "status": "completed"
    },
    "tags": []
   },
   "outputs": [],
   "source": [
    "from tools_rjg import *"
   ]
  },
  {
   "cell_type": "code",
   "execution_count": 4,
   "id": "fe0adba4",
   "metadata": {
    "execution": {
     "iopub.execute_input": "2022-08-13T22:31:55.198556Z",
     "iopub.status.busy": "2022-08-13T22:31:55.198040Z",
     "iopub.status.idle": "2022-08-13T22:31:55.457518Z",
     "shell.execute_reply": "2022-08-13T22:31:55.456357Z"
    },
    "papermill": {
     "duration": 0.270027,
     "end_time": "2022-08-13T22:31:55.460446",
     "exception": false,
     "start_time": "2022-08-13T22:31:55.190419",
     "status": "completed"
    },
    "tags": []
   },
   "outputs": [
    {
     "name": "stderr",
     "output_type": "stream",
     "text": [
      "[nltk_data] Error loading punkt: <urlopen error [SSL:\n",
      "[nltk_data]     CERTIFICATE_VERIFY_FAILED] certificate verify failed:\n",
      "[nltk_data]     unable to get local issuer certificate (_ssl.c:1129)>\n"
     ]
    }
   ],
   "source": [
    "import pandas as pd\n",
    "import re, nltk, spacy, gensim\n",
    "nltk.download('punkt')\n",
    "import pickle"
   ]
  },
  {
   "cell_type": "code",
   "execution_count": 5,
   "id": "72b95bb3",
   "metadata": {
    "execution": {
     "iopub.execute_input": "2022-08-13T22:31:55.475408Z",
     "iopub.status.busy": "2022-08-13T22:31:55.474969Z",
     "iopub.status.idle": "2022-08-13T22:31:55.496216Z",
     "shell.execute_reply": "2022-08-13T22:31:55.495198Z"
    },
    "papermill": {
     "duration": 0.031712,
     "end_time": "2022-08-13T22:31:55.499023",
     "exception": false,
     "start_time": "2022-08-13T22:31:55.467311",
     "status": "completed"
    },
    "tags": []
   },
   "outputs": [],
   "source": [
    "from sklearn.decomposition import LatentDirichletAllocation, TruncatedSVD"
   ]
  },
  {
   "cell_type": "code",
   "execution_count": 6,
   "id": "cc63986d",
   "metadata": {
    "execution": {
     "iopub.execute_input": "2022-08-13T22:31:55.515040Z",
     "iopub.status.busy": "2022-08-13T22:31:55.514220Z",
     "iopub.status.idle": "2022-08-13T22:31:56.529694Z",
     "shell.execute_reply": "2022-08-13T22:31:56.528632Z"
    },
    "papermill": {
     "duration": 1.026501,
     "end_time": "2022-08-13T22:31:56.532472",
     "exception": false,
     "start_time": "2022-08-13T22:31:55.505971",
     "status": "completed"
    },
    "tags": []
   },
   "outputs": [],
   "source": [
    "import matplotlib.pyplot as plt\n",
    "%matplotlib inline"
   ]
  },
  {
   "cell_type": "code",
   "execution_count": null,
   "id": "89c4037f",
   "metadata": {
    "lines_to_next_cell": 2,
    "papermill": {
     "duration": 0.00628,
     "end_time": "2022-08-13T22:31:56.545379",
     "exception": false,
     "start_time": "2022-08-13T22:31:56.539099",
     "status": "completed"
    },
    "tags": []
   },
   "outputs": [],
   "source": []
  },
  {
   "cell_type": "code",
   "execution_count": null,
   "id": "53c232e8",
   "metadata": {
    "lines_to_next_cell": 2,
    "papermill": {
     "duration": 0.006238,
     "end_time": "2022-08-13T22:31:56.557950",
     "exception": false,
     "start_time": "2022-08-13T22:31:56.551712",
     "status": "completed"
    },
    "tags": []
   },
   "outputs": [],
   "source": []
  },
  {
   "cell_type": "code",
   "execution_count": 7,
   "id": "06171601",
   "metadata": {
    "execution": {
     "iopub.execute_input": "2022-08-13T22:31:56.572816Z",
     "iopub.status.busy": "2022-08-13T22:31:56.571951Z",
     "iopub.status.idle": "2022-08-13T22:31:56.921980Z",
     "shell.execute_reply": "2022-08-13T22:31:56.921016Z"
    },
    "papermill": {
     "duration": 0.360709,
     "end_time": "2022-08-13T22:31:56.924764",
     "exception": false,
     "start_time": "2022-08-13T22:31:56.564055",
     "status": "completed"
    },
    "tags": []
   },
   "outputs": [],
   "source": [
    "df_all = generate_disaster_type_dataframe(disaster_types = ('earthquake', 'fire', 'flood', 'hurricane')\n",
    "                                          , dev_train_test= ('dev', 'train', 'test'))"
   ]
  },
  {
   "cell_type": "code",
   "execution_count": null,
   "id": "95b26c15",
   "metadata": {
    "lines_to_next_cell": 2,
    "papermill": {
     "duration": 0.00639,
     "end_time": "2022-08-13T22:31:56.938164",
     "exception": false,
     "start_time": "2022-08-13T22:31:56.931774",
     "status": "completed"
    },
    "tags": []
   },
   "outputs": [],
   "source": []
  },
  {
   "cell_type": "code",
   "execution_count": 8,
   "id": "84569397",
   "metadata": {
    "execution": {
     "iopub.execute_input": "2022-08-13T22:31:56.952404Z",
     "iopub.status.busy": "2022-08-13T22:31:56.951973Z",
     "iopub.status.idle": "2022-08-13T22:35:11.098442Z",
     "shell.execute_reply": "2022-08-13T22:35:11.097559Z"
    },
    "papermill": {
     "duration": 194.156221,
     "end_time": "2022-08-13T22:35:11.100606",
     "exception": false,
     "start_time": "2022-08-13T22:31:56.944385",
     "status": "completed"
    },
    "tags": []
   },
   "outputs": [],
   "source": [
    "df_all['tweet_text_cleaned'] = df_all['tweet_text'].apply(lambda x: tweet_preprocessing(x))\n",
    "df_all['lemmatized'] = df_all['tweet_text_cleaned'].apply(lambda x: lemmatize_tweet_text(x, allowed_postags=('NOUN', 'ADJ', 'VERB', 'ADV')))"
   ]
  },
  {
   "cell_type": "code",
   "execution_count": 9,
   "id": "83529d7b",
   "metadata": {
    "execution": {
     "iopub.execute_input": "2022-08-13T22:35:11.111739Z",
     "iopub.status.busy": "2022-08-13T22:35:11.111452Z",
     "iopub.status.idle": "2022-08-13T22:35:11.144313Z",
     "shell.execute_reply": "2022-08-13T22:35:11.143661Z"
    },
    "papermill": {
     "duration": 0.040448,
     "end_time": "2022-08-13T22:35:11.146292",
     "exception": false,
     "start_time": "2022-08-13T22:35:11.105844",
     "status": "completed"
    },
    "tags": []
   },
   "outputs": [
    {
     "data": {
      "text/html": [
       "<div>\n",
       "<style scoped>\n",
       "    .dataframe tbody tr th:only-of-type {\n",
       "        vertical-align: middle;\n",
       "    }\n",
       "\n",
       "    .dataframe tbody tr th {\n",
       "        vertical-align: top;\n",
       "    }\n",
       "\n",
       "    .dataframe thead th {\n",
       "        text-align: right;\n",
       "    }\n",
       "</style>\n",
       "<table border=\"1\" class=\"dataframe\">\n",
       "  <thead>\n",
       "    <tr style=\"text-align: right;\">\n",
       "      <th></th>\n",
       "      <th>tweet_id</th>\n",
       "      <th>tweet_text</th>\n",
       "      <th>class_label</th>\n",
       "      <th>disaster_type</th>\n",
       "      <th>tweet_text_cleaned</th>\n",
       "      <th>lemmatized</th>\n",
       "    </tr>\n",
       "  </thead>\n",
       "  <tbody>\n",
       "    <tr>\n",
       "      <th>6875</th>\n",
       "      <td>1108880355015249920</td>\n",
       "      <td>Zimbabwe Govt steps up efforts to assist cyclo...</td>\n",
       "      <td>rescue_volunteering_or_donation_effort</td>\n",
       "      <td>hurricane</td>\n",
       "      <td>[zimbabwe, govt, steps, efforts, assist, cyclo...</td>\n",
       "      <td>zimbabwe govt step effort assist cyclone victi...</td>\n",
       "    </tr>\n",
       "    <tr>\n",
       "      <th>5343</th>\n",
       "      <td>1061706739324616704</td>\n",
       "      <td>Trump draws ire from firefighters, celebrities...</td>\n",
       "      <td>not_humanitarian</td>\n",
       "      <td>fire</td>\n",
       "      <td>[trump, draws, from, firefighters, celebrities...</td>\n",
       "      <td>trump draw firefighter celebrity tweet fire</td>\n",
       "    </tr>\n",
       "    <tr>\n",
       "      <th>4776</th>\n",
       "      <td>768473212493725696</td>\n",
       "      <td>RT @lwtharoId: this is absolutely heartbreakin...</td>\n",
       "      <td>sympathy_and_support</td>\n",
       "      <td>earthquake</td>\n",
       "      <td>[this, absolutely, heartbreaking, praying, eve...</td>\n",
       "      <td>absolutely heartbreaking pray affect</td>\n",
       "    </tr>\n",
       "    <tr>\n",
       "      <th>13002</th>\n",
       "      <td>912156018708287488</td>\n",
       "      <td>Devastating for our American brothers &amp;amp; si...</td>\n",
       "      <td>infrastructure_and_utility_damage</td>\n",
       "      <td>hurricane</td>\n",
       "      <td>[devastating, american, brothers, sisters, pue...</td>\n",
       "      <td>devastating american sister difficult damage c...</td>\n",
       "    </tr>\n",
       "    <tr>\n",
       "      <th>933</th>\n",
       "      <td>1064257604405350400</td>\n",
       "      <td>If youre able to donate a few $$ to this local...</td>\n",
       "      <td>rescue_volunteering_or_donation_effort</td>\n",
       "      <td>fire</td>\n",
       "      <td>[youre, able, donate, this, localized, help, t...</td>\n",
       "      <td>re able donate localize help affect camp fire ...</td>\n",
       "    </tr>\n",
       "    <tr>\n",
       "      <th>...</th>\n",
       "      <td>...</td>\n",
       "      <td>...</td>\n",
       "      <td>...</td>\n",
       "      <td>...</td>\n",
       "      <td>...</td>\n",
       "      <td>...</td>\n",
       "    </tr>\n",
       "    <tr>\n",
       "      <th>23993</th>\n",
       "      <td>1108668173195321344</td>\n",
       "      <td>May the Lord comfort all the families that los...</td>\n",
       "      <td>sympathy_and_support</td>\n",
       "      <td>hurricane</td>\n",
       "      <td>[lord, comfort, families, that, lost, loved, o...</td>\n",
       "      <td>family lose love one possession know still han...</td>\n",
       "    </tr>\n",
       "    <tr>\n",
       "      <th>11194</th>\n",
       "      <td>911780360769306625</td>\n",
       "      <td>Praying for Puerto Rico ὤFὤFὤFὤFὤF❤️❤️ὢA</td>\n",
       "      <td>sympathy_and_support</td>\n",
       "      <td>hurricane</td>\n",
       "      <td>[praying, puerto, rico]</td>\n",
       "      <td>pray</td>\n",
       "    </tr>\n",
       "    <tr>\n",
       "      <th>29010</th>\n",
       "      <td>1167832905474875392</td>\n",
       "      <td>RT @meteottractions: SeaWorld Orlando Modifies...</td>\n",
       "      <td>other_relevant_information</td>\n",
       "      <td>hurricane</td>\n",
       "      <td>[world, orlando, modifies, operations, dorian]</td>\n",
       "      <td>world modify operation dorian</td>\n",
       "    </tr>\n",
       "    <tr>\n",
       "      <th>4020</th>\n",
       "      <td>1040592813459730433</td>\n",
       "      <td>At 8:56 PM EDT, 1 NNW Wildwood [Carteret Co, N...</td>\n",
       "      <td>infrastructure_and_utility_damage</td>\n",
       "      <td>hurricane</td>\n",
       "      <td>[wildwood, carteret, emergency, mngr, reports,...</td>\n",
       "      <td>wildwood carteret emergency report hurricane t...</td>\n",
       "    </tr>\n",
       "    <tr>\n",
       "      <th>26791</th>\n",
       "      <td>1168198516084228096</td>\n",
       "      <td>What are the building codes in place thatll mi...</td>\n",
       "      <td>infrastructure_and_utility_damage</td>\n",
       "      <td>hurricane</td>\n",
       "      <td>[what, building, codes, place, thatll, minimiz...</td>\n",
       "      <td>building code place minimize damage thing hit ...</td>\n",
       "    </tr>\n",
       "  </tbody>\n",
       "</table>\n",
       "<p>100 rows × 6 columns</p>\n",
       "</div>"
      ],
      "text/plain": [
       "                  tweet_id                                         tweet_text  \\\n",
       "6875   1108880355015249920  Zimbabwe Govt steps up efforts to assist cyclo...   \n",
       "5343   1061706739324616704  Trump draws ire from firefighters, celebrities...   \n",
       "4776    768473212493725696  RT @lwtharoId: this is absolutely heartbreakin...   \n",
       "13002   912156018708287488  Devastating for our American brothers &amp; si...   \n",
       "933    1064257604405350400  If youre able to donate a few $$ to this local...   \n",
       "...                    ...                                                ...   \n",
       "23993  1108668173195321344  May the Lord comfort all the families that los...   \n",
       "11194   911780360769306625           Praying for Puerto Rico ὤFὤFὤFὤFὤF❤️❤️ὢA   \n",
       "29010  1167832905474875392  RT @meteottractions: SeaWorld Orlando Modifies...   \n",
       "4020   1040592813459730433  At 8:56 PM EDT, 1 NNW Wildwood [Carteret Co, N...   \n",
       "26791  1168198516084228096  What are the building codes in place thatll mi...   \n",
       "\n",
       "                                  class_label disaster_type  \\\n",
       "6875   rescue_volunteering_or_donation_effort     hurricane   \n",
       "5343                         not_humanitarian          fire   \n",
       "4776                     sympathy_and_support    earthquake   \n",
       "13002       infrastructure_and_utility_damage     hurricane   \n",
       "933    rescue_volunteering_or_donation_effort          fire   \n",
       "...                                       ...           ...   \n",
       "23993                    sympathy_and_support     hurricane   \n",
       "11194                    sympathy_and_support     hurricane   \n",
       "29010              other_relevant_information     hurricane   \n",
       "4020        infrastructure_and_utility_damage     hurricane   \n",
       "26791       infrastructure_and_utility_damage     hurricane   \n",
       "\n",
       "                                      tweet_text_cleaned  \\\n",
       "6875   [zimbabwe, govt, steps, efforts, assist, cyclo...   \n",
       "5343   [trump, draws, from, firefighters, celebrities...   \n",
       "4776   [this, absolutely, heartbreaking, praying, eve...   \n",
       "13002  [devastating, american, brothers, sisters, pue...   \n",
       "933    [youre, able, donate, this, localized, help, t...   \n",
       "...                                                  ...   \n",
       "23993  [lord, comfort, families, that, lost, loved, o...   \n",
       "11194                            [praying, puerto, rico]   \n",
       "29010     [world, orlando, modifies, operations, dorian]   \n",
       "4020   [wildwood, carteret, emergency, mngr, reports,...   \n",
       "26791  [what, building, codes, place, thatll, minimiz...   \n",
       "\n",
       "                                              lemmatized  \n",
       "6875   zimbabwe govt step effort assist cyclone victi...  \n",
       "5343         trump draw firefighter celebrity tweet fire  \n",
       "4776                absolutely heartbreaking pray affect  \n",
       "13002  devastating american sister difficult damage c...  \n",
       "933    re able donate localize help affect camp fire ...  \n",
       "...                                                  ...  \n",
       "23993  family lose love one possession know still han...  \n",
       "11194                                               pray  \n",
       "29010                      world modify operation dorian  \n",
       "4020   wildwood carteret emergency report hurricane t...  \n",
       "26791  building code place minimize damage thing hit ...  \n",
       "\n",
       "[100 rows x 6 columns]"
      ]
     },
     "execution_count": 9,
     "metadata": {},
     "output_type": "execute_result"
    }
   ],
   "source": [
    "df_all.sample(100)"
   ]
  },
  {
   "cell_type": "markdown",
   "id": "b05a354f",
   "metadata": {
    "papermill": {
     "duration": 0.005249,
     "end_time": "2022-08-13T22:35:11.156959",
     "exception": false,
     "start_time": "2022-08-13T22:35:11.151710",
     "status": "completed"
    },
    "tags": []
   },
   "source": [
    "## LDA Model"
   ]
  },
  {
   "cell_type": "code",
   "execution_count": 10,
   "id": "d872be6e",
   "metadata": {
    "execution": {
     "iopub.execute_input": "2022-08-13T22:35:11.168643Z",
     "iopub.status.busy": "2022-08-13T22:35:11.168321Z",
     "iopub.status.idle": "2022-08-13T22:35:11.175172Z",
     "shell.execute_reply": "2022-08-13T22:35:11.174515Z"
    },
    "lines_to_next_cell": 2,
    "papermill": {
     "duration": 0.015034,
     "end_time": "2022-08-13T22:35:11.177097",
     "exception": false,
     "start_time": "2022-08-13T22:35:11.162063",
     "status": "completed"
    },
    "tags": []
   },
   "outputs": [],
   "source": [
    "params_earthquake = {'n_components' : 2,\n",
    "          'max_iter' : 10,\n",
    "          'learning_method' : 'online',\n",
    "          'random_state' : random_seed,\n",
    "          'batch_size' : 128,\n",
    "          'evaluate_every' : -1,\n",
    "          'n_jobs' : 1,\n",
    "          'learning_decay' : .5}\n",
    "\n",
    "params_fire = {'n_components' : 4,\n",
    "          'max_iter' : 10,\n",
    "          'learning_method' : 'online',\n",
    "          'random_state' : random_seed,\n",
    "          'batch_size' : 128,\n",
    "          'evaluate_every' : -1,\n",
    "          'n_jobs' : 1,\n",
    "          'learning_decay' : .5}\n",
    "\n",
    "params_flood = {'n_components' : 3,\n",
    "          'max_iter' : 10,\n",
    "          'learning_method' : 'online',\n",
    "          'random_state' : random_seed,\n",
    "          'batch_size' : 128,\n",
    "          'evaluate_every' : -1,\n",
    "          'n_jobs' : 1,\n",
    "          'learning_decay' : .5}\n",
    "\n",
    "params_hurricane = {'n_components' : 5,\n",
    "          'max_iter' : 10,\n",
    "          'learning_method' : 'online',\n",
    "          'random_state' : random_seed,\n",
    "          'batch_size' : 128,\n",
    "          'evaluate_every' : -1,\n",
    "          'n_jobs' : 1,\n",
    "          'learning_decay' : .5}\n",
    "\n",
    "lda_model_earthquake = LatentDirichletAllocation(**params_earthquake)\n",
    "lda_model_fire = LatentDirichletAllocation(**params_fire)\n",
    "lda_model_flood = LatentDirichletAllocation(**params_flood)\n",
    "lda_model_hurricane = LatentDirichletAllocation(**params_hurricane)\n"
   ]
  },
  {
   "cell_type": "code",
   "execution_count": 11,
   "id": "5a396d0a",
   "metadata": {
    "execution": {
     "iopub.execute_input": "2022-08-13T22:35:11.188871Z",
     "iopub.status.busy": "2022-08-13T22:35:11.188585Z",
     "iopub.status.idle": "2022-08-13T22:35:11.278230Z",
     "shell.execute_reply": "2022-08-13T22:35:11.277568Z"
    },
    "papermill": {
     "duration": 0.097815,
     "end_time": "2022-08-13T22:35:11.280267",
     "exception": false,
     "start_time": "2022-08-13T22:35:11.182452",
     "status": "completed"
    },
    "tags": []
   },
   "outputs": [
    {
     "name": "stderr",
     "output_type": "stream",
     "text": [
      "/Users/mboussarov/Library/Caches/pypoetry/virtualenvs/data-medics-capstone-ZGa4TAVF-py3.9/lib/python3.9/site-packages/sklearn/base.py:329: UserWarning: Trying to unpickle estimator CountVectorizer from version 1.1.1 when using version 1.1.2. This might lead to breaking code or invalid results. Use at your own risk. For more info please refer to:\n",
      "https://scikit-learn.org/stable/model_persistence.html#security-maintainability-limitations\n",
      "  warnings.warn(\n"
     ]
    }
   ],
   "source": [
    "with open(\"output/vectorizer_countVec.pkl\", \"rb\") as f:\n",
    "    vectorizer = pickle.load(f)"
   ]
  },
  {
   "cell_type": "code",
   "execution_count": 12,
   "id": "706d8d9f",
   "metadata": {
    "execution": {
     "iopub.execute_input": "2022-08-13T22:35:11.292528Z",
     "iopub.status.busy": "2022-08-13T22:35:11.292237Z",
     "iopub.status.idle": "2022-08-13T22:35:12.597129Z",
     "shell.execute_reply": "2022-08-13T22:35:12.596268Z"
    },
    "papermill": {
     "duration": 1.313584,
     "end_time": "2022-08-13T22:35:12.599391",
     "exception": false,
     "start_time": "2022-08-13T22:35:11.285807",
     "status": "completed"
    },
    "tags": []
   },
   "outputs": [
    {
     "name": "stderr",
     "output_type": "stream",
     "text": [
      "/Users/mboussarov/Library/Caches/pypoetry/virtualenvs/data-medics-capstone-ZGa4TAVF-py3.9/lib/python3.9/site-packages/sklearn/feature_extraction/text.py:404: UserWarning: Your stop_words may be inconsistent with your preprocessing. Tokenizing the stop words generated tokens ['donate'] not in stop_words.\n",
      "  warnings.warn(\n"
     ]
    }
   ],
   "source": [
    "earthquake_text_vectorized = vectorizer.transform(list(df_all[df_all['disaster_type']=='earthquake']['lemmatized']))\n",
    "fire_text_vectorized = vectorizer.transform(list(df_all[df_all['disaster_type']=='fire']['lemmatized']))\n",
    "flood_text_vectorized = vectorizer.transform(list(df_all[df_all['disaster_type']=='flood']['lemmatized']))\n",
    "hurricane_text_vectorized = vectorizer.transform(list(df_all[df_all['disaster_type']=='hurricane']['lemmatized']))"
   ]
  },
  {
   "cell_type": "code",
   "execution_count": 13,
   "id": "8a9456a1",
   "metadata": {
    "execution": {
     "iopub.execute_input": "2022-08-13T22:35:12.611557Z",
     "iopub.status.busy": "2022-08-13T22:35:12.611269Z",
     "iopub.status.idle": "2022-08-13T22:35:22.047185Z",
     "shell.execute_reply": "2022-08-13T22:35:22.046413Z"
    },
    "papermill": {
     "duration": 9.444192,
     "end_time": "2022-08-13T22:35:22.049166",
     "exception": false,
     "start_time": "2022-08-13T22:35:12.604974",
     "status": "completed"
    },
    "tags": []
   },
   "outputs": [
    {
     "data": {
      "text/plain": [
       "array([[0.77503453, 0.22496547],\n",
       "       [0.89939596, 0.10060404],\n",
       "       [0.04631994, 0.95368006],\n",
       "       ...,\n",
       "       [0.81555754, 0.18444246],\n",
       "       [0.16263193, 0.83736807],\n",
       "       [0.91068813, 0.08931187]])"
      ]
     },
     "execution_count": 13,
     "metadata": {},
     "output_type": "execute_result"
    }
   ],
   "source": [
    "lda_model_earthquake.fit_transform(earthquake_text_vectorized)"
   ]
  },
  {
   "cell_type": "code",
   "execution_count": 14,
   "id": "aa704743",
   "metadata": {
    "execution": {
     "iopub.execute_input": "2022-08-13T22:35:22.061460Z",
     "iopub.status.busy": "2022-08-13T22:35:22.061186Z",
     "iopub.status.idle": "2022-08-13T22:35:34.502052Z",
     "shell.execute_reply": "2022-08-13T22:35:34.501428Z"
    },
    "papermill": {
     "duration": 12.449131,
     "end_time": "2022-08-13T22:35:34.504149",
     "exception": false,
     "start_time": "2022-08-13T22:35:22.055018",
     "status": "completed"
    },
    "tags": []
   },
   "outputs": [
    {
     "data": {
      "text/plain": [
       "array([[0.12500127, 0.62499527, 0.12500152, 0.12500194],\n",
       "       [0.02272852, 0.02290931, 0.93150542, 0.02285676],\n",
       "       [0.03603028, 0.60705595, 0.03580154, 0.32111223],\n",
       "       ...,\n",
       "       [0.40663193, 0.51443582, 0.06672117, 0.01221109],\n",
       "       [0.92447282, 0.02536235, 0.02500018, 0.02516466],\n",
       "       [0.05077452, 0.09224879, 0.58222756, 0.27474913]])"
      ]
     },
     "execution_count": 14,
     "metadata": {},
     "output_type": "execute_result"
    }
   ],
   "source": [
    "lda_model_fire.fit_transform(fire_text_vectorized)"
   ]
  },
  {
   "cell_type": "code",
   "execution_count": 15,
   "id": "e3a98d43",
   "metadata": {
    "execution": {
     "iopub.execute_input": "2022-08-13T22:35:34.517991Z",
     "iopub.status.busy": "2022-08-13T22:35:34.517696Z",
     "iopub.status.idle": "2022-08-13T22:35:49.575205Z",
     "shell.execute_reply": "2022-08-13T22:35:49.574501Z"
    },
    "papermill": {
     "duration": 15.066243,
     "end_time": "2022-08-13T22:35:49.577233",
     "exception": false,
     "start_time": "2022-08-13T22:35:34.510990",
     "status": "completed"
    },
    "tags": []
   },
   "outputs": [
    {
     "data": {
      "text/plain": [
       "array([[0.17840612, 0.76961967, 0.05197422],\n",
       "       [0.05453876, 0.77655022, 0.16891101],\n",
       "       [0.37543094, 0.54121059, 0.08335847],\n",
       "       ...,\n",
       "       [0.70572085, 0.05447348, 0.23980567],\n",
       "       [0.08338713, 0.58432106, 0.33229182],\n",
       "       [0.52783743, 0.19424844, 0.27791413]])"
      ]
     },
     "execution_count": 15,
     "metadata": {},
     "output_type": "execute_result"
    }
   ],
   "source": [
    "lda_model_flood.fit_transform(flood_text_vectorized)"
   ]
  },
  {
   "cell_type": "code",
   "execution_count": 16,
   "id": "7f671f84",
   "metadata": {
    "execution": {
     "iopub.execute_input": "2022-08-13T22:35:49.590793Z",
     "iopub.status.busy": "2022-08-13T22:35:49.590502Z",
     "iopub.status.idle": "2022-08-13T22:36:35.787009Z",
     "shell.execute_reply": "2022-08-13T22:36:35.786243Z"
    },
    "papermill": {
     "duration": 46.212057,
     "end_time": "2022-08-13T22:36:35.795587",
     "exception": false,
     "start_time": "2022-08-13T22:35:49.583530",
     "status": "completed"
    },
    "tags": []
   },
   "outputs": [
    {
     "data": {
      "text/plain": [
       "array([[0.01551876, 0.19008961, 0.68668435, 0.0923226 , 0.01538469],\n",
       "       [0.01544671, 0.01538469, 0.01538468, 0.70762439, 0.24615953],\n",
       "       [0.16918277, 0.09226605, 0.0153847 , 0.70763337, 0.01553311],\n",
       "       ...,\n",
       "       [0.86531364, 0.03356784, 0.03404396, 0.03333341, 0.03374115],\n",
       "       [0.59999481, 0.25407556, 0.01854691, 0.10905586, 0.01832686],\n",
       "       [0.02005398, 0.24511754, 0.26831516, 0.24647487, 0.22003845]])"
      ]
     },
     "execution_count": 16,
     "metadata": {},
     "output_type": "execute_result"
    }
   ],
   "source": [
    "lda_model_hurricane.fit_transform(hurricane_text_vectorized)"
   ]
  },
  {
   "cell_type": "code",
   "execution_count": 17,
   "id": "83883202",
   "metadata": {
    "execution": {
     "iopub.execute_input": "2022-08-13T22:36:35.811112Z",
     "iopub.status.busy": "2022-08-13T22:36:35.810541Z",
     "iopub.status.idle": "2022-08-13T22:36:35.823253Z",
     "shell.execute_reply": "2022-08-13T22:36:35.822430Z"
    },
    "papermill": {
     "duration": 0.023192,
     "end_time": "2022-08-13T22:36:35.825797",
     "exception": false,
     "start_time": "2022-08-13T22:36:35.802605",
     "status": "completed"
    },
    "tags": []
   },
   "outputs": [],
   "source": [
    "with open(product['lda_model_earthquake'], \"wb\") as f:\n",
    "    pickle.dump(lda_model_earthquake, f)\n",
    "with open(product['lda_model_fire'], \"wb\") as f:\n",
    "    pickle.dump(lda_model_fire, f)\n",
    "with open(product['lda_model_flood'], \"wb\") as f:\n",
    "    pickle.dump(lda_model_flood, f)\n",
    "with open(product['lda_model_hurricane'], \"wb\") as f:\n",
    "    pickle.dump(lda_model_hurricane, f)"
   ]
  },
  {
   "cell_type": "markdown",
   "id": "faac39ae",
   "metadata": {
    "papermill": {
     "duration": 0.006916,
     "end_time": "2022-08-13T22:36:35.840042",
     "exception": false,
     "start_time": "2022-08-13T22:36:35.833126",
     "status": "completed"
    },
    "tags": []
   },
   "source": [
    "## Performance Stats"
   ]
  },
  {
   "cell_type": "code",
   "execution_count": 18,
   "id": "460738ad",
   "metadata": {
    "execution": {
     "iopub.execute_input": "2022-08-13T22:36:35.854988Z",
     "iopub.status.busy": "2022-08-13T22:36:35.854660Z",
     "iopub.status.idle": "2022-08-13T22:36:54.767686Z",
     "shell.execute_reply": "2022-08-13T22:36:54.766784Z"
    },
    "papermill": {
     "duration": 18.923326,
     "end_time": "2022-08-13T22:36:54.770060",
     "exception": false,
     "start_time": "2022-08-13T22:36:35.846734",
     "status": "completed"
    },
    "tags": []
   },
   "outputs": [
    {
     "name": "stdout",
     "output_type": "stream",
     "text": [
      "Log Likelihood Earthquake:  -488653.45987242664\n"
     ]
    },
    {
     "name": "stdout",
     "output_type": "stream",
     "text": [
      "Log Likelihood Fire:  -862991.27309673\n"
     ]
    },
    {
     "name": "stdout",
     "output_type": "stream",
     "text": [
      "Log Likelihood Flood:  -1017564.9037416612\n"
     ]
    },
    {
     "name": "stdout",
     "output_type": "stream",
     "text": [
      "Log Likelihood Hurricane:  -3262678.1450290033\n"
     ]
    },
    {
     "name": "stdout",
     "output_type": "stream",
     "text": [
      "Perplexity Earthquake:  1515.1718974502674\n"
     ]
    },
    {
     "name": "stdout",
     "output_type": "stream",
     "text": [
      "Perplexity Fire:  1864.339285829549\n"
     ]
    },
    {
     "name": "stdout",
     "output_type": "stream",
     "text": [
      "Perplexity Flood:  1798.312954109303\n"
     ]
    },
    {
     "name": "stdout",
     "output_type": "stream",
     "text": [
      "Perplexity Hurricane:  2185.718504207312\n"
     ]
    }
   ],
   "source": [
    "# Log Likelyhood: Higher the better\n",
    "print(\"Log Likelihood Earthquake: \", lda_model_earthquake.score(earthquake_text_vectorized))\n",
    "print(\"Log Likelihood Fire: \", lda_model_fire.score(fire_text_vectorized))\n",
    "print(\"Log Likelihood Flood: \", lda_model_flood.score(flood_text_vectorized))\n",
    "print(\"Log Likelihood Hurricane: \", lda_model_hurricane.score(hurricane_text_vectorized))\n",
    "\n",
    "# Perplexity: Lower the better. Perplexity = exp(-1. * log-likelihood per word)\n",
    "print(\"Perplexity Earthquake: \", lda_model_earthquake.perplexity(earthquake_text_vectorized))\n",
    "print(\"Perplexity Fire: \", lda_model_fire.perplexity(fire_text_vectorized))\n",
    "print(\"Perplexity Flood: \", lda_model_flood.perplexity(flood_text_vectorized))\n",
    "print(\"Perplexity Hurricane: \", lda_model_hurricane.perplexity(hurricane_text_vectorized))"
   ]
  },
  {
   "cell_type": "markdown",
   "id": "8f50a32c",
   "metadata": {
    "papermill": {
     "duration": 0.007895,
     "end_time": "2022-08-13T22:36:54.785988",
     "exception": false,
     "start_time": "2022-08-13T22:36:54.778093",
     "status": "completed"
    },
    "tags": []
   },
   "source": [
    "## Extract Topic Keywords"
   ]
  },
  {
   "cell_type": "code",
   "execution_count": 19,
   "id": "37e15dae",
   "metadata": {
    "execution": {
     "iopub.execute_input": "2022-08-13T22:36:54.802272Z",
     "iopub.status.busy": "2022-08-13T22:36:54.801927Z",
     "iopub.status.idle": "2022-08-13T22:36:54.872036Z",
     "shell.execute_reply": "2022-08-13T22:36:54.871113Z"
    },
    "lines_to_next_cell": 0,
    "papermill": {
     "duration": 0.081131,
     "end_time": "2022-08-13T22:36:54.874452",
     "exception": false,
     "start_time": "2022-08-13T22:36:54.793321",
     "status": "completed"
    },
    "tags": []
   },
   "outputs": [
    {
     "name": "stderr",
     "output_type": "stream",
     "text": [
      "/Users/mboussarov/Library/Caches/pypoetry/virtualenvs/data-medics-capstone-ZGa4TAVF-py3.9/lib/python3.9/site-packages/sklearn/utils/deprecation.py:87: FutureWarning: Function get_feature_names is deprecated; get_feature_names is deprecated in 1.0 and will be removed in 1.2. Please use get_feature_names_out instead.\n",
      "  warnings.warn(msg, category=FutureWarning)\n",
      "/Users/mboussarov/Library/Caches/pypoetry/virtualenvs/data-medics-capstone-ZGa4TAVF-py3.9/lib/python3.9/site-packages/sklearn/utils/deprecation.py:87: FutureWarning: Function get_feature_names is deprecated; get_feature_names is deprecated in 1.0 and will be removed in 1.2. Please use get_feature_names_out instead.\n",
      "  warnings.warn(msg, category=FutureWarning)\n",
      "/Users/mboussarov/Library/Caches/pypoetry/virtualenvs/data-medics-capstone-ZGa4TAVF-py3.9/lib/python3.9/site-packages/sklearn/utils/deprecation.py:87: FutureWarning: Function get_feature_names is deprecated; get_feature_names is deprecated in 1.0 and will be removed in 1.2. Please use get_feature_names_out instead.\n",
      "  warnings.warn(msg, category=FutureWarning)\n",
      "/Users/mboussarov/Library/Caches/pypoetry/virtualenvs/data-medics-capstone-ZGa4TAVF-py3.9/lib/python3.9/site-packages/sklearn/utils/deprecation.py:87: FutureWarning: Function get_feature_names is deprecated; get_feature_names is deprecated in 1.0 and will be removed in 1.2. Please use get_feature_names_out instead.\n",
      "  warnings.warn(msg, category=FutureWarning)\n"
     ]
    },
    {
     "data": {
      "text/html": [
       "<div>\n",
       "<style scoped>\n",
       "    .dataframe tbody tr th:only-of-type {\n",
       "        vertical-align: middle;\n",
       "    }\n",
       "\n",
       "    .dataframe tbody tr th {\n",
       "        vertical-align: top;\n",
       "    }\n",
       "\n",
       "    .dataframe thead th {\n",
       "        text-align: right;\n",
       "    }\n",
       "</style>\n",
       "<table border=\"1\" class=\"dataframe\">\n",
       "  <thead>\n",
       "    <tr style=\"text-align: right;\">\n",
       "      <th></th>\n",
       "      <th>earthquake_Topic 0</th>\n",
       "      <th>earthquake_Topic 1</th>\n",
       "      <th>fire_Topic 0</th>\n",
       "      <th>fire_Topic 1</th>\n",
       "      <th>fire_Topic 2</th>\n",
       "      <th>fire_Topic 3</th>\n",
       "      <th>flood_Topic 0</th>\n",
       "      <th>flood_Topic 1</th>\n",
       "      <th>flood_Topic 2</th>\n",
       "      <th>hurricane_Topic 0</th>\n",
       "      <th>hurricane_Topic 1</th>\n",
       "      <th>hurricane_Topic 2</th>\n",
       "      <th>hurricane_Topic 3</th>\n",
       "      <th>hurricane_Topic 4</th>\n",
       "    </tr>\n",
       "  </thead>\n",
       "  <tbody>\n",
       "    <tr>\n",
       "      <th>Word 0</th>\n",
       "      <td>pray</td>\n",
       "      <td>help</td>\n",
       "      <td>death</td>\n",
       "      <td>relief</td>\n",
       "      <td>home</td>\n",
       "      <td>help</td>\n",
       "      <td>help</td>\n",
       "      <td>relief</td>\n",
       "      <td>flooding</td>\n",
       "      <td>storm</td>\n",
       "      <td>evacuation</td>\n",
       "      <td>damage</td>\n",
       "      <td>emergency</td>\n",
       "      <td>help</td>\n",
       "    </tr>\n",
       "    <tr>\n",
       "      <th>Word 1</th>\n",
       "      <td>prayer</td>\n",
       "      <td>donate</td>\n",
       "      <td>toll</td>\n",
       "      <td>support</td>\n",
       "      <td>lose</td>\n",
       "      <td>camp</td>\n",
       "      <td>need</td>\n",
       "      <td>donate</td>\n",
       "      <td>state</td>\n",
       "      <td>damage</td>\n",
       "      <td>say</td>\n",
       "      <td>pray</td>\n",
       "      <td>safe</td>\n",
       "      <td>relief</td>\n",
       "    </tr>\n",
       "    <tr>\n",
       "      <th>Word 2</th>\n",
       "      <td>safe</td>\n",
       "      <td>death</td>\n",
       "      <td>death toll</td>\n",
       "      <td>help</td>\n",
       "      <td>destroy</td>\n",
       "      <td>victim</td>\n",
       "      <td>relief</td>\n",
       "      <td>victim</td>\n",
       "      <td>damage</td>\n",
       "      <td>destroy</td>\n",
       "      <td>life</td>\n",
       "      <td>home</td>\n",
       "      <td>supply</td>\n",
       "      <td>need</td>\n",
       "    </tr>\n",
       "    <tr>\n",
       "      <th>Word 3</th>\n",
       "      <td>injure</td>\n",
       "      <td>victim</td>\n",
       "      <td>camp</td>\n",
       "      <td>make</td>\n",
       "      <td>burn</td>\n",
       "      <td>donate</td>\n",
       "      <td>rescue</td>\n",
       "      <td>fund</td>\n",
       "      <td>disaster</td>\n",
       "      <td>wind</td>\n",
       "      <td>destruction</td>\n",
       "      <td>cause</td>\n",
       "      <td>rescue</td>\n",
       "      <td>donate</td>\n",
       "    </tr>\n",
       "    <tr>\n",
       "      <th>Word 4</th>\n",
       "      <td>thought</td>\n",
       "      <td>rescue</td>\n",
       "      <td>dead</td>\n",
       "      <td>donation</td>\n",
       "      <td>family</td>\n",
       "      <td>blame</td>\n",
       "      <td>food</td>\n",
       "      <td>help</td>\n",
       "      <td>year</td>\n",
       "      <td>flooding</td>\n",
       "      <td>disaster</td>\n",
       "      <td>time</td>\n",
       "      <td>stay</td>\n",
       "      <td>victim</td>\n",
       "    </tr>\n",
       "  </tbody>\n",
       "</table>\n",
       "</div>"
      ],
      "text/plain": [
       "       earthquake_Topic 0 earthquake_Topic 1 fire_Topic 0 fire_Topic 1  \\\n",
       "Word 0               pray               help        death       relief   \n",
       "Word 1             prayer             donate         toll      support   \n",
       "Word 2               safe              death   death toll         help   \n",
       "Word 3             injure             victim         camp         make   \n",
       "Word 4            thought             rescue         dead     donation   \n",
       "\n",
       "       fire_Topic 2 fire_Topic 3 flood_Topic 0 flood_Topic 1 flood_Topic 2  \\\n",
       "Word 0         home         help          help        relief      flooding   \n",
       "Word 1         lose         camp          need        donate         state   \n",
       "Word 2      destroy       victim        relief        victim        damage   \n",
       "Word 3         burn       donate        rescue          fund      disaster   \n",
       "Word 4       family        blame          food          help          year   \n",
       "\n",
       "       hurricane_Topic 0 hurricane_Topic 1 hurricane_Topic 2  \\\n",
       "Word 0             storm        evacuation            damage   \n",
       "Word 1            damage               say              pray   \n",
       "Word 2           destroy              life              home   \n",
       "Word 3              wind       destruction             cause   \n",
       "Word 4          flooding          disaster              time   \n",
       "\n",
       "       hurricane_Topic 3 hurricane_Topic 4  \n",
       "Word 0         emergency              help  \n",
       "Word 1              safe            relief  \n",
       "Word 2            supply              need  \n",
       "Word 3            rescue            donate  \n",
       "Word 4              stay            victim  "
      ]
     },
     "execution_count": 19,
     "metadata": {},
     "output_type": "execute_result"
    }
   ],
   "source": [
    "topics_earthquake = pd.DataFrame(show_topics(fitted_vectorizer=vectorizer, fitted_lda_model=lda_model_earthquake, n_words=100, dname='earthquake'))\n",
    "topics_fire = pd.DataFrame(show_topics(fitted_vectorizer=vectorizer, fitted_lda_model=lda_model_fire, n_words=100, dname='fire'))\n",
    "topics_flood = pd.DataFrame(show_topics(fitted_vectorizer=vectorizer, fitted_lda_model=lda_model_flood, n_words=100, dname='flood'))\n",
    "topics_hurricane = pd.DataFrame(show_topics(fitted_vectorizer=vectorizer, fitted_lda_model=lda_model_hurricane, n_words=100, dname='hurricane'))\n",
    "\n",
    "df_topic_keywords = pd.concat([topics_earthquake,topics_fire,topics_flood,topics_hurricane],axis=0)\n",
    "    # df_topic_keywords.columns = ['Word '+str(i) for i in range(df_topic_keywords.shape[1])]\n",
    "    # df_topic_keywords.index = ['Topic '+str(i) for i in range(df_topic_keywords.shape[0])]\n",
    "df_topic_keywords = df_topic_keywords.transpose()\n",
    "df_topic_keywords.head()"
   ]
  },
  {
   "cell_type": "code",
   "execution_count": null,
   "id": "49014607",
   "metadata": {
    "lines_to_next_cell": 2,
    "papermill": {
     "duration": 0.007909,
     "end_time": "2022-08-13T22:36:54.890700",
     "exception": false,
     "start_time": "2022-08-13T22:36:54.882791",
     "status": "completed"
    },
    "tags": []
   },
   "outputs": [],
   "source": []
  },
  {
   "cell_type": "code",
   "execution_count": 20,
   "id": "64b0cdba",
   "metadata": {
    "execution": {
     "iopub.execute_input": "2022-08-13T22:36:54.908001Z",
     "iopub.status.busy": "2022-08-13T22:36:54.907646Z",
     "iopub.status.idle": "2022-08-13T22:36:54.914090Z",
     "shell.execute_reply": "2022-08-13T22:36:54.913318Z"
    },
    "papermill": {
     "duration": 0.017948,
     "end_time": "2022-08-13T22:36:54.916517",
     "exception": false,
     "start_time": "2022-08-13T22:36:54.898569",
     "status": "completed"
    },
    "tags": []
   },
   "outputs": [],
   "source": [
    "df_topic_keywords.to_csv(product['lda_topics_disaster_type'])"
   ]
  },
  {
   "cell_type": "code",
   "execution_count": null,
   "id": "2952a681",
   "metadata": {
    "papermill": {
     "duration": 0.007956,
     "end_time": "2022-08-13T22:36:54.932340",
     "exception": false,
     "start_time": "2022-08-13T22:36:54.924384",
     "status": "completed"
    },
    "tags": []
   },
   "outputs": [],
   "source": []
  }
 ],
 "metadata": {
  "jupytext": {
   "cell_metadata_filter": "tags,-all",
   "main_language": "python",
   "notebook_metadata_filter": "-all",
   "text_representation": {
    "extension": ".py",
    "format_name": "light"
   }
  },
  "kernelspec": {
   "display_name": "Python 3 (ipykernel)",
   "language": "python",
   "name": "python3"
  },
  "language_info": {
   "codemirror_mode": {
    "name": "ipython",
    "version": 3
   },
   "file_extension": ".py",
   "mimetype": "text/x-python",
   "name": "python",
   "nbconvert_exporter": "python",
   "pygments_lexer": "ipython3",
   "version": "3.9.12"
  },
  "papermill": {
   "duration": 307.290137,
   "end_time": "2022-08-13T22:36:55.564715",
   "exception": null,
   "input_path": "/var/folders/lw/k7hqg3bn7s326rs6jxn046b40000gp/T/tmpka7pp9y6.ipynb",
   "output_path": "/Users/mboussarov/_umsi/Capstone/umads_697_data_medics/pipeline/output/topic_modeling_disaster_type_final.ipynb",
   "parameters": {
    "product": {
     "lda_model_earthquake": "/Users/mboussarov/_umsi/Capstone/umads_697_data_medics/pipeline/output/lda_model_earthquake.pkl",
     "lda_model_fire": "/Users/mboussarov/_umsi/Capstone/umads_697_data_medics/pipeline/output/lda_model_fire.pkl",
     "lda_model_flood": "/Users/mboussarov/_umsi/Capstone/umads_697_data_medics/pipeline/output/lda_model_flood.pkl",
     "lda_model_hurricane": "/Users/mboussarov/_umsi/Capstone/umads_697_data_medics/pipeline/output/lda_model_hurricane.pkl",
     "lda_topics_disaster_type": "/Users/mboussarov/_umsi/Capstone/umads_697_data_medics/pipeline/output/lda_topics_disaster_type.csv",
     "nb": "/Users/mboussarov/_umsi/Capstone/umads_697_data_medics/pipeline/output/topic_modeling_disaster_type_final.ipynb"
    },
    "random_seed": 42,
    "upstream": {
     "vectorizer_countVec": {
      "nb": "/Users/mboussarov/_umsi/Capstone/umads_697_data_medics/pipeline/output/vectorizer_countVec.ipynb",
      "vectorizer": "/Users/mboussarov/_umsi/Capstone/umads_697_data_medics/pipeline/output/vectorizer_countVec.pkl"
     }
    }
   },
   "start_time": "2022-08-13T22:31:48.274578"
  }
 },
 "nbformat": 4,
 "nbformat_minor": 5
}