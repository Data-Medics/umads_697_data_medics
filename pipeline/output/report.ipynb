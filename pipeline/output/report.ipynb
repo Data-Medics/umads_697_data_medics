{
 "cells": [
  {
   "cell_type": "code",
   "execution_count": 1,
   "id": "fb16f41e",
   "metadata": {
    "execution": {
     "iopub.execute_input": "2022-06-28T06:21:45.934554Z",
     "iopub.status.busy": "2022-06-28T06:21:45.933924Z",
     "iopub.status.idle": "2022-06-28T06:21:46.443904Z",
     "shell.execute_reply": "2022-06-28T06:21:46.442562Z"
    },
    "papermill": {
     "duration": 0.520124,
     "end_time": "2022-06-28T06:21:46.447941",
     "exception": false,
     "start_time": "2022-06-28T06:21:45.927817",
     "status": "completed"
    },
    "tags": []
   },
   "outputs": [],
   "source": [
    "import pandas as pd\n",
    "import numpy as np"
   ]
  },
  {
   "cell_type": "code",
   "execution_count": 2,
   "id": "decea079",
   "metadata": {
    "execution": {
     "iopub.execute_input": "2022-06-28T06:21:46.456451Z",
     "iopub.status.busy": "2022-06-28T06:21:46.455841Z",
     "iopub.status.idle": "2022-06-28T06:21:46.461438Z",
     "shell.execute_reply": "2022-06-28T06:21:46.460300Z"
    },
    "papermill": {
     "duration": 0.013676,
     "end_time": "2022-06-28T06:21:46.465203",
     "exception": false,
     "start_time": "2022-06-28T06:21:46.451527",
     "status": "completed"
    },
    "tags": [
     "parameters"
    ]
   },
   "outputs": [],
   "source": [
    "upstream = []\n",
    "lookback_days = None"
   ]
  },
  {
   "cell_type": "code",
   "execution_count": 3,
   "id": "f2c409c2",
   "metadata": {
    "execution": {
     "iopub.execute_input": "2022-06-28T06:21:46.472987Z",
     "iopub.status.busy": "2022-06-28T06:21:46.472132Z",
     "iopub.status.idle": "2022-06-28T06:21:46.478027Z",
     "shell.execute_reply": "2022-06-28T06:21:46.476709Z"
    },
    "papermill": {
     "duration": 0.014035,
     "end_time": "2022-06-28T06:21:46.481993",
     "exception": false,
     "start_time": "2022-06-28T06:21:46.467958",
     "status": "completed"
    },
    "tags": [
     "injected-parameters"
    ]
   },
   "outputs": [],
   "source": [
    "# Parameters\n",
    "lookback_days = 10\n",
    "product = {\"nb\": \"/Users/mboussarov/_umsi/Capstone/umads_697_data_medics/pipeline/output/report.ipynb\"}\n"
   ]
  },
  {
   "cell_type": "code",
   "execution_count": 4,
   "id": "25727a30",
   "metadata": {
    "execution": {
     "iopub.execute_input": "2022-06-28T06:21:46.489616Z",
     "iopub.status.busy": "2022-06-28T06:21:46.489127Z",
     "iopub.status.idle": "2022-06-28T06:21:46.525817Z",
     "shell.execute_reply": "2022-06-28T06:21:46.524652Z"
    },
    "papermill": {
     "duration": 0.044798,
     "end_time": "2022-06-28T06:21:46.529577",
     "exception": false,
     "start_time": "2022-06-28T06:21:46.484779",
     "status": "completed"
    },
    "tags": []
   },
   "outputs": [
    {
     "data": {
      "text/html": [
       "<div>\n",
       "<style scoped>\n",
       "    .dataframe tbody tr th:only-of-type {\n",
       "        vertical-align: middle;\n",
       "    }\n",
       "\n",
       "    .dataframe tbody tr th {\n",
       "        vertical-align: top;\n",
       "    }\n",
       "\n",
       "    .dataframe thead th {\n",
       "        text-align: right;\n",
       "    }\n",
       "</style>\n",
       "<table border=\"1\" class=\"dataframe\">\n",
       "  <thead>\n",
       "    <tr style=\"text-align: right;\">\n",
       "      <th></th>\n",
       "      <th>tweet_id</th>\n",
       "      <th>class_label</th>\n",
       "    </tr>\n",
       "  </thead>\n",
       "  <tbody>\n",
       "    <tr>\n",
       "      <th>0</th>\n",
       "      <td>722050420026273793</td>\n",
       "      <td>sympathy_and_support</td>\n",
       "    </tr>\n",
       "    <tr>\n",
       "      <th>1</th>\n",
       "      <td>721767225456074752</td>\n",
       "      <td>injured_or_dead_people</td>\n",
       "    </tr>\n",
       "    <tr>\n",
       "      <th>2</th>\n",
       "      <td>721735353703510016</td>\n",
       "      <td>requests_or_urgent_needs</td>\n",
       "    </tr>\n",
       "    <tr>\n",
       "      <th>3</th>\n",
       "      <td>721637133690269696</td>\n",
       "      <td>injured_or_dead_people</td>\n",
       "    </tr>\n",
       "    <tr>\n",
       "      <th>4</th>\n",
       "      <td>721818472930533380</td>\n",
       "      <td>sympathy_and_support</td>\n",
       "    </tr>\n",
       "  </tbody>\n",
       "</table>\n",
       "</div>"
      ],
      "text/plain": [
       "             tweet_id               class_label\n",
       "0  722050420026273793      sympathy_and_support\n",
       "1  721767225456074752    injured_or_dead_people\n",
       "2  721735353703510016  requests_or_urgent_needs\n",
       "3  721637133690269696    injured_or_dead_people\n",
       "4  721818472930533380      sympathy_and_support"
      ]
     },
     "execution_count": 4,
     "metadata": {},
     "output_type": "execute_result"
    }
   ],
   "source": [
    "df = pd.read_csv('../data/all_dev.tsv', sep='\\t')\n",
    "df.head()"
   ]
  },
  {
   "cell_type": "code",
   "execution_count": null,
   "id": "fc2a52eb",
   "metadata": {
    "papermill": {
     "duration": 0.003271,
     "end_time": "2022-06-28T06:21:46.536278",
     "exception": false,
     "start_time": "2022-06-28T06:21:46.533007",
     "status": "completed"
    },
    "tags": []
   },
   "outputs": [],
   "source": []
  }
 ],
 "metadata": {
  "jupytext": {
   "cell_metadata_filter": "tags,-all",
   "main_language": "python",
   "notebook_metadata_filter": "-all",
   "text_representation": {
    "extension": ".py",
    "format_name": "light"
   }
  },
  "kernelspec": {
   "display_name": "Python 3 (ipykernel)",
   "language": "python",
   "name": "python3"
  },
  "language_info": {
   "codemirror_mode": {
    "name": "ipython",
    "version": 3
   },
   "file_extension": ".py",
   "mimetype": "text/x-python",
   "name": "python",
   "nbconvert_exporter": "python",
   "pygments_lexer": "ipython3",
   "version": "3.9.12"
  },
  "papermill": {
   "duration": 2.466763,
   "end_time": "2022-06-28T06:21:46.768171",
   "exception": null,
   "input_path": "/var/folders/lw/k7hqg3bn7s326rs6jxn046b40000gp/T/tmpzvf61dhd.ipynb",
   "output_path": "/Users/mboussarov/_umsi/Capstone/umads_697_data_medics/pipeline/output/report.ipynb",
   "parameters": {
    "lookback_days": 10,
    "product": {
     "nb": "/Users/mboussarov/_umsi/Capstone/umads_697_data_medics/pipeline/output/report.ipynb"
    }
   },
   "start_time": "2022-06-28T06:21:44.301408"
  }
 },
 "nbformat": 4,
 "nbformat_minor": 5
}