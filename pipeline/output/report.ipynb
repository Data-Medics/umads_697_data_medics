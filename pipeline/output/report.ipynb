{
 "cells": [
  {
   "cell_type": "code",
   "execution_count": 1,
   "id": "bfcf1906",
   "metadata": {
    "execution": {
     "iopub.execute_input": "2022-06-29T19:19:50.277640Z",
     "iopub.status.busy": "2022-06-29T19:19:50.264552Z",
     "iopub.status.idle": "2022-06-29T19:19:52.399130Z",
     "shell.execute_reply": "2022-06-29T19:19:52.395689Z"
    },
    "papermill": {
     "duration": 2.14967,
     "end_time": "2022-06-29T19:19:52.405345",
     "exception": false,
     "start_time": "2022-06-29T19:19:50.255675",
     "status": "completed"
    },
    "tags": []
   },
   "outputs": [],
   "source": [
    "import pandas as pd\n",
    "import numpy as np"
   ]
  },
  {
   "cell_type": "code",
   "execution_count": 2,
   "id": "1caeb7e8",
   "metadata": {
    "execution": {
     "iopub.execute_input": "2022-06-29T19:19:52.431940Z",
     "iopub.status.busy": "2022-06-29T19:19:52.430752Z",
     "iopub.status.idle": "2022-06-29T19:19:52.452823Z",
     "shell.execute_reply": "2022-06-29T19:19:52.450275Z"
    },
    "papermill": {
     "duration": 0.03527,
     "end_time": "2022-06-29T19:19:52.458649",
     "exception": false,
     "start_time": "2022-06-29T19:19:52.423379",
     "status": "completed"
    },
    "tags": [
     "parameters"
    ]
   },
   "outputs": [],
   "source": [
    "upstream = []\n",
    "lookback_days = None"
   ]
  },
  {
   "cell_type": "code",
   "execution_count": 3,
   "id": "0298e5c9",
   "metadata": {
    "execution": {
     "iopub.execute_input": "2022-06-29T19:19:52.495186Z",
     "iopub.status.busy": "2022-06-29T19:19:52.483734Z",
     "iopub.status.idle": "2022-06-29T19:19:52.505758Z",
     "shell.execute_reply": "2022-06-29T19:19:52.503778Z"
    },
    "papermill": {
     "duration": 0.048781,
     "end_time": "2022-06-29T19:19:52.523857",
     "exception": false,
     "start_time": "2022-06-29T19:19:52.475076",
     "status": "completed"
    },
    "tags": [
     "injected-parameters"
    ]
   },
   "outputs": [],
   "source": [
    "# Parameters\n",
    "lookback_days = 10\n",
    "product = {\"nb\": \"/Users/mboussarov/_umsi/Capstone/umads_697_data_medics/pipeline/output/report.ipynb\"}\n"
   ]
  },
  {
   "cell_type": "code",
   "execution_count": 4,
   "id": "2f73388b",
   "metadata": {
    "execution": {
     "iopub.execute_input": "2022-06-29T19:19:52.552182Z",
     "iopub.status.busy": "2022-06-29T19:19:52.550820Z",
     "iopub.status.idle": "2022-06-29T19:19:52.658871Z",
     "shell.execute_reply": "2022-06-29T19:19:52.657246Z"
    },
    "papermill": {
     "duration": 0.148577,
     "end_time": "2022-06-29T19:19:52.679802",
     "exception": false,
     "start_time": "2022-06-29T19:19:52.531225",
     "status": "completed"
    },
    "tags": []
   },
   "outputs": [
    {
     "data": {
      "text/html": [
       "<div>\n",
       "<style scoped>\n",
       "    .dataframe tbody tr th:only-of-type {\n",
       "        vertical-align: middle;\n",
       "    }\n",
       "\n",
       "    .dataframe tbody tr th {\n",
       "        vertical-align: top;\n",
       "    }\n",
       "\n",
       "    .dataframe thead th {\n",
       "        text-align: right;\n",
       "    }\n",
       "</style>\n",
       "<table border=\"1\" class=\"dataframe\">\n",
       "  <thead>\n",
       "    <tr style=\"text-align: right;\">\n",
       "      <th></th>\n",
       "      <th>tweet_id</th>\n",
       "      <th>class_label</th>\n",
       "    </tr>\n",
       "  </thead>\n",
       "  <tbody>\n",
       "    <tr>\n",
       "      <th>0</th>\n",
       "      <td>722050420026273793</td>\n",
       "      <td>sympathy_and_support</td>\n",
       "    </tr>\n",
       "    <tr>\n",
       "      <th>1</th>\n",
       "      <td>721767225456074752</td>\n",
       "      <td>injured_or_dead_people</td>\n",
       "    </tr>\n",
       "    <tr>\n",
       "      <th>2</th>\n",
       "      <td>721735353703510016</td>\n",
       "      <td>requests_or_urgent_needs</td>\n",
       "    </tr>\n",
       "    <tr>\n",
       "      <th>3</th>\n",
       "      <td>721637133690269696</td>\n",
       "      <td>injured_or_dead_people</td>\n",
       "    </tr>\n",
       "    <tr>\n",
       "      <th>4</th>\n",
       "      <td>721818472930533380</td>\n",
       "      <td>sympathy_and_support</td>\n",
       "    </tr>\n",
       "  </tbody>\n",
       "</table>\n",
       "</div>"
      ],
      "text/plain": [
       "             tweet_id               class_label\n",
       "0  722050420026273793      sympathy_and_support\n",
       "1  721767225456074752    injured_or_dead_people\n",
       "2  721735353703510016  requests_or_urgent_needs\n",
       "3  721637133690269696    injured_or_dead_people\n",
       "4  721818472930533380      sympathy_and_support"
      ]
     },
     "execution_count": 4,
     "metadata": {},
     "output_type": "execute_result"
    }
   ],
   "source": [
    "df = pd.read_csv('../data/all_dev.tsv', sep='\\t')\n",
    "df.head()"
   ]
  },
  {
   "cell_type": "code",
   "execution_count": 5,
   "id": "b3f7ea51",
   "metadata": {
    "execution": {
     "iopub.execute_input": "2022-06-29T19:19:52.707570Z",
     "iopub.status.busy": "2022-06-29T19:19:52.706819Z",
     "iopub.status.idle": "2022-06-29T19:19:52.728543Z",
     "shell.execute_reply": "2022-06-29T19:19:52.726013Z"
    },
    "lines_to_next_cell": 0,
    "papermill": {
     "duration": 0.048408,
     "end_time": "2022-06-29T19:19:52.746342",
     "exception": false,
     "start_time": "2022-06-29T19:19:52.697934",
     "status": "completed"
    },
    "tags": []
   },
   "outputs": [],
   "source": [
    "# Hello"
   ]
  },
  {
   "cell_type": "code",
   "execution_count": null,
   "id": "9a4732ec",
   "metadata": {
    "lines_to_next_cell": 2,
    "papermill": {
     "duration": 0.016262,
     "end_time": "2022-06-29T19:19:52.771069",
     "exception": false,
     "start_time": "2022-06-29T19:19:52.754807",
     "status": "completed"
    },
    "tags": []
   },
   "outputs": [],
   "source": []
  }
 ],
 "metadata": {
  "jupytext": {
   "cell_metadata_filter": "tags,-all",
   "main_language": "python",
   "notebook_metadata_filter": "-all",
   "text_representation": {
    "extension": ".py",
    "format_name": "light"
   }
  },
  "kernelspec": {
   "display_name": "Python 3 (ipykernel)",
   "language": "python",
   "name": "python3"
  },
  "language_info": {
   "codemirror_mode": {
    "name": "ipython",
    "version": 3
   },
   "file_extension": ".py",
   "mimetype": "text/x-python",
   "name": "python",
   "nbconvert_exporter": "python",
   "pygments_lexer": "ipython3",
   "version": "3.9.12"
  },
  "papermill": {
   "duration": 13.041196,
   "end_time": "2022-06-29T19:19:53.549609",
   "exception": null,
   "input_path": "/var/folders/lw/k7hqg3bn7s326rs6jxn046b40000gp/T/tmpu9g4za_7.ipynb",
   "output_path": "/Users/mboussarov/_umsi/Capstone/umads_697_data_medics/pipeline/output/report.ipynb",
   "parameters": {
    "lookback_days": 10,
    "product": {
     "nb": "/Users/mboussarov/_umsi/Capstone/umads_697_data_medics/pipeline/output/report.ipynb"
    }
   },
   "start_time": "2022-06-29T19:19:40.508413"
  }
 },
 "nbformat": 4,
 "nbformat_minor": 5
}