{
 "cells": [
  {
   "cell_type": "markdown",
   "id": "1ea0a87f",
   "metadata": {
    "papermill": {
     "duration": 0.01236,
     "end_time": "2022-08-19T21:08:18.832003",
     "exception": false,
     "start_time": "2022-08-19T21:08:18.819643",
     "status": "completed"
    },
    "tags": []
   },
   "source": [
    "# Doing an exploration on recent disaster tweets for a disaster category"
   ]
  },
  {
   "cell_type": "code",
   "execution_count": 1,
   "id": "588eec2e",
   "metadata": {
    "execution": {
     "iopub.execute_input": "2022-08-19T21:08:18.855141Z",
     "iopub.status.busy": "2022-08-19T21:08:18.854542Z",
     "iopub.status.idle": "2022-08-19T21:08:22.775683Z",
     "shell.execute_reply": "2022-08-19T21:08:22.774883Z"
    },
    "papermill": {
     "duration": 3.934305,
     "end_time": "2022-08-19T21:08:22.778526",
     "exception": false,
     "start_time": "2022-08-19T21:08:18.844221",
     "status": "completed"
    },
    "tags": []
   },
   "outputs": [],
   "source": [
    "import pandas as pd\n",
    "import pickle\n",
    "\n",
    "import spacy\n",
    "from spacy import displacy\n",
    "import matplotlib.pyplot as plt\n",
    "import seaborn as sns\n",
    "import altair as alt\n",
    "import networkx as nx \n",
    "import nx_altair as nxa\n",
    "from collections import Counter\n",
    "import warnings\n",
    "\n",
    "from tools import extract_assign_location, disaster_title, topNlocations, top_locations, \\\n",
    "                    sampleNtweets, top_locations_tweets, show_top_locations, get_top_locations_flatten, \\\n",
    "                    get_location_graph_data, build_network, get_layout, plot_disaster_mentions, is_intersect, \\\n",
    "                    show_tweets_locations, top_location_pairs\n",
    "\n",
    "warnings.filterwarnings('ignore')\n",
    "pd.set_option('display.max_colwidth', 280)"
   ]
  },
  {
   "cell_type": "markdown",
   "id": "a3288cfa",
   "metadata": {
    "papermill": {
     "duration": 0.009271,
     "end_time": "2022-08-19T21:08:22.797507",
     "exception": false,
     "start_time": "2022-08-19T21:08:22.788236",
     "status": "completed"
    },
    "tags": []
   },
   "source": [
    "## Define any upstream dependencies"
   ]
  },
  {
   "cell_type": "code",
   "execution_count": 2,
   "id": "e2d1da91",
   "metadata": {
    "execution": {
     "iopub.execute_input": "2022-08-19T21:08:22.818469Z",
     "iopub.status.busy": "2022-08-19T21:08:22.817974Z",
     "iopub.status.idle": "2022-08-19T21:08:22.822171Z",
     "shell.execute_reply": "2022-08-19T21:08:22.821350Z"
    },
    "lines_to_end_of_cell_marker": 2,
    "papermill": {
     "duration": 0.017048,
     "end_time": "2022-08-19T21:08:22.824283",
     "exception": false,
     "start_time": "2022-08-19T21:08:22.807235",
     "status": "completed"
    },
    "tags": [
     "parameters"
    ]
   },
   "outputs": [],
   "source": [
    "upstream = [\n",
    "    'vectorizer',\n",
    "    'category_classification_models',\n",
    "    'recent_tweets_wildfire',\n",
    "    'recent_tweets_earthquake',\n",
    "    'recent_tweets_flood',\n",
    "    'recent_tweets_hurricane'\n",
    "]\n",
    "random_seed = None\n",
    "disaster_kind = None"
   ]
  },
  {
   "cell_type": "code",
   "execution_count": 3,
   "id": "51897c3b",
   "metadata": {
    "execution": {
     "iopub.execute_input": "2022-08-19T21:08:22.844641Z",
     "iopub.status.busy": "2022-08-19T21:08:22.844321Z",
     "iopub.status.idle": "2022-08-19T21:08:22.850785Z",
     "shell.execute_reply": "2022-08-19T21:08:22.850073Z"
    },
    "papermill": {
     "duration": 0.019205,
     "end_time": "2022-08-19T21:08:22.852855",
     "exception": false,
     "start_time": "2022-08-19T21:08:22.833650",
     "status": "completed"
    },
    "tags": [
     "injected-parameters"
    ]
   },
   "outputs": [],
   "source": [
    "# Parameters\n",
    "random_seed = 42\n",
    "disaster_kind = \"recent_tweets_hurricane\"\n",
    "upstream = {\n",
    "    \"vectorizer\": {\n",
    "        \"nb\": \"/Users/mboussarov/_umsi/Capstone/umads_697_data_medics/pipeline/output/vectorizer.ipynb\",\n",
    "        \"vectorizer\": \"/Users/mboussarov/_umsi/Capstone/umads_697_data_medics/pipeline/output/vectorizer.pkl\",\n",
    "        \"vocab\": \"/Users/mboussarov/_umsi/Capstone/umads_697_data_medics/pipeline/output/vocab.pkl\",\n",
    "    },\n",
    "    \"category_classification_models\": {\n",
    "        \"nb\": \"/Users/mboussarov/_umsi/Capstone/umads_697_data_medics/pipeline/output/category_classification_models.ipynb\",\n",
    "        \"model_lr\": \"/Users/mboussarov/_umsi/Capstone/umads_697_data_medics/pipeline/output/model_lr.pkl\",\n",
    "        \"model_rf\": \"/Users/mboussarov/_umsi/Capstone/umads_697_data_medics/pipeline/output/model_rf.pkl\",\n",
    "        \"model_nb\": \"/Users/mboussarov/_umsi/Capstone/umads_697_data_medics/pipeline/output/model_nb.csv\",\n",
    "        \"model_votingc\": \"/Users/mboussarov/_umsi/Capstone/umads_697_data_medics/pipeline/output/model_votingc.csv\",\n",
    "    },\n",
    "    \"recent_tweets_earthquake\": {\n",
    "        \"nb\": \"/Users/mboussarov/_umsi/Capstone/umads_697_data_medics/pipeline/output/recent_tweets_earthquake.ipynb\",\n",
    "        \"file\": \"/Users/mboussarov/_umsi/Capstone/umads_697_data_medics/pipeline/output/recent_tweets_earthquake.csv\",\n",
    "    },\n",
    "    \"recent_tweets_wildfire\": {\n",
    "        \"nb\": \"/Users/mboussarov/_umsi/Capstone/umads_697_data_medics/pipeline/output/recent_tweets_wildfire.ipynb\",\n",
    "        \"file\": \"/Users/mboussarov/_umsi/Capstone/umads_697_data_medics/pipeline/output/recent_tweets_wildfire.csv\",\n",
    "    },\n",
    "    \"recent_tweets_hurricane\": {\n",
    "        \"nb\": \"/Users/mboussarov/_umsi/Capstone/umads_697_data_medics/pipeline/output/recent_tweets_hurricane.ipynb\",\n",
    "        \"file\": \"/Users/mboussarov/_umsi/Capstone/umads_697_data_medics/pipeline/output/recent_tweets_hurricane.csv\",\n",
    "    },\n",
    "    \"recent_tweets_flood\": {\n",
    "        \"nb\": \"/Users/mboussarov/_umsi/Capstone/umads_697_data_medics/pipeline/output/recent_tweets_flood.ipynb\",\n",
    "        \"file\": \"/Users/mboussarov/_umsi/Capstone/umads_697_data_medics/pipeline/output/recent_tweets_flood.csv\",\n",
    "    },\n",
    "}\n",
    "product = {\n",
    "    \"nb\": \"/Users/mboussarov/_umsi/Capstone/umads_697_data_medics/pipeline/output/tweets_timeline_hurricane.ipynb\"\n",
    "}\n"
   ]
  },
  {
   "cell_type": "code",
   "execution_count": 4,
   "id": "b4a4ac31",
   "metadata": {
    "execution": {
     "iopub.execute_input": "2022-08-19T21:08:22.873724Z",
     "iopub.status.busy": "2022-08-19T21:08:22.873408Z",
     "iopub.status.idle": "2022-08-19T21:08:22.877973Z",
     "shell.execute_reply": "2022-08-19T21:08:22.877213Z"
    },
    "papermill": {
     "duration": 0.018312,
     "end_time": "2022-08-19T21:08:22.880779",
     "exception": false,
     "start_time": "2022-08-19T21:08:22.862467",
     "status": "completed"
    },
    "tags": []
   },
   "outputs": [
    {
     "name": "stdout",
     "output_type": "stream",
     "text": [
      "Disaster kind:  Hurricane\n"
     ]
    }
   ],
   "source": [
    "print('Disaster kind: ', disaster_title(disaster_kind))"
   ]
  },
  {
   "cell_type": "markdown",
   "id": "fb85632f",
   "metadata": {
    "papermill": {
     "duration": 0.009422,
     "end_time": "2022-08-19T21:08:22.900104",
     "exception": false,
     "start_time": "2022-08-19T21:08:22.890682",
     "status": "completed"
    },
    "tags": []
   },
   "source": [
    "## Load the sample of recent tweets"
   ]
  },
  {
   "cell_type": "code",
   "execution_count": 5,
   "id": "3f7f2d68",
   "metadata": {
    "execution": {
     "iopub.execute_input": "2022-08-19T21:08:22.919944Z",
     "iopub.status.busy": "2022-08-19T21:08:22.919647Z",
     "iopub.status.idle": "2022-08-19T21:08:23.218902Z",
     "shell.execute_reply": "2022-08-19T21:08:23.218132Z"
    },
    "papermill": {
     "duration": 0.311762,
     "end_time": "2022-08-19T21:08:23.221125",
     "exception": false,
     "start_time": "2022-08-19T21:08:22.909363",
     "status": "completed"
    },
    "tags": []
   },
   "outputs": [
    {
     "data": {
      "text/html": [
       "<div>\n",
       "<style scoped>\n",
       "    .dataframe tbody tr th:only-of-type {\n",
       "        vertical-align: middle;\n",
       "    }\n",
       "\n",
       "    .dataframe tbody tr th {\n",
       "        vertical-align: top;\n",
       "    }\n",
       "\n",
       "    .dataframe thead th {\n",
       "        text-align: right;\n",
       "    }\n",
       "</style>\n",
       "<table border=\"1\" class=\"dataframe\">\n",
       "  <thead>\n",
       "    <tr style=\"text-align: right;\">\n",
       "      <th></th>\n",
       "      <th>author_id</th>\n",
       "      <th>tweet_text</th>\n",
       "      <th>created_at</th>\n",
       "      <th>hashtags</th>\n",
       "      <th>users</th>\n",
       "    </tr>\n",
       "  </thead>\n",
       "  <tbody>\n",
       "    <tr>\n",
       "      <th>83027</th>\n",
       "      <td>89206778</td>\n",
       "      <td>RT @sachikoko: 🎉🎈🎊RESCUED! 10YO BLACK &amp;amp; WHITE KITTY \"FUZZ\" IS SAFE!🎉🎈🎊\\n▶https://t.co/5I9ccVqF8H\\n😺👏🏽PULLED BY Hurricane Pets Rescue Inc. (HP…</td>\n",
       "      <td>2022-07-31 14:30:52+00:00</td>\n",
       "      <td>[]</td>\n",
       "      <td>['sachikoko']</td>\n",
       "    </tr>\n",
       "    <tr>\n",
       "      <th>26450</th>\n",
       "      <td>23521703</td>\n",
       "      <td>With the busiest part of hurricane season fast approaching please join us tonight for \"Weathering the Storm\", a KATC Hurricane Special airing immediately after our 5pm newscast at 5:30pm! #LAwx https://t.co/atuLp6ECuE</td>\n",
       "      <td>2022-08-04 19:01:40+00:00</td>\n",
       "      <td>['LAwx']</td>\n",
       "      <td>[]</td>\n",
       "    </tr>\n",
       "    <tr>\n",
       "      <th>47185</th>\n",
       "      <td>966783341658824704</td>\n",
       "      <td>Has your boat been damaged by a major storm or hurricane? \\nREAD! Tips For Recovering Your Boat After A Hurricane -  https://t.co/qSchKwoJWJ #boatrecovery #hurricanedamage</td>\n",
       "      <td>2022-08-02 16:35:28+00:00</td>\n",
       "      <td>['boatrecovery', 'hurricanedamage']</td>\n",
       "      <td>[]</td>\n",
       "    </tr>\n",
       "    <tr>\n",
       "      <th>28438</th>\n",
       "      <td>1303204457619038209</td>\n",
       "      <td>I see you standing in the rain. Within a storm—forever warm. Powerful as a hurricane. https://t.co/1ZO57nenuT</td>\n",
       "      <td>2022-08-04 18:16:20+00:00</td>\n",
       "      <td>[]</td>\n",
       "      <td>[]</td>\n",
       "    </tr>\n",
       "    <tr>\n",
       "      <th>87546</th>\n",
       "      <td>1459763771149332481</td>\n",
       "      <td>Need a car https://t.co/NhVKPca4yF hi I'm William m Huber live in Florida it's hurricane season I'm raise money for car the price goal is not total of the car it's insurance tags cheap car mantaince everyone welcome read it and see if can donate this car will keep me safe</td>\n",
       "      <td>2022-08-01 10:31:53+00:00</td>\n",
       "      <td>[]</td>\n",
       "      <td>[]</td>\n",
       "    </tr>\n",
       "  </tbody>\n",
       "</table>\n",
       "</div>"
      ],
      "text/plain": [
       "                 author_id  \\\n",
       "83027             89206778   \n",
       "26450             23521703   \n",
       "47185   966783341658824704   \n",
       "28438  1303204457619038209   \n",
       "87546  1459763771149332481   \n",
       "\n",
       "                                                                                                                                                                                                                                                                             tweet_text  \\\n",
       "83027                                                                                                                                RT @sachikoko: 🎉🎈🎊RESCUED! 10YO BLACK &amp; WHITE KITTY \"FUZZ\" IS SAFE!🎉🎈🎊\\n▶https://t.co/5I9ccVqF8H\\n😺👏🏽PULLED BY Hurricane Pets Rescue Inc. (HP…   \n",
       "26450                                                         With the busiest part of hurricane season fast approaching please join us tonight for \"Weathering the Storm\", a KATC Hurricane Special airing immediately after our 5pm newscast at 5:30pm! #LAwx https://t.co/atuLp6ECuE   \n",
       "47185                                                                                                       Has your boat been damaged by a major storm or hurricane? \\nREAD! Tips For Recovering Your Boat After A Hurricane -  https://t.co/qSchKwoJWJ #boatrecovery #hurricanedamage   \n",
       "28438                                                                                                                                                                     I see you standing in the rain. Within a storm—forever warm. Powerful as a hurricane. https://t.co/1ZO57nenuT   \n",
       "87546  Need a car https://t.co/NhVKPca4yF hi I'm William m Huber live in Florida it's hurricane season I'm raise money for car the price goal is not total of the car it's insurance tags cheap car mantaince everyone welcome read it and see if can donate this car will keep me safe   \n",
       "\n",
       "                      created_at                             hashtags  \\\n",
       "83027  2022-07-31 14:30:52+00:00                                   []   \n",
       "26450  2022-08-04 19:01:40+00:00                             ['LAwx']   \n",
       "47185  2022-08-02 16:35:28+00:00  ['boatrecovery', 'hurricanedamage']   \n",
       "28438  2022-08-04 18:16:20+00:00                                   []   \n",
       "87546  2022-08-01 10:31:53+00:00                                   []   \n",
       "\n",
       "               users  \n",
       "83027  ['sachikoko']  \n",
       "26450             []  \n",
       "47185             []  \n",
       "28438             []  \n",
       "87546             []  "
      ]
     },
     "execution_count": 5,
     "metadata": {},
     "output_type": "execute_result"
    }
   ],
   "source": [
    "df_tweets = pd.read_csv(upstream[disaster_kind]['file'])\n",
    "df_tweets.sample(5)"
   ]
  },
  {
   "cell_type": "markdown",
   "id": "f673daf8",
   "metadata": {
    "papermill": {
     "duration": 0.009826,
     "end_time": "2022-08-19T21:08:23.241042",
     "exception": false,
     "start_time": "2022-08-19T21:08:23.231216",
     "status": "completed"
    },
    "tags": []
   },
   "source": [
    "## Extract the locations from the tweet sample"
   ]
  },
  {
   "cell_type": "code",
   "execution_count": 6,
   "id": "96b3d8fb",
   "metadata": {
    "execution": {
     "iopub.execute_input": "2022-08-19T21:08:23.262510Z",
     "iopub.status.busy": "2022-08-19T21:08:23.262187Z",
     "iopub.status.idle": "2022-08-19T21:13:47.971380Z",
     "shell.execute_reply": "2022-08-19T21:13:47.970615Z"
    },
    "papermill": {
     "duration": 324.72291,
     "end_time": "2022-08-19T21:13:47.973803",
     "exception": false,
     "start_time": "2022-08-19T21:08:23.250893",
     "status": "completed"
    },
    "tags": []
   },
   "outputs": [
    {
     "name": "stderr",
     "output_type": "stream",
     "text": [
      "\r",
      "0it [00:00, ?it/s]"
     ]
    },
    {
     "name": "stderr",
     "output_type": "stream",
     "text": [
      "\r",
      "23it [00:00, 228.09it/s]"
     ]
    },
    {
     "name": "stderr",
     "output_type": "stream",
     "text": [
      "\r",
      "55it [00:00, 274.76it/s]"
     ]
    },
    {
     "name": "stderr",
     "output_type": "stream",
     "text": [
      "\r",
      "86it [00:00, 287.24it/s]"
     ]
    },
    {
     "name": "stderr",
     "output_type": "stream",
     "text": [
      "\r",
      "119it [00:00, 299.44it/s]"
     ]
    },
    {
     "name": "stderr",
     "output_type": "stream",
     "text": [
      "\r",
      "155it [00:00, 319.34it/s]"
     ]
    },
    {
     "name": "stderr",
     "output_type": "stream",
     "text": [
      "\r",
      "187it [00:00, 316.50it/s]"
     ]
    },
    {
     "name": "stderr",
     "output_type": "stream",
     "text": [
      "\r",
      "219it [00:00, 313.78it/s]"
     ]
    },
    {
     "name": "stderr",
     "output_type": "stream",
     "text": [
      "\r",
      "251it [00:00, 315.08it/s]"
     ]
    },
    {
     "name": "stderr",
     "output_type": "stream",
     "text": [
      "\r",
      "283it [00:00, 314.82it/s]"
     ]
    },
    {
     "name": "stderr",
     "output_type": "stream",
     "text": [
      "\r",
      "315it [00:01, 313.25it/s]"
     ]
    },
    {
     "name": "stderr",
     "output_type": "stream",
     "text": [
      "\r",
      "347it [00:01, 314.21it/s]"
     ]
    },
    {
     "name": "stderr",
     "output_type": "stream",
     "text": [
      "\r",
      "379it [00:01, 314.51it/s]"
     ]
    },
    {
     "name": "stderr",
     "output_type": "stream",
     "text": [
      "\r",
      "411it [00:01, 314.22it/s]"
     ]
    },
    {
     "name": "stderr",
     "output_type": "stream",
     "text": [
      "\r",
      "444it [00:01, 317.09it/s]"
     ]
    },
    {
     "name": "stderr",
     "output_type": "stream",
     "text": [
      "\r",
      "476it [00:01, 310.91it/s]"
     ]
    },
    {
     "name": "stderr",
     "output_type": "stream",
     "text": [
      "\r",
      "508it [00:01, 309.35it/s]"
     ]
    },
    {
     "name": "stderr",
     "output_type": "stream",
     "text": [
      "\r",
      "539it [00:01, 306.86it/s]"
     ]
    },
    {
     "name": "stderr",
     "output_type": "stream",
     "text": [
      "\r",
      "570it [00:01, 305.98it/s]"
     ]
    },
    {
     "name": "stderr",
     "output_type": "stream",
     "text": [
      "\r",
      "601it [00:02, 242.72it/s]"
     ]
    },
    {
     "name": "stderr",
     "output_type": "stream",
     "text": [
      "\r",
      "631it [00:02, 256.89it/s]"
     ]
    },
    {
     "name": "stderr",
     "output_type": "stream",
     "text": [
      "\r",
      "665it [00:02, 276.03it/s]"
     ]
    },
    {
     "name": "stderr",
     "output_type": "stream",
     "text": [
      "\r",
      "697it [00:02, 285.46it/s]"
     ]
    },
    {
     "name": "stderr",
     "output_type": "stream",
     "text": [
      "\r",
      "729it [00:02, 291.64it/s]"
     ]
    },
    {
     "name": "stderr",
     "output_type": "stream",
     "text": [
      "\r",
      "761it [00:02, 296.42it/s]"
     ]
    },
    {
     "name": "stderr",
     "output_type": "stream",
     "text": [
      "\r",
      "796it [00:02, 310.10it/s]"
     ]
    },
    {
     "name": "stderr",
     "output_type": "stream",
     "text": [
      "\r",
      "831it [00:02, 320.76it/s]"
     ]
    },
    {
     "name": "stderr",
     "output_type": "stream",
     "text": [
      "\r",
      "864it [00:02, 312.74it/s]"
     ]
    },
    {
     "name": "stderr",
     "output_type": "stream",
     "text": [
      "\r",
      "896it [00:02, 305.38it/s]"
     ]
    },
    {
     "name": "stderr",
     "output_type": "stream",
     "text": [
      "\r",
      "929it [00:03, 310.48it/s]"
     ]
    },
    {
     "name": "stderr",
     "output_type": "stream",
     "text": [
      "\r",
      "962it [00:03, 314.97it/s]"
     ]
    },
    {
     "name": "stderr",
     "output_type": "stream",
     "text": [
      "\r",
      "995it [00:03, 317.85it/s]"
     ]
    },
    {
     "name": "stderr",
     "output_type": "stream",
     "text": [
      "\r",
      "1027it [00:03, 316.72it/s]"
     ]
    },
    {
     "name": "stderr",
     "output_type": "stream",
     "text": [
      "\r",
      "1063it [00:03, 326.74it/s]"
     ]
    },
    {
     "name": "stderr",
     "output_type": "stream",
     "text": [
      "\r",
      "1097it [00:03, 328.08it/s]"
     ]
    },
    {
     "name": "stderr",
     "output_type": "stream",
     "text": [
      "\r",
      "1130it [00:03, 326.92it/s]"
     ]
    },
    {
     "name": "stderr",
     "output_type": "stream",
     "text": [
      "\r",
      "1163it [00:03, 326.05it/s]"
     ]
    },
    {
     "name": "stderr",
     "output_type": "stream",
     "text": [
      "\r",
      "1196it [00:03, 326.68it/s]"
     ]
    },
    {
     "name": "stderr",
     "output_type": "stream",
     "text": [
      "\r",
      "1231it [00:04, 328.98it/s]"
     ]
    },
    {
     "name": "stderr",
     "output_type": "stream",
     "text": [
      "\r",
      "1266it [00:04, 334.13it/s]"
     ]
    },
    {
     "name": "stderr",
     "output_type": "stream",
     "text": [
      "\r",
      "1300it [00:04, 331.90it/s]"
     ]
    },
    {
     "name": "stderr",
     "output_type": "stream",
     "text": [
      "\r",
      "1335it [00:04, 333.24it/s]"
     ]
    },
    {
     "name": "stderr",
     "output_type": "stream",
     "text": [
      "\r",
      "1369it [00:04, 329.10it/s]"
     ]
    },
    {
     "name": "stderr",
     "output_type": "stream",
     "text": [
      "\r",
      "1402it [00:04, 328.02it/s]"
     ]
    },
    {
     "name": "stderr",
     "output_type": "stream",
     "text": [
      "\r",
      "1436it [00:04, 330.02it/s]"
     ]
    },
    {
     "name": "stderr",
     "output_type": "stream",
     "text": [
      "\r",
      "1470it [00:04, 326.85it/s]"
     ]
    },
    {
     "name": "stderr",
     "output_type": "stream",
     "text": [
      "\r",
      "1503it [00:04, 323.63it/s]"
     ]
    },
    {
     "name": "stderr",
     "output_type": "stream",
     "text": [
      "\r",
      "1536it [00:04, 309.70it/s]"
     ]
    },
    {
     "name": "stderr",
     "output_type": "stream",
     "text": [
      "\r",
      "1568it [00:05, 277.77it/s]"
     ]
    },
    {
     "name": "stderr",
     "output_type": "stream",
     "text": [
      "\r",
      "1597it [00:05, 275.24it/s]"
     ]
    },
    {
     "name": "stderr",
     "output_type": "stream",
     "text": [
      "\r",
      "1629it [00:05, 286.03it/s]"
     ]
    },
    {
     "name": "stderr",
     "output_type": "stream",
     "text": [
      "\r",
      "1659it [00:05, 285.22it/s]"
     ]
    },
    {
     "name": "stderr",
     "output_type": "stream",
     "text": [
      "\r",
      "1692it [00:05, 295.35it/s]"
     ]
    },
    {
     "name": "stderr",
     "output_type": "stream",
     "text": [
      "\r",
      "1727it [00:05, 308.83it/s]"
     ]
    },
    {
     "name": "stderr",
     "output_type": "stream",
     "text": [
      "\r",
      "1764it [00:05, 324.70it/s]"
     ]
    },
    {
     "name": "stderr",
     "output_type": "stream",
     "text": [
      "\r",
      "1798it [00:05, 327.24it/s]"
     ]
    },
    {
     "name": "stderr",
     "output_type": "stream",
     "text": [
      "\r",
      "1831it [00:05, 317.57it/s]"
     ]
    },
    {
     "name": "stderr",
     "output_type": "stream",
     "text": [
      "\r",
      "1863it [00:06, 299.98it/s]"
     ]
    },
    {
     "name": "stderr",
     "output_type": "stream",
     "text": [
      "\r",
      "1894it [00:06, 284.03it/s]"
     ]
    },
    {
     "name": "stderr",
     "output_type": "stream",
     "text": [
      "\r",
      "1926it [00:06, 292.28it/s]"
     ]
    },
    {
     "name": "stderr",
     "output_type": "stream",
     "text": [
      "\r",
      "1956it [00:06, 292.57it/s]"
     ]
    },
    {
     "name": "stderr",
     "output_type": "stream",
     "text": [
      "\r",
      "1987it [00:06, 296.42it/s]"
     ]
    },
    {
     "name": "stderr",
     "output_type": "stream",
     "text": [
      "\r",
      "2021it [00:06, 307.81it/s]"
     ]
    },
    {
     "name": "stderr",
     "output_type": "stream",
     "text": [
      "\r",
      "2053it [00:06, 309.56it/s]"
     ]
    },
    {
     "name": "stderr",
     "output_type": "stream",
     "text": [
      "\r",
      "2087it [00:06, 317.36it/s]"
     ]
    },
    {
     "name": "stderr",
     "output_type": "stream",
     "text": [
      "\r",
      "2125it [00:06, 333.82it/s]"
     ]
    },
    {
     "name": "stderr",
     "output_type": "stream",
     "text": [
      "\r",
      "2160it [00:06, 338.57it/s]"
     ]
    },
    {
     "name": "stderr",
     "output_type": "stream",
     "text": [
      "\r",
      "2194it [00:07, 336.85it/s]"
     ]
    },
    {
     "name": "stderr",
     "output_type": "stream",
     "text": [
      "\r",
      "2228it [00:07, 331.55it/s]"
     ]
    },
    {
     "name": "stderr",
     "output_type": "stream",
     "text": [
      "\r",
      "2262it [00:07, 332.54it/s]"
     ]
    },
    {
     "name": "stderr",
     "output_type": "stream",
     "text": [
      "\r",
      "2296it [00:07, 332.18it/s]"
     ]
    },
    {
     "name": "stderr",
     "output_type": "stream",
     "text": [
      "\r",
      "2330it [00:07, 333.24it/s]"
     ]
    },
    {
     "name": "stderr",
     "output_type": "stream",
     "text": [
      "\r",
      "2364it [00:07, 334.49it/s]"
     ]
    },
    {
     "name": "stderr",
     "output_type": "stream",
     "text": [
      "\r",
      "2398it [00:07, 335.05it/s]"
     ]
    },
    {
     "name": "stderr",
     "output_type": "stream",
     "text": [
      "\r",
      "2432it [00:07, 330.33it/s]"
     ]
    },
    {
     "name": "stderr",
     "output_type": "stream",
     "text": [
      "\r",
      "2466it [00:07, 325.53it/s]"
     ]
    },
    {
     "name": "stderr",
     "output_type": "stream",
     "text": [
      "\r",
      "2499it [00:08, 322.51it/s]"
     ]
    },
    {
     "name": "stderr",
     "output_type": "stream",
     "text": [
      "\r",
      "2532it [00:08, 322.84it/s]"
     ]
    },
    {
     "name": "stderr",
     "output_type": "stream",
     "text": [
      "\r",
      "2565it [00:08, 321.82it/s]"
     ]
    },
    {
     "name": "stderr",
     "output_type": "stream",
     "text": [
      "\r",
      "2599it [00:08, 324.91it/s]"
     ]
    },
    {
     "name": "stderr",
     "output_type": "stream",
     "text": [
      "\r",
      "2633it [00:08, 329.03it/s]"
     ]
    },
    {
     "name": "stderr",
     "output_type": "stream",
     "text": [
      "\r",
      "2666it [00:08, 323.37it/s]"
     ]
    },
    {
     "name": "stderr",
     "output_type": "stream",
     "text": [
      "\r",
      "2699it [00:08, 320.97it/s]"
     ]
    },
    {
     "name": "stderr",
     "output_type": "stream",
     "text": [
      "\r",
      "2733it [00:08, 324.21it/s]"
     ]
    },
    {
     "name": "stderr",
     "output_type": "stream",
     "text": [
      "\r",
      "2770it [00:08, 336.03it/s]"
     ]
    },
    {
     "name": "stderr",
     "output_type": "stream",
     "text": [
      "\r",
      "2805it [00:08, 339.54it/s]"
     ]
    },
    {
     "name": "stderr",
     "output_type": "stream",
     "text": [
      "\r",
      "2839it [00:09, 337.01it/s]"
     ]
    },
    {
     "name": "stderr",
     "output_type": "stream",
     "text": [
      "\r",
      "2875it [00:09, 340.32it/s]"
     ]
    },
    {
     "name": "stderr",
     "output_type": "stream",
     "text": [
      "\r",
      "2910it [00:09, 336.66it/s]"
     ]
    },
    {
     "name": "stderr",
     "output_type": "stream",
     "text": [
      "\r",
      "2945it [00:09, 338.20it/s]"
     ]
    },
    {
     "name": "stderr",
     "output_type": "stream",
     "text": [
      "\r",
      "2979it [00:09, 336.51it/s]"
     ]
    },
    {
     "name": "stderr",
     "output_type": "stream",
     "text": [
      "\r",
      "3013it [00:09, 336.74it/s]"
     ]
    },
    {
     "name": "stderr",
     "output_type": "stream",
     "text": [
      "\r",
      "3049it [00:09, 342.65it/s]"
     ]
    },
    {
     "name": "stderr",
     "output_type": "stream",
     "text": [
      "\r",
      "3084it [00:09, 343.92it/s]"
     ]
    },
    {
     "name": "stderr",
     "output_type": "stream",
     "text": [
      "\r",
      "3119it [00:09, 342.39it/s]"
     ]
    },
    {
     "name": "stderr",
     "output_type": "stream",
     "text": [
      "\r",
      "3154it [00:09, 339.64it/s]"
     ]
    },
    {
     "name": "stderr",
     "output_type": "stream",
     "text": [
      "\r",
      "3188it [00:10, 336.31it/s]"
     ]
    },
    {
     "name": "stderr",
     "output_type": "stream",
     "text": [
      "\r",
      "3224it [00:10, 343.23it/s]"
     ]
    },
    {
     "name": "stderr",
     "output_type": "stream",
     "text": [
      "\r",
      "3259it [00:10, 344.89it/s]"
     ]
    },
    {
     "name": "stderr",
     "output_type": "stream",
     "text": [
      "\r",
      "3294it [00:10, 345.11it/s]"
     ]
    },
    {
     "name": "stderr",
     "output_type": "stream",
     "text": [
      "\r",
      "3329it [00:10, 335.45it/s]"
     ]
    },
    {
     "name": "stderr",
     "output_type": "stream",
     "text": [
      "\r",
      "3364it [00:10, 337.47it/s]"
     ]
    },
    {
     "name": "stderr",
     "output_type": "stream",
     "text": [
      "\r",
      "3399it [00:10, 338.84it/s]"
     ]
    },
    {
     "name": "stderr",
     "output_type": "stream",
     "text": [
      "\r",
      "3434it [00:10, 339.98it/s]"
     ]
    },
    {
     "name": "stderr",
     "output_type": "stream",
     "text": [
      "\r",
      "3469it [00:10, 336.36it/s]"
     ]
    },
    {
     "name": "stderr",
     "output_type": "stream",
     "text": [
      "\r",
      "3503it [00:11, 331.87it/s]"
     ]
    },
    {
     "name": "stderr",
     "output_type": "stream",
     "text": [
      "\r",
      "3538it [00:11, 335.11it/s]"
     ]
    },
    {
     "name": "stderr",
     "output_type": "stream",
     "text": [
      "\r",
      "3572it [00:11, 333.47it/s]"
     ]
    },
    {
     "name": "stderr",
     "output_type": "stream",
     "text": [
      "\r",
      "3607it [00:11, 338.23it/s]"
     ]
    },
    {
     "name": "stderr",
     "output_type": "stream",
     "text": [
      "\r",
      "3642it [00:11, 339.74it/s]"
     ]
    },
    {
     "name": "stderr",
     "output_type": "stream",
     "text": [
      "\r",
      "3676it [00:11, 338.66it/s]"
     ]
    },
    {
     "name": "stderr",
     "output_type": "stream",
     "text": [
      "\r",
      "3711it [00:11, 341.89it/s]"
     ]
    },
    {
     "name": "stderr",
     "output_type": "stream",
     "text": [
      "\r",
      "3747it [00:11, 347.21it/s]"
     ]
    },
    {
     "name": "stderr",
     "output_type": "stream",
     "text": [
      "\r",
      "3782it [00:11, 347.31it/s]"
     ]
    },
    {
     "name": "stderr",
     "output_type": "stream",
     "text": [
      "\r",
      "3817it [00:11, 344.35it/s]"
     ]
    },
    {
     "name": "stderr",
     "output_type": "stream",
     "text": [
      "\r",
      "3852it [00:12, 325.21it/s]"
     ]
    },
    {
     "name": "stderr",
     "output_type": "stream",
     "text": [
      "\r",
      "3886it [00:12, 327.41it/s]"
     ]
    },
    {
     "name": "stderr",
     "output_type": "stream",
     "text": [
      "\r",
      "3919it [00:12, 323.69it/s]"
     ]
    },
    {
     "name": "stderr",
     "output_type": "stream",
     "text": [
      "\r",
      "3952it [00:12, 322.30it/s]"
     ]
    },
    {
     "name": "stderr",
     "output_type": "stream",
     "text": [
      "\r",
      "3986it [00:12, 326.18it/s]"
     ]
    },
    {
     "name": "stderr",
     "output_type": "stream",
     "text": [
      "\r",
      "4019it [00:12, 326.61it/s]"
     ]
    },
    {
     "name": "stderr",
     "output_type": "stream",
     "text": [
      "\r",
      "4054it [00:12, 331.34it/s]"
     ]
    },
    {
     "name": "stderr",
     "output_type": "stream",
     "text": [
      "\r",
      "4092it [00:12, 343.99it/s]"
     ]
    },
    {
     "name": "stderr",
     "output_type": "stream",
     "text": [
      "\r",
      "4128it [00:12, 345.49it/s]"
     ]
    },
    {
     "name": "stderr",
     "output_type": "stream",
     "text": [
      "\r",
      "4163it [00:12, 345.18it/s]"
     ]
    },
    {
     "name": "stderr",
     "output_type": "stream",
     "text": [
      "\r",
      "4198it [00:13, 343.31it/s]"
     ]
    },
    {
     "name": "stderr",
     "output_type": "stream",
     "text": [
      "\r",
      "4233it [00:13, 341.33it/s]"
     ]
    },
    {
     "name": "stderr",
     "output_type": "stream",
     "text": [
      "\r",
      "4268it [00:13, 337.97it/s]"
     ]
    },
    {
     "name": "stderr",
     "output_type": "stream",
     "text": [
      "\r",
      "4302it [00:13, 335.45it/s]"
     ]
    },
    {
     "name": "stderr",
     "output_type": "stream",
     "text": [
      "\r",
      "4338it [00:13, 341.06it/s]"
     ]
    },
    {
     "name": "stderr",
     "output_type": "stream",
     "text": [
      "\r",
      "4373it [00:13, 339.75it/s]"
     ]
    },
    {
     "name": "stderr",
     "output_type": "stream",
     "text": [
      "\r",
      "4407it [00:13, 333.76it/s]"
     ]
    },
    {
     "name": "stderr",
     "output_type": "stream",
     "text": [
      "\r",
      "4441it [00:13, 326.24it/s]"
     ]
    },
    {
     "name": "stderr",
     "output_type": "stream",
     "text": [
      "\r",
      "4474it [00:13, 319.93it/s]"
     ]
    },
    {
     "name": "stderr",
     "output_type": "stream",
     "text": [
      "\r",
      "4508it [00:14, 324.77it/s]"
     ]
    },
    {
     "name": "stderr",
     "output_type": "stream",
     "text": [
      "\r",
      "4541it [00:14, 320.14it/s]"
     ]
    },
    {
     "name": "stderr",
     "output_type": "stream",
     "text": [
      "\r",
      "4574it [00:14, 322.24it/s]"
     ]
    },
    {
     "name": "stderr",
     "output_type": "stream",
     "text": [
      "\r",
      "4609it [00:14, 327.58it/s]"
     ]
    },
    {
     "name": "stderr",
     "output_type": "stream",
     "text": [
      "\r",
      "4642it [00:14, 323.78it/s]"
     ]
    },
    {
     "name": "stderr",
     "output_type": "stream",
     "text": [
      "\r",
      "4675it [00:14, 322.95it/s]"
     ]
    },
    {
     "name": "stderr",
     "output_type": "stream",
     "text": [
      "\r",
      "4708it [00:14, 324.77it/s]"
     ]
    },
    {
     "name": "stderr",
     "output_type": "stream",
     "text": [
      "\r",
      "4745it [00:14, 335.77it/s]"
     ]
    },
    {
     "name": "stderr",
     "output_type": "stream",
     "text": [
      "\r",
      "4780it [00:14, 339.40it/s]"
     ]
    },
    {
     "name": "stderr",
     "output_type": "stream",
     "text": [
      "\r",
      "4814it [00:14, 333.01it/s]"
     ]
    },
    {
     "name": "stderr",
     "output_type": "stream",
     "text": [
      "\r",
      "4848it [00:15, 333.61it/s]"
     ]
    },
    {
     "name": "stderr",
     "output_type": "stream",
     "text": [
      "\r",
      "4882it [00:15, 330.01it/s]"
     ]
    },
    {
     "name": "stderr",
     "output_type": "stream",
     "text": [
      "\r",
      "4916it [00:15, 330.63it/s]"
     ]
    },
    {
     "name": "stderr",
     "output_type": "stream",
     "text": [
      "\r",
      "4950it [00:15, 330.44it/s]"
     ]
    },
    {
     "name": "stderr",
     "output_type": "stream",
     "text": [
      "\r",
      "4984it [00:15, 328.43it/s]"
     ]
    },
    {
     "name": "stderr",
     "output_type": "stream",
     "text": [
      "\r",
      "5018it [00:15, 331.78it/s]"
     ]
    },
    {
     "name": "stderr",
     "output_type": "stream",
     "text": [
      "\r",
      "5052it [00:15, 333.92it/s]"
     ]
    },
    {
     "name": "stderr",
     "output_type": "stream",
     "text": [
      "\r",
      "5087it [00:15, 336.73it/s]"
     ]
    },
    {
     "name": "stderr",
     "output_type": "stream",
     "text": [
      "\r",
      "5121it [00:15, 334.42it/s]"
     ]
    },
    {
     "name": "stderr",
     "output_type": "stream",
     "text": [
      "\r",
      "5155it [00:15, 330.51it/s]"
     ]
    },
    {
     "name": "stderr",
     "output_type": "stream",
     "text": [
      "\r",
      "5191it [00:16, 336.32it/s]"
     ]
    },
    {
     "name": "stderr",
     "output_type": "stream",
     "text": [
      "\r",
      "5226it [00:16, 336.70it/s]"
     ]
    },
    {
     "name": "stderr",
     "output_type": "stream",
     "text": [
      "\r",
      "5260it [00:16, 334.26it/s]"
     ]
    },
    {
     "name": "stderr",
     "output_type": "stream",
     "text": [
      "\r",
      "5294it [00:16, 329.73it/s]"
     ]
    },
    {
     "name": "stderr",
     "output_type": "stream",
     "text": [
      "\r",
      "5327it [00:16, 328.05it/s]"
     ]
    },
    {
     "name": "stderr",
     "output_type": "stream",
     "text": [
      "\r",
      "5360it [00:16, 327.02it/s]"
     ]
    },
    {
     "name": "stderr",
     "output_type": "stream",
     "text": [
      "\r",
      "5395it [00:16, 331.34it/s]"
     ]
    },
    {
     "name": "stderr",
     "output_type": "stream",
     "text": [
      "\r",
      "5429it [00:16, 325.22it/s]"
     ]
    },
    {
     "name": "stderr",
     "output_type": "stream",
     "text": [
      "\r",
      "5462it [00:16, 324.52it/s]"
     ]
    },
    {
     "name": "stderr",
     "output_type": "stream",
     "text": [
      "\r",
      "5495it [00:17, 321.00it/s]"
     ]
    },
    {
     "name": "stderr",
     "output_type": "stream",
     "text": [
      "\r",
      "5529it [00:17, 324.33it/s]"
     ]
    },
    {
     "name": "stderr",
     "output_type": "stream",
     "text": [
      "\r",
      "5562it [00:17, 322.62it/s]"
     ]
    },
    {
     "name": "stderr",
     "output_type": "stream",
     "text": [
      "\r",
      "5596it [00:17, 325.17it/s]"
     ]
    },
    {
     "name": "stderr",
     "output_type": "stream",
     "text": [
      "\r",
      "5629it [00:17, 325.00it/s]"
     ]
    },
    {
     "name": "stderr",
     "output_type": "stream",
     "text": [
      "\r",
      "5662it [00:17, 326.16it/s]"
     ]
    },
    {
     "name": "stderr",
     "output_type": "stream",
     "text": [
      "\r",
      "5697it [00:17, 331.04it/s]"
     ]
    },
    {
     "name": "stderr",
     "output_type": "stream",
     "text": [
      "\r",
      "5731it [00:17, 333.54it/s]"
     ]
    },
    {
     "name": "stderr",
     "output_type": "stream",
     "text": [
      "\r",
      "5765it [00:17, 334.38it/s]"
     ]
    },
    {
     "name": "stderr",
     "output_type": "stream",
     "text": [
      "\r",
      "5799it [00:17, 328.14it/s]"
     ]
    },
    {
     "name": "stderr",
     "output_type": "stream",
     "text": [
      "\r",
      "5832it [00:18, 328.43it/s]"
     ]
    },
    {
     "name": "stderr",
     "output_type": "stream",
     "text": [
      "\r",
      "5866it [00:18, 331.30it/s]"
     ]
    },
    {
     "name": "stderr",
     "output_type": "stream",
     "text": [
      "\r",
      "5900it [00:18, 329.69it/s]"
     ]
    },
    {
     "name": "stderr",
     "output_type": "stream",
     "text": [
      "\r",
      "5933it [00:18, 323.52it/s]"
     ]
    },
    {
     "name": "stderr",
     "output_type": "stream",
     "text": [
      "\r",
      "5968it [00:18, 328.27it/s]"
     ]
    },
    {
     "name": "stderr",
     "output_type": "stream",
     "text": [
      "\r",
      "6001it [00:18, 319.26it/s]"
     ]
    },
    {
     "name": "stderr",
     "output_type": "stream",
     "text": [
      "\r",
      "6036it [00:18, 326.26it/s]"
     ]
    },
    {
     "name": "stderr",
     "output_type": "stream",
     "text": [
      "\r",
      "6072it [00:18, 334.75it/s]"
     ]
    },
    {
     "name": "stderr",
     "output_type": "stream",
     "text": [
      "\r",
      "6106it [00:18, 334.52it/s]"
     ]
    },
    {
     "name": "stderr",
     "output_type": "stream",
     "text": [
      "\r",
      "6140it [00:18, 334.65it/s]"
     ]
    },
    {
     "name": "stderr",
     "output_type": "stream",
     "text": [
      "\r",
      "6174it [00:19, 332.80it/s]"
     ]
    },
    {
     "name": "stderr",
     "output_type": "stream",
     "text": [
      "\r",
      "6208it [00:19, 332.24it/s]"
     ]
    },
    {
     "name": "stderr",
     "output_type": "stream",
     "text": [
      "\r",
      "6242it [00:19, 330.64it/s]"
     ]
    },
    {
     "name": "stderr",
     "output_type": "stream",
     "text": [
      "\r",
      "6276it [00:19, 328.07it/s]"
     ]
    },
    {
     "name": "stderr",
     "output_type": "stream",
     "text": [
      "\r",
      "6311it [00:19, 334.05it/s]"
     ]
    },
    {
     "name": "stderr",
     "output_type": "stream",
     "text": [
      "\r",
      "6345it [00:19, 328.63it/s]"
     ]
    },
    {
     "name": "stderr",
     "output_type": "stream",
     "text": [
      "\r",
      "6378it [00:19, 324.51it/s]"
     ]
    },
    {
     "name": "stderr",
     "output_type": "stream",
     "text": [
      "\r",
      "6412it [00:19, 327.10it/s]"
     ]
    },
    {
     "name": "stderr",
     "output_type": "stream",
     "text": [
      "\r",
      "6445it [00:19, 327.31it/s]"
     ]
    },
    {
     "name": "stderr",
     "output_type": "stream",
     "text": [
      "\r",
      "6479it [00:19, 330.13it/s]"
     ]
    },
    {
     "name": "stderr",
     "output_type": "stream",
     "text": [
      "\r",
      "6513it [00:20, 331.77it/s]"
     ]
    },
    {
     "name": "stderr",
     "output_type": "stream",
     "text": [
      "\r",
      "6547it [00:20, 333.58it/s]"
     ]
    },
    {
     "name": "stderr",
     "output_type": "stream",
     "text": [
      "\r",
      "6581it [00:20, 335.03it/s]"
     ]
    },
    {
     "name": "stderr",
     "output_type": "stream",
     "text": [
      "\r",
      "6615it [00:20, 332.91it/s]"
     ]
    },
    {
     "name": "stderr",
     "output_type": "stream",
     "text": [
      "\r",
      "6649it [00:20, 334.37it/s]"
     ]
    },
    {
     "name": "stderr",
     "output_type": "stream",
     "text": [
      "\r",
      "6683it [00:20, 332.22it/s]"
     ]
    },
    {
     "name": "stderr",
     "output_type": "stream",
     "text": [
      "\r",
      "6720it [00:20, 340.87it/s]"
     ]
    },
    {
     "name": "stderr",
     "output_type": "stream",
     "text": [
      "\r",
      "6755it [00:20, 341.38it/s]"
     ]
    },
    {
     "name": "stderr",
     "output_type": "stream",
     "text": [
      "\r",
      "6792it [00:20, 347.13it/s]"
     ]
    },
    {
     "name": "stderr",
     "output_type": "stream",
     "text": [
      "\r",
      "6827it [00:21, 344.87it/s]"
     ]
    },
    {
     "name": "stderr",
     "output_type": "stream",
     "text": [
      "\r",
      "6862it [00:21, 341.00it/s]"
     ]
    },
    {
     "name": "stderr",
     "output_type": "stream",
     "text": [
      "\r",
      "6897it [00:21, 338.22it/s]"
     ]
    },
    {
     "name": "stderr",
     "output_type": "stream",
     "text": [
      "\r",
      "6931it [00:21, 336.50it/s]"
     ]
    },
    {
     "name": "stderr",
     "output_type": "stream",
     "text": [
      "\r",
      "6967it [00:21, 342.28it/s]"
     ]
    },
    {
     "name": "stderr",
     "output_type": "stream",
     "text": [
      "\r",
      "7002it [00:21, 344.10it/s]"
     ]
    },
    {
     "name": "stderr",
     "output_type": "stream",
     "text": [
      "\r",
      "7037it [00:21, 344.11it/s]"
     ]
    },
    {
     "name": "stderr",
     "output_type": "stream",
     "text": [
      "\r",
      "7072it [00:21, 336.16it/s]"
     ]
    },
    {
     "name": "stderr",
     "output_type": "stream",
     "text": [
      "\r",
      "7106it [00:21, 336.53it/s]"
     ]
    },
    {
     "name": "stderr",
     "output_type": "stream",
     "text": [
      "\r",
      "7143it [00:21, 344.35it/s]"
     ]
    },
    {
     "name": "stderr",
     "output_type": "stream",
     "text": [
      "\r",
      "7179it [00:22, 346.00it/s]"
     ]
    },
    {
     "name": "stderr",
     "output_type": "stream",
     "text": [
      "\r",
      "7214it [00:22, 343.15it/s]"
     ]
    },
    {
     "name": "stderr",
     "output_type": "stream",
     "text": [
      "\r",
      "7249it [00:22, 338.78it/s]"
     ]
    },
    {
     "name": "stderr",
     "output_type": "stream",
     "text": [
      "\r",
      "7284it [00:22, 340.55it/s]"
     ]
    },
    {
     "name": "stderr",
     "output_type": "stream",
     "text": [
      "\r",
      "7319it [00:22, 340.27it/s]"
     ]
    },
    {
     "name": "stderr",
     "output_type": "stream",
     "text": [
      "\r",
      "7355it [00:22, 343.01it/s]"
     ]
    },
    {
     "name": "stderr",
     "output_type": "stream",
     "text": [
      "\r",
      "7390it [00:22, 334.12it/s]"
     ]
    },
    {
     "name": "stderr",
     "output_type": "stream",
     "text": [
      "\r",
      "7424it [00:22, 330.41it/s]"
     ]
    },
    {
     "name": "stderr",
     "output_type": "stream",
     "text": [
      "\r",
      "7458it [00:22, 321.74it/s]"
     ]
    },
    {
     "name": "stderr",
     "output_type": "stream",
     "text": [
      "\r",
      "7492it [00:22, 323.88it/s]"
     ]
    },
    {
     "name": "stderr",
     "output_type": "stream",
     "text": [
      "\r",
      "7526it [00:23, 326.96it/s]"
     ]
    },
    {
     "name": "stderr",
     "output_type": "stream",
     "text": [
      "\r",
      "7561it [00:23, 330.59it/s]"
     ]
    },
    {
     "name": "stderr",
     "output_type": "stream",
     "text": [
      "\r",
      "7595it [00:23, 331.35it/s]"
     ]
    },
    {
     "name": "stderr",
     "output_type": "stream",
     "text": [
      "\r",
      "7630it [00:23, 334.40it/s]"
     ]
    },
    {
     "name": "stderr",
     "output_type": "stream",
     "text": [
      "\r",
      "7667it [00:23, 343.31it/s]"
     ]
    },
    {
     "name": "stderr",
     "output_type": "stream",
     "text": [
      "\r",
      "7702it [00:23, 344.86it/s]"
     ]
    },
    {
     "name": "stderr",
     "output_type": "stream",
     "text": [
      "\r",
      "7737it [00:23, 337.53it/s]"
     ]
    },
    {
     "name": "stderr",
     "output_type": "stream",
     "text": [
      "\r",
      "7771it [00:23, 336.77it/s]"
     ]
    },
    {
     "name": "stderr",
     "output_type": "stream",
     "text": [
      "\r",
      "7807it [00:23, 339.99it/s]"
     ]
    },
    {
     "name": "stderr",
     "output_type": "stream",
     "text": [
      "\r",
      "7842it [00:24, 333.41it/s]"
     ]
    },
    {
     "name": "stderr",
     "output_type": "stream",
     "text": [
      "\r",
      "7876it [00:24, 333.34it/s]"
     ]
    },
    {
     "name": "stderr",
     "output_type": "stream",
     "text": [
      "\r",
      "7910it [00:24, 327.64it/s]"
     ]
    },
    {
     "name": "stderr",
     "output_type": "stream",
     "text": [
      "\r",
      "7944it [00:24, 330.13it/s]"
     ]
    },
    {
     "name": "stderr",
     "output_type": "stream",
     "text": [
      "\r",
      "7978it [00:24, 331.08it/s]"
     ]
    },
    {
     "name": "stderr",
     "output_type": "stream",
     "text": [
      "\r",
      "8014it [00:24, 338.55it/s]"
     ]
    },
    {
     "name": "stderr",
     "output_type": "stream",
     "text": [
      "\r",
      "8051it [00:24, 345.99it/s]"
     ]
    },
    {
     "name": "stderr",
     "output_type": "stream",
     "text": [
      "\r",
      "8086it [00:24, 341.83it/s]"
     ]
    },
    {
     "name": "stderr",
     "output_type": "stream",
     "text": [
      "\r",
      "8121it [00:24, 341.02it/s]"
     ]
    },
    {
     "name": "stderr",
     "output_type": "stream",
     "text": [
      "\r",
      "8156it [00:24, 340.50it/s]"
     ]
    },
    {
     "name": "stderr",
     "output_type": "stream",
     "text": [
      "\r",
      "8191it [00:25, 338.44it/s]"
     ]
    },
    {
     "name": "stderr",
     "output_type": "stream",
     "text": [
      "\r",
      "8225it [00:25, 338.22it/s]"
     ]
    },
    {
     "name": "stderr",
     "output_type": "stream",
     "text": [
      "\r",
      "8259it [00:25, 334.25it/s]"
     ]
    },
    {
     "name": "stderr",
     "output_type": "stream",
     "text": [
      "\r",
      "8295it [00:25, 339.03it/s]"
     ]
    },
    {
     "name": "stderr",
     "output_type": "stream",
     "text": [
      "\r",
      "8329it [00:25, 334.81it/s]"
     ]
    },
    {
     "name": "stderr",
     "output_type": "stream",
     "text": [
      "\r",
      "8363it [00:25, 330.00it/s]"
     ]
    },
    {
     "name": "stderr",
     "output_type": "stream",
     "text": [
      "\r",
      "8397it [00:25, 329.21it/s]"
     ]
    },
    {
     "name": "stderr",
     "output_type": "stream",
     "text": [
      "\r",
      "8431it [00:25, 331.78it/s]"
     ]
    },
    {
     "name": "stderr",
     "output_type": "stream",
     "text": [
      "\r",
      "8465it [00:25, 333.86it/s]"
     ]
    },
    {
     "name": "stderr",
     "output_type": "stream",
     "text": [
      "\r",
      "8500it [00:25, 338.47it/s]"
     ]
    },
    {
     "name": "stderr",
     "output_type": "stream",
     "text": [
      "\r",
      "8536it [00:26, 342.48it/s]"
     ]
    },
    {
     "name": "stderr",
     "output_type": "stream",
     "text": [
      "\r",
      "8571it [00:26, 341.79it/s]"
     ]
    },
    {
     "name": "stderr",
     "output_type": "stream",
     "text": [
      "\r",
      "8606it [00:26, 337.79it/s]"
     ]
    },
    {
     "name": "stderr",
     "output_type": "stream",
     "text": [
      "\r",
      "8642it [00:26, 341.94it/s]"
     ]
    },
    {
     "name": "stderr",
     "output_type": "stream",
     "text": [
      "\r",
      "8680it [00:26, 350.37it/s]"
     ]
    },
    {
     "name": "stderr",
     "output_type": "stream",
     "text": [
      "\r",
      "8716it [00:26, 351.13it/s]"
     ]
    },
    {
     "name": "stderr",
     "output_type": "stream",
     "text": [
      "\r",
      "8752it [00:26, 346.33it/s]"
     ]
    },
    {
     "name": "stderr",
     "output_type": "stream",
     "text": [
      "\r",
      "8788it [00:26, 349.96it/s]"
     ]
    },
    {
     "name": "stderr",
     "output_type": "stream",
     "text": [
      "\r",
      "8824it [00:26, 350.30it/s]"
     ]
    },
    {
     "name": "stderr",
     "output_type": "stream",
     "text": [
      "\r",
      "8860it [00:27, 348.29it/s]"
     ]
    },
    {
     "name": "stderr",
     "output_type": "stream",
     "text": [
      "\r",
      "8895it [00:27, 345.53it/s]"
     ]
    },
    {
     "name": "stderr",
     "output_type": "stream",
     "text": [
      "\r",
      "8932it [00:27, 351.56it/s]"
     ]
    },
    {
     "name": "stderr",
     "output_type": "stream",
     "text": [
      "\r",
      "8968it [00:27, 352.98it/s]"
     ]
    },
    {
     "name": "stderr",
     "output_type": "stream",
     "text": [
      "\r",
      "9005it [00:27, 355.75it/s]"
     ]
    },
    {
     "name": "stderr",
     "output_type": "stream",
     "text": [
      "\r",
      "9041it [00:27, 352.78it/s]"
     ]
    },
    {
     "name": "stderr",
     "output_type": "stream",
     "text": [
      "\r",
      "9077it [00:27, 354.27it/s]"
     ]
    },
    {
     "name": "stderr",
     "output_type": "stream",
     "text": [
      "\r",
      "9114it [00:27, 358.70it/s]"
     ]
    },
    {
     "name": "stderr",
     "output_type": "stream",
     "text": [
      "\r",
      "9151it [00:27, 362.03it/s]"
     ]
    },
    {
     "name": "stderr",
     "output_type": "stream",
     "text": [
      "\r",
      "9188it [00:27, 360.20it/s]"
     ]
    },
    {
     "name": "stderr",
     "output_type": "stream",
     "text": [
      "\r",
      "9225it [00:28, 356.53it/s]"
     ]
    },
    {
     "name": "stderr",
     "output_type": "stream",
     "text": [
      "\r",
      "9261it [00:28, 355.01it/s]"
     ]
    },
    {
     "name": "stderr",
     "output_type": "stream",
     "text": [
      "\r",
      "9297it [00:28, 352.70it/s]"
     ]
    },
    {
     "name": "stderr",
     "output_type": "stream",
     "text": [
      "\r",
      "9333it [00:28, 349.81it/s]"
     ]
    },
    {
     "name": "stderr",
     "output_type": "stream",
     "text": [
      "\r",
      "9368it [00:28, 347.51it/s]"
     ]
    },
    {
     "name": "stderr",
     "output_type": "stream",
     "text": [
      "\r",
      "9403it [00:28, 347.79it/s]"
     ]
    },
    {
     "name": "stderr",
     "output_type": "stream",
     "text": [
      "\r",
      "9438it [00:28, 347.01it/s]"
     ]
    },
    {
     "name": "stderr",
     "output_type": "stream",
     "text": [
      "\r",
      "9473it [00:28, 343.37it/s]"
     ]
    },
    {
     "name": "stderr",
     "output_type": "stream",
     "text": [
      "\r",
      "9509it [00:28, 346.19it/s]"
     ]
    },
    {
     "name": "stderr",
     "output_type": "stream",
     "text": [
      "\r",
      "9545it [00:28, 349.04it/s]"
     ]
    },
    {
     "name": "stderr",
     "output_type": "stream",
     "text": [
      "\r",
      "9581it [00:29, 349.94it/s]"
     ]
    },
    {
     "name": "stderr",
     "output_type": "stream",
     "text": [
      "\r",
      "9618it [00:29, 353.23it/s]"
     ]
    },
    {
     "name": "stderr",
     "output_type": "stream",
     "text": [
      "\r",
      "9654it [00:29, 350.99it/s]"
     ]
    },
    {
     "name": "stderr",
     "output_type": "stream",
     "text": [
      "\r",
      "9690it [00:29, 351.21it/s]"
     ]
    },
    {
     "name": "stderr",
     "output_type": "stream",
     "text": [
      "\r",
      "9726it [00:29, 345.28it/s]"
     ]
    },
    {
     "name": "stderr",
     "output_type": "stream",
     "text": [
      "\r",
      "9761it [00:29, 344.61it/s]"
     ]
    },
    {
     "name": "stderr",
     "output_type": "stream",
     "text": [
      "\r",
      "9797it [00:29, 347.93it/s]"
     ]
    },
    {
     "name": "stderr",
     "output_type": "stream",
     "text": [
      "\r",
      "9832it [00:29, 343.01it/s]"
     ]
    },
    {
     "name": "stderr",
     "output_type": "stream",
     "text": [
      "\r",
      "9867it [00:29, 338.41it/s]"
     ]
    },
    {
     "name": "stderr",
     "output_type": "stream",
     "text": [
      "\r",
      "9903it [00:30, 342.34it/s]"
     ]
    },
    {
     "name": "stderr",
     "output_type": "stream",
     "text": [
      "\r",
      "9939it [00:30, 345.98it/s]"
     ]
    },
    {
     "name": "stderr",
     "output_type": "stream",
     "text": [
      "\r",
      "9974it [00:30, 343.94it/s]"
     ]
    },
    {
     "name": "stderr",
     "output_type": "stream",
     "text": [
      "\r",
      "10009it [00:30, 327.03it/s]"
     ]
    },
    {
     "name": "stderr",
     "output_type": "stream",
     "text": [
      "\r",
      "10043it [00:30, 329.90it/s]"
     ]
    },
    {
     "name": "stderr",
     "output_type": "stream",
     "text": [
      "\r",
      "10079it [00:30, 337.18it/s]"
     ]
    },
    {
     "name": "stderr",
     "output_type": "stream",
     "text": [
      "\r",
      "10115it [00:30, 341.23it/s]"
     ]
    },
    {
     "name": "stderr",
     "output_type": "stream",
     "text": [
      "\r",
      "10150it [00:30, 341.66it/s]"
     ]
    },
    {
     "name": "stderr",
     "output_type": "stream",
     "text": [
      "\r",
      "10185it [00:30, 343.14it/s]"
     ]
    },
    {
     "name": "stderr",
     "output_type": "stream",
     "text": [
      "\r",
      "10222it [00:30, 350.17it/s]"
     ]
    },
    {
     "name": "stderr",
     "output_type": "stream",
     "text": [
      "\r",
      "10258it [00:31, 349.87it/s]"
     ]
    },
    {
     "name": "stderr",
     "output_type": "stream",
     "text": [
      "\r",
      "10294it [00:31, 342.60it/s]"
     ]
    },
    {
     "name": "stderr",
     "output_type": "stream",
     "text": [
      "\r",
      "10329it [00:31, 344.47it/s]"
     ]
    },
    {
     "name": "stderr",
     "output_type": "stream",
     "text": [
      "\r",
      "10364it [00:31, 336.98it/s]"
     ]
    },
    {
     "name": "stderr",
     "output_type": "stream",
     "text": [
      "\r",
      "10398it [00:31, 337.48it/s]"
     ]
    },
    {
     "name": "stderr",
     "output_type": "stream",
     "text": [
      "\r",
      "10433it [00:31, 339.77it/s]"
     ]
    },
    {
     "name": "stderr",
     "output_type": "stream",
     "text": [
      "\r",
      "10470it [00:31, 346.17it/s]"
     ]
    },
    {
     "name": "stderr",
     "output_type": "stream",
     "text": [
      "\r",
      "10506it [00:31, 347.96it/s]"
     ]
    },
    {
     "name": "stderr",
     "output_type": "stream",
     "text": [
      "\r",
      "10541it [00:31, 345.87it/s]"
     ]
    },
    {
     "name": "stderr",
     "output_type": "stream",
     "text": [
      "\r",
      "10576it [00:31, 346.33it/s]"
     ]
    },
    {
     "name": "stderr",
     "output_type": "stream",
     "text": [
      "\r",
      "10614it [00:32, 355.26it/s]"
     ]
    },
    {
     "name": "stderr",
     "output_type": "stream",
     "text": [
      "\r",
      "10653it [00:32, 363.77it/s]"
     ]
    },
    {
     "name": "stderr",
     "output_type": "stream",
     "text": [
      "\r",
      "10690it [00:32, 363.60it/s]"
     ]
    },
    {
     "name": "stderr",
     "output_type": "stream",
     "text": [
      "\r",
      "10727it [00:32, 362.14it/s]"
     ]
    },
    {
     "name": "stderr",
     "output_type": "stream",
     "text": [
      "\r",
      "10764it [00:32, 358.97it/s]"
     ]
    },
    {
     "name": "stderr",
     "output_type": "stream",
     "text": [
      "\r",
      "10801it [00:32, 361.22it/s]"
     ]
    },
    {
     "name": "stderr",
     "output_type": "stream",
     "text": [
      "\r",
      "10838it [00:32, 354.61it/s]"
     ]
    },
    {
     "name": "stderr",
     "output_type": "stream",
     "text": [
      "\r",
      "10876it [00:32, 359.63it/s]"
     ]
    },
    {
     "name": "stderr",
     "output_type": "stream",
     "text": [
      "\r",
      "10913it [00:32, 362.49it/s]"
     ]
    },
    {
     "name": "stderr",
     "output_type": "stream",
     "text": [
      "\r",
      "10951it [00:32, 366.69it/s]"
     ]
    },
    {
     "name": "stderr",
     "output_type": "stream",
     "text": [
      "\r",
      "10988it [00:33, 363.89it/s]"
     ]
    },
    {
     "name": "stderr",
     "output_type": "stream",
     "text": [
      "\r",
      "11025it [00:33, 363.88it/s]"
     ]
    },
    {
     "name": "stderr",
     "output_type": "stream",
     "text": [
      "\r",
      "11064it [00:33, 370.72it/s]"
     ]
    },
    {
     "name": "stderr",
     "output_type": "stream",
     "text": [
      "\r",
      "11102it [00:33, 372.19it/s]"
     ]
    },
    {
     "name": "stderr",
     "output_type": "stream",
     "text": [
      "\r",
      "11140it [00:33, 367.70it/s]"
     ]
    },
    {
     "name": "stderr",
     "output_type": "stream",
     "text": [
      "\r",
      "11177it [00:33, 364.67it/s]"
     ]
    },
    {
     "name": "stderr",
     "output_type": "stream",
     "text": [
      "\r",
      "11214it [00:33, 362.71it/s]"
     ]
    },
    {
     "name": "stderr",
     "output_type": "stream",
     "text": [
      "\r",
      "11251it [00:33, 361.87it/s]"
     ]
    },
    {
     "name": "stderr",
     "output_type": "stream",
     "text": [
      "\r",
      "11288it [00:33, 356.57it/s]"
     ]
    },
    {
     "name": "stderr",
     "output_type": "stream",
     "text": [
      "\r",
      "11325it [00:34, 358.30it/s]"
     ]
    },
    {
     "name": "stderr",
     "output_type": "stream",
     "text": [
      "\r",
      "11361it [00:34, 357.90it/s]"
     ]
    },
    {
     "name": "stderr",
     "output_type": "stream",
     "text": [
      "\r",
      "11397it [00:34, 354.24it/s]"
     ]
    },
    {
     "name": "stderr",
     "output_type": "stream",
     "text": [
      "\r",
      "11434it [00:34, 357.26it/s]"
     ]
    },
    {
     "name": "stderr",
     "output_type": "stream",
     "text": [
      "\r",
      "11471it [00:34, 359.54it/s]"
     ]
    },
    {
     "name": "stderr",
     "output_type": "stream",
     "text": [
      "\r",
      "11507it [00:34, 358.89it/s]"
     ]
    },
    {
     "name": "stderr",
     "output_type": "stream",
     "text": [
      "\r",
      "11545it [00:34, 361.00it/s]"
     ]
    },
    {
     "name": "stderr",
     "output_type": "stream",
     "text": [
      "\r",
      "11583it [00:34, 364.66it/s]"
     ]
    },
    {
     "name": "stderr",
     "output_type": "stream",
     "text": [
      "\r",
      "11620it [00:34, 364.56it/s]"
     ]
    },
    {
     "name": "stderr",
     "output_type": "stream",
     "text": [
      "\r",
      "11657it [00:34, 362.09it/s]"
     ]
    },
    {
     "name": "stderr",
     "output_type": "stream",
     "text": [
      "\r",
      "11694it [00:35, 359.44it/s]"
     ]
    },
    {
     "name": "stderr",
     "output_type": "stream",
     "text": [
      "\r",
      "11732it [00:35, 364.76it/s]"
     ]
    },
    {
     "name": "stderr",
     "output_type": "stream",
     "text": [
      "\r",
      "11769it [00:35, 358.27it/s]"
     ]
    },
    {
     "name": "stderr",
     "output_type": "stream",
     "text": [
      "\r",
      "11805it [00:35, 356.81it/s]"
     ]
    },
    {
     "name": "stderr",
     "output_type": "stream",
     "text": [
      "\r",
      "11841it [00:35, 350.72it/s]"
     ]
    },
    {
     "name": "stderr",
     "output_type": "stream",
     "text": [
      "\r",
      "11878it [00:35, 353.73it/s]"
     ]
    },
    {
     "name": "stderr",
     "output_type": "stream",
     "text": [
      "\r",
      "11915it [00:35, 356.74it/s]"
     ]
    },
    {
     "name": "stderr",
     "output_type": "stream",
     "text": [
      "\r",
      "11951it [00:35, 357.06it/s]"
     ]
    },
    {
     "name": "stderr",
     "output_type": "stream",
     "text": [
      "\r",
      "11987it [00:35, 349.54it/s]"
     ]
    },
    {
     "name": "stderr",
     "output_type": "stream",
     "text": [
      "\r",
      "12023it [00:35, 352.53it/s]"
     ]
    },
    {
     "name": "stderr",
     "output_type": "stream",
     "text": [
      "\r",
      "12060it [00:36, 354.91it/s]"
     ]
    },
    {
     "name": "stderr",
     "output_type": "stream",
     "text": [
      "\r",
      "12096it [00:36, 354.55it/s]"
     ]
    },
    {
     "name": "stderr",
     "output_type": "stream",
     "text": [
      "\r",
      "12132it [00:36, 355.99it/s]"
     ]
    },
    {
     "name": "stderr",
     "output_type": "stream",
     "text": [
      "\r",
      "12168it [00:36, 353.11it/s]"
     ]
    },
    {
     "name": "stderr",
     "output_type": "stream",
     "text": [
      "\r",
      "12206it [00:36, 360.79it/s]"
     ]
    },
    {
     "name": "stderr",
     "output_type": "stream",
     "text": [
      "\r",
      "12243it [00:36, 360.23it/s]"
     ]
    },
    {
     "name": "stderr",
     "output_type": "stream",
     "text": [
      "\r",
      "12280it [00:36, 355.73it/s]"
     ]
    },
    {
     "name": "stderr",
     "output_type": "stream",
     "text": [
      "\r",
      "12316it [00:36, 347.73it/s]"
     ]
    },
    {
     "name": "stderr",
     "output_type": "stream",
     "text": [
      "\r",
      "12352it [00:36, 349.06it/s]"
     ]
    },
    {
     "name": "stderr",
     "output_type": "stream",
     "text": [
      "\r",
      "12387it [00:37, 345.65it/s]"
     ]
    },
    {
     "name": "stderr",
     "output_type": "stream",
     "text": [
      "\r",
      "12424it [00:37, 349.76it/s]"
     ]
    },
    {
     "name": "stderr",
     "output_type": "stream",
     "text": [
      "\r",
      "12461it [00:37, 355.66it/s]"
     ]
    },
    {
     "name": "stderr",
     "output_type": "stream",
     "text": [
      "\r",
      "12497it [00:37, 356.59it/s]"
     ]
    },
    {
     "name": "stderr",
     "output_type": "stream",
     "text": [
      "\r",
      "12533it [00:37, 348.22it/s]"
     ]
    },
    {
     "name": "stderr",
     "output_type": "stream",
     "text": [
      "\r",
      "12569it [00:37, 349.58it/s]"
     ]
    },
    {
     "name": "stderr",
     "output_type": "stream",
     "text": [
      "\r",
      "12608it [00:37, 360.00it/s]"
     ]
    },
    {
     "name": "stderr",
     "output_type": "stream",
     "text": [
      "\r",
      "12645it [00:37, 360.64it/s]"
     ]
    },
    {
     "name": "stderr",
     "output_type": "stream",
     "text": [
      "\r",
      "12683it [00:37, 365.36it/s]"
     ]
    },
    {
     "name": "stderr",
     "output_type": "stream",
     "text": [
      "\r",
      "12720it [00:37, 362.31it/s]"
     ]
    },
    {
     "name": "stderr",
     "output_type": "stream",
     "text": [
      "\r",
      "12757it [00:38, 360.45it/s]"
     ]
    },
    {
     "name": "stderr",
     "output_type": "stream",
     "text": [
      "\r",
      "12794it [00:38, 361.17it/s]"
     ]
    },
    {
     "name": "stderr",
     "output_type": "stream",
     "text": [
      "\r",
      "12831it [00:38, 356.77it/s]"
     ]
    },
    {
     "name": "stderr",
     "output_type": "stream",
     "text": [
      "\r",
      "12869it [00:38, 363.49it/s]"
     ]
    },
    {
     "name": "stderr",
     "output_type": "stream",
     "text": [
      "\r",
      "12906it [00:38, 360.70it/s]"
     ]
    },
    {
     "name": "stderr",
     "output_type": "stream",
     "text": [
      "\r",
      "12943it [00:38, 362.81it/s]"
     ]
    },
    {
     "name": "stderr",
     "output_type": "stream",
     "text": [
      "\r",
      "12980it [00:38, 363.84it/s]"
     ]
    },
    {
     "name": "stderr",
     "output_type": "stream",
     "text": [
      "\r",
      "13017it [00:38, 361.06it/s]"
     ]
    },
    {
     "name": "stderr",
     "output_type": "stream",
     "text": [
      "\r",
      "13057it [00:38, 371.91it/s]"
     ]
    },
    {
     "name": "stderr",
     "output_type": "stream",
     "text": [
      "\r",
      "13095it [00:38, 362.85it/s]"
     ]
    },
    {
     "name": "stderr",
     "output_type": "stream",
     "text": [
      "\r",
      "13132it [00:39, 361.31it/s]"
     ]
    },
    {
     "name": "stderr",
     "output_type": "stream",
     "text": [
      "\r",
      "13169it [00:39, 361.18it/s]"
     ]
    },
    {
     "name": "stderr",
     "output_type": "stream",
     "text": [
      "\r",
      "13206it [00:39, 359.12it/s]"
     ]
    },
    {
     "name": "stderr",
     "output_type": "stream",
     "text": [
      "\r",
      "13244it [00:39, 364.98it/s]"
     ]
    },
    {
     "name": "stderr",
     "output_type": "stream",
     "text": [
      "\r",
      "13281it [00:39, 357.95it/s]"
     ]
    },
    {
     "name": "stderr",
     "output_type": "stream",
     "text": [
      "\r",
      "13317it [00:39, 355.97it/s]"
     ]
    },
    {
     "name": "stderr",
     "output_type": "stream",
     "text": [
      "\r",
      "13354it [00:39, 357.28it/s]"
     ]
    },
    {
     "name": "stderr",
     "output_type": "stream",
     "text": [
      "\r",
      "13390it [00:39, 355.27it/s]"
     ]
    },
    {
     "name": "stderr",
     "output_type": "stream",
     "text": [
      "\r",
      "13426it [00:39, 355.24it/s]"
     ]
    },
    {
     "name": "stderr",
     "output_type": "stream",
     "text": [
      "\r",
      "13462it [00:40, 350.71it/s]"
     ]
    },
    {
     "name": "stderr",
     "output_type": "stream",
     "text": [
      "\r",
      "13499it [00:40, 354.70it/s]"
     ]
    },
    {
     "name": "stderr",
     "output_type": "stream",
     "text": [
      "\r",
      "13537it [00:40, 359.74it/s]"
     ]
    },
    {
     "name": "stderr",
     "output_type": "stream",
     "text": [
      "\r",
      "13574it [00:40, 361.62it/s]"
     ]
    },
    {
     "name": "stderr",
     "output_type": "stream",
     "text": [
      "\r",
      "13611it [00:40, 362.38it/s]"
     ]
    },
    {
     "name": "stderr",
     "output_type": "stream",
     "text": [
      "\r",
      "13648it [00:40, 354.48it/s]"
     ]
    },
    {
     "name": "stderr",
     "output_type": "stream",
     "text": [
      "\r",
      "13684it [00:40, 354.73it/s]"
     ]
    },
    {
     "name": "stderr",
     "output_type": "stream",
     "text": [
      "\r",
      "13721it [00:40, 358.88it/s]"
     ]
    },
    {
     "name": "stderr",
     "output_type": "stream",
     "text": [
      "\r",
      "13757it [00:40, 357.12it/s]"
     ]
    },
    {
     "name": "stderr",
     "output_type": "stream",
     "text": [
      "\r",
      "13793it [00:40, 356.73it/s]"
     ]
    },
    {
     "name": "stderr",
     "output_type": "stream",
     "text": [
      "\r",
      "13829it [00:41, 353.60it/s]"
     ]
    },
    {
     "name": "stderr",
     "output_type": "stream",
     "text": [
      "\r",
      "13865it [00:41, 355.23it/s]"
     ]
    },
    {
     "name": "stderr",
     "output_type": "stream",
     "text": [
      "\r",
      "13901it [00:41, 354.66it/s]"
     ]
    },
    {
     "name": "stderr",
     "output_type": "stream",
     "text": [
      "\r",
      "13937it [00:41, 354.27it/s]"
     ]
    },
    {
     "name": "stderr",
     "output_type": "stream",
     "text": [
      "\r",
      "13973it [00:41, 355.50it/s]"
     ]
    },
    {
     "name": "stderr",
     "output_type": "stream",
     "text": [
      "\r",
      "14009it [00:41, 349.49it/s]"
     ]
    },
    {
     "name": "stderr",
     "output_type": "stream",
     "text": [
      "\r",
      "14045it [00:41, 351.44it/s]"
     ]
    },
    {
     "name": "stderr",
     "output_type": "stream",
     "text": [
      "\r",
      "14081it [00:41, 353.71it/s]"
     ]
    },
    {
     "name": "stderr",
     "output_type": "stream",
     "text": [
      "\r",
      "14117it [00:41, 354.85it/s]"
     ]
    },
    {
     "name": "stderr",
     "output_type": "stream",
     "text": [
      "\r",
      "14155it [00:41, 361.74it/s]"
     ]
    },
    {
     "name": "stderr",
     "output_type": "stream",
     "text": [
      "\r",
      "14192it [00:42, 360.35it/s]"
     ]
    },
    {
     "name": "stderr",
     "output_type": "stream",
     "text": [
      "\r",
      "14229it [00:42, 350.59it/s]"
     ]
    },
    {
     "name": "stderr",
     "output_type": "stream",
     "text": [
      "\r",
      "14265it [00:42, 351.82it/s]"
     ]
    },
    {
     "name": "stderr",
     "output_type": "stream",
     "text": [
      "\r",
      "14301it [00:42, 343.33it/s]"
     ]
    },
    {
     "name": "stderr",
     "output_type": "stream",
     "text": [
      "\r",
      "14337it [00:42, 346.49it/s]"
     ]
    },
    {
     "name": "stderr",
     "output_type": "stream",
     "text": [
      "\r",
      "14373it [00:42, 348.39it/s]"
     ]
    },
    {
     "name": "stderr",
     "output_type": "stream",
     "text": [
      "\r",
      "14411it [00:42, 353.74it/s]"
     ]
    },
    {
     "name": "stderr",
     "output_type": "stream",
     "text": [
      "\r",
      "14447it [00:42, 350.07it/s]"
     ]
    },
    {
     "name": "stderr",
     "output_type": "stream",
     "text": [
      "\r",
      "14483it [00:42, 347.83it/s]"
     ]
    },
    {
     "name": "stderr",
     "output_type": "stream",
     "text": [
      "\r",
      "14519it [00:42, 350.06it/s]"
     ]
    },
    {
     "name": "stderr",
     "output_type": "stream",
     "text": [
      "\r",
      "14558it [00:43, 359.99it/s]"
     ]
    },
    {
     "name": "stderr",
     "output_type": "stream",
     "text": [
      "\r",
      "14597it [00:43, 367.50it/s]"
     ]
    },
    {
     "name": "stderr",
     "output_type": "stream",
     "text": [
      "\r",
      "14634it [00:43, 366.83it/s]"
     ]
    },
    {
     "name": "stderr",
     "output_type": "stream",
     "text": [
      "\r",
      "14671it [00:43, 365.74it/s]"
     ]
    },
    {
     "name": "stderr",
     "output_type": "stream",
     "text": [
      "\r",
      "14708it [00:43, 363.81it/s]"
     ]
    },
    {
     "name": "stderr",
     "output_type": "stream",
     "text": [
      "\r",
      "14745it [00:43, 358.05it/s]"
     ]
    },
    {
     "name": "stderr",
     "output_type": "stream",
     "text": [
      "\r",
      "14781it [00:43, 356.29it/s]"
     ]
    },
    {
     "name": "stderr",
     "output_type": "stream",
     "text": [
      "\r",
      "14820it [00:43, 364.98it/s]"
     ]
    },
    {
     "name": "stderr",
     "output_type": "stream",
     "text": [
      "\r",
      "14857it [00:43, 365.71it/s]"
     ]
    },
    {
     "name": "stderr",
     "output_type": "stream",
     "text": [
      "\r",
      "14895it [00:44, 369.35it/s]"
     ]
    },
    {
     "name": "stderr",
     "output_type": "stream",
     "text": [
      "\r",
      "14932it [00:44, 358.07it/s]"
     ]
    },
    {
     "name": "stderr",
     "output_type": "stream",
     "text": [
      "\r",
      "14969it [00:44, 360.19it/s]"
     ]
    },
    {
     "name": "stderr",
     "output_type": "stream",
     "text": [
      "\r",
      "15008it [00:44, 366.38it/s]"
     ]
    },
    {
     "name": "stderr",
     "output_type": "stream",
     "text": [
      "\r",
      "15046it [00:44, 368.55it/s]"
     ]
    },
    {
     "name": "stderr",
     "output_type": "stream",
     "text": [
      "\r",
      "15084it [00:44, 368.75it/s]"
     ]
    },
    {
     "name": "stderr",
     "output_type": "stream",
     "text": [
      "\r",
      "15121it [00:44, 364.21it/s]"
     ]
    },
    {
     "name": "stderr",
     "output_type": "stream",
     "text": [
      "\r",
      "15158it [00:44, 359.68it/s]"
     ]
    },
    {
     "name": "stderr",
     "output_type": "stream",
     "text": [
      "\r",
      "15196it [00:44, 363.40it/s]"
     ]
    },
    {
     "name": "stderr",
     "output_type": "stream",
     "text": [
      "\r",
      "15233it [00:44, 360.88it/s]"
     ]
    },
    {
     "name": "stderr",
     "output_type": "stream",
     "text": [
      "\r",
      "15270it [00:45, 361.70it/s]"
     ]
    },
    {
     "name": "stderr",
     "output_type": "stream",
     "text": [
      "\r",
      "15307it [00:45, 351.76it/s]"
     ]
    },
    {
     "name": "stderr",
     "output_type": "stream",
     "text": [
      "\r",
      "15344it [00:45, 355.09it/s]"
     ]
    },
    {
     "name": "stderr",
     "output_type": "stream",
     "text": [
      "\r",
      "15380it [00:45, 354.48it/s]"
     ]
    },
    {
     "name": "stderr",
     "output_type": "stream",
     "text": [
      "\r",
      "15418it [00:45, 357.86it/s]"
     ]
    },
    {
     "name": "stderr",
     "output_type": "stream",
     "text": [
      "\r",
      "15454it [00:45, 355.30it/s]"
     ]
    },
    {
     "name": "stderr",
     "output_type": "stream",
     "text": [
      "\r",
      "15491it [00:45, 358.01it/s]"
     ]
    },
    {
     "name": "stderr",
     "output_type": "stream",
     "text": [
      "\r",
      "15529it [00:45, 364.09it/s]"
     ]
    },
    {
     "name": "stderr",
     "output_type": "stream",
     "text": [
      "\r",
      "15566it [00:45, 356.47it/s]"
     ]
    },
    {
     "name": "stderr",
     "output_type": "stream",
     "text": [
      "\r",
      "15602it [00:45, 356.22it/s]"
     ]
    },
    {
     "name": "stderr",
     "output_type": "stream",
     "text": [
      "\r",
      "15638it [00:46, 353.62it/s]"
     ]
    },
    {
     "name": "stderr",
     "output_type": "stream",
     "text": [
      "\r",
      "15674it [00:46, 355.26it/s]"
     ]
    },
    {
     "name": "stderr",
     "output_type": "stream",
     "text": [
      "\r",
      "15710it [00:46, 355.62it/s]"
     ]
    },
    {
     "name": "stderr",
     "output_type": "stream",
     "text": [
      "\r",
      "15746it [00:46, 352.53it/s]"
     ]
    },
    {
     "name": "stderr",
     "output_type": "stream",
     "text": [
      "\r",
      "15783it [00:46, 356.83it/s]"
     ]
    },
    {
     "name": "stderr",
     "output_type": "stream",
     "text": [
      "\r",
      "15820it [00:46, 360.18it/s]"
     ]
    },
    {
     "name": "stderr",
     "output_type": "stream",
     "text": [
      "\r",
      "15857it [00:46, 359.59it/s]"
     ]
    },
    {
     "name": "stderr",
     "output_type": "stream",
     "text": [
      "\r",
      "15894it [00:46, 361.35it/s]"
     ]
    },
    {
     "name": "stderr",
     "output_type": "stream",
     "text": [
      "\r",
      "15931it [00:46, 362.24it/s]"
     ]
    },
    {
     "name": "stderr",
     "output_type": "stream",
     "text": [
      "\r",
      "15968it [00:47, 359.14it/s]"
     ]
    },
    {
     "name": "stderr",
     "output_type": "stream",
     "text": [
      "\r",
      "16004it [00:47, 351.80it/s]"
     ]
    },
    {
     "name": "stderr",
     "output_type": "stream",
     "text": [
      "\r",
      "16040it [00:47, 349.46it/s]"
     ]
    },
    {
     "name": "stderr",
     "output_type": "stream",
     "text": [
      "\r",
      "16077it [00:47, 353.90it/s]"
     ]
    },
    {
     "name": "stderr",
     "output_type": "stream",
     "text": [
      "\r",
      "16113it [00:47, 353.02it/s]"
     ]
    },
    {
     "name": "stderr",
     "output_type": "stream",
     "text": [
      "\r",
      "16152it [00:47, 360.65it/s]"
     ]
    },
    {
     "name": "stderr",
     "output_type": "stream",
     "text": [
      "\r",
      "16189it [00:47, 356.61it/s]"
     ]
    },
    {
     "name": "stderr",
     "output_type": "stream",
     "text": [
      "\r",
      "16225it [00:47, 348.04it/s]"
     ]
    },
    {
     "name": "stderr",
     "output_type": "stream",
     "text": [
      "\r",
      "16260it [00:47, 347.53it/s]"
     ]
    },
    {
     "name": "stderr",
     "output_type": "stream",
     "text": [
      "\r",
      "16296it [00:47, 348.86it/s]"
     ]
    },
    {
     "name": "stderr",
     "output_type": "stream",
     "text": [
      "\r",
      "16331it [00:48, 345.87it/s]"
     ]
    },
    {
     "name": "stderr",
     "output_type": "stream",
     "text": [
      "\r",
      "16368it [00:48, 350.37it/s]"
     ]
    },
    {
     "name": "stderr",
     "output_type": "stream",
     "text": [
      "\r",
      "16405it [00:48, 355.58it/s]"
     ]
    },
    {
     "name": "stderr",
     "output_type": "stream",
     "text": [
      "\r",
      "16442it [00:48, 358.15it/s]"
     ]
    },
    {
     "name": "stderr",
     "output_type": "stream",
     "text": [
      "\r",
      "16478it [00:48, 350.50it/s]"
     ]
    },
    {
     "name": "stderr",
     "output_type": "stream",
     "text": [
      "\r",
      "16514it [00:48, 351.60it/s]"
     ]
    },
    {
     "name": "stderr",
     "output_type": "stream",
     "text": [
      "\r",
      "16552it [00:48, 359.20it/s]"
     ]
    },
    {
     "name": "stderr",
     "output_type": "stream",
     "text": [
      "\r",
      "16589it [00:48, 360.86it/s]"
     ]
    },
    {
     "name": "stderr",
     "output_type": "stream",
     "text": [
      "\r",
      "16626it [00:48, 363.19it/s]"
     ]
    },
    {
     "name": "stderr",
     "output_type": "stream",
     "text": [
      "\r",
      "16663it [00:48, 361.74it/s]"
     ]
    },
    {
     "name": "stderr",
     "output_type": "stream",
     "text": [
      "\r",
      "16700it [00:49, 359.07it/s]"
     ]
    },
    {
     "name": "stderr",
     "output_type": "stream",
     "text": [
      "\r",
      "16737it [00:49, 359.31it/s]"
     ]
    },
    {
     "name": "stderr",
     "output_type": "stream",
     "text": [
      "\r",
      "16773it [00:49, 356.81it/s]"
     ]
    },
    {
     "name": "stderr",
     "output_type": "stream",
     "text": [
      "\r",
      "16811it [00:49, 360.96it/s]"
     ]
    },
    {
     "name": "stderr",
     "output_type": "stream",
     "text": [
      "\r",
      "16848it [00:49, 361.45it/s]"
     ]
    },
    {
     "name": "stderr",
     "output_type": "stream",
     "text": [
      "\r",
      "16885it [00:49, 363.45it/s]"
     ]
    },
    {
     "name": "stderr",
     "output_type": "stream",
     "text": [
      "\r",
      "16922it [00:49, 364.73it/s]"
     ]
    },
    {
     "name": "stderr",
     "output_type": "stream",
     "text": [
      "\r",
      "16959it [00:49, 361.44it/s]"
     ]
    },
    {
     "name": "stderr",
     "output_type": "stream",
     "text": [
      "\r",
      "16997it [00:49, 364.96it/s]"
     ]
    },
    {
     "name": "stderr",
     "output_type": "stream",
     "text": [
      "\r",
      "17034it [00:49, 361.45it/s]"
     ]
    },
    {
     "name": "stderr",
     "output_type": "stream",
     "text": [
      "\r",
      "17071it [00:50, 360.04it/s]"
     ]
    },
    {
     "name": "stderr",
     "output_type": "stream",
     "text": [
      "\r",
      "17108it [00:50, 359.24it/s]"
     ]
    },
    {
     "name": "stderr",
     "output_type": "stream",
     "text": [
      "\r",
      "17144it [00:50, 356.20it/s]"
     ]
    },
    {
     "name": "stderr",
     "output_type": "stream",
     "text": [
      "\r",
      "17182it [00:50, 361.21it/s]"
     ]
    },
    {
     "name": "stderr",
     "output_type": "stream",
     "text": [
      "\r",
      "17219it [00:50, 356.37it/s]"
     ]
    },
    {
     "name": "stderr",
     "output_type": "stream",
     "text": [
      "\r",
      "17255it [00:50, 354.58it/s]"
     ]
    },
    {
     "name": "stderr",
     "output_type": "stream",
     "text": [
      "\r",
      "17291it [00:50, 352.04it/s]"
     ]
    },
    {
     "name": "stderr",
     "output_type": "stream",
     "text": [
      "\r",
      "17328it [00:50, 354.53it/s]"
     ]
    },
    {
     "name": "stderr",
     "output_type": "stream",
     "text": [
      "\r",
      "17365it [00:50, 357.32it/s]"
     ]
    },
    {
     "name": "stderr",
     "output_type": "stream",
     "text": [
      "\r",
      "17403it [00:51, 361.29it/s]"
     ]
    },
    {
     "name": "stderr",
     "output_type": "stream",
     "text": [
      "\r",
      "17440it [00:51, 361.17it/s]"
     ]
    },
    {
     "name": "stderr",
     "output_type": "stream",
     "text": [
      "\r",
      "17477it [00:51, 361.22it/s]"
     ]
    },
    {
     "name": "stderr",
     "output_type": "stream",
     "text": [
      "\r",
      "17515it [00:51, 366.29it/s]"
     ]
    },
    {
     "name": "stderr",
     "output_type": "stream",
     "text": [
      "\r",
      "17552it [00:51, 366.59it/s]"
     ]
    },
    {
     "name": "stderr",
     "output_type": "stream",
     "text": [
      "\r",
      "17589it [00:51, 358.42it/s]"
     ]
    },
    {
     "name": "stderr",
     "output_type": "stream",
     "text": [
      "\r",
      "17625it [00:51, 357.96it/s]"
     ]
    },
    {
     "name": "stderr",
     "output_type": "stream",
     "text": [
      "\r",
      "17663it [00:51, 360.78it/s]"
     ]
    },
    {
     "name": "stderr",
     "output_type": "stream",
     "text": [
      "\r",
      "17700it [00:51, 359.22it/s]"
     ]
    },
    {
     "name": "stderr",
     "output_type": "stream",
     "text": [
      "\r",
      "17736it [00:51, 357.48it/s]"
     ]
    },
    {
     "name": "stderr",
     "output_type": "stream",
     "text": [
      "\r",
      "17774it [00:52, 361.14it/s]"
     ]
    },
    {
     "name": "stderr",
     "output_type": "stream",
     "text": [
      "\r",
      "17811it [00:52, 362.11it/s]"
     ]
    },
    {
     "name": "stderr",
     "output_type": "stream",
     "text": [
      "\r",
      "17848it [00:52, 358.16it/s]"
     ]
    },
    {
     "name": "stderr",
     "output_type": "stream",
     "text": [
      "\r",
      "17884it [00:52, 355.82it/s]"
     ]
    },
    {
     "name": "stderr",
     "output_type": "stream",
     "text": [
      "\r",
      "17920it [00:52, 356.36it/s]"
     ]
    },
    {
     "name": "stderr",
     "output_type": "stream",
     "text": [
      "\r",
      "17956it [00:52, 354.06it/s]"
     ]
    },
    {
     "name": "stderr",
     "output_type": "stream",
     "text": [
      "\r",
      "17992it [00:52, 350.62it/s]"
     ]
    },
    {
     "name": "stderr",
     "output_type": "stream",
     "text": [
      "\r",
      "18028it [00:52, 344.88it/s]"
     ]
    },
    {
     "name": "stderr",
     "output_type": "stream",
     "text": [
      "\r",
      "18064it [00:52, 347.88it/s]"
     ]
    },
    {
     "name": "stderr",
     "output_type": "stream",
     "text": [
      "\r",
      "18099it [00:52, 348.05it/s]"
     ]
    },
    {
     "name": "stderr",
     "output_type": "stream",
     "text": [
      "\r",
      "18138it [00:53, 357.36it/s]"
     ]
    },
    {
     "name": "stderr",
     "output_type": "stream",
     "text": [
      "\r",
      "18174it [00:53, 357.19it/s]"
     ]
    },
    {
     "name": "stderr",
     "output_type": "stream",
     "text": [
      "\r",
      "18210it [00:53, 350.13it/s]"
     ]
    },
    {
     "name": "stderr",
     "output_type": "stream",
     "text": [
      "\r",
      "18246it [00:53, 345.99it/s]"
     ]
    },
    {
     "name": "stderr",
     "output_type": "stream",
     "text": [
      "\r",
      "18281it [00:53, 343.74it/s]"
     ]
    },
    {
     "name": "stderr",
     "output_type": "stream",
     "text": [
      "\r",
      "18316it [00:53, 344.21it/s]"
     ]
    },
    {
     "name": "stderr",
     "output_type": "stream",
     "text": [
      "\r",
      "18353it [00:53, 348.61it/s]"
     ]
    },
    {
     "name": "stderr",
     "output_type": "stream",
     "text": [
      "\r",
      "18389it [00:53, 351.22it/s]"
     ]
    },
    {
     "name": "stderr",
     "output_type": "stream",
     "text": [
      "\r",
      "18425it [00:53, 350.17it/s]"
     ]
    },
    {
     "name": "stderr",
     "output_type": "stream",
     "text": [
      "\r",
      "18461it [00:54, 348.95it/s]"
     ]
    },
    {
     "name": "stderr",
     "output_type": "stream",
     "text": [
      "\r",
      "18496it [00:54, 346.77it/s]"
     ]
    },
    {
     "name": "stderr",
     "output_type": "stream",
     "text": [
      "\r",
      "18534it [00:54, 354.90it/s]"
     ]
    },
    {
     "name": "stderr",
     "output_type": "stream",
     "text": [
      "\r",
      "18571it [00:54, 356.91it/s]"
     ]
    },
    {
     "name": "stderr",
     "output_type": "stream",
     "text": [
      "\r",
      "18610it [00:54, 364.16it/s]"
     ]
    },
    {
     "name": "stderr",
     "output_type": "stream",
     "text": [
      "\r",
      "18647it [00:54, 365.47it/s]"
     ]
    },
    {
     "name": "stderr",
     "output_type": "stream",
     "text": [
      "\r",
      "18684it [00:54, 364.45it/s]"
     ]
    },
    {
     "name": "stderr",
     "output_type": "stream",
     "text": [
      "\r",
      "18721it [00:54, 361.89it/s]"
     ]
    },
    {
     "name": "stderr",
     "output_type": "stream",
     "text": [
      "\r",
      "18758it [00:54, 357.99it/s]"
     ]
    },
    {
     "name": "stderr",
     "output_type": "stream",
     "text": [
      "\r",
      "18796it [00:54, 363.32it/s]"
     ]
    },
    {
     "name": "stderr",
     "output_type": "stream",
     "text": [
      "\r",
      "18834it [00:55, 366.33it/s]"
     ]
    },
    {
     "name": "stderr",
     "output_type": "stream",
     "text": [
      "\r",
      "18872it [00:55, 364.72it/s]"
     ]
    },
    {
     "name": "stderr",
     "output_type": "stream",
     "text": [
      "\r",
      "18909it [00:55, 363.93it/s]"
     ]
    },
    {
     "name": "stderr",
     "output_type": "stream",
     "text": [
      "\r",
      "18946it [00:55, 363.36it/s]"
     ]
    },
    {
     "name": "stderr",
     "output_type": "stream",
     "text": [
      "\r",
      "18986it [00:55, 371.71it/s]"
     ]
    },
    {
     "name": "stderr",
     "output_type": "stream",
     "text": [
      "\r",
      "19024it [00:55, 366.61it/s]"
     ]
    },
    {
     "name": "stderr",
     "output_type": "stream",
     "text": [
      "\r",
      "19061it [00:55, 364.62it/s]"
     ]
    },
    {
     "name": "stderr",
     "output_type": "stream",
     "text": [
      "\r",
      "19098it [00:55, 359.34it/s]"
     ]
    },
    {
     "name": "stderr",
     "output_type": "stream",
     "text": [
      "\r",
      "19134it [00:55, 355.35it/s]"
     ]
    },
    {
     "name": "stderr",
     "output_type": "stream",
     "text": [
      "\r",
      "19171it [00:55, 358.10it/s]"
     ]
    },
    {
     "name": "stderr",
     "output_type": "stream",
     "text": [
      "\r",
      "19207it [00:56, 353.65it/s]"
     ]
    },
    {
     "name": "stderr",
     "output_type": "stream",
     "text": [
      "\r",
      "19243it [00:56, 348.65it/s]"
     ]
    },
    {
     "name": "stderr",
     "output_type": "stream",
     "text": [
      "\r",
      "19278it [00:56, 346.43it/s]"
     ]
    },
    {
     "name": "stderr",
     "output_type": "stream",
     "text": [
      "\r",
      "19313it [00:56, 344.24it/s]"
     ]
    },
    {
     "name": "stderr",
     "output_type": "stream",
     "text": [
      "\r",
      "19348it [00:56, 344.30it/s]"
     ]
    },
    {
     "name": "stderr",
     "output_type": "stream",
     "text": [
      "\r",
      "19384it [00:56, 346.71it/s]"
     ]
    },
    {
     "name": "stderr",
     "output_type": "stream",
     "text": [
      "\r",
      "19419it [00:56, 346.20it/s]"
     ]
    },
    {
     "name": "stderr",
     "output_type": "stream",
     "text": [
      "\r",
      "19456it [00:56, 350.31it/s]"
     ]
    },
    {
     "name": "stderr",
     "output_type": "stream",
     "text": [
      "\r",
      "19493it [00:56, 353.48it/s]"
     ]
    },
    {
     "name": "stderr",
     "output_type": "stream",
     "text": [
      "\r",
      "19529it [00:57, 353.13it/s]"
     ]
    },
    {
     "name": "stderr",
     "output_type": "stream",
     "text": [
      "\r",
      "19565it [00:57, 353.86it/s]"
     ]
    },
    {
     "name": "stderr",
     "output_type": "stream",
     "text": [
      "\r",
      "19601it [00:57, 348.20it/s]"
     ]
    },
    {
     "name": "stderr",
     "output_type": "stream",
     "text": [
      "\r",
      "19638it [00:57, 353.13it/s]"
     ]
    },
    {
     "name": "stderr",
     "output_type": "stream",
     "text": [
      "\r",
      "19674it [00:57, 344.68it/s]"
     ]
    },
    {
     "name": "stderr",
     "output_type": "stream",
     "text": [
      "\r",
      "19709it [00:57, 344.92it/s]"
     ]
    },
    {
     "name": "stderr",
     "output_type": "stream",
     "text": [
      "\r",
      "19745it [00:57, 347.31it/s]"
     ]
    },
    {
     "name": "stderr",
     "output_type": "stream",
     "text": [
      "\r",
      "19780it [00:57, 347.03it/s]"
     ]
    },
    {
     "name": "stderr",
     "output_type": "stream",
     "text": [
      "\r",
      "19815it [00:57, 346.02it/s]"
     ]
    },
    {
     "name": "stderr",
     "output_type": "stream",
     "text": [
      "\r",
      "19851it [00:57, 348.12it/s]"
     ]
    },
    {
     "name": "stderr",
     "output_type": "stream",
     "text": [
      "\r",
      "19887it [00:58, 350.12it/s]"
     ]
    },
    {
     "name": "stderr",
     "output_type": "stream",
     "text": [
      "\r",
      "19923it [00:58, 351.75it/s]"
     ]
    },
    {
     "name": "stderr",
     "output_type": "stream",
     "text": [
      "\r",
      "19959it [00:58, 349.58it/s]"
     ]
    },
    {
     "name": "stderr",
     "output_type": "stream",
     "text": [
      "\r",
      "19994it [00:58, 346.17it/s]"
     ]
    },
    {
     "name": "stderr",
     "output_type": "stream",
     "text": [
      "\r",
      "20029it [00:58, 345.61it/s]"
     ]
    },
    {
     "name": "stderr",
     "output_type": "stream",
     "text": [
      "\r",
      "20064it [00:58, 342.89it/s]"
     ]
    },
    {
     "name": "stderr",
     "output_type": "stream",
     "text": [
      "\r",
      "20099it [00:58, 343.88it/s]"
     ]
    },
    {
     "name": "stderr",
     "output_type": "stream",
     "text": [
      "\r",
      "20136it [00:58, 350.07it/s]"
     ]
    },
    {
     "name": "stderr",
     "output_type": "stream",
     "text": [
      "\r",
      "20172it [00:58, 349.57it/s]"
     ]
    },
    {
     "name": "stderr",
     "output_type": "stream",
     "text": [
      "\r",
      "20207it [00:58, 332.82it/s]"
     ]
    },
    {
     "name": "stderr",
     "output_type": "stream",
     "text": [
      "\r",
      "20241it [00:59, 330.21it/s]"
     ]
    },
    {
     "name": "stderr",
     "output_type": "stream",
     "text": [
      "\r",
      "20275it [00:59, 331.12it/s]"
     ]
    },
    {
     "name": "stderr",
     "output_type": "stream",
     "text": [
      "\r",
      "20309it [00:59, 329.45it/s]"
     ]
    },
    {
     "name": "stderr",
     "output_type": "stream",
     "text": [
      "\r",
      "20344it [00:59, 333.24it/s]"
     ]
    },
    {
     "name": "stderr",
     "output_type": "stream",
     "text": [
      "\r",
      "20379it [00:59, 335.91it/s]"
     ]
    },
    {
     "name": "stderr",
     "output_type": "stream",
     "text": [
      "\r",
      "20413it [00:59, 335.02it/s]"
     ]
    },
    {
     "name": "stderr",
     "output_type": "stream",
     "text": [
      "\r",
      "20447it [00:59, 330.64it/s]"
     ]
    },
    {
     "name": "stderr",
     "output_type": "stream",
     "text": [
      "\r",
      "20481it [00:59, 327.64it/s]"
     ]
    },
    {
     "name": "stderr",
     "output_type": "stream",
     "text": [
      "\r",
      "20517it [00:59, 335.42it/s]"
     ]
    },
    {
     "name": "stderr",
     "output_type": "stream",
     "text": [
      "\r",
      "20553it [01:00, 341.82it/s]"
     ]
    },
    {
     "name": "stderr",
     "output_type": "stream",
     "text": [
      "\r",
      "20588it [01:00, 343.45it/s]"
     ]
    },
    {
     "name": "stderr",
     "output_type": "stream",
     "text": [
      "\r",
      "20624it [01:00, 346.05it/s]"
     ]
    },
    {
     "name": "stderr",
     "output_type": "stream",
     "text": [
      "\r",
      "20659it [01:00, 342.97it/s]"
     ]
    },
    {
     "name": "stderr",
     "output_type": "stream",
     "text": [
      "\r",
      "20694it [01:00, 338.36it/s]"
     ]
    },
    {
     "name": "stderr",
     "output_type": "stream",
     "text": [
      "\r",
      "20728it [01:00, 331.19it/s]"
     ]
    },
    {
     "name": "stderr",
     "output_type": "stream",
     "text": [
      "\r",
      "20762it [01:00, 332.14it/s]"
     ]
    },
    {
     "name": "stderr",
     "output_type": "stream",
     "text": [
      "\r",
      "20798it [01:00, 338.58it/s]"
     ]
    },
    {
     "name": "stderr",
     "output_type": "stream",
     "text": [
      "\r",
      "20833it [01:00, 340.33it/s]"
     ]
    },
    {
     "name": "stderr",
     "output_type": "stream",
     "text": [
      "\r",
      "20868it [01:00, 341.27it/s]"
     ]
    },
    {
     "name": "stderr",
     "output_type": "stream",
     "text": [
      "\r",
      "20903it [01:01, 341.43it/s]"
     ]
    },
    {
     "name": "stderr",
     "output_type": "stream",
     "text": [
      "\r",
      "20938it [01:01, 339.60it/s]"
     ]
    },
    {
     "name": "stderr",
     "output_type": "stream",
     "text": [
      "\r",
      "20974it [01:01, 345.29it/s]"
     ]
    },
    {
     "name": "stderr",
     "output_type": "stream",
     "text": [
      "\r",
      "21010it [01:01, 347.59it/s]"
     ]
    },
    {
     "name": "stderr",
     "output_type": "stream",
     "text": [
      "\r",
      "21045it [01:01, 339.63it/s]"
     ]
    },
    {
     "name": "stderr",
     "output_type": "stream",
     "text": [
      "\r",
      "21080it [01:01, 334.63it/s]"
     ]
    },
    {
     "name": "stderr",
     "output_type": "stream",
     "text": [
      "\r",
      "21114it [01:01, 331.74it/s]"
     ]
    },
    {
     "name": "stderr",
     "output_type": "stream",
     "text": [
      "\r",
      "21149it [01:01, 334.97it/s]"
     ]
    },
    {
     "name": "stderr",
     "output_type": "stream",
     "text": [
      "\r",
      "21184it [01:01, 339.31it/s]"
     ]
    },
    {
     "name": "stderr",
     "output_type": "stream",
     "text": [
      "\r",
      "21218it [01:01, 334.57it/s]"
     ]
    },
    {
     "name": "stderr",
     "output_type": "stream",
     "text": [
      "\r",
      "21252it [01:02, 331.92it/s]"
     ]
    },
    {
     "name": "stderr",
     "output_type": "stream",
     "text": [
      "\r",
      "21286it [01:02, 332.98it/s]"
     ]
    },
    {
     "name": "stderr",
     "output_type": "stream",
     "text": [
      "\r",
      "21320it [01:02, 331.95it/s]"
     ]
    },
    {
     "name": "stderr",
     "output_type": "stream",
     "text": [
      "\r",
      "21355it [01:02, 336.97it/s]"
     ]
    },
    {
     "name": "stderr",
     "output_type": "stream",
     "text": [
      "\r",
      "21389it [01:02, 337.08it/s]"
     ]
    },
    {
     "name": "stderr",
     "output_type": "stream",
     "text": [
      "\r",
      "21424it [01:02, 337.77it/s]"
     ]
    },
    {
     "name": "stderr",
     "output_type": "stream",
     "text": [
      "\r",
      "21460it [01:02, 342.35it/s]"
     ]
    },
    {
     "name": "stderr",
     "output_type": "stream",
     "text": [
      "\r",
      "21496it [01:02, 347.16it/s]"
     ]
    },
    {
     "name": "stderr",
     "output_type": "stream",
     "text": [
      "\r",
      "21531it [01:02, 345.70it/s]"
     ]
    },
    {
     "name": "stderr",
     "output_type": "stream",
     "text": [
      "\r",
      "21566it [01:02, 342.06it/s]"
     ]
    },
    {
     "name": "stderr",
     "output_type": "stream",
     "text": [
      "\r",
      "21601it [01:03, 337.68it/s]"
     ]
    },
    {
     "name": "stderr",
     "output_type": "stream",
     "text": [
      "\r",
      "21637it [01:03, 341.86it/s]"
     ]
    },
    {
     "name": "stderr",
     "output_type": "stream",
     "text": [
      "\r",
      "21672it [01:03, 340.57it/s]"
     ]
    },
    {
     "name": "stderr",
     "output_type": "stream",
     "text": [
      "\r",
      "21707it [01:03, 337.70it/s]"
     ]
    },
    {
     "name": "stderr",
     "output_type": "stream",
     "text": [
      "\r",
      "21741it [01:03, 330.13it/s]"
     ]
    },
    {
     "name": "stderr",
     "output_type": "stream",
     "text": [
      "\r",
      "21775it [01:03, 331.40it/s]"
     ]
    },
    {
     "name": "stderr",
     "output_type": "stream",
     "text": [
      "\r",
      "21810it [01:03, 336.28it/s]"
     ]
    },
    {
     "name": "stderr",
     "output_type": "stream",
     "text": [
      "\r",
      "21845it [01:03, 338.54it/s]"
     ]
    },
    {
     "name": "stderr",
     "output_type": "stream",
     "text": [
      "\r",
      "21879it [01:03, 336.58it/s]"
     ]
    },
    {
     "name": "stderr",
     "output_type": "stream",
     "text": [
      "\r",
      "21913it [01:04, 336.20it/s]"
     ]
    },
    {
     "name": "stderr",
     "output_type": "stream",
     "text": [
      "\r",
      "21947it [01:04, 336.25it/s]"
     ]
    },
    {
     "name": "stderr",
     "output_type": "stream",
     "text": [
      "\r",
      "21981it [01:04, 330.52it/s]"
     ]
    },
    {
     "name": "stderr",
     "output_type": "stream",
     "text": [
      "\r",
      "22016it [01:04, 333.55it/s]"
     ]
    },
    {
     "name": "stderr",
     "output_type": "stream",
     "text": [
      "\r",
      "22050it [01:04, 335.27it/s]"
     ]
    },
    {
     "name": "stderr",
     "output_type": "stream",
     "text": [
      "\r",
      "22084it [01:04, 325.35it/s]"
     ]
    },
    {
     "name": "stderr",
     "output_type": "stream",
     "text": [
      "\r",
      "22121it [01:04, 335.14it/s]"
     ]
    },
    {
     "name": "stderr",
     "output_type": "stream",
     "text": [
      "\r",
      "22155it [01:04, 335.10it/s]"
     ]
    },
    {
     "name": "stderr",
     "output_type": "stream",
     "text": [
      "\r",
      "22189it [01:04, 331.67it/s]"
     ]
    },
    {
     "name": "stderr",
     "output_type": "stream",
     "text": [
      "\r",
      "22223it [01:04, 330.27it/s]"
     ]
    },
    {
     "name": "stderr",
     "output_type": "stream",
     "text": [
      "\r",
      "22257it [01:05, 326.26it/s]"
     ]
    },
    {
     "name": "stderr",
     "output_type": "stream",
     "text": [
      "\r",
      "22290it [01:05, 324.38it/s]"
     ]
    },
    {
     "name": "stderr",
     "output_type": "stream",
     "text": [
      "\r",
      "22324it [01:05, 326.45it/s]"
     ]
    },
    {
     "name": "stderr",
     "output_type": "stream",
     "text": [
      "\r",
      "22358it [01:05, 330.04it/s]"
     ]
    },
    {
     "name": "stderr",
     "output_type": "stream",
     "text": [
      "\r",
      "22392it [01:05, 331.07it/s]"
     ]
    },
    {
     "name": "stderr",
     "output_type": "stream",
     "text": [
      "\r",
      "22426it [01:05, 320.90it/s]"
     ]
    },
    {
     "name": "stderr",
     "output_type": "stream",
     "text": [
      "\r",
      "22459it [01:05, 321.08it/s]"
     ]
    },
    {
     "name": "stderr",
     "output_type": "stream",
     "text": [
      "\r",
      "22494it [01:05, 327.67it/s]"
     ]
    },
    {
     "name": "stderr",
     "output_type": "stream",
     "text": [
      "\r",
      "22527it [01:05, 313.01it/s]"
     ]
    },
    {
     "name": "stderr",
     "output_type": "stream",
     "text": [
      "\r",
      "22561it [01:06, 319.02it/s]"
     ]
    },
    {
     "name": "stderr",
     "output_type": "stream",
     "text": [
      "\r",
      "22596it [01:06, 327.21it/s]"
     ]
    },
    {
     "name": "stderr",
     "output_type": "stream",
     "text": [
      "\r",
      "22630it [01:06, 327.67it/s]"
     ]
    },
    {
     "name": "stderr",
     "output_type": "stream",
     "text": [
      "\r",
      "22664it [01:06, 329.63it/s]"
     ]
    },
    {
     "name": "stderr",
     "output_type": "stream",
     "text": [
      "\r",
      "22698it [01:06, 331.23it/s]"
     ]
    },
    {
     "name": "stderr",
     "output_type": "stream",
     "text": [
      "\r",
      "22732it [01:06, 330.33it/s]"
     ]
    },
    {
     "name": "stderr",
     "output_type": "stream",
     "text": [
      "\r",
      "22768it [01:06, 337.69it/s]"
     ]
    },
    {
     "name": "stderr",
     "output_type": "stream",
     "text": [
      "\r",
      "22804it [01:06, 342.11it/s]"
     ]
    },
    {
     "name": "stderr",
     "output_type": "stream",
     "text": [
      "\r",
      "22839it [01:06, 344.01it/s]"
     ]
    },
    {
     "name": "stderr",
     "output_type": "stream",
     "text": [
      "\r",
      "22874it [01:06, 342.65it/s]"
     ]
    },
    {
     "name": "stderr",
     "output_type": "stream",
     "text": [
      "\r",
      "22909it [01:07, 341.13it/s]"
     ]
    },
    {
     "name": "stderr",
     "output_type": "stream",
     "text": [
      "\r",
      "22944it [01:07, 341.22it/s]"
     ]
    },
    {
     "name": "stderr",
     "output_type": "stream",
     "text": [
      "\r",
      "22981it [01:07, 348.89it/s]"
     ]
    },
    {
     "name": "stderr",
     "output_type": "stream",
     "text": [
      "\r",
      "23016it [01:07, 342.97it/s]"
     ]
    },
    {
     "name": "stderr",
     "output_type": "stream",
     "text": [
      "\r",
      "23051it [01:07, 342.35it/s]"
     ]
    },
    {
     "name": "stderr",
     "output_type": "stream",
     "text": [
      "\r",
      "23086it [01:07, 342.01it/s]"
     ]
    },
    {
     "name": "stderr",
     "output_type": "stream",
     "text": [
      "\r",
      "23121it [01:07, 338.32it/s]"
     ]
    },
    {
     "name": "stderr",
     "output_type": "stream",
     "text": [
      "\r",
      "23157it [01:07, 344.32it/s]"
     ]
    },
    {
     "name": "stderr",
     "output_type": "stream",
     "text": [
      "\r",
      "23192it [01:07, 335.62it/s]"
     ]
    },
    {
     "name": "stderr",
     "output_type": "stream",
     "text": [
      "\r",
      "23226it [01:07, 336.15it/s]"
     ]
    },
    {
     "name": "stderr",
     "output_type": "stream",
     "text": [
      "\r",
      "23260it [01:08, 333.07it/s]"
     ]
    },
    {
     "name": "stderr",
     "output_type": "stream",
     "text": [
      "\r",
      "23294it [01:08, 332.35it/s]"
     ]
    },
    {
     "name": "stderr",
     "output_type": "stream",
     "text": [
      "\r",
      "23328it [01:08, 334.40it/s]"
     ]
    },
    {
     "name": "stderr",
     "output_type": "stream",
     "text": [
      "\r",
      "23363it [01:08, 338.41it/s]"
     ]
    },
    {
     "name": "stderr",
     "output_type": "stream",
     "text": [
      "\r",
      "23397it [01:08, 335.45it/s]"
     ]
    },
    {
     "name": "stderr",
     "output_type": "stream",
     "text": [
      "\r",
      "23432it [01:08, 338.67it/s]"
     ]
    },
    {
     "name": "stderr",
     "output_type": "stream",
     "text": [
      "\r",
      "23469it [01:08, 345.94it/s]"
     ]
    },
    {
     "name": "stderr",
     "output_type": "stream",
     "text": [
      "\r",
      "23504it [01:08, 344.98it/s]"
     ]
    },
    {
     "name": "stderr",
     "output_type": "stream",
     "text": [
      "\r",
      "23539it [01:08, 343.06it/s]"
     ]
    },
    {
     "name": "stderr",
     "output_type": "stream",
     "text": [
      "\r",
      "23574it [01:08, 338.75it/s]"
     ]
    },
    {
     "name": "stderr",
     "output_type": "stream",
     "text": [
      "\r",
      "23610it [01:09, 342.81it/s]"
     ]
    },
    {
     "name": "stderr",
     "output_type": "stream",
     "text": [
      "\r",
      "23645it [01:09, 335.99it/s]"
     ]
    },
    {
     "name": "stderr",
     "output_type": "stream",
     "text": [
      "\r",
      "23679it [01:09, 333.42it/s]"
     ]
    },
    {
     "name": "stderr",
     "output_type": "stream",
     "text": [
      "\r",
      "23713it [01:09, 335.13it/s]"
     ]
    },
    {
     "name": "stderr",
     "output_type": "stream",
     "text": [
      "\r",
      "23748it [01:09, 338.38it/s]"
     ]
    },
    {
     "name": "stderr",
     "output_type": "stream",
     "text": [
      "\r",
      "23782it [01:09, 338.73it/s]"
     ]
    },
    {
     "name": "stderr",
     "output_type": "stream",
     "text": [
      "\r",
      "23817it [01:09, 340.57it/s]"
     ]
    },
    {
     "name": "stderr",
     "output_type": "stream",
     "text": [
      "\r",
      "23852it [01:09, 338.77it/s]"
     ]
    },
    {
     "name": "stderr",
     "output_type": "stream",
     "text": [
      "\r",
      "23887it [01:09, 341.69it/s]"
     ]
    },
    {
     "name": "stderr",
     "output_type": "stream",
     "text": [
      "\r",
      "23922it [01:10, 339.62it/s]"
     ]
    },
    {
     "name": "stderr",
     "output_type": "stream",
     "text": [
      "\r",
      "23956it [01:10, 331.30it/s]"
     ]
    },
    {
     "name": "stderr",
     "output_type": "stream",
     "text": [
      "\r",
      "23990it [01:10, 321.74it/s]"
     ]
    },
    {
     "name": "stderr",
     "output_type": "stream",
     "text": [
      "\r",
      "24024it [01:10, 325.08it/s]"
     ]
    },
    {
     "name": "stderr",
     "output_type": "stream",
     "text": [
      "\r",
      "24058it [01:10, 326.89it/s]"
     ]
    },
    {
     "name": "stderr",
     "output_type": "stream",
     "text": [
      "\r",
      "24093it [01:10, 331.94it/s]"
     ]
    },
    {
     "name": "stderr",
     "output_type": "stream",
     "text": [
      "\r",
      "24127it [01:10, 334.08it/s]"
     ]
    },
    {
     "name": "stderr",
     "output_type": "stream",
     "text": [
      "\r",
      "24161it [01:10, 335.80it/s]"
     ]
    },
    {
     "name": "stderr",
     "output_type": "stream",
     "text": [
      "\r",
      "24195it [01:10, 329.27it/s]"
     ]
    },
    {
     "name": "stderr",
     "output_type": "stream",
     "text": [
      "\r",
      "24228it [01:10, 326.52it/s]"
     ]
    },
    {
     "name": "stderr",
     "output_type": "stream",
     "text": [
      "\r",
      "24263it [01:11, 331.50it/s]"
     ]
    },
    {
     "name": "stderr",
     "output_type": "stream",
     "text": [
      "\r",
      "24297it [01:11, 327.57it/s]"
     ]
    },
    {
     "name": "stderr",
     "output_type": "stream",
     "text": [
      "\r",
      "24330it [01:11, 327.62it/s]"
     ]
    },
    {
     "name": "stderr",
     "output_type": "stream",
     "text": [
      "\r",
      "24365it [01:11, 333.22it/s]"
     ]
    },
    {
     "name": "stderr",
     "output_type": "stream",
     "text": [
      "\r",
      "24399it [01:11, 333.75it/s]"
     ]
    },
    {
     "name": "stderr",
     "output_type": "stream",
     "text": [
      "\r",
      "24433it [01:11, 330.63it/s]"
     ]
    },
    {
     "name": "stderr",
     "output_type": "stream",
     "text": [
      "\r",
      "24467it [01:11, 324.13it/s]"
     ]
    },
    {
     "name": "stderr",
     "output_type": "stream",
     "text": [
      "\r",
      "24504it [01:11, 336.07it/s]"
     ]
    },
    {
     "name": "stderr",
     "output_type": "stream",
     "text": [
      "\r",
      "24540it [01:11, 342.19it/s]"
     ]
    },
    {
     "name": "stderr",
     "output_type": "stream",
     "text": [
      "\r",
      "24576it [01:11, 345.45it/s]"
     ]
    },
    {
     "name": "stderr",
     "output_type": "stream",
     "text": [
      "\r",
      "24611it [01:12, 342.93it/s]"
     ]
    },
    {
     "name": "stderr",
     "output_type": "stream",
     "text": [
      "\r",
      "24646it [01:12, 336.32it/s]"
     ]
    },
    {
     "name": "stderr",
     "output_type": "stream",
     "text": [
      "\r",
      "24681it [01:12, 338.27it/s]"
     ]
    },
    {
     "name": "stderr",
     "output_type": "stream",
     "text": [
      "\r",
      "24715it [01:12, 337.52it/s]"
     ]
    },
    {
     "name": "stderr",
     "output_type": "stream",
     "text": [
      "\r",
      "24750it [01:12, 340.25it/s]"
     ]
    },
    {
     "name": "stderr",
     "output_type": "stream",
     "text": [
      "\r",
      "24786it [01:12, 345.34it/s]"
     ]
    },
    {
     "name": "stderr",
     "output_type": "stream",
     "text": [
      "\r",
      "24821it [01:12, 343.62it/s]"
     ]
    },
    {
     "name": "stderr",
     "output_type": "stream",
     "text": [
      "\r",
      "24856it [01:12, 342.11it/s]"
     ]
    },
    {
     "name": "stderr",
     "output_type": "stream",
     "text": [
      "\r",
      "24891it [01:12, 339.11it/s]"
     ]
    },
    {
     "name": "stderr",
     "output_type": "stream",
     "text": [
      "\r",
      "24927it [01:13, 343.25it/s]"
     ]
    },
    {
     "name": "stderr",
     "output_type": "stream",
     "text": [
      "\r",
      "24964it [01:13, 349.50it/s]"
     ]
    },
    {
     "name": "stderr",
     "output_type": "stream",
     "text": [
      "\r",
      "24999it [01:13, 345.67it/s]"
     ]
    },
    {
     "name": "stderr",
     "output_type": "stream",
     "text": [
      "\r",
      "25034it [01:13, 344.31it/s]"
     ]
    },
    {
     "name": "stderr",
     "output_type": "stream",
     "text": [
      "\r",
      "25069it [01:13, 344.51it/s]"
     ]
    },
    {
     "name": "stderr",
     "output_type": "stream",
     "text": [
      "\r",
      "25104it [01:13, 338.22it/s]"
     ]
    },
    {
     "name": "stderr",
     "output_type": "stream",
     "text": [
      "\r",
      "25139it [01:13, 340.71it/s]"
     ]
    },
    {
     "name": "stderr",
     "output_type": "stream",
     "text": [
      "\r",
      "25174it [01:13, 335.99it/s]"
     ]
    },
    {
     "name": "stderr",
     "output_type": "stream",
     "text": [
      "\r",
      "25208it [01:13, 336.98it/s]"
     ]
    },
    {
     "name": "stderr",
     "output_type": "stream",
     "text": [
      "\r",
      "25242it [01:13, 336.62it/s]"
     ]
    },
    {
     "name": "stderr",
     "output_type": "stream",
     "text": [
      "\r",
      "25276it [01:14, 334.08it/s]"
     ]
    },
    {
     "name": "stderr",
     "output_type": "stream",
     "text": [
      "\r",
      "25311it [01:14, 337.58it/s]"
     ]
    },
    {
     "name": "stderr",
     "output_type": "stream",
     "text": [
      "\r",
      "25345it [01:14, 337.58it/s]"
     ]
    },
    {
     "name": "stderr",
     "output_type": "stream",
     "text": [
      "\r",
      "25379it [01:14, 335.93it/s]"
     ]
    },
    {
     "name": "stderr",
     "output_type": "stream",
     "text": [
      "\r",
      "25413it [01:14, 330.57it/s]"
     ]
    },
    {
     "name": "stderr",
     "output_type": "stream",
     "text": [
      "\r",
      "25447it [01:14, 332.71it/s]"
     ]
    },
    {
     "name": "stderr",
     "output_type": "stream",
     "text": [
      "\r",
      "25482it [01:14, 335.79it/s]"
     ]
    },
    {
     "name": "stderr",
     "output_type": "stream",
     "text": [
      "\r",
      "25516it [01:14, 336.46it/s]"
     ]
    },
    {
     "name": "stderr",
     "output_type": "stream",
     "text": [
      "\r",
      "25550it [01:14, 333.71it/s]"
     ]
    },
    {
     "name": "stderr",
     "output_type": "stream",
     "text": [
      "\r",
      "25584it [01:14, 334.99it/s]"
     ]
    },
    {
     "name": "stderr",
     "output_type": "stream",
     "text": [
      "\r",
      "25620it [01:15, 340.75it/s]"
     ]
    },
    {
     "name": "stderr",
     "output_type": "stream",
     "text": [
      "\r",
      "25655it [01:15, 338.86it/s]"
     ]
    },
    {
     "name": "stderr",
     "output_type": "stream",
     "text": [
      "\r",
      "25689it [01:15, 335.95it/s]"
     ]
    },
    {
     "name": "stderr",
     "output_type": "stream",
     "text": [
      "\r",
      "25724it [01:15, 338.99it/s]"
     ]
    },
    {
     "name": "stderr",
     "output_type": "stream",
     "text": [
      "\r",
      "25759it [01:15, 341.00it/s]"
     ]
    },
    {
     "name": "stderr",
     "output_type": "stream",
     "text": [
      "\r",
      "25794it [01:15, 339.00it/s]"
     ]
    },
    {
     "name": "stderr",
     "output_type": "stream",
     "text": [
      "\r",
      "25829it [01:15, 340.74it/s]"
     ]
    },
    {
     "name": "stderr",
     "output_type": "stream",
     "text": [
      "\r",
      "25864it [01:15, 337.75it/s]"
     ]
    },
    {
     "name": "stderr",
     "output_type": "stream",
     "text": [
      "\r",
      "25898it [01:15, 338.21it/s]"
     ]
    },
    {
     "name": "stderr",
     "output_type": "stream",
     "text": [
      "\r",
      "25932it [01:16, 336.55it/s]"
     ]
    },
    {
     "name": "stderr",
     "output_type": "stream",
     "text": [
      "\r",
      "25966it [01:16, 333.00it/s]"
     ]
    },
    {
     "name": "stderr",
     "output_type": "stream",
     "text": [
      "\r",
      "26000it [01:16, 330.02it/s]"
     ]
    },
    {
     "name": "stderr",
     "output_type": "stream",
     "text": [
      "\r",
      "26034it [01:16, 328.25it/s]"
     ]
    },
    {
     "name": "stderr",
     "output_type": "stream",
     "text": [
      "\r",
      "26068it [01:16, 328.91it/s]"
     ]
    },
    {
     "name": "stderr",
     "output_type": "stream",
     "text": [
      "\r",
      "26103it [01:16, 332.28it/s]"
     ]
    },
    {
     "name": "stderr",
     "output_type": "stream",
     "text": [
      "\r",
      "26138it [01:16, 334.16it/s]"
     ]
    },
    {
     "name": "stderr",
     "output_type": "stream",
     "text": [
      "\r",
      "26172it [01:16, 331.27it/s]"
     ]
    },
    {
     "name": "stderr",
     "output_type": "stream",
     "text": [
      "\r",
      "26206it [01:16, 327.46it/s]"
     ]
    },
    {
     "name": "stderr",
     "output_type": "stream",
     "text": [
      "\r",
      "26240it [01:16, 329.20it/s]"
     ]
    },
    {
     "name": "stderr",
     "output_type": "stream",
     "text": [
      "\r",
      "26273it [01:17, 328.05it/s]"
     ]
    },
    {
     "name": "stderr",
     "output_type": "stream",
     "text": [
      "\r",
      "26307it [01:17, 330.09it/s]"
     ]
    },
    {
     "name": "stderr",
     "output_type": "stream",
     "text": [
      "\r",
      "26342it [01:17, 334.09it/s]"
     ]
    },
    {
     "name": "stderr",
     "output_type": "stream",
     "text": [
      "\r",
      "26376it [01:17, 334.45it/s]"
     ]
    },
    {
     "name": "stderr",
     "output_type": "stream",
     "text": [
      "\r",
      "26410it [01:17, 327.34it/s]"
     ]
    },
    {
     "name": "stderr",
     "output_type": "stream",
     "text": [
      "\r",
      "26443it [01:17, 327.84it/s]"
     ]
    },
    {
     "name": "stderr",
     "output_type": "stream",
     "text": [
      "\r",
      "26479it [01:17, 336.78it/s]"
     ]
    },
    {
     "name": "stderr",
     "output_type": "stream",
     "text": [
      "\r",
      "26515it [01:17, 341.30it/s]"
     ]
    },
    {
     "name": "stderr",
     "output_type": "stream",
     "text": [
      "\r",
      "26550it [01:17, 339.17it/s]"
     ]
    },
    {
     "name": "stderr",
     "output_type": "stream",
     "text": [
      "\r",
      "26586it [01:17, 344.25it/s]"
     ]
    },
    {
     "name": "stderr",
     "output_type": "stream",
     "text": [
      "\r",
      "26621it [01:18, 341.13it/s]"
     ]
    },
    {
     "name": "stderr",
     "output_type": "stream",
     "text": [
      "\r",
      "26656it [01:18, 340.21it/s]"
     ]
    },
    {
     "name": "stderr",
     "output_type": "stream",
     "text": [
      "\r",
      "26691it [01:18, 339.96it/s]"
     ]
    },
    {
     "name": "stderr",
     "output_type": "stream",
     "text": [
      "\r",
      "26726it [01:18, 337.17it/s]"
     ]
    },
    {
     "name": "stderr",
     "output_type": "stream",
     "text": [
      "\r",
      "26762it [01:18, 343.72it/s]"
     ]
    },
    {
     "name": "stderr",
     "output_type": "stream",
     "text": [
      "\r",
      "26797it [01:18, 342.99it/s]"
     ]
    },
    {
     "name": "stderr",
     "output_type": "stream",
     "text": [
      "\r",
      "26833it [01:18, 346.04it/s]"
     ]
    },
    {
     "name": "stderr",
     "output_type": "stream",
     "text": [
      "\r",
      "26868it [01:18, 345.28it/s]"
     ]
    },
    {
     "name": "stderr",
     "output_type": "stream",
     "text": [
      "\r",
      "26903it [01:18, 341.38it/s]"
     ]
    },
    {
     "name": "stderr",
     "output_type": "stream",
     "text": [
      "\r",
      "26940it [01:18, 349.18it/s]"
     ]
    },
    {
     "name": "stderr",
     "output_type": "stream",
     "text": [
      "\r",
      "26975it [01:19, 346.43it/s]"
     ]
    },
    {
     "name": "stderr",
     "output_type": "stream",
     "text": [
      "\r",
      "27011it [01:19, 348.35it/s]"
     ]
    },
    {
     "name": "stderr",
     "output_type": "stream",
     "text": [
      "\r",
      "27046it [01:19, 345.68it/s]"
     ]
    },
    {
     "name": "stderr",
     "output_type": "stream",
     "text": [
      "\r",
      "27081it [01:19, 338.77it/s]"
     ]
    },
    {
     "name": "stderr",
     "output_type": "stream",
     "text": [
      "\r",
      "27117it [01:19, 344.01it/s]"
     ]
    },
    {
     "name": "stderr",
     "output_type": "stream",
     "text": [
      "\r",
      "27152it [01:19, 341.93it/s]"
     ]
    },
    {
     "name": "stderr",
     "output_type": "stream",
     "text": [
      "\r",
      "27187it [01:19, 343.72it/s]"
     ]
    },
    {
     "name": "stderr",
     "output_type": "stream",
     "text": [
      "\r",
      "27222it [01:19, 341.43it/s]"
     ]
    },
    {
     "name": "stderr",
     "output_type": "stream",
     "text": [
      "\r",
      "27257it [01:19, 341.50it/s]"
     ]
    },
    {
     "name": "stderr",
     "output_type": "stream",
     "text": [
      "\r",
      "27293it [01:20, 345.45it/s]"
     ]
    },
    {
     "name": "stderr",
     "output_type": "stream",
     "text": [
      "\r",
      "27328it [01:20, 345.05it/s]"
     ]
    },
    {
     "name": "stderr",
     "output_type": "stream",
     "text": [
      "\r",
      "27363it [01:20, 346.39it/s]"
     ]
    },
    {
     "name": "stderr",
     "output_type": "stream",
     "text": [
      "\r",
      "27398it [01:20, 345.96it/s]"
     ]
    },
    {
     "name": "stderr",
     "output_type": "stream",
     "text": [
      "\r",
      "27434it [01:20, 348.94it/s]"
     ]
    },
    {
     "name": "stderr",
     "output_type": "stream",
     "text": [
      "\r",
      "27471it [01:20, 352.38it/s]"
     ]
    },
    {
     "name": "stderr",
     "output_type": "stream",
     "text": [
      "\r",
      "27508it [01:20, 355.34it/s]"
     ]
    },
    {
     "name": "stderr",
     "output_type": "stream",
     "text": [
      "\r",
      "27544it [01:20, 349.58it/s]"
     ]
    },
    {
     "name": "stderr",
     "output_type": "stream",
     "text": [
      "\r",
      "27582it [01:20, 356.61it/s]"
     ]
    },
    {
     "name": "stderr",
     "output_type": "stream",
     "text": [
      "\r",
      "27618it [01:20, 352.30it/s]"
     ]
    },
    {
     "name": "stderr",
     "output_type": "stream",
     "text": [
      "\r",
      "27654it [01:21, 345.72it/s]"
     ]
    },
    {
     "name": "stderr",
     "output_type": "stream",
     "text": [
      "\r",
      "27689it [01:21, 342.43it/s]"
     ]
    },
    {
     "name": "stderr",
     "output_type": "stream",
     "text": [
      "\r",
      "27725it [01:21, 346.90it/s]"
     ]
    },
    {
     "name": "stderr",
     "output_type": "stream",
     "text": [
      "\r",
      "27760it [01:21, 347.33it/s]"
     ]
    },
    {
     "name": "stderr",
     "output_type": "stream",
     "text": [
      "\r",
      "27796it [01:21, 348.54it/s]"
     ]
    },
    {
     "name": "stderr",
     "output_type": "stream",
     "text": [
      "\r",
      "27831it [01:21, 346.68it/s]"
     ]
    },
    {
     "name": "stderr",
     "output_type": "stream",
     "text": [
      "\r",
      "27868it [01:21, 349.97it/s]"
     ]
    },
    {
     "name": "stderr",
     "output_type": "stream",
     "text": [
      "\r",
      "27904it [01:21, 346.91it/s]"
     ]
    },
    {
     "name": "stderr",
     "output_type": "stream",
     "text": [
      "\r",
      "27939it [01:21, 343.45it/s]"
     ]
    },
    {
     "name": "stderr",
     "output_type": "stream",
     "text": [
      "\r",
      "27974it [01:21, 344.13it/s]"
     ]
    },
    {
     "name": "stderr",
     "output_type": "stream",
     "text": [
      "\r",
      "28010it [01:22, 348.02it/s]"
     ]
    },
    {
     "name": "stderr",
     "output_type": "stream",
     "text": [
      "\r",
      "28047it [01:22, 354.23it/s]"
     ]
    },
    {
     "name": "stderr",
     "output_type": "stream",
     "text": [
      "\r",
      "28083it [01:22, 352.19it/s]"
     ]
    },
    {
     "name": "stderr",
     "output_type": "stream",
     "text": [
      "\r",
      "28119it [01:22, 343.25it/s]"
     ]
    },
    {
     "name": "stderr",
     "output_type": "stream",
     "text": [
      "\r",
      "28154it [01:22, 343.28it/s]"
     ]
    },
    {
     "name": "stderr",
     "output_type": "stream",
     "text": [
      "\r",
      "28189it [01:22, 336.53it/s]"
     ]
    },
    {
     "name": "stderr",
     "output_type": "stream",
     "text": [
      "\r",
      "28224it [01:22, 338.97it/s]"
     ]
    },
    {
     "name": "stderr",
     "output_type": "stream",
     "text": [
      "\r",
      "28260it [01:22, 343.50it/s]"
     ]
    },
    {
     "name": "stderr",
     "output_type": "stream",
     "text": [
      "\r",
      "28295it [01:22, 343.69it/s]"
     ]
    },
    {
     "name": "stderr",
     "output_type": "stream",
     "text": [
      "\r",
      "28330it [01:23, 342.92it/s]"
     ]
    },
    {
     "name": "stderr",
     "output_type": "stream",
     "text": [
      "\r",
      "28365it [01:23, 339.65it/s]"
     ]
    },
    {
     "name": "stderr",
     "output_type": "stream",
     "text": [
      "\r",
      "28400it [01:23, 342.28it/s]"
     ]
    },
    {
     "name": "stderr",
     "output_type": "stream",
     "text": [
      "\r",
      "28437it [01:23, 348.72it/s]"
     ]
    },
    {
     "name": "stderr",
     "output_type": "stream",
     "text": [
      "\r",
      "28475it [01:23, 355.58it/s]"
     ]
    },
    {
     "name": "stderr",
     "output_type": "stream",
     "text": [
      "\r",
      "28511it [01:23, 354.96it/s]"
     ]
    },
    {
     "name": "stderr",
     "output_type": "stream",
     "text": [
      "\r",
      "28548it [01:23, 357.26it/s]"
     ]
    },
    {
     "name": "stderr",
     "output_type": "stream",
     "text": [
      "\r",
      "28584it [01:23, 354.05it/s]"
     ]
    },
    {
     "name": "stderr",
     "output_type": "stream",
     "text": [
      "\r",
      "28620it [01:23, 351.74it/s]"
     ]
    },
    {
     "name": "stderr",
     "output_type": "stream",
     "text": [
      "\r",
      "28656it [01:23, 347.75it/s]"
     ]
    },
    {
     "name": "stderr",
     "output_type": "stream",
     "text": [
      "\r",
      "28691it [01:24, 345.14it/s]"
     ]
    },
    {
     "name": "stderr",
     "output_type": "stream",
     "text": [
      "\r",
      "28728it [01:24, 351.50it/s]"
     ]
    },
    {
     "name": "stderr",
     "output_type": "stream",
     "text": [
      "\r",
      "28764it [01:24, 353.20it/s]"
     ]
    },
    {
     "name": "stderr",
     "output_type": "stream",
     "text": [
      "\r",
      "28801it [01:24, 356.35it/s]"
     ]
    },
    {
     "name": "stderr",
     "output_type": "stream",
     "text": [
      "\r",
      "28837it [01:24, 349.71it/s]"
     ]
    },
    {
     "name": "stderr",
     "output_type": "stream",
     "text": [
      "\r",
      "28873it [01:24, 279.81it/s]"
     ]
    },
    {
     "name": "stderr",
     "output_type": "stream",
     "text": [
      "\r",
      "28911it [01:24, 304.35it/s]"
     ]
    },
    {
     "name": "stderr",
     "output_type": "stream",
     "text": [
      "\r",
      "28946it [01:24, 315.73it/s]"
     ]
    },
    {
     "name": "stderr",
     "output_type": "stream",
     "text": [
      "\r",
      "28982it [01:24, 326.08it/s]"
     ]
    },
    {
     "name": "stderr",
     "output_type": "stream",
     "text": [
      "\r",
      "29017it [01:25, 331.41it/s]"
     ]
    },
    {
     "name": "stderr",
     "output_type": "stream",
     "text": [
      "\r",
      "29052it [01:25, 333.65it/s]"
     ]
    },
    {
     "name": "stderr",
     "output_type": "stream",
     "text": [
      "\r",
      "29089it [01:25, 341.06it/s]"
     ]
    },
    {
     "name": "stderr",
     "output_type": "stream",
     "text": [
      "\r",
      "29124it [01:25, 338.69it/s]"
     ]
    },
    {
     "name": "stderr",
     "output_type": "stream",
     "text": [
      "\r",
      "29159it [01:25, 340.21it/s]"
     ]
    },
    {
     "name": "stderr",
     "output_type": "stream",
     "text": [
      "\r",
      "29194it [01:25, 336.53it/s]"
     ]
    },
    {
     "name": "stderr",
     "output_type": "stream",
     "text": [
      "\r",
      "29229it [01:25, 339.36it/s]"
     ]
    },
    {
     "name": "stderr",
     "output_type": "stream",
     "text": [
      "\r",
      "29265it [01:25, 344.34it/s]"
     ]
    },
    {
     "name": "stderr",
     "output_type": "stream",
     "text": [
      "\r",
      "29301it [01:25, 347.58it/s]"
     ]
    },
    {
     "name": "stderr",
     "output_type": "stream",
     "text": [
      "\r",
      "29336it [01:25, 344.81it/s]"
     ]
    },
    {
     "name": "stderr",
     "output_type": "stream",
     "text": [
      "\r",
      "29371it [01:26, 343.73it/s]"
     ]
    },
    {
     "name": "stderr",
     "output_type": "stream",
     "text": [
      "\r",
      "29408it [01:26, 350.71it/s]"
     ]
    },
    {
     "name": "stderr",
     "output_type": "stream",
     "text": [
      "\r",
      "29445it [01:26, 353.17it/s]"
     ]
    },
    {
     "name": "stderr",
     "output_type": "stream",
     "text": [
      "\r",
      "29481it [01:26, 350.12it/s]"
     ]
    },
    {
     "name": "stderr",
     "output_type": "stream",
     "text": [
      "\r",
      "29517it [01:26, 347.15it/s]"
     ]
    },
    {
     "name": "stderr",
     "output_type": "stream",
     "text": [
      "\r",
      "29554it [01:26, 352.65it/s]"
     ]
    },
    {
     "name": "stderr",
     "output_type": "stream",
     "text": [
      "\r",
      "29590it [01:26, 347.60it/s]"
     ]
    },
    {
     "name": "stderr",
     "output_type": "stream",
     "text": [
      "\r",
      "29625it [01:26, 343.54it/s]"
     ]
    },
    {
     "name": "stderr",
     "output_type": "stream",
     "text": [
      "\r",
      "29660it [01:26, 345.36it/s]"
     ]
    },
    {
     "name": "stderr",
     "output_type": "stream",
     "text": [
      "\r",
      "29696it [01:27, 346.65it/s]"
     ]
    },
    {
     "name": "stderr",
     "output_type": "stream",
     "text": [
      "\r",
      "29732it [01:27, 348.07it/s]"
     ]
    },
    {
     "name": "stderr",
     "output_type": "stream",
     "text": [
      "\r",
      "29767it [01:27, 348.29it/s]"
     ]
    },
    {
     "name": "stderr",
     "output_type": "stream",
     "text": [
      "\r",
      "29802it [01:27, 346.15it/s]"
     ]
    },
    {
     "name": "stderr",
     "output_type": "stream",
     "text": [
      "\r",
      "29839it [01:27, 350.71it/s]"
     ]
    },
    {
     "name": "stderr",
     "output_type": "stream",
     "text": [
      "\r",
      "29875it [01:27, 348.25it/s]"
     ]
    },
    {
     "name": "stderr",
     "output_type": "stream",
     "text": [
      "\r",
      "29910it [01:27, 346.98it/s]"
     ]
    },
    {
     "name": "stderr",
     "output_type": "stream",
     "text": [
      "\r",
      "29947it [01:27, 351.44it/s]"
     ]
    },
    {
     "name": "stderr",
     "output_type": "stream",
     "text": [
      "\r",
      "29985it [01:27, 359.15it/s]"
     ]
    },
    {
     "name": "stderr",
     "output_type": "stream",
     "text": [
      "\r",
      "30024it [01:27, 366.17it/s]"
     ]
    },
    {
     "name": "stderr",
     "output_type": "stream",
     "text": [
      "\r",
      "30061it [01:28, 362.31it/s]"
     ]
    },
    {
     "name": "stderr",
     "output_type": "stream",
     "text": [
      "\r",
      "30098it [01:28, 354.06it/s]"
     ]
    },
    {
     "name": "stderr",
     "output_type": "stream",
     "text": [
      "\r",
      "30134it [01:28, 353.98it/s]"
     ]
    },
    {
     "name": "stderr",
     "output_type": "stream",
     "text": [
      "\r",
      "30170it [01:28, 351.07it/s]"
     ]
    },
    {
     "name": "stderr",
     "output_type": "stream",
     "text": [
      "\r",
      "30206it [01:28, 351.70it/s]"
     ]
    },
    {
     "name": "stderr",
     "output_type": "stream",
     "text": [
      "\r",
      "30242it [01:28, 351.84it/s]"
     ]
    },
    {
     "name": "stderr",
     "output_type": "stream",
     "text": [
      "\r",
      "30278it [01:28, 353.72it/s]"
     ]
    },
    {
     "name": "stderr",
     "output_type": "stream",
     "text": [
      "\r",
      "30314it [01:28, 355.25it/s]"
     ]
    },
    {
     "name": "stderr",
     "output_type": "stream",
     "text": [
      "\r",
      "30350it [01:28, 351.44it/s]"
     ]
    },
    {
     "name": "stderr",
     "output_type": "stream",
     "text": [
      "\r",
      "30386it [01:28, 351.75it/s]"
     ]
    },
    {
     "name": "stderr",
     "output_type": "stream",
     "text": [
      "\r",
      "30424it [01:29, 358.34it/s]"
     ]
    },
    {
     "name": "stderr",
     "output_type": "stream",
     "text": [
      "\r",
      "30462it [01:29, 362.22it/s]"
     ]
    },
    {
     "name": "stderr",
     "output_type": "stream",
     "text": [
      "\r",
      "30500it [01:29, 364.47it/s]"
     ]
    },
    {
     "name": "stderr",
     "output_type": "stream",
     "text": [
      "\r",
      "30537it [01:29, 363.68it/s]"
     ]
    },
    {
     "name": "stderr",
     "output_type": "stream",
     "text": [
      "\r",
      "30574it [01:29, 362.15it/s]"
     ]
    },
    {
     "name": "stderr",
     "output_type": "stream",
     "text": [
      "\r",
      "30611it [01:29, 356.24it/s]"
     ]
    },
    {
     "name": "stderr",
     "output_type": "stream",
     "text": [
      "\r",
      "30647it [01:29, 354.97it/s]"
     ]
    },
    {
     "name": "stderr",
     "output_type": "stream",
     "text": [
      "\r",
      "30686it [01:29, 361.01it/s]"
     ]
    },
    {
     "name": "stderr",
     "output_type": "stream",
     "text": [
      "\r",
      "30723it [01:29, 361.79it/s]"
     ]
    },
    {
     "name": "stderr",
     "output_type": "stream",
     "text": [
      "\r",
      "30761it [01:29, 366.15it/s]"
     ]
    },
    {
     "name": "stderr",
     "output_type": "stream",
     "text": [
      "\r",
      "30798it [01:30, 356.58it/s]"
     ]
    },
    {
     "name": "stderr",
     "output_type": "stream",
     "text": [
      "\r",
      "30835it [01:30, 358.33it/s]"
     ]
    },
    {
     "name": "stderr",
     "output_type": "stream",
     "text": [
      "\r",
      "30874it [01:30, 364.84it/s]"
     ]
    },
    {
     "name": "stderr",
     "output_type": "stream",
     "text": [
      "\r",
      "30911it [01:30, 364.67it/s]"
     ]
    },
    {
     "name": "stderr",
     "output_type": "stream",
     "text": [
      "\r",
      "30948it [01:30, 365.45it/s]"
     ]
    },
    {
     "name": "stderr",
     "output_type": "stream",
     "text": [
      "\r",
      "30985it [01:30, 359.91it/s]"
     ]
    },
    {
     "name": "stderr",
     "output_type": "stream",
     "text": [
      "\r",
      "31022it [01:30, 352.10it/s]"
     ]
    },
    {
     "name": "stderr",
     "output_type": "stream",
     "text": [
      "\r",
      "31060it [01:30, 358.60it/s]"
     ]
    },
    {
     "name": "stderr",
     "output_type": "stream",
     "text": [
      "\r",
      "31096it [01:30, 357.37it/s]"
     ]
    },
    {
     "name": "stderr",
     "output_type": "stream",
     "text": [
      "\r",
      "31133it [01:31, 358.88it/s]"
     ]
    },
    {
     "name": "stderr",
     "output_type": "stream",
     "text": [
      "\r",
      "31169it [01:31, 356.82it/s]"
     ]
    },
    {
     "name": "stderr",
     "output_type": "stream",
     "text": [
      "\r",
      "31206it [01:31, 358.05it/s]"
     ]
    },
    {
     "name": "stderr",
     "output_type": "stream",
     "text": [
      "\r",
      "31244it [01:31, 361.53it/s]"
     ]
    },
    {
     "name": "stderr",
     "output_type": "stream",
     "text": [
      "\r",
      "31281it [01:31, 357.66it/s]"
     ]
    },
    {
     "name": "stderr",
     "output_type": "stream",
     "text": [
      "\r",
      "31318it [01:31, 358.76it/s]"
     ]
    },
    {
     "name": "stderr",
     "output_type": "stream",
     "text": [
      "\r",
      "31354it [01:31, 359.09it/s]"
     ]
    },
    {
     "name": "stderr",
     "output_type": "stream",
     "text": [
      "\r",
      "31392it [01:31, 364.83it/s]"
     ]
    },
    {
     "name": "stderr",
     "output_type": "stream",
     "text": [
      "\r",
      "31430it [01:31, 367.57it/s]"
     ]
    },
    {
     "name": "stderr",
     "output_type": "stream",
     "text": [
      "\r",
      "31467it [01:31, 363.19it/s]"
     ]
    },
    {
     "name": "stderr",
     "output_type": "stream",
     "text": [
      "\r",
      "31504it [01:32, 359.21it/s]"
     ]
    },
    {
     "name": "stderr",
     "output_type": "stream",
     "text": [
      "\r",
      "31542it [01:32, 363.34it/s]"
     ]
    },
    {
     "name": "stderr",
     "output_type": "stream",
     "text": [
      "\r",
      "31579it [01:32, 358.29it/s]"
     ]
    },
    {
     "name": "stderr",
     "output_type": "stream",
     "text": [
      "\r",
      "31615it [01:32, 357.17it/s]"
     ]
    },
    {
     "name": "stderr",
     "output_type": "stream",
     "text": [
      "\r",
      "31652it [01:32, 359.42it/s]"
     ]
    },
    {
     "name": "stderr",
     "output_type": "stream",
     "text": [
      "\r",
      "31689it [01:32, 361.70it/s]"
     ]
    },
    {
     "name": "stderr",
     "output_type": "stream",
     "text": [
      "\r",
      "31726it [01:32, 359.57it/s]"
     ]
    },
    {
     "name": "stderr",
     "output_type": "stream",
     "text": [
      "\r",
      "31762it [01:32, 357.97it/s]"
     ]
    },
    {
     "name": "stderr",
     "output_type": "stream",
     "text": [
      "\r",
      "31799it [01:32, 359.85it/s]"
     ]
    },
    {
     "name": "stderr",
     "output_type": "stream",
     "text": [
      "\r",
      "31836it [01:32, 361.13it/s]"
     ]
    },
    {
     "name": "stderr",
     "output_type": "stream",
     "text": [
      "\r",
      "31873it [01:33, 357.55it/s]"
     ]
    },
    {
     "name": "stderr",
     "output_type": "stream",
     "text": [
      "\r",
      "31909it [01:33, 354.52it/s]"
     ]
    },
    {
     "name": "stderr",
     "output_type": "stream",
     "text": [
      "\r",
      "31947it [01:33, 360.66it/s]"
     ]
    },
    {
     "name": "stderr",
     "output_type": "stream",
     "text": [
      "\r",
      "31984it [01:33, 361.31it/s]"
     ]
    },
    {
     "name": "stderr",
     "output_type": "stream",
     "text": [
      "\r",
      "32021it [01:33, 357.15it/s]"
     ]
    },
    {
     "name": "stderr",
     "output_type": "stream",
     "text": [
      "\r",
      "32057it [01:33, 356.17it/s]"
     ]
    },
    {
     "name": "stderr",
     "output_type": "stream",
     "text": [
      "\r",
      "32093it [01:33, 346.62it/s]"
     ]
    },
    {
     "name": "stderr",
     "output_type": "stream",
     "text": [
      "\r",
      "32128it [01:33, 344.35it/s]"
     ]
    },
    {
     "name": "stderr",
     "output_type": "stream",
     "text": [
      "\r",
      "32165it [01:33, 347.23it/s]"
     ]
    },
    {
     "name": "stderr",
     "output_type": "stream",
     "text": [
      "\r",
      "32201it [01:34, 348.82it/s]"
     ]
    },
    {
     "name": "stderr",
     "output_type": "stream",
     "text": [
      "\r",
      "32237it [01:34, 350.27it/s]"
     ]
    },
    {
     "name": "stderr",
     "output_type": "stream",
     "text": [
      "\r",
      "32273it [01:34, 351.49it/s]"
     ]
    },
    {
     "name": "stderr",
     "output_type": "stream",
     "text": [
      "\r",
      "32309it [01:34, 346.25it/s]"
     ]
    },
    {
     "name": "stderr",
     "output_type": "stream",
     "text": [
      "\r",
      "32345it [01:34, 347.58it/s]"
     ]
    },
    {
     "name": "stderr",
     "output_type": "stream",
     "text": [
      "\r",
      "32383it [01:34, 354.53it/s]"
     ]
    },
    {
     "name": "stderr",
     "output_type": "stream",
     "text": [
      "\r",
      "32422it [01:34, 363.01it/s]"
     ]
    },
    {
     "name": "stderr",
     "output_type": "stream",
     "text": [
      "\r",
      "32459it [01:34, 358.95it/s]"
     ]
    },
    {
     "name": "stderr",
     "output_type": "stream",
     "text": [
      "\r",
      "32497it [01:34, 362.76it/s]"
     ]
    },
    {
     "name": "stderr",
     "output_type": "stream",
     "text": [
      "\r",
      "32534it [01:34, 359.93it/s]"
     ]
    },
    {
     "name": "stderr",
     "output_type": "stream",
     "text": [
      "\r",
      "32571it [01:35, 361.46it/s]"
     ]
    },
    {
     "name": "stderr",
     "output_type": "stream",
     "text": [
      "\r",
      "32608it [01:35, 356.63it/s]"
     ]
    },
    {
     "name": "stderr",
     "output_type": "stream",
     "text": [
      "\r",
      "32645it [01:35, 359.03it/s]"
     ]
    },
    {
     "name": "stderr",
     "output_type": "stream",
     "text": [
      "\r",
      "32682it [01:35, 361.57it/s]"
     ]
    },
    {
     "name": "stderr",
     "output_type": "stream",
     "text": [
      "\r",
      "32720it [01:35, 365.59it/s]"
     ]
    },
    {
     "name": "stderr",
     "output_type": "stream",
     "text": [
      "\r",
      "32757it [01:35, 363.44it/s]"
     ]
    },
    {
     "name": "stderr",
     "output_type": "stream",
     "text": [
      "\r",
      "32794it [01:35, 364.52it/s]"
     ]
    },
    {
     "name": "stderr",
     "output_type": "stream",
     "text": [
      "\r",
      "32832it [01:35, 365.76it/s]"
     ]
    },
    {
     "name": "stderr",
     "output_type": "stream",
     "text": [
      "\r",
      "32871it [01:35, 372.11it/s]"
     ]
    },
    {
     "name": "stderr",
     "output_type": "stream",
     "text": [
      "\r",
      "32909it [01:35, 370.50it/s]"
     ]
    },
    {
     "name": "stderr",
     "output_type": "stream",
     "text": [
      "\r",
      "32947it [01:36, 363.62it/s]"
     ]
    },
    {
     "name": "stderr",
     "output_type": "stream",
     "text": [
      "\r",
      "32984it [01:36, 361.26it/s]"
     ]
    },
    {
     "name": "stderr",
     "output_type": "stream",
     "text": [
      "\r",
      "33021it [01:36, 362.86it/s]"
     ]
    },
    {
     "name": "stderr",
     "output_type": "stream",
     "text": [
      "\r",
      "33058it [01:36, 361.09it/s]"
     ]
    },
    {
     "name": "stderr",
     "output_type": "stream",
     "text": [
      "\r",
      "33095it [01:36, 359.36it/s]"
     ]
    },
    {
     "name": "stderr",
     "output_type": "stream",
     "text": [
      "\r",
      "33131it [01:36, 358.81it/s]"
     ]
    },
    {
     "name": "stderr",
     "output_type": "stream",
     "text": [
      "\r",
      "33167it [01:36, 357.02it/s]"
     ]
    },
    {
     "name": "stderr",
     "output_type": "stream",
     "text": [
      "\r",
      "33203it [01:36, 353.05it/s]"
     ]
    },
    {
     "name": "stderr",
     "output_type": "stream",
     "text": [
      "\r",
      "33240it [01:36, 357.80it/s]"
     ]
    },
    {
     "name": "stderr",
     "output_type": "stream",
     "text": [
      "\r",
      "33276it [01:37, 356.07it/s]"
     ]
    },
    {
     "name": "stderr",
     "output_type": "stream",
     "text": [
      "\r",
      "33313it [01:37, 359.40it/s]"
     ]
    },
    {
     "name": "stderr",
     "output_type": "stream",
     "text": [
      "\r",
      "33352it [01:37, 365.38it/s]"
     ]
    },
    {
     "name": "stderr",
     "output_type": "stream",
     "text": [
      "\r",
      "33389it [01:37, 363.69it/s]"
     ]
    },
    {
     "name": "stderr",
     "output_type": "stream",
     "text": [
      "\r",
      "33426it [01:37, 361.87it/s]"
     ]
    },
    {
     "name": "stderr",
     "output_type": "stream",
     "text": [
      "\r",
      "33463it [01:37, 358.89it/s]"
     ]
    },
    {
     "name": "stderr",
     "output_type": "stream",
     "text": [
      "\r",
      "33502it [01:37, 366.31it/s]"
     ]
    },
    {
     "name": "stderr",
     "output_type": "stream",
     "text": [
      "\r",
      "33539it [01:37, 358.85it/s]"
     ]
    },
    {
     "name": "stderr",
     "output_type": "stream",
     "text": [
      "\r",
      "33575it [01:37, 357.04it/s]"
     ]
    },
    {
     "name": "stderr",
     "output_type": "stream",
     "text": [
      "\r",
      "33611it [01:37, 357.52it/s]"
     ]
    },
    {
     "name": "stderr",
     "output_type": "stream",
     "text": [
      "\r",
      "33647it [01:38, 357.66it/s]"
     ]
    },
    {
     "name": "stderr",
     "output_type": "stream",
     "text": [
      "\r",
      "33684it [01:38, 361.26it/s]"
     ]
    },
    {
     "name": "stderr",
     "output_type": "stream",
     "text": [
      "\r",
      "33721it [01:38, 357.00it/s]"
     ]
    },
    {
     "name": "stderr",
     "output_type": "stream",
     "text": [
      "\r",
      "33758it [01:38, 359.27it/s]"
     ]
    },
    {
     "name": "stderr",
     "output_type": "stream",
     "text": [
      "\r",
      "33795it [01:38, 360.49it/s]"
     ]
    },
    {
     "name": "stderr",
     "output_type": "stream",
     "text": [
      "\r",
      "33832it [01:38, 353.22it/s]"
     ]
    },
    {
     "name": "stderr",
     "output_type": "stream",
     "text": [
      "\r",
      "33868it [01:38, 354.12it/s]"
     ]
    },
    {
     "name": "stderr",
     "output_type": "stream",
     "text": [
      "\r",
      "33906it [01:38, 360.63it/s]"
     ]
    },
    {
     "name": "stderr",
     "output_type": "stream",
     "text": [
      "\r",
      "33943it [01:38, 362.96it/s]"
     ]
    },
    {
     "name": "stderr",
     "output_type": "stream",
     "text": [
      "\r",
      "33980it [01:38, 337.30it/s]"
     ]
    },
    {
     "name": "stderr",
     "output_type": "stream",
     "text": [
      "\r",
      "34015it [01:39, 331.37it/s]"
     ]
    },
    {
     "name": "stderr",
     "output_type": "stream",
     "text": [
      "\r",
      "34049it [01:39, 333.69it/s]"
     ]
    },
    {
     "name": "stderr",
     "output_type": "stream",
     "text": [
      "\r",
      "34083it [01:39, 335.31it/s]"
     ]
    },
    {
     "name": "stderr",
     "output_type": "stream",
     "text": [
      "\r",
      "34118it [01:39, 339.50it/s]"
     ]
    },
    {
     "name": "stderr",
     "output_type": "stream",
     "text": [
      "\r",
      "34153it [01:39, 337.27it/s]"
     ]
    },
    {
     "name": "stderr",
     "output_type": "stream",
     "text": [
      "\r",
      "34188it [01:39, 339.82it/s]"
     ]
    },
    {
     "name": "stderr",
     "output_type": "stream",
     "text": [
      "\r",
      "34225it [01:39, 347.65it/s]"
     ]
    },
    {
     "name": "stderr",
     "output_type": "stream",
     "text": [
      "\r",
      "34261it [01:39, 349.32it/s]"
     ]
    },
    {
     "name": "stderr",
     "output_type": "stream",
     "text": [
      "\r",
      "34296it [01:39, 348.31it/s]"
     ]
    },
    {
     "name": "stderr",
     "output_type": "stream",
     "text": [
      "\r",
      "34331it [01:40, 347.92it/s]"
     ]
    },
    {
     "name": "stderr",
     "output_type": "stream",
     "text": [
      "\r",
      "34369it [01:40, 357.40it/s]"
     ]
    },
    {
     "name": "stderr",
     "output_type": "stream",
     "text": [
      "\r",
      "34407it [01:40, 363.55it/s]"
     ]
    },
    {
     "name": "stderr",
     "output_type": "stream",
     "text": [
      "\r",
      "34445it [01:40, 365.21it/s]"
     ]
    },
    {
     "name": "stderr",
     "output_type": "stream",
     "text": [
      "\r",
      "34482it [01:40, 366.08it/s]"
     ]
    },
    {
     "name": "stderr",
     "output_type": "stream",
     "text": [
      "\r",
      "34519it [01:40, 361.72it/s]"
     ]
    },
    {
     "name": "stderr",
     "output_type": "stream",
     "text": [
      "\r",
      "34556it [01:40, 360.76it/s]"
     ]
    },
    {
     "name": "stderr",
     "output_type": "stream",
     "text": [
      "\r",
      "34593it [01:40, 357.39it/s]"
     ]
    },
    {
     "name": "stderr",
     "output_type": "stream",
     "text": [
      "\r",
      "34630it [01:40, 360.96it/s]"
     ]
    },
    {
     "name": "stderr",
     "output_type": "stream",
     "text": [
      "\r",
      "34667it [01:40, 347.78it/s]"
     ]
    },
    {
     "name": "stderr",
     "output_type": "stream",
     "text": [
      "\r",
      "34705it [01:41, 356.51it/s]"
     ]
    },
    {
     "name": "stderr",
     "output_type": "stream",
     "text": [
      "\r",
      "34741it [01:41, 356.97it/s]"
     ]
    },
    {
     "name": "stderr",
     "output_type": "stream",
     "text": [
      "\r",
      "34778it [01:41, 359.32it/s]"
     ]
    },
    {
     "name": "stderr",
     "output_type": "stream",
     "text": [
      "\r",
      "34817it [01:41, 367.09it/s]"
     ]
    },
    {
     "name": "stderr",
     "output_type": "stream",
     "text": [
      "\r",
      "34854it [01:41, 366.53it/s]"
     ]
    },
    {
     "name": "stderr",
     "output_type": "stream",
     "text": [
      "\r",
      "34891it [01:41, 365.74it/s]"
     ]
    },
    {
     "name": "stderr",
     "output_type": "stream",
     "text": [
      "\r",
      "34928it [01:41, 366.27it/s]"
     ]
    },
    {
     "name": "stderr",
     "output_type": "stream",
     "text": [
      "\r",
      "34965it [01:41, 360.91it/s]"
     ]
    },
    {
     "name": "stderr",
     "output_type": "stream",
     "text": [
      "\r",
      "35003it [01:41, 364.87it/s]"
     ]
    },
    {
     "name": "stderr",
     "output_type": "stream",
     "text": [
      "\r",
      "35040it [01:41, 361.04it/s]"
     ]
    },
    {
     "name": "stderr",
     "output_type": "stream",
     "text": [
      "\r",
      "35077it [01:42, 358.24it/s]"
     ]
    },
    {
     "name": "stderr",
     "output_type": "stream",
     "text": [
      "\r",
      "35113it [01:42, 355.68it/s]"
     ]
    },
    {
     "name": "stderr",
     "output_type": "stream",
     "text": [
      "\r",
      "35149it [01:42, 353.82it/s]"
     ]
    },
    {
     "name": "stderr",
     "output_type": "stream",
     "text": [
      "\r",
      "35185it [01:42, 354.82it/s]"
     ]
    },
    {
     "name": "stderr",
     "output_type": "stream",
     "text": [
      "\r",
      "35222it [01:42, 356.78it/s]"
     ]
    },
    {
     "name": "stderr",
     "output_type": "stream",
     "text": [
      "\r",
      "35259it [01:42, 356.31it/s]"
     ]
    },
    {
     "name": "stderr",
     "output_type": "stream",
     "text": [
      "\r",
      "35296it [01:42, 359.03it/s]"
     ]
    },
    {
     "name": "stderr",
     "output_type": "stream",
     "text": [
      "\r",
      "35334it [01:42, 364.21it/s]"
     ]
    },
    {
     "name": "stderr",
     "output_type": "stream",
     "text": [
      "\r",
      "35371it [01:42, 362.87it/s]"
     ]
    },
    {
     "name": "stderr",
     "output_type": "stream",
     "text": [
      "\r",
      "35408it [01:42, 360.81it/s]"
     ]
    },
    {
     "name": "stderr",
     "output_type": "stream",
     "text": [
      "\r",
      "35445it [01:43, 359.40it/s]"
     ]
    },
    {
     "name": "stderr",
     "output_type": "stream",
     "text": [
      "\r",
      "35483it [01:43, 364.84it/s]"
     ]
    },
    {
     "name": "stderr",
     "output_type": "stream",
     "text": [
      "\r",
      "35520it [01:43, 361.11it/s]"
     ]
    },
    {
     "name": "stderr",
     "output_type": "stream",
     "text": [
      "\r",
      "35557it [01:43, 353.86it/s]"
     ]
    },
    {
     "name": "stderr",
     "output_type": "stream",
     "text": [
      "\r",
      "35594it [01:43, 356.49it/s]"
     ]
    },
    {
     "name": "stderr",
     "output_type": "stream",
     "text": [
      "\r",
      "35632it [01:43, 360.13it/s]"
     ]
    },
    {
     "name": "stderr",
     "output_type": "stream",
     "text": [
      "\r",
      "35669it [01:43, 361.00it/s]"
     ]
    },
    {
     "name": "stderr",
     "output_type": "stream",
     "text": [
      "\r",
      "35706it [01:43, 361.57it/s]"
     ]
    },
    {
     "name": "stderr",
     "output_type": "stream",
     "text": [
      "\r",
      "35743it [01:43, 354.78it/s]"
     ]
    },
    {
     "name": "stderr",
     "output_type": "stream",
     "text": [
      "\r",
      "35779it [01:44, 352.86it/s]"
     ]
    },
    {
     "name": "stderr",
     "output_type": "stream",
     "text": [
      "\r",
      "35815it [01:44, 349.82it/s]"
     ]
    },
    {
     "name": "stderr",
     "output_type": "stream",
     "text": [
      "\r",
      "35851it [01:44, 352.08it/s]"
     ]
    },
    {
     "name": "stderr",
     "output_type": "stream",
     "text": [
      "\r",
      "35889it [01:44, 358.09it/s]"
     ]
    },
    {
     "name": "stderr",
     "output_type": "stream",
     "text": [
      "\r",
      "35925it [01:44, 358.52it/s]"
     ]
    },
    {
     "name": "stderr",
     "output_type": "stream",
     "text": [
      "\r",
      "35961it [01:44, 354.80it/s]"
     ]
    },
    {
     "name": "stderr",
     "output_type": "stream",
     "text": [
      "\r",
      "35997it [01:44, 344.22it/s]"
     ]
    },
    {
     "name": "stderr",
     "output_type": "stream",
     "text": [
      "\r",
      "36032it [01:44, 341.28it/s]"
     ]
    },
    {
     "name": "stderr",
     "output_type": "stream",
     "text": [
      "\r",
      "36068it [01:44, 343.82it/s]"
     ]
    },
    {
     "name": "stderr",
     "output_type": "stream",
     "text": [
      "\r",
      "36103it [01:44, 341.71it/s]"
     ]
    },
    {
     "name": "stderr",
     "output_type": "stream",
     "text": [
      "\r",
      "36140it [01:45, 348.50it/s]"
     ]
    },
    {
     "name": "stderr",
     "output_type": "stream",
     "text": [
      "\r",
      "36177it [01:45, 353.76it/s]"
     ]
    },
    {
     "name": "stderr",
     "output_type": "stream",
     "text": [
      "\r",
      "36213it [01:45, 355.07it/s]"
     ]
    },
    {
     "name": "stderr",
     "output_type": "stream",
     "text": [
      "\r",
      "36249it [01:45, 351.42it/s]"
     ]
    },
    {
     "name": "stderr",
     "output_type": "stream",
     "text": [
      "\r",
      "36285it [01:45, 349.96it/s]"
     ]
    },
    {
     "name": "stderr",
     "output_type": "stream",
     "text": [
      "\r",
      "36324it [01:45, 358.94it/s]"
     ]
    },
    {
     "name": "stderr",
     "output_type": "stream",
     "text": [
      "\r",
      "36361it [01:45, 358.63it/s]"
     ]
    },
    {
     "name": "stderr",
     "output_type": "stream",
     "text": [
      "\r",
      "36399it [01:45, 363.65it/s]"
     ]
    },
    {
     "name": "stderr",
     "output_type": "stream",
     "text": [
      "\r",
      "36436it [01:45, 361.67it/s]"
     ]
    },
    {
     "name": "stderr",
     "output_type": "stream",
     "text": [
      "\r",
      "36473it [01:45, 359.32it/s]"
     ]
    },
    {
     "name": "stderr",
     "output_type": "stream",
     "text": [
      "\r",
      "36510it [01:46, 359.91it/s]"
     ]
    },
    {
     "name": "stderr",
     "output_type": "stream",
     "text": [
      "\r",
      "36546it [01:46, 354.47it/s]"
     ]
    },
    {
     "name": "stderr",
     "output_type": "stream",
     "text": [
      "\r",
      "36585it [01:46, 362.54it/s]"
     ]
    },
    {
     "name": "stderr",
     "output_type": "stream",
     "text": [
      "\r",
      "36622it [01:46, 362.87it/s]"
     ]
    },
    {
     "name": "stderr",
     "output_type": "stream",
     "text": [
      "\r",
      "36659it [01:46, 361.87it/s]"
     ]
    },
    {
     "name": "stderr",
     "output_type": "stream",
     "text": [
      "\r",
      "36696it [01:46, 361.13it/s]"
     ]
    },
    {
     "name": "stderr",
     "output_type": "stream",
     "text": [
      "\r",
      "36733it [01:46, 359.63it/s]"
     ]
    },
    {
     "name": "stderr",
     "output_type": "stream",
     "text": [
      "\r",
      "36772it [01:46, 365.84it/s]"
     ]
    },
    {
     "name": "stderr",
     "output_type": "stream",
     "text": [
      "\r",
      "36809it [01:46, 360.80it/s]"
     ]
    },
    {
     "name": "stderr",
     "output_type": "stream",
     "text": [
      "\r",
      "36846it [01:47, 360.38it/s]"
     ]
    },
    {
     "name": "stderr",
     "output_type": "stream",
     "text": [
      "\r",
      "36883it [01:47, 359.17it/s]"
     ]
    },
    {
     "name": "stderr",
     "output_type": "stream",
     "text": [
      "\r",
      "36919it [01:47, 355.30it/s]"
     ]
    },
    {
     "name": "stderr",
     "output_type": "stream",
     "text": [
      "\r",
      "36956it [01:47, 358.81it/s]"
     ]
    },
    {
     "name": "stderr",
     "output_type": "stream",
     "text": [
      "\r",
      "36992it [01:47, 350.69it/s]"
     ]
    },
    {
     "name": "stderr",
     "output_type": "stream",
     "text": [
      "\r",
      "37028it [01:47, 352.66it/s]"
     ]
    },
    {
     "name": "stderr",
     "output_type": "stream",
     "text": [
      "\r",
      "37064it [01:47, 354.33it/s]"
     ]
    },
    {
     "name": "stderr",
     "output_type": "stream",
     "text": [
      "\r",
      "37100it [01:47, 355.14it/s]"
     ]
    },
    {
     "name": "stderr",
     "output_type": "stream",
     "text": [
      "\r",
      "37136it [01:47, 354.82it/s]"
     ]
    },
    {
     "name": "stderr",
     "output_type": "stream",
     "text": [
      "\r",
      "37173it [01:47, 358.77it/s]"
     ]
    },
    {
     "name": "stderr",
     "output_type": "stream",
     "text": [
      "\r",
      "37209it [01:48, 356.94it/s]"
     ]
    },
    {
     "name": "stderr",
     "output_type": "stream",
     "text": [
      "\r",
      "37246it [01:48, 359.46it/s]"
     ]
    },
    {
     "name": "stderr",
     "output_type": "stream",
     "text": [
      "\r",
      "37284it [01:48, 363.31it/s]"
     ]
    },
    {
     "name": "stderr",
     "output_type": "stream",
     "text": [
      "\r",
      "37321it [01:48, 364.90it/s]"
     ]
    },
    {
     "name": "stderr",
     "output_type": "stream",
     "text": [
      "\r",
      "37358it [01:48, 357.61it/s]"
     ]
    },
    {
     "name": "stderr",
     "output_type": "stream",
     "text": [
      "\r",
      "37394it [01:48, 355.91it/s]"
     ]
    },
    {
     "name": "stderr",
     "output_type": "stream",
     "text": [
      "\r",
      "37432it [01:48, 361.17it/s]"
     ]
    },
    {
     "name": "stderr",
     "output_type": "stream",
     "text": [
      "\r",
      "37469it [01:48, 356.01it/s]"
     ]
    },
    {
     "name": "stderr",
     "output_type": "stream",
     "text": [
      "\r",
      "37505it [01:48, 352.34it/s]"
     ]
    },
    {
     "name": "stderr",
     "output_type": "stream",
     "text": [
      "\r",
      "37541it [01:48, 352.46it/s]"
     ]
    },
    {
     "name": "stderr",
     "output_type": "stream",
     "text": [
      "\r",
      "37577it [01:49, 354.33it/s]"
     ]
    },
    {
     "name": "stderr",
     "output_type": "stream",
     "text": [
      "\r",
      "37614it [01:49, 356.69it/s]"
     ]
    },
    {
     "name": "stderr",
     "output_type": "stream",
     "text": [
      "\r",
      "37650it [01:49, 356.32it/s]"
     ]
    },
    {
     "name": "stderr",
     "output_type": "stream",
     "text": [
      "\r",
      "37686it [01:49, 354.17it/s]"
     ]
    },
    {
     "name": "stderr",
     "output_type": "stream",
     "text": [
      "\r",
      "37722it [01:49, 354.49it/s]"
     ]
    },
    {
     "name": "stderr",
     "output_type": "stream",
     "text": [
      "\r",
      "37758it [01:49, 348.93it/s]"
     ]
    },
    {
     "name": "stderr",
     "output_type": "stream",
     "text": [
      "\r",
      "37795it [01:49, 352.51it/s]"
     ]
    },
    {
     "name": "stderr",
     "output_type": "stream",
     "text": [
      "\r",
      "37833it [01:49, 360.28it/s]"
     ]
    },
    {
     "name": "stderr",
     "output_type": "stream",
     "text": [
      "\r",
      "37870it [01:49, 361.26it/s]"
     ]
    },
    {
     "name": "stderr",
     "output_type": "stream",
     "text": [
      "\r",
      "37907it [01:50, 355.75it/s]"
     ]
    },
    {
     "name": "stderr",
     "output_type": "stream",
     "text": [
      "\r",
      "37943it [01:50, 355.70it/s]"
     ]
    },
    {
     "name": "stderr",
     "output_type": "stream",
     "text": [
      "\r",
      "37979it [01:50, 355.23it/s]"
     ]
    },
    {
     "name": "stderr",
     "output_type": "stream",
     "text": [
      "\r",
      "38015it [01:50, 347.90it/s]"
     ]
    },
    {
     "name": "stderr",
     "output_type": "stream",
     "text": [
      "\r",
      "38050it [01:50, 345.74it/s]"
     ]
    },
    {
     "name": "stderr",
     "output_type": "stream",
     "text": [
      "\r",
      "38086it [01:50, 347.97it/s]"
     ]
    },
    {
     "name": "stderr",
     "output_type": "stream",
     "text": [
      "\r",
      "38122it [01:50, 349.68it/s]"
     ]
    },
    {
     "name": "stderr",
     "output_type": "stream",
     "text": [
      "\r",
      "38158it [01:50, 351.09it/s]"
     ]
    },
    {
     "name": "stderr",
     "output_type": "stream",
     "text": [
      "\r",
      "38194it [01:50, 352.61it/s]"
     ]
    },
    {
     "name": "stderr",
     "output_type": "stream",
     "text": [
      "\r",
      "38230it [01:50, 353.64it/s]"
     ]
    },
    {
     "name": "stderr",
     "output_type": "stream",
     "text": [
      "\r",
      "38266it [01:51, 354.06it/s]"
     ]
    },
    {
     "name": "stderr",
     "output_type": "stream",
     "text": [
      "\r",
      "38304it [01:51, 361.03it/s]"
     ]
    },
    {
     "name": "stderr",
     "output_type": "stream",
     "text": [
      "\r",
      "38341it [01:51, 362.12it/s]"
     ]
    },
    {
     "name": "stderr",
     "output_type": "stream",
     "text": [
      "\r",
      "38380it [01:51, 367.01it/s]"
     ]
    },
    {
     "name": "stderr",
     "output_type": "stream",
     "text": [
      "\r",
      "38417it [01:51, 354.91it/s]"
     ]
    },
    {
     "name": "stderr",
     "output_type": "stream",
     "text": [
      "\r",
      "38453it [01:51, 353.15it/s]"
     ]
    },
    {
     "name": "stderr",
     "output_type": "stream",
     "text": [
      "\r",
      "38489it [01:51, 354.74it/s]"
     ]
    },
    {
     "name": "stderr",
     "output_type": "stream",
     "text": [
      "\r",
      "38525it [01:51, 354.94it/s]"
     ]
    },
    {
     "name": "stderr",
     "output_type": "stream",
     "text": [
      "\r",
      "38563it [01:51, 361.16it/s]"
     ]
    },
    {
     "name": "stderr",
     "output_type": "stream",
     "text": [
      "\r",
      "38600it [01:51, 356.38it/s]"
     ]
    },
    {
     "name": "stderr",
     "output_type": "stream",
     "text": [
      "\r",
      "38636it [01:52, 356.17it/s]"
     ]
    },
    {
     "name": "stderr",
     "output_type": "stream",
     "text": [
      "\r",
      "38673it [01:52, 355.88it/s]"
     ]
    },
    {
     "name": "stderr",
     "output_type": "stream",
     "text": [
      "\r",
      "38711it [01:52, 362.76it/s]"
     ]
    },
    {
     "name": "stderr",
     "output_type": "stream",
     "text": [
      "\r",
      "38750it [01:52, 370.41it/s]"
     ]
    },
    {
     "name": "stderr",
     "output_type": "stream",
     "text": [
      "\r",
      "38788it [01:52, 363.16it/s]"
     ]
    },
    {
     "name": "stderr",
     "output_type": "stream",
     "text": [
      "\r",
      "38825it [01:52, 356.37it/s]"
     ]
    },
    {
     "name": "stderr",
     "output_type": "stream",
     "text": [
      "\r",
      "38862it [01:52, 357.95it/s]"
     ]
    },
    {
     "name": "stderr",
     "output_type": "stream",
     "text": [
      "\r",
      "38898it [01:52, 357.53it/s]"
     ]
    },
    {
     "name": "stderr",
     "output_type": "stream",
     "text": [
      "\r",
      "38935it [01:52, 359.76it/s]"
     ]
    },
    {
     "name": "stderr",
     "output_type": "stream",
     "text": [
      "\r",
      "38972it [01:52, 359.20it/s]"
     ]
    },
    {
     "name": "stderr",
     "output_type": "stream",
     "text": [
      "\r",
      "39008it [01:53, 356.67it/s]"
     ]
    },
    {
     "name": "stderr",
     "output_type": "stream",
     "text": [
      "\r",
      "39044it [01:53, 357.42it/s]"
     ]
    },
    {
     "name": "stderr",
     "output_type": "stream",
     "text": [
      "\r",
      "39080it [01:53, 356.16it/s]"
     ]
    },
    {
     "name": "stderr",
     "output_type": "stream",
     "text": [
      "\r",
      "39118it [01:53, 361.90it/s]"
     ]
    },
    {
     "name": "stderr",
     "output_type": "stream",
     "text": [
      "\r",
      "39155it [01:53, 362.95it/s]"
     ]
    },
    {
     "name": "stderr",
     "output_type": "stream",
     "text": [
      "\r",
      "39192it [01:53, 357.33it/s]"
     ]
    },
    {
     "name": "stderr",
     "output_type": "stream",
     "text": [
      "\r",
      "39230it [01:53, 361.78it/s]"
     ]
    },
    {
     "name": "stderr",
     "output_type": "stream",
     "text": [
      "\r",
      "39267it [01:53, 362.53it/s]"
     ]
    },
    {
     "name": "stderr",
     "output_type": "stream",
     "text": [
      "\r",
      "39304it [01:53, 360.83it/s]"
     ]
    },
    {
     "name": "stderr",
     "output_type": "stream",
     "text": [
      "\r",
      "39341it [01:54, 351.43it/s]"
     ]
    },
    {
     "name": "stderr",
     "output_type": "stream",
     "text": [
      "\r",
      "39378it [01:54, 356.35it/s]"
     ]
    },
    {
     "name": "stderr",
     "output_type": "stream",
     "text": [
      "\r",
      "39414it [01:54, 352.00it/s]"
     ]
    },
    {
     "name": "stderr",
     "output_type": "stream",
     "text": [
      "\r",
      "39450it [01:54, 349.35it/s]"
     ]
    },
    {
     "name": "stderr",
     "output_type": "stream",
     "text": [
      "\r",
      "39485it [01:54, 344.19it/s]"
     ]
    },
    {
     "name": "stderr",
     "output_type": "stream",
     "text": [
      "\r",
      "39521it [01:54, 346.10it/s]"
     ]
    },
    {
     "name": "stderr",
     "output_type": "stream",
     "text": [
      "\r",
      "39556it [01:54, 346.63it/s]"
     ]
    },
    {
     "name": "stderr",
     "output_type": "stream",
     "text": [
      "\r",
      "39593it [01:54, 351.91it/s]"
     ]
    },
    {
     "name": "stderr",
     "output_type": "stream",
     "text": [
      "\r",
      "39629it [01:54, 348.10it/s]"
     ]
    },
    {
     "name": "stderr",
     "output_type": "stream",
     "text": [
      "\r",
      "39664it [01:54, 336.51it/s]"
     ]
    },
    {
     "name": "stderr",
     "output_type": "stream",
     "text": [
      "\r",
      "39699it [01:55, 337.77it/s]"
     ]
    },
    {
     "name": "stderr",
     "output_type": "stream",
     "text": [
      "\r",
      "39733it [01:55, 334.32it/s]"
     ]
    },
    {
     "name": "stderr",
     "output_type": "stream",
     "text": [
      "\r",
      "39767it [01:55, 335.19it/s]"
     ]
    },
    {
     "name": "stderr",
     "output_type": "stream",
     "text": [
      "\r",
      "39805it [01:55, 347.15it/s]"
     ]
    },
    {
     "name": "stderr",
     "output_type": "stream",
     "text": [
      "\r",
      "39841it [01:55, 350.44it/s]"
     ]
    },
    {
     "name": "stderr",
     "output_type": "stream",
     "text": [
      "\r",
      "39877it [01:55, 351.66it/s]"
     ]
    },
    {
     "name": "stderr",
     "output_type": "stream",
     "text": [
      "\r",
      "39913it [01:55, 341.08it/s]"
     ]
    },
    {
     "name": "stderr",
     "output_type": "stream",
     "text": [
      "\r",
      "39948it [01:55, 341.54it/s]"
     ]
    },
    {
     "name": "stderr",
     "output_type": "stream",
     "text": [
      "\r",
      "39983it [01:55, 341.15it/s]"
     ]
    },
    {
     "name": "stderr",
     "output_type": "stream",
     "text": [
      "\r",
      "40019it [01:55, 344.06it/s]"
     ]
    },
    {
     "name": "stderr",
     "output_type": "stream",
     "text": [
      "\r",
      "40054it [01:56, 339.68it/s]"
     ]
    },
    {
     "name": "stderr",
     "output_type": "stream",
     "text": [
      "\r",
      "40088it [01:56, 337.66it/s]"
     ]
    },
    {
     "name": "stderr",
     "output_type": "stream",
     "text": [
      "\r",
      "40124it [01:56, 343.15it/s]"
     ]
    },
    {
     "name": "stderr",
     "output_type": "stream",
     "text": [
      "\r",
      "40159it [01:56, 344.73it/s]"
     ]
    },
    {
     "name": "stderr",
     "output_type": "stream",
     "text": [
      "\r",
      "40194it [01:56, 338.71it/s]"
     ]
    },
    {
     "name": "stderr",
     "output_type": "stream",
     "text": [
      "\r",
      "40230it [01:56, 342.13it/s]"
     ]
    },
    {
     "name": "stderr",
     "output_type": "stream",
     "text": [
      "\r",
      "40267it [01:56, 349.85it/s]"
     ]
    },
    {
     "name": "stderr",
     "output_type": "stream",
     "text": [
      "\r",
      "40303it [01:56, 352.27it/s]"
     ]
    },
    {
     "name": "stderr",
     "output_type": "stream",
     "text": [
      "\r",
      "40340it [01:56, 357.15it/s]"
     ]
    },
    {
     "name": "stderr",
     "output_type": "stream",
     "text": [
      "\r",
      "40376it [01:57, 356.86it/s]"
     ]
    },
    {
     "name": "stderr",
     "output_type": "stream",
     "text": [
      "\r",
      "40412it [01:57, 352.26it/s]"
     ]
    },
    {
     "name": "stderr",
     "output_type": "stream",
     "text": [
      "\r",
      "40448it [01:57, 349.15it/s]"
     ]
    },
    {
     "name": "stderr",
     "output_type": "stream",
     "text": [
      "\r",
      "40483it [01:57, 344.37it/s]"
     ]
    },
    {
     "name": "stderr",
     "output_type": "stream",
     "text": [
      "\r",
      "40520it [01:57, 351.72it/s]"
     ]
    },
    {
     "name": "stderr",
     "output_type": "stream",
     "text": [
      "\r",
      "40556it [01:57, 353.73it/s]"
     ]
    },
    {
     "name": "stderr",
     "output_type": "stream",
     "text": [
      "\r",
      "40593it [01:57, 355.85it/s]"
     ]
    },
    {
     "name": "stderr",
     "output_type": "stream",
     "text": [
      "\r",
      "40629it [01:57, 353.09it/s]"
     ]
    },
    {
     "name": "stderr",
     "output_type": "stream",
     "text": [
      "\r",
      "40665it [01:57, 353.05it/s]"
     ]
    },
    {
     "name": "stderr",
     "output_type": "stream",
     "text": [
      "\r",
      "40703it [01:57, 359.92it/s]"
     ]
    },
    {
     "name": "stderr",
     "output_type": "stream",
     "text": [
      "\r",
      "40740it [01:58, 359.35it/s]"
     ]
    },
    {
     "name": "stderr",
     "output_type": "stream",
     "text": [
      "\r",
      "40776it [01:58, 356.48it/s]"
     ]
    },
    {
     "name": "stderr",
     "output_type": "stream",
     "text": [
      "\r",
      "40812it [01:58, 351.00it/s]"
     ]
    },
    {
     "name": "stderr",
     "output_type": "stream",
     "text": [
      "\r",
      "40848it [01:58, 349.99it/s]"
     ]
    },
    {
     "name": "stderr",
     "output_type": "stream",
     "text": [
      "\r",
      "40884it [01:58, 351.07it/s]"
     ]
    },
    {
     "name": "stderr",
     "output_type": "stream",
     "text": [
      "\r",
      "40920it [01:58, 353.25it/s]"
     ]
    },
    {
     "name": "stderr",
     "output_type": "stream",
     "text": [
      "\r",
      "40956it [01:58, 350.64it/s]"
     ]
    },
    {
     "name": "stderr",
     "output_type": "stream",
     "text": [
      "\r",
      "40992it [01:58, 349.22it/s]"
     ]
    },
    {
     "name": "stderr",
     "output_type": "stream",
     "text": [
      "\r",
      "41027it [01:58, 345.07it/s]"
     ]
    },
    {
     "name": "stderr",
     "output_type": "stream",
     "text": [
      "\r",
      "41062it [01:58, 338.37it/s]"
     ]
    },
    {
     "name": "stderr",
     "output_type": "stream",
     "text": [
      "\r",
      "41098it [01:59, 344.41it/s]"
     ]
    },
    {
     "name": "stderr",
     "output_type": "stream",
     "text": [
      "\r",
      "41133it [01:59, 344.74it/s]"
     ]
    },
    {
     "name": "stderr",
     "output_type": "stream",
     "text": [
      "\r",
      "41169it [01:59, 346.56it/s]"
     ]
    },
    {
     "name": "stderr",
     "output_type": "stream",
     "text": [
      "\r",
      "41206it [01:59, 350.23it/s]"
     ]
    },
    {
     "name": "stderr",
     "output_type": "stream",
     "text": [
      "\r",
      "41242it [01:59, 352.23it/s]"
     ]
    },
    {
     "name": "stderr",
     "output_type": "stream",
     "text": [
      "\r",
      "41278it [01:59, 350.95it/s]"
     ]
    },
    {
     "name": "stderr",
     "output_type": "stream",
     "text": [
      "\r",
      "41314it [01:59, 348.19it/s]"
     ]
    },
    {
     "name": "stderr",
     "output_type": "stream",
     "text": [
      "\r",
      "41350it [01:59, 350.11it/s]"
     ]
    },
    {
     "name": "stderr",
     "output_type": "stream",
     "text": [
      "\r",
      "41386it [01:59, 349.78it/s]"
     ]
    },
    {
     "name": "stderr",
     "output_type": "stream",
     "text": [
      "\r",
      "41421it [02:00, 344.55it/s]"
     ]
    },
    {
     "name": "stderr",
     "output_type": "stream",
     "text": [
      "\r",
      "41456it [02:00, 342.48it/s]"
     ]
    },
    {
     "name": "stderr",
     "output_type": "stream",
     "text": [
      "\r",
      "41491it [02:00, 343.95it/s]"
     ]
    },
    {
     "name": "stderr",
     "output_type": "stream",
     "text": [
      "\r",
      "41527it [02:00, 345.88it/s]"
     ]
    },
    {
     "name": "stderr",
     "output_type": "stream",
     "text": [
      "\r",
      "41562it [02:00, 345.64it/s]"
     ]
    },
    {
     "name": "stderr",
     "output_type": "stream",
     "text": [
      "\r",
      "41597it [02:00, 345.11it/s]"
     ]
    },
    {
     "name": "stderr",
     "output_type": "stream",
     "text": [
      "\r",
      "41633it [02:00, 347.37it/s]"
     ]
    },
    {
     "name": "stderr",
     "output_type": "stream",
     "text": [
      "\r",
      "41668it [02:00, 336.51it/s]"
     ]
    },
    {
     "name": "stderr",
     "output_type": "stream",
     "text": [
      "\r",
      "41702it [02:00, 336.56it/s]"
     ]
    },
    {
     "name": "stderr",
     "output_type": "stream",
     "text": [
      "\r",
      "41738it [02:00, 341.27it/s]"
     ]
    },
    {
     "name": "stderr",
     "output_type": "stream",
     "text": [
      "\r",
      "41775it [02:01, 349.29it/s]"
     ]
    },
    {
     "name": "stderr",
     "output_type": "stream",
     "text": [
      "\r",
      "41812it [02:01, 353.71it/s]"
     ]
    },
    {
     "name": "stderr",
     "output_type": "stream",
     "text": [
      "\r",
      "41848it [02:01, 346.64it/s]"
     ]
    },
    {
     "name": "stderr",
     "output_type": "stream",
     "text": [
      "\r",
      "41884it [02:01, 349.23it/s]"
     ]
    },
    {
     "name": "stderr",
     "output_type": "stream",
     "text": [
      "\r",
      "41919it [02:01, 346.00it/s]"
     ]
    },
    {
     "name": "stderr",
     "output_type": "stream",
     "text": [
      "\r",
      "41954it [02:01, 346.04it/s]"
     ]
    },
    {
     "name": "stderr",
     "output_type": "stream",
     "text": [
      "\r",
      "41989it [02:01, 336.77it/s]"
     ]
    },
    {
     "name": "stderr",
     "output_type": "stream",
     "text": [
      "\r",
      "42023it [02:01, 329.34it/s]"
     ]
    },
    {
     "name": "stderr",
     "output_type": "stream",
     "text": [
      "\r",
      "42057it [02:01, 330.56it/s]"
     ]
    },
    {
     "name": "stderr",
     "output_type": "stream",
     "text": [
      "\r",
      "42091it [02:01, 331.20it/s]"
     ]
    },
    {
     "name": "stderr",
     "output_type": "stream",
     "text": [
      "\r",
      "42125it [02:02, 331.06it/s]"
     ]
    },
    {
     "name": "stderr",
     "output_type": "stream",
     "text": [
      "\r",
      "42159it [02:02, 331.20it/s]"
     ]
    },
    {
     "name": "stderr",
     "output_type": "stream",
     "text": [
      "\r",
      "42193it [02:02, 328.23it/s]"
     ]
    },
    {
     "name": "stderr",
     "output_type": "stream",
     "text": [
      "\r",
      "42228it [02:02, 332.39it/s]"
     ]
    },
    {
     "name": "stderr",
     "output_type": "stream",
     "text": [
      "\r",
      "42264it [02:02, 339.53it/s]"
     ]
    },
    {
     "name": "stderr",
     "output_type": "stream",
     "text": [
      "\r",
      "42299it [02:02, 340.19it/s]"
     ]
    },
    {
     "name": "stderr",
     "output_type": "stream",
     "text": [
      "\r",
      "42335it [02:02, 343.86it/s]"
     ]
    },
    {
     "name": "stderr",
     "output_type": "stream",
     "text": [
      "\r",
      "42370it [02:02, 340.29it/s]"
     ]
    },
    {
     "name": "stderr",
     "output_type": "stream",
     "text": [
      "\r",
      "42405it [02:02, 341.17it/s]"
     ]
    },
    {
     "name": "stderr",
     "output_type": "stream",
     "text": [
      "\r",
      "42440it [02:03, 338.59it/s]"
     ]
    },
    {
     "name": "stderr",
     "output_type": "stream",
     "text": [
      "\r",
      "42474it [02:03, 331.70it/s]"
     ]
    },
    {
     "name": "stderr",
     "output_type": "stream",
     "text": [
      "\r",
      "42510it [02:03, 337.44it/s]"
     ]
    },
    {
     "name": "stderr",
     "output_type": "stream",
     "text": [
      "\r",
      "42544it [02:03, 335.49it/s]"
     ]
    },
    {
     "name": "stderr",
     "output_type": "stream",
     "text": [
      "\r",
      "42578it [02:03, 336.19it/s]"
     ]
    },
    {
     "name": "stderr",
     "output_type": "stream",
     "text": [
      "\r",
      "42612it [02:03, 333.98it/s]"
     ]
    },
    {
     "name": "stderr",
     "output_type": "stream",
     "text": [
      "\r",
      "42647it [02:03, 335.09it/s]"
     ]
    },
    {
     "name": "stderr",
     "output_type": "stream",
     "text": [
      "\r",
      "42683it [02:03, 339.97it/s]"
     ]
    },
    {
     "name": "stderr",
     "output_type": "stream",
     "text": [
      "\r",
      "42719it [02:03, 344.41it/s]"
     ]
    },
    {
     "name": "stderr",
     "output_type": "stream",
     "text": [
      "\r",
      "42754it [02:03, 341.20it/s]"
     ]
    },
    {
     "name": "stderr",
     "output_type": "stream",
     "text": [
      "\r",
      "42789it [02:04, 337.81it/s]"
     ]
    },
    {
     "name": "stderr",
     "output_type": "stream",
     "text": [
      "\r",
      "42824it [02:04, 341.21it/s]"
     ]
    },
    {
     "name": "stderr",
     "output_type": "stream",
     "text": [
      "\r",
      "42859it [02:04, 339.48it/s]"
     ]
    },
    {
     "name": "stderr",
     "output_type": "stream",
     "text": [
      "\r",
      "42895it [02:04, 343.57it/s]"
     ]
    },
    {
     "name": "stderr",
     "output_type": "stream",
     "text": [
      "\r",
      "42930it [02:04, 337.30it/s]"
     ]
    },
    {
     "name": "stderr",
     "output_type": "stream",
     "text": [
      "\r",
      "42964it [02:04, 335.89it/s]"
     ]
    },
    {
     "name": "stderr",
     "output_type": "stream",
     "text": [
      "\r",
      "42999it [02:04, 337.48it/s]"
     ]
    },
    {
     "name": "stderr",
     "output_type": "stream",
     "text": [
      "\r",
      "43033it [02:04, 336.66it/s]"
     ]
    },
    {
     "name": "stderr",
     "output_type": "stream",
     "text": [
      "\r",
      "43067it [02:04, 334.66it/s]"
     ]
    },
    {
     "name": "stderr",
     "output_type": "stream",
     "text": [
      "\r",
      "43102it [02:04, 335.68it/s]"
     ]
    },
    {
     "name": "stderr",
     "output_type": "stream",
     "text": [
      "\r",
      "43136it [02:05, 332.11it/s]"
     ]
    },
    {
     "name": "stderr",
     "output_type": "stream",
     "text": [
      "\r",
      "43171it [02:05, 335.83it/s]"
     ]
    },
    {
     "name": "stderr",
     "output_type": "stream",
     "text": [
      "\r",
      "43207it [02:05, 342.15it/s]"
     ]
    },
    {
     "name": "stderr",
     "output_type": "stream",
     "text": [
      "\r",
      "43242it [02:05, 342.77it/s]"
     ]
    },
    {
     "name": "stderr",
     "output_type": "stream",
     "text": [
      "\r",
      "43277it [02:05, 341.53it/s]"
     ]
    },
    {
     "name": "stderr",
     "output_type": "stream",
     "text": [
      "\r",
      "43312it [02:05, 337.51it/s]"
     ]
    },
    {
     "name": "stderr",
     "output_type": "stream",
     "text": [
      "\r",
      "43348it [02:05, 342.23it/s]"
     ]
    },
    {
     "name": "stderr",
     "output_type": "stream",
     "text": [
      "\r",
      "43383it [02:05, 335.29it/s]"
     ]
    },
    {
     "name": "stderr",
     "output_type": "stream",
     "text": [
      "\r",
      "43417it [02:05, 334.48it/s]"
     ]
    },
    {
     "name": "stderr",
     "output_type": "stream",
     "text": [
      "\r",
      "43451it [02:06, 333.10it/s]"
     ]
    },
    {
     "name": "stderr",
     "output_type": "stream",
     "text": [
      "\r",
      "43485it [02:06, 332.85it/s]"
     ]
    },
    {
     "name": "stderr",
     "output_type": "stream",
     "text": [
      "\r",
      "43520it [02:06, 334.46it/s]"
     ]
    },
    {
     "name": "stderr",
     "output_type": "stream",
     "text": [
      "\r",
      "43554it [02:06, 334.95it/s]"
     ]
    },
    {
     "name": "stderr",
     "output_type": "stream",
     "text": [
      "\r",
      "43588it [02:06, 334.37it/s]"
     ]
    },
    {
     "name": "stderr",
     "output_type": "stream",
     "text": [
      "\r",
      "43623it [02:06, 337.96it/s]"
     ]
    },
    {
     "name": "stderr",
     "output_type": "stream",
     "text": [
      "\r",
      "43657it [02:06, 336.56it/s]"
     ]
    },
    {
     "name": "stderr",
     "output_type": "stream",
     "text": [
      "\r",
      "43691it [02:06, 334.53it/s]"
     ]
    },
    {
     "name": "stderr",
     "output_type": "stream",
     "text": [
      "\r",
      "43725it [02:06, 332.74it/s]"
     ]
    },
    {
     "name": "stderr",
     "output_type": "stream",
     "text": [
      "\r",
      "43761it [02:06, 339.26it/s]"
     ]
    },
    {
     "name": "stderr",
     "output_type": "stream",
     "text": [
      "\r",
      "43797it [02:07, 342.47it/s]"
     ]
    },
    {
     "name": "stderr",
     "output_type": "stream",
     "text": [
      "\r",
      "43832it [02:07, 341.68it/s]"
     ]
    },
    {
     "name": "stderr",
     "output_type": "stream",
     "text": [
      "\r",
      "43867it [02:07, 339.65it/s]"
     ]
    },
    {
     "name": "stderr",
     "output_type": "stream",
     "text": [
      "\r",
      "43901it [02:07, 338.86it/s]"
     ]
    },
    {
     "name": "stderr",
     "output_type": "stream",
     "text": [
      "\r",
      "43935it [02:07, 337.21it/s]"
     ]
    },
    {
     "name": "stderr",
     "output_type": "stream",
     "text": [
      "\r",
      "43970it [02:07, 338.29it/s]"
     ]
    },
    {
     "name": "stderr",
     "output_type": "stream",
     "text": [
      "\r",
      "44004it [02:07, 331.13it/s]"
     ]
    },
    {
     "name": "stderr",
     "output_type": "stream",
     "text": [
      "\r",
      "44038it [02:07, 331.88it/s]"
     ]
    },
    {
     "name": "stderr",
     "output_type": "stream",
     "text": [
      "\r",
      "44072it [02:07, 331.82it/s]"
     ]
    },
    {
     "name": "stderr",
     "output_type": "stream",
     "text": [
      "\r",
      "44106it [02:07, 328.73it/s]"
     ]
    },
    {
     "name": "stderr",
     "output_type": "stream",
     "text": [
      "\r",
      "44139it [02:08, 328.87it/s]"
     ]
    },
    {
     "name": "stderr",
     "output_type": "stream",
     "text": [
      "\r",
      "44172it [02:08, 326.97it/s]"
     ]
    },
    {
     "name": "stderr",
     "output_type": "stream",
     "text": [
      "\r",
      "44206it [02:08, 330.80it/s]"
     ]
    },
    {
     "name": "stderr",
     "output_type": "stream",
     "text": [
      "\r",
      "44241it [02:08, 334.98it/s]"
     ]
    },
    {
     "name": "stderr",
     "output_type": "stream",
     "text": [
      "\r",
      "44276it [02:08, 337.62it/s]"
     ]
    },
    {
     "name": "stderr",
     "output_type": "stream",
     "text": [
      "\r",
      "44312it [02:08, 340.42it/s]"
     ]
    },
    {
     "name": "stderr",
     "output_type": "stream",
     "text": [
      "\r",
      "44347it [02:08, 340.50it/s]"
     ]
    },
    {
     "name": "stderr",
     "output_type": "stream",
     "text": [
      "\r",
      "44382it [02:08, 336.59it/s]"
     ]
    },
    {
     "name": "stderr",
     "output_type": "stream",
     "text": [
      "\r",
      "44416it [02:08, 336.59it/s]"
     ]
    },
    {
     "name": "stderr",
     "output_type": "stream",
     "text": [
      "\r",
      "44450it [02:08, 336.10it/s]"
     ]
    },
    {
     "name": "stderr",
     "output_type": "stream",
     "text": [
      "\r",
      "44486it [02:09, 341.13it/s]"
     ]
    },
    {
     "name": "stderr",
     "output_type": "stream",
     "text": [
      "\r",
      "44522it [02:09, 345.96it/s]"
     ]
    },
    {
     "name": "stderr",
     "output_type": "stream",
     "text": [
      "\r",
      "44557it [02:09, 345.15it/s]"
     ]
    },
    {
     "name": "stderr",
     "output_type": "stream",
     "text": [
      "\r",
      "44592it [02:09, 344.52it/s]"
     ]
    },
    {
     "name": "stderr",
     "output_type": "stream",
     "text": [
      "\r",
      "44627it [02:09, 340.78it/s]"
     ]
    },
    {
     "name": "stderr",
     "output_type": "stream",
     "text": [
      "\r",
      "44662it [02:09, 342.31it/s]"
     ]
    },
    {
     "name": "stderr",
     "output_type": "stream",
     "text": [
      "\r",
      "44698it [02:09, 345.50it/s]"
     ]
    },
    {
     "name": "stderr",
     "output_type": "stream",
     "text": [
      "\r",
      "44733it [02:09, 338.20it/s]"
     ]
    },
    {
     "name": "stderr",
     "output_type": "stream",
     "text": [
      "\r",
      "44767it [02:09, 337.25it/s]"
     ]
    },
    {
     "name": "stderr",
     "output_type": "stream",
     "text": [
      "\r",
      "44801it [02:10, 332.43it/s]"
     ]
    },
    {
     "name": "stderr",
     "output_type": "stream",
     "text": [
      "\r",
      "44835it [02:10, 327.64it/s]"
     ]
    },
    {
     "name": "stderr",
     "output_type": "stream",
     "text": [
      "\r",
      "44869it [02:10, 330.54it/s]"
     ]
    },
    {
     "name": "stderr",
     "output_type": "stream",
     "text": [
      "\r",
      "44903it [02:10, 325.74it/s]"
     ]
    },
    {
     "name": "stderr",
     "output_type": "stream",
     "text": [
      "\r",
      "44936it [02:10, 325.54it/s]"
     ]
    },
    {
     "name": "stderr",
     "output_type": "stream",
     "text": [
      "\r",
      "44969it [02:10, 325.47it/s]"
     ]
    },
    {
     "name": "stderr",
     "output_type": "stream",
     "text": [
      "\r",
      "45002it [02:10, 326.20it/s]"
     ]
    },
    {
     "name": "stderr",
     "output_type": "stream",
     "text": [
      "\r",
      "45035it [02:10, 325.46it/s]"
     ]
    },
    {
     "name": "stderr",
     "output_type": "stream",
     "text": [
      "\r",
      "45069it [02:10, 328.04it/s]"
     ]
    },
    {
     "name": "stderr",
     "output_type": "stream",
     "text": [
      "\r",
      "45102it [02:10, 326.32it/s]"
     ]
    },
    {
     "name": "stderr",
     "output_type": "stream",
     "text": [
      "\r",
      "45135it [02:11, 326.15it/s]"
     ]
    },
    {
     "name": "stderr",
     "output_type": "stream",
     "text": [
      "\r",
      "45169it [02:11, 330.11it/s]"
     ]
    },
    {
     "name": "stderr",
     "output_type": "stream",
     "text": [
      "\r",
      "45204it [02:11, 334.40it/s]"
     ]
    },
    {
     "name": "stderr",
     "output_type": "stream",
     "text": [
      "\r",
      "45238it [02:11, 333.51it/s]"
     ]
    },
    {
     "name": "stderr",
     "output_type": "stream",
     "text": [
      "\r",
      "45272it [02:11, 330.83it/s]"
     ]
    },
    {
     "name": "stderr",
     "output_type": "stream",
     "text": [
      "\r",
      "45306it [02:11, 325.36it/s]"
     ]
    },
    {
     "name": "stderr",
     "output_type": "stream",
     "text": [
      "\r",
      "45341it [02:11, 330.90it/s]"
     ]
    },
    {
     "name": "stderr",
     "output_type": "stream",
     "text": [
      "\r",
      "45375it [02:11, 323.79it/s]"
     ]
    },
    {
     "name": "stderr",
     "output_type": "stream",
     "text": [
      "\r",
      "45408it [02:11, 321.62it/s]"
     ]
    },
    {
     "name": "stderr",
     "output_type": "stream",
     "text": [
      "\r",
      "45441it [02:11, 322.91it/s]"
     ]
    },
    {
     "name": "stderr",
     "output_type": "stream",
     "text": [
      "\r",
      "45474it [02:12, 324.23it/s]"
     ]
    },
    {
     "name": "stderr",
     "output_type": "stream",
     "text": [
      "\r",
      "45507it [02:12, 325.26it/s]"
     ]
    },
    {
     "name": "stderr",
     "output_type": "stream",
     "text": [
      "\r",
      "45541it [02:12, 328.30it/s]"
     ]
    },
    {
     "name": "stderr",
     "output_type": "stream",
     "text": [
      "\r",
      "45574it [02:12, 326.10it/s]"
     ]
    },
    {
     "name": "stderr",
     "output_type": "stream",
     "text": [
      "\r",
      "45608it [02:12, 328.08it/s]"
     ]
    },
    {
     "name": "stderr",
     "output_type": "stream",
     "text": [
      "\r",
      "45641it [02:12, 327.14it/s]"
     ]
    },
    {
     "name": "stderr",
     "output_type": "stream",
     "text": [
      "\r",
      "45674it [02:12, 325.33it/s]"
     ]
    },
    {
     "name": "stderr",
     "output_type": "stream",
     "text": [
      "\r",
      "45708it [02:12, 327.72it/s]"
     ]
    },
    {
     "name": "stderr",
     "output_type": "stream",
     "text": [
      "\r",
      "45742it [02:12, 330.39it/s]"
     ]
    },
    {
     "name": "stderr",
     "output_type": "stream",
     "text": [
      "\r",
      "45776it [02:12, 329.20it/s]"
     ]
    },
    {
     "name": "stderr",
     "output_type": "stream",
     "text": [
      "\r",
      "45809it [02:13, 327.72it/s]"
     ]
    },
    {
     "name": "stderr",
     "output_type": "stream",
     "text": [
      "\r",
      "45843it [02:13, 330.14it/s]"
     ]
    },
    {
     "name": "stderr",
     "output_type": "stream",
     "text": [
      "\r",
      "45877it [02:13, 326.02it/s]"
     ]
    },
    {
     "name": "stderr",
     "output_type": "stream",
     "text": [
      "\r",
      "45910it [02:13, 324.66it/s]"
     ]
    },
    {
     "name": "stderr",
     "output_type": "stream",
     "text": [
      "\r",
      "45943it [02:13, 324.30it/s]"
     ]
    },
    {
     "name": "stderr",
     "output_type": "stream",
     "text": [
      "\r",
      "45976it [02:13, 322.16it/s]"
     ]
    },
    {
     "name": "stderr",
     "output_type": "stream",
     "text": [
      "\r",
      "46009it [02:13, 320.09it/s]"
     ]
    },
    {
     "name": "stderr",
     "output_type": "stream",
     "text": [
      "\r",
      "46042it [02:13, 321.78it/s]"
     ]
    },
    {
     "name": "stderr",
     "output_type": "stream",
     "text": [
      "\r",
      "46076it [02:13, 324.56it/s]"
     ]
    },
    {
     "name": "stderr",
     "output_type": "stream",
     "text": [
      "\r",
      "46109it [02:14, 317.03it/s]"
     ]
    },
    {
     "name": "stderr",
     "output_type": "stream",
     "text": [
      "\r",
      "46141it [02:14, 317.26it/s]"
     ]
    },
    {
     "name": "stderr",
     "output_type": "stream",
     "text": [
      "\r",
      "46174it [02:14, 319.16it/s]"
     ]
    },
    {
     "name": "stderr",
     "output_type": "stream",
     "text": [
      "\r",
      "46208it [02:14, 324.22it/s]"
     ]
    },
    {
     "name": "stderr",
     "output_type": "stream",
     "text": [
      "\r",
      "46243it [02:14, 330.14it/s]"
     ]
    },
    {
     "name": "stderr",
     "output_type": "stream",
     "text": [
      "\r",
      "46277it [02:14, 331.34it/s]"
     ]
    },
    {
     "name": "stderr",
     "output_type": "stream",
     "text": [
      "\r",
      "46312it [02:14, 335.58it/s]"
     ]
    },
    {
     "name": "stderr",
     "output_type": "stream",
     "text": [
      "\r",
      "46346it [02:14, 333.33it/s]"
     ]
    },
    {
     "name": "stderr",
     "output_type": "stream",
     "text": [
      "\r",
      "46380it [02:14, 329.21it/s]"
     ]
    },
    {
     "name": "stderr",
     "output_type": "stream",
     "text": [
      "\r",
      "46413it [02:14, 327.10it/s]"
     ]
    },
    {
     "name": "stderr",
     "output_type": "stream",
     "text": [
      "\r",
      "46446it [02:15, 323.26it/s]"
     ]
    },
    {
     "name": "stderr",
     "output_type": "stream",
     "text": [
      "\r",
      "46481it [02:15, 330.74it/s]"
     ]
    },
    {
     "name": "stderr",
     "output_type": "stream",
     "text": [
      "\r",
      "46515it [02:15, 328.63it/s]"
     ]
    },
    {
     "name": "stderr",
     "output_type": "stream",
     "text": [
      "\r",
      "46549it [02:15, 329.87it/s]"
     ]
    },
    {
     "name": "stderr",
     "output_type": "stream",
     "text": [
      "\r",
      "46583it [02:15, 332.19it/s]"
     ]
    },
    {
     "name": "stderr",
     "output_type": "stream",
     "text": [
      "\r",
      "46617it [02:15, 326.66it/s]"
     ]
    },
    {
     "name": "stderr",
     "output_type": "stream",
     "text": [
      "\r",
      "46651it [02:15, 329.41it/s]"
     ]
    },
    {
     "name": "stderr",
     "output_type": "stream",
     "text": [
      "\r",
      "46687it [02:15, 336.15it/s]"
     ]
    },
    {
     "name": "stderr",
     "output_type": "stream",
     "text": [
      "\r",
      "46721it [02:15, 333.63it/s]"
     ]
    },
    {
     "name": "stderr",
     "output_type": "stream",
     "text": [
      "\r",
      "46755it [02:15, 330.40it/s]"
     ]
    },
    {
     "name": "stderr",
     "output_type": "stream",
     "text": [
      "\r",
      "46789it [02:16, 328.25it/s]"
     ]
    },
    {
     "name": "stderr",
     "output_type": "stream",
     "text": [
      "\r",
      "46822it [02:16, 323.63it/s]"
     ]
    },
    {
     "name": "stderr",
     "output_type": "stream",
     "text": [
      "\r",
      "46856it [02:16, 326.95it/s]"
     ]
    },
    {
     "name": "stderr",
     "output_type": "stream",
     "text": [
      "\r",
      "46889it [02:16, 319.74it/s]"
     ]
    },
    {
     "name": "stderr",
     "output_type": "stream",
     "text": [
      "\r",
      "46922it [02:16, 321.13it/s]"
     ]
    },
    {
     "name": "stderr",
     "output_type": "stream",
     "text": [
      "\r",
      "46955it [02:16, 315.88it/s]"
     ]
    },
    {
     "name": "stderr",
     "output_type": "stream",
     "text": [
      "\r",
      "46987it [02:16, 315.00it/s]"
     ]
    },
    {
     "name": "stderr",
     "output_type": "stream",
     "text": [
      "\r",
      "47019it [02:16, 314.38it/s]"
     ]
    },
    {
     "name": "stderr",
     "output_type": "stream",
     "text": [
      "\r",
      "47051it [02:16, 315.48it/s]"
     ]
    },
    {
     "name": "stderr",
     "output_type": "stream",
     "text": [
      "\r",
      "47085it [02:17, 321.10it/s]"
     ]
    },
    {
     "name": "stderr",
     "output_type": "stream",
     "text": [
      "\r",
      "47118it [02:17, 320.97it/s]"
     ]
    },
    {
     "name": "stderr",
     "output_type": "stream",
     "text": [
      "\r",
      "47152it [02:17, 326.14it/s]"
     ]
    },
    {
     "name": "stderr",
     "output_type": "stream",
     "text": [
      "\r",
      "47187it [02:17, 332.60it/s]"
     ]
    },
    {
     "name": "stderr",
     "output_type": "stream",
     "text": [
      "\r",
      "47221it [02:17, 332.72it/s]"
     ]
    },
    {
     "name": "stderr",
     "output_type": "stream",
     "text": [
      "\r",
      "47255it [02:17, 332.40it/s]"
     ]
    },
    {
     "name": "stderr",
     "output_type": "stream",
     "text": [
      "\r",
      "47289it [02:17, 325.82it/s]"
     ]
    },
    {
     "name": "stderr",
     "output_type": "stream",
     "text": [
      "\r",
      "47325it [02:17, 335.31it/s]"
     ]
    },
    {
     "name": "stderr",
     "output_type": "stream",
     "text": [
      "\r",
      "47359it [02:17, 327.68it/s]"
     ]
    },
    {
     "name": "stderr",
     "output_type": "stream",
     "text": [
      "\r",
      "47392it [02:17, 326.41it/s]"
     ]
    },
    {
     "name": "stderr",
     "output_type": "stream",
     "text": [
      "\r",
      "47425it [02:18, 327.13it/s]"
     ]
    },
    {
     "name": "stderr",
     "output_type": "stream",
     "text": [
      "\r",
      "47458it [02:18, 324.74it/s]"
     ]
    },
    {
     "name": "stderr",
     "output_type": "stream",
     "text": [
      "\r",
      "47492it [02:18, 327.33it/s]"
     ]
    },
    {
     "name": "stderr",
     "output_type": "stream",
     "text": [
      "\r",
      "47525it [02:18, 325.24it/s]"
     ]
    },
    {
     "name": "stderr",
     "output_type": "stream",
     "text": [
      "\r",
      "47558it [02:18, 320.72it/s]"
     ]
    },
    {
     "name": "stderr",
     "output_type": "stream",
     "text": [
      "\r",
      "47591it [02:18, 317.03it/s]"
     ]
    },
    {
     "name": "stderr",
     "output_type": "stream",
     "text": [
      "\r",
      "47623it [02:18, 314.82it/s]"
     ]
    },
    {
     "name": "stderr",
     "output_type": "stream",
     "text": [
      "\r",
      "47655it [02:18, 312.34it/s]"
     ]
    },
    {
     "name": "stderr",
     "output_type": "stream",
     "text": [
      "\r",
      "47687it [02:18, 309.51it/s]"
     ]
    },
    {
     "name": "stderr",
     "output_type": "stream",
     "text": [
      "\r",
      "47719it [02:18, 310.47it/s]"
     ]
    },
    {
     "name": "stderr",
     "output_type": "stream",
     "text": [
      "\r",
      "47752it [02:19, 313.49it/s]"
     ]
    },
    {
     "name": "stderr",
     "output_type": "stream",
     "text": [
      "\r",
      "47784it [02:19, 311.65it/s]"
     ]
    },
    {
     "name": "stderr",
     "output_type": "stream",
     "text": [
      "\r",
      "47816it [02:19, 312.71it/s]"
     ]
    },
    {
     "name": "stderr",
     "output_type": "stream",
     "text": [
      "\r",
      "47848it [02:19, 310.81it/s]"
     ]
    },
    {
     "name": "stderr",
     "output_type": "stream",
     "text": [
      "\r",
      "47880it [02:19, 307.62it/s]"
     ]
    },
    {
     "name": "stderr",
     "output_type": "stream",
     "text": [
      "\r",
      "47911it [02:19, 305.50it/s]"
     ]
    },
    {
     "name": "stderr",
     "output_type": "stream",
     "text": [
      "\r",
      "47942it [02:19, 302.63it/s]"
     ]
    },
    {
     "name": "stderr",
     "output_type": "stream",
     "text": [
      "\r",
      "47973it [02:19, 302.21it/s]"
     ]
    },
    {
     "name": "stderr",
     "output_type": "stream",
     "text": [
      "\r",
      "48004it [02:19, 303.24it/s]"
     ]
    },
    {
     "name": "stderr",
     "output_type": "stream",
     "text": [
      "\r",
      "48035it [02:20, 302.24it/s]"
     ]
    },
    {
     "name": "stderr",
     "output_type": "stream",
     "text": [
      "\r",
      "48066it [02:20, 304.28it/s]"
     ]
    },
    {
     "name": "stderr",
     "output_type": "stream",
     "text": [
      "\r",
      "48097it [02:20, 301.53it/s]"
     ]
    },
    {
     "name": "stderr",
     "output_type": "stream",
     "text": [
      "\r",
      "48128it [02:20, 297.74it/s]"
     ]
    },
    {
     "name": "stderr",
     "output_type": "stream",
     "text": [
      "\r",
      "48159it [02:20, 299.55it/s]"
     ]
    },
    {
     "name": "stderr",
     "output_type": "stream",
     "text": [
      "\r",
      "48191it [02:20, 305.09it/s]"
     ]
    },
    {
     "name": "stderr",
     "output_type": "stream",
     "text": [
      "\r",
      "48224it [02:20, 309.08it/s]"
     ]
    },
    {
     "name": "stderr",
     "output_type": "stream",
     "text": [
      "\r",
      "48255it [02:20, 309.30it/s]"
     ]
    },
    {
     "name": "stderr",
     "output_type": "stream",
     "text": [
      "\r",
      "48287it [02:20, 312.19it/s]"
     ]
    },
    {
     "name": "stderr",
     "output_type": "stream",
     "text": [
      "\r",
      "48319it [02:20, 311.03it/s]"
     ]
    },
    {
     "name": "stderr",
     "output_type": "stream",
     "text": [
      "\r",
      "48351it [02:21, 310.33it/s]"
     ]
    },
    {
     "name": "stderr",
     "output_type": "stream",
     "text": [
      "\r",
      "48383it [02:21, 311.41it/s]"
     ]
    },
    {
     "name": "stderr",
     "output_type": "stream",
     "text": [
      "\r",
      "48415it [02:21, 306.52it/s]"
     ]
    },
    {
     "name": "stderr",
     "output_type": "stream",
     "text": [
      "\r",
      "48446it [02:21, 306.41it/s]"
     ]
    },
    {
     "name": "stderr",
     "output_type": "stream",
     "text": [
      "\r",
      "48478it [02:21, 309.78it/s]"
     ]
    },
    {
     "name": "stderr",
     "output_type": "stream",
     "text": [
      "\r",
      "48511it [02:21, 314.52it/s]"
     ]
    },
    {
     "name": "stderr",
     "output_type": "stream",
     "text": [
      "\r",
      "48545it [02:21, 321.36it/s]"
     ]
    },
    {
     "name": "stderr",
     "output_type": "stream",
     "text": [
      "\r",
      "48578it [02:21, 316.61it/s]"
     ]
    },
    {
     "name": "stderr",
     "output_type": "stream",
     "text": [
      "\r",
      "48610it [02:21, 317.26it/s]"
     ]
    },
    {
     "name": "stderr",
     "output_type": "stream",
     "text": [
      "\r",
      "48645it [02:21, 324.62it/s]"
     ]
    },
    {
     "name": "stderr",
     "output_type": "stream",
     "text": [
      "\r",
      "48680it [02:22, 330.19it/s]"
     ]
    },
    {
     "name": "stderr",
     "output_type": "stream",
     "text": [
      "\r",
      "48714it [02:22, 322.92it/s]"
     ]
    },
    {
     "name": "stderr",
     "output_type": "stream",
     "text": [
      "\r",
      "48747it [02:22, 319.29it/s]"
     ]
    },
    {
     "name": "stderr",
     "output_type": "stream",
     "text": [
      "\r",
      "48780it [02:22, 321.52it/s]"
     ]
    },
    {
     "name": "stderr",
     "output_type": "stream",
     "text": [
      "\r",
      "48813it [02:22, 317.21it/s]"
     ]
    },
    {
     "name": "stderr",
     "output_type": "stream",
     "text": [
      "\r",
      "48846it [02:22, 320.24it/s]"
     ]
    },
    {
     "name": "stderr",
     "output_type": "stream",
     "text": [
      "\r",
      "48879it [02:22, 315.27it/s]"
     ]
    },
    {
     "name": "stderr",
     "output_type": "stream",
     "text": [
      "\r",
      "48911it [02:22, 316.08it/s]"
     ]
    },
    {
     "name": "stderr",
     "output_type": "stream",
     "text": [
      "\r",
      "48943it [02:22, 316.17it/s]"
     ]
    },
    {
     "name": "stderr",
     "output_type": "stream",
     "text": [
      "\r",
      "48975it [02:23, 314.48it/s]"
     ]
    },
    {
     "name": "stderr",
     "output_type": "stream",
     "text": [
      "\r",
      "49007it [02:23, 311.97it/s]"
     ]
    },
    {
     "name": "stderr",
     "output_type": "stream",
     "text": [
      "\r",
      "49040it [02:23, 316.39it/s]"
     ]
    },
    {
     "name": "stderr",
     "output_type": "stream",
     "text": [
      "\r",
      "49072it [02:23, 315.99it/s]"
     ]
    },
    {
     "name": "stderr",
     "output_type": "stream",
     "text": [
      "\r",
      "49104it [02:23, 315.14it/s]"
     ]
    },
    {
     "name": "stderr",
     "output_type": "stream",
     "text": [
      "\r",
      "49137it [02:23, 319.24it/s]"
     ]
    },
    {
     "name": "stderr",
     "output_type": "stream",
     "text": [
      "\r",
      "49171it [02:23, 323.66it/s]"
     ]
    },
    {
     "name": "stderr",
     "output_type": "stream",
     "text": [
      "\r",
      "49204it [02:23, 323.61it/s]"
     ]
    },
    {
     "name": "stderr",
     "output_type": "stream",
     "text": [
      "\r",
      "49237it [02:23, 322.78it/s]"
     ]
    },
    {
     "name": "stderr",
     "output_type": "stream",
     "text": [
      "\r",
      "49270it [02:23, 319.01it/s]"
     ]
    },
    {
     "name": "stderr",
     "output_type": "stream",
     "text": [
      "\r",
      "49303it [02:24, 320.70it/s]"
     ]
    },
    {
     "name": "stderr",
     "output_type": "stream",
     "text": [
      "\r",
      "49336it [02:24, 318.02it/s]"
     ]
    },
    {
     "name": "stderr",
     "output_type": "stream",
     "text": [
      "\r",
      "49368it [02:24, 310.21it/s]"
     ]
    },
    {
     "name": "stderr",
     "output_type": "stream",
     "text": [
      "\r",
      "49400it [02:24, 308.65it/s]"
     ]
    },
    {
     "name": "stderr",
     "output_type": "stream",
     "text": [
      "\r",
      "49433it [02:24, 313.03it/s]"
     ]
    },
    {
     "name": "stderr",
     "output_type": "stream",
     "text": [
      "\r",
      "49466it [02:24, 315.53it/s]"
     ]
    },
    {
     "name": "stderr",
     "output_type": "stream",
     "text": [
      "\r",
      "49499it [02:24, 316.75it/s]"
     ]
    },
    {
     "name": "stderr",
     "output_type": "stream",
     "text": [
      "\r",
      "49531it [02:24, 314.97it/s]"
     ]
    },
    {
     "name": "stderr",
     "output_type": "stream",
     "text": [
      "\r",
      "49563it [02:24, 314.67it/s]"
     ]
    },
    {
     "name": "stderr",
     "output_type": "stream",
     "text": [
      "\r",
      "49596it [02:24, 318.31it/s]"
     ]
    },
    {
     "name": "stderr",
     "output_type": "stream",
     "text": [
      "\r",
      "49628it [02:25, 317.46it/s]"
     ]
    },
    {
     "name": "stderr",
     "output_type": "stream",
     "text": [
      "\r",
      "49660it [02:25, 313.46it/s]"
     ]
    },
    {
     "name": "stderr",
     "output_type": "stream",
     "text": [
      "\r",
      "49692it [02:25, 312.92it/s]"
     ]
    },
    {
     "name": "stderr",
     "output_type": "stream",
     "text": [
      "\r",
      "49726it [02:25, 320.68it/s]"
     ]
    },
    {
     "name": "stderr",
     "output_type": "stream",
     "text": [
      "\r",
      "49759it [02:25, 321.49it/s]"
     ]
    },
    {
     "name": "stderr",
     "output_type": "stream",
     "text": [
      "\r",
      "49792it [02:25, 319.90it/s]"
     ]
    },
    {
     "name": "stderr",
     "output_type": "stream",
     "text": [
      "\r",
      "49825it [02:25, 315.66it/s]"
     ]
    },
    {
     "name": "stderr",
     "output_type": "stream",
     "text": [
      "\r",
      "49857it [02:25, 308.25it/s]"
     ]
    },
    {
     "name": "stderr",
     "output_type": "stream",
     "text": [
      "\r",
      "49889it [02:25, 309.08it/s]"
     ]
    },
    {
     "name": "stderr",
     "output_type": "stream",
     "text": [
      "\r",
      "49921it [02:26, 308.64it/s]"
     ]
    },
    {
     "name": "stderr",
     "output_type": "stream",
     "text": [
      "\r",
      "49952it [02:26, 307.48it/s]"
     ]
    },
    {
     "name": "stderr",
     "output_type": "stream",
     "text": [
      "\r",
      "49984it [02:26, 307.50it/s]"
     ]
    },
    {
     "name": "stderr",
     "output_type": "stream",
     "text": [
      "\r",
      "50017it [02:26, 311.16it/s]"
     ]
    },
    {
     "name": "stderr",
     "output_type": "stream",
     "text": [
      "\r",
      "50049it [02:26, 310.80it/s]"
     ]
    },
    {
     "name": "stderr",
     "output_type": "stream",
     "text": [
      "\r",
      "50081it [02:26, 309.33it/s]"
     ]
    },
    {
     "name": "stderr",
     "output_type": "stream",
     "text": [
      "\r",
      "50112it [02:26, 309.06it/s]"
     ]
    },
    {
     "name": "stderr",
     "output_type": "stream",
     "text": [
      "\r",
      "50146it [02:26, 315.72it/s]"
     ]
    },
    {
     "name": "stderr",
     "output_type": "stream",
     "text": [
      "\r",
      "50180it [02:26, 320.91it/s]"
     ]
    },
    {
     "name": "stderr",
     "output_type": "stream",
     "text": [
      "\r",
      "50213it [02:26, 322.55it/s]"
     ]
    },
    {
     "name": "stderr",
     "output_type": "stream",
     "text": [
      "\r",
      "50247it [02:27, 326.58it/s]"
     ]
    },
    {
     "name": "stderr",
     "output_type": "stream",
     "text": [
      "\r",
      "50280it [02:27, 325.01it/s]"
     ]
    },
    {
     "name": "stderr",
     "output_type": "stream",
     "text": [
      "\r",
      "50313it [02:27, 323.68it/s]"
     ]
    },
    {
     "name": "stderr",
     "output_type": "stream",
     "text": [
      "\r",
      "50346it [02:27, 318.62it/s]"
     ]
    },
    {
     "name": "stderr",
     "output_type": "stream",
     "text": [
      "\r",
      "50378it [02:27, 311.73it/s]"
     ]
    },
    {
     "name": "stderr",
     "output_type": "stream",
     "text": [
      "\r",
      "50410it [02:27, 312.83it/s]"
     ]
    },
    {
     "name": "stderr",
     "output_type": "stream",
     "text": [
      "\r",
      "50445it [02:27, 320.74it/s]"
     ]
    },
    {
     "name": "stderr",
     "output_type": "stream",
     "text": [
      "\r",
      "50478it [02:27, 322.48it/s]"
     ]
    },
    {
     "name": "stderr",
     "output_type": "stream",
     "text": [
      "\r",
      "50511it [02:27, 322.04it/s]"
     ]
    },
    {
     "name": "stderr",
     "output_type": "stream",
     "text": [
      "\r",
      "50544it [02:27, 320.63it/s]"
     ]
    },
    {
     "name": "stderr",
     "output_type": "stream",
     "text": [
      "\r",
      "50577it [02:28, 320.63it/s]"
     ]
    },
    {
     "name": "stderr",
     "output_type": "stream",
     "text": [
      "\r",
      "50612it [02:28, 326.93it/s]"
     ]
    },
    {
     "name": "stderr",
     "output_type": "stream",
     "text": [
      "\r",
      "50646it [02:28, 329.12it/s]"
     ]
    },
    {
     "name": "stderr",
     "output_type": "stream",
     "text": [
      "\r",
      "50679it [02:28, 322.21it/s]"
     ]
    },
    {
     "name": "stderr",
     "output_type": "stream",
     "text": [
      "\r",
      "50712it [02:28, 317.71it/s]"
     ]
    },
    {
     "name": "stderr",
     "output_type": "stream",
     "text": [
      "\r",
      "50746it [02:28, 323.79it/s]"
     ]
    },
    {
     "name": "stderr",
     "output_type": "stream",
     "text": [
      "\r",
      "50779it [02:28, 322.99it/s]"
     ]
    },
    {
     "name": "stderr",
     "output_type": "stream",
     "text": [
      "\r",
      "50814it [02:28, 329.58it/s]"
     ]
    },
    {
     "name": "stderr",
     "output_type": "stream",
     "text": [
      "\r",
      "50847it [02:28, 314.93it/s]"
     ]
    },
    {
     "name": "stderr",
     "output_type": "stream",
     "text": [
      "\r",
      "50880it [02:29, 318.27it/s]"
     ]
    },
    {
     "name": "stderr",
     "output_type": "stream",
     "text": [
      "\r",
      "50912it [02:29, 318.37it/s]"
     ]
    },
    {
     "name": "stderr",
     "output_type": "stream",
     "text": [
      "\r",
      "50945it [02:29, 319.04it/s]"
     ]
    },
    {
     "name": "stderr",
     "output_type": "stream",
     "text": [
      "\r",
      "50978it [02:29, 321.46it/s]"
     ]
    },
    {
     "name": "stderr",
     "output_type": "stream",
     "text": [
      "\r",
      "51012it [02:29, 323.32it/s]"
     ]
    },
    {
     "name": "stderr",
     "output_type": "stream",
     "text": [
      "\r",
      "51046it [02:29, 326.07it/s]"
     ]
    },
    {
     "name": "stderr",
     "output_type": "stream",
     "text": [
      "\r",
      "51080it [02:29, 325.42it/s]"
     ]
    },
    {
     "name": "stderr",
     "output_type": "stream",
     "text": [
      "\r",
      "51115it [02:29, 330.22it/s]"
     ]
    },
    {
     "name": "stderr",
     "output_type": "stream",
     "text": [
      "\r",
      "51150it [02:29, 334.58it/s]"
     ]
    },
    {
     "name": "stderr",
     "output_type": "stream",
     "text": [
      "\r",
      "51184it [02:29, 333.04it/s]"
     ]
    },
    {
     "name": "stderr",
     "output_type": "stream",
     "text": [
      "\r",
      "51218it [02:30, 329.37it/s]"
     ]
    },
    {
     "name": "stderr",
     "output_type": "stream",
     "text": [
      "\r",
      "51251it [02:30, 327.50it/s]"
     ]
    },
    {
     "name": "stderr",
     "output_type": "stream",
     "text": [
      "\r",
      "51286it [02:30, 332.57it/s]"
     ]
    },
    {
     "name": "stderr",
     "output_type": "stream",
     "text": [
      "\r",
      "51320it [02:30, 329.07it/s]"
     ]
    },
    {
     "name": "stderr",
     "output_type": "stream",
     "text": [
      "\r",
      "51353it [02:30, 315.03it/s]"
     ]
    },
    {
     "name": "stderr",
     "output_type": "stream",
     "text": [
      "\r",
      "51385it [02:30, 313.49it/s]"
     ]
    },
    {
     "name": "stderr",
     "output_type": "stream",
     "text": [
      "\r",
      "51418it [02:30, 314.36it/s]"
     ]
    },
    {
     "name": "stderr",
     "output_type": "stream",
     "text": [
      "\r",
      "51452it [02:30, 319.97it/s]"
     ]
    },
    {
     "name": "stderr",
     "output_type": "stream",
     "text": [
      "\r",
      "51486it [02:30, 325.16it/s]"
     ]
    },
    {
     "name": "stderr",
     "output_type": "stream",
     "text": [
      "\r",
      "51519it [02:30, 321.41it/s]"
     ]
    },
    {
     "name": "stderr",
     "output_type": "stream",
     "text": [
      "\r",
      "51552it [02:31, 323.40it/s]"
     ]
    },
    {
     "name": "stderr",
     "output_type": "stream",
     "text": [
      "\r",
      "51585it [02:31, 321.07it/s]"
     ]
    },
    {
     "name": "stderr",
     "output_type": "stream",
     "text": [
      "\r",
      "51618it [02:31, 320.83it/s]"
     ]
    },
    {
     "name": "stderr",
     "output_type": "stream",
     "text": [
      "\r",
      "51652it [02:31, 325.11it/s]"
     ]
    },
    {
     "name": "stderr",
     "output_type": "stream",
     "text": [
      "\r",
      "51687it [02:31, 330.97it/s]"
     ]
    },
    {
     "name": "stderr",
     "output_type": "stream",
     "text": [
      "\r",
      "51722it [02:31, 335.12it/s]"
     ]
    },
    {
     "name": "stderr",
     "output_type": "stream",
     "text": [
      "\r",
      "51756it [02:31, 335.08it/s]"
     ]
    },
    {
     "name": "stderr",
     "output_type": "stream",
     "text": [
      "\r",
      "51790it [02:31, 334.91it/s]"
     ]
    },
    {
     "name": "stderr",
     "output_type": "stream",
     "text": [
      "\r",
      "51824it [02:31, 330.24it/s]"
     ]
    },
    {
     "name": "stderr",
     "output_type": "stream",
     "text": [
      "\r",
      "51858it [02:32, 328.88it/s]"
     ]
    },
    {
     "name": "stderr",
     "output_type": "stream",
     "text": [
      "\r",
      "51892it [02:32, 330.93it/s]"
     ]
    },
    {
     "name": "stderr",
     "output_type": "stream",
     "text": [
      "\r",
      "51926it [02:32, 327.12it/s]"
     ]
    },
    {
     "name": "stderr",
     "output_type": "stream",
     "text": [
      "\r",
      "51961it [02:32, 332.65it/s]"
     ]
    },
    {
     "name": "stderr",
     "output_type": "stream",
     "text": [
      "\r",
      "51995it [02:32, 331.21it/s]"
     ]
    },
    {
     "name": "stderr",
     "output_type": "stream",
     "text": [
      "\r",
      "52030it [02:32, 333.72it/s]"
     ]
    },
    {
     "name": "stderr",
     "output_type": "stream",
     "text": [
      "\r",
      "52064it [02:32, 329.29it/s]"
     ]
    },
    {
     "name": "stderr",
     "output_type": "stream",
     "text": [
      "\r",
      "52098it [02:32, 331.07it/s]"
     ]
    },
    {
     "name": "stderr",
     "output_type": "stream",
     "text": [
      "\r",
      "52134it [02:32, 338.54it/s]"
     ]
    },
    {
     "name": "stderr",
     "output_type": "stream",
     "text": [
      "\r",
      "52170it [02:32, 342.96it/s]"
     ]
    },
    {
     "name": "stderr",
     "output_type": "stream",
     "text": [
      "\r",
      "52205it [02:33, 343.01it/s]"
     ]
    },
    {
     "name": "stderr",
     "output_type": "stream",
     "text": [
      "\r",
      "52240it [02:33, 344.72it/s]"
     ]
    },
    {
     "name": "stderr",
     "output_type": "stream",
     "text": [
      "\r",
      "52275it [02:33, 341.61it/s]"
     ]
    },
    {
     "name": "stderr",
     "output_type": "stream",
     "text": [
      "\r",
      "52310it [02:33, 340.98it/s]"
     ]
    },
    {
     "name": "stderr",
     "output_type": "stream",
     "text": [
      "\r",
      "52345it [02:33, 337.92it/s]"
     ]
    },
    {
     "name": "stderr",
     "output_type": "stream",
     "text": [
      "\r",
      "52380it [02:33, 340.25it/s]"
     ]
    },
    {
     "name": "stderr",
     "output_type": "stream",
     "text": [
      "\r",
      "52416it [02:33, 345.84it/s]"
     ]
    },
    {
     "name": "stderr",
     "output_type": "stream",
     "text": [
      "\r",
      "52451it [02:33, 345.33it/s]"
     ]
    },
    {
     "name": "stderr",
     "output_type": "stream",
     "text": [
      "\r",
      "52487it [02:33, 347.37it/s]"
     ]
    },
    {
     "name": "stderr",
     "output_type": "stream",
     "text": [
      "\r",
      "52523it [02:33, 348.33it/s]"
     ]
    },
    {
     "name": "stderr",
     "output_type": "stream",
     "text": [
      "\r",
      "52558it [02:34, 348.69it/s]"
     ]
    },
    {
     "name": "stderr",
     "output_type": "stream",
     "text": [
      "\r",
      "52597it [02:34, 358.01it/s]"
     ]
    },
    {
     "name": "stderr",
     "output_type": "stream",
     "text": [
      "\r",
      "52633it [02:34, 356.09it/s]"
     ]
    },
    {
     "name": "stderr",
     "output_type": "stream",
     "text": [
      "\r",
      "52669it [02:34, 356.72it/s]"
     ]
    },
    {
     "name": "stderr",
     "output_type": "stream",
     "text": [
      "\r",
      "52705it [02:34, 353.84it/s]"
     ]
    },
    {
     "name": "stderr",
     "output_type": "stream",
     "text": [
      "\r",
      "52741it [02:34, 352.10it/s]"
     ]
    },
    {
     "name": "stderr",
     "output_type": "stream",
     "text": [
      "\r",
      "52779it [02:34, 357.74it/s]"
     ]
    },
    {
     "name": "stderr",
     "output_type": "stream",
     "text": [
      "\r",
      "52815it [02:34, 350.92it/s]"
     ]
    },
    {
     "name": "stderr",
     "output_type": "stream",
     "text": [
      "\r",
      "52851it [02:34, 351.64it/s]"
     ]
    },
    {
     "name": "stderr",
     "output_type": "stream",
     "text": [
      "\r",
      "52887it [02:34, 345.98it/s]"
     ]
    },
    {
     "name": "stderr",
     "output_type": "stream",
     "text": [
      "\r",
      "52922it [02:35, 345.78it/s]"
     ]
    },
    {
     "name": "stderr",
     "output_type": "stream",
     "text": [
      "\r",
      "52957it [02:35, 346.25it/s]"
     ]
    },
    {
     "name": "stderr",
     "output_type": "stream",
     "text": [
      "\r",
      "52993it [02:35, 350.14it/s]"
     ]
    },
    {
     "name": "stderr",
     "output_type": "stream",
     "text": [
      "\r",
      "53029it [02:35, 346.54it/s]"
     ]
    },
    {
     "name": "stderr",
     "output_type": "stream",
     "text": [
      "\r",
      "53064it [02:35, 345.38it/s]"
     ]
    },
    {
     "name": "stderr",
     "output_type": "stream",
     "text": [
      "\r",
      "53101it [02:35, 352.05it/s]"
     ]
    },
    {
     "name": "stderr",
     "output_type": "stream",
     "text": [
      "\r",
      "53137it [02:35, 352.84it/s]"
     ]
    },
    {
     "name": "stderr",
     "output_type": "stream",
     "text": [
      "\r",
      "53173it [02:35, 349.37it/s]"
     ]
    },
    {
     "name": "stderr",
     "output_type": "stream",
     "text": [
      "\r",
      "53208it [02:35, 344.99it/s]"
     ]
    },
    {
     "name": "stderr",
     "output_type": "stream",
     "text": [
      "\r",
      "53244it [02:36, 347.68it/s]"
     ]
    },
    {
     "name": "stderr",
     "output_type": "stream",
     "text": [
      "\r",
      "53279it [02:36, 345.66it/s]"
     ]
    },
    {
     "name": "stderr",
     "output_type": "stream",
     "text": [
      "\r",
      "53314it [02:36, 344.05it/s]"
     ]
    },
    {
     "name": "stderr",
     "output_type": "stream",
     "text": [
      "\r",
      "53350it [02:36, 347.91it/s]"
     ]
    },
    {
     "name": "stderr",
     "output_type": "stream",
     "text": [
      "\r",
      "53385it [02:36, 345.67it/s]"
     ]
    },
    {
     "name": "stderr",
     "output_type": "stream",
     "text": [
      "\r",
      "53421it [02:36, 346.85it/s]"
     ]
    },
    {
     "name": "stderr",
     "output_type": "stream",
     "text": [
      "\r",
      "53457it [02:36, 348.30it/s]"
     ]
    },
    {
     "name": "stderr",
     "output_type": "stream",
     "text": [
      "\r",
      "53493it [02:36, 350.47it/s]"
     ]
    },
    {
     "name": "stderr",
     "output_type": "stream",
     "text": [
      "\r",
      "53529it [02:36, 350.02it/s]"
     ]
    },
    {
     "name": "stderr",
     "output_type": "stream",
     "text": [
      "\r",
      "53565it [02:36, 347.87it/s]"
     ]
    },
    {
     "name": "stderr",
     "output_type": "stream",
     "text": [
      "\r",
      "53600it [02:37, 341.92it/s]"
     ]
    },
    {
     "name": "stderr",
     "output_type": "stream",
     "text": [
      "\r",
      "53636it [02:37, 345.90it/s]"
     ]
    },
    {
     "name": "stderr",
     "output_type": "stream",
     "text": [
      "\r",
      "53673it [02:37, 351.57it/s]"
     ]
    },
    {
     "name": "stderr",
     "output_type": "stream",
     "text": [
      "\r",
      "53709it [02:37, 347.72it/s]"
     ]
    },
    {
     "name": "stderr",
     "output_type": "stream",
     "text": [
      "\r",
      "53745it [02:37, 348.69it/s]"
     ]
    },
    {
     "name": "stderr",
     "output_type": "stream",
     "text": [
      "\r",
      "53780it [02:37, 338.38it/s]"
     ]
    },
    {
     "name": "stderr",
     "output_type": "stream",
     "text": [
      "\r",
      "53815it [02:37, 339.88it/s]"
     ]
    },
    {
     "name": "stderr",
     "output_type": "stream",
     "text": [
      "\r",
      "53851it [02:37, 344.29it/s]"
     ]
    },
    {
     "name": "stderr",
     "output_type": "stream",
     "text": [
      "\r",
      "53886it [02:37, 342.77it/s]"
     ]
    },
    {
     "name": "stderr",
     "output_type": "stream",
     "text": [
      "\r",
      "53922it [02:37, 346.19it/s]"
     ]
    },
    {
     "name": "stderr",
     "output_type": "stream",
     "text": [
      "\r",
      "53957it [02:38, 343.93it/s]"
     ]
    },
    {
     "name": "stderr",
     "output_type": "stream",
     "text": [
      "\r",
      "53992it [02:38, 341.16it/s]"
     ]
    },
    {
     "name": "stderr",
     "output_type": "stream",
     "text": [
      "\r",
      "54027it [02:38, 338.32it/s]"
     ]
    },
    {
     "name": "stderr",
     "output_type": "stream",
     "text": [
      "\r",
      "54062it [02:38, 340.93it/s]"
     ]
    },
    {
     "name": "stderr",
     "output_type": "stream",
     "text": [
      "\r",
      "54099it [02:38, 349.23it/s]"
     ]
    },
    {
     "name": "stderr",
     "output_type": "stream",
     "text": [
      "\r",
      "54135it [02:38, 351.74it/s]"
     ]
    },
    {
     "name": "stderr",
     "output_type": "stream",
     "text": [
      "\r",
      "54172it [02:38, 355.17it/s]"
     ]
    },
    {
     "name": "stderr",
     "output_type": "stream",
     "text": [
      "\r",
      "54208it [02:38, 351.78it/s]"
     ]
    },
    {
     "name": "stderr",
     "output_type": "stream",
     "text": [
      "\r",
      "54244it [02:38, 351.97it/s]"
     ]
    },
    {
     "name": "stderr",
     "output_type": "stream",
     "text": [
      "\r",
      "54280it [02:39, 350.55it/s]"
     ]
    },
    {
     "name": "stderr",
     "output_type": "stream",
     "text": [
      "\r",
      "54316it [02:39, 343.04it/s]"
     ]
    },
    {
     "name": "stderr",
     "output_type": "stream",
     "text": [
      "\r",
      "54354it [02:39, 351.76it/s]"
     ]
    },
    {
     "name": "stderr",
     "output_type": "stream",
     "text": [
      "\r",
      "54390it [02:39, 351.72it/s]"
     ]
    },
    {
     "name": "stderr",
     "output_type": "stream",
     "text": [
      "\r",
      "54427it [02:39, 354.97it/s]"
     ]
    },
    {
     "name": "stderr",
     "output_type": "stream",
     "text": [
      "\r",
      "54464it [02:39, 356.35it/s]"
     ]
    },
    {
     "name": "stderr",
     "output_type": "stream",
     "text": [
      "\r",
      "54500it [02:39, 354.30it/s]"
     ]
    },
    {
     "name": "stderr",
     "output_type": "stream",
     "text": [
      "\r",
      "54539it [02:39, 363.94it/s]"
     ]
    },
    {
     "name": "stderr",
     "output_type": "stream",
     "text": [
      "\r",
      "54576it [02:39, 365.60it/s]"
     ]
    },
    {
     "name": "stderr",
     "output_type": "stream",
     "text": [
      "\r",
      "54613it [02:39, 365.74it/s]"
     ]
    },
    {
     "name": "stderr",
     "output_type": "stream",
     "text": [
      "\r",
      "54650it [02:40, 360.21it/s]"
     ]
    },
    {
     "name": "stderr",
     "output_type": "stream",
     "text": [
      "\r",
      "54687it [02:40, 356.46it/s]"
     ]
    },
    {
     "name": "stderr",
     "output_type": "stream",
     "text": [
      "\r",
      "54725it [02:40, 360.98it/s]"
     ]
    },
    {
     "name": "stderr",
     "output_type": "stream",
     "text": [
      "\r",
      "54762it [02:40, 351.84it/s]"
     ]
    },
    {
     "name": "stderr",
     "output_type": "stream",
     "text": [
      "\r",
      "54798it [02:40, 351.90it/s]"
     ]
    },
    {
     "name": "stderr",
     "output_type": "stream",
     "text": [
      "\r",
      "54834it [02:40, 354.10it/s]"
     ]
    },
    {
     "name": "stderr",
     "output_type": "stream",
     "text": [
      "\r",
      "54870it [02:40, 351.22it/s]"
     ]
    },
    {
     "name": "stderr",
     "output_type": "stream",
     "text": [
      "\r",
      "54906it [02:40, 347.76it/s]"
     ]
    },
    {
     "name": "stderr",
     "output_type": "stream",
     "text": [
      "\r",
      "54943it [02:40, 353.90it/s]"
     ]
    },
    {
     "name": "stderr",
     "output_type": "stream",
     "text": [
      "\r",
      "54979it [02:40, 353.88it/s]"
     ]
    },
    {
     "name": "stderr",
     "output_type": "stream",
     "text": [
      "\r",
      "55017it [02:41, 359.88it/s]"
     ]
    },
    {
     "name": "stderr",
     "output_type": "stream",
     "text": [
      "\r",
      "55055it [02:41, 363.94it/s]"
     ]
    },
    {
     "name": "stderr",
     "output_type": "stream",
     "text": [
      "\r",
      "55092it [02:41, 365.69it/s]"
     ]
    },
    {
     "name": "stderr",
     "output_type": "stream",
     "text": [
      "\r",
      "55129it [02:41, 361.03it/s]"
     ]
    },
    {
     "name": "stderr",
     "output_type": "stream",
     "text": [
      "\r",
      "55166it [02:41, 355.97it/s]"
     ]
    },
    {
     "name": "stderr",
     "output_type": "stream",
     "text": [
      "\r",
      "55204it [02:41, 362.20it/s]"
     ]
    },
    {
     "name": "stderr",
     "output_type": "stream",
     "text": [
      "\r",
      "55241it [02:41, 353.63it/s]"
     ]
    },
    {
     "name": "stderr",
     "output_type": "stream",
     "text": [
      "\r",
      "55277it [02:41, 354.16it/s]"
     ]
    },
    {
     "name": "stderr",
     "output_type": "stream",
     "text": [
      "\r",
      "55314it [02:41, 355.70it/s]"
     ]
    },
    {
     "name": "stderr",
     "output_type": "stream",
     "text": [
      "\r",
      "55351it [02:42, 359.20it/s]"
     ]
    },
    {
     "name": "stderr",
     "output_type": "stream",
     "text": [
      "\r",
      "55387it [02:42, 359.00it/s]"
     ]
    },
    {
     "name": "stderr",
     "output_type": "stream",
     "text": [
      "\r",
      "55423it [02:42, 341.67it/s]"
     ]
    },
    {
     "name": "stderr",
     "output_type": "stream",
     "text": [
      "\r",
      "55461it [02:42, 351.24it/s]"
     ]
    },
    {
     "name": "stderr",
     "output_type": "stream",
     "text": [
      "\r",
      "55497it [02:42, 350.57it/s]"
     ]
    },
    {
     "name": "stderr",
     "output_type": "stream",
     "text": [
      "\r",
      "55533it [02:42, 348.50it/s]"
     ]
    },
    {
     "name": "stderr",
     "output_type": "stream",
     "text": [
      "\r",
      "55569it [02:42, 349.25it/s]"
     ]
    },
    {
     "name": "stderr",
     "output_type": "stream",
     "text": [
      "\r",
      "55607it [02:42, 356.86it/s]"
     ]
    },
    {
     "name": "stderr",
     "output_type": "stream",
     "text": [
      "\r",
      "55644it [02:42, 358.42it/s]"
     ]
    },
    {
     "name": "stderr",
     "output_type": "stream",
     "text": [
      "\r",
      "55682it [02:42, 362.93it/s]"
     ]
    },
    {
     "name": "stderr",
     "output_type": "stream",
     "text": [
      "\r",
      "55719it [02:43, 356.79it/s]"
     ]
    },
    {
     "name": "stderr",
     "output_type": "stream",
     "text": [
      "\r",
      "55755it [02:43, 356.62it/s]"
     ]
    },
    {
     "name": "stderr",
     "output_type": "stream",
     "text": [
      "\r",
      "55791it [02:43, 354.33it/s]"
     ]
    },
    {
     "name": "stderr",
     "output_type": "stream",
     "text": [
      "\r",
      "55827it [02:43, 354.77it/s]"
     ]
    },
    {
     "name": "stderr",
     "output_type": "stream",
     "text": [
      "\r",
      "55864it [02:43, 356.66it/s]"
     ]
    },
    {
     "name": "stderr",
     "output_type": "stream",
     "text": [
      "\r",
      "55901it [02:43, 356.81it/s]"
     ]
    },
    {
     "name": "stderr",
     "output_type": "stream",
     "text": [
      "\r",
      "55937it [02:43, 354.53it/s]"
     ]
    },
    {
     "name": "stderr",
     "output_type": "stream",
     "text": [
      "\r",
      "55973it [02:43, 348.71it/s]"
     ]
    },
    {
     "name": "stderr",
     "output_type": "stream",
     "text": [
      "\r",
      "56011it [02:43, 357.75it/s]"
     ]
    },
    {
     "name": "stderr",
     "output_type": "stream",
     "text": [
      "\r",
      "56049it [02:43, 362.18it/s]"
     ]
    },
    {
     "name": "stderr",
     "output_type": "stream",
     "text": [
      "\r",
      "56087it [02:44, 365.27it/s]"
     ]
    },
    {
     "name": "stderr",
     "output_type": "stream",
     "text": [
      "\r",
      "56124it [02:44, 362.75it/s]"
     ]
    },
    {
     "name": "stderr",
     "output_type": "stream",
     "text": [
      "\r",
      "56161it [02:44, 357.76it/s]"
     ]
    },
    {
     "name": "stderr",
     "output_type": "stream",
     "text": [
      "\r",
      "56198it [02:44, 359.64it/s]"
     ]
    },
    {
     "name": "stderr",
     "output_type": "stream",
     "text": [
      "\r",
      "56234it [02:44, 357.78it/s]"
     ]
    },
    {
     "name": "stderr",
     "output_type": "stream",
     "text": [
      "\r",
      "56271it [02:44, 360.13it/s]"
     ]
    },
    {
     "name": "stderr",
     "output_type": "stream",
     "text": [
      "\r",
      "56308it [02:44, 362.22it/s]"
     ]
    },
    {
     "name": "stderr",
     "output_type": "stream",
     "text": [
      "\r",
      "56346it [02:44, 365.54it/s]"
     ]
    },
    {
     "name": "stderr",
     "output_type": "stream",
     "text": [
      "\r",
      "56383it [02:44, 365.80it/s]"
     ]
    },
    {
     "name": "stderr",
     "output_type": "stream",
     "text": [
      "\r",
      "56420it [02:44, 366.77it/s]"
     ]
    },
    {
     "name": "stderr",
     "output_type": "stream",
     "text": [
      "\r",
      "56458it [02:45, 368.16it/s]"
     ]
    },
    {
     "name": "stderr",
     "output_type": "stream",
     "text": [
      "\r",
      "56497it [02:45, 373.41it/s]"
     ]
    },
    {
     "name": "stderr",
     "output_type": "stream",
     "text": [
      "\r",
      "56535it [02:45, 368.77it/s]"
     ]
    },
    {
     "name": "stderr",
     "output_type": "stream",
     "text": [
      "\r",
      "56572it [02:45, 366.13it/s]"
     ]
    },
    {
     "name": "stderr",
     "output_type": "stream",
     "text": [
      "\r",
      "56610it [02:45, 367.45it/s]"
     ]
    },
    {
     "name": "stderr",
     "output_type": "stream",
     "text": [
      "\r",
      "56647it [02:45, 364.60it/s]"
     ]
    },
    {
     "name": "stderr",
     "output_type": "stream",
     "text": [
      "\r",
      "56684it [02:45, 359.79it/s]"
     ]
    },
    {
     "name": "stderr",
     "output_type": "stream",
     "text": [
      "\r",
      "56720it [02:45, 357.59it/s]"
     ]
    },
    {
     "name": "stderr",
     "output_type": "stream",
     "text": [
      "\r",
      "56756it [02:45, 354.60it/s]"
     ]
    },
    {
     "name": "stderr",
     "output_type": "stream",
     "text": [
      "\r",
      "56793it [02:46, 356.41it/s]"
     ]
    },
    {
     "name": "stderr",
     "output_type": "stream",
     "text": [
      "\r",
      "56829it [02:46, 355.18it/s]"
     ]
    },
    {
     "name": "stderr",
     "output_type": "stream",
     "text": [
      "\r",
      "56866it [02:46, 357.18it/s]"
     ]
    },
    {
     "name": "stderr",
     "output_type": "stream",
     "text": [
      "\r",
      "56903it [02:46, 357.48it/s]"
     ]
    },
    {
     "name": "stderr",
     "output_type": "stream",
     "text": [
      "\r",
      "56939it [02:46, 357.43it/s]"
     ]
    },
    {
     "name": "stderr",
     "output_type": "stream",
     "text": [
      "\r",
      "56977it [02:46, 364.02it/s]"
     ]
    },
    {
     "name": "stderr",
     "output_type": "stream",
     "text": [
      "\r",
      "57015it [02:46, 368.31it/s]"
     ]
    },
    {
     "name": "stderr",
     "output_type": "stream",
     "text": [
      "\r",
      "57052it [02:46, 367.41it/s]"
     ]
    },
    {
     "name": "stderr",
     "output_type": "stream",
     "text": [
      "\r",
      "57089it [02:46, 357.64it/s]"
     ]
    },
    {
     "name": "stderr",
     "output_type": "stream",
     "text": [
      "\r",
      "57128it [02:46, 366.57it/s]"
     ]
    },
    {
     "name": "stderr",
     "output_type": "stream",
     "text": [
      "\r",
      "57165it [02:47, 358.59it/s]"
     ]
    },
    {
     "name": "stderr",
     "output_type": "stream",
     "text": [
      "\r",
      "57201it [02:47, 356.07it/s]"
     ]
    },
    {
     "name": "stderr",
     "output_type": "stream",
     "text": [
      "\r",
      "57237it [02:47, 356.34it/s]"
     ]
    },
    {
     "name": "stderr",
     "output_type": "stream",
     "text": [
      "\r",
      "57274it [02:47, 358.55it/s]"
     ]
    },
    {
     "name": "stderr",
     "output_type": "stream",
     "text": [
      "\r",
      "57311it [02:47, 357.76it/s]"
     ]
    },
    {
     "name": "stderr",
     "output_type": "stream",
     "text": [
      "\r",
      "57348it [02:47, 358.98it/s]"
     ]
    },
    {
     "name": "stderr",
     "output_type": "stream",
     "text": [
      "\r",
      "57385it [02:47, 360.78it/s]"
     ]
    },
    {
     "name": "stderr",
     "output_type": "stream",
     "text": [
      "\r",
      "57422it [02:47, 358.36it/s]"
     ]
    },
    {
     "name": "stderr",
     "output_type": "stream",
     "text": [
      "\r",
      "57458it [02:47, 357.71it/s]"
     ]
    },
    {
     "name": "stderr",
     "output_type": "stream",
     "text": [
      "\r",
      "57494it [02:47, 356.75it/s]"
     ]
    },
    {
     "name": "stderr",
     "output_type": "stream",
     "text": [
      "\r",
      "57531it [02:48, 358.77it/s]"
     ]
    },
    {
     "name": "stderr",
     "output_type": "stream",
     "text": [
      "\r",
      "57569it [02:48, 363.75it/s]"
     ]
    },
    {
     "name": "stderr",
     "output_type": "stream",
     "text": [
      "\r",
      "57606it [02:48, 363.77it/s]"
     ]
    },
    {
     "name": "stderr",
     "output_type": "stream",
     "text": [
      "\r",
      "57643it [02:48, 360.60it/s]"
     ]
    },
    {
     "name": "stderr",
     "output_type": "stream",
     "text": [
      "\r",
      "57680it [02:48, 351.63it/s]"
     ]
    },
    {
     "name": "stderr",
     "output_type": "stream",
     "text": [
      "\r",
      "57717it [02:48, 356.17it/s]"
     ]
    },
    {
     "name": "stderr",
     "output_type": "stream",
     "text": [
      "\r",
      "57753it [02:48, 355.75it/s]"
     ]
    },
    {
     "name": "stderr",
     "output_type": "stream",
     "text": [
      "\r",
      "57789it [02:48, 345.31it/s]"
     ]
    },
    {
     "name": "stderr",
     "output_type": "stream",
     "text": [
      "\r",
      "57825it [02:48, 347.20it/s]"
     ]
    },
    {
     "name": "stderr",
     "output_type": "stream",
     "text": [
      "\r",
      "57862it [02:49, 350.00it/s]"
     ]
    },
    {
     "name": "stderr",
     "output_type": "stream",
     "text": [
      "\r",
      "57898it [02:49, 349.04it/s]"
     ]
    },
    {
     "name": "stderr",
     "output_type": "stream",
     "text": [
      "\r",
      "57935it [02:49, 354.07it/s]"
     ]
    },
    {
     "name": "stderr",
     "output_type": "stream",
     "text": [
      "\r",
      "57971it [02:49, 342.51it/s]"
     ]
    },
    {
     "name": "stderr",
     "output_type": "stream",
     "text": [
      "\r",
      "58009it [02:49, 351.05it/s]"
     ]
    },
    {
     "name": "stderr",
     "output_type": "stream",
     "text": [
      "\r",
      "58047it [02:49, 357.78it/s]"
     ]
    },
    {
     "name": "stderr",
     "output_type": "stream",
     "text": [
      "\r",
      "58083it [02:49, 357.27it/s]"
     ]
    },
    {
     "name": "stderr",
     "output_type": "stream",
     "text": [
      "\r",
      "58121it [02:49, 360.88it/s]"
     ]
    },
    {
     "name": "stderr",
     "output_type": "stream",
     "text": [
      "\r",
      "58158it [02:49, 358.25it/s]"
     ]
    },
    {
     "name": "stderr",
     "output_type": "stream",
     "text": [
      "\r",
      "58196it [02:49, 361.87it/s]"
     ]
    },
    {
     "name": "stderr",
     "output_type": "stream",
     "text": [
      "\r",
      "58233it [02:50, 363.49it/s]"
     ]
    },
    {
     "name": "stderr",
     "output_type": "stream",
     "text": [
      "\r",
      "58271it [02:50, 368.33it/s]"
     ]
    },
    {
     "name": "stderr",
     "output_type": "stream",
     "text": [
      "\r",
      "58308it [02:50, 365.02it/s]"
     ]
    },
    {
     "name": "stderr",
     "output_type": "stream",
     "text": [
      "\r",
      "58345it [02:50, 363.10it/s]"
     ]
    },
    {
     "name": "stderr",
     "output_type": "stream",
     "text": [
      "\r",
      "58383it [02:50, 367.87it/s]"
     ]
    },
    {
     "name": "stderr",
     "output_type": "stream",
     "text": [
      "\r",
      "58421it [02:50, 368.38it/s]"
     ]
    },
    {
     "name": "stderr",
     "output_type": "stream",
     "text": [
      "\r",
      "58458it [02:50, 365.39it/s]"
     ]
    },
    {
     "name": "stderr",
     "output_type": "stream",
     "text": [
      "\r",
      "58495it [02:50, 364.36it/s]"
     ]
    },
    {
     "name": "stderr",
     "output_type": "stream",
     "text": [
      "\r",
      "58532it [02:50, 361.95it/s]"
     ]
    },
    {
     "name": "stderr",
     "output_type": "stream",
     "text": [
      "\r",
      "58570it [02:50, 366.06it/s]"
     ]
    },
    {
     "name": "stderr",
     "output_type": "stream",
     "text": [
      "\r",
      "58607it [02:51, 363.10it/s]"
     ]
    },
    {
     "name": "stderr",
     "output_type": "stream",
     "text": [
      "\r",
      "58644it [02:51, 360.31it/s]"
     ]
    },
    {
     "name": "stderr",
     "output_type": "stream",
     "text": [
      "\r",
      "58681it [02:51, 359.63it/s]"
     ]
    },
    {
     "name": "stderr",
     "output_type": "stream",
     "text": [
      "\r",
      "58717it [02:51, 355.47it/s]"
     ]
    },
    {
     "name": "stderr",
     "output_type": "stream",
     "text": [
      "\r",
      "58753it [02:51, 354.30it/s]"
     ]
    },
    {
     "name": "stderr",
     "output_type": "stream",
     "text": [
      "\r",
      "58789it [02:51, 355.94it/s]"
     ]
    },
    {
     "name": "stderr",
     "output_type": "stream",
     "text": [
      "\r",
      "58825it [02:51, 355.18it/s]"
     ]
    },
    {
     "name": "stderr",
     "output_type": "stream",
     "text": [
      "\r",
      "58863it [02:51, 359.17it/s]"
     ]
    },
    {
     "name": "stderr",
     "output_type": "stream",
     "text": [
      "\r",
      "58901it [02:51, 364.44it/s]"
     ]
    },
    {
     "name": "stderr",
     "output_type": "stream",
     "text": [
      "\r",
      "58938it [02:51, 363.76it/s]"
     ]
    },
    {
     "name": "stderr",
     "output_type": "stream",
     "text": [
      "\r",
      "58975it [02:52, 360.66it/s]"
     ]
    },
    {
     "name": "stderr",
     "output_type": "stream",
     "text": [
      "\r",
      "59012it [02:52, 358.30it/s]"
     ]
    },
    {
     "name": "stderr",
     "output_type": "stream",
     "text": [
      "\r",
      "59051it [02:52, 364.72it/s]"
     ]
    },
    {
     "name": "stderr",
     "output_type": "stream",
     "text": [
      "\r",
      "59088it [02:52, 359.02it/s]"
     ]
    },
    {
     "name": "stderr",
     "output_type": "stream",
     "text": [
      "\r",
      "59124it [02:52, 356.96it/s]"
     ]
    },
    {
     "name": "stderr",
     "output_type": "stream",
     "text": [
      "\r",
      "59160it [02:52, 356.43it/s]"
     ]
    },
    {
     "name": "stderr",
     "output_type": "stream",
     "text": [
      "\r",
      "59197it [02:52, 358.55it/s]"
     ]
    },
    {
     "name": "stderr",
     "output_type": "stream",
     "text": [
      "\r",
      "59234it [02:52, 361.24it/s]"
     ]
    },
    {
     "name": "stderr",
     "output_type": "stream",
     "text": [
      "\r",
      "59271it [02:52, 357.84it/s]"
     ]
    },
    {
     "name": "stderr",
     "output_type": "stream",
     "text": [
      "\r",
      "59307it [02:53, 355.74it/s]"
     ]
    },
    {
     "name": "stderr",
     "output_type": "stream",
     "text": [
      "\r",
      "59343it [02:53, 355.74it/s]"
     ]
    },
    {
     "name": "stderr",
     "output_type": "stream",
     "text": [
      "\r",
      "59379it [02:53, 354.01it/s]"
     ]
    },
    {
     "name": "stderr",
     "output_type": "stream",
     "text": [
      "\r",
      "59416it [02:53, 356.07it/s]"
     ]
    },
    {
     "name": "stderr",
     "output_type": "stream",
     "text": [
      "\r",
      "59453it [02:53, 355.90it/s]"
     ]
    },
    {
     "name": "stderr",
     "output_type": "stream",
     "text": [
      "\r",
      "59490it [02:53, 358.29it/s]"
     ]
    },
    {
     "name": "stderr",
     "output_type": "stream",
     "text": [
      "\r",
      "59526it [02:53, 356.67it/s]"
     ]
    },
    {
     "name": "stderr",
     "output_type": "stream",
     "text": [
      "\r",
      "59562it [02:53, 353.32it/s]"
     ]
    },
    {
     "name": "stderr",
     "output_type": "stream",
     "text": [
      "\r",
      "59598it [02:53, 353.66it/s]"
     ]
    },
    {
     "name": "stderr",
     "output_type": "stream",
     "text": [
      "\r",
      "59635it [02:53, 356.45it/s]"
     ]
    },
    {
     "name": "stderr",
     "output_type": "stream",
     "text": [
      "\r",
      "59671it [02:54, 354.84it/s]"
     ]
    },
    {
     "name": "stderr",
     "output_type": "stream",
     "text": [
      "\r",
      "59707it [02:54, 354.28it/s]"
     ]
    },
    {
     "name": "stderr",
     "output_type": "stream",
     "text": [
      "\r",
      "59743it [02:54, 354.13it/s]"
     ]
    },
    {
     "name": "stderr",
     "output_type": "stream",
     "text": [
      "\r",
      "59780it [02:54, 355.37it/s]"
     ]
    },
    {
     "name": "stderr",
     "output_type": "stream",
     "text": [
      "\r",
      "59816it [02:54, 350.47it/s]"
     ]
    },
    {
     "name": "stderr",
     "output_type": "stream",
     "text": [
      "\r",
      "59852it [02:54, 351.81it/s]"
     ]
    },
    {
     "name": "stderr",
     "output_type": "stream",
     "text": [
      "\r",
      "59888it [02:54, 344.39it/s]"
     ]
    },
    {
     "name": "stderr",
     "output_type": "stream",
     "text": [
      "\r",
      "59925it [02:54, 349.31it/s]"
     ]
    },
    {
     "name": "stderr",
     "output_type": "stream",
     "text": [
      "\r",
      "59960it [02:54, 348.97it/s]"
     ]
    },
    {
     "name": "stderr",
     "output_type": "stream",
     "text": [
      "\r",
      "59997it [02:54, 355.11it/s]"
     ]
    },
    {
     "name": "stderr",
     "output_type": "stream",
     "text": [
      "\r",
      "60035it [02:55, 362.19it/s]"
     ]
    },
    {
     "name": "stderr",
     "output_type": "stream",
     "text": [
      "\r",
      "60072it [02:55, 291.64it/s]"
     ]
    },
    {
     "name": "stderr",
     "output_type": "stream",
     "text": [
      "\r",
      "60109it [02:55, 309.38it/s]"
     ]
    },
    {
     "name": "stderr",
     "output_type": "stream",
     "text": [
      "\r",
      "60146it [02:55, 323.70it/s]"
     ]
    },
    {
     "name": "stderr",
     "output_type": "stream",
     "text": [
      "\r",
      "60185it [02:55, 340.63it/s]"
     ]
    },
    {
     "name": "stderr",
     "output_type": "stream",
     "text": [
      "\r",
      "60224it [02:55, 353.25it/s]"
     ]
    },
    {
     "name": "stderr",
     "output_type": "stream",
     "text": [
      "\r",
      "60262it [02:55, 360.35it/s]"
     ]
    },
    {
     "name": "stderr",
     "output_type": "stream",
     "text": [
      "\r",
      "60299it [02:55, 362.74it/s]"
     ]
    },
    {
     "name": "stderr",
     "output_type": "stream",
     "text": [
      "\r",
      "60336it [02:55, 361.03it/s]"
     ]
    },
    {
     "name": "stderr",
     "output_type": "stream",
     "text": [
      "\r",
      "60374it [02:56, 363.36it/s]"
     ]
    },
    {
     "name": "stderr",
     "output_type": "stream",
     "text": [
      "\r",
      "60411it [02:56, 364.19it/s]"
     ]
    },
    {
     "name": "stderr",
     "output_type": "stream",
     "text": [
      "\r",
      "60449it [02:56, 365.52it/s]"
     ]
    },
    {
     "name": "stderr",
     "output_type": "stream",
     "text": [
      "\r",
      "60486it [02:56, 363.41it/s]"
     ]
    },
    {
     "name": "stderr",
     "output_type": "stream",
     "text": [
      "\r",
      "60523it [02:56, 359.54it/s]"
     ]
    },
    {
     "name": "stderr",
     "output_type": "stream",
     "text": [
      "\r",
      "60562it [02:56, 366.68it/s]"
     ]
    },
    {
     "name": "stderr",
     "output_type": "stream",
     "text": [
      "\r",
      "60600it [02:56, 368.96it/s]"
     ]
    },
    {
     "name": "stderr",
     "output_type": "stream",
     "text": [
      "\r",
      "60637it [02:56, 363.98it/s]"
     ]
    },
    {
     "name": "stderr",
     "output_type": "stream",
     "text": [
      "\r",
      "60674it [02:56, 363.92it/s]"
     ]
    },
    {
     "name": "stderr",
     "output_type": "stream",
     "text": [
      "\r",
      "60713it [02:57, 371.04it/s]"
     ]
    },
    {
     "name": "stderr",
     "output_type": "stream",
     "text": [
      "\r",
      "60751it [02:57, 369.76it/s]"
     ]
    },
    {
     "name": "stderr",
     "output_type": "stream",
     "text": [
      "\r",
      "60788it [02:57, 365.76it/s]"
     ]
    },
    {
     "name": "stderr",
     "output_type": "stream",
     "text": [
      "\r",
      "60825it [02:57, 364.62it/s]"
     ]
    },
    {
     "name": "stderr",
     "output_type": "stream",
     "text": [
      "\r",
      "60864it [02:57, 371.42it/s]"
     ]
    },
    {
     "name": "stderr",
     "output_type": "stream",
     "text": [
      "\r",
      "60902it [02:57, 364.57it/s]"
     ]
    },
    {
     "name": "stderr",
     "output_type": "stream",
     "text": [
      "\r",
      "60939it [02:57, 363.54it/s]"
     ]
    },
    {
     "name": "stderr",
     "output_type": "stream",
     "text": [
      "\r",
      "60977it [02:57, 366.52it/s]"
     ]
    },
    {
     "name": "stderr",
     "output_type": "stream",
     "text": [
      "\r",
      "61015it [02:57, 367.91it/s]"
     ]
    },
    {
     "name": "stderr",
     "output_type": "stream",
     "text": [
      "\r",
      "61053it [02:57, 370.05it/s]"
     ]
    },
    {
     "name": "stderr",
     "output_type": "stream",
     "text": [
      "\r",
      "61091it [02:58, 364.42it/s]"
     ]
    },
    {
     "name": "stderr",
     "output_type": "stream",
     "text": [
      "\r",
      "61129it [02:58, 367.98it/s]"
     ]
    },
    {
     "name": "stderr",
     "output_type": "stream",
     "text": [
      "\r",
      "61166it [02:58, 367.95it/s]"
     ]
    },
    {
     "name": "stderr",
     "output_type": "stream",
     "text": [
      "\r",
      "61203it [02:58, 365.08it/s]"
     ]
    },
    {
     "name": "stderr",
     "output_type": "stream",
     "text": [
      "\r",
      "61241it [02:58, 366.79it/s]"
     ]
    },
    {
     "name": "stderr",
     "output_type": "stream",
     "text": [
      "\r",
      "61279it [02:58, 369.88it/s]"
     ]
    },
    {
     "name": "stderr",
     "output_type": "stream",
     "text": [
      "\r",
      "61318it [02:58, 373.45it/s]"
     ]
    },
    {
     "name": "stderr",
     "output_type": "stream",
     "text": [
      "\r",
      "61357it [02:58, 374.06it/s]"
     ]
    },
    {
     "name": "stderr",
     "output_type": "stream",
     "text": [
      "\r",
      "61395it [02:58, 366.40it/s]"
     ]
    },
    {
     "name": "stderr",
     "output_type": "stream",
     "text": [
      "\r",
      "61432it [02:58, 365.54it/s]"
     ]
    },
    {
     "name": "stderr",
     "output_type": "stream",
     "text": [
      "\r",
      "61469it [02:59, 357.62it/s]"
     ]
    },
    {
     "name": "stderr",
     "output_type": "stream",
     "text": [
      "\r",
      "61505it [02:59, 357.46it/s]"
     ]
    },
    {
     "name": "stderr",
     "output_type": "stream",
     "text": [
      "\r",
      "61543it [02:59, 362.50it/s]"
     ]
    },
    {
     "name": "stderr",
     "output_type": "stream",
     "text": [
      "\r",
      "61581it [02:59, 365.94it/s]"
     ]
    },
    {
     "name": "stderr",
     "output_type": "stream",
     "text": [
      "\r",
      "61618it [02:59, 357.30it/s]"
     ]
    },
    {
     "name": "stderr",
     "output_type": "stream",
     "text": [
      "\r",
      "61654it [02:59, 355.33it/s]"
     ]
    },
    {
     "name": "stderr",
     "output_type": "stream",
     "text": [
      "\r",
      "61690it [02:59, 355.38it/s]"
     ]
    },
    {
     "name": "stderr",
     "output_type": "stream",
     "text": [
      "\r",
      "61729it [02:59, 364.36it/s]"
     ]
    },
    {
     "name": "stderr",
     "output_type": "stream",
     "text": [
      "\r",
      "61767it [02:59, 366.68it/s]"
     ]
    },
    {
     "name": "stderr",
     "output_type": "stream",
     "text": [
      "\r",
      "61806it [02:59, 372.14it/s]"
     ]
    },
    {
     "name": "stderr",
     "output_type": "stream",
     "text": [
      "\r",
      "61844it [03:00, 367.91it/s]"
     ]
    },
    {
     "name": "stderr",
     "output_type": "stream",
     "text": [
      "\r",
      "61882it [03:00, 370.19it/s]"
     ]
    },
    {
     "name": "stderr",
     "output_type": "stream",
     "text": [
      "\r",
      "61922it [03:00, 376.91it/s]"
     ]
    },
    {
     "name": "stderr",
     "output_type": "stream",
     "text": [
      "\r",
      "61960it [03:00, 376.51it/s]"
     ]
    },
    {
     "name": "stderr",
     "output_type": "stream",
     "text": [
      "\r",
      "61998it [03:00, 377.23it/s]"
     ]
    },
    {
     "name": "stderr",
     "output_type": "stream",
     "text": [
      "\r",
      "62036it [03:00, 373.52it/s]"
     ]
    },
    {
     "name": "stderr",
     "output_type": "stream",
     "text": [
      "\r",
      "62074it [03:00, 372.81it/s]"
     ]
    },
    {
     "name": "stderr",
     "output_type": "stream",
     "text": [
      "\r",
      "62113it [03:00, 374.30it/s]"
     ]
    },
    {
     "name": "stderr",
     "output_type": "stream",
     "text": [
      "\r",
      "62151it [03:00, 366.41it/s]"
     ]
    },
    {
     "name": "stderr",
     "output_type": "stream",
     "text": [
      "\r",
      "62189it [03:01, 367.69it/s]"
     ]
    },
    {
     "name": "stderr",
     "output_type": "stream",
     "text": [
      "\r",
      "62226it [03:01, 351.01it/s]"
     ]
    },
    {
     "name": "stderr",
     "output_type": "stream",
     "text": [
      "\r",
      "62262it [03:01, 352.27it/s]"
     ]
    },
    {
     "name": "stderr",
     "output_type": "stream",
     "text": [
      "\r",
      "62299it [03:01, 356.63it/s]"
     ]
    },
    {
     "name": "stderr",
     "output_type": "stream",
     "text": [
      "\r",
      "62337it [03:01, 360.11it/s]"
     ]
    },
    {
     "name": "stderr",
     "output_type": "stream",
     "text": [
      "\r",
      "62375it [03:01, 365.37it/s]"
     ]
    },
    {
     "name": "stderr",
     "output_type": "stream",
     "text": [
      "\r",
      "62413it [03:01, 367.56it/s]"
     ]
    },
    {
     "name": "stderr",
     "output_type": "stream",
     "text": [
      "\r",
      "62452it [03:01, 369.46it/s]"
     ]
    },
    {
     "name": "stderr",
     "output_type": "stream",
     "text": [
      "\r",
      "62490it [03:01, 371.78it/s]"
     ]
    },
    {
     "name": "stderr",
     "output_type": "stream",
     "text": [
      "\r",
      "62528it [03:01, 365.74it/s]"
     ]
    },
    {
     "name": "stderr",
     "output_type": "stream",
     "text": [
      "\r",
      "62567it [03:02, 371.27it/s]"
     ]
    },
    {
     "name": "stderr",
     "output_type": "stream",
     "text": [
      "\r",
      "62605it [03:02, 360.10it/s]"
     ]
    },
    {
     "name": "stderr",
     "output_type": "stream",
     "text": [
      "\r",
      "62642it [03:02, 357.68it/s]"
     ]
    },
    {
     "name": "stderr",
     "output_type": "stream",
     "text": [
      "\r",
      "62680it [03:02, 362.81it/s]"
     ]
    },
    {
     "name": "stderr",
     "output_type": "stream",
     "text": [
      "\r",
      "62717it [03:02, 363.50it/s]"
     ]
    },
    {
     "name": "stderr",
     "output_type": "stream",
     "text": [
      "\r",
      "62755it [03:02, 365.36it/s]"
     ]
    },
    {
     "name": "stderr",
     "output_type": "stream",
     "text": [
      "\r",
      "62792it [03:02, 365.38it/s]"
     ]
    },
    {
     "name": "stderr",
     "output_type": "stream",
     "text": [
      "\r",
      "62829it [03:02, 366.64it/s]"
     ]
    },
    {
     "name": "stderr",
     "output_type": "stream",
     "text": [
      "\r",
      "62866it [03:02, 366.69it/s]"
     ]
    },
    {
     "name": "stderr",
     "output_type": "stream",
     "text": [
      "\r",
      "62903it [03:02, 366.49it/s]"
     ]
    },
    {
     "name": "stderr",
     "output_type": "stream",
     "text": [
      "\r",
      "62940it [03:03, 358.69it/s]"
     ]
    },
    {
     "name": "stderr",
     "output_type": "stream",
     "text": [
      "\r",
      "62978it [03:03, 362.57it/s]"
     ]
    },
    {
     "name": "stderr",
     "output_type": "stream",
     "text": [
      "\r",
      "63017it [03:03, 370.26it/s]"
     ]
    },
    {
     "name": "stderr",
     "output_type": "stream",
     "text": [
      "\r",
      "63055it [03:03, 369.04it/s]"
     ]
    },
    {
     "name": "stderr",
     "output_type": "stream",
     "text": [
      "\r",
      "63092it [03:03, 367.45it/s]"
     ]
    },
    {
     "name": "stderr",
     "output_type": "stream",
     "text": [
      "\r",
      "63129it [03:03, 367.49it/s]"
     ]
    },
    {
     "name": "stderr",
     "output_type": "stream",
     "text": [
      "\r",
      "63166it [03:03, 364.49it/s]"
     ]
    },
    {
     "name": "stderr",
     "output_type": "stream",
     "text": [
      "\r",
      "63203it [03:03, 361.48it/s]"
     ]
    },
    {
     "name": "stderr",
     "output_type": "stream",
     "text": [
      "\r",
      "63240it [03:03, 361.31it/s]"
     ]
    },
    {
     "name": "stderr",
     "output_type": "stream",
     "text": [
      "\r",
      "63277it [03:04, 363.37it/s]"
     ]
    },
    {
     "name": "stderr",
     "output_type": "stream",
     "text": [
      "\r",
      "63315it [03:04, 365.46it/s]"
     ]
    },
    {
     "name": "stderr",
     "output_type": "stream",
     "text": [
      "\r",
      "63352it [03:04, 360.88it/s]"
     ]
    },
    {
     "name": "stderr",
     "output_type": "stream",
     "text": [
      "\r",
      "63390it [03:04, 363.31it/s]"
     ]
    },
    {
     "name": "stderr",
     "output_type": "stream",
     "text": [
      "\r",
      "63427it [03:04, 358.90it/s]"
     ]
    },
    {
     "name": "stderr",
     "output_type": "stream",
     "text": [
      "\r",
      "63465it [03:04, 363.26it/s]"
     ]
    },
    {
     "name": "stderr",
     "output_type": "stream",
     "text": [
      "\r",
      "63504it [03:04, 369.38it/s]"
     ]
    },
    {
     "name": "stderr",
     "output_type": "stream",
     "text": [
      "\r",
      "63541it [03:04, 368.98it/s]"
     ]
    },
    {
     "name": "stderr",
     "output_type": "stream",
     "text": [
      "\r",
      "63579it [03:04, 371.23it/s]"
     ]
    },
    {
     "name": "stderr",
     "output_type": "stream",
     "text": [
      "\r",
      "63619it [03:04, 378.91it/s]"
     ]
    },
    {
     "name": "stderr",
     "output_type": "stream",
     "text": [
      "\r",
      "63657it [03:05, 376.86it/s]"
     ]
    },
    {
     "name": "stderr",
     "output_type": "stream",
     "text": [
      "\r",
      "63695it [03:05, 375.63it/s]"
     ]
    },
    {
     "name": "stderr",
     "output_type": "stream",
     "text": [
      "\r",
      "63733it [03:05, 373.18it/s]"
     ]
    },
    {
     "name": "stderr",
     "output_type": "stream",
     "text": [
      "\r",
      "63771it [03:05, 366.77it/s]"
     ]
    },
    {
     "name": "stderr",
     "output_type": "stream",
     "text": [
      "\r",
      "63809it [03:05, 370.57it/s]"
     ]
    },
    {
     "name": "stderr",
     "output_type": "stream",
     "text": [
      "\r",
      "63847it [03:05, 363.18it/s]"
     ]
    },
    {
     "name": "stderr",
     "output_type": "stream",
     "text": [
      "\r",
      "63884it [03:05, 364.25it/s]"
     ]
    },
    {
     "name": "stderr",
     "output_type": "stream",
     "text": [
      "\r",
      "63922it [03:05, 366.24it/s]"
     ]
    },
    {
     "name": "stderr",
     "output_type": "stream",
     "text": [
      "\r",
      "63959it [03:05, 363.22it/s]"
     ]
    },
    {
     "name": "stderr",
     "output_type": "stream",
     "text": [
      "\r",
      "63997it [03:05, 367.56it/s]"
     ]
    },
    {
     "name": "stderr",
     "output_type": "stream",
     "text": [
      "\r",
      "64035it [03:06, 370.50it/s]"
     ]
    },
    {
     "name": "stderr",
     "output_type": "stream",
     "text": [
      "\r",
      "64073it [03:06, 371.34it/s]"
     ]
    },
    {
     "name": "stderr",
     "output_type": "stream",
     "text": [
      "\r",
      "64112it [03:06, 375.75it/s]"
     ]
    },
    {
     "name": "stderr",
     "output_type": "stream",
     "text": [
      "\r",
      "64151it [03:06, 377.05it/s]"
     ]
    },
    {
     "name": "stderr",
     "output_type": "stream",
     "text": [
      "\r",
      "64189it [03:06, 377.30it/s]"
     ]
    },
    {
     "name": "stderr",
     "output_type": "stream",
     "text": [
      "\r",
      "64227it [03:06, 371.39it/s]"
     ]
    },
    {
     "name": "stderr",
     "output_type": "stream",
     "text": [
      "\r",
      "64267it [03:06, 377.44it/s]"
     ]
    },
    {
     "name": "stderr",
     "output_type": "stream",
     "text": [
      "\r",
      "64305it [03:06, 368.15it/s]"
     ]
    },
    {
     "name": "stderr",
     "output_type": "stream",
     "text": [
      "\r",
      "64342it [03:06, 366.12it/s]"
     ]
    },
    {
     "name": "stderr",
     "output_type": "stream",
     "text": [
      "\r",
      "64380it [03:07, 366.86it/s]"
     ]
    },
    {
     "name": "stderr",
     "output_type": "stream",
     "text": [
      "\r",
      "64418it [03:07, 370.39it/s]"
     ]
    },
    {
     "name": "stderr",
     "output_type": "stream",
     "text": [
      "\r",
      "64456it [03:07, 369.79it/s]"
     ]
    },
    {
     "name": "stderr",
     "output_type": "stream",
     "text": [
      "\r",
      "64493it [03:07, 368.78it/s]"
     ]
    },
    {
     "name": "stderr",
     "output_type": "stream",
     "text": [
      "\r",
      "64530it [03:07, 367.73it/s]"
     ]
    },
    {
     "name": "stderr",
     "output_type": "stream",
     "text": [
      "\r",
      "64568it [03:07, 369.43it/s]"
     ]
    },
    {
     "name": "stderr",
     "output_type": "stream",
     "text": [
      "\r",
      "64605it [03:07, 361.62it/s]"
     ]
    },
    {
     "name": "stderr",
     "output_type": "stream",
     "text": [
      "\r",
      "64642it [03:07, 358.49it/s]"
     ]
    },
    {
     "name": "stderr",
     "output_type": "stream",
     "text": [
      "\r",
      "64682it [03:07, 369.39it/s]"
     ]
    },
    {
     "name": "stderr",
     "output_type": "stream",
     "text": [
      "\r",
      "64721it [03:07, 370.64it/s]"
     ]
    },
    {
     "name": "stderr",
     "output_type": "stream",
     "text": [
      "\r",
      "64759it [03:08, 371.43it/s]"
     ]
    },
    {
     "name": "stderr",
     "output_type": "stream",
     "text": [
      "\r",
      "64797it [03:08, 366.98it/s]"
     ]
    },
    {
     "name": "stderr",
     "output_type": "stream",
     "text": [
      "\r",
      "64835it [03:08, 368.08it/s]"
     ]
    },
    {
     "name": "stderr",
     "output_type": "stream",
     "text": [
      "\r",
      "64872it [03:08, 365.82it/s]"
     ]
    },
    {
     "name": "stderr",
     "output_type": "stream",
     "text": [
      "\r",
      "64909it [03:08, 363.66it/s]"
     ]
    },
    {
     "name": "stderr",
     "output_type": "stream",
     "text": [
      "\r",
      "64947it [03:08, 366.29it/s]"
     ]
    },
    {
     "name": "stderr",
     "output_type": "stream",
     "text": [
      "\r",
      "64984it [03:08, 367.14it/s]"
     ]
    },
    {
     "name": "stderr",
     "output_type": "stream",
     "text": [
      "\r",
      "65021it [03:08, 360.97it/s]"
     ]
    },
    {
     "name": "stderr",
     "output_type": "stream",
     "text": [
      "\r",
      "65058it [03:08, 356.26it/s]"
     ]
    },
    {
     "name": "stderr",
     "output_type": "stream",
     "text": [
      "\r",
      "65096it [03:08, 361.81it/s]"
     ]
    },
    {
     "name": "stderr",
     "output_type": "stream",
     "text": [
      "\r",
      "65133it [03:09, 362.86it/s]"
     ]
    },
    {
     "name": "stderr",
     "output_type": "stream",
     "text": [
      "\r",
      "65172it [03:09, 368.05it/s]"
     ]
    },
    {
     "name": "stderr",
     "output_type": "stream",
     "text": [
      "\r",
      "65209it [03:09, 365.90it/s]"
     ]
    },
    {
     "name": "stderr",
     "output_type": "stream",
     "text": [
      "\r",
      "65246it [03:09, 365.92it/s]"
     ]
    },
    {
     "name": "stderr",
     "output_type": "stream",
     "text": [
      "\r",
      "65286it [03:09, 373.93it/s]"
     ]
    },
    {
     "name": "stderr",
     "output_type": "stream",
     "text": [
      "\r",
      "65324it [03:09, 375.62it/s]"
     ]
    },
    {
     "name": "stderr",
     "output_type": "stream",
     "text": [
      "\r",
      "65362it [03:09, 370.53it/s]"
     ]
    },
    {
     "name": "stderr",
     "output_type": "stream",
     "text": [
      "\r",
      "65400it [03:09, 361.32it/s]"
     ]
    },
    {
     "name": "stderr",
     "output_type": "stream",
     "text": [
      "\r",
      "65437it [03:09, 363.53it/s]"
     ]
    },
    {
     "name": "stderr",
     "output_type": "stream",
     "text": [
      "\r",
      "65475it [03:09, 364.99it/s]"
     ]
    },
    {
     "name": "stderr",
     "output_type": "stream",
     "text": [
      "\r",
      "65512it [03:10, 365.81it/s]"
     ]
    },
    {
     "name": "stderr",
     "output_type": "stream",
     "text": [
      "\r",
      "65549it [03:10, 365.33it/s]"
     ]
    },
    {
     "name": "stderr",
     "output_type": "stream",
     "text": [
      "\r",
      "65586it [03:10, 360.90it/s]"
     ]
    },
    {
     "name": "stderr",
     "output_type": "stream",
     "text": [
      "\r",
      "65623it [03:10, 360.50it/s]"
     ]
    },
    {
     "name": "stderr",
     "output_type": "stream",
     "text": [
      "\r",
      "65660it [03:10, 360.12it/s]"
     ]
    },
    {
     "name": "stderr",
     "output_type": "stream",
     "text": [
      "\r",
      "65697it [03:10, 362.39it/s]"
     ]
    },
    {
     "name": "stderr",
     "output_type": "stream",
     "text": [
      "\r",
      "65734it [03:10, 362.17it/s]"
     ]
    },
    {
     "name": "stderr",
     "output_type": "stream",
     "text": [
      "\r",
      "65771it [03:10, 361.35it/s]"
     ]
    },
    {
     "name": "stderr",
     "output_type": "stream",
     "text": [
      "\r",
      "65810it [03:10, 367.06it/s]"
     ]
    },
    {
     "name": "stderr",
     "output_type": "stream",
     "text": [
      "\r",
      "65848it [03:11, 368.71it/s]"
     ]
    },
    {
     "name": "stderr",
     "output_type": "stream",
     "text": [
      "\r",
      "65885it [03:11, 364.91it/s]"
     ]
    },
    {
     "name": "stderr",
     "output_type": "stream",
     "text": [
      "\r",
      "65922it [03:11, 362.02it/s]"
     ]
    },
    {
     "name": "stderr",
     "output_type": "stream",
     "text": [
      "\r",
      "65961it [03:11, 367.57it/s]"
     ]
    },
    {
     "name": "stderr",
     "output_type": "stream",
     "text": [
      "\r",
      "65998it [03:11, 359.24it/s]"
     ]
    },
    {
     "name": "stderr",
     "output_type": "stream",
     "text": [
      "\r",
      "66034it [03:11, 357.29it/s]"
     ]
    },
    {
     "name": "stderr",
     "output_type": "stream",
     "text": [
      "\r",
      "66070it [03:11, 356.00it/s]"
     ]
    },
    {
     "name": "stderr",
     "output_type": "stream",
     "text": [
      "\r",
      "66107it [03:11, 359.14it/s]"
     ]
    },
    {
     "name": "stderr",
     "output_type": "stream",
     "text": [
      "\r",
      "66144it [03:11, 360.49it/s]"
     ]
    },
    {
     "name": "stderr",
     "output_type": "stream",
     "text": [
      "\r",
      "66181it [03:11, 359.37it/s]"
     ]
    },
    {
     "name": "stderr",
     "output_type": "stream",
     "text": [
      "\r",
      "66217it [03:12, 356.91it/s]"
     ]
    },
    {
     "name": "stderr",
     "output_type": "stream",
     "text": [
      "\r",
      "66253it [03:12, 357.07it/s]"
     ]
    },
    {
     "name": "stderr",
     "output_type": "stream",
     "text": [
      "\r",
      "66289it [03:12, 353.93it/s]"
     ]
    },
    {
     "name": "stderr",
     "output_type": "stream",
     "text": [
      "\r",
      "66325it [03:12, 353.64it/s]"
     ]
    },
    {
     "name": "stderr",
     "output_type": "stream",
     "text": [
      "\r",
      "66363it [03:12, 360.13it/s]"
     ]
    },
    {
     "name": "stderr",
     "output_type": "stream",
     "text": [
      "\r",
      "66401it [03:12, 363.58it/s]"
     ]
    },
    {
     "name": "stderr",
     "output_type": "stream",
     "text": [
      "\r",
      "66438it [03:12, 362.01it/s]"
     ]
    },
    {
     "name": "stderr",
     "output_type": "stream",
     "text": [
      "\r",
      "66475it [03:12, 359.43it/s]"
     ]
    },
    {
     "name": "stderr",
     "output_type": "stream",
     "text": [
      "\r",
      "66511it [03:12, 357.15it/s]"
     ]
    },
    {
     "name": "stderr",
     "output_type": "stream",
     "text": [
      "\r",
      "66548it [03:12, 360.40it/s]"
     ]
    },
    {
     "name": "stderr",
     "output_type": "stream",
     "text": [
      "\r",
      "66585it [03:13, 359.68it/s]"
     ]
    },
    {
     "name": "stderr",
     "output_type": "stream",
     "text": [
      "\r",
      "66621it [03:13, 355.37it/s]"
     ]
    },
    {
     "name": "stderr",
     "output_type": "stream",
     "text": [
      "\r",
      "66657it [03:13, 355.40it/s]"
     ]
    },
    {
     "name": "stderr",
     "output_type": "stream",
     "text": [
      "\r",
      "66694it [03:13, 358.13it/s]"
     ]
    },
    {
     "name": "stderr",
     "output_type": "stream",
     "text": [
      "\r",
      "66730it [03:13, 352.89it/s]"
     ]
    },
    {
     "name": "stderr",
     "output_type": "stream",
     "text": [
      "\r",
      "66768it [03:13, 358.78it/s]"
     ]
    },
    {
     "name": "stderr",
     "output_type": "stream",
     "text": [
      "\r",
      "66804it [03:13, 352.06it/s]"
     ]
    },
    {
     "name": "stderr",
     "output_type": "stream",
     "text": [
      "\r",
      "66841it [03:13, 356.68it/s]"
     ]
    },
    {
     "name": "stderr",
     "output_type": "stream",
     "text": [
      "\r",
      "66877it [03:13, 356.79it/s]"
     ]
    },
    {
     "name": "stderr",
     "output_type": "stream",
     "text": [
      "\r",
      "66914it [03:13, 357.53it/s]"
     ]
    },
    {
     "name": "stderr",
     "output_type": "stream",
     "text": [
      "\r",
      "66952it [03:14, 362.49it/s]"
     ]
    },
    {
     "name": "stderr",
     "output_type": "stream",
     "text": [
      "\r",
      "66992it [03:14, 371.05it/s]"
     ]
    },
    {
     "name": "stderr",
     "output_type": "stream",
     "text": [
      "\r",
      "67030it [03:14, 368.13it/s]"
     ]
    },
    {
     "name": "stderr",
     "output_type": "stream",
     "text": [
      "\r",
      "67067it [03:14, 359.50it/s]"
     ]
    },
    {
     "name": "stderr",
     "output_type": "stream",
     "text": [
      "\r",
      "67104it [03:14, 361.84it/s]"
     ]
    },
    {
     "name": "stderr",
     "output_type": "stream",
     "text": [
      "\r",
      "67141it [03:14, 360.16it/s]"
     ]
    },
    {
     "name": "stderr",
     "output_type": "stream",
     "text": [
      "\r",
      "67178it [03:14, 359.60it/s]"
     ]
    },
    {
     "name": "stderr",
     "output_type": "stream",
     "text": [
      "\r",
      "67214it [03:14, 354.39it/s]"
     ]
    },
    {
     "name": "stderr",
     "output_type": "stream",
     "text": [
      "\r",
      "67250it [03:14, 347.32it/s]"
     ]
    },
    {
     "name": "stderr",
     "output_type": "stream",
     "text": [
      "\r",
      "67285it [03:15, 344.12it/s]"
     ]
    },
    {
     "name": "stderr",
     "output_type": "stream",
     "text": [
      "\r",
      "67320it [03:15, 340.65it/s]"
     ]
    },
    {
     "name": "stderr",
     "output_type": "stream",
     "text": [
      "\r",
      "67356it [03:15, 344.94it/s]"
     ]
    },
    {
     "name": "stderr",
     "output_type": "stream",
     "text": [
      "\r",
      "67391it [03:15, 346.02it/s]"
     ]
    },
    {
     "name": "stderr",
     "output_type": "stream",
     "text": [
      "\r",
      "67426it [03:15, 344.52it/s]"
     ]
    },
    {
     "name": "stderr",
     "output_type": "stream",
     "text": [
      "\r",
      "67462it [03:15, 348.72it/s]"
     ]
    },
    {
     "name": "stderr",
     "output_type": "stream",
     "text": [
      "\r",
      "67498it [03:15, 350.28it/s]"
     ]
    },
    {
     "name": "stderr",
     "output_type": "stream",
     "text": [
      "\r",
      "67534it [03:15, 347.68it/s]"
     ]
    },
    {
     "name": "stderr",
     "output_type": "stream",
     "text": [
      "\r",
      "67569it [03:15, 345.10it/s]"
     ]
    },
    {
     "name": "stderr",
     "output_type": "stream",
     "text": [
      "\r",
      "67604it [03:15, 342.48it/s]"
     ]
    },
    {
     "name": "stderr",
     "output_type": "stream",
     "text": [
      "\r",
      "67641it [03:16, 348.32it/s]"
     ]
    },
    {
     "name": "stderr",
     "output_type": "stream",
     "text": [
      "\r",
      "67676it [03:16, 347.36it/s]"
     ]
    },
    {
     "name": "stderr",
     "output_type": "stream",
     "text": [
      "\r",
      "67711it [03:16, 344.97it/s]"
     ]
    },
    {
     "name": "stderr",
     "output_type": "stream",
     "text": [
      "\r",
      "67746it [03:16, 346.43it/s]"
     ]
    },
    {
     "name": "stderr",
     "output_type": "stream",
     "text": [
      "\r",
      "67781it [03:16, 343.85it/s]"
     ]
    },
    {
     "name": "stderr",
     "output_type": "stream",
     "text": [
      "\r",
      "67816it [03:16, 345.50it/s]"
     ]
    },
    {
     "name": "stderr",
     "output_type": "stream",
     "text": [
      "\r",
      "67851it [03:16, 345.99it/s]"
     ]
    },
    {
     "name": "stderr",
     "output_type": "stream",
     "text": [
      "\r",
      "67886it [03:16, 346.85it/s]"
     ]
    },
    {
     "name": "stderr",
     "output_type": "stream",
     "text": [
      "\r",
      "67922it [03:16, 347.37it/s]"
     ]
    },
    {
     "name": "stderr",
     "output_type": "stream",
     "text": [
      "\r",
      "67957it [03:16, 340.24it/s]"
     ]
    },
    {
     "name": "stderr",
     "output_type": "stream",
     "text": [
      "\r",
      "67992it [03:17, 342.10it/s]"
     ]
    },
    {
     "name": "stderr",
     "output_type": "stream",
     "text": [
      "\r",
      "68028it [03:17, 347.16it/s]"
     ]
    },
    {
     "name": "stderr",
     "output_type": "stream",
     "text": [
      "\r",
      "68065it [03:17, 351.62it/s]"
     ]
    },
    {
     "name": "stderr",
     "output_type": "stream",
     "text": [
      "\r",
      "68101it [03:17, 353.72it/s]"
     ]
    },
    {
     "name": "stderr",
     "output_type": "stream",
     "text": [
      "\r",
      "68137it [03:17, 351.36it/s]"
     ]
    },
    {
     "name": "stderr",
     "output_type": "stream",
     "text": [
      "\r",
      "68173it [03:17, 347.35it/s]"
     ]
    },
    {
     "name": "stderr",
     "output_type": "stream",
     "text": [
      "\r",
      "68208it [03:17, 348.10it/s]"
     ]
    },
    {
     "name": "stderr",
     "output_type": "stream",
     "text": [
      "\r",
      "68243it [03:17, 347.85it/s]"
     ]
    },
    {
     "name": "stderr",
     "output_type": "stream",
     "text": [
      "\r",
      "68278it [03:17, 340.91it/s]"
     ]
    },
    {
     "name": "stderr",
     "output_type": "stream",
     "text": [
      "\r",
      "68313it [03:18, 343.17it/s]"
     ]
    },
    {
     "name": "stderr",
     "output_type": "stream",
     "text": [
      "\r",
      "68349it [03:18, 347.22it/s]"
     ]
    },
    {
     "name": "stderr",
     "output_type": "stream",
     "text": [
      "\r",
      "68384it [03:18, 345.88it/s]"
     ]
    },
    {
     "name": "stderr",
     "output_type": "stream",
     "text": [
      "\r",
      "68419it [03:18, 344.55it/s]"
     ]
    },
    {
     "name": "stderr",
     "output_type": "stream",
     "text": [
      "\r",
      "68454it [03:18, 345.34it/s]"
     ]
    },
    {
     "name": "stderr",
     "output_type": "stream",
     "text": [
      "\r",
      "68489it [03:18, 344.50it/s]"
     ]
    },
    {
     "name": "stderr",
     "output_type": "stream",
     "text": [
      "\r",
      "68524it [03:18, 345.50it/s]"
     ]
    },
    {
     "name": "stderr",
     "output_type": "stream",
     "text": [
      "\r",
      "68559it [03:18, 346.76it/s]"
     ]
    },
    {
     "name": "stderr",
     "output_type": "stream",
     "text": [
      "\r",
      "68596it [03:18, 352.97it/s]"
     ]
    },
    {
     "name": "stderr",
     "output_type": "stream",
     "text": [
      "\r",
      "68634it [03:18, 358.71it/s]"
     ]
    },
    {
     "name": "stderr",
     "output_type": "stream",
     "text": [
      "\r",
      "68670it [03:19, 354.35it/s]"
     ]
    },
    {
     "name": "stderr",
     "output_type": "stream",
     "text": [
      "\r",
      "68706it [03:19, 350.37it/s]"
     ]
    },
    {
     "name": "stderr",
     "output_type": "stream",
     "text": [
      "\r",
      "68742it [03:19, 351.94it/s]"
     ]
    },
    {
     "name": "stderr",
     "output_type": "stream",
     "text": [
      "\r",
      "68778it [03:19, 350.68it/s]"
     ]
    },
    {
     "name": "stderr",
     "output_type": "stream",
     "text": [
      "\r",
      "68815it [03:19, 353.74it/s]"
     ]
    },
    {
     "name": "stderr",
     "output_type": "stream",
     "text": [
      "\r",
      "68851it [03:19, 345.55it/s]"
     ]
    },
    {
     "name": "stderr",
     "output_type": "stream",
     "text": [
      "\r",
      "68886it [03:19, 344.72it/s]"
     ]
    },
    {
     "name": "stderr",
     "output_type": "stream",
     "text": [
      "\r",
      "68921it [03:19, 344.45it/s]"
     ]
    },
    {
     "name": "stderr",
     "output_type": "stream",
     "text": [
      "\r",
      "68956it [03:19, 343.63it/s]"
     ]
    },
    {
     "name": "stderr",
     "output_type": "stream",
     "text": [
      "\r",
      "68992it [03:19, 347.00it/s]"
     ]
    },
    {
     "name": "stderr",
     "output_type": "stream",
     "text": [
      "\r",
      "69027it [03:20, 342.44it/s]"
     ]
    },
    {
     "name": "stderr",
     "output_type": "stream",
     "text": [
      "\r",
      "69062it [03:20, 341.95it/s]"
     ]
    },
    {
     "name": "stderr",
     "output_type": "stream",
     "text": [
      "\r",
      "69099it [03:20, 348.20it/s]"
     ]
    },
    {
     "name": "stderr",
     "output_type": "stream",
     "text": [
      "\r",
      "69136it [03:20, 352.55it/s]"
     ]
    },
    {
     "name": "stderr",
     "output_type": "stream",
     "text": [
      "\r",
      "69172it [03:20, 352.12it/s]"
     ]
    },
    {
     "name": "stderr",
     "output_type": "stream",
     "text": [
      "\r",
      "69208it [03:20, 344.76it/s]"
     ]
    },
    {
     "name": "stderr",
     "output_type": "stream",
     "text": [
      "\r",
      "69243it [03:20, 344.31it/s]"
     ]
    },
    {
     "name": "stderr",
     "output_type": "stream",
     "text": [
      "\r",
      "69280it [03:20, 350.86it/s]"
     ]
    },
    {
     "name": "stderr",
     "output_type": "stream",
     "text": [
      "\r",
      "69316it [03:20, 346.79it/s]"
     ]
    },
    {
     "name": "stderr",
     "output_type": "stream",
     "text": [
      "\r",
      "69351it [03:20, 346.02it/s]"
     ]
    },
    {
     "name": "stderr",
     "output_type": "stream",
     "text": [
      "\r",
      "69387it [03:21, 347.13it/s]"
     ]
    },
    {
     "name": "stderr",
     "output_type": "stream",
     "text": [
      "\r",
      "69423it [03:21, 350.36it/s]"
     ]
    },
    {
     "name": "stderr",
     "output_type": "stream",
     "text": [
      "\r",
      "69459it [03:21, 351.18it/s]"
     ]
    },
    {
     "name": "stderr",
     "output_type": "stream",
     "text": [
      "\r",
      "69495it [03:21, 348.97it/s]"
     ]
    },
    {
     "name": "stderr",
     "output_type": "stream",
     "text": [
      "\r",
      "69530it [03:21, 343.48it/s]"
     ]
    },
    {
     "name": "stderr",
     "output_type": "stream",
     "text": [
      "\r",
      "69565it [03:21, 338.88it/s]"
     ]
    },
    {
     "name": "stderr",
     "output_type": "stream",
     "text": [
      "\r",
      "69599it [03:21, 332.16it/s]"
     ]
    },
    {
     "name": "stderr",
     "output_type": "stream",
     "text": [
      "\r",
      "69633it [03:21, 331.87it/s]"
     ]
    },
    {
     "name": "stderr",
     "output_type": "stream",
     "text": [
      "\r",
      "69668it [03:21, 334.22it/s]"
     ]
    },
    {
     "name": "stderr",
     "output_type": "stream",
     "text": [
      "\r",
      "69704it [03:22, 338.92it/s]"
     ]
    },
    {
     "name": "stderr",
     "output_type": "stream",
     "text": [
      "\r",
      "69739it [03:22, 340.83it/s]"
     ]
    },
    {
     "name": "stderr",
     "output_type": "stream",
     "text": [
      "\r",
      "69775it [03:22, 344.18it/s]"
     ]
    },
    {
     "name": "stderr",
     "output_type": "stream",
     "text": [
      "\r",
      "69810it [03:22, 340.56it/s]"
     ]
    },
    {
     "name": "stderr",
     "output_type": "stream",
     "text": [
      "\r",
      "69846it [03:22, 344.18it/s]"
     ]
    },
    {
     "name": "stderr",
     "output_type": "stream",
     "text": [
      "\r",
      "69881it [03:22, 342.47it/s]"
     ]
    },
    {
     "name": "stderr",
     "output_type": "stream",
     "text": [
      "\r",
      "69916it [03:22, 339.75it/s]"
     ]
    },
    {
     "name": "stderr",
     "output_type": "stream",
     "text": [
      "\r",
      "69951it [03:22, 340.08it/s]"
     ]
    },
    {
     "name": "stderr",
     "output_type": "stream",
     "text": [
      "\r",
      "69986it [03:22, 340.74it/s]"
     ]
    },
    {
     "name": "stderr",
     "output_type": "stream",
     "text": [
      "\r",
      "70021it [03:22, 338.74it/s]"
     ]
    },
    {
     "name": "stderr",
     "output_type": "stream",
     "text": [
      "\r",
      "70055it [03:23, 331.02it/s]"
     ]
    },
    {
     "name": "stderr",
     "output_type": "stream",
     "text": [
      "\r",
      "70090it [03:23, 334.68it/s]"
     ]
    },
    {
     "name": "stderr",
     "output_type": "stream",
     "text": [
      "\r",
      "70124it [03:23, 332.51it/s]"
     ]
    },
    {
     "name": "stderr",
     "output_type": "stream",
     "text": [
      "\r",
      "70158it [03:23, 330.44it/s]"
     ]
    },
    {
     "name": "stderr",
     "output_type": "stream",
     "text": [
      "\r",
      "70192it [03:23, 331.16it/s]"
     ]
    },
    {
     "name": "stderr",
     "output_type": "stream",
     "text": [
      "\r",
      "70227it [03:23, 335.28it/s]"
     ]
    },
    {
     "name": "stderr",
     "output_type": "stream",
     "text": [
      "\r",
      "70263it [03:23, 341.10it/s]"
     ]
    },
    {
     "name": "stderr",
     "output_type": "stream",
     "text": [
      "\r",
      "70298it [03:23, 339.86it/s]"
     ]
    },
    {
     "name": "stderr",
     "output_type": "stream",
     "text": [
      "\r",
      "70332it [03:23, 338.98it/s]"
     ]
    },
    {
     "name": "stderr",
     "output_type": "stream",
     "text": [
      "\r",
      "70367it [03:23, 339.39it/s]"
     ]
    },
    {
     "name": "stderr",
     "output_type": "stream",
     "text": [
      "\r",
      "70401it [03:24, 336.41it/s]"
     ]
    },
    {
     "name": "stderr",
     "output_type": "stream",
     "text": [
      "\r",
      "70436it [03:24, 340.40it/s]"
     ]
    },
    {
     "name": "stderr",
     "output_type": "stream",
     "text": [
      "\r",
      "70471it [03:24, 335.17it/s]"
     ]
    },
    {
     "name": "stderr",
     "output_type": "stream",
     "text": [
      "\r",
      "70505it [03:24, 336.57it/s]"
     ]
    },
    {
     "name": "stderr",
     "output_type": "stream",
     "text": [
      "\r",
      "70540it [03:24, 337.93it/s]"
     ]
    },
    {
     "name": "stderr",
     "output_type": "stream",
     "text": [
      "\r",
      "70574it [03:24, 334.85it/s]"
     ]
    },
    {
     "name": "stderr",
     "output_type": "stream",
     "text": [
      "\r",
      "70608it [03:24, 330.62it/s]"
     ]
    },
    {
     "name": "stderr",
     "output_type": "stream",
     "text": [
      "\r",
      "70643it [03:24, 333.65it/s]"
     ]
    },
    {
     "name": "stderr",
     "output_type": "stream",
     "text": [
      "\r",
      "70677it [03:24, 330.30it/s]"
     ]
    },
    {
     "name": "stderr",
     "output_type": "stream",
     "text": [
      "\r",
      "70711it [03:25, 331.29it/s]"
     ]
    },
    {
     "name": "stderr",
     "output_type": "stream",
     "text": [
      "\r",
      "70746it [03:25, 335.66it/s]"
     ]
    },
    {
     "name": "stderr",
     "output_type": "stream",
     "text": [
      "\r",
      "70781it [03:25, 336.68it/s]"
     ]
    },
    {
     "name": "stderr",
     "output_type": "stream",
     "text": [
      "\r",
      "70815it [03:25, 333.59it/s]"
     ]
    },
    {
     "name": "stderr",
     "output_type": "stream",
     "text": [
      "\r",
      "70849it [03:25, 327.73it/s]"
     ]
    },
    {
     "name": "stderr",
     "output_type": "stream",
     "text": [
      "\r",
      "70884it [03:25, 332.48it/s]"
     ]
    },
    {
     "name": "stderr",
     "output_type": "stream",
     "text": [
      "\r",
      "70918it [03:25, 324.39it/s]"
     ]
    },
    {
     "name": "stderr",
     "output_type": "stream",
     "text": [
      "\r",
      "70951it [03:25, 322.35it/s]"
     ]
    },
    {
     "name": "stderr",
     "output_type": "stream",
     "text": [
      "\r",
      "70985it [03:25, 325.02it/s]"
     ]
    },
    {
     "name": "stderr",
     "output_type": "stream",
     "text": [
      "\r",
      "71019it [03:25, 328.79it/s]"
     ]
    },
    {
     "name": "stderr",
     "output_type": "stream",
     "text": [
      "\r",
      "71052it [03:26, 327.47it/s]"
     ]
    },
    {
     "name": "stderr",
     "output_type": "stream",
     "text": [
      "\r",
      "71085it [03:26, 326.11it/s]"
     ]
    },
    {
     "name": "stderr",
     "output_type": "stream",
     "text": [
      "\r",
      "71118it [03:26, 325.52it/s]"
     ]
    },
    {
     "name": "stderr",
     "output_type": "stream",
     "text": [
      "\r",
      "71151it [03:26, 326.38it/s]"
     ]
    },
    {
     "name": "stderr",
     "output_type": "stream",
     "text": [
      "\r",
      "71184it [03:26, 327.38it/s]"
     ]
    },
    {
     "name": "stderr",
     "output_type": "stream",
     "text": [
      "\r",
      "71217it [03:26, 325.75it/s]"
     ]
    },
    {
     "name": "stderr",
     "output_type": "stream",
     "text": [
      "\r",
      "71250it [03:26, 324.41it/s]"
     ]
    },
    {
     "name": "stderr",
     "output_type": "stream",
     "text": [
      "\r",
      "71283it [03:26, 323.08it/s]"
     ]
    },
    {
     "name": "stderr",
     "output_type": "stream",
     "text": [
      "\r",
      "71317it [03:26, 327.45it/s]"
     ]
    },
    {
     "name": "stderr",
     "output_type": "stream",
     "text": [
      "\r",
      "71351it [03:26, 327.82it/s]"
     ]
    },
    {
     "name": "stderr",
     "output_type": "stream",
     "text": [
      "\r",
      "71385it [03:27, 331.20it/s]"
     ]
    },
    {
     "name": "stderr",
     "output_type": "stream",
     "text": [
      "\r",
      "71419it [03:27, 325.48it/s]"
     ]
    },
    {
     "name": "stderr",
     "output_type": "stream",
     "text": [
      "\r",
      "71452it [03:27, 325.86it/s]"
     ]
    },
    {
     "name": "stderr",
     "output_type": "stream",
     "text": [
      "\r",
      "71485it [03:27, 325.52it/s]"
     ]
    },
    {
     "name": "stderr",
     "output_type": "stream",
     "text": [
      "\r",
      "71518it [03:27, 326.13it/s]"
     ]
    },
    {
     "name": "stderr",
     "output_type": "stream",
     "text": [
      "\r",
      "71551it [03:27, 323.15it/s]"
     ]
    },
    {
     "name": "stderr",
     "output_type": "stream",
     "text": [
      "\r",
      "71584it [03:27, 322.84it/s]"
     ]
    },
    {
     "name": "stderr",
     "output_type": "stream",
     "text": [
      "\r",
      "71617it [03:27, 324.39it/s]"
     ]
    },
    {
     "name": "stderr",
     "output_type": "stream",
     "text": [
      "\r",
      "71650it [03:27, 320.60it/s]"
     ]
    },
    {
     "name": "stderr",
     "output_type": "stream",
     "text": [
      "\r",
      "71683it [03:28, 318.68it/s]"
     ]
    },
    {
     "name": "stderr",
     "output_type": "stream",
     "text": [
      "\r",
      "71717it [03:28, 322.67it/s]"
     ]
    },
    {
     "name": "stderr",
     "output_type": "stream",
     "text": [
      "\r",
      "71750it [03:28, 320.57it/s]"
     ]
    },
    {
     "name": "stderr",
     "output_type": "stream",
     "text": [
      "\r",
      "71783it [03:28, 323.13it/s]"
     ]
    },
    {
     "name": "stderr",
     "output_type": "stream",
     "text": [
      "\r",
      "71817it [03:28, 326.32it/s]"
     ]
    },
    {
     "name": "stderr",
     "output_type": "stream",
     "text": [
      "\r",
      "71854it [03:28, 337.66it/s]"
     ]
    },
    {
     "name": "stderr",
     "output_type": "stream",
     "text": [
      "\r",
      "71888it [03:28, 331.99it/s]"
     ]
    },
    {
     "name": "stderr",
     "output_type": "stream",
     "text": [
      "\r",
      "71922it [03:28, 327.95it/s]"
     ]
    },
    {
     "name": "stderr",
     "output_type": "stream",
     "text": [
      "\r",
      "71955it [03:28, 328.14it/s]"
     ]
    },
    {
     "name": "stderr",
     "output_type": "stream",
     "text": [
      "\r",
      "71988it [03:28, 325.08it/s]"
     ]
    },
    {
     "name": "stderr",
     "output_type": "stream",
     "text": [
      "\r",
      "72023it [03:29, 330.17it/s]"
     ]
    },
    {
     "name": "stderr",
     "output_type": "stream",
     "text": [
      "\r",
      "72057it [03:29, 325.39it/s]"
     ]
    },
    {
     "name": "stderr",
     "output_type": "stream",
     "text": [
      "\r",
      "72090it [03:29, 324.41it/s]"
     ]
    },
    {
     "name": "stderr",
     "output_type": "stream",
     "text": [
      "\r",
      "72123it [03:29, 325.74it/s]"
     ]
    },
    {
     "name": "stderr",
     "output_type": "stream",
     "text": [
      "\r",
      "72156it [03:29, 323.04it/s]"
     ]
    },
    {
     "name": "stderr",
     "output_type": "stream",
     "text": [
      "\r",
      "72189it [03:29, 321.62it/s]"
     ]
    },
    {
     "name": "stderr",
     "output_type": "stream",
     "text": [
      "\r",
      "72222it [03:29, 323.91it/s]"
     ]
    },
    {
     "name": "stderr",
     "output_type": "stream",
     "text": [
      "\r",
      "72255it [03:29, 323.26it/s]"
     ]
    },
    {
     "name": "stderr",
     "output_type": "stream",
     "text": [
      "\r",
      "72289it [03:29, 326.81it/s]"
     ]
    },
    {
     "name": "stderr",
     "output_type": "stream",
     "text": [
      "\r",
      "72324it [03:29, 331.55it/s]"
     ]
    },
    {
     "name": "stderr",
     "output_type": "stream",
     "text": [
      "\r",
      "72359it [03:30, 335.53it/s]"
     ]
    },
    {
     "name": "stderr",
     "output_type": "stream",
     "text": [
      "\r",
      "72393it [03:30, 336.08it/s]"
     ]
    },
    {
     "name": "stderr",
     "output_type": "stream",
     "text": [
      "\r",
      "72427it [03:30, 332.82it/s]"
     ]
    },
    {
     "name": "stderr",
     "output_type": "stream",
     "text": [
      "\r",
      "72461it [03:30, 324.31it/s]"
     ]
    },
    {
     "name": "stderr",
     "output_type": "stream",
     "text": [
      "\r",
      "72495it [03:30, 327.46it/s]"
     ]
    },
    {
     "name": "stderr",
     "output_type": "stream",
     "text": [
      "\r",
      "72528it [03:30, 324.56it/s]"
     ]
    },
    {
     "name": "stderr",
     "output_type": "stream",
     "text": [
      "\r",
      "72561it [03:30, 322.16it/s]"
     ]
    },
    {
     "name": "stderr",
     "output_type": "stream",
     "text": [
      "\r",
      "72594it [03:30, 323.73it/s]"
     ]
    },
    {
     "name": "stderr",
     "output_type": "stream",
     "text": [
      "\r",
      "72628it [03:30, 326.55it/s]"
     ]
    },
    {
     "name": "stderr",
     "output_type": "stream",
     "text": [
      "\r",
      "72661it [03:30, 326.89it/s]"
     ]
    },
    {
     "name": "stderr",
     "output_type": "stream",
     "text": [
      "\r",
      "72696it [03:31, 332.65it/s]"
     ]
    },
    {
     "name": "stderr",
     "output_type": "stream",
     "text": [
      "\r",
      "72730it [03:31, 329.60it/s]"
     ]
    },
    {
     "name": "stderr",
     "output_type": "stream",
     "text": [
      "\r",
      "72763it [03:31, 322.24it/s]"
     ]
    },
    {
     "name": "stderr",
     "output_type": "stream",
     "text": [
      "\r",
      "72797it [03:31, 324.26it/s]"
     ]
    },
    {
     "name": "stderr",
     "output_type": "stream",
     "text": [
      "\r",
      "72830it [03:31, 323.78it/s]"
     ]
    },
    {
     "name": "stderr",
     "output_type": "stream",
     "text": [
      "\r",
      "72864it [03:31, 325.72it/s]"
     ]
    },
    {
     "name": "stderr",
     "output_type": "stream",
     "text": [
      "\r",
      "72899it [03:31, 330.33it/s]"
     ]
    },
    {
     "name": "stderr",
     "output_type": "stream",
     "text": [
      "\r",
      "72933it [03:31, 332.27it/s]"
     ]
    },
    {
     "name": "stderr",
     "output_type": "stream",
     "text": [
      "\r",
      "72967it [03:31, 330.85it/s]"
     ]
    },
    {
     "name": "stderr",
     "output_type": "stream",
     "text": [
      "\r",
      "73001it [03:32, 332.31it/s]"
     ]
    },
    {
     "name": "stderr",
     "output_type": "stream",
     "text": [
      "\r",
      "73035it [03:32, 323.98it/s]"
     ]
    },
    {
     "name": "stderr",
     "output_type": "stream",
     "text": [
      "\r",
      "73068it [03:32, 323.80it/s]"
     ]
    },
    {
     "name": "stderr",
     "output_type": "stream",
     "text": [
      "\r",
      "73102it [03:32, 325.95it/s]"
     ]
    },
    {
     "name": "stderr",
     "output_type": "stream",
     "text": [
      "\r",
      "73135it [03:32, 321.63it/s]"
     ]
    },
    {
     "name": "stderr",
     "output_type": "stream",
     "text": [
      "\r",
      "73168it [03:32, 322.03it/s]"
     ]
    },
    {
     "name": "stderr",
     "output_type": "stream",
     "text": [
      "\r",
      "73201it [03:32, 323.23it/s]"
     ]
    },
    {
     "name": "stderr",
     "output_type": "stream",
     "text": [
      "\r",
      "73234it [03:32, 325.07it/s]"
     ]
    },
    {
     "name": "stderr",
     "output_type": "stream",
     "text": [
      "\r",
      "73267it [03:32, 318.24it/s]"
     ]
    },
    {
     "name": "stderr",
     "output_type": "stream",
     "text": [
      "\r",
      "73301it [03:32, 323.68it/s]"
     ]
    },
    {
     "name": "stderr",
     "output_type": "stream",
     "text": [
      "\r",
      "73334it [03:33, 317.92it/s]"
     ]
    },
    {
     "name": "stderr",
     "output_type": "stream",
     "text": [
      "\r",
      "73368it [03:33, 321.74it/s]"
     ]
    },
    {
     "name": "stderr",
     "output_type": "stream",
     "text": [
      "\r",
      "73404it [03:33, 330.60it/s]"
     ]
    },
    {
     "name": "stderr",
     "output_type": "stream",
     "text": [
      "\r",
      "73438it [03:33, 332.51it/s]"
     ]
    },
    {
     "name": "stderr",
     "output_type": "stream",
     "text": [
      "\r",
      "73472it [03:33, 334.46it/s]"
     ]
    },
    {
     "name": "stderr",
     "output_type": "stream",
     "text": [
      "\r",
      "73506it [03:33, 330.14it/s]"
     ]
    },
    {
     "name": "stderr",
     "output_type": "stream",
     "text": [
      "\r",
      "73540it [03:33, 331.48it/s]"
     ]
    },
    {
     "name": "stderr",
     "output_type": "stream",
     "text": [
      "\r",
      "73574it [03:33, 322.23it/s]"
     ]
    },
    {
     "name": "stderr",
     "output_type": "stream",
     "text": [
      "\r",
      "73608it [03:33, 326.36it/s]"
     ]
    },
    {
     "name": "stderr",
     "output_type": "stream",
     "text": [
      "\r",
      "73641it [03:34, 323.01it/s]"
     ]
    },
    {
     "name": "stderr",
     "output_type": "stream",
     "text": [
      "\r",
      "73675it [03:34, 325.60it/s]"
     ]
    },
    {
     "name": "stderr",
     "output_type": "stream",
     "text": [
      "\r",
      "73708it [03:34, 325.77it/s]"
     ]
    },
    {
     "name": "stderr",
     "output_type": "stream",
     "text": [
      "\r",
      "73741it [03:34, 323.50it/s]"
     ]
    },
    {
     "name": "stderr",
     "output_type": "stream",
     "text": [
      "\r",
      "73774it [03:34, 324.74it/s]"
     ]
    },
    {
     "name": "stderr",
     "output_type": "stream",
     "text": [
      "\r",
      "73808it [03:34, 327.89it/s]"
     ]
    },
    {
     "name": "stderr",
     "output_type": "stream",
     "text": [
      "\r",
      "73841it [03:34, 328.06it/s]"
     ]
    },
    {
     "name": "stderr",
     "output_type": "stream",
     "text": [
      "\r",
      "73875it [03:34, 330.28it/s]"
     ]
    },
    {
     "name": "stderr",
     "output_type": "stream",
     "text": [
      "\r",
      "73909it [03:34, 329.91it/s]"
     ]
    },
    {
     "name": "stderr",
     "output_type": "stream",
     "text": [
      "\r",
      "73943it [03:34, 331.62it/s]"
     ]
    },
    {
     "name": "stderr",
     "output_type": "stream",
     "text": [
      "\r",
      "73977it [03:35, 332.99it/s]"
     ]
    },
    {
     "name": "stderr",
     "output_type": "stream",
     "text": [
      "\r",
      "74011it [03:35, 329.33it/s]"
     ]
    },
    {
     "name": "stderr",
     "output_type": "stream",
     "text": [
      "\r",
      "74044it [03:35, 328.11it/s]"
     ]
    },
    {
     "name": "stderr",
     "output_type": "stream",
     "text": [
      "\r",
      "74079it [03:35, 332.50it/s]"
     ]
    },
    {
     "name": "stderr",
     "output_type": "stream",
     "text": [
      "\r",
      "74113it [03:35, 327.56it/s]"
     ]
    },
    {
     "name": "stderr",
     "output_type": "stream",
     "text": [
      "\r",
      "74146it [03:35, 326.08it/s]"
     ]
    },
    {
     "name": "stderr",
     "output_type": "stream",
     "text": [
      "\r",
      "74180it [03:35, 329.71it/s]"
     ]
    },
    {
     "name": "stderr",
     "output_type": "stream",
     "text": [
      "\r",
      "74213it [03:35, 329.39it/s]"
     ]
    },
    {
     "name": "stderr",
     "output_type": "stream",
     "text": [
      "\r",
      "74246it [03:35, 325.45it/s]"
     ]
    },
    {
     "name": "stderr",
     "output_type": "stream",
     "text": [
      "\r",
      "74279it [03:35, 326.37it/s]"
     ]
    },
    {
     "name": "stderr",
     "output_type": "stream",
     "text": [
      "\r",
      "74312it [03:36, 327.37it/s]"
     ]
    },
    {
     "name": "stderr",
     "output_type": "stream",
     "text": [
      "\r",
      "74346it [03:36, 329.49it/s]"
     ]
    },
    {
     "name": "stderr",
     "output_type": "stream",
     "text": [
      "\r",
      "74379it [03:36, 327.23it/s]"
     ]
    },
    {
     "name": "stderr",
     "output_type": "stream",
     "text": [
      "\r",
      "74412it [03:36, 318.95it/s]"
     ]
    },
    {
     "name": "stderr",
     "output_type": "stream",
     "text": [
      "\r",
      "74445it [03:36, 322.07it/s]"
     ]
    },
    {
     "name": "stderr",
     "output_type": "stream",
     "text": [
      "\r",
      "74480it [03:36, 329.11it/s]"
     ]
    },
    {
     "name": "stderr",
     "output_type": "stream",
     "text": [
      "\r",
      "74514it [03:36, 331.95it/s]"
     ]
    },
    {
     "name": "stderr",
     "output_type": "stream",
     "text": [
      "\r",
      "74548it [03:36, 328.12it/s]"
     ]
    },
    {
     "name": "stderr",
     "output_type": "stream",
     "text": [
      "\r",
      "74581it [03:36, 326.46it/s]"
     ]
    },
    {
     "name": "stderr",
     "output_type": "stream",
     "text": [
      "\r",
      "74614it [03:36, 325.78it/s]"
     ]
    },
    {
     "name": "stderr",
     "output_type": "stream",
     "text": [
      "\r",
      "74647it [03:37, 325.89it/s]"
     ]
    },
    {
     "name": "stderr",
     "output_type": "stream",
     "text": [
      "\r",
      "74681it [03:37, 328.12it/s]"
     ]
    },
    {
     "name": "stderr",
     "output_type": "stream",
     "text": [
      "\r",
      "74714it [03:37, 322.86it/s]"
     ]
    },
    {
     "name": "stderr",
     "output_type": "stream",
     "text": [
      "\r",
      "74747it [03:37, 323.36it/s]"
     ]
    },
    {
     "name": "stderr",
     "output_type": "stream",
     "text": [
      "\r",
      "74781it [03:37, 327.18it/s]"
     ]
    },
    {
     "name": "stderr",
     "output_type": "stream",
     "text": [
      "\r",
      "74814it [03:37, 326.06it/s]"
     ]
    },
    {
     "name": "stderr",
     "output_type": "stream",
     "text": [
      "\r",
      "74847it [03:37, 323.26it/s]"
     ]
    },
    {
     "name": "stderr",
     "output_type": "stream",
     "text": [
      "\r",
      "74881it [03:37, 325.19it/s]"
     ]
    },
    {
     "name": "stderr",
     "output_type": "stream",
     "text": [
      "\r",
      "74914it [03:37, 319.44it/s]"
     ]
    },
    {
     "name": "stderr",
     "output_type": "stream",
     "text": [
      "\r",
      "74949it [03:38, 326.69it/s]"
     ]
    },
    {
     "name": "stderr",
     "output_type": "stream",
     "text": [
      "\r",
      "74983it [03:38, 329.83it/s]"
     ]
    },
    {
     "name": "stderr",
     "output_type": "stream",
     "text": [
      "\r",
      "75017it [03:38, 328.10it/s]"
     ]
    },
    {
     "name": "stderr",
     "output_type": "stream",
     "text": [
      "\r",
      "75052it [03:38, 330.68it/s]"
     ]
    },
    {
     "name": "stderr",
     "output_type": "stream",
     "text": [
      "\r",
      "75086it [03:38, 330.31it/s]"
     ]
    },
    {
     "name": "stderr",
     "output_type": "stream",
     "text": [
      "\r",
      "75121it [03:38, 334.99it/s]"
     ]
    },
    {
     "name": "stderr",
     "output_type": "stream",
     "text": [
      "\r",
      "75155it [03:38, 328.80it/s]"
     ]
    },
    {
     "name": "stderr",
     "output_type": "stream",
     "text": [
      "\r",
      "75188it [03:38, 324.13it/s]"
     ]
    },
    {
     "name": "stderr",
     "output_type": "stream",
     "text": [
      "\r",
      "75221it [03:38, 324.56it/s]"
     ]
    },
    {
     "name": "stderr",
     "output_type": "stream",
     "text": [
      "\r",
      "75254it [03:38, 318.44it/s]"
     ]
    },
    {
     "name": "stderr",
     "output_type": "stream",
     "text": [
      "\r",
      "75287it [03:39, 321.33it/s]"
     ]
    },
    {
     "name": "stderr",
     "output_type": "stream",
     "text": [
      "\r",
      "75322it [03:39, 327.67it/s]"
     ]
    },
    {
     "name": "stderr",
     "output_type": "stream",
     "text": [
      "\r",
      "75355it [03:39, 325.00it/s]"
     ]
    },
    {
     "name": "stderr",
     "output_type": "stream",
     "text": [
      "\r",
      "75389it [03:39, 328.44it/s]"
     ]
    },
    {
     "name": "stderr",
     "output_type": "stream",
     "text": [
      "\r",
      "75424it [03:39, 334.36it/s]"
     ]
    },
    {
     "name": "stderr",
     "output_type": "stream",
     "text": [
      "\r",
      "75459it [03:39, 337.20it/s]"
     ]
    },
    {
     "name": "stderr",
     "output_type": "stream",
     "text": [
      "\r",
      "75493it [03:39, 337.23it/s]"
     ]
    },
    {
     "name": "stderr",
     "output_type": "stream",
     "text": [
      "\r",
      "75527it [03:39, 332.01it/s]"
     ]
    },
    {
     "name": "stderr",
     "output_type": "stream",
     "text": [
      "\r",
      "75562it [03:39, 336.18it/s]"
     ]
    },
    {
     "name": "stderr",
     "output_type": "stream",
     "text": [
      "\r",
      "75596it [03:39, 330.60it/s]"
     ]
    },
    {
     "name": "stderr",
     "output_type": "stream",
     "text": [
      "\r",
      "75630it [03:40, 324.05it/s]"
     ]
    },
    {
     "name": "stderr",
     "output_type": "stream",
     "text": [
      "\r",
      "75663it [03:40, 322.64it/s]"
     ]
    },
    {
     "name": "stderr",
     "output_type": "stream",
     "text": [
      "\r",
      "75697it [03:40, 325.38it/s]"
     ]
    },
    {
     "name": "stderr",
     "output_type": "stream",
     "text": [
      "\r",
      "75731it [03:40, 327.64it/s]"
     ]
    },
    {
     "name": "stderr",
     "output_type": "stream",
     "text": [
      "\r",
      "75764it [03:40, 327.72it/s]"
     ]
    },
    {
     "name": "stderr",
     "output_type": "stream",
     "text": [
      "\r",
      "75797it [03:40, 327.26it/s]"
     ]
    },
    {
     "name": "stderr",
     "output_type": "stream",
     "text": [
      "\r",
      "75830it [03:40, 326.84it/s]"
     ]
    },
    {
     "name": "stderr",
     "output_type": "stream",
     "text": [
      "\r",
      "75864it [03:40, 328.72it/s]"
     ]
    },
    {
     "name": "stderr",
     "output_type": "stream",
     "text": [
      "\r",
      "75897it [03:40, 327.45it/s]"
     ]
    },
    {
     "name": "stderr",
     "output_type": "stream",
     "text": [
      "\r",
      "75930it [03:40, 324.84it/s]"
     ]
    },
    {
     "name": "stderr",
     "output_type": "stream",
     "text": [
      "\r",
      "75963it [03:41, 324.41it/s]"
     ]
    },
    {
     "name": "stderr",
     "output_type": "stream",
     "text": [
      "\r",
      "75998it [03:41, 331.73it/s]"
     ]
    },
    {
     "name": "stderr",
     "output_type": "stream",
     "text": [
      "\r",
      "76033it [03:41, 333.74it/s]"
     ]
    },
    {
     "name": "stderr",
     "output_type": "stream",
     "text": [
      "\r",
      "76067it [03:41, 334.19it/s]"
     ]
    },
    {
     "name": "stderr",
     "output_type": "stream",
     "text": [
      "\r",
      "76101it [03:41, 324.42it/s]"
     ]
    },
    {
     "name": "stderr",
     "output_type": "stream",
     "text": [
      "\r",
      "76135it [03:41, 326.16it/s]"
     ]
    },
    {
     "name": "stderr",
     "output_type": "stream",
     "text": [
      "\r",
      "76168it [03:41, 327.16it/s]"
     ]
    },
    {
     "name": "stderr",
     "output_type": "stream",
     "text": [
      "\r",
      "76201it [03:41, 325.02it/s]"
     ]
    },
    {
     "name": "stderr",
     "output_type": "stream",
     "text": [
      "\r",
      "76234it [03:41, 322.42it/s]"
     ]
    },
    {
     "name": "stderr",
     "output_type": "stream",
     "text": [
      "\r",
      "76267it [03:42, 323.18it/s]"
     ]
    },
    {
     "name": "stderr",
     "output_type": "stream",
     "text": [
      "\r",
      "76301it [03:42, 326.30it/s]"
     ]
    },
    {
     "name": "stderr",
     "output_type": "stream",
     "text": [
      "\r",
      "76334it [03:42, 320.65it/s]"
     ]
    },
    {
     "name": "stderr",
     "output_type": "stream",
     "text": [
      "\r",
      "76368it [03:42, 323.69it/s]"
     ]
    },
    {
     "name": "stderr",
     "output_type": "stream",
     "text": [
      "\r",
      "76401it [03:42, 323.77it/s]"
     ]
    },
    {
     "name": "stderr",
     "output_type": "stream",
     "text": [
      "\r",
      "76434it [03:42, 324.05it/s]"
     ]
    },
    {
     "name": "stderr",
     "output_type": "stream",
     "text": [
      "\r",
      "76468it [03:42, 328.35it/s]"
     ]
    },
    {
     "name": "stderr",
     "output_type": "stream",
     "text": [
      "\r",
      "76502it [03:42, 330.68it/s]"
     ]
    },
    {
     "name": "stderr",
     "output_type": "stream",
     "text": [
      "\r",
      "76537it [03:42, 335.88it/s]"
     ]
    },
    {
     "name": "stderr",
     "output_type": "stream",
     "text": [
      "\r",
      "76571it [03:42, 334.92it/s]"
     ]
    },
    {
     "name": "stderr",
     "output_type": "stream",
     "text": [
      "\r",
      "76605it [03:43, 332.48it/s]"
     ]
    },
    {
     "name": "stderr",
     "output_type": "stream",
     "text": [
      "\r",
      "76639it [03:43, 330.14it/s]"
     ]
    },
    {
     "name": "stderr",
     "output_type": "stream",
     "text": [
      "\r",
      "76673it [03:43, 327.13it/s]"
     ]
    },
    {
     "name": "stderr",
     "output_type": "stream",
     "text": [
      "\r",
      "76707it [03:43, 329.97it/s]"
     ]
    },
    {
     "name": "stderr",
     "output_type": "stream",
     "text": [
      "\r",
      "76742it [03:43, 334.61it/s]"
     ]
    },
    {
     "name": "stderr",
     "output_type": "stream",
     "text": [
      "\r",
      "76777it [03:43, 336.94it/s]"
     ]
    },
    {
     "name": "stderr",
     "output_type": "stream",
     "text": [
      "\r",
      "76812it [03:43, 339.59it/s]"
     ]
    },
    {
     "name": "stderr",
     "output_type": "stream",
     "text": [
      "\r",
      "76847it [03:43, 338.81it/s]"
     ]
    },
    {
     "name": "stderr",
     "output_type": "stream",
     "text": [
      "\r",
      "76882it [03:43, 340.61it/s]"
     ]
    },
    {
     "name": "stderr",
     "output_type": "stream",
     "text": [
      "\r",
      "76917it [03:43, 337.69it/s]"
     ]
    },
    {
     "name": "stderr",
     "output_type": "stream",
     "text": [
      "\r",
      "76951it [03:44, 333.63it/s]"
     ]
    },
    {
     "name": "stderr",
     "output_type": "stream",
     "text": [
      "\r",
      "76985it [03:44, 330.49it/s]"
     ]
    },
    {
     "name": "stderr",
     "output_type": "stream",
     "text": [
      "\r",
      "77022it [03:44, 340.16it/s]"
     ]
    },
    {
     "name": "stderr",
     "output_type": "stream",
     "text": [
      "\r",
      "77057it [03:44, 337.74it/s]"
     ]
    },
    {
     "name": "stderr",
     "output_type": "stream",
     "text": [
      "\r",
      "77091it [03:44, 336.25it/s]"
     ]
    },
    {
     "name": "stderr",
     "output_type": "stream",
     "text": [
      "\r",
      "77126it [03:44, 335.95it/s]"
     ]
    },
    {
     "name": "stderr",
     "output_type": "stream",
     "text": [
      "\r",
      "77160it [03:44, 336.40it/s]"
     ]
    },
    {
     "name": "stderr",
     "output_type": "stream",
     "text": [
      "\r",
      "77195it [03:44, 337.15it/s]"
     ]
    },
    {
     "name": "stderr",
     "output_type": "stream",
     "text": [
      "\r",
      "77229it [03:44, 335.95it/s]"
     ]
    },
    {
     "name": "stderr",
     "output_type": "stream",
     "text": [
      "\r",
      "77263it [03:45, 332.72it/s]"
     ]
    },
    {
     "name": "stderr",
     "output_type": "stream",
     "text": [
      "\r",
      "77298it [03:45, 336.06it/s]"
     ]
    },
    {
     "name": "stderr",
     "output_type": "stream",
     "text": [
      "\r",
      "77332it [03:45, 335.93it/s]"
     ]
    },
    {
     "name": "stderr",
     "output_type": "stream",
     "text": [
      "\r",
      "77366it [03:45, 332.08it/s]"
     ]
    },
    {
     "name": "stderr",
     "output_type": "stream",
     "text": [
      "\r",
      "77400it [03:45, 333.68it/s]"
     ]
    },
    {
     "name": "stderr",
     "output_type": "stream",
     "text": [
      "\r",
      "77437it [03:45, 342.95it/s]"
     ]
    },
    {
     "name": "stderr",
     "output_type": "stream",
     "text": [
      "\r",
      "77473it [03:45, 347.20it/s]"
     ]
    },
    {
     "name": "stderr",
     "output_type": "stream",
     "text": [
      "\r",
      "77510it [03:45, 350.57it/s]"
     ]
    },
    {
     "name": "stderr",
     "output_type": "stream",
     "text": [
      "\r",
      "77546it [03:45, 346.69it/s]"
     ]
    },
    {
     "name": "stderr",
     "output_type": "stream",
     "text": [
      "\r",
      "77581it [03:45, 344.66it/s]"
     ]
    },
    {
     "name": "stderr",
     "output_type": "stream",
     "text": [
      "\r",
      "77616it [03:46, 340.90it/s]"
     ]
    },
    {
     "name": "stderr",
     "output_type": "stream",
     "text": [
      "\r",
      "77651it [03:46, 341.42it/s]"
     ]
    },
    {
     "name": "stderr",
     "output_type": "stream",
     "text": [
      "\r",
      "77686it [03:46, 342.10it/s]"
     ]
    },
    {
     "name": "stderr",
     "output_type": "stream",
     "text": [
      "\r",
      "77721it [03:46, 344.15it/s]"
     ]
    },
    {
     "name": "stderr",
     "output_type": "stream",
     "text": [
      "\r",
      "77757it [03:46, 345.49it/s]"
     ]
    },
    {
     "name": "stderr",
     "output_type": "stream",
     "text": [
      "\r",
      "77792it [03:46, 336.98it/s]"
     ]
    },
    {
     "name": "stderr",
     "output_type": "stream",
     "text": [
      "\r",
      "77827it [03:46, 340.66it/s]"
     ]
    },
    {
     "name": "stderr",
     "output_type": "stream",
     "text": [
      "\r",
      "77862it [03:46, 332.52it/s]"
     ]
    },
    {
     "name": "stderr",
     "output_type": "stream",
     "text": [
      "\r",
      "77897it [03:46, 335.35it/s]"
     ]
    },
    {
     "name": "stderr",
     "output_type": "stream",
     "text": [
      "\r",
      "77935it [03:46, 346.72it/s]"
     ]
    },
    {
     "name": "stderr",
     "output_type": "stream",
     "text": [
      "\r",
      "77970it [03:47, 337.75it/s]"
     ]
    },
    {
     "name": "stderr",
     "output_type": "stream",
     "text": [
      "\r",
      "78006it [03:47, 341.66it/s]"
     ]
    },
    {
     "name": "stderr",
     "output_type": "stream",
     "text": [
      "\r",
      "78042it [03:47, 344.47it/s]"
     ]
    },
    {
     "name": "stderr",
     "output_type": "stream",
     "text": [
      "\r",
      "78077it [03:47, 344.02it/s]"
     ]
    },
    {
     "name": "stderr",
     "output_type": "stream",
     "text": [
      "\r",
      "78113it [03:47, 344.19it/s]"
     ]
    },
    {
     "name": "stderr",
     "output_type": "stream",
     "text": [
      "\r",
      "78148it [03:47, 342.69it/s]"
     ]
    },
    {
     "name": "stderr",
     "output_type": "stream",
     "text": [
      "\r",
      "78183it [03:47, 343.17it/s]"
     ]
    },
    {
     "name": "stderr",
     "output_type": "stream",
     "text": [
      "\r",
      "78220it [03:47, 347.40it/s]"
     ]
    },
    {
     "name": "stderr",
     "output_type": "stream",
     "text": [
      "\r",
      "78258it [03:47, 355.61it/s]"
     ]
    },
    {
     "name": "stderr",
     "output_type": "stream",
     "text": [
      "\r",
      "78294it [03:48, 352.08it/s]"
     ]
    },
    {
     "name": "stderr",
     "output_type": "stream",
     "text": [
      "\r",
      "78330it [03:48, 346.85it/s]"
     ]
    },
    {
     "name": "stderr",
     "output_type": "stream",
     "text": [
      "\r",
      "78365it [03:48, 341.85it/s]"
     ]
    },
    {
     "name": "stderr",
     "output_type": "stream",
     "text": [
      "\r",
      "78402it [03:48, 348.35it/s]"
     ]
    },
    {
     "name": "stderr",
     "output_type": "stream",
     "text": [
      "\r",
      "78437it [03:48, 347.70it/s]"
     ]
    },
    {
     "name": "stderr",
     "output_type": "stream",
     "text": [
      "\r",
      "78472it [03:48, 347.13it/s]"
     ]
    },
    {
     "name": "stderr",
     "output_type": "stream",
     "text": [
      "\r",
      "78507it [03:48, 347.03it/s]"
     ]
    },
    {
     "name": "stderr",
     "output_type": "stream",
     "text": [
      "\r",
      "78543it [03:48, 349.11it/s]"
     ]
    },
    {
     "name": "stderr",
     "output_type": "stream",
     "text": [
      "\r",
      "78579it [03:48, 349.92it/s]"
     ]
    },
    {
     "name": "stderr",
     "output_type": "stream",
     "text": [
      "\r",
      "78614it [03:48, 348.23it/s]"
     ]
    },
    {
     "name": "stderr",
     "output_type": "stream",
     "text": [
      "\r",
      "78650it [03:49, 349.21it/s]"
     ]
    },
    {
     "name": "stderr",
     "output_type": "stream",
     "text": [
      "\r",
      "78685it [03:49, 343.33it/s]"
     ]
    },
    {
     "name": "stderr",
     "output_type": "stream",
     "text": [
      "\r",
      "78720it [03:49, 344.02it/s]"
     ]
    },
    {
     "name": "stderr",
     "output_type": "stream",
     "text": [
      "\r",
      "78755it [03:49, 345.12it/s]"
     ]
    },
    {
     "name": "stderr",
     "output_type": "stream",
     "text": [
      "\r",
      "78791it [03:49, 347.87it/s]"
     ]
    },
    {
     "name": "stderr",
     "output_type": "stream",
     "text": [
      "\r",
      "78828it [03:49, 353.07it/s]"
     ]
    },
    {
     "name": "stderr",
     "output_type": "stream",
     "text": [
      "\r",
      "78864it [03:49, 346.61it/s]"
     ]
    },
    {
     "name": "stderr",
     "output_type": "stream",
     "text": [
      "\r",
      "78900it [03:49, 349.82it/s]"
     ]
    },
    {
     "name": "stderr",
     "output_type": "stream",
     "text": [
      "\r",
      "78936it [03:49, 344.41it/s]"
     ]
    },
    {
     "name": "stderr",
     "output_type": "stream",
     "text": [
      "\r",
      "78971it [03:49, 345.84it/s]"
     ]
    },
    {
     "name": "stderr",
     "output_type": "stream",
     "text": [
      "\r",
      "79006it [03:50, 344.72it/s]"
     ]
    },
    {
     "name": "stderr",
     "output_type": "stream",
     "text": [
      "\r",
      "79041it [03:50, 341.66it/s]"
     ]
    },
    {
     "name": "stderr",
     "output_type": "stream",
     "text": [
      "\r",
      "79076it [03:50, 343.27it/s]"
     ]
    },
    {
     "name": "stderr",
     "output_type": "stream",
     "text": [
      "\r",
      "79111it [03:50, 345.06it/s]"
     ]
    },
    {
     "name": "stderr",
     "output_type": "stream",
     "text": [
      "\r",
      "79146it [03:50, 344.20it/s]"
     ]
    },
    {
     "name": "stderr",
     "output_type": "stream",
     "text": [
      "\r",
      "79181it [03:50, 342.30it/s]"
     ]
    },
    {
     "name": "stderr",
     "output_type": "stream",
     "text": [
      "\r",
      "79216it [03:50, 340.33it/s]"
     ]
    },
    {
     "name": "stderr",
     "output_type": "stream",
     "text": [
      "\r",
      "79251it [03:50, 340.75it/s]"
     ]
    },
    {
     "name": "stderr",
     "output_type": "stream",
     "text": [
      "\r",
      "79286it [03:50, 336.21it/s]"
     ]
    },
    {
     "name": "stderr",
     "output_type": "stream",
     "text": [
      "\r",
      "79321it [03:50, 339.83it/s]"
     ]
    },
    {
     "name": "stderr",
     "output_type": "stream",
     "text": [
      "\r",
      "79356it [03:51, 341.89it/s]"
     ]
    },
    {
     "name": "stderr",
     "output_type": "stream",
     "text": [
      "\r",
      "79391it [03:51, 341.67it/s]"
     ]
    },
    {
     "name": "stderr",
     "output_type": "stream",
     "text": [
      "\r",
      "79427it [03:51, 344.96it/s]"
     ]
    },
    {
     "name": "stderr",
     "output_type": "stream",
     "text": [
      "\r",
      "79463it [03:51, 347.31it/s]"
     ]
    },
    {
     "name": "stderr",
     "output_type": "stream",
     "text": [
      "\r",
      "79498it [03:51, 345.38it/s]"
     ]
    },
    {
     "name": "stderr",
     "output_type": "stream",
     "text": [
      "\r",
      "79534it [03:51, 347.93it/s]"
     ]
    },
    {
     "name": "stderr",
     "output_type": "stream",
     "text": [
      "\r",
      "79571it [03:51, 352.68it/s]"
     ]
    },
    {
     "name": "stderr",
     "output_type": "stream",
     "text": [
      "\r",
      "79609it [03:51, 359.23it/s]"
     ]
    },
    {
     "name": "stderr",
     "output_type": "stream",
     "text": [
      "\r",
      "79645it [03:51, 358.19it/s]"
     ]
    },
    {
     "name": "stderr",
     "output_type": "stream",
     "text": [
      "\r",
      "79681it [03:52, 354.39it/s]"
     ]
    },
    {
     "name": "stderr",
     "output_type": "stream",
     "text": [
      "\r",
      "79719it [03:52, 360.80it/s]"
     ]
    },
    {
     "name": "stderr",
     "output_type": "stream",
     "text": [
      "\r",
      "79756it [03:52, 352.91it/s]"
     ]
    },
    {
     "name": "stderr",
     "output_type": "stream",
     "text": [
      "\r",
      "79792it [03:52, 350.99it/s]"
     ]
    },
    {
     "name": "stderr",
     "output_type": "stream",
     "text": [
      "\r",
      "79829it [03:52, 353.61it/s]"
     ]
    },
    {
     "name": "stderr",
     "output_type": "stream",
     "text": [
      "\r",
      "79865it [03:52, 355.18it/s]"
     ]
    },
    {
     "name": "stderr",
     "output_type": "stream",
     "text": [
      "\r",
      "79902it [03:52, 359.06it/s]"
     ]
    },
    {
     "name": "stderr",
     "output_type": "stream",
     "text": [
      "\r",
      "79938it [03:52, 358.84it/s]"
     ]
    },
    {
     "name": "stderr",
     "output_type": "stream",
     "text": [
      "\r",
      "79974it [03:52, 359.10it/s]"
     ]
    },
    {
     "name": "stderr",
     "output_type": "stream",
     "text": [
      "\r",
      "80011it [03:52, 359.73it/s]"
     ]
    },
    {
     "name": "stderr",
     "output_type": "stream",
     "text": [
      "\r",
      "80047it [03:53, 359.20it/s]"
     ]
    },
    {
     "name": "stderr",
     "output_type": "stream",
     "text": [
      "\r",
      "80083it [03:53, 357.81it/s]"
     ]
    },
    {
     "name": "stderr",
     "output_type": "stream",
     "text": [
      "\r",
      "80119it [03:53, 357.83it/s]"
     ]
    },
    {
     "name": "stderr",
     "output_type": "stream",
     "text": [
      "\r",
      "80157it [03:53, 361.53it/s]"
     ]
    },
    {
     "name": "stderr",
     "output_type": "stream",
     "text": [
      "\r",
      "80194it [03:53, 357.45it/s]"
     ]
    },
    {
     "name": "stderr",
     "output_type": "stream",
     "text": [
      "\r",
      "80230it [03:53, 356.58it/s]"
     ]
    },
    {
     "name": "stderr",
     "output_type": "stream",
     "text": [
      "\r",
      "80266it [03:53, 351.56it/s]"
     ]
    },
    {
     "name": "stderr",
     "output_type": "stream",
     "text": [
      "\r",
      "80302it [03:53, 348.56it/s]"
     ]
    },
    {
     "name": "stderr",
     "output_type": "stream",
     "text": [
      "\r",
      "80337it [03:53, 348.89it/s]"
     ]
    },
    {
     "name": "stderr",
     "output_type": "stream",
     "text": [
      "\r",
      "80372it [03:53, 347.44it/s]"
     ]
    },
    {
     "name": "stderr",
     "output_type": "stream",
     "text": [
      "\r",
      "80408it [03:54, 351.07it/s]"
     ]
    },
    {
     "name": "stderr",
     "output_type": "stream",
     "text": [
      "\r",
      "80445it [03:54, 354.51it/s]"
     ]
    },
    {
     "name": "stderr",
     "output_type": "stream",
     "text": [
      "\r",
      "80481it [03:54, 351.93it/s]"
     ]
    },
    {
     "name": "stderr",
     "output_type": "stream",
     "text": [
      "\r",
      "80517it [03:54, 352.84it/s]"
     ]
    },
    {
     "name": "stderr",
     "output_type": "stream",
     "text": [
      "\r",
      "80553it [03:54, 353.09it/s]"
     ]
    },
    {
     "name": "stderr",
     "output_type": "stream",
     "text": [
      "\r",
      "80589it [03:54, 354.55it/s]"
     ]
    },
    {
     "name": "stderr",
     "output_type": "stream",
     "text": [
      "\r",
      "80625it [03:54, 355.03it/s]"
     ]
    },
    {
     "name": "stderr",
     "output_type": "stream",
     "text": [
      "\r",
      "80661it [03:54, 353.32it/s]"
     ]
    },
    {
     "name": "stderr",
     "output_type": "stream",
     "text": [
      "\r",
      "80697it [03:54, 354.56it/s]"
     ]
    },
    {
     "name": "stderr",
     "output_type": "stream",
     "text": [
      "\r",
      "80734it [03:54, 358.55it/s]"
     ]
    },
    {
     "name": "stderr",
     "output_type": "stream",
     "text": [
      "\r",
      "80771it [03:55, 359.88it/s]"
     ]
    },
    {
     "name": "stderr",
     "output_type": "stream",
     "text": [
      "\r",
      "80808it [03:55, 361.14it/s]"
     ]
    },
    {
     "name": "stderr",
     "output_type": "stream",
     "text": [
      "\r",
      "80845it [03:55, 359.86it/s]"
     ]
    },
    {
     "name": "stderr",
     "output_type": "stream",
     "text": [
      "\r",
      "80882it [03:55, 359.97it/s]"
     ]
    },
    {
     "name": "stderr",
     "output_type": "stream",
     "text": [
      "\r",
      "80919it [03:55, 361.33it/s]"
     ]
    },
    {
     "name": "stderr",
     "output_type": "stream",
     "text": [
      "\r",
      "80956it [03:55, 356.54it/s]"
     ]
    },
    {
     "name": "stderr",
     "output_type": "stream",
     "text": [
      "\r",
      "80994it [03:55, 361.87it/s]"
     ]
    },
    {
     "name": "stderr",
     "output_type": "stream",
     "text": [
      "\r",
      "81031it [03:55, 347.89it/s]"
     ]
    },
    {
     "name": "stderr",
     "output_type": "stream",
     "text": [
      "\r",
      "81067it [03:55, 350.11it/s]"
     ]
    },
    {
     "name": "stderr",
     "output_type": "stream",
     "text": [
      "\r",
      "81104it [03:56, 353.32it/s]"
     ]
    },
    {
     "name": "stderr",
     "output_type": "stream",
     "text": [
      "\r",
      "81141it [03:56, 355.58it/s]"
     ]
    },
    {
     "name": "stderr",
     "output_type": "stream",
     "text": [
      "\r",
      "81177it [03:56, 355.09it/s]"
     ]
    },
    {
     "name": "stderr",
     "output_type": "stream",
     "text": [
      "\r",
      "81214it [03:56, 356.41it/s]"
     ]
    },
    {
     "name": "stderr",
     "output_type": "stream",
     "text": [
      "\r",
      "81251it [03:56, 358.36it/s]"
     ]
    },
    {
     "name": "stderr",
     "output_type": "stream",
     "text": [
      "\r",
      "81287it [03:56, 358.79it/s]"
     ]
    },
    {
     "name": "stderr",
     "output_type": "stream",
     "text": [
      "\r",
      "81324it [03:56, 359.90it/s]"
     ]
    },
    {
     "name": "stderr",
     "output_type": "stream",
     "text": [
      "\r",
      "81361it [03:56, 358.32it/s]"
     ]
    },
    {
     "name": "stderr",
     "output_type": "stream",
     "text": [
      "\r",
      "81397it [03:56, 354.11it/s]"
     ]
    },
    {
     "name": "stderr",
     "output_type": "stream",
     "text": [
      "\r",
      "81435it [03:56, 360.11it/s]"
     ]
    },
    {
     "name": "stderr",
     "output_type": "stream",
     "text": [
      "\r",
      "81472it [03:57, 359.34it/s]"
     ]
    },
    {
     "name": "stderr",
     "output_type": "stream",
     "text": [
      "\r",
      "81509it [03:57, 360.55it/s]"
     ]
    },
    {
     "name": "stderr",
     "output_type": "stream",
     "text": [
      "\r",
      "81546it [03:57, 353.12it/s]"
     ]
    },
    {
     "name": "stderr",
     "output_type": "stream",
     "text": [
      "\r",
      "81582it [03:57, 353.86it/s]"
     ]
    },
    {
     "name": "stderr",
     "output_type": "stream",
     "text": [
      "\r",
      "81619it [03:57, 356.14it/s]"
     ]
    },
    {
     "name": "stderr",
     "output_type": "stream",
     "text": [
      "\r",
      "81655it [03:57, 350.44it/s]"
     ]
    },
    {
     "name": "stderr",
     "output_type": "stream",
     "text": [
      "\r",
      "81692it [03:57, 353.97it/s]"
     ]
    },
    {
     "name": "stderr",
     "output_type": "stream",
     "text": [
      "\r",
      "81730it [03:57, 359.08it/s]"
     ]
    },
    {
     "name": "stderr",
     "output_type": "stream",
     "text": [
      "\r",
      "81766it [03:57, 352.67it/s]"
     ]
    },
    {
     "name": "stderr",
     "output_type": "stream",
     "text": [
      "\r",
      "81803it [03:57, 354.31it/s]"
     ]
    },
    {
     "name": "stderr",
     "output_type": "stream",
     "text": [
      "\r",
      "81839it [03:58, 350.55it/s]"
     ]
    },
    {
     "name": "stderr",
     "output_type": "stream",
     "text": [
      "\r",
      "81875it [03:58, 348.82it/s]"
     ]
    },
    {
     "name": "stderr",
     "output_type": "stream",
     "text": [
      "\r",
      "81911it [03:58, 351.70it/s]"
     ]
    },
    {
     "name": "stderr",
     "output_type": "stream",
     "text": [
      "\r",
      "81947it [03:58, 351.65it/s]"
     ]
    },
    {
     "name": "stderr",
     "output_type": "stream",
     "text": [
      "\r",
      "81985it [03:58, 358.12it/s]"
     ]
    },
    {
     "name": "stderr",
     "output_type": "stream",
     "text": [
      "\r",
      "82022it [03:58, 359.55it/s]"
     ]
    },
    {
     "name": "stderr",
     "output_type": "stream",
     "text": [
      "\r",
      "82058it [03:58, 356.73it/s]"
     ]
    },
    {
     "name": "stderr",
     "output_type": "stream",
     "text": [
      "\r",
      "82096it [03:58, 362.05it/s]"
     ]
    },
    {
     "name": "stderr",
     "output_type": "stream",
     "text": [
      "\r",
      "82133it [03:58, 360.83it/s]"
     ]
    },
    {
     "name": "stderr",
     "output_type": "stream",
     "text": [
      "\r",
      "82170it [03:58, 361.88it/s]"
     ]
    },
    {
     "name": "stderr",
     "output_type": "stream",
     "text": [
      "\r",
      "82207it [03:59, 356.32it/s]"
     ]
    },
    {
     "name": "stderr",
     "output_type": "stream",
     "text": [
      "\r",
      "82244it [03:59, 358.66it/s]"
     ]
    },
    {
     "name": "stderr",
     "output_type": "stream",
     "text": [
      "\r",
      "82281it [03:59, 359.36it/s]"
     ]
    },
    {
     "name": "stderr",
     "output_type": "stream",
     "text": [
      "\r",
      "82317it [03:59, 353.08it/s]"
     ]
    },
    {
     "name": "stderr",
     "output_type": "stream",
     "text": [
      "\r",
      "82353it [03:59, 353.95it/s]"
     ]
    },
    {
     "name": "stderr",
     "output_type": "stream",
     "text": [
      "\r",
      "82389it [03:59, 353.09it/s]"
     ]
    },
    {
     "name": "stderr",
     "output_type": "stream",
     "text": [
      "\r",
      "82425it [03:59, 353.00it/s]"
     ]
    },
    {
     "name": "stderr",
     "output_type": "stream",
     "text": [
      "\r",
      "82463it [03:59, 358.91it/s]"
     ]
    },
    {
     "name": "stderr",
     "output_type": "stream",
     "text": [
      "\r",
      "82499it [03:59, 349.28it/s]"
     ]
    },
    {
     "name": "stderr",
     "output_type": "stream",
     "text": [
      "\r",
      "82536it [04:00, 352.37it/s]"
     ]
    },
    {
     "name": "stderr",
     "output_type": "stream",
     "text": [
      "\r",
      "82572it [04:00, 351.34it/s]"
     ]
    },
    {
     "name": "stderr",
     "output_type": "stream",
     "text": [
      "\r",
      "82608it [04:00, 347.27it/s]"
     ]
    },
    {
     "name": "stderr",
     "output_type": "stream",
     "text": [
      "\r",
      "82643it [04:00, 347.80it/s]"
     ]
    },
    {
     "name": "stderr",
     "output_type": "stream",
     "text": [
      "\r",
      "82681it [04:00, 356.18it/s]"
     ]
    },
    {
     "name": "stderr",
     "output_type": "stream",
     "text": [
      "\r",
      "82718it [04:00, 357.82it/s]"
     ]
    },
    {
     "name": "stderr",
     "output_type": "stream",
     "text": [
      "\r",
      "82755it [04:00, 359.79it/s]"
     ]
    },
    {
     "name": "stderr",
     "output_type": "stream",
     "text": [
      "\r",
      "82791it [04:00, 353.51it/s]"
     ]
    },
    {
     "name": "stderr",
     "output_type": "stream",
     "text": [
      "\r",
      "82827it [04:00, 352.55it/s]"
     ]
    },
    {
     "name": "stderr",
     "output_type": "stream",
     "text": [
      "\r",
      "82863it [04:00, 352.27it/s]"
     ]
    },
    {
     "name": "stderr",
     "output_type": "stream",
     "text": [
      "\r",
      "82899it [04:01, 348.52it/s]"
     ]
    },
    {
     "name": "stderr",
     "output_type": "stream",
     "text": [
      "\r",
      "82934it [04:01, 347.67it/s]"
     ]
    },
    {
     "name": "stderr",
     "output_type": "stream",
     "text": [
      "\r",
      "82971it [04:01, 352.17it/s]"
     ]
    },
    {
     "name": "stderr",
     "output_type": "stream",
     "text": [
      "\r",
      "83008it [04:01, 353.80it/s]"
     ]
    },
    {
     "name": "stderr",
     "output_type": "stream",
     "text": [
      "\r",
      "83044it [04:01, 342.05it/s]"
     ]
    },
    {
     "name": "stderr",
     "output_type": "stream",
     "text": [
      "\r",
      "83079it [04:01, 343.67it/s]"
     ]
    },
    {
     "name": "stderr",
     "output_type": "stream",
     "text": [
      "\r",
      "83114it [04:01, 343.02it/s]"
     ]
    },
    {
     "name": "stderr",
     "output_type": "stream",
     "text": [
      "\r",
      "83151it [04:01, 348.60it/s]"
     ]
    },
    {
     "name": "stderr",
     "output_type": "stream",
     "text": [
      "\r",
      "83187it [04:01, 350.83it/s]"
     ]
    },
    {
     "name": "stderr",
     "output_type": "stream",
     "text": [
      "\r",
      "83224it [04:01, 355.05it/s]"
     ]
    },
    {
     "name": "stderr",
     "output_type": "stream",
     "text": [
      "\r",
      "83261it [04:02, 358.56it/s]"
     ]
    },
    {
     "name": "stderr",
     "output_type": "stream",
     "text": [
      "\r",
      "83297it [04:02, 358.98it/s]"
     ]
    },
    {
     "name": "stderr",
     "output_type": "stream",
     "text": [
      "\r",
      "83335it [04:02, 362.76it/s]"
     ]
    },
    {
     "name": "stderr",
     "output_type": "stream",
     "text": [
      "\r",
      "83373it [04:02, 367.46it/s]"
     ]
    },
    {
     "name": "stderr",
     "output_type": "stream",
     "text": [
      "\r",
      "83410it [04:02, 366.28it/s]"
     ]
    },
    {
     "name": "stderr",
     "output_type": "stream",
     "text": [
      "\r",
      "83447it [04:02, 356.82it/s]"
     ]
    },
    {
     "name": "stderr",
     "output_type": "stream",
     "text": [
      "\r",
      "83483it [04:02, 355.03it/s]"
     ]
    },
    {
     "name": "stderr",
     "output_type": "stream",
     "text": [
      "\r",
      "83520it [04:02, 358.61it/s]"
     ]
    },
    {
     "name": "stderr",
     "output_type": "stream",
     "text": [
      "\r",
      "83556it [04:02, 351.23it/s]"
     ]
    },
    {
     "name": "stderr",
     "output_type": "stream",
     "text": [
      "\r",
      "83592it [04:03, 349.49it/s]"
     ]
    },
    {
     "name": "stderr",
     "output_type": "stream",
     "text": [
      "\r",
      "83628it [04:03, 351.49it/s]"
     ]
    },
    {
     "name": "stderr",
     "output_type": "stream",
     "text": [
      "\r",
      "83665it [04:03, 354.49it/s]"
     ]
    },
    {
     "name": "stderr",
     "output_type": "stream",
     "text": [
      "\r",
      "83702it [04:03, 357.87it/s]"
     ]
    },
    {
     "name": "stderr",
     "output_type": "stream",
     "text": [
      "\r",
      "83738it [04:03, 352.46it/s]"
     ]
    },
    {
     "name": "stderr",
     "output_type": "stream",
     "text": [
      "\r",
      "83775it [04:03, 356.79it/s]"
     ]
    },
    {
     "name": "stderr",
     "output_type": "stream",
     "text": [
      "\r",
      "83811it [04:03, 353.13it/s]"
     ]
    },
    {
     "name": "stderr",
     "output_type": "stream",
     "text": [
      "\r",
      "83847it [04:03, 353.44it/s]"
     ]
    },
    {
     "name": "stderr",
     "output_type": "stream",
     "text": [
      "\r",
      "83883it [04:03, 353.68it/s]"
     ]
    },
    {
     "name": "stderr",
     "output_type": "stream",
     "text": [
      "\r",
      "83920it [04:03, 357.79it/s]"
     ]
    },
    {
     "name": "stderr",
     "output_type": "stream",
     "text": [
      "\r",
      "83958it [04:04, 362.41it/s]"
     ]
    },
    {
     "name": "stderr",
     "output_type": "stream",
     "text": [
      "\r",
      "83995it [04:04, 363.97it/s]"
     ]
    },
    {
     "name": "stderr",
     "output_type": "stream",
     "text": [
      "\r",
      "84032it [04:04, 357.17it/s]"
     ]
    },
    {
     "name": "stderr",
     "output_type": "stream",
     "text": [
      "\r",
      "84068it [04:04, 355.35it/s]"
     ]
    },
    {
     "name": "stderr",
     "output_type": "stream",
     "text": [
      "\r",
      "84104it [04:04, 351.06it/s]"
     ]
    },
    {
     "name": "stderr",
     "output_type": "stream",
     "text": [
      "\r",
      "84140it [04:04, 350.83it/s]"
     ]
    },
    {
     "name": "stderr",
     "output_type": "stream",
     "text": [
      "\r",
      "84176it [04:04, 351.23it/s]"
     ]
    },
    {
     "name": "stderr",
     "output_type": "stream",
     "text": [
      "\r",
      "84213it [04:04, 356.58it/s]"
     ]
    },
    {
     "name": "stderr",
     "output_type": "stream",
     "text": [
      "\r",
      "84249it [04:04, 357.09it/s]"
     ]
    },
    {
     "name": "stderr",
     "output_type": "stream",
     "text": [
      "\r",
      "84285it [04:04, 348.62it/s]"
     ]
    },
    {
     "name": "stderr",
     "output_type": "stream",
     "text": [
      "\r",
      "84323it [04:05, 355.26it/s]"
     ]
    },
    {
     "name": "stderr",
     "output_type": "stream",
     "text": [
      "\r",
      "84359it [04:05, 349.32it/s]"
     ]
    },
    {
     "name": "stderr",
     "output_type": "stream",
     "text": [
      "\r",
      "84396it [04:05, 353.07it/s]"
     ]
    },
    {
     "name": "stderr",
     "output_type": "stream",
     "text": [
      "\r",
      "84432it [04:05, 354.09it/s]"
     ]
    },
    {
     "name": "stderr",
     "output_type": "stream",
     "text": [
      "\r",
      "84470it [04:05, 358.62it/s]"
     ]
    },
    {
     "name": "stderr",
     "output_type": "stream",
     "text": [
      "\r",
      "84507it [04:05, 358.21it/s]"
     ]
    },
    {
     "name": "stderr",
     "output_type": "stream",
     "text": [
      "\r",
      "84543it [04:05, 357.96it/s]"
     ]
    },
    {
     "name": "stderr",
     "output_type": "stream",
     "text": [
      "\r",
      "84580it [04:05, 359.38it/s]"
     ]
    },
    {
     "name": "stderr",
     "output_type": "stream",
     "text": [
      "\r",
      "84618it [04:05, 362.95it/s]"
     ]
    },
    {
     "name": "stderr",
     "output_type": "stream",
     "text": [
      "\r",
      "84655it [04:06, 356.86it/s]"
     ]
    },
    {
     "name": "stderr",
     "output_type": "stream",
     "text": [
      "\r",
      "84691it [04:06, 351.96it/s]"
     ]
    },
    {
     "name": "stderr",
     "output_type": "stream",
     "text": [
      "\r",
      "84729it [04:06, 359.34it/s]"
     ]
    },
    {
     "name": "stderr",
     "output_type": "stream",
     "text": [
      "\r",
      "84766it [04:06, 359.38it/s]"
     ]
    },
    {
     "name": "stderr",
     "output_type": "stream",
     "text": [
      "\r",
      "84802it [04:06, 355.63it/s]"
     ]
    },
    {
     "name": "stderr",
     "output_type": "stream",
     "text": [
      "\r",
      "84838it [04:06, 354.32it/s]"
     ]
    },
    {
     "name": "stderr",
     "output_type": "stream",
     "text": [
      "\r",
      "84875it [04:06, 355.52it/s]"
     ]
    },
    {
     "name": "stderr",
     "output_type": "stream",
     "text": [
      "\r",
      "84912it [04:06, 358.06it/s]"
     ]
    },
    {
     "name": "stderr",
     "output_type": "stream",
     "text": [
      "\r",
      "84948it [04:06, 358.25it/s]"
     ]
    },
    {
     "name": "stderr",
     "output_type": "stream",
     "text": [
      "\r",
      "84984it [04:06, 356.45it/s]"
     ]
    },
    {
     "name": "stderr",
     "output_type": "stream",
     "text": [
      "\r",
      "85020it [04:07, 355.50it/s]"
     ]
    },
    {
     "name": "stderr",
     "output_type": "stream",
     "text": [
      "\r",
      "85057it [04:07, 356.77it/s]"
     ]
    },
    {
     "name": "stderr",
     "output_type": "stream",
     "text": [
      "\r",
      "85093it [04:07, 356.02it/s]"
     ]
    },
    {
     "name": "stderr",
     "output_type": "stream",
     "text": [
      "\r",
      "85129it [04:07, 356.99it/s]"
     ]
    },
    {
     "name": "stderr",
     "output_type": "stream",
     "text": [
      "\r",
      "85168it [04:07, 364.19it/s]"
     ]
    },
    {
     "name": "stderr",
     "output_type": "stream",
     "text": [
      "\r",
      "85205it [04:07, 359.67it/s]"
     ]
    },
    {
     "name": "stderr",
     "output_type": "stream",
     "text": [
      "\r",
      "85242it [04:07, 362.56it/s]"
     ]
    },
    {
     "name": "stderr",
     "output_type": "stream",
     "text": [
      "\r",
      "85279it [04:07, 357.61it/s]"
     ]
    },
    {
     "name": "stderr",
     "output_type": "stream",
     "text": [
      "\r",
      "85317it [04:07, 361.24it/s]"
     ]
    },
    {
     "name": "stderr",
     "output_type": "stream",
     "text": [
      "\r",
      "85354it [04:07, 359.44it/s]"
     ]
    },
    {
     "name": "stderr",
     "output_type": "stream",
     "text": [
      "\r",
      "85390it [04:08, 352.14it/s]"
     ]
    },
    {
     "name": "stderr",
     "output_type": "stream",
     "text": [
      "\r",
      "85426it [04:08, 353.74it/s]"
     ]
    },
    {
     "name": "stderr",
     "output_type": "stream",
     "text": [
      "\r",
      "85463it [04:08, 356.56it/s]"
     ]
    },
    {
     "name": "stderr",
     "output_type": "stream",
     "text": [
      "\r",
      "85499it [04:08, 351.91it/s]"
     ]
    },
    {
     "name": "stderr",
     "output_type": "stream",
     "text": [
      "\r",
      "85535it [04:08, 351.04it/s]"
     ]
    },
    {
     "name": "stderr",
     "output_type": "stream",
     "text": [
      "\r",
      "85571it [04:08, 349.49it/s]"
     ]
    },
    {
     "name": "stderr",
     "output_type": "stream",
     "text": [
      "\r",
      "85607it [04:08, 351.81it/s]"
     ]
    },
    {
     "name": "stderr",
     "output_type": "stream",
     "text": [
      "\r",
      "85643it [04:08, 352.55it/s]"
     ]
    },
    {
     "name": "stderr",
     "output_type": "stream",
     "text": [
      "\r",
      "85679it [04:08, 353.24it/s]"
     ]
    },
    {
     "name": "stderr",
     "output_type": "stream",
     "text": [
      "\r",
      "85716it [04:08, 355.68it/s]"
     ]
    },
    {
     "name": "stderr",
     "output_type": "stream",
     "text": [
      "\r",
      "85752it [04:09, 354.04it/s]"
     ]
    },
    {
     "name": "stderr",
     "output_type": "stream",
     "text": [
      "\r",
      "85789it [04:09, 357.50it/s]"
     ]
    },
    {
     "name": "stderr",
     "output_type": "stream",
     "text": [
      "\r",
      "85827it [04:09, 363.53it/s]"
     ]
    },
    {
     "name": "stderr",
     "output_type": "stream",
     "text": [
      "\r",
      "85864it [04:09, 363.24it/s]"
     ]
    },
    {
     "name": "stderr",
     "output_type": "stream",
     "text": [
      "\r",
      "85901it [04:09, 356.22it/s]"
     ]
    },
    {
     "name": "stderr",
     "output_type": "stream",
     "text": [
      "\r",
      "85937it [04:09, 354.78it/s]"
     ]
    },
    {
     "name": "stderr",
     "output_type": "stream",
     "text": [
      "\r",
      "85975it [04:09, 360.82it/s]"
     ]
    },
    {
     "name": "stderr",
     "output_type": "stream",
     "text": [
      "\r",
      "86012it [04:09, 358.81it/s]"
     ]
    },
    {
     "name": "stderr",
     "output_type": "stream",
     "text": [
      "\r",
      "86049it [04:09, 359.32it/s]"
     ]
    },
    {
     "name": "stderr",
     "output_type": "stream",
     "text": [
      "\r",
      "86085it [04:10, 359.29it/s]"
     ]
    },
    {
     "name": "stderr",
     "output_type": "stream",
     "text": [
      "\r",
      "86121it [04:10, 358.52it/s]"
     ]
    },
    {
     "name": "stderr",
     "output_type": "stream",
     "text": [
      "\r",
      "86159it [04:10, 362.17it/s]"
     ]
    },
    {
     "name": "stderr",
     "output_type": "stream",
     "text": [
      "\r",
      "86196it [04:10, 359.92it/s]"
     ]
    },
    {
     "name": "stderr",
     "output_type": "stream",
     "text": [
      "\r",
      "86234it [04:10, 364.17it/s]"
     ]
    },
    {
     "name": "stderr",
     "output_type": "stream",
     "text": [
      "\r",
      "86271it [04:10, 359.94it/s]"
     ]
    },
    {
     "name": "stderr",
     "output_type": "stream",
     "text": [
      "\r",
      "86308it [04:10, 353.81it/s]"
     ]
    },
    {
     "name": "stderr",
     "output_type": "stream",
     "text": [
      "\r",
      "86345it [04:10, 356.20it/s]"
     ]
    },
    {
     "name": "stderr",
     "output_type": "stream",
     "text": [
      "\r",
      "86384it [04:10, 365.57it/s]"
     ]
    },
    {
     "name": "stderr",
     "output_type": "stream",
     "text": [
      "\r",
      "86422it [04:10, 365.95it/s]"
     ]
    },
    {
     "name": "stderr",
     "output_type": "stream",
     "text": [
      "\r",
      "86459it [04:11, 367.10it/s]"
     ]
    },
    {
     "name": "stderr",
     "output_type": "stream",
     "text": [
      "\r",
      "86496it [04:11, 359.91it/s]"
     ]
    },
    {
     "name": "stderr",
     "output_type": "stream",
     "text": [
      "\r",
      "86533it [04:11, 358.45it/s]"
     ]
    },
    {
     "name": "stderr",
     "output_type": "stream",
     "text": [
      "\r",
      "86569it [04:11, 358.21it/s]"
     ]
    },
    {
     "name": "stderr",
     "output_type": "stream",
     "text": [
      "\r",
      "86605it [04:11, 354.55it/s]"
     ]
    },
    {
     "name": "stderr",
     "output_type": "stream",
     "text": [
      "\r",
      "86641it [04:11, 351.87it/s]"
     ]
    },
    {
     "name": "stderr",
     "output_type": "stream",
     "text": [
      "\r",
      "86677it [04:11, 351.95it/s]"
     ]
    },
    {
     "name": "stderr",
     "output_type": "stream",
     "text": [
      "\r",
      "86713it [04:11, 352.27it/s]"
     ]
    },
    {
     "name": "stderr",
     "output_type": "stream",
     "text": [
      "\r",
      "86749it [04:11, 353.29it/s]"
     ]
    },
    {
     "name": "stderr",
     "output_type": "stream",
     "text": [
      "\r",
      "86785it [04:11, 355.15it/s]"
     ]
    },
    {
     "name": "stderr",
     "output_type": "stream",
     "text": [
      "\r",
      "86821it [04:12, 351.12it/s]"
     ]
    },
    {
     "name": "stderr",
     "output_type": "stream",
     "text": [
      "\r",
      "86857it [04:12, 351.37it/s]"
     ]
    },
    {
     "name": "stderr",
     "output_type": "stream",
     "text": [
      "\r",
      "86894it [04:12, 356.77it/s]"
     ]
    },
    {
     "name": "stderr",
     "output_type": "stream",
     "text": [
      "\r",
      "86931it [04:12, 360.32it/s]"
     ]
    },
    {
     "name": "stderr",
     "output_type": "stream",
     "text": [
      "\r",
      "86968it [04:12, 359.08it/s]"
     ]
    },
    {
     "name": "stderr",
     "output_type": "stream",
     "text": [
      "\r",
      "87006it [04:12, 365.02it/s]"
     ]
    },
    {
     "name": "stderr",
     "output_type": "stream",
     "text": [
      "\r",
      "87044it [04:12, 365.03it/s]"
     ]
    },
    {
     "name": "stderr",
     "output_type": "stream",
     "text": [
      "\r",
      "87081it [04:12, 364.46it/s]"
     ]
    },
    {
     "name": "stderr",
     "output_type": "stream",
     "text": [
      "\r",
      "87118it [04:12, 358.54it/s]"
     ]
    },
    {
     "name": "stderr",
     "output_type": "stream",
     "text": [
      "\r",
      "87157it [04:13, 366.00it/s]"
     ]
    },
    {
     "name": "stderr",
     "output_type": "stream",
     "text": [
      "\r",
      "87194it [04:13, 356.12it/s]"
     ]
    },
    {
     "name": "stderr",
     "output_type": "stream",
     "text": [
      "\r",
      "87230it [04:13, 354.10it/s]"
     ]
    },
    {
     "name": "stderr",
     "output_type": "stream",
     "text": [
      "\r",
      "87266it [04:13, 355.54it/s]"
     ]
    },
    {
     "name": "stderr",
     "output_type": "stream",
     "text": [
      "\r",
      "87303it [04:13, 358.77it/s]"
     ]
    },
    {
     "name": "stderr",
     "output_type": "stream",
     "text": [
      "\r",
      "87340it [04:13, 360.97it/s]"
     ]
    },
    {
     "name": "stderr",
     "output_type": "stream",
     "text": [
      "\r",
      "87378it [04:13, 365.44it/s]"
     ]
    },
    {
     "name": "stderr",
     "output_type": "stream",
     "text": [
      "\r",
      "87415it [04:13, 361.48it/s]"
     ]
    },
    {
     "name": "stderr",
     "output_type": "stream",
     "text": [
      "\r",
      "87453it [04:13, 363.84it/s]"
     ]
    },
    {
     "name": "stderr",
     "output_type": "stream",
     "text": [
      "\r",
      "87490it [04:13, 361.28it/s]"
     ]
    },
    {
     "name": "stderr",
     "output_type": "stream",
     "text": [
      "\r",
      "87527it [04:14, 360.58it/s]"
     ]
    },
    {
     "name": "stderr",
     "output_type": "stream",
     "text": [
      "\r",
      "87565it [04:14, 365.38it/s]"
     ]
    },
    {
     "name": "stderr",
     "output_type": "stream",
     "text": [
      "\r",
      "87603it [04:14, 368.81it/s]"
     ]
    },
    {
     "name": "stderr",
     "output_type": "stream",
     "text": [
      "\r",
      "87641it [04:14, 370.32it/s]"
     ]
    },
    {
     "name": "stderr",
     "output_type": "stream",
     "text": [
      "\r",
      "87679it [04:14, 367.66it/s]"
     ]
    },
    {
     "name": "stderr",
     "output_type": "stream",
     "text": [
      "\r",
      "87716it [04:14, 366.74it/s]"
     ]
    },
    {
     "name": "stderr",
     "output_type": "stream",
     "text": [
      "\r",
      "87754it [04:14, 369.74it/s]"
     ]
    },
    {
     "name": "stderr",
     "output_type": "stream",
     "text": [
      "\r",
      "87791it [04:14, 363.91it/s]"
     ]
    },
    {
     "name": "stderr",
     "output_type": "stream",
     "text": [
      "\r",
      "87828it [04:14, 363.07it/s]"
     ]
    },
    {
     "name": "stderr",
     "output_type": "stream",
     "text": [
      "\r",
      "87865it [04:14, 363.87it/s]"
     ]
    },
    {
     "name": "stderr",
     "output_type": "stream",
     "text": [
      "\r",
      "87904it [04:15, 370.03it/s]"
     ]
    },
    {
     "name": "stderr",
     "output_type": "stream",
     "text": [
      "\r",
      "87942it [04:15, 366.00it/s]"
     ]
    },
    {
     "name": "stderr",
     "output_type": "stream",
     "text": [
      "\r",
      "87980it [04:15, 367.69it/s]"
     ]
    },
    {
     "name": "stderr",
     "output_type": "stream",
     "text": [
      "\r",
      "88017it [04:15, 360.72it/s]"
     ]
    },
    {
     "name": "stderr",
     "output_type": "stream",
     "text": [
      "\r",
      "88054it [04:15, 360.56it/s]"
     ]
    },
    {
     "name": "stderr",
     "output_type": "stream",
     "text": [
      "\r",
      "88091it [04:15, 363.18it/s]"
     ]
    },
    {
     "name": "stderr",
     "output_type": "stream",
     "text": [
      "\r",
      "88128it [04:15, 364.42it/s]"
     ]
    },
    {
     "name": "stderr",
     "output_type": "stream",
     "text": [
      "\r",
      "88165it [04:15, 365.69it/s]"
     ]
    },
    {
     "name": "stderr",
     "output_type": "stream",
     "text": [
      "\r",
      "88205it [04:15, 373.70it/s]"
     ]
    },
    {
     "name": "stderr",
     "output_type": "stream",
     "text": [
      "\r",
      "88244it [04:15, 375.95it/s]"
     ]
    },
    {
     "name": "stderr",
     "output_type": "stream",
     "text": [
      "\r",
      "88282it [04:16, 373.03it/s]"
     ]
    },
    {
     "name": "stderr",
     "output_type": "stream",
     "text": [
      "\r",
      "88320it [04:16, 370.73it/s]"
     ]
    },
    {
     "name": "stderr",
     "output_type": "stream",
     "text": [
      "\r",
      "88358it [04:16, 372.79it/s]"
     ]
    },
    {
     "name": "stderr",
     "output_type": "stream",
     "text": [
      "\r",
      "88396it [04:16, 371.09it/s]"
     ]
    },
    {
     "name": "stderr",
     "output_type": "stream",
     "text": [
      "\r",
      "88434it [04:16, 364.48it/s]"
     ]
    },
    {
     "name": "stderr",
     "output_type": "stream",
     "text": [
      "\r",
      "88472it [04:16, 367.78it/s]"
     ]
    },
    {
     "name": "stderr",
     "output_type": "stream",
     "text": [
      "\r",
      "88510it [04:16, 369.45it/s]"
     ]
    },
    {
     "name": "stderr",
     "output_type": "stream",
     "text": [
      "\r",
      "88548it [04:16, 370.93it/s]"
     ]
    },
    {
     "name": "stderr",
     "output_type": "stream",
     "text": [
      "\r",
      "88586it [04:16, 367.01it/s]"
     ]
    },
    {
     "name": "stderr",
     "output_type": "stream",
     "text": [
      "\r",
      "88624it [04:17, 370.64it/s]"
     ]
    },
    {
     "name": "stderr",
     "output_type": "stream",
     "text": [
      "\r",
      "88662it [04:17, 371.31it/s]"
     ]
    },
    {
     "name": "stderr",
     "output_type": "stream",
     "text": [
      "\r",
      "88700it [04:17, 369.31it/s]"
     ]
    },
    {
     "name": "stderr",
     "output_type": "stream",
     "text": [
      "\r",
      "88737it [04:17, 366.62it/s]"
     ]
    },
    {
     "name": "stderr",
     "output_type": "stream",
     "text": [
      "\r",
      "88777it [04:17, 375.54it/s]"
     ]
    },
    {
     "name": "stderr",
     "output_type": "stream",
     "text": [
      "\r",
      "88815it [04:17, 375.66it/s]"
     ]
    },
    {
     "name": "stderr",
     "output_type": "stream",
     "text": [
      "\r",
      "88853it [04:17, 375.24it/s]"
     ]
    },
    {
     "name": "stderr",
     "output_type": "stream",
     "text": [
      "\r",
      "88891it [04:17, 370.33it/s]"
     ]
    },
    {
     "name": "stderr",
     "output_type": "stream",
     "text": [
      "\r",
      "88929it [04:17, 368.81it/s]"
     ]
    },
    {
     "name": "stderr",
     "output_type": "stream",
     "text": [
      "\r",
      "88966it [04:17, 365.57it/s]"
     ]
    },
    {
     "name": "stderr",
     "output_type": "stream",
     "text": [
      "\r",
      "89003it [04:18, 362.86it/s]"
     ]
    },
    {
     "name": "stderr",
     "output_type": "stream",
     "text": [
      "\r",
      "89040it [04:18, 362.93it/s]"
     ]
    },
    {
     "name": "stderr",
     "output_type": "stream",
     "text": [
      "\r",
      "89078it [04:18, 366.86it/s]"
     ]
    },
    {
     "name": "stderr",
     "output_type": "stream",
     "text": [
      "\r",
      "89115it [04:18, 356.07it/s]"
     ]
    },
    {
     "name": "stderr",
     "output_type": "stream",
     "text": [
      "\r",
      "89154it [04:18, 364.03it/s]"
     ]
    },
    {
     "name": "stderr",
     "output_type": "stream",
     "text": [
      "\r",
      "89191it [04:18, 357.64it/s]"
     ]
    },
    {
     "name": "stderr",
     "output_type": "stream",
     "text": [
      "\r",
      "89230it [04:18, 365.51it/s]"
     ]
    },
    {
     "name": "stderr",
     "output_type": "stream",
     "text": [
      "\r",
      "89268it [04:18, 366.55it/s]"
     ]
    },
    {
     "name": "stderr",
     "output_type": "stream",
     "text": [
      "\r",
      "89305it [04:18, 365.40it/s]"
     ]
    },
    {
     "name": "stderr",
     "output_type": "stream",
     "text": [
      "\r",
      "89344it [04:18, 370.16it/s]"
     ]
    },
    {
     "name": "stderr",
     "output_type": "stream",
     "text": [
      "\r",
      "89383it [04:19, 373.78it/s]"
     ]
    },
    {
     "name": "stderr",
     "output_type": "stream",
     "text": [
      "\r",
      "89421it [04:19, 374.15it/s]"
     ]
    },
    {
     "name": "stderr",
     "output_type": "stream",
     "text": [
      "\r",
      "89459it [04:19, 369.68it/s]"
     ]
    },
    {
     "name": "stderr",
     "output_type": "stream",
     "text": [
      "\r",
      "89498it [04:19, 375.21it/s]"
     ]
    },
    {
     "name": "stderr",
     "output_type": "stream",
     "text": [
      "\r",
      "89536it [04:19, 367.21it/s]"
     ]
    },
    {
     "name": "stderr",
     "output_type": "stream",
     "text": [
      "\r",
      "89574it [04:19, 368.05it/s]"
     ]
    },
    {
     "name": "stderr",
     "output_type": "stream",
     "text": [
      "\r",
      "89612it [04:19, 369.66it/s]"
     ]
    },
    {
     "name": "stderr",
     "output_type": "stream",
     "text": [
      "\r",
      "89649it [04:19, 366.98it/s]"
     ]
    },
    {
     "name": "stderr",
     "output_type": "stream",
     "text": [
      "\r",
      "89686it [04:19, 367.84it/s]"
     ]
    },
    {
     "name": "stderr",
     "output_type": "stream",
     "text": [
      "\r",
      "89724it [04:19, 369.34it/s]"
     ]
    },
    {
     "name": "stderr",
     "output_type": "stream",
     "text": [
      "\r",
      "89761it [04:20, 369.48it/s]"
     ]
    },
    {
     "name": "stderr",
     "output_type": "stream",
     "text": [
      "\r",
      "89799it [04:20, 369.78it/s]"
     ]
    },
    {
     "name": "stderr",
     "output_type": "stream",
     "text": [
      "\r",
      "89836it [04:20, 362.96it/s]"
     ]
    },
    {
     "name": "stderr",
     "output_type": "stream",
     "text": [
      "\r",
      "89873it [04:20, 358.48it/s]"
     ]
    },
    {
     "name": "stderr",
     "output_type": "stream",
     "text": [
      "\r",
      "89912it [04:20, 365.89it/s]"
     ]
    },
    {
     "name": "stderr",
     "output_type": "stream",
     "text": [
      "\r",
      "89950it [04:20, 367.77it/s]"
     ]
    },
    {
     "name": "stderr",
     "output_type": "stream",
     "text": [
      "\r",
      "89988it [04:20, 369.43it/s]"
     ]
    },
    {
     "name": "stderr",
     "output_type": "stream",
     "text": [
      "\r",
      "90025it [04:20, 363.56it/s]"
     ]
    },
    {
     "name": "stderr",
     "output_type": "stream",
     "text": [
      "\r",
      "90063it [04:20, 365.73it/s]"
     ]
    },
    {
     "name": "stderr",
     "output_type": "stream",
     "text": [
      "\r",
      "90100it [04:21, 365.45it/s]"
     ]
    },
    {
     "name": "stderr",
     "output_type": "stream",
     "text": [
      "\r",
      "90137it [04:21, 364.61it/s]"
     ]
    },
    {
     "name": "stderr",
     "output_type": "stream",
     "text": [
      "\r",
      "90174it [04:21, 365.24it/s]"
     ]
    },
    {
     "name": "stderr",
     "output_type": "stream",
     "text": [
      "\r",
      "90212it [04:21, 367.47it/s]"
     ]
    },
    {
     "name": "stderr",
     "output_type": "stream",
     "text": [
      "\r",
      "90249it [04:21, 364.52it/s]"
     ]
    },
    {
     "name": "stderr",
     "output_type": "stream",
     "text": [
      "\r",
      "90286it [04:21, 362.89it/s]"
     ]
    },
    {
     "name": "stderr",
     "output_type": "stream",
     "text": [
      "\r",
      "90324it [04:21, 365.83it/s]"
     ]
    },
    {
     "name": "stderr",
     "output_type": "stream",
     "text": [
      "\r",
      "90361it [04:21, 363.90it/s]"
     ]
    },
    {
     "name": "stderr",
     "output_type": "stream",
     "text": [
      "\r",
      "90398it [04:21, 363.83it/s]"
     ]
    },
    {
     "name": "stderr",
     "output_type": "stream",
     "text": [
      "\r",
      "90436it [04:21, 366.36it/s]"
     ]
    },
    {
     "name": "stderr",
     "output_type": "stream",
     "text": [
      "\r",
      "90476it [04:22, 373.06it/s]"
     ]
    },
    {
     "name": "stderr",
     "output_type": "stream",
     "text": [
      "\r",
      "90514it [04:22, 372.11it/s]"
     ]
    },
    {
     "name": "stderr",
     "output_type": "stream",
     "text": [
      "\r",
      "90552it [04:22, 369.00it/s]"
     ]
    },
    {
     "name": "stderr",
     "output_type": "stream",
     "text": [
      "\r",
      "90589it [04:22, 366.32it/s]"
     ]
    },
    {
     "name": "stderr",
     "output_type": "stream",
     "text": [
      "\r",
      "90627it [04:22, 368.05it/s]"
     ]
    },
    {
     "name": "stderr",
     "output_type": "stream",
     "text": [
      "\r",
      "90664it [04:22, 367.53it/s]"
     ]
    },
    {
     "name": "stderr",
     "output_type": "stream",
     "text": [
      "\r",
      "90701it [04:22, 364.73it/s]"
     ]
    },
    {
     "name": "stderr",
     "output_type": "stream",
     "text": [
      "\r",
      "90739it [04:22, 368.14it/s]"
     ]
    },
    {
     "name": "stderr",
     "output_type": "stream",
     "text": [
      "\r",
      "90776it [04:22, 364.97it/s]"
     ]
    },
    {
     "name": "stderr",
     "output_type": "stream",
     "text": [
      "\r",
      "90813it [04:22, 365.25it/s]"
     ]
    },
    {
     "name": "stderr",
     "output_type": "stream",
     "text": [
      "\r",
      "90850it [04:23, 363.81it/s]"
     ]
    },
    {
     "name": "stderr",
     "output_type": "stream",
     "text": [
      "\r",
      "90888it [04:23, 367.67it/s]"
     ]
    },
    {
     "name": "stderr",
     "output_type": "stream",
     "text": [
      "\r",
      "90925it [04:23, 367.58it/s]"
     ]
    },
    {
     "name": "stderr",
     "output_type": "stream",
     "text": [
      "\r",
      "90962it [04:23, 365.37it/s]"
     ]
    },
    {
     "name": "stderr",
     "output_type": "stream",
     "text": [
      "\r",
      "90999it [04:23, 360.76it/s]"
     ]
    },
    {
     "name": "stderr",
     "output_type": "stream",
     "text": [
      "\r",
      "91038it [04:23, 369.16it/s]"
     ]
    },
    {
     "name": "stderr",
     "output_type": "stream",
     "text": [
      "\r",
      "91077it [04:23, 374.23it/s]"
     ]
    },
    {
     "name": "stderr",
     "output_type": "stream",
     "text": [
      "\r",
      "91115it [04:23, 374.81it/s]"
     ]
    },
    {
     "name": "stderr",
     "output_type": "stream",
     "text": [
      "\r",
      "91153it [04:23, 363.71it/s]"
     ]
    },
    {
     "name": "stderr",
     "output_type": "stream",
     "text": [
      "\r",
      "91190it [04:24, 358.55it/s]"
     ]
    },
    {
     "name": "stderr",
     "output_type": "stream",
     "text": [
      "\r",
      "91226it [04:24, 356.12it/s]"
     ]
    },
    {
     "name": "stderr",
     "output_type": "stream",
     "text": [
      "\r",
      "91262it [04:24, 354.05it/s]"
     ]
    },
    {
     "name": "stderr",
     "output_type": "stream",
     "text": [
      "\r",
      "91301it [04:24, 361.77it/s]"
     ]
    },
    {
     "name": "stderr",
     "output_type": "stream",
     "text": [
      "\r",
      "91338it [04:24, 361.94it/s]"
     ]
    },
    {
     "name": "stderr",
     "output_type": "stream",
     "text": [
      "\r",
      "91375it [04:24, 360.55it/s]"
     ]
    },
    {
     "name": "stderr",
     "output_type": "stream",
     "text": [
      "\r",
      "91412it [04:24, 362.62it/s]"
     ]
    },
    {
     "name": "stderr",
     "output_type": "stream",
     "text": [
      "\r",
      "91449it [04:24, 360.87it/s]"
     ]
    },
    {
     "name": "stderr",
     "output_type": "stream",
     "text": [
      "\r",
      "91486it [04:24, 363.48it/s]"
     ]
    },
    {
     "name": "stderr",
     "output_type": "stream",
     "text": [
      "\r",
      "91525it [04:24, 368.26it/s]"
     ]
    },
    {
     "name": "stderr",
     "output_type": "stream",
     "text": [
      "\r",
      "91562it [04:25, 365.24it/s]"
     ]
    },
    {
     "name": "stderr",
     "output_type": "stream",
     "text": [
      "\r",
      "91599it [04:25, 363.09it/s]"
     ]
    },
    {
     "name": "stderr",
     "output_type": "stream",
     "text": [
      "\r",
      "91636it [04:25, 360.93it/s]"
     ]
    },
    {
     "name": "stderr",
     "output_type": "stream",
     "text": [
      "\r",
      "91674it [04:25, 363.90it/s]"
     ]
    },
    {
     "name": "stderr",
     "output_type": "stream",
     "text": [
      "\r",
      "91711it [04:25, 356.21it/s]"
     ]
    },
    {
     "name": "stderr",
     "output_type": "stream",
     "text": [
      "\r",
      "91747it [04:25, 348.98it/s]"
     ]
    },
    {
     "name": "stderr",
     "output_type": "stream",
     "text": [
      "\r",
      "91783it [04:25, 350.36it/s]"
     ]
    },
    {
     "name": "stderr",
     "output_type": "stream",
     "text": [
      "\r",
      "91819it [04:25, 351.45it/s]"
     ]
    },
    {
     "name": "stderr",
     "output_type": "stream",
     "text": [
      "\r",
      "91855it [04:25, 353.62it/s]"
     ]
    },
    {
     "name": "stderr",
     "output_type": "stream",
     "text": [
      "\r",
      "91891it [04:25, 355.01it/s]"
     ]
    },
    {
     "name": "stderr",
     "output_type": "stream",
     "text": [
      "\r",
      "91927it [04:26, 351.31it/s]"
     ]
    },
    {
     "name": "stderr",
     "output_type": "stream",
     "text": [
      "\r",
      "91963it [04:26, 351.60it/s]"
     ]
    },
    {
     "name": "stderr",
     "output_type": "stream",
     "text": [
      "\r",
      "91999it [04:26, 349.58it/s]"
     ]
    },
    {
     "name": "stderr",
     "output_type": "stream",
     "text": [
      "\r",
      "92035it [04:26, 350.86it/s]"
     ]
    },
    {
     "name": "stderr",
     "output_type": "stream",
     "text": [
      "\r",
      "92071it [04:26, 352.37it/s]"
     ]
    },
    {
     "name": "stderr",
     "output_type": "stream",
     "text": [
      "\r",
      "92108it [04:26, 354.71it/s]"
     ]
    },
    {
     "name": "stderr",
     "output_type": "stream",
     "text": [
      "\r",
      "92144it [04:26, 351.92it/s]"
     ]
    },
    {
     "name": "stderr",
     "output_type": "stream",
     "text": [
      "\r",
      "92180it [04:26, 351.27it/s]"
     ]
    },
    {
     "name": "stderr",
     "output_type": "stream",
     "text": [
      "\r",
      "92216it [04:26, 347.78it/s]"
     ]
    },
    {
     "name": "stderr",
     "output_type": "stream",
     "text": [
      "\r",
      "92251it [04:26, 346.36it/s]"
     ]
    },
    {
     "name": "stderr",
     "output_type": "stream",
     "text": [
      "\r",
      "92286it [04:27, 344.15it/s]"
     ]
    },
    {
     "name": "stderr",
     "output_type": "stream",
     "text": [
      "\r",
      "92321it [04:27, 339.51it/s]"
     ]
    },
    {
     "name": "stderr",
     "output_type": "stream",
     "text": [
      "\r",
      "92356it [04:27, 342.41it/s]"
     ]
    },
    {
     "name": "stderr",
     "output_type": "stream",
     "text": [
      "\r",
      "92391it [04:27, 342.67it/s]"
     ]
    },
    {
     "name": "stderr",
     "output_type": "stream",
     "text": [
      "\r",
      "92426it [04:27, 341.61it/s]"
     ]
    },
    {
     "name": "stderr",
     "output_type": "stream",
     "text": [
      "\r",
      "92461it [04:27, 342.23it/s]"
     ]
    },
    {
     "name": "stderr",
     "output_type": "stream",
     "text": [
      "\r",
      "92497it [04:27, 344.45it/s]"
     ]
    },
    {
     "name": "stderr",
     "output_type": "stream",
     "text": [
      "\r",
      "92533it [04:27, 346.75it/s]"
     ]
    },
    {
     "name": "stderr",
     "output_type": "stream",
     "text": [
      "\r",
      "92569it [04:27, 348.98it/s]"
     ]
    },
    {
     "name": "stderr",
     "output_type": "stream",
     "text": [
      "\r",
      "92604it [04:28, 345.40it/s]"
     ]
    },
    {
     "name": "stderr",
     "output_type": "stream",
     "text": [
      "\r",
      "92641it [04:28, 350.68it/s]"
     ]
    },
    {
     "name": "stderr",
     "output_type": "stream",
     "text": [
      "\r",
      "92677it [04:28, 349.23it/s]"
     ]
    },
    {
     "name": "stderr",
     "output_type": "stream",
     "text": [
      "\r",
      "92712it [04:28, 346.01it/s]"
     ]
    },
    {
     "name": "stderr",
     "output_type": "stream",
     "text": [
      "\r",
      "92747it [04:28, 345.22it/s]"
     ]
    },
    {
     "name": "stderr",
     "output_type": "stream",
     "text": [
      "\r",
      "92782it [04:28, 344.38it/s]"
     ]
    },
    {
     "name": "stderr",
     "output_type": "stream",
     "text": [
      "\r",
      "92818it [04:28, 347.15it/s]"
     ]
    },
    {
     "name": "stderr",
     "output_type": "stream",
     "text": [
      "\r",
      "92854it [04:28, 350.32it/s]"
     ]
    },
    {
     "name": "stderr",
     "output_type": "stream",
     "text": [
      "\r",
      "92890it [04:28, 343.22it/s]"
     ]
    },
    {
     "name": "stderr",
     "output_type": "stream",
     "text": [
      "\r",
      "92926it [04:28, 345.48it/s]"
     ]
    },
    {
     "name": "stderr",
     "output_type": "stream",
     "text": [
      "\r",
      "92961it [04:29, 339.73it/s]"
     ]
    },
    {
     "name": "stderr",
     "output_type": "stream",
     "text": [
      "\r",
      "92996it [04:29, 337.72it/s]"
     ]
    },
    {
     "name": "stderr",
     "output_type": "stream",
     "text": [
      "\r",
      "93031it [04:29, 338.47it/s]"
     ]
    },
    {
     "name": "stderr",
     "output_type": "stream",
     "text": [
      "\r",
      "93068it [04:29, 345.40it/s]"
     ]
    },
    {
     "name": "stderr",
     "output_type": "stream",
     "text": [
      "\r",
      "93105it [04:29, 350.56it/s]"
     ]
    },
    {
     "name": "stderr",
     "output_type": "stream",
     "text": [
      "\r",
      "93141it [04:29, 346.58it/s]"
     ]
    },
    {
     "name": "stderr",
     "output_type": "stream",
     "text": [
      "\r",
      "93176it [04:29, 344.12it/s]"
     ]
    },
    {
     "name": "stderr",
     "output_type": "stream",
     "text": [
      "\r",
      "93211it [04:29, 340.53it/s]"
     ]
    },
    {
     "name": "stderr",
     "output_type": "stream",
     "text": [
      "\r",
      "93246it [04:29, 341.60it/s]"
     ]
    },
    {
     "name": "stderr",
     "output_type": "stream",
     "text": [
      "\r",
      "93281it [04:29, 340.96it/s]"
     ]
    },
    {
     "name": "stderr",
     "output_type": "stream",
     "text": [
      "\r",
      "93316it [04:30, 331.46it/s]"
     ]
    },
    {
     "name": "stderr",
     "output_type": "stream",
     "text": [
      "\r",
      "93351it [04:30, 336.07it/s]"
     ]
    },
    {
     "name": "stderr",
     "output_type": "stream",
     "text": [
      "\r",
      "93388it [04:30, 343.29it/s]"
     ]
    },
    {
     "name": "stderr",
     "output_type": "stream",
     "text": [
      "\r",
      "93423it [04:30, 341.23it/s]"
     ]
    },
    {
     "name": "stderr",
     "output_type": "stream",
     "text": [
      "\r",
      "93459it [04:30, 344.99it/s]"
     ]
    },
    {
     "name": "stderr",
     "output_type": "stream",
     "text": [
      "\r",
      "93494it [04:30, 340.05it/s]"
     ]
    },
    {
     "name": "stderr",
     "output_type": "stream",
     "text": [
      "\r",
      "93529it [04:30, 339.30it/s]"
     ]
    },
    {
     "name": "stderr",
     "output_type": "stream",
     "text": [
      "\r",
      "93564it [04:30, 339.47it/s]"
     ]
    },
    {
     "name": "stderr",
     "output_type": "stream",
     "text": [
      "\r",
      "93602it [04:30, 349.72it/s]"
     ]
    },
    {
     "name": "stderr",
     "output_type": "stream",
     "text": [
      "\r",
      "93637it [04:31, 346.80it/s]"
     ]
    },
    {
     "name": "stderr",
     "output_type": "stream",
     "text": [
      "\r",
      "93672it [04:31, 345.65it/s]"
     ]
    },
    {
     "name": "stderr",
     "output_type": "stream",
     "text": [
      "\r",
      "93708it [04:31, 347.60it/s]"
     ]
    },
    {
     "name": "stderr",
     "output_type": "stream",
     "text": [
      "\r",
      "93744it [04:31, 349.54it/s]"
     ]
    },
    {
     "name": "stderr",
     "output_type": "stream",
     "text": [
      "\r",
      "93780it [04:31, 351.64it/s]"
     ]
    },
    {
     "name": "stderr",
     "output_type": "stream",
     "text": [
      "\r",
      "93816it [04:31, 350.01it/s]"
     ]
    },
    {
     "name": "stderr",
     "output_type": "stream",
     "text": [
      "\r",
      "93852it [04:31, 336.58it/s]"
     ]
    },
    {
     "name": "stderr",
     "output_type": "stream",
     "text": [
      "\r",
      "93886it [04:31, 337.01it/s]"
     ]
    },
    {
     "name": "stderr",
     "output_type": "stream",
     "text": [
      "\r",
      "93920it [04:31, 335.17it/s]"
     ]
    },
    {
     "name": "stderr",
     "output_type": "stream",
     "text": [
      "\r",
      "93954it [04:31, 335.54it/s]"
     ]
    },
    {
     "name": "stderr",
     "output_type": "stream",
     "text": [
      "\r",
      "93988it [04:32, 334.89it/s]"
     ]
    },
    {
     "name": "stderr",
     "output_type": "stream",
     "text": [
      "\r",
      "94024it [04:32, 340.48it/s]"
     ]
    },
    {
     "name": "stderr",
     "output_type": "stream",
     "text": [
      "\r",
      "94059it [04:32, 341.88it/s]"
     ]
    },
    {
     "name": "stderr",
     "output_type": "stream",
     "text": [
      "\r",
      "94095it [04:32, 343.92it/s]"
     ]
    },
    {
     "name": "stderr",
     "output_type": "stream",
     "text": [
      "\r",
      "94130it [04:32, 337.44it/s]"
     ]
    },
    {
     "name": "stderr",
     "output_type": "stream",
     "text": [
      "\r",
      "94164it [04:32, 334.15it/s]"
     ]
    },
    {
     "name": "stderr",
     "output_type": "stream",
     "text": [
      "\r",
      "94198it [04:32, 333.88it/s]"
     ]
    },
    {
     "name": "stderr",
     "output_type": "stream",
     "text": [
      "\r",
      "94232it [04:32, 332.57it/s]"
     ]
    },
    {
     "name": "stderr",
     "output_type": "stream",
     "text": [
      "\r",
      "94266it [04:32, 332.43it/s]"
     ]
    },
    {
     "name": "stderr",
     "output_type": "stream",
     "text": [
      "\r",
      "94301it [04:32, 336.08it/s]"
     ]
    },
    {
     "name": "stderr",
     "output_type": "stream",
     "text": [
      "\r",
      "94336it [04:33, 337.70it/s]"
     ]
    },
    {
     "name": "stderr",
     "output_type": "stream",
     "text": [
      "\r",
      "94370it [04:33, 330.29it/s]"
     ]
    },
    {
     "name": "stderr",
     "output_type": "stream",
     "text": [
      "\r",
      "94406it [04:33, 338.01it/s]"
     ]
    },
    {
     "name": "stderr",
     "output_type": "stream",
     "text": [
      "\r",
      "94440it [04:33, 331.27it/s]"
     ]
    },
    {
     "name": "stderr",
     "output_type": "stream",
     "text": [
      "\r",
      "94475it [04:33, 335.23it/s]"
     ]
    },
    {
     "name": "stderr",
     "output_type": "stream",
     "text": [
      "\r",
      "94509it [04:33, 256.18it/s]"
     ]
    },
    {
     "name": "stderr",
     "output_type": "stream",
     "text": [
      "\r",
      "94543it [04:33, 275.34it/s]"
     ]
    },
    {
     "name": "stderr",
     "output_type": "stream",
     "text": [
      "\r",
      "94576it [04:33, 288.88it/s]"
     ]
    },
    {
     "name": "stderr",
     "output_type": "stream",
     "text": [
      "\r",
      "94612it [04:34, 304.73it/s]"
     ]
    },
    {
     "name": "stderr",
     "output_type": "stream",
     "text": [
      "\r",
      "94646it [04:34, 312.44it/s]"
     ]
    },
    {
     "name": "stderr",
     "output_type": "stream",
     "text": [
      "\r",
      "94680it [04:34, 319.73it/s]"
     ]
    },
    {
     "name": "stderr",
     "output_type": "stream",
     "text": [
      "\r",
      "94715it [04:34, 326.47it/s]"
     ]
    },
    {
     "name": "stderr",
     "output_type": "stream",
     "text": [
      "\r",
      "94749it [04:34, 329.17it/s]"
     ]
    },
    {
     "name": "stderr",
     "output_type": "stream",
     "text": [
      "\r",
      "94783it [04:34, 320.16it/s]"
     ]
    },
    {
     "name": "stderr",
     "output_type": "stream",
     "text": [
      "\r",
      "94816it [04:34, 319.82it/s]"
     ]
    },
    {
     "name": "stderr",
     "output_type": "stream",
     "text": [
      "\r",
      "94850it [04:34, 323.57it/s]"
     ]
    },
    {
     "name": "stderr",
     "output_type": "stream",
     "text": [
      "\r",
      "94883it [04:34, 325.14it/s]"
     ]
    },
    {
     "name": "stderr",
     "output_type": "stream",
     "text": [
      "\r",
      "94919it [04:34, 335.25it/s]"
     ]
    },
    {
     "name": "stderr",
     "output_type": "stream",
     "text": [
      "\r",
      "94953it [04:35, 336.26it/s]"
     ]
    },
    {
     "name": "stderr",
     "output_type": "stream",
     "text": [
      "\r",
      "94987it [04:35, 335.47it/s]"
     ]
    },
    {
     "name": "stderr",
     "output_type": "stream",
     "text": [
      "\r",
      "95021it [04:35, 333.52it/s]"
     ]
    },
    {
     "name": "stderr",
     "output_type": "stream",
     "text": [
      "\r",
      "95055it [04:35, 332.46it/s]"
     ]
    },
    {
     "name": "stderr",
     "output_type": "stream",
     "text": [
      "\r",
      "95089it [04:35, 333.07it/s]"
     ]
    },
    {
     "name": "stderr",
     "output_type": "stream",
     "text": [
      "\r",
      "95123it [04:35, 330.81it/s]"
     ]
    },
    {
     "name": "stderr",
     "output_type": "stream",
     "text": [
      "\r",
      "95157it [04:35, 328.73it/s]"
     ]
    },
    {
     "name": "stderr",
     "output_type": "stream",
     "text": [
      "\r",
      "95191it [04:35, 330.50it/s]"
     ]
    },
    {
     "name": "stderr",
     "output_type": "stream",
     "text": [
      "\r",
      "95226it [04:35, 335.27it/s]"
     ]
    },
    {
     "name": "stderr",
     "output_type": "stream",
     "text": [
      "\r",
      "95260it [04:35, 332.77it/s]"
     ]
    },
    {
     "name": "stderr",
     "output_type": "stream",
     "text": [
      "\r",
      "95295it [04:36, 336.80it/s]"
     ]
    },
    {
     "name": "stderr",
     "output_type": "stream",
     "text": [
      "\r",
      "95329it [04:36, 330.16it/s]"
     ]
    },
    {
     "name": "stderr",
     "output_type": "stream",
     "text": [
      "\r",
      "95366it [04:36, 340.78it/s]"
     ]
    },
    {
     "name": "stderr",
     "output_type": "stream",
     "text": [
      "\r",
      "95401it [04:36, 336.34it/s]"
     ]
    },
    {
     "name": "stderr",
     "output_type": "stream",
     "text": [
      "\r",
      "95435it [04:36, 334.45it/s]"
     ]
    },
    {
     "name": "stderr",
     "output_type": "stream",
     "text": [
      "\r",
      "95469it [04:36, 334.45it/s]"
     ]
    },
    {
     "name": "stderr",
     "output_type": "stream",
     "text": [
      "\r",
      "95503it [04:36, 332.28it/s]"
     ]
    },
    {
     "name": "stderr",
     "output_type": "stream",
     "text": [
      "\r",
      "95537it [04:36, 330.68it/s]"
     ]
    },
    {
     "name": "stderr",
     "output_type": "stream",
     "text": [
      "\r",
      "95573it [04:36, 337.28it/s]"
     ]
    },
    {
     "name": "stderr",
     "output_type": "stream",
     "text": [
      "\r",
      "95607it [04:37, 336.32it/s]"
     ]
    },
    {
     "name": "stderr",
     "output_type": "stream",
     "text": [
      "\r",
      "95642it [04:37, 339.06it/s]"
     ]
    },
    {
     "name": "stderr",
     "output_type": "stream",
     "text": [
      "\r",
      "95676it [04:37, 335.88it/s]"
     ]
    },
    {
     "name": "stderr",
     "output_type": "stream",
     "text": [
      "\r",
      "95710it [04:37, 335.51it/s]"
     ]
    },
    {
     "name": "stderr",
     "output_type": "stream",
     "text": [
      "\r",
      "95745it [04:37, 337.32it/s]"
     ]
    },
    {
     "name": "stderr",
     "output_type": "stream",
     "text": [
      "\r",
      "95780it [04:37, 340.13it/s]"
     ]
    },
    {
     "name": "stderr",
     "output_type": "stream",
     "text": [
      "\r",
      "95815it [04:37, 341.05it/s]"
     ]
    },
    {
     "name": "stderr",
     "output_type": "stream",
     "text": [
      "\r",
      "95850it [04:37, 337.22it/s]"
     ]
    },
    {
     "name": "stderr",
     "output_type": "stream",
     "text": [
      "\r",
      "95884it [04:37, 333.50it/s]"
     ]
    },
    {
     "name": "stderr",
     "output_type": "stream",
     "text": [
      "\r",
      "95918it [04:37, 333.30it/s]"
     ]
    },
    {
     "name": "stderr",
     "output_type": "stream",
     "text": [
      "\r",
      "95952it [04:38, 334.14it/s]"
     ]
    },
    {
     "name": "stderr",
     "output_type": "stream",
     "text": [
      "\r",
      "95986it [04:38, 332.31it/s]"
     ]
    },
    {
     "name": "stderr",
     "output_type": "stream",
     "text": [
      "\r",
      "96020it [04:38, 328.86it/s]"
     ]
    },
    {
     "name": "stderr",
     "output_type": "stream",
     "text": [
      "\r",
      "96055it [04:38, 331.97it/s]"
     ]
    },
    {
     "name": "stderr",
     "output_type": "stream",
     "text": [
      "\r",
      "96089it [04:38, 334.26it/s]"
     ]
    },
    {
     "name": "stderr",
     "output_type": "stream",
     "text": [
      "\r",
      "96123it [04:38, 334.07it/s]"
     ]
    },
    {
     "name": "stderr",
     "output_type": "stream",
     "text": [
      "\r",
      "96157it [04:38, 332.19it/s]"
     ]
    },
    {
     "name": "stderr",
     "output_type": "stream",
     "text": [
      "\r",
      "96191it [04:38, 330.70it/s]"
     ]
    },
    {
     "name": "stderr",
     "output_type": "stream",
     "text": [
      "\r",
      "96226it [04:38, 333.32it/s]"
     ]
    },
    {
     "name": "stderr",
     "output_type": "stream",
     "text": [
      "\r",
      "96260it [04:38, 331.26it/s]"
     ]
    },
    {
     "name": "stderr",
     "output_type": "stream",
     "text": [
      "\r",
      "96294it [04:39, 332.52it/s]"
     ]
    },
    {
     "name": "stderr",
     "output_type": "stream",
     "text": [
      "\r",
      "96328it [04:39, 333.51it/s]"
     ]
    },
    {
     "name": "stderr",
     "output_type": "stream",
     "text": [
      "\r",
      "96362it [04:39, 333.31it/s]"
     ]
    },
    {
     "name": "stderr",
     "output_type": "stream",
     "text": [
      "\r",
      "96397it [04:39, 335.59it/s]"
     ]
    },
    {
     "name": "stderr",
     "output_type": "stream",
     "text": [
      "\r",
      "96432it [04:39, 339.04it/s]"
     ]
    },
    {
     "name": "stderr",
     "output_type": "stream",
     "text": [
      "\r",
      "96466it [04:39, 337.60it/s]"
     ]
    },
    {
     "name": "stderr",
     "output_type": "stream",
     "text": [
      "\r",
      "96501it [04:39, 340.03it/s]"
     ]
    },
    {
     "name": "stderr",
     "output_type": "stream",
     "text": [
      "\r",
      "96536it [04:39, 332.61it/s]"
     ]
    },
    {
     "name": "stderr",
     "output_type": "stream",
     "text": [
      "\r",
      "96570it [04:39, 330.04it/s]"
     ]
    },
    {
     "name": "stderr",
     "output_type": "stream",
     "text": [
      "\r",
      "96604it [04:39, 328.52it/s]"
     ]
    },
    {
     "name": "stderr",
     "output_type": "stream",
     "text": [
      "\r",
      "96640it [04:40, 337.59it/s]"
     ]
    },
    {
     "name": "stderr",
     "output_type": "stream",
     "text": [
      "\r",
      "96675it [04:40, 339.10it/s]"
     ]
    },
    {
     "name": "stderr",
     "output_type": "stream",
     "text": [
      "\r",
      "96709it [04:40, 338.70it/s]"
     ]
    },
    {
     "name": "stderr",
     "output_type": "stream",
     "text": [
      "\r",
      "96743it [04:40, 338.70it/s]"
     ]
    },
    {
     "name": "stderr",
     "output_type": "stream",
     "text": [
      "\r",
      "96778it [04:40, 339.75it/s]"
     ]
    },
    {
     "name": "stderr",
     "output_type": "stream",
     "text": [
      "\r",
      "96812it [04:40, 339.44it/s]"
     ]
    },
    {
     "name": "stderr",
     "output_type": "stream",
     "text": [
      "\r",
      "96846it [04:40, 337.20it/s]"
     ]
    },
    {
     "name": "stderr",
     "output_type": "stream",
     "text": [
      "\r",
      "96880it [04:40, 329.00it/s]"
     ]
    },
    {
     "name": "stderr",
     "output_type": "stream",
     "text": [
      "\r",
      "96913it [04:40, 328.24it/s]"
     ]
    },
    {
     "name": "stderr",
     "output_type": "stream",
     "text": [
      "\r",
      "96949it [04:41, 333.67it/s]"
     ]
    },
    {
     "name": "stderr",
     "output_type": "stream",
     "text": [
      "\r",
      "96983it [04:41, 329.26it/s]"
     ]
    },
    {
     "name": "stderr",
     "output_type": "stream",
     "text": [
      "\r",
      "97017it [04:41, 330.38it/s]"
     ]
    },
    {
     "name": "stderr",
     "output_type": "stream",
     "text": [
      "\r",
      "97051it [04:41, 329.97it/s]"
     ]
    },
    {
     "name": "stderr",
     "output_type": "stream",
     "text": [
      "\r",
      "97085it [04:41, 327.31it/s]"
     ]
    },
    {
     "name": "stderr",
     "output_type": "stream",
     "text": [
      "\r",
      "97118it [04:41, 326.14it/s]"
     ]
    },
    {
     "name": "stderr",
     "output_type": "stream",
     "text": [
      "\r",
      "97152it [04:41, 328.62it/s]"
     ]
    },
    {
     "name": "stderr",
     "output_type": "stream",
     "text": [
      "\r",
      "97186it [04:41, 330.27it/s]"
     ]
    },
    {
     "name": "stderr",
     "output_type": "stream",
     "text": [
      "\r",
      "97220it [04:41, 331.94it/s]"
     ]
    },
    {
     "name": "stderr",
     "output_type": "stream",
     "text": [
      "\r",
      "97255it [04:41, 335.33it/s]"
     ]
    },
    {
     "name": "stderr",
     "output_type": "stream",
     "text": [
      "\r",
      "97289it [04:42, 336.27it/s]"
     ]
    },
    {
     "name": "stderr",
     "output_type": "stream",
     "text": [
      "\r",
      "97324it [04:42, 337.19it/s]"
     ]
    },
    {
     "name": "stderr",
     "output_type": "stream",
     "text": [
      "\r",
      "97358it [04:42, 337.96it/s]"
     ]
    },
    {
     "name": "stderr",
     "output_type": "stream",
     "text": [
      "\r",
      "97392it [04:42, 330.58it/s]"
     ]
    },
    {
     "name": "stderr",
     "output_type": "stream",
     "text": [
      "\r",
      "97427it [04:42, 333.97it/s]"
     ]
    },
    {
     "name": "stderr",
     "output_type": "stream",
     "text": [
      "\r",
      "97463it [04:42, 341.30it/s]"
     ]
    },
    {
     "name": "stderr",
     "output_type": "stream",
     "text": [
      "\r",
      "97498it [04:42, 338.22it/s]"
     ]
    },
    {
     "name": "stderr",
     "output_type": "stream",
     "text": [
      "\r",
      "97532it [04:42, 325.52it/s]"
     ]
    },
    {
     "name": "stderr",
     "output_type": "stream",
     "text": [
      "\r",
      "97565it [04:42, 326.78it/s]"
     ]
    },
    {
     "name": "stderr",
     "output_type": "stream",
     "text": [
      "\r",
      "97599it [04:42, 328.66it/s]"
     ]
    },
    {
     "name": "stderr",
     "output_type": "stream",
     "text": [
      "\r",
      "97634it [04:43, 332.49it/s]"
     ]
    },
    {
     "name": "stderr",
     "output_type": "stream",
     "text": [
      "\r",
      "97669it [04:43, 336.01it/s]"
     ]
    },
    {
     "name": "stderr",
     "output_type": "stream",
     "text": [
      "\r",
      "97703it [04:43, 330.79it/s]"
     ]
    },
    {
     "name": "stderr",
     "output_type": "stream",
     "text": [
      "\r",
      "97737it [04:43, 316.77it/s]"
     ]
    },
    {
     "name": "stderr",
     "output_type": "stream",
     "text": [
      "\r",
      "97771it [04:43, 323.14it/s]"
     ]
    },
    {
     "name": "stderr",
     "output_type": "stream",
     "text": [
      "\r",
      "97805it [04:43, 325.42it/s]"
     ]
    },
    {
     "name": "stderr",
     "output_type": "stream",
     "text": [
      "\r",
      "97838it [04:43, 323.73it/s]"
     ]
    },
    {
     "name": "stderr",
     "output_type": "stream",
     "text": [
      "\r",
      "97872it [04:43, 325.15it/s]"
     ]
    },
    {
     "name": "stderr",
     "output_type": "stream",
     "text": [
      "\r",
      "97905it [04:43, 318.10it/s]"
     ]
    },
    {
     "name": "stderr",
     "output_type": "stream",
     "text": [
      "\r",
      "97937it [04:44, 318.13it/s]"
     ]
    },
    {
     "name": "stderr",
     "output_type": "stream",
     "text": [
      "\r",
      "97970it [04:44, 320.11it/s]"
     ]
    },
    {
     "name": "stderr",
     "output_type": "stream",
     "text": [
      "\r",
      "98004it [04:44, 325.34it/s]"
     ]
    },
    {
     "name": "stderr",
     "output_type": "stream",
     "text": [
      "\r",
      "98038it [04:44, 327.07it/s]"
     ]
    },
    {
     "name": "stderr",
     "output_type": "stream",
     "text": [
      "\r",
      "98071it [04:44, 327.03it/s]"
     ]
    },
    {
     "name": "stderr",
     "output_type": "stream",
     "text": [
      "\r",
      "98104it [04:44, 326.39it/s]"
     ]
    },
    {
     "name": "stderr",
     "output_type": "stream",
     "text": [
      "\r",
      "98138it [04:44, 327.93it/s]"
     ]
    },
    {
     "name": "stderr",
     "output_type": "stream",
     "text": [
      "\r",
      "98172it [04:44, 328.02it/s]"
     ]
    },
    {
     "name": "stderr",
     "output_type": "stream",
     "text": [
      "\r",
      "98205it [04:44, 326.29it/s]"
     ]
    },
    {
     "name": "stderr",
     "output_type": "stream",
     "text": [
      "\r",
      "98238it [04:44, 322.11it/s]"
     ]
    },
    {
     "name": "stderr",
     "output_type": "stream",
     "text": [
      "\r",
      "98271it [04:45, 322.54it/s]"
     ]
    },
    {
     "name": "stderr",
     "output_type": "stream",
     "text": [
      "\r",
      "98306it [04:45, 330.12it/s]"
     ]
    },
    {
     "name": "stderr",
     "output_type": "stream",
     "text": [
      "\r",
      "98340it [04:45, 329.34it/s]"
     ]
    },
    {
     "name": "stderr",
     "output_type": "stream",
     "text": [
      "\r",
      "98374it [04:45, 330.64it/s]"
     ]
    },
    {
     "name": "stderr",
     "output_type": "stream",
     "text": [
      "\r",
      "98408it [04:45, 325.03it/s]"
     ]
    },
    {
     "name": "stderr",
     "output_type": "stream",
     "text": [
      "\r",
      "98441it [04:45, 326.09it/s]"
     ]
    },
    {
     "name": "stderr",
     "output_type": "stream",
     "text": [
      "\r",
      "98474it [04:45, 325.05it/s]"
     ]
    },
    {
     "name": "stderr",
     "output_type": "stream",
     "text": [
      "\r",
      "98507it [04:45, 323.94it/s]"
     ]
    },
    {
     "name": "stderr",
     "output_type": "stream",
     "text": [
      "\r",
      "98540it [04:45, 322.41it/s]"
     ]
    },
    {
     "name": "stderr",
     "output_type": "stream",
     "text": [
      "\r",
      "98573it [04:45, 321.62it/s]"
     ]
    },
    {
     "name": "stderr",
     "output_type": "stream",
     "text": [
      "\r",
      "98607it [04:46, 323.46it/s]"
     ]
    },
    {
     "name": "stderr",
     "output_type": "stream",
     "text": [
      "\r",
      "98640it [04:46, 323.71it/s]"
     ]
    },
    {
     "name": "stderr",
     "output_type": "stream",
     "text": [
      "\r",
      "98673it [04:46, 323.50it/s]"
     ]
    },
    {
     "name": "stderr",
     "output_type": "stream",
     "text": [
      "\r",
      "98707it [04:46, 326.18it/s]"
     ]
    },
    {
     "name": "stderr",
     "output_type": "stream",
     "text": [
      "\r",
      "98740it [04:46, 321.17it/s]"
     ]
    },
    {
     "name": "stderr",
     "output_type": "stream",
     "text": [
      "\r",
      "98773it [04:46, 321.37it/s]"
     ]
    },
    {
     "name": "stderr",
     "output_type": "stream",
     "text": [
      "\r",
      "98806it [04:46, 323.84it/s]"
     ]
    },
    {
     "name": "stderr",
     "output_type": "stream",
     "text": [
      "\r",
      "98839it [04:46, 325.26it/s]"
     ]
    },
    {
     "name": "stderr",
     "output_type": "stream",
     "text": [
      "\r",
      "98873it [04:46, 325.23it/s]"
     ]
    },
    {
     "name": "stderr",
     "output_type": "stream",
     "text": [
      "\r",
      "98906it [04:47, 324.86it/s]"
     ]
    },
    {
     "name": "stderr",
     "output_type": "stream",
     "text": [
      "\r",
      "98939it [04:47, 324.73it/s]"
     ]
    },
    {
     "name": "stderr",
     "output_type": "stream",
     "text": [
      "\r",
      "98974it [04:47, 331.38it/s]"
     ]
    },
    {
     "name": "stderr",
     "output_type": "stream",
     "text": [
      "\r",
      "99008it [04:47, 326.47it/s]"
     ]
    },
    {
     "name": "stderr",
     "output_type": "stream",
     "text": [
      "\r",
      "99041it [04:47, 321.70it/s]"
     ]
    },
    {
     "name": "stderr",
     "output_type": "stream",
     "text": [
      "\r",
      "99074it [04:47, 322.15it/s]"
     ]
    },
    {
     "name": "stderr",
     "output_type": "stream",
     "text": [
      "\r",
      "99109it [04:47, 330.24it/s]"
     ]
    },
    {
     "name": "stderr",
     "output_type": "stream",
     "text": [
      "\r",
      "99144it [04:47, 332.68it/s]"
     ]
    },
    {
     "name": "stderr",
     "output_type": "stream",
     "text": [
      "\r",
      "99178it [04:47, 332.57it/s]"
     ]
    },
    {
     "name": "stderr",
     "output_type": "stream",
     "text": [
      "\r",
      "99212it [04:47, 322.93it/s]"
     ]
    },
    {
     "name": "stderr",
     "output_type": "stream",
     "text": [
      "\r",
      "99245it [04:48, 321.22it/s]"
     ]
    },
    {
     "name": "stderr",
     "output_type": "stream",
     "text": [
      "\r",
      "99278it [04:48, 322.10it/s]"
     ]
    },
    {
     "name": "stderr",
     "output_type": "stream",
     "text": [
      "\r",
      "99311it [04:48, 322.89it/s]"
     ]
    },
    {
     "name": "stderr",
     "output_type": "stream",
     "text": [
      "\r",
      "99344it [04:48, 320.78it/s]"
     ]
    },
    {
     "name": "stderr",
     "output_type": "stream",
     "text": [
      "\r",
      "99377it [04:48, 316.68it/s]"
     ]
    },
    {
     "name": "stderr",
     "output_type": "stream",
     "text": [
      "\r",
      "99411it [04:48, 321.95it/s]"
     ]
    },
    {
     "name": "stderr",
     "output_type": "stream",
     "text": [
      "\r",
      "99444it [04:48, 323.48it/s]"
     ]
    },
    {
     "name": "stderr",
     "output_type": "stream",
     "text": [
      "\r",
      "99477it [04:48, 321.64it/s]"
     ]
    },
    {
     "name": "stderr",
     "output_type": "stream",
     "text": [
      "\r",
      "99512it [04:48, 328.25it/s]"
     ]
    },
    {
     "name": "stderr",
     "output_type": "stream",
     "text": [
      "\r",
      "99545it [04:48, 321.06it/s]"
     ]
    },
    {
     "name": "stderr",
     "output_type": "stream",
     "text": [
      "\r",
      "99578it [04:49, 321.26it/s]"
     ]
    },
    {
     "name": "stderr",
     "output_type": "stream",
     "text": [
      "\r",
      "99611it [04:49, 323.80it/s]"
     ]
    },
    {
     "name": "stderr",
     "output_type": "stream",
     "text": [
      "\r",
      "99645it [04:49, 326.50it/s]"
     ]
    },
    {
     "name": "stderr",
     "output_type": "stream",
     "text": [
      "\r",
      "99680it [04:49, 332.25it/s]"
     ]
    },
    {
     "name": "stderr",
     "output_type": "stream",
     "text": [
      "\r",
      "99714it [04:49, 326.72it/s]"
     ]
    },
    {
     "name": "stderr",
     "output_type": "stream",
     "text": [
      "\r",
      "99748it [04:49, 330.42it/s]"
     ]
    },
    {
     "name": "stderr",
     "output_type": "stream",
     "text": [
      "\r",
      "99782it [04:49, 328.81it/s]"
     ]
    },
    {
     "name": "stderr",
     "output_type": "stream",
     "text": [
      "\r",
      "99815it [04:49, 323.27it/s]"
     ]
    },
    {
     "name": "stderr",
     "output_type": "stream",
     "text": [
      "\r",
      "99849it [04:49, 324.80it/s]"
     ]
    },
    {
     "name": "stderr",
     "output_type": "stream",
     "text": [
      "\r",
      "99882it [04:50, 324.90it/s]"
     ]
    },
    {
     "name": "stderr",
     "output_type": "stream",
     "text": [
      "\r",
      "99917it [04:50, 328.30it/s]"
     ]
    },
    {
     "name": "stderr",
     "output_type": "stream",
     "text": [
      "\r",
      "99950it [04:50, 327.36it/s]"
     ]
    },
    {
     "name": "stderr",
     "output_type": "stream",
     "text": [
      "\r",
      "99983it [04:50, 327.27it/s]"
     ]
    },
    {
     "name": "stderr",
     "output_type": "stream",
     "text": [
      "\r",
      "100016it [04:50, 322.92it/s]"
     ]
    },
    {
     "name": "stderr",
     "output_type": "stream",
     "text": [
      "\r",
      "100049it [04:50, 322.78it/s]"
     ]
    },
    {
     "name": "stderr",
     "output_type": "stream",
     "text": [
      "\r",
      "100082it [04:50, 323.22it/s]"
     ]
    },
    {
     "name": "stderr",
     "output_type": "stream",
     "text": [
      "\r",
      "100115it [04:50, 323.36it/s]"
     ]
    },
    {
     "name": "stderr",
     "output_type": "stream",
     "text": [
      "\r",
      "100148it [04:50, 322.52it/s]"
     ]
    },
    {
     "name": "stderr",
     "output_type": "stream",
     "text": [
      "\r",
      "100181it [04:50, 323.26it/s]"
     ]
    },
    {
     "name": "stderr",
     "output_type": "stream",
     "text": [
      "\r",
      "100215it [04:51, 323.70it/s]"
     ]
    },
    {
     "name": "stderr",
     "output_type": "stream",
     "text": [
      "\r",
      "100248it [04:51, 321.82it/s]"
     ]
    },
    {
     "name": "stderr",
     "output_type": "stream",
     "text": [
      "\r",
      "100282it [04:51, 326.28it/s]"
     ]
    },
    {
     "name": "stderr",
     "output_type": "stream",
     "text": [
      "\r",
      "100315it [04:51, 322.60it/s]"
     ]
    },
    {
     "name": "stderr",
     "output_type": "stream",
     "text": [
      "\r",
      "100348it [04:51, 324.08it/s]"
     ]
    },
    {
     "name": "stderr",
     "output_type": "stream",
     "text": [
      "\r",
      "100381it [04:51, 324.64it/s]"
     ]
    },
    {
     "name": "stderr",
     "output_type": "stream",
     "text": [
      "\r",
      "100414it [04:51, 325.47it/s]"
     ]
    },
    {
     "name": "stderr",
     "output_type": "stream",
     "text": [
      "\r",
      "100448it [04:51, 327.82it/s]"
     ]
    },
    {
     "name": "stderr",
     "output_type": "stream",
     "text": [
      "\r",
      "100481it [04:51, 326.06it/s]"
     ]
    },
    {
     "name": "stderr",
     "output_type": "stream",
     "text": [
      "\r",
      "100515it [04:51, 329.66it/s]"
     ]
    },
    {
     "name": "stderr",
     "output_type": "stream",
     "text": [
      "\r",
      "100548it [04:52, 326.84it/s]"
     ]
    },
    {
     "name": "stderr",
     "output_type": "stream",
     "text": [
      "\r",
      "100581it [04:52, 319.89it/s]"
     ]
    },
    {
     "name": "stderr",
     "output_type": "stream",
     "text": [
      "\r",
      "100614it [04:52, 322.21it/s]"
     ]
    },
    {
     "name": "stderr",
     "output_type": "stream",
     "text": [
      "\r",
      "100650it [04:52, 331.14it/s]"
     ]
    },
    {
     "name": "stderr",
     "output_type": "stream",
     "text": [
      "\r",
      "100684it [04:52, 333.10it/s]"
     ]
    },
    {
     "name": "stderr",
     "output_type": "stream",
     "text": [
      "\r",
      "100718it [04:52, 330.58it/s]"
     ]
    },
    {
     "name": "stderr",
     "output_type": "stream",
     "text": [
      "\r",
      "100752it [04:52, 327.34it/s]"
     ]
    },
    {
     "name": "stderr",
     "output_type": "stream",
     "text": [
      "\r",
      "100785it [04:52, 325.33it/s]"
     ]
    },
    {
     "name": "stderr",
     "output_type": "stream",
     "text": [
      "\r",
      "100819it [04:52, 327.64it/s]"
     ]
    },
    {
     "name": "stderr",
     "output_type": "stream",
     "text": [
      "\r",
      "100853it [04:52, 329.07it/s]"
     ]
    },
    {
     "name": "stderr",
     "output_type": "stream",
     "text": [
      "\r",
      "100886it [04:53, 320.51it/s]"
     ]
    },
    {
     "name": "stderr",
     "output_type": "stream",
     "text": [
      "\r",
      "100920it [04:53, 324.23it/s]"
     ]
    },
    {
     "name": "stderr",
     "output_type": "stream",
     "text": [
      "\r",
      "100954it [04:53, 326.85it/s]"
     ]
    },
    {
     "name": "stderr",
     "output_type": "stream",
     "text": [
      "\r",
      "100987it [04:53, 327.11it/s]"
     ]
    },
    {
     "name": "stderr",
     "output_type": "stream",
     "text": [
      "\r",
      "101020it [04:53, 325.41it/s]"
     ]
    },
    {
     "name": "stderr",
     "output_type": "stream",
     "text": [
      "\r",
      "101054it [04:53, 327.16it/s]"
     ]
    },
    {
     "name": "stderr",
     "output_type": "stream",
     "text": [
      "\r",
      "101087it [04:53, 325.71it/s]"
     ]
    },
    {
     "name": "stderr",
     "output_type": "stream",
     "text": [
      "\r",
      "101121it [04:53, 327.19it/s]"
     ]
    },
    {
     "name": "stderr",
     "output_type": "stream",
     "text": [
      "\r",
      "101154it [04:53, 325.48it/s]"
     ]
    },
    {
     "name": "stderr",
     "output_type": "stream",
     "text": [
      "\r",
      "101188it [04:54, 328.01it/s]"
     ]
    },
    {
     "name": "stderr",
     "output_type": "stream",
     "text": [
      "\r",
      "101221it [04:54, 324.26it/s]"
     ]
    },
    {
     "name": "stderr",
     "output_type": "stream",
     "text": [
      "\r",
      "101254it [04:54, 324.87it/s]"
     ]
    },
    {
     "name": "stderr",
     "output_type": "stream",
     "text": [
      "\r",
      "101287it [04:54, 322.09it/s]"
     ]
    },
    {
     "name": "stderr",
     "output_type": "stream",
     "text": [
      "\r",
      "101320it [04:54, 323.13it/s]"
     ]
    },
    {
     "name": "stderr",
     "output_type": "stream",
     "text": [
      "\r",
      "101355it [04:54, 330.25it/s]"
     ]
    },
    {
     "name": "stderr",
     "output_type": "stream",
     "text": [
      "\r",
      "101389it [04:54, 327.44it/s]"
     ]
    },
    {
     "name": "stderr",
     "output_type": "stream",
     "text": [
      "\r",
      "101422it [04:54, 327.86it/s]"
     ]
    },
    {
     "name": "stderr",
     "output_type": "stream",
     "text": [
      "\r",
      "101455it [04:54, 326.87it/s]"
     ]
    },
    {
     "name": "stderr",
     "output_type": "stream",
     "text": [
      "\r",
      "101488it [04:54, 325.90it/s]"
     ]
    },
    {
     "name": "stderr",
     "output_type": "stream",
     "text": [
      "\r",
      "101522it [04:55, 328.73it/s]"
     ]
    },
    {
     "name": "stderr",
     "output_type": "stream",
     "text": [
      "\r",
      "101555it [04:55, 321.69it/s]"
     ]
    },
    {
     "name": "stderr",
     "output_type": "stream",
     "text": [
      "\r",
      "101588it [04:55, 318.79it/s]"
     ]
    },
    {
     "name": "stderr",
     "output_type": "stream",
     "text": [
      "\r",
      "101621it [04:55, 320.86it/s]"
     ]
    },
    {
     "name": "stderr",
     "output_type": "stream",
     "text": [
      "\r",
      "101654it [04:55, 322.11it/s]"
     ]
    },
    {
     "name": "stderr",
     "output_type": "stream",
     "text": [
      "\r",
      "101687it [04:55, 322.79it/s]"
     ]
    },
    {
     "name": "stderr",
     "output_type": "stream",
     "text": [
      "\r",
      "101720it [04:55, 319.91it/s]"
     ]
    },
    {
     "name": "stderr",
     "output_type": "stream",
     "text": [
      "\r",
      "101753it [04:55, 322.40it/s]"
     ]
    },
    {
     "name": "stderr",
     "output_type": "stream",
     "text": [
      "\r",
      "101786it [04:55, 316.99it/s]"
     ]
    },
    {
     "name": "stderr",
     "output_type": "stream",
     "text": [
      "\r",
      "101819it [04:55, 320.04it/s]"
     ]
    },
    {
     "name": "stderr",
     "output_type": "stream",
     "text": [
      "\r",
      "101854it [04:56, 327.56it/s]"
     ]
    },
    {
     "name": "stderr",
     "output_type": "stream",
     "text": [
      "\r",
      "101887it [04:56, 325.23it/s]"
     ]
    },
    {
     "name": "stderr",
     "output_type": "stream",
     "text": [
      "\r",
      "101920it [04:56, 324.05it/s]"
     ]
    },
    {
     "name": "stderr",
     "output_type": "stream",
     "text": [
      "\r",
      "101953it [04:56, 325.06it/s]"
     ]
    },
    {
     "name": "stderr",
     "output_type": "stream",
     "text": [
      "\r",
      "101988it [04:56, 331.29it/s]"
     ]
    },
    {
     "name": "stderr",
     "output_type": "stream",
     "text": [
      "\r",
      "102022it [04:56, 333.24it/s]"
     ]
    },
    {
     "name": "stderr",
     "output_type": "stream",
     "text": [
      "\r",
      "102056it [04:56, 327.60it/s]"
     ]
    },
    {
     "name": "stderr",
     "output_type": "stream",
     "text": [
      "\r",
      "102089it [04:56, 326.37it/s]"
     ]
    },
    {
     "name": "stderr",
     "output_type": "stream",
     "text": [
      "\r",
      "102122it [04:56, 323.18it/s]"
     ]
    },
    {
     "name": "stderr",
     "output_type": "stream",
     "text": [
      "\r",
      "102156it [04:57, 326.41it/s]"
     ]
    },
    {
     "name": "stderr",
     "output_type": "stream",
     "text": [
      "\r",
      "102190it [04:57, 327.81it/s]"
     ]
    },
    {
     "name": "stderr",
     "output_type": "stream",
     "text": [
      "\r",
      "102223it [04:57, 321.31it/s]"
     ]
    },
    {
     "name": "stderr",
     "output_type": "stream",
     "text": [
      "\r",
      "102256it [04:57, 322.44it/s]"
     ]
    },
    {
     "name": "stderr",
     "output_type": "stream",
     "text": [
      "\r",
      "102290it [04:57, 324.70it/s]"
     ]
    },
    {
     "name": "stderr",
     "output_type": "stream",
     "text": [
      "\r",
      "102323it [04:57, 326.00it/s]"
     ]
    },
    {
     "name": "stderr",
     "output_type": "stream",
     "text": [
      "\r",
      "102356it [04:57, 322.48it/s]"
     ]
    },
    {
     "name": "stderr",
     "output_type": "stream",
     "text": [
      "\r",
      "102389it [04:57, 324.29it/s]"
     ]
    },
    {
     "name": "stderr",
     "output_type": "stream",
     "text": [
      "\r",
      "102422it [04:57, 319.09it/s]"
     ]
    },
    {
     "name": "stderr",
     "output_type": "stream",
     "text": [
      "\r",
      "102455it [04:57, 319.24it/s]"
     ]
    },
    {
     "name": "stderr",
     "output_type": "stream",
     "text": [
      "\r",
      "102488it [04:58, 321.64it/s]"
     ]
    },
    {
     "name": "stderr",
     "output_type": "stream",
     "text": [
      "\r",
      "102521it [04:58, 322.08it/s]"
     ]
    },
    {
     "name": "stderr",
     "output_type": "stream",
     "text": [
      "\r",
      "102556it [04:58, 327.15it/s]"
     ]
    },
    {
     "name": "stderr",
     "output_type": "stream",
     "text": [
      "\r",
      "102590it [04:58, 330.33it/s]"
     ]
    },
    {
     "name": "stderr",
     "output_type": "stream",
     "text": [
      "\r",
      "102624it [04:58, 329.97it/s]"
     ]
    },
    {
     "name": "stderr",
     "output_type": "stream",
     "text": [
      "\r",
      "102658it [04:58, 328.48it/s]"
     ]
    },
    {
     "name": "stderr",
     "output_type": "stream",
     "text": [
      "\r",
      "102691it [04:58, 323.78it/s]"
     ]
    },
    {
     "name": "stderr",
     "output_type": "stream",
     "text": [
      "\r",
      "102724it [04:58, 323.98it/s]"
     ]
    },
    {
     "name": "stderr",
     "output_type": "stream",
     "text": [
      "\r",
      "102757it [04:58, 324.52it/s]"
     ]
    },
    {
     "name": "stderr",
     "output_type": "stream",
     "text": [
      "\r",
      "102790it [04:58, 319.66it/s]"
     ]
    },
    {
     "name": "stderr",
     "output_type": "stream",
     "text": [
      "\r",
      "102823it [04:59, 320.57it/s]"
     ]
    },
    {
     "name": "stderr",
     "output_type": "stream",
     "text": [
      "\r",
      "102856it [04:59, 323.22it/s]"
     ]
    },
    {
     "name": "stderr",
     "output_type": "stream",
     "text": [
      "\r",
      "102889it [04:59, 320.73it/s]"
     ]
    },
    {
     "name": "stderr",
     "output_type": "stream",
     "text": [
      "\r",
      "102922it [04:59, 317.73it/s]"
     ]
    },
    {
     "name": "stderr",
     "output_type": "stream",
     "text": [
      "\r",
      "102957it [04:59, 326.99it/s]"
     ]
    },
    {
     "name": "stderr",
     "output_type": "stream",
     "text": [
      "\r",
      "102990it [04:59, 320.60it/s]"
     ]
    },
    {
     "name": "stderr",
     "output_type": "stream",
     "text": [
      "\r",
      "103023it [04:59, 321.79it/s]"
     ]
    },
    {
     "name": "stderr",
     "output_type": "stream",
     "text": [
      "\r",
      "103056it [04:59, 323.72it/s]"
     ]
    },
    {
     "name": "stderr",
     "output_type": "stream",
     "text": [
      "\r",
      "103092it [04:59, 332.03it/s]"
     ]
    },
    {
     "name": "stderr",
     "output_type": "stream",
     "text": [
      "\r",
      "103128it [04:59, 337.90it/s]"
     ]
    },
    {
     "name": "stderr",
     "output_type": "stream",
     "text": [
      "\r",
      "103162it [05:00, 337.07it/s]"
     ]
    },
    {
     "name": "stderr",
     "output_type": "stream",
     "text": [
      "\r",
      "103196it [05:00, 335.78it/s]"
     ]
    },
    {
     "name": "stderr",
     "output_type": "stream",
     "text": [
      "\r",
      "103230it [05:00, 331.11it/s]"
     ]
    },
    {
     "name": "stderr",
     "output_type": "stream",
     "text": [
      "\r",
      "103265it [05:00, 335.34it/s]"
     ]
    },
    {
     "name": "stderr",
     "output_type": "stream",
     "text": [
      "\r",
      "103299it [05:00, 336.01it/s]"
     ]
    },
    {
     "name": "stderr",
     "output_type": "stream",
     "text": [
      "\r",
      "103333it [05:00, 330.14it/s]"
     ]
    },
    {
     "name": "stderr",
     "output_type": "stream",
     "text": [
      "\r",
      "103368it [05:00, 332.86it/s]"
     ]
    },
    {
     "name": "stderr",
     "output_type": "stream",
     "text": [
      "\r",
      "103402it [05:00, 330.23it/s]"
     ]
    },
    {
     "name": "stderr",
     "output_type": "stream",
     "text": [
      "\r",
      "103436it [05:00, 330.05it/s]"
     ]
    },
    {
     "name": "stderr",
     "output_type": "stream",
     "text": [
      "\r",
      "103470it [05:01, 328.69it/s]"
     ]
    },
    {
     "name": "stderr",
     "output_type": "stream",
     "text": [
      "\r",
      "103505it [05:01, 333.07it/s]"
     ]
    },
    {
     "name": "stderr",
     "output_type": "stream",
     "text": [
      "\r",
      "103539it [05:01, 329.73it/s]"
     ]
    },
    {
     "name": "stderr",
     "output_type": "stream",
     "text": [
      "\r",
      "103573it [05:01, 331.31it/s]"
     ]
    },
    {
     "name": "stderr",
     "output_type": "stream",
     "text": [
      "\r",
      "103609it [05:01, 338.06it/s]"
     ]
    },
    {
     "name": "stderr",
     "output_type": "stream",
     "text": [
      "\r",
      "103644it [05:01, 339.76it/s]"
     ]
    },
    {
     "name": "stderr",
     "output_type": "stream",
     "text": [
      "\r",
      "103681it [05:01, 348.29it/s]"
     ]
    },
    {
     "name": "stderr",
     "output_type": "stream",
     "text": [
      "\r",
      "103716it [05:01, 344.73it/s]"
     ]
    },
    {
     "name": "stderr",
     "output_type": "stream",
     "text": [
      "\r",
      "103751it [05:01, 346.09it/s]"
     ]
    },
    {
     "name": "stderr",
     "output_type": "stream",
     "text": [
      "\r",
      "103786it [05:01, 342.93it/s]"
     ]
    },
    {
     "name": "stderr",
     "output_type": "stream",
     "text": [
      "\r",
      "103821it [05:02, 343.92it/s]"
     ]
    },
    {
     "name": "stderr",
     "output_type": "stream",
     "text": [
      "\r",
      "103856it [05:02, 345.52it/s]"
     ]
    },
    {
     "name": "stderr",
     "output_type": "stream",
     "text": [
      "\r",
      "103891it [05:02, 342.13it/s]"
     ]
    },
    {
     "name": "stderr",
     "output_type": "stream",
     "text": [
      "\r",
      "103926it [05:02, 329.94it/s]"
     ]
    },
    {
     "name": "stderr",
     "output_type": "stream",
     "text": [
      "\r",
      "103960it [05:02, 328.84it/s]"
     ]
    },
    {
     "name": "stderr",
     "output_type": "stream",
     "text": [
      "\r",
      "103997it [05:02, 340.71it/s]"
     ]
    },
    {
     "name": "stderr",
     "output_type": "stream",
     "text": [
      "\r",
      "104032it [05:02, 337.78it/s]"
     ]
    },
    {
     "name": "stderr",
     "output_type": "stream",
     "text": [
      "\r",
      "104069it [05:02, 345.31it/s]"
     ]
    },
    {
     "name": "stderr",
     "output_type": "stream",
     "text": [
      "\r",
      "104104it [05:02, 345.77it/s]"
     ]
    },
    {
     "name": "stderr",
     "output_type": "stream",
     "text": [
      "\r",
      "104141it [05:02, 350.71it/s]"
     ]
    },
    {
     "name": "stderr",
     "output_type": "stream",
     "text": [
      "\r",
      "104177it [05:03, 344.40it/s]"
     ]
    },
    {
     "name": "stderr",
     "output_type": "stream",
     "text": [
      "\r",
      "104213it [05:03, 345.07it/s]"
     ]
    },
    {
     "name": "stderr",
     "output_type": "stream",
     "text": [
      "\r",
      "104248it [05:03, 342.16it/s]"
     ]
    },
    {
     "name": "stderr",
     "output_type": "stream",
     "text": [
      "\r",
      "104283it [05:03, 340.75it/s]"
     ]
    },
    {
     "name": "stderr",
     "output_type": "stream",
     "text": [
      "\r",
      "104319it [05:03, 344.34it/s]"
     ]
    },
    {
     "name": "stderr",
     "output_type": "stream",
     "text": [
      "\r",
      "104355it [05:03, 346.58it/s]"
     ]
    },
    {
     "name": "stderr",
     "output_type": "stream",
     "text": [
      "\r",
      "104390it [05:03, 346.21it/s]"
     ]
    },
    {
     "name": "stderr",
     "output_type": "stream",
     "text": [
      "\r",
      "104425it [05:03, 337.39it/s]"
     ]
    },
    {
     "name": "stderr",
     "output_type": "stream",
     "text": [
      "\r",
      "104461it [05:03, 342.28it/s]"
     ]
    },
    {
     "name": "stderr",
     "output_type": "stream",
     "text": [
      "\r",
      "104496it [05:04, 344.23it/s]"
     ]
    },
    {
     "name": "stderr",
     "output_type": "stream",
     "text": [
      "\r",
      "104532it [05:04, 346.54it/s]"
     ]
    },
    {
     "name": "stderr",
     "output_type": "stream",
     "text": [
      "\r",
      "104567it [05:04, 344.60it/s]"
     ]
    },
    {
     "name": "stderr",
     "output_type": "stream",
     "text": [
      "\r",
      "104602it [05:04, 338.59it/s]"
     ]
    },
    {
     "name": "stderr",
     "output_type": "stream",
     "text": [
      "\r",
      "104636it [05:04, 338.85it/s]"
     ]
    },
    {
     "name": "stderr",
     "output_type": "stream",
     "text": [
      "\r",
      "104671it [05:04, 340.13it/s]"
     ]
    },
    {
     "name": "stderr",
     "output_type": "stream",
     "text": [
      "\r",
      "104706it [05:04, 342.61it/s]"
     ]
    },
    {
     "name": "stderr",
     "output_type": "stream",
     "text": [
      "\r",
      "104741it [05:04, 342.77it/s]"
     ]
    },
    {
     "name": "stderr",
     "output_type": "stream",
     "text": [
      "\r",
      "104776it [05:04, 338.76it/s]"
     ]
    },
    {
     "name": "stderr",
     "output_type": "stream",
     "text": [
      "\r",
      "104811it [05:04, 341.94it/s]"
     ]
    },
    {
     "name": "stderr",
     "output_type": "stream",
     "text": [
      "\r",
      "104846it [05:05, 340.46it/s]"
     ]
    },
    {
     "name": "stderr",
     "output_type": "stream",
     "text": [
      "\r",
      "104881it [05:05, 339.48it/s]"
     ]
    },
    {
     "name": "stderr",
     "output_type": "stream",
     "text": [
      "\r",
      "104916it [05:05, 341.58it/s]"
     ]
    },
    {
     "name": "stderr",
     "output_type": "stream",
     "text": [
      "\r",
      "104951it [05:05, 341.94it/s]"
     ]
    },
    {
     "name": "stderr",
     "output_type": "stream",
     "text": [
      "\r",
      "104986it [05:05, 344.14it/s]"
     ]
    },
    {
     "name": "stderr",
     "output_type": "stream",
     "text": [
      "\r",
      "105023it [05:05, 348.37it/s]"
     ]
    },
    {
     "name": "stderr",
     "output_type": "stream",
     "text": [
      "\r",
      "105058it [05:05, 346.09it/s]"
     ]
    },
    {
     "name": "stderr",
     "output_type": "stream",
     "text": [
      "\r",
      "105094it [05:05, 348.65it/s]"
     ]
    },
    {
     "name": "stderr",
     "output_type": "stream",
     "text": [
      "\r",
      "105129it [05:05, 347.95it/s]"
     ]
    },
    {
     "name": "stderr",
     "output_type": "stream",
     "text": [
      "\r",
      "105164it [05:05, 344.37it/s]"
     ]
    },
    {
     "name": "stderr",
     "output_type": "stream",
     "text": [
      "\r",
      "105200it [05:06, 347.74it/s]"
     ]
    },
    {
     "name": "stderr",
     "output_type": "stream",
     "text": [
      "\r",
      "105235it [05:06, 348.26it/s]"
     ]
    },
    {
     "name": "stderr",
     "output_type": "stream",
     "text": [
      "\r",
      "105270it [05:06, 347.17it/s]"
     ]
    },
    {
     "name": "stderr",
     "output_type": "stream",
     "text": [
      "\r",
      "105305it [05:06, 346.24it/s]"
     ]
    },
    {
     "name": "stderr",
     "output_type": "stream",
     "text": [
      "\r",
      "105340it [05:06, 346.32it/s]"
     ]
    },
    {
     "name": "stderr",
     "output_type": "stream",
     "text": [
      "\r",
      "105375it [05:06, 345.04it/s]"
     ]
    },
    {
     "name": "stderr",
     "output_type": "stream",
     "text": [
      "\r",
      "105411it [05:06, 349.21it/s]"
     ]
    },
    {
     "name": "stderr",
     "output_type": "stream",
     "text": [
      "\r",
      "105446it [05:06, 348.49it/s]"
     ]
    },
    {
     "name": "stderr",
     "output_type": "stream",
     "text": [
      "\r",
      "105481it [05:06, 344.49it/s]"
     ]
    },
    {
     "name": "stderr",
     "output_type": "stream",
     "text": [
      "\r",
      "105516it [05:06, 343.60it/s]"
     ]
    },
    {
     "name": "stderr",
     "output_type": "stream",
     "text": [
      "\r",
      "105551it [05:07, 344.88it/s]"
     ]
    },
    {
     "name": "stderr",
     "output_type": "stream",
     "text": [
      "\r",
      "105586it [05:07, 343.36it/s]"
     ]
    },
    {
     "name": "stderr",
     "output_type": "stream",
     "text": [
      "\r",
      "105622it [05:07, 344.58it/s]"
     ]
    },
    {
     "name": "stderr",
     "output_type": "stream",
     "text": [
      "\r",
      "105658it [05:07, 347.20it/s]"
     ]
    },
    {
     "name": "stderr",
     "output_type": "stream",
     "text": [
      "\r",
      "105693it [05:07, 343.47it/s]"
     ]
    },
    {
     "name": "stderr",
     "output_type": "stream",
     "text": [
      "\r",
      "105729it [05:07, 346.60it/s]"
     ]
    },
    {
     "name": "stderr",
     "output_type": "stream",
     "text": [
      "\r",
      "105761it [05:07, 343.72it/s]"
     ]
    },
    {
     "name": "stderr",
     "output_type": "stream",
     "text": [
      "\n"
     ]
    },
    {
     "name": "stdout",
     "output_type": "stream",
     "text": [
      "CPU times: user 5min 21s, sys: 3.84 s, total: 5min 25s\n",
      "Wall time: 5min 24s\n"
     ]
    },
    {
     "data": {
      "text/html": [
       "<div>\n",
       "<style scoped>\n",
       "    .dataframe tbody tr th:only-of-type {\n",
       "        vertical-align: middle;\n",
       "    }\n",
       "\n",
       "    .dataframe tbody tr th {\n",
       "        vertical-align: top;\n",
       "    }\n",
       "\n",
       "    .dataframe thead th {\n",
       "        text-align: right;\n",
       "    }\n",
       "</style>\n",
       "<table border=\"1\" class=\"dataframe\">\n",
       "  <thead>\n",
       "    <tr style=\"text-align: right;\">\n",
       "      <th></th>\n",
       "      <th>author_id</th>\n",
       "      <th>tweet_text</th>\n",
       "      <th>created_at</th>\n",
       "      <th>hashtags</th>\n",
       "      <th>users</th>\n",
       "      <th>location</th>\n",
       "    </tr>\n",
       "  </thead>\n",
       "  <tbody>\n",
       "    <tr>\n",
       "      <th>58026</th>\n",
       "      <td>1234551014029697024</td>\n",
       "      <td>Remember, just 1 inch of water can cause roughly $25,000 of damage to your home. You can't control the weather during #HurricaneSeason but you can prepare for it with flood insurance. https://t.co/mdeBmpOSwx https://t.co/LtrpBs8VA5</td>\n",
       "      <td>2022-08-04 16:07:04+00:00</td>\n",
       "      <td>['HurricaneSeason']</td>\n",
       "      <td>[]</td>\n",
       "      <td>[]</td>\n",
       "    </tr>\n",
       "    <tr>\n",
       "      <th>4872</th>\n",
       "      <td>25220817</td>\n",
       "      <td>RT @mattdanielwx: Just in: NOAA continues to forecast an active 2022 Atlantic Hurricane Season. Roughly 86% of the season occurs AFTER Augu…</td>\n",
       "      <td>2022-08-04 15:20:48+00:00</td>\n",
       "      <td>[]</td>\n",
       "      <td>['mattdanielwx']</td>\n",
       "      <td>[]</td>\n",
       "    </tr>\n",
       "    <tr>\n",
       "      <th>95217</th>\n",
       "      <td>264224010</td>\n",
       "      <td>Hurricane Hazel…the storm, not the mayor. https://t.co/n2qTdICA12</td>\n",
       "      <td>2022-07-31 16:21:31+00:00</td>\n",
       "      <td>[]</td>\n",
       "      <td>[]</td>\n",
       "      <td>[]</td>\n",
       "    </tr>\n",
       "    <tr>\n",
       "      <th>36840</th>\n",
       "      <td>899788415251697664</td>\n",
       "      <td>RT @weather_history: August 3, 2020:\\n\\nHurricane Isaias made a late-night landfall near Ocean Isle Beach, NC. It was the second of 6 hurrica…</td>\n",
       "      <td>2022-08-03 18:07:58+00:00</td>\n",
       "      <td>[]</td>\n",
       "      <td>['weather_history']</td>\n",
       "      <td>[Ocean Isle Beach]</td>\n",
       "    </tr>\n",
       "    <tr>\n",
       "      <th>52981</th>\n",
       "      <td>1240393957630185480</td>\n",
       "      <td>RT @NWSSanAntonio: La Niña is forecast to persist into the Fall. Did you know tropical cyclone activity in the Gulf increases during La Niñ…</td>\n",
       "      <td>2022-08-02 20:05:58+00:00</td>\n",
       "      <td>[]</td>\n",
       "      <td>['NWSSanAntonio']</td>\n",
       "      <td>[Gulf increases]</td>\n",
       "    </tr>\n",
       "  </tbody>\n",
       "</table>\n",
       "</div>"
      ],
      "text/plain": [
       "                 author_id  \\\n",
       "58026  1234551014029697024   \n",
       "4872              25220817   \n",
       "95217            264224010   \n",
       "36840   899788415251697664   \n",
       "52981  1240393957630185480   \n",
       "\n",
       "                                                                                                                                                                                                                                    tweet_text  \\\n",
       "58026  Remember, just 1 inch of water can cause roughly $25,000 of damage to your home. You can't control the weather during #HurricaneSeason but you can prepare for it with flood insurance. https://t.co/mdeBmpOSwx https://t.co/LtrpBs8VA5   \n",
       "4872                                                                                              RT @mattdanielwx: Just in: NOAA continues to forecast an active 2022 Atlantic Hurricane Season. Roughly 86% of the season occurs AFTER Augu…   \n",
       "95217                                                                                                                                                                        Hurricane Hazel…the storm, not the mayor. https://t.co/n2qTdICA12   \n",
       "36840                                                                                           RT @weather_history: August 3, 2020:\\n\\nHurricane Isaias made a late-night landfall near Ocean Isle Beach, NC. It was the second of 6 hurrica…   \n",
       "52981                                                                                             RT @NWSSanAntonio: La Niña is forecast to persist into the Fall. Did you know tropical cyclone activity in the Gulf increases during La Niñ…   \n",
       "\n",
       "                      created_at             hashtags                users  \\\n",
       "58026  2022-08-04 16:07:04+00:00  ['HurricaneSeason']                   []   \n",
       "4872   2022-08-04 15:20:48+00:00                   []     ['mattdanielwx']   \n",
       "95217  2022-07-31 16:21:31+00:00                   []                   []   \n",
       "36840  2022-08-03 18:07:58+00:00                   []  ['weather_history']   \n",
       "52981  2022-08-02 20:05:58+00:00                   []    ['NWSSanAntonio']   \n",
       "\n",
       "                 location  \n",
       "58026                  []  \n",
       "4872                   []  \n",
       "95217                  []  \n",
       "36840  [Ocean Isle Beach]  \n",
       "52981    [Gulf increases]  "
      ]
     },
     "execution_count": 6,
     "metadata": {},
     "output_type": "execute_result"
    }
   ],
   "source": [
    "%%time\n",
    "df_tweets, df_locs_most_common = extract_assign_location(df_tweets, number_most_common=10)\n",
    "\n",
    "df_tweets.sample(5)"
   ]
  },
  {
   "cell_type": "code",
   "execution_count": 7,
   "id": "333ae95f",
   "metadata": {
    "execution": {
     "iopub.execute_input": "2022-08-19T21:13:48.278538Z",
     "iopub.status.busy": "2022-08-19T21:13:48.278201Z",
     "iopub.status.idle": "2022-08-19T21:13:48.285342Z",
     "shell.execute_reply": "2022-08-19T21:13:48.284616Z"
    },
    "papermill": {
     "duration": 0.16426,
     "end_time": "2022-08-19T21:13:48.287660",
     "exception": false,
     "start_time": "2022-08-19T21:13:48.123400",
     "status": "completed"
    },
    "tags": []
   },
   "outputs": [
    {
     "data": {
      "text/html": [
       "<div>\n",
       "<style scoped>\n",
       "    .dataframe tbody tr th:only-of-type {\n",
       "        vertical-align: middle;\n",
       "    }\n",
       "\n",
       "    .dataframe tbody tr th {\n",
       "        vertical-align: top;\n",
       "    }\n",
       "\n",
       "    .dataframe thead th {\n",
       "        text-align: right;\n",
       "    }\n",
       "</style>\n",
       "<table border=\"1\" class=\"dataframe\">\n",
       "  <thead>\n",
       "    <tr style=\"text-align: right;\">\n",
       "      <th></th>\n",
       "      <th>location</th>\n",
       "      <th>count</th>\n",
       "    </tr>\n",
       "  </thead>\n",
       "  <tbody>\n",
       "    <tr>\n",
       "      <th>0</th>\n",
       "      <td>Atlantic</td>\n",
       "      <td>7688</td>\n",
       "    </tr>\n",
       "    <tr>\n",
       "      <th>1</th>\n",
       "      <td>Gulf increases</td>\n",
       "      <td>2505</td>\n",
       "    </tr>\n",
       "    <tr>\n",
       "      <th>2</th>\n",
       "      <td>Florida</td>\n",
       "      <td>2212</td>\n",
       "    </tr>\n",
       "    <tr>\n",
       "      <th>3</th>\n",
       "      <td>California</td>\n",
       "      <td>1706</td>\n",
       "    </tr>\n",
       "    <tr>\n",
       "      <th>4</th>\n",
       "      <td>US</td>\n",
       "      <td>1387</td>\n",
       "    </tr>\n",
       "    <tr>\n",
       "      <th>5</th>\n",
       "      <td>Africa</td>\n",
       "      <td>1339</td>\n",
       "    </tr>\n",
       "    <tr>\n",
       "      <th>6</th>\n",
       "      <td>Gulf of Mexico</td>\n",
       "      <td>1247</td>\n",
       "    </tr>\n",
       "    <tr>\n",
       "      <th>7</th>\n",
       "      <td>Texas</td>\n",
       "      <td>1215</td>\n",
       "    </tr>\n",
       "    <tr>\n",
       "      <th>8</th>\n",
       "      <td>North Atlantic...Caribbean Sea</td>\n",
       "      <td>1164</td>\n",
       "    </tr>\n",
       "    <tr>\n",
       "      <th>9</th>\n",
       "      <td>Louisiana</td>\n",
       "      <td>1154</td>\n",
       "    </tr>\n",
       "  </tbody>\n",
       "</table>\n",
       "</div>"
      ],
      "text/plain": [
       "                         location  count\n",
       "0                        Atlantic   7688\n",
       "1                  Gulf increases   2505\n",
       "2                         Florida   2212\n",
       "3                      California   1706\n",
       "4                              US   1387\n",
       "5                          Africa   1339\n",
       "6                  Gulf of Mexico   1247\n",
       "7                           Texas   1215\n",
       "8  North Atlantic...Caribbean Sea   1164\n",
       "9                       Louisiana   1154"
      ]
     },
     "execution_count": 7,
     "metadata": {},
     "output_type": "execute_result"
    }
   ],
   "source": [
    "df_locs_most_common"
   ]
  },
  {
   "cell_type": "markdown",
   "id": "56d57dd4",
   "metadata": {
    "papermill": {
     "duration": 0.150463,
     "end_time": "2022-08-19T21:13:48.588715",
     "exception": false,
     "start_time": "2022-08-19T21:13:48.438252",
     "status": "completed"
    },
    "tags": []
   },
   "source": [
    "## Predict the class labels"
   ]
  },
  {
   "cell_type": "code",
   "execution_count": 8,
   "id": "5a49a50f",
   "metadata": {
    "execution": {
     "iopub.execute_input": "2022-08-19T21:13:48.890233Z",
     "iopub.status.busy": "2022-08-19T21:13:48.889922Z",
     "iopub.status.idle": "2022-08-19T21:13:49.472057Z",
     "shell.execute_reply": "2022-08-19T21:13:49.470840Z"
    },
    "papermill": {
     "duration": 0.736953,
     "end_time": "2022-08-19T21:13:49.475718",
     "exception": false,
     "start_time": "2022-08-19T21:13:48.738765",
     "status": "completed"
    },
    "tags": []
   },
   "outputs": [],
   "source": [
    "# Get the vectorizer\n",
    "with open(upstream[\"vectorizer\"][\"vectorizer\"], 'rb') as f:\n",
    "    vectorizer = pickle.load(f)"
   ]
  },
  {
   "cell_type": "code",
   "execution_count": 9,
   "id": "c5c5e8d8",
   "metadata": {
    "execution": {
     "iopub.execute_input": "2022-08-19T21:13:49.861183Z",
     "iopub.status.busy": "2022-08-19T21:13:49.860838Z",
     "iopub.status.idle": "2022-08-19T21:13:49.870837Z",
     "shell.execute_reply": "2022-08-19T21:13:49.869750Z"
    },
    "papermill": {
     "duration": 0.241029,
     "end_time": "2022-08-19T21:13:49.873532",
     "exception": false,
     "start_time": "2022-08-19T21:13:49.632503",
     "status": "completed"
    },
    "tags": []
   },
   "outputs": [],
   "source": [
    "# Get the classification model\n",
    "with open(upstream[\"category_classification_models\"][\"model_lr\"], 'rb') as f:\n",
    "    classifier = pickle.load(f)"
   ]
  },
  {
   "cell_type": "code",
   "execution_count": 10,
   "id": "83c3bd04",
   "metadata": {
    "execution": {
     "iopub.execute_input": "2022-08-19T21:13:50.172124Z",
     "iopub.status.busy": "2022-08-19T21:13:50.171815Z",
     "iopub.status.idle": "2022-08-19T21:14:18.536643Z",
     "shell.execute_reply": "2022-08-19T21:14:18.535918Z"
    },
    "papermill": {
     "duration": 28.517339,
     "end_time": "2022-08-19T21:14:18.538809",
     "exception": false,
     "start_time": "2022-08-19T21:13:50.021470",
     "status": "completed"
    },
    "tags": []
   },
   "outputs": [
    {
     "name": "stdout",
     "output_type": "stream",
     "text": [
      "CPU times: user 28.2 s, sys: 117 ms, total: 28.4 s\n",
      "Wall time: 28.4 s\n"
     ]
    },
    {
     "data": {
      "text/html": [
       "<div>\n",
       "<style scoped>\n",
       "    .dataframe tbody tr th:only-of-type {\n",
       "        vertical-align: middle;\n",
       "    }\n",
       "\n",
       "    .dataframe tbody tr th {\n",
       "        vertical-align: top;\n",
       "    }\n",
       "\n",
       "    .dataframe thead th {\n",
       "        text-align: right;\n",
       "    }\n",
       "</style>\n",
       "<table border=\"1\" class=\"dataframe\">\n",
       "  <thead>\n",
       "    <tr style=\"text-align: right;\">\n",
       "      <th></th>\n",
       "      <th>author_id</th>\n",
       "      <th>tweet_text</th>\n",
       "      <th>created_at</th>\n",
       "      <th>hashtags</th>\n",
       "      <th>users</th>\n",
       "      <th>location</th>\n",
       "      <th>class_label</th>\n",
       "    </tr>\n",
       "  </thead>\n",
       "  <tbody>\n",
       "    <tr>\n",
       "      <th>35911</th>\n",
       "      <td>19426419</td>\n",
       "      <td>RT @edgarrmcgregor: While it won't be hurricane Frank, this is a reminder that hurricanes can in fact hit southern California.\\n\\nThey are ve…</td>\n",
       "      <td>2022-08-01 04:15:10+00:00</td>\n",
       "      <td>[]</td>\n",
       "      <td>['edgarrmcgregor']</td>\n",
       "      <td>[California]</td>\n",
       "      <td>other_relevant_information</td>\n",
       "    </tr>\n",
       "    <tr>\n",
       "      <th>95768</th>\n",
       "      <td>4772894892</td>\n",
       "      <td>RT @sachikoko: 🎉🎈🎊RESCUED! 10YO BLACK &amp;amp; WHITE KITTY \"FUZZ\" IS SAFE!🎉🎈🎊\\n▶https://t.co/5I9ccVqF8H\\n😺👏🏽PULLED BY Hurricane Pets Rescue Inc. (HP…</td>\n",
       "      <td>2022-08-01 07:21:46+00:00</td>\n",
       "      <td>[]</td>\n",
       "      <td>['sachikoko']</td>\n",
       "      <td>[]</td>\n",
       "      <td>rescue_volunteering_or_donation_effort</td>\n",
       "    </tr>\n",
       "    <tr>\n",
       "      <th>88337</th>\n",
       "      <td>1548211665665019906</td>\n",
       "      <td>@ACTBrigitte When there's a hurricane evacuation in Florida, how would tens of thousands of electric vehicles get out if they suddenly ran out of battery power and blocked the roads?</td>\n",
       "      <td>2022-08-02 07:40:55+00:00</td>\n",
       "      <td>[]</td>\n",
       "      <td>['ACTBrigitte']</td>\n",
       "      <td>[Florida]</td>\n",
       "      <td>displaced_people_and_evacuations</td>\n",
       "    </tr>\n",
       "    <tr>\n",
       "      <th>58884</th>\n",
       "      <td>1467858655617945611</td>\n",
       "      <td>RT @MarshGlobal: A1c: 2021’s Hurricane Ida caused storm surge of up to 14 feet along the Louisiana coast. Winds and storm surge lead to an…</td>\n",
       "      <td>2022-08-02 17:08:20+00:00</td>\n",
       "      <td>[]</td>\n",
       "      <td>['MarshGlobal']</td>\n",
       "      <td>[Louisiana, Winds]</td>\n",
       "      <td>other_relevant_information</td>\n",
       "    </tr>\n",
       "    <tr>\n",
       "      <th>66353</th>\n",
       "      <td>2210194536</td>\n",
       "      <td>【NOAA HURRICANE CENTER E N Pacific】Tropical Storm Frank Forecast Discussion Number 25 https://t.co/nfNdE4Emh7</td>\n",
       "      <td>2022-08-01 08:47:56+00:00</td>\n",
       "      <td>[]</td>\n",
       "      <td>[]</td>\n",
       "      <td>[]</td>\n",
       "      <td>caution_and_advice</td>\n",
       "    </tr>\n",
       "  </tbody>\n",
       "</table>\n",
       "</div>"
      ],
      "text/plain": [
       "                 author_id  \\\n",
       "35911             19426419   \n",
       "95768           4772894892   \n",
       "88337  1548211665665019906   \n",
       "58884  1467858655617945611   \n",
       "66353           2210194536   \n",
       "\n",
       "                                                                                                                                                                                   tweet_text  \\\n",
       "35911                                          RT @edgarrmcgregor: While it won't be hurricane Frank, this is a reminder that hurricanes can in fact hit southern California.\\n\\nThey are ve…   \n",
       "95768                                      RT @sachikoko: 🎉🎈🎊RESCUED! 10YO BLACK &amp; WHITE KITTY \"FUZZ\" IS SAFE!🎉🎈🎊\\n▶https://t.co/5I9ccVqF8H\\n😺👏🏽PULLED BY Hurricane Pets Rescue Inc. (HP…   \n",
       "88337  @ACTBrigitte When there's a hurricane evacuation in Florida, how would tens of thousands of electric vehicles get out if they suddenly ran out of battery power and blocked the roads?   \n",
       "58884                                             RT @MarshGlobal: A1c: 2021’s Hurricane Ida caused storm surge of up to 14 feet along the Louisiana coast. Winds and storm surge lead to an…   \n",
       "66353                                                                           【NOAA HURRICANE CENTER E N Pacific】Tropical Storm Frank Forecast Discussion Number 25 https://t.co/nfNdE4Emh7   \n",
       "\n",
       "                      created_at hashtags               users  \\\n",
       "35911  2022-08-01 04:15:10+00:00       []  ['edgarrmcgregor']   \n",
       "95768  2022-08-01 07:21:46+00:00       []       ['sachikoko']   \n",
       "88337  2022-08-02 07:40:55+00:00       []     ['ACTBrigitte']   \n",
       "58884  2022-08-02 17:08:20+00:00       []     ['MarshGlobal']   \n",
       "66353  2022-08-01 08:47:56+00:00       []                  []   \n",
       "\n",
       "                 location                             class_label  \n",
       "35911        [California]              other_relevant_information  \n",
       "95768                  []  rescue_volunteering_or_donation_effort  \n",
       "88337           [Florida]        displaced_people_and_evacuations  \n",
       "58884  [Louisiana, Winds]              other_relevant_information  \n",
       "66353                  []                      caution_and_advice  "
      ]
     },
     "execution_count": 10,
     "metadata": {},
     "output_type": "execute_result"
    }
   ],
   "source": [
    "%%time\n",
    "# Predict the class labels\n",
    "class_label = classifier.predict(vectorizer.transform(df_tweets['tweet_text']))\n",
    "df_tweets['class_label'] = class_label\n",
    "\n",
    "df_tweets.sample(5)"
   ]
  },
  {
   "cell_type": "markdown",
   "id": "92286503",
   "metadata": {
    "papermill": {
     "duration": 0.188474,
     "end_time": "2022-08-19T21:14:18.887215",
     "exception": false,
     "start_time": "2022-08-19T21:14:18.698741",
     "status": "completed"
    },
    "tags": []
   },
   "source": [
    "## Plot the intensity for each catagory, and for a particular location"
   ]
  },
  {
   "cell_type": "markdown",
   "id": "35d3da94",
   "metadata": {
    "papermill": {
     "duration": 0.16452,
     "end_time": "2022-08-19T21:14:19.219934",
     "exception": false,
     "start_time": "2022-08-19T21:14:19.055414",
     "status": "completed"
    },
    "tags": []
   },
   "source": [
    "### Prepare the time series grouped by disaster class label "
   ]
  },
  {
   "cell_type": "code",
   "execution_count": 11,
   "id": "9f4090b2",
   "metadata": {
    "execution": {
     "iopub.execute_input": "2022-08-19T21:14:19.547109Z",
     "iopub.status.busy": "2022-08-19T21:14:19.546779Z",
     "iopub.status.idle": "2022-08-19T21:14:19.638761Z",
     "shell.execute_reply": "2022-08-19T21:14:19.638008Z"
    },
    "papermill": {
     "duration": 0.258476,
     "end_time": "2022-08-19T21:14:19.640796",
     "exception": false,
     "start_time": "2022-08-19T21:14:19.382320",
     "status": "completed"
    },
    "tags": []
   },
   "outputs": [
    {
     "data": {
      "text/html": [
       "<div>\n",
       "<style scoped>\n",
       "    .dataframe tbody tr th:only-of-type {\n",
       "        vertical-align: middle;\n",
       "    }\n",
       "\n",
       "    .dataframe tbody tr th {\n",
       "        vertical-align: top;\n",
       "    }\n",
       "\n",
       "    .dataframe thead th {\n",
       "        text-align: right;\n",
       "    }\n",
       "</style>\n",
       "<table border=\"1\" class=\"dataframe\">\n",
       "  <thead>\n",
       "    <tr style=\"text-align: right;\">\n",
       "      <th></th>\n",
       "      <th>created_at</th>\n",
       "      <th>class_label</th>\n",
       "      <th>count</th>\n",
       "    </tr>\n",
       "  </thead>\n",
       "  <tbody>\n",
       "    <tr>\n",
       "      <th>0</th>\n",
       "      <td>2022-07-31 08:00:00+00:00</td>\n",
       "      <td>caution_and_advice</td>\n",
       "      <td>1168</td>\n",
       "    </tr>\n",
       "    <tr>\n",
       "      <th>1</th>\n",
       "      <td>2022-07-31 08:00:00+00:00</td>\n",
       "      <td>displaced_people_and_evacuations</td>\n",
       "      <td>361</td>\n",
       "    </tr>\n",
       "    <tr>\n",
       "      <th>2</th>\n",
       "      <td>2022-07-31 08:00:00+00:00</td>\n",
       "      <td>infrastructure_and_utility_damage</td>\n",
       "      <td>223</td>\n",
       "    </tr>\n",
       "    <tr>\n",
       "      <th>3</th>\n",
       "      <td>2022-07-31 08:00:00+00:00</td>\n",
       "      <td>not_humanitarian</td>\n",
       "      <td>407</td>\n",
       "    </tr>\n",
       "    <tr>\n",
       "      <th>4</th>\n",
       "      <td>2022-07-31 08:00:00+00:00</td>\n",
       "      <td>other_relevant_information</td>\n",
       "      <td>1251</td>\n",
       "    </tr>\n",
       "  </tbody>\n",
       "</table>\n",
       "</div>"
      ],
      "text/plain": [
       "                 created_at                        class_label  count\n",
       "0 2022-07-31 08:00:00+00:00                 caution_and_advice   1168\n",
       "1 2022-07-31 08:00:00+00:00   displaced_people_and_evacuations    361\n",
       "2 2022-07-31 08:00:00+00:00  infrastructure_and_utility_damage    223\n",
       "3 2022-07-31 08:00:00+00:00                   not_humanitarian    407\n",
       "4 2022-07-31 08:00:00+00:00         other_relevant_information   1251"
      ]
     },
     "execution_count": 11,
     "metadata": {},
     "output_type": "execute_result"
    }
   ],
   "source": [
    "df_tweets['created_at'] = pd.to_datetime(df_tweets['created_at'], errors='coerce')\n",
    "df_plot = df_tweets.copy()\n",
    "\n",
    "df_plot['created_at'] = df_plot['created_at'].dt.floor('8H') # Round to 8 hours\n",
    "df_plot['count'] = 1\n",
    "df_group_plot = df_plot[['created_at', 'class_label', 'count']].groupby(['created_at', 'class_label']).count().reset_index()\n",
    "df_group_plot['created_at'] = pd.to_datetime(df_group_plot['created_at'])\n",
    "df_group_plot.head()"
   ]
  },
  {
   "cell_type": "markdown",
   "id": "bc0351bc",
   "metadata": {
    "papermill": {
     "duration": 0.165154,
     "end_time": "2022-08-19T21:14:19.965922",
     "exception": false,
     "start_time": "2022-08-19T21:14:19.800768",
     "status": "completed"
    },
    "tags": []
   },
   "source": [
    "### Prepare the time series grouped by location label "
   ]
  },
  {
   "cell_type": "code",
   "execution_count": 12,
   "id": "c947351b",
   "metadata": {
    "execution": {
     "iopub.execute_input": "2022-08-19T21:14:20.315269Z",
     "iopub.status.busy": "2022-08-19T21:14:20.314670Z",
     "iopub.status.idle": "2022-08-19T21:14:20.554231Z",
     "shell.execute_reply": "2022-08-19T21:14:20.553526Z"
    },
    "papermill": {
     "duration": 0.414076,
     "end_time": "2022-08-19T21:14:20.556427",
     "exception": false,
     "start_time": "2022-08-19T21:14:20.142351",
     "status": "completed"
    },
    "tags": []
   },
   "outputs": [
    {
     "data": {
      "text/html": [
       "<div>\n",
       "<style scoped>\n",
       "    .dataframe tbody tr th:only-of-type {\n",
       "        vertical-align: middle;\n",
       "    }\n",
       "\n",
       "    .dataframe tbody tr th {\n",
       "        vertical-align: top;\n",
       "    }\n",
       "\n",
       "    .dataframe thead th {\n",
       "        text-align: right;\n",
       "    }\n",
       "</style>\n",
       "<table border=\"1\" class=\"dataframe\">\n",
       "  <thead>\n",
       "    <tr style=\"text-align: right;\">\n",
       "      <th></th>\n",
       "      <th>created_at</th>\n",
       "      <th>location</th>\n",
       "      <th>count</th>\n",
       "    </tr>\n",
       "  </thead>\n",
       "  <tbody>\n",
       "    <tr>\n",
       "      <th>0</th>\n",
       "      <td>2022-07-31 08:00:00+00:00</td>\n",
       "      <td>Africa</td>\n",
       "      <td>44</td>\n",
       "    </tr>\n",
       "    <tr>\n",
       "      <th>1</th>\n",
       "      <td>2022-07-31 08:00:00+00:00</td>\n",
       "      <td>Atlantic</td>\n",
       "      <td>152</td>\n",
       "    </tr>\n",
       "    <tr>\n",
       "      <th>3</th>\n",
       "      <td>2022-07-31 08:00:00+00:00</td>\n",
       "      <td>California</td>\n",
       "      <td>322</td>\n",
       "    </tr>\n",
       "    <tr>\n",
       "      <th>5</th>\n",
       "      <td>2022-07-31 08:00:00+00:00</td>\n",
       "      <td>Florida</td>\n",
       "      <td>44</td>\n",
       "    </tr>\n",
       "    <tr>\n",
       "      <th>6</th>\n",
       "      <td>2022-07-31 08:00:00+00:00</td>\n",
       "      <td>Gulf of Mexico</td>\n",
       "      <td>44</td>\n",
       "    </tr>\n",
       "  </tbody>\n",
       "</table>\n",
       "</div>"
      ],
      "text/plain": [
       "                 created_at        location  count\n",
       "0 2022-07-31 08:00:00+00:00          Africa     44\n",
       "1 2022-07-31 08:00:00+00:00        Atlantic    152\n",
       "3 2022-07-31 08:00:00+00:00      California    322\n",
       "5 2022-07-31 08:00:00+00:00         Florida     44\n",
       "6 2022-07-31 08:00:00+00:00  Gulf of Mexico     44"
      ]
     },
     "execution_count": 12,
     "metadata": {},
     "output_type": "execute_result"
    }
   ],
   "source": [
    "df_explode = df_tweets.copy()\n",
    "\n",
    "most_common10 = df_locs_most_common.head(10)['location'].tolist()\n",
    "\n",
    "df_explode = df_explode.explode('location').reset_index(drop=True)\n",
    "df_explode.dropna(inplace=True)\n",
    "df_explode['created_at'] = df_explode['created_at'].dt.floor('8H') # Round to 8 hours\n",
    "df_explode['count'] = 1\n",
    "df_group_explode = df_explode[['created_at', 'location', 'count']].groupby(\n",
    "    ['created_at', 'location']\n",
    ").count().reset_index()\n",
    "df_group_explode = df_group_explode[df_group_explode['location'].isin(most_common10)]\n",
    "df_group_explode.head()"
   ]
  },
  {
   "cell_type": "markdown",
   "id": "6cc05566",
   "metadata": {
    "papermill": {
     "duration": 0.165088,
     "end_time": "2022-08-19T21:14:20.888572",
     "exception": false,
     "start_time": "2022-08-19T21:14:20.723484",
     "status": "completed"
    },
    "tags": []
   },
   "source": [
    "### Find the top 10 locations in the tweets sample"
   ]
  },
  {
   "cell_type": "code",
   "execution_count": 13,
   "id": "43240ba1",
   "metadata": {
    "execution": {
     "iopub.execute_input": "2022-08-19T21:14:21.221747Z",
     "iopub.status.busy": "2022-08-19T21:14:21.221429Z",
     "iopub.status.idle": "2022-08-19T21:14:21.227319Z",
     "shell.execute_reply": "2022-08-19T21:14:21.226530Z"
    },
    "papermill": {
     "duration": 0.173356,
     "end_time": "2022-08-19T21:14:21.229791",
     "exception": false,
     "start_time": "2022-08-19T21:14:21.056435",
     "status": "completed"
    },
    "tags": []
   },
   "outputs": [
    {
     "data": {
      "text/plain": [
       "['Africa',\n",
       " 'Atlantic',\n",
       " 'California',\n",
       " 'Florida',\n",
       " 'Gulf of Mexico',\n",
       " 'North Atlantic...Caribbean Sea',\n",
       " 'Texas',\n",
       " 'Louisiana',\n",
       " 'US',\n",
       " 'Gulf increases']"
      ]
     },
     "execution_count": 13,
     "metadata": {},
     "output_type": "execute_result"
    }
   ],
   "source": [
    "top10_locs = list(df_group_explode['location'].unique())\n",
    "top10_locs"
   ]
  },
  {
   "cell_type": "code",
   "execution_count": 14,
   "id": "6b0c81b3",
   "metadata": {
    "execution": {
     "iopub.execute_input": "2022-08-19T21:14:21.638503Z",
     "iopub.status.busy": "2022-08-19T21:14:21.638182Z",
     "iopub.status.idle": "2022-08-19T21:14:21.740926Z",
     "shell.execute_reply": "2022-08-19T21:14:21.740191Z"
    },
    "papermill": {
     "duration": 0.347706,
     "end_time": "2022-08-19T21:14:21.743070",
     "exception": false,
     "start_time": "2022-08-19T21:14:21.395364",
     "status": "completed"
    },
    "tags": []
   },
   "outputs": [
    {
     "data": {
      "text/html": [
       "\n",
       "<div id=\"altair-viz-3a56f3110c964d6f988a98254430e765\"></div>\n",
       "<script type=\"text/javascript\">\n",
       "  var VEGA_DEBUG = (typeof VEGA_DEBUG == \"undefined\") ? {} : VEGA_DEBUG;\n",
       "  (function(spec, embedOpt){\n",
       "    let outputDiv = document.currentScript.previousElementSibling;\n",
       "    if (outputDiv.id !== \"altair-viz-3a56f3110c964d6f988a98254430e765\") {\n",
       "      outputDiv = document.getElementById(\"altair-viz-3a56f3110c964d6f988a98254430e765\");\n",
       "    }\n",
       "    const paths = {\n",
       "      \"vega\": \"https://cdn.jsdelivr.net/npm//vega@5?noext\",\n",
       "      \"vega-lib\": \"https://cdn.jsdelivr.net/npm//vega-lib?noext\",\n",
       "      \"vega-lite\": \"https://cdn.jsdelivr.net/npm//vega-lite@4.17.0?noext\",\n",
       "      \"vega-embed\": \"https://cdn.jsdelivr.net/npm//vega-embed@6?noext\",\n",
       "    };\n",
       "\n",
       "    function maybeLoadScript(lib, version) {\n",
       "      var key = `${lib.replace(\"-\", \"\")}_version`;\n",
       "      return (VEGA_DEBUG[key] == version) ?\n",
       "        Promise.resolve(paths[lib]) :\n",
       "        new Promise(function(resolve, reject) {\n",
       "          var s = document.createElement('script');\n",
       "          document.getElementsByTagName(\"head\")[0].appendChild(s);\n",
       "          s.async = true;\n",
       "          s.onload = () => {\n",
       "            VEGA_DEBUG[key] = version;\n",
       "            return resolve(paths[lib]);\n",
       "          };\n",
       "          s.onerror = () => reject(`Error loading script: ${paths[lib]}`);\n",
       "          s.src = paths[lib];\n",
       "        });\n",
       "    }\n",
       "\n",
       "    function showError(err) {\n",
       "      outputDiv.innerHTML = `<div class=\"error\" style=\"color:red;\">${err}</div>`;\n",
       "      throw err;\n",
       "    }\n",
       "\n",
       "    function displayChart(vegaEmbed) {\n",
       "      vegaEmbed(outputDiv, spec, embedOpt)\n",
       "        .catch(err => showError(`Javascript Error: ${err.message}<br>This usually means there's a typo in your chart specification. See the javascript console for the full traceback.`));\n",
       "    }\n",
       "\n",
       "    if(typeof define === \"function\" && define.amd) {\n",
       "      requirejs.config({paths});\n",
       "      require([\"vega-embed\"], displayChart, err => showError(`Error loading script: ${err.message}`));\n",
       "    } else {\n",
       "      maybeLoadScript(\"vega\", \"5\")\n",
       "        .then(() => maybeLoadScript(\"vega-lite\", \"4.17.0\"))\n",
       "        .then(() => maybeLoadScript(\"vega-embed\", \"6\"))\n",
       "        .catch(showError)\n",
       "        .then(() => displayChart(vegaEmbed));\n",
       "    }\n",
       "  })({\"config\": {\"view\": {\"continuousWidth\": 400, \"continuousHeight\": 300}}, \"data\": {\"name\": \"data-541cd50de247946fecd1d90a35eba381\"}, \"mark\": {\"type\": \"line\", \"size\": 2}, \"encoding\": {\"color\": {\"field\": \"location\", \"type\": \"nominal\"}, \"tooltip\": [{\"field\": \"location\", \"type\": \"nominal\"}, {\"field\": \"count\", \"type\": \"quantitative\"}], \"x\": {\"field\": \"created_at\", \"type\": \"temporal\"}, \"y\": {\"field\": \"count\", \"type\": \"quantitative\"}}, \"height\": 500, \"selection\": {\"selector001\": {\"type\": \"interval\", \"bind\": \"scales\", \"encodings\": [\"x\", \"y\"]}}, \"title\": \"Hurricane disasters in the world, interactive chart\", \"width\": 500, \"$schema\": \"https://vega.github.io/schema/vega-lite/v4.17.0.json\", \"datasets\": {\"data-541cd50de247946fecd1d90a35eba381\": [{\"created_at\": \"2022-07-31T08:00:00+00:00\", \"location\": \"Africa\", \"count\": 44}, {\"created_at\": \"2022-07-31T08:00:00+00:00\", \"location\": \"Atlantic\", \"count\": 152}, {\"created_at\": \"2022-07-31T08:00:00+00:00\", \"location\": \"California\", \"count\": 322}, {\"created_at\": \"2022-07-31T08:00:00+00:00\", \"location\": \"Florida\", \"count\": 44}, {\"created_at\": \"2022-07-31T08:00:00+00:00\", \"location\": \"Gulf of Mexico\", \"count\": 44}, {\"created_at\": \"2022-07-31T08:00:00+00:00\", \"location\": \"North Atlantic...Caribbean Sea\", \"count\": 44}, {\"created_at\": \"2022-07-31T08:00:00+00:00\", \"location\": \"Texas\", \"count\": 45}, {\"created_at\": \"2022-07-31T16:00:00+00:00\", \"location\": \"Africa\", \"count\": 610}, {\"created_at\": \"2022-07-31T16:00:00+00:00\", \"location\": \"California\", \"count\": 388}, {\"created_at\": \"2022-07-31T16:00:00+00:00\", \"location\": \"Florida\", \"count\": 106}, {\"created_at\": \"2022-07-31T16:00:00+00:00\", \"location\": \"Gulf of Mexico\", \"count\": 107}, {\"created_at\": \"2022-07-31T16:00:00+00:00\", \"location\": \"Louisiana\", \"count\": 109}, {\"created_at\": \"2022-07-31T16:00:00+00:00\", \"location\": \"North Atlantic...Caribbean Sea\", \"count\": 107}, {\"created_at\": \"2022-07-31T16:00:00+00:00\", \"location\": \"Texas\", \"count\": 186}, {\"created_at\": \"2022-08-01T00:00:00+00:00\", \"location\": \"Africa\", \"count\": 284}, {\"created_at\": \"2022-08-01T00:00:00+00:00\", \"location\": \"Atlantic\", \"count\": 112}, {\"created_at\": \"2022-08-01T00:00:00+00:00\", \"location\": \"California\", \"count\": 511}, {\"created_at\": \"2022-08-01T00:00:00+00:00\", \"location\": \"Gulf of Mexico\", \"count\": 57}, {\"created_at\": \"2022-08-01T00:00:00+00:00\", \"location\": \"Louisiana\", \"count\": 113}, {\"created_at\": \"2022-08-01T00:00:00+00:00\", \"location\": \"North Atlantic...Caribbean Sea\", \"count\": 57}, {\"created_at\": \"2022-08-01T08:00:00+00:00\", \"location\": \"Africa\", \"count\": 57}, {\"created_at\": \"2022-08-01T08:00:00+00:00\", \"location\": \"Atlantic\", \"count\": 60}, {\"created_at\": \"2022-08-01T08:00:00+00:00\", \"location\": \"California\", \"count\": 57}, {\"created_at\": \"2022-08-01T08:00:00+00:00\", \"location\": \"Florida\", \"count\": 117}, {\"created_at\": \"2022-08-01T08:00:00+00:00\", \"location\": \"Gulf of Mexico\", \"count\": 58}, {\"created_at\": \"2022-08-01T08:00:00+00:00\", \"location\": \"North Atlantic...Caribbean Sea\", \"count\": 58}, {\"created_at\": \"2022-08-01T08:00:00+00:00\", \"location\": \"US\", \"count\": 771}, {\"created_at\": \"2022-08-01T16:00:00+00:00\", \"location\": \"Atlantic\", \"count\": 369}, {\"created_at\": \"2022-08-01T16:00:00+00:00\", \"location\": \"California\", \"count\": 365}, {\"created_at\": \"2022-08-01T16:00:00+00:00\", \"location\": \"Florida\", \"count\": 183}, {\"created_at\": \"2022-08-01T16:00:00+00:00\", \"location\": \"Gulf of Mexico\", \"count\": 183}, {\"created_at\": \"2022-08-01T16:00:00+00:00\", \"location\": \"Louisiana\", \"count\": 63}, {\"created_at\": \"2022-08-01T16:00:00+00:00\", \"location\": \"North Atlantic...Caribbean Sea\", \"count\": 183}, {\"created_at\": \"2022-08-01T16:00:00+00:00\", \"location\": \"US\", \"count\": 61}, {\"created_at\": \"2022-08-02T00:00:00+00:00\", \"location\": \"Atlantic\", \"count\": 361}, {\"created_at\": \"2022-08-02T00:00:00+00:00\", \"location\": \"Florida\", \"count\": 359}, {\"created_at\": \"2022-08-02T00:00:00+00:00\", \"location\": \"Gulf of Mexico\", \"count\": 59}, {\"created_at\": \"2022-08-02T00:00:00+00:00\", \"location\": \"North Atlantic...Caribbean Sea\", \"count\": 59}, {\"created_at\": \"2022-08-02T08:00:00+00:00\", \"location\": \"Africa\", \"count\": 111}, {\"created_at\": \"2022-08-02T08:00:00+00:00\", \"location\": \"Atlantic\", \"count\": 276}, {\"created_at\": \"2022-08-02T08:00:00+00:00\", \"location\": \"Florida\", \"count\": 497}, {\"created_at\": \"2022-08-02T08:00:00+00:00\", \"location\": \"Gulf of Mexico\", \"count\": 55}, {\"created_at\": \"2022-08-02T08:00:00+00:00\", \"location\": \"North Atlantic...Caribbean Sea\", \"count\": 55}, {\"created_at\": \"2022-08-02T08:00:00+00:00\", \"location\": \"Texas\", \"count\": 112}, {\"created_at\": \"2022-08-02T08:00:00+00:00\", \"location\": \"US\", \"count\": 224}, {\"created_at\": \"2022-08-02T16:00:00+00:00\", \"location\": \"Africa\", \"count\": 53}, {\"created_at\": \"2022-08-02T16:00:00+00:00\", \"location\": \"Atlantic\", \"count\": 784}, {\"created_at\": \"2022-08-02T16:00:00+00:00\", \"location\": \"Florida\", \"count\": 363}, {\"created_at\": \"2022-08-02T16:00:00+00:00\", \"location\": \"Gulf increases\", \"count\": 1599}, {\"created_at\": \"2022-08-02T16:00:00+00:00\", \"location\": \"Gulf of Mexico\", \"count\": 103}, {\"created_at\": \"2022-08-02T16:00:00+00:00\", \"location\": \"Louisiana\", \"count\": 314}, {\"created_at\": \"2022-08-02T16:00:00+00:00\", \"location\": \"North Atlantic...Caribbean Sea\", \"count\": 103}, {\"created_at\": \"2022-08-02T16:00:00+00:00\", \"location\": \"Texas\", \"count\": 262}, {\"created_at\": \"2022-08-02T16:00:00+00:00\", \"location\": \"US\", \"count\": 53}, {\"created_at\": \"2022-08-03T00:00:00+00:00\", \"location\": \"Atlantic\", \"count\": 49}, {\"created_at\": \"2022-08-03T00:00:00+00:00\", \"location\": \"Florida\", \"count\": 49}, {\"created_at\": \"2022-08-03T00:00:00+00:00\", \"location\": \"Gulf increases\", \"count\": 626}, {\"created_at\": \"2022-08-03T00:00:00+00:00\", \"location\": \"Gulf of Mexico\", \"count\": 97}, {\"created_at\": \"2022-08-03T00:00:00+00:00\", \"location\": \"North Atlantic...Caribbean Sea\", \"count\": 97}, {\"created_at\": \"2022-08-03T00:00:00+00:00\", \"location\": \"Texas\", \"count\": 49}, {\"created_at\": \"2022-08-03T00:00:00+00:00\", \"location\": \"US\", \"count\": 47}, {\"created_at\": \"2022-08-03T08:00:00+00:00\", \"location\": \"Atlantic\", \"count\": 644}, {\"created_at\": \"2022-08-03T08:00:00+00:00\", \"location\": \"Florida\", \"count\": 45}, {\"created_at\": \"2022-08-03T08:00:00+00:00\", \"location\": \"Gulf increases\", \"count\": 45}, {\"created_at\": \"2022-08-03T08:00:00+00:00\", \"location\": \"Gulf of Mexico\", \"count\": 86}, {\"created_at\": \"2022-08-03T08:00:00+00:00\", \"location\": \"North Atlantic...Caribbean Sea\", \"count\": 44}, {\"created_at\": \"2022-08-03T08:00:00+00:00\", \"location\": \"Texas\", \"count\": 85}, {\"created_at\": \"2022-08-03T16:00:00+00:00\", \"location\": \"Africa\", \"count\": 42}, {\"created_at\": \"2022-08-03T16:00:00+00:00\", \"location\": \"Atlantic\", \"count\": 1720}, {\"created_at\": \"2022-08-03T16:00:00+00:00\", \"location\": \"Florida\", \"count\": 161}, {\"created_at\": \"2022-08-03T16:00:00+00:00\", \"location\": \"Gulf increases\", \"count\": 160}, {\"created_at\": \"2022-08-03T16:00:00+00:00\", \"location\": \"Gulf of Mexico\", \"count\": 123}, {\"created_at\": \"2022-08-03T16:00:00+00:00\", \"location\": \"Louisiana\", \"count\": 118}, {\"created_at\": \"2022-08-03T16:00:00+00:00\", \"location\": \"North Atlantic...Caribbean Sea\", \"count\": 82}, {\"created_at\": \"2022-08-03T16:00:00+00:00\", \"location\": \"Texas\", \"count\": 241}, {\"created_at\": \"2022-08-03T16:00:00+00:00\", \"location\": \"US\", \"count\": 41}, {\"created_at\": \"2022-08-04T00:00:00+00:00\", \"location\": \"Atlantic\", \"count\": 285}, {\"created_at\": \"2022-08-04T00:00:00+00:00\", \"location\": \"Florida\", \"count\": 35}, {\"created_at\": \"2022-08-04T00:00:00+00:00\", \"location\": \"Gulf increases\", \"count\": 75}, {\"created_at\": \"2022-08-04T00:00:00+00:00\", \"location\": \"Gulf of Mexico\", \"count\": 71}, {\"created_at\": \"2022-08-04T00:00:00+00:00\", \"location\": \"Louisiana\", \"count\": 110}, {\"created_at\": \"2022-08-04T00:00:00+00:00\", \"location\": \"North Atlantic...Caribbean Sea\", \"count\": 71}, {\"created_at\": \"2022-08-04T00:00:00+00:00\", \"location\": \"Texas\", \"count\": 75}, {\"created_at\": \"2022-08-04T08:00:00+00:00\", \"location\": \"Atlantic\", \"count\": 615}, {\"created_at\": \"2022-08-04T08:00:00+00:00\", \"location\": \"California\", \"count\": 63}, {\"created_at\": \"2022-08-04T08:00:00+00:00\", \"location\": \"Florida\", \"count\": 124}, {\"created_at\": \"2022-08-04T08:00:00+00:00\", \"location\": \"Gulf of Mexico\", \"count\": 31}, {\"created_at\": \"2022-08-04T08:00:00+00:00\", \"location\": \"Louisiana\", \"count\": 60}, {\"created_at\": \"2022-08-04T08:00:00+00:00\", \"location\": \"North Atlantic...Caribbean Sea\", \"count\": 31}, {\"created_at\": \"2022-08-04T08:00:00+00:00\", \"location\": \"Texas\", \"count\": 30}, {\"created_at\": \"2022-08-04T08:00:00+00:00\", \"location\": \"US\", \"count\": 61}, {\"created_at\": \"2022-08-04T16:00:00+00:00\", \"location\": \"Atlantic\", \"count\": 1518}, {\"created_at\": \"2022-08-04T16:00:00+00:00\", \"location\": \"Florida\", \"count\": 27}, {\"created_at\": \"2022-08-04T16:00:00+00:00\", \"location\": \"Gulf of Mexico\", \"count\": 84}, {\"created_at\": \"2022-08-04T16:00:00+00:00\", \"location\": \"Louisiana\", \"count\": 146}, {\"created_at\": \"2022-08-04T16:00:00+00:00\", \"location\": \"North Atlantic...Caribbean Sea\", \"count\": 84}, {\"created_at\": \"2022-08-04T16:00:00+00:00\", \"location\": \"Texas\", \"count\": 56}, {\"created_at\": \"2022-08-04T16:00:00+00:00\", \"location\": \"US\", \"count\": 86}, {\"created_at\": \"2022-08-05T00:00:00+00:00\", \"location\": \"Atlantic\", \"count\": 195}, {\"created_at\": \"2022-08-05T00:00:00+00:00\", \"location\": \"Florida\", \"count\": 26}, {\"created_at\": \"2022-08-05T00:00:00+00:00\", \"location\": \"Gulf of Mexico\", \"count\": 23}, {\"created_at\": \"2022-08-05T00:00:00+00:00\", \"location\": \"Louisiana\", \"count\": 75}, {\"created_at\": \"2022-08-05T00:00:00+00:00\", \"location\": \"North Atlantic...Caribbean Sea\", \"count\": 23}, {\"created_at\": \"2022-08-05T00:00:00+00:00\", \"location\": \"Texas\", \"count\": 48}, {\"created_at\": \"2022-08-05T00:00:00+00:00\", \"location\": \"US\", \"count\": 23}, {\"created_at\": \"2022-08-05T08:00:00+00:00\", \"location\": \"Africa\", \"count\": 18}, {\"created_at\": \"2022-08-05T08:00:00+00:00\", \"location\": \"Atlantic\", \"count\": 246}, {\"created_at\": \"2022-08-05T08:00:00+00:00\", \"location\": \"Florida\", \"count\": 39}, {\"created_at\": \"2022-08-05T08:00:00+00:00\", \"location\": \"Gulf of Mexico\", \"count\": 20}, {\"created_at\": \"2022-08-05T08:00:00+00:00\", \"location\": \"Louisiana\", \"count\": 20}, {\"created_at\": \"2022-08-05T08:00:00+00:00\", \"location\": \"North Atlantic...Caribbean Sea\", \"count\": 20}, {\"created_at\": \"2022-08-05T08:00:00+00:00\", \"location\": \"Texas\", \"count\": 18}, {\"created_at\": \"2022-08-05T16:00:00+00:00\", \"location\": \"Atlantic\", \"count\": 202}, {\"created_at\": \"2022-08-05T16:00:00+00:00\", \"location\": \"Gulf of Mexico\", \"count\": 33}, {\"created_at\": \"2022-08-05T16:00:00+00:00\", \"location\": \"Louisiana\", \"count\": 14}, {\"created_at\": \"2022-08-05T16:00:00+00:00\", \"location\": \"North Atlantic...Caribbean Sea\", \"count\": 33}, {\"created_at\": \"2022-08-06T00:00:00+00:00\", \"location\": \"Africa\", \"count\": 12}, {\"created_at\": \"2022-08-06T00:00:00+00:00\", \"location\": \"Atlantic\", \"count\": 35}, {\"created_at\": \"2022-08-06T00:00:00+00:00\", \"location\": \"Florida\", \"count\": 22}, {\"created_at\": \"2022-08-06T00:00:00+00:00\", \"location\": \"Gulf of Mexico\", \"count\": 13}, {\"created_at\": \"2022-08-06T00:00:00+00:00\", \"location\": \"Louisiana\", \"count\": 12}, {\"created_at\": \"2022-08-06T00:00:00+00:00\", \"location\": \"North Atlantic...Caribbean Sea\", \"count\": 13}, {\"created_at\": \"2022-08-06T08:00:00+00:00\", \"location\": \"Africa\", \"count\": 67}, {\"created_at\": \"2022-08-06T08:00:00+00:00\", \"location\": \"Atlantic\", \"count\": 38}, {\"created_at\": \"2022-08-06T08:00:00+00:00\", \"location\": \"Florida\", \"count\": 15}, {\"created_at\": \"2022-08-06T08:00:00+00:00\", \"location\": \"Texas\", \"count\": 8}, {\"created_at\": \"2022-08-06T08:00:00+00:00\", \"location\": \"US\", \"count\": 8}, {\"created_at\": \"2022-08-06T16:00:00+00:00\", \"location\": \"Africa\", \"count\": 40}, {\"created_at\": \"2022-08-06T16:00:00+00:00\", \"location\": \"Atlantic\", \"count\": 27}, {\"created_at\": \"2022-08-06T16:00:00+00:00\", \"location\": \"US\", \"count\": 10}, {\"created_at\": \"2022-08-07T00:00:00+00:00\", \"location\": \"Africa\", \"count\": 1}, {\"created_at\": \"2022-08-07T00:00:00+00:00\", \"location\": \"US\", \"count\": 2}]}}, {\"mode\": \"vega-lite\"});\n",
       "</script>"
      ],
      "text/plain": [
       "alt.Chart(...)"
      ]
     },
     "execution_count": 14,
     "metadata": {},
     "output_type": "execute_result"
    }
   ],
   "source": [
    "chart = alt.Chart(df_group_explode[df_group_explode['location'].isin(top10_locs)]).mark_line(size=2).encode(\n",
    "    x='created_at:T',\n",
    "    y='count:Q',\n",
    "    color='location:N',\n",
    "    tooltip=['location', 'count']\n",
    ")\n",
    "\n",
    "chart.properties(\n",
    "    width=500,\n",
    "    height=500\n",
    ").properties(\n",
    "    title=disaster_title(disaster_kind) + ' disasters in the world, interactive chart'\n",
    ").interactive()"
   ]
  },
  {
   "cell_type": "markdown",
   "id": "f6bcc23b",
   "metadata": {
    "papermill": {
     "duration": 0.165014,
     "end_time": "2022-08-19T21:14:22.074522",
     "exception": false,
     "start_time": "2022-08-19T21:14:21.909508",
     "status": "completed"
    },
    "tags": []
   },
   "source": [
    "## Combine the most important locations per category"
   ]
  },
  {
   "cell_type": "code",
   "execution_count": 15,
   "id": "91371e58",
   "metadata": {
    "execution": {
     "iopub.execute_input": "2022-08-19T21:14:22.406072Z",
     "iopub.status.busy": "2022-08-19T21:14:22.405740Z",
     "iopub.status.idle": "2022-08-19T21:14:22.719013Z",
     "shell.execute_reply": "2022-08-19T21:14:22.717845Z"
    },
    "papermill": {
     "duration": 0.482435,
     "end_time": "2022-08-19T21:14:22.721377",
     "exception": false,
     "start_time": "2022-08-19T21:14:22.238942",
     "status": "completed"
    },
    "tags": []
   },
   "outputs": [
    {
     "data": {
      "text/html": [
       "<div>\n",
       "<style scoped>\n",
       "    .dataframe tbody tr th:only-of-type {\n",
       "        vertical-align: middle;\n",
       "    }\n",
       "\n",
       "    .dataframe tbody tr th {\n",
       "        vertical-align: top;\n",
       "    }\n",
       "\n",
       "    .dataframe thead th {\n",
       "        text-align: right;\n",
       "    }\n",
       "</style>\n",
       "<table border=\"1\" class=\"dataframe\">\n",
       "  <thead>\n",
       "    <tr style=\"text-align: right;\">\n",
       "      <th></th>\n",
       "      <th>created_at</th>\n",
       "      <th>class_label</th>\n",
       "      <th>locations</th>\n",
       "      <th>count</th>\n",
       "    </tr>\n",
       "  </thead>\n",
       "  <tbody>\n",
       "    <tr>\n",
       "      <th>21</th>\n",
       "      <td>2022-08-01 02:00:00+00:00</td>\n",
       "      <td>other_relevant_information</td>\n",
       "      <td>[Africa, California]</td>\n",
       "      <td>282</td>\n",
       "    </tr>\n",
       "    <tr>\n",
       "      <th>151</th>\n",
       "      <td>2022-08-06 10:00:00+00:00</td>\n",
       "      <td>caution_and_advice</td>\n",
       "      <td>[Africa]</td>\n",
       "      <td>8</td>\n",
       "    </tr>\n",
       "    <tr>\n",
       "      <th>138</th>\n",
       "      <td>2022-08-05 14:00:00+00:00</td>\n",
       "      <td>not_humanitarian</td>\n",
       "      <td>[Atlantic]</td>\n",
       "      <td>18</td>\n",
       "    </tr>\n",
       "    <tr>\n",
       "      <th>114</th>\n",
       "      <td>2022-08-04 14:00:00+00:00</td>\n",
       "      <td>infrastructure_and_utility_damage</td>\n",
       "      <td>[Louisiana, Texas]</td>\n",
       "      <td>60</td>\n",
       "    </tr>\n",
       "    <tr>\n",
       "      <th>65</th>\n",
       "      <td>2022-08-02 22:00:00+00:00</td>\n",
       "      <td>caution_and_advice</td>\n",
       "      <td>[Gulf of Mexico, North Atlantic...Caribbean Sea]</td>\n",
       "      <td>100</td>\n",
       "    </tr>\n",
       "  </tbody>\n",
       "</table>\n",
       "</div>"
      ],
      "text/plain": [
       "                   created_at                        class_label  \\\n",
       "21  2022-08-01 02:00:00+00:00         other_relevant_information   \n",
       "151 2022-08-06 10:00:00+00:00                 caution_and_advice   \n",
       "138 2022-08-05 14:00:00+00:00                   not_humanitarian   \n",
       "114 2022-08-04 14:00:00+00:00  infrastructure_and_utility_damage   \n",
       "65  2022-08-02 22:00:00+00:00                 caution_and_advice   \n",
       "\n",
       "                                            locations  count  \n",
       "21                               [Africa, California]    282  \n",
       "151                                          [Africa]      8  \n",
       "138                                        [Atlantic]     18  \n",
       "114                                [Louisiana, Texas]     60  \n",
       "65   [Gulf of Mexico, North Atlantic...Caribbean Sea]    100  "
      ]
     },
     "execution_count": 15,
     "metadata": {},
     "output_type": "execute_result"
    }
   ],
   "source": [
    "df_top_locations = top_locations(df_tweets, top10_locs)\n",
    "df_top_locations.sample(5)"
   ]
  },
  {
   "cell_type": "markdown",
   "id": "300cbb7b",
   "metadata": {
    "papermill": {
     "duration": 0.16494,
     "end_time": "2022-08-19T21:14:23.059104",
     "exception": false,
     "start_time": "2022-08-19T21:14:22.894164",
     "status": "completed"
    },
    "tags": []
   },
   "source": [
    "### Define the class labels we are interested in"
   ]
  },
  {
   "cell_type": "code",
   "execution_count": 16,
   "id": "b14228ae",
   "metadata": {
    "execution": {
     "iopub.execute_input": "2022-08-19T21:14:23.389561Z",
     "iopub.status.busy": "2022-08-19T21:14:23.389041Z",
     "iopub.status.idle": "2022-08-19T21:14:23.393995Z",
     "shell.execute_reply": "2022-08-19T21:14:23.393156Z"
    },
    "papermill": {
     "duration": 0.172862,
     "end_time": "2022-08-19T21:14:23.396754",
     "exception": false,
     "start_time": "2022-08-19T21:14:23.223892",
     "status": "completed"
    },
    "tags": []
   },
   "outputs": [],
   "source": [
    "class_labels = [\n",
    "    'displaced_people_and_evacuations',\n",
    "    'injured_or_dead_people',\n",
    "    'rescue_volunteering_or_donation_effort',\n",
    "    'requests_or_urgent_needs',\n",
    "    'sympathy_and_support',\n",
    "    'infrastructure_and_utility_damage',\n",
    "    'caution_and_advice'\n",
    "]"
   ]
  },
  {
   "cell_type": "code",
   "execution_count": 17,
   "id": "29a8e110",
   "metadata": {
    "execution": {
     "iopub.execute_input": "2022-08-19T21:14:23.727727Z",
     "iopub.status.busy": "2022-08-19T21:14:23.727383Z",
     "iopub.status.idle": "2022-08-19T21:14:23.823537Z",
     "shell.execute_reply": "2022-08-19T21:14:23.822742Z"
    },
    "papermill": {
     "duration": 0.264112,
     "end_time": "2022-08-19T21:14:23.826125",
     "exception": false,
     "start_time": "2022-08-19T21:14:23.562013",
     "status": "completed"
    },
    "tags": []
   },
   "outputs": [
    {
     "data": {
      "text/html": [
       "\n",
       "<div id=\"altair-viz-e89c7704b2e04493984a181ad428f038\"></div>\n",
       "<script type=\"text/javascript\">\n",
       "  var VEGA_DEBUG = (typeof VEGA_DEBUG == \"undefined\") ? {} : VEGA_DEBUG;\n",
       "  (function(spec, embedOpt){\n",
       "    let outputDiv = document.currentScript.previousElementSibling;\n",
       "    if (outputDiv.id !== \"altair-viz-e89c7704b2e04493984a181ad428f038\") {\n",
       "      outputDiv = document.getElementById(\"altair-viz-e89c7704b2e04493984a181ad428f038\");\n",
       "    }\n",
       "    const paths = {\n",
       "      \"vega\": \"https://cdn.jsdelivr.net/npm//vega@5?noext\",\n",
       "      \"vega-lib\": \"https://cdn.jsdelivr.net/npm//vega-lib?noext\",\n",
       "      \"vega-lite\": \"https://cdn.jsdelivr.net/npm//vega-lite@4.17.0?noext\",\n",
       "      \"vega-embed\": \"https://cdn.jsdelivr.net/npm//vega-embed@6?noext\",\n",
       "    };\n",
       "\n",
       "    function maybeLoadScript(lib, version) {\n",
       "      var key = `${lib.replace(\"-\", \"\")}_version`;\n",
       "      return (VEGA_DEBUG[key] == version) ?\n",
       "        Promise.resolve(paths[lib]) :\n",
       "        new Promise(function(resolve, reject) {\n",
       "          var s = document.createElement('script');\n",
       "          document.getElementsByTagName(\"head\")[0].appendChild(s);\n",
       "          s.async = true;\n",
       "          s.onload = () => {\n",
       "            VEGA_DEBUG[key] = version;\n",
       "            return resolve(paths[lib]);\n",
       "          };\n",
       "          s.onerror = () => reject(`Error loading script: ${paths[lib]}`);\n",
       "          s.src = paths[lib];\n",
       "        });\n",
       "    }\n",
       "\n",
       "    function showError(err) {\n",
       "      outputDiv.innerHTML = `<div class=\"error\" style=\"color:red;\">${err}</div>`;\n",
       "      throw err;\n",
       "    }\n",
       "\n",
       "    function displayChart(vegaEmbed) {\n",
       "      vegaEmbed(outputDiv, spec, embedOpt)\n",
       "        .catch(err => showError(`Javascript Error: ${err.message}<br>This usually means there's a typo in your chart specification. See the javascript console for the full traceback.`));\n",
       "    }\n",
       "\n",
       "    if(typeof define === \"function\" && define.amd) {\n",
       "      requirejs.config({paths});\n",
       "      require([\"vega-embed\"], displayChart, err => showError(`Error loading script: ${err.message}`));\n",
       "    } else {\n",
       "      maybeLoadScript(\"vega\", \"5\")\n",
       "        .then(() => maybeLoadScript(\"vega-lite\", \"4.17.0\"))\n",
       "        .then(() => maybeLoadScript(\"vega-embed\", \"6\"))\n",
       "        .catch(showError)\n",
       "        .then(() => displayChart(vegaEmbed));\n",
       "    }\n",
       "  })({\"config\": {\"view\": {\"continuousWidth\": 400, \"continuousHeight\": 300}}, \"data\": {\"name\": \"data-ad4c71cbfaff27f38771477c4061d28b\"}, \"mark\": {\"type\": \"line\", \"size\": 2}, \"encoding\": {\"color\": {\"field\": \"class_label\", \"type\": \"nominal\"}, \"tooltip\": [{\"field\": \"class_label\", \"type\": \"nominal\"}, {\"field\": \"locations\", \"type\": \"nominal\"}, {\"field\": \"count\", \"type\": \"quantitative\"}], \"x\": {\"field\": \"created_at\", \"type\": \"temporal\"}, \"y\": {\"field\": \"count\", \"type\": \"quantitative\"}}, \"height\": 500, \"title\": \"Hurricane disasters in the world, interactive chart\", \"width\": 500, \"$schema\": \"https://vega.github.io/schema/vega-lite/v4.17.0.json\", \"datasets\": {\"data-ad4c71cbfaff27f38771477c4061d28b\": [{\"created_at\": \"2022-07-31T10:00:00+00:00\", \"class_label\": \"caution_and_advice\", \"locations\": [\"Gulf of Mexico\", \"North Atlantic...Caribbean Sea\"], \"count\": 88}, {\"created_at\": \"2022-07-31T12:00:00+00:00\", \"class_label\": \"displaced_people_and_evacuations\", \"locations\": [\"Florida\"], \"count\": 44}, {\"created_at\": \"2022-07-31T14:00:00+00:00\", \"class_label\": \"caution_and_advice\", \"locations\": [\"California\"], \"count\": 46}, {\"created_at\": \"2022-07-31T14:00:00+00:00\", \"class_label\": \"infrastructure_and_utility_damage\", \"locations\": [\"Atlantic\"], \"count\": 45}, {\"created_at\": \"2022-07-31T16:00:00+00:00\", \"class_label\": \"caution_and_advice\", \"locations\": [\"California\"], \"count\": 46}, {\"created_at\": \"2022-07-31T18:00:00+00:00\", \"class_label\": \"caution_and_advice\", \"locations\": [\"Gulf of Mexico\", \"North Atlantic...Caribbean Sea\"], \"count\": 104}, {\"created_at\": \"2022-07-31T22:00:00+00:00\", \"class_label\": \"caution_and_advice\", \"locations\": [\"Gulf of Mexico\", \"North Atlantic...Caribbean Sea\"], \"count\": 110}, {\"created_at\": \"2022-07-31T22:00:00+00:00\", \"class_label\": \"infrastructure_and_utility_damage\", \"locations\": [\"California\"], \"count\": 54}, {\"created_at\": \"2022-07-31T22:00:00+00:00\", \"class_label\": \"rescue_volunteering_or_donation_effort\", \"locations\": [\"Louisiana\"], \"count\": 54}, {\"created_at\": \"2022-08-01T00:00:00+00:00\", \"class_label\": \"displaced_people_and_evacuations\", \"locations\": [\"Louisiana\"], \"count\": 56}, {\"created_at\": \"2022-08-01T02:00:00+00:00\", \"class_label\": \"caution_and_advice\", \"locations\": [\"California\"], \"count\": 57}, {\"created_at\": \"2022-08-01T02:00:00+00:00\", \"class_label\": \"infrastructure_and_utility_damage\", \"locations\": [\"Atlantic\"], \"count\": 112}, {\"created_at\": \"2022-08-01T04:00:00+00:00\", \"class_label\": \"caution_and_advice\", \"locations\": [\"Gulf of Mexico\", \"North Atlantic...Caribbean Sea\"], \"count\": 114}, {\"created_at\": \"2022-08-01T04:00:00+00:00\", \"class_label\": \"infrastructure_and_utility_damage\", \"locations\": [\"Louisiana\"], \"count\": 57}, {\"created_at\": \"2022-08-01T10:00:00+00:00\", \"class_label\": \"caution_and_advice\", \"locations\": [\"Gulf of Mexico\", \"North Atlantic...Caribbean Sea\", \"US\"], \"count\": 173}, {\"created_at\": \"2022-08-01T10:00:00+00:00\", \"class_label\": \"rescue_volunteering_or_donation_effort\", \"locations\": [\"Florida\"], \"count\": 57}, {\"created_at\": \"2022-08-01T12:00:00+00:00\", \"class_label\": \"infrastructure_and_utility_damage\", \"locations\": [\"US\"], \"count\": 60}, {\"created_at\": \"2022-08-01T16:00:00+00:00\", \"class_label\": \"caution_and_advice\", \"locations\": [\"Gulf of Mexico\", \"North Atlantic...Caribbean Sea\"], \"count\": 122}, {\"created_at\": \"2022-08-01T16:00:00+00:00\", \"class_label\": \"infrastructure_and_utility_damage\", \"locations\": [\"Florida\"], \"count\": 60}, {\"created_at\": \"2022-08-01T18:00:00+00:00\", \"class_label\": \"caution_and_advice\", \"locations\": [\"Gulf of Mexico\", \"North Atlantic...Caribbean Sea\", \"US\"], \"count\": 181}, {\"created_at\": \"2022-08-01T20:00:00+00:00\", \"class_label\": \"caution_and_advice\", \"locations\": [\"Atlantic\", \"California\"], \"count\": 185}, {\"created_at\": \"2022-08-01T22:00:00+00:00\", \"class_label\": \"caution_and_advice\", \"locations\": [\"Gulf of Mexico\", \"North Atlantic...Caribbean Sea\"], \"count\": 124}, {\"created_at\": \"2022-08-01T22:00:00+00:00\", \"class_label\": \"rescue_volunteering_or_donation_effort\", \"locations\": [\"Florida\"], \"count\": 62}, {\"created_at\": \"2022-08-02T00:00:00+00:00\", \"class_label\": \"rescue_volunteering_or_donation_effort\", \"locations\": [\"Florida\"], \"count\": 61}, {\"created_at\": \"2022-08-02T02:00:00+00:00\", \"class_label\": \"rescue_volunteering_or_donation_effort\", \"locations\": [\"Florida\"], \"count\": 121}, {\"created_at\": \"2022-08-02T04:00:00+00:00\", \"class_label\": \"caution_and_advice\", \"locations\": [\"Gulf of Mexico\", \"North Atlantic...Caribbean Sea\"], \"count\": 118}, {\"created_at\": \"2022-08-02T06:00:00+00:00\", \"class_label\": \"displaced_people_and_evacuations\", \"locations\": [\"Florida\"], \"count\": 58}, {\"created_at\": \"2022-08-02T10:00:00+00:00\", \"class_label\": \"infrastructure_and_utility_damage\", \"locations\": [\"Florida\", \"Texas\", \"US\"], \"count\": 170}, {\"created_at\": \"2022-08-02T10:00:00+00:00\", \"class_label\": \"injured_or_dead_people\", \"locations\": [\"US\"], \"count\": 57}, {\"created_at\": \"2022-08-02T10:00:00+00:00\", \"class_label\": \"rescue_volunteering_or_donation_effort\", \"locations\": [\"Florida\"], \"count\": 57}, {\"created_at\": \"2022-08-02T12:00:00+00:00\", \"class_label\": \"caution_and_advice\", \"locations\": [\"Gulf of Mexico\", \"North Atlantic...Caribbean Sea\"], \"count\": 110}, {\"created_at\": \"2022-08-02T16:00:00+00:00\", \"class_label\": \"caution_and_advice\", \"locations\": [\"Atlantic\"], \"count\": 53}, {\"created_at\": \"2022-08-02T16:00:00+00:00\", \"class_label\": \"infrastructure_and_utility_damage\", \"locations\": [\"Florida\", \"Louisiana\"], \"count\": 159}, {\"created_at\": \"2022-08-02T18:00:00+00:00\", \"class_label\": \"caution_and_advice\", \"locations\": [\"Gulf of Mexico\", \"North Atlantic...Caribbean Sea\", \"Texas\"], \"count\": 158}, {\"created_at\": \"2022-08-02T18:00:00+00:00\", \"class_label\": \"infrastructure_and_utility_damage\", \"locations\": [\"Louisiana\"], \"count\": 52}, {\"created_at\": \"2022-08-02T18:00:00+00:00\", \"class_label\": \"rescue_volunteering_or_donation_effort\", \"locations\": [\"Florida\"], \"count\": 52}, {\"created_at\": \"2022-08-02T22:00:00+00:00\", \"class_label\": \"caution_and_advice\", \"locations\": [\"Gulf of Mexico\", \"North Atlantic...Caribbean Sea\"], \"count\": 100}, {\"created_at\": \"2022-08-03T00:00:00+00:00\", \"class_label\": \"caution_and_advice\", \"locations\": [\"Gulf of Mexico\", \"North Atlantic...Caribbean Sea\"], \"count\": 100}, {\"created_at\": \"2022-08-03T00:00:00+00:00\", \"class_label\": \"rescue_volunteering_or_donation_effort\", \"locations\": [\"Texas\"], \"count\": 49}, {\"created_at\": \"2022-08-03T04:00:00+00:00\", \"class_label\": \"caution_and_advice\", \"locations\": [\"Gulf of Mexico\", \"North Atlantic...Caribbean Sea\"], \"count\": 94}, {\"created_at\": \"2022-08-03T04:00:00+00:00\", \"class_label\": \"infrastructure_and_utility_damage\", \"locations\": [\"US\"], \"count\": 47}, {\"created_at\": \"2022-08-03T10:00:00+00:00\", \"class_label\": \"caution_and_advice\", \"locations\": [\"Gulf of Mexico\", \"North Atlantic...Caribbean Sea\"], \"count\": 88}, {\"created_at\": \"2022-08-03T10:00:00+00:00\", \"class_label\": \"rescue_volunteering_or_donation_effort\", \"locations\": [\"Florida\"], \"count\": 45}, {\"created_at\": \"2022-08-03T16:00:00+00:00\", \"class_label\": \"caution_and_advice\", \"locations\": [\"Gulf of Mexico\", \"North Atlantic...Caribbean Sea\"], \"count\": 84}, {\"created_at\": \"2022-08-03T16:00:00+00:00\", \"class_label\": \"infrastructure_and_utility_damage\", \"locations\": [\"Atlantic\", \"Texas\", \"US\"], \"count\": 125}, {\"created_at\": \"2022-08-03T16:00:00+00:00\", \"class_label\": \"rescue_volunteering_or_donation_effort\", \"locations\": [\"Africa\", \"Atlantic\"], \"count\": 84}, {\"created_at\": \"2022-08-03T18:00:00+00:00\", \"class_label\": \"caution_and_advice\", \"locations\": [\"Gulf of Mexico\", \"North Atlantic...Caribbean Sea\"], \"count\": 80}, {\"created_at\": \"2022-08-03T18:00:00+00:00\", \"class_label\": \"infrastructure_and_utility_damage\", \"locations\": [\"Florida\"], \"count\": 122}, {\"created_at\": \"2022-08-03T22:00:00+00:00\", \"class_label\": \"caution_and_advice\", \"locations\": [\"Louisiana\"], \"count\": 39}, {\"created_at\": \"2022-08-03T22:00:00+00:00\", \"class_label\": \"injured_or_dead_people\", \"locations\": [\"Louisiana\"], \"count\": 39}, {\"created_at\": \"2022-08-04T00:00:00+00:00\", \"class_label\": \"caution_and_advice\", \"locations\": [\"Gulf of Mexico\", \"North Atlantic...Caribbean Sea\"], \"count\": 74}, {\"created_at\": \"2022-08-04T02:00:00+00:00\", \"class_label\": \"infrastructure_and_utility_damage\", \"locations\": [\"Louisiana\"], \"count\": 37}, {\"created_at\": \"2022-08-04T06:00:00+00:00\", \"class_label\": \"caution_and_advice\", \"locations\": [\"Gulf of Mexico\", \"North Atlantic...Caribbean Sea\"], \"count\": 68}, {\"created_at\": \"2022-08-04T12:00:00+00:00\", \"class_label\": \"caution_and_advice\", \"locations\": [\"Gulf of Mexico\", \"North Atlantic...Caribbean Sea\"], \"count\": 62}, {\"created_at\": \"2022-08-04T12:00:00+00:00\", \"class_label\": \"displaced_people_and_evacuations\", \"locations\": [\"US\"], \"count\": 31}, {\"created_at\": \"2022-08-04T14:00:00+00:00\", \"class_label\": \"caution_and_advice\", \"locations\": [\"Atlantic\"], \"count\": 30}, {\"created_at\": \"2022-08-04T14:00:00+00:00\", \"class_label\": \"displaced_people_and_evacuations\", \"locations\": [\"Louisiana\"], \"count\": 30}, {\"created_at\": \"2022-08-04T14:00:00+00:00\", \"class_label\": \"infrastructure_and_utility_damage\", \"locations\": [\"Louisiana\", \"Texas\"], \"count\": 60}, {\"created_at\": \"2022-08-04T14:00:00+00:00\", \"class_label\": \"rescue_volunteering_or_donation_effort\", \"locations\": [\"Florida\"], \"count\": 31}, {\"created_at\": \"2022-08-04T16:00:00+00:00\", \"class_label\": \"caution_and_advice\", \"locations\": [\"Atlantic\", \"Gulf of Mexico\", \"North Atlantic...Caribbean Sea\"], \"count\": 205}, {\"created_at\": \"2022-08-04T18:00:00+00:00\", \"class_label\": \"caution_and_advice\", \"locations\": [\"Atlantic\"], \"count\": 29}, {\"created_at\": \"2022-08-04T22:00:00+00:00\", \"class_label\": \"caution_and_advice\", \"locations\": [\"Florida\", \"Gulf of Mexico\", \"North Atlantic...Caribbean Sea\"], \"count\": 79}, {\"created_at\": \"2022-08-04T22:00:00+00:00\", \"class_label\": \"infrastructure_and_utility_damage\", \"locations\": [\"US\"], \"count\": 26}, {\"created_at\": \"2022-08-05T00:00:00+00:00\", \"class_label\": \"infrastructure_and_utility_damage\", \"locations\": [\"Florida\"], \"count\": 26}, {\"created_at\": \"2022-08-05T04:00:00+00:00\", \"class_label\": \"caution_and_advice\", \"locations\": [\"Gulf of Mexico\", \"North Atlantic...Caribbean Sea\"], \"count\": 46}, {\"created_at\": \"2022-08-05T04:00:00+00:00\", \"class_label\": \"infrastructure_and_utility_damage\", \"locations\": [\"Texas\", \"US\"], \"count\": 46}, {\"created_at\": \"2022-08-05T10:00:00+00:00\", \"class_label\": \"caution_and_advice\", \"locations\": [\"Gulf of Mexico\", \"North Atlantic...Caribbean Sea\"], \"count\": 40}, {\"created_at\": \"2022-08-05T12:00:00+00:00\", \"class_label\": \"caution_and_advice\", \"locations\": [\"Florida\"], \"count\": 19}, {\"created_at\": \"2022-08-05T12:00:00+00:00\", \"class_label\": \"infrastructure_and_utility_damage\", \"locations\": [\"Florida\"], \"count\": 20}, {\"created_at\": \"2022-08-05T14:00:00+00:00\", \"class_label\": \"caution_and_advice\", \"locations\": [\"Atlantic\"], \"count\": 73}, {\"created_at\": \"2022-08-05T16:00:00+00:00\", \"class_label\": \"caution_and_advice\", \"locations\": [\"Atlantic\", \"Gulf of Mexico\", \"North Atlantic...Caribbean Sea\"], \"count\": 87}, {\"created_at\": \"2022-08-05T18:00:00+00:00\", \"class_label\": \"caution_and_advice\", \"locations\": [\"Gulf of Mexico\", \"North Atlantic...Caribbean Sea\"], \"count\": 32}, {\"created_at\": \"2022-08-06T00:00:00+00:00\", \"class_label\": \"caution_and_advice\", \"locations\": [\"Gulf of Mexico\", \"North Atlantic...Caribbean Sea\"], \"count\": 26}, {\"created_at\": \"2022-08-06T02:00:00+00:00\", \"class_label\": \"caution_and_advice\", \"locations\": [\"Louisiana\"], \"count\": 12}, {\"created_at\": \"2022-08-06T04:00:00+00:00\", \"class_label\": \"caution_and_advice\", \"locations\": [\"Atlantic\"], \"count\": 22}, {\"created_at\": \"2022-08-06T10:00:00+00:00\", \"class_label\": \"caution_and_advice\", \"locations\": [\"Africa\"], \"count\": 8}, {\"created_at\": \"2022-08-06T10:00:00+00:00\", \"class_label\": \"infrastructure_and_utility_damage\", \"locations\": [\"Texas\", \"US\"], \"count\": 16}, {\"created_at\": \"2022-08-06T12:00:00+00:00\", \"class_label\": \"caution_and_advice\", \"locations\": [\"Florida\"], \"count\": 8}, {\"created_at\": \"2022-08-06T14:00:00+00:00\", \"class_label\": \"caution_and_advice\", \"locations\": [\"Florida\"], \"count\": 7}, {\"created_at\": \"2022-08-06T18:00:00+00:00\", \"class_label\": \"caution_and_advice\", \"locations\": [\"Atlantic\"], \"count\": 5}, {\"created_at\": \"2022-08-06T18:00:00+00:00\", \"class_label\": \"infrastructure_and_utility_damage\", \"locations\": [\"US\"], \"count\": 4}, {\"created_at\": \"2022-08-06T22:00:00+00:00\", \"class_label\": \"caution_and_advice\", \"locations\": [\"Africa\"], \"count\": 4}, {\"created_at\": \"2022-08-06T22:00:00+00:00\", \"class_label\": \"infrastructure_and_utility_damage\", \"locations\": [\"US\"], \"count\": 3}]}}, {\"mode\": \"vega-lite\"});\n",
       "</script>"
      ],
      "text/plain": [
       "alt.Chart(...)"
      ]
     },
     "execution_count": 17,
     "metadata": {},
     "output_type": "execute_result"
    }
   ],
   "source": [
    "chart = alt.Chart(df_top_locations[df_top_locations['class_label'].isin(class_labels)]).mark_line(size=2).encode(\n",
    "    x='created_at:T',\n",
    "    y='count:Q',\n",
    "    color='class_label:N',\n",
    "    tooltip=['class_label:N', 'locations', 'count']\n",
    ")\n",
    "\n",
    "chart.properties(\n",
    "    width=500,\n",
    "    height=500\n",
    ").properties(\n",
    "    title=disaster_title(disaster_kind) + ' disasters in the world, interactive chart'\n",
    ")"
   ]
  },
  {
   "cell_type": "markdown",
   "id": "36484f5d",
   "metadata": {
    "papermill": {
     "duration": 0.164838,
     "end_time": "2022-08-19T21:14:24.156428",
     "exception": false,
     "start_time": "2022-08-19T21:14:23.991590",
     "status": "completed"
    },
    "tags": []
   },
   "source": [
    "## Show sample tweets per most important locations above"
   ]
  },
  {
   "cell_type": "code",
   "execution_count": 18,
   "id": "c7fc1f50",
   "metadata": {
    "execution": {
     "iopub.execute_input": "2022-08-19T21:14:24.489768Z",
     "iopub.status.busy": "2022-08-19T21:14:24.489431Z",
     "iopub.status.idle": "2022-08-19T21:14:25.286193Z",
     "shell.execute_reply": "2022-08-19T21:14:25.285483Z"
    },
    "papermill": {
     "duration": 0.966436,
     "end_time": "2022-08-19T21:14:25.288479",
     "exception": false,
     "start_time": "2022-08-19T21:14:24.322043",
     "status": "completed"
    },
    "tags": []
   },
   "outputs": [
    {
     "data": {
      "text/html": [
       "<div>\n",
       "<style scoped>\n",
       "    .dataframe tbody tr th:only-of-type {\n",
       "        vertical-align: middle;\n",
       "    }\n",
       "\n",
       "    .dataframe tbody tr th {\n",
       "        vertical-align: top;\n",
       "    }\n",
       "\n",
       "    .dataframe thead th {\n",
       "        text-align: right;\n",
       "    }\n",
       "</style>\n",
       "<table border=\"1\" class=\"dataframe\">\n",
       "  <thead>\n",
       "    <tr style=\"text-align: right;\">\n",
       "      <th></th>\n",
       "      <th>created_at</th>\n",
       "      <th>class_label</th>\n",
       "      <th>tweet_text</th>\n",
       "      <th>locations</th>\n",
       "      <th>count</th>\n",
       "    </tr>\n",
       "  </thead>\n",
       "  <tbody>\n",
       "    <tr>\n",
       "      <th>63</th>\n",
       "      <td>2022-08-02 18:00:00+00:00</td>\n",
       "      <td>rescue_volunteering_or_donation_effort</td>\n",
       "      <td>[I was proud to help the people in the Florida panhandle recover quickly after a Category 5 storm. The Senate should pass this bill to reimburse the interest on local government loans. https://t.co/mapez48H7h]</td>\n",
       "      <td>[Florida]</td>\n",
       "      <td>52</td>\n",
       "    </tr>\n",
       "    <tr>\n",
       "      <th>167</th>\n",
       "      <td>2022-08-07 02:00:00+00:00</td>\n",
       "      <td>other_relevant_information</td>\n",
       "      <td>[Last Days of Last Island: The Hurricane of 1856, Louisiana's First Great Storm [K7H5GBB]\\n\\nhttps://t.co/Whf0vrm1cI, Carrie and the Great Storm: A Galveston Hurricane Survival Story (Girls Survive) [NSJVKAL]\\n\\nhttps://t.co/fsnj7XpES8, Tropical wave coming off Africa could d...</td>\n",
       "      <td>[Africa]</td>\n",
       "      <td>1</td>\n",
       "    </tr>\n",
       "    <tr>\n",
       "      <th>99</th>\n",
       "      <td>2022-08-04 02:00:00+00:00</td>\n",
       "      <td>infrastructure_and_utility_damage</td>\n",
       "      <td>[@LAMUNRO2 I can remember my first Hurricane. A child in Toronto at the time. In the fifties. Hurricane Hazel. Did so much damage., @mkramer Hurricane Audrey in southwest Louisiana 1957. My parents had the eye pass over their house. No significant damage or venomous snakes un...</td>\n",
       "      <td>[Louisiana]</td>\n",
       "      <td>37</td>\n",
       "    </tr>\n",
       "    <tr>\n",
       "      <th>0</th>\n",
       "      <td>2022-07-31 10:00:00+00:00</td>\n",
       "      <td>caution_and_advice</td>\n",
       "      <td>[NHC Atlantic Outlook\\nhttps://t.co/DHXo73dOr8\\n\\nZCZC MIATWOAT ALL\\nTTAA00 KNHC DDHHMM\\n\\nTropical Weather Outlook\\nNWS National Hurricane Center Miami FL\\n800 AM EDT Sun Jul 31 2022\\n\\nFor the North Atlantic...Caribbean Sea and the Gulf of Mexico:\\n\\nTropical cyclone format...</td>\n",
       "      <td>[Gulf of Mexico, North Atlantic...Caribbean Sea]</td>\n",
       "      <td>88</td>\n",
       "    </tr>\n",
       "    <tr>\n",
       "      <th>34</th>\n",
       "      <td>2022-08-01 16:00:00+00:00</td>\n",
       "      <td>other_relevant_information</td>\n",
       "      <td>[@ViewDownHere Never been in a hurricane but my first tropical storm in Jacksonville was gnarly. Coming from San Diego I was amazed at the amount of rain that dropped and glad all those buildings in Lejuene we're made of brick😂, Reporting from the Eye of the Hurricane: A 75 C...</td>\n",
       "      <td>[California]</td>\n",
       "      <td>120</td>\n",
       "    </tr>\n",
       "  </tbody>\n",
       "</table>\n",
       "</div>"
      ],
      "text/plain": [
       "                   created_at                             class_label  \\\n",
       "63  2022-08-02 18:00:00+00:00  rescue_volunteering_or_donation_effort   \n",
       "167 2022-08-07 02:00:00+00:00              other_relevant_information   \n",
       "99  2022-08-04 02:00:00+00:00       infrastructure_and_utility_damage   \n",
       "0   2022-07-31 10:00:00+00:00                      caution_and_advice   \n",
       "34  2022-08-01 16:00:00+00:00              other_relevant_information   \n",
       "\n",
       "                                                                                                                                                                                                                                                                                  tweet_text  \\\n",
       "63                                                                         [I was proud to help the people in the Florida panhandle recover quickly after a Category 5 storm. The Senate should pass this bill to reimburse the interest on local government loans. https://t.co/mapez48H7h]   \n",
       "167  [Last Days of Last Island: The Hurricane of 1856, Louisiana's First Great Storm [K7H5GBB]\\n\\nhttps://t.co/Whf0vrm1cI, Carrie and the Great Storm: A Galveston Hurricane Survival Story (Girls Survive) [NSJVKAL]\\n\\nhttps://t.co/fsnj7XpES8, Tropical wave coming off Africa could d...   \n",
       "99   [@LAMUNRO2 I can remember my first Hurricane. A child in Toronto at the time. In the fifties. Hurricane Hazel. Did so much damage., @mkramer Hurricane Audrey in southwest Louisiana 1957. My parents had the eye pass over their house. No significant damage or venomous snakes un...   \n",
       "0    [NHC Atlantic Outlook\\nhttps://t.co/DHXo73dOr8\\n\\nZCZC MIATWOAT ALL\\nTTAA00 KNHC DDHHMM\\n\\nTropical Weather Outlook\\nNWS National Hurricane Center Miami FL\\n800 AM EDT Sun Jul 31 2022\\n\\nFor the North Atlantic...Caribbean Sea and the Gulf of Mexico:\\n\\nTropical cyclone format...   \n",
       "34   [@ViewDownHere Never been in a hurricane but my first tropical storm in Jacksonville was gnarly. Coming from San Diego I was amazed at the amount of rain that dropped and glad all those buildings in Lejuene we're made of brick😂, Reporting from the Eye of the Hurricane: A 75 C...   \n",
       "\n",
       "                                            locations  count  \n",
       "63                                          [Florida]     52  \n",
       "167                                          [Africa]      1  \n",
       "99                                        [Louisiana]     37  \n",
       "0    [Gulf of Mexico, North Atlantic...Caribbean Sea]     88  \n",
       "34                                       [California]    120  "
      ]
     },
     "execution_count": 18,
     "metadata": {},
     "output_type": "execute_result"
    }
   ],
   "source": [
    "df_top_location_tweets = top_locations_tweets(df_tweets, top10_locs)\n",
    "df_top_location_tweets.sample(5)"
   ]
  },
  {
   "cell_type": "code",
   "execution_count": 19,
   "id": "b9bcdc31",
   "metadata": {
    "execution": {
     "iopub.execute_input": "2022-08-19T21:14:25.628085Z",
     "iopub.status.busy": "2022-08-19T21:14:25.627743Z",
     "iopub.status.idle": "2022-08-19T21:14:25.803636Z",
     "shell.execute_reply": "2022-08-19T21:14:25.802865Z"
    },
    "papermill": {
     "duration": 0.35054,
     "end_time": "2022-08-19T21:14:25.806454",
     "exception": false,
     "start_time": "2022-08-19T21:14:25.455914",
     "status": "completed"
    },
    "tags": []
   },
   "outputs": [
    {
     "data": {
      "text/html": [
       "\n",
       "<div id=\"altair-viz-7d27779b3baa46f49222f5a9c84afdcd\"></div>\n",
       "<script type=\"text/javascript\">\n",
       "  var VEGA_DEBUG = (typeof VEGA_DEBUG == \"undefined\") ? {} : VEGA_DEBUG;\n",
       "  (function(spec, embedOpt){\n",
       "    let outputDiv = document.currentScript.previousElementSibling;\n",
       "    if (outputDiv.id !== \"altair-viz-7d27779b3baa46f49222f5a9c84afdcd\") {\n",
       "      outputDiv = document.getElementById(\"altair-viz-7d27779b3baa46f49222f5a9c84afdcd\");\n",
       "    }\n",
       "    const paths = {\n",
       "      \"vega\": \"https://cdn.jsdelivr.net/npm//vega@5?noext\",\n",
       "      \"vega-lib\": \"https://cdn.jsdelivr.net/npm//vega-lib?noext\",\n",
       "      \"vega-lite\": \"https://cdn.jsdelivr.net/npm//vega-lite@4.17.0?noext\",\n",
       "      \"vega-embed\": \"https://cdn.jsdelivr.net/npm//vega-embed@6?noext\",\n",
       "    };\n",
       "\n",
       "    function maybeLoadScript(lib, version) {\n",
       "      var key = `${lib.replace(\"-\", \"\")}_version`;\n",
       "      return (VEGA_DEBUG[key] == version) ?\n",
       "        Promise.resolve(paths[lib]) :\n",
       "        new Promise(function(resolve, reject) {\n",
       "          var s = document.createElement('script');\n",
       "          document.getElementsByTagName(\"head\")[0].appendChild(s);\n",
       "          s.async = true;\n",
       "          s.onload = () => {\n",
       "            VEGA_DEBUG[key] = version;\n",
       "            return resolve(paths[lib]);\n",
       "          };\n",
       "          s.onerror = () => reject(`Error loading script: ${paths[lib]}`);\n",
       "          s.src = paths[lib];\n",
       "        });\n",
       "    }\n",
       "\n",
       "    function showError(err) {\n",
       "      outputDiv.innerHTML = `<div class=\"error\" style=\"color:red;\">${err}</div>`;\n",
       "      throw err;\n",
       "    }\n",
       "\n",
       "    function displayChart(vegaEmbed) {\n",
       "      vegaEmbed(outputDiv, spec, embedOpt)\n",
       "        .catch(err => showError(`Javascript Error: ${err.message}<br>This usually means there's a typo in your chart specification. See the javascript console for the full traceback.`));\n",
       "    }\n",
       "\n",
       "    if(typeof define === \"function\" && define.amd) {\n",
       "      requirejs.config({paths});\n",
       "      require([\"vega-embed\"], displayChart, err => showError(`Error loading script: ${err.message}`));\n",
       "    } else {\n",
       "      maybeLoadScript(\"vega\", \"5\")\n",
       "        .then(() => maybeLoadScript(\"vega-lite\", \"4.17.0\"))\n",
       "        .then(() => maybeLoadScript(\"vega-embed\", \"6\"))\n",
       "        .catch(showError)\n",
       "        .then(() => displayChart(vegaEmbed));\n",
       "    }\n",
       "  })({\"config\": {\"view\": {\"continuousWidth\": 400, \"continuousHeight\": 300}}, \"vconcat\": [{\"mark\": {\"type\": \"line\", \"size\": 2}, \"encoding\": {\"color\": {\"field\": \"class_label\", \"type\": \"nominal\"}, \"tooltip\": [{\"field\": \"class_label\", \"type\": \"nominal\"}, {\"field\": \"locations\", \"type\": \"nominal\"}, {\"field\": \"count\", \"type\": \"quantitative\"}, {\"field\": \"created_at\", \"type\": \"temporal\"}], \"x\": {\"field\": \"created_at\", \"type\": \"temporal\"}, \"y\": {\"field\": \"count\", \"type\": \"quantitative\"}}, \"height\": 400, \"selection\": {\"selector002\": {\"type\": \"interval\", \"empty\": \"none\"}}, \"title\": \"Hurricane disasters in the world, interactive chart\", \"width\": 500}, {\"mark\": {\"type\": \"text\", \"align\": \"left\", \"dx\": -250, \"dy\": -100}, \"encoding\": {\"text\": {\"field\": \"tweet_text\", \"type\": \"nominal\"}, \"y\": {\"axis\": null, \"field\": \"row_number\", \"type\": \"ordinal\"}}, \"height\": 200, \"title\": \"Tweets from the selected time period\", \"transform\": [{\"window\": [{\"op\": \"row_number\", \"field\": \"\", \"as\": \"row_number\"}]}, {\"filter\": {\"selection\": \"selector002\"}}, {\"window\": [{\"op\": \"rank\", \"field\": \"row_number\", \"as\": \"rank\"}]}, {\"filter\": \"(datum.rank < 20)\"}], \"width\": 500}], \"data\": {\"name\": \"data-f1bb00040bfc7ca9271d2b0aa333e28e\"}, \"$schema\": \"https://vega.github.io/schema/vega-lite/v4.17.0.json\", \"datasets\": {\"data-f1bb00040bfc7ca9271d2b0aa333e28e\": [{\"created_at\": \"2022-07-31T10:00:00+00:00\", \"class_label\": \"caution_and_advice\", \"tweet_text\": [\"NHC Atlantic Outlook\\nhttps://t.co/DHXo73dOr8\\n\\nZCZC MIATWOAT ALL\\nTTAA00 KNHC DDHHMM\\n\\nTropical Weather Outlook\\nNWS National Hurricane Center Miami FL\\n800 AM EDT Sun Jul 31 2022\\n\\nFor the North Atlantic...Caribbean Sea and the Gulf of Mexico:\\n\\nTropical cyclone formation is not expe\\u2026 https://t.co/apENMPMJ6B\", \"In the eastern pacific #hurricanefrank is holding steady it is expected to now weaken over the next few days. Tropical Storm Georgette continues to slowly weaken over the next 5 days. #Hurricane https://t.co/0QPgO40Nt4\", \"In the eastern pacific #hurricanefrank is holding steady it is expected to now weaken over the next few days. Tropical Storm Georgette continues to slowly weaken over the next 5 days. #Hurricane https://t.co/4chIP4qnBZ\", \"@jeffreyciminiwx @Ericwang1101 Everyone can weaken heavy rain, tornado, hail, storm surge, hurricane etc. with iron material e.g. small iron plate directly on the soil ground at these warning issued area, as water vapor gathers to electricity due to water polarity and such things ground electricity efficiently\", \"18 more sleeps.\\nIf there are widespread power outages after a hurricane, you won't be able to use debit or credit cards.\\nCheck your household expenses -- how much money do you go through each week? Before a storm, plan to withdraw about twice that amount in cash. #HurricaneSeason\"], \"locations\": [\"Gulf of Mexico\", \"North Atlantic...Caribbean Sea\"], \"count\": 88}, {\"created_at\": \"2022-07-31T12:00:00+00:00\", \"class_label\": \"displaced_people_and_evacuations\", \"tweet_text\": [\"@TroyerZT @catturd2 Apparently you've never been in a hurricane evacuation. He speaks the truth.\", \"Same. And another point specifically to Florida. Imagine an evacuation during a hurricane?????  Especially with electric cars........ https://t.co/5ABtxXxq5N\"], \"locations\": [\"Florida\"], \"count\": 44}, {\"created_at\": \"2022-07-31T14:00:00+00:00\", \"class_label\": \"caution_and_advice\", \"tweet_text\": [\"@edgarrmcgregor There was never any official prediction that Dolores would make landfall in California at hurricane or even tropical storm strength. There is only single instance when such a prediction was actually entertained by the NWS/NHC: 1997's Hurricane Linda.\\nhttps://t.co/y4pFJHGnMz\", \"NHC: Eastern Pacific: 8AM PDT Sunday July 31 2022, Hurricane Frank: Frank begins to weaken as it moves over cooler waters, 655MI WSW Southern Tip of Baja CA, 85MPH, latitude 19.3 North, longitude 119.3 West, Frank is forecast to become \\na post-tropical cyclone by late Tuesday.\", \"Access to card machines and ATMs will be limited before and after a storm. Have small amounts of cash on hand to purchase necessary items.\\n\\nContinue to tune in for more tips and updates on how you can prepare this hurricane season.\\n\\n#caymanchamber #caymanislands #hurricaneseason https://t.co/Up6OnevfeF\", \"#Tropical_Storm_Georgette [Wind Decr:Speed Decr] Heading W  @ 6 mph. Wind @ 40 mph. Location N:13.1 W:-129.7 https://t.co/5DprmdENjF #Hurricane #Georgette #Ferrari\", \"RT @philklotzbach: No Atlantic named storms since #Colin weakened to a tropical depression on July 2nd, and none forecast for the next 5 da\\u2026\"], \"locations\": [\"California\"], \"count\": 46}, {\"created_at\": \"2022-07-31T14:00:00+00:00\", \"class_label\": \"infrastructure_and_utility_damage\", \"tweet_text\": [\"More History:\\ud83d\\udc47\\n\\nSuperstorm Sandy rocked the East Coast almost ten years ago and was the strongest 2012 Atlantic hurricane season causing mass tragedy.\\n\\nOur pics show the damage caused one day after the storm hit, the water mark, and our mug showing the same restored spot.\\ud83d\\udc99\", \"@GovKathyHochul The storm that caused the most amount of damage \\u2026 is Hurricane Kathy \\u2026 no bail reform.. she favors thugs that costs lives !! You have personally damaged NY ers that\\u2019s the definition of a Hurricane \\u2026 and now you want Emergency powers\", \"Inflation on power bills by companies are building Wind Farm power generation 100 miles off the coast of Virginia that Mother Nature can destroy with one hurricane! Last year we used 3018 KWH of power this year we used 2486 KWH of power yet our bill was $39 dollars higher WTF?\"], \"locations\": [\"Atlantic\"], \"count\": 45}, {\"created_at\": \"2022-07-31T16:00:00+00:00\", \"class_label\": \"caution_and_advice\", \"tweet_text\": [\"New advisory on Hurricane Frank and it is now down to a 85mph cat 1 hurricane as it continues to move northwest at 12mph and it is forecast to become a tropical storm tomorrow morning and post tropical Tuesday night #wxtwitter #WeatherUpdate #weathertweet #tropics #Tropical https://t.co/1cGF1EB02f\", \"RT @NHC_TAFB: Jul 31st, 12 ET:  Hurricane #Frank and Tropical Storm #Georgette continue to impact the eastern North Pacific high seas.  Fra\\u2026\", \"RT @philklotzbach: No Atlantic named storms since #Colin weakened to a tropical depression on July 2nd, and none forecast for the next 5 da\\u2026\", \"Jul 31st, 12 ET:  Hurricane #Frank and Tropical Storm #Georgette continue to impact the eastern North Pacific high seas.  Frank's peak 32 ft seas are expected to gradually diminish to around 15 ft Tuesday morning.  Georgette's 14 ft seas should remain about the same. https://t.co/T9Zg655hWN\", \"@edgarrmcgregor 1997's Hurricane Linda was actually the catalyst for the NWS local offices in SoCal and the NHC to coordinate messaging and coastal breakpoints for watch/warnings if a tropical storm or hurricane actually ever is predicted to make landfall in California. https://t.co/f18zvIYUSR\"], \"locations\": [\"California\"], \"count\": 46}, {\"created_at\": \"2022-07-31T18:00:00+00:00\", \"class_label\": \"caution_and_advice\", \"tweet_text\": [\"RT @NHC_TAFB: Jul 31st, 12 ET:  Hurricane #Frank and Tropical Storm #Georgette continue to impact the eastern North Pacific high seas.  Fra\\u2026\", \"RT @DrML350PhD: \\ud83c\\udf1fJuly\\nHurricane #Frank\\nTropical Storm #Georgette https://t.co/AZV2QX2rvN\", \"NHC Atlantic Outlook\\nhttps://t.co/DHXo73dOr8\\n\\nZCZC MIATWOAT ALL\\nTTAA00 KNHC DDHHMM\\n\\nTropical Weather Outlook\\nNWS National Hurricane Center Miami FL\\n200 PM EDT Sun Jul 31 2022\\n\\nFor the North Atlantic...Caribbean Sea and the Gulf of Mexico:\\n\\nTropical cyclone formation is not expe\\u2026 https://t.co/Iip7ub3YnU\", \"Saharan Air Layer Forecast - Caribbean | Hurricane and Tropical Storm coverage from https://t.co/cBlbtXtRBz https://t.co/JlJDnNg5xb\", \"Hurricane Ida served as a reminder that people inland need to be prepared for significant damage every year. Here is how long you should expect your power to be out after a hurricane, according to Entergy. \\u2935 https://t.co/92FSbOIVbG\"], \"locations\": [\"Gulf of Mexico\", \"North Atlantic...Caribbean Sea\"], \"count\": 104}, {\"created_at\": \"2022-07-31T22:00:00+00:00\", \"class_label\": \"caution_and_advice\", \"tweet_text\": [\"NHC Atlantic Outlook\\nhttps://t.co/DHXo73dOr8\\n\\nZCZC MIATWOAT ALL\\nTTAA00 KNHC DDHHMM\\n\\nTropical Weather Outlook\\nNWS National Hurricane Center Miami FL\\n800 PM EDT Sun Jul 31 2022\\n\\nFor the North Atlantic...Caribbean Sea and the Gulf of Mexico:\\n\\nTropical cyclone formation is not expe\\u2026 https://t.co/nprsrRI061\", \"Storm Chances High Across South Florida Tuesday: Open for First Alert Doppler\\u00a06000 https://t.co/YipFVzI7HL\", \"RT @philklotzbach: No Atlantic named storms since #Colin weakened to a tropical depression on July 2nd, and none forecast for the next 5 da\\u2026\", \"New advisory on hurricane Frank and it is now down to 80mph and forecast to become a tropical storm soon then post tropical on Tuesday night #wxtwitter #WeatherUpdate #weathertweet #tropics #Tropical #HurricaneSeason2022 #BreakingNews https://t.co/Rhq016QCQm\", \"@SecGranholm Hurricane or storm don't give af about your windmills, Karen. https://t.co/NcDpvnKbLw\", \"RT @Windycom: Hurricane #Frank is now weakening from Category 1 (136 mph) while moving northeast, expected to become a tropical storm by to\\u2026\"], \"locations\": [\"Gulf of Mexico\", \"North Atlantic...Caribbean Sea\"], \"count\": 110}, {\"created_at\": \"2022-07-31T22:00:00+00:00\", \"class_label\": \"infrastructure_and_utility_damage\", \"tweet_text\": [\"@ai6yrham Did you know this coincides with a big surfing competition. I bet that changed the outcome. I hope Hurricane Frank comes ashore as a tropical storm. We might have some damage but we desperately need the rain out west. \\n\\nhttps://t.co/LJCSqAh5ir\", \"@ai6yrham The only known hurricane on record to make landfall in California was in 1858 in San Diego.\\n\\nIn September 1939 a hurricane almost made landfall in Long Beach, but \\\"lost power\\\" before coming ashore and made landfall as tropical depression, which caused a lot of damage.\", \"SPH of the 28th Mechanized Brigade AFU destroy Russian BM-27 Hurricane MLRS. https://t.co/VqDWiIuVGi\", \"The mall I have so many memories in growing up is closing due to hurricane damage :c\"], \"locations\": [\"California\"], \"count\": 54}, {\"created_at\": \"2022-07-31T22:00:00+00:00\", \"class_label\": \"rescue_volunteering_or_donation_effort\", \"tweet_text\": [\"RT @sachikoko: \\ud83c\\udf89\\ud83c\\udf88\\ud83c\\udf8aRESCUED! 10YO BLACK &amp; WHITE KITTY \\\"FUZZ\\\" IS SAFE!\\ud83c\\udf89\\ud83c\\udf88\\ud83c\\udf8a\\n\\u25b6https://t.co/5I9ccVqF8H\\n\\ud83d\\ude3a\\ud83d\\udc4f\\ud83c\\udffdPULLED BY Hurricane Pets Rescue Inc. (HP\\u2026\", \"Don't let it skip your mind and donate to thee American Red Cross. My Heart goes out to the residents of Kentucky as they try and deal with the disastrous flooding. People's donated for Louisiana during last years hurricane so I sent my live and my money back to help recover. https://t.co/XB1iHuSNdD\"], \"locations\": [\"Louisiana\"], \"count\": 54}, {\"created_at\": \"2022-08-01T00:00:00+00:00\", \"class_label\": \"displaced_people_and_evacuations\", \"tweet_text\": [\"We're also partnering with @Kalshi in New Orleans.\\n\\nIn recent years, as the climate emergency has accelerated, Louisiana has borne the brunt of hurricane season year after year. Kalshi can help in the event of a last-minute evacuation on a tight budget.\\nhttps://t.co/oMUWLrGAKx\", \"Thrilled to announce that @currently is partnering with @Kalshi to advance hurricane prediction and keep people safe in Miami.\\n\\nKalshi offers next-day payouts. Insurance deductibles are high &amp; evacuation can be costly \\u2014 Kalshi can help. Check them out: https://t.co/OtMawAVrs1\", \"Getting our inevitable hurricane evacuation plan in order is stressful with 2 dogs\", \"[Solved] Week 4B: Hurricane Floyd Evacuation\\nhttps://t.co/KV0SyeKz6P\"], \"locations\": [\"Louisiana\"], \"count\": 56}, {\"created_at\": \"2022-08-01T02:00:00+00:00\", \"class_label\": \"caution_and_advice\", \"tweet_text\": [\"Dr. Pierre Kory \\\"Censorship is the same as silencing meteorologists trying to issue CAT-5 hurricane warnings to those in the direct path of a killer storm If people are not warned of imminent danger, guess what happens?\\\"\\n\\nTwit does not have the knowledge a renowned doctor has.\", \"NHC: Eastern Pacific: 8PM PDT Sunday July 31 2022: Hurricane Frank: Frank should weaken below hurricane strength tonight, 705MI W Southern Tip of Baja CA, 75MPH, latitude 20.8 North, longitude 120.7 West, Frank is forecast to become a post-tropical\\ncyclone by late Tuesday night.\", \"@DethVeggie A hurricane has hit California once, in 1858 San Diego. \\n\\nIn 1937, a tropical storm came ashore in Los Angeles, recently downgraded from a hurricane.\"], \"locations\": [\"California\"], \"count\": 57}, {\"created_at\": \"2022-08-01T02:00:00+00:00\", \"class_label\": \"infrastructure_and_utility_damage\", \"tweet_text\": [\"@SenTedCruz I almost never agree with you, Senator, but this is a good plan and is a rare good usage of your messaging platform. We have all seen the damage in East Texas during hurricane season and more can always be done to protect our state from climate disasters.\", \"\\\"The 2004 Atlantic hurricane season was a very deadly, destructive, and extremely active Atlantic hurricane season, with over 3,200 deaths and more than $61 billion in damage.\\\"\\n\\nThe first storm of the season was Alex on July 31st.\\n\\nhttps://t.co/KPoXf8awIo\", \"RT @DWDavisRSL: With Hurricane Season upon us, remember, not all Storm Damage is physical. Carter learns that the hard way.\\nhttps://t.co/7I\\u2026\"], \"locations\": [\"Atlantic\"], \"count\": 112}, {\"created_at\": \"2022-08-01T04:00:00+00:00\", \"class_label\": \"caution_and_advice\", \"tweet_text\": [\"NHC Atlantic Outlook\\nhttps://t.co/DHXo73dOr8\\n\\nZCZC MIATWOAT ALL\\nTTAA00 KNHC DDHHMM\\n\\nTropical Weather Outlook\\nNWS National Hurricane Center Miami FL\\n200 AM EDT Mon Aug 1 2022\\n\\nFor the North Atlantic...Caribbean Sea and the Gulf of Mexico:\\n\\nTropical cyclone formation is not expec\\u2026 https://t.co/1ee0pKbs4X\", \"RT @EricHolthaus: We're also partnering with @Kalshi in New Orleans.\\n\\nIn recent years, as the climate emergency has accelerated, Louisiana\\u2026\", \"RT @philklotzbach: No Atlantic named storms since #Colin weakened to a tropical depression on July 2nd, and none forecast for the next 5 da\\u2026\"], \"locations\": [\"Gulf of Mexico\", \"North Atlantic...Caribbean Sea\"], \"count\": 114}, {\"created_at\": \"2022-08-01T04:00:00+00:00\", \"class_label\": \"infrastructure_and_utility_damage\", \"tweet_text\": [\"gf: unfezant\\u2019s not real it can\\u2019t hurt you\\n\\nunfezant doing hurricane wing for 140 damage: unfezant\", \"Hurricane damage in Louisiana &amp; Potential Flash Floods in Kentucky?\\n\\nI know them Flood &amp; Wind Adjusters out there eating\\ud83d\\udcb0\\ud83d\\udcb0\\ud83d\\udcb0\\n\\nhttps://t.co/bedhSHJotp\", \"#AD #Commercial garage door charleston wv - Home Repair Projects Youll Get Insurance Coverage for Through a Hurricane Damage Claim - Insura\"], \"locations\": [\"Louisiana\"], \"count\": 57}, {\"created_at\": \"2022-08-01T10:00:00+00:00\", \"class_label\": \"caution_and_advice\", \"tweet_text\": [\"NHC Atlantic Outlook\\nhttps://t.co/DHXo73dOr8\\n\\nZCZC MIATWOAT ALL\\nTTAA00 KNHC DDHHMM\\n\\nTropical Weather Outlook\\nNWS National Hurricane Center Miami FL\\n800 AM EDT Mon Aug 1 2022\\n\\nFor the North Atlantic...Caribbean Sea and the Gulf of Mexico:\\n\\nTropical cyclone formation is not expec\\u2026 https://t.co/5WtzmvLr7j\", \"As we approach the peak of hurricane season, it\\u2019s important to make sure that your emergency supplies and procedures are up to date. \\n\\nRegardless of whether or not a storm affects the US this year, it\\u2019s always good to have these supplies on hand. https://t.co/ENQxvaY3ng\"], \"locations\": [\"Gulf of Mexico\", \"North Atlantic...Caribbean Sea\", \"US\"], \"count\": 173}, {\"created_at\": \"2022-08-01T10:00:00+00:00\", \"class_label\": \"rescue_volunteering_or_donation_effort\", \"tweet_text\": [\"RT @sachikoko: \\ud83c\\udf89\\ud83c\\udf88\\ud83c\\udf8aRESCUED! 10YO BLACK &amp; WHITE KITTY \\\"FUZZ\\\" IS SAFE!\\ud83c\\udf89\\ud83c\\udf88\\ud83c\\udf8a\\n\\u25b6https://t.co/5I9ccVqF8H\\n\\ud83d\\ude3a\\ud83d\\udc4f\\ud83c\\udffdPULLED BY Hurricane Pets Rescue Inc. (HP\\u2026\", \"Need a car https://t.co/NhVKPca4yF hi I'm William m Huber live in Florida it's hurricane season I'm raise money for car the price goal is not total of the car it's insurance tags cheap car mantaince everyone welcome read it and see if can donate this car will keep me safe\"], \"locations\": [\"Florida\"], \"count\": 57}, {\"created_at\": \"2022-08-01T12:00:00+00:00\", \"class_label\": \"infrastructure_and_utility_damage\", \"tweet_text\": [\"@fema has basically been ignoring the flash flood damage in Missouri. We received a hurricane level of rain (10-13 in), double the previous record (6.5 in) and many homes/apartments damaged ARE NOT IN A FLOOD PLAIN &amp; didn't have/aren't allowed to get Flood Insurance. #WhereIsFEMA\", \"Read our latest #blog to learn about the importance of #hurricane standards in building codes to minimize damage caused by these natural disasters: https://t.co/bzjINZ4AQS https://t.co/rgmSHHgeiQ\", \"As climate change increases the frequency of extreme weather events, there is a greater risk of coastal and inland flooding and an increasing risk of structural damage. Hurricanes pose a significant threat in parts of the US, and as\\nhttps://t.co/4zVxGJMg9e #reinsurance #insurance\", \"@Treestand_tweet I\\u2019m watching news right now , they showing the damage in Kentucky from the flooding .. it\\u2019s like a hurricane went thru Kentucky\"], \"locations\": [\"US\"], \"count\": 60}, {\"created_at\": \"2022-08-01T16:00:00+00:00\", \"class_label\": \"caution_and_advice\", \"tweet_text\": [\"RT @pahowho: Locate nearby emergency shelters in your area in case of a storm or hurricane. \\ud83d\\udca8\\u26c8\\ufe0f  \\n\\n\\u2705 Listen to local authorities and follow\\u2026\", \"Get #Travelers hurricane survival guide for tips on what to do during a storm. https://t.co/xosx748k01 https://t.co/zqHvj4EHEc\", \"RT @MSV_FireRescue: Hurricane season is here - Do you know the difference between a hurricane watch and warning? A hurricane WATCH means hu\\u2026\", \"Get #Travelers hurricane survival guide for tips on what to do during a storm. https://t.co/cY9Y4TR5eF https://t.co/0zBQLgIRBD\", \"RT @53rdWRS: Monday moves \\u2708\\ufe0f\\n\\nWe\\u2019re taking advantage of this *uiet stretch to be as prepared as possible for storm ops by conducting routin\\u2026\", \"@mstreiffer Hurricane Hugo produced an 8-foot (2.4 m) storm surge at Charleston, indicating that water levels rose 12.9 ft (3.9 m) above mean lower low water as Hugo made landfall. Elsewhere along the South Carolina coast, Hugo produced storm tides as high as 20 ft (6.1 m).\", \"RT @wintergrowth: Whether it\\u2019s a hurricane, flooding, or any other natural disaster, there are steps you can take to ensure that you and yo\\u2026\", \"Get #Travelers hurricane survival guide for tips on what to do during a storm. https://t.co/Wl4rX33f99 https://t.co/hM38G7S6dp\", \"Tropical Weather Outlook\\nNWS National Hurricane Center Miami FL\\n800 AM EDT Mon Aug 1 2022\\n\\nFor the North Atlantic...Caribbean Sea and the Gulf of Mexico:\\n\\nTropical cyclone formation is not expected during the next 5 days. https://t.co/8RjwYenFg4\", \"Now is the time to ensure you and your family are prepared in the event a storm impacts #OurCounty. \\n\\nFor all things on #HurricanePrep, visit https://t.co/Xm86L3yd0H https://t.co/nG2mEdJHWD\"], \"locations\": [\"Gulf of Mexico\", \"North Atlantic...Caribbean Sea\"], \"count\": 122}, {\"created_at\": \"2022-08-01T16:00:00+00:00\", \"class_label\": \"infrastructure_and_utility_damage\", \"tweet_text\": [\"@JohnnyUtah_____ @lunam62 @MadeInTheUSANJ @mattgaetz \\ud83e\\udd23\\ud83e\\udd23\\ud83e\\udd23 well my hometown is far from a shit hole. Aside from the damage hurricane Michael made panama city especially PCB is a major tourist spot. I dont live there anymore I actually have split residence between Alabama and northern Florida where I own a bar outright. So \\ud83e\\udd21\\ud83e\\udd21\\ud83e\\udd21\", \"The cotton harvest usually starts in October. Unfortunately, that timeline coincides with the continuation of hurricane season which always brings an elevated risk of weather damage. #OnTheFarm \\nhttps://t.co/qYUWugyGXq\", \"@VP you are doing way more damage then a hurricane can\", \"#DYK? While any hurricane can cause significant damage, they are ranked by category based on wind speed. In the hours leading up to severe weather, Inland's team implements every effort to ensure the safety of tenants &amp; customers. For more info, visit:  https://t.co/qgWzkaZ2VA https://t.co/Yub8RV4p3Y\", \"RT @andyvicknair: @Pegredd Finally move into my house post hurricane Ida damage\", \"@Pegredd Finally move into my house post hurricane Ida damage\", \"@Summerslease1 @toadmeister And look what he had to take on the chin after the hurricane and damage late 80s!! \\ud83e\\udd26\\u200d\\u2642\\ufe0f\\ud83e\\udd26\\u200d\\u2642\\ufe0f\\ud83d\\ude06\\ud83d\\ude06\\ud83d\\ude06\"], \"locations\": [\"Florida\"], \"count\": 60}, {\"created_at\": \"2022-08-01T18:00:00+00:00\", \"class_label\": \"caution_and_advice\", \"tweet_text\": [\"RT @53rdWRS: Monday moves \\u2708\\ufe0f\\n\\nWe\\u2019re taking advantage of this *uiet stretch to be as prepared as possible for storm ops by conducting routin\\u2026\", \"RT @NHC_TAFB: Jul 31st, 12 ET:  Hurricane #Frank and Tropical Storm #Georgette continue to impact the eastern North Pacific high seas.  Fra\\u2026\", \"As peak #HurricaneSeason approaches, is your company prepared? Find out what to do before, during and after a storm hits: https://t.co/drQfKFaRqd.\", \"Just one storm can be detrimental to your home. This hurricane season we want to make sure your home is properly covered. Contact one of our agents today for a free quote. 352-338-0552\\u26c8\\ufe0f #DSI #Hurricaneseason https://t.co/c44aUmHN41\", \"NHC Atlantic Outlook\\nhttps://t.co/DHXo73dOr8\\n\\nZCZC MIATWOAT ALL\\nTTAA00 KNHC DDHHMM\\n\\nTropical Weather Outlook\\nNWS National Hurricane Center Miami FL\\n200 PM EDT Mon Aug 1 2022\\n\\nFor the North Atlantic...Caribbean Sea and the Gulf of Mexico:\\n\\nTropical cyclone formation is not expec\\u2026 https://t.co/DVZD5PKyEf\", \"RT @MiamiDadeEM: Now is the time to ensure you and your family are prepared in the event a storm impacts #OurCounty. \\n\\nFor all things on #H\\u2026\", \"@libsr_cancer @BIGG69276626 @sticksnstones86 @newsmax Sea level rise of a just few inches increases coastal erosion, storm surges, and ultimately flooding. So when folks living along the US gulf coast get flooded out again during the next hurricane season, please be sure to tell them that it\\u2019s not a big deal\\ud83d\\udc4d\\ud83c\\udfff\", \"Just a reminder that hurricane season lasts until Nov. 30. It\\u2019s hard to predict where the storm will hit until it\\u2019s too late. Make sure you\\u2019re covered!\\n\\nProtect your home from wind damage and flooding. Get your free quote today: \\n\\ud83d\\udcf2(239) 541-3276 \\n\\n#insurance #sullivanstatefarm https://t.co/jFddJiRkk8\"], \"locations\": [\"Gulf of Mexico\", \"North Atlantic...Caribbean Sea\", \"US\"], \"count\": 181}, {\"created_at\": \"2022-08-01T20:00:00+00:00\", \"class_label\": \"caution_and_advice\", \"tweet_text\": [\"RT @AmberLeeNews: Surfers Delight: Former Hurricane Frank now a tropical storm will bring fun sized waves to SoCal. A Beach Hazard Statemen\\u2026\", \"We realized we contradicted ourselves...Frank was formerly a hurricane and is now categorized as a tropical storm. It still won't make landfall either way as it becomes an extra tropical cyclone.\", \"RT @MississippiDOT: Today begins peak Atlantic hurricane season. Remember, one storm can change everything, so be prepared. \\n\\nPlan your hur\\u2026\", \"@luisocpo_06 @BadWeatherTake \\\"making headway for a direct landfall\\\" is a bad way to describe the path of tropical storm or hurricane remnants. Remnants \\\"move onshore\\\", and remnants from other Pacific tropical storms &amp; hurricanes move over California ever year. Direct landfall is bad terminology to use here.\", \"NWSReno: A view from space (GOES-17) showing the cloud cover across the region, developing thunderstorms, and Tropical Storm Frank. Deets in the color scale at bottom.\\n\\nNote: this hurricane will remain in the Pacific and not make landfall. Follow \\u2026 https://t.co/rHKrDVJUpd\", \"Frank, Georgette to Create Rip Currents Along California Coast 1Weather\\n Hurricane Frank and Tropical Storm Georgette continue to spin hundreds of miles off the coast of Mexico in the Eastern Pacific\\nFrank is forecast to grow into a post-tropical cyclone\\nhttps://t.co/inrfb2TBJd\", \"Today begins peak Atlantic hurricane season. Remember, one storm can change everything, so be prepared. \\n\\nPlan your hurricane evacuation route today: https://t.co/NuQl1gPOam. #hurricaneprep https://t.co/n0CZa5krqi\", \"RT @53rdWRS: Monday moves \\u2708\\ufe0f\\n\\nWe\\u2019re taking advantage of this *uiet stretch to be as prepared as possible for storm ops by conducting routin\\u2026\", \"RT @philklotzbach: No Atlantic named storms since #Colin weakened to a tropical depression on July 2nd, and none forecast for the next 5 da\\u2026\", \"A view from space (GOES-17) showing the cloud cover across the region, developing thunderstorms, and Tropical Storm Frank. Deets in the color scale at bottom.\\n\\nNote: this hurricane will remain in the Pacific and not make landfall. Follow https://t.co/jiPGPalkbt for the latest. https://t.co/ptecvvw7B5\"], \"locations\": [\"Atlantic\", \"California\"], \"count\": 185}, {\"created_at\": \"2022-08-01T22:00:00+00:00\", \"class_label\": \"caution_and_advice\", \"tweet_text\": [\"NHC Atlantic Outlook\\nhttps://t.co/DHXo73dOr8\\n\\nZCZC MIATWOAT ALL\\nTTAA00 KNHC DDHHMM\\n\\nTropical Weather Outlook\\nNWS National Hurricane Center Miami FL\\n800 PM EDT Mon Aug 1 2022\\n\\nFor the North Atlantic...Caribbean Sea and the Gulf of Mexico:\\n\\nTropical cyclone formation is not expec\\u2026 https://t.co/ubfsWe4ZRY\", \"The #ClimateCrisis was visible in 2014! Here\\u2019s the climate warning after Hurricane Irene and Tropical Storm Lee \\nhttps://t.co/UIDLA1ZiLG\", \"RT @Brave_spirit81: Subscribe\\ud83d\\udc49TELEGRAM: https://t.co/Uw6hADCvaz\\nTornado near the city of Coronation (Canada, Alberta, July 31, 2022).\\n\\n#sto\\u2026\", \"The tropics have historically been the most active in August, September and October. Though no storm development is expected in the next five days, here are a few things you can do to stay prepared during hurricane season.  https://t.co/BtXoREKzeZ\", \"The tropics have historically been the most active in August, September and October. Though no storm development is expected in the next five days, here are a few things you can do to stay prepared during hurricane season.  https://t.co/Njk5gbUnxQ\", \"The tropics have historically been the most active in August, September and October. Though no storm development is expected in the next five days, here are a few things you can do to stay prepared during hurricane season.  https://t.co/6JHvDxcZEd\", \"RT @EvergladesNPS: When impact from a tropical storm or hurricane is expected, the park will close to visitors, and remaining staff will ev\\u2026\", \"RT @53rdWRS: Monday moves \\u2708\\ufe0f\\n\\nWe\\u2019re taking advantage of this *uiet stretch to be as prepared as possible for storm ops by conducting routin\\u2026\"], \"locations\": [\"Gulf of Mexico\", \"North Atlantic...Caribbean Sea\"], \"count\": 124}, {\"created_at\": \"2022-08-01T22:00:00+00:00\", \"class_label\": \"rescue_volunteering_or_donation_effort\", \"tweet_text\": [\"@Acyn Radical social agenda:\\n\\nHelping flood victims in Kentucky.\\n\\nHelping hurricane victims in Florida.\\n\\nHelping storm victims in Nebraska.\\n\\nHelping landslide victims in Alaska.\\n\\nThat radical social agenda, Marsha?\\n\\nWhy don't YOU want to help people?\", \"#OnAirNow San Quentin @SanQuentinMusic @judith_fisher - Hurricane, https://t.co/W4ZhwIPjIV or https://t.co/Nk3kvYxQOh\\nIndieMUSIC mainstreamMUSIC Help keep the station going if you can donate here https://t.co/o5i2UeMCXd https://t.co/Sa3VQOl5qk\"], \"locations\": [\"Florida\"], \"count\": 62}, {\"created_at\": \"2022-08-02T00:00:00+00:00\", \"class_label\": \"rescue_volunteering_or_donation_effort\", \"tweet_text\": [\"RT @MAndersen66: @Acyn Radical social agenda:\\n\\nHelping flood victims in Kentucky.\\n\\nHelping hurricane victims in Florida.\\n\\nHelping storm vic\\u2026\"], \"locations\": [\"Florida\"], \"count\": 61}, {\"created_at\": \"2022-08-02T02:00:00+00:00\", \"class_label\": \"rescue_volunteering_or_donation_effort\", \"tweet_text\": [\"The 2005 Hurricane Katrina disaster, launch the\\u00a0Community Tree Recovery\\u00a0campaign. The campaign has since planted more than 120,000 new trees to residents impacted by the storm.\\n@uk__ofc \\n#PlantwithFGRF \\n@FGRForg https://t.co/DlPjMlP5kJ\", \"RT @MAndersen66: @Acyn Radical social agenda:\\n\\nHelping flood victims in Kentucky.\\n\\nHelping hurricane victims in Florida.\\n\\nHelping storm vic\\u2026\"], \"locations\": [\"Florida\"], \"count\": 121}, {\"created_at\": \"2022-08-02T04:00:00+00:00\", \"class_label\": \"caution_and_advice\", \"tweet_text\": [\"NHC Atlantic Outlook\\nhttps://t.co/DHXo72Wd2y\\n\\nZCZC MIATWOAT ALL\\nTTAA00 KNHC DDHHMM\\n\\nTropical Weather Outlook\\nNWS National Hurricane Center Miami FL\\n200 AM EDT Tue Aug 2 2022\\n\\nFor the North Atlantic...Caribbean Sea and the Gulf of Mexico:\\n\\nTropical cyclone formation is not expec\\u2026 https://t.co/hCfAjqwtRq\", \"RT @Windycom: Hurricane #Frank is now weakening from Category 1 (136 mph) while moving northeast, expected to become a tropical storm by to\\u2026\", \"RT @Bryan_KnowsBest: As we approach the peak of hurricane season, it\\u2019s important to make sure that your emergency supplies and procedures a\\u2026\", \"RT @53rdWRS: Monday moves \\u2708\\ufe0f\\n\\nWe\\u2019re taking advantage of this *uiet stretch to be as prepared as possible for storm ops by conducting routin\\u2026\", \"@MindHaste The storms don't last forever.\\n\\nBut once you are out of the storm, make sure to become the storm yourself.\\n\\nBe a hurricane. Be a Tsunami. Be an Earthquake.\\nWhatever the situation demands.\\nBecome that.\\n\\nStir the world with your sheer will.\\nDominate and live like a King.\"], \"locations\": [\"Gulf of Mexico\", \"North Atlantic...Caribbean Sea\"], \"count\": 118}, {\"created_at\": \"2022-08-02T06:00:00+00:00\", \"class_label\": \"displaced_people_and_evacuations\", \"tweet_text\": [\"@ACTBrigitte When there's a hurricane evacuation in Florida, how would tens of thousands of electric vehicles get out if they suddenly ran out of battery power and blocked the roads?\"], \"locations\": [\"Florida\"], \"count\": 58}, {\"created_at\": \"2022-08-02T10:00:00+00:00\", \"class_label\": \"infrastructure_and_utility_damage\", \"tweet_text\": [\"@WSJ And nothing to Florida due to all the hurricane damage?. . .oh, wait. . .\\nhttps://t.co/7K2aA378mZ\", \"@SenJoniErnst @SenTedCruz demanded aid for Texas after the Texas Power Grid Collapse, but attacked giving aid to New England after Superstorm Sandy,\\nwhich did $65 BILLION in damage/killed 285 AMERICANS or Puerto Rico after Hurricane Maria did $90 BILLION in damage/killed 4,645 of US. https://t.co/435OCvir2x\"], \"locations\": [\"Florida\", \"Texas\", \"US\"], \"count\": 170}, {\"created_at\": \"2022-08-02T10:00:00+00:00\", \"class_label\": \"injured_or_dead_people\", \"tweet_text\": [\"@GrandpaGrumpMD Those KY storms were where my first home was. Life isn't easy there on a good day. But the Dems politicize the WEATHER\\ud83d\\ude44! The most devastating storm in US history was the Galveston hurricane. The estimate was 10,000 people dead. The year, 1900. Nature is just bigger than we are. https://t.co/g98oMJjSa1\"], \"locations\": [\"US\"], \"count\": 57}, {\"created_at\": \"2022-08-02T10:00:00+00:00\", \"class_label\": \"rescue_volunteering_or_donation_effort\", \"tweet_text\": [\"RT @MAndersen66: @Acyn Radical social agenda:\\n\\nHelping flood victims in Kentucky.\\n\\nHelping hurricane victims in Florida.\\n\\nHelping storm vic\\u2026\"], \"locations\": [\"Florida\"], \"count\": 57}, {\"created_at\": \"2022-08-02T12:00:00+00:00\", \"class_label\": \"caution_and_advice\", \"tweet_text\": [\"Just one storm can cause major disruption to your life when damage leads to costly repairs that can take months. To better prepare, there are simple, research-backed actions every coastal homeowner should take now to Be #Hurricane Ready: https://t.co/s4jrYAyIy2 https://t.co/bXfuzNZ6yj\", \"RT @Brave_spirit81: Subscribe\\ud83d\\udc49TELEGRAM: https://t.co/Uw6hADCvaz\\nTornado near the village of Gilchin, Tambov district, Amur region, August 2\\u2026\", \"Subscribe\\ud83d\\udc49TELEGRAM: https://t.co/Uw6hADCvaz\\nTornado near the village of Gilchin, Tambov district, Amur region, August 2, 2022. russia \\n\\n#storm #hurricane #StormHour #thunderstorm #tornado https://t.co/KpxC0tRYGu\", \"NHC Atlantic Outlook\\nhttps://t.co/DHXo72Wd2y\\n\\nZCZC MIATWOAT ALL\\nTTAA00 KNHC DDHHMM\\n\\nTropical Weather Outlook\\nNWS National Hurricane Center Miami FL\\n800 AM EDT Tue Aug 2 2022\\n\\nFor the North Atlantic...Caribbean Sea and the Gulf of Mexico:\\n\\nTropical cyclone formation is not expec\\u2026 https://t.co/PxeixKbcg3\", \"RT @Etrackers_: Busy in the Eastern Pacific we still have Frank that has been downgraded to a tropical storm. Georgette is still a depressi\\u2026\", \"Busy in the Eastern Pacific we still have Frank that has been downgraded to a tropical storm. Georgette is still a depression but is expected to become post tropical by Thursday. #HurricaneSeason #Hurricane https://t.co/hpwWUCSpOF\"], \"locations\": [\"Gulf of Mexico\", \"North Atlantic...Caribbean Sea\"], \"count\": 110}, {\"created_at\": \"2022-08-02T16:00:00+00:00\", \"class_label\": \"caution_and_advice\", \"tweet_text\": [\"A1: Storm surge and large waves produced by hurricanes pose the greatest threat to life and property along the coast, per the National Hurricane Center. https://t.co/yX5zF4QXfe #MMAChats #NaturalCatastrophes https://t.co/cfKwnlF1xc\", \"RT @NHC_TAFB: Jul 31st, 12 ET:  Hurricane #Frank and Tropical Storm #Georgette continue to impact the eastern North Pacific high seas.  Fra\\u2026\", \"If a storm has a sustained windspeed of 77 mph, is it a tropical depression, tropical storm, or hurricane? https://t.co/ssGJ2vVrct\\n\\n#werestore #servicemasterrestore #SRM #restoringpeaceofmind #largelossrecovery #esop #commercial #residential #goodtoknow https://t.co/4cfzI9sx7k\", \"RT @Etrackers_: Busy in the Eastern Pacific we still have Frank that has been downgraded to a tropical storm. Georgette is still a depressi\\u2026\", \"If a storm has a sustained windspeed of 77 mph, is it a tropical depression, tropical storm, or hurricane? https://t.co/ZXvEjpIOuZ\\n\\n#werestore #servicemasterrestore #SRM #restoringpeaceofmind #largelossrecovery #esop #commercial #residential #goodtoknow https://t.co/vGD2ChD3Dt\", \"RT @jkdweather: A1: Storm surge and large waves produced by hurricanes pose the greatest threat to life and property along the coast, per t\\u2026\", \"RT @philklotzbach: No Atlantic named storms since #Colin weakened to a tropical depression on July 2nd, and none forecast for the next 5 da\\u2026\", \"The 2022 Atlantic hurricane season has been fairly quiet so far but the most critical weeks are ahead. Prepare and talk with your family about emergency plans: Look up local hurricane evacuation routes and get a \\u201cgo-bag\\u201d ready.\\nhttps://t.co/EaI7HIVzza\", \"RT @TxDPSSoutheast: This week's hurricane preparedness tip. Strengthen your home.\\n\\nTake the time to assess your residence for potentiol vul\\u2026\", \"Has your boat been damaged by a major storm or hurricane? \\nREAD! Tips For Recovering Your Boat After A Hurricane -  https://t.co/qSchKwoJWJ #boatrecovery #hurricanedamage\"], \"locations\": [\"Atlantic\"], \"count\": 53}, {\"created_at\": \"2022-08-02T16:00:00+00:00\", \"class_label\": \"infrastructure_and_utility_damage\", \"tweet_text\": [\"RT @GibbonsDillan: \\ud83d\\udea8 HURRICANES SUCK \\ud83d\\udea8\\n\\nMy teammate @iam_jvxiiii\\u2019s family home in NOLA remains decimated after taking damage in Hurricane I\\u2026\", \"A1c: 2021\\u2019s Hurricane Ida caused storm surge of up to 14 feet along the Louisiana coast. Winds and storm surge lead to an estimated $55 billion in damage in Louisiana, according to @NOAA. #MMAChats #Risks\", \"A1. Often overlooked, a storm surge from a #hurricane can bring massive levels of flooding to coastal areas. Surge from Hurricane Michael in #Florida left $14B in damage. Great insights from @Marsh_MMA in their recent #Flood white paper: https://t.co/huhwAQBTXO #MMAChats https://t.co/RowsmOaTRy\", \"We had our share of the storm. The rain came down in torrents all day and the wind amounted to a hurricane. The meadows were overflowed and much hay was carried down the river. Roads were damaged and bridges washed out. Upper Musquodoboit Aug 2 1908\"], \"locations\": [\"Florida\", \"Louisiana\"], \"count\": 159}, {\"created_at\": \"2022-08-02T18:00:00+00:00\", \"class_label\": \"caution_and_advice\", \"tweet_text\": [\"August 3 , 1970 \\n#Hurricane #Celia was the costliest tropical cyclone in Texas history until Hurricane #Alicia in 1983. Hurricane Celia made landfall near Port Aransas as a major Hurricane, Category 3 on the Saffir-Simpson scale with sustained winds of 175 mph https://t.co/icjRy13VDe\", \"@_RajPatel @FarmingPathogen Hurricane Hugo produced an 8-foot (2.4 m) storm surge at Charleston, indicating that water levels rose 12.9 ft (3.9 m) above mean lower low water as Hugo made landfall. Elsewhere along the South Carolina coast, Hugo produced storm tides as high as 20 ft (6.1 m).\", \"RT @TxDPSSoutheast: This week's hurricane preparedness tip. Strengthen your home.\\n\\nTake the time to assess your residence for potentiol vul\\u2026\", \"NHC Atlantic Outlook\\nhttps://t.co/DHXo73dOr8\\n\\nZCZC MIATWOAT ALL\\nTTAA00 KNHC DDHHMM\\n\\nTropical Weather Outlook\\nNWS National Hurricane Center Miami FL\\n200 PM EDT Tue Aug 2 2022\\n\\nFor the North Atlantic...Caribbean Sea and the Gulf of Mexico:\\n\\nTropical cyclone formation is not expec\\u2026 https://t.co/lXTCHAWU3o\", \"RT @philklotzbach: No Atlantic named storms since #Colin weakened to a tropical depression on July 2nd, and none forecast for the next 5 da\\u2026\", \"Tree trimming is vital to maintain reliable power and prepare for any storm that may come our way during #HurricaneSeason.\\n\\nExplore https://t.co/EUcSRjUDuT to learn how JEA prepares year-round for hurricane season and how you can best prepare your family, home and business. https://t.co/6jJOgA2HhE\"], \"locations\": [\"Gulf of Mexico\", \"North Atlantic...Caribbean Sea\", \"Texas\"], \"count\": 158}, {\"created_at\": \"2022-08-02T18:00:00+00:00\", \"class_label\": \"infrastructure_and_utility_damage\", \"tweet_text\": [\"The storm, with hurricane-force winds, wiped out a popular boardwalk and took down hundreds of trees. Now, major repairs have been completed. https://t.co/9fmMEsdPtG\", \"\\ud83d\\udca8\\ud83c\\udfdd It's officially hurricane season. Did you know that falling branches cause most storm-related power outages?\\n\\nTrim your trees at least 10 feet from power lines to reduce storm-related power outages.\\n\\nFor more info on how you can prepare, visit: https://t.co/0s3xavod6X \\ud83d\\udc48 https://t.co/IO9EnBzkZw\", \"The protection form like Fire Wheel is a Razor Wind.\\n3 or 4 razors of wind encircle Hayate\\nThis actually increases jump height &amp; wall running distance too.\\nTossing the Windmill Shuriken while in RW does add bonus damage &amp; maybe range. Does not end RW like Hurricane/Windstorm.\", \"Insurance claims in Louisiana from damage related to last year\\u2019s Hurricane Ida have exceeded $13 billion through June 30th, 2022 https://t.co/fLiYjTuhDZ https://t.co/0ztJidAboM\", \"#DYK? While any hurricane can cause significant damage, they are ranked by category based on wind speed. In the hours leading up to severe weather, Inland's team implements every effort to ensure the safety of tenants &amp; customers. For more info, visit: https://t.co/DC80Xc8OWL https://t.co/FsRhEGbOiH\", \"In the blog below, we provide an overview of what to expect from the 2022 hurricane season and how the right analytics capabilities can help #utilities mitigate hurricane damage.\\n\\nhttps://t.co/0mSNzjAyfR\", \"O. Dio is very dangerous because of his gatling gun which can instantly kill Sundown or Mad Dog at the end of Sundown's chapter. Like, it basically guarantees max damage.\\nAnyway in the refight I dropped hurricane shot and did max damage, killing him instantly.\"], \"locations\": [\"Louisiana\"], \"count\": 52}, {\"created_at\": \"2022-08-02T18:00:00+00:00\", \"class_label\": \"rescue_volunteering_or_donation_effort\", \"tweet_text\": [\"I was proud to help the people in the Florida panhandle recover quickly after a Category 5 storm. The Senate should pass this bill to reimburse the interest on local government loans. https://t.co/mapez48H7h\"], \"locations\": [\"Florida\"], \"count\": 52}, {\"created_at\": \"2022-08-02T22:00:00+00:00\", \"class_label\": \"caution_and_advice\", \"tweet_text\": [\"NHC Atlantic Outlook\\nhttps://t.co/DHXo73dOr8\\n\\nZCZC MIATWOAT ALL\\nTTAA00 KNHC DDHHMM\\n\\nTropical Weather Outlook\\nNWS National Hurricane Center Miami FL\\n800 PM EDT Tue Aug 2 2022\\n\\nFor the North Atlantic...Caribbean Sea and the Gulf of Mexico:\\n\\nTropical cyclone formation is not expec\\u2026 https://t.co/gEhq3MdMHB\", \"RT @DrML350PhD: \\ud83c\\udf1fJuly\\nHurricane #Frank\\nTropical Storm #Georgette https://t.co/AZV2QX2rvN\", \"RT @WFLInsurance: While hurricanes can be disastrous, there are things you can do ahead of time to minimize your risks. Are you prepared fo\\u2026\", \"RT @TxDPSSoutheast: This week's hurricane preparedness tip. Strengthen your home.\\n\\nTake the time to assess your residence for potentiol vul\\u2026\"], \"locations\": [\"Gulf of Mexico\", \"North Atlantic...Caribbean Sea\"], \"count\": 100}, {\"created_at\": \"2022-08-03T00:00:00+00:00\", \"class_label\": \"caution_and_advice\", \"tweet_text\": [\"RT @NWSCharlestonSC: Tropical Weather Outlook\\nNWS National Hurricane Center Miami FL\\n800 PM EDT Tue Aug 2 2022\\n\\nFor the North Atlantic...Ca\\u2026\", \"A classic long-track bow echo is accelerating towards the Twin Cities by way of Artesian, SD. The storm is currently moving at 65 mph and may be accelerating. Borderline hurricane force winds will be possible, especially after it passes into MN. ETA is 11:30 for TC area. #mnwx https://t.co/GsgEmrlSU2\", \"Tropical Weather Outlook\\nNWS National Hurricane Center Miami FL\\n800 PM EDT Tue Aug 2 2022\\n\\nFor the North Atlantic...Caribbean Sea and the Gulf of Mexico:\\n\\nTropical cyclone formation is not expected during the next 5 days.\\n\\n#gawx #savwx #scwx #chswx https://t.co/hMlpswc2Bz\", \"Power-grid operators warned that transformers, distribution lines, and poles are in short supply. This would increase the possibility of prolonged power outages if a tropical storm or hurricane devastated an area https://t.co/9LZZFfZ7dM\"], \"locations\": [\"Gulf of Mexico\", \"North Atlantic...Caribbean Sea\"], \"count\": 100}, {\"created_at\": \"2022-08-03T00:00:00+00:00\", \"class_label\": \"rescue_volunteering_or_donation_effort\", \"tweet_text\": [\"RT @SawyerHackett: Texas has a $10.7 BILLION rainy day fund.\\n\\nIt wasn't used for Hurricane Harvey. It wasn't used to respond to the pandemi\\u2026\"], \"locations\": [\"Texas\"], \"count\": 49}, {\"created_at\": \"2022-08-03T04:00:00+00:00\", \"class_label\": \"caution_and_advice\", \"tweet_text\": [\"NHC Atlantic Outlook\\nhttps://t.co/DHXo73dOr8\\n\\nZCZC MIATWOAT ALL\\nTTAA00 KNHC DDHHMM\\n\\nTropical Weather Outlook\\nNWS National Hurricane Center Miami FL\\n200 AM EDT Wed Aug 3 2022\\n\\nFor the North Atlantic...Caribbean Sea and the Gulf of Mexico:\\n\\nTropical cyclone formation is not expec\\u2026 https://t.co/qVHkXzmn07\"], \"locations\": [\"Gulf of Mexico\", \"North Atlantic...Caribbean Sea\"], \"count\": 94}, {\"created_at\": \"2022-08-03T04:00:00+00:00\", \"class_label\": \"infrastructure_and_utility_damage\", \"tweet_text\": [\"@adamold @har26606511 @david_t_savage @tan123 @mikaelaloach The worst hurricane in US history was not 1938. It was 1900. \\n\\nBecause the \\\"Worst Hurricane\\\" is measured by damage delt. Which suffers more damage- a modern building in 100mph wind or shack buildings in 1900 in 100mph wind?\\n\\nHere are the actual stats: https://t.co/fWF2nsd4y6\", \"i want a hurricane to destroy my house tbh\", \"How Knowing Hurricane Terminology Can Help People Prepare for Storm Damage https://t.co/XSC48Xe5O2\"], \"locations\": [\"US\"], \"count\": 47}, {\"created_at\": \"2022-08-03T10:00:00+00:00\", \"class_label\": \"caution_and_advice\", \"tweet_text\": [\"NHC Atlantic Outlook\\nhttps://t.co/DHXo73dOr8\\n\\nZCZC MIATWOAT ALL\\nTTAA00 KNHC DDHHMM\\n\\nTropical Weather Outlook\\nNWS National Hurricane Center Miami FL\\n800 AM EDT Wed Aug 3 2022\\n\\nFor the North Atlantic...Caribbean Sea and the Gulf of Mexico:\\n\\nTropical cyclone formation is not expec\\u2026 https://t.co/UNzQqaapmf\", \"RT @NWSCharlestonSC: Tropical Weather Outlook\\nNWS National Hurricane Center Miami FL\\n800 PM EDT Tue Aug 2 2022\\n\\nFor the North Atlantic...Ca\\u2026\", \"In preparation for storm events, #OurCounty coordinates with @MyFDOT_Miami, United States Coast Guard, &amp; Monroe County to lock down all drawbridges 8 hours prior to the expected arrival of tropical-storm-force winds (39MPH). Be #HurricaneReady &amp; read more: https://t.co/0CSuDxpWHq https://t.co/1yiyfDSaiM\", \"Vont 4 Pack LED Camping Lantern, LED Lanterns, Suitable Survival Kits for Hurricane, Emergency Light for Storm, Outages, Outdoor Portable Lanterns, Black, Collapsible, (Batteries\\u00a0Included) https://t.co/SpwS5JlgqC\"], \"locations\": [\"Gulf of Mexico\", \"North Atlantic...Caribbean Sea\"], \"count\": 88}, {\"created_at\": \"2022-08-03T10:00:00+00:00\", \"class_label\": \"rescue_volunteering_or_donation_effort\", \"tweet_text\": [\"RT @MAndersen66: @Acyn Radical social agenda:\\n\\nHelping flood victims in Kentucky.\\n\\nHelping hurricane victims in Florida.\\n\\nHelping storm vic\\u2026\"], \"locations\": [\"Florida\"], \"count\": 45}, {\"created_at\": \"2022-08-03T16:00:00+00:00\", \"class_label\": \"caution_and_advice\", \"tweet_text\": [\"Get #Travelers hurricane survival guide for tips on what to do after a storm. https://t.co/OlpkzgNIVC #ThinkSafe https://t.co/2ojXfXNaXD\", \"Get #Travelers hurricane survival guide for tips on what to do after a storm. https://t.co/yYlGxzQ5wO #ThinkSafe https://t.co/gleI4NSUDc\", \"Get #Travelers hurricane survival guide for tips on what to do after a storm. https://t.co/s8Rn3u1HoM #ThinkSafe https://t.co/zbsVzxc9LU\", \"Get #Travelers hurricane survival guide for tips on what to do after a storm. https://t.co/Z73jW2ccea #ThinkSafe https://t.co/MgXJEj3cTf\", \"If you live in a hurricane zone, preventative maintenance can help protect your home from severe damage during a storm. Here are a few things you can do today to be hurricane-ready tomorrow: https://t.co/dJpvZBKFEH\", \"Get #Travelers hurricane survival guide for tips on what to do after a storm. https://t.co/45lbPD1fbj #ThinkSafe https://t.co/RvMXW0KZsw\", \"Get #Travelers hurricane survival guide for tips on what to do after a storm. https://t.co/QWKrHSEbmz #ThinkSafe https://t.co/gInKWmgFtG\", \"What steps have you taken to protect your family and your home from a tropical storm? We\\u2019ve got some tips for what you should do before it\\u2019s too late: https://t.co/TkBM9sskWj #hurricane #alvarezlawgroup #insuranceclaims #insurance\", \"Tropical Weather Outlook\\nNWS National Hurricane Center Miami FL\\nWed Aug 3 2022\\n\\nFor the North Atlantic...Caribbean Sea and the Gulf of Mexico:\\n\\nTropical cyclone formation is not expected during the next 5 days. https://t.co/ob8FUJ9ZDE\", \"RT @1800WaterDamage: If your home or business is impacted by a #hurricane, take comfort in knowing you can count on the experts at 1-800 WA\\u2026\"], \"locations\": [\"Gulf of Mexico\", \"North Atlantic...Caribbean Sea\"], \"count\": 84}, {\"created_at\": \"2022-08-03T16:00:00+00:00\", \"class_label\": \"infrastructure_and_utility_damage\", \"tweet_text\": [\"August 3, 2020:\\n\\nHurricane Isaias made a late-night landfall near Ocean Isle Beach, NC. It was the second of 6 hurricanes to strike the US in 2020. The storm caused $4.5 billion in damage in the CONUS, mainly from wind damage to infrastructure. 14 people were killed. \\n\\n#wxhistory https://t.co/g2b9mEokMP\", \"RT @tbrite89: The extreme damage shown in the attached historic video footage looks eerily similar to the devastation left in the wake of #\\u2026\", \"RT @CaribbeanToday_: Grenada's government says it is still assessing the damage caused by unexpected hurricane-force winds on Sunday that d\\u2026\", \"The extreme damage shown in the attached historic video footage looks eerily similar to the devastation left in the wake of #hurricane Michael around the Panama City, Fl area; complete with overturned train cars! https://t.co/oRp3QXkNOy\", \"Grenada's government says it is still assessing the damage caused by unexpected hurricane-force winds on Sunday that destroyed towers belonging to the telecommunication companies here among other infrastructure. \\nhttps://t.co/G2Oi9LZft1 https://t.co/cvvnoxE9QS\", \"@qcm_p on September the 6th 2017\\u2019 I lost everything due to the massive damage Hurricane Irma did to our Country.\\nI started rapping on 2018 untill now.\\nIf I ever got signed like icewear vezzo.\\nI\\u2019ll put in A-LOT of work like The Migos &amp; Lil Baby.\\ud83d\\udcaf\", \"August 3, 1970:\\n\\nHurricane Celia made landfall as a high-end Category 3 near Aransas Pass, Texas. Storm surge reached 9 feet and wind gusts well over 130 mph (some reportedly up to 180 mph) damaged or destroyed thousands of homes in the state. 15 people were killed.\\n\\n#wxhistory https://t.co/4IQ5bwE1Q9\", \"If your home or business is impacted by a #hurricane, take comfort in knowing you can count on the experts at 1-800 WATER DAMAGE to provide reliable property damage recovery solutions.\\n\\nVisit our website to learn more \\ud83d\\udc49 https://t.co/Kzx1KiVyLQ https://t.co/CkB1T6c1El\", \"Think the Atlantic hurricane season has been quiet so far?\\nWell, it has\\nBut that doesn't mean much\\n90% of hurricanes &amp; 95% of major hurricanes occur after 1 Aug (and MH cause ~85% of normalized damage)\\nWe are just getting started . . .\\nVia @philklotzbach \\ud83d\\udd25\\u2b07\\ufe0f https://t.co/lN6shz3Acs\"], \"locations\": [\"Atlantic\", \"Texas\", \"US\"], \"count\": 125}, {\"created_at\": \"2022-08-03T16:00:00+00:00\", \"class_label\": \"rescue_volunteering_or_donation_effort\", \"tweet_text\": [\"A plume of dust and dry air from the Sahara Desert in Africa is stretching thousands of miles across the Atlantic this week, helping to continue the hurricane season's month-long slumber. https://t.co/WvjFbowDqy\"], \"locations\": [\"Africa\", \"Atlantic\"], \"count\": 84}, {\"created_at\": \"2022-08-03T18:00:00+00:00\", \"class_label\": \"caution_and_advice\", \"tweet_text\": [\"\\ud83d\\udca5Portable Electric Water Filter System for Camping 0.01 Micron 5-Stage Filters with Emergency Lighting, Survival Purifier for Hurricane, Storm, Outages, Backpacking, Outdoor Filtrati\\n\\ud83d\\uded2https://t.co/mXy7uWY0jV\\n\\u274c$78.88\\n\\u2705$47.33\\n\\ud83d\\udd14 Alex Jones https://t.co/Bh41HporHO\", \"Join us for the #KCER #Hurricane Preparedness for Dialysis Patients Webinar. Get tips on what to do before, during, and after a storm hits your community. Wed, Aug 17 at 3pm ET. Register now: https://t.co/Fsg5J3CIjC https://t.co/KiA6OoMHtW\", \"NHC Atlantic Outlook\\nhttps://t.co/DHXo73dOr8\\n\\nZCZC MIATWOAT ALL\\nTTAA00 KNHC DDHHMM\\n\\nTropical Weather Outlook\\nNWS National Hurricane Center Miami FL\\n200 PM EDT Wed Aug 3 2022\\n\\nFor the North Atlantic...Caribbean Sea and the Gulf of Mexico:\\n\\nTropical cyclone formation is not expec\\u2026 https://t.co/WZEzOimGV4\", \"We're debunking hurricane theories while we wait for the tropical storm season to redevelop.\\nhttps://t.co/PQUxtxvzye\"], \"locations\": [\"Gulf of Mexico\", \"North Atlantic...Caribbean Sea\"], \"count\": 80}, {\"created_at\": \"2022-08-03T18:00:00+00:00\", \"class_label\": \"infrastructure_and_utility_damage\", \"tweet_text\": [\"Remember, just 1 inch of water can cause roughly $25,000 of damage to your home. You can't control the weather during #HurricaneSeason but you can prepare for it with flood insurance. https://t.co/qkxZ3ItMO2 https://t.co/3TKWcV6Nii\", \"Remember, just 1 inch of water can cause roughly $25,000 of damage to your home. You can't control the weather during #HurricaneSeason but you can prepare for it with flood insurance. #iwork4thehartford https://t.co/kX9xN9Vdvb https://t.co/Bj3GGoD7Wf\", \"..risk especially high in Florida exposure tropical storms increases likelihood power loss.  2018 Hurricane Michael Category 5 storm winds of 160 miles per hour knocked out electricity millions across the Southeast. Florida was hardest hit..\", \"Remember, just 1 inch of water can cause roughly $25,000 of damage to your home. You can't control the weather during #HurricaneSeason but you can prepare for it with flood insurance. https://t.co/mfYxOAsFth https://t.co/nD6V0I198e\", \"Remember, just 1 inch of water can cause roughly $25,000 of damage to your home. You can't control the weather during #HurricaneSeason but you can prepare for it with flood insurance. https://t.co/dTVBsVLyR9 https://t.co/xd0YzNQxia\", \"RT @tbrite89: The extreme damage shown in the attached historic video footage looks eerily similar to the devastation left in the wake of #\\u2026\", \"Remember, just 1 inch of water can cause roughly $25,000 of damage to your home. You can't control the weather during #HurricaneSeason but you can prepare for it with flood insurance. https://t.co/hyQejaCK6t https://t.co/sE9jpDKdd8\", \"@MisterCommodity @CherriesHappy Property price increases and fear of hurricane damage was the reason I got when shopping; also so many of our Florida insurance companies filed for bankruptcy\", \"Remember, just 1 inch of water can cause roughly $25,000 of damage to your home. You can't control the weather during #HurricaneSeason but you can prepare for it with flood insurance. https://t.co/ktK4BAICcH https://t.co/gmDg43ucp8\", \"Remember, just 1 inch of water can cause roughly $25,000 of damage to your home. You can't control the weather during #HurricaneSeason but you can prepare for it with flood insurance. https://t.co/73SXncytyO https://t.co/YmkX97B9zb\"], \"locations\": [\"Florida\"], \"count\": 122}, {\"created_at\": \"2022-08-03T22:00:00+00:00\", \"class_label\": \"caution_and_advice\", \"tweet_text\": [\"New storm surge risk maps for Yucatan Peninsula (Mexico, Belize, Guatemala, Honduras). Attention! You will need to change storm category at top of map to see different hurricane category storm surge risk! Surge is typically higher the stronger the storm.\\nhttps://t.co/2vLjW29f1f https://t.co/0cStN6pkFk\", \"Should a storm near land, a storm specific storm surge map will be issued by the US National Hurricane Center (NHC), referred to as the \\u2018Potential Storm Surge Flooding Map\\u2019, on the NHC\\u2019s home page for immediate action. Use the maps in this thread for all year planning.\", \"RT @The_Hanover: Share these safety tips with boat owners during hurricane season: https://t.co/izBXlWXAfb https://t.co/v3kagXScbx\", \"For example: Southwest Louisiana storm surge planning maps for each Hurricane category (1, 2, 3 &amp; 4 shown below, Cat5 and water height legend on next tweet): #LAwx https://t.co/uwkl1ejbiV\", \"@FLweather_wx @BlaineMorgan10 @AlanSevere That's right, as soon as this approaches the Caribbean it could strengthen and be a Storm or a Hurricane.\", \"New storm surge risk maps for American Samoa. Attention! You will need to change storm category at top of map to see different hurricane/cyclone/typhoon category storm surge risk! Surge is typically higher the stronger the storm.\\nhttps://t.co/2vLjW29f1f https://t.co/PB5jyNTkvn\", \"RT @philklotzbach: No Atlantic named storms since #Colin weakened to a tropical depression on July 2nd, and none forecast for the next 5 da\\u2026\", \"New storm surge risk maps for Guam. Attention! You will need to change storm category at top of map to see different hurricane/cyclone/typhoon category storm surge risk! Surge is typically higher the stronger the storm.\\nhttps://t.co/2vLjW29f1f\\nFollow @NWSGuam for more information https://t.co/7kUSKqPK79\", \"Used to determine a location's storm surge risk in possible future storms, maps are considered accurate down to the neighborhood/community level showing the potential storm surge water height above normally dry ground for each category of hurricane at any given location point.\", \"#TropicalWeatherOutlook\\nNWS National Hurricane Center Miami FL\\n800 PM EDT Wed Aug 3 2022\\n\\nFor the North #Atlantic, #Caribbean Sea, and the #GulfOfMexico \\n\\nTropical cyclone formation is not expected during the next 5 days.\\n\\nForecaster Beven/Bucci https://t.co/wU0Kf6OylX\"], \"locations\": [\"Louisiana\"], \"count\": 39}, {\"created_at\": \"2022-08-03T22:00:00+00:00\", \"class_label\": \"injured_or_dead_people\", \"tweet_text\": [\"RT @Cleavon_MD: \\ud83c\\uddfa\\ud83c\\uddf8 17 y.o. Christopher Matherne from Houma #Louisiana died from COVID in October 2021. As Hurricane Ida neared, Chris was t\\u2026\"], \"locations\": [\"Louisiana\"], \"count\": 39}, {\"created_at\": \"2022-08-04T00:00:00+00:00\", \"class_label\": \"caution_and_advice\", \"tweet_text\": [\"RT @MDCARRL: Know your \\\"National Hurricane Center Storm Surge Risk\\\" with the \\\"Storm Surge Risk Maps.\\\" Zoom into the MDC Section, then adjus\\u2026\", \"NHC Atlantic Outlook\\nhttps://t.co/DHXo73dOr8\\n\\nZCZC MIATWOAT ALL\\nTTAA00 KNHC DDHHMM\\n\\nTropical Weather Outlook\\nNWS National Hurricane Center Miami FL\\n800 PM EDT Wed Aug 3 2022\\n\\nFor the North Atlantic...Caribbean Sea and the Gulf of Mexico:\\n\\nTropical cyclone formation is not expec\\u2026 https://t.co/kQCIQ7hJKA\", \"Know your \\\"National Hurricane Center Storm Surge Risk\\\" with the \\\"Storm Surge Risk Maps.\\\" Zoom into the MDC Section, then adjust for Inundation Risk and Impact for CAT-1 thru CAT-5 Hurricanes. Start with - \\nhttps://t.co/g4BY7LkMgC https://t.co/MQptYbAGNn\", \"RT @53rdWRS: Monday moves \\u2708\\ufe0f\\n\\nWe\\u2019re taking advantage of this *uiet stretch to be as prepared as possible for storm ops by conducting routin\\u2026\"], \"locations\": [\"Gulf of Mexico\", \"North Atlantic...Caribbean Sea\"], \"count\": 74}, {\"created_at\": \"2022-08-04T02:00:00+00:00\", \"class_label\": \"infrastructure_and_utility_damage\", \"tweet_text\": [\"@LAMUNRO2 I can remember my first Hurricane. A child in Toronto at the time. In the fifties. Hurricane Hazel. Did so much damage.\", \"@mkramer Hurricane Audrey in southwest Louisiana 1957. My parents had the eye pass over their house. No significant damage or venomous snakes unlike these stories. https://t.co/GnAVoKo6zR\", \"@JoelHeyman A hurricane can cause damage to the Chinese\", \"Remember, just 1 inch of water can cause roughly $25,000 of damage to your home. You can't control the weather during #HurricaneSeason but you can prepare for it with flood insurance. https://t.co/ZksZjptX0F https://t.co/BXhDEBfeHF\"], \"locations\": [\"Louisiana\"], \"count\": 37}, {\"created_at\": \"2022-08-04T06:00:00+00:00\", \"class_label\": \"caution_and_advice\", \"tweet_text\": [\"NHC Atlantic Outlook\\nhttps://t.co/DHXo73dOr8\\n\\nZCZC MIATWOAT ALL\\nTTAA00 KNHC DDHHMM\\n\\nTropical Weather Outlook\\nNWS National Hurricane Center Miami FL\\n200 AM EDT Thu Aug 4 2022\\n\\nFor the North Atlantic...Caribbean Sea and the Gulf of Mexico:\\n\\nTropical cyclone formation is not expec\\u2026 https://t.co/jC2EQ0QnXD\"], \"locations\": [\"Gulf of Mexico\", \"North Atlantic...Caribbean Sea\"], \"count\": 68}, {\"created_at\": \"2022-08-04T12:00:00+00:00\", \"class_label\": \"caution_and_advice\", \"tweet_text\": [\"Hurricane season brings severe water and wind damage to homes across the country. Beyond the usual tips for an emergency are 7 things past and potential clients wished they knew about their insurance coverage. \\n#homeownership #HurricaneSeason #NolaReady @LAInsuranceDept https://t.co/g7f9L49IU9\", \"Subscribe\\ud83d\\udc49https://t.co/PTuIbMo2X4\\nUnited Arab Emirates: heavy rain and wind west of Al Ain - now\\n#UAE #AlAin #heavy_rain #strongwinds \\n#storm #hurricane #StormHour #thunderstorm\", \"Subscribe\\ud83d\\udc49https://t.co/6FluS9sOE3\\nUnited Arab Emirates: heavy rain and wind west of Al Ain - now\\n#UAE #AlAin #heavy_rain #strongwinds \\n#storm #hurricane #StormHour #thunderstorm\", \"Unfortunately, hurricane season is coming. Stay prepared, but if you have storm damage, remember these tips:\\n*Call your agent\\n*Take photos\\n*Prevent further damage\\n*Keep receipts\\nContact O'Neal Agency Inc. to make sure you're covered!\\n#onealagencyinc #insurance https://t.co/vfhM9tPofo\", \"RT @KCERprogram: Join us for the #KCER #Hurricane Preparedness for Dialysis Patients Webinar. Get tips on what to do before, during, and af\\u2026\", \"NHC Atlantic Outlook\\nhttps://t.co/DHXo73emgG\\n\\nZCZC MIATWOAT ALL\\nTTAA00 KNHC DDHHMM\\n\\nTropical Weather Outlook\\nNWS National Hurricane Center Miami FL\\n800 AM EDT Thu Aug 4 2022\\n\\nFor the North Atlantic...Caribbean Sea and the Gulf of Mexico:\\n\\nTropical cyclone formation is not expec\\u2026 https://t.co/2tHbvqNYjT\", \"United Arab Emirates: heavy rain and wind west of Al Ain - now\\n\\n#storm #hurricane #StormHour #thunderstorm https://t.co/M31EzAYDsl\", \"Subscribe\\ud83d\\udc49TELEGRAM: https://t.co/Uw6hADCvaz\\nUnited Arab Emirates: heavy rain and wind west of Al Ain - now\\n\\n#storm #hurricane #StormHour #thunderstorm https://t.co/mEN20eln0S\"], \"locations\": [\"Gulf of Mexico\", \"North Atlantic...Caribbean Sea\"], \"count\": 62}, {\"created_at\": \"2022-08-04T12:00:00+00:00\", \"class_label\": \"displaced_people_and_evacuations\", \"tweet_text\": [\"@ScrossZA @CatholicNewsSvc Why increasingly hurricane shelters/rescue teams in the US are allowing pets.  They've found if pets aren\\u2019t allowed, some people refuse evacuation.\", \"Think through \\u2014 and walk through \\u2014 evacuation routes from each room in your house, even before hurricane winds start howling. And practice them with your family. https://t.co/EisOe3qqtt\", \"Are you in a hurricane evacuation zone? If so, think now about where you\\u2019d go and how you\\u2019d get there if you're told to evacuate.\\n\\n\\ud83d\\udc49https://t.co/kg0yyG2Aqw\\n\\n#HurricanePrep #HurricaneStrong #MarvinLeBlanc #StateFarm #OldJefferson #Metairie #NewOrleans\\n\\n\\ud83d\\udcde504-731-6767 https://t.co/BCRGbDv4MZ\", \"Think through \\u2014 and walk through \\u2014 evacuation routes from each room in your house, even before hurricane winds start howling. And practice them with your family. https://t.co/dFLgZqTP39\"], \"locations\": [\"US\"], \"count\": 31}, {\"created_at\": \"2022-08-04T14:00:00+00:00\", \"class_label\": \"caution_and_advice\", \"tweet_text\": [\"\\ud83c\\udf89GIVEAWAY\\ud83c\\udf89 Are You Prepared for Hurricane season?We've teamed up with some amazing brands to give away a prize package worth over $2300, so you can stay calm and weather any storm.\\nEnter here: https://t.co/bGCDZsr8ya\\nContest ends 08/09/2022. No purchase necessary to enter. https://t.co/bomJcFStMA\", \"dist subtropical waters with wind speeds ranging from 39-73 mph.      Hurricane:    A tropical storm becomes a hurricane when sustained wind speeds exceed 74 mph and rotates in a large circular formation with greater intensity. \\nhttps://t.co/i9Z4At6EVr\", \"Emergency Fire Starter Kit Magnesium 99% Pure 6 Bags for Camping Hiking Bushcraft Survival Outdoor Hurricane Outages Storm Po [39PB0H1]\\n\\nhttps://t.co/5FBIv5AAtP\", \"We still anticipate an above-normal hurricane season.\\n\\nRemember, it only takes one storm to make it a bad season for you. Take a look at your emergency plans &amp; supply kit, and be sure you're ready as we make our way into the peak of hurricane season. #ALwx #FLwx #GAwx https://t.co/zBevlEEd3X\", \"Although #hurricaneseason officially began in June, August and September see the most storm activity. Is your business prepared for severe weather &amp; power outages? \\n\\n#NOAA #backuppower #poweroutage\\n\\nLearn how to prepare your business for hurricane season:\\nhttps://t.co/F8FTs5gvww\", \"Today, NOAA released their mid-season update for the Atlantic hurricane season.\\n\\nWe've already had 3 named storms this season- Tropical Storm Alex, Tropical Storm Bonnie, and Tropical Storm Colin. \\n\\nThis means an additional 11-17 named storms are expected this season. #ncwx https://t.co/jDodcb3q4c\", \"RT @LAInsuranceDept: Hurricane Season Tip: Know your coverages. Read your policies and speak with your agent to make sure you\\u2019re properly c\\u2026\", \"\\ud835\\udde7\\ud835\\uddff\\ud835\\uddfc\\ud835\\uddfd\\ud835\\uddf6\\ud835\\uddf0\\ud835\\ude00 \\ud835\\udde8\\ud835\\uddfd\\ud835\\uddf1\\ud835\\uddee\\ud835\\ude01\\ud835\\uddf2: This morning\\u2019s change to CSU\\u2019s hurricane season forecast slightly lowers the expected amount of named storms, but still calls for another above-average year of activity!  \\ud83c\\udf00\\u26a0\\ufe0f\\n\\n#\\u02b7\\u1d49\\u1d43\\u1d57\\u02b0\\u1d49\\u02b3 #\\u02b0\\u1d58\\u02b3\\u02b3\\u2071\\u1d9c\\u1d43\\u207f\\u1d49 #\\u1da0\\u02e1\\u02b7\\u02e3 #\\u02e2\\u1d57\\u1d52\\u02b3\\u1d50 #\\u1da0\\u02e1\\u1d52\\u02b3\\u2071\\u1d48\\u1d43 #\\u02b7\\u02e3 https://t.co/unkuEvEcr4\", \"Storm surge, the abnormal rise of water created by strong winds, is historically the leading cause of hurricane-related deaths in the U.S. Storm surge can travel several miles inland, especially along bays, rivers, and estuaries. Learn how to prepare at https://t.co/eQ3XHk0yGt https://t.co/n5edMzzhY5\", \"RT @Brave_spirit81: Subscribe\\ud83d\\udc49TELEGRAM: https://t.co/Uw6hADCvaz\\nUnited Arab Emirates: heavy rain and wind west of Al Ain - now\\n\\n#storm #hur\\u2026\"], \"locations\": [\"Atlantic\"], \"count\": 30}, {\"created_at\": \"2022-08-04T14:00:00+00:00\", \"class_label\": \"displaced_people_and_evacuations\", \"tweet_text\": [\"Think through \\u2014 and walk through \\u2014 evacuation routes from each room in your house, even before hurricane winds start howling. And practice them with your family. https://t.co/hfDhXsQJsk\", \"Think through \\u2014 and walk through \\u2014 evacuation routes from each room in your house, even before hurricane winds start howling. And practice them with your family. https://t.co/LIXLoYii6j\", \"Think through \\u2014 and walk through \\u2014 evacuation routes from each room in your house, even before hurricane winds start howling. And practice them with your family. https://t.co/Mlkb9n5xNP\", \"Think through \\u2014 and walk through \\u2014 evacuation routes from each room in your house, even before hurricane winds start howling. And practice them with your family. https://t.co/IHWm2gdcIE\", \"Everything you need to know about getting an evacuation order during hurricane season\\n\\nhttps://t.co/U3eR6yjmxq\", \"The 2022 Atlantic Hurricane Season is well underway, which means you should be prepared for a storm to head our way. If a state of emergency is called, you could find yourself trying to evacuate. I explain how those evacuations legally work: https://t.co/E8LgAP78pk\", \"RT @NormRyl: During a traffic jam in a hurricane evacuation, how long will an electric car actually work? https://t.co/96wCubL0lj\", \"Think through \\u2014 and walk through \\u2014 evacuation routes from each room in your house, even before hurricane winds start howling. And practice them with your family. https://t.co/xQ3FjxAtqU\", \"During a traffic jam in a hurricane evacuation, how long will an electric car actually work? https://t.co/96wCubL0lj\", \"Think through \\u2014 and walk through \\u2014 evacuation routes from each room in your house, even before hurricane winds start howling. And practice them with your family. https://t.co/gasFOJwDRX\"], \"locations\": [\"Louisiana\"], \"count\": 30}, {\"created_at\": \"2022-08-04T14:00:00+00:00\", \"class_label\": \"infrastructure_and_utility_damage\", \"tweet_text\": [\"Hurricane Damage Restoration in Pinehurst, NC https://t.co/SwG6maD4Da\", \"RT @dpcarrington: Huge financial costs are also now attributable to human influence on the climate, such as $67bn of damages when Hurricane\\u2026\", \"Huge financial costs are also now attributable to human influence on the climate, such as $67bn of damages when Hurricane Harvey smashed into Texas and Louisiana in 2017 - that is 75% of the total damages from the storm.\\n\\n#climatecrisis\\n7/16\\nhttps://t.co/nagZnMVZ8f\", \"Remember, just 1 inch of water can cause roughly $25,000 of damage to your home. You can't control the weather during #HurricaneSeason but you can prepare for it with flood insurance. https://t.co/XmCn0geJc9 https://t.co/c2aQKj7F8y\", \"Stop living in Hurricane paths.\\nAs more people build, repair costs escalate and we track damage better, Of course costs will go up...\\n\\nDUH https://t.co/TassDkUT74\", \"Remember, just 1 inch of water can cause roughly $25,000 of damage to your home. You can't control the weather during #HurricaneSeason but you can prepare for it with flood insurance. https://t.co/VJBYMIiCV5 https://t.co/niiKHSaYrQ\", \"Hurricane season is here! Let Van Dyke Rankin protect you and your home from flood damage. https://t.co/WUdaN5gz6W\", \"Hurricane Season Tip: Know your coverages. Read your policies and speak with your agent to make sure you\\u2019re properly covered in the event of storm damage. https://t.co/AdulMW7Fsi https://t.co/SJhnDS57im\"], \"locations\": [\"Louisiana\", \"Texas\"], \"count\": 60}, {\"created_at\": \"2022-08-04T14:00:00+00:00\", \"class_label\": \"rescue_volunteering_or_donation_effort\", \"tweet_text\": [\"RT @JaredEMoskowitz: I was proud to help the people in the Florida panhandle recover quickly after a Category 5 storm. The Senate should pa\\u2026\"], \"locations\": [\"Florida\"], \"count\": 31}, {\"created_at\": \"2022-08-04T16:00:00+00:00\", \"class_label\": \"caution_and_advice\", \"tweet_text\": [\"2022 Hurricane Season updated Forecast from NOAA is out.  Still going with an above average season with 6-10 hurricanes and of those, 3-5 major hurricanes above. Category 3.  Bottom line is to always be prepared for any storm that could come our way.  @Live5News https://t.co/UpGMCkJgL8\", \"Tropical Weather Outlook\\nNWS National Hurricane Center Miami FL\\n800 AM EDT Thu Aug 4 2022\\n\\nFor the North Atlantic...Caribbean Sea and the Gulf of Mexico:\\n\\nTropical cyclone formation is not expected during the next 5 days. https://t.co/4oKjkcdPnA\", \"NHC Atlantic Outlook\\nhttps://t.co/DHXo73dOr8\\n\\nZCZC MIATWOAT ALL\\nTTAA00 KNHC DDHHMM\\n\\nTropical Weather Outlook\\nNWS National Hurricane Center Miami FL\\n200 PM EDT Thu Aug 4 2022\\n\\nFor the North Atlantic...Caribbean Sea and the Gulf of Mexico:\\n\\nTropical cyclone formation is not expec\\u2026 https://t.co/uEW3PTu8K5\", \"Stay vigilant! The U.S. is in peak hurricane season and NOAA NWS Weather Prediction Center forecasts an above-average season for storm activity\\nhttps://t.co/T8GHEGsNp7\", \"Hurricane season looks unusually active, NOAA warns \\u26c8 #HurricaneSeason #Hurricane #AtlanticOcean #NOAA #TropicalStorm #Storm #Weather  https://t.co/7sDGaOpb2o\", \".@NOAA updated its outlook for the 2022 Atlantic hurricane season today, Aug. 4.\\n\\nNOAA is now forecasting 14-20 named storms, including 6 to 10 hurricanes &amp; 3 to 5 major storms.\\n\\nBe prepared! #MyTreasureIsland has a one-stop, storm ready webpage of info: https://t.co/IdHNcSgxGw. https://t.co/wYSJiPl0Nj\", \"The peak months of hurricane season \\u2014 August through October \\u2014 are historically when about 90% of all Atlantic tropical cyclone activity occurs.\\n\\nPreparing now is key. Don't wait until there's a storm heading your way. Check out https://t.co/I3lPOVTi0P for preparedness tips. https://t.co/vyE1uzZKmS\", \"Tropical Storm Hartzler, Tropical Depression Greitens, and Hurricane Schmitt. https://t.co/wemPqNDWRB\", \"Stay ready! Here\\u2019s a familiar and timely reminder from Local 10 Hurricane Specialist &amp; Storm Surge Expert @MichaelRLowry: \\u201cRegardless of seasonal hurricane forecasts, it only takes one storm to make a bad hurricane season.\\u201d https://t.co/9MP2dFHmB4 https://t.co/d9ZHI7bcKX\", \"August through October are historically when 90% of all Atlantic tropical cyclone activity occurs. With the peak of hurricane season ahead of us, take a look at your emergency plans to be sure your household is ready.\\n\\nFind resources to help prepare at https://t.co/LujVOprkD6 https://t.co/yQAHi9UWb5\"], \"locations\": [\"Atlantic\", \"Gulf of Mexico\", \"North Atlantic...Caribbean Sea\"], \"count\": 205}, {\"created_at\": \"2022-08-04T18:00:00+00:00\", \"class_label\": \"caution_and_advice\", \"tweet_text\": [\"RT @philklotzbach: No Atlantic named storms since #Colin weakened to a tropical depression on July 2nd, and none forecast for the next 5 da\\u2026\", \"Forecast Update: NOAA and CSU still expect busier than normal Atlantic Hurricane season but have nudged down the numbers a storm or two. We can't forecast where storms will impact, but it only takes one storm at your location to make it a bad season. #tropics https://t.co/ZJRHrsUO7A\", \"Prepare for a hurricane from the data perspective. Take basic precautions now before the storm hits you! Learn more in this whitepaper  https://t.co/9VB93ETvjP https://t.co/3B2cYzo6yt\", \"@kroplewski_jan Well GFS wants to take it up to a Hurricane. Euro is around a mid Grade Tropical Storm.\", \"HURRICANE SEASON FORECAST REMAINS UNCHANGED.. \\n\\nNOAA has kept an above-normal year ahead in their latest update and urges to \\\"Stay Vigilant\\\" entering the heart of the season. The Atlantic has been extremely quiet as dust particles continues to suppress storm activity in the MDR https://t.co/nHxwzMM3iq\"], \"locations\": [\"Atlantic\"], \"count\": 29}, {\"created_at\": \"2022-08-04T22:00:00+00:00\", \"class_label\": \"caution_and_advice\", \"tweet_text\": [\"RT @The_Hanover: Share these safety tips with boat owners during hurricane season: https://t.co/izBXlWXAfb https://t.co/v3kagXScbx\", \"NHC Atlantic Outlook\\nhttps://t.co/DHXo73dOr8\\n\\nZCZC MIATWOAT ALL\\nTTAA00 KNHC DDHHMM\\n\\nTropical Weather Outlook\\nNWS National Hurricane Center Miami FL\\n800 PM EDT Thu Aug 4 2022\\n\\nFor the North Atlantic...Caribbean Sea and the Gulf of Mexico:\\n\\nTropical cyclone formation is not expec\\u2026 https://t.co/PqnsZnz0Dm\", \"Today's forecast update makes clear: This year's hurricane season is expected to be well above-average.\\n\\nCurrently's sponsor, @Kalshi, offers next-day payouts if a hurricane hits. Evacuation can be costly, and Kalshi hurricane contracts keep you covered.\\n\\nhttps://t.co/bsC0vJNY4P https://t.co/BLg2JmerGn\", \"RT @KATCTV3 \\\"WATCH NOW: KATC's Hurricane Special \\\"Weathering the Storm\\\" starts now! Tune in on air or online here: https://t.co/Bf1FSEP58u\\n\\nChief Meteorologist Rob Perillo will be live on Facebook at 7:00pm to answer your questions. https://t.co/JanV9xwcjN\\\"\", \"WATCH NOW: KATC's Hurricane Special \\\"Weathering the Storm\\\" starts now! Tune in on air or online here: https://t.co/jsqTPBNGsH\\n\\nChief Meteorologist Rob Perillo will be live on Facebook at 7:00pm to answer your questions. https://t.co/jiDjlYrcAy\", \"@AnthonyCalvell2 Level 5 hurricane coming Florida, be careful and  safe everyone...\\n\\nRon-we dont live in fear and if you try to prepare we will destroy you.\"], \"locations\": [\"Florida\", \"Gulf of Mexico\", \"North Atlantic...Caribbean Sea\"], \"count\": 79}, {\"created_at\": \"2022-08-04T22:00:00+00:00\", \"class_label\": \"infrastructure_and_utility_damage\", \"tweet_text\": [\"RT @big_picture: Photos: Hurricane Dorian caused catastrophic damage to the Bahamas before it moved up the US coast. https://t.co/T5Y6XmJoq\\u2026\", \"Puts me in mind of the old joke about the third-world disaster headline:\\n\\n\\\"Hurricane Update: Over 13,000 Deaths, $3,125.46 In Property Damage!\\\"\\n\\nw.\", \"Remember, just 1 inch of water can cause roughly $25,000 of damage to your home. You can't control the weather during #HurricaneSeason but you can prepare for it with flood insurance. https://t.co/KWAxaR792i https://t.co/6b3Nt1AQEw\"], \"locations\": [\"US\"], \"count\": 26}, {\"created_at\": \"2022-08-05T00:00:00+00:00\", \"class_label\": \"infrastructure_and_utility_damage\", \"tweet_text\": [\"@lorelei1950 I had damage during a hurricane they were quick to respond .\\nOn the emails , sometimes providers migrate from one system to another , and it's really not a difficult thing to adjust, it could be resetting a password , or resetting the outgoing and incoming ports\", \"@Kenneth__stahl @WatchChad @GovAbbott \\\"On 10/30/12, the day after Hurricane Sandy made landfall, 8.2 million customers were without power. For New Jersey, it was the largest power outage in the history of the state. The recovery efforts have been slowed by flood damage and recent snowfall.\\\"\", \"It's still time to protect your elevator from water damage with one of our innovative solutions.\\n\\nhttps://t.co/gzqUNKl5sd\", \"...health insurance only doctor visits, Homeowners insurance only hurricane damage, Cell phone insurance only damaged SD card.\", \"@milo7219 @TonyPannWBAL I couldn\\u2019t agree more! I lived in Florida for 14 years and this was worse than any storm I went thru there considering the duration. This was 2 hours at most? I have more \\u2018damage\\u2019 than I had for hurricane Charlie.\", \"RT @TheHartford: When a building suffers water damage, many would think heavy rain or a hurricane was the primary cause. But not all water\\u2026\"], \"locations\": [\"Florida\"], \"count\": 26}, {\"created_at\": \"2022-08-05T04:00:00+00:00\", \"class_label\": \"caution_and_advice\", \"tweet_text\": [\"NHC Atlantic Outlook\\nhttps://t.co/DHXo73dOr8\\n\\nZCZC MIATWOAT ALL\\nTTAA00 KNHC DDHHMM\\n\\nTropical Weather Outlook\\nNWS National Hurricane Center Miami FL\\n200 AM EDT Fri Aug 5 2022\\n\\nFor the North Atlantic...Caribbean Sea and the Gulf of Mexico:\\n\\nTropical cyclone formation is not expec\\u2026 https://t.co/zZnk97Krbk\"], \"locations\": [\"Gulf of Mexico\", \"North Atlantic...Caribbean Sea\"], \"count\": 46}, {\"created_at\": \"2022-08-05T04:00:00+00:00\", \"class_label\": \"infrastructure_and_utility_damage\", \"tweet_text\": [\"@tedcruz @SenTedCruz demanded aid for Texas after the Texas Power Grid Collapse, but attacked giving aid to New England after Superstorm Sandy,\\nwhich did $65 BILLION in damage/killed 285 AMERICANS or Puerto Rico after Hurricane Maria did $90 BILLION in damage/killed 4,645 of US. https://t.co/KbIeD9tYzu\"], \"locations\": [\"Texas\", \"US\"], \"count\": 46}, {\"created_at\": \"2022-08-05T10:00:00+00:00\", \"class_label\": \"caution_and_advice\", \"tweet_text\": [\"NHC Atlantic Outlook\\nhttps://t.co/DHXo73dOr8\\n\\nZCZC MIATWOAT ALL\\nTTAA00 KNHC DDHHMM\\n\\nTropical Weather Outlook\\nNWS National Hurricane Center Miami FL\\n800 AM EDT Fri Aug 5 2022\\n\\nFor the North Atlantic...Caribbean Sea and the Gulf of Mexico:\\n\\nTropical cyclone formation is not expec\\u2026 https://t.co/KOazSKySBU\", \"In the eastern pacific with have #99E that has a high chance of becoming a depression over the next 5 days. Also a possibility of seeing a central pacific storm currently sitting at 0/50% over the next 5 days. #hurricane https://t.co/FK4lvi8MKG\", \"RT @RonsRant: Also, Scalar High Energy Weapons Systems used to create Tsunami, Cyclone, Hurricane, storm &amp; probably Fukushima.\", \"The authorities are urging Americans to be prepared for not only strong winds and storm surge, but inland flooding well away from the storm\\u2019s center.\\n\\n#ClimateEmergency \\nhttps://t.co/hU5uf9iigZ\"], \"locations\": [\"Gulf of Mexico\", \"North Atlantic...Caribbean Sea\"], \"count\": 40}, {\"created_at\": \"2022-08-05T12:00:00+00:00\", \"class_label\": \"caution_and_advice\", \"tweet_text\": [\"Good morning! The #AirQuality forecast for #BrowardCounty on Friday, August 5th is MODERATE \\ud83d\\udfe8.  This is due to another plume of Saharan dust. \\n\\nOn the upside, the drier air caused by this phenomenon helps to minimize the chance of tropical storm or hurricane formation! https://t.co/22nTAcZaYv\", \"Do not wait until the next storm or hurricane hits to act! \\nGet the strongest protection against hurricane force winds, flying debris, windstorms, vandalism and unwanted entry.\\nFor a FREE HOME ESTIMATE \\ud83d\\udc49 https://t.co/5bhD5GhvH0 #shutters #screens #accordions #stormpanels\", \"During a hurricane, windows and doors are often among the most vulnerable parts of your home. Protect your home with Florida hurricane protection for your windows and doors before the storm arrives. https://t.co/RRaDQsFx6I\\n\\n#hurricaneprotection #impactwindows #hurricanewindows https://t.co/ejX69rna8n\", \"RT @philklotzbach: No Atlantic named storms since #Colin weakened to a tropical depression on July 2nd, and none forecast for the next 5 da\\u2026\", \"Don\\u2019t let a storm catch you off guard! Stay informed for safety guidance as #HurricaneSeason continues. Make sure you are prepared for whatever might come your way. Here are the Top Tips for Hurricane Preparedness from the @DeptofDefense.  \\nhttps://t.co/hGuMssR4yY\"], \"locations\": [\"Florida\"], \"count\": 19}, {\"created_at\": \"2022-08-05T12:00:00+00:00\", \"class_label\": \"infrastructure_and_utility_damage\", \"tweet_text\": [\"Subscribe\\ud83d\\udc49TELEGRAM: https://t.co/Uw6hADCvaz\\nDRAMATIC video of a resident narrowly avoiding a tornado on Smith Island while the house next door was completely destroyed. Maryland. USA\\n\\n#storm #hurricane #StormHour #thunderstorm #tornado https://t.co/pAZlslGKBT\", \"As we approach the peak of hurricane season, flood damage prevention may be on your mind. This article has great tips on how to prepare before the next storm to reduce the damage done to your home! \\n \\nhttps://t.co/V8yHXc9k49\", \"@REWoman UK weatherman Michael Fish downplayed the chance of a storm in October '87, there was a huge storm with hurricane force winds that caused damage in the region of 6B pounds in todays money and cost multiple lives. He's still getting grief about it to this day, gotta hedge ya bets.\", \"@NurseChapel2021 @robreiner To compare, and take credit for the year following the unprecedented coronavirus shutdown and government spending,would be like taking credit for reduced winds, rainfall, and damage the day after a hurricane.\", \"@RudyLRomeiro @CharlieCrist Hurricanes cause damage. Florida has hurricanes. If the risk if high, insures have to charge more. Insurers typically pay thousands of claims from one area in a hurricane - far more than one year's premiums.\", \"How Do I Make a Claim for #HurricaneIda Damage? https://t.co/UwPS4wrr4R\\n\\n#NewOrleansAccidentLawyer #WomenInBusiness\\n#NOLAPremiseLiabilityLawyer\\n#NOLANews #KieferKiefer https://t.co/CZtnKXx9Z2\"], \"locations\": [\"Florida\"], \"count\": 20}, {\"created_at\": \"2022-08-05T14:00:00+00:00\", \"class_label\": \"caution_and_advice\", \"tweet_text\": [\"RT @jamaicaweather: STORM WATCH UPDATE:\\nNOAA's latest forecast still expects an above-normal #Atlantic hurricane season. Jamaicans and othe\\u2026\", \"STORM WATCH UPDATE:\\nNOAA's latest forecast still expects an above-normal #Atlantic hurricane season. Jamaicans and others from across the region should remain prepared as we approach the peak of the hurricane season.\\nhttps://t.co/sOnMqJazCc https://t.co/EqEDDtaBIC\", \"RT @dem_barbados: \\ud835\\uddd7\\ud835\\uddfc\\ud835\\uddfb'\\ud835\\ude01 \\ud835\\uddf1\\ud835\\uddff\\ud835\\uddfc\\ud835\\uddfd \\ud835\\ude06\\ud835\\uddfc\\ud835\\ude02\\ud835\\uddff \\ud835\\uddf4\\ud835\\ude02\\ud835\\uddee\\ud835\\uddff\\ud835\\uddf1!\\n\\nThe 2022 Atlantic hurricane season runs from June 1 to November 30. \\n\\nTake steps to prepare for a\\u2026\", \"Strong rain and devastating winds that have never happened to me in history in Oman!! Jordan\\n#Oman# Storm # Hurricane # Storm # Rain # Wind # Weather # Climate # Youtube # Telegram # Insta # Watch the strongest weather\\n\\u26a0\\ufe0f5.08.2022 \\u26a0\\ufe0f \\u26a1\\ufe0f\\u26a1\\ufe0f\\u26a1\\ufe0f Video &gt;&gt;&gt;\\nhttps://t.co/ioPSZfHye0 https://t.co/opFnIoLmKt\", \"\\ud835\\uddd7\\ud835\\uddfc\\ud835\\uddfb'\\ud835\\ude01 \\ud835\\uddf1\\ud835\\uddff\\ud835\\uddfc\\ud835\\uddfd \\ud835\\ude06\\ud835\\uddfc\\ud835\\ude02\\ud835\\uddff \\ud835\\uddf4\\ud835\\ude02\\ud835\\uddee\\ud835\\uddff\\ud835\\uddf1!\\n\\nThe 2022 Atlantic hurricane season runs from June 1 to November 30. \\n\\nTake steps to prepare for a potential storm now!\\n\\n\\ud835\\udc68\\ud835\\udc8d\\ud835\\udc98\\ud835\\udc82\\ud835\\udc9a\\ud835\\udc94 \\ud835\\udc69\\ud835\\udc86 \\ud835\\udc77\\ud835\\udc93\\ud835\\udc86\\ud835\\udc91\\ud835\\udc82\\ud835\\udc93\\ud835\\udc86\\ud835\\udc85!\\n#DEMBB #Barbados\\n#DEMBarbados #BeStormReady \\n#Hurricane #HurricaneSeason https://t.co/mBH3NKv3BK\"], \"locations\": [\"Atlantic\"], \"count\": 73}, {\"created_at\": \"2022-08-05T16:00:00+00:00\", \"class_label\": \"caution_and_advice\", \"tweet_text\": [\"Tropical Weather Outlook\\nNWS National Hurricane Center Miami FL\\n800 AM EDT Fri Aug 5 2022\\n\\nFor the North Atlantic...Caribbean Sea and the Gulf of Mexico:\\n\\nTropical cyclone formation is not expected during the next 5 days. https://t.co/5S00cfNv2m\", \"RT @jamaicaweather: STORM WATCH UPDATE:\\nNOAA's latest forecast still expects an above-normal #Atlantic hurricane season. Jamaicans and othe\\u2026\", \"Guest columnist Dennis Jones writes: Knowing what actions you and your family can take now, before a storm, can increase your level of preparedness and ensure the safety of your loved ones. https://t.co/PV541jbd9P\", \"Don\\u2019t wait until the last minute to prepare for a hurricane. Watch this video to learn what to put in an emergency kit, how to create a home inventory, and lay out your evacuation plan. https://t.co/jXKE13fC9q\", \"Hurricane experts are still calling for an above-average 2022 hurricane season. Be prepared, and know what to do before and after the storm. Here\\u2019s a handy Hurricane Guide from @FloridaDBPR: https://t.co/sNf0m91nfw\\nhttps://t.co/SbhD8LNNGc\", \"RT @paradiseext: During a hurricane, windows and doors are often among the most vulnerable parts of your home. Protect your home with Flori\\u2026\"], \"locations\": [\"Atlantic\", \"Gulf of Mexico\", \"North Atlantic...Caribbean Sea\"], \"count\": 87}, {\"created_at\": \"2022-08-05T18:00:00+00:00\", \"class_label\": \"caution_and_advice\", \"tweet_text\": [\"Prepare for a hurricane from the data perspective. Take basic precautions now before the storm hits you! Learn more in this whitepaper  https://t.co/MmRfl5FITg https://t.co/YX141yfPgu\", \"NHC Atlantic Outlook\\nhttps://t.co/DHXo73dOr8\\n\\nZCZC MIATWOAT ALL\\nTTAA00 KNHC DDHHMM\\n\\nTropical Weather Outlook\\nNWS National Hurricane Center Miami FL\\n200 PM EDT Fri Aug 5 2022\\n\\nFor the North Atlantic...Caribbean Sea and the Gulf of Mexico:\\n\\nTropical cyclone formation is not expec\\u2026 https://t.co/rJjnFwI4JO\", \"\\ud83c\\udf00 Hurricane categories are a useful tool in determining potential damage to your home or business when a storm threatens your community.\\n \\n\\u2b07\\ufe0f Learn more below &amp; remember to also consider impacts from floods, storm surge, tornadoes &amp; other hazards that hurricanes may bring. https://t.co/xIXdHI7UyM\", \"From now through October, Hurricane season is at its peak! \\n\\nNever ease up on your preparedness for this natural disaster. Keep yourself safe this season, from emergency kits to having Greenpro on call in case of water damage issues. \\nhttps://t.co/2NwP0kE4Fw https://t.co/rOZQn03nEc\"], \"locations\": [\"Gulf of Mexico\", \"North Atlantic...Caribbean Sea\"], \"count\": 32}, {\"created_at\": \"2022-08-06T00:00:00+00:00\", \"class_label\": \"caution_and_advice\", \"tweet_text\": [\"RT @Selective: Is your business prepared for a #hurricane? Proactive measures like installing storm shutters can help business owners preve\\u2026\", \"NHC Atlantic Outlook\\nhttps://t.co/DHXo73dOr8\\n\\nZCZC MIATWOAT ALL\\nTTAA00 KNHC DDHHMM\\n\\nTropical Weather Outlook\\nNWS National Hurricane Center Miami FL\\n800 PM EDT Fri Aug 5 2022\\n\\nFor the North Atlantic...Caribbean Sea and the Gulf of Mexico:\\n\\nTropical cyclone formation is not expec\\u2026 https://t.co/sU8kDOxb9E\", \"In today's edition of my Hurricane Season Outlook &amp; Discussion, I showcase the potential for Tropical Storm Danielle to develop next week, from what is currently a tropical wave emerging off the coast of the Western Africa. #HurricaneSeason #Tropics\\nhttps://t.co/gzOkesmrzJ\", \"#TropicalWeatherOutlook\\nNWS National Hurricane Center Miami FL\\n800 PM EDT Fri Aug 5 2022\\n\\nFor the North #Atlantic... #Caribbean Sea and the #GulfOfMexico \\n\\nTropical cyclone formation is not expected during the next 5 days.\\n\\nForecaster Beven https://t.co/FV3P9YKWrw\", \"Taylor Tree Co. has provided full-service tree care for 30+ years across the Mississippi Gulf Coast. Services include pruning, manicuring, stump grinding, tree removal, hurricane tree prep, emergency storm clean-up, and more. Contact us here today: https://t.co/A7GNzBOIXF https://t.co/z4VW7gg760\"], \"locations\": [\"Gulf of Mexico\", \"North Atlantic...Caribbean Sea\"], \"count\": 26}, {\"created_at\": \"2022-08-06T02:00:00+00:00\", \"class_label\": \"caution_and_advice\", \"tweet_text\": [\"As Louisiana prepares to enter the most active weeks of the hurricane season, an Entergy representative said the public should be prepared to go without power for up to 21 days in the event a Category 4 storm hits the area, and seven days for a Category 1 storm.\\u2060\\n\\u2060 https://t.co/3Tp3vGUKXa\", \"Storm Chaser Notebook: Storm Chaser Hurricane Meteorology Tornado Meteorologist Notebook, Journal &amp; Diary - Appreciation Gift [O7VZPIR]\\n\\nhttps://t.co/ZblDsqqO2X\"], \"locations\": [\"Louisiana\"], \"count\": 12}, {\"created_at\": \"2022-08-06T04:00:00+00:00\", \"class_label\": \"caution_and_advice\", \"tweet_text\": [\"RT @jamaicaweather: STORM WATCH UPDATE:\\nNOAA's latest forecast still expects an above-normal #Atlantic hurricane season. Jamaicans and othe\\u2026\", \"RT @philklotzbach: No Atlantic named storms since #Colin weakened to a tropical depression on July 2nd, and none forecast for the next 5 da\\u2026\"], \"locations\": [\"Atlantic\"], \"count\": 22}, {\"created_at\": \"2022-08-06T10:00:00+00:00\", \"class_label\": \"caution_and_advice\", \"tweet_text\": [\"Atenci\\u00f3n! The U.S. National Hurricane Center has highlighted an area in the Main Development Region west of Africa for possible tropical storm or hurricane development within the next five days. Jamaicans should stay alert just in case. The next name on the list is Danielle. https://t.co/XHwgKOJg9s\", \"Hurricane season is in full swing. \\ud83c\\udf2a\\u26c8 If your home experiences flooding from a storm or natural disaster, your first contact should be your local government. Click here for phone numbers and other key information. https://t.co/X3XjbVtUHV https://t.co/tCUiQTrYZ6\"], \"locations\": [\"Africa\"], \"count\": 8}, {\"created_at\": \"2022-08-06T10:00:00+00:00\", \"class_label\": \"infrastructure_and_utility_damage\", \"tweet_text\": [\"RT @FLSERT: \\ud83c\\udf00 Hurricane categories are a useful tool in determining potential damage to your home or business when a storm threatens your c\\u2026\", \"@SenTedCruz You do NOT care about US! \\n@TedCruz demanded aid for Texas after Texas Power Grid Collapse, but attacked giving aid to New England after Superstorm Sandy: $65 BILLION in damage/killed 285 AMERICANS or Puerto Rico: Hurricane Maria did $90 BILLION in damage/killed 4,645 of US. https://t.co/zSKahknAqU\", \"A haiku from the Wikipedia page \\\"Hurricane Danny (1985)\\\":\\n\\nforty-six houses \\nand six mobile homes suffering \\nfrom major damage\"], \"locations\": [\"Texas\", \"US\"], \"count\": 16}, {\"created_at\": \"2022-08-06T12:00:00+00:00\", \"class_label\": \"caution_and_advice\", \"tweet_text\": [\"RT @FoxNewsMMR: NEW: Gulf Coast communities deal with storm supply shortage as peak hurricane season nears - @CELLIOTTTV on @FOX5Atlanta fr\\u2026\", \"Boxers Nitu, Amit Panghal storm into finals, eye CWG gold\\u00a0medals https://t.co/OcTIUZsRGG\", \"RT @HerculesInspire: @MindHaste The storms don't last forever.\\n\\nBut once you are out of the storm, make sure to become the storm yourself.\\u2026\", \"#seasonalsaturdays \\nHURRICANE Preparedness\\nA hurricane is a tropical cyclone. Hurricanes can be catastrophic\\nto coastlines and impact those living several hundred miles\\ninland.\\nhttps://t.co/tvjspzuX4n\", \"Vont 4 Pack LED #Camping Lantern, LED Lanterns, Suitable Survival Kits for Hurricane, Emergency Light for Storm, Outages, Outdoor Portable Lanterns, Black, Collapsible, (Batteries Included) https://t.co/kaa9MsM9Zd https://t.co/muithrSRSc\", \"@Balmoralmorning @theferaltweets @NHC_Atlantic To form into a tropical system. Starting with a Tropical depression, then potentially a Tropical storm and if it continues to be a healthy system, a hurricane. No need to be sorry!\", \"@Evan67454414 @kenduque @SpaceCityWX What you need in centex isn\\u2019t a hurricane, you need a slow moving tropical depression or tropical storm.  These usually results in much higher rain totals than a fizzling out hurricane. Large low pressure trough that pumps moisture from the gulf = win for centex\", \"RT @SJRWMD: Hurricane season is in full swing. \\ud83c\\udf2a\\u26c8 If your home experiences flooding from a storm or natural disaster, your first contact sh\\u2026\", \"\\ud83c\\udf00 Hurricane season is June 1st to November 30th. Broward\\u2019s official Hurricane Preparedness Guide is designed to provide valuable information that you can use before, during, and after a storm. The time to prepare is is now! \\n\\n\\ud83d\\udcf2 https://t.co/HDOr4GqefG\\n\\ud83d\\udccdOakland Park, Florida https://t.co/vaiLocu6Ws\"], \"locations\": [\"Florida\"], \"count\": 8}, {\"created_at\": \"2022-08-06T14:00:00+00:00\", \"class_label\": \"caution_and_advice\", \"tweet_text\": [\"RT @Etrackers_: We now have #TD9 in the eastern pacific it is expected to become a tropical storm over the next 24 hours this is not expect\\u2026\", \"We now have #TD9 in the eastern pacific it is expected to become a tropical storm over the next 24 hours this is not expected to become a #Hurricane at this moment of time current peak is 70mph. The next named is Howard. #HurricaneSeason https://t.co/GiiaIsYvVO\", \"#Tropical_Depression_Nine-E [NEW STORM] Heading NW  @ 13 mph. Wind @ 35 mph. Location N:14.3 W:-105.7 https://t.co/IzyQsQzsTi #Hurricane #Nine-E #Fulham\", \"#Florida #FLwx  \\n*Saharan Dust Continues to Hamper Hurricane, Tropical Storm Development in Atlantic*\\nhttps://t.co/rl3Oh1K18J\", \"OTD in 1959: Hurricane Dot struck struck Kuaui in the Hawaiian islands with winds of 125 mph. It is the costliest tropical cyclone in Hawaiian history. https://t.co/3PbrHuvbUu\"], \"locations\": [\"Florida\"], \"count\": 7}, {\"created_at\": \"2022-08-06T18:00:00+00:00\", \"class_label\": \"caution_and_advice\", \"tweet_text\": [\"Join us for the #KCER #Hurricane Preparedness for Dialysis Patients Webinar. Get tips on what to do before, during, and after a storm hits your community. Wed, Aug 17 at 3pm ET. Register now:\\n https://t.co/Fsg5J3CIjC https://t.co/qcI0EgOAYm\", \"First Tropical Storm Threat In Weeks Emerges Amid Predictions Of Hurricane Outbreak: No hurricanes have formed in the Atlantic basin this year but forecasters are still warning 2022 could end up being one of the most active seasons ever. https://t.co/DHpz08ZMK0 https://t.co/k26TxvkawU\", \"Peak Hurricane Season is coming. Are you prepared? Do you have an evacuation plan? Do you have 3 days of water and food if you need to shelter (for you and your pets)? https://t.co/TAB8Sp6Xwg\", \"RT @wxhistorian: OTD in 1959: Hurricane Dot struck struck Kuaui in the Hawaiian islands with winds of 125 mph. It is the costliest tropical\\u2026\", \"RT @Thang_1_: Public health emergencies declared since 2009:\\n-H1N1\\n-flooding \\n-Tornados\\n-tropical storm\\n-hurricane \\n-zika \\n-wildfire\\n-opioi\\u2026\"], \"locations\": [\"Atlantic\"], \"count\": 5}, {\"created_at\": \"2022-08-06T18:00:00+00:00\", \"class_label\": \"infrastructure_and_utility_damage\", \"tweet_text\": [\"@AgentSchmith @StripeyMiata @HubSpot It's Hurricane Dorian damage probably.\", \"https://t.co/xN4m8D1IOd \\n\\n@VP Kamala Harris $1 billion to deal with #ClimateCrisis disasters is a joke! #Hurricane Katrina cause $181 billion in damage. #USA spends $3 billion/day on military! Honestly it\\u2019s US government version of #greenwashing !\", \"@SmartandSassy11 @TheAgentNDN It was mostly from hurricanes. We knew of one hive &amp; had to get it removed before they could do the roof, then they found 5. The bees from 1 hive had done a lot of damage to the wood, in addition to the hurricane damage.\", \"RT @hamradioprogram: Amateur Radio Emergency Services help relay damage report information during Hurricane Ida https://t.co/b8bOPh2W9L\", \"@LenaDTV Hopefully it doesn\\u2019t develop. Don\\u2019t need a hurricane to potentially hit anywhere and cause damage or loss of life.\"], \"locations\": [\"US\"], \"count\": 4}, {\"created_at\": \"2022-08-06T22:00:00+00:00\", \"class_label\": \"caution_and_advice\", \"tweet_text\": [\"How to stay safe, recover after a hurricane https://t.co/3WKad0Ptqs #howto #news\", \"RT @infpwriter: \\\"The National Hurricane Center is monitoring a tropical disturbance that could gradually develop as it moves westward over\\u2026\", \"RT @JenCollinsWx: A tropical wave is expected to move off the coast of Africa, it has a low 30% chance of development over the next 5 days.\\u2026\", \"A tropical wave is expected to move off the coast of Africa, it has a low 30% chance of development over the next 5 days. Just something to watch as we approach the peak of hurricane season. \\n\\n#FLwx #Tropics @CBS12 https://t.co/4E7fdQ23qu https://t.co/elL4jrFlMX\", \"Tropical Depression Nine-E Advisory Number   2\\nNWS National Hurricane Center Miami FL       EP092022\\n300 PM MDT Sat Aug 06 2022\\n\\n...DEPRESSION MOVING NORTHWESTWARD...\\n...EXPECTED TO BECOME A TROPICAL STORM LATER TONIGHT... https://t.co/tBA9yt5Dk7\", \"RT @FoxNewsMMR: NEW: Gulf Coast communities deal with storm supply shortage as peak hurricane season nears - @CELLIOTTTV on @FOX5Atlanta fr\\u2026\", \"RT @wxhistorian: OTD in 1959: Hurricane Dot struck struck Kuaui in the Hawaiian islands with winds of 125 mph. It is the costliest tropical\\u2026\"], \"locations\": [\"Africa\"], \"count\": 4}, {\"created_at\": \"2022-08-06T22:00:00+00:00\", \"class_label\": \"infrastructure_and_utility_damage\", \"tweet_text\": [\"RT @FollowManOfGod: My wife woke up the next day and was surprised not to see any damage. I told her I spoke to the hurricane and told it t\\u2026\", \"A new roof, following damage after a hurricane 2 years ago. Paid a scoundrel to repair it, but all of his work has since blown away in ordinary thunderstorms. #theRenovator https://t.co/qkX7XIod0v\", \"RT @iiiorg: Be better prepared for this #HurricaneSeason by understanding how #insurance works for hurricane-related damage. @iiiorg offers\\u2026\", \"@ric23 USG offering technical assistance &amp; GOC accepting it could be a good beginning. The last time something like this happened (Hurricane Michelle 2002) @GeorgeBush43 offered aid but demanded Cuba allow US experts to assess damage before determining type &amp; size aid. Cuba refused\"], \"locations\": [\"US\"], \"count\": 3}]}}, {\"mode\": \"vega-lite\"});\n",
       "</script>"
      ],
      "text/plain": [
       "alt.VConcatChart(...)"
      ]
     },
     "execution_count": 19,
     "metadata": {},
     "output_type": "execute_result"
    }
   ],
   "source": [
    "show_top_locations(df_top_location_tweets, class_labels, disaster_kind)"
   ]
  },
  {
   "cell_type": "markdown",
   "id": "19c7b4ec",
   "metadata": {
    "papermill": {
     "duration": 0.169954,
     "end_time": "2022-08-19T21:14:26.145872",
     "exception": false,
     "start_time": "2022-08-19T21:14:25.975918",
     "status": "completed"
    },
    "tags": []
   },
   "source": [
    "## Visualize the locations and relationship between them as a network"
   ]
  },
  {
   "cell_type": "markdown",
   "id": "b7544354",
   "metadata": {
    "papermill": {
     "duration": 0.17757,
     "end_time": "2022-08-19T21:14:26.488095",
     "exception": false,
     "start_time": "2022-08-19T21:14:26.310525",
     "status": "completed"
    },
    "tags": []
   },
   "source": [
    "### Select the top 20 locations for this disaster"
   ]
  },
  {
   "cell_type": "code",
   "execution_count": 20,
   "id": "dd48d90b",
   "metadata": {
    "execution": {
     "iopub.execute_input": "2022-08-19T21:14:26.822283Z",
     "iopub.status.busy": "2022-08-19T21:14:26.821893Z",
     "iopub.status.idle": "2022-08-19T21:14:42.802343Z",
     "shell.execute_reply": "2022-08-19T21:14:42.801535Z"
    },
    "papermill": {
     "duration": 16.149487,
     "end_time": "2022-08-19T21:14:42.804430",
     "exception": false,
     "start_time": "2022-08-19T21:14:26.654943",
     "status": "completed"
    },
    "tags": []
   },
   "outputs": [
    {
     "data": {
      "text/plain": [
       "['Atlantic',\n",
       " 'Gulf increases',\n",
       " 'Florida',\n",
       " 'California',\n",
       " 'US',\n",
       " 'Africa',\n",
       " 'Gulf of Mexico',\n",
       " 'Texas',\n",
       " 'North Atlantic...Caribbean Sea',\n",
       " 'Louisiana',\n",
       " 'Gambia',\n",
       " 'Independence Stadi…',\n",
       " 'New Orleans',\n",
       " 'St',\n",
       " 'Petersburg',\n",
       " 'Gulf Coast',\n",
       " 'Ocean Isle Beach',\n",
       " 'National Hurricane Center',\n",
       " 'Kentucky',\n",
       " 'North Pacific']"
      ]
     },
     "execution_count": 20,
     "metadata": {},
     "output_type": "execute_result"
    }
   ],
   "source": [
    "loc20 = get_top_locations_flatten(df_tweets, 20)\n",
    "loc20"
   ]
  },
  {
   "cell_type": "markdown",
   "id": "f88abc3a",
   "metadata": {
    "papermill": {
     "duration": 0.216599,
     "end_time": "2022-08-19T21:14:43.181528",
     "exception": false,
     "start_time": "2022-08-19T21:14:42.964929",
     "status": "completed"
    },
    "tags": []
   },
   "source": [
    "### Get the tweets for just the top 20 locations"
   ]
  },
  {
   "cell_type": "code",
   "execution_count": 21,
   "id": "a1fc669a",
   "metadata": {
    "execution": {
     "iopub.execute_input": "2022-08-19T21:14:43.500505Z",
     "iopub.status.busy": "2022-08-19T21:14:43.499978Z",
     "iopub.status.idle": "2022-08-19T21:14:43.660976Z",
     "shell.execute_reply": "2022-08-19T21:14:43.660305Z"
    },
    "papermill": {
     "duration": 0.324824,
     "end_time": "2022-08-19T21:14:43.663074",
     "exception": false,
     "start_time": "2022-08-19T21:14:43.338250",
     "status": "completed"
    },
    "tags": []
   },
   "outputs": [
    {
     "data": {
      "text/html": [
       "<div>\n",
       "<style scoped>\n",
       "    .dataframe tbody tr th:only-of-type {\n",
       "        vertical-align: middle;\n",
       "    }\n",
       "\n",
       "    .dataframe tbody tr th {\n",
       "        vertical-align: top;\n",
       "    }\n",
       "\n",
       "    .dataframe thead th {\n",
       "        text-align: right;\n",
       "    }\n",
       "</style>\n",
       "<table border=\"1\" class=\"dataframe\">\n",
       "  <thead>\n",
       "    <tr style=\"text-align: right;\">\n",
       "      <th></th>\n",
       "      <th>class_label</th>\n",
       "      <th>location_x</th>\n",
       "      <th>location_y</th>\n",
       "      <th>count</th>\n",
       "    </tr>\n",
       "  </thead>\n",
       "  <tbody>\n",
       "    <tr>\n",
       "      <th>9</th>\n",
       "      <td>other_relevant_information</td>\n",
       "      <td>National Hurricane Center</td>\n",
       "      <td>Atlantic</td>\n",
       "      <td>73</td>\n",
       "    </tr>\n",
       "    <tr>\n",
       "      <th>22</th>\n",
       "      <td>rescue_volunteering_or_donation_effort</td>\n",
       "      <td>Atlantic</td>\n",
       "      <td>Africa</td>\n",
       "      <td>42</td>\n",
       "    </tr>\n",
       "    <tr>\n",
       "      <th>15</th>\n",
       "      <td>other_relevant_information</td>\n",
       "      <td>Texas</td>\n",
       "      <td>Gulf Coast</td>\n",
       "      <td>109</td>\n",
       "    </tr>\n",
       "    <tr>\n",
       "      <th>14</th>\n",
       "      <td>other_relevant_information</td>\n",
       "      <td>St</td>\n",
       "      <td>Petersburg</td>\n",
       "      <td>818</td>\n",
       "    </tr>\n",
       "    <tr>\n",
       "      <th>11</th>\n",
       "      <td>other_relevant_information</td>\n",
       "      <td>New Orleans</td>\n",
       "      <td>Louisiana</td>\n",
       "      <td>52</td>\n",
       "    </tr>\n",
       "    <tr>\n",
       "      <th>24</th>\n",
       "      <td>rescue_volunteering_or_donation_effort</td>\n",
       "      <td>Louisiana</td>\n",
       "      <td>Kentucky</td>\n",
       "      <td>54</td>\n",
       "    </tr>\n",
       "    <tr>\n",
       "      <th>5</th>\n",
       "      <td>other_relevant_information</td>\n",
       "      <td>Gambia</td>\n",
       "      <td>Africa</td>\n",
       "      <td>1090</td>\n",
       "    </tr>\n",
       "    <tr>\n",
       "      <th>10</th>\n",
       "      <td>other_relevant_information</td>\n",
       "      <td>New Orleans</td>\n",
       "      <td>Gulf Coast</td>\n",
       "      <td>212</td>\n",
       "    </tr>\n",
       "    <tr>\n",
       "      <th>6</th>\n",
       "      <td>other_relevant_information</td>\n",
       "      <td>Gulf Coast</td>\n",
       "      <td>Florida</td>\n",
       "      <td>11</td>\n",
       "    </tr>\n",
       "    <tr>\n",
       "      <th>0</th>\n",
       "      <td>caution_and_advice</td>\n",
       "      <td>North Atlantic...Caribbean Sea</td>\n",
       "      <td>Gulf of Mexico</td>\n",
       "      <td>1164</td>\n",
       "    </tr>\n",
       "  </tbody>\n",
       "</table>\n",
       "</div>"
      ],
      "text/plain": [
       "                               class_label                      location_x  \\\n",
       "9               other_relevant_information       National Hurricane Center   \n",
       "22  rescue_volunteering_or_donation_effort                        Atlantic   \n",
       "15              other_relevant_information                           Texas   \n",
       "14              other_relevant_information                              St   \n",
       "11              other_relevant_information                     New Orleans   \n",
       "24  rescue_volunteering_or_donation_effort                       Louisiana   \n",
       "5               other_relevant_information                          Gambia   \n",
       "10              other_relevant_information                     New Orleans   \n",
       "6               other_relevant_information                      Gulf Coast   \n",
       "0                       caution_and_advice  North Atlantic...Caribbean Sea   \n",
       "\n",
       "        location_y  count  \n",
       "9         Atlantic     73  \n",
       "22          Africa     42  \n",
       "15      Gulf Coast    109  \n",
       "14      Petersburg    818  \n",
       "11       Louisiana     52  \n",
       "24        Kentucky     54  \n",
       "5           Africa   1090  \n",
       "10      Gulf Coast    212  \n",
       "6          Florida     11  \n",
       "0   Gulf of Mexico   1164  "
      ]
     },
     "execution_count": 21,
     "metadata": {},
     "output_type": "execute_result"
    }
   ],
   "source": [
    "df_loc_graph = get_location_graph_data(df_tweets, loc20)\n",
    "df_loc_graph.sample(10)"
   ]
  },
  {
   "cell_type": "code",
   "execution_count": 22,
   "id": "aec7229b",
   "metadata": {
    "execution": {
     "iopub.execute_input": "2022-08-19T21:14:43.979415Z",
     "iopub.status.busy": "2022-08-19T21:14:43.979085Z",
     "iopub.status.idle": "2022-08-19T21:14:44.112924Z",
     "shell.execute_reply": "2022-08-19T21:14:44.112183Z"
    },
    "papermill": {
     "duration": 0.293465,
     "end_time": "2022-08-19T21:14:44.114982",
     "exception": false,
     "start_time": "2022-08-19T21:14:43.821517",
     "status": "completed"
    },
    "tags": []
   },
   "outputs": [
    {
     "data": {
      "text/html": [
       "\n",
       "<div id=\"altair-viz-29251c8554d14b898cf002d0927a320b\"></div>\n",
       "<script type=\"text/javascript\">\n",
       "  var VEGA_DEBUG = (typeof VEGA_DEBUG == \"undefined\") ? {} : VEGA_DEBUG;\n",
       "  (function(spec, embedOpt){\n",
       "    let outputDiv = document.currentScript.previousElementSibling;\n",
       "    if (outputDiv.id !== \"altair-viz-29251c8554d14b898cf002d0927a320b\") {\n",
       "      outputDiv = document.getElementById(\"altair-viz-29251c8554d14b898cf002d0927a320b\");\n",
       "    }\n",
       "    const paths = {\n",
       "      \"vega\": \"https://cdn.jsdelivr.net/npm//vega@5?noext\",\n",
       "      \"vega-lib\": \"https://cdn.jsdelivr.net/npm//vega-lib?noext\",\n",
       "      \"vega-lite\": \"https://cdn.jsdelivr.net/npm//vega-lite@4.17.0?noext\",\n",
       "      \"vega-embed\": \"https://cdn.jsdelivr.net/npm//vega-embed@6?noext\",\n",
       "    };\n",
       "\n",
       "    function maybeLoadScript(lib, version) {\n",
       "      var key = `${lib.replace(\"-\", \"\")}_version`;\n",
       "      return (VEGA_DEBUG[key] == version) ?\n",
       "        Promise.resolve(paths[lib]) :\n",
       "        new Promise(function(resolve, reject) {\n",
       "          var s = document.createElement('script');\n",
       "          document.getElementsByTagName(\"head\")[0].appendChild(s);\n",
       "          s.async = true;\n",
       "          s.onload = () => {\n",
       "            VEGA_DEBUG[key] = version;\n",
       "            return resolve(paths[lib]);\n",
       "          };\n",
       "          s.onerror = () => reject(`Error loading script: ${paths[lib]}`);\n",
       "          s.src = paths[lib];\n",
       "        });\n",
       "    }\n",
       "\n",
       "    function showError(err) {\n",
       "      outputDiv.innerHTML = `<div class=\"error\" style=\"color:red;\">${err}</div>`;\n",
       "      throw err;\n",
       "    }\n",
       "\n",
       "    function displayChart(vegaEmbed) {\n",
       "      vegaEmbed(outputDiv, spec, embedOpt)\n",
       "        .catch(err => showError(`Javascript Error: ${err.message}<br>This usually means there's a typo in your chart specification. See the javascript console for the full traceback.`));\n",
       "    }\n",
       "\n",
       "    if(typeof define === \"function\" && define.amd) {\n",
       "      requirejs.config({paths});\n",
       "      require([\"vega-embed\"], displayChart, err => showError(`Error loading script: ${err.message}`));\n",
       "    } else {\n",
       "      maybeLoadScript(\"vega\", \"5\")\n",
       "        .then(() => maybeLoadScript(\"vega-lite\", \"4.17.0\"))\n",
       "        .then(() => maybeLoadScript(\"vega-embed\", \"6\"))\n",
       "        .catch(showError)\n",
       "        .then(() => displayChart(vegaEmbed));\n",
       "    }\n",
       "  })({\"config\": {\"view\": {\"continuousWidth\": 400, \"continuousHeight\": 300}}, \"layer\": [{\"data\": {\"name\": \"data-133de4057d8915ac3b271c06ff9ce1cd\"}, \"mark\": {\"type\": \"text\", \"color\": \"black\", \"dx\": 0, \"dy\": 20}, \"encoding\": {\"text\": {\"field\": \"label\", \"type\": \"nominal\"}, \"x\": {\"axis\": {\"grid\": false, \"labels\": false, \"ticks\": false}, \"field\": \"x\", \"type\": \"quantitative\"}, \"y\": {\"axis\": {\"grid\": false, \"labels\": false, \"ticks\": false}, \"field\": \"y\", \"type\": \"quantitative\"}}, \"selection\": {\"selector003\": {\"type\": \"interval\", \"bind\": \"scales\", \"encodings\": [\"x\", \"y\"]}}}, {\"data\": {\"name\": \"data-9ca1f92703a9ff4de47be0a8732a5a1a\"}, \"mark\": {\"type\": \"line\", \"color\": \"black\", \"opacity\": 1.0}, \"encoding\": {\"color\": {\"field\": \"count\", \"legend\": null, \"type\": \"quantitative\"}, \"detail\": {\"field\": \"edge\", \"type\": \"quantitative\"}, \"size\": {\"field\": \"weight\", \"legend\": null, \"type\": \"nominal\"}, \"tooltip\": [{\"field\": \"count\", \"type\": \"quantitative\"}], \"x\": {\"axis\": {\"grid\": false, \"labels\": false, \"ticks\": false, \"title\": \"\"}, \"field\": \"x\", \"type\": \"quantitative\"}, \"y\": {\"axis\": {\"grid\": false, \"labels\": false, \"ticks\": false, \"title\": \"\"}, \"field\": \"y\", \"type\": \"quantitative\"}}}, {\"data\": {\"name\": \"data-133de4057d8915ac3b271c06ff9ce1cd\"}, \"mark\": \"circle\", \"encoding\": {\"color\": {\"field\": \"count\", \"type\": \"quantitative\"}, \"size\": {\"field\": \"count\", \"scale\": {\"range\": [30, 500]}, \"type\": \"quantitative\"}, \"tooltip\": [{\"field\": \"label\", \"type\": \"nominal\"}, {\"field\": \"count\", \"type\": \"quantitative\"}], \"x\": {\"axis\": {\"grid\": false, \"labels\": false, \"ticks\": false}, \"field\": \"x\", \"type\": \"quantitative\"}, \"y\": {\"axis\": {\"grid\": false, \"labels\": false, \"ticks\": false}, \"field\": \"y\", \"type\": \"quantitative\"}}}], \"height\": 500, \"title\": \"Caution And Advice\", \"width\": 500, \"$schema\": \"https://vega.github.io/schema/vega-lite/v4.17.0.json\", \"datasets\": {\"data-133de4057d8915ac3b271c06ff9ce1cd\": [{\"label\": \"North Atlantic...Caribbean Sea\", \"y\": 4.3711388286737935e-08, \"count\": 1164, \"x\": 1.0}, {\"label\": \"Gulf of Mexico\", \"y\": -4.3711388286737935e-08, \"count\": 1164, \"x\": -1.0}], \"data-9ca1f92703a9ff4de47be0a8732a5a1a\": [{\"target\": \"Gulf of Mexico\", \"count\": 1164, \"edge\": 0, \"y\": 4.3711388286737935e-08, \"source\": \"North Atlantic...Caribbean Sea\", \"pair\": [\"North Atlantic...Caribbean Sea\", \"Gulf of Mexico\"], \"x\": 1.0}, {\"target\": \"Gulf of Mexico\", \"count\": 1164, \"edge\": 0, \"y\": -4.3711388286737935e-08, \"source\": \"North Atlantic...Caribbean Sea\", \"pair\": [\"North Atlantic...Caribbean Sea\", \"Gulf of Mexico\"], \"x\": -1.0}]}}, {\"mode\": \"vega-lite\"});\n",
       "</script>"
      ],
      "text/plain": [
       "alt.LayerChart(...)"
      ]
     },
     "execution_count": 22,
     "metadata": {},
     "output_type": "execute_result"
    }
   ],
   "source": [
    "plot_disaster_mentions(df_loc_graph, 'caution_and_advice', 'Caution And Advice')"
   ]
  },
  {
   "cell_type": "markdown",
   "id": "e183e520",
   "metadata": {
    "papermill": {
     "duration": 0.160922,
     "end_time": "2022-08-19T21:14:44.433419",
     "exception": false,
     "start_time": "2022-08-19T21:14:44.272497",
     "status": "completed"
    },
    "tags": []
   },
   "source": [
    "### Get the most frequent location pair"
   ]
  },
  {
   "cell_type": "code",
   "execution_count": 23,
   "id": "8abb6300",
   "metadata": {
    "execution": {
     "iopub.execute_input": "2022-08-19T21:14:44.752240Z",
     "iopub.status.busy": "2022-08-19T21:14:44.751915Z",
     "iopub.status.idle": "2022-08-19T21:14:44.758559Z",
     "shell.execute_reply": "2022-08-19T21:14:44.757740Z"
    },
    "papermill": {
     "duration": 0.16756,
     "end_time": "2022-08-19T21:14:44.760607",
     "exception": false,
     "start_time": "2022-08-19T21:14:44.593047",
     "status": "completed"
    },
    "tags": []
   },
   "outputs": [
    {
     "data": {
      "text/plain": [
       "[['North Atlantic...Caribbean Sea', 'Gulf of Mexico']]"
      ]
     },
     "execution_count": 23,
     "metadata": {},
     "output_type": "execute_result"
    }
   ],
   "source": [
    "loc_pairs = top_location_pairs(df_loc_graph, 'caution_and_advice', top_pairs_count=1)\n",
    "loc_pairs"
   ]
  },
  {
   "cell_type": "markdown",
   "id": "91075154",
   "metadata": {
    "papermill": {
     "duration": 0.159324,
     "end_time": "2022-08-19T21:14:45.079405",
     "exception": false,
     "start_time": "2022-08-19T21:14:44.920081",
     "status": "completed"
    },
    "tags": []
   },
   "source": [
    "### Show a sample for this location pair"
   ]
  },
  {
   "cell_type": "code",
   "execution_count": 24,
   "id": "9d0cab3b",
   "metadata": {
    "execution": {
     "iopub.execute_input": "2022-08-19T21:14:45.397169Z",
     "iopub.status.busy": "2022-08-19T21:14:45.396847Z",
     "iopub.status.idle": "2022-08-19T21:14:45.635345Z",
     "shell.execute_reply": "2022-08-19T21:14:45.634667Z"
    },
    "papermill": {
     "duration": 0.400633,
     "end_time": "2022-08-19T21:14:45.637584",
     "exception": false,
     "start_time": "2022-08-19T21:14:45.236951",
     "status": "completed"
    },
    "tags": []
   },
   "outputs": [
    {
     "data": {
      "text/html": [
       "<div>\n",
       "<style scoped>\n",
       "    .dataframe tbody tr th:only-of-type {\n",
       "        vertical-align: middle;\n",
       "    }\n",
       "\n",
       "    .dataframe tbody tr th {\n",
       "        vertical-align: top;\n",
       "    }\n",
       "\n",
       "    .dataframe thead th {\n",
       "        text-align: right;\n",
       "    }\n",
       "</style>\n",
       "<table border=\"1\" class=\"dataframe\">\n",
       "  <thead>\n",
       "    <tr style=\"text-align: right;\">\n",
       "      <th></th>\n",
       "      <th>tweet_text</th>\n",
       "      <th>location</th>\n",
       "    </tr>\n",
       "  </thead>\n",
       "  <tbody>\n",
       "    <tr>\n",
       "      <th>0</th>\n",
       "      <td>NHC Atlantic Outlook\\nhttps://t.co/DHXo73dOr8\\n\\nZCZC MIATWOAT ALL\\nTTAA00 KNHC DDHHMM\\n\\nTropical Weather Outlook\\nNWS National Hurricane Center Miami FL\\n800 AM EDT Mon Aug 1 2022\\n\\nFor the North Atlantic...Caribbean Sea and the Gulf of Mexico:\\n\\nTropical cyclone formatio...</td>\n",
       "      <td>[North Atlantic...Caribbean Sea, Gulf of Mexico]</td>\n",
       "    </tr>\n",
       "    <tr>\n",
       "      <th>1</th>\n",
       "      <td>NHC Atlantic Outlook\\nhttps://t.co/DHXo72Wd2y\\n\\nZCZC MIATWOAT ALL\\nTTAA00 KNHC DDHHMM\\n\\nTropical Weather Outlook\\nNWS National Hurricane Center Miami FL\\n200 AM EDT Tue Aug 2 2022\\n\\nFor the North Atlantic...Caribbean Sea and the Gulf of Mexico:\\n\\nTropical cyclone formatio...</td>\n",
       "      <td>[North Atlantic...Caribbean Sea, Gulf of Mexico]</td>\n",
       "    </tr>\n",
       "    <tr>\n",
       "      <th>2</th>\n",
       "      <td>NHC Atlantic Outlook\\nhttps://t.co/DHXo72Wd2y\\n\\nZCZC MIATWOAT ALL\\nTTAA00 KNHC DDHHMM\\n\\nTropical Weather Outlook\\nNWS National Hurricane Center Miami FL\\n200 AM EDT Tue Aug 2 2022\\n\\nFor the North Atlantic...Caribbean Sea and the Gulf of Mexico:\\n\\nTropical cyclone formatio...</td>\n",
       "      <td>[North Atlantic...Caribbean Sea, Gulf of Mexico]</td>\n",
       "    </tr>\n",
       "    <tr>\n",
       "      <th>3</th>\n",
       "      <td>NHC Atlantic Outlook\\nhttps://t.co/DHXo73dOr8\\n\\nZCZC MIATWOAT ALL\\nTTAA00 KNHC DDHHMM\\n\\nTropical Weather Outlook\\nNWS National Hurricane Center Miami FL\\n200 PM EDT Wed Aug 3 2022\\n\\nFor the North Atlantic...Caribbean Sea and the Gulf of Mexico:\\n\\nTropical cyclone formatio...</td>\n",
       "      <td>[North Atlantic...Caribbean Sea, Gulf of Mexico]</td>\n",
       "    </tr>\n",
       "    <tr>\n",
       "      <th>4</th>\n",
       "      <td>Tropical Weather Outlook\\nNWS National Hurricane Center Miami FL\\nWed Aug 3 2022\\n\\nFor the North Atlantic...Caribbean Sea and the Gulf of Mexico:\\n\\nTropical cyclone formation is not expected during the next 5 days. https://t.co/ob8FUJ9ZDE</td>\n",
       "      <td>[North Atlantic...Caribbean Sea, Gulf of Mexico]</td>\n",
       "    </tr>\n",
       "  </tbody>\n",
       "</table>\n",
       "</div>"
      ],
      "text/plain": [
       "                                                                                                                                                                                                                                                                                tweet_text  \\\n",
       "0  NHC Atlantic Outlook\\nhttps://t.co/DHXo73dOr8\\n\\nZCZC MIATWOAT ALL\\nTTAA00 KNHC DDHHMM\\n\\nTropical Weather Outlook\\nNWS National Hurricane Center Miami FL\\n800 AM EDT Mon Aug 1 2022\\n\\nFor the North Atlantic...Caribbean Sea and the Gulf of Mexico:\\n\\nTropical cyclone formatio...   \n",
       "1  NHC Atlantic Outlook\\nhttps://t.co/DHXo72Wd2y\\n\\nZCZC MIATWOAT ALL\\nTTAA00 KNHC DDHHMM\\n\\nTropical Weather Outlook\\nNWS National Hurricane Center Miami FL\\n200 AM EDT Tue Aug 2 2022\\n\\nFor the North Atlantic...Caribbean Sea and the Gulf of Mexico:\\n\\nTropical cyclone formatio...   \n",
       "2  NHC Atlantic Outlook\\nhttps://t.co/DHXo72Wd2y\\n\\nZCZC MIATWOAT ALL\\nTTAA00 KNHC DDHHMM\\n\\nTropical Weather Outlook\\nNWS National Hurricane Center Miami FL\\n200 AM EDT Tue Aug 2 2022\\n\\nFor the North Atlantic...Caribbean Sea and the Gulf of Mexico:\\n\\nTropical cyclone formatio...   \n",
       "3  NHC Atlantic Outlook\\nhttps://t.co/DHXo73dOr8\\n\\nZCZC MIATWOAT ALL\\nTTAA00 KNHC DDHHMM\\n\\nTropical Weather Outlook\\nNWS National Hurricane Center Miami FL\\n200 PM EDT Wed Aug 3 2022\\n\\nFor the North Atlantic...Caribbean Sea and the Gulf of Mexico:\\n\\nTropical cyclone formatio...   \n",
       "4                                         Tropical Weather Outlook\\nNWS National Hurricane Center Miami FL\\nWed Aug 3 2022\\n\\nFor the North Atlantic...Caribbean Sea and the Gulf of Mexico:\\n\\nTropical cyclone formation is not expected during the next 5 days. https://t.co/ob8FUJ9ZDE   \n",
       "\n",
       "                                           location  \n",
       "0  [North Atlantic...Caribbean Sea, Gulf of Mexico]  \n",
       "1  [North Atlantic...Caribbean Sea, Gulf of Mexico]  \n",
       "2  [North Atlantic...Caribbean Sea, Gulf of Mexico]  \n",
       "3  [North Atlantic...Caribbean Sea, Gulf of Mexico]  \n",
       "4  [North Atlantic...Caribbean Sea, Gulf of Mexico]  "
      ]
     },
     "execution_count": 24,
     "metadata": {},
     "output_type": "execute_result"
    }
   ],
   "source": [
    "show_tweets_locations(df_tweets, class_label='caution_and_advice' , locations=loc_pairs[0], sample=5)"
   ]
  },
  {
   "cell_type": "code",
   "execution_count": 25,
   "id": "3f2db29c",
   "metadata": {
    "execution": {
     "iopub.execute_input": "2022-08-19T21:14:46.023491Z",
     "iopub.status.busy": "2022-08-19T21:14:46.023061Z",
     "iopub.status.idle": "2022-08-19T21:14:46.154060Z",
     "shell.execute_reply": "2022-08-19T21:14:46.153393Z"
    },
    "papermill": {
     "duration": 0.356503,
     "end_time": "2022-08-19T21:14:46.156197",
     "exception": false,
     "start_time": "2022-08-19T21:14:45.799694",
     "status": "completed"
    },
    "tags": []
   },
   "outputs": [
    {
     "data": {
      "text/html": [
       "\n",
       "<div id=\"altair-viz-8eb29f4756694ad1975e77ca91420a57\"></div>\n",
       "<script type=\"text/javascript\">\n",
       "  var VEGA_DEBUG = (typeof VEGA_DEBUG == \"undefined\") ? {} : VEGA_DEBUG;\n",
       "  (function(spec, embedOpt){\n",
       "    let outputDiv = document.currentScript.previousElementSibling;\n",
       "    if (outputDiv.id !== \"altair-viz-8eb29f4756694ad1975e77ca91420a57\") {\n",
       "      outputDiv = document.getElementById(\"altair-viz-8eb29f4756694ad1975e77ca91420a57\");\n",
       "    }\n",
       "    const paths = {\n",
       "      \"vega\": \"https://cdn.jsdelivr.net/npm//vega@5?noext\",\n",
       "      \"vega-lib\": \"https://cdn.jsdelivr.net/npm//vega-lib?noext\",\n",
       "      \"vega-lite\": \"https://cdn.jsdelivr.net/npm//vega-lite@4.17.0?noext\",\n",
       "      \"vega-embed\": \"https://cdn.jsdelivr.net/npm//vega-embed@6?noext\",\n",
       "    };\n",
       "\n",
       "    function maybeLoadScript(lib, version) {\n",
       "      var key = `${lib.replace(\"-\", \"\")}_version`;\n",
       "      return (VEGA_DEBUG[key] == version) ?\n",
       "        Promise.resolve(paths[lib]) :\n",
       "        new Promise(function(resolve, reject) {\n",
       "          var s = document.createElement('script');\n",
       "          document.getElementsByTagName(\"head\")[0].appendChild(s);\n",
       "          s.async = true;\n",
       "          s.onload = () => {\n",
       "            VEGA_DEBUG[key] = version;\n",
       "            return resolve(paths[lib]);\n",
       "          };\n",
       "          s.onerror = () => reject(`Error loading script: ${paths[lib]}`);\n",
       "          s.src = paths[lib];\n",
       "        });\n",
       "    }\n",
       "\n",
       "    function showError(err) {\n",
       "      outputDiv.innerHTML = `<div class=\"error\" style=\"color:red;\">${err}</div>`;\n",
       "      throw err;\n",
       "    }\n",
       "\n",
       "    function displayChart(vegaEmbed) {\n",
       "      vegaEmbed(outputDiv, spec, embedOpt)\n",
       "        .catch(err => showError(`Javascript Error: ${err.message}<br>This usually means there's a typo in your chart specification. See the javascript console for the full traceback.`));\n",
       "    }\n",
       "\n",
       "    if(typeof define === \"function\" && define.amd) {\n",
       "      requirejs.config({paths});\n",
       "      require([\"vega-embed\"], displayChart, err => showError(`Error loading script: ${err.message}`));\n",
       "    } else {\n",
       "      maybeLoadScript(\"vega\", \"5\")\n",
       "        .then(() => maybeLoadScript(\"vega-lite\", \"4.17.0\"))\n",
       "        .then(() => maybeLoadScript(\"vega-embed\", \"6\"))\n",
       "        .catch(showError)\n",
       "        .then(() => displayChart(vegaEmbed));\n",
       "    }\n",
       "  })({\"config\": {\"view\": {\"continuousWidth\": 400, \"continuousHeight\": 300}}, \"layer\": [{\"data\": {\"name\": \"data-366ee25d5851fa579569aa9c700a028b\"}, \"mark\": {\"type\": \"text\", \"color\": \"black\", \"dx\": 0, \"dy\": 20}, \"encoding\": {\"text\": {\"field\": \"label\", \"type\": \"nominal\"}, \"x\": {\"axis\": {\"grid\": false, \"labels\": false, \"ticks\": false}, \"field\": \"x\", \"type\": \"quantitative\"}, \"y\": {\"axis\": {\"grid\": false, \"labels\": false, \"ticks\": false}, \"field\": \"y\", \"type\": \"quantitative\"}}, \"selection\": {\"selector004\": {\"type\": \"interval\", \"bind\": \"scales\", \"encodings\": [\"x\", \"y\"]}}}, {\"data\": {\"name\": \"data-a0264a6d0523f754243e436f204d2b78\"}, \"mark\": {\"type\": \"line\", \"color\": \"black\", \"opacity\": 1.0}, \"encoding\": {\"color\": {\"field\": \"count\", \"legend\": null, \"type\": \"quantitative\"}, \"detail\": {\"field\": \"edge\", \"type\": \"quantitative\"}, \"size\": {\"field\": \"weight\", \"legend\": null, \"type\": \"nominal\"}, \"tooltip\": [{\"field\": \"count\", \"type\": \"quantitative\"}], \"x\": {\"axis\": {\"grid\": false, \"labels\": false, \"ticks\": false, \"title\": \"\"}, \"field\": \"x\", \"type\": \"quantitative\"}, \"y\": {\"axis\": {\"grid\": false, \"labels\": false, \"ticks\": false, \"title\": \"\"}, \"field\": \"y\", \"type\": \"quantitative\"}}}, {\"data\": {\"name\": \"data-366ee25d5851fa579569aa9c700a028b\"}, \"mark\": \"circle\", \"encoding\": {\"color\": {\"field\": \"count\", \"type\": \"quantitative\"}, \"size\": {\"field\": \"count\", \"scale\": {\"range\": [30, 500]}, \"type\": \"quantitative\"}, \"tooltip\": [{\"field\": \"label\", \"type\": \"nominal\"}, {\"field\": \"count\", \"type\": \"quantitative\"}], \"x\": {\"axis\": {\"grid\": false, \"labels\": false, \"ticks\": false}, \"field\": \"x\", \"type\": \"quantitative\"}, \"y\": {\"axis\": {\"grid\": false, \"labels\": false, \"ticks\": false}, \"field\": \"y\", \"type\": \"quantitative\"}}}], \"height\": 500, \"title\": \"Displaced People And Evacuations\", \"width\": 500, \"$schema\": \"https://vega.github.io/schema/vega-lite/v4.17.0.json\", \"datasets\": {\"data-366ee25d5851fa579569aa9c700a028b\": [{\"label\": \"New Orleans\", \"y\": 4.3711388286737935e-08, \"count\": 56, \"x\": 1.0}, {\"label\": \"Louisiana\", \"y\": -4.3711388286737935e-08, \"count\": 56, \"x\": -1.0}], \"data-a0264a6d0523f754243e436f204d2b78\": [{\"target\": \"Louisiana\", \"count\": 56, \"edge\": 0, \"y\": 4.3711388286737935e-08, \"source\": \"New Orleans\", \"pair\": [\"New Orleans\", \"Louisiana\"], \"x\": 1.0}, {\"target\": \"Louisiana\", \"count\": 56, \"edge\": 0, \"y\": -4.3711388286737935e-08, \"source\": \"New Orleans\", \"pair\": [\"New Orleans\", \"Louisiana\"], \"x\": -1.0}]}}, {\"mode\": \"vega-lite\"});\n",
       "</script>"
      ],
      "text/plain": [
       "alt.LayerChart(...)"
      ]
     },
     "execution_count": 25,
     "metadata": {},
     "output_type": "execute_result"
    }
   ],
   "source": [
    "plot_disaster_mentions(df_loc_graph, 'displaced_people_and_evacuations', 'Displaced People And Evacuations')"
   ]
  },
  {
   "cell_type": "markdown",
   "id": "dd1dfbeb",
   "metadata": {
    "papermill": {
     "duration": 0.165698,
     "end_time": "2022-08-19T21:14:46.482670",
     "exception": false,
     "start_time": "2022-08-19T21:14:46.316972",
     "status": "completed"
    },
    "tags": []
   },
   "source": [
    "### Get the most frequent location pair"
   ]
  },
  {
   "cell_type": "code",
   "execution_count": 26,
   "id": "b7b06ac3",
   "metadata": {
    "execution": {
     "iopub.execute_input": "2022-08-19T21:14:46.792839Z",
     "iopub.status.busy": "2022-08-19T21:14:46.792527Z",
     "iopub.status.idle": "2022-08-19T21:14:46.798488Z",
     "shell.execute_reply": "2022-08-19T21:14:46.797892Z"
    },
    "papermill": {
     "duration": 0.161456,
     "end_time": "2022-08-19T21:14:46.800407",
     "exception": false,
     "start_time": "2022-08-19T21:14:46.638951",
     "status": "completed"
    },
    "tags": []
   },
   "outputs": [
    {
     "data": {
      "text/plain": [
       "[['New Orleans', 'Louisiana']]"
      ]
     },
     "execution_count": 26,
     "metadata": {},
     "output_type": "execute_result"
    }
   ],
   "source": [
    "loc_pairs = top_location_pairs(df_loc_graph, 'displaced_people_and_evacuations', top_pairs_count=1)\n",
    "loc_pairs"
   ]
  },
  {
   "cell_type": "markdown",
   "id": "b6a067c7",
   "metadata": {
    "papermill": {
     "duration": 0.153728,
     "end_time": "2022-08-19T21:14:47.114529",
     "exception": false,
     "start_time": "2022-08-19T21:14:46.960801",
     "status": "completed"
    },
    "tags": []
   },
   "source": [
    "### Show a sample for this location pair"
   ]
  },
  {
   "cell_type": "code",
   "execution_count": 27,
   "id": "6bfd8925",
   "metadata": {
    "execution": {
     "iopub.execute_input": "2022-08-19T21:14:47.424079Z",
     "iopub.status.busy": "2022-08-19T21:14:47.423664Z",
     "iopub.status.idle": "2022-08-19T21:14:47.528250Z",
     "shell.execute_reply": "2022-08-19T21:14:47.527569Z"
    },
    "papermill": {
     "duration": 0.264382,
     "end_time": "2022-08-19T21:14:47.530712",
     "exception": false,
     "start_time": "2022-08-19T21:14:47.266330",
     "status": "completed"
    },
    "tags": []
   },
   "outputs": [
    {
     "data": {
      "text/html": [
       "<div>\n",
       "<style scoped>\n",
       "    .dataframe tbody tr th:only-of-type {\n",
       "        vertical-align: middle;\n",
       "    }\n",
       "\n",
       "    .dataframe tbody tr th {\n",
       "        vertical-align: top;\n",
       "    }\n",
       "\n",
       "    .dataframe thead th {\n",
       "        text-align: right;\n",
       "    }\n",
       "</style>\n",
       "<table border=\"1\" class=\"dataframe\">\n",
       "  <thead>\n",
       "    <tr style=\"text-align: right;\">\n",
       "      <th></th>\n",
       "      <th>tweet_text</th>\n",
       "      <th>location</th>\n",
       "    </tr>\n",
       "  </thead>\n",
       "  <tbody>\n",
       "    <tr>\n",
       "      <th>0</th>\n",
       "      <td>We're also partnering with @Kalshi in New Orleans.\\n\\nIn recent years, as the climate emergency has accelerated, Louisiana has borne the brunt of hurricane season year after year. Kalshi can help in the event of a last-minute evacuation on a tight budget.\\nhttps://t.co/oMUWLr...</td>\n",
       "      <td>[New Orleans, Louisiana]</td>\n",
       "    </tr>\n",
       "    <tr>\n",
       "      <th>1</th>\n",
       "      <td>We're also partnering with @Kalshi in New Orleans.\\n\\nIn recent years, as the climate emergency has accelerated, Louisiana has borne the brunt of hurricane season year after year. Kalshi can help in the event of a last-minute evacuation on a tight budget.\\nhttps://t.co/oMUWLr...</td>\n",
       "      <td>[New Orleans, Louisiana]</td>\n",
       "    </tr>\n",
       "    <tr>\n",
       "      <th>2</th>\n",
       "      <td>We're also partnering with @Kalshi in New Orleans.\\n\\nIn recent years, as the climate emergency has accelerated, Louisiana has borne the brunt of hurricane season year after year. Kalshi can help in the event of a last-minute evacuation on a tight budget.\\nhttps://t.co/oMUWLr...</td>\n",
       "      <td>[New Orleans, Louisiana]</td>\n",
       "    </tr>\n",
       "    <tr>\n",
       "      <th>3</th>\n",
       "      <td>We're also partnering with @Kalshi in New Orleans.\\n\\nIn recent years, as the climate emergency has accelerated, Louisiana has borne the brunt of hurricane season year after year. Kalshi can help in the event of a last-minute evacuation on a tight budget.\\nhttps://t.co/oMUWLr...</td>\n",
       "      <td>[New Orleans, Louisiana]</td>\n",
       "    </tr>\n",
       "    <tr>\n",
       "      <th>4</th>\n",
       "      <td>We're also partnering with @Kalshi in New Orleans.\\n\\nIn recent years, as the climate emergency has accelerated, Louisiana has borne the brunt of hurricane season year after year. Kalshi can help in the event of a last-minute evacuation on a tight budget.\\nhttps://t.co/oMUWLr...</td>\n",
       "      <td>[New Orleans, Louisiana]</td>\n",
       "    </tr>\n",
       "  </tbody>\n",
       "</table>\n",
       "</div>"
      ],
      "text/plain": [
       "                                                                                                                                                                                                                                                                                tweet_text  \\\n",
       "0  We're also partnering with @Kalshi in New Orleans.\\n\\nIn recent years, as the climate emergency has accelerated, Louisiana has borne the brunt of hurricane season year after year. Kalshi can help in the event of a last-minute evacuation on a tight budget.\\nhttps://t.co/oMUWLr...   \n",
       "1  We're also partnering with @Kalshi in New Orleans.\\n\\nIn recent years, as the climate emergency has accelerated, Louisiana has borne the brunt of hurricane season year after year. Kalshi can help in the event of a last-minute evacuation on a tight budget.\\nhttps://t.co/oMUWLr...   \n",
       "2  We're also partnering with @Kalshi in New Orleans.\\n\\nIn recent years, as the climate emergency has accelerated, Louisiana has borne the brunt of hurricane season year after year. Kalshi can help in the event of a last-minute evacuation on a tight budget.\\nhttps://t.co/oMUWLr...   \n",
       "3  We're also partnering with @Kalshi in New Orleans.\\n\\nIn recent years, as the climate emergency has accelerated, Louisiana has borne the brunt of hurricane season year after year. Kalshi can help in the event of a last-minute evacuation on a tight budget.\\nhttps://t.co/oMUWLr...   \n",
       "4  We're also partnering with @Kalshi in New Orleans.\\n\\nIn recent years, as the climate emergency has accelerated, Louisiana has borne the brunt of hurricane season year after year. Kalshi can help in the event of a last-minute evacuation on a tight budget.\\nhttps://t.co/oMUWLr...   \n",
       "\n",
       "                   location  \n",
       "0  [New Orleans, Louisiana]  \n",
       "1  [New Orleans, Louisiana]  \n",
       "2  [New Orleans, Louisiana]  \n",
       "3  [New Orleans, Louisiana]  \n",
       "4  [New Orleans, Louisiana]  "
      ]
     },
     "execution_count": 27,
     "metadata": {},
     "output_type": "execute_result"
    }
   ],
   "source": [
    "show_tweets_locations(df_tweets, class_label='displaced_people_and_evacuations' , locations=loc_pairs[0], sample=5)"
   ]
  },
  {
   "cell_type": "code",
   "execution_count": 28,
   "id": "51f01d7a",
   "metadata": {
    "execution": {
     "iopub.execute_input": "2022-08-19T21:14:47.841447Z",
     "iopub.status.busy": "2022-08-19T21:14:47.841136Z",
     "iopub.status.idle": "2022-08-19T21:14:47.846361Z",
     "shell.execute_reply": "2022-08-19T21:14:47.845693Z"
    },
    "papermill": {
     "duration": 0.163083,
     "end_time": "2022-08-19T21:14:47.848272",
     "exception": false,
     "start_time": "2022-08-19T21:14:47.685189",
     "status": "completed"
    },
    "tags": []
   },
   "outputs": [
    {
     "data": {
      "text/plain": [
       "'No records found for class injured_or_dead_people'"
      ]
     },
     "execution_count": 28,
     "metadata": {},
     "output_type": "execute_result"
    }
   ],
   "source": [
    "plot_disaster_mentions(df_loc_graph, 'injured_or_dead_people', 'Injured Or Dead People')"
   ]
  },
  {
   "cell_type": "markdown",
   "id": "7c5bd8a5",
   "metadata": {
    "papermill": {
     "duration": 0.152582,
     "end_time": "2022-08-19T21:14:48.154271",
     "exception": false,
     "start_time": "2022-08-19T21:14:48.001689",
     "status": "completed"
    },
    "tags": []
   },
   "source": [
    "### Get the most frequent location pair"
   ]
  },
  {
   "cell_type": "code",
   "execution_count": 29,
   "id": "9cbae7be",
   "metadata": {
    "execution": {
     "iopub.execute_input": "2022-08-19T21:14:48.461580Z",
     "iopub.status.busy": "2022-08-19T21:14:48.461272Z",
     "iopub.status.idle": "2022-08-19T21:14:48.466449Z",
     "shell.execute_reply": "2022-08-19T21:14:48.465832Z"
    },
    "papermill": {
     "duration": 0.160819,
     "end_time": "2022-08-19T21:14:48.468422",
     "exception": false,
     "start_time": "2022-08-19T21:14:48.307603",
     "status": "completed"
    },
    "tags": []
   },
   "outputs": [
    {
     "data": {
      "text/plain": [
       "[[]]"
      ]
     },
     "execution_count": 29,
     "metadata": {},
     "output_type": "execute_result"
    }
   ],
   "source": [
    "loc_pairs = top_location_pairs(df_loc_graph, 'injured_or_dead_people', top_pairs_count=1)\n",
    "loc_pairs"
   ]
  },
  {
   "cell_type": "markdown",
   "id": "0954cea4",
   "metadata": {
    "papermill": {
     "duration": 0.157807,
     "end_time": "2022-08-19T21:14:48.783473",
     "exception": false,
     "start_time": "2022-08-19T21:14:48.625666",
     "status": "completed"
    },
    "tags": []
   },
   "source": [
    "### Show a sample for this location pair"
   ]
  },
  {
   "cell_type": "code",
   "execution_count": 30,
   "id": "35bd9993",
   "metadata": {
    "execution": {
     "iopub.execute_input": "2022-08-19T21:14:49.153541Z",
     "iopub.status.busy": "2022-08-19T21:14:49.153234Z",
     "iopub.status.idle": "2022-08-19T21:14:49.157925Z",
     "shell.execute_reply": "2022-08-19T21:14:49.157261Z"
    },
    "papermill": {
     "duration": 0.223742,
     "end_time": "2022-08-19T21:14:49.159958",
     "exception": false,
     "start_time": "2022-08-19T21:14:48.936216",
     "status": "completed"
    },
    "tags": []
   },
   "outputs": [
    {
     "data": {
      "text/plain": [
       "'No location pairs provided'"
      ]
     },
     "execution_count": 30,
     "metadata": {},
     "output_type": "execute_result"
    }
   ],
   "source": [
    "show_tweets_locations(df_tweets, class_label='injured_or_dead_people' , locations=loc_pairs[0], sample=5)"
   ]
  },
  {
   "cell_type": "code",
   "execution_count": 31,
   "id": "402d63ac",
   "metadata": {
    "execution": {
     "iopub.execute_input": "2022-08-19T21:14:49.469215Z",
     "iopub.status.busy": "2022-08-19T21:14:49.468910Z",
     "iopub.status.idle": "2022-08-19T21:14:49.607868Z",
     "shell.execute_reply": "2022-08-19T21:14:49.607219Z"
    },
    "papermill": {
     "duration": 0.297346,
     "end_time": "2022-08-19T21:14:49.609964",
     "exception": false,
     "start_time": "2022-08-19T21:14:49.312618",
     "status": "completed"
    },
    "tags": []
   },
   "outputs": [
    {
     "data": {
      "text/html": [
       "\n",
       "<div id=\"altair-viz-e46a5a2f0f6a4660bfb4effcdc5fa777\"></div>\n",
       "<script type=\"text/javascript\">\n",
       "  var VEGA_DEBUG = (typeof VEGA_DEBUG == \"undefined\") ? {} : VEGA_DEBUG;\n",
       "  (function(spec, embedOpt){\n",
       "    let outputDiv = document.currentScript.previousElementSibling;\n",
       "    if (outputDiv.id !== \"altair-viz-e46a5a2f0f6a4660bfb4effcdc5fa777\") {\n",
       "      outputDiv = document.getElementById(\"altair-viz-e46a5a2f0f6a4660bfb4effcdc5fa777\");\n",
       "    }\n",
       "    const paths = {\n",
       "      \"vega\": \"https://cdn.jsdelivr.net/npm//vega@5?noext\",\n",
       "      \"vega-lib\": \"https://cdn.jsdelivr.net/npm//vega-lib?noext\",\n",
       "      \"vega-lite\": \"https://cdn.jsdelivr.net/npm//vega-lite@4.17.0?noext\",\n",
       "      \"vega-embed\": \"https://cdn.jsdelivr.net/npm//vega-embed@6?noext\",\n",
       "    };\n",
       "\n",
       "    function maybeLoadScript(lib, version) {\n",
       "      var key = `${lib.replace(\"-\", \"\")}_version`;\n",
       "      return (VEGA_DEBUG[key] == version) ?\n",
       "        Promise.resolve(paths[lib]) :\n",
       "        new Promise(function(resolve, reject) {\n",
       "          var s = document.createElement('script');\n",
       "          document.getElementsByTagName(\"head\")[0].appendChild(s);\n",
       "          s.async = true;\n",
       "          s.onload = () => {\n",
       "            VEGA_DEBUG[key] = version;\n",
       "            return resolve(paths[lib]);\n",
       "          };\n",
       "          s.onerror = () => reject(`Error loading script: ${paths[lib]}`);\n",
       "          s.src = paths[lib];\n",
       "        });\n",
       "    }\n",
       "\n",
       "    function showError(err) {\n",
       "      outputDiv.innerHTML = `<div class=\"error\" style=\"color:red;\">${err}</div>`;\n",
       "      throw err;\n",
       "    }\n",
       "\n",
       "    function displayChart(vegaEmbed) {\n",
       "      vegaEmbed(outputDiv, spec, embedOpt)\n",
       "        .catch(err => showError(`Javascript Error: ${err.message}<br>This usually means there's a typo in your chart specification. See the javascript console for the full traceback.`));\n",
       "    }\n",
       "\n",
       "    if(typeof define === \"function\" && define.amd) {\n",
       "      requirejs.config({paths});\n",
       "      require([\"vega-embed\"], displayChart, err => showError(`Error loading script: ${err.message}`));\n",
       "    } else {\n",
       "      maybeLoadScript(\"vega\", \"5\")\n",
       "        .then(() => maybeLoadScript(\"vega-lite\", \"4.17.0\"))\n",
       "        .then(() => maybeLoadScript(\"vega-embed\", \"6\"))\n",
       "        .catch(showError)\n",
       "        .then(() => displayChart(vegaEmbed));\n",
       "    }\n",
       "  })({\"config\": {\"view\": {\"continuousWidth\": 400, \"continuousHeight\": 300}}, \"layer\": [{\"data\": {\"name\": \"data-1f8c5d46e37c95a66c85c8751d474cad\"}, \"mark\": {\"type\": \"text\", \"color\": \"black\", \"dx\": 0, \"dy\": 20}, \"encoding\": {\"text\": {\"field\": \"label\", \"type\": \"nominal\"}, \"x\": {\"axis\": {\"grid\": false, \"labels\": false, \"ticks\": false}, \"field\": \"x\", \"type\": \"quantitative\"}, \"y\": {\"axis\": {\"grid\": false, \"labels\": false, \"ticks\": false}, \"field\": \"y\", \"type\": \"quantitative\"}}, \"selection\": {\"selector005\": {\"type\": \"interval\", \"bind\": \"scales\", \"encodings\": [\"x\", \"y\"]}}}, {\"data\": {\"name\": \"data-e67f48240fd3630305b0ae5ff5267c8b\"}, \"mark\": {\"type\": \"line\", \"color\": \"black\", \"opacity\": 1.0}, \"encoding\": {\"color\": {\"field\": \"count\", \"legend\": null, \"type\": \"quantitative\"}, \"detail\": {\"field\": \"edge\", \"type\": \"quantitative\"}, \"size\": {\"field\": \"weight\", \"legend\": null, \"type\": \"nominal\"}, \"tooltip\": [{\"field\": \"count\", \"type\": \"quantitative\"}], \"x\": {\"axis\": {\"grid\": false, \"labels\": false, \"ticks\": false, \"title\": \"\"}, \"field\": \"x\", \"type\": \"quantitative\"}, \"y\": {\"axis\": {\"grid\": false, \"labels\": false, \"ticks\": false, \"title\": \"\"}, \"field\": \"y\", \"type\": \"quantitative\"}}}, {\"data\": {\"name\": \"data-1f8c5d46e37c95a66c85c8751d474cad\"}, \"mark\": \"circle\", \"encoding\": {\"color\": {\"field\": \"count\", \"type\": \"quantitative\"}, \"size\": {\"field\": \"count\", \"scale\": {\"range\": [30, 500]}, \"type\": \"quantitative\"}, \"tooltip\": [{\"field\": \"label\", \"type\": \"nominal\"}, {\"field\": \"count\", \"type\": \"quantitative\"}], \"x\": {\"axis\": {\"grid\": false, \"labels\": false, \"ticks\": false}, \"field\": \"x\", \"type\": \"quantitative\"}, \"y\": {\"axis\": {\"grid\": false, \"labels\": false, \"ticks\": false}, \"field\": \"y\", \"type\": \"quantitative\"}}}], \"height\": 500, \"title\": \"Rescue Volunteering Or Donation Effort\", \"width\": 500, \"$schema\": \"https://vega.github.io/schema/vega-lite/v4.17.0.json\", \"datasets\": {\"data-1f8c5d46e37c95a66c85c8751d474cad\": [{\"label\": \"Atlantic\", \"y\": 0.04960296830075622, \"count\": 42, \"x\": 0.6608874402760981}, {\"label\": \"Africa\", \"y\": 0.6132284391163427, \"count\": 42, \"x\": 0.25136039151072276}, {\"label\": \"Kentucky\", \"y\": -0.2148033457444684, \"count\": 400, \"x\": -0.30377024068119873}, {\"label\": \"Florida\", \"y\": -0.18864484911775273, \"count\": 346, \"x\": -1.0}, {\"label\": \"Louisiana\", \"y\": -0.2593832125548778, \"count\": 54, \"x\": 0.3915224088943777}], \"data-e67f48240fd3630305b0ae5ff5267c8b\": [{\"target\": \"Africa\", \"count\": 42, \"edge\": 0, \"y\": 0.04960296830075622, \"source\": \"Atlantic\", \"pair\": [\"Atlantic\", \"Africa\"], \"x\": 0.6608874402760981}, {\"target\": \"Africa\", \"count\": 42, \"edge\": 0, \"y\": 0.6132284391163427, \"source\": \"Atlantic\", \"pair\": [\"Atlantic\", \"Africa\"], \"x\": 0.25136039151072276}, {\"target\": \"Florida\", \"count\": 346, \"edge\": 1, \"y\": -0.2148033457444684, \"source\": \"Kentucky\", \"pair\": [\"Kentucky\", \"Florida\"], \"x\": -0.30377024068119873}, {\"target\": \"Florida\", \"count\": 346, \"edge\": 1, \"y\": -0.18864484911775273, \"source\": \"Kentucky\", \"pair\": [\"Kentucky\", \"Florida\"], \"x\": -1.0}, {\"target\": \"Louisiana\", \"count\": 54, \"edge\": 2, \"y\": -0.2148033457444684, \"source\": \"Kentucky\", \"pair\": [\"Kentucky\", \"Louisiana\"], \"x\": -0.30377024068119873}, {\"target\": \"Louisiana\", \"count\": 54, \"edge\": 2, \"y\": -0.2593832125548778, \"source\": \"Kentucky\", \"pair\": [\"Kentucky\", \"Louisiana\"], \"x\": 0.3915224088943777}]}}, {\"mode\": \"vega-lite\"});\n",
       "</script>"
      ],
      "text/plain": [
       "alt.LayerChart(...)"
      ]
     },
     "execution_count": 31,
     "metadata": {},
     "output_type": "execute_result"
    }
   ],
   "source": [
    "plot_disaster_mentions(df_loc_graph, 'rescue_volunteering_or_donation_effort',\n",
    "                       'Rescue Volunteering Or Donation Effort')"
   ]
  },
  {
   "cell_type": "markdown",
   "id": "6c4294de",
   "metadata": {
    "papermill": {
     "duration": 0.1562,
     "end_time": "2022-08-19T21:14:49.920351",
     "exception": false,
     "start_time": "2022-08-19T21:14:49.764151",
     "status": "completed"
    },
    "tags": []
   },
   "source": [
    "### Get the most frequent location pair"
   ]
  },
  {
   "cell_type": "code",
   "execution_count": 32,
   "id": "b15e395d",
   "metadata": {
    "execution": {
     "iopub.execute_input": "2022-08-19T21:14:50.233825Z",
     "iopub.status.busy": "2022-08-19T21:14:50.233508Z",
     "iopub.status.idle": "2022-08-19T21:14:50.239754Z",
     "shell.execute_reply": "2022-08-19T21:14:50.239201Z"
    },
    "papermill": {
     "duration": 0.16853,
     "end_time": "2022-08-19T21:14:50.241590",
     "exception": false,
     "start_time": "2022-08-19T21:14:50.073060",
     "status": "completed"
    },
    "tags": []
   },
   "outputs": [
    {
     "data": {
      "text/plain": [
       "[['Kentucky', 'Florida']]"
      ]
     },
     "execution_count": 32,
     "metadata": {},
     "output_type": "execute_result"
    }
   ],
   "source": [
    "loc_pairs = top_location_pairs(df_loc_graph, 'rescue_volunteering_or_donation_effort', top_pairs_count=1)\n",
    "loc_pairs"
   ]
  },
  {
   "cell_type": "markdown",
   "id": "7a2cd4c8",
   "metadata": {
    "papermill": {
     "duration": 0.154239,
     "end_time": "2022-08-19T21:14:50.548349",
     "exception": false,
     "start_time": "2022-08-19T21:14:50.394110",
     "status": "completed"
    },
    "tags": []
   },
   "source": [
    "### Show a sample for this location pair"
   ]
  },
  {
   "cell_type": "code",
   "execution_count": 33,
   "id": "1a8f2851",
   "metadata": {
    "execution": {
     "iopub.execute_input": "2022-08-19T21:14:50.863502Z",
     "iopub.status.busy": "2022-08-19T21:14:50.863194Z",
     "iopub.status.idle": "2022-08-19T21:14:50.954721Z",
     "shell.execute_reply": "2022-08-19T21:14:50.954076Z"
    },
    "papermill": {
     "duration": 0.251341,
     "end_time": "2022-08-19T21:14:50.956799",
     "exception": false,
     "start_time": "2022-08-19T21:14:50.705458",
     "status": "completed"
    },
    "tags": []
   },
   "outputs": [
    {
     "data": {
      "text/html": [
       "<div>\n",
       "<style scoped>\n",
       "    .dataframe tbody tr th:only-of-type {\n",
       "        vertical-align: middle;\n",
       "    }\n",
       "\n",
       "    .dataframe tbody tr th {\n",
       "        vertical-align: top;\n",
       "    }\n",
       "\n",
       "    .dataframe thead th {\n",
       "        text-align: right;\n",
       "    }\n",
       "</style>\n",
       "<table border=\"1\" class=\"dataframe\">\n",
       "  <thead>\n",
       "    <tr style=\"text-align: right;\">\n",
       "      <th></th>\n",
       "      <th>tweet_text</th>\n",
       "      <th>location</th>\n",
       "    </tr>\n",
       "  </thead>\n",
       "  <tbody>\n",
       "    <tr>\n",
       "      <th>0</th>\n",
       "      <td>RT @MAndersen66: @Acyn Radical social agenda:\\n\\nHelping flood victims in Kentucky.\\n\\nHelping hurricane victims in Florida.\\n\\nHelping storm vic…</td>\n",
       "      <td>[Kentucky, Florida]</td>\n",
       "    </tr>\n",
       "    <tr>\n",
       "      <th>1</th>\n",
       "      <td>@Acyn Radical social agenda:\\n\\nHelping flood victims in Kentucky.\\n\\nHelping hurricane victims in Florida.\\n\\nHelping storm victims in Nebraska.\\n\\nHelping landslide victims in Alaska.\\n\\nThat radical social agenda, Marsha?\\n\\nWhy don't YOU want to help people?</td>\n",
       "      <td>[Kentucky, Florida, Nebraska., Alaska]</td>\n",
       "    </tr>\n",
       "    <tr>\n",
       "      <th>2</th>\n",
       "      <td>RT @MAndersen66: @Acyn Radical social agenda:\\n\\nHelping flood victims in Kentucky.\\n\\nHelping hurricane victims in Florida.\\n\\nHelping storm vic…</td>\n",
       "      <td>[Kentucky, Florida]</td>\n",
       "    </tr>\n",
       "    <tr>\n",
       "      <th>3</th>\n",
       "      <td>RT @MAndersen66: @Acyn Radical social agenda:\\n\\nHelping flood victims in Kentucky.\\n\\nHelping hurricane victims in Florida.\\n\\nHelping storm vic…</td>\n",
       "      <td>[Kentucky, Florida]</td>\n",
       "    </tr>\n",
       "    <tr>\n",
       "      <th>4</th>\n",
       "      <td>RT @MAndersen66: @Acyn Radical social agenda:\\n\\nHelping flood victims in Kentucky.\\n\\nHelping hurricane victims in Florida.\\n\\nHelping storm vic…</td>\n",
       "      <td>[Kentucky, Florida]</td>\n",
       "    </tr>\n",
       "  </tbody>\n",
       "</table>\n",
       "</div>"
      ],
      "text/plain": [
       "                                                                                                                                                                                                                                                               tweet_text  \\\n",
       "0                                                                                                                      RT @MAndersen66: @Acyn Radical social agenda:\\n\\nHelping flood victims in Kentucky.\\n\\nHelping hurricane victims in Florida.\\n\\nHelping storm vic…   \n",
       "1  @Acyn Radical social agenda:\\n\\nHelping flood victims in Kentucky.\\n\\nHelping hurricane victims in Florida.\\n\\nHelping storm victims in Nebraska.\\n\\nHelping landslide victims in Alaska.\\n\\nThat radical social agenda, Marsha?\\n\\nWhy don't YOU want to help people?   \n",
       "2                                                                                                                      RT @MAndersen66: @Acyn Radical social agenda:\\n\\nHelping flood victims in Kentucky.\\n\\nHelping hurricane victims in Florida.\\n\\nHelping storm vic…   \n",
       "3                                                                                                                      RT @MAndersen66: @Acyn Radical social agenda:\\n\\nHelping flood victims in Kentucky.\\n\\nHelping hurricane victims in Florida.\\n\\nHelping storm vic…   \n",
       "4                                                                                                                      RT @MAndersen66: @Acyn Radical social agenda:\\n\\nHelping flood victims in Kentucky.\\n\\nHelping hurricane victims in Florida.\\n\\nHelping storm vic…   \n",
       "\n",
       "                                 location  \n",
       "0                     [Kentucky, Florida]  \n",
       "1  [Kentucky, Florida, Nebraska., Alaska]  \n",
       "2                     [Kentucky, Florida]  \n",
       "3                     [Kentucky, Florida]  \n",
       "4                     [Kentucky, Florida]  "
      ]
     },
     "execution_count": 33,
     "metadata": {},
     "output_type": "execute_result"
    }
   ],
   "source": [
    "show_tweets_locations(df_tweets, class_label='rescue_volunteering_or_donation_effort',\n",
    "                      locations=loc_pairs[0], sample=5)"
   ]
  },
  {
   "cell_type": "code",
   "execution_count": 34,
   "id": "76a89139",
   "metadata": {
    "execution": {
     "iopub.execute_input": "2022-08-19T21:14:51.271084Z",
     "iopub.status.busy": "2022-08-19T21:14:51.270750Z",
     "iopub.status.idle": "2022-08-19T21:14:51.276132Z",
     "shell.execute_reply": "2022-08-19T21:14:51.275377Z"
    },
    "papermill": {
     "duration": 0.166174,
     "end_time": "2022-08-19T21:14:51.278358",
     "exception": false,
     "start_time": "2022-08-19T21:14:51.112184",
     "status": "completed"
    },
    "tags": []
   },
   "outputs": [
    {
     "data": {
      "text/plain": [
       "'No records found for class requests_or_urgent_needs'"
      ]
     },
     "execution_count": 34,
     "metadata": {},
     "output_type": "execute_result"
    }
   ],
   "source": [
    "plot_disaster_mentions(df_loc_graph, 'requests_or_urgent_needs',\n",
    "                       'requests_or_urgent_needs')"
   ]
  },
  {
   "cell_type": "markdown",
   "id": "3fc25ca5",
   "metadata": {
    "papermill": {
     "duration": 0.155089,
     "end_time": "2022-08-19T21:14:51.644246",
     "exception": false,
     "start_time": "2022-08-19T21:14:51.489157",
     "status": "completed"
    },
    "tags": []
   },
   "source": [
    "### Get the most frequent location pair"
   ]
  },
  {
   "cell_type": "code",
   "execution_count": 35,
   "id": "a30b34a7",
   "metadata": {
    "execution": {
     "iopub.execute_input": "2022-08-19T21:14:51.955895Z",
     "iopub.status.busy": "2022-08-19T21:14:51.955581Z",
     "iopub.status.idle": "2022-08-19T21:14:51.961002Z",
     "shell.execute_reply": "2022-08-19T21:14:51.960326Z"
    },
    "papermill": {
     "duration": 0.16451,
     "end_time": "2022-08-19T21:14:51.963108",
     "exception": false,
     "start_time": "2022-08-19T21:14:51.798598",
     "status": "completed"
    },
    "tags": []
   },
   "outputs": [
    {
     "data": {
      "text/plain": [
       "[[]]"
      ]
     },
     "execution_count": 35,
     "metadata": {},
     "output_type": "execute_result"
    }
   ],
   "source": [
    "loc_pairs = top_location_pairs(df_loc_graph, 'requests_or_urgent_needs', top_pairs_count=1)\n",
    "loc_pairs"
   ]
  },
  {
   "cell_type": "markdown",
   "id": "f6e75d43",
   "metadata": {
    "papermill": {
     "duration": 0.155188,
     "end_time": "2022-08-19T21:14:52.274753",
     "exception": false,
     "start_time": "2022-08-19T21:14:52.119565",
     "status": "completed"
    },
    "tags": []
   },
   "source": [
    "### Show a sample for this location pair"
   ]
  },
  {
   "cell_type": "code",
   "execution_count": 36,
   "id": "ac20c84b",
   "metadata": {
    "execution": {
     "iopub.execute_input": "2022-08-19T21:14:52.585486Z",
     "iopub.status.busy": "2022-08-19T21:14:52.585156Z",
     "iopub.status.idle": "2022-08-19T21:14:52.589934Z",
     "shell.execute_reply": "2022-08-19T21:14:52.589276Z"
    },
    "papermill": {
     "duration": 0.162897,
     "end_time": "2022-08-19T21:14:52.591799",
     "exception": false,
     "start_time": "2022-08-19T21:14:52.428902",
     "status": "completed"
    },
    "tags": []
   },
   "outputs": [
    {
     "data": {
      "text/plain": [
       "'No location pairs provided'"
      ]
     },
     "execution_count": 36,
     "metadata": {},
     "output_type": "execute_result"
    }
   ],
   "source": [
    "show_tweets_locations(df_tweets, class_label='requests_or_urgent_needs',\n",
    "                      locations=loc_pairs[0], sample=5)"
   ]
  },
  {
   "cell_type": "code",
   "execution_count": 37,
   "id": "54d20053",
   "metadata": {
    "execution": {
     "iopub.execute_input": "2022-08-19T21:14:52.903177Z",
     "iopub.status.busy": "2022-08-19T21:14:52.902869Z",
     "iopub.status.idle": "2022-08-19T21:14:52.907928Z",
     "shell.execute_reply": "2022-08-19T21:14:52.907271Z"
    },
    "papermill": {
     "duration": 0.163095,
     "end_time": "2022-08-19T21:14:52.909835",
     "exception": false,
     "start_time": "2022-08-19T21:14:52.746740",
     "status": "completed"
    },
    "tags": []
   },
   "outputs": [
    {
     "data": {
      "text/plain": [
       "'No records found for class sympathy_and_support'"
      ]
     },
     "execution_count": 37,
     "metadata": {},
     "output_type": "execute_result"
    }
   ],
   "source": [
    "plot_disaster_mentions(df_loc_graph, 'sympathy_and_support',\n",
    "                       'sympathy_and_support')"
   ]
  },
  {
   "cell_type": "markdown",
   "id": "47f762e2",
   "metadata": {
    "papermill": {
     "duration": 0.162241,
     "end_time": "2022-08-19T21:14:53.229149",
     "exception": false,
     "start_time": "2022-08-19T21:14:53.066908",
     "status": "completed"
    },
    "tags": []
   },
   "source": [
    "### Get the most frequent location pair"
   ]
  },
  {
   "cell_type": "code",
   "execution_count": 38,
   "id": "6cf04a98",
   "metadata": {
    "execution": {
     "iopub.execute_input": "2022-08-19T21:14:53.542538Z",
     "iopub.status.busy": "2022-08-19T21:14:53.542230Z",
     "iopub.status.idle": "2022-08-19T21:14:53.547384Z",
     "shell.execute_reply": "2022-08-19T21:14:53.546814Z"
    },
    "papermill": {
     "duration": 0.163281,
     "end_time": "2022-08-19T21:14:53.549378",
     "exception": false,
     "start_time": "2022-08-19T21:14:53.386097",
     "status": "completed"
    },
    "tags": []
   },
   "outputs": [
    {
     "data": {
      "text/plain": [
       "[[]]"
      ]
     },
     "execution_count": 38,
     "metadata": {},
     "output_type": "execute_result"
    }
   ],
   "source": [
    "loc_pairs = top_location_pairs(df_loc_graph, 'sympathy_and_support', top_pairs_count=1)\n",
    "loc_pairs"
   ]
  },
  {
   "cell_type": "markdown",
   "id": "7eb78ccb",
   "metadata": {
    "papermill": {
     "duration": 0.210265,
     "end_time": "2022-08-19T21:14:53.915673",
     "exception": false,
     "start_time": "2022-08-19T21:14:53.705408",
     "status": "completed"
    },
    "tags": []
   },
   "source": [
    "### Show a sample for this location pair"
   ]
  },
  {
   "cell_type": "code",
   "execution_count": 39,
   "id": "27cc7830",
   "metadata": {
    "execution": {
     "iopub.execute_input": "2022-08-19T21:14:54.226409Z",
     "iopub.status.busy": "2022-08-19T21:14:54.226082Z",
     "iopub.status.idle": "2022-08-19T21:14:54.231038Z",
     "shell.execute_reply": "2022-08-19T21:14:54.230286Z"
    },
    "papermill": {
     "duration": 0.162672,
     "end_time": "2022-08-19T21:14:54.232996",
     "exception": false,
     "start_time": "2022-08-19T21:14:54.070324",
     "status": "completed"
    },
    "tags": []
   },
   "outputs": [
    {
     "data": {
      "text/plain": [
       "'No location pairs provided'"
      ]
     },
     "execution_count": 39,
     "metadata": {},
     "output_type": "execute_result"
    }
   ],
   "source": [
    "show_tweets_locations(df_tweets, class_label='sympathy_and_support',\n",
    "                      locations=loc_pairs[0], sample=5)"
   ]
  },
  {
   "cell_type": "code",
   "execution_count": 40,
   "id": "438a6f82",
   "metadata": {
    "execution": {
     "iopub.execute_input": "2022-08-19T21:14:54.545547Z",
     "iopub.status.busy": "2022-08-19T21:14:54.545239Z",
     "iopub.status.idle": "2022-08-19T21:14:54.685830Z",
     "shell.execute_reply": "2022-08-19T21:14:54.684892Z"
    },
    "papermill": {
     "duration": 0.300473,
     "end_time": "2022-08-19T21:14:54.687884",
     "exception": false,
     "start_time": "2022-08-19T21:14:54.387411",
     "status": "completed"
    },
    "tags": []
   },
   "outputs": [
    {
     "data": {
      "text/html": [
       "\n",
       "<div id=\"altair-viz-9829cc548b8e44b69e939ad757d96dd2\"></div>\n",
       "<script type=\"text/javascript\">\n",
       "  var VEGA_DEBUG = (typeof VEGA_DEBUG == \"undefined\") ? {} : VEGA_DEBUG;\n",
       "  (function(spec, embedOpt){\n",
       "    let outputDiv = document.currentScript.previousElementSibling;\n",
       "    if (outputDiv.id !== \"altair-viz-9829cc548b8e44b69e939ad757d96dd2\") {\n",
       "      outputDiv = document.getElementById(\"altair-viz-9829cc548b8e44b69e939ad757d96dd2\");\n",
       "    }\n",
       "    const paths = {\n",
       "      \"vega\": \"https://cdn.jsdelivr.net/npm//vega@5?noext\",\n",
       "      \"vega-lib\": \"https://cdn.jsdelivr.net/npm//vega-lib?noext\",\n",
       "      \"vega-lite\": \"https://cdn.jsdelivr.net/npm//vega-lite@4.17.0?noext\",\n",
       "      \"vega-embed\": \"https://cdn.jsdelivr.net/npm//vega-embed@6?noext\",\n",
       "    };\n",
       "\n",
       "    function maybeLoadScript(lib, version) {\n",
       "      var key = `${lib.replace(\"-\", \"\")}_version`;\n",
       "      return (VEGA_DEBUG[key] == version) ?\n",
       "        Promise.resolve(paths[lib]) :\n",
       "        new Promise(function(resolve, reject) {\n",
       "          var s = document.createElement('script');\n",
       "          document.getElementsByTagName(\"head\")[0].appendChild(s);\n",
       "          s.async = true;\n",
       "          s.onload = () => {\n",
       "            VEGA_DEBUG[key] = version;\n",
       "            return resolve(paths[lib]);\n",
       "          };\n",
       "          s.onerror = () => reject(`Error loading script: ${paths[lib]}`);\n",
       "          s.src = paths[lib];\n",
       "        });\n",
       "    }\n",
       "\n",
       "    function showError(err) {\n",
       "      outputDiv.innerHTML = `<div class=\"error\" style=\"color:red;\">${err}</div>`;\n",
       "      throw err;\n",
       "    }\n",
       "\n",
       "    function displayChart(vegaEmbed) {\n",
       "      vegaEmbed(outputDiv, spec, embedOpt)\n",
       "        .catch(err => showError(`Javascript Error: ${err.message}<br>This usually means there's a typo in your chart specification. See the javascript console for the full traceback.`));\n",
       "    }\n",
       "\n",
       "    if(typeof define === \"function\" && define.amd) {\n",
       "      requirejs.config({paths});\n",
       "      require([\"vega-embed\"], displayChart, err => showError(`Error loading script: ${err.message}`));\n",
       "    } else {\n",
       "      maybeLoadScript(\"vega\", \"5\")\n",
       "        .then(() => maybeLoadScript(\"vega-lite\", \"4.17.0\"))\n",
       "        .then(() => maybeLoadScript(\"vega-embed\", \"6\"))\n",
       "        .catch(showError)\n",
       "        .then(() => displayChart(vegaEmbed));\n",
       "    }\n",
       "  })({\"config\": {\"view\": {\"continuousWidth\": 400, \"continuousHeight\": 300}}, \"layer\": [{\"data\": {\"name\": \"data-d213f5812723b7153fd795fc6024001b\"}, \"mark\": {\"type\": \"text\", \"color\": \"black\", \"dx\": 0, \"dy\": 20}, \"encoding\": {\"text\": {\"field\": \"label\", \"type\": \"nominal\"}, \"x\": {\"axis\": {\"grid\": false, \"labels\": false, \"ticks\": false}, \"field\": \"x\", \"type\": \"quantitative\"}, \"y\": {\"axis\": {\"grid\": false, \"labels\": false, \"ticks\": false}, \"field\": \"y\", \"type\": \"quantitative\"}}, \"selection\": {\"selector006\": {\"type\": \"interval\", \"bind\": \"scales\", \"encodings\": [\"x\", \"y\"]}}}, {\"data\": {\"name\": \"data-9d7b7fa21376cbab693c1e00a63e0810\"}, \"mark\": {\"type\": \"line\", \"color\": \"black\", \"opacity\": 1.0}, \"encoding\": {\"color\": {\"field\": \"count\", \"legend\": null, \"type\": \"quantitative\"}, \"detail\": {\"field\": \"edge\", \"type\": \"quantitative\"}, \"size\": {\"field\": \"weight\", \"legend\": null, \"type\": \"nominal\"}, \"tooltip\": [{\"field\": \"count\", \"type\": \"quantitative\"}], \"x\": {\"axis\": {\"grid\": false, \"labels\": false, \"ticks\": false, \"title\": \"\"}, \"field\": \"x\", \"type\": \"quantitative\"}, \"y\": {\"axis\": {\"grid\": false, \"labels\": false, \"ticks\": false, \"title\": \"\"}, \"field\": \"y\", \"type\": \"quantitative\"}}}, {\"data\": {\"name\": \"data-d213f5812723b7153fd795fc6024001b\"}, \"mark\": \"circle\", \"encoding\": {\"color\": {\"field\": \"count\", \"type\": \"quantitative\"}, \"size\": {\"field\": \"count\", \"scale\": {\"range\": [30, 500]}, \"type\": \"quantitative\"}, \"tooltip\": [{\"field\": \"label\", \"type\": \"nominal\"}, {\"field\": \"count\", \"type\": \"quantitative\"}], \"x\": {\"axis\": {\"grid\": false, \"labels\": false, \"ticks\": false}, \"field\": \"x\", \"type\": \"quantitative\"}, \"y\": {\"axis\": {\"grid\": false, \"labels\": false, \"ticks\": false}, \"field\": \"y\", \"type\": \"quantitative\"}}}], \"height\": 500, \"title\": \"infrastructure_and_utility_damage\", \"width\": 500, \"$schema\": \"https://vega.github.io/schema/vega-lite/v4.17.0.json\", \"datasets\": {\"data-d213f5812723b7153fd795fc6024001b\": [{\"label\": \"Texas\", \"y\": 0.3322679241088379, \"count\": 118, \"x\": 0.11123133336472853}, {\"label\": \"Louisiana\", \"y\": 1.0, \"count\": 30, \"x\": 0.32389635729033495}, {\"label\": \"US\", \"y\": -0.3322681637465614, \"count\": 129, \"x\": -0.11123018438251142}, {\"label\": \"Ocean Isle Beach\", \"y\": -0.9999997603622764, \"count\": 41, \"x\": -0.32389750627255204}], \"data-9d7b7fa21376cbab693c1e00a63e0810\": [{\"target\": \"Louisiana\", \"count\": 30, \"edge\": 0, \"y\": 0.3322679241088379, \"source\": \"Texas\", \"pair\": [\"Texas\", \"Louisiana\"], \"x\": 0.11123133336472853}, {\"target\": \"Louisiana\", \"count\": 30, \"edge\": 0, \"y\": 1.0, \"source\": \"Texas\", \"pair\": [\"Texas\", \"Louisiana\"], \"x\": 0.32389635729033495}, {\"target\": \"US\", \"count\": 88, \"edge\": 1, \"y\": 0.3322679241088379, \"source\": \"Texas\", \"pair\": [\"Texas\", \"US\"], \"x\": 0.11123133336472853}, {\"target\": \"US\", \"count\": 88, \"edge\": 1, \"y\": -0.3322681637465614, \"source\": \"Texas\", \"pair\": [\"Texas\", \"US\"], \"x\": -0.11123018438251142}, {\"target\": \"Ocean Isle Beach\", \"count\": 41, \"edge\": 2, \"y\": -0.3322681637465614, \"source\": \"US\", \"pair\": [\"US\", \"Ocean Isle Beach\"], \"x\": -0.11123018438251142}, {\"target\": \"Ocean Isle Beach\", \"count\": 41, \"edge\": 2, \"y\": -0.9999997603622764, \"source\": \"US\", \"pair\": [\"US\", \"Ocean Isle Beach\"], \"x\": -0.32389750627255204}]}}, {\"mode\": \"vega-lite\"});\n",
       "</script>"
      ],
      "text/plain": [
       "alt.LayerChart(...)"
      ]
     },
     "execution_count": 40,
     "metadata": {},
     "output_type": "execute_result"
    }
   ],
   "source": [
    "plot_disaster_mentions(df_loc_graph, 'infrastructure_and_utility_damage',\n",
    "                       'infrastructure_and_utility_damage')"
   ]
  },
  {
   "cell_type": "markdown",
   "id": "e04b1c1a",
   "metadata": {
    "papermill": {
     "duration": 0.159103,
     "end_time": "2022-08-19T21:14:55.006128",
     "exception": false,
     "start_time": "2022-08-19T21:14:54.847025",
     "status": "completed"
    },
    "tags": []
   },
   "source": [
    "### Get the most frequent location pair"
   ]
  },
  {
   "cell_type": "code",
   "execution_count": 41,
   "id": "9f2aed76",
   "metadata": {
    "execution": {
     "iopub.execute_input": "2022-08-19T21:14:55.325838Z",
     "iopub.status.busy": "2022-08-19T21:14:55.325512Z",
     "iopub.status.idle": "2022-08-19T21:14:55.332104Z",
     "shell.execute_reply": "2022-08-19T21:14:55.331219Z"
    },
    "papermill": {
     "duration": 0.168909,
     "end_time": "2022-08-19T21:14:55.334205",
     "exception": false,
     "start_time": "2022-08-19T21:14:55.165296",
     "status": "completed"
    },
    "tags": []
   },
   "outputs": [
    {
     "data": {
      "text/plain": [
       "[['US', 'Texas']]"
      ]
     },
     "execution_count": 41,
     "metadata": {},
     "output_type": "execute_result"
    }
   ],
   "source": [
    "loc_pairs = top_location_pairs(df_loc_graph, 'infrastructure_and_utility_damage', top_pairs_count=1)\n",
    "loc_pairs"
   ]
  },
  {
   "cell_type": "markdown",
   "id": "7613a7b4",
   "metadata": {
    "papermill": {
     "duration": 0.159713,
     "end_time": "2022-08-19T21:14:55.654406",
     "exception": false,
     "start_time": "2022-08-19T21:14:55.494693",
     "status": "completed"
    },
    "tags": []
   },
   "source": [
    "### Show a sample for this location pair"
   ]
  },
  {
   "cell_type": "code",
   "execution_count": 42,
   "id": "9f831403",
   "metadata": {
    "execution": {
     "iopub.execute_input": "2022-08-19T21:14:55.979998Z",
     "iopub.status.busy": "2022-08-19T21:14:55.979674Z",
     "iopub.status.idle": "2022-08-19T21:14:56.117381Z",
     "shell.execute_reply": "2022-08-19T21:14:56.116709Z"
    },
    "papermill": {
     "duration": 0.303562,
     "end_time": "2022-08-19T21:14:56.119591",
     "exception": false,
     "start_time": "2022-08-19T21:14:55.816029",
     "status": "completed"
    },
    "tags": []
   },
   "outputs": [
    {
     "data": {
      "text/html": [
       "<div>\n",
       "<style scoped>\n",
       "    .dataframe tbody tr th:only-of-type {\n",
       "        vertical-align: middle;\n",
       "    }\n",
       "\n",
       "    .dataframe tbody tr th {\n",
       "        vertical-align: top;\n",
       "    }\n",
       "\n",
       "    .dataframe thead th {\n",
       "        text-align: right;\n",
       "    }\n",
       "</style>\n",
       "<table border=\"1\" class=\"dataframe\">\n",
       "  <thead>\n",
       "    <tr style=\"text-align: right;\">\n",
       "      <th></th>\n",
       "      <th>tweet_text</th>\n",
       "      <th>location</th>\n",
       "    </tr>\n",
       "  </thead>\n",
       "  <tbody>\n",
       "    <tr>\n",
       "      <th>0</th>\n",
       "      <td>@SenJoniErnst @SenTedCruz demanded aid for Texas after the Texas Power Grid Collapse, but attacked giving aid to New England after Superstorm Sandy,\\nwhich did $65 BILLION in damage/killed 285 AMERICANS or Puerto Rico after Hurricane Maria did $90 BILLION in damage/killed 4,6...</td>\n",
       "      <td>[Texas, New England, Puerto Rico, US]</td>\n",
       "    </tr>\n",
       "    <tr>\n",
       "      <th>1</th>\n",
       "      <td>@SenJoniErnst @SenTedCruz demanded aid for Texas after the Texas Power Grid Collapse, but attacked giving aid to New England after Superstorm Sandy,\\nwhich did $65 BILLION in damage/killed 285 AMERICANS or Puerto Rico after Hurricane Maria did $90 BILLION in damage/killed 4,6...</td>\n",
       "      <td>[Texas, New England, Puerto Rico, US]</td>\n",
       "    </tr>\n",
       "    <tr>\n",
       "      <th>2</th>\n",
       "      <td>@SenJoniErnst @SenTedCruz demanded aid for Texas after the Texas Power Grid Collapse, but attacked giving aid to New England after Superstorm Sandy,\\nwhich did $65 BILLION in damage/killed 285 AMERICANS or Puerto Rico after Hurricane Maria did $90 BILLION in damage/killed 4,6...</td>\n",
       "      <td>[Texas, New England, Puerto Rico, US]</td>\n",
       "    </tr>\n",
       "    <tr>\n",
       "      <th>3</th>\n",
       "      <td>@tedcruz @SenTedCruz demanded aid for Texas after the Texas Power Grid Collapse, but attacked giving aid to New England after Superstorm Sandy,\\nwhich did $65 BILLION in damage/killed 285 AMERICANS or Puerto Rico after Hurricane Maria did $90 BILLION in damage/killed 4,645 of...</td>\n",
       "      <td>[Texas, New England, Puerto Rico, US]</td>\n",
       "    </tr>\n",
       "    <tr>\n",
       "      <th>4</th>\n",
       "      <td>@tedcruz @SenTedCruz demanded aid for Texas after the Texas Power Grid Collapse, but attacked giving aid to New England after Superstorm Sandy,\\nwhich did $65 BILLION in damage/killed 285 AMERICANS or Puerto Rico after Hurricane Maria did $90 BILLION in damage/killed 4,645 of...</td>\n",
       "      <td>[Texas, New England, Puerto Rico, US]</td>\n",
       "    </tr>\n",
       "  </tbody>\n",
       "</table>\n",
       "</div>"
      ],
      "text/plain": [
       "                                                                                                                                                                                                                                                                                tweet_text  \\\n",
       "0  @SenJoniErnst @SenTedCruz demanded aid for Texas after the Texas Power Grid Collapse, but attacked giving aid to New England after Superstorm Sandy,\\nwhich did $65 BILLION in damage/killed 285 AMERICANS or Puerto Rico after Hurricane Maria did $90 BILLION in damage/killed 4,6...   \n",
       "1  @SenJoniErnst @SenTedCruz demanded aid for Texas after the Texas Power Grid Collapse, but attacked giving aid to New England after Superstorm Sandy,\\nwhich did $65 BILLION in damage/killed 285 AMERICANS or Puerto Rico after Hurricane Maria did $90 BILLION in damage/killed 4,6...   \n",
       "2  @SenJoniErnst @SenTedCruz demanded aid for Texas after the Texas Power Grid Collapse, but attacked giving aid to New England after Superstorm Sandy,\\nwhich did $65 BILLION in damage/killed 285 AMERICANS or Puerto Rico after Hurricane Maria did $90 BILLION in damage/killed 4,6...   \n",
       "3  @tedcruz @SenTedCruz demanded aid for Texas after the Texas Power Grid Collapse, but attacked giving aid to New England after Superstorm Sandy,\\nwhich did $65 BILLION in damage/killed 285 AMERICANS or Puerto Rico after Hurricane Maria did $90 BILLION in damage/killed 4,645 of...   \n",
       "4  @tedcruz @SenTedCruz demanded aid for Texas after the Texas Power Grid Collapse, but attacked giving aid to New England after Superstorm Sandy,\\nwhich did $65 BILLION in damage/killed 285 AMERICANS or Puerto Rico after Hurricane Maria did $90 BILLION in damage/killed 4,645 of...   \n",
       "\n",
       "                                location  \n",
       "0  [Texas, New England, Puerto Rico, US]  \n",
       "1  [Texas, New England, Puerto Rico, US]  \n",
       "2  [Texas, New England, Puerto Rico, US]  \n",
       "3  [Texas, New England, Puerto Rico, US]  \n",
       "4  [Texas, New England, Puerto Rico, US]  "
      ]
     },
     "execution_count": 42,
     "metadata": {},
     "output_type": "execute_result"
    }
   ],
   "source": [
    "show_tweets_locations(df_tweets, class_label='infrastructure_and_utility_damage',\n",
    "                      locations=loc_pairs[0], sample=5)"
   ]
  },
  {
   "cell_type": "code",
   "execution_count": null,
   "id": "4feb5e9b",
   "metadata": {
    "papermill": {
     "duration": 0.161101,
     "end_time": "2022-08-19T21:14:56.442812",
     "exception": false,
     "start_time": "2022-08-19T21:14:56.281711",
     "status": "completed"
    },
    "tags": []
   },
   "outputs": [],
   "source": []
  }
 ],
 "metadata": {
  "jupytext": {
   "cell_metadata_filter": "tags,-all",
   "main_language": "python",
   "notebook_metadata_filter": "-all",
   "text_representation": {
    "extension": ".py",
    "format_name": "light"
   }
  },
  "kernelspec": {
   "display_name": "Python 3 (ipykernel)",
   "language": "python",
   "name": "python3"
  },
  "language_info": {
   "codemirror_mode": {
    "name": "ipython",
    "version": 3
   },
   "file_extension": ".py",
   "mimetype": "text/x-python",
   "name": "python",
   "nbconvert_exporter": "python",
   "pygments_lexer": "ipython3",
   "version": "3.9.12"
  },
  "papermill": {
   "duration": 402.083784,
   "end_time": "2022-08-19T21:14:59.224499",
   "exception": null,
   "input_path": "/var/folders/lw/k7hqg3bn7s326rs6jxn046b40000gp/T/tmpawcbbb5a.ipynb",
   "output_path": "/Users/mboussarov/_umsi/Capstone/umads_697_data_medics/pipeline/output/tweets_timeline_hurricane.ipynb",
   "parameters": {
    "disaster_kind": "recent_tweets_hurricane",
    "product": {
     "nb": "/Users/mboussarov/_umsi/Capstone/umads_697_data_medics/pipeline/output/tweets_timeline_hurricane.ipynb"
    },
    "random_seed": 42,
    "upstream": {
     "category_classification_models": {
      "model_lr": "/Users/mboussarov/_umsi/Capstone/umads_697_data_medics/pipeline/output/model_lr.pkl",
      "model_nb": "/Users/mboussarov/_umsi/Capstone/umads_697_data_medics/pipeline/output/model_nb.csv",
      "model_rf": "/Users/mboussarov/_umsi/Capstone/umads_697_data_medics/pipeline/output/model_rf.pkl",
      "model_votingc": "/Users/mboussarov/_umsi/Capstone/umads_697_data_medics/pipeline/output/model_votingc.csv",
      "nb": "/Users/mboussarov/_umsi/Capstone/umads_697_data_medics/pipeline/output/category_classification_models.ipynb"
     },
     "recent_tweets_earthquake": {
      "file": "/Users/mboussarov/_umsi/Capstone/umads_697_data_medics/pipeline/output/recent_tweets_earthquake.csv",
      "nb": "/Users/mboussarov/_umsi/Capstone/umads_697_data_medics/pipeline/output/recent_tweets_earthquake.ipynb"
     },
     "recent_tweets_flood": {
      "file": "/Users/mboussarov/_umsi/Capstone/umads_697_data_medics/pipeline/output/recent_tweets_flood.csv",
      "nb": "/Users/mboussarov/_umsi/Capstone/umads_697_data_medics/pipeline/output/recent_tweets_flood.ipynb"
     },
     "recent_tweets_hurricane": {
      "file": "/Users/mboussarov/_umsi/Capstone/umads_697_data_medics/pipeline/output/recent_tweets_hurricane.csv",
      "nb": "/Users/mboussarov/_umsi/Capstone/umads_697_data_medics/pipeline/output/recent_tweets_hurricane.ipynb"
     },
     "recent_tweets_wildfire": {
      "file": "/Users/mboussarov/_umsi/Capstone/umads_697_data_medics/pipeline/output/recent_tweets_wildfire.csv",
      "nb": "/Users/mboussarov/_umsi/Capstone/umads_697_data_medics/pipeline/output/recent_tweets_wildfire.ipynb"
     },
     "vectorizer": {
      "nb": "/Users/mboussarov/_umsi/Capstone/umads_697_data_medics/pipeline/output/vectorizer.ipynb",
      "vectorizer": "/Users/mboussarov/_umsi/Capstone/umads_697_data_medics/pipeline/output/vectorizer.pkl",
      "vocab": "/Users/mboussarov/_umsi/Capstone/umads_697_data_medics/pipeline/output/vocab.pkl"
     }
    }
   },
   "start_time": "2022-08-19T21:08:17.140715"
  }
 },
 "nbformat": 4,
 "nbformat_minor": 5
}