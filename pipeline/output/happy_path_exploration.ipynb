{
 "cells": [
  {
   "cell_type": "code",
   "execution_count": 1,
   "id": "97fa2b56",
   "metadata": {
    "execution": {
     "iopub.execute_input": "2022-07-05T06:06:36.410227Z",
     "iopub.status.busy": "2022-07-05T06:06:36.409840Z",
     "iopub.status.idle": "2022-07-05T06:06:38.374652Z",
     "shell.execute_reply": "2022-07-05T06:06:38.373987Z"
    },
    "papermill": {
     "duration": 1.984904,
     "end_time": "2022-07-05T06:06:38.377079",
     "exception": false,
     "start_time": "2022-07-05T06:06:36.392175",
     "status": "completed"
    },
    "tags": []
   },
   "outputs": [],
   "source": [
    "import pandas as pd\n",
    "import numpy as np\n",
    "import re\n",
    "\n",
    "# NLP Imports\n",
    "import seaborn as sns\n",
    "import matplotlib.pyplot as plt\n",
    "from collections import Counter, defaultdict\n",
    "\n",
    "from sklearn.dummy import DummyClassifier\n",
    "from sklearn.feature_extraction.text import TfidfVectorizer\n",
    "from sklearn.linear_model import LogisticRegression\n",
    "from sklearn.metrics import f1_score\n",
    "from sklearn.model_selection import train_test_split \n",
    "from tqdm import tqdm # Used to show a progress bar"
   ]
  },
  {
   "cell_type": "code",
   "execution_count": 2,
   "id": "651733a1",
   "metadata": {
    "execution": {
     "iopub.execute_input": "2022-07-05T06:06:38.403311Z",
     "iopub.status.busy": "2022-07-05T06:06:38.402861Z",
     "iopub.status.idle": "2022-07-05T06:06:38.406215Z",
     "shell.execute_reply": "2022-07-05T06:06:38.405718Z"
    },
    "papermill": {
     "duration": 0.016277,
     "end_time": "2022-07-05T06:06:38.408276",
     "exception": false,
     "start_time": "2022-07-05T06:06:38.391999",
     "status": "completed"
    },
    "tags": [
     "parameters"
    ]
   },
   "outputs": [],
   "source": [
    "upstream = []\n",
    "lookback_days = None\n",
    "random_seed = None"
   ]
  },
  {
   "cell_type": "code",
   "execution_count": 3,
   "id": "49ac4752",
   "metadata": {
    "execution": {
     "iopub.execute_input": "2022-07-05T06:06:38.428497Z",
     "iopub.status.busy": "2022-07-05T06:06:38.428201Z",
     "iopub.status.idle": "2022-07-05T06:06:38.431680Z",
     "shell.execute_reply": "2022-07-05T06:06:38.431133Z"
    },
    "papermill": {
     "duration": 0.015699,
     "end_time": "2022-07-05T06:06:38.433951",
     "exception": false,
     "start_time": "2022-07-05T06:06:38.418252",
     "status": "completed"
    },
    "tags": [
     "injected-parameters"
    ]
   },
   "outputs": [],
   "source": [
    "# Parameters\n",
    "lookback_days = 10\n",
    "product = {\n",
    "    \"nb\": \"/Users/mboussarov/_umsi/Capstone/umads_697_data_medics/pipeline/output/happy_path_exploration.ipynb\"\n",
    "}\n"
   ]
  },
  {
   "cell_type": "markdown",
   "id": "eb639583",
   "metadata": {
    "papermill": {
     "duration": 0.008955,
     "end_time": "2022-07-05T06:06:38.452559",
     "exception": false,
     "start_time": "2022-07-05T06:06:38.443604",
     "status": "completed"
    },
    "tags": []
   },
   "source": [
    "## Read the train, dev and test data, do a very basic exploration"
   ]
  },
  {
   "cell_type": "code",
   "execution_count": 4,
   "id": "1c1f65b4",
   "metadata": {
    "execution": {
     "iopub.execute_input": "2022-07-05T06:06:38.471136Z",
     "iopub.status.busy": "2022-07-05T06:06:38.470809Z",
     "iopub.status.idle": "2022-07-05T06:06:38.738871Z",
     "shell.execute_reply": "2022-07-05T06:06:38.738201Z"
    },
    "lines_to_next_cell": 0,
    "papermill": {
     "duration": 0.28014,
     "end_time": "2022-07-05T06:06:38.741303",
     "exception": false,
     "start_time": "2022-07-05T06:06:38.461163",
     "status": "completed"
    },
    "tags": []
   },
   "outputs": [
    {
     "data": {
      "text/html": [
       "<div>\n",
       "<style scoped>\n",
       "    .dataframe tbody tr th:only-of-type {\n",
       "        vertical-align: middle;\n",
       "    }\n",
       "\n",
       "    .dataframe tbody tr th {\n",
       "        vertical-align: top;\n",
       "    }\n",
       "\n",
       "    .dataframe thead th {\n",
       "        text-align: right;\n",
       "    }\n",
       "</style>\n",
       "<table border=\"1\" class=\"dataframe\">\n",
       "  <thead>\n",
       "    <tr style=\"text-align: right;\">\n",
       "      <th></th>\n",
       "      <th>tweet_id</th>\n",
       "      <th>tweet_text</th>\n",
       "      <th>class_label</th>\n",
       "    </tr>\n",
       "  </thead>\n",
       "  <tbody>\n",
       "    <tr>\n",
       "      <th>0</th>\n",
       "      <td>1034712711223885825</td>\n",
       "      <td>RT @Forumkeralam1: #Google to contribute 1 mil...</td>\n",
       "      <td>rescue_volunteering_or_donation_effort</td>\n",
       "    </tr>\n",
       "    <tr>\n",
       "      <th>1</th>\n",
       "      <td>1031576019675705345</td>\n",
       "      <td>#KeralaFloods: How a WhatsApp group started by...</td>\n",
       "      <td>rescue_volunteering_or_donation_effort</td>\n",
       "    </tr>\n",
       "    <tr>\n",
       "      <th>2</th>\n",
       "      <td>1031253304288849920</td>\n",
       "      <td>#KeralaFloods Coz humanity matters. #KeralaSOS...</td>\n",
       "      <td>other_relevant_information</td>\n",
       "    </tr>\n",
       "    <tr>\n",
       "      <th>3</th>\n",
       "      <td>1032523376638808064</td>\n",
       "      <td>#KeralaFloods: @SrBachchan donates Rs 51 lakhs...</td>\n",
       "      <td>rescue_volunteering_or_donation_effort</td>\n",
       "    </tr>\n",
       "    <tr>\n",
       "      <th>4</th>\n",
       "      <td>1032287088190808064</td>\n",
       "      <td>#KeralaFloodRelief #KeralaFloods Guntur Divisi...</td>\n",
       "      <td>rescue_volunteering_or_donation_effort</td>\n",
       "    </tr>\n",
       "  </tbody>\n",
       "</table>\n",
       "</div>"
      ],
      "text/plain": [
       "              tweet_id                                         tweet_text  \\\n",
       "0  1034712711223885825  RT @Forumkeralam1: #Google to contribute 1 mil...   \n",
       "1  1031576019675705345  #KeralaFloods: How a WhatsApp group started by...   \n",
       "2  1031253304288849920  #KeralaFloods Coz humanity matters. #KeralaSOS...   \n",
       "3  1032523376638808064  #KeralaFloods: @SrBachchan donates Rs 51 lakhs...   \n",
       "4  1032287088190808064  #KeralaFloodRelief #KeralaFloods Guntur Divisi...   \n",
       "\n",
       "                              class_label  \n",
       "0  rescue_volunteering_or_donation_effort  \n",
       "1  rescue_volunteering_or_donation_effort  \n",
       "2              other_relevant_information  \n",
       "3  rescue_volunteering_or_donation_effort  \n",
       "4  rescue_volunteering_or_donation_effort  "
      ]
     },
     "execution_count": 4,
     "metadata": {},
     "output_type": "execute_result"
    }
   ],
   "source": [
    "df_dev = pd.read_csv('../data/HumAID_data_v1.0/all_combined/all_dev.tsv', sep='\\t')\n",
    "df_train = pd.read_csv('../data/HumAID_data_v1.0/all_combined/all_train.tsv', sep='\\t')\n",
    "df_test = pd.read_csv('../data/HumAID_data_v1.0/all_combined/all_test.tsv', sep='\\t')\n",
    "\n",
    "df_all = pd.concat([df_dev, df_train, df_test])\n",
    "\n",
    "df_dev.dropna(inplace=True)\n",
    "df_train.dropna(inplace=True)\n",
    "df_test.dropna(inplace=True)\n",
    "\n",
    "df_all.dropna(inplace=True)\n",
    "\n",
    "df_dev.head()"
   ]
  },
  {
   "cell_type": "code",
   "execution_count": 5,
   "id": "0ccf5a3e",
   "metadata": {
    "execution": {
     "iopub.execute_input": "2022-07-05T06:06:38.764343Z",
     "iopub.status.busy": "2022-07-05T06:06:38.764058Z",
     "iopub.status.idle": "2022-07-05T06:06:38.777269Z",
     "shell.execute_reply": "2022-07-05T06:06:38.776436Z"
    },
    "lines_to_next_cell": 2,
    "papermill": {
     "duration": 0.026884,
     "end_time": "2022-07-05T06:06:38.779256",
     "exception": false,
     "start_time": "2022-07-05T06:06:38.752372",
     "status": "completed"
    },
    "tags": []
   },
   "outputs": [
    {
     "name": "stdout",
     "output_type": "stream",
     "text": [
      "Dev rows: 7791\n",
      "Train rows: 53516\n",
      "Test rows: 15159\n",
      "All rows: 76466\n"
     ]
    },
    {
     "data": {
      "text/plain": [
       "10"
      ]
     },
     "execution_count": 5,
     "metadata": {},
     "output_type": "execute_result"
    }
   ],
   "source": [
    "# Show the number of rows in the dev set\n",
    "print(\"Dev rows:\", df_dev.shape[0])\n",
    "print(\"Train rows:\", df_train.shape[0])\n",
    "print(\"Test rows:\", df_test.shape[0])\n",
    "print(\"All rows:\", df_all.shape[0])\n",
    "# Show the number of labels/categories\n",
    "len(set(df_all['class_label']))"
   ]
  },
  {
   "cell_type": "code",
   "execution_count": 6,
   "id": "82161d82",
   "metadata": {
    "execution": {
     "iopub.execute_input": "2022-07-05T06:06:38.799767Z",
     "iopub.status.busy": "2022-07-05T06:06:38.799512Z",
     "iopub.status.idle": "2022-07-05T06:06:38.807209Z",
     "shell.execute_reply": "2022-07-05T06:06:38.806704Z"
    },
    "papermill": {
     "duration": 0.020594,
     "end_time": "2022-07-05T06:06:38.809339",
     "exception": false,
     "start_time": "2022-07-05T06:06:38.788745",
     "status": "completed"
    },
    "tags": []
   },
   "outputs": [
    {
     "data": {
      "text/plain": [
       "['rescue_volunteering_or_donation_effort',\n",
       " 'other_relevant_information',\n",
       " 'requests_or_urgent_needs',\n",
       " 'injured_or_dead_people',\n",
       " 'infrastructure_and_utility_damage',\n",
       " 'sympathy_and_support',\n",
       " 'caution_and_advice',\n",
       " 'not_humanitarian',\n",
       " 'displaced_people_and_evacuations',\n",
       " 'missing_or_found_people']"
      ]
     },
     "execution_count": 6,
     "metadata": {},
     "output_type": "execute_result"
    }
   ],
   "source": [
    "# Show the unique labels/categories\n",
    "list(df_all['class_label'].unique())"
   ]
  },
  {
   "cell_type": "code",
   "execution_count": 7,
   "id": "9d679ebf",
   "metadata": {
    "execution": {
     "iopub.execute_input": "2022-07-05T06:06:38.828068Z",
     "iopub.status.busy": "2022-07-05T06:06:38.827858Z",
     "iopub.status.idle": "2022-07-05T06:06:38.841801Z",
     "shell.execute_reply": "2022-07-05T06:06:38.841318Z"
    },
    "papermill": {
     "duration": 0.025531,
     "end_time": "2022-07-05T06:06:38.843834",
     "exception": false,
     "start_time": "2022-07-05T06:06:38.818303",
     "status": "completed"
    },
    "tags": []
   },
   "outputs": [
    {
     "data": {
      "text/plain": [
       "Counter({'rescue_volunteering_or_donation_effort': 21274,\n",
       "         'other_relevant_information': 12141,\n",
       "         'requests_or_urgent_needs': 2618,\n",
       "         'injured_or_dead_people': 7301,\n",
       "         'infrastructure_and_utility_damage': 8162,\n",
       "         'sympathy_and_support': 8924,\n",
       "         'caution_and_advice': 5393,\n",
       "         'not_humanitarian': 6296,\n",
       "         'displaced_people_and_evacuations': 3999,\n",
       "         'missing_or_found_people': 358})"
      ]
     },
     "execution_count": 7,
     "metadata": {},
     "output_type": "execute_result"
    }
   ],
   "source": [
    "# Show the number of samples for each class - the data look like quite unbalanced,\n",
    "#  validate in the train dataset, consider oversampling\n",
    "# TODO: Consider classes with a minimum number of samples\n",
    "Counter(df_all['class_label'])"
   ]
  },
  {
   "cell_type": "code",
   "execution_count": 8,
   "id": "89c11427",
   "metadata": {
    "execution": {
     "iopub.execute_input": "2022-07-05T06:06:38.863827Z",
     "iopub.status.busy": "2022-07-05T06:06:38.863581Z",
     "iopub.status.idle": "2022-07-05T06:06:41.368333Z",
     "shell.execute_reply": "2022-07-05T06:06:41.367483Z"
    },
    "papermill": {
     "duration": 2.517024,
     "end_time": "2022-07-05T06:06:41.370164",
     "exception": false,
     "start_time": "2022-07-05T06:06:38.853140",
     "status": "completed"
    },
    "tags": []
   },
   "outputs": [
    {
     "name": "stderr",
     "output_type": "stream",
     "text": [
      "\r",
      "  0%|                                                                                                                                                                  | 0/76466 [00:00<?, ?it/s]"
     ]
    },
    {
     "name": "stderr",
     "output_type": "stream",
     "text": [
      "\r",
      "  4%|█████▋                                                                                                                                              | 2927/76466 [00:00<00:02, 29266.26it/s]"
     ]
    },
    {
     "name": "stderr",
     "output_type": "stream",
     "text": [
      "\r",
      "  8%|███████████▉                                                                                                                                        | 6187/76466 [00:00<00:02, 31224.40it/s]"
     ]
    },
    {
     "name": "stderr",
     "output_type": "stream",
     "text": [
      "\r",
      " 12%|██████████████████                                                                                                                                  | 9310/76466 [00:00<00:02, 30257.54it/s]"
     ]
    },
    {
     "name": "stderr",
     "output_type": "stream",
     "text": [
      "\r",
      " 16%|███████████████████████▋                                                                                                                           | 12340/76466 [00:00<00:02, 28220.27it/s]"
     ]
    },
    {
     "name": "stderr",
     "output_type": "stream",
     "text": [
      "\r",
      " 20%|█████████████████████████████▏                                                                                                                     | 15181/76466 [00:00<00:02, 27621.87it/s]"
     ]
    },
    {
     "name": "stderr",
     "output_type": "stream",
     "text": [
      "\r",
      " 23%|██████████████████████████████████▌                                                                                                                | 17955/76466 [00:00<00:02, 27093.83it/s]"
     ]
    },
    {
     "name": "stderr",
     "output_type": "stream",
     "text": [
      "\r",
      " 27%|████████████████████████████████████████▎                                                                                                          | 20955/76466 [00:00<00:01, 27996.14it/s]"
     ]
    },
    {
     "name": "stderr",
     "output_type": "stream",
     "text": [
      "\r",
      " 33%|███████████████████████████████████████████████▉                                                                                                   | 24948/76466 [00:00<00:01, 31662.38it/s]"
     ]
    },
    {
     "name": "stderr",
     "output_type": "stream",
     "text": [
      "\r",
      " 38%|███████████████████████████████████████████████████████▋                                                                                           | 28990/76466 [00:00<00:01, 34332.58it/s]"
     ]
    },
    {
     "name": "stderr",
     "output_type": "stream",
     "text": [
      "\r",
      " 43%|██████████████████████████████████████████████████████████████▊                                                                                    | 32702/76466 [00:01<00:01, 35001.00it/s]"
     ]
    },
    {
     "name": "stderr",
     "output_type": "stream",
     "text": [
      "\r",
      " 48%|██████████████████████████████████████████████████████████████████████▎                                                                            | 36563/76466 [00:01<00:01, 36087.50it/s]"
     ]
    },
    {
     "name": "stderr",
     "output_type": "stream",
     "text": [
      "\r",
      " 53%|█████████████████████████████████████████████████████████████████████████████▎                                                                     | 40184/76466 [00:01<00:01, 33555.85it/s]"
     ]
    },
    {
     "name": "stderr",
     "output_type": "stream",
     "text": [
      "\r",
      " 57%|███████████████████████████████████████████████████████████████████████████████████▊                                                               | 43582/76466 [00:01<00:01, 30775.70it/s]"
     ]
    },
    {
     "name": "stderr",
     "output_type": "stream",
     "text": [
      "\r",
      " 61%|█████████████████████████████████████████████████████████████████████████████████████████▊                                                         | 46724/76466 [00:01<00:01, 29283.76it/s]"
     ]
    },
    {
     "name": "stderr",
     "output_type": "stream",
     "text": [
      "\r",
      " 66%|█████████████████████████████████████████████████████████████████████████████████████████████████▍                                                 | 50713/76466 [00:01<00:00, 32129.02it/s]"
     ]
    },
    {
     "name": "stderr",
     "output_type": "stream",
     "text": [
      "\r",
      " 71%|████████████████████████████████████████████████████████████████████████████████████████████████████████▎                                          | 54268/76466 [00:01<00:00, 33075.25it/s]"
     ]
    },
    {
     "name": "stderr",
     "output_type": "stream",
     "text": [
      "\r",
      " 75%|██████████████████████████████████████████████████████████████████████████████████████████████████████████████▊                                    | 57632/76466 [00:01<00:00, 31086.86it/s]"
     ]
    },
    {
     "name": "stderr",
     "output_type": "stream",
     "text": [
      "\r",
      " 80%|████████████████████████████████████████████████████████████████████████████████████████████████████████████████████▉                              | 60798/76466 [00:01<00:00, 29261.09it/s]"
     ]
    },
    {
     "name": "stderr",
     "output_type": "stream",
     "text": [
      "\r",
      " 83%|██████████████████████████████████████████████████████████████████████████████████████████████████████████████████████████▌                        | 63776/76466 [00:02<00:00, 27544.84it/s]"
     ]
    },
    {
     "name": "stderr",
     "output_type": "stream",
     "text": [
      "\r",
      " 88%|████████████████████████████████████████████████████████████████████████████████████████████████████████████████████████████████▉                  | 67049/76466 [00:02<00:00, 28915.79it/s]"
     ]
    },
    {
     "name": "stderr",
     "output_type": "stream",
     "text": [
      "\r",
      " 92%|███████████████████████████████████████████████████████████████████████████████████████████████████████████████████████████████████████▌           | 70521/76466 [00:02<00:00, 30502.10it/s]"
     ]
    },
    {
     "name": "stderr",
     "output_type": "stream",
     "text": [
      "\r",
      " 96%|█████████████████████████████████████████████████████████████████████████████████████████████████████████████████████████████████████████████▌     | 73621/76466 [00:02<00:00, 30580.37it/s]"
     ]
    },
    {
     "name": "stderr",
     "output_type": "stream",
     "text": [
      "\r",
      "100%|███████████████████████████████████████████████████████████████████████████████████████████████████████████████████████████████████████████████████| 76466/76466 [00:02<00:00, 30728.40it/s]"
     ]
    },
    {
     "name": "stderr",
     "output_type": "stream",
     "text": [
      "\n"
     ]
    }
   ],
   "source": [
    "# Do some token exploration\n",
    "ws_tokens = Counter()\n",
    "alpha_ws_tokens = Counter()\n",
    "alpha_re_tokens = Counter()\n",
    "\n",
    "for tweet in tqdm(df_all['tweet_text']):\n",
    "    for t in tweet.split(): ws_tokens.update([t])\n",
    "    if re.fullmatch(r'\\w+', t):\n",
    "        alpha_ws_tokens.update([t])\n",
    "        \n",
    "    alpha_re_tokens.update(re.findall(r'\\b\\w+\\b', tweet))"
   ]
  },
  {
   "cell_type": "code",
   "execution_count": 9,
   "id": "406ccc78",
   "metadata": {
    "execution": {
     "iopub.execute_input": "2022-07-05T06:06:41.392297Z",
     "iopub.status.busy": "2022-07-05T06:06:41.391953Z",
     "iopub.status.idle": "2022-07-05T06:06:41.396004Z",
     "shell.execute_reply": "2022-07-05T06:06:41.395455Z"
    },
    "papermill": {
     "duration": 0.017248,
     "end_time": "2022-07-05T06:06:41.397819",
     "exception": false,
     "start_time": "2022-07-05T06:06:41.380571",
     "status": "completed"
    },
    "tags": []
   },
   "outputs": [
    {
     "name": "stdout",
     "output_type": "stream",
     "text": [
      "154057\n",
      "6318\n",
      "98834\n"
     ]
    }
   ],
   "source": [
    "# Most of the tokens are not alphanumeric ones, must consider some additional tokenization\n",
    "print(len(ws_tokens))\n",
    "print(len(alpha_ws_tokens))\n",
    "print(len(alpha_re_tokens))"
   ]
  },
  {
   "cell_type": "code",
   "execution_count": 10,
   "id": "b3cd61eb",
   "metadata": {
    "execution": {
     "iopub.execute_input": "2022-07-05T06:06:41.420389Z",
     "iopub.status.busy": "2022-07-05T06:06:41.420135Z",
     "iopub.status.idle": "2022-07-05T06:06:41.437774Z",
     "shell.execute_reply": "2022-07-05T06:06:41.437145Z"
    },
    "papermill": {
     "duration": 0.031402,
     "end_time": "2022-07-05T06:06:41.439766",
     "exception": false,
     "start_time": "2022-07-05T06:06:41.408364",
     "status": "completed"
    },
    "tags": []
   },
   "outputs": [
    {
     "data": {
      "text/plain": [
       "[('the', 49289),\n",
       " ('to', 48869),\n",
       " ('in', 36166),\n",
       " ('of', 32877),\n",
       " ('and', 29723),\n",
       " ('for', 21817),\n",
       " ('a', 17547),\n",
       " ('is', 15529),\n",
       " ('Hurricane', 12988),\n",
       " ('are', 12733),\n",
       " ('RT', 11747),\n",
       " ('by', 11112),\n",
       " ('from', 9739),\n",
       " ('help', 9532),\n",
       " ('on', 9453),\n",
       " ('you', 8955),\n",
       " ('with', 8897),\n",
       " ('amp', 8409),\n",
       " ('people', 8125),\n",
       " ('as', 6913),\n",
       " ('have', 6913),\n",
       " ('at', 6790),\n",
       " ('The', 6724),\n",
       " ('that', 6512),\n",
       " ('this', 6325),\n",
       " ('I', 6004),\n",
       " ('be', 6000),\n",
       " ('all', 5914),\n",
       " ('Harvey', 5848),\n",
       " ('relief', 5797),\n",
       " ('California', 5617),\n",
       " ('has', 5550),\n",
       " ('earthquake', 5469),\n",
       " ('affected', 5381),\n",
       " ('Irma', 5376),\n",
       " ('will', 5258),\n",
       " ('our', 5131),\n",
       " ('damage', 4947),\n",
       " ('victims', 4895),\n",
       " ('Kerala', 4842),\n",
       " ('Dorian', 4582),\n",
       " ('can', 4516),\n",
       " ('it', 4507),\n",
       " ('those', 4176),\n",
       " ('flood', 4103),\n",
       " ('s', 4091),\n",
       " ('water', 4027),\n",
       " ('out', 3954),\n",
       " ('after', 3949),\n",
       " ('we', 3899)]"
      ]
     },
     "execution_count": 10,
     "metadata": {},
     "output_type": "execute_result"
    }
   ],
   "source": [
    "# Look at the most common, what do you see?\n",
    "# Some stop words removal is needed\n",
    "alpha_re_tokens.most_common(50)"
   ]
  },
  {
   "cell_type": "code",
   "execution_count": 11,
   "id": "064ec8ed",
   "metadata": {
    "execution": {
     "iopub.execute_input": "2022-07-05T06:06:41.465589Z",
     "iopub.status.busy": "2022-07-05T06:06:41.465328Z",
     "iopub.status.idle": "2022-07-05T06:06:41.487748Z",
     "shell.execute_reply": "2022-07-05T06:06:41.487141Z"
    },
    "papermill": {
     "duration": 0.03732,
     "end_time": "2022-07-05T06:06:41.489656",
     "exception": false,
     "start_time": "2022-07-05T06:06:41.452336",
     "status": "completed"
    },
    "tags": []
   },
   "outputs": [
    {
     "data": {
      "text/plain": [
       "[('the', 49176),\n",
       " ('to', 48627),\n",
       " ('in', 35855),\n",
       " ('of', 32816),\n",
       " ('and', 29528),\n",
       " ('for', 21648),\n",
       " ('a', 17195),\n",
       " ('is', 15380),\n",
       " ('are', 12653),\n",
       " ('Hurricane', 12425),\n",
       " ('RT', 11528),\n",
       " ('by', 11041),\n",
       " ('from', 9672),\n",
       " ('on', 9246),\n",
       " ('with', 8831),\n",
       " ('you', 7930),\n",
       " ('&amp;', 7853),\n",
       " ('help', 7770),\n",
       " ('people', 7263),\n",
       " ('as', 6882),\n",
       " ('have', 6875),\n",
       " ('at', 6680),\n",
       " ('The', 6615),\n",
       " ('that', 6275),\n",
       " ('be', 5935),\n",
       " ('this', 5873),\n",
       " ('has', 5536),\n",
       " ('all', 5511),\n",
       " ('I', 5264),\n",
       " ('will', 5227),\n",
       " ('our', 5118),\n",
       " ('affected', 4902),\n",
       " ('-', 4887),\n",
       " ('relief', 4843),\n",
       " ('those', 4162),\n",
       " ('California', 4106),\n",
       " ('damage', 4023),\n",
       " ('can', 3929),\n",
       " ('your', 3890),\n",
       " ('after', 3889),\n",
       " ('victims', 3694),\n",
       " ('we', 3693),\n",
       " ('it', 3557),\n",
       " ('out', 3542),\n",
       " ('their', 3477),\n",
       " ('#KeralaFloods', 3435),\n",
       " ('who', 3402),\n",
       " ('more', 3364),\n",
       " ('flood', 3290),\n",
       " ('We', 3204)]"
      ]
     },
     "execution_count": 11,
     "metadata": {},
     "output_type": "execute_result"
    }
   ],
   "source": [
    "# No much difference for the simple tokens\n",
    "ws_tokens.most_common(50)"
   ]
  },
  {
   "cell_type": "code",
   "execution_count": 12,
   "id": "a7cf4c2a",
   "metadata": {
    "execution": {
     "iopub.execute_input": "2022-07-05T06:06:41.514027Z",
     "iopub.status.busy": "2022-07-05T06:06:41.513791Z",
     "iopub.status.idle": "2022-07-05T06:06:42.449780Z",
     "shell.execute_reply": "2022-07-05T06:06:42.449139Z"
    },
    "papermill": {
     "duration": 0.949816,
     "end_time": "2022-07-05T06:06:42.451704",
     "exception": false,
     "start_time": "2022-07-05T06:06:41.501888",
     "status": "completed"
    },
    "tags": []
   },
   "outputs": [
    {
     "data": {
      "image/png": "[encoded data removed]",
      "text/plain": [
       "<Figure size 432x288 with 1 Axes>"
      ]
     },
     "metadata": {
      "needs_background": "light"
     },
     "output_type": "display_data"
    }
   ],
   "source": [
    "# Plot the word distribution - it follows the power law\n",
    "x = [*range(len(alpha_re_tokens))]\n",
    "total = sum([b for _, b in alpha_re_tokens.most_common()])\n",
    "y = [b / total for _, b in alpha_re_tokens.most_common()]\n",
    "\n",
    "ax = plt.plot(x, y, '.')\n",
    "plt.yscale('log')\n",
    "plt.xscale('log')"
   ]
  },
  {
   "cell_type": "markdown",
   "id": "83c98df7",
   "metadata": {
    "papermill": {
     "duration": 0.012547,
     "end_time": "2022-07-05T06:06:42.477584",
     "exception": false,
     "start_time": "2022-07-05T06:06:42.465037",
     "status": "completed"
    },
    "tags": []
   },
   "source": [
    "## Do a very basic vectorization and classification with logistic regression"
   ]
  },
  {
   "cell_type": "code",
   "execution_count": 13,
   "id": "8cdc7d41",
   "metadata": {
    "execution": {
     "iopub.execute_input": "2022-07-05T06:06:42.501375Z",
     "iopub.status.busy": "2022-07-05T06:06:42.501103Z",
     "iopub.status.idle": "2022-07-05T06:06:43.408969Z",
     "shell.execute_reply": "2022-07-05T06:06:43.408355Z"
    },
    "papermill": {
     "duration": 0.922123,
     "end_time": "2022-07-05T06:06:43.410959",
     "exception": false,
     "start_time": "2022-07-05T06:06:42.488836",
     "status": "completed"
    },
    "tags": []
   },
   "outputs": [
    {
     "name": "stdout",
     "output_type": "stream",
     "text": [
      "CPU times: user 874 ms, sys: 20.3 ms, total: 894 ms\n",
      "Wall time: 902 ms\n"
     ]
    },
    {
     "data": {
      "text/plain": [
       "(53516, 539)"
      ]
     },
     "execution_count": 13,
     "metadata": {},
     "output_type": "execute_result"
    }
   ],
   "source": [
    "%%time\n",
    "# Next - add some classifiers\n",
    "min_vocabulary = 200 # Changing this to higher value decreases the words in the vocabulary,\n",
    "                     # consider finding the optimal value\n",
    "                     # Also dropping this increases the F1 score\n",
    "\n",
    "vectorizer = TfidfVectorizer(min_df=min_vocabulary, stop_words='english')\n",
    "X_train = vectorizer.fit_transform(df_train['tweet_text'])\n",
    "y_train = list(df_train['class_label'])\n",
    "X_train.shape"
   ]
  },
  {
   "cell_type": "code",
   "execution_count": 14,
   "id": "fa5c892b",
   "metadata": {
    "execution": {
     "iopub.execute_input": "2022-07-05T06:06:43.438027Z",
     "iopub.status.busy": "2022-07-05T06:06:43.437758Z",
     "iopub.status.idle": "2022-07-05T06:06:43.442003Z",
     "shell.execute_reply": "2022-07-05T06:06:43.441450Z"
    },
    "papermill": {
     "duration": 0.020181,
     "end_time": "2022-07-05T06:06:43.444329",
     "exception": false,
     "start_time": "2022-07-05T06:06:43.424148",
     "status": "completed"
    },
    "tags": []
   },
   "outputs": [
    {
     "data": {
      "text/plain": [
       "539"
      ]
     },
     "execution_count": 14,
     "metadata": {},
     "output_type": "execute_result"
    }
   ],
   "source": [
    "# Note: the default vocabularly is pretty small, try to enhance it\n",
    "len(vectorizer.vocabulary_)"
   ]
  },
  {
   "cell_type": "code",
   "execution_count": 15,
   "id": "a39d8dc6",
   "metadata": {
    "execution": {
     "iopub.execute_input": "2022-07-05T06:06:43.468998Z",
     "iopub.status.busy": "2022-07-05T06:06:43.468742Z",
     "iopub.status.idle": "2022-07-05T06:06:46.870569Z",
     "shell.execute_reply": "2022-07-05T06:06:46.869748Z"
    },
    "papermill": {
     "duration": 3.416452,
     "end_time": "2022-07-05T06:06:46.872607",
     "exception": false,
     "start_time": "2022-07-05T06:06:43.456155",
     "status": "completed"
    },
    "tags": []
   },
   "outputs": [
    {
     "data": {
      "text/html": [
       "<style>#sk-container-id-1 {color: black;background-color: white;}#sk-container-id-1 pre{padding: 0;}#sk-container-id-1 div.sk-toggleable {background-color: white;}#sk-container-id-1 label.sk-toggleable__label {cursor: pointer;display: block;width: 100%;margin-bottom: 0;padding: 0.3em;box-sizing: border-box;text-align: center;}#sk-container-id-1 label.sk-toggleable__label-arrow:before {content: \"▸\";float: left;margin-right: 0.25em;color: #696969;}#sk-container-id-1 label.sk-toggleable__label-arrow:hover:before {color: black;}#sk-container-id-1 div.sk-estimator:hover label.sk-toggleable__label-arrow:before {color: black;}#sk-container-id-1 div.sk-toggleable__content {max-height: 0;max-width: 0;overflow: hidden;text-align: left;background-color: #f0f8ff;}#sk-container-id-1 div.sk-toggleable__content pre {margin: 0.2em;color: black;border-radius: 0.25em;background-color: #f0f8ff;}#sk-container-id-1 input.sk-toggleable__control:checked~div.sk-toggleable__content {max-height: 200px;max-width: 100%;overflow: auto;}#sk-container-id-1 input.sk-toggleable__control:checked~label.sk-toggleable__label-arrow:before {content: \"▾\";}#sk-container-id-1 div.sk-estimator input.sk-toggleable__control:checked~label.sk-toggleable__label {background-color: #d4ebff;}#sk-container-id-1 div.sk-label input.sk-toggleable__control:checked~label.sk-toggleable__label {background-color: #d4ebff;}#sk-container-id-1 input.sk-hidden--visually {border: 0;clip: rect(1px 1px 1px 1px);clip: rect(1px, 1px, 1px, 1px);height: 1px;margin: -1px;overflow: hidden;padding: 0;position: absolute;width: 1px;}#sk-container-id-1 div.sk-estimator {font-family: monospace;background-color: #f0f8ff;border: 1px dotted black;border-radius: 0.25em;box-sizing: border-box;margin-bottom: 0.5em;}#sk-container-id-1 div.sk-estimator:hover {background-color: #d4ebff;}#sk-container-id-1 div.sk-parallel-item::after {content: \"\";width: 100%;border-bottom: 1px solid gray;flex-grow: 1;}#sk-container-id-1 div.sk-label:hover label.sk-toggleable__label {background-color: #d4ebff;}#sk-container-id-1 div.sk-serial::before {content: \"\";position: absolute;border-left: 1px solid gray;box-sizing: border-box;top: 0;bottom: 0;left: 50%;z-index: 0;}#sk-container-id-1 div.sk-serial {display: flex;flex-direction: column;align-items: center;background-color: white;padding-right: 0.2em;padding-left: 0.2em;position: relative;}#sk-container-id-1 div.sk-item {position: relative;z-index: 1;}#sk-container-id-1 div.sk-parallel {display: flex;align-items: stretch;justify-content: center;background-color: white;position: relative;}#sk-container-id-1 div.sk-item::before, #sk-container-id-1 div.sk-parallel-item::before {content: \"\";position: absolute;border-left: 1px solid gray;box-sizing: border-box;top: 0;bottom: 0;left: 50%;z-index: -1;}#sk-container-id-1 div.sk-parallel-item {display: flex;flex-direction: column;z-index: 1;position: relative;background-color: white;}#sk-container-id-1 div.sk-parallel-item:first-child::after {align-self: flex-end;width: 50%;}#sk-container-id-1 div.sk-parallel-item:last-child::after {align-self: flex-start;width: 50%;}#sk-container-id-1 div.sk-parallel-item:only-child::after {width: 0;}#sk-container-id-1 div.sk-dashed-wrapped {border: 1px dashed gray;margin: 0 0.4em 0.5em 0.4em;box-sizing: border-box;padding-bottom: 0.4em;background-color: white;}#sk-container-id-1 div.sk-label label {font-family: monospace;font-weight: bold;display: inline-block;line-height: 1.2em;}#sk-container-id-1 div.sk-label-container {text-align: center;}#sk-container-id-1 div.sk-container {/* jupyter's `normalize.less` sets `[hidden] { display: none; }` but bootstrap.min.css set `[hidden] { display: none !important; }` so we also need the `!important` here to be able to override the default hidden behavior on the sphinx rendered scikit-learn.org. See: https://github.com/scikit-learn/scikit-learn/issues/21755 */display: inline-block !important;position: relative;}#sk-container-id-1 div.sk-text-repr-fallback {display: none;}</style><div id=\"sk-container-id-1\" class=\"sk-top-container\"><div class=\"sk-text-repr-fallback\"><pre>LogisticRegression(max_iter=1000)</pre><b>In a Jupyter environment, please rerun this cell to show the HTML representation or trust the notebook. <br />On GitHub, the HTML representation is unable to render, please try loading this page with nbviewer.org.</b></div><div class=\"sk-container\" hidden><div class=\"sk-item\"><div class=\"sk-estimator sk-toggleable\"><input class=\"sk-toggleable__control sk-hidden--visually\" id=\"sk-estimator-id-1\" type=\"checkbox\" checked><label for=\"sk-estimator-id-1\" class=\"sk-toggleable__label sk-toggleable__label-arrow\">LogisticRegression</label><div class=\"sk-toggleable__content\"><pre>LogisticRegression(max_iter=1000)</pre></div></div></div></div></div>"
      ],
      "text/plain": [
       "LogisticRegression(max_iter=1000)"
      ]
     },
     "execution_count": 15,
     "metadata": {},
     "output_type": "execute_result"
    }
   ],
   "source": [
    "# Prepate the logistic regression classifier\n",
    "clf = LogisticRegression(solver='lbfgs', multi_class='auto', random_state=random_seed, max_iter=1000)\n",
    "clf.fit(X_train, y_train)"
   ]
  },
  {
   "cell_type": "code",
   "execution_count": 16,
   "id": "81699826",
   "metadata": {
    "execution": {
     "iopub.execute_input": "2022-07-05T06:06:46.899697Z",
     "iopub.status.busy": "2022-07-05T06:06:46.899452Z",
     "iopub.status.idle": "2022-07-05T06:06:46.967305Z",
     "shell.execute_reply": "2022-07-05T06:06:46.966509Z"
    },
    "papermill": {
     "duration": 0.083314,
     "end_time": "2022-07-05T06:06:46.969430",
     "exception": false,
     "start_time": "2022-07-05T06:06:46.886116",
     "status": "completed"
    },
    "tags": []
   },
   "outputs": [
    {
     "data": {
      "text/html": [
       "<style>#sk-container-id-2 {color: black;background-color: white;}#sk-container-id-2 pre{padding: 0;}#sk-container-id-2 div.sk-toggleable {background-color: white;}#sk-container-id-2 label.sk-toggleable__label {cursor: pointer;display: block;width: 100%;margin-bottom: 0;padding: 0.3em;box-sizing: border-box;text-align: center;}#sk-container-id-2 label.sk-toggleable__label-arrow:before {content: \"▸\";float: left;margin-right: 0.25em;color: #696969;}#sk-container-id-2 label.sk-toggleable__label-arrow:hover:before {color: black;}#sk-container-id-2 div.sk-estimator:hover label.sk-toggleable__label-arrow:before {color: black;}#sk-container-id-2 div.sk-toggleable__content {max-height: 0;max-width: 0;overflow: hidden;text-align: left;background-color: #f0f8ff;}#sk-container-id-2 div.sk-toggleable__content pre {margin: 0.2em;color: black;border-radius: 0.25em;background-color: #f0f8ff;}#sk-container-id-2 input.sk-toggleable__control:checked~div.sk-toggleable__content {max-height: 200px;max-width: 100%;overflow: auto;}#sk-container-id-2 input.sk-toggleable__control:checked~label.sk-toggleable__label-arrow:before {content: \"▾\";}#sk-container-id-2 div.sk-estimator input.sk-toggleable__control:checked~label.sk-toggleable__label {background-color: #d4ebff;}#sk-container-id-2 div.sk-label input.sk-toggleable__control:checked~label.sk-toggleable__label {background-color: #d4ebff;}#sk-container-id-2 input.sk-hidden--visually {border: 0;clip: rect(1px 1px 1px 1px);clip: rect(1px, 1px, 1px, 1px);height: 1px;margin: -1px;overflow: hidden;padding: 0;position: absolute;width: 1px;}#sk-container-id-2 div.sk-estimator {font-family: monospace;background-color: #f0f8ff;border: 1px dotted black;border-radius: 0.25em;box-sizing: border-box;margin-bottom: 0.5em;}#sk-container-id-2 div.sk-estimator:hover {background-color: #d4ebff;}#sk-container-id-2 div.sk-parallel-item::after {content: \"\";width: 100%;border-bottom: 1px solid gray;flex-grow: 1;}#sk-container-id-2 div.sk-label:hover label.sk-toggleable__label {background-color: #d4ebff;}#sk-container-id-2 div.sk-serial::before {content: \"\";position: absolute;border-left: 1px solid gray;box-sizing: border-box;top: 0;bottom: 0;left: 50%;z-index: 0;}#sk-container-id-2 div.sk-serial {display: flex;flex-direction: column;align-items: center;background-color: white;padding-right: 0.2em;padding-left: 0.2em;position: relative;}#sk-container-id-2 div.sk-item {position: relative;z-index: 1;}#sk-container-id-2 div.sk-parallel {display: flex;align-items: stretch;justify-content: center;background-color: white;position: relative;}#sk-container-id-2 div.sk-item::before, #sk-container-id-2 div.sk-parallel-item::before {content: \"\";position: absolute;border-left: 1px solid gray;box-sizing: border-box;top: 0;bottom: 0;left: 50%;z-index: -1;}#sk-container-id-2 div.sk-parallel-item {display: flex;flex-direction: column;z-index: 1;position: relative;background-color: white;}#sk-container-id-2 div.sk-parallel-item:first-child::after {align-self: flex-end;width: 50%;}#sk-container-id-2 div.sk-parallel-item:last-child::after {align-self: flex-start;width: 50%;}#sk-container-id-2 div.sk-parallel-item:only-child::after {width: 0;}#sk-container-id-2 div.sk-dashed-wrapped {border: 1px dashed gray;margin: 0 0.4em 0.5em 0.4em;box-sizing: border-box;padding-bottom: 0.4em;background-color: white;}#sk-container-id-2 div.sk-label label {font-family: monospace;font-weight: bold;display: inline-block;line-height: 1.2em;}#sk-container-id-2 div.sk-label-container {text-align: center;}#sk-container-id-2 div.sk-container {/* jupyter's `normalize.less` sets `[hidden] { display: none; }` but bootstrap.min.css set `[hidden] { display: none !important; }` so we also need the `!important` here to be able to override the default hidden behavior on the sphinx rendered scikit-learn.org. See: https://github.com/scikit-learn/scikit-learn/issues/21755 */display: inline-block !important;position: relative;}#sk-container-id-2 div.sk-text-repr-fallback {display: none;}</style><div id=\"sk-container-id-2\" class=\"sk-top-container\"><div class=\"sk-text-repr-fallback\"><pre>DummyClassifier(strategy=&#x27;most_frequent&#x27;)</pre><b>In a Jupyter environment, please rerun this cell to show the HTML representation or trust the notebook. <br />On GitHub, the HTML representation is unable to render, please try loading this page with nbviewer.org.</b></div><div class=\"sk-container\" hidden><div class=\"sk-item\"><div class=\"sk-estimator sk-toggleable\"><input class=\"sk-toggleable__control sk-hidden--visually\" id=\"sk-estimator-id-2\" type=\"checkbox\" checked><label for=\"sk-estimator-id-2\" class=\"sk-toggleable__label sk-toggleable__label-arrow\">DummyClassifier</label><div class=\"sk-toggleable__content\"><pre>DummyClassifier(strategy=&#x27;most_frequent&#x27;)</pre></div></div></div></div></div>"
      ],
      "text/plain": [
       "DummyClassifier(strategy='most_frequent')"
      ]
     },
     "execution_count": 16,
     "metadata": {},
     "output_type": "execute_result"
    }
   ],
   "source": [
    "# Do a dummy classifier 1 and 2\n",
    "dummy_clf1 = DummyClassifier(strategy=\"uniform\", random_state=random_seed)\n",
    "dummy_clf1.fit(X_train, y_train)\n",
    "\n",
    "dummy_clf2 = DummyClassifier(strategy=\"most_frequent\", random_state=random_seed)\n",
    "dummy_clf2.fit(X_train, y_train)"
   ]
  },
  {
   "cell_type": "code",
   "execution_count": 17,
   "id": "b1dac78c",
   "metadata": {
    "execution": {
     "iopub.execute_input": "2022-07-05T06:06:46.997775Z",
     "iopub.status.busy": "2022-07-05T06:06:46.997482Z",
     "iopub.status.idle": "2022-07-05T06:06:47.127854Z",
     "shell.execute_reply": "2022-07-05T06:06:47.127192Z"
    },
    "papermill": {
     "duration": 0.146613,
     "end_time": "2022-07-05T06:06:47.129939",
     "exception": false,
     "start_time": "2022-07-05T06:06:46.983326",
     "status": "completed"
    },
    "tags": []
   },
   "outputs": [],
   "source": [
    "# Predic on dev\n",
    "X_dev = vectorizer.transform(df_dev['tweet_text'])\n",
    "y_dev = list(df_dev['class_label'])\n",
    "\n",
    "lr_tiny_dev_preds = clf.predict(X_dev)\n",
    "rand_dev_preds = dummy_clf1.predict(X_dev)\n",
    "mf_dev_preds = dummy_clf2.predict(X_dev)"
   ]
  },
  {
   "cell_type": "code",
   "execution_count": 18,
   "id": "bc263819",
   "metadata": {
    "execution": {
     "iopub.execute_input": "2022-07-05T06:06:47.157852Z",
     "iopub.status.busy": "2022-07-05T06:06:47.157588Z",
     "iopub.status.idle": "2022-07-05T06:06:47.271786Z",
     "shell.execute_reply": "2022-07-05T06:06:47.271176Z"
    },
    "papermill": {
     "duration": 0.132633,
     "end_time": "2022-07-05T06:06:47.274703",
     "exception": false,
     "start_time": "2022-07-05T06:06:47.142070",
     "status": "completed"
    },
    "tags": []
   },
   "outputs": [
    {
     "name": "stdout",
     "output_type": "stream",
     "text": [
      "0.6872610968967099\n",
      "0.08939591199891664\n",
      "0.04353850788231751\n"
     ]
    }
   ],
   "source": [
    "# Score on dev - not bad of out-of-the-box, must improve\n",
    "lr_f1 = f1_score(y_dev, lr_tiny_dev_preds, average='macro')\n",
    "rand_f1 = f1_score(y_dev, rand_dev_preds, average='macro')\n",
    "mf_f1 = f1_score(y_dev, mf_dev_preds, average='macro')\n",
    "\n",
    "print(lr_f1)\n",
    "print(rand_f1)\n",
    "print(mf_f1)"
   ]
  },
  {
   "cell_type": "code",
   "execution_count": 19,
   "id": "01394e71",
   "metadata": {
    "execution": {
     "iopub.execute_input": "2022-07-05T06:06:47.302429Z",
     "iopub.status.busy": "2022-07-05T06:06:47.302163Z",
     "iopub.status.idle": "2022-07-05T06:06:47.538097Z",
     "shell.execute_reply": "2022-07-05T06:06:47.537395Z"
    },
    "papermill": {
     "duration": 0.250943,
     "end_time": "2022-07-05T06:06:47.539990",
     "exception": false,
     "start_time": "2022-07-05T06:06:47.289047",
     "status": "completed"
    },
    "tags": []
   },
   "outputs": [],
   "source": [
    "# Predic on test, must be about the same\n",
    "X_test = vectorizer.transform(df_test['tweet_text'])\n",
    "y_test = list(df_test['class_label'])\n",
    "\n",
    "lr_tiny_test_preds = clf.predict(X_test)\n",
    "rand_test_preds = dummy_clf1.predict(X_test)\n",
    "mf_test_preds = dummy_clf2.predict(X_test)"
   ]
  },
  {
   "cell_type": "code",
   "execution_count": 20,
   "id": "d8ded8f8",
   "metadata": {
    "execution": {
     "iopub.execute_input": "2022-07-05T06:06:47.566244Z",
     "iopub.status.busy": "2022-07-05T06:06:47.565952Z",
     "iopub.status.idle": "2022-07-05T06:06:47.782310Z",
     "shell.execute_reply": "2022-07-05T06:06:47.781708Z"
    },
    "papermill": {
     "duration": 0.231883,
     "end_time": "2022-07-05T06:06:47.784094",
     "exception": false,
     "start_time": "2022-07-05T06:06:47.552211",
     "status": "completed"
    },
    "tags": []
   },
   "outputs": [
    {
     "name": "stdout",
     "output_type": "stream",
     "text": [
      "0.6850973578671726\n",
      "0.08224091658357752\n",
      "0.04353615110698251\n"
     ]
    }
   ],
   "source": [
    "# Score on test - about the same as dev\n",
    "lr_f1 = f1_score(y_test, lr_tiny_test_preds, average='macro')\n",
    "rand_f1 = f1_score(y_test, rand_test_preds, average='macro')\n",
    "mf_f1 = f1_score(y_test, mf_test_preds, average='macro')\n",
    "\n",
    "print(lr_f1)\n",
    "print(rand_f1)\n",
    "print(mf_f1)"
   ]
  },
  {
   "cell_type": "markdown",
   "id": "ef941383",
   "metadata": {
    "papermill": {
     "duration": 0.011918,
     "end_time": "2022-07-05T06:06:47.808011",
     "exception": false,
     "start_time": "2022-07-05T06:06:47.796093",
     "status": "completed"
    },
    "tags": []
   },
   "source": [
    "## Find out the f1 score for each class, find the best and worse"
   ]
  },
  {
   "cell_type": "code",
   "execution_count": 21,
   "id": "677dc031",
   "metadata": {
    "execution": {
     "iopub.execute_input": "2022-07-05T06:06:47.832842Z",
     "iopub.status.busy": "2022-07-05T06:06:47.832518Z",
     "iopub.status.idle": "2022-07-05T06:06:48.759023Z",
     "shell.execute_reply": "2022-07-05T06:06:48.758467Z"
    },
    "papermill": {
     "duration": 0.94075,
     "end_time": "2022-07-05T06:06:48.760921",
     "exception": false,
     "start_time": "2022-07-05T06:06:47.820171",
     "status": "completed"
    },
    "tags": []
   },
   "outputs": [
    {
     "name": "stdout",
     "output_type": "stream",
     "text": [
      "rescue_volunteering_or_donation_effort 0.8136200716845879\n",
      "sympathy_and_support 0.76765855124737\n",
      "requests_or_urgent_needs 0.4395348837209302\n"
     ]
    },
    {
     "name": "stdout",
     "output_type": "stream",
     "text": [
      "infrastructure_and_utility_damage 0.7795468462951622\n",
      "injured_or_dead_people 0.8894181694453897\n",
      "other_relevant_information 0.5378509196515004\n"
     ]
    },
    {
     "name": "stdout",
     "output_type": "stream",
     "text": [
      "displaced_people_and_evacuations 0.8589826142949131\n",
      "caution_and_advice 0.6039654295882054\n",
      "missing_or_found_people 0.6861313868613138\n"
     ]
    },
    {
     "name": "stdout",
     "output_type": "stream",
     "text": [
      "not_humanitarian 0.474264705882353\n"
     ]
    }
   ],
   "source": [
    "df_try = df_test\n",
    "\n",
    "X_try = vectorizer.transform(df_try['tweet_text'])\n",
    "y_try = list(df_try['class_label'])\n",
    "\n",
    "preds = clf.predict(X_try)\n",
    "\n",
    "for label in set(df_try['class_label']):\n",
    "    print(label, f1_score(y_try, preds, labels=[label], average='macro'))"
   ]
  },
  {
   "cell_type": "markdown",
   "id": "3b032953",
   "metadata": {
    "papermill": {
     "duration": 0.011765,
     "end_time": "2022-07-05T06:06:48.785368",
     "exception": false,
     "start_time": "2022-07-05T06:06:48.773603",
     "status": "completed"
    },
    "tags": []
   },
   "source": [
    "## Do bigrams see how this improves the F1 scores"
   ]
  },
  {
   "cell_type": "code",
   "execution_count": 22,
   "id": "f78cf83f",
   "metadata": {
    "execution": {
     "iopub.execute_input": "2022-07-05T06:06:48.810336Z",
     "iopub.status.busy": "2022-07-05T06:06:48.810072Z",
     "iopub.status.idle": "2022-07-05T06:06:50.752220Z",
     "shell.execute_reply": "2022-07-05T06:06:50.751609Z"
    },
    "papermill": {
     "duration": 1.957222,
     "end_time": "2022-07-05T06:06:50.754196",
     "exception": false,
     "start_time": "2022-07-05T06:06:48.796974",
     "status": "completed"
    },
    "tags": []
   },
   "outputs": [
    {
     "data": {
      "text/plain": [
       "(53516, 11323)"
      ]
     },
     "execution_count": 22,
     "metadata": {},
     "output_type": "execute_result"
    }
   ],
   "source": [
    "bigram_vectorizer = TfidfVectorizer(stop_words='english', min_df=10, ngram_range=(1,2))\n",
    "X_train = bigram_vectorizer.fit_transform(df_train['tweet_text'])\n",
    "y_train = list(df_train['class_label'])\n",
    "X_train.shape"
   ]
  },
  {
   "cell_type": "code",
   "execution_count": 23,
   "id": "6107b5ba",
   "metadata": {
    "execution": {
     "iopub.execute_input": "2022-07-05T06:06:50.783667Z",
     "iopub.status.busy": "2022-07-05T06:06:50.783379Z",
     "iopub.status.idle": "2022-07-05T06:07:03.609546Z",
     "shell.execute_reply": "2022-07-05T06:07:03.608591Z"
    },
    "papermill": {
     "duration": 12.843894,
     "end_time": "2022-07-05T06:07:03.612451",
     "exception": false,
     "start_time": "2022-07-05T06:06:50.768557",
     "status": "completed"
    },
    "tags": []
   },
   "outputs": [
    {
     "data": {
      "text/html": [
       "<style>#sk-container-id-3 {color: black;background-color: white;}#sk-container-id-3 pre{padding: 0;}#sk-container-id-3 div.sk-toggleable {background-color: white;}#sk-container-id-3 label.sk-toggleable__label {cursor: pointer;display: block;width: 100%;margin-bottom: 0;padding: 0.3em;box-sizing: border-box;text-align: center;}#sk-container-id-3 label.sk-toggleable__label-arrow:before {content: \"▸\";float: left;margin-right: 0.25em;color: #696969;}#sk-container-id-3 label.sk-toggleable__label-arrow:hover:before {color: black;}#sk-container-id-3 div.sk-estimator:hover label.sk-toggleable__label-arrow:before {color: black;}#sk-container-id-3 div.sk-toggleable__content {max-height: 0;max-width: 0;overflow: hidden;text-align: left;background-color: #f0f8ff;}#sk-container-id-3 div.sk-toggleable__content pre {margin: 0.2em;color: black;border-radius: 0.25em;background-color: #f0f8ff;}#sk-container-id-3 input.sk-toggleable__control:checked~div.sk-toggleable__content {max-height: 200px;max-width: 100%;overflow: auto;}#sk-container-id-3 input.sk-toggleable__control:checked~label.sk-toggleable__label-arrow:before {content: \"▾\";}#sk-container-id-3 div.sk-estimator input.sk-toggleable__control:checked~label.sk-toggleable__label {background-color: #d4ebff;}#sk-container-id-3 div.sk-label input.sk-toggleable__control:checked~label.sk-toggleable__label {background-color: #d4ebff;}#sk-container-id-3 input.sk-hidden--visually {border: 0;clip: rect(1px 1px 1px 1px);clip: rect(1px, 1px, 1px, 1px);height: 1px;margin: -1px;overflow: hidden;padding: 0;position: absolute;width: 1px;}#sk-container-id-3 div.sk-estimator {font-family: monospace;background-color: #f0f8ff;border: 1px dotted black;border-radius: 0.25em;box-sizing: border-box;margin-bottom: 0.5em;}#sk-container-id-3 div.sk-estimator:hover {background-color: #d4ebff;}#sk-container-id-3 div.sk-parallel-item::after {content: \"\";width: 100%;border-bottom: 1px solid gray;flex-grow: 1;}#sk-container-id-3 div.sk-label:hover label.sk-toggleable__label {background-color: #d4ebff;}#sk-container-id-3 div.sk-serial::before {content: \"\";position: absolute;border-left: 1px solid gray;box-sizing: border-box;top: 0;bottom: 0;left: 50%;z-index: 0;}#sk-container-id-3 div.sk-serial {display: flex;flex-direction: column;align-items: center;background-color: white;padding-right: 0.2em;padding-left: 0.2em;position: relative;}#sk-container-id-3 div.sk-item {position: relative;z-index: 1;}#sk-container-id-3 div.sk-parallel {display: flex;align-items: stretch;justify-content: center;background-color: white;position: relative;}#sk-container-id-3 div.sk-item::before, #sk-container-id-3 div.sk-parallel-item::before {content: \"\";position: absolute;border-left: 1px solid gray;box-sizing: border-box;top: 0;bottom: 0;left: 50%;z-index: -1;}#sk-container-id-3 div.sk-parallel-item {display: flex;flex-direction: column;z-index: 1;position: relative;background-color: white;}#sk-container-id-3 div.sk-parallel-item:first-child::after {align-self: flex-end;width: 50%;}#sk-container-id-3 div.sk-parallel-item:last-child::after {align-self: flex-start;width: 50%;}#sk-container-id-3 div.sk-parallel-item:only-child::after {width: 0;}#sk-container-id-3 div.sk-dashed-wrapped {border: 1px dashed gray;margin: 0 0.4em 0.5em 0.4em;box-sizing: border-box;padding-bottom: 0.4em;background-color: white;}#sk-container-id-3 div.sk-label label {font-family: monospace;font-weight: bold;display: inline-block;line-height: 1.2em;}#sk-container-id-3 div.sk-label-container {text-align: center;}#sk-container-id-3 div.sk-container {/* jupyter's `normalize.less` sets `[hidden] { display: none; }` but bootstrap.min.css set `[hidden] { display: none !important; }` so we also need the `!important` here to be able to override the default hidden behavior on the sphinx rendered scikit-learn.org. See: https://github.com/scikit-learn/scikit-learn/issues/21755 */display: inline-block !important;position: relative;}#sk-container-id-3 div.sk-text-repr-fallback {display: none;}</style><div id=\"sk-container-id-3\" class=\"sk-top-container\"><div class=\"sk-text-repr-fallback\"><pre>LogisticRegression(max_iter=1000)</pre><b>In a Jupyter environment, please rerun this cell to show the HTML representation or trust the notebook. <br />On GitHub, the HTML representation is unable to render, please try loading this page with nbviewer.org.</b></div><div class=\"sk-container\" hidden><div class=\"sk-item\"><div class=\"sk-estimator sk-toggleable\"><input class=\"sk-toggleable__control sk-hidden--visually\" id=\"sk-estimator-id-3\" type=\"checkbox\" checked><label for=\"sk-estimator-id-3\" class=\"sk-toggleable__label sk-toggleable__label-arrow\">LogisticRegression</label><div class=\"sk-toggleable__content\"><pre>LogisticRegression(max_iter=1000)</pre></div></div></div></div></div>"
      ],
      "text/plain": [
       "LogisticRegression(max_iter=1000)"
      ]
     },
     "execution_count": 23,
     "metadata": {},
     "output_type": "execute_result"
    }
   ],
   "source": [
    "# Prepate the logistic regression classifier\n",
    "clf = LogisticRegression(solver='lbfgs', multi_class='auto', random_state=random_seed, max_iter=1000)\n",
    "clf.fit(X_train, y_train)"
   ]
  },
  {
   "cell_type": "code",
   "execution_count": 24,
   "id": "7a6044b9",
   "metadata": {
    "execution": {
     "iopub.execute_input": "2022-07-05T06:07:03.662066Z",
     "iopub.status.busy": "2022-07-05T06:07:03.661624Z",
     "iopub.status.idle": "2022-07-05T06:07:04.128657Z",
     "shell.execute_reply": "2022-07-05T06:07:04.127879Z"
    },
    "papermill": {
     "duration": 0.493688,
     "end_time": "2022-07-05T06:07:04.130898",
     "exception": false,
     "start_time": "2022-07-05T06:07:03.637210",
     "status": "completed"
    },
    "tags": []
   },
   "outputs": [],
   "source": [
    "# Predic on test, must be about the same\n",
    "X_test = bigram_vectorizer.transform(df_test['tweet_text'])\n",
    "y_test = list(df_test['class_label'])\n",
    "\n",
    "lr_tiny_test_preds = clf.predict(X_test)"
   ]
  },
  {
   "cell_type": "code",
   "execution_count": 25,
   "id": "da7152ef",
   "metadata": {
    "execution": {
     "iopub.execute_input": "2022-07-05T06:07:04.160523Z",
     "iopub.status.busy": "2022-07-05T06:07:04.160227Z",
     "iopub.status.idle": "2022-07-05T06:07:04.249041Z",
     "shell.execute_reply": "2022-07-05T06:07:04.248195Z"
    },
    "papermill": {
     "duration": 0.105708,
     "end_time": "2022-07-05T06:07:04.251062",
     "exception": false,
     "start_time": "2022-07-05T06:07:04.145354",
     "status": "completed"
    },
    "tags": []
   },
   "outputs": [
    {
     "name": "stdout",
     "output_type": "stream",
     "text": [
      "0.7109525239447484\n"
     ]
    }
   ],
   "source": [
    "# Score on test - about the same as dev\n",
    "lr_f1 = f1_score(y_test, lr_tiny_test_preds, average='macro')\n",
    "print(lr_f1)"
   ]
  },
  {
   "cell_type": "code",
   "execution_count": 26,
   "id": "690ff228",
   "metadata": {
    "execution": {
     "iopub.execute_input": "2022-07-05T06:07:04.281131Z",
     "iopub.status.busy": "2022-07-05T06:07:04.280840Z",
     "iopub.status.idle": "2022-07-05T06:07:05.518960Z",
     "shell.execute_reply": "2022-07-05T06:07:05.518270Z"
    },
    "papermill": {
     "duration": 1.255153,
     "end_time": "2022-07-05T06:07:05.520749",
     "exception": false,
     "start_time": "2022-07-05T06:07:04.265596",
     "status": "completed"
    },
    "tags": []
   },
   "outputs": [
    {
     "name": "stdout",
     "output_type": "stream",
     "text": [
      "rescue_volunteering_or_donation_effort 0.8360035603026258\n",
      "sympathy_and_support 0.8002406738868832\n",
      "requests_or_urgent_needs 0.4775086505190312\n"
     ]
    },
    {
     "name": "stdout",
     "output_type": "stream",
     "text": [
      "infrastructure_and_utility_damage 0.8004903463070794\n",
      "injured_or_dead_people 0.902763561924258\n",
      "other_relevant_information 0.5689655172413793\n"
     ]
    },
    {
     "name": "stdout",
     "output_type": "stream",
     "text": [
      "displaced_people_and_evacuations 0.8659254414650097\n",
      "caution_and_advice 0.6443089430894309\n",
      "missing_or_found_people 0.6829268292682927\n"
     ]
    },
    {
     "name": "stdout",
     "output_type": "stream",
     "text": [
      "not_humanitarian 0.530391715443494\n"
     ]
    }
   ],
   "source": [
    "# Find out the f1 score for each class, find the best and worse\n",
    "df_try = df_test\n",
    "\n",
    "X_try = bigram_vectorizer.transform(df_try['tweet_text'])\n",
    "y_try = list(df_try['class_label'])\n",
    "\n",
    "preds = clf.predict(X_try)\n",
    "\n",
    "for label in set(df_try['class_label']):\n",
    "    print(label, f1_score(y_try, preds, labels=[label], average='macro'))"
   ]
  },
  {
   "cell_type": "markdown",
   "id": "db875200",
   "metadata": {
    "papermill": {
     "duration": 0.01815,
     "end_time": "2022-07-05T06:07:05.618482",
     "exception": false,
     "start_time": "2022-07-05T06:07:05.600332",
     "status": "completed"
    },
    "tags": []
   },
   "source": [
    "## Predict the disaster types as labels"
   ]
  },
  {
   "cell_type": "code",
   "execution_count": 27,
   "id": "3a0286e9",
   "metadata": {
    "execution": {
     "iopub.execute_input": "2022-07-05T06:07:05.649468Z",
     "iopub.status.busy": "2022-07-05T06:07:05.649161Z",
     "iopub.status.idle": "2022-07-05T06:07:05.652396Z",
     "shell.execute_reply": "2022-07-05T06:07:05.651719Z"
    },
    "papermill": {
     "duration": 0.020687,
     "end_time": "2022-07-05T06:07:05.654215",
     "exception": false,
     "start_time": "2022-07-05T06:07:05.633528",
     "status": "completed"
    },
    "tags": []
   },
   "outputs": [],
   "source": [
    "# Identify - what type of disasters and in what ratio\n",
    "# Find the disaster locations - possibly some kind of topic modeling would be required. Find a location from text\n",
    "#    https://medium.com/spatial-data-science/how-to-extract-locations-from-text-with-natural-language-processing-9b77035b3ea4"
   ]
  },
  {
   "cell_type": "code",
   "execution_count": 28,
   "id": "466e1385",
   "metadata": {
    "execution": {
     "iopub.execute_input": "2022-07-05T06:07:05.683660Z",
     "iopub.status.busy": "2022-07-05T06:07:05.683343Z",
     "iopub.status.idle": "2022-07-05T06:07:05.932416Z",
     "shell.execute_reply": "2022-07-05T06:07:05.931626Z"
    },
    "papermill": {
     "duration": 0.265838,
     "end_time": "2022-07-05T06:07:05.934630",
     "exception": false,
     "start_time": "2022-07-05T06:07:05.668792",
     "status": "completed"
    },
    "tags": []
   },
   "outputs": [],
   "source": [
    "### Identify - what type of disasters are in a block of tweets\n",
    "# Load the disaster files\n",
    "# Earthquake\n",
    "df_earthquake_dev = pd.read_csv('../data/HumAID_data_v1.0/event_type/earthquake_dev.tsv', sep='\\t')\n",
    "df_earthquake_train = pd.read_csv('../data/HumAID_data_v1.0/event_type/earthquake_train.tsv', sep='\\t')\n",
    "df_earthquake_test = pd.read_csv('../data/HumAID_data_v1.0/event_type/earthquake_test.tsv', sep='\\t')\n",
    "\n",
    "df_earthquake_dev['disaster_type'] = 'earthquake'\n",
    "df_earthquake_train['disaster_type'] = 'earthquake'\n",
    "df_earthquake_test['disaster_type'] = 'earthquake'\n",
    "\n",
    "# Fire\n",
    "df_fire_dev = pd.read_csv('../data/HumAID_data_v1.0/event_type/fire_dev.tsv', sep='\\t')\n",
    "df_fire_train = pd.read_csv('../data/HumAID_data_v1.0/event_type/fire_train.tsv', sep='\\t')\n",
    "df_fire_test = pd.read_csv('../data/HumAID_data_v1.0/event_type/fire_test.tsv', sep='\\t')\n",
    "\n",
    "df_fire_dev['disaster_type'] = 'fire'\n",
    "df_fire_train['disaster_type'] = 'fire'\n",
    "df_fire_test['disaster_type'] = 'fire'\n",
    "\n",
    "# Flood\n",
    "df_flood_dev = pd.read_csv('../data/HumAID_data_v1.0/event_type/flood_dev.tsv', sep='\\t')\n",
    "df_flood_train = pd.read_csv('../data/HumAID_data_v1.0/event_type/flood_train.tsv', sep='\\t')\n",
    "df_flood_test = pd.read_csv('../data/HumAID_data_v1.0/event_type/flood_test.tsv', sep='\\t')\n",
    "\n",
    "df_flood_dev['disaster_type'] = 'flood'\n",
    "df_flood_train['disaster_type'] = 'flood'\n",
    "df_flood_test['disaster_type'] = 'flood'\n",
    "\n",
    "# Hurricane\n",
    "df_hurricane_dev = pd.read_csv('../data/HumAID_data_v1.0/event_type/hurricane_dev.tsv', sep='\\t')\n",
    "df_hurricane_train = pd.read_csv('../data/HumAID_data_v1.0/event_type/hurricane_train.tsv', sep='\\t')\n",
    "df_hurricane_test = pd.read_csv('../data/HumAID_data_v1.0/event_type/hurricane_test.tsv', sep='\\t')\n",
    "\n",
    "df_hurricane_dev['disaster_type'] = 'hurricane'\n",
    "df_hurricane_train['disaster_type'] = 'hurricane'\n",
    "df_hurricane_test['disaster_type'] = 'hurricane'\n",
    "\n",
    "df_disaster_dev = pd.concat([df_earthquake_dev, df_fire_dev, df_flood_dev, df_hurricane_dev])\n",
    "df_disaster_train = pd.concat([df_earthquake_train, df_fire_train, df_flood_train, df_hurricane_train])\n",
    "df_disaster_test = pd.concat([df_earthquake_test, df_fire_test, df_flood_test, df_hurricane_test])"
   ]
  },
  {
   "cell_type": "code",
   "execution_count": 29,
   "id": "676180b9",
   "metadata": {
    "execution": {
     "iopub.execute_input": "2022-07-05T06:07:05.965934Z",
     "iopub.status.busy": "2022-07-05T06:07:05.965622Z",
     "iopub.status.idle": "2022-07-05T06:07:05.978300Z",
     "shell.execute_reply": "2022-07-05T06:07:05.977549Z"
    },
    "papermill": {
     "duration": 0.030424,
     "end_time": "2022-07-05T06:07:05.980217",
     "exception": false,
     "start_time": "2022-07-05T06:07:05.949793",
     "status": "completed"
    },
    "tags": []
   },
   "outputs": [
    {
     "data": {
      "text/html": [
       "<div>\n",
       "<style scoped>\n",
       "    .dataframe tbody tr th:only-of-type {\n",
       "        vertical-align: middle;\n",
       "    }\n",
       "\n",
       "    .dataframe tbody tr th {\n",
       "        vertical-align: top;\n",
       "    }\n",
       "\n",
       "    .dataframe thead th {\n",
       "        text-align: right;\n",
       "    }\n",
       "</style>\n",
       "<table border=\"1\" class=\"dataframe\">\n",
       "  <thead>\n",
       "    <tr style=\"text-align: right;\">\n",
       "      <th></th>\n",
       "      <th>tweet_id</th>\n",
       "      <th>tweet_text</th>\n",
       "      <th>class_label</th>\n",
       "      <th>disaster_type</th>\n",
       "    </tr>\n",
       "  </thead>\n",
       "  <tbody>\n",
       "    <tr>\n",
       "      <th>17864</th>\n",
       "      <td>908328157731680263</td>\n",
       "      <td>@thloveisradiant Im praying for you guys there...</td>\n",
       "      <td>sympathy_and_support</td>\n",
       "      <td>hurricane</td>\n",
       "    </tr>\n",
       "    <tr>\n",
       "      <th>37</th>\n",
       "      <td>730473637602574336</td>\n",
       "      <td>#Penniac residents to raise money for victims ...</td>\n",
       "      <td>rescue_volunteering_or_donation_effort</td>\n",
       "      <td>fire</td>\n",
       "    </tr>\n",
       "    <tr>\n",
       "      <th>14427</th>\n",
       "      <td>912408464479092737</td>\n",
       "      <td>RT @nccapconn: Hurricane Maria forecasts shift...</td>\n",
       "      <td>other_relevant_information</td>\n",
       "      <td>hurricane</td>\n",
       "    </tr>\n",
       "    <tr>\n",
       "      <th>5137</th>\n",
       "      <td>1064431837366312960</td>\n",
       "      <td>Yes, What a name  for a town all but destroyed...</td>\n",
       "      <td>infrastructure_and_utility_damage</td>\n",
       "      <td>fire</td>\n",
       "    </tr>\n",
       "    <tr>\n",
       "      <th>3700</th>\n",
       "      <td>1039532649860268033</td>\n",
       "      <td>Ok my husband is way too crazy, as you know he...</td>\n",
       "      <td>not_humanitarian</td>\n",
       "      <td>hurricane</td>\n",
       "    </tr>\n",
       "  </tbody>\n",
       "</table>\n",
       "</div>"
      ],
      "text/plain": [
       "                  tweet_id                                         tweet_text  \\\n",
       "17864   908328157731680263  @thloveisradiant Im praying for you guys there...   \n",
       "37      730473637602574336  #Penniac residents to raise money for victims ...   \n",
       "14427   912408464479092737  RT @nccapconn: Hurricane Maria forecasts shift...   \n",
       "5137   1064431837366312960  Yes, What a name  for a town all but destroyed...   \n",
       "3700   1039532649860268033  Ok my husband is way too crazy, as you know he...   \n",
       "\n",
       "                                  class_label disaster_type  \n",
       "17864                    sympathy_and_support     hurricane  \n",
       "37     rescue_volunteering_or_donation_effort          fire  \n",
       "14427              other_relevant_information     hurricane  \n",
       "5137        infrastructure_and_utility_damage          fire  \n",
       "3700                         not_humanitarian     hurricane  "
      ]
     },
     "execution_count": 29,
     "metadata": {},
     "output_type": "execute_result"
    }
   ],
   "source": [
    "df_disaster_train.sample(5)"
   ]
  },
  {
   "cell_type": "code",
   "execution_count": 30,
   "id": "c9a43ad5",
   "metadata": {
    "execution": {
     "iopub.execute_input": "2022-07-05T06:07:06.010907Z",
     "iopub.status.busy": "2022-07-05T06:07:06.010641Z",
     "iopub.status.idle": "2022-07-05T06:07:08.133801Z",
     "shell.execute_reply": "2022-07-05T06:07:08.133158Z"
    },
    "papermill": {
     "duration": 2.140255,
     "end_time": "2022-07-05T06:07:08.135735",
     "exception": false,
     "start_time": "2022-07-05T06:07:05.995480",
     "status": "completed"
    },
    "tags": []
   },
   "outputs": [
    {
     "data": {
      "text/plain": [
       "(53522, 11324)"
      ]
     },
     "execution_count": 30,
     "metadata": {},
     "output_type": "execute_result"
    }
   ],
   "source": [
    "# Try predicting the disaster type of a corpus of tweets\n",
    "bigram_vectorizer = TfidfVectorizer(stop_words='english', min_df=10, ngram_range=(1,2))\n",
    "X_train = bigram_vectorizer.fit_transform(df_disaster_train['tweet_text'])\n",
    "y_train = list(df_disaster_train['disaster_type'])\n",
    "X_train.shape"
   ]
  },
  {
   "cell_type": "code",
   "execution_count": 31,
   "id": "3036c042",
   "metadata": {
    "execution": {
     "iopub.execute_input": "2022-07-05T06:07:08.169994Z",
     "iopub.status.busy": "2022-07-05T06:07:08.169689Z",
     "iopub.status.idle": "2022-07-05T06:07:11.337235Z",
     "shell.execute_reply": "2022-07-05T06:07:11.336344Z"
    },
    "papermill": {
     "duration": 3.187763,
     "end_time": "2022-07-05T06:07:11.340200",
     "exception": false,
     "start_time": "2022-07-05T06:07:08.152437",
     "status": "completed"
    },
    "tags": []
   },
   "outputs": [
    {
     "data": {
      "text/html": [
       "<style>#sk-container-id-4 {color: black;background-color: white;}#sk-container-id-4 pre{padding: 0;}#sk-container-id-4 div.sk-toggleable {background-color: white;}#sk-container-id-4 label.sk-toggleable__label {cursor: pointer;display: block;width: 100%;margin-bottom: 0;padding: 0.3em;box-sizing: border-box;text-align: center;}#sk-container-id-4 label.sk-toggleable__label-arrow:before {content: \"▸\";float: left;margin-right: 0.25em;color: #696969;}#sk-container-id-4 label.sk-toggleable__label-arrow:hover:before {color: black;}#sk-container-id-4 div.sk-estimator:hover label.sk-toggleable__label-arrow:before {color: black;}#sk-container-id-4 div.sk-toggleable__content {max-height: 0;max-width: 0;overflow: hidden;text-align: left;background-color: #f0f8ff;}#sk-container-id-4 div.sk-toggleable__content pre {margin: 0.2em;color: black;border-radius: 0.25em;background-color: #f0f8ff;}#sk-container-id-4 input.sk-toggleable__control:checked~div.sk-toggleable__content {max-height: 200px;max-width: 100%;overflow: auto;}#sk-container-id-4 input.sk-toggleable__control:checked~label.sk-toggleable__label-arrow:before {content: \"▾\";}#sk-container-id-4 div.sk-estimator input.sk-toggleable__control:checked~label.sk-toggleable__label {background-color: #d4ebff;}#sk-container-id-4 div.sk-label input.sk-toggleable__control:checked~label.sk-toggleable__label {background-color: #d4ebff;}#sk-container-id-4 input.sk-hidden--visually {border: 0;clip: rect(1px 1px 1px 1px);clip: rect(1px, 1px, 1px, 1px);height: 1px;margin: -1px;overflow: hidden;padding: 0;position: absolute;width: 1px;}#sk-container-id-4 div.sk-estimator {font-family: monospace;background-color: #f0f8ff;border: 1px dotted black;border-radius: 0.25em;box-sizing: border-box;margin-bottom: 0.5em;}#sk-container-id-4 div.sk-estimator:hover {background-color: #d4ebff;}#sk-container-id-4 div.sk-parallel-item::after {content: \"\";width: 100%;border-bottom: 1px solid gray;flex-grow: 1;}#sk-container-id-4 div.sk-label:hover label.sk-toggleable__label {background-color: #d4ebff;}#sk-container-id-4 div.sk-serial::before {content: \"\";position: absolute;border-left: 1px solid gray;box-sizing: border-box;top: 0;bottom: 0;left: 50%;z-index: 0;}#sk-container-id-4 div.sk-serial {display: flex;flex-direction: column;align-items: center;background-color: white;padding-right: 0.2em;padding-left: 0.2em;position: relative;}#sk-container-id-4 div.sk-item {position: relative;z-index: 1;}#sk-container-id-4 div.sk-parallel {display: flex;align-items: stretch;justify-content: center;background-color: white;position: relative;}#sk-container-id-4 div.sk-item::before, #sk-container-id-4 div.sk-parallel-item::before {content: \"\";position: absolute;border-left: 1px solid gray;box-sizing: border-box;top: 0;bottom: 0;left: 50%;z-index: -1;}#sk-container-id-4 div.sk-parallel-item {display: flex;flex-direction: column;z-index: 1;position: relative;background-color: white;}#sk-container-id-4 div.sk-parallel-item:first-child::after {align-self: flex-end;width: 50%;}#sk-container-id-4 div.sk-parallel-item:last-child::after {align-self: flex-start;width: 50%;}#sk-container-id-4 div.sk-parallel-item:only-child::after {width: 0;}#sk-container-id-4 div.sk-dashed-wrapped {border: 1px dashed gray;margin: 0 0.4em 0.5em 0.4em;box-sizing: border-box;padding-bottom: 0.4em;background-color: white;}#sk-container-id-4 div.sk-label label {font-family: monospace;font-weight: bold;display: inline-block;line-height: 1.2em;}#sk-container-id-4 div.sk-label-container {text-align: center;}#sk-container-id-4 div.sk-container {/* jupyter's `normalize.less` sets `[hidden] { display: none; }` but bootstrap.min.css set `[hidden] { display: none !important; }` so we also need the `!important` here to be able to override the default hidden behavior on the sphinx rendered scikit-learn.org. See: https://github.com/scikit-learn/scikit-learn/issues/21755 */display: inline-block !important;position: relative;}#sk-container-id-4 div.sk-text-repr-fallback {display: none;}</style><div id=\"sk-container-id-4\" class=\"sk-top-container\"><div class=\"sk-text-repr-fallback\"><pre>LogisticRegression(max_iter=1000)</pre><b>In a Jupyter environment, please rerun this cell to show the HTML representation or trust the notebook. <br />On GitHub, the HTML representation is unable to render, please try loading this page with nbviewer.org.</b></div><div class=\"sk-container\" hidden><div class=\"sk-item\"><div class=\"sk-estimator sk-toggleable\"><input class=\"sk-toggleable__control sk-hidden--visually\" id=\"sk-estimator-id-4\" type=\"checkbox\" checked><label for=\"sk-estimator-id-4\" class=\"sk-toggleable__label sk-toggleable__label-arrow\">LogisticRegression</label><div class=\"sk-toggleable__content\"><pre>LogisticRegression(max_iter=1000)</pre></div></div></div></div></div>"
      ],
      "text/plain": [
       "LogisticRegression(max_iter=1000)"
      ]
     },
     "execution_count": 31,
     "metadata": {},
     "output_type": "execute_result"
    }
   ],
   "source": [
    "clf = LogisticRegression(solver='lbfgs', multi_class='auto', random_state=random_seed, max_iter=1000)\n",
    "clf.fit(X_train, y_train)"
   ]
  },
  {
   "cell_type": "code",
   "execution_count": 32,
   "id": "1d5376bf",
   "metadata": {
    "execution": {
     "iopub.execute_input": "2022-07-05T06:07:11.394615Z",
     "iopub.status.busy": "2022-07-05T06:07:11.394214Z",
     "iopub.status.idle": "2022-07-05T06:07:11.844569Z",
     "shell.execute_reply": "2022-07-05T06:07:11.843769Z"
    },
    "papermill": {
     "duration": 0.480275,
     "end_time": "2022-07-05T06:07:11.846677",
     "exception": false,
     "start_time": "2022-07-05T06:07:11.366402",
     "status": "completed"
    },
    "tags": []
   },
   "outputs": [],
   "source": [
    "X_test = bigram_vectorizer.transform(df_disaster_test['tweet_text'])\n",
    "y_test = list(df_disaster_test['disaster_type'])\n",
    "\n",
    "lr_tiny_test_preds = clf.predict(X_test)"
   ]
  },
  {
   "cell_type": "code",
   "execution_count": 33,
   "id": "e4477f9c",
   "metadata": {
    "execution": {
     "iopub.execute_input": "2022-07-05T06:07:11.876791Z",
     "iopub.status.busy": "2022-07-05T06:07:11.876508Z",
     "iopub.status.idle": "2022-07-05T06:07:11.926501Z",
     "shell.execute_reply": "2022-07-05T06:07:11.925830Z"
    },
    "papermill": {
     "duration": 0.066563,
     "end_time": "2022-07-05T06:07:11.928320",
     "exception": false,
     "start_time": "2022-07-05T06:07:11.861757",
     "status": "completed"
    },
    "tags": []
   },
   "outputs": [
    {
     "name": "stdout",
     "output_type": "stream",
     "text": [
      "0.9642183314925599\n"
     ]
    }
   ],
   "source": [
    "lr_f1 = f1_score(y_test, lr_tiny_test_preds, average='macro')\n",
    "print(lr_f1)"
   ]
  },
  {
   "cell_type": "markdown",
   "id": "08be0095",
   "metadata": {
    "papermill": {
     "duration": 0.014935,
     "end_time": "2022-07-05T06:07:11.957232",
     "exception": false,
     "start_time": "2022-07-05T06:07:11.942297",
     "status": "completed"
    },
    "tags": []
   },
   "source": [
    "## Predict each disaster type individually, use the micro-score in the F1 score"
   ]
  },
  {
   "cell_type": "code",
   "execution_count": 34,
   "id": "e8bc4dda",
   "metadata": {
    "execution": {
     "iopub.execute_input": "2022-07-05T06:07:11.987358Z",
     "iopub.status.busy": "2022-07-05T06:07:11.987052Z",
     "iopub.status.idle": "2022-07-05T06:07:11.998402Z",
     "shell.execute_reply": "2022-07-05T06:07:11.997696Z"
    },
    "papermill": {
     "duration": 0.028633,
     "end_time": "2022-07-05T06:07:12.000238",
     "exception": false,
     "start_time": "2022-07-05T06:07:11.971605",
     "status": "completed"
    },
    "tags": []
   },
   "outputs": [
    {
     "data": {
      "text/plain": [
       "Counter({'earthquake': 1733, 'hurricane': 9261, 'flood': 2099, 'fire': 2067})"
      ]
     },
     "execution_count": 34,
     "metadata": {},
     "output_type": "execute_result"
    }
   ],
   "source": [
    "Counter(lr_tiny_test_preds)"
   ]
  },
  {
   "cell_type": "code",
   "execution_count": 35,
   "id": "f3477084",
   "metadata": {
    "execution": {
     "iopub.execute_input": "2022-07-05T06:07:12.029844Z",
     "iopub.status.busy": "2022-07-05T06:07:12.029578Z",
     "iopub.status.idle": "2022-07-05T06:07:12.086075Z",
     "shell.execute_reply": "2022-07-05T06:07:12.085401Z"
    },
    "papermill": {
     "duration": 0.073466,
     "end_time": "2022-07-05T06:07:12.087894",
     "exception": false,
     "start_time": "2022-07-05T06:07:12.014428",
     "status": "completed"
    },
    "tags": []
   },
   "outputs": [
    {
     "name": "stdout",
     "output_type": "stream",
     "text": [
      "0.9447264523406655\n"
     ]
    },
    {
     "data": {
      "text/plain": [
       "Counter({'earthquake': 1675, 'hurricane': 94, 'flood': 2, 'fire': 2})"
      ]
     },
     "execution_count": 35,
     "metadata": {},
     "output_type": "execute_result"
    }
   ],
   "source": [
    "X_test = bigram_vectorizer.transform(df_earthquake_test['tweet_text'])\n",
    "y_test = list(df_earthquake_test['disaster_type'])\n",
    "\n",
    "lr_tiny_test_preds = clf.predict(X_test)\n",
    "print(f1_score(y_test, lr_tiny_test_preds, average='micro'))\n",
    "Counter(lr_tiny_test_preds)"
   ]
  },
  {
   "cell_type": "code",
   "execution_count": 36,
   "id": "1d0a503f",
   "metadata": {
    "execution": {
     "iopub.execute_input": "2022-07-05T06:07:12.118952Z",
     "iopub.status.busy": "2022-07-05T06:07:12.118675Z",
     "iopub.status.idle": "2022-07-05T06:07:12.407823Z",
     "shell.execute_reply": "2022-07-05T06:07:12.407094Z"
    },
    "papermill": {
     "duration": 0.307555,
     "end_time": "2022-07-05T06:07:12.409698",
     "exception": false,
     "start_time": "2022-07-05T06:07:12.102143",
     "status": "completed"
    },
    "tags": []
   },
   "outputs": [
    {
     "name": "stdout",
     "output_type": "stream",
     "text": [
      "0.9913004684363149\n"
     ]
    },
    {
     "data": {
      "text/plain": [
       "Counter({'hurricane': 8888, 'fire': 15, 'flood': 7, 'earthquake': 56})"
      ]
     },
     "execution_count": 36,
     "metadata": {},
     "output_type": "execute_result"
    }
   ],
   "source": [
    "X_test = bigram_vectorizer.transform(df_hurricane_test['tweet_text'])\n",
    "y_test = list(df_hurricane_test['disaster_type'])\n",
    "\n",
    "lr_tiny_test_preds = clf.predict(X_test)\n",
    "print(f1_score(y_test, lr_tiny_test_preds, average='micro'))\n",
    "Counter(lr_tiny_test_preds)"
   ]
  },
  {
   "cell_type": "code",
   "execution_count": 37,
   "id": "eb61bde8",
   "metadata": {
    "execution": {
     "iopub.execute_input": "2022-07-05T06:07:12.442305Z",
     "iopub.status.busy": "2022-07-05T06:07:12.441382Z",
     "iopub.status.idle": "2022-07-05T06:07:12.532005Z",
     "shell.execute_reply": "2022-07-05T06:07:12.531481Z"
    },
    "papermill": {
     "duration": 0.109142,
     "end_time": "2022-07-05T06:07:12.533909",
     "exception": false,
     "start_time": "2022-07-05T06:07:12.424767",
     "status": "completed"
    },
    "tags": []
   },
   "outputs": [
    {
     "name": "stdout",
     "output_type": "stream",
     "text": [
      "0.9439927732610659\n"
     ]
    },
    {
     "data": {
      "text/plain": [
       "Counter({'flood': 2090, 'hurricane': 119, 'fire': 5})"
      ]
     },
     "execution_count": 37,
     "metadata": {},
     "output_type": "execute_result"
    }
   ],
   "source": [
    "X_test = bigram_vectorizer.transform(df_flood_test['tweet_text'])\n",
    "y_test = list(df_flood_test['disaster_type'])\n",
    "\n",
    "lr_tiny_test_preds = clf.predict(X_test)\n",
    "print(f1_score(y_test, lr_tiny_test_preds, average='micro'))\n",
    "Counter(lr_tiny_test_preds)"
   ]
  },
  {
   "cell_type": "code",
   "execution_count": 38,
   "id": "908743e4",
   "metadata": {
    "execution": {
     "iopub.execute_input": "2022-07-05T06:07:12.564411Z",
     "iopub.status.busy": "2022-07-05T06:07:12.564135Z",
     "iopub.status.idle": "2022-07-05T06:07:12.647406Z",
     "shell.execute_reply": "2022-07-05T06:07:12.646764Z"
    },
    "papermill": {
     "duration": 0.10058,
     "end_time": "2022-07-05T06:07:12.649082",
     "exception": false,
     "start_time": "2022-07-05T06:07:12.548502",
     "status": "completed"
    },
    "tags": []
   },
   "outputs": [
    {
     "name": "stdout",
     "output_type": "stream",
     "text": [
      "0.9265971907566832\n"
     ]
    },
    {
     "data": {
      "text/plain": [
       "Counter({'fire': 2045, 'hurricane': 160, 'earthquake': 2})"
      ]
     },
     "execution_count": 38,
     "metadata": {},
     "output_type": "execute_result"
    }
   ],
   "source": [
    "X_test = bigram_vectorizer.transform(df_fire_test['tweet_text'])\n",
    "y_test = list(df_fire_test['disaster_type'])\n",
    "\n",
    "lr_tiny_test_preds = clf.predict(X_test)\n",
    "print(f1_score(y_test, lr_tiny_test_preds, average='micro'))\n",
    "Counter(lr_tiny_test_preds)"
   ]
  },
  {
   "cell_type": "code",
   "execution_count": 39,
   "id": "5e516fb7",
   "metadata": {
    "execution": {
     "iopub.execute_input": "2022-07-05T06:07:12.681310Z",
     "iopub.status.busy": "2022-07-05T06:07:12.680689Z",
     "iopub.status.idle": "2022-07-05T06:07:20.624987Z",
     "shell.execute_reply": "2022-07-05T06:07:20.624326Z"
    },
    "lines_to_next_cell": 0,
    "papermill": {
     "duration": 7.962904,
     "end_time": "2022-07-05T06:07:20.626853",
     "exception": false,
     "start_time": "2022-07-05T06:07:12.663949",
     "status": "completed"
    },
    "tags": []
   },
   "outputs": [
    {
     "name": "stdout",
     "output_type": "stream",
     "text": [
      "other_relevant_information F1 score:  0.8983767645763492 , train rows:  8498\n"
     ]
    },
    {
     "name": "stdout",
     "output_type": "stream",
     "text": [
      "caution_and_advice F1 score:  0.8363553020362846 , train rows:  3773\n"
     ]
    },
    {
     "name": "stdout",
     "output_type": "stream",
     "text": [
      "sympathy_and_support F1 score:  0.9360284835263877 , train rows:  6248\n"
     ]
    },
    {
     "name": "stdout",
     "output_type": "stream",
     "text": [
      "infrastructure_and_utility_damage F1 score:  0.8679136543477588 , train rows:  5715\n"
     ]
    },
    {
     "name": "stdout",
     "output_type": "stream",
     "text": [
      "rescue_volunteering_or_donation_effort F1 score:  0.9456914321614958 , train rows:  14889\n"
     ]
    },
    {
     "name": "stdout",
     "output_type": "stream",
     "text": [
      "displaced_people_and_evacuations F1 score:  0.5897444464004213 , train rows:  2800\n"
     ]
    },
    {
     "name": "stdout",
     "output_type": "stream",
     "text": [
      "not_humanitarian F1 score:  0.8701403054527327 , train rows:  4407\n"
     ]
    },
    {
     "name": "stdout",
     "output_type": "stream",
     "text": [
      "requests_or_urgent_needs F1 score:  0.8179607341368798 , train rows:  1833\n"
     ]
    },
    {
     "name": "stdout",
     "output_type": "stream",
     "text": [
      "injured_or_dead_people F1 score:  0.9003534657397122 , train rows:  5109\n"
     ]
    },
    {
     "name": "stdout",
     "output_type": "stream",
     "text": [
      "missing_or_found_people F1 score:  0.20680291104231638 , train rows:  250\n"
     ]
    }
   ],
   "source": [
    "# TODO: Check if certain class of tweets is a better predictor of what kind of disaster is going on\n",
    "class_labels = list(df_disaster_train['class_label'].unique())\n",
    "\n",
    "for class_label in class_labels:\n",
    "    df_tmp = df_disaster_train[df_disaster_train['class_label'] == class_label]\n",
    "\n",
    "    bigram_vectorizer = TfidfVectorizer(stop_words='english', min_df=10, ngram_range=(1,2))\n",
    "    X_train = bigram_vectorizer.fit_transform(df_tmp['tweet_text'])\n",
    "    y_train = list(df_tmp['disaster_type'])\n",
    "    #print(f'{class_label} train rows: ', X_train.shape[0])\n",
    "\n",
    "    clf = LogisticRegression(solver='lbfgs', multi_class='auto', random_state=random_seed, max_iter=1000)\n",
    "    clf.fit(X_train, y_train)\n",
    "\n",
    "    X_test = bigram_vectorizer.transform(df_disaster_test['tweet_text'])\n",
    "    y_test = list(df_disaster_test['disaster_type'])\n",
    "\n",
    "    lr_tiny_test_preds = clf.predict(X_test)\n",
    "\n",
    "    print(f'{class_label} F1 score: ', f1_score(y_test, lr_tiny_test_preds, average='macro'),\n",
    "          ', train rows: ', X_train.shape[0])"
   ]
  },
  {
   "cell_type": "markdown",
   "id": "7da362c4",
   "metadata": {
    "lines_to_next_cell": 2,
    "papermill": {
     "duration": 0.019015,
     "end_time": "2022-07-05T06:07:20.662265",
     "exception": false,
     "start_time": "2022-07-05T06:07:20.643250",
     "status": "completed"
    },
    "tags": []
   },
   "source": [
    "## Identify and plot the disaster locations from the tweets"
   ]
  },
  {
   "cell_type": "code",
   "execution_count": 40,
   "id": "5b1e86b3",
   "metadata": {
    "execution": {
     "iopub.execute_input": "2022-07-05T06:07:20.696489Z",
     "iopub.status.busy": "2022-07-05T06:07:20.696182Z",
     "iopub.status.idle": "2022-07-05T06:07:20.699511Z",
     "shell.execute_reply": "2022-07-05T06:07:20.698772Z"
    },
    "papermill": {
     "duration": 0.02275,
     "end_time": "2022-07-05T06:07:20.701392",
     "exception": false,
     "start_time": "2022-07-05T06:07:20.678642",
     "status": "completed"
    },
    "tags": []
   },
   "outputs": [],
   "source": [
    "# Locations!!!"
   ]
  },
  {
   "cell_type": "code",
   "execution_count": 41,
   "id": "9e5859f8",
   "metadata": {
    "execution": {
     "iopub.execute_input": "2022-07-05T06:07:20.736946Z",
     "iopub.status.busy": "2022-07-05T06:07:20.736654Z",
     "iopub.status.idle": "2022-07-05T06:07:21.450078Z",
     "shell.execute_reply": "2022-07-05T06:07:21.449361Z"
    },
    "papermill": {
     "duration": 0.733026,
     "end_time": "2022-07-05T06:07:21.452186",
     "exception": false,
     "start_time": "2022-07-05T06:07:20.719160",
     "status": "completed"
    },
    "tags": []
   },
   "outputs": [],
   "source": [
    "import spacy\n",
    "from spacy import displacy "
   ]
  },
  {
   "cell_type": "code",
   "execution_count": 42,
   "id": "da221cae",
   "metadata": {
    "execution": {
     "iopub.execute_input": "2022-07-05T06:07:21.487310Z",
     "iopub.status.busy": "2022-07-05T06:07:21.486917Z",
     "iopub.status.idle": "2022-07-05T06:07:21.490550Z",
     "shell.execute_reply": "2022-07-05T06:07:21.489467Z"
    },
    "papermill": {
     "duration": 0.02355,
     "end_time": "2022-07-05T06:07:21.492831",
     "exception": false,
     "start_time": "2022-07-05T06:07:21.469281",
     "status": "completed"
    },
    "tags": []
   },
   "outputs": [],
   "source": [
    "#!python -m spacy download en_core_web_sm\n",
    "#!python -m spacy download xx_ent_wiki_sm"
   ]
  },
  {
   "cell_type": "code",
   "execution_count": 43,
   "id": "6a4cf938",
   "metadata": {
    "execution": {
     "iopub.execute_input": "2022-07-05T06:07:21.528168Z",
     "iopub.status.busy": "2022-07-05T06:07:21.527867Z",
     "iopub.status.idle": "2022-07-05T06:07:23.298503Z",
     "shell.execute_reply": "2022-07-05T06:07:23.297807Z"
    },
    "papermill": {
     "duration": 1.790573,
     "end_time": "2022-07-05T06:07:23.300572",
     "exception": false,
     "start_time": "2022-07-05T06:07:21.509999",
     "status": "completed"
    },
    "tags": []
   },
   "outputs": [],
   "source": [
    "nlp = spacy.load('xx_ent_wiki_sm')"
   ]
  },
  {
   "cell_type": "code",
   "execution_count": 44,
   "id": "36e8dfa4",
   "metadata": {
    "execution": {
     "iopub.execute_input": "2022-07-05T06:07:23.334718Z",
     "iopub.status.busy": "2022-07-05T06:07:23.334425Z",
     "iopub.status.idle": "2022-07-05T06:07:46.520018Z",
     "shell.execute_reply": "2022-07-05T06:07:46.519234Z"
    },
    "papermill": {
     "duration": 23.205001,
     "end_time": "2022-07-05T06:07:46.522339",
     "exception": false,
     "start_time": "2022-07-05T06:07:23.317338",
     "status": "completed"
    },
    "tags": []
   },
   "outputs": [
    {
     "name": "stderr",
     "output_type": "stream",
     "text": [
      "\r",
      "0it [00:00, ?it/s]"
     ]
    },
    {
     "name": "stderr",
     "output_type": "stream",
     "text": [
      "\r",
      "31it [00:00, 309.86it/s]"
     ]
    },
    {
     "name": "stderr",
     "output_type": "stream",
     "text": [
      "\r",
      "68it [00:00, 344.88it/s]"
     ]
    },
    {
     "name": "stderr",
     "output_type": "stream",
     "text": [
      "\r",
      "107it [00:00, 363.65it/s]"
     ]
    },
    {
     "name": "stderr",
     "output_type": "stream",
     "text": [
      "\r",
      "147it [00:00, 375.37it/s]"
     ]
    },
    {
     "name": "stderr",
     "output_type": "stream",
     "text": [
      "\r",
      "186it [00:00, 378.55it/s]"
     ]
    },
    {
     "name": "stderr",
     "output_type": "stream",
     "text": [
      "\r",
      "227it [00:00, 386.09it/s]"
     ]
    },
    {
     "name": "stderr",
     "output_type": "stream",
     "text": [
      "\r",
      "266it [00:00, 381.17it/s]"
     ]
    },
    {
     "name": "stderr",
     "output_type": "stream",
     "text": [
      "\r",
      "305it [00:00, 381.10it/s]"
     ]
    },
    {
     "name": "stderr",
     "output_type": "stream",
     "text": [
      "\r",
      "344it [00:00, 377.48it/s]"
     ]
    },
    {
     "name": "stderr",
     "output_type": "stream",
     "text": [
      "\r",
      "385it [00:01, 384.93it/s]"
     ]
    },
    {
     "name": "stderr",
     "output_type": "stream",
     "text": [
      "\r",
      "425it [00:01, 387.94it/s]"
     ]
    },
    {
     "name": "stderr",
     "output_type": "stream",
     "text": [
      "\r",
      "464it [00:01, 387.51it/s]"
     ]
    },
    {
     "name": "stderr",
     "output_type": "stream",
     "text": [
      "\r",
      "504it [00:01, 391.07it/s]"
     ]
    },
    {
     "name": "stderr",
     "output_type": "stream",
     "text": [
      "\r",
      "545it [00:01, 396.09it/s]"
     ]
    },
    {
     "name": "stderr",
     "output_type": "stream",
     "text": [
      "\r",
      "587it [00:01, 402.59it/s]"
     ]
    },
    {
     "name": "stderr",
     "output_type": "stream",
     "text": [
      "\r",
      "629it [00:01, 407.41it/s]"
     ]
    },
    {
     "name": "stderr",
     "output_type": "stream",
     "text": [
      "\r",
      "670it [00:01, 406.03it/s]"
     ]
    },
    {
     "name": "stderr",
     "output_type": "stream",
     "text": [
      "\r",
      "712it [00:01, 405.50it/s]"
     ]
    },
    {
     "name": "stderr",
     "output_type": "stream",
     "text": [
      "\r",
      "753it [00:01, 375.45it/s]"
     ]
    },
    {
     "name": "stderr",
     "output_type": "stream",
     "text": [
      "\r",
      "791it [00:02, 366.92it/s]"
     ]
    },
    {
     "name": "stderr",
     "output_type": "stream",
     "text": [
      "\r",
      "828it [00:02, 363.17it/s]"
     ]
    },
    {
     "name": "stderr",
     "output_type": "stream",
     "text": [
      "\r",
      "865it [00:02, 363.07it/s]"
     ]
    },
    {
     "name": "stderr",
     "output_type": "stream",
     "text": [
      "\r",
      "902it [00:02, 363.92it/s]"
     ]
    },
    {
     "name": "stderr",
     "output_type": "stream",
     "text": [
      "\r",
      "942it [00:02, 372.49it/s]"
     ]
    },
    {
     "name": "stderr",
     "output_type": "stream",
     "text": [
      "\r",
      "983it [00:02, 383.03it/s]"
     ]
    },
    {
     "name": "stderr",
     "output_type": "stream",
     "text": [
      "\r",
      "1024it [00:02, 389.34it/s]"
     ]
    },
    {
     "name": "stderr",
     "output_type": "stream",
     "text": [
      "\r",
      "1066it [00:02, 396.70it/s]"
     ]
    },
    {
     "name": "stderr",
     "output_type": "stream",
     "text": [
      "\r",
      "1109it [00:02, 406.07it/s]"
     ]
    },
    {
     "name": "stderr",
     "output_type": "stream",
     "text": [
      "\r",
      "1150it [00:02, 401.12it/s]"
     ]
    },
    {
     "name": "stderr",
     "output_type": "stream",
     "text": [
      "\r",
      "1191it [00:03, 390.96it/s]"
     ]
    },
    {
     "name": "stderr",
     "output_type": "stream",
     "text": [
      "\r",
      "1231it [00:03, 378.62it/s]"
     ]
    },
    {
     "name": "stderr",
     "output_type": "stream",
     "text": [
      "\r",
      "1269it [00:03, 368.63it/s]"
     ]
    },
    {
     "name": "stderr",
     "output_type": "stream",
     "text": [
      "\r",
      "1306it [00:03, 365.27it/s]"
     ]
    },
    {
     "name": "stderr",
     "output_type": "stream",
     "text": [
      "\r",
      "1343it [00:03, 360.69it/s]"
     ]
    },
    {
     "name": "stderr",
     "output_type": "stream",
     "text": [
      "\r",
      "1380it [00:03, 361.81it/s]"
     ]
    },
    {
     "name": "stderr",
     "output_type": "stream",
     "text": [
      "\r",
      "1418it [00:03, 366.34it/s]"
     ]
    },
    {
     "name": "stderr",
     "output_type": "stream",
     "text": [
      "\r",
      "1455it [00:03, 347.70it/s]"
     ]
    },
    {
     "name": "stderr",
     "output_type": "stream",
     "text": [
      "\r",
      "1490it [00:03, 345.54it/s]"
     ]
    },
    {
     "name": "stderr",
     "output_type": "stream",
     "text": [
      "\r",
      "1526it [00:04, 347.46it/s]"
     ]
    },
    {
     "name": "stderr",
     "output_type": "stream",
     "text": [
      "\r",
      "1563it [00:04, 352.74it/s]"
     ]
    },
    {
     "name": "stderr",
     "output_type": "stream",
     "text": [
      "\r",
      "1601it [00:04, 358.23it/s]"
     ]
    },
    {
     "name": "stderr",
     "output_type": "stream",
     "text": [
      "\r",
      "1639it [00:04, 362.58it/s]"
     ]
    },
    {
     "name": "stderr",
     "output_type": "stream",
     "text": [
      "\r",
      "1676it [00:04, 354.79it/s]"
     ]
    },
    {
     "name": "stderr",
     "output_type": "stream",
     "text": [
      "\r",
      "1712it [00:04, 349.97it/s]"
     ]
    },
    {
     "name": "stderr",
     "output_type": "stream",
     "text": [
      "\r",
      "1748it [00:04, 349.21it/s]"
     ]
    },
    {
     "name": "stderr",
     "output_type": "stream",
     "text": [
      "\r",
      "1784it [00:04, 352.32it/s]"
     ]
    },
    {
     "name": "stderr",
     "output_type": "stream",
     "text": [
      "\r",
      "1821it [00:04, 356.46it/s]"
     ]
    },
    {
     "name": "stderr",
     "output_type": "stream",
     "text": [
      "\r",
      "1857it [00:04, 351.68it/s]"
     ]
    },
    {
     "name": "stderr",
     "output_type": "stream",
     "text": [
      "\r",
      "1896it [00:05, 361.99it/s]"
     ]
    },
    {
     "name": "stderr",
     "output_type": "stream",
     "text": [
      "\r",
      "1935it [00:05, 369.60it/s]"
     ]
    },
    {
     "name": "stderr",
     "output_type": "stream",
     "text": [
      "\r",
      "1973it [00:05, 366.20it/s]"
     ]
    },
    {
     "name": "stderr",
     "output_type": "stream",
     "text": [
      "\r",
      "2010it [00:05, 364.95it/s]"
     ]
    },
    {
     "name": "stderr",
     "output_type": "stream",
     "text": [
      "\r",
      "2047it [00:05, 363.07it/s]"
     ]
    },
    {
     "name": "stderr",
     "output_type": "stream",
     "text": [
      "\r",
      "2084it [00:05, 348.20it/s]"
     ]
    },
    {
     "name": "stderr",
     "output_type": "stream",
     "text": [
      "\r",
      "2119it [00:05, 313.78it/s]"
     ]
    },
    {
     "name": "stderr",
     "output_type": "stream",
     "text": [
      "\r",
      "2152it [00:05, 312.97it/s]"
     ]
    },
    {
     "name": "stderr",
     "output_type": "stream",
     "text": [
      "\r",
      "2184it [00:05, 310.61it/s]"
     ]
    },
    {
     "name": "stderr",
     "output_type": "stream",
     "text": [
      "\r",
      "2218it [00:06, 315.98it/s]"
     ]
    },
    {
     "name": "stderr",
     "output_type": "stream",
     "text": [
      "\r",
      "2252it [00:06, 321.53it/s]"
     ]
    },
    {
     "name": "stderr",
     "output_type": "stream",
     "text": [
      "\r",
      "2288it [00:06, 329.02it/s]"
     ]
    },
    {
     "name": "stderr",
     "output_type": "stream",
     "text": [
      "\r",
      "2322it [00:06, 331.82it/s]"
     ]
    },
    {
     "name": "stderr",
     "output_type": "stream",
     "text": [
      "\r",
      "2356it [00:06, 326.53it/s]"
     ]
    },
    {
     "name": "stderr",
     "output_type": "stream",
     "text": [
      "\r",
      "2389it [00:06, 326.55it/s]"
     ]
    },
    {
     "name": "stderr",
     "output_type": "stream",
     "text": [
      "\r",
      "2423it [00:06, 329.36it/s]"
     ]
    },
    {
     "name": "stderr",
     "output_type": "stream",
     "text": [
      "\r",
      "2457it [00:06, 330.95it/s]"
     ]
    },
    {
     "name": "stderr",
     "output_type": "stream",
     "text": [
      "\r",
      "2492it [00:06, 334.60it/s]"
     ]
    },
    {
     "name": "stderr",
     "output_type": "stream",
     "text": [
      "\r",
      "2527it [00:06, 335.12it/s]"
     ]
    },
    {
     "name": "stderr",
     "output_type": "stream",
     "text": [
      "\r",
      "2561it [00:07, 334.64it/s]"
     ]
    },
    {
     "name": "stderr",
     "output_type": "stream",
     "text": [
      "\r",
      "2595it [00:07, 335.18it/s]"
     ]
    },
    {
     "name": "stderr",
     "output_type": "stream",
     "text": [
      "\r",
      "2629it [00:07, 333.64it/s]"
     ]
    },
    {
     "name": "stderr",
     "output_type": "stream",
     "text": [
      "\r",
      "2664it [00:07, 336.91it/s]"
     ]
    },
    {
     "name": "stderr",
     "output_type": "stream",
     "text": [
      "\r",
      "2698it [00:07, 337.50it/s]"
     ]
    },
    {
     "name": "stderr",
     "output_type": "stream",
     "text": [
      "\r",
      "2732it [00:07, 333.12it/s]"
     ]
    },
    {
     "name": "stderr",
     "output_type": "stream",
     "text": [
      "\r",
      "2766it [00:07, 326.05it/s]"
     ]
    },
    {
     "name": "stderr",
     "output_type": "stream",
     "text": [
      "\r",
      "2801it [00:07, 329.61it/s]"
     ]
    },
    {
     "name": "stderr",
     "output_type": "stream",
     "text": [
      "\r",
      "2835it [00:07, 330.83it/s]"
     ]
    },
    {
     "name": "stderr",
     "output_type": "stream",
     "text": [
      "\r",
      "2869it [00:08, 325.48it/s]"
     ]
    },
    {
     "name": "stderr",
     "output_type": "stream",
     "text": [
      "\r",
      "2902it [00:08, 324.93it/s]"
     ]
    },
    {
     "name": "stderr",
     "output_type": "stream",
     "text": [
      "\r",
      "2935it [00:08, 323.80it/s]"
     ]
    },
    {
     "name": "stderr",
     "output_type": "stream",
     "text": [
      "\r",
      "2968it [00:08, 323.35it/s]"
     ]
    },
    {
     "name": "stderr",
     "output_type": "stream",
     "text": [
      "\r",
      "3001it [00:08, 317.49it/s]"
     ]
    },
    {
     "name": "stderr",
     "output_type": "stream",
     "text": [
      "\r",
      "3033it [00:08, 317.05it/s]"
     ]
    },
    {
     "name": "stderr",
     "output_type": "stream",
     "text": [
      "\r",
      "3065it [00:08, 315.99it/s]"
     ]
    },
    {
     "name": "stderr",
     "output_type": "stream",
     "text": [
      "\r",
      "3100it [00:08, 325.61it/s]"
     ]
    },
    {
     "name": "stderr",
     "output_type": "stream",
     "text": [
      "\r",
      "3136it [00:08, 334.41it/s]"
     ]
    },
    {
     "name": "stderr",
     "output_type": "stream",
     "text": [
      "\r",
      "3173it [00:08, 342.48it/s]"
     ]
    },
    {
     "name": "stderr",
     "output_type": "stream",
     "text": [
      "\r",
      "3208it [00:09, 338.00it/s]"
     ]
    },
    {
     "name": "stderr",
     "output_type": "stream",
     "text": [
      "\r",
      "3242it [00:09, 329.51it/s]"
     ]
    },
    {
     "name": "stderr",
     "output_type": "stream",
     "text": [
      "\r",
      "3275it [00:09, 329.64it/s]"
     ]
    },
    {
     "name": "stderr",
     "output_type": "stream",
     "text": [
      "\r",
      "3308it [00:09, 322.69it/s]"
     ]
    },
    {
     "name": "stderr",
     "output_type": "stream",
     "text": [
      "\r",
      "3341it [00:09, 324.40it/s]"
     ]
    },
    {
     "name": "stderr",
     "output_type": "stream",
     "text": [
      "\r",
      "3374it [00:09, 316.52it/s]"
     ]
    },
    {
     "name": "stderr",
     "output_type": "stream",
     "text": [
      "\r",
      "3406it [00:09, 311.71it/s]"
     ]
    },
    {
     "name": "stderr",
     "output_type": "stream",
     "text": [
      "\r",
      "3440it [00:09, 318.07it/s]"
     ]
    },
    {
     "name": "stderr",
     "output_type": "stream",
     "text": [
      "\r",
      "3472it [00:09, 313.28it/s]"
     ]
    },
    {
     "name": "stderr",
     "output_type": "stream",
     "text": [
      "\r",
      "3504it [00:10, 314.93it/s]"
     ]
    },
    {
     "name": "stderr",
     "output_type": "stream",
     "text": [
      "\r",
      "3538it [00:10, 320.31it/s]"
     ]
    },
    {
     "name": "stderr",
     "output_type": "stream",
     "text": [
      "\r",
      "3571it [00:10, 319.98it/s]"
     ]
    },
    {
     "name": "stderr",
     "output_type": "stream",
     "text": [
      "\r",
      "3604it [00:10, 320.32it/s]"
     ]
    },
    {
     "name": "stderr",
     "output_type": "stream",
     "text": [
      "\r",
      "3637it [00:10, 323.11it/s]"
     ]
    },
    {
     "name": "stderr",
     "output_type": "stream",
     "text": [
      "\r",
      "3670it [00:10, 319.48it/s]"
     ]
    },
    {
     "name": "stderr",
     "output_type": "stream",
     "text": [
      "\r",
      "3702it [00:10, 318.37it/s]"
     ]
    },
    {
     "name": "stderr",
     "output_type": "stream",
     "text": [
      "\r",
      "3734it [00:10, 316.21it/s]"
     ]
    },
    {
     "name": "stderr",
     "output_type": "stream",
     "text": [
      "\r",
      "3766it [00:10, 313.72it/s]"
     ]
    },
    {
     "name": "stderr",
     "output_type": "stream",
     "text": [
      "\r",
      "3799it [00:10, 318.09it/s]"
     ]
    },
    {
     "name": "stderr",
     "output_type": "stream",
     "text": [
      "\r",
      "3833it [00:11, 320.57it/s]"
     ]
    },
    {
     "name": "stderr",
     "output_type": "stream",
     "text": [
      "\r",
      "3868it [00:11, 327.31it/s]"
     ]
    },
    {
     "name": "stderr",
     "output_type": "stream",
     "text": [
      "\r",
      "3905it [00:11, 337.83it/s]"
     ]
    },
    {
     "name": "stderr",
     "output_type": "stream",
     "text": [
      "\r",
      "3941it [00:11, 344.21it/s]"
     ]
    },
    {
     "name": "stderr",
     "output_type": "stream",
     "text": [
      "\r",
      "3978it [00:11, 350.18it/s]"
     ]
    },
    {
     "name": "stderr",
     "output_type": "stream",
     "text": [
      "\r",
      "4014it [00:11, 348.72it/s]"
     ]
    },
    {
     "name": "stderr",
     "output_type": "stream",
     "text": [
      "\r",
      "4051it [00:11, 354.18it/s]"
     ]
    },
    {
     "name": "stderr",
     "output_type": "stream",
     "text": [
      "\r",
      "4087it [00:11, 353.41it/s]"
     ]
    },
    {
     "name": "stderr",
     "output_type": "stream",
     "text": [
      "\r",
      "4123it [00:11, 352.32it/s]"
     ]
    },
    {
     "name": "stderr",
     "output_type": "stream",
     "text": [
      "\r",
      "4161it [00:11, 359.65it/s]"
     ]
    },
    {
     "name": "stderr",
     "output_type": "stream",
     "text": [
      "\r",
      "4197it [00:12, 352.54it/s]"
     ]
    },
    {
     "name": "stderr",
     "output_type": "stream",
     "text": [
      "\r",
      "4235it [00:12, 359.40it/s]"
     ]
    },
    {
     "name": "stderr",
     "output_type": "stream",
     "text": [
      "\r",
      "4271it [00:12, 350.18it/s]"
     ]
    },
    {
     "name": "stderr",
     "output_type": "stream",
     "text": [
      "\r",
      "4307it [00:12, 346.44it/s]"
     ]
    },
    {
     "name": "stderr",
     "output_type": "stream",
     "text": [
      "\r",
      "4343it [00:12, 349.88it/s]"
     ]
    },
    {
     "name": "stderr",
     "output_type": "stream",
     "text": [
      "\r",
      "4379it [00:12, 352.27it/s]"
     ]
    },
    {
     "name": "stderr",
     "output_type": "stream",
     "text": [
      "\r",
      "4415it [00:12, 352.62it/s]"
     ]
    },
    {
     "name": "stderr",
     "output_type": "stream",
     "text": [
      "\r",
      "4452it [00:12, 355.84it/s]"
     ]
    },
    {
     "name": "stderr",
     "output_type": "stream",
     "text": [
      "\r",
      "4488it [00:12, 352.22it/s]"
     ]
    },
    {
     "name": "stderr",
     "output_type": "stream",
     "text": [
      "\r",
      "4525it [00:12, 355.06it/s]"
     ]
    },
    {
     "name": "stderr",
     "output_type": "stream",
     "text": [
      "\r",
      "4561it [00:13, 353.32it/s]"
     ]
    },
    {
     "name": "stderr",
     "output_type": "stream",
     "text": [
      "\r",
      "4597it [00:13, 349.86it/s]"
     ]
    },
    {
     "name": "stderr",
     "output_type": "stream",
     "text": [
      "\r",
      "4632it [00:13, 348.89it/s]"
     ]
    },
    {
     "name": "stderr",
     "output_type": "stream",
     "text": [
      "\r",
      "4668it [00:13, 349.27it/s]"
     ]
    },
    {
     "name": "stderr",
     "output_type": "stream",
     "text": [
      "\r",
      "4705it [00:13, 354.50it/s]"
     ]
    },
    {
     "name": "stderr",
     "output_type": "stream",
     "text": [
      "\r",
      "4741it [00:13, 353.38it/s]"
     ]
    },
    {
     "name": "stderr",
     "output_type": "stream",
     "text": [
      "\r",
      "4777it [00:13, 350.09it/s]"
     ]
    },
    {
     "name": "stderr",
     "output_type": "stream",
     "text": [
      "\r",
      "4813it [00:13, 351.02it/s]"
     ]
    },
    {
     "name": "stderr",
     "output_type": "stream",
     "text": [
      "\r",
      "4849it [00:13, 349.25it/s]"
     ]
    },
    {
     "name": "stderr",
     "output_type": "stream",
     "text": [
      "\r",
      "4884it [00:14, 345.52it/s]"
     ]
    },
    {
     "name": "stderr",
     "output_type": "stream",
     "text": [
      "\r",
      "4919it [00:14, 341.14it/s]"
     ]
    },
    {
     "name": "stderr",
     "output_type": "stream",
     "text": [
      "\r",
      "4955it [00:14, 343.47it/s]"
     ]
    },
    {
     "name": "stderr",
     "output_type": "stream",
     "text": [
      "\r",
      "4990it [00:14, 344.13it/s]"
     ]
    },
    {
     "name": "stderr",
     "output_type": "stream",
     "text": [
      "\r",
      "5025it [00:14, 345.23it/s]"
     ]
    },
    {
     "name": "stderr",
     "output_type": "stream",
     "text": [
      "\r",
      "5061it [00:14, 349.49it/s]"
     ]
    },
    {
     "name": "stderr",
     "output_type": "stream",
     "text": [
      "\r",
      "5097it [00:14, 351.42it/s]"
     ]
    },
    {
     "name": "stderr",
     "output_type": "stream",
     "text": [
      "\r",
      "5133it [00:14, 350.23it/s]"
     ]
    },
    {
     "name": "stderr",
     "output_type": "stream",
     "text": [
      "\r",
      "5169it [00:14, 348.51it/s]"
     ]
    },
    {
     "name": "stderr",
     "output_type": "stream",
     "text": [
      "\r",
      "5204it [00:14, 346.51it/s]"
     ]
    },
    {
     "name": "stderr",
     "output_type": "stream",
     "text": [
      "\r",
      "5240it [00:15, 347.27it/s]"
     ]
    },
    {
     "name": "stderr",
     "output_type": "stream",
     "text": [
      "\r",
      "5276it [00:15, 349.49it/s]"
     ]
    },
    {
     "name": "stderr",
     "output_type": "stream",
     "text": [
      "\r",
      "5312it [00:15, 349.88it/s]"
     ]
    },
    {
     "name": "stderr",
     "output_type": "stream",
     "text": [
      "\r",
      "5347it [00:15, 345.19it/s]"
     ]
    },
    {
     "name": "stderr",
     "output_type": "stream",
     "text": [
      "\r",
      "5382it [00:15, 344.37it/s]"
     ]
    },
    {
     "name": "stderr",
     "output_type": "stream",
     "text": [
      "\r",
      "5417it [00:15, 345.34it/s]"
     ]
    },
    {
     "name": "stderr",
     "output_type": "stream",
     "text": [
      "\r",
      "5452it [00:15, 343.09it/s]"
     ]
    },
    {
     "name": "stderr",
     "output_type": "stream",
     "text": [
      "\r",
      "5487it [00:15, 341.10it/s]"
     ]
    },
    {
     "name": "stderr",
     "output_type": "stream",
     "text": [
      "\r",
      "5522it [00:15, 332.26it/s]"
     ]
    },
    {
     "name": "stderr",
     "output_type": "stream",
     "text": [
      "\r",
      "5557it [00:15, 336.05it/s]"
     ]
    },
    {
     "name": "stderr",
     "output_type": "stream",
     "text": [
      "\r",
      "5592it [00:16, 337.88it/s]"
     ]
    },
    {
     "name": "stderr",
     "output_type": "stream",
     "text": [
      "\r",
      "5627it [00:16, 339.70it/s]"
     ]
    },
    {
     "name": "stderr",
     "output_type": "stream",
     "text": [
      "\r",
      "5662it [00:16, 341.24it/s]"
     ]
    },
    {
     "name": "stderr",
     "output_type": "stream",
     "text": [
      "\r",
      "5697it [00:16, 338.89it/s]"
     ]
    },
    {
     "name": "stderr",
     "output_type": "stream",
     "text": [
      "\r",
      "5731it [00:16, 335.35it/s]"
     ]
    },
    {
     "name": "stderr",
     "output_type": "stream",
     "text": [
      "\r",
      "5766it [00:16, 336.97it/s]"
     ]
    },
    {
     "name": "stderr",
     "output_type": "stream",
     "text": [
      "\r",
      "5800it [00:16, 332.88it/s]"
     ]
    },
    {
     "name": "stderr",
     "output_type": "stream",
     "text": [
      "\r",
      "5834it [00:16, 329.62it/s]"
     ]
    },
    {
     "name": "stderr",
     "output_type": "stream",
     "text": [
      "\r",
      "5869it [00:16, 334.30it/s]"
     ]
    },
    {
     "name": "stderr",
     "output_type": "stream",
     "text": [
      "\r",
      "5904it [00:17, 338.38it/s]"
     ]
    },
    {
     "name": "stderr",
     "output_type": "stream",
     "text": [
      "\r",
      "5938it [00:17, 335.50it/s]"
     ]
    },
    {
     "name": "stderr",
     "output_type": "stream",
     "text": [
      "\r",
      "5972it [00:17, 322.91it/s]"
     ]
    },
    {
     "name": "stderr",
     "output_type": "stream",
     "text": [
      "\r",
      "6005it [00:17, 324.40it/s]"
     ]
    },
    {
     "name": "stderr",
     "output_type": "stream",
     "text": [
      "\r",
      "6038it [00:17, 326.01it/s]"
     ]
    },
    {
     "name": "stderr",
     "output_type": "stream",
     "text": [
      "\r",
      "6073it [00:17, 331.02it/s]"
     ]
    },
    {
     "name": "stderr",
     "output_type": "stream",
     "text": [
      "\r",
      "6107it [00:17, 331.52it/s]"
     ]
    },
    {
     "name": "stderr",
     "output_type": "stream",
     "text": [
      "\r",
      "6142it [00:17, 333.86it/s]"
     ]
    },
    {
     "name": "stderr",
     "output_type": "stream",
     "text": [
      "\r",
      "6177it [00:17, 338.16it/s]"
     ]
    },
    {
     "name": "stderr",
     "output_type": "stream",
     "text": [
      "\r",
      "6213it [00:17, 341.90it/s]"
     ]
    },
    {
     "name": "stderr",
     "output_type": "stream",
     "text": [
      "\r",
      "6248it [00:18, 338.96it/s]"
     ]
    },
    {
     "name": "stderr",
     "output_type": "stream",
     "text": [
      "\r",
      "6282it [00:18, 337.66it/s]"
     ]
    },
    {
     "name": "stderr",
     "output_type": "stream",
     "text": [
      "\r",
      "6316it [00:18, 335.55it/s]"
     ]
    },
    {
     "name": "stderr",
     "output_type": "stream",
     "text": [
      "\r",
      "6350it [00:18, 336.52it/s]"
     ]
    },
    {
     "name": "stderr",
     "output_type": "stream",
     "text": [
      "\r",
      "6385it [00:18, 337.92it/s]"
     ]
    },
    {
     "name": "stderr",
     "output_type": "stream",
     "text": [
      "\r",
      "6420it [00:18, 339.77it/s]"
     ]
    },
    {
     "name": "stderr",
     "output_type": "stream",
     "text": [
      "\r",
      "6454it [00:18, 332.40it/s]"
     ]
    },
    {
     "name": "stderr",
     "output_type": "stream",
     "text": [
      "\r",
      "6488it [00:18, 318.20it/s]"
     ]
    },
    {
     "name": "stderr",
     "output_type": "stream",
     "text": [
      "\r",
      "6520it [00:18, 311.14it/s]"
     ]
    },
    {
     "name": "stderr",
     "output_type": "stream",
     "text": [
      "\r",
      "6552it [00:18, 302.06it/s]"
     ]
    },
    {
     "name": "stderr",
     "output_type": "stream",
     "text": [
      "\r",
      "6583it [00:19, 297.48it/s]"
     ]
    },
    {
     "name": "stderr",
     "output_type": "stream",
     "text": [
      "\r",
      "6613it [00:19, 294.66it/s]"
     ]
    },
    {
     "name": "stderr",
     "output_type": "stream",
     "text": [
      "\r",
      "6644it [00:19, 295.87it/s]"
     ]
    },
    {
     "name": "stderr",
     "output_type": "stream",
     "text": [
      "\r",
      "6675it [00:19, 296.75it/s]"
     ]
    },
    {
     "name": "stderr",
     "output_type": "stream",
     "text": [
      "\r",
      "6705it [00:19, 291.12it/s]"
     ]
    },
    {
     "name": "stderr",
     "output_type": "stream",
     "text": [
      "\r",
      "6735it [00:19, 283.90it/s]"
     ]
    },
    {
     "name": "stderr",
     "output_type": "stream",
     "text": [
      "\r",
      "6764it [00:19, 283.44it/s]"
     ]
    },
    {
     "name": "stderr",
     "output_type": "stream",
     "text": [
      "\r",
      "6794it [00:19, 287.39it/s]"
     ]
    },
    {
     "name": "stderr",
     "output_type": "stream",
     "text": [
      "\r",
      "6823it [00:19, 288.09it/s]"
     ]
    },
    {
     "name": "stderr",
     "output_type": "stream",
     "text": [
      "\r",
      "6852it [00:20, 285.59it/s]"
     ]
    },
    {
     "name": "stderr",
     "output_type": "stream",
     "text": [
      "\r",
      "6881it [00:20, 284.63it/s]"
     ]
    },
    {
     "name": "stderr",
     "output_type": "stream",
     "text": [
      "\r",
      "6911it [00:20, 287.91it/s]"
     ]
    },
    {
     "name": "stderr",
     "output_type": "stream",
     "text": [
      "\r",
      "6942it [00:20, 293.64it/s]"
     ]
    },
    {
     "name": "stderr",
     "output_type": "stream",
     "text": [
      "\r",
      "6975it [00:20, 302.64it/s]"
     ]
    },
    {
     "name": "stderr",
     "output_type": "stream",
     "text": [
      "\r",
      "7006it [00:20, 294.43it/s]"
     ]
    },
    {
     "name": "stderr",
     "output_type": "stream",
     "text": [
      "\r",
      "7038it [00:20, 299.78it/s]"
     ]
    },
    {
     "name": "stderr",
     "output_type": "stream",
     "text": [
      "\r",
      "7069it [00:20, 296.93it/s]"
     ]
    },
    {
     "name": "stderr",
     "output_type": "stream",
     "text": [
      "\r",
      "7099it [00:20, 294.62it/s]"
     ]
    },
    {
     "name": "stderr",
     "output_type": "stream",
     "text": [
      "\r",
      "7129it [00:20, 293.11it/s]"
     ]
    },
    {
     "name": "stderr",
     "output_type": "stream",
     "text": [
      "\r",
      "7160it [00:21, 297.10it/s]"
     ]
    },
    {
     "name": "stderr",
     "output_type": "stream",
     "text": [
      "\r",
      "7190it [00:21, 297.00it/s]"
     ]
    },
    {
     "name": "stderr",
     "output_type": "stream",
     "text": [
      "\r",
      "7220it [00:21, 295.10it/s]"
     ]
    },
    {
     "name": "stderr",
     "output_type": "stream",
     "text": [
      "\r",
      "7251it [00:21, 298.42it/s]"
     ]
    },
    {
     "name": "stderr",
     "output_type": "stream",
     "text": [
      "\r",
      "7281it [00:21, 298.65it/s]"
     ]
    },
    {
     "name": "stderr",
     "output_type": "stream",
     "text": [
      "\r",
      "7311it [00:21, 295.92it/s]"
     ]
    },
    {
     "name": "stderr",
     "output_type": "stream",
     "text": [
      "\r",
      "7342it [00:21, 297.81it/s]"
     ]
    },
    {
     "name": "stderr",
     "output_type": "stream",
     "text": [
      "\r",
      "7372it [00:21, 297.09it/s]"
     ]
    },
    {
     "name": "stderr",
     "output_type": "stream",
     "text": [
      "\r",
      "7402it [00:21, 297.78it/s]"
     ]
    },
    {
     "name": "stderr",
     "output_type": "stream",
     "text": [
      "\r",
      "7432it [00:21, 294.33it/s]"
     ]
    },
    {
     "name": "stderr",
     "output_type": "stream",
     "text": [
      "\r",
      "7462it [00:22, 295.60it/s]"
     ]
    },
    {
     "name": "stderr",
     "output_type": "stream",
     "text": [
      "\r",
      "7492it [00:22, 292.10it/s]"
     ]
    },
    {
     "name": "stderr",
     "output_type": "stream",
     "text": [
      "\r",
      "7522it [00:22, 287.31it/s]"
     ]
    },
    {
     "name": "stderr",
     "output_type": "stream",
     "text": [
      "\r",
      "7552it [00:22, 289.63it/s]"
     ]
    },
    {
     "name": "stderr",
     "output_type": "stream",
     "text": [
      "\r",
      "7583it [00:22, 294.33it/s]"
     ]
    },
    {
     "name": "stderr",
     "output_type": "stream",
     "text": [
      "\r",
      "7613it [00:22, 288.47it/s]"
     ]
    },
    {
     "name": "stderr",
     "output_type": "stream",
     "text": [
      "\r",
      "7645it [00:22, 297.18it/s]"
     ]
    },
    {
     "name": "stderr",
     "output_type": "stream",
     "text": [
      "\r",
      "7679it [00:22, 307.68it/s]"
     ]
    },
    {
     "name": "stderr",
     "output_type": "stream",
     "text": [
      "\r",
      "7712it [00:22, 311.54it/s]"
     ]
    },
    {
     "name": "stderr",
     "output_type": "stream",
     "text": [
      "\r",
      "7745it [00:23, 315.13it/s]"
     ]
    },
    {
     "name": "stderr",
     "output_type": "stream",
     "text": [
      "\r",
      "7779it [00:23, 321.36it/s]"
     ]
    },
    {
     "name": "stderr",
     "output_type": "stream",
     "text": [
      "\r",
      "7793it [00:23, 336.31it/s]"
     ]
    },
    {
     "name": "stderr",
     "output_type": "stream",
     "text": [
      "\n"
     ]
    }
   ],
   "source": [
    "# Go through the dev data and collect all the locations\n",
    "locations = []\n",
    "\n",
    "for _, row in tqdm(df_disaster_dev.iterrows()):\n",
    "    doc = nlp(row['tweet_text'])    \n",
    "    locations.extend([[row['tweet_id'], ent.text, ent.start, ent.end] for ent in doc.ents if ent.label_ in ['LOC']])\n",
    "    \n",
    "df_locs = pd.DataFrame(locations, columns=['TweetID', 'Location', 'start', 'end'])"
   ]
  },
  {
   "cell_type": "code",
   "execution_count": 45,
   "id": "9492aeac",
   "metadata": {
    "execution": {
     "iopub.execute_input": "2022-07-05T06:07:46.590450Z",
     "iopub.status.busy": "2022-07-05T06:07:46.590075Z",
     "iopub.status.idle": "2022-07-05T06:07:46.604196Z",
     "shell.execute_reply": "2022-07-05T06:07:46.603226Z"
    },
    "papermill": {
     "duration": 0.050866,
     "end_time": "2022-07-05T06:07:46.606731",
     "exception": false,
     "start_time": "2022-07-05T06:07:46.555865",
     "status": "completed"
    },
    "tags": []
   },
   "outputs": [
    {
     "data": {
      "text/html": [
       "<div>\n",
       "<style scoped>\n",
       "    .dataframe tbody tr th:only-of-type {\n",
       "        vertical-align: middle;\n",
       "    }\n",
       "\n",
       "    .dataframe tbody tr th {\n",
       "        vertical-align: top;\n",
       "    }\n",
       "\n",
       "    .dataframe thead th {\n",
       "        text-align: right;\n",
       "    }\n",
       "</style>\n",
       "<table border=\"1\" class=\"dataframe\">\n",
       "  <thead>\n",
       "    <tr style=\"text-align: right;\">\n",
       "      <th></th>\n",
       "      <th>TweetID</th>\n",
       "      <th>Location</th>\n",
       "      <th>start</th>\n",
       "      <th>end</th>\n",
       "    </tr>\n",
       "  </thead>\n",
       "  <tbody>\n",
       "    <tr>\n",
       "      <th>5430</th>\n",
       "      <td>1167526319263027201</td>\n",
       "      <td>Coast Guard</td>\n",
       "      <td>11</td>\n",
       "      <td>13</td>\n",
       "    </tr>\n",
       "    <tr>\n",
       "      <th>1095</th>\n",
       "      <td>1062067140629393409</td>\n",
       "      <td>California</td>\n",
       "      <td>14</td>\n",
       "      <td>15</td>\n",
       "    </tr>\n",
       "    <tr>\n",
       "      <th>4321</th>\n",
       "      <td>909306005405696000</td>\n",
       "      <td>Cuba</td>\n",
       "      <td>6</td>\n",
       "      <td>7</td>\n",
       "    </tr>\n",
       "    <tr>\n",
       "      <th>3005</th>\n",
       "      <td>1039467618355347458</td>\n",
       "      <td>York</td>\n",
       "      <td>30</td>\n",
       "      <td>31</td>\n",
       "    </tr>\n",
       "    <tr>\n",
       "      <th>612</th>\n",
       "      <td>1176499540960206848</td>\n",
       "      <td>Pakistan</td>\n",
       "      <td>16</td>\n",
       "      <td>17</td>\n",
       "    </tr>\n",
       "    <tr>\n",
       "      <th>5835</th>\n",
       "      <td>1168393420412477440</td>\n",
       "      <td>Florence</td>\n",
       "      <td>20</td>\n",
       "      <td>21</td>\n",
       "    </tr>\n",
       "    <tr>\n",
       "      <th>586</th>\n",
       "      <td>1176521103235330048</td>\n",
       "      <td>New Delhi</td>\n",
       "      <td>16</td>\n",
       "      <td>18</td>\n",
       "    </tr>\n",
       "    <tr>\n",
       "      <th>4576</th>\n",
       "      <td>905438295370285057</td>\n",
       "      <td>Houston</td>\n",
       "      <td>14</td>\n",
       "      <td>15</td>\n",
       "    </tr>\n",
       "    <tr>\n",
       "      <th>1319</th>\n",
       "      <td>1062211539082584064</td>\n",
       "      <td>State History</td>\n",
       "      <td>16</td>\n",
       "      <td>18</td>\n",
       "    </tr>\n",
       "    <tr>\n",
       "      <th>694</th>\n",
       "      <td>728587665226928128</td>\n",
       "      <td>Wildfire-Struck Alberta</td>\n",
       "      <td>4</td>\n",
       "      <td>8</td>\n",
       "    </tr>\n",
       "    <tr>\n",
       "      <th>1996</th>\n",
       "      <td>1031046274064105472</td>\n",
       "      <td>Kerala</td>\n",
       "      <td>19</td>\n",
       "      <td>20</td>\n",
       "    </tr>\n",
       "    <tr>\n",
       "      <th>282</th>\n",
       "      <td>912087005554630656</td>\n",
       "      <td>Mexico</td>\n",
       "      <td>6</td>\n",
       "      <td>7</td>\n",
       "    </tr>\n",
       "    <tr>\n",
       "      <th>2477</th>\n",
       "      <td>1030811619201179648</td>\n",
       "      <td>Rs</td>\n",
       "      <td>20</td>\n",
       "      <td>21</td>\n",
       "    </tr>\n",
       "    <tr>\n",
       "      <th>5317</th>\n",
       "      <td>1168210428268351489</td>\n",
       "      <td>Florida</td>\n",
       "      <td>40</td>\n",
       "      <td>41</td>\n",
       "    </tr>\n",
       "    <tr>\n",
       "      <th>3354</th>\n",
       "      <td>1040708565810470913</td>\n",
       "      <td>Wilmington</td>\n",
       "      <td>12</td>\n",
       "      <td>13</td>\n",
       "    </tr>\n",
       "    <tr>\n",
       "      <th>5846</th>\n",
       "      <td>1167562707760865280</td>\n",
       "      <td>Palm Springs</td>\n",
       "      <td>30</td>\n",
       "      <td>32</td>\n",
       "    </tr>\n",
       "    <tr>\n",
       "      <th>4428</th>\n",
       "      <td>909398355549261826</td>\n",
       "      <td>Irma</td>\n",
       "      <td>19</td>\n",
       "      <td>20</td>\n",
       "    </tr>\n",
       "    <tr>\n",
       "      <th>4722</th>\n",
       "      <td>909553720739770368</td>\n",
       "      <td>Violence</td>\n",
       "      <td>8</td>\n",
       "      <td>9</td>\n",
       "    </tr>\n",
       "    <tr>\n",
       "      <th>2260</th>\n",
       "      <td>1031578050234933249</td>\n",
       "      <td>India</td>\n",
       "      <td>28</td>\n",
       "      <td>29</td>\n",
       "    </tr>\n",
       "    <tr>\n",
       "      <th>1345</th>\n",
       "      <td>1067092478308700160</td>\n",
       "      <td>California</td>\n",
       "      <td>28</td>\n",
       "      <td>29</td>\n",
       "    </tr>\n",
       "    <tr>\n",
       "      <th>1839</th>\n",
       "      <td>1030412957350604801</td>\n",
       "      <td>Kottiyoor</td>\n",
       "      <td>30</td>\n",
       "      <td>31</td>\n",
       "    </tr>\n",
       "    <tr>\n",
       "      <th>1356</th>\n",
       "      <td>1062181721725132801</td>\n",
       "      <td>California</td>\n",
       "      <td>25</td>\n",
       "      <td>26</td>\n",
       "    </tr>\n",
       "    <tr>\n",
       "      <th>2796</th>\n",
       "      <td>1001413677722021888</td>\n",
       "      <td>Ellicott City</td>\n",
       "      <td>7</td>\n",
       "      <td>9</td>\n",
       "    </tr>\n",
       "    <tr>\n",
       "      <th>788</th>\n",
       "      <td>730079084303290368</td>\n",
       "      <td>Fort McMurray</td>\n",
       "      <td>3</td>\n",
       "      <td>5</td>\n",
       "    </tr>\n",
       "    <tr>\n",
       "      <th>657</th>\n",
       "      <td>1176474412872282112</td>\n",
       "      <td>Mirpur</td>\n",
       "      <td>6</td>\n",
       "      <td>7</td>\n",
       "    </tr>\n",
       "    <tr>\n",
       "      <th>5155</th>\n",
       "      <td>1111310652491087873</td>\n",
       "      <td>Beira</td>\n",
       "      <td>9</td>\n",
       "      <td>10</td>\n",
       "    </tr>\n",
       "    <tr>\n",
       "      <th>6018</th>\n",
       "      <td>783963066035761152</td>\n",
       "      <td>Haiti</td>\n",
       "      <td>11</td>\n",
       "      <td>12</td>\n",
       "    </tr>\n",
       "    <tr>\n",
       "      <th>914</th>\n",
       "      <td>1022242256894537728</td>\n",
       "      <td>Greece’s</td>\n",
       "      <td>33</td>\n",
       "      <td>35</td>\n",
       "    </tr>\n",
       "    <tr>\n",
       "      <th>4118</th>\n",
       "      <td>913237722902548480</td>\n",
       "      <td>Puerto Rico</td>\n",
       "      <td>4</td>\n",
       "      <td>6</td>\n",
       "    </tr>\n",
       "    <tr>\n",
       "      <th>4485</th>\n",
       "      <td>908553733021118464</td>\n",
       "      <td>Chile</td>\n",
       "      <td>6</td>\n",
       "      <td>7</td>\n",
       "    </tr>\n",
       "    <tr>\n",
       "      <th>525</th>\n",
       "      <td>1176470338387042305</td>\n",
       "      <td>Pakistan</td>\n",
       "      <td>45</td>\n",
       "      <td>46</td>\n",
       "    </tr>\n",
       "    <tr>\n",
       "      <th>2336</th>\n",
       "      <td>1030779613159387136</td>\n",
       "      <td>Kerala</td>\n",
       "      <td>15</td>\n",
       "      <td>16</td>\n",
       "    </tr>\n",
       "    <tr>\n",
       "      <th>805</th>\n",
       "      <td>728753641490911232</td>\n",
       "      <td>Labatt</td>\n",
       "      <td>6</td>\n",
       "      <td>7</td>\n",
       "    </tr>\n",
       "    <tr>\n",
       "      <th>599</th>\n",
       "      <td>1176878595584790528</td>\n",
       "      <td>Azad Jammu and Kashmir</td>\n",
       "      <td>9</td>\n",
       "      <td>13</td>\n",
       "    </tr>\n",
       "    <tr>\n",
       "      <th>5131</th>\n",
       "      <td>1108300408861220864</td>\n",
       "      <td>Zimbabwe</td>\n",
       "      <td>39</td>\n",
       "      <td>40</td>\n",
       "    </tr>\n",
       "    <tr>\n",
       "      <th>4499</th>\n",
       "      <td>905447426366025728</td>\n",
       "      <td>Sierra Leone</td>\n",
       "      <td>11</td>\n",
       "      <td>13</td>\n",
       "    </tr>\n",
       "    <tr>\n",
       "      <th>4494</th>\n",
       "      <td>908349011878281216</td>\n",
       "      <td>Florida</td>\n",
       "      <td>134</td>\n",
       "      <td>135</td>\n",
       "    </tr>\n",
       "    <tr>\n",
       "      <th>3810</th>\n",
       "      <td>902633481041313792</td>\n",
       "      <td>Austin</td>\n",
       "      <td>0</td>\n",
       "      <td>1</td>\n",
       "    </tr>\n",
       "    <tr>\n",
       "      <th>5983</th>\n",
       "      <td>783923193862119424</td>\n",
       "      <td>Haiti</td>\n",
       "      <td>7</td>\n",
       "      <td>8</td>\n",
       "    </tr>\n",
       "    <tr>\n",
       "      <th>1238</th>\n",
       "      <td>1065727661178318853</td>\n",
       "      <td>California Wildfires</td>\n",
       "      <td>0</td>\n",
       "      <td>2</td>\n",
       "    </tr>\n",
       "    <tr>\n",
       "      <th>145</th>\n",
       "      <td>910715389516161024</td>\n",
       "      <td>Mexico</td>\n",
       "      <td>18</td>\n",
       "      <td>19</td>\n",
       "    </tr>\n",
       "    <tr>\n",
       "      <th>5789</th>\n",
       "      <td>1167507162127642624</td>\n",
       "      <td>Mar A Lago</td>\n",
       "      <td>20</td>\n",
       "      <td>23</td>\n",
       "    </tr>\n",
       "    <tr>\n",
       "      <th>2089</th>\n",
       "      <td>1031752443292536832</td>\n",
       "      <td>Thiruvalla</td>\n",
       "      <td>17</td>\n",
       "      <td>18</td>\n",
       "    </tr>\n",
       "    <tr>\n",
       "      <th>1201</th>\n",
       "      <td>1061417126144094208</td>\n",
       "      <td>Thousand Oaks</td>\n",
       "      <td>0</td>\n",
       "      <td>2</td>\n",
       "    </tr>\n",
       "    <tr>\n",
       "      <th>4845</th>\n",
       "      <td>908119077759176704</td>\n",
       "      <td>Irma</td>\n",
       "      <td>16</td>\n",
       "      <td>17</td>\n",
       "    </tr>\n",
       "    <tr>\n",
       "      <th>2104</th>\n",
       "      <td>1033009261905731584</td>\n",
       "      <td>Kerala</td>\n",
       "      <td>31</td>\n",
       "      <td>32</td>\n",
       "    </tr>\n",
       "    <tr>\n",
       "      <th>3380</th>\n",
       "      <td>1039408645790949376</td>\n",
       "      <td>Risk</td>\n",
       "      <td>13</td>\n",
       "      <td>14</td>\n",
       "    </tr>\n",
       "    <tr>\n",
       "      <th>1171</th>\n",
       "      <td>1061137697660559360</td>\n",
       "      <td>California</td>\n",
       "      <td>16</td>\n",
       "      <td>17</td>\n",
       "    </tr>\n",
       "    <tr>\n",
       "      <th>3213</th>\n",
       "      <td>1041586287680135170</td>\n",
       "      <td>Triad</td>\n",
       "      <td>16</td>\n",
       "      <td>17</td>\n",
       "    </tr>\n",
       "    <tr>\n",
       "      <th>2375</th>\n",
       "      <td>1033175689573396481</td>\n",
       "      <td>Kerala</td>\n",
       "      <td>20</td>\n",
       "      <td>21</td>\n",
       "    </tr>\n",
       "  </tbody>\n",
       "</table>\n",
       "</div>"
      ],
      "text/plain": [
       "                  TweetID                 Location  start  end\n",
       "5430  1167526319263027201              Coast Guard     11   13\n",
       "1095  1062067140629393409               California     14   15\n",
       "4321   909306005405696000                     Cuba      6    7\n",
       "3005  1039467618355347458                     York     30   31\n",
       "612   1176499540960206848                 Pakistan     16   17\n",
       "5835  1168393420412477440                 Florence     20   21\n",
       "586   1176521103235330048                New Delhi     16   18\n",
       "4576   905438295370285057                  Houston     14   15\n",
       "1319  1062211539082584064            State History     16   18\n",
       "694    728587665226928128  Wildfire-Struck Alberta      4    8\n",
       "1996  1031046274064105472                   Kerala     19   20\n",
       "282    912087005554630656                   Mexico      6    7\n",
       "2477  1030811619201179648                       Rs     20   21\n",
       "5317  1168210428268351489                  Florida     40   41\n",
       "3354  1040708565810470913               Wilmington     12   13\n",
       "5846  1167562707760865280             Palm Springs     30   32\n",
       "4428   909398355549261826                     Irma     19   20\n",
       "4722   909553720739770368                 Violence      8    9\n",
       "2260  1031578050234933249                    India     28   29\n",
       "1345  1067092478308700160               California     28   29\n",
       "1839  1030412957350604801                Kottiyoor     30   31\n",
       "1356  1062181721725132801               California     25   26\n",
       "2796  1001413677722021888            Ellicott City      7    9\n",
       "788    730079084303290368            Fort McMurray      3    5\n",
       "657   1176474412872282112                   Mirpur      6    7\n",
       "5155  1111310652491087873                    Beira      9   10\n",
       "6018   783963066035761152                    Haiti     11   12\n",
       "914   1022242256894537728                 Greece’s     33   35\n",
       "4118   913237722902548480              Puerto Rico      4    6\n",
       "4485   908553733021118464                    Chile      6    7\n",
       "525   1176470338387042305                 Pakistan     45   46\n",
       "2336  1030779613159387136                   Kerala     15   16\n",
       "805    728753641490911232                   Labatt      6    7\n",
       "599   1176878595584790528   Azad Jammu and Kashmir      9   13\n",
       "5131  1108300408861220864                 Zimbabwe     39   40\n",
       "4499   905447426366025728             Sierra Leone     11   13\n",
       "4494   908349011878281216                  Florida    134  135\n",
       "3810   902633481041313792                   Austin      0    1\n",
       "5983   783923193862119424                    Haiti      7    8\n",
       "1238  1065727661178318853     California Wildfires      0    2\n",
       "145    910715389516161024                   Mexico     18   19\n",
       "5789  1167507162127642624               Mar A Lago     20   23\n",
       "2089  1031752443292536832               Thiruvalla     17   18\n",
       "1201  1061417126144094208            Thousand Oaks      0    2\n",
       "4845   908119077759176704                     Irma     16   17\n",
       "2104  1033009261905731584                   Kerala     31   32\n",
       "3380  1039408645790949376                     Risk     13   14\n",
       "1171  1061137697660559360               California     16   17\n",
       "3213  1041586287680135170                    Triad     16   17\n",
       "2375  1033175689573396481                   Kerala     20   21"
      ]
     },
     "execution_count": 45,
     "metadata": {},
     "output_type": "execute_result"
    }
   ],
   "source": [
    "df_locs.sample(50)"
   ]
  },
  {
   "cell_type": "code",
   "execution_count": 46,
   "id": "1d5eb8df",
   "metadata": {
    "execution": {
     "iopub.execute_input": "2022-07-05T06:07:46.675810Z",
     "iopub.status.busy": "2022-07-05T06:07:46.675420Z",
     "iopub.status.idle": "2022-07-05T06:07:46.687794Z",
     "shell.execute_reply": "2022-07-05T06:07:46.686981Z"
    },
    "papermill": {
     "duration": 0.04956,
     "end_time": "2022-07-05T06:07:46.690320",
     "exception": false,
     "start_time": "2022-07-05T06:07:46.640760",
     "status": "completed"
    },
    "tags": []
   },
   "outputs": [
    {
     "data": {
      "text/html": [
       "<div>\n",
       "<style scoped>\n",
       "    .dataframe tbody tr th:only-of-type {\n",
       "        vertical-align: middle;\n",
       "    }\n",
       "\n",
       "    .dataframe tbody tr th {\n",
       "        vertical-align: top;\n",
       "    }\n",
       "\n",
       "    .dataframe thead th {\n",
       "        text-align: right;\n",
       "    }\n",
       "</style>\n",
       "<table border=\"1\" class=\"dataframe\">\n",
       "  <thead>\n",
       "    <tr style=\"text-align: right;\">\n",
       "      <th></th>\n",
       "      <th>location</th>\n",
       "      <th>count</th>\n",
       "    </tr>\n",
       "  </thead>\n",
       "  <tbody>\n",
       "    <tr>\n",
       "      <th>0</th>\n",
       "      <td>California</td>\n",
       "      <td>373</td>\n",
       "    </tr>\n",
       "    <tr>\n",
       "      <th>1</th>\n",
       "      <td>Kerala</td>\n",
       "      <td>283</td>\n",
       "    </tr>\n",
       "    <tr>\n",
       "      <th>2</th>\n",
       "      <td>Puerto Rico</td>\n",
       "      <td>236</td>\n",
       "    </tr>\n",
       "    <tr>\n",
       "      <th>3</th>\n",
       "      <td>Florida</td>\n",
       "      <td>217</td>\n",
       "    </tr>\n",
       "    <tr>\n",
       "      <th>4</th>\n",
       "      <td>Haiti</td>\n",
       "      <td>130</td>\n",
       "    </tr>\n",
       "    <tr>\n",
       "      <th>5</th>\n",
       "      <td>Mexico</td>\n",
       "      <td>118</td>\n",
       "    </tr>\n",
       "    <tr>\n",
       "      <th>6</th>\n",
       "      <td>Nebraska</td>\n",
       "      <td>112</td>\n",
       "    </tr>\n",
       "    <tr>\n",
       "      <th>7</th>\n",
       "      <td>Texas</td>\n",
       "      <td>107</td>\n",
       "    </tr>\n",
       "    <tr>\n",
       "      <th>8</th>\n",
       "      <td>Mozambique</td>\n",
       "      <td>100</td>\n",
       "    </tr>\n",
       "    <tr>\n",
       "      <th>9</th>\n",
       "      <td>Hurricane Florence</td>\n",
       "      <td>97</td>\n",
       "    </tr>\n",
       "    <tr>\n",
       "      <th>10</th>\n",
       "      <td>Bahamas</td>\n",
       "      <td>90</td>\n",
       "    </tr>\n",
       "    <tr>\n",
       "      <th>11</th>\n",
       "      <td>Florence</td>\n",
       "      <td>89</td>\n",
       "    </tr>\n",
       "    <tr>\n",
       "      <th>12</th>\n",
       "      <td>Houston</td>\n",
       "      <td>86</td>\n",
       "    </tr>\n",
       "    <tr>\n",
       "      <th>13</th>\n",
       "      <td>Ecuador</td>\n",
       "      <td>80</td>\n",
       "    </tr>\n",
       "    <tr>\n",
       "      <th>14</th>\n",
       "      <td>Irma</td>\n",
       "      <td>79</td>\n",
       "    </tr>\n",
       "    <tr>\n",
       "      <th>15</th>\n",
       "      <td>Zimbabwe</td>\n",
       "      <td>63</td>\n",
       "    </tr>\n",
       "    <tr>\n",
       "      <th>16</th>\n",
       "      <td>US</td>\n",
       "      <td>54</td>\n",
       "    </tr>\n",
       "    <tr>\n",
       "      <th>17</th>\n",
       "      <td>Camp Fire</td>\n",
       "      <td>54</td>\n",
       "    </tr>\n",
       "    <tr>\n",
       "      <th>18</th>\n",
       "      <td>North Carolina</td>\n",
       "      <td>52</td>\n",
       "    </tr>\n",
       "    <tr>\n",
       "      <th>19</th>\n",
       "      <td>Pakistan</td>\n",
       "      <td>50</td>\n",
       "    </tr>\n",
       "  </tbody>\n",
       "</table>\n",
       "</div>"
      ],
      "text/plain": [
       "              location  count\n",
       "0           California    373\n",
       "1               Kerala    283\n",
       "2          Puerto Rico    236\n",
       "3              Florida    217\n",
       "4                Haiti    130\n",
       "5               Mexico    118\n",
       "6             Nebraska    112\n",
       "7                Texas    107\n",
       "8           Mozambique    100\n",
       "9   Hurricane Florence     97\n",
       "10             Bahamas     90\n",
       "11            Florence     89\n",
       "12             Houston     86\n",
       "13             Ecuador     80\n",
       "14                Irma     79\n",
       "15            Zimbabwe     63\n",
       "16                  US     54\n",
       "17           Camp Fire     54\n",
       "18      North Carolina     52\n",
       "19            Pakistan     50"
      ]
     },
     "execution_count": 46,
     "metadata": {},
     "output_type": "execute_result"
    }
   ],
   "source": [
    "locations = Counter(df_locs['Location']).most_common(20)\n",
    "\n",
    "df_locs_most_common = pd.DataFrame(locations, columns=['location', 'count'])\n",
    "\n",
    "df_locs_most_common"
   ]
  },
  {
   "cell_type": "code",
   "execution_count": 47,
   "id": "6d55746f",
   "metadata": {
    "execution": {
     "iopub.execute_input": "2022-07-05T06:07:46.761785Z",
     "iopub.status.busy": "2022-07-05T06:07:46.761182Z",
     "iopub.status.idle": "2022-07-05T06:07:47.006010Z",
     "shell.execute_reply": "2022-07-05T06:07:47.005184Z"
    },
    "papermill": {
     "duration": 0.282241,
     "end_time": "2022-07-05T06:07:47.008375",
     "exception": false,
     "start_time": "2022-07-05T06:07:46.726134",
     "status": "completed"
    },
    "tags": []
   },
   "outputs": [],
   "source": [
    "import geopandas as gpd \n",
    "import geopy\n",
    "\n",
    "from geopy.extra.rate_limiter import RateLimiter"
   ]
  },
  {
   "cell_type": "code",
   "execution_count": 48,
   "id": "a9ffdf39",
   "metadata": {
    "execution": {
     "iopub.execute_input": "2022-07-05T06:07:47.079011Z",
     "iopub.status.busy": "2022-07-05T06:07:47.078261Z",
     "iopub.status.idle": "2022-07-05T06:08:06.263346Z",
     "shell.execute_reply": "2022-07-05T06:08:06.262410Z"
    },
    "papermill": {
     "duration": 19.223546,
     "end_time": "2022-07-05T06:08:06.266292",
     "exception": false,
     "start_time": "2022-07-05T06:07:47.042746",
     "status": "completed"
    },
    "tags": []
   },
   "outputs": [],
   "source": [
    "locator = geopy.geocoders.Nominatim(user_agent='mygeocoder')\n",
    "geocode = RateLimiter(locator.geocode, min_delay_seconds=1)\n",
    "\n",
    "df_locs_most_common['address'] = df_locs_most_common['location'].apply(geocode)"
   ]
  },
  {
   "cell_type": "code",
   "execution_count": 49,
   "id": "eb7d1efb",
   "metadata": {
    "execution": {
     "iopub.execute_input": "2022-07-05T06:08:06.328901Z",
     "iopub.status.busy": "2022-07-05T06:08:06.328588Z",
     "iopub.status.idle": "2022-07-05T06:08:06.346572Z",
     "shell.execute_reply": "2022-07-05T06:08:06.345962Z"
    },
    "papermill": {
     "duration": 0.049037,
     "end_time": "2022-07-05T06:08:06.348556",
     "exception": false,
     "start_time": "2022-07-05T06:08:06.299519",
     "status": "completed"
    },
    "tags": []
   },
   "outputs": [
    {
     "data": {
      "text/html": [
       "<div>\n",
       "<style scoped>\n",
       "    .dataframe tbody tr th:only-of-type {\n",
       "        vertical-align: middle;\n",
       "    }\n",
       "\n",
       "    .dataframe tbody tr th {\n",
       "        vertical-align: top;\n",
       "    }\n",
       "\n",
       "    .dataframe thead th {\n",
       "        text-align: right;\n",
       "    }\n",
       "</style>\n",
       "<table border=\"1\" class=\"dataframe\">\n",
       "  <thead>\n",
       "    <tr style=\"text-align: right;\">\n",
       "      <th></th>\n",
       "      <th>location</th>\n",
       "      <th>count</th>\n",
       "      <th>address</th>\n",
       "    </tr>\n",
       "  </thead>\n",
       "  <tbody>\n",
       "    <tr>\n",
       "      <th>0</th>\n",
       "      <td>California</td>\n",
       "      <td>373</td>\n",
       "      <td>(California, United States, (36.7014631, -118....</td>\n",
       "    </tr>\n",
       "    <tr>\n",
       "      <th>1</th>\n",
       "      <td>Kerala</td>\n",
       "      <td>283</td>\n",
       "      <td>(Kerala, India, (10.3528744, 76.5120396))</td>\n",
       "    </tr>\n",
       "    <tr>\n",
       "      <th>2</th>\n",
       "      <td>Puerto Rico</td>\n",
       "      <td>236</td>\n",
       "      <td>(Puerto Rico, United States, (18.19897685, -66...</td>\n",
       "    </tr>\n",
       "    <tr>\n",
       "      <th>3</th>\n",
       "      <td>Florida</td>\n",
       "      <td>217</td>\n",
       "      <td>(Florida, United States, (27.7567667, -81.4639...</td>\n",
       "    </tr>\n",
       "    <tr>\n",
       "      <th>4</th>\n",
       "      <td>Haiti</td>\n",
       "      <td>130</td>\n",
       "      <td>(Ayiti, (19.1399952, -72.3570972))</td>\n",
       "    </tr>\n",
       "    <tr>\n",
       "      <th>5</th>\n",
       "      <td>Mexico</td>\n",
       "      <td>118</td>\n",
       "      <td>(México, (23.6585116, -102.0077097))</td>\n",
       "    </tr>\n",
       "    <tr>\n",
       "      <th>6</th>\n",
       "      <td>Nebraska</td>\n",
       "      <td>112</td>\n",
       "      <td>(Nebraska, United States, (41.7370229, -99.587...</td>\n",
       "    </tr>\n",
       "    <tr>\n",
       "      <th>7</th>\n",
       "      <td>Texas</td>\n",
       "      <td>107</td>\n",
       "      <td>(Texas, United States, (31.2638905, -98.5456116))</td>\n",
       "    </tr>\n",
       "    <tr>\n",
       "      <th>8</th>\n",
       "      <td>Mozambique</td>\n",
       "      <td>100</td>\n",
       "      <td>(Moçambique, (-19.302233, 34.9144977))</td>\n",
       "    </tr>\n",
       "    <tr>\n",
       "      <th>9</th>\n",
       "      <td>Hurricane Florence</td>\n",
       "      <td>97</td>\n",
       "      <td>(Hurricane Creek, Florence, Gadsden County, Fl...</td>\n",
       "    </tr>\n",
       "    <tr>\n",
       "      <th>10</th>\n",
       "      <td>Bahamas</td>\n",
       "      <td>90</td>\n",
       "      <td>(The Bahamas, (24.7736546, -78.0000547))</td>\n",
       "    </tr>\n",
       "    <tr>\n",
       "      <th>11</th>\n",
       "      <td>Florence</td>\n",
       "      <td>89</td>\n",
       "      <td>(Firenze, Toscana, 50100, Italia, (43.7698712,...</td>\n",
       "    </tr>\n",
       "    <tr>\n",
       "      <th>12</th>\n",
       "      <td>Houston</td>\n",
       "      <td>86</td>\n",
       "      <td>(Houston, Harris County, Texas, United States,...</td>\n",
       "    </tr>\n",
       "    <tr>\n",
       "      <th>13</th>\n",
       "      <td>Ecuador</td>\n",
       "      <td>80</td>\n",
       "      <td>(Ecuador, (-1.3397668, -79.3666965))</td>\n",
       "    </tr>\n",
       "    <tr>\n",
       "      <th>14</th>\n",
       "      <td>Irma</td>\n",
       "      <td>79</td>\n",
       "      <td>(Irma, Comunità montana della valle Trompia, B...</td>\n",
       "    </tr>\n",
       "    <tr>\n",
       "      <th>15</th>\n",
       "      <td>Zimbabwe</td>\n",
       "      <td>63</td>\n",
       "      <td>(Zimbabwe, (-18.4554963, 29.7468414))</td>\n",
       "    </tr>\n",
       "    <tr>\n",
       "      <th>16</th>\n",
       "      <td>US</td>\n",
       "      <td>54</td>\n",
       "      <td>(United States, (39.7837304, -100.445882))</td>\n",
       "    </tr>\n",
       "    <tr>\n",
       "      <th>17</th>\n",
       "      <td>Camp Fire</td>\n",
       "      <td>54</td>\n",
       "      <td>(Camp Fire, Carson Street, Long Beach, Los Ang...</td>\n",
       "    </tr>\n",
       "    <tr>\n",
       "      <th>18</th>\n",
       "      <td>North Carolina</td>\n",
       "      <td>52</td>\n",
       "      <td>(North Carolina, United States, (35.6729639, -...</td>\n",
       "    </tr>\n",
       "    <tr>\n",
       "      <th>19</th>\n",
       "      <td>Pakistan</td>\n",
       "      <td>50</td>\n",
       "      <td>(پاکستان, (30.3308401, 71.247499))</td>\n",
       "    </tr>\n",
       "  </tbody>\n",
       "</table>\n",
       "</div>"
      ],
      "text/plain": [
       "              location  count  \\\n",
       "0           California    373   \n",
       "1               Kerala    283   \n",
       "2          Puerto Rico    236   \n",
       "3              Florida    217   \n",
       "4                Haiti    130   \n",
       "5               Mexico    118   \n",
       "6             Nebraska    112   \n",
       "7                Texas    107   \n",
       "8           Mozambique    100   \n",
       "9   Hurricane Florence     97   \n",
       "10             Bahamas     90   \n",
       "11            Florence     89   \n",
       "12             Houston     86   \n",
       "13             Ecuador     80   \n",
       "14                Irma     79   \n",
       "15            Zimbabwe     63   \n",
       "16                  US     54   \n",
       "17           Camp Fire     54   \n",
       "18      North Carolina     52   \n",
       "19            Pakistan     50   \n",
       "\n",
       "                                              address  \n",
       "0   (California, United States, (36.7014631, -118....  \n",
       "1           (Kerala, India, (10.3528744, 76.5120396))  \n",
       "2   (Puerto Rico, United States, (18.19897685, -66...  \n",
       "3   (Florida, United States, (27.7567667, -81.4639...  \n",
       "4                  (Ayiti, (19.1399952, -72.3570972))  \n",
       "5                (México, (23.6585116, -102.0077097))  \n",
       "6   (Nebraska, United States, (41.7370229, -99.587...  \n",
       "7   (Texas, United States, (31.2638905, -98.5456116))  \n",
       "8              (Moçambique, (-19.302233, 34.9144977))  \n",
       "9   (Hurricane Creek, Florence, Gadsden County, Fl...  \n",
       "10           (The Bahamas, (24.7736546, -78.0000547))  \n",
       "11  (Firenze, Toscana, 50100, Italia, (43.7698712,...  \n",
       "12  (Houston, Harris County, Texas, United States,...  \n",
       "13               (Ecuador, (-1.3397668, -79.3666965))  \n",
       "14  (Irma, Comunità montana della valle Trompia, B...  \n",
       "15              (Zimbabwe, (-18.4554963, 29.7468414))  \n",
       "16         (United States, (39.7837304, -100.445882))  \n",
       "17  (Camp Fire, Carson Street, Long Beach, Los Ang...  \n",
       "18  (North Carolina, United States, (35.6729639, -...  \n",
       "19                 (پاکستان, (30.3308401, 71.247499))  "
      ]
     },
     "execution_count": 49,
     "metadata": {},
     "output_type": "execute_result"
    }
   ],
   "source": [
    "df_locs_most_common"
   ]
  },
  {
   "cell_type": "code",
   "execution_count": 50,
   "id": "e9dae33a",
   "metadata": {
    "execution": {
     "iopub.execute_input": "2022-07-05T06:08:06.403877Z",
     "iopub.status.busy": "2022-07-05T06:08:06.403584Z",
     "iopub.status.idle": "2022-07-05T06:08:06.409265Z",
     "shell.execute_reply": "2022-07-05T06:08:06.408662Z"
    },
    "papermill": {
     "duration": 0.035584,
     "end_time": "2022-07-05T06:08:06.411213",
     "exception": false,
     "start_time": "2022-07-05T06:08:06.375629",
     "status": "completed"
    },
    "tags": []
   },
   "outputs": [],
   "source": [
    "df_locs_most_common['coordinates'] = df_locs_most_common['address'].apply(\n",
    "    lambda loc: tuple(loc.point) if loc else None\n",
    ")\n",
    "df_locs_most_common[['latitude', 'longitude', 'altitude']] = pd.DataFrame(\n",
    "    df_locs_most_common['coordinates'].tolist(), index=df_locs_most_common.index\n",
    ")"
   ]
  },
  {
   "cell_type": "code",
   "execution_count": 51,
   "id": "982ba539",
   "metadata": {
    "execution": {
     "iopub.execute_input": "2022-07-05T06:08:06.467080Z",
     "iopub.status.busy": "2022-07-05T06:08:06.466714Z",
     "iopub.status.idle": "2022-07-05T06:08:06.494207Z",
     "shell.execute_reply": "2022-07-05T06:08:06.493533Z"
    },
    "papermill": {
     "duration": 0.057664,
     "end_time": "2022-07-05T06:08:06.496103",
     "exception": false,
     "start_time": "2022-07-05T06:08:06.438439",
     "status": "completed"
    },
    "tags": []
   },
   "outputs": [
    {
     "data": {
      "text/html": [
       "<div>\n",
       "<style scoped>\n",
       "    .dataframe tbody tr th:only-of-type {\n",
       "        vertical-align: middle;\n",
       "    }\n",
       "\n",
       "    .dataframe tbody tr th {\n",
       "        vertical-align: top;\n",
       "    }\n",
       "\n",
       "    .dataframe thead th {\n",
       "        text-align: right;\n",
       "    }\n",
       "</style>\n",
       "<table border=\"1\" class=\"dataframe\">\n",
       "  <thead>\n",
       "    <tr style=\"text-align: right;\">\n",
       "      <th></th>\n",
       "      <th>location</th>\n",
       "      <th>count</th>\n",
       "      <th>address</th>\n",
       "      <th>coordinates</th>\n",
       "      <th>latitude</th>\n",
       "      <th>longitude</th>\n",
       "      <th>altitude</th>\n",
       "    </tr>\n",
       "  </thead>\n",
       "  <tbody>\n",
       "    <tr>\n",
       "      <th>0</th>\n",
       "      <td>California</td>\n",
       "      <td>373</td>\n",
       "      <td>(California, United States, (36.7014631, -118....</td>\n",
       "      <td>(36.7014631, -118.755997, 0.0)</td>\n",
       "      <td>36.701463</td>\n",
       "      <td>-118.755997</td>\n",
       "      <td>0.0</td>\n",
       "    </tr>\n",
       "    <tr>\n",
       "      <th>1</th>\n",
       "      <td>Kerala</td>\n",
       "      <td>283</td>\n",
       "      <td>(Kerala, India, (10.3528744, 76.5120396))</td>\n",
       "      <td>(10.3528744, 76.5120396, 0.0)</td>\n",
       "      <td>10.352874</td>\n",
       "      <td>76.512040</td>\n",
       "      <td>0.0</td>\n",
       "    </tr>\n",
       "    <tr>\n",
       "      <th>2</th>\n",
       "      <td>Puerto Rico</td>\n",
       "      <td>236</td>\n",
       "      <td>(Puerto Rico, United States, (18.19897685, -66...</td>\n",
       "      <td>(18.19897685, -66.26152219418967, 0.0)</td>\n",
       "      <td>18.198977</td>\n",
       "      <td>-66.261522</td>\n",
       "      <td>0.0</td>\n",
       "    </tr>\n",
       "    <tr>\n",
       "      <th>3</th>\n",
       "      <td>Florida</td>\n",
       "      <td>217</td>\n",
       "      <td>(Florida, United States, (27.7567667, -81.4639...</td>\n",
       "      <td>(27.7567667, -81.4639835, 0.0)</td>\n",
       "      <td>27.756767</td>\n",
       "      <td>-81.463983</td>\n",
       "      <td>0.0</td>\n",
       "    </tr>\n",
       "    <tr>\n",
       "      <th>4</th>\n",
       "      <td>Haiti</td>\n",
       "      <td>130</td>\n",
       "      <td>(Ayiti, (19.1399952, -72.3570972))</td>\n",
       "      <td>(19.1399952, -72.3570972, 0.0)</td>\n",
       "      <td>19.139995</td>\n",
       "      <td>-72.357097</td>\n",
       "      <td>0.0</td>\n",
       "    </tr>\n",
       "    <tr>\n",
       "      <th>5</th>\n",
       "      <td>Mexico</td>\n",
       "      <td>118</td>\n",
       "      <td>(México, (23.6585116, -102.0077097))</td>\n",
       "      <td>(23.6585116, -102.0077097, 0.0)</td>\n",
       "      <td>23.658512</td>\n",
       "      <td>-102.007710</td>\n",
       "      <td>0.0</td>\n",
       "    </tr>\n",
       "    <tr>\n",
       "      <th>6</th>\n",
       "      <td>Nebraska</td>\n",
       "      <td>112</td>\n",
       "      <td>(Nebraska, United States, (41.7370229, -99.587...</td>\n",
       "      <td>(41.7370229, -99.5873816, 0.0)</td>\n",
       "      <td>41.737023</td>\n",
       "      <td>-99.587382</td>\n",
       "      <td>0.0</td>\n",
       "    </tr>\n",
       "    <tr>\n",
       "      <th>7</th>\n",
       "      <td>Texas</td>\n",
       "      <td>107</td>\n",
       "      <td>(Texas, United States, (31.2638905, -98.5456116))</td>\n",
       "      <td>(31.2638905, -98.5456116, 0.0)</td>\n",
       "      <td>31.263890</td>\n",
       "      <td>-98.545612</td>\n",
       "      <td>0.0</td>\n",
       "    </tr>\n",
       "    <tr>\n",
       "      <th>8</th>\n",
       "      <td>Mozambique</td>\n",
       "      <td>100</td>\n",
       "      <td>(Moçambique, (-19.302233, 34.9144977))</td>\n",
       "      <td>(-19.302233, 34.9144977, 0.0)</td>\n",
       "      <td>-19.302233</td>\n",
       "      <td>34.914498</td>\n",
       "      <td>0.0</td>\n",
       "    </tr>\n",
       "    <tr>\n",
       "      <th>9</th>\n",
       "      <td>Hurricane Florence</td>\n",
       "      <td>97</td>\n",
       "      <td>(Hurricane Creek, Florence, Gadsden County, Fl...</td>\n",
       "      <td>(30.5896683, -84.4759528, 0.0)</td>\n",
       "      <td>30.589668</td>\n",
       "      <td>-84.475953</td>\n",
       "      <td>0.0</td>\n",
       "    </tr>\n",
       "    <tr>\n",
       "      <th>10</th>\n",
       "      <td>Bahamas</td>\n",
       "      <td>90</td>\n",
       "      <td>(The Bahamas, (24.7736546, -78.0000547))</td>\n",
       "      <td>(24.7736546, -78.0000547, 0.0)</td>\n",
       "      <td>24.773655</td>\n",
       "      <td>-78.000055</td>\n",
       "      <td>0.0</td>\n",
       "    </tr>\n",
       "    <tr>\n",
       "      <th>11</th>\n",
       "      <td>Florence</td>\n",
       "      <td>89</td>\n",
       "      <td>(Firenze, Toscana, 50100, Italia, (43.7698712,...</td>\n",
       "      <td>(43.7698712, 11.2555757, 0.0)</td>\n",
       "      <td>43.769871</td>\n",
       "      <td>11.255576</td>\n",
       "      <td>0.0</td>\n",
       "    </tr>\n",
       "    <tr>\n",
       "      <th>12</th>\n",
       "      <td>Houston</td>\n",
       "      <td>86</td>\n",
       "      <td>(Houston, Harris County, Texas, United States,...</td>\n",
       "      <td>(29.7589382, -95.3676974, 0.0)</td>\n",
       "      <td>29.758938</td>\n",
       "      <td>-95.367697</td>\n",
       "      <td>0.0</td>\n",
       "    </tr>\n",
       "    <tr>\n",
       "      <th>13</th>\n",
       "      <td>Ecuador</td>\n",
       "      <td>80</td>\n",
       "      <td>(Ecuador, (-1.3397668, -79.3666965))</td>\n",
       "      <td>(-1.3397668, -79.3666965, 0.0)</td>\n",
       "      <td>-1.339767</td>\n",
       "      <td>-79.366697</td>\n",
       "      <td>0.0</td>\n",
       "    </tr>\n",
       "    <tr>\n",
       "      <th>14</th>\n",
       "      <td>Irma</td>\n",
       "      <td>79</td>\n",
       "      <td>(Irma, Comunità montana della valle Trompia, B...</td>\n",
       "      <td>(45.77455165, 10.299332955530872, 0.0)</td>\n",
       "      <td>45.774552</td>\n",
       "      <td>10.299333</td>\n",
       "      <td>0.0</td>\n",
       "    </tr>\n",
       "    <tr>\n",
       "      <th>15</th>\n",
       "      <td>Zimbabwe</td>\n",
       "      <td>63</td>\n",
       "      <td>(Zimbabwe, (-18.4554963, 29.7468414))</td>\n",
       "      <td>(-18.4554963, 29.7468414, 0.0)</td>\n",
       "      <td>-18.455496</td>\n",
       "      <td>29.746841</td>\n",
       "      <td>0.0</td>\n",
       "    </tr>\n",
       "    <tr>\n",
       "      <th>16</th>\n",
       "      <td>US</td>\n",
       "      <td>54</td>\n",
       "      <td>(United States, (39.7837304, -100.445882))</td>\n",
       "      <td>(39.7837304, -100.445882, 0.0)</td>\n",
       "      <td>39.783730</td>\n",
       "      <td>-100.445882</td>\n",
       "      <td>0.0</td>\n",
       "    </tr>\n",
       "    <tr>\n",
       "      <th>17</th>\n",
       "      <td>Camp Fire</td>\n",
       "      <td>54</td>\n",
       "      <td>(Camp Fire, Carson Street, Long Beach, Los Ang...</td>\n",
       "      <td>(33.8318801, -118.0985036753183, 0.0)</td>\n",
       "      <td>33.831880</td>\n",
       "      <td>-118.098504</td>\n",
       "      <td>0.0</td>\n",
       "    </tr>\n",
       "    <tr>\n",
       "      <th>18</th>\n",
       "      <td>North Carolina</td>\n",
       "      <td>52</td>\n",
       "      <td>(North Carolina, United States, (35.6729639, -...</td>\n",
       "      <td>(35.6729639, -79.0392919, 0.0)</td>\n",
       "      <td>35.672964</td>\n",
       "      <td>-79.039292</td>\n",
       "      <td>0.0</td>\n",
       "    </tr>\n",
       "    <tr>\n",
       "      <th>19</th>\n",
       "      <td>Pakistan</td>\n",
       "      <td>50</td>\n",
       "      <td>(پاکستان, (30.3308401, 71.247499))</td>\n",
       "      <td>(30.3308401, 71.247499, 0.0)</td>\n",
       "      <td>30.330840</td>\n",
       "      <td>71.247499</td>\n",
       "      <td>0.0</td>\n",
       "    </tr>\n",
       "  </tbody>\n",
       "</table>\n",
       "</div>"
      ],
      "text/plain": [
       "              location  count  \\\n",
       "0           California    373   \n",
       "1               Kerala    283   \n",
       "2          Puerto Rico    236   \n",
       "3              Florida    217   \n",
       "4                Haiti    130   \n",
       "5               Mexico    118   \n",
       "6             Nebraska    112   \n",
       "7                Texas    107   \n",
       "8           Mozambique    100   \n",
       "9   Hurricane Florence     97   \n",
       "10             Bahamas     90   \n",
       "11            Florence     89   \n",
       "12             Houston     86   \n",
       "13             Ecuador     80   \n",
       "14                Irma     79   \n",
       "15            Zimbabwe     63   \n",
       "16                  US     54   \n",
       "17           Camp Fire     54   \n",
       "18      North Carolina     52   \n",
       "19            Pakistan     50   \n",
       "\n",
       "                                              address  \\\n",
       "0   (California, United States, (36.7014631, -118....   \n",
       "1           (Kerala, India, (10.3528744, 76.5120396))   \n",
       "2   (Puerto Rico, United States, (18.19897685, -66...   \n",
       "3   (Florida, United States, (27.7567667, -81.4639...   \n",
       "4                  (Ayiti, (19.1399952, -72.3570972))   \n",
       "5                (México, (23.6585116, -102.0077097))   \n",
       "6   (Nebraska, United States, (41.7370229, -99.587...   \n",
       "7   (Texas, United States, (31.2638905, -98.5456116))   \n",
       "8              (Moçambique, (-19.302233, 34.9144977))   \n",
       "9   (Hurricane Creek, Florence, Gadsden County, Fl...   \n",
       "10           (The Bahamas, (24.7736546, -78.0000547))   \n",
       "11  (Firenze, Toscana, 50100, Italia, (43.7698712,...   \n",
       "12  (Houston, Harris County, Texas, United States,...   \n",
       "13               (Ecuador, (-1.3397668, -79.3666965))   \n",
       "14  (Irma, Comunità montana della valle Trompia, B...   \n",
       "15              (Zimbabwe, (-18.4554963, 29.7468414))   \n",
       "16         (United States, (39.7837304, -100.445882))   \n",
       "17  (Camp Fire, Carson Street, Long Beach, Los Ang...   \n",
       "18  (North Carolina, United States, (35.6729639, -...   \n",
       "19                 (پاکستان, (30.3308401, 71.247499))   \n",
       "\n",
       "                               coordinates   latitude   longitude  altitude  \n",
       "0           (36.7014631, -118.755997, 0.0)  36.701463 -118.755997       0.0  \n",
       "1            (10.3528744, 76.5120396, 0.0)  10.352874   76.512040       0.0  \n",
       "2   (18.19897685, -66.26152219418967, 0.0)  18.198977  -66.261522       0.0  \n",
       "3           (27.7567667, -81.4639835, 0.0)  27.756767  -81.463983       0.0  \n",
       "4           (19.1399952, -72.3570972, 0.0)  19.139995  -72.357097       0.0  \n",
       "5          (23.6585116, -102.0077097, 0.0)  23.658512 -102.007710       0.0  \n",
       "6           (41.7370229, -99.5873816, 0.0)  41.737023  -99.587382       0.0  \n",
       "7           (31.2638905, -98.5456116, 0.0)  31.263890  -98.545612       0.0  \n",
       "8            (-19.302233, 34.9144977, 0.0) -19.302233   34.914498       0.0  \n",
       "9           (30.5896683, -84.4759528, 0.0)  30.589668  -84.475953       0.0  \n",
       "10          (24.7736546, -78.0000547, 0.0)  24.773655  -78.000055       0.0  \n",
       "11           (43.7698712, 11.2555757, 0.0)  43.769871   11.255576       0.0  \n",
       "12          (29.7589382, -95.3676974, 0.0)  29.758938  -95.367697       0.0  \n",
       "13          (-1.3397668, -79.3666965, 0.0)  -1.339767  -79.366697       0.0  \n",
       "14  (45.77455165, 10.299332955530872, 0.0)  45.774552   10.299333       0.0  \n",
       "15          (-18.4554963, 29.7468414, 0.0) -18.455496   29.746841       0.0  \n",
       "16          (39.7837304, -100.445882, 0.0)  39.783730 -100.445882       0.0  \n",
       "17   (33.8318801, -118.0985036753183, 0.0)  33.831880 -118.098504       0.0  \n",
       "18          (35.6729639, -79.0392919, 0.0)  35.672964  -79.039292       0.0  \n",
       "19            (30.3308401, 71.247499, 0.0)  30.330840   71.247499       0.0  "
      ]
     },
     "execution_count": 51,
     "metadata": {},
     "output_type": "execute_result"
    }
   ],
   "source": [
    "df_locs_most_common"
   ]
  },
  {
   "cell_type": "code",
   "execution_count": 52,
   "id": "abe51081",
   "metadata": {
    "execution": {
     "iopub.execute_input": "2022-07-05T06:08:06.552687Z",
     "iopub.status.busy": "2022-07-05T06:08:06.552393Z",
     "iopub.status.idle": "2022-07-05T06:08:06.831678Z",
     "shell.execute_reply": "2022-07-05T06:08:06.831024Z"
    },
    "papermill": {
     "duration": 0.309707,
     "end_time": "2022-07-05T06:08:06.833614",
     "exception": false,
     "start_time": "2022-07-05T06:08:06.523907",
     "status": "completed"
    },
    "tags": []
   },
   "outputs": [
    {
     "data": {
      "text/html": [
       "<div style=\"width:100%;\"><div style=\"position:relative;width:100%;height:0;padding-bottom:60%;\"><span style=\"color:#565656\">Make this Notebook Trusted to load map: File -> Trust Notebook</span><iframe srcdoc=\"&lt;!DOCTYPE html&gt;\n",
       "&lt;head&gt;    \n",
       "    &lt;meta http-equiv=&quot;content-type&quot; content=&quot;text/html; charset=UTF-8&quot; /&gt;\n",
       "    \n",
       "        &lt;script&gt;\n",
       "            L_NO_TOUCH = false;\n",
       "            L_DISABLE_3D = false;\n",
       "        &lt;/script&gt;\n",
       "    \n",
       "    &lt;style&gt;html, body {width: 100%;height: 100%;margin: 0;padding: 0;}&lt;/style&gt;\n",
       "    &lt;style&gt;#map {position:absolute;top:0;bottom:0;right:0;left:0;}&lt;/style&gt;\n",
       "    &lt;script src=&quot;https://cdn.jsdelivr.net/npm/leaflet@1.6.0/dist/leaflet.js&quot;&gt;&lt;/script&gt;\n",
       "    &lt;script src=&quot;https://code.jquery.com/jquery-1.12.4.min.js&quot;&gt;&lt;/script&gt;\n",
       "    &lt;script src=&quot;https://maxcdn.bootstrapcdn.com/bootstrap/3.2.0/js/bootstrap.min.js&quot;&gt;&lt;/script&gt;\n",
       "    &lt;script src=&quot;https://cdnjs.cloudflare.com/ajax/libs/Leaflet.awesome-markers/2.0.2/leaflet.awesome-markers.js&quot;&gt;&lt;/script&gt;\n",
       "    &lt;link rel=&quot;stylesheet&quot; href=&quot;https://cdn.jsdelivr.net/npm/leaflet@1.6.0/dist/leaflet.css&quot;/&gt;\n",
       "    &lt;link rel=&quot;stylesheet&quot; href=&quot;https://maxcdn.bootstrapcdn.com/bootstrap/3.2.0/css/bootstrap.min.css&quot;/&gt;\n",
       "    &lt;link rel=&quot;stylesheet&quot; href=&quot;https://maxcdn.bootstrapcdn.com/bootstrap/3.2.0/css/bootstrap-theme.min.css&quot;/&gt;\n",
       "    &lt;link rel=&quot;stylesheet&quot; href=&quot;https://maxcdn.bootstrapcdn.com/font-awesome/4.6.3/css/font-awesome.min.css&quot;/&gt;\n",
       "    &lt;link rel=&quot;stylesheet&quot; href=&quot;https://cdnjs.cloudflare.com/ajax/libs/Leaflet.awesome-markers/2.0.2/leaflet.awesome-markers.css&quot;/&gt;\n",
       "    &lt;link rel=&quot;stylesheet&quot; href=&quot;https://cdn.jsdelivr.net/gh/python-visualization/folium/folium/templates/leaflet.awesome.rotate.min.css&quot;/&gt;\n",
       "    \n",
       "            &lt;meta name=&quot;viewport&quot; content=&quot;width=device-width,\n",
       "                initial-scale=1.0, maximum-scale=1.0, user-scalable=no&quot; /&gt;\n",
       "            &lt;style&gt;\n",
       "                #map_80cd7359e6818fe5d5c3933b26b6298c {\n",
       "                    position: relative;\n",
       "                    width: 100.0%;\n",
       "                    height: 100.0%;\n",
       "                    left: 0.0%;\n",
       "                    top: 0.0%;\n",
       "                }\n",
       "            &lt;/style&gt;\n",
       "        \n",
       "    &lt;script src=&quot;https://cdnjs.cloudflare.com/ajax/libs/leaflet.markercluster/1.1.0/leaflet.markercluster.js&quot;&gt;&lt;/script&gt;\n",
       "    &lt;link rel=&quot;stylesheet&quot; href=&quot;https://cdnjs.cloudflare.com/ajax/libs/leaflet.markercluster/1.1.0/MarkerCluster.css&quot;/&gt;\n",
       "    &lt;link rel=&quot;stylesheet&quot; href=&quot;https://cdnjs.cloudflare.com/ajax/libs/leaflet.markercluster/1.1.0/MarkerCluster.Default.css&quot;/&gt;\n",
       "&lt;/head&gt;\n",
       "&lt;body&gt;    \n",
       "    \n",
       "            &lt;div class=&quot;folium-map&quot; id=&quot;map_80cd7359e6818fe5d5c3933b26b6298c&quot; &gt;&lt;/div&gt;\n",
       "        \n",
       "&lt;/body&gt;\n",
       "&lt;script&gt;    \n",
       "    \n",
       "            var map_80cd7359e6818fe5d5c3933b26b6298c = L.map(\n",
       "                &quot;map_80cd7359e6818fe5d5c3933b26b6298c&quot;,\n",
       "                {\n",
       "                    center: [59.338315, 18.08996],\n",
       "                    crs: L.CRS.EPSG3857,\n",
       "                    zoom: 2,\n",
       "                    zoomControl: true,\n",
       "                    preferCanvas: false,\n",
       "                }\n",
       "            );\n",
       "\n",
       "            \n",
       "\n",
       "        \n",
       "    \n",
       "            var tile_layer_2cb033387bcace8becb02c9eb6ee94c5 = L.tileLayer(\n",
       "                &quot;https://cartodb-basemaps-{s}.global.ssl.fastly.net/dark_all/{z}/{x}/{y}.png&quot;,\n",
       "                {&quot;attribution&quot;: &quot;\\u0026copy; \\u003ca href=\\&quot;http://www.openstreetmap.org/copyright\\&quot;\\u003eOpenStreetMap\\u003c/a\\u003e contributors \\u0026copy; \\u003ca href=\\&quot;http://cartodb.com/attributions\\&quot;\\u003eCartoDB\\u003c/a\\u003e, CartoDB \\u003ca href =\\&quot;http://cartodb.com/attributions\\&quot;\\u003eattributions\\u003c/a\\u003e&quot;, &quot;detectRetina&quot;: false, &quot;maxNativeZoom&quot;: 18, &quot;maxZoom&quot;: 18, &quot;minZoom&quot;: 0, &quot;noWrap&quot;: false, &quot;opacity&quot;: 1, &quot;subdomains&quot;: &quot;abc&quot;, &quot;tms&quot;: false}\n",
       "            ).addTo(map_80cd7359e6818fe5d5c3933b26b6298c);\n",
       "        \n",
       "    \n",
       "            var fast_marker_cluster_8444c59d991c6425e96a5d9789026afd = (function(){\n",
       "                \n",
       "                var callback = function (row) {\n",
       "                    var icon = L.AwesomeMarkers.icon();\n",
       "                    var marker = L.marker(new L.LatLng(row[0], row[1]));\n",
       "                    marker.setIcon(icon);\n",
       "                    return marker;\n",
       "                };\n",
       "\n",
       "                var data = [[36.7014631, -118.755997], [10.3528744, 76.5120396], [18.19897685, -66.26152219418967], [27.7567667, -81.4639835], [19.1399952, -72.3570972], [23.6585116, -102.0077097], [41.7370229, -99.5873816], [31.2638905, -98.5456116], [-19.302233, 34.9144977], [30.5896683, -84.4759528], [24.7736546, -78.0000547], [43.7698712, 11.2555757], [29.7589382, -95.3676974], [-1.3397668, -79.3666965], [45.77455165, 10.299332955530872], [-18.4554963, 29.7468414], [39.7837304, -100.445882], [33.8318801, -118.0985036753183], [35.6729639, -79.0392919], [30.3308401, 71.247499]];\n",
       "                var cluster = L.markerClusterGroup({});\n",
       "\n",
       "                for (var i = 0; i &lt; data.length; i++) {\n",
       "                    var row = data[i];\n",
       "                    var marker = callback(row);\n",
       "                    marker.addTo(cluster);\n",
       "                }\n",
       "\n",
       "                cluster.addTo(map_80cd7359e6818fe5d5c3933b26b6298c);\n",
       "                return cluster;\n",
       "            })();\n",
       "        \n",
       "    \n",
       "            var layer_control_681d5c5ed70009f40bd8f0493e896785 = {\n",
       "                base_layers : {\n",
       "                    &quot;cartodbdark_matter&quot; : tile_layer_2cb033387bcace8becb02c9eb6ee94c5,\n",
       "                },\n",
       "                overlays :  {\n",
       "                    &quot;macro_element_8444c59d991c6425e96a5d9789026afd&quot; : fast_marker_cluster_8444c59d991c6425e96a5d9789026afd,\n",
       "                },\n",
       "            };\n",
       "            L.control.layers(\n",
       "                layer_control_681d5c5ed70009f40bd8f0493e896785.base_layers,\n",
       "                layer_control_681d5c5ed70009f40bd8f0493e896785.overlays,\n",
       "                {&quot;autoZIndex&quot;: true, &quot;collapsed&quot;: true, &quot;position&quot;: &quot;topright&quot;}\n",
       "            ).addTo(map_80cd7359e6818fe5d5c3933b26b6298c);\n",
       "        \n",
       "&lt;/script&gt;\" style=\"position:absolute;width:100%;height:100%;left:0;top:0;border:none !important;\" allowfullscreen webkitallowfullscreen mozallowfullscreen></iframe></div></div>"
      ],
      "text/plain": [
       "<folium.folium.Map at 0x7faae9f4eac0>"
      ]
     },
     "execution_count": 52,
     "metadata": {},
     "output_type": "execute_result"
    }
   ],
   "source": [
    "import folium\n",
    "from folium.plugins import FastMarkerCluster\n",
    "\n",
    "folium_map = folium.Map(location=[59.338315,18.089960],\n",
    "    zoom_start=2,\n",
    "    tiles='CartoDB dark_matter')\n",
    "\n",
    "FastMarkerCluster(data=list(zip(df_locs_most_common['latitude'].values,\n",
    "                                df_locs_most_common['longitude'].values))).add_to(folium_map)\n",
    "folium.LayerControl().add_to(folium_map)\n",
    "folium_map"
   ]
  },
  {
   "cell_type": "markdown",
   "id": "854678b9",
   "metadata": {
    "papermill": {
     "duration": 0.028002,
     "end_time": "2022-07-05T06:08:06.889467",
     "exception": false,
     "start_time": "2022-07-05T06:08:06.861465",
     "status": "completed"
    },
    "tags": []
   },
   "source": [
    "## Use dense vectors and word embedding to test the predictions"
   ]
  },
  {
   "cell_type": "code",
   "execution_count": 53,
   "id": "42019938",
   "metadata": {
    "execution": {
     "iopub.execute_input": "2022-07-05T06:08:06.946470Z",
     "iopub.status.busy": "2022-07-05T06:08:06.945989Z",
     "iopub.status.idle": "2022-07-05T06:08:07.345838Z",
     "shell.execute_reply": "2022-07-05T06:08:07.345019Z"
    },
    "lines_to_next_cell": 2,
    "papermill": {
     "duration": 0.430616,
     "end_time": "2022-07-05T06:08:07.347690",
     "exception": false,
     "start_time": "2022-07-05T06:08:06.917074",
     "status": "completed"
    },
    "tags": []
   },
   "outputs": [],
   "source": [
    "### Word2vec exploration - check https://radimrehurek.com/gensim/models/word2vec.html\n",
    "from nltk.corpus import stopwords"
   ]
  },
  {
   "cell_type": "code",
   "execution_count": 54,
   "id": "6f083a70",
   "metadata": {
    "execution": {
     "iopub.execute_input": "2022-07-05T06:08:07.397928Z",
     "iopub.status.busy": "2022-07-05T06:08:07.397664Z",
     "iopub.status.idle": "2022-07-05T06:08:08.317111Z",
     "shell.execute_reply": "2022-07-05T06:08:08.316542Z"
    },
    "papermill": {
     "duration": 0.94637,
     "end_time": "2022-07-05T06:08:08.318889",
     "exception": false,
     "start_time": "2022-07-05T06:08:07.372519",
     "status": "completed"
    },
    "tags": []
   },
   "outputs": [
    {
     "data": {
      "text/html": [
       "<style>#sk-container-id-5 {color: black;background-color: white;}#sk-container-id-5 pre{padding: 0;}#sk-container-id-5 div.sk-toggleable {background-color: white;}#sk-container-id-5 label.sk-toggleable__label {cursor: pointer;display: block;width: 100%;margin-bottom: 0;padding: 0.3em;box-sizing: border-box;text-align: center;}#sk-container-id-5 label.sk-toggleable__label-arrow:before {content: \"▸\";float: left;margin-right: 0.25em;color: #696969;}#sk-container-id-5 label.sk-toggleable__label-arrow:hover:before {color: black;}#sk-container-id-5 div.sk-estimator:hover label.sk-toggleable__label-arrow:before {color: black;}#sk-container-id-5 div.sk-toggleable__content {max-height: 0;max-width: 0;overflow: hidden;text-align: left;background-color: #f0f8ff;}#sk-container-id-5 div.sk-toggleable__content pre {margin: 0.2em;color: black;border-radius: 0.25em;background-color: #f0f8ff;}#sk-container-id-5 input.sk-toggleable__control:checked~div.sk-toggleable__content {max-height: 200px;max-width: 100%;overflow: auto;}#sk-container-id-5 input.sk-toggleable__control:checked~label.sk-toggleable__label-arrow:before {content: \"▾\";}#sk-container-id-5 div.sk-estimator input.sk-toggleable__control:checked~label.sk-toggleable__label {background-color: #d4ebff;}#sk-container-id-5 div.sk-label input.sk-toggleable__control:checked~label.sk-toggleable__label {background-color: #d4ebff;}#sk-container-id-5 input.sk-hidden--visually {border: 0;clip: rect(1px 1px 1px 1px);clip: rect(1px, 1px, 1px, 1px);height: 1px;margin: -1px;overflow: hidden;padding: 0;position: absolute;width: 1px;}#sk-container-id-5 div.sk-estimator {font-family: monospace;background-color: #f0f8ff;border: 1px dotted black;border-radius: 0.25em;box-sizing: border-box;margin-bottom: 0.5em;}#sk-container-id-5 div.sk-estimator:hover {background-color: #d4ebff;}#sk-container-id-5 div.sk-parallel-item::after {content: \"\";width: 100%;border-bottom: 1px solid gray;flex-grow: 1;}#sk-container-id-5 div.sk-label:hover label.sk-toggleable__label {background-color: #d4ebff;}#sk-container-id-5 div.sk-serial::before {content: \"\";position: absolute;border-left: 1px solid gray;box-sizing: border-box;top: 0;bottom: 0;left: 50%;z-index: 0;}#sk-container-id-5 div.sk-serial {display: flex;flex-direction: column;align-items: center;background-color: white;padding-right: 0.2em;padding-left: 0.2em;position: relative;}#sk-container-id-5 div.sk-item {position: relative;z-index: 1;}#sk-container-id-5 div.sk-parallel {display: flex;align-items: stretch;justify-content: center;background-color: white;position: relative;}#sk-container-id-5 div.sk-item::before, #sk-container-id-5 div.sk-parallel-item::before {content: \"\";position: absolute;border-left: 1px solid gray;box-sizing: border-box;top: 0;bottom: 0;left: 50%;z-index: -1;}#sk-container-id-5 div.sk-parallel-item {display: flex;flex-direction: column;z-index: 1;position: relative;background-color: white;}#sk-container-id-5 div.sk-parallel-item:first-child::after {align-self: flex-end;width: 50%;}#sk-container-id-5 div.sk-parallel-item:last-child::after {align-self: flex-start;width: 50%;}#sk-container-id-5 div.sk-parallel-item:only-child::after {width: 0;}#sk-container-id-5 div.sk-dashed-wrapped {border: 1px dashed gray;margin: 0 0.4em 0.5em 0.4em;box-sizing: border-box;padding-bottom: 0.4em;background-color: white;}#sk-container-id-5 div.sk-label label {font-family: monospace;font-weight: bold;display: inline-block;line-height: 1.2em;}#sk-container-id-5 div.sk-label-container {text-align: center;}#sk-container-id-5 div.sk-container {/* jupyter's `normalize.less` sets `[hidden] { display: none; }` but bootstrap.min.css set `[hidden] { display: none !important; }` so we also need the `!important` here to be able to override the default hidden behavior on the sphinx rendered scikit-learn.org. See: https://github.com/scikit-learn/scikit-learn/issues/21755 */display: inline-block !important;position: relative;}#sk-container-id-5 div.sk-text-repr-fallback {display: none;}</style><div id=\"sk-container-id-5\" class=\"sk-top-container\"><div class=\"sk-text-repr-fallback\"><pre>TfidfVectorizer(min_df=50, stop_words=&#x27;english&#x27;)</pre><b>In a Jupyter environment, please rerun this cell to show the HTML representation or trust the notebook. <br />On GitHub, the HTML representation is unable to render, please try loading this page with nbviewer.org.</b></div><div class=\"sk-container\" hidden><div class=\"sk-item\"><div class=\"sk-estimator sk-toggleable\"><input class=\"sk-toggleable__control sk-hidden--visually\" id=\"sk-estimator-id-5\" type=\"checkbox\" checked><label for=\"sk-estimator-id-5\" class=\"sk-toggleable__label sk-toggleable__label-arrow\">TfidfVectorizer</label><div class=\"sk-toggleable__content\"><pre>TfidfVectorizer(min_df=50, stop_words=&#x27;english&#x27;)</pre></div></div></div></div></div>"
      ],
      "text/plain": [
       "TfidfVectorizer(min_df=50, stop_words='english')"
      ]
     },
     "execution_count": 54,
     "metadata": {},
     "output_type": "execute_result"
    }
   ],
   "source": [
    "vectorizer = TfidfVectorizer(min_df=50, stop_words='english')\n",
    "vectorizer.fit(df_disaster_train['tweet_text'])"
   ]
  },
  {
   "cell_type": "code",
   "execution_count": 55,
   "id": "4f20eb28",
   "metadata": {
    "execution": {
     "iopub.execute_input": "2022-07-05T06:08:08.377980Z",
     "iopub.status.busy": "2022-07-05T06:08:08.377662Z",
     "iopub.status.idle": "2022-07-05T06:08:08.381555Z",
     "shell.execute_reply": "2022-07-05T06:08:08.380791Z"
    },
    "papermill": {
     "duration": 0.036231,
     "end_time": "2022-07-05T06:08:08.383433",
     "exception": false,
     "start_time": "2022-07-05T06:08:08.347202",
     "status": "completed"
    },
    "tags": []
   },
   "outputs": [],
   "source": [
    "analyzer = vectorizer.build_analyzer()"
   ]
  },
  {
   "cell_type": "code",
   "execution_count": 56,
   "id": "3f829e84",
   "metadata": {
    "execution": {
     "iopub.execute_input": "2022-07-05T06:08:08.440265Z",
     "iopub.status.busy": "2022-07-05T06:08:08.439965Z",
     "iopub.status.idle": "2022-07-05T06:08:09.209804Z",
     "shell.execute_reply": "2022-07-05T06:08:09.209133Z"
    },
    "papermill": {
     "duration": 0.80016,
     "end_time": "2022-07-05T06:08:09.211724",
     "exception": false,
     "start_time": "2022-07-05T06:08:08.411564",
     "status": "completed"
    },
    "tags": []
   },
   "outputs": [
    {
     "data": {
      "text/plain": [
       "[['feel',\n",
       "  'little',\n",
       "  'uneasy',\n",
       "  'idea',\n",
       "  'work',\n",
       "  'tomorrow',\n",
       "  'aftershocks',\n",
       "  'strong',\n",
       "  'eqnz',\n",
       "  'wellingtonearthquake'],\n",
       " ['eqnz',\n",
       "  'interislander',\n",
       "  'ferry',\n",
       "  'docking',\n",
       "  'aborted',\n",
       "  'huge',\n",
       "  'magnitude',\n",
       "  'quake',\n",
       "  'sailings',\n",
       "  'hold']]"
      ]
     },
     "execution_count": 56,
     "metadata": {},
     "output_type": "execute_result"
    }
   ],
   "source": [
    "tokens = [analyzer(s) for s in list(df_disaster_train['tweet_text'])]\n",
    "tokens[:2]"
   ]
  },
  {
   "cell_type": "code",
   "execution_count": 57,
   "id": "c46c1641",
   "metadata": {
    "execution": {
     "iopub.execute_input": "2022-07-05T06:08:09.269649Z",
     "iopub.status.busy": "2022-07-05T06:08:09.269351Z",
     "iopub.status.idle": "2022-07-05T06:08:10.785614Z",
     "shell.execute_reply": "2022-07-05T06:08:10.784980Z"
    },
    "lines_to_next_cell": 0,
    "papermill": {
     "duration": 1.547203,
     "end_time": "2022-07-05T06:08:10.787520",
     "exception": false,
     "start_time": "2022-07-05T06:08:09.240317",
     "status": "completed"
    },
    "tags": []
   },
   "outputs": [
    {
     "name": "stdout",
     "output_type": "stream",
     "text": [
      "CPU times: user 4.28 s, sys: 45.6 ms, total: 4.32 s\n",
      "Wall time: 1.51 s\n"
     ]
    }
   ],
   "source": [
    "%%time\n",
    "from gensim.models.word2vec import Word2Vec\n",
    "\n",
    "quick_model = Word2Vec(sentences=tokens, vector_size=100, window=2,\n",
    "                       min_count=10, workers=4, seed=random_seed)"
   ]
  },
  {
   "cell_type": "code",
   "execution_count": 58,
   "id": "06f8fcf9",
   "metadata": {
    "execution": {
     "iopub.execute_input": "2022-07-05T06:08:10.845950Z",
     "iopub.status.busy": "2022-07-05T06:08:10.845644Z",
     "iopub.status.idle": "2022-07-05T06:08:10.850756Z",
     "shell.execute_reply": "2022-07-05T06:08:10.850204Z"
    },
    "lines_to_next_cell": 2,
    "papermill": {
     "duration": 0.036718,
     "end_time": "2022-07-05T06:08:10.852611",
     "exception": false,
     "start_time": "2022-07-05T06:08:10.815893",
     "status": "completed"
    },
    "tags": []
   },
   "outputs": [
    {
     "data": {
      "text/plain": [
       "array([ 0.61761737, -0.8274039 ,  0.18905592, -0.00195632, -0.01675954,\n",
       "        0.31766087,  0.05806428, -0.6869638 ,  0.70284194, -0.1447702 ,\n",
       "       -0.35068706,  0.3886651 ,  0.26211038, -0.2848492 , -0.2872237 ,\n",
       "        0.07138237,  0.80843526,  0.1319111 , -0.8640108 ,  0.07524198,\n",
       "        0.0715074 ,  0.35984087,  0.15407723,  0.11089543, -0.6460062 ,\n",
       "       -0.1434243 , -0.19910611, -0.63120615, -0.73337567,  0.17375386,\n",
       "       -0.06324625, -0.32255363, -0.36123276,  0.10803369,  0.11531721,\n",
       "        0.18282966, -0.6624519 ,  0.3516574 , -0.12843557,  0.08090799,\n",
       "       -0.17139123,  1.1050642 ,  0.8850008 , -0.43790144,  0.25344238,\n",
       "       -0.7555698 ,  0.46842393, -0.44281143, -0.32216418,  0.24151142,\n",
       "       -0.24644016,  0.3646483 , -0.13028802,  0.30162293,  0.17597501,\n",
       "       -0.07897681,  0.86925834, -0.30822125, -0.23917435, -1.029434  ,\n",
       "        0.37637794,  0.4165277 , -0.8558768 ,  0.00880709,  0.70359635,\n",
       "       -0.14710002,  0.55025643, -0.07355865,  0.77373546,  0.2995916 ,\n",
       "       -0.691198  ,  0.7704677 ,  0.75544643, -0.07170633, -0.07916215,\n",
       "       -0.07685637,  0.1494319 ,  0.30602282,  0.5785808 , -0.05906195,\n",
       "       -0.5158129 , -0.5156593 ,  0.12905556, -0.14814995, -0.6744785 ,\n",
       "        0.49276927,  0.10036696,  0.07329171,  0.40359998,  0.01088616,\n",
       "       -0.1228485 ,  0.15289827, -1.2122464 , -0.25690067, -0.15080161,\n",
       "        0.41370934,  0.78150123, -0.64066446, -0.40127462,  0.6178904 ],\n",
       "      dtype=float32)"
      ]
     },
     "execution_count": 58,
     "metadata": {},
     "output_type": "execute_result"
    }
   ],
   "source": [
    "quick_model.wv.get_vector('quake')"
   ]
  },
  {
   "cell_type": "code",
   "execution_count": 59,
   "id": "0a18f911",
   "metadata": {
    "execution": {
     "iopub.execute_input": "2022-07-05T06:08:10.911057Z",
     "iopub.status.busy": "2022-07-05T06:08:10.910758Z",
     "iopub.status.idle": "2022-07-05T06:08:10.917600Z",
     "shell.execute_reply": "2022-07-05T06:08:10.916929Z"
    },
    "papermill": {
     "duration": 0.038606,
     "end_time": "2022-07-05T06:08:10.919803",
     "exception": false,
     "start_time": "2022-07-05T06:08:10.881197",
     "status": "completed"
    },
    "tags": []
   },
   "outputs": [
    {
     "data": {
      "text/plain": [
       "[('matthew', 0.8530034422874451),\n",
       " ('earthquake', 0.8327711820602417),\n",
       " ('cyclone', 0.832724392414093),\n",
       " ('magnitude', 0.8294973969459534),\n",
       " ('earthquakes', 0.825534462928772),\n",
       " ('idai', 0.8200674653053284),\n",
       " ('irmas', 0.8195391297340393),\n",
       " ('deadly', 0.8167228102684021),\n",
       " ('powerful', 0.816655695438385),\n",
       " ('harveys', 0.8053423166275024)]"
      ]
     },
     "execution_count": 59,
     "metadata": {},
     "output_type": "execute_result"
    }
   ],
   "source": [
    "quick_model.wv.similar_by_word(\"quake\")[:10]"
   ]
  },
  {
   "cell_type": "code",
   "execution_count": 60,
   "id": "1dc4a7f8",
   "metadata": {
    "execution": {
     "iopub.execute_input": "2022-07-05T06:08:10.981719Z",
     "iopub.status.busy": "2022-07-05T06:08:10.981418Z",
     "iopub.status.idle": "2022-07-05T06:08:42.059719Z",
     "shell.execute_reply": "2022-07-05T06:08:42.059048Z"
    },
    "papermill": {
     "duration": 31.113024,
     "end_time": "2022-07-05T06:08:42.061884",
     "exception": false,
     "start_time": "2022-07-05T06:08:10.948860",
     "status": "completed"
    },
    "tags": []
   },
   "outputs": [
    {
     "name": "stderr",
     "output_type": "stream",
     "text": [
      "\r",
      "  0%|                                                                                                                                                                  | 0/53522 [00:00<?, ?it/s]"
     ]
    },
    {
     "name": "stderr",
     "output_type": "stream",
     "text": [
      "\r",
      "  0%|▋                                                                                                                                                     | 241/53522 [00:00<00:22, 2405.29it/s]"
     ]
    },
    {
     "name": "stderr",
     "output_type": "stream",
     "text": [
      "\r",
      "  1%|█▍                                                                                                                                                    | 497/53522 [00:00<00:21, 2493.62it/s]"
     ]
    },
    {
     "name": "stderr",
     "output_type": "stream",
     "text": [
      "\r",
      "  1%|██                                                                                                                                                    | 747/53522 [00:00<00:21, 2433.65it/s]"
     ]
    },
    {
     "name": "stderr",
     "output_type": "stream",
     "text": [
      "\r",
      "  2%|██▊                                                                                                                                                  | 1008/53522 [00:00<00:21, 2498.86it/s]"
     ]
    },
    {
     "name": "stderr",
     "output_type": "stream",
     "text": [
      "\r",
      "  2%|███▌                                                                                                                                                 | 1262/53522 [00:00<00:20, 2508.75it/s]"
     ]
    },
    {
     "name": "stderr",
     "output_type": "stream",
     "text": [
      "\r",
      "  3%|████▏                                                                                                                                                | 1514/53522 [00:00<00:21, 2474.90it/s]"
     ]
    },
    {
     "name": "stderr",
     "output_type": "stream",
     "text": [
      "\r",
      "  3%|████▉                                                                                                                                                | 1770/53522 [00:00<00:20, 2497.94it/s]"
     ]
    },
    {
     "name": "stderr",
     "output_type": "stream",
     "text": [
      "\r",
      "  4%|█████▌                                                                                                                                               | 2020/53522 [00:00<00:21, 2437.04it/s]"
     ]
    },
    {
     "name": "stderr",
     "output_type": "stream",
     "text": [
      "\r",
      "  4%|██████▎                                                                                                                                              | 2278/53522 [00:00<00:20, 2477.41it/s]"
     ]
    },
    {
     "name": "stderr",
     "output_type": "stream",
     "text": [
      "\r",
      "  5%|███████                                                                                                                                              | 2529/53522 [00:01<00:20, 2484.47it/s]"
     ]
    },
    {
     "name": "stderr",
     "output_type": "stream",
     "text": [
      "\r",
      "  5%|███████▋                                                                                                                                             | 2778/53522 [00:01<00:20, 2443.70it/s]"
     ]
    },
    {
     "name": "stderr",
     "output_type": "stream",
     "text": [
      "\r",
      "  6%|████████▍                                                                                                                                            | 3037/53522 [00:01<00:20, 2484.86it/s]"
     ]
    },
    {
     "name": "stderr",
     "output_type": "stream",
     "text": [
      "\r",
      "  6%|█████████▏                                                                                                                                           | 3315/53522 [00:01<00:19, 2572.26it/s]"
     ]
    },
    {
     "name": "stderr",
     "output_type": "stream",
     "text": [
      "\r",
      "  7%|██████████                                                                                                                                           | 3595/53522 [00:01<00:18, 2636.29it/s]"
     ]
    },
    {
     "name": "stderr",
     "output_type": "stream",
     "text": [
      "\r",
      "  7%|██████████▋                                                                                                                                          | 3859/53522 [00:01<00:18, 2619.52it/s]"
     ]
    },
    {
     "name": "stderr",
     "output_type": "stream",
     "text": [
      "\r",
      "  8%|███████████▍                                                                                                                                         | 4122/53522 [00:01<00:18, 2619.14it/s]"
     ]
    },
    {
     "name": "stderr",
     "output_type": "stream",
     "text": [
      "\r",
      "  8%|████████████▏                                                                                                                                        | 4393/53522 [00:01<00:18, 2642.88it/s]"
     ]
    },
    {
     "name": "stderr",
     "output_type": "stream",
     "text": [
      "\r",
      "  9%|████████████▉                                                                                                                                        | 4658/53522 [00:01<00:18, 2621.51it/s]"
     ]
    },
    {
     "name": "stderr",
     "output_type": "stream",
     "text": [
      "\r",
      "  9%|█████████████▋                                                                                                                                       | 4921/53522 [00:01<00:19, 2474.31it/s]"
     ]
    },
    {
     "name": "stderr",
     "output_type": "stream",
     "text": [
      "\r",
      " 10%|██████████████▍                                                                                                                                      | 5171/53522 [00:02<00:22, 2179.79it/s]"
     ]
    },
    {
     "name": "stderr",
     "output_type": "stream",
     "text": [
      "\r",
      " 10%|███████████████                                                                                                                                      | 5396/53522 [00:02<00:24, 1997.84it/s]"
     ]
    },
    {
     "name": "stderr",
     "output_type": "stream",
     "text": [
      "\r",
      " 10%|███████████████▌                                                                                                                                     | 5603/53522 [00:02<00:25, 1893.89it/s]"
     ]
    },
    {
     "name": "stderr",
     "output_type": "stream",
     "text": [
      "\r",
      " 11%|████████████████▏                                                                                                                                    | 5797/53522 [00:02<00:25, 1859.28it/s]"
     ]
    },
    {
     "name": "stderr",
     "output_type": "stream",
     "text": [
      "\r",
      " 11%|████████████████▋                                                                                                                                    | 5986/53522 [00:02<00:26, 1772.65it/s]"
     ]
    },
    {
     "name": "stderr",
     "output_type": "stream",
     "text": [
      "\r",
      " 12%|█████████████████▏                                                                                                                                   | 6166/53522 [00:02<00:27, 1735.78it/s]"
     ]
    },
    {
     "name": "stderr",
     "output_type": "stream",
     "text": [
      "\r",
      " 12%|█████████████████▊                                                                                                                                   | 6376/53522 [00:02<00:25, 1832.54it/s]"
     ]
    },
    {
     "name": "stderr",
     "output_type": "stream",
     "text": [
      "\r",
      " 12%|██████████████████▍                                                                                                                                  | 6622/53522 [00:02<00:23, 2005.10it/s]"
     ]
    },
    {
     "name": "stderr",
     "output_type": "stream",
     "text": [
      "\r",
      " 13%|███████████████████                                                                                                                                  | 6848/53522 [00:03<00:22, 2076.99it/s]"
     ]
    },
    {
     "name": "stderr",
     "output_type": "stream",
     "text": [
      "\r",
      " 13%|███████████████████▋                                                                                                                                 | 7071/53522 [00:03<00:21, 2120.41it/s]"
     ]
    },
    {
     "name": "stderr",
     "output_type": "stream",
     "text": [
      "\r",
      " 14%|████████████████████▍                                                                                                                                | 7335/53522 [00:03<00:20, 2270.09it/s]"
     ]
    },
    {
     "name": "stderr",
     "output_type": "stream",
     "text": [
      "\r",
      " 14%|█████████████████████                                                                                                                                | 7564/53522 [00:03<00:20, 2272.89it/s]"
     ]
    },
    {
     "name": "stderr",
     "output_type": "stream",
     "text": [
      "\r",
      " 15%|█████████████████████▋                                                                                                                               | 7795/53522 [00:03<00:20, 2282.31it/s]"
     ]
    },
    {
     "name": "stderr",
     "output_type": "stream",
     "text": [
      "\r",
      " 15%|██████████████████████▎                                                                                                                              | 8025/53522 [00:03<00:20, 2201.60it/s]"
     ]
    },
    {
     "name": "stderr",
     "output_type": "stream",
     "text": [
      "\r",
      " 15%|██████████████████████▉                                                                                                                              | 8247/53522 [00:03<00:22, 2008.30it/s]"
     ]
    },
    {
     "name": "stderr",
     "output_type": "stream",
     "text": [
      "\r",
      " 16%|███████████████████████▌                                                                                                                             | 8452/53522 [00:03<00:22, 1982.43it/s]"
     ]
    },
    {
     "name": "stderr",
     "output_type": "stream",
     "text": [
      "\r",
      " 16%|████████████████████████                                                                                                                             | 8653/53522 [00:03<00:23, 1940.78it/s]"
     ]
    },
    {
     "name": "stderr",
     "output_type": "stream",
     "text": [
      "\r",
      " 17%|████████████████████████▋                                                                                                                            | 8849/53522 [00:03<00:23, 1879.28it/s]"
     ]
    },
    {
     "name": "stderr",
     "output_type": "stream",
     "text": [
      "\r",
      " 17%|█████████████████████████▏                                                                                                                           | 9039/53522 [00:04<00:24, 1811.44it/s]"
     ]
    },
    {
     "name": "stderr",
     "output_type": "stream",
     "text": [
      "\r",
      " 17%|█████████████████████████▋                                                                                                                           | 9222/53522 [00:04<00:24, 1803.80it/s]"
     ]
    },
    {
     "name": "stderr",
     "output_type": "stream",
     "text": [
      "\r",
      " 18%|██████████████████████████▏                                                                                                                          | 9404/53522 [00:04<00:26, 1695.59it/s]"
     ]
    },
    {
     "name": "stderr",
     "output_type": "stream",
     "text": [
      "\r",
      " 18%|██████████████████████████▋                                                                                                                          | 9588/53522 [00:04<00:25, 1734.60it/s]"
     ]
    },
    {
     "name": "stderr",
     "output_type": "stream",
     "text": [
      "\r",
      " 18%|███████████████████████████▏                                                                                                                         | 9763/53522 [00:04<00:25, 1729.33it/s]"
     ]
    },
    {
     "name": "stderr",
     "output_type": "stream",
     "text": [
      "\r",
      " 19%|███████████████████████████▋                                                                                                                         | 9943/53522 [00:04<00:25, 1742.79it/s]"
     ]
    },
    {
     "name": "stderr",
     "output_type": "stream",
     "text": [
      "\r",
      " 19%|███████████████████████████▉                                                                                                                        | 10119/53522 [00:04<00:24, 1744.89it/s]"
     ]
    },
    {
     "name": "stderr",
     "output_type": "stream",
     "text": [
      "\r",
      " 19%|████████████████████████████▍                                                                                                                       | 10294/53522 [00:04<00:25, 1713.32it/s]"
     ]
    },
    {
     "name": "stderr",
     "output_type": "stream",
     "text": [
      "\r",
      " 20%|████████████████████████████▉                                                                                                                       | 10484/53522 [00:04<00:24, 1767.05it/s]"
     ]
    },
    {
     "name": "stderr",
     "output_type": "stream",
     "text": [
      "\r",
      " 20%|█████████████████████████████▍                                                                                                                      | 10662/53522 [00:05<00:24, 1758.04it/s]"
     ]
    },
    {
     "name": "stderr",
     "output_type": "stream",
     "text": [
      "\r",
      " 20%|██████████████████████████████                                                                                                                      | 10865/53522 [00:05<00:23, 1835.67it/s]"
     ]
    },
    {
     "name": "stderr",
     "output_type": "stream",
     "text": [
      "\r",
      " 21%|██████████████████████████████▌                                                                                                                     | 11049/53522 [00:05<00:23, 1828.75it/s]"
     ]
    },
    {
     "name": "stderr",
     "output_type": "stream",
     "text": [
      "\r",
      " 21%|███████████████████████████████                                                                                                                     | 11242/53522 [00:05<00:22, 1857.13it/s]"
     ]
    },
    {
     "name": "stderr",
     "output_type": "stream",
     "text": [
      "\r",
      " 21%|███████████████████████████████▌                                                                                                                    | 11428/53522 [00:05<00:23, 1783.24it/s]"
     ]
    },
    {
     "name": "stderr",
     "output_type": "stream",
     "text": [
      "\r",
      " 22%|████████████████████████████████                                                                                                                    | 11608/53522 [00:05<00:23, 1775.45it/s]"
     ]
    },
    {
     "name": "stderr",
     "output_type": "stream",
     "text": [
      "\r",
      " 22%|████████████████████████████████▌                                                                                                                   | 11787/53522 [00:05<00:23, 1743.41it/s]"
     ]
    },
    {
     "name": "stderr",
     "output_type": "stream",
     "text": [
      "\r",
      " 22%|█████████████████████████████████                                                                                                                   | 11962/53522 [00:05<00:23, 1732.81it/s]"
     ]
    },
    {
     "name": "stderr",
     "output_type": "stream",
     "text": [
      "\r",
      " 23%|█████████████████████████████████▌                                                                                                                  | 12140/53522 [00:05<00:23, 1746.19it/s]"
     ]
    },
    {
     "name": "stderr",
     "output_type": "stream",
     "text": [
      "\r",
      " 23%|██████████████████████████████████                                                                                                                  | 12323/53522 [00:05<00:23, 1764.53it/s]"
     ]
    },
    {
     "name": "stderr",
     "output_type": "stream",
     "text": [
      "\r",
      " 23%|██████████████████████████████████▌                                                                                                                 | 12500/53522 [00:06<00:23, 1732.35it/s]"
     ]
    },
    {
     "name": "stderr",
     "output_type": "stream",
     "text": [
      "\r",
      " 24%|███████████████████████████████████                                                                                                                 | 12693/53522 [00:06<00:22, 1789.50it/s]"
     ]
    },
    {
     "name": "stderr",
     "output_type": "stream",
     "text": [
      "\r",
      " 24%|███████████████████████████████████▌                                                                                                                | 12873/53522 [00:06<00:23, 1758.65it/s]"
     ]
    },
    {
     "name": "stderr",
     "output_type": "stream",
     "text": [
      "\r",
      " 24%|████████████████████████████████████                                                                                                                | 13055/53522 [00:06<00:22, 1772.60it/s]"
     ]
    },
    {
     "name": "stderr",
     "output_type": "stream",
     "text": [
      "\r",
      " 25%|████████████████████████████████████▌                                                                                                               | 13233/53522 [00:06<00:22, 1766.17it/s]"
     ]
    },
    {
     "name": "stderr",
     "output_type": "stream",
     "text": [
      "\r",
      " 25%|█████████████████████████████████████                                                                                                               | 13413/53522 [00:06<00:22, 1775.03it/s]"
     ]
    },
    {
     "name": "stderr",
     "output_type": "stream",
     "text": [
      "\r",
      " 25%|█████████████████████████████████████▌                                                                                                              | 13591/53522 [00:06<00:23, 1725.64it/s]"
     ]
    },
    {
     "name": "stderr",
     "output_type": "stream",
     "text": [
      "\r",
      " 26%|██████████████████████████████████████                                                                                                              | 13765/53522 [00:06<00:23, 1728.01it/s]"
     ]
    },
    {
     "name": "stderr",
     "output_type": "stream",
     "text": [
      "\r",
      " 26%|██████████████████████████████████████▌                                                                                                             | 13960/53522 [00:06<00:22, 1788.64it/s]"
     ]
    },
    {
     "name": "stderr",
     "output_type": "stream",
     "text": [
      "\r",
      " 26%|███████████████████████████████████████                                                                                                             | 14140/53522 [00:07<00:23, 1704.10it/s]"
     ]
    },
    {
     "name": "stderr",
     "output_type": "stream",
     "text": [
      "\r",
      " 27%|███████████████████████████████████████▌                                                                                                            | 14312/53522 [00:07<00:27, 1451.21it/s]"
     ]
    },
    {
     "name": "stderr",
     "output_type": "stream",
     "text": [
      "\r",
      " 27%|███████████████████████████████████████▉                                                                                                            | 14464/53522 [00:07<00:27, 1415.34it/s]"
     ]
    },
    {
     "name": "stderr",
     "output_type": "stream",
     "text": [
      "\r",
      " 27%|████████████████████████████████████████▍                                                                                                           | 14611/53522 [00:07<00:28, 1362.32it/s]"
     ]
    },
    {
     "name": "stderr",
     "output_type": "stream",
     "text": [
      "\r",
      " 28%|████████████████████████████████████████▊                                                                                                           | 14751/53522 [00:07<00:28, 1347.04it/s]"
     ]
    },
    {
     "name": "stderr",
     "output_type": "stream",
     "text": [
      "\r",
      " 28%|█████████████████████████████████████████▏                                                                                                          | 14888/53522 [00:07<00:28, 1344.15it/s]"
     ]
    },
    {
     "name": "stderr",
     "output_type": "stream",
     "text": [
      "\r",
      " 28%|█████████████████████████████████████████▌                                                                                                          | 15024/53522 [00:07<00:28, 1341.71it/s]"
     ]
    },
    {
     "name": "stderr",
     "output_type": "stream",
     "text": [
      "\r",
      " 28%|█████████████████████████████████████████▉                                                                                                          | 15160/53522 [00:07<00:28, 1336.68it/s]"
     ]
    },
    {
     "name": "stderr",
     "output_type": "stream",
     "text": [
      "\r",
      " 29%|██████████████████████████████████████████▎                                                                                                         | 15295/53522 [00:07<00:29, 1279.15it/s]"
     ]
    },
    {
     "name": "stderr",
     "output_type": "stream",
     "text": [
      "\r",
      " 29%|██████████████████████████████████████████▋                                                                                                         | 15424/53522 [00:08<00:30, 1265.71it/s]"
     ]
    },
    {
     "name": "stderr",
     "output_type": "stream",
     "text": [
      "\r",
      " 29%|███████████████████████████████████████████                                                                                                         | 15552/53522 [00:08<00:29, 1267.76it/s]"
     ]
    },
    {
     "name": "stderr",
     "output_type": "stream",
     "text": [
      "\r",
      " 29%|███████████████████████████████████████████▎                                                                                                        | 15684/53522 [00:08<00:29, 1282.12it/s]"
     ]
    },
    {
     "name": "stderr",
     "output_type": "stream",
     "text": [
      "\r",
      " 30%|███████████████████████████████████████████▋                                                                                                        | 15817/53522 [00:08<00:29, 1294.59it/s]"
     ]
    },
    {
     "name": "stderr",
     "output_type": "stream",
     "text": [
      "\r",
      " 30%|████████████████████████████████████████████                                                                                                        | 15947/53522 [00:08<00:29, 1294.65it/s]"
     ]
    },
    {
     "name": "stderr",
     "output_type": "stream",
     "text": [
      "\r",
      " 30%|████████████████████████████████████████████▍                                                                                                       | 16077/53522 [00:08<00:29, 1254.11it/s]"
     ]
    },
    {
     "name": "stderr",
     "output_type": "stream",
     "text": [
      "\r",
      " 30%|████████████████████████████████████████████▊                                                                                                       | 16203/53522 [00:08<00:29, 1244.69it/s]"
     ]
    },
    {
     "name": "stderr",
     "output_type": "stream",
     "text": [
      "\r",
      " 31%|█████████████████████████████████████████████▏                                                                                                      | 16329/53522 [00:08<00:29, 1248.88it/s]"
     ]
    },
    {
     "name": "stderr",
     "output_type": "stream",
     "text": [
      "\r",
      " 31%|█████████████████████████████████████████████▌                                                                                                      | 16455/53522 [00:08<00:29, 1252.06it/s]"
     ]
    },
    {
     "name": "stderr",
     "output_type": "stream",
     "text": [
      "\r",
      " 31%|█████████████████████████████████████████████▊                                                                                                      | 16587/53522 [00:08<00:29, 1269.93it/s]"
     ]
    },
    {
     "name": "stderr",
     "output_type": "stream",
     "text": [
      "\r",
      " 31%|██████████████████████████████████████████████▏                                                                                                     | 16715/53522 [00:09<00:29, 1256.34it/s]"
     ]
    },
    {
     "name": "stderr",
     "output_type": "stream",
     "text": [
      "\r",
      " 31%|██████████████████████████████████████████████▌                                                                                                     | 16841/53522 [00:09<00:30, 1206.69it/s]"
     ]
    },
    {
     "name": "stderr",
     "output_type": "stream",
     "text": [
      "\r",
      " 32%|██████████████████████████████████████████████▉                                                                                                     | 16963/53522 [00:09<00:30, 1179.74it/s]"
     ]
    },
    {
     "name": "stderr",
     "output_type": "stream",
     "text": [
      "\r",
      " 32%|███████████████████████████████████████████████▎                                                                                                    | 17093/53522 [00:09<00:30, 1210.65it/s]"
     ]
    },
    {
     "name": "stderr",
     "output_type": "stream",
     "text": [
      "\r",
      " 32%|███████████████████████████████████████████████▌                                                                                                    | 17222/53522 [00:09<00:29, 1231.29it/s]"
     ]
    },
    {
     "name": "stderr",
     "output_type": "stream",
     "text": [
      "\r",
      " 32%|███████████████████████████████████████████████▉                                                                                                    | 17350/53522 [00:09<00:29, 1243.66it/s]"
     ]
    },
    {
     "name": "stderr",
     "output_type": "stream",
     "text": [
      "\r",
      " 33%|████████████████████████████████████████████████▎                                                                                                   | 17475/53522 [00:09<00:29, 1234.31it/s]"
     ]
    },
    {
     "name": "stderr",
     "output_type": "stream",
     "text": [
      "\r",
      " 33%|████████████████████████████████████████████████▋                                                                                                   | 17599/53522 [00:09<00:29, 1230.25it/s]"
     ]
    },
    {
     "name": "stderr",
     "output_type": "stream",
     "text": [
      "\r",
      " 33%|█████████████████████████████████████████████████                                                                                                   | 17724/53522 [00:09<00:28, 1235.69it/s]"
     ]
    },
    {
     "name": "stderr",
     "output_type": "stream",
     "text": [
      "\r",
      " 33%|█████████████████████████████████████████████████▍                                                                                                  | 17864/53522 [00:09<00:27, 1279.80it/s]"
     ]
    },
    {
     "name": "stderr",
     "output_type": "stream",
     "text": [
      "\r",
      " 34%|█████████████████████████████████████████████████▊                                                                                                  | 17993/53522 [00:10<00:28, 1243.55it/s]"
     ]
    },
    {
     "name": "stderr",
     "output_type": "stream",
     "text": [
      "\r",
      " 34%|██████████████████████████████████████████████████                                                                                                  | 18118/53522 [00:10<00:28, 1233.79it/s]"
     ]
    },
    {
     "name": "stderr",
     "output_type": "stream",
     "text": [
      "\r",
      " 34%|██████████████████████████████████████████████████▍                                                                                                 | 18243/53522 [00:10<00:28, 1237.73it/s]"
     ]
    },
    {
     "name": "stderr",
     "output_type": "stream",
     "text": [
      "\r",
      " 34%|██████████████████████████████████████████████████▊                                                                                                 | 18376/53522 [00:10<00:27, 1263.41it/s]"
     ]
    },
    {
     "name": "stderr",
     "output_type": "stream",
     "text": [
      "\r",
      " 35%|███████████████████████████████████████████████████▏                                                                                                | 18507/53522 [00:10<00:27, 1273.36it/s]"
     ]
    },
    {
     "name": "stderr",
     "output_type": "stream",
     "text": [
      "\r",
      " 35%|███████████████████████████████████████████████████▌                                                                                                | 18635/53522 [00:10<00:28, 1228.26it/s]"
     ]
    },
    {
     "name": "stderr",
     "output_type": "stream",
     "text": [
      "\r",
      " 35%|███████████████████████████████████████████████████▊                                                                                                | 18759/53522 [00:10<00:28, 1231.42it/s]"
     ]
    },
    {
     "name": "stderr",
     "output_type": "stream",
     "text": [
      "\r",
      " 35%|████████████████████████████████████████████████████▏                                                                                               | 18888/53522 [00:10<00:27, 1247.36it/s]"
     ]
    },
    {
     "name": "stderr",
     "output_type": "stream",
     "text": [
      "\r",
      " 36%|████████████████████████████████████████████████████▌                                                                                               | 19013/53522 [00:10<00:27, 1235.74it/s]"
     ]
    },
    {
     "name": "stderr",
     "output_type": "stream",
     "text": [
      "\r",
      " 36%|████████████████████████████████████████████████████▉                                                                                               | 19143/53522 [00:11<00:27, 1249.29it/s]"
     ]
    },
    {
     "name": "stderr",
     "output_type": "stream",
     "text": [
      "\r",
      " 36%|█████████████████████████████████████████████████████▎                                                                                              | 19269/53522 [00:11<00:28, 1209.95it/s]"
     ]
    },
    {
     "name": "stderr",
     "output_type": "stream",
     "text": [
      "\r",
      " 36%|█████████████████████████████████████████████████████▌                                                                                              | 19391/53522 [00:11<00:29, 1151.03it/s]"
     ]
    },
    {
     "name": "stderr",
     "output_type": "stream",
     "text": [
      "\r",
      " 36%|█████████████████████████████████████████████████████▉                                                                                              | 19507/53522 [00:11<00:29, 1142.46it/s]"
     ]
    },
    {
     "name": "stderr",
     "output_type": "stream",
     "text": [
      "\r",
      " 37%|██████████████████████████████████████████████████████▎                                                                                             | 19623/53522 [00:11<00:29, 1146.21it/s]"
     ]
    },
    {
     "name": "stderr",
     "output_type": "stream",
     "text": [
      "\r",
      " 37%|██████████████████████████████████████████████████████▌                                                                                             | 19741/53522 [00:11<00:29, 1154.02it/s]"
     ]
    },
    {
     "name": "stderr",
     "output_type": "stream",
     "text": [
      "\r",
      " 37%|██████████████████████████████████████████████████████▉                                                                                             | 19872/53522 [00:11<00:28, 1194.88it/s]"
     ]
    },
    {
     "name": "stderr",
     "output_type": "stream",
     "text": [
      "\r",
      " 37%|███████████████████████████████████████████████████████▎                                                                                            | 19995/53522 [00:11<00:27, 1203.30it/s]"
     ]
    },
    {
     "name": "stderr",
     "output_type": "stream",
     "text": [
      "\r",
      " 38%|███████████████████████████████████████████████████████▋                                                                                            | 20116/53522 [00:11<00:27, 1204.96it/s]"
     ]
    },
    {
     "name": "stderr",
     "output_type": "stream",
     "text": [
      "\r",
      " 38%|███████████████████████████████████████████████████████▉                                                                                            | 20241/53522 [00:11<00:27, 1217.16it/s]"
     ]
    },
    {
     "name": "stderr",
     "output_type": "stream",
     "text": [
      "\r",
      " 38%|████████████████████████████████████████████████████████▎                                                                                           | 20363/53522 [00:12<00:28, 1164.03it/s]"
     ]
    },
    {
     "name": "stderr",
     "output_type": "stream",
     "text": [
      "\r",
      " 38%|████████████████████████████████████████████████████████▋                                                                                           | 20502/53522 [00:12<00:26, 1226.96it/s]"
     ]
    },
    {
     "name": "stderr",
     "output_type": "stream",
     "text": [
      "\r",
      " 39%|█████████████████████████████████████████████████████████                                                                                           | 20633/53522 [00:12<00:26, 1248.47it/s]"
     ]
    },
    {
     "name": "stderr",
     "output_type": "stream",
     "text": [
      "\r",
      " 39%|█████████████████████████████████████████████████████████▍                                                                                          | 20759/53522 [00:12<00:26, 1234.18it/s]"
     ]
    },
    {
     "name": "stderr",
     "output_type": "stream",
     "text": [
      "\r",
      " 39%|█████████████████████████████████████████████████████████▊                                                                                          | 20887/53522 [00:12<00:26, 1245.60it/s]"
     ]
    },
    {
     "name": "stderr",
     "output_type": "stream",
     "text": [
      "\r",
      " 39%|██████████████████████████████████████████████████████████                                                                                          | 21012/53522 [00:12<00:27, 1178.94it/s]"
     ]
    },
    {
     "name": "stderr",
     "output_type": "stream",
     "text": [
      "\r",
      " 40%|██████████████████████████████████████████████████████████▍                                                                                         | 21146/53522 [00:12<00:26, 1223.96it/s]"
     ]
    },
    {
     "name": "stderr",
     "output_type": "stream",
     "text": [
      "\r",
      " 40%|██████████████████████████████████████████████████████████▉                                                                                         | 21309/53522 [00:12<00:24, 1340.01it/s]"
     ]
    },
    {
     "name": "stderr",
     "output_type": "stream",
     "text": [
      "\r",
      " 40%|███████████████████████████████████████████████████████████▎                                                                                        | 21472/53522 [00:12<00:22, 1424.13it/s]"
     ]
    },
    {
     "name": "stderr",
     "output_type": "stream",
     "text": [
      "\r",
      " 40%|███████████████████████████████████████████████████████████▊                                                                                        | 21625/53522 [00:13<00:21, 1454.34it/s]"
     ]
    },
    {
     "name": "stderr",
     "output_type": "stream",
     "text": [
      "\r",
      " 41%|████████████████████████████████████████████████████████████▏                                                                                       | 21781/53522 [00:13<00:21, 1482.44it/s]"
     ]
    },
    {
     "name": "stderr",
     "output_type": "stream",
     "text": [
      "\r",
      " 41%|████████████████████████████████████████████████████████████▋                                                                                       | 21941/53522 [00:13<00:20, 1511.96it/s]"
     ]
    },
    {
     "name": "stderr",
     "output_type": "stream",
     "text": [
      "\r",
      " 41%|█████████████████████████████████████████████████████████████                                                                                       | 22093/53522 [00:13<00:21, 1471.39it/s]"
     ]
    },
    {
     "name": "stderr",
     "output_type": "stream",
     "text": [
      "\r",
      " 42%|█████████████████████████████████████████████████████████████▌                                                                                      | 22241/53522 [00:13<00:22, 1419.29it/s]"
     ]
    },
    {
     "name": "stderr",
     "output_type": "stream",
     "text": [
      "\r",
      " 42%|█████████████████████████████████████████████████████████████▉                                                                                      | 22384/53522 [00:13<00:22, 1365.19it/s]"
     ]
    },
    {
     "name": "stderr",
     "output_type": "stream",
     "text": [
      "\r",
      " 42%|██████████████████████████████████████████████████████████████▎                                                                                     | 22522/53522 [00:13<00:22, 1351.63it/s]"
     ]
    },
    {
     "name": "stderr",
     "output_type": "stream",
     "text": [
      "\r",
      " 42%|██████████████████████████████████████████████████████████████▋                                                                                     | 22658/53522 [00:13<00:22, 1349.73it/s]"
     ]
    },
    {
     "name": "stderr",
     "output_type": "stream",
     "text": [
      "\r",
      " 43%|███████████████████████████████████████████████████████████████                                                                                     | 22794/53522 [00:13<00:23, 1304.32it/s]"
     ]
    },
    {
     "name": "stderr",
     "output_type": "stream",
     "text": [
      "\r",
      " 43%|███████████████████████████████████████████████████████████████▍                                                                                    | 22933/53522 [00:13<00:23, 1327.74it/s]"
     ]
    },
    {
     "name": "stderr",
     "output_type": "stream",
     "text": [
      "\r",
      " 43%|███████████████████████████████████████████████████████████████▊                                                                                    | 23067/53522 [00:14<00:23, 1302.05it/s]"
     ]
    },
    {
     "name": "stderr",
     "output_type": "stream",
     "text": [
      "\r",
      " 43%|████████████████████████████████████████████████████████████████▏                                                                                   | 23204/53522 [00:14<00:22, 1320.60it/s]"
     ]
    },
    {
     "name": "stderr",
     "output_type": "stream",
     "text": [
      "\r",
      " 44%|████████████████████████████████████████████████████████████████▌                                                                                   | 23337/53522 [00:14<00:22, 1319.72it/s]"
     ]
    },
    {
     "name": "stderr",
     "output_type": "stream",
     "text": [
      "\r",
      " 44%|████████████████████████████████████████████████████████████████▉                                                                                   | 23470/53522 [00:14<00:22, 1307.77it/s]"
     ]
    },
    {
     "name": "stderr",
     "output_type": "stream",
     "text": [
      "\r",
      " 44%|█████████████████████████████████████████████████████████████████▎                                                                                  | 23601/53522 [00:14<00:23, 1291.22it/s]"
     ]
    },
    {
     "name": "stderr",
     "output_type": "stream",
     "text": [
      "\r",
      " 44%|█████████████████████████████████████████████████████████████████▌                                                                                  | 23731/53522 [00:14<00:23, 1253.02it/s]"
     ]
    },
    {
     "name": "stderr",
     "output_type": "stream",
     "text": [
      "\r",
      " 45%|██████████████████████████████████████████████████████████████████                                                                                  | 23873/53522 [00:14<00:22, 1300.02it/s]"
     ]
    },
    {
     "name": "stderr",
     "output_type": "stream",
     "text": [
      "\r",
      " 45%|██████████████████████████████████████████████████████████████████▍                                                                                 | 24020/53522 [00:14<00:21, 1347.40it/s]"
     ]
    },
    {
     "name": "stderr",
     "output_type": "stream",
     "text": [
      "\r",
      " 45%|██████████████████████████████████████████████████████████████████▊                                                                                 | 24156/53522 [00:14<00:21, 1336.55it/s]"
     ]
    },
    {
     "name": "stderr",
     "output_type": "stream",
     "text": [
      "\r",
      " 45%|███████████████████████████████████████████████████████████████████▏                                                                                | 24295/53522 [00:15<00:21, 1349.04it/s]"
     ]
    },
    {
     "name": "stderr",
     "output_type": "stream",
     "text": [
      "\r",
      " 46%|███████████████████████████████████████████████████████████████████▌                                                                                | 24435/53522 [00:15<00:21, 1361.62it/s]"
     ]
    },
    {
     "name": "stderr",
     "output_type": "stream",
     "text": [
      "\r",
      " 46%|███████████████████████████████████████████████████████████████████▉                                                                                | 24572/53522 [00:15<00:22, 1301.99it/s]"
     ]
    },
    {
     "name": "stderr",
     "output_type": "stream",
     "text": [
      "\r",
      " 46%|████████████████████████████████████████████████████████████████████▎                                                                               | 24703/53522 [00:15<00:22, 1259.44it/s]"
     ]
    },
    {
     "name": "stderr",
     "output_type": "stream",
     "text": [
      "\r",
      " 46%|████████████████████████████████████████████████████████████████████▋                                                                               | 24839/53522 [00:15<00:22, 1283.87it/s]"
     ]
    },
    {
     "name": "stderr",
     "output_type": "stream",
     "text": [
      "\r",
      " 47%|█████████████████████████████████████████████████████████████████████                                                                               | 24975/53522 [00:15<00:21, 1304.53it/s]"
     ]
    },
    {
     "name": "stderr",
     "output_type": "stream",
     "text": [
      "\r",
      " 47%|█████████████████████████████████████████████████████████████████████▍                                                                              | 25106/53522 [00:15<00:22, 1271.19it/s]"
     ]
    },
    {
     "name": "stderr",
     "output_type": "stream",
     "text": [
      "\r",
      " 47%|█████████████████████████████████████████████████████████████████████▊                                                                              | 25234/53522 [00:15<00:22, 1237.43it/s]"
     ]
    },
    {
     "name": "stderr",
     "output_type": "stream",
     "text": [
      "\r",
      " 47%|██████████████████████████████████████████████████████████████████████▏                                                                             | 25371/53522 [00:15<00:22, 1274.68it/s]"
     ]
    },
    {
     "name": "stderr",
     "output_type": "stream",
     "text": [
      "\r",
      " 48%|██████████████████████████████████████████████████████████████████████▌                                                                             | 25503/53522 [00:15<00:21, 1282.84it/s]"
     ]
    },
    {
     "name": "stderr",
     "output_type": "stream",
     "text": [
      "\r",
      " 48%|██████████████████████████████████████████████████████████████████████▉                                                                             | 25632/53522 [00:16<00:22, 1245.73it/s]"
     ]
    },
    {
     "name": "stderr",
     "output_type": "stream",
     "text": [
      "\r",
      " 48%|███████████████████████████████████████████████████████████████████████▏                                                                            | 25757/53522 [00:16<00:22, 1245.80it/s]"
     ]
    },
    {
     "name": "stderr",
     "output_type": "stream",
     "text": [
      "\r",
      " 48%|███████████████████████████████████████████████████████████████████████▌                                                                            | 25892/53522 [00:16<00:21, 1273.60it/s]"
     ]
    },
    {
     "name": "stderr",
     "output_type": "stream",
     "text": [
      "\r",
      " 49%|███████████████████████████████████████████████████████████████████████▉                                                                            | 26023/53522 [00:16<00:21, 1281.42it/s]"
     ]
    },
    {
     "name": "stderr",
     "output_type": "stream",
     "text": [
      "\r",
      " 49%|████████████████████████████████████████████████████████████████████████▎                                                                           | 26152/53522 [00:16<00:21, 1283.68it/s]"
     ]
    },
    {
     "name": "stderr",
     "output_type": "stream",
     "text": [
      "\r",
      " 49%|████████████████████████████████████████████████████████████████████████▋                                                                           | 26306/53522 [00:16<00:20, 1357.73it/s]"
     ]
    },
    {
     "name": "stderr",
     "output_type": "stream",
     "text": [
      "\r",
      " 50%|█████████████████████████████████████████████████████████████████████████▎                                                                          | 26521/53522 [00:16<00:16, 1592.91it/s]"
     ]
    },
    {
     "name": "stderr",
     "output_type": "stream",
     "text": [
      "\r",
      " 50%|█████████████████████████████████████████████████████████████████████████▉                                                                          | 26747/53522 [00:16<00:14, 1789.67it/s]"
     ]
    },
    {
     "name": "stderr",
     "output_type": "stream",
     "text": [
      "\r",
      " 50%|██████████████████████████████████████████████████████████████████████████▌                                                                         | 26962/53522 [00:16<00:14, 1891.71it/s]"
     ]
    },
    {
     "name": "stderr",
     "output_type": "stream",
     "text": [
      "\r",
      " 51%|███████████████████████████████████████████████████████████████████████████▏                                                                        | 27186/53522 [00:16<00:13, 1990.52it/s]"
     ]
    },
    {
     "name": "stderr",
     "output_type": "stream",
     "text": [
      "\r",
      " 51%|███████████████████████████████████████████████████████████████████████████▊                                                                        | 27394/53522 [00:17<00:12, 2017.15it/s]"
     ]
    },
    {
     "name": "stderr",
     "output_type": "stream",
     "text": [
      "\r",
      " 52%|████████████████████████████████████████████████████████████████████████████▍                                                                       | 27631/53522 [00:17<00:12, 2117.78it/s]"
     ]
    },
    {
     "name": "stderr",
     "output_type": "stream",
     "text": [
      "\r",
      " 52%|█████████████████████████████████████████████████████████████████████████████                                                                       | 27846/53522 [00:17<00:12, 2127.18it/s]"
     ]
    },
    {
     "name": "stderr",
     "output_type": "stream",
     "text": [
      "\r",
      " 52%|█████████████████████████████████████████████████████████████████████████████▌                                                                      | 28071/53522 [00:17<00:11, 2159.21it/s]"
     ]
    },
    {
     "name": "stderr",
     "output_type": "stream",
     "text": [
      "\r",
      " 53%|██████████████████████████████████████████████████████████████████████████████▎                                                                     | 28308/53522 [00:17<00:11, 2220.95it/s]"
     ]
    },
    {
     "name": "stderr",
     "output_type": "stream",
     "text": [
      "\r",
      " 53%|██████████████████████████████████████████████████████████████████████████████▉                                                                     | 28531/53522 [00:17<00:11, 2174.11it/s]"
     ]
    },
    {
     "name": "stderr",
     "output_type": "stream",
     "text": [
      "\r",
      " 54%|███████████████████████████████████████████████████████████████████████████████▌                                                                    | 28762/53522 [00:17<00:11, 2212.99it/s]"
     ]
    },
    {
     "name": "stderr",
     "output_type": "stream",
     "text": [
      "\r",
      " 54%|████████████████████████████████████████████████████████████████████████████████▏                                                                   | 28988/53522 [00:17<00:11, 2226.57it/s]"
     ]
    },
    {
     "name": "stderr",
     "output_type": "stream",
     "text": [
      "\r",
      " 55%|████████████████████████████████████████████████████████████████████████████████▊                                                                   | 29211/53522 [00:17<00:11, 2172.58it/s]"
     ]
    },
    {
     "name": "stderr",
     "output_type": "stream",
     "text": [
      "\r",
      " 55%|█████████████████████████████████████████████████████████████████████████████████▍                                                                  | 29429/53522 [00:17<00:11, 2116.47it/s]"
     ]
    },
    {
     "name": "stderr",
     "output_type": "stream",
     "text": [
      "\r",
      " 55%|██████████████████████████████████████████████████████████████████████████████████                                                                  | 29667/53522 [00:18<00:10, 2188.88it/s]"
     ]
    },
    {
     "name": "stderr",
     "output_type": "stream",
     "text": [
      "\r",
      " 56%|██████████████████████████████████████████████████████████████████████████████████▋                                                                 | 29887/53522 [00:18<00:10, 2177.37it/s]"
     ]
    },
    {
     "name": "stderr",
     "output_type": "stream",
     "text": [
      "\r",
      " 56%|███████████████████████████████████████████████████████████████████████████████████▎                                                                | 30107/53522 [00:18<00:10, 2183.51it/s]"
     ]
    },
    {
     "name": "stderr",
     "output_type": "stream",
     "text": [
      "\r",
      " 57%|███████████████████████████████████████████████████████████████████████████████████▊                                                                | 30326/53522 [00:18<00:10, 2154.18it/s]"
     ]
    },
    {
     "name": "stderr",
     "output_type": "stream",
     "text": [
      "\r",
      " 57%|████████████████████████████████████████████████████████████████████████████████████▍                                                               | 30550/53522 [00:18<00:10, 2178.89it/s]"
     ]
    },
    {
     "name": "stderr",
     "output_type": "stream",
     "text": [
      "\r",
      " 58%|█████████████████████████████████████████████████████████████████████████████████████                                                               | 30777/53522 [00:18<00:10, 2205.37it/s]"
     ]
    },
    {
     "name": "stderr",
     "output_type": "stream",
     "text": [
      "\r",
      " 58%|█████████████████████████████████████████████████████████████████████████████████████▋                                                              | 31005/53522 [00:18<00:10, 2224.03it/s]"
     ]
    },
    {
     "name": "stderr",
     "output_type": "stream",
     "text": [
      "\r",
      " 58%|██████████████████████████████████████████████████████████████████████████████████████▎                                                             | 31228/53522 [00:18<00:10, 2200.34it/s]"
     ]
    },
    {
     "name": "stderr",
     "output_type": "stream",
     "text": [
      "\r",
      " 59%|██████████████████████████████████████████████████████████████████████████████████████▉                                                             | 31449/53522 [00:18<00:10, 2195.24it/s]"
     ]
    },
    {
     "name": "stderr",
     "output_type": "stream",
     "text": [
      "\r",
      " 59%|███████████████████████████████████████████████████████████████████████████████████████▋                                                            | 31689/53522 [00:19<00:09, 2254.60it/s]"
     ]
    },
    {
     "name": "stderr",
     "output_type": "stream",
     "text": [
      "\r",
      " 60%|████████████████████████████████████████████████████████████████████████████████████████▎                                                           | 31915/53522 [00:19<00:09, 2243.24it/s]"
     ]
    },
    {
     "name": "stderr",
     "output_type": "stream",
     "text": [
      "\r",
      " 60%|████████████████████████████████████████████████████████████████████████████████████████▉                                                           | 32151/53522 [00:19<00:09, 2277.24it/s]"
     ]
    },
    {
     "name": "stderr",
     "output_type": "stream",
     "text": [
      "\r",
      " 60%|█████████████████████████████████████████████████████████████████████████████████████████▌                                                          | 32379/53522 [00:19<00:09, 2274.94it/s]"
     ]
    },
    {
     "name": "stderr",
     "output_type": "stream",
     "text": [
      "\r",
      " 61%|██████████████████████████████████████████████████████████████████████████████████████████▏                                                         | 32607/53522 [00:19<00:09, 2219.66it/s]"
     ]
    },
    {
     "name": "stderr",
     "output_type": "stream",
     "text": [
      "\r",
      " 61%|██████████████████████████████████████████████████████████████████████████████████████████▊                                                         | 32831/53522 [00:19<00:09, 2224.81it/s]"
     ]
    },
    {
     "name": "stderr",
     "output_type": "stream",
     "text": [
      "\r",
      " 62%|███████████████████████████████████████████████████████████████████████████████████████████▍                                                        | 33064/53522 [00:19<00:09, 2250.34it/s]"
     ]
    },
    {
     "name": "stderr",
     "output_type": "stream",
     "text": [
      "\r",
      " 62%|████████████████████████████████████████████████████████████████████████████████████████████                                                        | 33290/53522 [00:19<00:09, 2230.49it/s]"
     ]
    },
    {
     "name": "stderr",
     "output_type": "stream",
     "text": [
      "\r",
      " 63%|████████████████████████████████████████████████████████████████████████████████████████████▋                                                       | 33514/53522 [00:19<00:09, 2195.12it/s]"
     ]
    },
    {
     "name": "stderr",
     "output_type": "stream",
     "text": [
      "\r",
      " 63%|█████████████████████████████████████████████████████████████████████████████████████████████▎                                                      | 33738/53522 [00:19<00:08, 2206.74it/s]"
     ]
    },
    {
     "name": "stderr",
     "output_type": "stream",
     "text": [
      "\r",
      " 63%|█████████████████████████████████████████████████████████████████████████████████████████████▉                                                      | 33964/53522 [00:20<00:08, 2221.26it/s]"
     ]
    },
    {
     "name": "stderr",
     "output_type": "stream",
     "text": [
      "\r",
      " 64%|██████████████████████████████████████████████████████████████████████████████████████████████▌                                                     | 34187/53522 [00:20<00:08, 2221.31it/s]"
     ]
    },
    {
     "name": "stderr",
     "output_type": "stream",
     "text": [
      "\r",
      " 64%|███████████████████████████████████████████████████████████████████████████████████████████████▏                                                    | 34415/53522 [00:20<00:08, 2235.35it/s]"
     ]
    },
    {
     "name": "stderr",
     "output_type": "stream",
     "text": [
      "\r",
      " 65%|███████████████████████████████████████████████████████████████████████████████████████████████▊                                                    | 34639/53522 [00:20<00:08, 2212.97it/s]"
     ]
    },
    {
     "name": "stderr",
     "output_type": "stream",
     "text": [
      "\r",
      " 65%|████████████████████████████████████████████████████████████████████████████████████████████████▍                                                   | 34868/53522 [00:20<00:08, 2234.62it/s]"
     ]
    },
    {
     "name": "stderr",
     "output_type": "stream",
     "text": [
      "\r",
      " 66%|█████████████████████████████████████████████████████████████████████████████████████████████████                                                   | 35092/53522 [00:20<00:08, 2208.51it/s]"
     ]
    },
    {
     "name": "stderr",
     "output_type": "stream",
     "text": [
      "\r",
      " 66%|█████████████████████████████████████████████████████████████████████████████████████████████████▋                                                  | 35316/53522 [00:20<00:08, 2213.36it/s]"
     ]
    },
    {
     "name": "stderr",
     "output_type": "stream",
     "text": [
      "\r",
      " 66%|██████████████████████████████████████████████████████████████████████████████████████████████████▎                                                 | 35538/53522 [00:20<00:08, 2176.32it/s]"
     ]
    },
    {
     "name": "stderr",
     "output_type": "stream",
     "text": [
      "\r",
      " 67%|██████████████████████████████████████████████████████████████████████████████████████████████████▊                                                 | 35756/53522 [00:20<00:08, 2174.87it/s]"
     ]
    },
    {
     "name": "stderr",
     "output_type": "stream",
     "text": [
      "\r",
      " 67%|███████████████████████████████████████████████████████████████████████████████████████████████████▍                                                | 35974/53522 [00:20<00:08, 2160.43it/s]"
     ]
    },
    {
     "name": "stderr",
     "output_type": "stream",
     "text": [
      "\r",
      " 68%|████████████████████████████████████████████████████████████████████████████████████████████████████                                                | 36191/53522 [00:21<00:08, 2123.16it/s]"
     ]
    },
    {
     "name": "stderr",
     "output_type": "stream",
     "text": [
      "\r",
      " 68%|████████████████████████████████████████████████████████████████████████████████████████████████████▋                                               | 36412/53522 [00:21<00:07, 2147.94it/s]"
     ]
    },
    {
     "name": "stderr",
     "output_type": "stream",
     "text": [
      "\r",
      " 68%|█████████████████████████████████████████████████████████████████████████████████████████████████████▎                                              | 36627/53522 [00:21<00:07, 2142.51it/s]"
     ]
    },
    {
     "name": "stderr",
     "output_type": "stream",
     "text": [
      "\r",
      " 69%|█████████████████████████████████████████████████████████████████████████████████████████████████████▉                                              | 36852/53522 [00:21<00:07, 2173.56it/s]"
     ]
    },
    {
     "name": "stderr",
     "output_type": "stream",
     "text": [
      "\r",
      " 69%|██████████████████████████████████████████████████████████████████████████████████████████████████████▌                                             | 37070/53522 [00:21<00:07, 2175.28it/s]"
     ]
    },
    {
     "name": "stderr",
     "output_type": "stream",
     "text": [
      "\r",
      " 70%|███████████████████████████████████████████████████████████████████████████████████████████████████████▏                                            | 37303/53522 [00:21<00:07, 2220.66it/s]"
     ]
    },
    {
     "name": "stderr",
     "output_type": "stream",
     "text": [
      "\r",
      " 70%|███████████████████████████████████████████████████████████████████████████████████████████████████████▊                                            | 37526/53522 [00:21<00:07, 2155.76it/s]"
     ]
    },
    {
     "name": "stderr",
     "output_type": "stream",
     "text": [
      "\r",
      " 71%|████████████████████████████████████████████████████████████████████████████████████████████████████████▎                                           | 37743/53522 [00:21<00:07, 2156.04it/s]"
     ]
    },
    {
     "name": "stderr",
     "output_type": "stream",
     "text": [
      "\r",
      " 71%|████████████████████████████████████████████████████████████████████████████████████████████████████████▉                                           | 37959/53522 [00:21<00:07, 2143.09it/s]"
     ]
    },
    {
     "name": "stderr",
     "output_type": "stream",
     "text": [
      "\r",
      " 71%|█████████████████████████████████████████████████████████████████████████████████████████████████████████▌                                          | 38176/53522 [00:21<00:07, 2147.83it/s]"
     ]
    },
    {
     "name": "stderr",
     "output_type": "stream",
     "text": [
      "\r",
      " 72%|██████████████████████████████████████████████████████████████████████████████████████████████████████████▏                                         | 38394/53522 [00:22<00:07, 2157.17it/s]"
     ]
    },
    {
     "name": "stderr",
     "output_type": "stream",
     "text": [
      "\r",
      " 72%|██████████████████████████████████████████████████████████████████████████████████████████████████████████▊                                         | 38610/53522 [00:22<00:06, 2145.21it/s]"
     ]
    },
    {
     "name": "stderr",
     "output_type": "stream",
     "text": [
      "\r",
      " 73%|███████████████████████████████████████████████████████████████████████████████████████████████████████████▎                                        | 38825/53522 [00:22<00:06, 2125.95it/s]"
     ]
    },
    {
     "name": "stderr",
     "output_type": "stream",
     "text": [
      "\r",
      " 73%|███████████████████████████████████████████████████████████████████████████████████████████████████████████▉                                        | 39038/53522 [00:22<00:06, 2106.44it/s]"
     ]
    },
    {
     "name": "stderr",
     "output_type": "stream",
     "text": [
      "\r",
      " 73%|████████████████████████████████████████████████████████████████████████████████████████████████████████████▌                                       | 39249/53522 [00:22<00:06, 2057.13it/s]"
     ]
    },
    {
     "name": "stderr",
     "output_type": "stream",
     "text": [
      "\r",
      " 74%|█████████████████████████████████████████████████████████████████████████████████████████████████████████████                                       | 39455/53522 [00:22<00:06, 2033.08it/s]"
     ]
    },
    {
     "name": "stderr",
     "output_type": "stream",
     "text": [
      "\r",
      " 74%|█████████████████████████████████████████████████████████████████████████████████████████████████████████████▋                                      | 39659/53522 [00:22<00:06, 2025.02it/s]"
     ]
    },
    {
     "name": "stderr",
     "output_type": "stream",
     "text": [
      "\r",
      " 74%|██████████████████████████████████████████████████████████████████████████████████████████████████████████████▏                                     | 39862/53522 [00:22<00:06, 1962.41it/s]"
     ]
    },
    {
     "name": "stderr",
     "output_type": "stream",
     "text": [
      "\r",
      " 75%|██████████████████████████████████████████████████████████████████████████████████████████████████████████████▊                                     | 40083/53522 [00:22<00:06, 2029.82it/s]"
     ]
    },
    {
     "name": "stderr",
     "output_type": "stream",
     "text": [
      "\r",
      " 75%|███████████████████████████████████████████████████████████████████████████████████████████████████████████████▍                                    | 40287/53522 [00:23<00:06, 1984.47it/s]"
     ]
    },
    {
     "name": "stderr",
     "output_type": "stream",
     "text": [
      "\r",
      " 76%|███████████████████████████████████████████████████████████████████████████████████████████████████████████████▉                                    | 40494/53522 [00:23<00:06, 2007.70it/s]"
     ]
    },
    {
     "name": "stderr",
     "output_type": "stream",
     "text": [
      "\r",
      " 76%|████████████████████████████████████████████████████████████████████████████████████████████████████████████████▌                                   | 40704/53522 [00:23<00:06, 2032.92it/s]"
     ]
    },
    {
     "name": "stderr",
     "output_type": "stream",
     "text": [
      "\r",
      " 76%|█████████████████████████████████████████████████████████████████████████████████████████████████████████████████                                   | 40908/53522 [00:23<00:06, 1999.97it/s]"
     ]
    },
    {
     "name": "stderr",
     "output_type": "stream",
     "text": [
      "\r",
      " 77%|█████████████████████████████████████████████████████████████████████████████████████████████████████████████████▋                                  | 41112/53522 [00:23<00:06, 2009.12it/s]"
     ]
    },
    {
     "name": "stderr",
     "output_type": "stream",
     "text": [
      "\r",
      " 77%|██████████████████████████████████████████████████████████████████████████████████████████████████████████████████▎                                 | 41320/53522 [00:23<00:06, 2028.56it/s]"
     ]
    },
    {
     "name": "stderr",
     "output_type": "stream",
     "text": [
      "\r",
      " 78%|██████████████████████████████████████████████████████████████████████████████████████████████████████████████████▊                                 | 41524/53522 [00:23<00:05, 2025.28it/s]"
     ]
    },
    {
     "name": "stderr",
     "output_type": "stream",
     "text": [
      "\r",
      " 78%|███████████████████████████████████████████████████████████████████████████████████████████████████████████████████▍                                | 41727/53522 [00:23<00:05, 2024.49it/s]"
     ]
    },
    {
     "name": "stderr",
     "output_type": "stream",
     "text": [
      "\r",
      " 78%|███████████████████████████████████████████████████████████████████████████████████████████████████████████████████▉                                | 41930/53522 [00:23<00:05, 1995.61it/s]"
     ]
    },
    {
     "name": "stderr",
     "output_type": "stream",
     "text": [
      "\r",
      " 79%|████████████████████████████████████████████████████████████████████████████████████████████████████████████████████▌                               | 42135/53522 [00:23<00:05, 2010.73it/s]"
     ]
    },
    {
     "name": "stderr",
     "output_type": "stream",
     "text": [
      "\r",
      " 79%|█████████████████████████████████████████████████████████████████████████████████████████████████████████████████████                               | 42337/53522 [00:24<00:05, 1943.72it/s]"
     ]
    },
    {
     "name": "stderr",
     "output_type": "stream",
     "text": [
      "\r",
      " 79%|█████████████████████████████████████████████████████████████████████████████████████████████████████████████████████▋                              | 42540/53522 [00:24<00:05, 1967.50it/s]"
     ]
    },
    {
     "name": "stderr",
     "output_type": "stream",
     "text": [
      "\r",
      " 80%|██████████████████████████████████████████████████████████████████████████████████████████████████████████████████████▏                             | 42756/53522 [00:24<00:05, 2022.54it/s]"
     ]
    },
    {
     "name": "stderr",
     "output_type": "stream",
     "text": [
      "\r",
      " 80%|██████████████████████████████████████████████████████████████████████████████████████████████████████████████████████▊                             | 42962/53522 [00:24<00:05, 2032.63it/s]"
     ]
    },
    {
     "name": "stderr",
     "output_type": "stream",
     "text": [
      "\r",
      " 81%|███████████████████████████████████████████████████████████████████████████████████████████████████████████████████████▍                            | 43186/53522 [00:24<00:04, 2093.77it/s]"
     ]
    },
    {
     "name": "stderr",
     "output_type": "stream",
     "text": [
      "\r",
      " 81%|███████████████████████████████████████████████████████████████████████████████████████████████████████████████████████▉                            | 43396/53522 [00:24<00:04, 2078.11it/s]"
     ]
    },
    {
     "name": "stderr",
     "output_type": "stream",
     "text": [
      "\r",
      " 81%|████████████████████████████████████████████████████████████████████████████████████████████████████████████████████████▌                           | 43605/53522 [00:24<00:04, 2065.40it/s]"
     ]
    },
    {
     "name": "stderr",
     "output_type": "stream",
     "text": [
      "\r",
      " 82%|█████████████████████████████████████████████████████████████████████████████████████████████████████████████████████████▏                          | 43812/53522 [00:24<00:04, 2005.14it/s]"
     ]
    },
    {
     "name": "stderr",
     "output_type": "stream",
     "text": [
      "\r",
      " 82%|█████████████████████████████████████████████████████████████████████████████████████████████████████████████████████████▋                          | 44016/53522 [00:24<00:04, 2014.56it/s]"
     ]
    },
    {
     "name": "stderr",
     "output_type": "stream",
     "text": [
      "\r",
      " 83%|██████████████████████████████████████████████████████████████████████████████████████████████████████████████████████████▎                         | 44229/53522 [00:24<00:04, 2047.93it/s]"
     ]
    },
    {
     "name": "stderr",
     "output_type": "stream",
     "text": [
      "\r",
      " 83%|██████████████████████████████████████████████████████████████████████████████████████████████████████████████████████████▊                         | 44435/53522 [00:25<00:05, 1736.94it/s]"
     ]
    },
    {
     "name": "stderr",
     "output_type": "stream",
     "text": [
      "\r",
      " 83%|███████████████████████████████████████████████████████████████████████████████████████████████████████████████████████████▍                        | 44617/53522 [00:25<00:05, 1574.80it/s]"
     ]
    },
    {
     "name": "stderr",
     "output_type": "stream",
     "text": [
      "\r",
      " 84%|███████████████████████████████████████████████████████████████████████████████████████████████████████████████████████████▊                        | 44783/53522 [00:25<00:05, 1471.05it/s]"
     ]
    },
    {
     "name": "stderr",
     "output_type": "stream",
     "text": [
      "\r",
      " 84%|████████████████████████████████████████████████████████████████████████████████████████████████████████████████████████████▎                       | 44936/53522 [00:25<00:06, 1416.87it/s]"
     ]
    },
    {
     "name": "stderr",
     "output_type": "stream",
     "text": [
      "\r",
      " 84%|████████████████████████████████████████████████████████████████████████████████████████████████████████████████████████████▋                       | 45082/53522 [00:25<00:06, 1325.34it/s]"
     ]
    },
    {
     "name": "stderr",
     "output_type": "stream",
     "text": [
      "\r",
      " 84%|█████████████████████████████████████████████████████████████████████████████████████████████████████████████████████████████                       | 45218/53522 [00:25<00:06, 1302.26it/s]"
     ]
    },
    {
     "name": "stderr",
     "output_type": "stream",
     "text": [
      "\r",
      " 85%|█████████████████████████████████████████████████████████████████████████████████████████████████████████████████████████████▍                      | 45350/53522 [00:25<00:06, 1290.70it/s]"
     ]
    },
    {
     "name": "stderr",
     "output_type": "stream",
     "text": [
      "\r",
      " 85%|█████████████████████████████████████████████████████████████████████████████████████████████████████████████████████████████▊                      | 45481/53522 [00:25<00:06, 1267.62it/s]"
     ]
    },
    {
     "name": "stderr",
     "output_type": "stream",
     "text": [
      "\r",
      " 85%|██████████████████████████████████████████████████████████████████████████████████████████████████████████████████████████████                      | 45609/53522 [00:26<00:06, 1242.72it/s]"
     ]
    },
    {
     "name": "stderr",
     "output_type": "stream",
     "text": [
      "\r",
      " 85%|██████████████████████████████████████████████████████████████████████████████████████████████████████████████████████████████▍                     | 45734/53522 [00:26<00:06, 1210.52it/s]"
     ]
    },
    {
     "name": "stderr",
     "output_type": "stream",
     "text": [
      "\r",
      " 86%|██████████████████████████████████████████████████████████████████████████████████████████████████████████████████████████████▊                     | 45856/53522 [00:26<00:06, 1204.47it/s]"
     ]
    },
    {
     "name": "stderr",
     "output_type": "stream",
     "text": [
      "\r",
      " 86%|███████████████████████████████████████████████████████████████████████████████████████████████████████████████████████████████▏                    | 45977/53522 [00:26<00:06, 1198.69it/s]"
     ]
    },
    {
     "name": "stderr",
     "output_type": "stream",
     "text": [
      "\r",
      " 86%|███████████████████████████████████████████████████████████████████████████████████████████████████████████████████████████████▌                    | 46112/53522 [00:26<00:05, 1240.69it/s]"
     ]
    },
    {
     "name": "stderr",
     "output_type": "stream",
     "text": [
      "\r",
      " 86%|███████████████████████████████████████████████████████████████████████████████████████████████████████████████████████████████▊                    | 46237/53522 [00:26<00:05, 1239.48it/s]"
     ]
    },
    {
     "name": "stderr",
     "output_type": "stream",
     "text": [
      "\r",
      " 87%|████████████████████████████████████████████████████████████████████████████████████████████████████████████████████████████████▏                   | 46362/53522 [00:26<00:05, 1225.98it/s]"
     ]
    },
    {
     "name": "stderr",
     "output_type": "stream",
     "text": [
      "\r",
      " 87%|████████████████████████████████████████████████████████████████████████████████████████████████████████████████████████████████▌                   | 46497/53522 [00:26<00:05, 1260.60it/s]"
     ]
    },
    {
     "name": "stderr",
     "output_type": "stream",
     "text": [
      "\r",
      " 87%|████████████████████████████████████████████████████████████████████████████████████████████████████████████████████████████████▉                   | 46630/53522 [00:26<00:05, 1279.27it/s]"
     ]
    },
    {
     "name": "stderr",
     "output_type": "stream",
     "text": [
      "\r",
      " 87%|█████████████████████████████████████████████████████████████████████████████████████████████████████████████████████████████████▎                  | 46773/53522 [00:27<00:05, 1322.17it/s]"
     ]
    },
    {
     "name": "stderr",
     "output_type": "stream",
     "text": [
      "\r",
      " 88%|█████████████████████████████████████████████████████████████████████████████████████████████████████████████████████████████████▋                  | 46906/53522 [00:27<00:05, 1291.84it/s]"
     ]
    },
    {
     "name": "stderr",
     "output_type": "stream",
     "text": [
      "\r",
      " 88%|██████████████████████████████████████████████████████████████████████████████████████████████████████████████████████████████████                  | 47036/53522 [00:27<00:05, 1272.02it/s]"
     ]
    },
    {
     "name": "stderr",
     "output_type": "stream",
     "text": [
      "\r",
      " 88%|██████████████████████████████████████████████████████████████████████████████████████████████████████████████████████████████████▍                 | 47184/53522 [00:27<00:04, 1331.96it/s]"
     ]
    },
    {
     "name": "stderr",
     "output_type": "stream",
     "text": [
      "\r",
      " 88%|██████████████████████████████████████████████████████████████████████████████████████████████████████████████████████████████████▉                 | 47338/53522 [00:27<00:04, 1392.14it/s]"
     ]
    },
    {
     "name": "stderr",
     "output_type": "stream",
     "text": [
      "\r",
      " 89%|███████████████████████████████████████████████████████████████████████████████████████████████████████████████████████████████████▎                | 47478/53522 [00:27<00:04, 1393.94it/s]"
     ]
    },
    {
     "name": "stderr",
     "output_type": "stream",
     "text": [
      "\r",
      " 89%|███████████████████████████████████████████████████████████████████████████████████████████████████████████████████████████████████▊                | 47652/53522 [00:27<00:03, 1494.72it/s]"
     ]
    },
    {
     "name": "stderr",
     "output_type": "stream",
     "text": [
      "\r",
      " 89%|████████████████████████████████████████████████████████████████████████████████████████████████████████████████████████████████████▏               | 47812/53522 [00:27<00:03, 1525.90it/s]"
     ]
    },
    {
     "name": "stderr",
     "output_type": "stream",
     "text": [
      "\r",
      " 90%|████████████████████████████████████████████████████████████████████████████████████████████████████████████████████████████████████▋               | 47970/53522 [00:27<00:03, 1541.48it/s]"
     ]
    },
    {
     "name": "stderr",
     "output_type": "stream",
     "text": [
      "\r",
      " 90%|█████████████████████████████████████████████████████████████████████████████████████████████████████████████████████████████████████               | 48137/53522 [00:27<00:03, 1575.94it/s]"
     ]
    },
    {
     "name": "stderr",
     "output_type": "stream",
     "text": [
      "\r",
      " 90%|█████████████████████████████████████████████████████████████████████████████████████████████████████████████████████████████████████▌              | 48295/53522 [00:28<00:03, 1559.59it/s]"
     ]
    },
    {
     "name": "stderr",
     "output_type": "stream",
     "text": [
      "\r",
      " 91%|█████████████████████████████████████████████████████████████████████████████████████████████████████████████████████████████████████▉              | 48452/53522 [00:28<00:03, 1528.10it/s]"
     ]
    },
    {
     "name": "stderr",
     "output_type": "stream",
     "text": [
      "\r",
      " 91%|██████████████████████████████████████████████████████████████████████████████████████████████████████████████████████████████████████▍             | 48606/53522 [00:28<00:03, 1531.31it/s]"
     ]
    },
    {
     "name": "stderr",
     "output_type": "stream",
     "text": [
      "\r",
      " 91%|██████████████████████████████████████████████████████████████████████████████████████████████████████████████████████████████████████▊             | 48773/53522 [00:28<00:03, 1567.74it/s]"
     ]
    },
    {
     "name": "stderr",
     "output_type": "stream",
     "text": [
      "\r",
      " 91%|███████████████████████████████████████████████████████████████████████████████████████████████████████████████████████████████████████▎            | 48932/53522 [00:28<00:02, 1573.73it/s]"
     ]
    },
    {
     "name": "stderr",
     "output_type": "stream",
     "text": [
      "\r",
      " 92%|███████████████████████████████████████████████████████████████████████████████████████████████████████████████████████████████████████▋            | 49090/53522 [00:28<00:02, 1571.99it/s]"
     ]
    },
    {
     "name": "stderr",
     "output_type": "stream",
     "text": [
      "\r",
      " 92%|████████████████████████████████████████████████████████████████████████████████████████████████████████████████████████████████████████▏           | 49249/53522 [00:28<00:02, 1571.70it/s]"
     ]
    },
    {
     "name": "stderr",
     "output_type": "stream",
     "text": [
      "\r",
      " 92%|████████████████████████████████████████████████████████████████████████████████████████████████████████████████████████████████████████▌           | 49407/53522 [00:28<00:02, 1548.34it/s]"
     ]
    },
    {
     "name": "stderr",
     "output_type": "stream",
     "text": [
      "\r",
      " 93%|█████████████████████████████████████████████████████████████████████████████████████████████████████████████████████████████████████████           | 49562/53522 [00:28<00:02, 1519.09it/s]"
     ]
    },
    {
     "name": "stderr",
     "output_type": "stream",
     "text": [
      "\r",
      " 93%|█████████████████████████████████████████████████████████████████████████████████████████████████████████████████████████████████████████▍          | 49717/53522 [00:28<00:02, 1527.41it/s]"
     ]
    },
    {
     "name": "stderr",
     "output_type": "stream",
     "text": [
      "\r",
      " 93%|█████████████████████████████████████████████████████████████████████████████████████████████████████████████████████████████████████████▉          | 49872/53522 [00:29<00:02, 1532.99it/s]"
     ]
    },
    {
     "name": "stderr",
     "output_type": "stream",
     "text": [
      "\r",
      " 93%|██████████████████████████████████████████████████████████████████████████████████████████████████████████████████████████████████████████▎         | 50039/53522 [00:29<00:02, 1566.48it/s]"
     ]
    },
    {
     "name": "stderr",
     "output_type": "stream",
     "text": [
      "\r",
      " 94%|██████████████████████████████████████████████████████████████████████████████████████████████████████████████████████████████████████████▊         | 50196/53522 [00:29<00:02, 1461.00it/s]"
     ]
    },
    {
     "name": "stderr",
     "output_type": "stream",
     "text": [
      "\r",
      " 94%|███████████████████████████████████████████████████████████████████████████████████████████████████████████████████████████████████████████▏        | 50355/53522 [00:29<00:02, 1497.11it/s]"
     ]
    },
    {
     "name": "stderr",
     "output_type": "stream",
     "text": [
      "\r",
      " 94%|███████████████████████████████████████████████████████████████████████████████████████████████████████████████████████████████████████████▋        | 50508/53522 [00:29<00:02, 1506.00it/s]"
     ]
    },
    {
     "name": "stderr",
     "output_type": "stream",
     "text": [
      "\r",
      " 95%|████████████████████████████████████████████████████████████████████████████████████████████████████████████████████████████████████████████        | 50660/53522 [00:29<00:01, 1487.98it/s]"
     ]
    },
    {
     "name": "stderr",
     "output_type": "stream",
     "text": [
      "\r",
      " 95%|████████████████████████████████████████████████████████████████████████████████████████████████████████████████████████████████████████████▌       | 50821/53522 [00:29<00:01, 1522.12it/s]"
     ]
    },
    {
     "name": "stderr",
     "output_type": "stream",
     "text": [
      "\r",
      " 95%|████████████████████████████████████████████████████████████████████████████████████████████████████████████████████████████████████████████▉       | 50981/53522 [00:29<00:01, 1542.30it/s]"
     ]
    },
    {
     "name": "stderr",
     "output_type": "stream",
     "text": [
      "\r",
      " 96%|█████████████████████████████████████████████████████████████████████████████████████████████████████████████████████████████████████████████▍      | 51146/53522 [00:29<00:01, 1571.68it/s]"
     ]
    },
    {
     "name": "stderr",
     "output_type": "stream",
     "text": [
      "\r",
      " 96%|█████████████████████████████████████████████████████████████████████████████████████████████████████████████████████████████████████████████▊      | 51305/53522 [00:29<00:01, 1576.95it/s]"
     ]
    },
    {
     "name": "stderr",
     "output_type": "stream",
     "text": [
      "\r",
      " 96%|██████████████████████████████████████████████████████████████████████████████████████████████████████████████████████████████████████████████▎     | 51483/53522 [00:30<00:01, 1637.10it/s]"
     ]
    },
    {
     "name": "stderr",
     "output_type": "stream",
     "text": [
      "\r",
      " 96%|██████████████████████████████████████████████████████████████████████████████████████████████████████████████████████████████████████████████▊     | 51647/53522 [00:30<00:01, 1623.79it/s]"
     ]
    },
    {
     "name": "stderr",
     "output_type": "stream",
     "text": [
      "\r",
      " 97%|███████████████████████████████████████████████████████████████████████████████████████████████████████████████████████████████████████████████▎    | 51821/53522 [00:30<00:01, 1654.43it/s]"
     ]
    },
    {
     "name": "stderr",
     "output_type": "stream",
     "text": [
      "\r",
      " 97%|███████████████████████████████████████████████████████████████████████████████████████████████████████████████████████████████████████████████▊    | 52000/53522 [00:30<00:00, 1691.52it/s]"
     ]
    },
    {
     "name": "stderr",
     "output_type": "stream",
     "text": [
      "\r",
      " 97%|████████████████████████████████████████████████████████████████████████████████████████████████████████████████████████████████████████████████▎   | 52170/53522 [00:30<00:00, 1658.55it/s]"
     ]
    },
    {
     "name": "stderr",
     "output_type": "stream",
     "text": [
      "\r",
      " 98%|████████████████████████████████████████████████████████████████████████████████████████████████████████████████████████████████████████████████▋   | 52339/53522 [00:30<00:00, 1666.99it/s]"
     ]
    },
    {
     "name": "stderr",
     "output_type": "stream",
     "text": [
      "\r",
      " 98%|█████████████████████████████████████████████████████████████████████████████████████████████████████████████████████████████████████████████████▍  | 52609/53522 [00:30<00:00, 1970.66it/s]"
     ]
    },
    {
     "name": "stderr",
     "output_type": "stream",
     "text": [
      "\r",
      " 99%|██████████████████████████████████████████████████████████████████████████████████████████████████████████████████████████████████████████████████▏ | 52883/53522 [00:30<00:00, 2198.46it/s]"
     ]
    },
    {
     "name": "stderr",
     "output_type": "stream",
     "text": [
      "\r",
      " 99%|███████████████████████████████████████████████████████████████████████████████████████████████████████████████████████████████████████████████████ | 53175/53522 [00:30<00:00, 2409.32it/s]"
     ]
    },
    {
     "name": "stderr",
     "output_type": "stream",
     "text": [
      "\r",
      "100%|███████████████████████████████████████████████████████████████████████████████████████████████████████████████████████████████████████████████████▊| 53447/53522 [00:30<00:00, 2501.86it/s]"
     ]
    },
    {
     "name": "stderr",
     "output_type": "stream",
     "text": [
      "\r",
      "100%|████████████████████████████████████████████████████████████████████████████████████████████████████████████████████████████████████████████████████| 53522/53522 [00:31<00:00, 1725.52it/s]"
     ]
    },
    {
     "name": "stderr",
     "output_type": "stream",
     "text": [
      "\n"
     ]
    }
   ],
   "source": [
    "# Build vectors for sentences, use for training a model\n",
    "def generate_dense_features(tokenized_texts, model):\n",
    "    result = []\n",
    "    for tokens in tqdm(tokenized_texts):\n",
    "        filtered_tokens = [t for t in tokens if t in model.wv.index_to_key] \n",
    "        if len(filtered_tokens) > 0:\n",
    "            vec = np.mean(model.wv[filtered_tokens], axis=0) \n",
    "        else:\n",
    "            vec = np.zeros(model.wv.vector_size)\n",
    "        result.append(vec)\n",
    "    return np.array(result)\n",
    "\n",
    "X_train = generate_dense_features(tokens, quick_model)"
   ]
  },
  {
   "cell_type": "code",
   "execution_count": 61,
   "id": "96d4ae77",
   "metadata": {
    "execution": {
     "iopub.execute_input": "2022-07-05T06:08:42.155162Z",
     "iopub.status.busy": "2022-07-05T06:08:42.154842Z",
     "iopub.status.idle": "2022-07-05T06:08:42.162333Z",
     "shell.execute_reply": "2022-07-05T06:08:42.161686Z"
    },
    "papermill": {
     "duration": 0.056235,
     "end_time": "2022-07-05T06:08:42.164504",
     "exception": false,
     "start_time": "2022-07-05T06:08:42.108269",
     "status": "completed"
    },
    "tags": []
   },
   "outputs": [],
   "source": [
    "y_train = list(df_disaster_train['class_label'])"
   ]
  },
  {
   "cell_type": "code",
   "execution_count": 62,
   "id": "ba0b543a",
   "metadata": {
    "execution": {
     "iopub.execute_input": "2022-07-05T06:08:42.257386Z",
     "iopub.status.busy": "2022-07-05T06:08:42.257055Z",
     "iopub.status.idle": "2022-07-05T06:08:56.236430Z",
     "shell.execute_reply": "2022-07-05T06:08:56.235329Z"
    },
    "papermill": {
     "duration": 14.029669,
     "end_time": "2022-07-05T06:08:56.239789",
     "exception": false,
     "start_time": "2022-07-05T06:08:42.210120",
     "status": "completed"
    },
    "tags": []
   },
   "outputs": [
    {
     "data": {
      "text/html": [
       "<style>#sk-container-id-6 {color: black;background-color: white;}#sk-container-id-6 pre{padding: 0;}#sk-container-id-6 div.sk-toggleable {background-color: white;}#sk-container-id-6 label.sk-toggleable__label {cursor: pointer;display: block;width: 100%;margin-bottom: 0;padding: 0.3em;box-sizing: border-box;text-align: center;}#sk-container-id-6 label.sk-toggleable__label-arrow:before {content: \"▸\";float: left;margin-right: 0.25em;color: #696969;}#sk-container-id-6 label.sk-toggleable__label-arrow:hover:before {color: black;}#sk-container-id-6 div.sk-estimator:hover label.sk-toggleable__label-arrow:before {color: black;}#sk-container-id-6 div.sk-toggleable__content {max-height: 0;max-width: 0;overflow: hidden;text-align: left;background-color: #f0f8ff;}#sk-container-id-6 div.sk-toggleable__content pre {margin: 0.2em;color: black;border-radius: 0.25em;background-color: #f0f8ff;}#sk-container-id-6 input.sk-toggleable__control:checked~div.sk-toggleable__content {max-height: 200px;max-width: 100%;overflow: auto;}#sk-container-id-6 input.sk-toggleable__control:checked~label.sk-toggleable__label-arrow:before {content: \"▾\";}#sk-container-id-6 div.sk-estimator input.sk-toggleable__control:checked~label.sk-toggleable__label {background-color: #d4ebff;}#sk-container-id-6 div.sk-label input.sk-toggleable__control:checked~label.sk-toggleable__label {background-color: #d4ebff;}#sk-container-id-6 input.sk-hidden--visually {border: 0;clip: rect(1px 1px 1px 1px);clip: rect(1px, 1px, 1px, 1px);height: 1px;margin: -1px;overflow: hidden;padding: 0;position: absolute;width: 1px;}#sk-container-id-6 div.sk-estimator {font-family: monospace;background-color: #f0f8ff;border: 1px dotted black;border-radius: 0.25em;box-sizing: border-box;margin-bottom: 0.5em;}#sk-container-id-6 div.sk-estimator:hover {background-color: #d4ebff;}#sk-container-id-6 div.sk-parallel-item::after {content: \"\";width: 100%;border-bottom: 1px solid gray;flex-grow: 1;}#sk-container-id-6 div.sk-label:hover label.sk-toggleable__label {background-color: #d4ebff;}#sk-container-id-6 div.sk-serial::before {content: \"\";position: absolute;border-left: 1px solid gray;box-sizing: border-box;top: 0;bottom: 0;left: 50%;z-index: 0;}#sk-container-id-6 div.sk-serial {display: flex;flex-direction: column;align-items: center;background-color: white;padding-right: 0.2em;padding-left: 0.2em;position: relative;}#sk-container-id-6 div.sk-item {position: relative;z-index: 1;}#sk-container-id-6 div.sk-parallel {display: flex;align-items: stretch;justify-content: center;background-color: white;position: relative;}#sk-container-id-6 div.sk-item::before, #sk-container-id-6 div.sk-parallel-item::before {content: \"\";position: absolute;border-left: 1px solid gray;box-sizing: border-box;top: 0;bottom: 0;left: 50%;z-index: -1;}#sk-container-id-6 div.sk-parallel-item {display: flex;flex-direction: column;z-index: 1;position: relative;background-color: white;}#sk-container-id-6 div.sk-parallel-item:first-child::after {align-self: flex-end;width: 50%;}#sk-container-id-6 div.sk-parallel-item:last-child::after {align-self: flex-start;width: 50%;}#sk-container-id-6 div.sk-parallel-item:only-child::after {width: 0;}#sk-container-id-6 div.sk-dashed-wrapped {border: 1px dashed gray;margin: 0 0.4em 0.5em 0.4em;box-sizing: border-box;padding-bottom: 0.4em;background-color: white;}#sk-container-id-6 div.sk-label label {font-family: monospace;font-weight: bold;display: inline-block;line-height: 1.2em;}#sk-container-id-6 div.sk-label-container {text-align: center;}#sk-container-id-6 div.sk-container {/* jupyter's `normalize.less` sets `[hidden] { display: none; }` but bootstrap.min.css set `[hidden] { display: none !important; }` so we also need the `!important` here to be able to override the default hidden behavior on the sphinx rendered scikit-learn.org. See: https://github.com/scikit-learn/scikit-learn/issues/21755 */display: inline-block !important;position: relative;}#sk-container-id-6 div.sk-text-repr-fallback {display: none;}</style><div id=\"sk-container-id-6\" class=\"sk-top-container\"><div class=\"sk-text-repr-fallback\"><pre>LogisticRegression(max_iter=1000)</pre><b>In a Jupyter environment, please rerun this cell to show the HTML representation or trust the notebook. <br />On GitHub, the HTML representation is unable to render, please try loading this page with nbviewer.org.</b></div><div class=\"sk-container\" hidden><div class=\"sk-item\"><div class=\"sk-estimator sk-toggleable\"><input class=\"sk-toggleable__control sk-hidden--visually\" id=\"sk-estimator-id-6\" type=\"checkbox\" checked><label for=\"sk-estimator-id-6\" class=\"sk-toggleable__label sk-toggleable__label-arrow\">LogisticRegression</label><div class=\"sk-toggleable__content\"><pre>LogisticRegression(max_iter=1000)</pre></div></div></div></div></div>"
      ],
      "text/plain": [
       "LogisticRegression(max_iter=1000)"
      ]
     },
     "execution_count": 62,
     "metadata": {},
     "output_type": "execute_result"
    }
   ],
   "source": [
    "# Prepate the logistic regression classifier\n",
    "clf = LogisticRegression(solver='lbfgs', multi_class='auto', random_state=random_seed, max_iter=1000)\n",
    "clf.fit(X_train, y_train)"
   ]
  },
  {
   "cell_type": "code",
   "execution_count": 63,
   "id": "77c4137c",
   "metadata": {
    "execution": {
     "iopub.execute_input": "2022-07-05T06:08:56.378426Z",
     "iopub.status.busy": "2022-07-05T06:08:56.377605Z",
     "iopub.status.idle": "2022-07-05T06:08:56.686556Z",
     "shell.execute_reply": "2022-07-05T06:08:56.685378Z"
    },
    "papermill": {
     "duration": 0.382242,
     "end_time": "2022-07-05T06:08:56.689576",
     "exception": false,
     "start_time": "2022-07-05T06:08:56.307334",
     "status": "completed"
    },
    "tags": []
   },
   "outputs": [
    {
     "data": {
      "text/plain": [
       "[['earthquake',\n",
       "  'new',\n",
       "  'zealand',\n",
       "  'massive',\n",
       "  'billions',\n",
       "  'dollars',\n",
       "  'damage',\n",
       "  'followed',\n",
       "  'storm'],\n",
       " ['pictures', 'alarming', 'extent', 'quake', 'damage', 'building', 'clear']]"
      ]
     },
     "execution_count": 63,
     "metadata": {},
     "output_type": "execute_result"
    }
   ],
   "source": [
    "# Validate\n",
    "tokens_test = [analyzer(s) for s in list(df_disaster_test['tweet_text'])]\n",
    "tokens_test[:2]"
   ]
  },
  {
   "cell_type": "code",
   "execution_count": 64,
   "id": "c64e76bb",
   "metadata": {
    "execution": {
     "iopub.execute_input": "2022-07-05T06:08:56.826989Z",
     "iopub.status.busy": "2022-07-05T06:08:56.826214Z",
     "iopub.status.idle": "2022-07-05T06:09:10.063685Z",
     "shell.execute_reply": "2022-07-05T06:09:10.062732Z"
    },
    "papermill": {
     "duration": 13.30893,
     "end_time": "2022-07-05T06:09:10.066432",
     "exception": false,
     "start_time": "2022-07-05T06:08:56.757502",
     "status": "completed"
    },
    "tags": []
   },
   "outputs": [
    {
     "name": "stderr",
     "output_type": "stream",
     "text": [
      "\r",
      "  0%|                                                                                                                                                                  | 0/15160 [00:00<?, ?it/s]"
     ]
    },
    {
     "name": "stderr",
     "output_type": "stream",
     "text": [
      "\r",
      "  1%|█▍                                                                                                                                                    | 150/15160 [00:00<00:10, 1496.04it/s]"
     ]
    },
    {
     "name": "stderr",
     "output_type": "stream",
     "text": [
      "\r",
      "  2%|███                                                                                                                                                   | 311/15160 [00:00<00:09, 1559.87it/s]"
     ]
    },
    {
     "name": "stderr",
     "output_type": "stream",
     "text": [
      "\r",
      "  3%|████▋                                                                                                                                                 | 472/15160 [00:00<00:09, 1581.14it/s]"
     ]
    },
    {
     "name": "stderr",
     "output_type": "stream",
     "text": [
      "\r",
      "  4%|██████▏                                                                                                                                               | 631/15160 [00:00<00:09, 1510.16it/s]"
     ]
    },
    {
     "name": "stderr",
     "output_type": "stream",
     "text": [
      "\r",
      "  5%|███████▊                                                                                                                                              | 789/15160 [00:00<00:09, 1532.67it/s]"
     ]
    },
    {
     "name": "stderr",
     "output_type": "stream",
     "text": [
      "\r",
      "  6%|█████████▎                                                                                                                                            | 943/15160 [00:00<00:09, 1513.64it/s]"
     ]
    },
    {
     "name": "stderr",
     "output_type": "stream",
     "text": [
      "\r",
      "  7%|██████████▉                                                                                                                                          | 1113/15160 [00:00<00:08, 1569.13it/s]"
     ]
    },
    {
     "name": "stderr",
     "output_type": "stream",
     "text": [
      "\r",
      "  8%|████████████▍                                                                                                                                        | 1271/15160 [00:00<00:08, 1565.26it/s]"
     ]
    },
    {
     "name": "stderr",
     "output_type": "stream",
     "text": [
      "\r",
      "  9%|██████████████                                                                                                                                       | 1428/15160 [00:00<00:09, 1488.81it/s]"
     ]
    },
    {
     "name": "stderr",
     "output_type": "stream",
     "text": [
      "\r",
      " 10%|███████████████▌                                                                                                                                     | 1578/15160 [00:01<00:10, 1323.06it/s]"
     ]
    },
    {
     "name": "stderr",
     "output_type": "stream",
     "text": [
      "\r",
      " 11%|████████████████▊                                                                                                                                    | 1714/15160 [00:01<00:11, 1212.15it/s]"
     ]
    },
    {
     "name": "stderr",
     "output_type": "stream",
     "text": [
      "\r",
      " 12%|██████████████████                                                                                                                                   | 1839/15160 [00:01<00:11, 1159.90it/s]"
     ]
    },
    {
     "name": "stderr",
     "output_type": "stream",
     "text": [
      "\r",
      " 13%|███████████████████▍                                                                                                                                 | 1984/15160 [00:01<00:10, 1234.88it/s]"
     ]
    },
    {
     "name": "stderr",
     "output_type": "stream",
     "text": [
      "\r",
      " 14%|████████████████████▊                                                                                                                                | 2118/15160 [00:01<00:10, 1262.43it/s]"
     ]
    },
    {
     "name": "stderr",
     "output_type": "stream",
     "text": [
      "\r",
      " 15%|██████████████████████                                                                                                                               | 2247/15160 [00:01<00:10, 1248.27it/s]"
     ]
    },
    {
     "name": "stderr",
     "output_type": "stream",
     "text": [
      "\r",
      " 16%|███████████████████████▎                                                                                                                             | 2374/15160 [00:01<00:10, 1178.91it/s]"
     ]
    },
    {
     "name": "stderr",
     "output_type": "stream",
     "text": [
      "\r",
      " 16%|████████████████████████▌                                                                                                                            | 2494/15160 [00:01<00:10, 1173.47it/s]"
     ]
    },
    {
     "name": "stderr",
     "output_type": "stream",
     "text": [
      "\r",
      " 17%|█████████████████████████▋                                                                                                                           | 2613/15160 [00:01<00:11, 1139.89it/s]"
     ]
    },
    {
     "name": "stderr",
     "output_type": "stream",
     "text": [
      "\r",
      " 18%|██████████████████████████▊                                                                                                                          | 2728/15160 [00:02<00:11, 1101.53it/s]"
     ]
    },
    {
     "name": "stderr",
     "output_type": "stream",
     "text": [
      "\r",
      " 19%|███████████████████████████▉                                                                                                                         | 2839/15160 [00:02<00:11, 1077.93it/s]"
     ]
    },
    {
     "name": "stderr",
     "output_type": "stream",
     "text": [
      "\r",
      " 19%|████████████████████████████▉                                                                                                                        | 2948/15160 [00:02<00:11, 1042.20it/s]"
     ]
    },
    {
     "name": "stderr",
     "output_type": "stream",
     "text": [
      "\r",
      " 20%|██████████████████████████████                                                                                                                       | 3054/15160 [00:02<00:11, 1045.85it/s]"
     ]
    },
    {
     "name": "stderr",
     "output_type": "stream",
     "text": [
      "\r",
      " 21%|███████████████████████████████                                                                                                                      | 3161/15160 [00:02<00:11, 1049.65it/s]"
     ]
    },
    {
     "name": "stderr",
     "output_type": "stream",
     "text": [
      "\r",
      " 22%|████████████████████████████████▏                                                                                                                    | 3279/15160 [00:02<00:10, 1085.51it/s]"
     ]
    },
    {
     "name": "stderr",
     "output_type": "stream",
     "text": [
      "\r",
      " 22%|█████████████████████████████████▎                                                                                                                   | 3388/15160 [00:02<00:11, 1062.44it/s]"
     ]
    },
    {
     "name": "stderr",
     "output_type": "stream",
     "text": [
      "\r",
      " 23%|██████████████████████████████████▍                                                                                                                  | 3501/15160 [00:02<00:10, 1079.43it/s]"
     ]
    },
    {
     "name": "stderr",
     "output_type": "stream",
     "text": [
      "\r",
      " 24%|███████████████████████████████████▍                                                                                                                 | 3610/15160 [00:02<00:10, 1056.40it/s]"
     ]
    },
    {
     "name": "stderr",
     "output_type": "stream",
     "text": [
      "\r",
      " 25%|████████████████████████████████████▋                                                                                                                | 3730/15160 [00:03<00:10, 1096.67it/s]"
     ]
    },
    {
     "name": "stderr",
     "output_type": "stream",
     "text": [
      "\r",
      " 25%|█████████████████████████████████████▊                                                                                                               | 3843/15160 [00:03<00:10, 1099.95it/s]"
     ]
    },
    {
     "name": "stderr",
     "output_type": "stream",
     "text": [
      "\r",
      " 26%|██████████████████████████████████████▊                                                                                                              | 3954/15160 [00:03<00:10, 1071.39it/s]"
     ]
    },
    {
     "name": "stderr",
     "output_type": "stream",
     "text": [
      "\r",
      " 27%|████████████████████████████████████████▏                                                                                                             | 4062/15160 [00:03<00:11, 984.38it/s]"
     ]
    },
    {
     "name": "stderr",
     "output_type": "stream",
     "text": [
      "\r",
      " 27%|█████████████████████████████████████████▏                                                                                                            | 4162/15160 [00:03<00:11, 944.18it/s]"
     ]
    },
    {
     "name": "stderr",
     "output_type": "stream",
     "text": [
      "\r",
      " 28%|██████████████████████████████████████████▏                                                                                                           | 4258/15160 [00:03<00:12, 867.22it/s]"
     ]
    },
    {
     "name": "stderr",
     "output_type": "stream",
     "text": [
      "\r",
      " 29%|███████████████████████████████████████████                                                                                                           | 4347/15160 [00:03<00:12, 848.21it/s]"
     ]
    },
    {
     "name": "stderr",
     "output_type": "stream",
     "text": [
      "\r",
      " 29%|███████████████████████████████████████████▊                                                                                                          | 4433/15160 [00:03<00:12, 825.83it/s]"
     ]
    },
    {
     "name": "stderr",
     "output_type": "stream",
     "text": [
      "\r",
      " 30%|████████████████████████████████████████████▋                                                                                                         | 4517/15160 [00:03<00:12, 825.10it/s]"
     ]
    },
    {
     "name": "stderr",
     "output_type": "stream",
     "text": [
      "\r",
      " 30%|█████████████████████████████████████████████▌                                                                                                        | 4600/15160 [00:04<00:12, 820.25it/s]"
     ]
    },
    {
     "name": "stderr",
     "output_type": "stream",
     "text": [
      "\r",
      " 31%|██████████████████████████████████████████████▎                                                                                                       | 4683/15160 [00:04<00:13, 783.56it/s]"
     ]
    },
    {
     "name": "stderr",
     "output_type": "stream",
     "text": [
      "\r",
      " 31%|███████████████████████████████████████████████                                                                                                       | 4762/15160 [00:04<00:13, 784.27it/s]"
     ]
    },
    {
     "name": "stderr",
     "output_type": "stream",
     "text": [
      "\r",
      " 32%|███████████████████████████████████████████████▉                                                                                                      | 4841/15160 [00:04<00:13, 783.21it/s]"
     ]
    },
    {
     "name": "stderr",
     "output_type": "stream",
     "text": [
      "\r",
      " 32%|████████████████████████████████████████████████▋                                                                                                     | 4920/15160 [00:04<00:13, 764.25it/s]"
     ]
    },
    {
     "name": "stderr",
     "output_type": "stream",
     "text": [
      "\r",
      " 33%|█████████████████████████████████████████████████▍                                                                                                    | 4997/15160 [00:04<00:13, 755.67it/s]"
     ]
    },
    {
     "name": "stderr",
     "output_type": "stream",
     "text": [
      "\r",
      " 33%|██████████████████████████████████████████████████▏                                                                                                   | 5078/15160 [00:04<00:13, 769.92it/s]"
     ]
    },
    {
     "name": "stderr",
     "output_type": "stream",
     "text": [
      "\r",
      " 34%|███████████████████████████████████████████████████                                                                                                   | 5156/15160 [00:04<00:13, 765.54it/s]"
     ]
    },
    {
     "name": "stderr",
     "output_type": "stream",
     "text": [
      "\r",
      " 35%|███████████████████████████████████████████████████▉                                                                                                  | 5245/15160 [00:04<00:12, 799.76it/s]"
     ]
    },
    {
     "name": "stderr",
     "output_type": "stream",
     "text": [
      "\r",
      " 35%|████████████████████████████████████████████████████▋                                                                                                 | 5326/15160 [00:05<00:12, 790.88it/s]"
     ]
    },
    {
     "name": "stderr",
     "output_type": "stream",
     "text": [
      "\r",
      " 36%|█████████████████████████████████████████████████████▌                                                                                                | 5408/15160 [00:05<00:12, 795.46it/s]"
     ]
    },
    {
     "name": "stderr",
     "output_type": "stream",
     "text": [
      "\r",
      " 36%|██████████████████████████████████████████████████████▎                                                                                               | 5488/15160 [00:05<00:12, 794.67it/s]"
     ]
    },
    {
     "name": "stderr",
     "output_type": "stream",
     "text": [
      "\r",
      " 37%|███████████████████████████████████████████████████████▏                                                                                              | 5572/15160 [00:05<00:11, 806.75it/s]"
     ]
    },
    {
     "name": "stderr",
     "output_type": "stream",
     "text": [
      "\r",
      " 37%|███████████████████████████████████████████████████████▉                                                                                              | 5653/15160 [00:05<00:11, 804.04it/s]"
     ]
    },
    {
     "name": "stderr",
     "output_type": "stream",
     "text": [
      "\r",
      " 38%|████████████████████████████████████████████████████████▋                                                                                             | 5734/15160 [00:05<00:12, 784.48it/s]"
     ]
    },
    {
     "name": "stderr",
     "output_type": "stream",
     "text": [
      "\r",
      " 38%|█████████████████████████████████████████████████████████▌                                                                                            | 5818/15160 [00:05<00:11, 799.42it/s]"
     ]
    },
    {
     "name": "stderr",
     "output_type": "stream",
     "text": [
      "\r",
      " 39%|██████████████████████████████████████████████████████████▍                                                                                           | 5903/15160 [00:05<00:11, 811.63it/s]"
     ]
    },
    {
     "name": "stderr",
     "output_type": "stream",
     "text": [
      "\r",
      " 40%|███████████████████████████████████████████████████████████▌                                                                                          | 6016/15160 [00:05<00:10, 899.45it/s]"
     ]
    },
    {
     "name": "stderr",
     "output_type": "stream",
     "text": [
      "\r",
      " 40%|████████████████████████████████████████████████████████████▋                                                                                         | 6133/15160 [00:05<00:09, 979.11it/s]"
     ]
    },
    {
     "name": "stderr",
     "output_type": "stream",
     "text": [
      "\r",
      " 41%|█████████████████████████████████████████████████████████████▋                                                                                        | 6238/15160 [00:06<00:08, 998.90it/s]"
     ]
    },
    {
     "name": "stderr",
     "output_type": "stream",
     "text": [
      "\r",
      " 42%|██████████████████████████████████████████████████████████████▋                                                                                       | 6339/15160 [00:06<00:09, 972.27it/s]"
     ]
    },
    {
     "name": "stderr",
     "output_type": "stream",
     "text": [
      "\r",
      " 42%|███████████████████████████████████████████████████████████████▋                                                                                      | 6437/15160 [00:06<00:09, 929.36it/s]"
     ]
    },
    {
     "name": "stderr",
     "output_type": "stream",
     "text": [
      "\r",
      " 43%|████████████████████████████████████████████████████████████████▌                                                                                     | 6531/15160 [00:06<00:09, 901.85it/s]"
     ]
    },
    {
     "name": "stderr",
     "output_type": "stream",
     "text": [
      "\r",
      " 44%|█████████████████████████████████████████████████████████████████▌                                                                                    | 6625/15160 [00:06<00:09, 911.14it/s]"
     ]
    },
    {
     "name": "stderr",
     "output_type": "stream",
     "text": [
      "\r",
      " 44%|██████████████████████████████████████████████████████████████████▍                                                                                   | 6717/15160 [00:06<00:09, 895.74it/s]"
     ]
    },
    {
     "name": "stderr",
     "output_type": "stream",
     "text": [
      "\r",
      " 45%|███████████████████████████████████████████████████████████████████▍                                                                                  | 6819/15160 [00:06<00:08, 929.72it/s]"
     ]
    },
    {
     "name": "stderr",
     "output_type": "stream",
     "text": [
      "\r",
      " 46%|████████████████████████████████████████████████████████████████████▍                                                                                 | 6913/15160 [00:06<00:08, 920.69it/s]"
     ]
    },
    {
     "name": "stderr",
     "output_type": "stream",
     "text": [
      "\r",
      " 46%|█████████████████████████████████████████████████████████████████████▍                                                                                | 7013/15160 [00:06<00:08, 941.65it/s]"
     ]
    },
    {
     "name": "stderr",
     "output_type": "stream",
     "text": [
      "\r",
      " 47%|██████████████████████████████████████████████████████████████████████▎                                                                               | 7108/15160 [00:06<00:08, 907.13it/s]"
     ]
    },
    {
     "name": "stderr",
     "output_type": "stream",
     "text": [
      "\r",
      " 48%|███████████████████████████████████████████████████████████████████████▎                                                                              | 7206/15160 [00:07<00:08, 925.31it/s]"
     ]
    },
    {
     "name": "stderr",
     "output_type": "stream",
     "text": [
      "\r",
      " 48%|████████████████████████████████████████████████████████████████████████▎                                                                             | 7306/15160 [00:07<00:08, 946.12it/s]"
     ]
    },
    {
     "name": "stderr",
     "output_type": "stream",
     "text": [
      "\r",
      " 49%|█████████████████████████████████████████████████████████████████████████▏                                                                            | 7401/15160 [00:07<00:08, 886.71it/s]"
     ]
    },
    {
     "name": "stderr",
     "output_type": "stream",
     "text": [
      "\r",
      " 50%|██████████████████████████████████████████████████████████████████████████▏                                                                          | 7546/15160 [00:07<00:07, 1044.56it/s]"
     ]
    },
    {
     "name": "stderr",
     "output_type": "stream",
     "text": [
      "\r",
      " 51%|███████████████████████████████████████████████████████████████████████████▌                                                                         | 7687/15160 [00:07<00:06, 1147.60it/s]"
     ]
    },
    {
     "name": "stderr",
     "output_type": "stream",
     "text": [
      "\r",
      " 52%|█████████████████████████████████████████████████████████████████████████████▏                                                                       | 7849/15160 [00:07<00:05, 1284.24it/s]"
     ]
    },
    {
     "name": "stderr",
     "output_type": "stream",
     "text": [
      "\r",
      " 53%|██████████████████████████████████████████████████████████████████████████████▉                                                                      | 8027/15160 [00:07<00:04, 1428.28it/s]"
     ]
    },
    {
     "name": "stderr",
     "output_type": "stream",
     "text": [
      "\r",
      " 54%|████████████████████████████████████████████████████████████████████████████████▌                                                                    | 8194/15160 [00:07<00:04, 1498.27it/s]"
     ]
    },
    {
     "name": "stderr",
     "output_type": "stream",
     "text": [
      "\r",
      " 55%|██████████████████████████████████████████████████████████████████████████████████                                                                   | 8348/15160 [00:07<00:04, 1508.68it/s]"
     ]
    },
    {
     "name": "stderr",
     "output_type": "stream",
     "text": [
      "\r",
      " 56%|███████████████████████████████████████████████████████████████████████████████████▋                                                                 | 8509/15160 [00:08<00:04, 1538.64it/s]"
     ]
    },
    {
     "name": "stderr",
     "output_type": "stream",
     "text": [
      "\r",
      " 57%|█████████████████████████████████████████████████████████████████████████████████████▏                                                               | 8673/15160 [00:08<00:04, 1566.50it/s]"
     ]
    },
    {
     "name": "stderr",
     "output_type": "stream",
     "text": [
      "\r",
      " 58%|██████████████████████████████████████████████████████████████████████████████████████▉                                                              | 8841/15160 [00:08<00:03, 1599.48it/s]"
     ]
    },
    {
     "name": "stderr",
     "output_type": "stream",
     "text": [
      "\r",
      " 59%|████████████████████████████████████████████████████████████████████████████████████████▍                                                            | 9002/15160 [00:08<00:03, 1576.92it/s]"
     ]
    },
    {
     "name": "stderr",
     "output_type": "stream",
     "text": [
      "\r",
      " 60%|██████████████████████████████████████████████████████████████████████████████████████████                                                           | 9160/15160 [00:08<00:03, 1572.73it/s]"
     ]
    },
    {
     "name": "stderr",
     "output_type": "stream",
     "text": [
      "\r",
      " 61%|███████████████████████████████████████████████████████████████████████████████████████████▌                                                         | 9318/15160 [00:08<00:03, 1573.86it/s]"
     ]
    },
    {
     "name": "stderr",
     "output_type": "stream",
     "text": [
      "\r",
      " 63%|█████████████████████████████████████████████████████████████████████████████████████████████▏                                                       | 9476/15160 [00:08<00:03, 1552.13it/s]"
     ]
    },
    {
     "name": "stderr",
     "output_type": "stream",
     "text": [
      "\r",
      " 64%|██████████████████████████████████████████████████████████████████████████████████████████████▊                                                      | 9643/15160 [00:08<00:03, 1586.14it/s]"
     ]
    },
    {
     "name": "stderr",
     "output_type": "stream",
     "text": [
      "\r",
      " 65%|████████████████████████████████████████████████████████████████████████████████████████████████▍                                                    | 9807/15160 [00:08<00:03, 1601.85it/s]"
     ]
    },
    {
     "name": "stderr",
     "output_type": "stream",
     "text": [
      "\r",
      " 66%|█████████████████████████████████████████████████████████████████████████████████████████████████▉                                                   | 9968/15160 [00:08<00:03, 1602.38it/s]"
     ]
    },
    {
     "name": "stderr",
     "output_type": "stream",
     "text": [
      "\r",
      " 67%|██████████████████████████████████████████████████████████████████████████████████████████████████▉                                                 | 10137/15160 [00:09<00:03, 1627.06it/s]"
     ]
    },
    {
     "name": "stderr",
     "output_type": "stream",
     "text": [
      "\r",
      " 68%|████████████████████████████████████████████████████████████████████████████████████████████████████▋                                               | 10309/15160 [00:09<00:02, 1653.28it/s]"
     ]
    },
    {
     "name": "stderr",
     "output_type": "stream",
     "text": [
      "\r",
      " 69%|██████████████████████████████████████████████████████████████████████████████████████████████████████▎                                             | 10475/15160 [00:09<00:02, 1644.39it/s]"
     ]
    },
    {
     "name": "stderr",
     "output_type": "stream",
     "text": [
      "\r",
      " 70%|███████████████████████████████████████████████████████████████████████████████████████████████████████▊                                            | 10640/15160 [00:09<00:02, 1634.50it/s]"
     ]
    },
    {
     "name": "stderr",
     "output_type": "stream",
     "text": [
      "\r",
      " 71%|█████████████████████████████████████████████████████████████████████████████████████████████████████████▍                                          | 10804/15160 [00:09<00:02, 1595.35it/s]"
     ]
    },
    {
     "name": "stderr",
     "output_type": "stream",
     "text": [
      "\r",
      " 72%|███████████████████████████████████████████████████████████████████████████████████████████████████████████                                         | 10964/15160 [00:09<00:02, 1565.10it/s]"
     ]
    },
    {
     "name": "stderr",
     "output_type": "stream",
     "text": [
      "\r",
      " 73%|████████████████████████████████████████████████████████████████████████████████████████████████████████████▌                                       | 11121/15160 [00:09<00:02, 1542.44it/s]"
     ]
    },
    {
     "name": "stderr",
     "output_type": "stream",
     "text": [
      "\r",
      " 74%|██████████████████████████████████████████████████████████████████████████████████████████████████████████████                                      | 11276/15160 [00:09<00:02, 1534.65it/s]"
     ]
    },
    {
     "name": "stderr",
     "output_type": "stream",
     "text": [
      "\r",
      " 75%|███████████████████████████████████████████████████████████████████████████████████████████████████████████████▌                                    | 11430/15160 [00:09<00:02, 1533.31it/s]"
     ]
    },
    {
     "name": "stderr",
     "output_type": "stream",
     "text": [
      "\r",
      " 76%|█████████████████████████████████████████████████████████████████████████████████████████████████████████████████                                   | 11584/15160 [00:09<00:02, 1506.82it/s]"
     ]
    },
    {
     "name": "stderr",
     "output_type": "stream",
     "text": [
      "\r",
      " 77%|██████████████████████████████████████████████████████████████████████████████████████████████████████████████████▋                                 | 11747/15160 [00:10<00:02, 1542.30it/s]"
     ]
    },
    {
     "name": "stderr",
     "output_type": "stream",
     "text": [
      "\r",
      " 79%|████████████████████████████████████████████████████████████████████████████████████████████████████████████████████▎                               | 11911/15160 [00:10<00:02, 1570.42it/s]"
     ]
    },
    {
     "name": "stderr",
     "output_type": "stream",
     "text": [
      "\r",
      " 80%|█████████████████████████████████████████████████████████████████████████████████████████████████████████████████████▊                              | 12069/15160 [00:10<00:02, 1526.66it/s]"
     ]
    },
    {
     "name": "stderr",
     "output_type": "stream",
     "text": [
      "\r",
      " 81%|███████████████████████████████████████████████████████████████████████████████████████████████████████████████████████▍                            | 12239/15160 [00:10<00:01, 1574.25it/s]"
     ]
    },
    {
     "name": "stderr",
     "output_type": "stream",
     "text": [
      "\r",
      " 82%|█████████████████████████████████████████████████████████████████████████████████████████████████████████████████████████                           | 12404/15160 [00:10<00:01, 1593.63it/s]"
     ]
    },
    {
     "name": "stderr",
     "output_type": "stream",
     "text": [
      "\r",
      " 83%|██████████████████████████████████████████████████████████████████████████████████████████████████████████████████████████▋                         | 12564/15160 [00:10<00:01, 1503.72it/s]"
     ]
    },
    {
     "name": "stderr",
     "output_type": "stream",
     "text": [
      "\r",
      " 84%|████████████████████████████████████████████████████████████████████████████████████████████████████████████████████████████▏                       | 12716/15160 [00:10<00:01, 1246.10it/s]"
     ]
    },
    {
     "name": "stderr",
     "output_type": "stream",
     "text": [
      "\r",
      " 85%|█████████████████████████████████████████████████████████████████████████████████████████████████████████████████████████████▍                      | 12849/15160 [00:10<00:02, 1149.67it/s]"
     ]
    },
    {
     "name": "stderr",
     "output_type": "stream",
     "text": [
      "\r",
      " 86%|██████████████████████████████████████████████████████████████████████████████████████████████████████████████████████████████▌                     | 12970/15160 [00:11<00:02, 1034.97it/s]"
     ]
    },
    {
     "name": "stderr",
     "output_type": "stream",
     "text": [
      "\r",
      " 86%|███████████████████████████████████████████████████████████████████████████████████████████████████████████████████████████████▋                    | 13079/15160 [00:11<00:02, 1011.37it/s]"
     ]
    },
    {
     "name": "stderr",
     "output_type": "stream",
     "text": [
      "\r",
      " 87%|█████████████████████████████████████████████████████████████████████████████████████████████████████████████████████████████████▌                   | 13184/15160 [00:11<00:02, 982.03it/s]"
     ]
    },
    {
     "name": "stderr",
     "output_type": "stream",
     "text": [
      "\r",
      " 88%|██████████████████████████████████████████████████████████████████████████████████████████████████████████████████████████████████▌                  | 13285/15160 [00:11<00:02, 931.41it/s]"
     ]
    },
    {
     "name": "stderr",
     "output_type": "stream",
     "text": [
      "\r",
      " 88%|███████████████████████████████████████████████████████████████████████████████████████████████████████████████████████████████████▌                 | 13386/15160 [00:11<00:01, 950.17it/s]"
     ]
    },
    {
     "name": "stderr",
     "output_type": "stream",
     "text": [
      "\r",
      " 89%|████████████████████████████████████████████████████████████████████████████████████████████████████████████████████████████████████▌                | 13485/15160 [00:11<00:01, 958.16it/s]"
     ]
    },
    {
     "name": "stderr",
     "output_type": "stream",
     "text": [
      "\r",
      " 90%|█████████████████████████████████████████████████████████████████████████████████████████████████████████████████████████████████████▍               | 13582/15160 [00:11<00:01, 954.75it/s]"
     ]
    },
    {
     "name": "stderr",
     "output_type": "stream",
     "text": [
      "\r",
      " 90%|██████████████████████████████████████████████████████████████████████████████████████████████████████████████████████████████████████▌              | 13691/15160 [00:11<00:01, 991.44it/s]"
     ]
    },
    {
     "name": "stderr",
     "output_type": "stream",
     "text": [
      "\r",
      " 91%|██████████████████████████████████████████████████████████████████████████████████████████████████████████████████████████████████████▋             | 13798/15160 [00:11<00:01, 1009.80it/s]"
     ]
    },
    {
     "name": "stderr",
     "output_type": "stream",
     "text": [
      "\r",
      " 92%|███████████████████████████████████████████████████████████████████████████████████████████████████████████████████████████████████████▊            | 13913/15160 [00:12<00:01, 1049.73it/s]"
     ]
    },
    {
     "name": "stderr",
     "output_type": "stream",
     "text": [
      "\r",
      " 92%|████████████████████████████████████████████████████████████████████████████████████████████████████████████████████████████████████████▊           | 14019/15160 [00:12<00:01, 1005.13it/s]"
     ]
    },
    {
     "name": "stderr",
     "output_type": "stream",
     "text": [
      "\r",
      " 93%|██████████████████████████████████████████████████████████████████████████████████████████████████████████████████████████████████████████          | 14139/15160 [00:12<00:00, 1060.59it/s]"
     ]
    },
    {
     "name": "stderr",
     "output_type": "stream",
     "text": [
      "\r",
      " 94%|███████████████████████████████████████████████████████████████████████████████████████████████████████████████████████████████████████████         | 14246/15160 [00:12<00:00, 1058.95it/s]"
     ]
    },
    {
     "name": "stderr",
     "output_type": "stream",
     "text": [
      "\r",
      " 95%|████████████████████████████████████████████████████████████████████████████████████████████████████████████████████████████████████████████        | 14353/15160 [00:12<00:00, 1006.90it/s]"
     ]
    },
    {
     "name": "stderr",
     "output_type": "stream",
     "text": [
      "\r",
      " 95%|█████████████████████████████████████████████████████████████████████████████████████████████████████████████████████████████████████████████▏      | 14464/15160 [00:12<00:00, 1035.75it/s]"
     ]
    },
    {
     "name": "stderr",
     "output_type": "stream",
     "text": [
      "\r",
      " 96%|██████████████████████████████████████████████████████████████████████████████████████████████████████████████████████████████████████████████▏     | 14570/15160 [00:12<00:00, 1041.90it/s]"
     ]
    },
    {
     "name": "stderr",
     "output_type": "stream",
     "text": [
      "\r",
      " 97%|███████████████████████████████████████████████████████████████████████████████████████████████████████████████████████████████████████████████▍    | 14687/15160 [00:12<00:00, 1077.61it/s]"
     ]
    },
    {
     "name": "stderr",
     "output_type": "stream",
     "text": [
      "\r",
      " 98%|████████████████████████████████████████████████████████████████████████████████████████████████████████████████████████████████████████████████▍   | 14799/15160 [00:12<00:00, 1088.98it/s]"
     ]
    },
    {
     "name": "stderr",
     "output_type": "stream",
     "text": [
      "\r",
      " 99%|██████████████████████████████████████████████████████████████████████████████████████████████████████████████████████████████████████████████████  | 14963/15160 [00:12<00:00, 1250.75it/s]"
     ]
    },
    {
     "name": "stderr",
     "output_type": "stream",
     "text": [
      "\r",
      "100%|███████████████████████████████████████████████████████████████████████████████████████████████████████████████████████████████████████████████████▉| 15153/15160 [00:13<00:00, 1442.50it/s]"
     ]
    },
    {
     "name": "stderr",
     "output_type": "stream",
     "text": [
      "\r",
      "100%|████████████████████████████████████████████████████████████████████████████████████████████████████████████████████████████████████████████████████| 15160/15160 [00:13<00:00, 1159.99it/s]"
     ]
    },
    {
     "name": "stderr",
     "output_type": "stream",
     "text": [
      "\n"
     ]
    },
    {
     "data": {
      "text/plain": [
       "0.6349840266543514"
      ]
     },
     "execution_count": 64,
     "metadata": {},
     "output_type": "execute_result"
    }
   ],
   "source": [
    "X_test = generate_dense_features(tokens_test, quick_model)\n",
    "y_test = list(df_disaster_test['class_label'])\n",
    "\n",
    "lr_tiny_test_preds = clf.predict(X_test)\n",
    "\n",
    "f1_score(y_test, lr_tiny_test_preds, average='macro')"
   ]
  },
  {
   "cell_type": "code",
   "execution_count": 65,
   "id": "b8e814c9",
   "metadata": {
    "execution": {
     "iopub.execute_input": "2022-07-05T06:09:10.213909Z",
     "iopub.status.busy": "2022-07-05T06:09:10.213468Z",
     "iopub.status.idle": "2022-07-05T06:09:10.217593Z",
     "shell.execute_reply": "2022-07-05T06:09:10.216741Z"
    },
    "papermill": {
     "duration": 0.083554,
     "end_time": "2022-07-05T06:09:10.220307",
     "exception": false,
     "start_time": "2022-07-05T06:09:10.136753",
     "status": "completed"
    },
    "tags": []
   },
   "outputs": [],
   "source": [
    "## Idea - coref chain, timeline of events, extract actions done or advised by FEMA etc. Use NLP week 3 homework"
   ]
  },
  {
   "cell_type": "markdown",
   "id": "8ee8fd84",
   "metadata": {
    "papermill": {
     "duration": 0.070908,
     "end_time": "2022-07-05T06:09:10.362190",
     "exception": false,
     "start_time": "2022-07-05T06:09:10.291282",
     "status": "completed"
    },
    "tags": []
   },
   "source": [
    "## Explain what words are the best predictors for certain prediction outcomes"
   ]
  },
  {
   "cell_type": "code",
   "execution_count": 66,
   "id": "46aef200",
   "metadata": {
    "execution": {
     "iopub.execute_input": "2022-07-05T06:09:10.506000Z",
     "iopub.status.busy": "2022-07-05T06:09:10.505254Z",
     "iopub.status.idle": "2022-07-05T06:09:10.518628Z",
     "shell.execute_reply": "2022-07-05T06:09:10.517530Z"
    },
    "papermill": {
     "duration": 0.088476,
     "end_time": "2022-07-05T06:09:10.521492",
     "exception": false,
     "start_time": "2022-07-05T06:09:10.433016",
     "status": "completed"
    },
    "tags": []
   },
   "outputs": [],
   "source": [
    "## Explanation - use also the decision tree and information gain later on. Use NLP week 4 homework as an example\n",
    "from lime.lime_text import LimeTextExplainer\n",
    "from sklearn.pipeline import make_pipeline"
   ]
  },
  {
   "cell_type": "code",
   "execution_count": 67,
   "id": "224a4a67",
   "metadata": {
    "execution": {
     "iopub.execute_input": "2022-07-05T06:09:10.663851Z",
     "iopub.status.busy": "2022-07-05T06:09:10.663115Z",
     "iopub.status.idle": "2022-07-05T06:09:13.778302Z",
     "shell.execute_reply": "2022-07-05T06:09:13.777335Z"
    },
    "papermill": {
     "duration": 3.190113,
     "end_time": "2022-07-05T06:09:13.781125",
     "exception": false,
     "start_time": "2022-07-05T06:09:10.591012",
     "status": "completed"
    },
    "tags": []
   },
   "outputs": [
    {
     "data": {
      "text/plain": [
       "(53516, 11323)"
      ]
     },
     "execution_count": 67,
     "metadata": {},
     "output_type": "execute_result"
    }
   ],
   "source": [
    "# Train a model\n",
    "# Do a bigrams and trigrams in the vocabulary\n",
    "bigram_vectorizer = TfidfVectorizer(stop_words='english', min_df=10, ngram_range=(1,2))\n",
    "X_train = bigram_vectorizer.fit_transform(df_train['tweet_text'])\n",
    "y_train = list(df_train['class_label'])\n",
    "X_train.shape"
   ]
  },
  {
   "cell_type": "code",
   "execution_count": 68,
   "id": "465a8082",
   "metadata": {
    "execution": {
     "iopub.execute_input": "2022-07-05T06:09:13.933008Z",
     "iopub.status.busy": "2022-07-05T06:09:13.932092Z",
     "iopub.status.idle": "2022-07-05T06:09:40.432785Z",
     "shell.execute_reply": "2022-07-05T06:09:40.430496Z"
    },
    "papermill": {
     "duration": 26.584716,
     "end_time": "2022-07-05T06:09:40.440037",
     "exception": false,
     "start_time": "2022-07-05T06:09:13.855321",
     "status": "completed"
    },
    "tags": []
   },
   "outputs": [
    {
     "data": {
      "text/html": [
       "<style>#sk-container-id-7 {color: black;background-color: white;}#sk-container-id-7 pre{padding: 0;}#sk-container-id-7 div.sk-toggleable {background-color: white;}#sk-container-id-7 label.sk-toggleable__label {cursor: pointer;display: block;width: 100%;margin-bottom: 0;padding: 0.3em;box-sizing: border-box;text-align: center;}#sk-container-id-7 label.sk-toggleable__label-arrow:before {content: \"▸\";float: left;margin-right: 0.25em;color: #696969;}#sk-container-id-7 label.sk-toggleable__label-arrow:hover:before {color: black;}#sk-container-id-7 div.sk-estimator:hover label.sk-toggleable__label-arrow:before {color: black;}#sk-container-id-7 div.sk-toggleable__content {max-height: 0;max-width: 0;overflow: hidden;text-align: left;background-color: #f0f8ff;}#sk-container-id-7 div.sk-toggleable__content pre {margin: 0.2em;color: black;border-radius: 0.25em;background-color: #f0f8ff;}#sk-container-id-7 input.sk-toggleable__control:checked~div.sk-toggleable__content {max-height: 200px;max-width: 100%;overflow: auto;}#sk-container-id-7 input.sk-toggleable__control:checked~label.sk-toggleable__label-arrow:before {content: \"▾\";}#sk-container-id-7 div.sk-estimator input.sk-toggleable__control:checked~label.sk-toggleable__label {background-color: #d4ebff;}#sk-container-id-7 div.sk-label input.sk-toggleable__control:checked~label.sk-toggleable__label {background-color: #d4ebff;}#sk-container-id-7 input.sk-hidden--visually {border: 0;clip: rect(1px 1px 1px 1px);clip: rect(1px, 1px, 1px, 1px);height: 1px;margin: -1px;overflow: hidden;padding: 0;position: absolute;width: 1px;}#sk-container-id-7 div.sk-estimator {font-family: monospace;background-color: #f0f8ff;border: 1px dotted black;border-radius: 0.25em;box-sizing: border-box;margin-bottom: 0.5em;}#sk-container-id-7 div.sk-estimator:hover {background-color: #d4ebff;}#sk-container-id-7 div.sk-parallel-item::after {content: \"\";width: 100%;border-bottom: 1px solid gray;flex-grow: 1;}#sk-container-id-7 div.sk-label:hover label.sk-toggleable__label {background-color: #d4ebff;}#sk-container-id-7 div.sk-serial::before {content: \"\";position: absolute;border-left: 1px solid gray;box-sizing: border-box;top: 0;bottom: 0;left: 50%;z-index: 0;}#sk-container-id-7 div.sk-serial {display: flex;flex-direction: column;align-items: center;background-color: white;padding-right: 0.2em;padding-left: 0.2em;position: relative;}#sk-container-id-7 div.sk-item {position: relative;z-index: 1;}#sk-container-id-7 div.sk-parallel {display: flex;align-items: stretch;justify-content: center;background-color: white;position: relative;}#sk-container-id-7 div.sk-item::before, #sk-container-id-7 div.sk-parallel-item::before {content: \"\";position: absolute;border-left: 1px solid gray;box-sizing: border-box;top: 0;bottom: 0;left: 50%;z-index: -1;}#sk-container-id-7 div.sk-parallel-item {display: flex;flex-direction: column;z-index: 1;position: relative;background-color: white;}#sk-container-id-7 div.sk-parallel-item:first-child::after {align-self: flex-end;width: 50%;}#sk-container-id-7 div.sk-parallel-item:last-child::after {align-self: flex-start;width: 50%;}#sk-container-id-7 div.sk-parallel-item:only-child::after {width: 0;}#sk-container-id-7 div.sk-dashed-wrapped {border: 1px dashed gray;margin: 0 0.4em 0.5em 0.4em;box-sizing: border-box;padding-bottom: 0.4em;background-color: white;}#sk-container-id-7 div.sk-label label {font-family: monospace;font-weight: bold;display: inline-block;line-height: 1.2em;}#sk-container-id-7 div.sk-label-container {text-align: center;}#sk-container-id-7 div.sk-container {/* jupyter's `normalize.less` sets `[hidden] { display: none; }` but bootstrap.min.css set `[hidden] { display: none !important; }` so we also need the `!important` here to be able to override the default hidden behavior on the sphinx rendered scikit-learn.org. See: https://github.com/scikit-learn/scikit-learn/issues/21755 */display: inline-block !important;position: relative;}#sk-container-id-7 div.sk-text-repr-fallback {display: none;}</style><div id=\"sk-container-id-7\" class=\"sk-top-container\"><div class=\"sk-text-repr-fallback\"><pre>LogisticRegression(max_iter=1000)</pre><b>In a Jupyter environment, please rerun this cell to show the HTML representation or trust the notebook. <br />On GitHub, the HTML representation is unable to render, please try loading this page with nbviewer.org.</b></div><div class=\"sk-container\" hidden><div class=\"sk-item\"><div class=\"sk-estimator sk-toggleable\"><input class=\"sk-toggleable__control sk-hidden--visually\" id=\"sk-estimator-id-7\" type=\"checkbox\" checked><label for=\"sk-estimator-id-7\" class=\"sk-toggleable__label sk-toggleable__label-arrow\">LogisticRegression</label><div class=\"sk-toggleable__content\"><pre>LogisticRegression(max_iter=1000)</pre></div></div></div></div></div>"
      ],
      "text/plain": [
       "LogisticRegression(max_iter=1000)"
      ]
     },
     "execution_count": 68,
     "metadata": {},
     "output_type": "execute_result"
    }
   ],
   "source": [
    "# Prepate the logistic regression classifier\n",
    "clf = LogisticRegression(solver='lbfgs', multi_class='auto', random_state=random_seed, max_iter=1000)\n",
    "clf.fit(X_train, y_train)"
   ]
  },
  {
   "cell_type": "code",
   "execution_count": 69,
   "id": "90fde19f",
   "metadata": {
    "execution": {
     "iopub.execute_input": "2022-07-05T06:09:40.736118Z",
     "iopub.status.busy": "2022-07-05T06:09:40.735365Z",
     "iopub.status.idle": "2022-07-05T06:09:42.293437Z",
     "shell.execute_reply": "2022-07-05T06:09:42.291713Z"
    },
    "papermill": {
     "duration": 1.70549,
     "end_time": "2022-07-05T06:09:42.298210",
     "exception": false,
     "start_time": "2022-07-05T06:09:40.592720",
     "status": "completed"
    },
    "tags": []
   },
   "outputs": [
    {
     "name": "stdout",
     "output_type": "stream",
     "text": [
      "0.7109525239447484\n"
     ]
    }
   ],
   "source": [
    "# Predic on test, must be about the same\n",
    "X_test = bigram_vectorizer.transform(df_test['tweet_text'])\n",
    "y_test = list(df_test['class_label'])\n",
    "\n",
    "lr_tiny_test_preds = clf.predict(X_test)\n",
    "\n",
    "# Score on test\n",
    "lr_f1 = f1_score(y_test, lr_tiny_test_preds, average='macro')\n",
    "print(lr_f1)"
   ]
  },
  {
   "cell_type": "code",
   "execution_count": 70,
   "id": "f9fc525b",
   "metadata": {
    "execution": {
     "iopub.execute_input": "2022-07-05T06:09:42.582199Z",
     "iopub.status.busy": "2022-07-05T06:09:42.579314Z",
     "iopub.status.idle": "2022-07-05T06:09:42.592469Z",
     "shell.execute_reply": "2022-07-05T06:09:42.590883Z"
    },
    "papermill": {
     "duration": 0.159585,
     "end_time": "2022-07-05T06:09:42.597397",
     "exception": false,
     "start_time": "2022-07-05T06:09:42.437812",
     "status": "completed"
    },
    "tags": []
   },
   "outputs": [],
   "source": [
    "lr_pipe = make_pipeline(bigram_vectorizer, clf)\n",
    "\n",
    "class_names=list(df_test['class_label'].unique())\n",
    "\n",
    "explainer = LimeTextExplainer(class_names=class_names,\n",
    "                              random_state=random_seed)"
   ]
  },
  {
   "cell_type": "code",
   "execution_count": 71,
   "id": "769f67ef",
   "metadata": {
    "execution": {
     "iopub.execute_input": "2022-07-05T06:09:42.877820Z",
     "iopub.status.busy": "2022-07-05T06:09:42.877128Z",
     "iopub.status.idle": "2022-07-05T06:09:42.892653Z",
     "shell.execute_reply": "2022-07-05T06:09:42.890924Z"
    },
    "papermill": {
     "duration": 0.161509,
     "end_time": "2022-07-05T06:09:42.897916",
     "exception": false,
     "start_time": "2022-07-05T06:09:42.736407",
     "status": "completed"
    },
    "tags": []
   },
   "outputs": [
    {
     "name": "stdout",
     "output_type": "stream",
     "text": [
      "New post: Cambodia donates 100,000 USD to flood-hit Sri Lanka\n",
      "\n",
      "True label:  rescue_volunteering_or_donation_effort\n"
     ]
    }
   ],
   "source": [
    "test_row_df = df_test.sample(1, random_state=random_seed)\n",
    "_, _, tweet_text, label = next(test_row_df.itertuples())\n",
    "\n",
    "# tweet_text = \"Non co-op with rescuers is no good. They are the best ones to decide if ppl have to be evacuated or given supplies. @vmoorthynow @aruna_sekhar @dhanyarajendran @InCrisisRelief @abhishekalex @MahalaxmiDas @RapidResponse #KeralaFloods\"\n",
    "# label = 'rescue_volunteering_or_donation_effort'\n",
    "\n",
    "print(tweet_text)\n",
    "print()\n",
    "print('True label: ', label)"
   ]
  },
  {
   "cell_type": "code",
   "execution_count": 72,
   "id": "fd79ea35",
   "metadata": {
    "execution": {
     "iopub.execute_input": "2022-07-05T06:09:43.177572Z",
     "iopub.status.busy": "2022-07-05T06:09:43.176817Z",
     "iopub.status.idle": "2022-07-05T06:09:43.195467Z",
     "shell.execute_reply": "2022-07-05T06:09:43.194010Z"
    },
    "papermill": {
     "duration": 0.162794,
     "end_time": "2022-07-05T06:09:43.200196",
     "exception": false,
     "start_time": "2022-07-05T06:09:43.037402",
     "status": "completed"
    },
    "tags": []
   },
   "outputs": [
    {
     "name": "stdout",
     "output_type": "stream",
     "text": [
      "Predicted label:  ['rescue_volunteering_or_donation_effort']\n",
      "\n",
      "Class names:  ['caution_and_advice' 'displaced_people_and_evacuations'\n",
      " 'infrastructure_and_utility_damage' 'injured_or_dead_people'\n",
      " 'missing_or_found_people' 'not_humanitarian' 'other_relevant_information'\n",
      " 'requests_or_urgent_needs' 'rescue_volunteering_or_donation_effort'\n",
      " 'sympathy_and_support']\n",
      "\n",
      "Predicted confidence:  [0.00829305 0.00522395 0.01168506 0.01956497 0.00110504 0.01100126\n",
      " 0.02091529 0.00393099 0.91317798 0.00510241]\n"
     ]
    }
   ],
   "source": [
    "print('Predicted label: ', lr_pipe.predict([tweet_text]))\n",
    "print()\n",
    "print('Class names: ', lr_pipe.classes_)\n",
    "print()\n",
    "print('Predicted confidence: ', lr_pipe.predict_proba([tweet_text])[0])"
   ]
  },
  {
   "cell_type": "code",
   "execution_count": 73,
   "id": "8262c8e5",
   "metadata": {
    "execution": {
     "iopub.execute_input": "2022-07-05T06:09:43.484878Z",
     "iopub.status.busy": "2022-07-05T06:09:43.484131Z",
     "iopub.status.idle": "2022-07-05T06:09:44.317485Z",
     "shell.execute_reply": "2022-07-05T06:09:44.315540Z"
    },
    "papermill": {
     "duration": 0.985367,
     "end_time": "2022-07-05T06:09:44.325941",
     "exception": false,
     "start_time": "2022-07-05T06:09:43.340574",
     "status": "completed"
    },
    "tags": []
   },
   "outputs": [],
   "source": [
    "lr_explanation = explainer.explain_instance(tweet_text, lr_pipe.predict_proba, num_features=X_train.shape[1])"
   ]
  },
  {
   "cell_type": "code",
   "execution_count": 74,
   "id": "83b1b392",
   "metadata": {
    "execution": {
     "iopub.execute_input": "2022-07-05T06:09:44.610608Z",
     "iopub.status.busy": "2022-07-05T06:09:44.609856Z",
     "iopub.status.idle": "2022-07-05T06:09:44.618915Z",
     "shell.execute_reply": "2022-07-05T06:09:44.617153Z"
    },
    "papermill": {
     "duration": 0.160362,
     "end_time": "2022-07-05T06:09:44.626534",
     "exception": false,
     "start_time": "2022-07-05T06:09:44.466172",
     "status": "completed"
    },
    "tags": []
   },
   "outputs": [
    {
     "name": "stdout",
     "output_type": "stream",
     "text": [
      "Estimated weight of -0.015577310312019164 on feature donates\n",
      "Estimated weight of 0.008098914979314357 on feature 000\n",
      "Estimated weight of -0.005034196713289842 on feature hit\n",
      "Estimated weight of -0.004825462354918778 on feature flood\n",
      "Estimated weight of -0.004325329654239147 on feature Sri\n",
      "Estimated weight of -0.004264468634966761 on feature Lanka\n",
      "Estimated weight of 0.00337005882810873 on feature New\n",
      "Estimated weight of -0.000909973045180611 on feature 100\n",
      "Estimated weight of -0.0003780824666570595 on feature post\n",
      "Estimated weight of 0.00023220933736972473 on feature to\n",
      "Estimated weight of -0.00010510303147650958 on feature USD\n",
      "Estimated weight of -9.029366318145747e-05 on feature Cambodia\n"
     ]
    }
   ],
   "source": [
    "for feat, val in lr_explanation.as_list():\n",
    "    print(f'Estimated weight of {val} on feature {feat}')"
   ]
  },
  {
   "cell_type": "code",
   "execution_count": 75,
   "id": "04689e14",
   "metadata": {
    "execution": {
     "iopub.execute_input": "2022-07-05T06:09:44.909256Z",
     "iopub.status.busy": "2022-07-05T06:09:44.908544Z",
     "iopub.status.idle": "2022-07-05T06:09:44.934061Z",
     "shell.execute_reply": "2022-07-05T06:09:44.932301Z"
    },
    "papermill": {
     "duration": 0.172357,
     "end_time": "2022-07-05T06:09:44.938859",
     "exception": false,
     "start_time": "2022-07-05T06:09:44.766502",
     "status": "completed"
    },
    "tags": []
   },
   "outputs": [
    {
     "data": {
      "text/html": [
       "<div>\n",
       "<style scoped>\n",
       "    .dataframe tbody tr th:only-of-type {\n",
       "        vertical-align: middle;\n",
       "    }\n",
       "\n",
       "    .dataframe tbody tr th {\n",
       "        vertical-align: top;\n",
       "    }\n",
       "\n",
       "    .dataframe thead th {\n",
       "        text-align: right;\n",
       "    }\n",
       "</style>\n",
       "<table border=\"1\" class=\"dataframe\">\n",
       "  <thead>\n",
       "    <tr style=\"text-align: right;\">\n",
       "      <th></th>\n",
       "      <th>feature</th>\n",
       "      <th>weight</th>\n",
       "    </tr>\n",
       "  </thead>\n",
       "  <tbody>\n",
       "    <tr>\n",
       "      <th>1</th>\n",
       "      <td>000</td>\n",
       "      <td>0.008099</td>\n",
       "    </tr>\n",
       "    <tr>\n",
       "      <th>6</th>\n",
       "      <td>New</td>\n",
       "      <td>0.003370</td>\n",
       "    </tr>\n",
       "    <tr>\n",
       "      <th>9</th>\n",
       "      <td>to</td>\n",
       "      <td>0.000232</td>\n",
       "    </tr>\n",
       "    <tr>\n",
       "      <th>11</th>\n",
       "      <td>Cambodia</td>\n",
       "      <td>-0.000090</td>\n",
       "    </tr>\n",
       "    <tr>\n",
       "      <th>10</th>\n",
       "      <td>USD</td>\n",
       "      <td>-0.000105</td>\n",
       "    </tr>\n",
       "    <tr>\n",
       "      <th>8</th>\n",
       "      <td>post</td>\n",
       "      <td>-0.000378</td>\n",
       "    </tr>\n",
       "    <tr>\n",
       "      <th>7</th>\n",
       "      <td>100</td>\n",
       "      <td>-0.000910</td>\n",
       "    </tr>\n",
       "    <tr>\n",
       "      <th>5</th>\n",
       "      <td>Lanka</td>\n",
       "      <td>-0.004264</td>\n",
       "    </tr>\n",
       "    <tr>\n",
       "      <th>4</th>\n",
       "      <td>Sri</td>\n",
       "      <td>-0.004325</td>\n",
       "    </tr>\n",
       "    <tr>\n",
       "      <th>3</th>\n",
       "      <td>flood</td>\n",
       "      <td>-0.004825</td>\n",
       "    </tr>\n",
       "    <tr>\n",
       "      <th>2</th>\n",
       "      <td>hit</td>\n",
       "      <td>-0.005034</td>\n",
       "    </tr>\n",
       "    <tr>\n",
       "      <th>0</th>\n",
       "      <td>donates</td>\n",
       "      <td>-0.015577</td>\n",
       "    </tr>\n",
       "  </tbody>\n",
       "</table>\n",
       "</div>"
      ],
      "text/plain": [
       "     feature    weight\n",
       "1        000  0.008099\n",
       "6        New  0.003370\n",
       "9         to  0.000232\n",
       "11  Cambodia -0.000090\n",
       "10       USD -0.000105\n",
       "8       post -0.000378\n",
       "7        100 -0.000910\n",
       "5      Lanka -0.004264\n",
       "4        Sri -0.004325\n",
       "3      flood -0.004825\n",
       "2        hit -0.005034\n",
       "0    donates -0.015577"
      ]
     },
     "execution_count": 75,
     "metadata": {},
     "output_type": "execute_result"
    }
   ],
   "source": [
    "pd.DataFrame(data=lr_explanation.as_list(), columns=['feature', 'weight']).sort_values(by='weight', ascending=False)"
   ]
  },
  {
   "cell_type": "code",
   "execution_count": 76,
   "id": "337e7462",
   "metadata": {
    "execution": {
     "iopub.execute_input": "2022-07-05T06:09:45.229168Z",
     "iopub.status.busy": "2022-07-05T06:09:45.228419Z",
     "iopub.status.idle": "2022-07-05T06:09:45.235676Z",
     "shell.execute_reply": "2022-07-05T06:09:45.233947Z"
    },
    "lines_to_next_cell": 0,
    "papermill": {
     "duration": 0.158348,
     "end_time": "2022-07-05T06:09:45.240381",
     "exception": false,
     "start_time": "2022-07-05T06:09:45.082033",
     "status": "completed"
    },
    "tags": []
   },
   "outputs": [],
   "source": [
    "## TODO: Elaborate on the complete project path, add to the readme file, or the shared doc?"
   ]
  },
  {
   "cell_type": "code",
   "execution_count": null,
   "id": "015cd294",
   "metadata": {
    "lines_to_next_cell": 2,
    "papermill": {
     "duration": 0.1459,
     "end_time": "2022-07-05T06:09:45.529808",
     "exception": false,
     "start_time": "2022-07-05T06:09:45.383908",
     "status": "completed"
    },
    "tags": []
   },
   "outputs": [],
   "source": []
  }
 ],
 "metadata": {
  "jupytext": {
   "cell_metadata_filter": "tags,-all",
   "main_language": "python",
   "notebook_metadata_filter": "-all",
   "text_representation": {
    "extension": ".py",
    "format_name": "light"
   }
  },
  "kernelspec": {
   "display_name": "Python 3 (ipykernel)",
   "language": "python",
   "name": "python3"
  },
  "language_info": {
   "codemirror_mode": {
    "name": "ipython",
    "version": 3
   },
   "file_extension": ".py",
   "mimetype": "text/x-python",
   "name": "python",
   "nbconvert_exporter": "python",
   "pygments_lexer": "ipython3",
   "version": "3.9.12"
  },
  "papermill": {
   "duration": 192.965434,
   "end_time": "2022-07-05T06:09:48.405178",
   "exception": null,
   "input_path": "/var/folders/lw/k7hqg3bn7s326rs6jxn046b40000gp/T/tmpgwdw8ekp.ipynb",
   "output_path": "/Users/mboussarov/_umsi/Capstone/umads_697_data_medics/pipeline/output/happy_path_exploration.ipynb",
   "parameters": {
    "lookback_days": 10,
    "product": {
     "nb": "/Users/mboussarov/_umsi/Capstone/umads_697_data_medics/pipeline/output/happy_path_exploration.ipynb"
    }
   },
   "start_time": "2022-07-05T06:06:35.439744"
  }
 },
 "nbformat": 4,
 "nbformat_minor": 5
}