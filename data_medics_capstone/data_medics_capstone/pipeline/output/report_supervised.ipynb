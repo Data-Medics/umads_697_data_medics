{
 "cells": [
  {
   "cell_type": "code",
   "execution_count": 1,
   "id": "6d45b331",
   "metadata": {
    "execution": {
     "iopub.execute_input": "2022-07-05T01:49:54.375188Z",
     "iopub.status.busy": "2022-07-05T01:49:54.374422Z",
     "iopub.status.idle": "2022-07-05T01:49:56.152726Z",
     "shell.execute_reply": "2022-07-05T01:49:56.150644Z"
    },
    "papermill": {
     "duration": 1.799391,
     "end_time": "2022-07-05T01:49:56.156938",
     "exception": false,
     "start_time": "2022-07-05T01:49:54.357547",
     "status": "completed"
    },
    "tags": []
   },
   "outputs": [],
   "source": [
    "import pandas as pd\n",
    "import numpy as np"
   ]
  },
  {
   "cell_type": "code",
   "execution_count": 2,
   "id": "a6001172",
   "metadata": {
    "execution": {
     "iopub.execute_input": "2022-07-05T01:49:56.166556Z",
     "iopub.status.busy": "2022-07-05T01:49:56.166021Z",
     "iopub.status.idle": "2022-07-05T01:49:56.172747Z",
     "shell.execute_reply": "2022-07-05T01:49:56.171209Z"
    },
    "papermill": {
     "duration": 0.014608,
     "end_time": "2022-07-05T01:49:56.175782",
     "exception": false,
     "start_time": "2022-07-05T01:49:56.161174",
     "status": "completed"
    },
    "tags": [
     "parameters"
    ]
   },
   "outputs": [],
   "source": [
    "upstream = []\n",
    "lookback_days = None"
   ]
  },
  {
   "cell_type": "code",
   "execution_count": 3,
   "id": "3de2a907",
   "metadata": {
    "execution": {
     "iopub.execute_input": "2022-07-05T01:49:56.181738Z",
     "iopub.status.busy": "2022-07-05T01:49:56.181378Z",
     "iopub.status.idle": "2022-07-05T01:49:56.186498Z",
     "shell.execute_reply": "2022-07-05T01:49:56.185186Z"
    },
    "papermill": {
     "duration": 0.011704,
     "end_time": "2022-07-05T01:49:56.189728",
     "exception": false,
     "start_time": "2022-07-05T01:49:56.178024",
     "status": "completed"
    },
    "tags": [
     "injected-parameters"
    ]
   },
   "outputs": [],
   "source": [
    "# Parameters\n",
    "lookback_days = 10\n",
    "product = {\n",
    "    \"nb\": \"/Users/johnzupan/mystuff/UMADS/Capstone_Data_Medics/data_medics_capstone/data_medics_capstone/pipeline/output/report_supervised.ipynb\"\n",
    "}\n"
   ]
  },
  {
   "cell_type": "code",
   "execution_count": 4,
   "id": "b55b8a16",
   "metadata": {
    "execution": {
     "iopub.execute_input": "2022-07-05T01:49:56.196092Z",
     "iopub.status.busy": "2022-07-05T01:49:56.195680Z",
     "iopub.status.idle": "2022-07-05T01:49:56.273029Z",
     "shell.execute_reply": "2022-07-05T01:49:56.271742Z"
    },
    "papermill": {
     "duration": 0.083741,
     "end_time": "2022-07-05T01:49:56.275717",
     "exception": false,
     "start_time": "2022-07-05T01:49:56.191976",
     "status": "completed"
    },
    "tags": []
   },
   "outputs": [
    {
     "data": {
      "text/html": [
       "<div>\n",
       "<style scoped>\n",
       "    .dataframe tbody tr th:only-of-type {\n",
       "        vertical-align: middle;\n",
       "    }\n",
       "\n",
       "    .dataframe tbody tr th {\n",
       "        vertical-align: top;\n",
       "    }\n",
       "\n",
       "    .dataframe thead th {\n",
       "        text-align: right;\n",
       "    }\n",
       "</style>\n",
       "<table border=\"1\" class=\"dataframe\">\n",
       "  <thead>\n",
       "    <tr style=\"text-align: right;\">\n",
       "      <th></th>\n",
       "      <th>tweet_id</th>\n",
       "      <th>class_label</th>\n",
       "    </tr>\n",
       "  </thead>\n",
       "  <tbody>\n",
       "    <tr>\n",
       "      <th>0</th>\n",
       "      <td>722050420026273793</td>\n",
       "      <td>sympathy_and_support</td>\n",
       "    </tr>\n",
       "    <tr>\n",
       "      <th>1</th>\n",
       "      <td>721767225456074752</td>\n",
       "      <td>injured_or_dead_people</td>\n",
       "    </tr>\n",
       "    <tr>\n",
       "      <th>2</th>\n",
       "      <td>721735353703510016</td>\n",
       "      <td>requests_or_urgent_needs</td>\n",
       "    </tr>\n",
       "    <tr>\n",
       "      <th>3</th>\n",
       "      <td>721637133690269696</td>\n",
       "      <td>injured_or_dead_people</td>\n",
       "    </tr>\n",
       "    <tr>\n",
       "      <th>4</th>\n",
       "      <td>721818472930533380</td>\n",
       "      <td>sympathy_and_support</td>\n",
       "    </tr>\n",
       "  </tbody>\n",
       "</table>\n",
       "</div>"
      ],
      "text/plain": [
       "             tweet_id               class_label\n",
       "0  722050420026273793      sympathy_and_support\n",
       "1  721767225456074752    injured_or_dead_people\n",
       "2  721735353703510016  requests_or_urgent_needs\n",
       "3  721637133690269696    injured_or_dead_people\n",
       "4  721818472930533380      sympathy_and_support"
      ]
     },
     "execution_count": 4,
     "metadata": {},
     "output_type": "execute_result"
    }
   ],
   "source": [
    "df = pd.read_csv('../data/all_dev.tsv', sep='\\t')\n",
    "df.head()"
   ]
  },
  {
   "cell_type": "code",
   "execution_count": 5,
   "id": "84673867",
   "metadata": {
    "execution": {
     "iopub.execute_input": "2022-07-05T01:49:56.283006Z",
     "iopub.status.busy": "2022-07-05T01:49:56.282624Z",
     "iopub.status.idle": "2022-07-05T01:49:56.287278Z",
     "shell.execute_reply": "2022-07-05T01:49:56.286110Z"
    },
    "lines_to_next_cell": 0,
    "papermill": {
     "duration": 0.01151,
     "end_time": "2022-07-05T01:49:56.290204",
     "exception": false,
     "start_time": "2022-07-05T01:49:56.278694",
     "status": "completed"
    },
    "tags": []
   },
   "outputs": [],
   "source": [
    "# Hello"
   ]
  },
  {
   "cell_type": "code",
   "execution_count": null,
   "id": "3545f0c5",
   "metadata": {
    "lines_to_next_cell": 2,
    "papermill": {
     "duration": 0.002328,
     "end_time": "2022-07-05T01:49:56.295124",
     "exception": false,
     "start_time": "2022-07-05T01:49:56.292796",
     "status": "completed"
    },
    "tags": []
   },
   "outputs": [],
   "source": []
  }
 ],
 "metadata": {
  "jupytext": {
   "cell_metadata_filter": "tags,-all",
   "main_language": "python",
   "notebook_metadata_filter": "-all",
   "text_representation": {
    "extension": ".py",
    "format_name": "light"
   }
  },
  "kernelspec": {
   "display_name": "Python 3",
   "language": "python",
   "name": "python3"
  },
  "language_info": {
   "codemirror_mode": {
    "name": "ipython",
    "version": 3
   },
   "file_extension": ".py",
   "mimetype": "text/x-python",
   "name": "python",
   "nbconvert_exporter": "python",
   "pygments_lexer": "ipython3",
   "version": "3.7.6"
  },
  "papermill": {
   "duration": 4.818731,
   "end_time": "2022-07-05T01:49:56.733400",
   "exception": null,
   "input_path": "/var/folders/8w/20lqjpq147b7xv0vt_c6r4gw0000gn/T/tmp85j6ivb8.ipynb",
   "output_path": "/Users/johnzupan/mystuff/UMADS/Capstone_Data_Medics/data_medics_capstone/data_medics_capstone/pipeline/output/report_supervised.ipynb",
   "parameters": {
    "lookback_days": 10,
    "product": {
     "nb": "/Users/johnzupan/mystuff/UMADS/Capstone_Data_Medics/data_medics_capstone/data_medics_capstone/pipeline/output/report_supervised.ipynb"
    }
   },
   "start_time": "2022-07-05T01:49:51.914669"
  }
 },
 "nbformat": 4,
 "nbformat_minor": 5
}