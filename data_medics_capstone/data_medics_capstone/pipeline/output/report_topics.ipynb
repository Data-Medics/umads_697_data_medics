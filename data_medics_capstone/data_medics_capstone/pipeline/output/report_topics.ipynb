{
 "cells": [
  {
   "cell_type": "code",
   "execution_count": 1,
   "id": "d34055ff",
   "metadata": {
    "execution": {
     "iopub.execute_input": "2022-07-05T01:49:57.981366Z",
     "iopub.status.busy": "2022-07-05T01:49:57.980590Z",
     "iopub.status.idle": "2022-07-05T01:49:58.415164Z",
     "shell.execute_reply": "2022-07-05T01:49:58.413341Z"
    },
    "papermill": {
     "duration": 0.45482,
     "end_time": "2022-07-05T01:49:58.419023",
     "exception": false,
     "start_time": "2022-07-05T01:49:57.964203",
     "status": "completed"
    },
    "tags": []
   },
   "outputs": [],
   "source": [
    "import pandas as pd\n",
    "import numpy as np"
   ]
  },
  {
   "cell_type": "code",
   "execution_count": 2,
   "id": "8ea126f1",
   "metadata": {
    "execution": {
     "iopub.execute_input": "2022-07-05T01:49:58.440866Z",
     "iopub.status.busy": "2022-07-05T01:49:58.440087Z",
     "iopub.status.idle": "2022-07-05T01:49:58.446501Z",
     "shell.execute_reply": "2022-07-05T01:49:58.445052Z"
    },
    "papermill": {
     "duration": 0.016135,
     "end_time": "2022-07-05T01:49:58.449568",
     "exception": false,
     "start_time": "2022-07-05T01:49:58.433433",
     "status": "completed"
    },
    "tags": [
     "parameters"
    ]
   },
   "outputs": [],
   "source": [
    "upstream = []\n",
    "lookback_days = None"
   ]
  },
  {
   "cell_type": "code",
   "execution_count": 3,
   "id": "ab4be25f",
   "metadata": {
    "execution": {
     "iopub.execute_input": "2022-07-05T01:49:58.455651Z",
     "iopub.status.busy": "2022-07-05T01:49:58.455285Z",
     "iopub.status.idle": "2022-07-05T01:49:58.460214Z",
     "shell.execute_reply": "2022-07-05T01:49:58.459003Z"
    },
    "papermill": {
     "duration": 0.011272,
     "end_time": "2022-07-05T01:49:58.463039",
     "exception": false,
     "start_time": "2022-07-05T01:49:58.451767",
     "status": "completed"
    },
    "tags": [
     "injected-parameters"
    ]
   },
   "outputs": [],
   "source": [
    "# Parameters\n",
    "lookback_days = 10\n",
    "product = {\n",
    "    \"nb\": \"/Users/johnzupan/mystuff/UMADS/Capstone_Data_Medics/data_medics_capstone/data_medics_capstone/pipeline/output/report_topics.ipynb\"\n",
    "}\n"
   ]
  },
  {
   "cell_type": "code",
   "execution_count": 4,
   "id": "d3e652e2",
   "metadata": {
    "execution": {
     "iopub.execute_input": "2022-07-05T01:49:58.469750Z",
     "iopub.status.busy": "2022-07-05T01:49:58.469205Z",
     "iopub.status.idle": "2022-07-05T01:49:58.499266Z",
     "shell.execute_reply": "2022-07-05T01:49:58.498032Z"
    },
    "papermill": {
     "duration": 0.036984,
     "end_time": "2022-07-05T01:49:58.502277",
     "exception": false,
     "start_time": "2022-07-05T01:49:58.465293",
     "status": "completed"
    },
    "tags": []
   },
   "outputs": [
    {
     "data": {
      "text/html": [
       "<div>\n",
       "<style scoped>\n",
       "    .dataframe tbody tr th:only-of-type {\n",
       "        vertical-align: middle;\n",
       "    }\n",
       "\n",
       "    .dataframe tbody tr th {\n",
       "        vertical-align: top;\n",
       "    }\n",
       "\n",
       "    .dataframe thead th {\n",
       "        text-align: right;\n",
       "    }\n",
       "</style>\n",
       "<table border=\"1\" class=\"dataframe\">\n",
       "  <thead>\n",
       "    <tr style=\"text-align: right;\">\n",
       "      <th></th>\n",
       "      <th>tweet_id</th>\n",
       "      <th>class_label</th>\n",
       "    </tr>\n",
       "  </thead>\n",
       "  <tbody>\n",
       "    <tr>\n",
       "      <th>0</th>\n",
       "      <td>722050420026273793</td>\n",
       "      <td>sympathy_and_support</td>\n",
       "    </tr>\n",
       "    <tr>\n",
       "      <th>1</th>\n",
       "      <td>721767225456074752</td>\n",
       "      <td>injured_or_dead_people</td>\n",
       "    </tr>\n",
       "    <tr>\n",
       "      <th>2</th>\n",
       "      <td>721735353703510016</td>\n",
       "      <td>requests_or_urgent_needs</td>\n",
       "    </tr>\n",
       "    <tr>\n",
       "      <th>3</th>\n",
       "      <td>721637133690269696</td>\n",
       "      <td>injured_or_dead_people</td>\n",
       "    </tr>\n",
       "    <tr>\n",
       "      <th>4</th>\n",
       "      <td>721818472930533380</td>\n",
       "      <td>sympathy_and_support</td>\n",
       "    </tr>\n",
       "  </tbody>\n",
       "</table>\n",
       "</div>"
      ],
      "text/plain": [
       "             tweet_id               class_label\n",
       "0  722050420026273793      sympathy_and_support\n",
       "1  721767225456074752    injured_or_dead_people\n",
       "2  721735353703510016  requests_or_urgent_needs\n",
       "3  721637133690269696    injured_or_dead_people\n",
       "4  721818472930533380      sympathy_and_support"
      ]
     },
     "execution_count": 4,
     "metadata": {},
     "output_type": "execute_result"
    }
   ],
   "source": [
    "df = pd.read_csv('../data/all_dev.tsv', sep='\\t')\n",
    "df.head()"
   ]
  },
  {
   "cell_type": "code",
   "execution_count": 5,
   "id": "14dc1bc8",
   "metadata": {
    "execution": {
     "iopub.execute_input": "2022-07-05T01:49:58.508900Z",
     "iopub.status.busy": "2022-07-05T01:49:58.508498Z",
     "iopub.status.idle": "2022-07-05T01:49:58.513248Z",
     "shell.execute_reply": "2022-07-05T01:49:58.512033Z"
    },
    "lines_to_next_cell": 0,
    "papermill": {
     "duration": 0.011408,
     "end_time": "2022-07-05T01:49:58.516248",
     "exception": false,
     "start_time": "2022-07-05T01:49:58.504840",
     "status": "completed"
    },
    "tags": []
   },
   "outputs": [],
   "source": [
    "# Hello"
   ]
  },
  {
   "cell_type": "code",
   "execution_count": null,
   "id": "7b0119ea",
   "metadata": {
    "lines_to_next_cell": 2,
    "papermill": {
     "duration": 0.003071,
     "end_time": "2022-07-05T01:49:58.521878",
     "exception": false,
     "start_time": "2022-07-05T01:49:58.518807",
     "status": "completed"
    },
    "tags": []
   },
   "outputs": [],
   "source": []
  }
 ],
 "metadata": {
  "jupytext": {
   "cell_metadata_filter": "tags,-all",
   "main_language": "python",
   "notebook_metadata_filter": "-all",
   "text_representation": {
    "extension": ".py",
    "format_name": "light"
   }
  },
  "kernelspec": {
   "display_name": "Python 3",
   "language": "python",
   "name": "python3"
  },
  "language_info": {
   "codemirror_mode": {
    "name": "ipython",
    "version": 3
   },
   "file_extension": ".py",
   "mimetype": "text/x-python",
   "name": "python",
   "nbconvert_exporter": "python",
   "pygments_lexer": "ipython3",
   "version": "3.7.6"
  },
  "papermill": {
   "duration": 2.197073,
   "end_time": "2022-07-05T01:49:58.961862",
   "exception": null,
   "input_path": "/var/folders/8w/20lqjpq147b7xv0vt_c6r4gw0000gn/T/tmpvidwo7r2.ipynb",
   "output_path": "/Users/johnzupan/mystuff/UMADS/Capstone_Data_Medics/data_medics_capstone/data_medics_capstone/pipeline/output/report_topics.ipynb",
   "parameters": {
    "lookback_days": 10,
    "product": {
     "nb": "/Users/johnzupan/mystuff/UMADS/Capstone_Data_Medics/data_medics_capstone/data_medics_capstone/pipeline/output/report_topics.ipynb"
    }
   },
   "start_time": "2022-07-05T01:49:56.764789"
  }
 },
 "nbformat": 4,
 "nbformat_minor": 5
}