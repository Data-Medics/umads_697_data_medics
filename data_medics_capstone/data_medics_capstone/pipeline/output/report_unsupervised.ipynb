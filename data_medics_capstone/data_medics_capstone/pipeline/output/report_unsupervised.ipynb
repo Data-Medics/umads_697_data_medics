{
 "cells": [
  {
   "cell_type": "code",
   "execution_count": 1,
   "id": "7468d428",
   "metadata": {
    "execution": {
     "iopub.execute_input": "2022-07-05T01:49:59.965570Z",
     "iopub.status.busy": "2022-07-05T01:49:59.964799Z",
     "iopub.status.idle": "2022-07-05T01:50:00.459696Z",
     "shell.execute_reply": "2022-07-05T01:50:00.457722Z"
    },
    "papermill": {
     "duration": 0.514181,
     "end_time": "2022-07-05T01:50:00.463388",
     "exception": false,
     "start_time": "2022-07-05T01:49:59.949207",
     "status": "completed"
    },
    "tags": []
   },
   "outputs": [],
   "source": [
    "import pandas as pd\n",
    "import numpy as np"
   ]
  },
  {
   "cell_type": "code",
   "execution_count": 2,
   "id": "6110962e",
   "metadata": {
    "execution": {
     "iopub.execute_input": "2022-07-05T01:50:00.482589Z",
     "iopub.status.busy": "2022-07-05T01:50:00.481843Z",
     "iopub.status.idle": "2022-07-05T01:50:00.487970Z",
     "shell.execute_reply": "2022-07-05T01:50:00.486535Z"
    },
    "papermill": {
     "duration": 0.016433,
     "end_time": "2022-07-05T01:50:00.491303",
     "exception": false,
     "start_time": "2022-07-05T01:50:00.474870",
     "status": "completed"
    },
    "tags": [
     "parameters"
    ]
   },
   "outputs": [],
   "source": [
    "upstream = []\n",
    "lookback_days = None"
   ]
  },
  {
   "cell_type": "code",
   "execution_count": 3,
   "id": "82247876",
   "metadata": {
    "execution": {
     "iopub.execute_input": "2022-07-05T01:50:00.497558Z",
     "iopub.status.busy": "2022-07-05T01:50:00.497169Z",
     "iopub.status.idle": "2022-07-05T01:50:00.502149Z",
     "shell.execute_reply": "2022-07-05T01:50:00.500893Z"
    },
    "papermill": {
     "duration": 0.01185,
     "end_time": "2022-07-05T01:50:00.505397",
     "exception": false,
     "start_time": "2022-07-05T01:50:00.493547",
     "status": "completed"
    },
    "tags": [
     "injected-parameters"
    ]
   },
   "outputs": [],
   "source": [
    "# Parameters\n",
    "lookback_days = 10\n",
    "product = {\n",
    "    \"nb\": \"/Users/johnzupan/mystuff/UMADS/Capstone_Data_Medics/data_medics_capstone/data_medics_capstone/pipeline/output/report_unsupervised.ipynb\"\n",
    "}\n"
   ]
  },
  {
   "cell_type": "code",
   "execution_count": 4,
   "id": "7d962994",
   "metadata": {
    "execution": {
     "iopub.execute_input": "2022-07-05T01:50:00.512828Z",
     "iopub.status.busy": "2022-07-05T01:50:00.512460Z",
     "iopub.status.idle": "2022-07-05T01:50:00.542711Z",
     "shell.execute_reply": "2022-07-05T01:50:00.541245Z"
    },
    "papermill": {
     "duration": 0.037533,
     "end_time": "2022-07-05T01:50:00.545560",
     "exception": false,
     "start_time": "2022-07-05T01:50:00.508027",
     "status": "completed"
    },
    "tags": []
   },
   "outputs": [
    {
     "data": {
      "text/html": [
       "<div>\n",
       "<style scoped>\n",
       "    .dataframe tbody tr th:only-of-type {\n",
       "        vertical-align: middle;\n",
       "    }\n",
       "\n",
       "    .dataframe tbody tr th {\n",
       "        vertical-align: top;\n",
       "    }\n",
       "\n",
       "    .dataframe thead th {\n",
       "        text-align: right;\n",
       "    }\n",
       "</style>\n",
       "<table border=\"1\" class=\"dataframe\">\n",
       "  <thead>\n",
       "    <tr style=\"text-align: right;\">\n",
       "      <th></th>\n",
       "      <th>tweet_id</th>\n",
       "      <th>class_label</th>\n",
       "    </tr>\n",
       "  </thead>\n",
       "  <tbody>\n",
       "    <tr>\n",
       "      <th>0</th>\n",
       "      <td>722050420026273793</td>\n",
       "      <td>sympathy_and_support</td>\n",
       "    </tr>\n",
       "    <tr>\n",
       "      <th>1</th>\n",
       "      <td>721767225456074752</td>\n",
       "      <td>injured_or_dead_people</td>\n",
       "    </tr>\n",
       "    <tr>\n",
       "      <th>2</th>\n",
       "      <td>721735353703510016</td>\n",
       "      <td>requests_or_urgent_needs</td>\n",
       "    </tr>\n",
       "    <tr>\n",
       "      <th>3</th>\n",
       "      <td>721637133690269696</td>\n",
       "      <td>injured_or_dead_people</td>\n",
       "    </tr>\n",
       "    <tr>\n",
       "      <th>4</th>\n",
       "      <td>721818472930533380</td>\n",
       "      <td>sympathy_and_support</td>\n",
       "    </tr>\n",
       "  </tbody>\n",
       "</table>\n",
       "</div>"
      ],
      "text/plain": [
       "             tweet_id               class_label\n",
       "0  722050420026273793      sympathy_and_support\n",
       "1  721767225456074752    injured_or_dead_people\n",
       "2  721735353703510016  requests_or_urgent_needs\n",
       "3  721637133690269696    injured_or_dead_people\n",
       "4  721818472930533380      sympathy_and_support"
      ]
     },
     "execution_count": 4,
     "metadata": {},
     "output_type": "execute_result"
    }
   ],
   "source": [
    "df = pd.read_csv('../data/all_dev.tsv', sep='\\t')\n",
    "df.head()"
   ]
  },
  {
   "cell_type": "code",
   "execution_count": 5,
   "id": "d4c89c60",
   "metadata": {
    "execution": {
     "iopub.execute_input": "2022-07-05T01:50:00.552199Z",
     "iopub.status.busy": "2022-07-05T01:50:00.551848Z",
     "iopub.status.idle": "2022-07-05T01:50:00.556554Z",
     "shell.execute_reply": "2022-07-05T01:50:00.555320Z"
    },
    "lines_to_next_cell": 0,
    "papermill": {
     "duration": 0.011498,
     "end_time": "2022-07-05T01:50:00.559664",
     "exception": false,
     "start_time": "2022-07-05T01:50:00.548166",
     "status": "completed"
    },
    "tags": []
   },
   "outputs": [],
   "source": [
    "# Hello"
   ]
  },
  {
   "cell_type": "code",
   "execution_count": null,
   "id": "a381d830",
   "metadata": {
    "lines_to_next_cell": 2,
    "papermill": {
     "duration": 0.002818,
     "end_time": "2022-07-05T01:50:00.565387",
     "exception": false,
     "start_time": "2022-07-05T01:50:00.562569",
     "status": "completed"
    },
    "tags": []
   },
   "outputs": [],
   "source": []
  }
 ],
 "metadata": {
  "jupytext": {
   "cell_metadata_filter": "tags,-all",
   "main_language": "python",
   "notebook_metadata_filter": "-all",
   "text_representation": {
    "extension": ".py",
    "format_name": "light"
   }
  },
  "kernelspec": {
   "display_name": "Python 3",
   "language": "python",
   "name": "python3"
  },
  "language_info": {
   "codemirror_mode": {
    "name": "ipython",
    "version": 3
   },
   "file_extension": ".py",
   "mimetype": "text/x-python",
   "name": "python",
   "nbconvert_exporter": "python",
   "pygments_lexer": "ipython3",
   "version": "3.7.6"
  },
  "papermill": {
   "duration": 2.014057,
   "end_time": "2022-07-05T01:50:01.004068",
   "exception": null,
   "input_path": "/var/folders/8w/20lqjpq147b7xv0vt_c6r4gw0000gn/T/tmp_t51ldug.ipynb",
   "output_path": "/Users/johnzupan/mystuff/UMADS/Capstone_Data_Medics/data_medics_capstone/data_medics_capstone/pipeline/output/report_unsupervised.ipynb",
   "parameters": {
    "lookback_days": 10,
    "product": {
     "nb": "/Users/johnzupan/mystuff/UMADS/Capstone_Data_Medics/data_medics_capstone/data_medics_capstone/pipeline/output/report_unsupervised.ipynb"
    }
   },
   "start_time": "2022-07-05T01:49:58.990011"
  }
 },
 "nbformat": 4,
 "nbformat_minor": 5
}